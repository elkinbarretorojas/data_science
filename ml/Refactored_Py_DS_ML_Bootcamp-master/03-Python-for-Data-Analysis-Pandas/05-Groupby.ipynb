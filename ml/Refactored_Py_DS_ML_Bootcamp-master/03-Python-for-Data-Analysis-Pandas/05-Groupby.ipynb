{
 "cells": [
  {
   "cell_type": "markdown",
   "metadata": {},
   "source": [
    "___\n",
    "\n",
    "<a href='http://www.pieriandata.com'> <img src='../Pierian_Data_Logo.png' /></a>\n",
    "___"
   ]
  },
  {
   "cell_type": "markdown",
   "metadata": {
    "collapsed": true
   },
   "source": [
    "# Groupby\n",
    "\n",
    "The groupby method allows you to group rows of data together and call aggregate functions"
   ]
  },
  {
   "cell_type": "code",
   "execution_count": 24,
   "metadata": {
    "collapsed": true,
    "ExecuteTime": {
     "end_time": "2023-11-24T08:19:28.947670100Z",
     "start_time": "2023-11-24T08:19:28.918959800Z"
    }
   },
   "outputs": [],
   "source": [
    "import pandas as pd\n",
    "import numpy as np\n",
    "# Create dataframe\n",
    "data = {'Company':['GOOG','GOOG','MSFT','MSFT','FB','FB'],\n",
    "       'Person':['Sam','Charlie','Amy','Vanessa','Carl','Sarah'],\n",
    "       'Sales':[200,120,340,124,243,350]}"
   ]
  },
  {
   "cell_type": "code",
   "execution_count": 25,
   "metadata": {
    "collapsed": false,
    "ExecuteTime": {
     "end_time": "2023-11-24T08:19:29.864642200Z",
     "start_time": "2023-11-24T08:19:29.826692800Z"
    }
   },
   "outputs": [],
   "source": [
    "df = pd.DataFrame(data)"
   ]
  },
  {
   "cell_type": "code",
   "execution_count": 26,
   "metadata": {
    "collapsed": false,
    "ExecuteTime": {
     "end_time": "2023-11-24T08:19:30.560823800Z",
     "start_time": "2023-11-24T08:19:30.487917400Z"
    }
   },
   "outputs": [
    {
     "data": {
      "text/plain": "  Company   Person  Sales\n0    GOOG      Sam    200\n1    GOOG  Charlie    120\n2    MSFT      Amy    340\n3    MSFT  Vanessa    124\n4      FB     Carl    243\n5      FB    Sarah    350",
      "text/html": "<div>\n<style scoped>\n    .dataframe tbody tr th:only-of-type {\n        vertical-align: middle;\n    }\n\n    .dataframe tbody tr th {\n        vertical-align: top;\n    }\n\n    .dataframe thead th {\n        text-align: right;\n    }\n</style>\n<table border=\"1\" class=\"dataframe\">\n  <thead>\n    <tr style=\"text-align: right;\">\n      <th></th>\n      <th>Company</th>\n      <th>Person</th>\n      <th>Sales</th>\n    </tr>\n  </thead>\n  <tbody>\n    <tr>\n      <th>0</th>\n      <td>GOOG</td>\n      <td>Sam</td>\n      <td>200</td>\n    </tr>\n    <tr>\n      <th>1</th>\n      <td>GOOG</td>\n      <td>Charlie</td>\n      <td>120</td>\n    </tr>\n    <tr>\n      <th>2</th>\n      <td>MSFT</td>\n      <td>Amy</td>\n      <td>340</td>\n    </tr>\n    <tr>\n      <th>3</th>\n      <td>MSFT</td>\n      <td>Vanessa</td>\n      <td>124</td>\n    </tr>\n    <tr>\n      <th>4</th>\n      <td>FB</td>\n      <td>Carl</td>\n      <td>243</td>\n    </tr>\n    <tr>\n      <th>5</th>\n      <td>FB</td>\n      <td>Sarah</td>\n      <td>350</td>\n    </tr>\n  </tbody>\n</table>\n</div>"
     },
     "execution_count": 26,
     "metadata": {},
     "output_type": "execute_result"
    }
   ],
   "source": [
    "df"
   ]
  },
  {
   "cell_type": "markdown",
   "metadata": {},
   "source": [
    "** Now you can use the .groupby() method to group rows together based off of a column name. For instance let's group based off of Company. This will create a DataFrameGroupBy object:**"
   ]
  },
  {
   "cell_type": "code",
   "execution_count": 27,
   "metadata": {
    "collapsed": false,
    "ExecuteTime": {
     "end_time": "2023-11-24T08:19:32.204718700Z",
     "start_time": "2023-11-24T08:19:32.098236600Z"
    }
   },
   "outputs": [
    {
     "data": {
      "text/plain": "<pandas.core.groupby.generic.DataFrameGroupBy object at 0x000001D26663E450>"
     },
     "execution_count": 27,
     "metadata": {},
     "output_type": "execute_result"
    }
   ],
   "source": [
    "df.groupby('Company')"
   ]
  },
  {
   "cell_type": "markdown",
   "metadata": {},
   "source": [
    "You can save this object as a new variable:"
   ]
  },
  {
   "cell_type": "code",
   "execution_count": 37,
   "metadata": {
    "collapsed": true,
    "ExecuteTime": {
     "end_time": "2023-11-24T08:21:42.642187300Z",
     "start_time": "2023-11-24T08:21:42.611432500Z"
    }
   },
   "outputs": [],
   "source": [
    "byComp = df.groupby('Company')"
   ]
  },
  {
   "cell_type": "markdown",
   "metadata": {},
   "source": [
    "And then call aggregate methods off the object:"
   ]
  },
  {
   "cell_type": "code",
   "execution_count": 38,
   "metadata": {
    "collapsed": false,
    "ExecuteTime": {
     "end_time": "2023-11-24T08:21:50.945704200Z",
     "start_time": "2023-11-24T08:21:50.919655400Z"
    }
   },
   "outputs": [
    {
     "data": {
      "text/plain": "<pandas.core.groupby.generic.DataFrameGroupBy object at 0x000001D266A10A10>"
     },
     "execution_count": 38,
     "metadata": {},
     "output_type": "execute_result"
    }
   ],
   "source": [
    "df.groupby('Company')"
   ]
  },
  {
   "cell_type": "code",
   "execution_count": 40,
   "metadata": {
    "collapsed": false,
    "ExecuteTime": {
     "end_time": "2023-11-24T08:22:16.903547900Z",
     "start_time": "2023-11-24T08:22:16.842233Z"
    }
   },
   "outputs": [
    {
     "data": {
      "text/plain": "Company\nFB      296.5\nGOOG    160.0\nMSFT    232.0\nName: Sales, dtype: float64"
     },
     "execution_count": 40,
     "metadata": {},
     "output_type": "execute_result"
    }
   ],
   "source": [
    "byComp['Sales'].mean()"
   ]
  },
  {
   "cell_type": "markdown",
   "metadata": {},
   "source": [
    "More examples of aggregate methods:"
   ]
  },
  {
   "cell_type": "code",
   "execution_count": 41,
   "metadata": {
    "collapsed": false,
    "ExecuteTime": {
     "end_time": "2023-11-24T08:22:32.421733Z",
     "start_time": "2023-11-24T08:22:32.346817800Z"
    }
   },
   "outputs": [
    {
     "data": {
      "text/plain": "Company\nFB       75.660426\nGOOG     56.568542\nMSFT    152.735065\nName: Sales, dtype: float64"
     },
     "execution_count": 41,
     "metadata": {},
     "output_type": "execute_result"
    }
   ],
   "source": [
    "byComp['Sales'].std()"
   ]
  },
  {
   "cell_type": "code",
   "execution_count": 42,
   "metadata": {
    "collapsed": false,
    "ExecuteTime": {
     "end_time": "2023-11-24T08:22:49.451473600Z",
     "start_time": "2023-11-24T08:22:49.398295600Z"
    }
   },
   "outputs": [
    {
     "data": {
      "text/plain": "Company\nFB      243\nGOOG    120\nMSFT    124\nName: Sales, dtype: int64"
     },
     "execution_count": 42,
     "metadata": {},
     "output_type": "execute_result"
    }
   ],
   "source": [
    "byComp['Sales'].min()"
   ]
  },
  {
   "cell_type": "code",
   "execution_count": 43,
   "metadata": {
    "collapsed": false,
    "ExecuteTime": {
     "end_time": "2023-11-24T08:22:50.221974900Z",
     "start_time": "2023-11-24T08:22:49.943202900Z"
    }
   },
   "outputs": [
    {
     "data": {
      "text/plain": "Company\nFB      350\nGOOG    200\nMSFT    340\nName: Sales, dtype: int64"
     },
     "execution_count": 43,
     "metadata": {},
     "output_type": "execute_result"
    }
   ],
   "source": [
    "byComp['Sales'].max()"
   ]
  },
  {
   "cell_type": "code",
   "execution_count": 44,
   "metadata": {
    "collapsed": false,
    "ExecuteTime": {
     "end_time": "2023-11-24T08:22:52.972890300Z",
     "start_time": "2023-11-24T08:22:52.875631200Z"
    }
   },
   "outputs": [
    {
     "data": {
      "text/plain": "Company\nFB      2\nGOOG    2\nMSFT    2\nName: Sales, dtype: int64"
     },
     "execution_count": 44,
     "metadata": {},
     "output_type": "execute_result"
    }
   ],
   "source": [
    "byComp['Sales'].count()"
   ]
  },
  {
   "cell_type": "code",
   "execution_count": 45,
   "metadata": {
    "collapsed": false,
    "ExecuteTime": {
     "end_time": "2023-11-24T08:22:57.994547800Z",
     "start_time": "2023-11-24T08:22:57.888215400Z"
    }
   },
   "outputs": [
    {
     "data": {
      "text/plain": "         count   mean         std    min     25%    50%     75%    max\nCompany                                                               \nFB         2.0  296.5   75.660426  243.0  269.75  296.5  323.25  350.0\nGOOG       2.0  160.0   56.568542  120.0  140.00  160.0  180.00  200.0\nMSFT       2.0  232.0  152.735065  124.0  178.00  232.0  286.00  340.0",
      "text/html": "<div>\n<style scoped>\n    .dataframe tbody tr th:only-of-type {\n        vertical-align: middle;\n    }\n\n    .dataframe tbody tr th {\n        vertical-align: top;\n    }\n\n    .dataframe thead th {\n        text-align: right;\n    }\n</style>\n<table border=\"1\" class=\"dataframe\">\n  <thead>\n    <tr style=\"text-align: right;\">\n      <th></th>\n      <th>count</th>\n      <th>mean</th>\n      <th>std</th>\n      <th>min</th>\n      <th>25%</th>\n      <th>50%</th>\n      <th>75%</th>\n      <th>max</th>\n    </tr>\n    <tr>\n      <th>Company</th>\n      <th></th>\n      <th></th>\n      <th></th>\n      <th></th>\n      <th></th>\n      <th></th>\n      <th></th>\n      <th></th>\n    </tr>\n  </thead>\n  <tbody>\n    <tr>\n      <th>FB</th>\n      <td>2.0</td>\n      <td>296.5</td>\n      <td>75.660426</td>\n      <td>243.0</td>\n      <td>269.75</td>\n      <td>296.5</td>\n      <td>323.25</td>\n      <td>350.0</td>\n    </tr>\n    <tr>\n      <th>GOOG</th>\n      <td>2.0</td>\n      <td>160.0</td>\n      <td>56.568542</td>\n      <td>120.0</td>\n      <td>140.00</td>\n      <td>160.0</td>\n      <td>180.00</td>\n      <td>200.0</td>\n    </tr>\n    <tr>\n      <th>MSFT</th>\n      <td>2.0</td>\n      <td>232.0</td>\n      <td>152.735065</td>\n      <td>124.0</td>\n      <td>178.00</td>\n      <td>232.0</td>\n      <td>286.00</td>\n      <td>340.0</td>\n    </tr>\n  </tbody>\n</table>\n</div>"
     },
     "execution_count": 45,
     "metadata": {},
     "output_type": "execute_result"
    }
   ],
   "source": [
    "byComp['Sales'].describe()"
   ]
  },
  {
   "cell_type": "code",
   "execution_count": 46,
   "metadata": {
    "collapsed": false,
    "ExecuteTime": {
     "end_time": "2023-11-24T08:23:02.822280500Z",
     "start_time": "2023-11-24T08:23:02.726235900Z"
    }
   },
   "outputs": [
    {
     "data": {
      "text/plain": "Company          FB        GOOG        MSFT\ncount      2.000000    2.000000    2.000000\nmean     296.500000  160.000000  232.000000\nstd       75.660426   56.568542  152.735065\nmin      243.000000  120.000000  124.000000\n25%      269.750000  140.000000  178.000000\n50%      296.500000  160.000000  232.000000\n75%      323.250000  180.000000  286.000000\nmax      350.000000  200.000000  340.000000",
      "text/html": "<div>\n<style scoped>\n    .dataframe tbody tr th:only-of-type {\n        vertical-align: middle;\n    }\n\n    .dataframe tbody tr th {\n        vertical-align: top;\n    }\n\n    .dataframe thead th {\n        text-align: right;\n    }\n</style>\n<table border=\"1\" class=\"dataframe\">\n  <thead>\n    <tr style=\"text-align: right;\">\n      <th>Company</th>\n      <th>FB</th>\n      <th>GOOG</th>\n      <th>MSFT</th>\n    </tr>\n  </thead>\n  <tbody>\n    <tr>\n      <th>count</th>\n      <td>2.000000</td>\n      <td>2.000000</td>\n      <td>2.000000</td>\n    </tr>\n    <tr>\n      <th>mean</th>\n      <td>296.500000</td>\n      <td>160.000000</td>\n      <td>232.000000</td>\n    </tr>\n    <tr>\n      <th>std</th>\n      <td>75.660426</td>\n      <td>56.568542</td>\n      <td>152.735065</td>\n    </tr>\n    <tr>\n      <th>min</th>\n      <td>243.000000</td>\n      <td>120.000000</td>\n      <td>124.000000</td>\n    </tr>\n    <tr>\n      <th>25%</th>\n      <td>269.750000</td>\n      <td>140.000000</td>\n      <td>178.000000</td>\n    </tr>\n    <tr>\n      <th>50%</th>\n      <td>296.500000</td>\n      <td>160.000000</td>\n      <td>232.000000</td>\n    </tr>\n    <tr>\n      <th>75%</th>\n      <td>323.250000</td>\n      <td>180.000000</td>\n      <td>286.000000</td>\n    </tr>\n    <tr>\n      <th>max</th>\n      <td>350.000000</td>\n      <td>200.000000</td>\n      <td>340.000000</td>\n    </tr>\n  </tbody>\n</table>\n</div>"
     },
     "execution_count": 46,
     "metadata": {},
     "output_type": "execute_result"
    }
   ],
   "source": [
    "byComp['Sales'].describe().transpose()"
   ]
  },
  {
   "cell_type": "code",
   "execution_count": 47,
   "metadata": {
    "collapsed": false,
    "ExecuteTime": {
     "end_time": "2023-11-24T08:23:24.925473900Z",
     "start_time": "2023-11-24T08:23:24.769539700Z"
    }
   },
   "outputs": [
    {
     "data": {
      "text/plain": "count      2.000000\nmean     160.000000\nstd       56.568542\nmin      120.000000\n25%      140.000000\n50%      160.000000\n75%      180.000000\nmax      200.000000\nName: GOOG, dtype: float64"
     },
     "execution_count": 47,
     "metadata": {},
     "output_type": "execute_result"
    }
   ],
   "source": [
    "group.describe().transpose()['GOOG']"
   ]
  },
  {
   "cell_type": "code",
   "execution_count": 50,
   "outputs": [
    {
     "data": {
      "text/plain": "  Company   Person  Sales\n0    GOOG      Sam    200\n1    GOOG  Charlie    120\n2    MSFT      Amy    340\n3    MSFT  Vanessa    124\n4      FB     Carl    243\n5      FB    Sarah    350",
      "text/html": "<div>\n<style scoped>\n    .dataframe tbody tr th:only-of-type {\n        vertical-align: middle;\n    }\n\n    .dataframe tbody tr th {\n        vertical-align: top;\n    }\n\n    .dataframe thead th {\n        text-align: right;\n    }\n</style>\n<table border=\"1\" class=\"dataframe\">\n  <thead>\n    <tr style=\"text-align: right;\">\n      <th></th>\n      <th>Company</th>\n      <th>Person</th>\n      <th>Sales</th>\n    </tr>\n  </thead>\n  <tbody>\n    <tr>\n      <th>0</th>\n      <td>GOOG</td>\n      <td>Sam</td>\n      <td>200</td>\n    </tr>\n    <tr>\n      <th>1</th>\n      <td>GOOG</td>\n      <td>Charlie</td>\n      <td>120</td>\n    </tr>\n    <tr>\n      <th>2</th>\n      <td>MSFT</td>\n      <td>Amy</td>\n      <td>340</td>\n    </tr>\n    <tr>\n      <th>3</th>\n      <td>MSFT</td>\n      <td>Vanessa</td>\n      <td>124</td>\n    </tr>\n    <tr>\n      <th>4</th>\n      <td>FB</td>\n      <td>Carl</td>\n      <td>243</td>\n    </tr>\n    <tr>\n      <th>5</th>\n      <td>FB</td>\n      <td>Sarah</td>\n      <td>350</td>\n    </tr>\n  </tbody>\n</table>\n</div>"
     },
     "execution_count": 50,
     "metadata": {},
     "output_type": "execute_result"
    }
   ],
   "source": [
    "df"
   ],
   "metadata": {
    "collapsed": false,
    "ExecuteTime": {
     "end_time": "2023-11-24T08:24:35.938972700Z",
     "start_time": "2023-11-24T08:24:35.871594Z"
    }
   }
  },
  {
   "cell_type": "code",
   "execution_count": 52,
   "outputs": [
    {
     "data": {
      "text/plain": "Person    CarlSarah\nSales           593\nName: FB, dtype: object"
     },
     "execution_count": 52,
     "metadata": {},
     "output_type": "execute_result"
    }
   ],
   "source": [
    "df.groupby('Company').sum().loc['FB']"
   ],
   "metadata": {
    "collapsed": false,
    "ExecuteTime": {
     "end_time": "2023-11-24T08:26:12.595276800Z",
     "start_time": "2023-11-24T08:26:12.537180100Z"
    }
   }
  },
  {
   "cell_type": "markdown",
   "source": [
    "# Great Job!"
   ],
   "metadata": {
    "collapsed": false
   }
  }
 ],
 "metadata": {
  "kernelspec": {
   "display_name": "Python 3",
   "language": "python",
   "name": "python3"
  },
  "language_info": {
   "codemirror_mode": {
    "name": "ipython",
    "version": 3
   },
   "file_extension": ".py",
   "mimetype": "text/x-python",
   "name": "python",
   "nbconvert_exporter": "python",
   "pygments_lexer": "ipython3",
   "version": "3.5.1"
  }
 },
 "nbformat": 4,
 "nbformat_minor": 0
}
