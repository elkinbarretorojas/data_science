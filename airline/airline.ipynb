{
 "cells": [
  {
   "cell_type": "markdown",
   "source": [
    "# Airline Dataset"
   ],
   "metadata": {
    "collapsed": false
   }
  },
  {
   "cell_type": "markdown",
   "source": [
    "# 1. Import Libraries"
   ],
   "metadata": {
    "collapsed": false
   }
  },
  {
   "cell_type": "code",
   "execution_count": 1515,
   "outputs": [],
   "source": [
    "import pandas as pd\n",
    "import numpy as np\n",
    "import seaborn as sns                       #visualisation\n",
    "import matplotlib.pyplot as plt             #visualisation\n",
    "import warnings\n",
    "from scipy.stats import shapiro\n",
    "from scipy.stats import kstest\n",
    "from scipy.stats import chisquare\n",
    "from sklearn.linear_model import LinearRegression\n",
    "from sklearn.preprocessing import LabelEncoder\n",
    "warnings.filterwarnings('ignore')"
   ],
   "metadata": {
    "collapsed": false,
    "ExecuteTime": {
     "end_time": "2023-12-03T20:56:05.106560900Z",
     "start_time": "2023-12-03T20:56:04.791311800Z"
    }
   }
  },
  {
   "cell_type": "markdown",
   "source": [
    "# 2. Loading the data"
   ],
   "metadata": {
    "collapsed": false
   }
  },
  {
   "cell_type": "code",
   "execution_count": 1516,
   "outputs": [],
   "source": [
    "#Read File from CSV file and saving it in airline_data DataFrame\n",
    "df = pd.read_csv(\"airline_data.csv\")\n",
    "airline_data = df"
   ],
   "metadata": {
    "collapsed": false,
    "ExecuteTime": {
     "end_time": "2023-12-03T20:56:06.862545800Z",
     "start_time": "2023-12-03T20:56:04.806928400Z"
    }
   }
  },
  {
   "cell_type": "code",
   "execution_count": 1517,
   "outputs": [
    {
     "data": {
      "text/plain": "  Passanger_Name          Flying_month                  Route  Rating  \\\n0     Paige Boet                Jun-23  New Orleans to London     1.0   \n1        S Layne                Mar-23        London to Amman     1.0   \n2    E Lanewoski    Heathrow to Bodrum         Business Class     2.0   \n3    Joel Burman                Jun-23        Amman to London     4.0   \n4        R Vines  London City to Ibiza         Business Class     7.0   \n\n        Verified                            Review_title  \\\n0  Trip Verified             The airline lost my luggage   \n1  Trip Verified  fully refunded by our travel insurance   \n2  Trip Verified             no boarding drinks provided   \n3   Not Verified                       WiFi didn't work    \n4  Trip Verified                      stick with economy   \n\n                                      Review_content  Traveller_type  \\\n0  The airline lost my luggage and was absolutely...    Solo Leisure   \n1  We booked on the BA website, round trip flight...  Couple Leisure   \n2  First time flying with BA business class, neve...        A321 neo   \n3  You can buy sandwiches and crisps but don't ex...    Solo Leisure   \n4  This is a two-for-one review covering economy ...     Embraer 190   \n\n            Class  \n0   Economy Class  \n1  Business Class  \n2    Solo Leisure  \n3   Economy Class  \n4  Family Leisure  ",
      "text/html": "<div>\n<style scoped>\n    .dataframe tbody tr th:only-of-type {\n        vertical-align: middle;\n    }\n\n    .dataframe tbody tr th {\n        vertical-align: top;\n    }\n\n    .dataframe thead th {\n        text-align: right;\n    }\n</style>\n<table border=\"1\" class=\"dataframe\">\n  <thead>\n    <tr style=\"text-align: right;\">\n      <th></th>\n      <th>Passanger_Name</th>\n      <th>Flying_month</th>\n      <th>Route</th>\n      <th>Rating</th>\n      <th>Verified</th>\n      <th>Review_title</th>\n      <th>Review_content</th>\n      <th>Traveller_type</th>\n      <th>Class</th>\n    </tr>\n  </thead>\n  <tbody>\n    <tr>\n      <th>0</th>\n      <td>Paige Boet</td>\n      <td>Jun-23</td>\n      <td>New Orleans to London</td>\n      <td>1.0</td>\n      <td>Trip Verified</td>\n      <td>The airline lost my luggage</td>\n      <td>The airline lost my luggage and was absolutely...</td>\n      <td>Solo Leisure</td>\n      <td>Economy Class</td>\n    </tr>\n    <tr>\n      <th>1</th>\n      <td>S Layne</td>\n      <td>Mar-23</td>\n      <td>London to Amman</td>\n      <td>1.0</td>\n      <td>Trip Verified</td>\n      <td>fully refunded by our travel insurance</td>\n      <td>We booked on the BA website, round trip flight...</td>\n      <td>Couple Leisure</td>\n      <td>Business Class</td>\n    </tr>\n    <tr>\n      <th>2</th>\n      <td>E Lanewoski</td>\n      <td>Heathrow to Bodrum</td>\n      <td>Business Class</td>\n      <td>2.0</td>\n      <td>Trip Verified</td>\n      <td>no boarding drinks provided</td>\n      <td>First time flying with BA business class, neve...</td>\n      <td>A321 neo</td>\n      <td>Solo Leisure</td>\n    </tr>\n    <tr>\n      <th>3</th>\n      <td>Joel Burman</td>\n      <td>Jun-23</td>\n      <td>Amman to London</td>\n      <td>4.0</td>\n      <td>Not Verified</td>\n      <td>WiFi didn't work</td>\n      <td>You can buy sandwiches and crisps but don't ex...</td>\n      <td>Solo Leisure</td>\n      <td>Economy Class</td>\n    </tr>\n    <tr>\n      <th>4</th>\n      <td>R Vines</td>\n      <td>London City to Ibiza</td>\n      <td>Business Class</td>\n      <td>7.0</td>\n      <td>Trip Verified</td>\n      <td>stick with economy</td>\n      <td>This is a two-for-one review covering economy ...</td>\n      <td>Embraer 190</td>\n      <td>Family Leisure</td>\n    </tr>\n  </tbody>\n</table>\n</div>"
     },
     "execution_count": 1517,
     "metadata": {},
     "output_type": "execute_result"
    }
   ],
   "source": [
    "# To display the top 5 rows\n",
    "airline_data.head()"
   ],
   "metadata": {
    "collapsed": false,
    "ExecuteTime": {
     "end_time": "2023-12-03T20:56:07.190737900Z",
     "start_time": "2023-12-03T20:56:04.871830Z"
    }
   }
  },
  {
   "cell_type": "code",
   "execution_count": 1518,
   "outputs": [
    {
     "name": "stdout",
     "output_type": "stream",
     "text": [
      "<class 'pandas.core.frame.DataFrame'>\n",
      "RangeIndex: 3580 entries, 0 to 3579\n",
      "Data columns (total 9 columns):\n",
      " #   Column          Non-Null Count  Dtype  \n",
      "---  ------          --------------  -----  \n",
      " 0   Passanger_Name  3580 non-null   object \n",
      " 1   Flying_month    2815 non-null   object \n",
      " 2   Route           2816 non-null   object \n",
      " 3   Rating          3575 non-null   float64\n",
      " 4   Verified        1270 non-null   object \n",
      " 5   Review_title    3580 non-null   object \n",
      " 6   Review_content  3580 non-null   object \n",
      " 7   Traveller_type  3580 non-null   object \n",
      " 8   Class           3579 non-null   object \n",
      "dtypes: float64(1), object(8)\n",
      "memory usage: 251.8+ KB\n"
     ]
    }
   ],
   "source": [
    "#InfoDescribe to see an overview of the Dataframe\n",
    "airline_data.info()"
   ],
   "metadata": {
    "collapsed": false,
    "ExecuteTime": {
     "end_time": "2023-12-03T20:56:07.190737900Z",
     "start_time": "2023-12-03T20:56:04.885465100Z"
    }
   }
  },
  {
   "cell_type": "code",
   "execution_count": 1519,
   "outputs": [
    {
     "data": {
      "text/plain": "         count     mean       std  min  25%  50%  75%   max\nRating  3575.0  4.79049  3.170323  1.0  2.0  4.0  8.0  10.0",
      "text/html": "<div>\n<style scoped>\n    .dataframe tbody tr th:only-of-type {\n        vertical-align: middle;\n    }\n\n    .dataframe tbody tr th {\n        vertical-align: top;\n    }\n\n    .dataframe thead th {\n        text-align: right;\n    }\n</style>\n<table border=\"1\" class=\"dataframe\">\n  <thead>\n    <tr style=\"text-align: right;\">\n      <th></th>\n      <th>count</th>\n      <th>mean</th>\n      <th>std</th>\n      <th>min</th>\n      <th>25%</th>\n      <th>50%</th>\n      <th>75%</th>\n      <th>max</th>\n    </tr>\n  </thead>\n  <tbody>\n    <tr>\n      <th>Rating</th>\n      <td>3575.0</td>\n      <td>4.79049</td>\n      <td>3.170323</td>\n      <td>1.0</td>\n      <td>2.0</td>\n      <td>4.0</td>\n      <td>8.0</td>\n      <td>10.0</td>\n    </tr>\n  </tbody>\n</table>\n</div>"
     },
     "execution_count": 1519,
     "metadata": {},
     "output_type": "execute_result"
    }
   ],
   "source": [
    "#Descriptive Analytics of the numerical Variable \"Rating\"\n",
    "airline_data.describe().T"
   ],
   "metadata": {
    "collapsed": false,
    "ExecuteTime": {
     "end_time": "2023-12-03T20:56:07.241872300Z",
     "start_time": "2023-12-03T20:56:04.905118Z"
    }
   }
  },
  {
   "cell_type": "markdown",
   "source": [
    "# 3. Data Pre-processing"
   ],
   "metadata": {
    "collapsed": false
   }
  },
  {
   "cell_type": "code",
   "execution_count": 1520,
   "outputs": [
    {
     "data": {
      "text/plain": "Passanger_Name     0.000000\nFlying_month      21.368715\nRoute             21.340782\nRating             0.139665\nVerified          64.525140\nReview_title       0.000000\nReview_content     0.000000\nTraveller_type     0.000000\nClass              0.027933\ndtype: float64"
     },
     "execution_count": 1520,
     "metadata": {},
     "output_type": "execute_result"
    }
   ],
   "source": [
    "#Checkign the percentage of Null values betweeen the total of values per column\n",
    "percentage_null = (airline_data.isnull().sum() / len(airline_data))*100\n",
    "percentage_null"
   ],
   "metadata": {
    "collapsed": false,
    "ExecuteTime": {
     "end_time": "2023-12-03T20:56:07.282529Z",
     "start_time": "2023-12-03T20:56:04.925670800Z"
    }
   }
  },
  {
   "cell_type": "code",
   "execution_count": 1521,
   "outputs": [],
   "source": [
    "#Drop \"Verified\" parameter as it has more than 60% of null values and the data can not be gather from other parameters \n",
    "airline_data.drop('Verified',axis=1, inplace = True)"
   ],
   "metadata": {
    "collapsed": false,
    "ExecuteTime": {
     "end_time": "2023-12-03T20:56:07.282529Z",
     "start_time": "2023-12-03T20:56:04.937024500Z"
    }
   }
  },
  {
   "cell_type": "markdown",
   "source": [
    "## 3.1 Cleaning: 'Class'"
   ],
   "metadata": {
    "collapsed": false
   }
  },
  {
   "cell_type": "code",
   "execution_count": 1522,
   "outputs": [
    {
     "data": {
      "text/plain": "                                         Passanger_Name  Flying_month  Route  \\\nClass                                                                          \nBusiness                                            430           430    430   \nBusiness Class                                      183           183    183   \nCouple Leisure                                      641           641    641   \nEconomy Class                                       676           675    676   \nFamily Leisure                                      234           234    234   \nFirst Class                                          11            11     11   \nLHR to ORD                                            1             1      1   \nLondon to Malaga                                      1             1      1   \nLos Angeles to London to Paris to Rome                1             1      1   \nPremium Economy                                      85            85     85   \nSolo Leisure                                        553           553    553   \nno                                                  322             0      0   \nyes                                                 441             0      0   \n\n                                         Rating  Review_title  Review_content  \\\nClass                                                                           \nBusiness                                    430           430             430   \nBusiness Class                              183           183             183   \nCouple Leisure                              641           641             641   \nEconomy Class                               676           676             676   \nFamily Leisure                              234           234             234   \nFirst Class                                  11            11              11   \nLHR to ORD                                    1             1               1   \nLondon to Malaga                              1             1               1   \nLos Angeles to London to Paris to Rome        1             1               1   \nPremium Economy                              85            85              85   \nSolo Leisure                                553           553             553   \nno                                          317           322             322   \nyes                                         441           441             441   \n\n                                         Traveller_type  \nClass                                                    \nBusiness                                            430  \nBusiness Class                                      183  \nCouple Leisure                                      641  \nEconomy Class                                       676  \nFamily Leisure                                      234  \nFirst Class                                          11  \nLHR to ORD                                            1  \nLondon to Malaga                                      1  \nLos Angeles to London to Paris to Rome                1  \nPremium Economy                                      85  \nSolo Leisure                                        553  \nno                                                  322  \nyes                                                 441  ",
      "text/html": "<div>\n<style scoped>\n    .dataframe tbody tr th:only-of-type {\n        vertical-align: middle;\n    }\n\n    .dataframe tbody tr th {\n        vertical-align: top;\n    }\n\n    .dataframe thead th {\n        text-align: right;\n    }\n</style>\n<table border=\"1\" class=\"dataframe\">\n  <thead>\n    <tr style=\"text-align: right;\">\n      <th></th>\n      <th>Passanger_Name</th>\n      <th>Flying_month</th>\n      <th>Route</th>\n      <th>Rating</th>\n      <th>Review_title</th>\n      <th>Review_content</th>\n      <th>Traveller_type</th>\n    </tr>\n    <tr>\n      <th>Class</th>\n      <th></th>\n      <th></th>\n      <th></th>\n      <th></th>\n      <th></th>\n      <th></th>\n      <th></th>\n    </tr>\n  </thead>\n  <tbody>\n    <tr>\n      <th>Business</th>\n      <td>430</td>\n      <td>430</td>\n      <td>430</td>\n      <td>430</td>\n      <td>430</td>\n      <td>430</td>\n      <td>430</td>\n    </tr>\n    <tr>\n      <th>Business Class</th>\n      <td>183</td>\n      <td>183</td>\n      <td>183</td>\n      <td>183</td>\n      <td>183</td>\n      <td>183</td>\n      <td>183</td>\n    </tr>\n    <tr>\n      <th>Couple Leisure</th>\n      <td>641</td>\n      <td>641</td>\n      <td>641</td>\n      <td>641</td>\n      <td>641</td>\n      <td>641</td>\n      <td>641</td>\n    </tr>\n    <tr>\n      <th>Economy Class</th>\n      <td>676</td>\n      <td>675</td>\n      <td>676</td>\n      <td>676</td>\n      <td>676</td>\n      <td>676</td>\n      <td>676</td>\n    </tr>\n    <tr>\n      <th>Family Leisure</th>\n      <td>234</td>\n      <td>234</td>\n      <td>234</td>\n      <td>234</td>\n      <td>234</td>\n      <td>234</td>\n      <td>234</td>\n    </tr>\n    <tr>\n      <th>First Class</th>\n      <td>11</td>\n      <td>11</td>\n      <td>11</td>\n      <td>11</td>\n      <td>11</td>\n      <td>11</td>\n      <td>11</td>\n    </tr>\n    <tr>\n      <th>LHR to ORD</th>\n      <td>1</td>\n      <td>1</td>\n      <td>1</td>\n      <td>1</td>\n      <td>1</td>\n      <td>1</td>\n      <td>1</td>\n    </tr>\n    <tr>\n      <th>London to Malaga</th>\n      <td>1</td>\n      <td>1</td>\n      <td>1</td>\n      <td>1</td>\n      <td>1</td>\n      <td>1</td>\n      <td>1</td>\n    </tr>\n    <tr>\n      <th>Los Angeles to London to Paris to Rome</th>\n      <td>1</td>\n      <td>1</td>\n      <td>1</td>\n      <td>1</td>\n      <td>1</td>\n      <td>1</td>\n      <td>1</td>\n    </tr>\n    <tr>\n      <th>Premium Economy</th>\n      <td>85</td>\n      <td>85</td>\n      <td>85</td>\n      <td>85</td>\n      <td>85</td>\n      <td>85</td>\n      <td>85</td>\n    </tr>\n    <tr>\n      <th>Solo Leisure</th>\n      <td>553</td>\n      <td>553</td>\n      <td>553</td>\n      <td>553</td>\n      <td>553</td>\n      <td>553</td>\n      <td>553</td>\n    </tr>\n    <tr>\n      <th>no</th>\n      <td>322</td>\n      <td>0</td>\n      <td>0</td>\n      <td>317</td>\n      <td>322</td>\n      <td>322</td>\n      <td>322</td>\n    </tr>\n    <tr>\n      <th>yes</th>\n      <td>441</td>\n      <td>0</td>\n      <td>0</td>\n      <td>441</td>\n      <td>441</td>\n      <td>441</td>\n      <td>441</td>\n    </tr>\n  </tbody>\n</table>\n</div>"
     },
     "execution_count": 1522,
     "metadata": {},
     "output_type": "execute_result"
    }
   ],
   "source": [
    "#Exploring the Data in the Column 'Class', there are 8 values that are different from: Business Class, Economy Class, First Class, Premium Economy.\n",
    "airline_data.groupby('Class').count()"
   ],
   "metadata": {
    "collapsed": false,
    "ExecuteTime": {
     "end_time": "2023-12-03T20:56:07.374165700Z",
     "start_time": "2023-12-03T20:56:04.947895700Z"
    }
   }
  },
  {
   "cell_type": "code",
   "execution_count": 1523,
   "outputs": [],
   "source": [
    "#To leave the original data fixed, we will create a new temporal parameter called \"Class_temporal\" to modify and clean\n",
    "airline_data['Class_temporal'] = airline_data['Class']"
   ],
   "metadata": {
    "collapsed": false,
    "ExecuteTime": {
     "end_time": "2023-12-03T20:56:07.469730200Z",
     "start_time": "2023-12-03T20:56:04.968978200Z"
    }
   }
  },
  {
   "cell_type": "code",
   "execution_count": 1524,
   "outputs": [],
   "source": [
    "#After filter the rows to be cleaned in the \"Class_temporal\" parameter, we found there is \"Class\" data in the Route Parameter. We proceed to copy that data a new variable called \"Class_in_Route\"\n",
    "Class_in_route = airline_data[(airline_data['Class_temporal'] != 'Premium Economy') & (airline_data['Class'] != 'Business Class') & (airline_data['Class'] != 'First Class') & (airline_data['Class'] != 'Economy Class')]['Route']"
   ],
   "metadata": {
    "collapsed": false,
    "ExecuteTime": {
     "end_time": "2023-12-03T20:56:07.638988300Z",
     "start_time": "2023-12-03T20:56:04.980404700Z"
    }
   }
  },
  {
   "cell_type": "code",
   "execution_count": 1525,
   "outputs": [],
   "source": [
    "#Then, we paste this \"Class_in_route\" data to\n",
    "airline_data['Class_temporal'][(airline_data['Class_temporal'] != 'Premium Economy') & (airline_data['Class_temporal'] != 'Business Class') & (airline_data['Class_temporal'] != 'First Class') & (airline_data['Class_temporal'] != 'Economy Class')] = Class_in_route"
   ],
   "metadata": {
    "collapsed": false,
    "ExecuteTime": {
     "end_time": "2023-12-03T20:56:07.705538900Z",
     "start_time": "2023-12-03T20:56:04.997098100Z"
    }
   }
  },
  {
   "cell_type": "code",
   "execution_count": 1526,
   "outputs": [
    {
     "data": {
      "text/plain": "                 Passanger_Name  Flying_month  Route  Rating  Review_title  \\\nClass_temporal                                                               \nBusiness Class              866           866    866     866           866   \nEconomy Class              1522          1521   1522    1522          1522   \nFirst Class                 154           154    154     154           154   \nJan-17                        1             1      1       1             1   \nJul-22                        1             1      1       1             1   \nMay-15                        1             1      1       1             1   \nPremium Economy             271           271    271     271           271   \n\n                 Review_content  Traveller_type  Class  \nClass_temporal                                          \nBusiness Class              866             866    866  \nEconomy Class              1522            1522   1522  \nFirst Class                 154             154    154  \nJan-17                        1               1      1  \nJul-22                        1               1      1  \nMay-15                        1               1      1  \nPremium Economy             271             271    271  ",
      "text/html": "<div>\n<style scoped>\n    .dataframe tbody tr th:only-of-type {\n        vertical-align: middle;\n    }\n\n    .dataframe tbody tr th {\n        vertical-align: top;\n    }\n\n    .dataframe thead th {\n        text-align: right;\n    }\n</style>\n<table border=\"1\" class=\"dataframe\">\n  <thead>\n    <tr style=\"text-align: right;\">\n      <th></th>\n      <th>Passanger_Name</th>\n      <th>Flying_month</th>\n      <th>Route</th>\n      <th>Rating</th>\n      <th>Review_title</th>\n      <th>Review_content</th>\n      <th>Traveller_type</th>\n      <th>Class</th>\n    </tr>\n    <tr>\n      <th>Class_temporal</th>\n      <th></th>\n      <th></th>\n      <th></th>\n      <th></th>\n      <th></th>\n      <th></th>\n      <th></th>\n      <th></th>\n    </tr>\n  </thead>\n  <tbody>\n    <tr>\n      <th>Business Class</th>\n      <td>866</td>\n      <td>866</td>\n      <td>866</td>\n      <td>866</td>\n      <td>866</td>\n      <td>866</td>\n      <td>866</td>\n      <td>866</td>\n    </tr>\n    <tr>\n      <th>Economy Class</th>\n      <td>1522</td>\n      <td>1521</td>\n      <td>1522</td>\n      <td>1522</td>\n      <td>1522</td>\n      <td>1522</td>\n      <td>1522</td>\n      <td>1522</td>\n    </tr>\n    <tr>\n      <th>First Class</th>\n      <td>154</td>\n      <td>154</td>\n      <td>154</td>\n      <td>154</td>\n      <td>154</td>\n      <td>154</td>\n      <td>154</td>\n      <td>154</td>\n    </tr>\n    <tr>\n      <th>Jan-17</th>\n      <td>1</td>\n      <td>1</td>\n      <td>1</td>\n      <td>1</td>\n      <td>1</td>\n      <td>1</td>\n      <td>1</td>\n      <td>1</td>\n    </tr>\n    <tr>\n      <th>Jul-22</th>\n      <td>1</td>\n      <td>1</td>\n      <td>1</td>\n      <td>1</td>\n      <td>1</td>\n      <td>1</td>\n      <td>1</td>\n      <td>1</td>\n    </tr>\n    <tr>\n      <th>May-15</th>\n      <td>1</td>\n      <td>1</td>\n      <td>1</td>\n      <td>1</td>\n      <td>1</td>\n      <td>1</td>\n      <td>1</td>\n      <td>1</td>\n    </tr>\n    <tr>\n      <th>Premium Economy</th>\n      <td>271</td>\n      <td>271</td>\n      <td>271</td>\n      <td>271</td>\n      <td>271</td>\n      <td>271</td>\n      <td>271</td>\n      <td>271</td>\n    </tr>\n  </tbody>\n</table>\n</div>"
     },
     "execution_count": 1526,
     "metadata": {},
     "output_type": "execute_result"
    }
   ],
   "source": [
    "#We check again and there is only 3 values our of the \"Class\" real values\n",
    "airline_data.groupby('Class_temporal').count()"
   ],
   "metadata": {
    "collapsed": false,
    "ExecuteTime": {
     "end_time": "2023-12-03T20:56:07.705538900Z",
     "start_time": "2023-12-03T20:56:05.014076800Z"
    }
   }
  },
  {
   "cell_type": "code",
   "execution_count": 1527,
   "outputs": [
    {
     "data": {
      "text/plain": "         Passanger_Name Flying_month   Route  Rating  \\\n224       Mark Robinson           no  Jul-22     1.0   \n1748       Simon Warner           no  Jan-17     5.0   \n2794          Tom Moore           no  May-15     1.0   \n2816   Charlotte Stiley          NaN     NaN     1.0   \n2817      Tarun Thadani          NaN     NaN     2.0   \n...                 ...          ...     ...     ...   \n3575           W Benson          NaN     NaN     4.0   \n3576           S Luqman          NaN     NaN     4.0   \n3577            D Smith          NaN     NaN     4.0   \n3578           W Benson          NaN     NaN     6.0   \n3579  Michael Dielissen          NaN     NaN     8.0   \n\n                         Review_title  \\\n224      become an absolute nightmare   \n1748   cost saving is clearly evident   \n2794  British Airways customer review   \n2816  British Airways customer review   \n2817  British Airways customer review   \n...                               ...   \n3575  British Airways customer review   \n3576  British Airways customer review   \n3577  British Airways customer review   \n3578  British Airways customer review   \n3579  British Airways customer review   \n\n                                         Review_content   Traveller_type  \\\n224   Over 1 week ago I cancelled 2 Club Europe flig...   Business Class   \n1748  Verified Review   London Heathrow to Chicago i...      First Class   \n2794  Overall good experience. BA owns Vueling/Iberi...     Solo Leisure   \n2816  Travelled from Venice to Gatwick on 28th May c...   Business Class   \n2817  Worst customer experience on BA flight. I have...    Economy Class   \n...                                                 ...              ...   \n3575  LHR-HKG on Boeing 747 - 23/08/12. Much has bee...    Economy Class   \n3576  Just got back from Bridgetown Barbados flying ...    Economy Class   \n3577  LHR-JFK-LAX-LHR. Check in was ok apart from be...    Economy Class   \n3578  HKG-LHR in New Club World on Boeing 777-300 - ...   Business Class   \n3579  YYZ to LHR - July 2012 - I flew overnight in p...  Premium Economy   \n\n                                        Class Class_temporal  \n224                          London to Malaga         Jul-22  \n1748                               LHR to ORD         Jan-17  \n2794  Los Angeles to London to Paris to Rome          May-15  \n2816                                       no            NaN  \n2817                                       no            NaN  \n...                                       ...            ...  \n3575                                       no            NaN  \n3576                                       no            NaN  \n3577                                       no            NaN  \n3578                                      yes            NaN  \n3579                                      yes            NaN  \n\n[767 rows x 9 columns]",
      "text/html": "<div>\n<style scoped>\n    .dataframe tbody tr th:only-of-type {\n        vertical-align: middle;\n    }\n\n    .dataframe tbody tr th {\n        vertical-align: top;\n    }\n\n    .dataframe thead th {\n        text-align: right;\n    }\n</style>\n<table border=\"1\" class=\"dataframe\">\n  <thead>\n    <tr style=\"text-align: right;\">\n      <th></th>\n      <th>Passanger_Name</th>\n      <th>Flying_month</th>\n      <th>Route</th>\n      <th>Rating</th>\n      <th>Review_title</th>\n      <th>Review_content</th>\n      <th>Traveller_type</th>\n      <th>Class</th>\n      <th>Class_temporal</th>\n    </tr>\n  </thead>\n  <tbody>\n    <tr>\n      <th>224</th>\n      <td>Mark Robinson</td>\n      <td>no</td>\n      <td>Jul-22</td>\n      <td>1.0</td>\n      <td>become an absolute nightmare</td>\n      <td>Over 1 week ago I cancelled 2 Club Europe flig...</td>\n      <td>Business Class</td>\n      <td>London to Malaga</td>\n      <td>Jul-22</td>\n    </tr>\n    <tr>\n      <th>1748</th>\n      <td>Simon Warner</td>\n      <td>no</td>\n      <td>Jan-17</td>\n      <td>5.0</td>\n      <td>cost saving is clearly evident</td>\n      <td>Verified Review   London Heathrow to Chicago i...</td>\n      <td>First Class</td>\n      <td>LHR to ORD</td>\n      <td>Jan-17</td>\n    </tr>\n    <tr>\n      <th>2794</th>\n      <td>Tom Moore</td>\n      <td>no</td>\n      <td>May-15</td>\n      <td>1.0</td>\n      <td>British Airways customer review</td>\n      <td>Overall good experience. BA owns Vueling/Iberi...</td>\n      <td>Solo Leisure</td>\n      <td>Los Angeles to London to Paris to Rome</td>\n      <td>May-15</td>\n    </tr>\n    <tr>\n      <th>2816</th>\n      <td>Charlotte Stiley</td>\n      <td>NaN</td>\n      <td>NaN</td>\n      <td>1.0</td>\n      <td>British Airways customer review</td>\n      <td>Travelled from Venice to Gatwick on 28th May c...</td>\n      <td>Business Class</td>\n      <td>no</td>\n      <td>NaN</td>\n    </tr>\n    <tr>\n      <th>2817</th>\n      <td>Tarun Thadani</td>\n      <td>NaN</td>\n      <td>NaN</td>\n      <td>2.0</td>\n      <td>British Airways customer review</td>\n      <td>Worst customer experience on BA flight. I have...</td>\n      <td>Economy Class</td>\n      <td>no</td>\n      <td>NaN</td>\n    </tr>\n    <tr>\n      <th>...</th>\n      <td>...</td>\n      <td>...</td>\n      <td>...</td>\n      <td>...</td>\n      <td>...</td>\n      <td>...</td>\n      <td>...</td>\n      <td>...</td>\n      <td>...</td>\n    </tr>\n    <tr>\n      <th>3575</th>\n      <td>W Benson</td>\n      <td>NaN</td>\n      <td>NaN</td>\n      <td>4.0</td>\n      <td>British Airways customer review</td>\n      <td>LHR-HKG on Boeing 747 - 23/08/12. Much has bee...</td>\n      <td>Economy Class</td>\n      <td>no</td>\n      <td>NaN</td>\n    </tr>\n    <tr>\n      <th>3576</th>\n      <td>S Luqman</td>\n      <td>NaN</td>\n      <td>NaN</td>\n      <td>4.0</td>\n      <td>British Airways customer review</td>\n      <td>Just got back from Bridgetown Barbados flying ...</td>\n      <td>Economy Class</td>\n      <td>no</td>\n      <td>NaN</td>\n    </tr>\n    <tr>\n      <th>3577</th>\n      <td>D Smith</td>\n      <td>NaN</td>\n      <td>NaN</td>\n      <td>4.0</td>\n      <td>British Airways customer review</td>\n      <td>LHR-JFK-LAX-LHR. Check in was ok apart from be...</td>\n      <td>Economy Class</td>\n      <td>no</td>\n      <td>NaN</td>\n    </tr>\n    <tr>\n      <th>3578</th>\n      <td>W Benson</td>\n      <td>NaN</td>\n      <td>NaN</td>\n      <td>6.0</td>\n      <td>British Airways customer review</td>\n      <td>HKG-LHR in New Club World on Boeing 777-300 - ...</td>\n      <td>Business Class</td>\n      <td>yes</td>\n      <td>NaN</td>\n    </tr>\n    <tr>\n      <th>3579</th>\n      <td>Michael Dielissen</td>\n      <td>NaN</td>\n      <td>NaN</td>\n      <td>8.0</td>\n      <td>British Airways customer review</td>\n      <td>YYZ to LHR - July 2012 - I flew overnight in p...</td>\n      <td>Premium Economy</td>\n      <td>yes</td>\n      <td>NaN</td>\n    </tr>\n  </tbody>\n</table>\n<p>767 rows × 9 columns</p>\n</div>"
     },
     "execution_count": 1527,
     "metadata": {},
     "output_type": "execute_result"
    }
   ],
   "source": [
    "#We can see there is data in Traveller Type that should be in Class\n",
    "airline_data[(airline_data['Class_temporal'] != 'Premium Economy') & (airline_data['Class_temporal'] != 'Business Class') & (airline_data['Class_temporal'] != 'First Class') & (airline_data['Class_temporal'] != 'Economy Class')]"
   ],
   "metadata": {
    "collapsed": false,
    "ExecuteTime": {
     "end_time": "2023-12-03T20:56:07.705538900Z",
     "start_time": "2023-12-03T20:56:05.043899200Z"
    }
   }
  },
  {
   "cell_type": "code",
   "execution_count": 1528,
   "outputs": [],
   "source": [
    "#We copy in a parameter called \"Class_in_traveller\"\n",
    "Class_in_traveller = airline_data[(airline_data['Class_temporal'] != 'Premium Economy') & (airline_data['Class_temporal'] != 'Business Class') & (airline_data['Class_temporal'] != 'First Class') & (airline_data['Class_temporal'] != 'Economy Class')]['Traveller_type']"
   ],
   "metadata": {
    "collapsed": false,
    "ExecuteTime": {
     "end_time": "2023-12-03T20:56:07.705538900Z",
     "start_time": "2023-12-03T20:56:05.057650600Z"
    }
   }
  },
  {
   "cell_type": "code",
   "execution_count": 1529,
   "outputs": [],
   "source": [
    "#Paste the data in the Parameter 'Class_temporal' filtered\n",
    "airline_data['Class_temporal'][(airline_data['Class_temporal'] != 'Premium Economy') & (airline_data['Class_temporal'] != 'Business Class') & (airline_data['Class_temporal'] != 'First Class') & (airline_data['Class_temporal'] != 'Economy Class')] = Class_in_traveller"
   ],
   "metadata": {
    "collapsed": false,
    "ExecuteTime": {
     "end_time": "2023-12-03T20:56:07.705538900Z",
     "start_time": "2023-12-03T20:56:05.066297700Z"
    }
   }
  },
  {
   "cell_type": "code",
   "execution_count": 1530,
   "outputs": [
    {
     "data": {
      "text/plain": "                 Passanger_Name  Flying_month  Route  Rating  Review_title  \\\nClass_temporal                                                               \nBusiness Class             1161           867    867    1160          1161   \nEconomy Class              1849          1521   1522    1846          1849   \nFirst Class                 210           155    155     209           210   \nPremium Economy             358           271    271     358           358   \nSolo Leisure                  1             1      1       1             1   \nno                            1             0      0       1             1   \n\n                 Review_content  Traveller_type  Class  \nClass_temporal                                          \nBusiness Class             1161            1161   1161  \nEconomy Class              1849            1849   1849  \nFirst Class                 210             210    210  \nPremium Economy             358             358    358  \nSolo Leisure                  1               1      1  \nno                            1               1      0  ",
      "text/html": "<div>\n<style scoped>\n    .dataframe tbody tr th:only-of-type {\n        vertical-align: middle;\n    }\n\n    .dataframe tbody tr th {\n        vertical-align: top;\n    }\n\n    .dataframe thead th {\n        text-align: right;\n    }\n</style>\n<table border=\"1\" class=\"dataframe\">\n  <thead>\n    <tr style=\"text-align: right;\">\n      <th></th>\n      <th>Passanger_Name</th>\n      <th>Flying_month</th>\n      <th>Route</th>\n      <th>Rating</th>\n      <th>Review_title</th>\n      <th>Review_content</th>\n      <th>Traveller_type</th>\n      <th>Class</th>\n    </tr>\n    <tr>\n      <th>Class_temporal</th>\n      <th></th>\n      <th></th>\n      <th></th>\n      <th></th>\n      <th></th>\n      <th></th>\n      <th></th>\n      <th></th>\n    </tr>\n  </thead>\n  <tbody>\n    <tr>\n      <th>Business Class</th>\n      <td>1161</td>\n      <td>867</td>\n      <td>867</td>\n      <td>1160</td>\n      <td>1161</td>\n      <td>1161</td>\n      <td>1161</td>\n      <td>1161</td>\n    </tr>\n    <tr>\n      <th>Economy Class</th>\n      <td>1849</td>\n      <td>1521</td>\n      <td>1522</td>\n      <td>1846</td>\n      <td>1849</td>\n      <td>1849</td>\n      <td>1849</td>\n      <td>1849</td>\n    </tr>\n    <tr>\n      <th>First Class</th>\n      <td>210</td>\n      <td>155</td>\n      <td>155</td>\n      <td>209</td>\n      <td>210</td>\n      <td>210</td>\n      <td>210</td>\n      <td>210</td>\n    </tr>\n    <tr>\n      <th>Premium Economy</th>\n      <td>358</td>\n      <td>271</td>\n      <td>271</td>\n      <td>358</td>\n      <td>358</td>\n      <td>358</td>\n      <td>358</td>\n      <td>358</td>\n    </tr>\n    <tr>\n      <th>Solo Leisure</th>\n      <td>1</td>\n      <td>1</td>\n      <td>1</td>\n      <td>1</td>\n      <td>1</td>\n      <td>1</td>\n      <td>1</td>\n      <td>1</td>\n    </tr>\n    <tr>\n      <th>no</th>\n      <td>1</td>\n      <td>0</td>\n      <td>0</td>\n      <td>1</td>\n      <td>1</td>\n      <td>1</td>\n      <td>1</td>\n      <td>0</td>\n    </tr>\n  </tbody>\n</table>\n</div>"
     },
     "execution_count": 1530,
     "metadata": {},
     "output_type": "execute_result"
    }
   ],
   "source": [
    "airline_data.groupby('Class_temporal').count()"
   ],
   "metadata": {
    "collapsed": false,
    "ExecuteTime": {
     "end_time": "2023-12-03T20:56:07.705538900Z",
     "start_time": "2023-12-03T20:56:05.090914Z"
    }
   }
  },
  {
   "cell_type": "code",
   "execution_count": 1531,
   "outputs": [],
   "source": [
    "#Last 2 rows, the data can be deducted from the review comment and will be assing it as Economy Class\n",
    "airline_data['Class_temporal'][(airline_data['Class_temporal'] != 'Premium Economy') & (airline_data['Class_temporal'] != 'Business Class') & (airline_data['Class_temporal'] != 'First Class') & (airline_data['Class_temporal'] != 'Economy Class')] = 'Economy Class'"
   ],
   "metadata": {
    "collapsed": false,
    "ExecuteTime": {
     "end_time": "2023-12-03T20:56:07.705538900Z",
     "start_time": "2023-12-03T20:56:05.112180300Z"
    }
   }
  },
  {
   "cell_type": "code",
   "execution_count": 1532,
   "outputs": [
    {
     "data": {
      "text/plain": "                 Passanger_Name  Flying_month  Route  Rating  Review_title  \\\nClass_temporal                                                               \nBusiness Class             1161           867    867    1160          1161   \nEconomy Class              1851          1522   1523    1848          1851   \nFirst Class                 210           155    155     209           210   \nPremium Economy             358           271    271     358           358   \n\n                 Review_content  Traveller_type  Class  \nClass_temporal                                          \nBusiness Class             1161            1161   1161  \nEconomy Class              1851            1851   1850  \nFirst Class                 210             210    210  \nPremium Economy             358             358    358  ",
      "text/html": "<div>\n<style scoped>\n    .dataframe tbody tr th:only-of-type {\n        vertical-align: middle;\n    }\n\n    .dataframe tbody tr th {\n        vertical-align: top;\n    }\n\n    .dataframe thead th {\n        text-align: right;\n    }\n</style>\n<table border=\"1\" class=\"dataframe\">\n  <thead>\n    <tr style=\"text-align: right;\">\n      <th></th>\n      <th>Passanger_Name</th>\n      <th>Flying_month</th>\n      <th>Route</th>\n      <th>Rating</th>\n      <th>Review_title</th>\n      <th>Review_content</th>\n      <th>Traveller_type</th>\n      <th>Class</th>\n    </tr>\n    <tr>\n      <th>Class_temporal</th>\n      <th></th>\n      <th></th>\n      <th></th>\n      <th></th>\n      <th></th>\n      <th></th>\n      <th></th>\n      <th></th>\n    </tr>\n  </thead>\n  <tbody>\n    <tr>\n      <th>Business Class</th>\n      <td>1161</td>\n      <td>867</td>\n      <td>867</td>\n      <td>1160</td>\n      <td>1161</td>\n      <td>1161</td>\n      <td>1161</td>\n      <td>1161</td>\n    </tr>\n    <tr>\n      <th>Economy Class</th>\n      <td>1851</td>\n      <td>1522</td>\n      <td>1523</td>\n      <td>1848</td>\n      <td>1851</td>\n      <td>1851</td>\n      <td>1851</td>\n      <td>1850</td>\n    </tr>\n    <tr>\n      <th>First Class</th>\n      <td>210</td>\n      <td>155</td>\n      <td>155</td>\n      <td>209</td>\n      <td>210</td>\n      <td>210</td>\n      <td>210</td>\n      <td>210</td>\n    </tr>\n    <tr>\n      <th>Premium Economy</th>\n      <td>358</td>\n      <td>271</td>\n      <td>271</td>\n      <td>358</td>\n      <td>358</td>\n      <td>358</td>\n      <td>358</td>\n      <td>358</td>\n    </tr>\n  </tbody>\n</table>\n</div>"
     },
     "execution_count": 1532,
     "metadata": {},
     "output_type": "execute_result"
    }
   ],
   "source": [
    "#All the rows of the dataframe contains the righ information in the parameter 'Class_temporal'\n",
    "airline_data.groupby('Class_temporal').count()"
   ],
   "metadata": {
    "collapsed": false,
    "ExecuteTime": {
     "end_time": "2023-12-03T20:56:07.705538900Z",
     "start_time": "2023-12-03T20:56:05.123568700Z"
    }
   }
  },
  {
   "cell_type": "markdown",
   "source": [
    "## 3.2 Cleaning: Traveller Type"
   ],
   "metadata": {
    "collapsed": false
   }
  },
  {
   "cell_type": "code",
   "execution_count": 1533,
   "outputs": [
    {
     "data": {
      "text/plain": "                Passanger_Name  Flying_month  Route  Rating  Review_title  \\\nTraveller_type                                                              \n767-300                      1             1      1       1             1   \n777                          3             3      3       3             3   \n777-200                      1             1      1       1             1   \n777-300                      1             1      1       1             1   \n787                          1             1      1       1             1   \n...                        ...           ...    ...     ...           ...   \nSaab 2000                    1             1      1       1             1   \nSolo Leisure               307           307    307     307           307   \nVarious                      1             1      1       1             1   \nboeing 787                   1             1      1       1             1   \nno                           1             0      0       1             1   \n\n                Review_content  Class  Class_temporal  \nTraveller_type                                         \n767-300                      1      1               1  \n777                          3      3               3  \n777-200                      1      1               1  \n777-300                      1      1               1  \n787                          1      1               1  \n...                        ...    ...             ...  \nSaab 2000                    1      1               1  \nSolo Leisure               307    307             307  \nVarious                      1      1               1  \nboeing 787                   1      1               1  \nno                           1      0               1  \n\n[203 rows x 8 columns]",
      "text/html": "<div>\n<style scoped>\n    .dataframe tbody tr th:only-of-type {\n        vertical-align: middle;\n    }\n\n    .dataframe tbody tr th {\n        vertical-align: top;\n    }\n\n    .dataframe thead th {\n        text-align: right;\n    }\n</style>\n<table border=\"1\" class=\"dataframe\">\n  <thead>\n    <tr style=\"text-align: right;\">\n      <th></th>\n      <th>Passanger_Name</th>\n      <th>Flying_month</th>\n      <th>Route</th>\n      <th>Rating</th>\n      <th>Review_title</th>\n      <th>Review_content</th>\n      <th>Class</th>\n      <th>Class_temporal</th>\n    </tr>\n    <tr>\n      <th>Traveller_type</th>\n      <th></th>\n      <th></th>\n      <th></th>\n      <th></th>\n      <th></th>\n      <th></th>\n      <th></th>\n      <th></th>\n    </tr>\n  </thead>\n  <tbody>\n    <tr>\n      <th>767-300</th>\n      <td>1</td>\n      <td>1</td>\n      <td>1</td>\n      <td>1</td>\n      <td>1</td>\n      <td>1</td>\n      <td>1</td>\n      <td>1</td>\n    </tr>\n    <tr>\n      <th>777</th>\n      <td>3</td>\n      <td>3</td>\n      <td>3</td>\n      <td>3</td>\n      <td>3</td>\n      <td>3</td>\n      <td>3</td>\n      <td>3</td>\n    </tr>\n    <tr>\n      <th>777-200</th>\n      <td>1</td>\n      <td>1</td>\n      <td>1</td>\n      <td>1</td>\n      <td>1</td>\n      <td>1</td>\n      <td>1</td>\n      <td>1</td>\n    </tr>\n    <tr>\n      <th>777-300</th>\n      <td>1</td>\n      <td>1</td>\n      <td>1</td>\n      <td>1</td>\n      <td>1</td>\n      <td>1</td>\n      <td>1</td>\n      <td>1</td>\n    </tr>\n    <tr>\n      <th>787</th>\n      <td>1</td>\n      <td>1</td>\n      <td>1</td>\n      <td>1</td>\n      <td>1</td>\n      <td>1</td>\n      <td>1</td>\n      <td>1</td>\n    </tr>\n    <tr>\n      <th>...</th>\n      <td>...</td>\n      <td>...</td>\n      <td>...</td>\n      <td>...</td>\n      <td>...</td>\n      <td>...</td>\n      <td>...</td>\n      <td>...</td>\n    </tr>\n    <tr>\n      <th>Saab 2000</th>\n      <td>1</td>\n      <td>1</td>\n      <td>1</td>\n      <td>1</td>\n      <td>1</td>\n      <td>1</td>\n      <td>1</td>\n      <td>1</td>\n    </tr>\n    <tr>\n      <th>Solo Leisure</th>\n      <td>307</td>\n      <td>307</td>\n      <td>307</td>\n      <td>307</td>\n      <td>307</td>\n      <td>307</td>\n      <td>307</td>\n      <td>307</td>\n    </tr>\n    <tr>\n      <th>Various</th>\n      <td>1</td>\n      <td>1</td>\n      <td>1</td>\n      <td>1</td>\n      <td>1</td>\n      <td>1</td>\n      <td>1</td>\n      <td>1</td>\n    </tr>\n    <tr>\n      <th>boeing 787</th>\n      <td>1</td>\n      <td>1</td>\n      <td>1</td>\n      <td>1</td>\n      <td>1</td>\n      <td>1</td>\n      <td>1</td>\n      <td>1</td>\n    </tr>\n    <tr>\n      <th>no</th>\n      <td>1</td>\n      <td>0</td>\n      <td>0</td>\n      <td>1</td>\n      <td>1</td>\n      <td>1</td>\n      <td>0</td>\n      <td>1</td>\n    </tr>\n  </tbody>\n</table>\n<p>203 rows × 8 columns</p>\n</div>"
     },
     "execution_count": 1533,
     "metadata": {},
     "output_type": "execute_result"
    }
   ],
   "source": [
    "#Exploring the Data in the Column 'Class', there are 8 values that are different from: Business Class, Economy Class, First Class, Premium Economy.\n",
    "airline_data.groupby('Traveller_type').count()"
   ],
   "metadata": {
    "collapsed": false,
    "ExecuteTime": {
     "end_time": "2023-12-03T20:56:07.754922400Z",
     "start_time": "2023-12-03T20:56:05.146721300Z"
    }
   }
  },
  {
   "cell_type": "code",
   "execution_count": 1534,
   "outputs": [],
   "source": [
    "#To leave the original data fixed, we will create a new temporal parameter called \"Traveller_temporal\" to modify and clean\n",
    "airline_data['Traveller_temporal'] = airline_data['Traveller_type']"
   ],
   "metadata": {
    "collapsed": false,
    "ExecuteTime": {
     "end_time": "2023-12-03T20:56:07.754922400Z",
     "start_time": "2023-12-03T20:56:05.165582200Z"
    }
   }
  },
  {
   "cell_type": "code",
   "execution_count": 1535,
   "outputs": [],
   "source": [
    "#After filter the rows to be cleaned in the \"Traveller_temporal\" parameter, we found there is \"Traveller Type\" data in the Class Parameter. We proceed to copy that data a new variable called \"Traveller_in_Class\"\n",
    "Traveller_in_class = airline_data['Class'][(airline_data['Traveller_temporal'] != 'Solo Leisure') & (airline_data['Traveller_temporal'] != 'Family Leisure') & (airline_data['Traveller_temporal'] != 'Business') & (airline_data['Traveller_temporal'] != 'Couple Leisure')]"
   ],
   "metadata": {
    "collapsed": false,
    "ExecuteTime": {
     "end_time": "2023-12-03T20:56:07.754922400Z",
     "start_time": "2023-12-03T20:56:05.178508400Z"
    }
   }
  },
  {
   "cell_type": "code",
   "execution_count": 1536,
   "outputs": [],
   "source": [
    "#Then, we paste that data innto the Traveller_temporal parameter filtered\n",
    "airline_data['Traveller_temporal'][(airline_data['Traveller_temporal'] != 'Solo Leisure') & (airline_data['Traveller_temporal'] != 'Family Leisure') & (airline_data['Traveller_temporal'] != 'Business') & (airline_data['Traveller_temporal'] != 'Couple Leisure')] = Traveller_in_class"
   ],
   "metadata": {
    "collapsed": false,
    "ExecuteTime": {
     "end_time": "2023-12-03T20:56:07.770540600Z",
     "start_time": "2023-12-03T20:56:05.195778Z"
    }
   }
  },
  {
   "cell_type": "code",
   "execution_count": 1537,
   "outputs": [
    {
     "data": {
      "text/plain": "                    Passanger_Name  Flying_month  Route  Rating  Review_title  \\\nTraveller_temporal                                                              \nBusiness                       623           623    623     623           623   \nCouple Leisure                 949           949    949     949           949   \nFamily Leisure                 382           381    382     382           382   \nLHR to ORD                       1             1      1       1             1   \nLondon to Malaga                 1             1      1       1             1   \nSolo Leisure                   860           860    860     860           860   \nno                             322             0      0     317           322   \nyes                            441             0      0     441           441   \n\n                    Review_content  Traveller_type  Class  Class_temporal  \nTraveller_temporal                                                         \nBusiness                       623             623    623             623  \nCouple Leisure                 949             949    949             949  \nFamily Leisure                 382             382    382             382  \nLHR to ORD                       1               1      1               1  \nLondon to Malaga                 1               1      1               1  \nSolo Leisure                   860             860    860             860  \nno                             322             322    322             322  \nyes                            441             441    441             441  ",
      "text/html": "<div>\n<style scoped>\n    .dataframe tbody tr th:only-of-type {\n        vertical-align: middle;\n    }\n\n    .dataframe tbody tr th {\n        vertical-align: top;\n    }\n\n    .dataframe thead th {\n        text-align: right;\n    }\n</style>\n<table border=\"1\" class=\"dataframe\">\n  <thead>\n    <tr style=\"text-align: right;\">\n      <th></th>\n      <th>Passanger_Name</th>\n      <th>Flying_month</th>\n      <th>Route</th>\n      <th>Rating</th>\n      <th>Review_title</th>\n      <th>Review_content</th>\n      <th>Traveller_type</th>\n      <th>Class</th>\n      <th>Class_temporal</th>\n    </tr>\n    <tr>\n      <th>Traveller_temporal</th>\n      <th></th>\n      <th></th>\n      <th></th>\n      <th></th>\n      <th></th>\n      <th></th>\n      <th></th>\n      <th></th>\n      <th></th>\n    </tr>\n  </thead>\n  <tbody>\n    <tr>\n      <th>Business</th>\n      <td>623</td>\n      <td>623</td>\n      <td>623</td>\n      <td>623</td>\n      <td>623</td>\n      <td>623</td>\n      <td>623</td>\n      <td>623</td>\n      <td>623</td>\n    </tr>\n    <tr>\n      <th>Couple Leisure</th>\n      <td>949</td>\n      <td>949</td>\n      <td>949</td>\n      <td>949</td>\n      <td>949</td>\n      <td>949</td>\n      <td>949</td>\n      <td>949</td>\n      <td>949</td>\n    </tr>\n    <tr>\n      <th>Family Leisure</th>\n      <td>382</td>\n      <td>381</td>\n      <td>382</td>\n      <td>382</td>\n      <td>382</td>\n      <td>382</td>\n      <td>382</td>\n      <td>382</td>\n      <td>382</td>\n    </tr>\n    <tr>\n      <th>LHR to ORD</th>\n      <td>1</td>\n      <td>1</td>\n      <td>1</td>\n      <td>1</td>\n      <td>1</td>\n      <td>1</td>\n      <td>1</td>\n      <td>1</td>\n      <td>1</td>\n    </tr>\n    <tr>\n      <th>London to Malaga</th>\n      <td>1</td>\n      <td>1</td>\n      <td>1</td>\n      <td>1</td>\n      <td>1</td>\n      <td>1</td>\n      <td>1</td>\n      <td>1</td>\n      <td>1</td>\n    </tr>\n    <tr>\n      <th>Solo Leisure</th>\n      <td>860</td>\n      <td>860</td>\n      <td>860</td>\n      <td>860</td>\n      <td>860</td>\n      <td>860</td>\n      <td>860</td>\n      <td>860</td>\n      <td>860</td>\n    </tr>\n    <tr>\n      <th>no</th>\n      <td>322</td>\n      <td>0</td>\n      <td>0</td>\n      <td>317</td>\n      <td>322</td>\n      <td>322</td>\n      <td>322</td>\n      <td>322</td>\n      <td>322</td>\n    </tr>\n    <tr>\n      <th>yes</th>\n      <td>441</td>\n      <td>0</td>\n      <td>0</td>\n      <td>441</td>\n      <td>441</td>\n      <td>441</td>\n      <td>441</td>\n      <td>441</td>\n      <td>441</td>\n    </tr>\n  </tbody>\n</table>\n</div>"
     },
     "execution_count": 1537,
     "metadata": {},
     "output_type": "execute_result"
    }
   ],
   "source": [
    "#We check again, and there are still values to clean\n",
    "airline_data.groupby('Traveller_temporal').count()"
   ],
   "metadata": {
    "collapsed": false,
    "ExecuteTime": {
     "end_time": "2023-12-03T20:56:07.770540600Z",
     "start_time": "2023-12-03T20:56:05.211930200Z"
    }
   }
  },
  {
   "cell_type": "code",
   "execution_count": 1538,
   "outputs": [
    {
     "data": {
      "text/plain": "         Passanger_Name Flying_month   Route  Rating  \\\n224       Mark Robinson           no  Jul-22     1.0   \n1748       Simon Warner           no  Jan-17     5.0   \n2816   Charlotte Stiley          NaN     NaN     1.0   \n2817      Tarun Thadani          NaN     NaN     2.0   \n2818   Thomas Varughese          NaN     NaN     1.0   \n...                 ...          ...     ...     ...   \n3575           W Benson          NaN     NaN     4.0   \n3576           S Luqman          NaN     NaN     4.0   \n3577            D Smith          NaN     NaN     4.0   \n3578           W Benson          NaN     NaN     6.0   \n3579  Michael Dielissen          NaN     NaN     8.0   \n\n                         Review_title  \\\n224      become an absolute nightmare   \n1748   cost saving is clearly evident   \n2816  British Airways customer review   \n2817  British Airways customer review   \n2818  British Airways customer review   \n...                               ...   \n3575  British Airways customer review   \n3576  British Airways customer review   \n3577  British Airways customer review   \n3578  British Airways customer review   \n3579  British Airways customer review   \n\n                                         Review_content   Traveller_type  \\\n224   Over 1 week ago I cancelled 2 Club Europe flig...   Business Class   \n1748  Verified Review   London Heathrow to Chicago i...      First Class   \n2816  Travelled from Venice to Gatwick on 28th May c...   Business Class   \n2817  Worst customer experience on BA flight. I have...    Economy Class   \n2818  I had this terrible experience of traveling Br...    Economy Class   \n...                                                 ...              ...   \n3575  LHR-HKG on Boeing 747 - 23/08/12. Much has bee...    Economy Class   \n3576  Just got back from Bridgetown Barbados flying ...    Economy Class   \n3577  LHR-JFK-LAX-LHR. Check in was ok apart from be...    Economy Class   \n3578  HKG-LHR in New Club World on Boeing 777-300 - ...   Business Class   \n3579  YYZ to LHR - July 2012 - I flew overnight in p...  Premium Economy   \n\n                 Class   Class_temporal Traveller_temporal  \n224   London to Malaga   Business Class   London to Malaga  \n1748        LHR to ORD      First Class         LHR to ORD  \n2816                no   Business Class                 no  \n2817                no    Economy Class                 no  \n2818                no    Economy Class                 no  \n...                ...              ...                ...  \n3575                no    Economy Class                 no  \n3576                no    Economy Class                 no  \n3577                no    Economy Class                 no  \n3578               yes   Business Class                yes  \n3579               yes  Premium Economy                yes  \n\n[766 rows x 10 columns]",
      "text/html": "<div>\n<style scoped>\n    .dataframe tbody tr th:only-of-type {\n        vertical-align: middle;\n    }\n\n    .dataframe tbody tr th {\n        vertical-align: top;\n    }\n\n    .dataframe thead th {\n        text-align: right;\n    }\n</style>\n<table border=\"1\" class=\"dataframe\">\n  <thead>\n    <tr style=\"text-align: right;\">\n      <th></th>\n      <th>Passanger_Name</th>\n      <th>Flying_month</th>\n      <th>Route</th>\n      <th>Rating</th>\n      <th>Review_title</th>\n      <th>Review_content</th>\n      <th>Traveller_type</th>\n      <th>Class</th>\n      <th>Class_temporal</th>\n      <th>Traveller_temporal</th>\n    </tr>\n  </thead>\n  <tbody>\n    <tr>\n      <th>224</th>\n      <td>Mark Robinson</td>\n      <td>no</td>\n      <td>Jul-22</td>\n      <td>1.0</td>\n      <td>become an absolute nightmare</td>\n      <td>Over 1 week ago I cancelled 2 Club Europe flig...</td>\n      <td>Business Class</td>\n      <td>London to Malaga</td>\n      <td>Business Class</td>\n      <td>London to Malaga</td>\n    </tr>\n    <tr>\n      <th>1748</th>\n      <td>Simon Warner</td>\n      <td>no</td>\n      <td>Jan-17</td>\n      <td>5.0</td>\n      <td>cost saving is clearly evident</td>\n      <td>Verified Review   London Heathrow to Chicago i...</td>\n      <td>First Class</td>\n      <td>LHR to ORD</td>\n      <td>First Class</td>\n      <td>LHR to ORD</td>\n    </tr>\n    <tr>\n      <th>2816</th>\n      <td>Charlotte Stiley</td>\n      <td>NaN</td>\n      <td>NaN</td>\n      <td>1.0</td>\n      <td>British Airways customer review</td>\n      <td>Travelled from Venice to Gatwick on 28th May c...</td>\n      <td>Business Class</td>\n      <td>no</td>\n      <td>Business Class</td>\n      <td>no</td>\n    </tr>\n    <tr>\n      <th>2817</th>\n      <td>Tarun Thadani</td>\n      <td>NaN</td>\n      <td>NaN</td>\n      <td>2.0</td>\n      <td>British Airways customer review</td>\n      <td>Worst customer experience on BA flight. I have...</td>\n      <td>Economy Class</td>\n      <td>no</td>\n      <td>Economy Class</td>\n      <td>no</td>\n    </tr>\n    <tr>\n      <th>2818</th>\n      <td>Thomas Varughese</td>\n      <td>NaN</td>\n      <td>NaN</td>\n      <td>1.0</td>\n      <td>British Airways customer review</td>\n      <td>I had this terrible experience of traveling Br...</td>\n      <td>Economy Class</td>\n      <td>no</td>\n      <td>Economy Class</td>\n      <td>no</td>\n    </tr>\n    <tr>\n      <th>...</th>\n      <td>...</td>\n      <td>...</td>\n      <td>...</td>\n      <td>...</td>\n      <td>...</td>\n      <td>...</td>\n      <td>...</td>\n      <td>...</td>\n      <td>...</td>\n      <td>...</td>\n    </tr>\n    <tr>\n      <th>3575</th>\n      <td>W Benson</td>\n      <td>NaN</td>\n      <td>NaN</td>\n      <td>4.0</td>\n      <td>British Airways customer review</td>\n      <td>LHR-HKG on Boeing 747 - 23/08/12. Much has bee...</td>\n      <td>Economy Class</td>\n      <td>no</td>\n      <td>Economy Class</td>\n      <td>no</td>\n    </tr>\n    <tr>\n      <th>3576</th>\n      <td>S Luqman</td>\n      <td>NaN</td>\n      <td>NaN</td>\n      <td>4.0</td>\n      <td>British Airways customer review</td>\n      <td>Just got back from Bridgetown Barbados flying ...</td>\n      <td>Economy Class</td>\n      <td>no</td>\n      <td>Economy Class</td>\n      <td>no</td>\n    </tr>\n    <tr>\n      <th>3577</th>\n      <td>D Smith</td>\n      <td>NaN</td>\n      <td>NaN</td>\n      <td>4.0</td>\n      <td>British Airways customer review</td>\n      <td>LHR-JFK-LAX-LHR. Check in was ok apart from be...</td>\n      <td>Economy Class</td>\n      <td>no</td>\n      <td>Economy Class</td>\n      <td>no</td>\n    </tr>\n    <tr>\n      <th>3578</th>\n      <td>W Benson</td>\n      <td>NaN</td>\n      <td>NaN</td>\n      <td>6.0</td>\n      <td>British Airways customer review</td>\n      <td>HKG-LHR in New Club World on Boeing 777-300 - ...</td>\n      <td>Business Class</td>\n      <td>yes</td>\n      <td>Business Class</td>\n      <td>yes</td>\n    </tr>\n    <tr>\n      <th>3579</th>\n      <td>Michael Dielissen</td>\n      <td>NaN</td>\n      <td>NaN</td>\n      <td>8.0</td>\n      <td>British Airways customer review</td>\n      <td>YYZ to LHR - July 2012 - I flew overnight in p...</td>\n      <td>Premium Economy</td>\n      <td>yes</td>\n      <td>Premium Economy</td>\n      <td>yes</td>\n    </tr>\n  </tbody>\n</table>\n<p>766 rows × 10 columns</p>\n</div>"
     },
     "execution_count": 1538,
     "metadata": {},
     "output_type": "execute_result"
    }
   ],
   "source": [
    "#Looking at other parameter, the information can not be found in any of them\n",
    "airline_data[(airline_data['Traveller_temporal'] != 'Solo Leisure') & (airline_data['Traveller_temporal'] != 'Family Leisure') & (airline_data['Traveller_temporal'] != 'Business') & (airline_data['Traveller_temporal'] != 'Couple Leisure')]"
   ],
   "metadata": {
    "collapsed": false,
    "ExecuteTime": {
     "end_time": "2023-12-03T20:56:07.770540600Z",
     "start_time": "2023-12-03T20:56:05.238215600Z"
    }
   }
  },
  {
   "cell_type": "code",
   "execution_count": 1539,
   "outputs": [],
   "source": [
    "#We set all those values as 'Unknown' \n",
    "airline_data['Traveller_temporal'][(airline_data['Traveller_temporal'] != 'Solo Leisure') & (airline_data['Traveller_temporal'] != 'Family Leisure') & (airline_data['Traveller_temporal'] != 'Business') & (airline_data['Traveller_temporal'] != 'Couple Leisure')] = 'Unknown'"
   ],
   "metadata": {
    "collapsed": false,
    "ExecuteTime": {
     "end_time": "2023-12-03T20:56:07.770540600Z",
     "start_time": "2023-12-03T20:56:05.265121100Z"
    }
   }
  },
  {
   "cell_type": "code",
   "execution_count": 1540,
   "outputs": [
    {
     "data": {
      "text/plain": "                    Passanger_Name  Flying_month  Route  Rating  Review_title  \\\nTraveller_temporal                                                              \nBusiness                       623           623    623     623           623   \nCouple Leisure                 949           949    949     949           949   \nFamily Leisure                 382           381    382     382           382   \nSolo Leisure                   860           860    860     860           860   \nUnknown                        766             2      2     761           766   \n\n                    Review_content  Traveller_type  Class  Class_temporal  \nTraveller_temporal                                                         \nBusiness                       623             623    623             623  \nCouple Leisure                 949             949    949             949  \nFamily Leisure                 382             382    382             382  \nSolo Leisure                   860             860    860             860  \nUnknown                        766             766    765             766  ",
      "text/html": "<div>\n<style scoped>\n    .dataframe tbody tr th:only-of-type {\n        vertical-align: middle;\n    }\n\n    .dataframe tbody tr th {\n        vertical-align: top;\n    }\n\n    .dataframe thead th {\n        text-align: right;\n    }\n</style>\n<table border=\"1\" class=\"dataframe\">\n  <thead>\n    <tr style=\"text-align: right;\">\n      <th></th>\n      <th>Passanger_Name</th>\n      <th>Flying_month</th>\n      <th>Route</th>\n      <th>Rating</th>\n      <th>Review_title</th>\n      <th>Review_content</th>\n      <th>Traveller_type</th>\n      <th>Class</th>\n      <th>Class_temporal</th>\n    </tr>\n    <tr>\n      <th>Traveller_temporal</th>\n      <th></th>\n      <th></th>\n      <th></th>\n      <th></th>\n      <th></th>\n      <th></th>\n      <th></th>\n      <th></th>\n      <th></th>\n    </tr>\n  </thead>\n  <tbody>\n    <tr>\n      <th>Business</th>\n      <td>623</td>\n      <td>623</td>\n      <td>623</td>\n      <td>623</td>\n      <td>623</td>\n      <td>623</td>\n      <td>623</td>\n      <td>623</td>\n      <td>623</td>\n    </tr>\n    <tr>\n      <th>Couple Leisure</th>\n      <td>949</td>\n      <td>949</td>\n      <td>949</td>\n      <td>949</td>\n      <td>949</td>\n      <td>949</td>\n      <td>949</td>\n      <td>949</td>\n      <td>949</td>\n    </tr>\n    <tr>\n      <th>Family Leisure</th>\n      <td>382</td>\n      <td>381</td>\n      <td>382</td>\n      <td>382</td>\n      <td>382</td>\n      <td>382</td>\n      <td>382</td>\n      <td>382</td>\n      <td>382</td>\n    </tr>\n    <tr>\n      <th>Solo Leisure</th>\n      <td>860</td>\n      <td>860</td>\n      <td>860</td>\n      <td>860</td>\n      <td>860</td>\n      <td>860</td>\n      <td>860</td>\n      <td>860</td>\n      <td>860</td>\n    </tr>\n    <tr>\n      <th>Unknown</th>\n      <td>766</td>\n      <td>2</td>\n      <td>2</td>\n      <td>761</td>\n      <td>766</td>\n      <td>766</td>\n      <td>766</td>\n      <td>765</td>\n      <td>766</td>\n    </tr>\n  </tbody>\n</table>\n</div>"
     },
     "execution_count": 1540,
     "metadata": {},
     "output_type": "execute_result"
    }
   ],
   "source": [
    "airline_data.groupby('Traveller_temporal').count()"
   ],
   "metadata": {
    "collapsed": false,
    "ExecuteTime": {
     "end_time": "2023-12-03T20:56:07.770540600Z",
     "start_time": "2023-12-03T20:56:05.275602400Z"
    }
   }
  },
  {
   "cell_type": "markdown",
   "source": [
    "## 3.4 Cleaning: Flying Month"
   ],
   "metadata": {
    "collapsed": false
   }
  },
  {
   "cell_type": "code",
   "execution_count": 1541,
   "outputs": [
    {
     "data": {
      "text/plain": "                              Passanger_Name  Route  Rating  Review_title  \\\nFlying_month                                                                \nACC to ZRH via LHR                         1      1       1             1   \nAGP to LGW                                 1      1       1             1   \nAMS to BKK via LHR                         1      1       1             1   \nAMS to GRU via LHR                         1      1       1             1   \nAMS to HKG via LHR                         1      1       1             1   \n...                                      ...    ...     ...           ...   \ndoha to londonDoha to London               1      1       1             1   \niAH to LHR                                 1      1       1             1   \nlgw to alicante                            1      1       1             1   \nno                                         9      9       9             9   \nyes                                        2      2       2             2   \n\n                              Review_content  Traveller_type  Class  \\\nFlying_month                                                          \nACC to ZRH via LHR                         1               1      1   \nAGP to LGW                                 1               1      1   \nAMS to BKK via LHR                         1               1      1   \nAMS to GRU via LHR                         1               1      1   \nAMS to HKG via LHR                         1               1      1   \n...                                      ...             ...    ...   \ndoha to londonDoha to London               1               1      1   \niAH to LHR                                 1               1      1   \nlgw to alicante                            1               1      1   \nno                                         9               9      9   \nyes                                        2               2      2   \n\n                              Class_temporal  Traveller_temporal  \nFlying_month                                                      \nACC to ZRH via LHR                         1                   1  \nAGP to LGW                                 1                   1  \nAMS to BKK via LHR                         1                   1  \nAMS to GRU via LHR                         1                   1  \nAMS to HKG via LHR                         1                   1  \n...                                      ...                 ...  \ndoha to londonDoha to London               1                   1  \niAH to LHR                                 1                   1  \nlgw to alicante                            1                   1  \nno                                         9                   9  \nyes                                        2                   2  \n\n[1174 rows x 9 columns]",
      "text/html": "<div>\n<style scoped>\n    .dataframe tbody tr th:only-of-type {\n        vertical-align: middle;\n    }\n\n    .dataframe tbody tr th {\n        vertical-align: top;\n    }\n\n    .dataframe thead th {\n        text-align: right;\n    }\n</style>\n<table border=\"1\" class=\"dataframe\">\n  <thead>\n    <tr style=\"text-align: right;\">\n      <th></th>\n      <th>Passanger_Name</th>\n      <th>Route</th>\n      <th>Rating</th>\n      <th>Review_title</th>\n      <th>Review_content</th>\n      <th>Traveller_type</th>\n      <th>Class</th>\n      <th>Class_temporal</th>\n      <th>Traveller_temporal</th>\n    </tr>\n    <tr>\n      <th>Flying_month</th>\n      <th></th>\n      <th></th>\n      <th></th>\n      <th></th>\n      <th></th>\n      <th></th>\n      <th></th>\n      <th></th>\n      <th></th>\n    </tr>\n  </thead>\n  <tbody>\n    <tr>\n      <th>ACC to ZRH via LHR</th>\n      <td>1</td>\n      <td>1</td>\n      <td>1</td>\n      <td>1</td>\n      <td>1</td>\n      <td>1</td>\n      <td>1</td>\n      <td>1</td>\n      <td>1</td>\n    </tr>\n    <tr>\n      <th>AGP to LGW</th>\n      <td>1</td>\n      <td>1</td>\n      <td>1</td>\n      <td>1</td>\n      <td>1</td>\n      <td>1</td>\n      <td>1</td>\n      <td>1</td>\n      <td>1</td>\n    </tr>\n    <tr>\n      <th>AMS to BKK via LHR</th>\n      <td>1</td>\n      <td>1</td>\n      <td>1</td>\n      <td>1</td>\n      <td>1</td>\n      <td>1</td>\n      <td>1</td>\n      <td>1</td>\n      <td>1</td>\n    </tr>\n    <tr>\n      <th>AMS to GRU via LHR</th>\n      <td>1</td>\n      <td>1</td>\n      <td>1</td>\n      <td>1</td>\n      <td>1</td>\n      <td>1</td>\n      <td>1</td>\n      <td>1</td>\n      <td>1</td>\n    </tr>\n    <tr>\n      <th>AMS to HKG via LHR</th>\n      <td>1</td>\n      <td>1</td>\n      <td>1</td>\n      <td>1</td>\n      <td>1</td>\n      <td>1</td>\n      <td>1</td>\n      <td>1</td>\n      <td>1</td>\n    </tr>\n    <tr>\n      <th>...</th>\n      <td>...</td>\n      <td>...</td>\n      <td>...</td>\n      <td>...</td>\n      <td>...</td>\n      <td>...</td>\n      <td>...</td>\n      <td>...</td>\n      <td>...</td>\n    </tr>\n    <tr>\n      <th>doha to londonDoha to London</th>\n      <td>1</td>\n      <td>1</td>\n      <td>1</td>\n      <td>1</td>\n      <td>1</td>\n      <td>1</td>\n      <td>1</td>\n      <td>1</td>\n      <td>1</td>\n    </tr>\n    <tr>\n      <th>iAH to LHR</th>\n      <td>1</td>\n      <td>1</td>\n      <td>1</td>\n      <td>1</td>\n      <td>1</td>\n      <td>1</td>\n      <td>1</td>\n      <td>1</td>\n      <td>1</td>\n    </tr>\n    <tr>\n      <th>lgw to alicante</th>\n      <td>1</td>\n      <td>1</td>\n      <td>1</td>\n      <td>1</td>\n      <td>1</td>\n      <td>1</td>\n      <td>1</td>\n      <td>1</td>\n      <td>1</td>\n    </tr>\n    <tr>\n      <th>no</th>\n      <td>9</td>\n      <td>9</td>\n      <td>9</td>\n      <td>9</td>\n      <td>9</td>\n      <td>9</td>\n      <td>9</td>\n      <td>9</td>\n      <td>9</td>\n    </tr>\n    <tr>\n      <th>yes</th>\n      <td>2</td>\n      <td>2</td>\n      <td>2</td>\n      <td>2</td>\n      <td>2</td>\n      <td>2</td>\n      <td>2</td>\n      <td>2</td>\n      <td>2</td>\n    </tr>\n  </tbody>\n</table>\n<p>1174 rows × 9 columns</p>\n</div>"
     },
     "execution_count": 1541,
     "metadata": {},
     "output_type": "execute_result"
    }
   ],
   "source": [
    "airline_data.groupby('Flying_month').count()"
   ],
   "metadata": {
    "collapsed": false,
    "ExecuteTime": {
     "end_time": "2023-12-03T20:56:07.770540600Z",
     "start_time": "2023-12-03T20:56:05.303761400Z"
    }
   }
  },
  {
   "cell_type": "code",
   "execution_count": 1542,
   "outputs": [],
   "source": [
    "#Creating a new Flying Month temporal parameter\n",
    "airline_data['Flying_month_temporal'] = airline_data['Flying_month']"
   ],
   "metadata": {
    "collapsed": false,
    "ExecuteTime": {
     "end_time": "2023-12-03T20:56:07.770540600Z",
     "start_time": "2023-12-03T20:56:05.328731700Z"
    }
   }
  },
  {
   "cell_type": "code",
   "execution_count": 1543,
   "outputs": [
    {
     "data": {
      "text/plain": "         Passanger_Name Flying_month   Route  Rating  \\\n42       Nicholas Felty           no  May-23     1.0   \n224       Mark Robinson           no  Jul-22     1.0   \n234          Paul Mayer           no  Jun-22     1.0   \n419   barbara ciereszko           no  Jul-21     1.0   \n1748       Simon Warner           no  Jan-17     5.0   \n2552       Steve Purkis           no  Feb-15     1.0   \n2567     Travis Rodgers           no  Sep-15     5.0   \n2794          Tom Moore           no  May-15     1.0   \n\n                           Review_title  \\\n42        I had to reschedule my flight   \n224        become an absolute nightmare   \n234    do not allow free seat selection   \n419                no refund issued yet   \n1748     cost saving is clearly evident   \n2552  Fawlty Towers of customer service   \n2567         seats were extremely small   \n2794    British Airways customer review   \n\n                                         Review_content  Traveller_type  \\\n42    I booked business class tickets for my fiancé ...  Couple Leisure   \n224   Over 1 week ago I cancelled 2 Club Europe flig...  Business Class   \n234   Second time getting poor service from BA. 1st,...  Family Leisure   \n419   Booked flight six months before travel, then m...  Family Leisure   \n1748  Verified Review   London Heathrow to Chicago i...     First Class   \n2552  My issue is the very poor British Airways cust...  Family Leisure   \n2567  The British Airways seats were extremely small...  Couple Leisure   \n2794  Overall good experience. BA owns Vueling/Iberi...    Solo Leisure   \n\n                                        Class  Class_temporal  \\\n42                             Business Class  Business Class   \n224                          London to Malaga  Business Class   \n234                            Business Class  Business Class   \n419                             Economy Class   Economy Class   \n1748                               LHR to ORD     First Class   \n2552                            Economy Class   Economy Class   \n2567                            Economy Class   Economy Class   \n2794  Los Angeles to London to Paris to Rome    Economy Class   \n\n     Traveller_temporal Flying_month_temporal  \n42       Couple Leisure                    no  \n224             Unknown                    no  \n234      Family Leisure                    no  \n419      Family Leisure                    no  \n1748            Unknown                    no  \n2552     Family Leisure                    no  \n2567     Couple Leisure                    no  \n2794       Solo Leisure                    no  ",
      "text/html": "<div>\n<style scoped>\n    .dataframe tbody tr th:only-of-type {\n        vertical-align: middle;\n    }\n\n    .dataframe tbody tr th {\n        vertical-align: top;\n    }\n\n    .dataframe thead th {\n        text-align: right;\n    }\n</style>\n<table border=\"1\" class=\"dataframe\">\n  <thead>\n    <tr style=\"text-align: right;\">\n      <th></th>\n      <th>Passanger_Name</th>\n      <th>Flying_month</th>\n      <th>Route</th>\n      <th>Rating</th>\n      <th>Review_title</th>\n      <th>Review_content</th>\n      <th>Traveller_type</th>\n      <th>Class</th>\n      <th>Class_temporal</th>\n      <th>Traveller_temporal</th>\n      <th>Flying_month_temporal</th>\n    </tr>\n  </thead>\n  <tbody>\n    <tr>\n      <th>42</th>\n      <td>Nicholas Felty</td>\n      <td>no</td>\n      <td>May-23</td>\n      <td>1.0</td>\n      <td>I had to reschedule my flight</td>\n      <td>I booked business class tickets for my fiancé ...</td>\n      <td>Couple Leisure</td>\n      <td>Business Class</td>\n      <td>Business Class</td>\n      <td>Couple Leisure</td>\n      <td>no</td>\n    </tr>\n    <tr>\n      <th>224</th>\n      <td>Mark Robinson</td>\n      <td>no</td>\n      <td>Jul-22</td>\n      <td>1.0</td>\n      <td>become an absolute nightmare</td>\n      <td>Over 1 week ago I cancelled 2 Club Europe flig...</td>\n      <td>Business Class</td>\n      <td>London to Malaga</td>\n      <td>Business Class</td>\n      <td>Unknown</td>\n      <td>no</td>\n    </tr>\n    <tr>\n      <th>234</th>\n      <td>Paul Mayer</td>\n      <td>no</td>\n      <td>Jun-22</td>\n      <td>1.0</td>\n      <td>do not allow free seat selection</td>\n      <td>Second time getting poor service from BA. 1st,...</td>\n      <td>Family Leisure</td>\n      <td>Business Class</td>\n      <td>Business Class</td>\n      <td>Family Leisure</td>\n      <td>no</td>\n    </tr>\n    <tr>\n      <th>419</th>\n      <td>barbara ciereszko</td>\n      <td>no</td>\n      <td>Jul-21</td>\n      <td>1.0</td>\n      <td>no refund issued yet</td>\n      <td>Booked flight six months before travel, then m...</td>\n      <td>Family Leisure</td>\n      <td>Economy Class</td>\n      <td>Economy Class</td>\n      <td>Family Leisure</td>\n      <td>no</td>\n    </tr>\n    <tr>\n      <th>1748</th>\n      <td>Simon Warner</td>\n      <td>no</td>\n      <td>Jan-17</td>\n      <td>5.0</td>\n      <td>cost saving is clearly evident</td>\n      <td>Verified Review   London Heathrow to Chicago i...</td>\n      <td>First Class</td>\n      <td>LHR to ORD</td>\n      <td>First Class</td>\n      <td>Unknown</td>\n      <td>no</td>\n    </tr>\n    <tr>\n      <th>2552</th>\n      <td>Steve Purkis</td>\n      <td>no</td>\n      <td>Feb-15</td>\n      <td>1.0</td>\n      <td>Fawlty Towers of customer service</td>\n      <td>My issue is the very poor British Airways cust...</td>\n      <td>Family Leisure</td>\n      <td>Economy Class</td>\n      <td>Economy Class</td>\n      <td>Family Leisure</td>\n      <td>no</td>\n    </tr>\n    <tr>\n      <th>2567</th>\n      <td>Travis Rodgers</td>\n      <td>no</td>\n      <td>Sep-15</td>\n      <td>5.0</td>\n      <td>seats were extremely small</td>\n      <td>The British Airways seats were extremely small...</td>\n      <td>Couple Leisure</td>\n      <td>Economy Class</td>\n      <td>Economy Class</td>\n      <td>Couple Leisure</td>\n      <td>no</td>\n    </tr>\n    <tr>\n      <th>2794</th>\n      <td>Tom Moore</td>\n      <td>no</td>\n      <td>May-15</td>\n      <td>1.0</td>\n      <td>British Airways customer review</td>\n      <td>Overall good experience. BA owns Vueling/Iberi...</td>\n      <td>Solo Leisure</td>\n      <td>Los Angeles to London to Paris to Rome</td>\n      <td>Economy Class</td>\n      <td>Solo Leisure</td>\n      <td>no</td>\n    </tr>\n  </tbody>\n</table>\n</div>"
     },
     "execution_count": 1543,
     "metadata": {},
     "output_type": "execute_result"
    }
   ],
   "source": [
    "#There are 8 rows in Route that can be used in Flying Month \n",
    "airline_data[(~airline_data['Flying_month_temporal'].str.contains('|'.join(['Jan-','Feb-','Mar-','Apr-','May-','Jun-','Jul-','Aug-','Sep-','Oct-','Nov-','Dec-']), na=False)) & (airline_data['Route'].str.contains('|'.join(['Jan-','Feb-','Mar-','Apr-','May-','Jun-','Jul-','Aug-','Sep-','Oct-','Nov-','Dec-']), na=False))]"
   ],
   "metadata": {
    "collapsed": false,
    "ExecuteTime": {
     "end_time": "2023-12-03T20:56:07.770540600Z",
     "start_time": "2023-12-03T20:56:05.328731700Z"
    }
   }
  },
  {
   "cell_type": "code",
   "execution_count": 1544,
   "outputs": [],
   "source": [
    "#Filtering and copying the data in Route that contains FLying Months and stored in 'Flying_month_in_route\" variable\n",
    "Flying_month_in_route = airline_data['Route'][(~airline_data['Flying_month_temporal'].str.contains('|'.join(['Jan-','Feb-','Mar-','Apr-','May-','Jun-','Jul-','Aug-','Sep-','Oct-','Nov-','Dec-']), na=False)) & (airline_data['Route'].str.contains('|'.join(['Jan-','Feb-','Mar-','Apr-','May-','Jun-','Jul-','Aug-','Sep-','Oct-','Nov-','Dec-']), na=False))]"
   ],
   "metadata": {
    "collapsed": false,
    "ExecuteTime": {
     "end_time": "2023-12-03T20:56:07.770540600Z",
     "start_time": "2023-12-03T20:56:05.356996900Z"
    }
   }
  },
  {
   "cell_type": "code",
   "execution_count": 1545,
   "outputs": [],
   "source": [
    "#Pasting the filtering data in the Flying Month temporal Parameter\n",
    "airline_data['Flying_month_temporal'][(~airline_data['Flying_month_temporal'].str.contains('|'.join(['Jan-','Feb-','Mar-','Apr-','May-','Jun-','Jul-','Aug-','Sep-','Oct-','Nov-','Dec-']), na=False)) & (airline_data['Route'].str.contains('|'.join(['Jan-','Feb-','Mar-','Apr-','May-','Jun-','Jul-','Aug-','Sep-','Oct-','Nov-','Dec-']), na=False))] = Flying_month_in_route"
   ],
   "metadata": {
    "collapsed": false,
    "ExecuteTime": {
     "end_time": "2023-12-03T20:56:07.770540600Z",
     "start_time": "2023-12-03T20:56:05.367917400Z"
    }
   }
  },
  {
   "cell_type": "code",
   "execution_count": 1546,
   "outputs": [
    {
     "data": {
      "text/plain": "         Passanger_Name                       Flying_month           Route  \\\n7        Richard Hodges        London Heathrow to Kalamata   Economy Class   \n19     Benjamin Stevens  Seattle to Edinburgh via Heathrow   Economy Class   \n35        Steve Bennett                     London to Nice  Business Class   \n110            C Barton                   London to Madrid   Economy Class   \n130              C Bain                  Atlanta to London   Economy Class   \n...                 ...                                ...             ...   \n3564           C Denson                                NaN             NaN   \n3566     Iain Henderson                                NaN             NaN   \n3569        Jack Hughes                                NaN             NaN   \n3570            D Nolan                                NaN             NaN   \n3579  Michael Dielissen                                NaN             NaN   \n\n      Rating                               Review_title  \\\n7        7.0   Economy class seating was truly dreadful   \n19       1.0            customer service was horrendous   \n35       4.0  do not think the fare was worth the money   \n110      1.0              found the attitude appalling    \n130      4.0           This flight was so disappointing   \n...      ...                                        ...   \n3564    10.0            British Airways customer review   \n3566     1.0            British Airways customer review   \n3569     8.0            British Airways customer review   \n3570     5.0            British Airways customer review   \n3579     8.0            British Airways customer review   \n\n                                         Review_content   Traveller_type  \\\n7     Travelled to Heathrow to Kalamata and return j...       Boeing 737   \n19    May 3, flew from Seattle to Heathrow then to E...       Boeing 777   \n35    Paid a quick visit to Nice yesterday from Heat...             A319   \n110   My review relates to the appalling experiences...             A320   \n130   Flew ATL to LHR 8th Jan 2023. Was unlucky enou...   Boeing 777-200   \n...                                                 ...              ...   \n3564  Chicago O'Hare to London Heathrow on 2 May. ch...    Economy Class   \n3566  BA 059 London to Cape Town April 29 2014 econo...    Economy Class   \n3569  Heathrow Marrakech. Had previously travelled o...    Economy Class   \n3570  Flew return in CW from LHR to BKK in August 20...   Business Class   \n3579  YYZ to LHR - July 2012 - I flew overnight in p...  Premium Economy   \n\n               Class   Class_temporal Traveller_temporal  \\\n7     Couple Leisure    Economy Class     Couple Leisure   \n19          Business    Economy Class           Business   \n35    Couple Leisure   Business Class     Couple Leisure   \n110     Solo Leisure    Economy Class       Solo Leisure   \n130   Family Leisure    Economy Class     Family Leisure   \n...              ...              ...                ...   \n3564             yes    Economy Class            Unknown   \n3566              no    Economy Class            Unknown   \n3569             yes    Economy Class            Unknown   \n3570             yes   Business Class            Unknown   \n3579             yes  Premium Economy            Unknown   \n\n                  Flying_month_temporal  \n7           London Heathrow to Kalamata  \n19    Seattle to Edinburgh via Heathrow  \n35                       London to Nice  \n110                    London to Madrid  \n130                   Atlanta to London  \n...                                 ...  \n3564                                NaN  \n3566                                NaN  \n3569                                NaN  \n3570                                NaN  \n3579                                NaN  \n\n[447 rows x 11 columns]",
      "text/html": "<div>\n<style scoped>\n    .dataframe tbody tr th:only-of-type {\n        vertical-align: middle;\n    }\n\n    .dataframe tbody tr th {\n        vertical-align: top;\n    }\n\n    .dataframe thead th {\n        text-align: right;\n    }\n</style>\n<table border=\"1\" class=\"dataframe\">\n  <thead>\n    <tr style=\"text-align: right;\">\n      <th></th>\n      <th>Passanger_Name</th>\n      <th>Flying_month</th>\n      <th>Route</th>\n      <th>Rating</th>\n      <th>Review_title</th>\n      <th>Review_content</th>\n      <th>Traveller_type</th>\n      <th>Class</th>\n      <th>Class_temporal</th>\n      <th>Traveller_temporal</th>\n      <th>Flying_month_temporal</th>\n    </tr>\n  </thead>\n  <tbody>\n    <tr>\n      <th>7</th>\n      <td>Richard Hodges</td>\n      <td>London Heathrow to Kalamata</td>\n      <td>Economy Class</td>\n      <td>7.0</td>\n      <td>Economy class seating was truly dreadful</td>\n      <td>Travelled to Heathrow to Kalamata and return j...</td>\n      <td>Boeing 737</td>\n      <td>Couple Leisure</td>\n      <td>Economy Class</td>\n      <td>Couple Leisure</td>\n      <td>London Heathrow to Kalamata</td>\n    </tr>\n    <tr>\n      <th>19</th>\n      <td>Benjamin Stevens</td>\n      <td>Seattle to Edinburgh via Heathrow</td>\n      <td>Economy Class</td>\n      <td>1.0</td>\n      <td>customer service was horrendous</td>\n      <td>May 3, flew from Seattle to Heathrow then to E...</td>\n      <td>Boeing 777</td>\n      <td>Business</td>\n      <td>Economy Class</td>\n      <td>Business</td>\n      <td>Seattle to Edinburgh via Heathrow</td>\n    </tr>\n    <tr>\n      <th>35</th>\n      <td>Steve Bennett</td>\n      <td>London to Nice</td>\n      <td>Business Class</td>\n      <td>4.0</td>\n      <td>do not think the fare was worth the money</td>\n      <td>Paid a quick visit to Nice yesterday from Heat...</td>\n      <td>A319</td>\n      <td>Couple Leisure</td>\n      <td>Business Class</td>\n      <td>Couple Leisure</td>\n      <td>London to Nice</td>\n    </tr>\n    <tr>\n      <th>110</th>\n      <td>C Barton</td>\n      <td>London to Madrid</td>\n      <td>Economy Class</td>\n      <td>1.0</td>\n      <td>found the attitude appalling</td>\n      <td>My review relates to the appalling experiences...</td>\n      <td>A320</td>\n      <td>Solo Leisure</td>\n      <td>Economy Class</td>\n      <td>Solo Leisure</td>\n      <td>London to Madrid</td>\n    </tr>\n    <tr>\n      <th>130</th>\n      <td>C Bain</td>\n      <td>Atlanta to London</td>\n      <td>Economy Class</td>\n      <td>4.0</td>\n      <td>This flight was so disappointing</td>\n      <td>Flew ATL to LHR 8th Jan 2023. Was unlucky enou...</td>\n      <td>Boeing 777-200</td>\n      <td>Family Leisure</td>\n      <td>Economy Class</td>\n      <td>Family Leisure</td>\n      <td>Atlanta to London</td>\n    </tr>\n    <tr>\n      <th>...</th>\n      <td>...</td>\n      <td>...</td>\n      <td>...</td>\n      <td>...</td>\n      <td>...</td>\n      <td>...</td>\n      <td>...</td>\n      <td>...</td>\n      <td>...</td>\n      <td>...</td>\n      <td>...</td>\n    </tr>\n    <tr>\n      <th>3564</th>\n      <td>C Denson</td>\n      <td>NaN</td>\n      <td>NaN</td>\n      <td>10.0</td>\n      <td>British Airways customer review</td>\n      <td>Chicago O'Hare to London Heathrow on 2 May. ch...</td>\n      <td>Economy Class</td>\n      <td>yes</td>\n      <td>Economy Class</td>\n      <td>Unknown</td>\n      <td>NaN</td>\n    </tr>\n    <tr>\n      <th>3566</th>\n      <td>Iain Henderson</td>\n      <td>NaN</td>\n      <td>NaN</td>\n      <td>1.0</td>\n      <td>British Airways customer review</td>\n      <td>BA 059 London to Cape Town April 29 2014 econo...</td>\n      <td>Economy Class</td>\n      <td>no</td>\n      <td>Economy Class</td>\n      <td>Unknown</td>\n      <td>NaN</td>\n    </tr>\n    <tr>\n      <th>3569</th>\n      <td>Jack Hughes</td>\n      <td>NaN</td>\n      <td>NaN</td>\n      <td>8.0</td>\n      <td>British Airways customer review</td>\n      <td>Heathrow Marrakech. Had previously travelled o...</td>\n      <td>Economy Class</td>\n      <td>yes</td>\n      <td>Economy Class</td>\n      <td>Unknown</td>\n      <td>NaN</td>\n    </tr>\n    <tr>\n      <th>3570</th>\n      <td>D Nolan</td>\n      <td>NaN</td>\n      <td>NaN</td>\n      <td>5.0</td>\n      <td>British Airways customer review</td>\n      <td>Flew return in CW from LHR to BKK in August 20...</td>\n      <td>Business Class</td>\n      <td>yes</td>\n      <td>Business Class</td>\n      <td>Unknown</td>\n      <td>NaN</td>\n    </tr>\n    <tr>\n      <th>3579</th>\n      <td>Michael Dielissen</td>\n      <td>NaN</td>\n      <td>NaN</td>\n      <td>8.0</td>\n      <td>British Airways customer review</td>\n      <td>YYZ to LHR - July 2012 - I flew overnight in p...</td>\n      <td>Premium Economy</td>\n      <td>yes</td>\n      <td>Premium Economy</td>\n      <td>Unknown</td>\n      <td>NaN</td>\n    </tr>\n  </tbody>\n</table>\n<p>447 rows × 11 columns</p>\n</div>"
     },
     "execution_count": 1546,
     "metadata": {},
     "output_type": "execute_result"
    }
   ],
   "source": [
    "#Checking all the other columns, there are not Flying Month data in the other Columns. Except in Review Content, however the data is not uniform to be extracted.\n",
    "airline_data[(~airline_data['Flying_month_temporal'].str.contains('|'.join(['Jan-','Feb-','Mar-','Apr-','May-','Jun-','Jul-','Aug-','Sep-','Oct-','Nov-','Dec-']), na=False)) & (airline_data['Review_content'].str.contains('|'.join(['Jan','Feb','Mar','Apr','May','Jun','Jul','Aug','Sep','Oct','Nov','Dec']), na=False))]"
   ],
   "metadata": {
    "collapsed": false,
    "ExecuteTime": {
     "end_time": "2023-12-03T20:56:07.770540600Z",
     "start_time": "2023-12-03T20:56:05.387743100Z"
    }
   }
  },
  {
   "cell_type": "code",
   "execution_count": 1547,
   "outputs": [],
   "source": [
    "#We filter out all the values that contains a year format\n",
    "airline_data['Flying_month_temporal'][(~airline_data['Flying_month_temporal'].str.contains('|'.join(['Jan-','Feb-','Mar-','Apr-','May-','Jun-','Jul-','Aug-','Sep-','Oct-','Nov-','Dec-']), na=False))] = 'Unknown'\n",
    "airline_data['Flying_month_temporal'][airline_data['Flying_month_temporal'].isnull() == True] = 'Unknown'"
   ],
   "metadata": {
    "collapsed": false,
    "ExecuteTime": {
     "end_time": "2023-12-03T20:56:07.770540600Z",
     "start_time": "2023-12-03T20:56:05.439701800Z"
    }
   }
  },
  {
   "cell_type": "code",
   "execution_count": 1548,
   "outputs": [
    {
     "data": {
      "text/plain": "         Passanger_Name Flying_month                  Route  Rating  \\\n0            Paige Boet       Jun-23  New Orleans to London     1.0   \n1               S Layne       Mar-23        London to Amman     1.0   \n3           Joel Burman       Jun-23        Amman to London     4.0   \n5                M King       Jun-23   London to Washington     1.0   \n8        Carol Willmore       Jun-23     London to Funchal      1.0   \n...                 ...          ...                    ...     ...   \n2788           C Barkei       Jun-15             LHR to LUX     8.0   \n2794          Tom Moore           no                 May-15     1.0   \n2795    Michael Stanley       Jun-15             LHR to BKK     6.0   \n2798      Nazira Khatun       Jun-15       London to Turkey    10.0   \n2799  Nur Afiqah Rahmat       Jun-15    Abu Dhabi to Muscat     9.0   \n\n                                Review_title  \\\n0                The airline lost my luggage   \n1     fully refunded by our travel insurance   \n3                          WiFi didn't work    \n5                  Communication is terrible   \n8               flight failed at every level   \n...                                      ...   \n2788         British Airways customer review   \n2794         British Airways customer review   \n2795         British Airways customer review   \n2798         British Airways customer review   \n2799         British Airways customer review   \n\n                                         Review_content  Traveller_type  \\\n0     The airline lost my luggage and was absolutely...    Solo Leisure   \n1     We booked on the BA website, round trip flight...  Couple Leisure   \n3     You can buy sandwiches and crisps but don't ex...    Solo Leisure   \n5     Absolutely horrible airline. Communication is ...  Couple Leisure   \n8     This flight failed at every level. We were del...  Couple Leisure   \n...                                                 ...             ...   \n2788  Short hop from the empty terminal 1 at LHR to ...        Business   \n2794  Overall good experience. BA owns Vueling/Iberi...    Solo Leisure   \n2795  LHR to BKK June 13th 2015 Club World (Business...  Couple Leisure   \n2798  I flew out on the 8th June 2015 and all I can ...  Couple Leisure   \n2799  I fly with this airline almost every other wee...    Solo Leisure   \n\n                                        Class  Class_temporal  \\\n0                               Economy Class   Economy Class   \n1                              Business Class  Business Class   \n3                               Economy Class   Economy Class   \n5                               Economy Class   Economy Class   \n8                               Economy Class   Economy Class   \n...                                       ...             ...   \n2788                           Business Class  Business Class   \n2794  Los Angeles to London to Paris to Rome    Economy Class   \n2795                           Business Class  Business Class   \n2798                            Economy Class   Economy Class   \n2799                            Economy Class   Economy Class   \n\n     Traveller_temporal Flying_month_temporal  \n0          Solo Leisure                Jun-23  \n1        Couple Leisure                Mar-23  \n3          Solo Leisure                Jun-23  \n5        Couple Leisure                Jun-23  \n8        Couple Leisure                Jun-23  \n...                 ...                   ...  \n2788           Business                Jun-15  \n2794       Solo Leisure                May-15  \n2795     Couple Leisure                Jun-15  \n2798     Couple Leisure                Jun-15  \n2799       Solo Leisure                Jun-15  \n\n[955 rows x 11 columns]",
      "text/html": "<div>\n<style scoped>\n    .dataframe tbody tr th:only-of-type {\n        vertical-align: middle;\n    }\n\n    .dataframe tbody tr th {\n        vertical-align: top;\n    }\n\n    .dataframe thead th {\n        text-align: right;\n    }\n</style>\n<table border=\"1\" class=\"dataframe\">\n  <thead>\n    <tr style=\"text-align: right;\">\n      <th></th>\n      <th>Passanger_Name</th>\n      <th>Flying_month</th>\n      <th>Route</th>\n      <th>Rating</th>\n      <th>Review_title</th>\n      <th>Review_content</th>\n      <th>Traveller_type</th>\n      <th>Class</th>\n      <th>Class_temporal</th>\n      <th>Traveller_temporal</th>\n      <th>Flying_month_temporal</th>\n    </tr>\n  </thead>\n  <tbody>\n    <tr>\n      <th>0</th>\n      <td>Paige Boet</td>\n      <td>Jun-23</td>\n      <td>New Orleans to London</td>\n      <td>1.0</td>\n      <td>The airline lost my luggage</td>\n      <td>The airline lost my luggage and was absolutely...</td>\n      <td>Solo Leisure</td>\n      <td>Economy Class</td>\n      <td>Economy Class</td>\n      <td>Solo Leisure</td>\n      <td>Jun-23</td>\n    </tr>\n    <tr>\n      <th>1</th>\n      <td>S Layne</td>\n      <td>Mar-23</td>\n      <td>London to Amman</td>\n      <td>1.0</td>\n      <td>fully refunded by our travel insurance</td>\n      <td>We booked on the BA website, round trip flight...</td>\n      <td>Couple Leisure</td>\n      <td>Business Class</td>\n      <td>Business Class</td>\n      <td>Couple Leisure</td>\n      <td>Mar-23</td>\n    </tr>\n    <tr>\n      <th>3</th>\n      <td>Joel Burman</td>\n      <td>Jun-23</td>\n      <td>Amman to London</td>\n      <td>4.0</td>\n      <td>WiFi didn't work</td>\n      <td>You can buy sandwiches and crisps but don't ex...</td>\n      <td>Solo Leisure</td>\n      <td>Economy Class</td>\n      <td>Economy Class</td>\n      <td>Solo Leisure</td>\n      <td>Jun-23</td>\n    </tr>\n    <tr>\n      <th>5</th>\n      <td>M King</td>\n      <td>Jun-23</td>\n      <td>London to Washington</td>\n      <td>1.0</td>\n      <td>Communication is terrible</td>\n      <td>Absolutely horrible airline. Communication is ...</td>\n      <td>Couple Leisure</td>\n      <td>Economy Class</td>\n      <td>Economy Class</td>\n      <td>Couple Leisure</td>\n      <td>Jun-23</td>\n    </tr>\n    <tr>\n      <th>8</th>\n      <td>Carol Willmore</td>\n      <td>Jun-23</td>\n      <td>London to Funchal</td>\n      <td>1.0</td>\n      <td>flight failed at every level</td>\n      <td>This flight failed at every level. We were del...</td>\n      <td>Couple Leisure</td>\n      <td>Economy Class</td>\n      <td>Economy Class</td>\n      <td>Couple Leisure</td>\n      <td>Jun-23</td>\n    </tr>\n    <tr>\n      <th>...</th>\n      <td>...</td>\n      <td>...</td>\n      <td>...</td>\n      <td>...</td>\n      <td>...</td>\n      <td>...</td>\n      <td>...</td>\n      <td>...</td>\n      <td>...</td>\n      <td>...</td>\n      <td>...</td>\n    </tr>\n    <tr>\n      <th>2788</th>\n      <td>C Barkei</td>\n      <td>Jun-15</td>\n      <td>LHR to LUX</td>\n      <td>8.0</td>\n      <td>British Airways customer review</td>\n      <td>Short hop from the empty terminal 1 at LHR to ...</td>\n      <td>Business</td>\n      <td>Business Class</td>\n      <td>Business Class</td>\n      <td>Business</td>\n      <td>Jun-15</td>\n    </tr>\n    <tr>\n      <th>2794</th>\n      <td>Tom Moore</td>\n      <td>no</td>\n      <td>May-15</td>\n      <td>1.0</td>\n      <td>British Airways customer review</td>\n      <td>Overall good experience. BA owns Vueling/Iberi...</td>\n      <td>Solo Leisure</td>\n      <td>Los Angeles to London to Paris to Rome</td>\n      <td>Economy Class</td>\n      <td>Solo Leisure</td>\n      <td>May-15</td>\n    </tr>\n    <tr>\n      <th>2795</th>\n      <td>Michael Stanley</td>\n      <td>Jun-15</td>\n      <td>LHR to BKK</td>\n      <td>6.0</td>\n      <td>British Airways customer review</td>\n      <td>LHR to BKK June 13th 2015 Club World (Business...</td>\n      <td>Couple Leisure</td>\n      <td>Business Class</td>\n      <td>Business Class</td>\n      <td>Couple Leisure</td>\n      <td>Jun-15</td>\n    </tr>\n    <tr>\n      <th>2798</th>\n      <td>Nazira Khatun</td>\n      <td>Jun-15</td>\n      <td>London to Turkey</td>\n      <td>10.0</td>\n      <td>British Airways customer review</td>\n      <td>I flew out on the 8th June 2015 and all I can ...</td>\n      <td>Couple Leisure</td>\n      <td>Economy Class</td>\n      <td>Economy Class</td>\n      <td>Couple Leisure</td>\n      <td>Jun-15</td>\n    </tr>\n    <tr>\n      <th>2799</th>\n      <td>Nur Afiqah Rahmat</td>\n      <td>Jun-15</td>\n      <td>Abu Dhabi to Muscat</td>\n      <td>9.0</td>\n      <td>British Airways customer review</td>\n      <td>I fly with this airline almost every other wee...</td>\n      <td>Solo Leisure</td>\n      <td>Economy Class</td>\n      <td>Economy Class</td>\n      <td>Solo Leisure</td>\n      <td>Jun-15</td>\n    </tr>\n  </tbody>\n</table>\n<p>955 rows × 11 columns</p>\n</div>"
     },
     "execution_count": 1548,
     "metadata": {},
     "output_type": "execute_result"
    }
   ],
   "source": [
    "#Creating a subset with the Flying month that can be used to analysis\n",
    "airline_data_month = airline_data[(airline_data['Flying_month_temporal'].str.contains('|'.join(['Jan-','Feb-','Mar-','Apr-','May-','Jun-','Jul-','Aug-','Sep-','Oct-','Nov-','Dec-']), na=False))]\n",
    "airline_data_month"
   ],
   "metadata": {
    "collapsed": false,
    "ExecuteTime": {
     "end_time": "2023-12-03T20:56:07.770540600Z",
     "start_time": "2023-12-03T20:56:05.449098500Z"
    }
   }
  },
  {
   "cell_type": "code",
   "execution_count": 1549,
   "outputs": [],
   "source": [
    "#For visualization and answer a questions, splitting the Month to get the months\n",
    "airline_data_month['Month'] = airline_data_month['Flying_month_temporal'].str[0:3]\n",
    "airline_data_month['Month_num'] = airline_data_month['Month']"
   ],
   "metadata": {
    "collapsed": false,
    "ExecuteTime": {
     "end_time": "2023-12-03T20:56:07.770540600Z",
     "start_time": "2023-12-03T20:56:05.475431900Z"
    }
   }
  },
  {
   "cell_type": "code",
   "execution_count": 1550,
   "outputs": [],
   "source": [
    "#Updating the aprameter with the full month name\n",
    "airline_data_month['Month_num'] = airline_data_month['Month_num'].replace('Jan',1)\n",
    "airline_data_month['Month_num'] = airline_data_month['Month_num'].replace('Feb',2)\n",
    "airline_data_month['Month_num'] = airline_data_month['Month_num'].replace('Mar',3)\n",
    "airline_data_month['Month_num'] = airline_data_month['Month_num'].replace('Apr',4)\n",
    "airline_data_month['Month_num'] = airline_data_month['Month_num'].replace('May',5)\n",
    "airline_data_month['Month_num'] = airline_data_month['Month_num'].replace('Jun',6)\n",
    "airline_data_month['Month_num'] = airline_data_month['Month_num'].replace('Jul',7)\n",
    "airline_data_month['Month_num'] = airline_data_month['Month_num'].replace('Aug',8)\n",
    "airline_data_month['Month_num'] = airline_data_month['Month_num'].replace('Sep',9)\n",
    "airline_data_month['Month_num'] = airline_data_month['Month_num'].replace('Oct',10)\n",
    "airline_data_month['Month_num'] = airline_data_month['Month_num'].replace('Nov',11)\n",
    "airline_data_month['Month_num'] = airline_data_month['Month_num'].replace('Dec',12)"
   ],
   "metadata": {
    "collapsed": false,
    "ExecuteTime": {
     "end_time": "2023-12-03T20:56:07.770540600Z",
     "start_time": "2023-12-03T20:56:05.482058600Z"
    }
   }
  },
  {
   "cell_type": "code",
   "execution_count": 1551,
   "outputs": [
    {
     "data": {
      "text/plain": "        Passanger_Name Flying_month                             Route  Rating  \\\n1645        C Leventis       Jan-17   Montreal to Athens via Heathrow     1.0   \n128          Jozef Kis       Jan-23                 Gatwick to Dublin     1.0   \n1844          A Oldham       Jan-16                        LHR to IST     1.0   \n48     Michelle Morgan       Jan-23  Sweden to Los Angeles via London     1.0   \n1712        D Williams       Jan-17        Orlando to London Heathrow     1.0   \n...                ...          ...                               ...     ...   \n90    Martin McCormack       Dec-22    Dublin to Orlando via Heathrow     1.0   \n434          G Dimitar       Dec-20          Sofia to London Heathrow     1.0   \n2358        John Davey       Dec-15                        LHR to JNB     2.0   \n2368       James Cohen       Dec-15                New York to London     1.0   \n430             L Ward       Dec-20                 Gatwick to Cancun     4.0   \n\n                                          Review_title  \\\n1645                   never use British Airways again   \n128                   you should let me use the lounge   \n1844                                 absolute disgrace   \n48                            lack of customer service   \n1712            Will never touch British Airways again   \n...                                                ...   \n90                        one of the worst experiences   \n434   Do not recommend to anyone in Covid restrictions   \n2358                            a very poor experience   \n2368                            entirely unsympathetic   \n430                  I would need to call up to rebook   \n\n                                         Review_content  Traveller_type  \\\n1645  Verified Review   I am 73 years old. Was sched...    Solo Leisure   \n128   Being a silver flyer and booking a flight thro...    Solo Leisure   \n1844  Verified Review   Absolute disgrace. They canc...    Solo Leisure   \n48    I travelled with British Airways from Sweden t...  Couple Leisure   \n1712  Verified Review   Will never touch British Air...    Solo Leisure   \n...                                                 ...             ...   \n90    This was literally one of the worst experience...    Solo Leisure   \n434   4 cancellations for 1 month! Applying vouchers...    Solo Leisure   \n2358  London to Johannesburg return with British Air...  Family Leisure   \n2368  I booked a non-refundable round trip ticket, N...        Business   \n430   Ok flight apart from they cancelled the majori...    Solo Leisure   \n\n              Class Class_temporal Traveller_temporal Flying_month_temporal  \\\n1645  Economy Class  Economy Class       Solo Leisure                Jan-17   \n128   Economy Class  Economy Class       Solo Leisure                Jan-23   \n1844  Economy Class  Economy Class       Solo Leisure                Jan-16   \n48    Economy Class  Economy Class     Couple Leisure                Jan-23   \n1712  Economy Class  Economy Class       Solo Leisure                Jan-17   \n...             ...            ...                ...                   ...   \n90    Economy Class  Economy Class       Solo Leisure                Dec-22   \n434   Economy Class  Economy Class       Solo Leisure                Dec-20   \n2358  Economy Class  Economy Class     Family Leisure                Dec-15   \n2368  Economy Class  Economy Class           Business                Dec-15   \n430   Economy Class  Economy Class       Solo Leisure                Dec-20   \n\n     Month  Month_num  \n1645   Jan          1  \n128    Jan          1  \n1844   Jan          1  \n48     Jan          1  \n1712   Jan          1  \n...    ...        ...  \n90     Dec         12  \n434    Dec         12  \n2358   Dec         12  \n2368   Dec         12  \n430    Dec         12  \n\n[955 rows x 13 columns]",
      "text/html": "<div>\n<style scoped>\n    .dataframe tbody tr th:only-of-type {\n        vertical-align: middle;\n    }\n\n    .dataframe tbody tr th {\n        vertical-align: top;\n    }\n\n    .dataframe thead th {\n        text-align: right;\n    }\n</style>\n<table border=\"1\" class=\"dataframe\">\n  <thead>\n    <tr style=\"text-align: right;\">\n      <th></th>\n      <th>Passanger_Name</th>\n      <th>Flying_month</th>\n      <th>Route</th>\n      <th>Rating</th>\n      <th>Review_title</th>\n      <th>Review_content</th>\n      <th>Traveller_type</th>\n      <th>Class</th>\n      <th>Class_temporal</th>\n      <th>Traveller_temporal</th>\n      <th>Flying_month_temporal</th>\n      <th>Month</th>\n      <th>Month_num</th>\n    </tr>\n  </thead>\n  <tbody>\n    <tr>\n      <th>1645</th>\n      <td>C Leventis</td>\n      <td>Jan-17</td>\n      <td>Montreal to Athens via Heathrow</td>\n      <td>1.0</td>\n      <td>never use British Airways again</td>\n      <td>Verified Review   I am 73 years old. Was sched...</td>\n      <td>Solo Leisure</td>\n      <td>Economy Class</td>\n      <td>Economy Class</td>\n      <td>Solo Leisure</td>\n      <td>Jan-17</td>\n      <td>Jan</td>\n      <td>1</td>\n    </tr>\n    <tr>\n      <th>128</th>\n      <td>Jozef Kis</td>\n      <td>Jan-23</td>\n      <td>Gatwick to Dublin</td>\n      <td>1.0</td>\n      <td>you should let me use the lounge</td>\n      <td>Being a silver flyer and booking a flight thro...</td>\n      <td>Solo Leisure</td>\n      <td>Economy Class</td>\n      <td>Economy Class</td>\n      <td>Solo Leisure</td>\n      <td>Jan-23</td>\n      <td>Jan</td>\n      <td>1</td>\n    </tr>\n    <tr>\n      <th>1844</th>\n      <td>A Oldham</td>\n      <td>Jan-16</td>\n      <td>LHR to IST</td>\n      <td>1.0</td>\n      <td>absolute disgrace</td>\n      <td>Verified Review   Absolute disgrace. They canc...</td>\n      <td>Solo Leisure</td>\n      <td>Economy Class</td>\n      <td>Economy Class</td>\n      <td>Solo Leisure</td>\n      <td>Jan-16</td>\n      <td>Jan</td>\n      <td>1</td>\n    </tr>\n    <tr>\n      <th>48</th>\n      <td>Michelle Morgan</td>\n      <td>Jan-23</td>\n      <td>Sweden to Los Angeles via London</td>\n      <td>1.0</td>\n      <td>lack of customer service</td>\n      <td>I travelled with British Airways from Sweden t...</td>\n      <td>Couple Leisure</td>\n      <td>Economy Class</td>\n      <td>Economy Class</td>\n      <td>Couple Leisure</td>\n      <td>Jan-23</td>\n      <td>Jan</td>\n      <td>1</td>\n    </tr>\n    <tr>\n      <th>1712</th>\n      <td>D Williams</td>\n      <td>Jan-17</td>\n      <td>Orlando to London Heathrow</td>\n      <td>1.0</td>\n      <td>Will never touch British Airways again</td>\n      <td>Verified Review   Will never touch British Air...</td>\n      <td>Solo Leisure</td>\n      <td>Economy Class</td>\n      <td>Economy Class</td>\n      <td>Solo Leisure</td>\n      <td>Jan-17</td>\n      <td>Jan</td>\n      <td>1</td>\n    </tr>\n    <tr>\n      <th>...</th>\n      <td>...</td>\n      <td>...</td>\n      <td>...</td>\n      <td>...</td>\n      <td>...</td>\n      <td>...</td>\n      <td>...</td>\n      <td>...</td>\n      <td>...</td>\n      <td>...</td>\n      <td>...</td>\n      <td>...</td>\n      <td>...</td>\n    </tr>\n    <tr>\n      <th>90</th>\n      <td>Martin McCormack</td>\n      <td>Dec-22</td>\n      <td>Dublin to Orlando via Heathrow</td>\n      <td>1.0</td>\n      <td>one of the worst experiences</td>\n      <td>This was literally one of the worst experience...</td>\n      <td>Solo Leisure</td>\n      <td>Economy Class</td>\n      <td>Economy Class</td>\n      <td>Solo Leisure</td>\n      <td>Dec-22</td>\n      <td>Dec</td>\n      <td>12</td>\n    </tr>\n    <tr>\n      <th>434</th>\n      <td>G Dimitar</td>\n      <td>Dec-20</td>\n      <td>Sofia to London Heathrow</td>\n      <td>1.0</td>\n      <td>Do not recommend to anyone in Covid restrictions</td>\n      <td>4 cancellations for 1 month! Applying vouchers...</td>\n      <td>Solo Leisure</td>\n      <td>Economy Class</td>\n      <td>Economy Class</td>\n      <td>Solo Leisure</td>\n      <td>Dec-20</td>\n      <td>Dec</td>\n      <td>12</td>\n    </tr>\n    <tr>\n      <th>2358</th>\n      <td>John Davey</td>\n      <td>Dec-15</td>\n      <td>LHR to JNB</td>\n      <td>2.0</td>\n      <td>a very poor experience</td>\n      <td>London to Johannesburg return with British Air...</td>\n      <td>Family Leisure</td>\n      <td>Economy Class</td>\n      <td>Economy Class</td>\n      <td>Family Leisure</td>\n      <td>Dec-15</td>\n      <td>Dec</td>\n      <td>12</td>\n    </tr>\n    <tr>\n      <th>2368</th>\n      <td>James Cohen</td>\n      <td>Dec-15</td>\n      <td>New York to London</td>\n      <td>1.0</td>\n      <td>entirely unsympathetic</td>\n      <td>I booked a non-refundable round trip ticket, N...</td>\n      <td>Business</td>\n      <td>Economy Class</td>\n      <td>Economy Class</td>\n      <td>Business</td>\n      <td>Dec-15</td>\n      <td>Dec</td>\n      <td>12</td>\n    </tr>\n    <tr>\n      <th>430</th>\n      <td>L Ward</td>\n      <td>Dec-20</td>\n      <td>Gatwick to Cancun</td>\n      <td>4.0</td>\n      <td>I would need to call up to rebook</td>\n      <td>Ok flight apart from they cancelled the majori...</td>\n      <td>Solo Leisure</td>\n      <td>Economy Class</td>\n      <td>Economy Class</td>\n      <td>Solo Leisure</td>\n      <td>Dec-20</td>\n      <td>Dec</td>\n      <td>12</td>\n    </tr>\n  </tbody>\n</table>\n<p>955 rows × 13 columns</p>\n</div>"
     },
     "execution_count": 1551,
     "metadata": {},
     "output_type": "execute_result"
    }
   ],
   "source": [
    "airline_data_month = airline_data_month.sort_values(by='Month_num', ascending = True)\n",
    "airline_data_month"
   ],
   "metadata": {
    "collapsed": false,
    "ExecuteTime": {
     "end_time": "2023-12-03T20:56:07.786161300Z",
     "start_time": "2023-12-03T20:56:05.499326200Z"
    }
   }
  },
  {
   "cell_type": "markdown",
   "source": [
    "## 3.4 Cleaning: Route"
   ],
   "metadata": {
    "collapsed": false
   }
  },
  {
   "cell_type": "code",
   "execution_count": 1552,
   "outputs": [
    {
     "data": {
      "text/plain": "Route\n Bridgetown to Gatwick        1\n London Heathrow to Madrid    1\nABV to LHR                    1\nABZ to SFO via LHR            1\nACC to LHR                    1\n                             ..\nZagreb to London              1\nZagreb to London Heathrow     1\nZurich to London              5\nZurich to London Heathrow     2\nyes                           1\nName: Route, Length: 744, dtype: int64"
     },
     "execution_count": 1552,
     "metadata": {},
     "output_type": "execute_result"
    }
   ],
   "source": [
    "airline_data.groupby('Route')['Route'].count()"
   ],
   "metadata": {
    "collapsed": false,
    "ExecuteTime": {
     "end_time": "2023-12-03T20:56:07.786161300Z",
     "start_time": "2023-12-03T20:56:05.522012500Z"
    }
   }
  },
  {
   "cell_type": "code",
   "execution_count": 1553,
   "outputs": [],
   "source": [
    "#Create New Column to modify as the column could have data usefull for others\n",
    "airline_data['Route_temporal'] = airline_data['Route']"
   ],
   "metadata": {
    "collapsed": false,
    "ExecuteTime": {
     "end_time": "2023-12-03T20:56:07.786161300Z",
     "start_time": "2023-12-03T20:56:05.532935300Z"
    }
   }
  },
  {
   "cell_type": "code",
   "execution_count": 1554,
   "outputs": [],
   "source": [
    "#Digging into the data, if we filter route in Class values, we findin the parameter 'Flying month', there are data of Routes in 1,858 rows\n",
    "Route_in_flying = airline_data[(airline_data['Route_temporal'] == 'Premium Economy') | (airline_data['Route_temporal'] == 'Business Class') | (\n",
    "                airline_data['Route_temporal'] == 'First Class') | (airline_data['Route_temporal'] == 'Economy Class')]['Flying_month']"
   ],
   "metadata": {
    "collapsed": false,
    "ExecuteTime": {
     "end_time": "2023-12-03T20:56:07.786161300Z",
     "start_time": "2023-12-03T20:56:05.545026600Z"
    }
   }
  },
  {
   "cell_type": "code",
   "execution_count": 1555,
   "outputs": [],
   "source": [
    "#Paste Data in the new Class Column, filtering by rows without relevant information for Class\n",
    "airline_data['Route_temporal'][(airline_data['Route_temporal'] == 'Premium Economy') | (airline_data['Route_temporal'] == 'Business Class') | (\n",
    "                airline_data['Route_temporal'] == 'First Class') | (airline_data['Route_temporal'] == 'Economy Class')] = Route_in_flying"
   ],
   "metadata": {
    "collapsed": false,
    "ExecuteTime": {
     "end_time": "2023-12-03T20:56:07.786161300Z",
     "start_time": "2023-12-03T20:56:05.560194200Z"
    }
   }
  },
  {
   "cell_type": "code",
   "execution_count": 1556,
   "outputs": [],
   "source": [
    "#Paste the values in Route temporal filtered from Class\n",
    "airline_data['Route_temporal'][(~airline_data['Route_temporal'].str.contains('|'.join(['to','London','LHR','Edinburgh']), na=False)) & (airline_data['Class'] != 'Premium Economy') & (airline_data['Class'] != 'Business Class') & (airline_data['Class'] != 'First Class') & (airline_data['Class'] != 'Economy Class') & (airline_data['Class'] != 'no') & (airline_data['Class'] != 'yes') & (airline_data['Class'] != 'Family Leisure') & (airline_data['Class'].isnull() == False)] = airline_data[(~airline_data['Route_temporal'].str.contains('|'.join(['to','London','LHR','Edinburgh']), na=False)) & (airline_data['Class'] != 'Premium Economy') & (airline_data['Class'] != 'Business Class') & (airline_data['Class'] != 'First Class') & (airline_data['Class'] != 'Economy Class') & (airline_data['Class'] != 'no') & (airline_data['Class'] != 'yes') & (airline_data['Class'] != 'Family Leisure') & (airline_data['Class'].isnull() == False)]['Class']"
   ],
   "metadata": {
    "collapsed": false,
    "ExecuteTime": {
     "end_time": "2023-12-03T20:56:07.786161300Z",
     "start_time": "2023-12-03T20:56:05.575093600Z"
    }
   }
  },
  {
   "cell_type": "code",
   "execution_count": 1557,
   "outputs": [
    {
     "data": {
      "text/plain": "         Passanger_Name Flying_month   Route  Rating  \\\n42       Nicholas Felty           no  May-23     1.0   \n234          Paul Mayer           no  Jun-22     1.0   \n419   barbara ciereszko           no  Jul-21     1.0   \n2552       Steve Purkis           no  Feb-15     1.0   \n2567     Travis Rodgers           no  Sep-15     5.0   \n...                 ...          ...     ...     ...   \n3575           W Benson          NaN     NaN     4.0   \n3576           S Luqman          NaN     NaN     4.0   \n3577            D Smith          NaN     NaN     4.0   \n3578           W Benson          NaN     NaN     6.0   \n3579  Michael Dielissen          NaN     NaN     8.0   \n\n                           Review_title  \\\n42        I had to reschedule my flight   \n234    do not allow free seat selection   \n419                no refund issued yet   \n2552  Fawlty Towers of customer service   \n2567         seats were extremely small   \n...                                 ...   \n3575    British Airways customer review   \n3576    British Airways customer review   \n3577    British Airways customer review   \n3578    British Airways customer review   \n3579    British Airways customer review   \n\n                                         Review_content   Traveller_type  \\\n42    I booked business class tickets for my fiancé ...   Couple Leisure   \n234   Second time getting poor service from BA. 1st,...   Family Leisure   \n419   Booked flight six months before travel, then m...   Family Leisure   \n2552  My issue is the very poor British Airways cust...   Family Leisure   \n2567  The British Airways seats were extremely small...   Couple Leisure   \n...                                                 ...              ...   \n3575  LHR-HKG on Boeing 747 - 23/08/12. Much has bee...    Economy Class   \n3576  Just got back from Bridgetown Barbados flying ...    Economy Class   \n3577  LHR-JFK-LAX-LHR. Check in was ok apart from be...    Economy Class   \n3578  HKG-LHR in New Club World on Boeing 777-300 - ...   Business Class   \n3579  YYZ to LHR - July 2012 - I flew overnight in p...  Premium Economy   \n\n               Class   Class_temporal Traveller_temporal  \\\n42    Business Class   Business Class     Couple Leisure   \n234   Business Class   Business Class     Family Leisure   \n419    Economy Class    Economy Class     Family Leisure   \n2552   Economy Class    Economy Class     Family Leisure   \n2567   Economy Class    Economy Class     Couple Leisure   \n...              ...              ...                ...   \n3575              no    Economy Class            Unknown   \n3576              no    Economy Class            Unknown   \n3577              no    Economy Class            Unknown   \n3578             yes   Business Class            Unknown   \n3579             yes  Premium Economy            Unknown   \n\n     Flying_month_temporal Route_temporal  \n42                  May-23         May-23  \n234                 Jun-22         Jun-22  \n419                 Jul-21         Jul-21  \n2552                Feb-15         Feb-15  \n2567                Sep-15         Sep-15  \n...                    ...            ...  \n3575               Unknown            NaN  \n3576               Unknown            NaN  \n3577               Unknown            NaN  \n3578               Unknown            NaN  \n3579               Unknown            NaN  \n\n[771 rows x 12 columns]",
      "text/html": "<div>\n<style scoped>\n    .dataframe tbody tr th:only-of-type {\n        vertical-align: middle;\n    }\n\n    .dataframe tbody tr th {\n        vertical-align: top;\n    }\n\n    .dataframe thead th {\n        text-align: right;\n    }\n</style>\n<table border=\"1\" class=\"dataframe\">\n  <thead>\n    <tr style=\"text-align: right;\">\n      <th></th>\n      <th>Passanger_Name</th>\n      <th>Flying_month</th>\n      <th>Route</th>\n      <th>Rating</th>\n      <th>Review_title</th>\n      <th>Review_content</th>\n      <th>Traveller_type</th>\n      <th>Class</th>\n      <th>Class_temporal</th>\n      <th>Traveller_temporal</th>\n      <th>Flying_month_temporal</th>\n      <th>Route_temporal</th>\n    </tr>\n  </thead>\n  <tbody>\n    <tr>\n      <th>42</th>\n      <td>Nicholas Felty</td>\n      <td>no</td>\n      <td>May-23</td>\n      <td>1.0</td>\n      <td>I had to reschedule my flight</td>\n      <td>I booked business class tickets for my fiancé ...</td>\n      <td>Couple Leisure</td>\n      <td>Business Class</td>\n      <td>Business Class</td>\n      <td>Couple Leisure</td>\n      <td>May-23</td>\n      <td>May-23</td>\n    </tr>\n    <tr>\n      <th>234</th>\n      <td>Paul Mayer</td>\n      <td>no</td>\n      <td>Jun-22</td>\n      <td>1.0</td>\n      <td>do not allow free seat selection</td>\n      <td>Second time getting poor service from BA. 1st,...</td>\n      <td>Family Leisure</td>\n      <td>Business Class</td>\n      <td>Business Class</td>\n      <td>Family Leisure</td>\n      <td>Jun-22</td>\n      <td>Jun-22</td>\n    </tr>\n    <tr>\n      <th>419</th>\n      <td>barbara ciereszko</td>\n      <td>no</td>\n      <td>Jul-21</td>\n      <td>1.0</td>\n      <td>no refund issued yet</td>\n      <td>Booked flight six months before travel, then m...</td>\n      <td>Family Leisure</td>\n      <td>Economy Class</td>\n      <td>Economy Class</td>\n      <td>Family Leisure</td>\n      <td>Jul-21</td>\n      <td>Jul-21</td>\n    </tr>\n    <tr>\n      <th>2552</th>\n      <td>Steve Purkis</td>\n      <td>no</td>\n      <td>Feb-15</td>\n      <td>1.0</td>\n      <td>Fawlty Towers of customer service</td>\n      <td>My issue is the very poor British Airways cust...</td>\n      <td>Family Leisure</td>\n      <td>Economy Class</td>\n      <td>Economy Class</td>\n      <td>Family Leisure</td>\n      <td>Feb-15</td>\n      <td>Feb-15</td>\n    </tr>\n    <tr>\n      <th>2567</th>\n      <td>Travis Rodgers</td>\n      <td>no</td>\n      <td>Sep-15</td>\n      <td>5.0</td>\n      <td>seats were extremely small</td>\n      <td>The British Airways seats were extremely small...</td>\n      <td>Couple Leisure</td>\n      <td>Economy Class</td>\n      <td>Economy Class</td>\n      <td>Couple Leisure</td>\n      <td>Sep-15</td>\n      <td>Sep-15</td>\n    </tr>\n    <tr>\n      <th>...</th>\n      <td>...</td>\n      <td>...</td>\n      <td>...</td>\n      <td>...</td>\n      <td>...</td>\n      <td>...</td>\n      <td>...</td>\n      <td>...</td>\n      <td>...</td>\n      <td>...</td>\n      <td>...</td>\n      <td>...</td>\n    </tr>\n    <tr>\n      <th>3575</th>\n      <td>W Benson</td>\n      <td>NaN</td>\n      <td>NaN</td>\n      <td>4.0</td>\n      <td>British Airways customer review</td>\n      <td>LHR-HKG on Boeing 747 - 23/08/12. Much has bee...</td>\n      <td>Economy Class</td>\n      <td>no</td>\n      <td>Economy Class</td>\n      <td>Unknown</td>\n      <td>Unknown</td>\n      <td>NaN</td>\n    </tr>\n    <tr>\n      <th>3576</th>\n      <td>S Luqman</td>\n      <td>NaN</td>\n      <td>NaN</td>\n      <td>4.0</td>\n      <td>British Airways customer review</td>\n      <td>Just got back from Bridgetown Barbados flying ...</td>\n      <td>Economy Class</td>\n      <td>no</td>\n      <td>Economy Class</td>\n      <td>Unknown</td>\n      <td>Unknown</td>\n      <td>NaN</td>\n    </tr>\n    <tr>\n      <th>3577</th>\n      <td>D Smith</td>\n      <td>NaN</td>\n      <td>NaN</td>\n      <td>4.0</td>\n      <td>British Airways customer review</td>\n      <td>LHR-JFK-LAX-LHR. Check in was ok apart from be...</td>\n      <td>Economy Class</td>\n      <td>no</td>\n      <td>Economy Class</td>\n      <td>Unknown</td>\n      <td>Unknown</td>\n      <td>NaN</td>\n    </tr>\n    <tr>\n      <th>3578</th>\n      <td>W Benson</td>\n      <td>NaN</td>\n      <td>NaN</td>\n      <td>6.0</td>\n      <td>British Airways customer review</td>\n      <td>HKG-LHR in New Club World on Boeing 777-300 - ...</td>\n      <td>Business Class</td>\n      <td>yes</td>\n      <td>Business Class</td>\n      <td>Unknown</td>\n      <td>Unknown</td>\n      <td>NaN</td>\n    </tr>\n    <tr>\n      <th>3579</th>\n      <td>Michael Dielissen</td>\n      <td>NaN</td>\n      <td>NaN</td>\n      <td>8.0</td>\n      <td>British Airways customer review</td>\n      <td>YYZ to LHR - July 2012 - I flew overnight in p...</td>\n      <td>Premium Economy</td>\n      <td>yes</td>\n      <td>Premium Economy</td>\n      <td>Unknown</td>\n      <td>Unknown</td>\n      <td>NaN</td>\n    </tr>\n  </tbody>\n</table>\n<p>771 rows × 12 columns</p>\n</div>"
     },
     "execution_count": 1557,
     "metadata": {},
     "output_type": "execute_result"
    }
   ],
   "source": [
    "airline_data[(~airline_data['Route_temporal'].str.contains('|'.join(['to','London','LHR','Edinburgh']), na=False))]"
   ],
   "metadata": {
    "collapsed": false,
    "ExecuteTime": {
     "end_time": "2023-12-03T20:56:07.786161300Z",
     "start_time": "2023-12-03T20:56:05.601544900Z"
    }
   }
  },
  {
   "cell_type": "code",
   "execution_count": 1558,
   "outputs": [],
   "source": [
    "route_in_review = ['Heathrow to Tokyo','HER-LGW','Heathrow to San Francisco','Heathrow to Athens','Tampa from Gatwick','Punta Cana - Gatwick','LHR-PEK','EWR to LHR','LGW-PUJ-LGW','Bangkok to London Heathrow','ZRH-LHR','LHR-ATL-LHR','JNB-LHR','LGW-HER','Gatwick to Florida','Gatwick-Naples','Tampa - Gatwick','LGW-CUN-LGW','LGW-RAK-LGW','BLQ-LGW','YYZ-LHR-BRU','LGW-AGP','Madrid-London','LHR to Istanbul','BRU-LHR-YYZ','LAX-LHR-LAX','LHR to CPT','CPT-LHR-MAD','MAN-LHR-YYZ','BRU-LHR-LAX','LGW-MCO-LGW','LHR-EZE','Pisa-LGW','Heathrow to Istanbul','London to Seattle','Manchester to JFK','Gatwick to Barbados','IST-LHR','LCY-ZHR','SAT-DFW-LHR-BRU','LGW-Pisa','LHR-MAD','LHR-SYD-MAD','LHR-SFO-LHR','Heathrow to Bilbao','NCL-LHR','Gatwick to Kingston','Hong Kong to London','LHR-Sidney','LHR-GVA','Sydney-LHR','LHR-BKK','LHR-AMS-LHR','LHR-PHL','LHR to SYD','LHR to Tokyo','Heathrow to Bologna','DEL-LHR','Heathrow to Rome','Delhi to Heathrow','Seattle USA - Heathrow','LGW to LAS','LHR-FRA','MAN-LHR-ATL','MIA-LHR','Bangkok from London','LHR-YVR','LHR Philadelphia','Shanghai to London','Warsaw to Heathrow','LGW-JER-LGW','VIE-LHR','LHR-IAD-LHR','LHR-PHL','DEL-LHR-HAM','GRU-LHR','GVA-LGW-GVA','London to Budapest','LHR-PISA-LHR','LGW-TFS-LGW','Warsaw to Heathrow','LHR-YVR','LGW-JER-LGW','London Heathrow to Dubai','VIE-LHR','LHR-IAD-LHR','LHR-DEL','BRU-EWR','LHR-SIN','LHR-PHL','LHR-LAX','YYZ-DXB','LHR to Frankfurt','LHR to YVR','LHR-Washington','SFO to Milan','IAD-LHR-IAS','Johannesburg to London','Heathrow to Boston','Heathrow to Boston','Heathrow to Washington','LHR-CDG','LAX-LHR','LHR-JFK','Sydney to Singapore','LHR-Zurich','JHB to LHR','LHR-Zurich','LHR-HGK','LHR-MIA','MIA-LHR','MAD-LHR','LGW-ACF','DEN-LHR','NCL-LHR','BKK-LHR','LHR-SIN','DUB-LCY','CPT-JNB','LGW to MCO','SFO-LHR','LGW-MLA','LGW-CUN','LGW-Barcelona','LHR-HKG','Miami to Brussels','LHR to Denver Colorado','MAD-SCL','Manchester to LHR','Los Angeles - Heathrow','LIS-LHR','LGW to TFS','LHR-Prague','HAM-LHR','SAN-MUC','Austin to London','LHR-SFO','London-Prague','TPA - LGW','VIE-LHR','LHR to LAX','Phoenix to London','LHR to IST','LHR-HEL','BGI-LGW','LHR to Seattle','IAH-LHR','YVR-LHR','LHR-BGO','LCA-LHR','London Coty to Florence','NBO-LHR','AMS-LHR','LHR to DXB','MCT to LHR','LHR-ZHR','Kingston to London','LHR-JNB','LGW to Cancun','LGW-ACE','BRU-Toronto','LGW to TFS','LHR to PHX','LHR to Las Vegas','Gatwick to Marrakech','Toronto to London','GIG-LHR','LHR-DEL','IAD-LHR','London to Calgary','OSL-LHR','LGW to Catania','Lucia to London','Aberdeen-Heathrow','LGW to CMB','LHR-MXP','LHR-NCL','LGW to SZG','VIE to LHR','Singapore-London','LHR-FCO','Rome to London Gatwick','LHR-Hannover Germany','LGW to Alicante','Gatwick-Colombia','LHR-NCL','BHD-LHR','LHR-SIS','LHR-SIN','LHR-BUD','Madrid-London','LHR-EWR','LHR-BOS','LHR - IST','LHR-MCT','Rome to LHR','London to Doha','LHR to Muscat','LHR-YYZ','Bari to Gatwick','DXB-LHR','LGW-TFS','LHR-HKK','LHR - Houston','Heathrow to Newark','Porto-LHR','LHR-CPH','LHR-CDG','DUS-LHR','Edinburgh-Gatwick','LHR-BSL','DME-LHR','ZRH to SFO','LAX to ZHR','GOT-LHR','LHR-FRA','LHR to Mumbai','Paris - London','Montreal - LHR','LGW to AMS','LHR-ATH','LHR to BKK','Dublin to Sydney','MCT-LHR','Heathrow - Johannesburg','Gatwick-Venice']"
   ],
   "metadata": {
    "collapsed": false,
    "ExecuteTime": {
     "end_time": "2023-12-03T20:56:07.786161300Z",
     "start_time": "2023-12-03T20:56:05.620526900Z"
    }
   }
  },
  {
   "cell_type": "code",
   "execution_count": 1559,
   "outputs": [
    {
     "data": {
      "text/plain": "       Passanger_Name Flying_month Route  Rating  \\\n2820          R Vines          NaN   NaN     3.0   \n2821      David Ellis          NaN   NaN     2.0   \n2824          D Evans          NaN   NaN     4.0   \n2825        Sean Kyte          NaN   NaN     7.0   \n2826     Peter Gordon          NaN   NaN     8.0   \n...               ...          ...   ...     ...   \n3563         C Thomas          NaN   NaN     6.0   \n3570          D Nolan          NaN   NaN     5.0   \n3573  Bruce Bettridge          NaN   NaN     4.0   \n3575         W Benson          NaN   NaN     4.0   \n3577          D Smith          NaN   NaN     4.0   \n\n                         Review_title  \\\n2820  British Airways customer review   \n2821  British Airways customer review   \n2824  British Airways customer review   \n2825  British Airways customer review   \n2826  British Airways customer review   \n...                               ...   \n3563  British Airways customer review   \n3570  British Airways customer review   \n3573  British Airways customer review   \n3575  British Airways customer review   \n3577  British Airways customer review   \n\n                                         Review_content   Traveller_type  \\\n2820  I flew from Heathrow to Tokyo Haneda in First....      First Class   \n2821  HER-LGW. Our return flight confirmed our view ...   Business Class   \n2824  Flew from Heathrow to San Francisco on May 1st...  Premium Economy   \n2825  Flew Eurotraveller Heathrow to Athens and back...    Economy Class   \n2826  LHR-YYZ in World Traveller Plus (upgrade) in a...  Premium Economy   \n...                                                 ...              ...   \n3563  I'm not normally one to whine but here goes. L...    Economy Class   \n3570  Flew return in CW from LHR to BKK in August 20...   Business Class   \n3573  Business LHR to BKK. 747-400. First try back w...   Business Class   \n3575  LHR-HKG on Boeing 747 - 23/08/12. Much has bee...    Economy Class   \n3577  LHR-JFK-LAX-LHR. Check in was ok apart from be...    Economy Class   \n\n     Class   Class_temporal Traveller_temporal Flying_month_temporal  \\\n2820   yes      First Class            Unknown               Unknown   \n2821    no   Business Class            Unknown               Unknown   \n2824    no  Premium Economy            Unknown               Unknown   \n2825   yes    Economy Class            Unknown               Unknown   \n2826   yes  Premium Economy            Unknown               Unknown   \n...    ...              ...                ...                   ...   \n3563   yes    Economy Class            Unknown               Unknown   \n3570   yes   Business Class            Unknown               Unknown   \n3573    no   Business Class            Unknown               Unknown   \n3575    no    Economy Class            Unknown               Unknown   \n3577    no    Economy Class            Unknown               Unknown   \n\n     Route_temporal  \n2820            NaN  \n2821            NaN  \n2824            NaN  \n2825            NaN  \n2826            NaN  \n...             ...  \n3563            NaN  \n3570            NaN  \n3573            NaN  \n3575            NaN  \n3577            NaN  \n\n[349 rows x 12 columns]",
      "text/html": "<div>\n<style scoped>\n    .dataframe tbody tr th:only-of-type {\n        vertical-align: middle;\n    }\n\n    .dataframe tbody tr th {\n        vertical-align: top;\n    }\n\n    .dataframe thead th {\n        text-align: right;\n    }\n</style>\n<table border=\"1\" class=\"dataframe\">\n  <thead>\n    <tr style=\"text-align: right;\">\n      <th></th>\n      <th>Passanger_Name</th>\n      <th>Flying_month</th>\n      <th>Route</th>\n      <th>Rating</th>\n      <th>Review_title</th>\n      <th>Review_content</th>\n      <th>Traveller_type</th>\n      <th>Class</th>\n      <th>Class_temporal</th>\n      <th>Traveller_temporal</th>\n      <th>Flying_month_temporal</th>\n      <th>Route_temporal</th>\n    </tr>\n  </thead>\n  <tbody>\n    <tr>\n      <th>2820</th>\n      <td>R Vines</td>\n      <td>NaN</td>\n      <td>NaN</td>\n      <td>3.0</td>\n      <td>British Airways customer review</td>\n      <td>I flew from Heathrow to Tokyo Haneda in First....</td>\n      <td>First Class</td>\n      <td>yes</td>\n      <td>First Class</td>\n      <td>Unknown</td>\n      <td>Unknown</td>\n      <td>NaN</td>\n    </tr>\n    <tr>\n      <th>2821</th>\n      <td>David Ellis</td>\n      <td>NaN</td>\n      <td>NaN</td>\n      <td>2.0</td>\n      <td>British Airways customer review</td>\n      <td>HER-LGW. Our return flight confirmed our view ...</td>\n      <td>Business Class</td>\n      <td>no</td>\n      <td>Business Class</td>\n      <td>Unknown</td>\n      <td>Unknown</td>\n      <td>NaN</td>\n    </tr>\n    <tr>\n      <th>2824</th>\n      <td>D Evans</td>\n      <td>NaN</td>\n      <td>NaN</td>\n      <td>4.0</td>\n      <td>British Airways customer review</td>\n      <td>Flew from Heathrow to San Francisco on May 1st...</td>\n      <td>Premium Economy</td>\n      <td>no</td>\n      <td>Premium Economy</td>\n      <td>Unknown</td>\n      <td>Unknown</td>\n      <td>NaN</td>\n    </tr>\n    <tr>\n      <th>2825</th>\n      <td>Sean Kyte</td>\n      <td>NaN</td>\n      <td>NaN</td>\n      <td>7.0</td>\n      <td>British Airways customer review</td>\n      <td>Flew Eurotraveller Heathrow to Athens and back...</td>\n      <td>Economy Class</td>\n      <td>yes</td>\n      <td>Economy Class</td>\n      <td>Unknown</td>\n      <td>Unknown</td>\n      <td>NaN</td>\n    </tr>\n    <tr>\n      <th>2826</th>\n      <td>Peter Gordon</td>\n      <td>NaN</td>\n      <td>NaN</td>\n      <td>8.0</td>\n      <td>British Airways customer review</td>\n      <td>LHR-YYZ in World Traveller Plus (upgrade) in a...</td>\n      <td>Premium Economy</td>\n      <td>yes</td>\n      <td>Premium Economy</td>\n      <td>Unknown</td>\n      <td>Unknown</td>\n      <td>NaN</td>\n    </tr>\n    <tr>\n      <th>...</th>\n      <td>...</td>\n      <td>...</td>\n      <td>...</td>\n      <td>...</td>\n      <td>...</td>\n      <td>...</td>\n      <td>...</td>\n      <td>...</td>\n      <td>...</td>\n      <td>...</td>\n      <td>...</td>\n      <td>...</td>\n    </tr>\n    <tr>\n      <th>3563</th>\n      <td>C Thomas</td>\n      <td>NaN</td>\n      <td>NaN</td>\n      <td>6.0</td>\n      <td>British Airways customer review</td>\n      <td>I'm not normally one to whine but here goes. L...</td>\n      <td>Economy Class</td>\n      <td>yes</td>\n      <td>Economy Class</td>\n      <td>Unknown</td>\n      <td>Unknown</td>\n      <td>NaN</td>\n    </tr>\n    <tr>\n      <th>3570</th>\n      <td>D Nolan</td>\n      <td>NaN</td>\n      <td>NaN</td>\n      <td>5.0</td>\n      <td>British Airways customer review</td>\n      <td>Flew return in CW from LHR to BKK in August 20...</td>\n      <td>Business Class</td>\n      <td>yes</td>\n      <td>Business Class</td>\n      <td>Unknown</td>\n      <td>Unknown</td>\n      <td>NaN</td>\n    </tr>\n    <tr>\n      <th>3573</th>\n      <td>Bruce Bettridge</td>\n      <td>NaN</td>\n      <td>NaN</td>\n      <td>4.0</td>\n      <td>British Airways customer review</td>\n      <td>Business LHR to BKK. 747-400. First try back w...</td>\n      <td>Business Class</td>\n      <td>no</td>\n      <td>Business Class</td>\n      <td>Unknown</td>\n      <td>Unknown</td>\n      <td>NaN</td>\n    </tr>\n    <tr>\n      <th>3575</th>\n      <td>W Benson</td>\n      <td>NaN</td>\n      <td>NaN</td>\n      <td>4.0</td>\n      <td>British Airways customer review</td>\n      <td>LHR-HKG on Boeing 747 - 23/08/12. Much has bee...</td>\n      <td>Economy Class</td>\n      <td>no</td>\n      <td>Economy Class</td>\n      <td>Unknown</td>\n      <td>Unknown</td>\n      <td>NaN</td>\n    </tr>\n    <tr>\n      <th>3577</th>\n      <td>D Smith</td>\n      <td>NaN</td>\n      <td>NaN</td>\n      <td>4.0</td>\n      <td>British Airways customer review</td>\n      <td>LHR-JFK-LAX-LHR. Check in was ok apart from be...</td>\n      <td>Economy Class</td>\n      <td>no</td>\n      <td>Economy Class</td>\n      <td>Unknown</td>\n      <td>Unknown</td>\n      <td>NaN</td>\n    </tr>\n  </tbody>\n</table>\n<p>349 rows × 12 columns</p>\n</div>"
     },
     "execution_count": 1559,
     "metadata": {},
     "output_type": "execute_result"
    }
   ],
   "source": [
    "airline_data[(~airline_data['Route_temporal'].str.contains('|'.join(['to','London','LHR','Edinburgh']), na=False)) & (airline_data['Review_content'].str.contains('|'.join(route_in_review), na=False))]"
   ],
   "metadata": {
    "collapsed": false,
    "ExecuteTime": {
     "end_time": "2023-12-03T20:56:07.786161300Z",
     "start_time": "2023-12-03T20:56:05.630919400Z"
    }
   }
  },
  {
   "cell_type": "code",
   "execution_count": 1560,
   "outputs": [],
   "source": [
    "review_to_extract = airline_data[(~airline_data['Route_temporal'].str.contains('|'.join(['to','London','LHR','Edinburgh']), na=False))]['Review_content']"
   ],
   "metadata": {
    "collapsed": false,
    "ExecuteTime": {
     "end_time": "2023-12-03T20:56:07.786161300Z",
     "start_time": "2023-12-03T20:56:05.713899500Z"
    }
   }
  },
  {
   "cell_type": "code",
   "execution_count": 1561,
   "outputs": [
    {
     "data": {
      "text/plain": "42             {}\n234            {}\n419            {}\n2552           {}\n2567           {}\n          ...    \n3575    {LHR-HKG}\n3576           {}\n3577           {}\n3578           {}\n3579           {}\nName: Review_content, Length: 771, dtype: object"
     },
     "execution_count": 1561,
     "metadata": {},
     "output_type": "execute_result"
    }
   ],
   "source": [
    "review_to_extract = review_to_extract.str.split().apply(set(route_in_review).intersection)\n",
    "review_to_extract"
   ],
   "metadata": {
    "collapsed": false,
    "ExecuteTime": {
     "end_time": "2023-12-03T20:56:07.786161300Z",
     "start_time": "2023-12-03T20:56:05.726552200Z"
    }
   }
  },
  {
   "cell_type": "code",
   "execution_count": 1562,
   "outputs": [],
   "source": [
    "airline_data['Route_temporal'][(~airline_data['Route_temporal'].str.contains('|'.join(['to','London','LHR','Edinburgh']), na=False))] = review_to_extract"
   ],
   "metadata": {
    "collapsed": false,
    "ExecuteTime": {
     "end_time": "2023-12-03T20:56:07.786161300Z",
     "start_time": "2023-12-03T20:56:05.761807600Z"
    }
   }
  },
  {
   "cell_type": "code",
   "execution_count": 1563,
   "outputs": [
    {
     "data": {
      "text/plain": "0       New Orleans to London\n1             London to Amman\n2          Heathrow to Bodrum\n3             Amman to London\n4        London City to Ibiza\n                ...          \n3575                {LHR-HKG}\n3576                       {}\n3577                       {}\n3578                       {}\n3579                       {}\nName: Route_temporal, Length: 3580, dtype: object"
     },
     "execution_count": 1563,
     "metadata": {},
     "output_type": "execute_result"
    }
   ],
   "source": [
    "airline_data['Route_temporal'].fillna('Unknown')"
   ],
   "metadata": {
    "collapsed": false,
    "ExecuteTime": {
     "end_time": "2023-12-03T20:56:07.786161300Z",
     "start_time": "2023-12-03T20:56:05.778065900Z"
    }
   }
  },
  {
   "cell_type": "code",
   "execution_count": 1564,
   "outputs": [],
   "source": [
    "airline_data['Origin'] = airline_data['Route_temporal'].str.split(' to ').str[0]\n",
    "airline_data['Destiny'] = airline_data['Route_temporal'].str.split(' to ').str[1]"
   ],
   "metadata": {
    "collapsed": false,
    "ExecuteTime": {
     "end_time": "2023-12-03T20:56:07.786161300Z",
     "start_time": "2023-12-03T20:56:05.803049Z"
    }
   }
  },
  {
   "cell_type": "markdown",
   "source": [
    "## 3.5 Renaming and dropping unnecessary columns"
   ],
   "metadata": {
    "collapsed": false
   }
  },
  {
   "cell_type": "code",
   "execution_count": 1565,
   "outputs": [],
   "source": [
    "airline_data = airline_data.drop(columns=['Traveller_type','Class','Route','Flying_month'],axis=1)\n",
    "airline_data = airline_data[['Passanger_Name','Flying_month_temporal','Route_temporal','Rating','Review_title','Review_content','Traveller_temporal','Class_temporal']]\n",
    "airline_data.rename(columns={'Route_temporal':'Route','Traveller_temporal':'Traveller_type','Class_temporal':'Class','Flying_month_temporal':'Flying_month'}, inplace = True)"
   ],
   "metadata": {
    "collapsed": false,
    "ExecuteTime": {
     "end_time": "2023-12-03T20:56:07.786161300Z",
     "start_time": "2023-12-03T20:56:05.830607200Z"
    }
   }
  },
  {
   "cell_type": "code",
   "execution_count": 1566,
   "outputs": [
    {
     "data": {
      "text/plain": "         Passanger_Name Flying_month                  Route  Rating  \\\n0            Paige Boet       Jun-23  New Orleans to London     1.0   \n1               S Layne       Mar-23        London to Amman     1.0   \n2           E Lanewoski      Unknown     Heathrow to Bodrum     2.0   \n3           Joel Burman       Jun-23        Amman to London     4.0   \n4               R Vines      Unknown   London City to Ibiza     7.0   \n...                 ...          ...                    ...     ...   \n3575           W Benson      Unknown              {LHR-HKG}     4.0   \n3576           S Luqman      Unknown                     {}     4.0   \n3577            D Smith      Unknown                     {}     4.0   \n3578           W Benson      Unknown                     {}     6.0   \n3579  Michael Dielissen      Unknown                     {}     8.0   \n\n                                Review_title  \\\n0                The airline lost my luggage   \n1     fully refunded by our travel insurance   \n2                no boarding drinks provided   \n3                          WiFi didn't work    \n4                         stick with economy   \n...                                      ...   \n3575         British Airways customer review   \n3576         British Airways customer review   \n3577         British Airways customer review   \n3578         British Airways customer review   \n3579         British Airways customer review   \n\n                                         Review_content  Traveller_type  \\\n0     The airline lost my luggage and was absolutely...    Solo Leisure   \n1     We booked on the BA website, round trip flight...  Couple Leisure   \n2     First time flying with BA business class, neve...    Solo Leisure   \n3     You can buy sandwiches and crisps but don't ex...    Solo Leisure   \n4     This is a two-for-one review covering economy ...  Family Leisure   \n...                                                 ...             ...   \n3575  LHR-HKG on Boeing 747 - 23/08/12. Much has bee...         Unknown   \n3576  Just got back from Bridgetown Barbados flying ...         Unknown   \n3577  LHR-JFK-LAX-LHR. Check in was ok apart from be...         Unknown   \n3578  HKG-LHR in New Club World on Boeing 777-300 - ...         Unknown   \n3579  YYZ to LHR - July 2012 - I flew overnight in p...         Unknown   \n\n                Class  \n0       Economy Class  \n1      Business Class  \n2      Business Class  \n3       Economy Class  \n4      Business Class  \n...               ...  \n3575    Economy Class  \n3576    Economy Class  \n3577    Economy Class  \n3578   Business Class  \n3579  Premium Economy  \n\n[3580 rows x 8 columns]",
      "text/html": "<div>\n<style scoped>\n    .dataframe tbody tr th:only-of-type {\n        vertical-align: middle;\n    }\n\n    .dataframe tbody tr th {\n        vertical-align: top;\n    }\n\n    .dataframe thead th {\n        text-align: right;\n    }\n</style>\n<table border=\"1\" class=\"dataframe\">\n  <thead>\n    <tr style=\"text-align: right;\">\n      <th></th>\n      <th>Passanger_Name</th>\n      <th>Flying_month</th>\n      <th>Route</th>\n      <th>Rating</th>\n      <th>Review_title</th>\n      <th>Review_content</th>\n      <th>Traveller_type</th>\n      <th>Class</th>\n    </tr>\n  </thead>\n  <tbody>\n    <tr>\n      <th>0</th>\n      <td>Paige Boet</td>\n      <td>Jun-23</td>\n      <td>New Orleans to London</td>\n      <td>1.0</td>\n      <td>The airline lost my luggage</td>\n      <td>The airline lost my luggage and was absolutely...</td>\n      <td>Solo Leisure</td>\n      <td>Economy Class</td>\n    </tr>\n    <tr>\n      <th>1</th>\n      <td>S Layne</td>\n      <td>Mar-23</td>\n      <td>London to Amman</td>\n      <td>1.0</td>\n      <td>fully refunded by our travel insurance</td>\n      <td>We booked on the BA website, round trip flight...</td>\n      <td>Couple Leisure</td>\n      <td>Business Class</td>\n    </tr>\n    <tr>\n      <th>2</th>\n      <td>E Lanewoski</td>\n      <td>Unknown</td>\n      <td>Heathrow to Bodrum</td>\n      <td>2.0</td>\n      <td>no boarding drinks provided</td>\n      <td>First time flying with BA business class, neve...</td>\n      <td>Solo Leisure</td>\n      <td>Business Class</td>\n    </tr>\n    <tr>\n      <th>3</th>\n      <td>Joel Burman</td>\n      <td>Jun-23</td>\n      <td>Amman to London</td>\n      <td>4.0</td>\n      <td>WiFi didn't work</td>\n      <td>You can buy sandwiches and crisps but don't ex...</td>\n      <td>Solo Leisure</td>\n      <td>Economy Class</td>\n    </tr>\n    <tr>\n      <th>4</th>\n      <td>R Vines</td>\n      <td>Unknown</td>\n      <td>London City to Ibiza</td>\n      <td>7.0</td>\n      <td>stick with economy</td>\n      <td>This is a two-for-one review covering economy ...</td>\n      <td>Family Leisure</td>\n      <td>Business Class</td>\n    </tr>\n    <tr>\n      <th>...</th>\n      <td>...</td>\n      <td>...</td>\n      <td>...</td>\n      <td>...</td>\n      <td>...</td>\n      <td>...</td>\n      <td>...</td>\n      <td>...</td>\n    </tr>\n    <tr>\n      <th>3575</th>\n      <td>W Benson</td>\n      <td>Unknown</td>\n      <td>{LHR-HKG}</td>\n      <td>4.0</td>\n      <td>British Airways customer review</td>\n      <td>LHR-HKG on Boeing 747 - 23/08/12. Much has bee...</td>\n      <td>Unknown</td>\n      <td>Economy Class</td>\n    </tr>\n    <tr>\n      <th>3576</th>\n      <td>S Luqman</td>\n      <td>Unknown</td>\n      <td>{}</td>\n      <td>4.0</td>\n      <td>British Airways customer review</td>\n      <td>Just got back from Bridgetown Barbados flying ...</td>\n      <td>Unknown</td>\n      <td>Economy Class</td>\n    </tr>\n    <tr>\n      <th>3577</th>\n      <td>D Smith</td>\n      <td>Unknown</td>\n      <td>{}</td>\n      <td>4.0</td>\n      <td>British Airways customer review</td>\n      <td>LHR-JFK-LAX-LHR. Check in was ok apart from be...</td>\n      <td>Unknown</td>\n      <td>Economy Class</td>\n    </tr>\n    <tr>\n      <th>3578</th>\n      <td>W Benson</td>\n      <td>Unknown</td>\n      <td>{}</td>\n      <td>6.0</td>\n      <td>British Airways customer review</td>\n      <td>HKG-LHR in New Club World on Boeing 777-300 - ...</td>\n      <td>Unknown</td>\n      <td>Business Class</td>\n    </tr>\n    <tr>\n      <th>3579</th>\n      <td>Michael Dielissen</td>\n      <td>Unknown</td>\n      <td>{}</td>\n      <td>8.0</td>\n      <td>British Airways customer review</td>\n      <td>YYZ to LHR - July 2012 - I flew overnight in p...</td>\n      <td>Unknown</td>\n      <td>Premium Economy</td>\n    </tr>\n  </tbody>\n</table>\n<p>3580 rows × 8 columns</p>\n</div>"
     },
     "execution_count": 1566,
     "metadata": {},
     "output_type": "execute_result"
    }
   ],
   "source": [
    "airline_data"
   ],
   "metadata": {
    "collapsed": false,
    "ExecuteTime": {
     "end_time": "2023-12-03T20:56:07.786161300Z",
     "start_time": "2023-12-03T20:56:05.845058Z"
    }
   }
  },
  {
   "cell_type": "code",
   "execution_count": 1567,
   "outputs": [
    {
     "data": {
      "text/plain": "Passanger_Name    0.000000\nFlying_month      0.000000\nRoute             0.000000\nRating            0.139665\nReview_title      0.000000\nReview_content    0.000000\nTraveller_type    0.000000\nClass             0.000000\ndtype: float64"
     },
     "execution_count": 1567,
     "metadata": {},
     "output_type": "execute_result"
    }
   ],
   "source": [
    "percentage_null = (airline_data.isnull().sum() / len(airline_data))*100\n",
    "percentage_null"
   ],
   "metadata": {
    "collapsed": false,
    "ExecuteTime": {
     "end_time": "2023-12-03T20:56:07.786161300Z",
     "start_time": "2023-12-03T20:56:05.865593800Z"
    }
   }
  },
  {
   "cell_type": "code",
   "execution_count": 1568,
   "outputs": [],
   "source": [
    "# Fill Na Values \n",
    "null_rating = airline_data[airline_data['Rating'].isnull()==True]\n",
    "unique_class = null_rating['Class'].unique()\n",
    "for i in unique_class:\n",
    "    airline_data['Rating'] = airline_data['Rating'].fillna(round(airline_data[airline_data['Class'] == i]['Rating'].mean(), 0))"
   ],
   "metadata": {
    "collapsed": false,
    "ExecuteTime": {
     "end_time": "2023-12-03T20:56:07.786161300Z",
     "start_time": "2023-12-03T20:56:05.885393100Z"
    }
   }
  },
  {
   "cell_type": "code",
   "execution_count": 1569,
   "outputs": [
    {
     "data": {
      "text/plain": "Passanger_Name    0.0\nFlying_month      0.0\nRoute             0.0\nRating            0.0\nReview_title      0.0\nReview_content    0.0\nTraveller_type    0.0\nClass             0.0\ndtype: float64"
     },
     "execution_count": 1569,
     "metadata": {},
     "output_type": "execute_result"
    }
   ],
   "source": [
    "percentage_null = (airline_data.isnull().sum() / len(airline_data))*100\n",
    "percentage_null"
   ],
   "metadata": {
    "collapsed": false,
    "ExecuteTime": {
     "end_time": "2023-12-03T20:56:07.786161300Z",
     "start_time": "2023-12-03T20:56:05.904660500Z"
    }
   }
  },
  {
   "cell_type": "markdown",
   "source": [
    "# 4. Statistical Test"
   ],
   "metadata": {
    "collapsed": false
   }
  },
  {
   "cell_type": "markdown",
   "source": [
    "### Normality Test"
   ],
   "metadata": {
    "collapsed": false
   }
  },
  {
   "cell_type": "code",
   "execution_count": 1570,
   "outputs": [
    {
     "name": "stdout",
     "output_type": "stream",
     "text": [
      "stat=0.886, p=0.886\n",
      "Probably not Gaussian\n"
     ]
    }
   ],
   "source": [
    "#Perform Shapiro test to check the normality of the distribution \n",
    "from scipy.stats import shapiro\n",
    "stat, p = shapiro(airline_data['Rating'])\n",
    "print('stat={0:.3f}, p={0:.3f}' .format(stat, p))\n",
    "if p > 0.05:\n",
    "    print('Probably Gaussian')\n",
    "else:\n",
    "    print('Probably not Gaussian')"
   ],
   "metadata": {
    "collapsed": false,
    "ExecuteTime": {
     "end_time": "2023-12-03T20:56:07.786161300Z",
     "start_time": "2023-12-03T20:56:05.916718600Z"
    }
   }
  },
  {
   "cell_type": "code",
   "execution_count": 1571,
   "outputs": [
    {
     "data": {
      "text/plain": "<Axes: title={'center': 'Class'}, ylabel='Frequency'>"
     },
     "execution_count": 1571,
     "metadata": {},
     "output_type": "execute_result"
    },
    {
     "data": {
      "text/plain": "<Figure size 640x480 with 1 Axes>",
      "image/png": "[encoded data removed]"
     },
     "metadata": {},
     "output_type": "display_data"
    }
   ],
   "source": [
    "##Create a Histogram\n",
    "airline_data['Rating'].plot(kind = 'hist', title = 'Class')\n",
    "#From de Grpah we could be a Normal distribution data"
   ],
   "metadata": {
    "collapsed": false,
    "ExecuteTime": {
     "end_time": "2023-12-03T20:56:07.786161300Z",
     "start_time": "2023-12-03T20:56:05.930983400Z"
    }
   }
  },
  {
   "cell_type": "markdown",
   "source": [
    "### Encoding"
   ],
   "metadata": {
    "collapsed": false
   }
  },
  {
   "cell_type": "code",
   "execution_count": 1572,
   "outputs": [],
   "source": [
    "airline_data_encoded = airline_data[['Flying_month','Rating','Traveller_type','Class']]\n",
    "\n",
    "enc = LabelEncoder()\n",
    "airline_data_encoded['Traveller_type'] = enc.fit_transform(airline_data_encoded['Traveller_type'])\n",
    "airline_data_encoded['Class'] = enc.fit_transform(airline_data_encoded['Class'])\n",
    "airline_data_encoded['Flying_month'] = enc.fit_transform(airline_data_encoded['Flying_month'])\n",
    "airline_data_encoded['Origin'] = enc.fit_transform(airline_data_encoded['Flying_month'])\n",
    "airline_data_encoded['Destiny'] = enc.fit_transform(airline_data_encoded['Flying_month'])"
   ],
   "metadata": {
    "collapsed": false,
    "ExecuteTime": {
     "end_time": "2023-12-03T20:56:07.786161300Z",
     "start_time": "2023-12-03T20:56:06.216906400Z"
    }
   }
  },
  {
   "cell_type": "markdown",
   "source": [
    "# 4. Research Questions"
   ],
   "metadata": {
    "collapsed": false
   }
  },
  {
   "cell_type": "markdown",
   "source": [
    "## 4.1 •\tAre the customers “Class” flight selections influenced by the “Traveller type” and “Route Origin”? \n",
    "o  Null Hypothesis: There is no relationship between Class and Traveller Type\n",
    "o\tAlternative Hypothesis: There is relationship between Class and Traveller Type"
   ],
   "metadata": {
    "collapsed": false
   }
  },
  {
   "cell_type": "code",
   "execution_count": 1573,
   "outputs": [
    {
     "name": "stdout",
     "output_type": "stream",
     "text": [
      "stat=39.833, p=39.833\n",
      "Probably different distributions\n"
     ]
    }
   ],
   "source": [
    "## T-Test (Numerical vs Categorical) <= 2 Groups\n",
    "from scipy.stats import ttest_ind\n",
    "data1 = airline_data_encoded['Traveller_type']\n",
    "data2 = airline_data_encoded['Class']\n",
    "stat, p = ttest_ind(data1, data2)\n",
    "print('stat={0:.3f}, p={0:.3f}'.format(stat, p))\n",
    "if p > 0.05:\n",
    "    print('Probably the same distribution')\n",
    "else:\n",
    "    print('Probably different distributions')"
   ],
   "metadata": {
    "collapsed": false,
    "ExecuteTime": {
     "end_time": "2023-12-03T20:56:07.786161300Z",
     "start_time": "2023-12-03T20:56:06.227776400Z"
    }
   }
  },
  {
   "cell_type": "code",
   "execution_count": 1574,
   "outputs": [
    {
     "data": {
      "text/plain": "Text(0, 0.5, 'Frequency')"
     },
     "execution_count": 1574,
     "metadata": {},
     "output_type": "execute_result"
    },
    {
     "data": {
      "text/plain": "<Figure size 800x600 with 1 Axes>",
      "image/png": "[encoded data removed]"
     },
     "metadata": {},
     "output_type": "display_data"
    }
   ],
   "source": [
    "ax = airline_data['Class'].value_counts().plot(kind='bar', figsize=(8,6), title=\"Count of each Class\")\n",
    "ax.set_xlabel(\"Class\")\n",
    "ax.set_ylabel(\"Frequency\")"
   ],
   "metadata": {
    "collapsed": false,
    "ExecuteTime": {
     "end_time": "2023-12-03T20:56:07.786161300Z",
     "start_time": "2023-12-03T20:56:06.295334Z"
    }
   }
  },
  {
   "cell_type": "markdown",
   "source": [
    "o\tNull Hypothesis: There is no relationship between Class and Route Origin\n",
    "o\tAlternative Hypothesis: There is relationship between Class and Route Origin\n"
   ],
   "metadata": {
    "collapsed": false
   }
  },
  {
   "cell_type": "code",
   "execution_count": 1575,
   "outputs": [
    {
     "name": "stdout",
     "output_type": "stream",
     "text": [
      "stat=191.127, p=191.127\n",
      "Probably different distributions\n"
     ]
    }
   ],
   "source": [
    "## T-Test (Numerical vs Categorical) <= 2 Groups\n",
    "from scipy.stats import ttest_ind\n",
    "data1 = airline_data_encoded['Origin']\n",
    "data2 = airline_data_encoded['Class']\n",
    "stat, p = ttest_ind(data1, data2)\n",
    "print('stat={0:.3f}, p={0:.3f}'.format(stat, p))\n",
    "if p > 0.05:\n",
    "    print('Probably the same distribution')\n",
    "else:\n",
    "    print('Probably different distributions')"
   ],
   "metadata": {
    "collapsed": false,
    "ExecuteTime": {
     "end_time": "2023-12-03T20:56:07.786161300Z",
     "start_time": "2023-12-03T20:56:06.535158200Z"
    }
   }
  },
  {
   "cell_type": "code",
   "execution_count": 1575,
   "outputs": [],
   "source": [],
   "metadata": {
    "collapsed": false,
    "ExecuteTime": {
     "end_time": "2023-12-03T20:56:07.786161300Z",
     "start_time": "2023-12-03T20:56:06.549213100Z"
    }
   }
  },
  {
   "cell_type": "markdown",
   "source": [
    "## 4.2\tAre the customers travelling in holidays more satisfied?\n",
    "o   Null Hypothesis: There is no relationship between Rating and Flying Month\n",
    "o\tAlternative Hypothesis: There is relationship between Rating and Flying Month\n"
   ],
   "metadata": {
    "collapsed": false
   }
  },
  {
   "cell_type": "code",
   "execution_count": 1576,
   "outputs": [
    {
     "ename": "TypeError",
     "evalue": "unsupported operand type(s) for /: 'str' and 'int'",
     "output_type": "error",
     "traceback": [
      "\u001B[1;31m---------------------------------------------------------------------------\u001B[0m",
      "\u001B[1;31mTypeError\u001B[0m                                 Traceback (most recent call last)",
      "Cell \u001B[1;32mIn[1576], line 5\u001B[0m\n\u001B[0;32m      3\u001B[0m data1 \u001B[38;5;241m=\u001B[39m airline_data_month[\u001B[38;5;124m'\u001B[39m\u001B[38;5;124mRating\u001B[39m\u001B[38;5;124m'\u001B[39m]\n\u001B[0;32m      4\u001B[0m data2 \u001B[38;5;241m=\u001B[39m airline_data_month[\u001B[38;5;124m'\u001B[39m\u001B[38;5;124mMonth\u001B[39m\u001B[38;5;124m'\u001B[39m]\n\u001B[1;32m----> 5\u001B[0m stat, p \u001B[38;5;241m=\u001B[39m \u001B[43mttest_ind\u001B[49m\u001B[43m(\u001B[49m\u001B[43mdata1\u001B[49m\u001B[43m,\u001B[49m\u001B[43m \u001B[49m\u001B[43mdata2\u001B[49m\u001B[43m)\u001B[49m\n\u001B[0;32m      6\u001B[0m \u001B[38;5;28mprint\u001B[39m(\u001B[38;5;124m'\u001B[39m\u001B[38;5;124mstat=\u001B[39m\u001B[38;5;132;01m{0:.3f}\u001B[39;00m\u001B[38;5;124m, p=\u001B[39m\u001B[38;5;132;01m{0:.3f}\u001B[39;00m\u001B[38;5;124m'\u001B[39m\u001B[38;5;241m.\u001B[39mformat(stat, p))\n\u001B[0;32m      7\u001B[0m \u001B[38;5;28;01mif\u001B[39;00m p \u001B[38;5;241m>\u001B[39m \u001B[38;5;241m0.05\u001B[39m:\n",
      "File \u001B[1;32m~\\AppData\\Local\\Programs\\Python\\Python311\\Lib\\site-packages\\scipy\\stats\\_axis_nan_policy.py:523\u001B[0m, in \u001B[0;36m_axis_nan_policy_factory.<locals>.axis_nan_policy_decorator.<locals>.axis_nan_policy_wrapper\u001B[1;34m(***failed resolving arguments***)\u001B[0m\n\u001B[0;32m    521\u001B[0m \u001B[38;5;28;01mif\u001B[39;00m sentinel:\n\u001B[0;32m    522\u001B[0m     samples \u001B[38;5;241m=\u001B[39m _remove_sentinel(samples, paired, sentinel)\n\u001B[1;32m--> 523\u001B[0m res \u001B[38;5;241m=\u001B[39m \u001B[43mhypotest_fun_out\u001B[49m\u001B[43m(\u001B[49m\u001B[38;5;241;43m*\u001B[39;49m\u001B[43msamples\u001B[49m\u001B[43m,\u001B[49m\u001B[43m \u001B[49m\u001B[38;5;241;43m*\u001B[39;49m\u001B[38;5;241;43m*\u001B[39;49m\u001B[43mkwds\u001B[49m\u001B[43m)\u001B[49m\n\u001B[0;32m    524\u001B[0m res \u001B[38;5;241m=\u001B[39m result_to_tuple(res)\n\u001B[0;32m    525\u001B[0m res \u001B[38;5;241m=\u001B[39m _add_reduced_axes(res, reduced_axes, keepdims)\n",
      "File \u001B[1;32m~\\AppData\\Local\\Programs\\Python\\Python311\\Lib\\site-packages\\scipy\\stats\\_stats_py.py:7457\u001B[0m, in \u001B[0;36mttest_ind\u001B[1;34m(a, b, axis, equal_var, nan_policy, permutations, random_state, alternative, trim)\u001B[0m\n\u001B[0;32m   7455\u001B[0m     np\u001B[38;5;241m.\u001B[39mseterr(divide\u001B[38;5;241m=\u001B[39m\u001B[38;5;124m'\u001B[39m\u001B[38;5;124mignore\u001B[39m\u001B[38;5;124m'\u001B[39m, invalid\u001B[38;5;241m=\u001B[39m\u001B[38;5;124m'\u001B[39m\u001B[38;5;124mignore\u001B[39m\u001B[38;5;124m'\u001B[39m)\n\u001B[0;32m   7456\u001B[0m v1 \u001B[38;5;241m=\u001B[39m _var(a, axis, ddof\u001B[38;5;241m=\u001B[39m\u001B[38;5;241m1\u001B[39m)\n\u001B[1;32m-> 7457\u001B[0m v2 \u001B[38;5;241m=\u001B[39m \u001B[43m_var\u001B[49m\u001B[43m(\u001B[49m\u001B[43mb\u001B[49m\u001B[43m,\u001B[49m\u001B[43m \u001B[49m\u001B[43maxis\u001B[49m\u001B[43m,\u001B[49m\u001B[43m \u001B[49m\u001B[43mddof\u001B[49m\u001B[38;5;241;43m=\u001B[39;49m\u001B[38;5;241;43m1\u001B[39;49m\u001B[43m)\u001B[49m\n\u001B[0;32m   7458\u001B[0m \u001B[38;5;28;01mif\u001B[39;00m equal_var:\n\u001B[0;32m   7459\u001B[0m     np\u001B[38;5;241m.\u001B[39mseterr(\u001B[38;5;241m*\u001B[39m\u001B[38;5;241m*\u001B[39mold_errstate)\n",
      "File \u001B[1;32m~\\AppData\\Local\\Programs\\Python\\Python311\\Lib\\site-packages\\scipy\\stats\\_stats_py.py:1100\u001B[0m, in \u001B[0;36m_var\u001B[1;34m(x, axis, ddof, mean)\u001B[0m\n\u001B[0;32m   1098\u001B[0m \u001B[38;5;28;01mdef\u001B[39;00m \u001B[38;5;21m_var\u001B[39m(x, axis\u001B[38;5;241m=\u001B[39m\u001B[38;5;241m0\u001B[39m, ddof\u001B[38;5;241m=\u001B[39m\u001B[38;5;241m0\u001B[39m, mean\u001B[38;5;241m=\u001B[39m\u001B[38;5;28;01mNone\u001B[39;00m):\n\u001B[0;32m   1099\u001B[0m     \u001B[38;5;66;03m# Calculate variance of sample, warning if precision is lost\u001B[39;00m\n\u001B[1;32m-> 1100\u001B[0m     var \u001B[38;5;241m=\u001B[39m \u001B[43m_moment\u001B[49m\u001B[43m(\u001B[49m\u001B[43mx\u001B[49m\u001B[43m,\u001B[49m\u001B[43m \u001B[49m\u001B[38;5;241;43m2\u001B[39;49m\u001B[43m,\u001B[49m\u001B[43m \u001B[49m\u001B[43maxis\u001B[49m\u001B[43m,\u001B[49m\u001B[43m \u001B[49m\u001B[43mmean\u001B[49m\u001B[38;5;241;43m=\u001B[39;49m\u001B[43mmean\u001B[49m\u001B[43m)\u001B[49m\n\u001B[0;32m   1101\u001B[0m     \u001B[38;5;28;01mif\u001B[39;00m ddof \u001B[38;5;241m!=\u001B[39m \u001B[38;5;241m0\u001B[39m:\n\u001B[0;32m   1102\u001B[0m         n \u001B[38;5;241m=\u001B[39m x\u001B[38;5;241m.\u001B[39mshape[axis] \u001B[38;5;28;01mif\u001B[39;00m axis \u001B[38;5;129;01mis\u001B[39;00m \u001B[38;5;129;01mnot\u001B[39;00m \u001B[38;5;28;01mNone\u001B[39;00m \u001B[38;5;28;01melse\u001B[39;00m x\u001B[38;5;241m.\u001B[39msize\n",
      "File \u001B[1;32m~\\AppData\\Local\\Programs\\Python\\Python311\\Lib\\site-packages\\scipy\\stats\\_stats_py.py:1068\u001B[0m, in \u001B[0;36m_moment\u001B[1;34m(a, moment, axis, mean)\u001B[0m\n\u001B[0;32m   1065\u001B[0m     n_list\u001B[38;5;241m.\u001B[39mappend(current_n)\n\u001B[0;32m   1067\u001B[0m \u001B[38;5;66;03m# Starting point for exponentiation by squares\u001B[39;00m\n\u001B[1;32m-> 1068\u001B[0m mean \u001B[38;5;241m=\u001B[39m (\u001B[43ma\u001B[49m\u001B[38;5;241;43m.\u001B[39;49m\u001B[43mmean\u001B[49m\u001B[43m(\u001B[49m\u001B[43maxis\u001B[49m\u001B[43m,\u001B[49m\u001B[43m \u001B[49m\u001B[43mkeepdims\u001B[49m\u001B[38;5;241;43m=\u001B[39;49m\u001B[38;5;28;43;01mTrue\u001B[39;49;00m\u001B[43m)\u001B[49m \u001B[38;5;28;01mif\u001B[39;00m mean \u001B[38;5;129;01mis\u001B[39;00m \u001B[38;5;28;01mNone\u001B[39;00m\n\u001B[0;32m   1069\u001B[0m         \u001B[38;5;28;01melse\u001B[39;00m np\u001B[38;5;241m.\u001B[39masarray(mean, dtype\u001B[38;5;241m=\u001B[39mdtype)[()])\n\u001B[0;32m   1070\u001B[0m a_zero_mean \u001B[38;5;241m=\u001B[39m a \u001B[38;5;241m-\u001B[39m mean\n\u001B[0;32m   1072\u001B[0m eps \u001B[38;5;241m=\u001B[39m np\u001B[38;5;241m.\u001B[39mfinfo(a_zero_mean\u001B[38;5;241m.\u001B[39mdtype)\u001B[38;5;241m.\u001B[39mresolution \u001B[38;5;241m*\u001B[39m \u001B[38;5;241m10\u001B[39m\n",
      "File \u001B[1;32m~\\AppData\\Local\\Programs\\Python\\Python311\\Lib\\site-packages\\numpy\\core\\_methods.py:121\u001B[0m, in \u001B[0;36m_mean\u001B[1;34m(a, axis, dtype, out, keepdims, where)\u001B[0m\n\u001B[0;32m    119\u001B[0m \u001B[38;5;28;01mif\u001B[39;00m \u001B[38;5;28misinstance\u001B[39m(ret, mu\u001B[38;5;241m.\u001B[39mndarray):\n\u001B[0;32m    120\u001B[0m     \u001B[38;5;28;01mwith\u001B[39;00m _no_nep50_warning():\n\u001B[1;32m--> 121\u001B[0m         ret \u001B[38;5;241m=\u001B[39m \u001B[43mum\u001B[49m\u001B[38;5;241;43m.\u001B[39;49m\u001B[43mtrue_divide\u001B[49m\u001B[43m(\u001B[49m\n\u001B[0;32m    122\u001B[0m \u001B[43m                \u001B[49m\u001B[43mret\u001B[49m\u001B[43m,\u001B[49m\u001B[43m \u001B[49m\u001B[43mrcount\u001B[49m\u001B[43m,\u001B[49m\u001B[43m \u001B[49m\u001B[43mout\u001B[49m\u001B[38;5;241;43m=\u001B[39;49m\u001B[43mret\u001B[49m\u001B[43m,\u001B[49m\u001B[43m \u001B[49m\u001B[43mcasting\u001B[49m\u001B[38;5;241;43m=\u001B[39;49m\u001B[38;5;124;43m'\u001B[39;49m\u001B[38;5;124;43munsafe\u001B[39;49m\u001B[38;5;124;43m'\u001B[39;49m\u001B[43m,\u001B[49m\u001B[43m \u001B[49m\u001B[43msubok\u001B[49m\u001B[38;5;241;43m=\u001B[39;49m\u001B[38;5;28;43;01mFalse\u001B[39;49;00m\u001B[43m)\u001B[49m\n\u001B[0;32m    123\u001B[0m     \u001B[38;5;28;01mif\u001B[39;00m is_float16_result \u001B[38;5;129;01mand\u001B[39;00m out \u001B[38;5;129;01mis\u001B[39;00m \u001B[38;5;28;01mNone\u001B[39;00m:\n\u001B[0;32m    124\u001B[0m         ret \u001B[38;5;241m=\u001B[39m arr\u001B[38;5;241m.\u001B[39mdtype\u001B[38;5;241m.\u001B[39mtype(ret)\n",
      "\u001B[1;31mTypeError\u001B[0m: unsupported operand type(s) for /: 'str' and 'int'"
     ]
    }
   ],
   "source": [
    "## T-Test (Numerical vs Categorical) <= 2 Groups\n",
    "from scipy.stats import ttest_ind\n",
    "data1 = airline_data_month['Rating']\n",
    "data2 = airline_data_month['Month']\n",
    "stat, p = ttest_ind(data1, data2)\n",
    "print('stat={0:.3f}, p={0:.3f}'.format(stat, p))\n",
    "if p > 0.05:\n",
    "    print('Probably the same distribution')\n",
    "else:\n",
    "    print('Probably different distributions')"
   ],
   "metadata": {
    "collapsed": false,
    "ExecuteTime": {
     "end_time": "2023-12-03T20:56:07.786161300Z",
     "start_time": "2023-12-03T20:56:06.549213100Z"
    }
   }
  },
  {
   "cell_type": "code",
   "execution_count": 1577,
   "outputs": [
    {
     "data": {
      "text/plain": "[Text(0, 0, 'Jan'),\n Text(1, 0, 'Feb'),\n Text(2, 0, 'Mar'),\n Text(3, 0, 'Apr'),\n Text(4, 0, 'May'),\n Text(5, 0, 'Jun'),\n Text(6, 0, 'Jul'),\n Text(7, 0, 'Aug'),\n Text(8, 0, 'Sep'),\n Text(9, 0, 'Oct'),\n Text(10, 0, 'Nov'),\n Text(11, 0, 'Dec')]"
     },
     "execution_count": 1577,
     "metadata": {},
     "output_type": "execute_result"
    },
    {
     "data": {
      "text/plain": "<Figure size 1400x400 with 1 Axes>",
      "image/png": "[encoded data removed]"
     },
     "metadata": {},
     "output_type": "display_data"
    }
   ],
   "source": [
    "plt.figure(figsize=(14,4))\n",
    "my_plot = sns.lineplot(x=airline_data_month['Month'],y=airline_data_month['Rating'])\n",
    "my_plot.set_xticklabels(my_plot.get_xticklabels(), rotation=90)"
   ],
   "metadata": {
    "collapsed": false,
    "ExecuteTime": {
     "end_time": "2023-12-03T20:57:08.805522900Z",
     "start_time": "2023-12-03T20:57:08.220295100Z"
    }
   }
  },
  {
   "cell_type": "markdown",
   "source": [
    "## 4.3 •\t3.\tWhat kind of customers are more likelihood to have a successful holiday?\n",
    "o    Null Hypothesis: There is no significance difference in the average rating based on Class.\n",
    "o\tAlternative Hypothesis: There is significance difference in the average rating based on Class.\n",
    "o\tNull Hypothesis: There is no significance difference in the average rating based on Traveller Type\n",
    "o\tAlternative Hypothesis: There is significance difference in the average rating based on Traveller Type\n",
    "\n"
   ],
   "metadata": {
    "collapsed": false
   }
  },
  {
   "cell_type": "code",
   "execution_count": null,
   "outputs": [],
   "source": [
    "## T-Test (Numerical vs Categorical) <= 2 Groups\n",
    "from scipy.stats import ttest_ind\n",
    "data1 = airline_data_encoded['Rating']\n",
    "data2 = airline_data_encoded['Traveller_type']\n",
    "stat, p = ttest_ind(data1, data2)\n",
    "print('stat={0:.3f}, p={0:.3f}'.format(stat, p))\n",
    "if p > 0.05:\n",
    "    print('Probably the same distribution')\n",
    "else:\n",
    "    print('Probably different distributions')"
   ],
   "metadata": {
    "collapsed": false,
    "ExecuteTime": {
     "start_time": "2023-12-03T20:56:06.665993700Z"
    }
   }
  },
  {
   "cell_type": "code",
   "execution_count": null,
   "outputs": [],
   "source": [
    "plt.figure(figsize=(6,6))\n",
    "my_plot = sns.boxplot(x=airline_data['Traveller_type'],y=airline_data['Rating'])\n",
    "my_plot.set_xticklabels(my_plot.get_xticklabels(), rotation=90)"
   ],
   "metadata": {
    "collapsed": false,
    "ExecuteTime": {
     "start_time": "2023-12-03T20:56:06.665993700Z"
    }
   }
  },
  {
   "cell_type": "code",
   "execution_count": null,
   "outputs": [],
   "source": [
    "airline_data.groupby('Traveller_type').count()"
   ],
   "metadata": {
    "collapsed": false,
    "ExecuteTime": {
     "start_time": "2023-12-03T20:56:06.681620800Z"
    }
   }
  },
  {
   "cell_type": "markdown",
   "source": [
    "## 4.4 What are the most popular routes in “British Airways” airline?\n",
    "o\tNull Hypothesis: There is no significance difference in the average rating based on Routes.\n",
    "o\tAlternative Hypothesis: There is significance difference in the average rating based on Routes\n",
    "\n",
    "\n"
   ],
   "metadata": {
    "collapsed": false
   }
  },
  {
   "cell_type": "code",
   "execution_count": null,
   "outputs": [],
   "source": [
    "subset_type = airline_data[(airline_data['Traveller_type'].str.contains('|'.join(['Solo Leisure','Couple Leisure','Family Leisure','Business']), na=False))]"
   ],
   "metadata": {
    "collapsed": false,
    "ExecuteTime": {
     "start_time": "2023-12-03T20:56:06.681620800Z"
    }
   }
  },
  {
   "cell_type": "code",
   "execution_count": null,
   "outputs": [],
   "source": [
    "plt.figure(figsize=(6,6))\n",
    "my_plot = sns.boxplot(x=subset_type['Traveller_type'],y=subset_type['Rating'])\n",
    "my_plot.set_xticklabels(my_plot.get_xticklabels(), rotation=90)"
   ],
   "metadata": {
    "collapsed": false,
    "ExecuteTime": {
     "start_time": "2023-12-03T20:56:06.681620800Z"
    }
   }
  }
 ],
 "metadata": {
  "colab": {
   "include_colab_link": true,
   "provenance": []
  },
  "kernelspec": {
   "display_name": "Python 3 (ipykernel)",
   "language": "python",
   "name": "python3"
  },
  "language_info": {
   "codemirror_mode": {
    "name": "ipython",
    "version": 3
   },
   "file_extension": ".py",
   "mimetype": "text/x-python",
   "name": "python",
   "nbconvert_exporter": "python",
   "pygments_lexer": "ipython3",
   "version": "3.11.2"
  }
 },
 "nbformat": 4,
 "nbformat_minor": 4
}
