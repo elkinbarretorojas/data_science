{
 "cells": [
  {
   "cell_type": "markdown",
   "source": [
    "# Airline Dataset"
   ],
   "metadata": {
    "collapsed": false
   }
  },
  {
   "cell_type": "code",
   "execution_count": 226,
   "outputs": [],
   "source": [
    "import pandas as pd\n",
    "import numpy as np\n",
    "import seaborn as sns                       #visualisation\n",
    "import matplotlib.pyplot as plt             #visualisation\n",
    "import math\n",
    "import stats\n",
    "import warnings\n",
    "from sklearn.linear_model import LinearRegression\n",
    "warnings.filterwarnings('ignore')"
   ],
   "metadata": {
    "collapsed": false,
    "ExecuteTime": {
     "end_time": "2023-11-25T18:27:33.178241200Z",
     "start_time": "2023-11-25T18:27:33.166818900Z"
    }
   }
  },
  {
   "cell_type": "markdown",
   "source": [
    "## 2. Loading the data into the data frame."
   ],
   "metadata": {
    "collapsed": false
   }
  },
  {
   "cell_type": "code",
   "execution_count": 227,
   "outputs": [
    {
     "data": {
      "text/plain": "  Passanger_Name          Flying_month                  Route  Rating  \\\n0     Paige Boet                Jun-23  New Orleans to London     1.0   \n1        S Layne                Mar-23        London to Amman     1.0   \n2    E Lanewoski    Heathrow to Bodrum         Business Class     2.0   \n3    Joel Burman                Jun-23        Amman to London     4.0   \n4        R Vines  London City to Ibiza         Business Class     7.0   \n\n        Verified                            Review_title  \\\n0  Trip Verified             The airline lost my luggage   \n1  Trip Verified  fully refunded by our travel insurance   \n2  Trip Verified             no boarding drinks provided   \n3   Not Verified                       WiFi didn't work    \n4  Trip Verified                      stick with economy   \n\n                                      Review_content  Traveller_type  \\\n0  The airline lost my luggage and was absolutely...    Solo Leisure   \n1  We booked on the BA website, round trip flight...  Couple Leisure   \n2  First time flying with BA business class, neve...        A321 neo   \n3  You can buy sandwiches and crisps but don't ex...    Solo Leisure   \n4  This is a two-for-one review covering economy ...     Embraer 190   \n\n            Class  \n0   Economy Class  \n1  Business Class  \n2    Solo Leisure  \n3   Economy Class  \n4  Family Leisure  ",
      "text/html": "<div>\n<style scoped>\n    .dataframe tbody tr th:only-of-type {\n        vertical-align: middle;\n    }\n\n    .dataframe tbody tr th {\n        vertical-align: top;\n    }\n\n    .dataframe thead th {\n        text-align: right;\n    }\n</style>\n<table border=\"1\" class=\"dataframe\">\n  <thead>\n    <tr style=\"text-align: right;\">\n      <th></th>\n      <th>Passanger_Name</th>\n      <th>Flying_month</th>\n      <th>Route</th>\n      <th>Rating</th>\n      <th>Verified</th>\n      <th>Review_title</th>\n      <th>Review_content</th>\n      <th>Traveller_type</th>\n      <th>Class</th>\n    </tr>\n  </thead>\n  <tbody>\n    <tr>\n      <th>0</th>\n      <td>Paige Boet</td>\n      <td>Jun-23</td>\n      <td>New Orleans to London</td>\n      <td>1.0</td>\n      <td>Trip Verified</td>\n      <td>The airline lost my luggage</td>\n      <td>The airline lost my luggage and was absolutely...</td>\n      <td>Solo Leisure</td>\n      <td>Economy Class</td>\n    </tr>\n    <tr>\n      <th>1</th>\n      <td>S Layne</td>\n      <td>Mar-23</td>\n      <td>London to Amman</td>\n      <td>1.0</td>\n      <td>Trip Verified</td>\n      <td>fully refunded by our travel insurance</td>\n      <td>We booked on the BA website, round trip flight...</td>\n      <td>Couple Leisure</td>\n      <td>Business Class</td>\n    </tr>\n    <tr>\n      <th>2</th>\n      <td>E Lanewoski</td>\n      <td>Heathrow to Bodrum</td>\n      <td>Business Class</td>\n      <td>2.0</td>\n      <td>Trip Verified</td>\n      <td>no boarding drinks provided</td>\n      <td>First time flying with BA business class, neve...</td>\n      <td>A321 neo</td>\n      <td>Solo Leisure</td>\n    </tr>\n    <tr>\n      <th>3</th>\n      <td>Joel Burman</td>\n      <td>Jun-23</td>\n      <td>Amman to London</td>\n      <td>4.0</td>\n      <td>Not Verified</td>\n      <td>WiFi didn't work</td>\n      <td>You can buy sandwiches and crisps but don't ex...</td>\n      <td>Solo Leisure</td>\n      <td>Economy Class</td>\n    </tr>\n    <tr>\n      <th>4</th>\n      <td>R Vines</td>\n      <td>London City to Ibiza</td>\n      <td>Business Class</td>\n      <td>7.0</td>\n      <td>Trip Verified</td>\n      <td>stick with economy</td>\n      <td>This is a two-for-one review covering economy ...</td>\n      <td>Embraer 190</td>\n      <td>Family Leisure</td>\n    </tr>\n  </tbody>\n</table>\n</div>"
     },
     "execution_count": 227,
     "metadata": {},
     "output_type": "execute_result"
    }
   ],
   "source": [
    "df = pd.read_csv(\"airline_data.csv\")\n",
    "airline_data = df\n",
    "# To display the top 5 rows\n",
    "airline_data.head()"
   ],
   "metadata": {
    "collapsed": false,
    "ExecuteTime": {
     "end_time": "2023-11-25T18:27:33.955102300Z",
     "start_time": "2023-11-25T18:27:33.844485800Z"
    }
   }
  },
  {
   "cell_type": "code",
   "execution_count": 228,
   "outputs": [
    {
     "name": "stdout",
     "output_type": "stream",
     "text": [
      "<class 'pandas.core.frame.DataFrame'>\n",
      "RangeIndex: 3580 entries, 0 to 3579\n",
      "Data columns (total 9 columns):\n",
      " #   Column          Non-Null Count  Dtype  \n",
      "---  ------          --------------  -----  \n",
      " 0   Passanger_Name  3580 non-null   object \n",
      " 1   Flying_month    2815 non-null   object \n",
      " 2   Route           2816 non-null   object \n",
      " 3   Rating          3575 non-null   float64\n",
      " 4   Verified        1270 non-null   object \n",
      " 5   Review_title    3580 non-null   object \n",
      " 6   Review_content  3580 non-null   object \n",
      " 7   Traveller_type  3580 non-null   object \n",
      " 8   Class           3579 non-null   object \n",
      "dtypes: float64(1), object(8)\n",
      "memory usage: 251.8+ KB\n"
     ]
    }
   ],
   "source": [
    "airline_data.info()"
   ],
   "metadata": {
    "collapsed": false,
    "ExecuteTime": {
     "end_time": "2023-11-25T18:27:34.455644500Z",
     "start_time": "2023-11-25T18:27:34.324112700Z"
    }
   }
  },
  {
   "cell_type": "code",
   "execution_count": 229,
   "outputs": [
    {
     "data": {
      "text/plain": "         count     mean       std  min  25%  50%  75%   max\nRating  3575.0  4.79049  3.170323  1.0  2.0  4.0  8.0  10.0",
      "text/html": "<div>\n<style scoped>\n    .dataframe tbody tr th:only-of-type {\n        vertical-align: middle;\n    }\n\n    .dataframe tbody tr th {\n        vertical-align: top;\n    }\n\n    .dataframe thead th {\n        text-align: right;\n    }\n</style>\n<table border=\"1\" class=\"dataframe\">\n  <thead>\n    <tr style=\"text-align: right;\">\n      <th></th>\n      <th>count</th>\n      <th>mean</th>\n      <th>std</th>\n      <th>min</th>\n      <th>25%</th>\n      <th>50%</th>\n      <th>75%</th>\n      <th>max</th>\n    </tr>\n  </thead>\n  <tbody>\n    <tr>\n      <th>Rating</th>\n      <td>3575.0</td>\n      <td>4.79049</td>\n      <td>3.170323</td>\n      <td>1.0</td>\n      <td>2.0</td>\n      <td>4.0</td>\n      <td>8.0</td>\n      <td>10.0</td>\n    </tr>\n  </tbody>\n</table>\n</div>"
     },
     "execution_count": 229,
     "metadata": {},
     "output_type": "execute_result"
    }
   ],
   "source": [
    "airline_data.describe().T"
   ],
   "metadata": {
    "collapsed": false,
    "ExecuteTime": {
     "end_time": "2023-11-25T18:27:34.671245400Z",
     "start_time": "2023-11-25T18:27:34.602348600Z"
    }
   }
  },
  {
   "cell_type": "markdown",
   "source": [
    "# 2. Cleaning Dataset"
   ],
   "metadata": {
    "collapsed": false
   }
  },
  {
   "cell_type": "code",
   "execution_count": 230,
   "outputs": [
    {
     "data": {
      "text/plain": "Passanger_Name     0.000000\nFlying_month      21.368715\nRoute             21.340782\nRating             0.139665\nVerified          64.525140\nReview_title       0.000000\nReview_content     0.000000\nTraveller_type     0.000000\nClass              0.027933\ndtype: float64"
     },
     "execution_count": 230,
     "metadata": {},
     "output_type": "execute_result"
    }
   ],
   "source": [
    "percentage_null = (airline_data.isnull().sum() / len(airline_data))*100\n",
    "percentage_null"
   ],
   "metadata": {
    "collapsed": false,
    "ExecuteTime": {
     "end_time": "2023-11-25T18:27:35.394542300Z",
     "start_time": "2023-11-25T18:27:35.340889800Z"
    }
   }
  },
  {
   "cell_type": "code",
   "execution_count": 231,
   "outputs": [
    {
     "data": {
      "text/plain": "Passanger_Name       0\nFlying_month       765\nRoute              764\nRating               5\nVerified          2310\nReview_title         0\nReview_content       0\nTraveller_type       0\nClass                1\ndtype: int64"
     },
     "execution_count": 231,
     "metadata": {},
     "output_type": "execute_result"
    }
   ],
   "source": [
    "airline_data.isnull().sum()"
   ],
   "metadata": {
    "collapsed": false,
    "ExecuteTime": {
     "end_time": "2023-11-25T18:27:35.811672600Z",
     "start_time": "2023-11-25T18:27:35.766801200Z"
    }
   }
  },
  {
   "cell_type": "code",
   "execution_count": 232,
   "outputs": [],
   "source": [
    "# Drop \"Verified\" column as it has more than 60% of null values \n",
    "airline_data.drop('Verified',axis=1, inplace = True)"
   ],
   "metadata": {
    "collapsed": false,
    "ExecuteTime": {
     "end_time": "2023-11-25T18:27:36.281761200Z",
     "start_time": "2023-11-25T18:27:36.226011900Z"
    }
   }
  },
  {
   "cell_type": "code",
   "execution_count": 233,
   "outputs": [
    {
     "data": {
      "text/plain": "Passanger_Name     0.000000\nFlying_month      21.368715\nRoute             21.340782\nRating             0.139665\nReview_title       0.000000\nReview_content     0.000000\nTraveller_type     0.000000\nClass              0.027933\ndtype: float64"
     },
     "execution_count": 233,
     "metadata": {},
     "output_type": "execute_result"
    }
   ],
   "source": [
    "percentage_null = (airline_data.isnull().sum() / len(airline_data))*100\n",
    "percentage_null"
   ],
   "metadata": {
    "collapsed": false,
    "ExecuteTime": {
     "end_time": "2023-11-25T18:27:36.720081500Z",
     "start_time": "2023-11-25T18:27:36.657723100Z"
    }
   }
  },
  {
   "cell_type": "code",
   "execution_count": 234,
   "outputs": [
    {
     "data": {
      "text/plain": "                Passanger_Name  Flying_month  Route  Rating  Review_title  \\\nTraveller_type                                                              \n767-300                      1             1      1       1             1   \n777                          3             3      3       3             3   \n777-200                      1             1      1       1             1   \n777-300                      1             1      1       1             1   \n787                          1             1      1       1             1   \n...                        ...           ...    ...     ...           ...   \nSaab 2000                    1             1      1       1             1   \nSolo Leisure               307           307    307     307           307   \nVarious                      1             1      1       1             1   \nboeing 787                   1             1      1       1             1   \nno                           1             0      0       1             1   \n\n                Review_content  Class  \nTraveller_type                         \n767-300                      1      1  \n777                          3      3  \n777-200                      1      1  \n777-300                      1      1  \n787                          1      1  \n...                        ...    ...  \nSaab 2000                    1      1  \nSolo Leisure               307    307  \nVarious                      1      1  \nboeing 787                   1      1  \nno                           1      0  \n\n[203 rows x 7 columns]",
      "text/html": "<div>\n<style scoped>\n    .dataframe tbody tr th:only-of-type {\n        vertical-align: middle;\n    }\n\n    .dataframe tbody tr th {\n        vertical-align: top;\n    }\n\n    .dataframe thead th {\n        text-align: right;\n    }\n</style>\n<table border=\"1\" class=\"dataframe\">\n  <thead>\n    <tr style=\"text-align: right;\">\n      <th></th>\n      <th>Passanger_Name</th>\n      <th>Flying_month</th>\n      <th>Route</th>\n      <th>Rating</th>\n      <th>Review_title</th>\n      <th>Review_content</th>\n      <th>Class</th>\n    </tr>\n    <tr>\n      <th>Traveller_type</th>\n      <th></th>\n      <th></th>\n      <th></th>\n      <th></th>\n      <th></th>\n      <th></th>\n      <th></th>\n    </tr>\n  </thead>\n  <tbody>\n    <tr>\n      <th>767-300</th>\n      <td>1</td>\n      <td>1</td>\n      <td>1</td>\n      <td>1</td>\n      <td>1</td>\n      <td>1</td>\n      <td>1</td>\n    </tr>\n    <tr>\n      <th>777</th>\n      <td>3</td>\n      <td>3</td>\n      <td>3</td>\n      <td>3</td>\n      <td>3</td>\n      <td>3</td>\n      <td>3</td>\n    </tr>\n    <tr>\n      <th>777-200</th>\n      <td>1</td>\n      <td>1</td>\n      <td>1</td>\n      <td>1</td>\n      <td>1</td>\n      <td>1</td>\n      <td>1</td>\n    </tr>\n    <tr>\n      <th>777-300</th>\n      <td>1</td>\n      <td>1</td>\n      <td>1</td>\n      <td>1</td>\n      <td>1</td>\n      <td>1</td>\n      <td>1</td>\n    </tr>\n    <tr>\n      <th>787</th>\n      <td>1</td>\n      <td>1</td>\n      <td>1</td>\n      <td>1</td>\n      <td>1</td>\n      <td>1</td>\n      <td>1</td>\n    </tr>\n    <tr>\n      <th>...</th>\n      <td>...</td>\n      <td>...</td>\n      <td>...</td>\n      <td>...</td>\n      <td>...</td>\n      <td>...</td>\n      <td>...</td>\n    </tr>\n    <tr>\n      <th>Saab 2000</th>\n      <td>1</td>\n      <td>1</td>\n      <td>1</td>\n      <td>1</td>\n      <td>1</td>\n      <td>1</td>\n      <td>1</td>\n    </tr>\n    <tr>\n      <th>Solo Leisure</th>\n      <td>307</td>\n      <td>307</td>\n      <td>307</td>\n      <td>307</td>\n      <td>307</td>\n      <td>307</td>\n      <td>307</td>\n    </tr>\n    <tr>\n      <th>Various</th>\n      <td>1</td>\n      <td>1</td>\n      <td>1</td>\n      <td>1</td>\n      <td>1</td>\n      <td>1</td>\n      <td>1</td>\n    </tr>\n    <tr>\n      <th>boeing 787</th>\n      <td>1</td>\n      <td>1</td>\n      <td>1</td>\n      <td>1</td>\n      <td>1</td>\n      <td>1</td>\n      <td>1</td>\n    </tr>\n    <tr>\n      <th>no</th>\n      <td>1</td>\n      <td>0</td>\n      <td>0</td>\n      <td>1</td>\n      <td>1</td>\n      <td>1</td>\n      <td>0</td>\n    </tr>\n  </tbody>\n</table>\n<p>203 rows × 7 columns</p>\n</div>"
     },
     "execution_count": 234,
     "metadata": {},
     "output_type": "execute_result"
    }
   ],
   "source": [
    "airline_data.groupby('Traveller_type').count()                                                         "
   ],
   "metadata": {
    "collapsed": false,
    "ExecuteTime": {
     "end_time": "2023-11-25T18:27:37.242865400Z",
     "start_time": "2023-11-25T18:27:37.103729200Z"
    }
   }
  },
  {
   "cell_type": "markdown",
   "source": [
    "### 2.1 Class: Created Class Fixed Feature"
   ],
   "metadata": {
    "collapsed": false
   }
  },
  {
   "cell_type": "code",
   "execution_count": 235,
   "outputs": [
    {
     "data": {
      "text/plain": "                                         Passanger_Name  Flying_month  Route  \\\nClass                                                                          \nBusiness                                            430           430    430   \nBusiness Class                                      183           183    183   \nCouple Leisure                                      641           641    641   \nEconomy Class                                       676           675    676   \nFamily Leisure                                      234           234    234   \nFirst Class                                          11            11     11   \nLHR to ORD                                            1             1      1   \nLondon to Malaga                                      1             1      1   \nLos Angeles to London to Paris to Rome                1             1      1   \nPremium Economy                                      85            85     85   \nSolo Leisure                                        553           553    553   \nno                                                  322             0      0   \nyes                                                 441             0      0   \n\n                                         Rating  Review_title  Review_content  \\\nClass                                                                           \nBusiness                                    430           430             430   \nBusiness Class                              183           183             183   \nCouple Leisure                              641           641             641   \nEconomy Class                               676           676             676   \nFamily Leisure                              234           234             234   \nFirst Class                                  11            11              11   \nLHR to ORD                                    1             1               1   \nLondon to Malaga                              1             1               1   \nLos Angeles to London to Paris to Rome        1             1               1   \nPremium Economy                              85            85              85   \nSolo Leisure                                553           553             553   \nno                                          317           322             322   \nyes                                         441           441             441   \n\n                                         Traveller_type  \nClass                                                    \nBusiness                                            430  \nBusiness Class                                      183  \nCouple Leisure                                      641  \nEconomy Class                                       676  \nFamily Leisure                                      234  \nFirst Class                                          11  \nLHR to ORD                                            1  \nLondon to Malaga                                      1  \nLos Angeles to London to Paris to Rome                1  \nPremium Economy                                      85  \nSolo Leisure                                        553  \nno                                                  322  \nyes                                                 441  ",
      "text/html": "<div>\n<style scoped>\n    .dataframe tbody tr th:only-of-type {\n        vertical-align: middle;\n    }\n\n    .dataframe tbody tr th {\n        vertical-align: top;\n    }\n\n    .dataframe thead th {\n        text-align: right;\n    }\n</style>\n<table border=\"1\" class=\"dataframe\">\n  <thead>\n    <tr style=\"text-align: right;\">\n      <th></th>\n      <th>Passanger_Name</th>\n      <th>Flying_month</th>\n      <th>Route</th>\n      <th>Rating</th>\n      <th>Review_title</th>\n      <th>Review_content</th>\n      <th>Traveller_type</th>\n    </tr>\n    <tr>\n      <th>Class</th>\n      <th></th>\n      <th></th>\n      <th></th>\n      <th></th>\n      <th></th>\n      <th></th>\n      <th></th>\n    </tr>\n  </thead>\n  <tbody>\n    <tr>\n      <th>Business</th>\n      <td>430</td>\n      <td>430</td>\n      <td>430</td>\n      <td>430</td>\n      <td>430</td>\n      <td>430</td>\n      <td>430</td>\n    </tr>\n    <tr>\n      <th>Business Class</th>\n      <td>183</td>\n      <td>183</td>\n      <td>183</td>\n      <td>183</td>\n      <td>183</td>\n      <td>183</td>\n      <td>183</td>\n    </tr>\n    <tr>\n      <th>Couple Leisure</th>\n      <td>641</td>\n      <td>641</td>\n      <td>641</td>\n      <td>641</td>\n      <td>641</td>\n      <td>641</td>\n      <td>641</td>\n    </tr>\n    <tr>\n      <th>Economy Class</th>\n      <td>676</td>\n      <td>675</td>\n      <td>676</td>\n      <td>676</td>\n      <td>676</td>\n      <td>676</td>\n      <td>676</td>\n    </tr>\n    <tr>\n      <th>Family Leisure</th>\n      <td>234</td>\n      <td>234</td>\n      <td>234</td>\n      <td>234</td>\n      <td>234</td>\n      <td>234</td>\n      <td>234</td>\n    </tr>\n    <tr>\n      <th>First Class</th>\n      <td>11</td>\n      <td>11</td>\n      <td>11</td>\n      <td>11</td>\n      <td>11</td>\n      <td>11</td>\n      <td>11</td>\n    </tr>\n    <tr>\n      <th>LHR to ORD</th>\n      <td>1</td>\n      <td>1</td>\n      <td>1</td>\n      <td>1</td>\n      <td>1</td>\n      <td>1</td>\n      <td>1</td>\n    </tr>\n    <tr>\n      <th>London to Malaga</th>\n      <td>1</td>\n      <td>1</td>\n      <td>1</td>\n      <td>1</td>\n      <td>1</td>\n      <td>1</td>\n      <td>1</td>\n    </tr>\n    <tr>\n      <th>Los Angeles to London to Paris to Rome</th>\n      <td>1</td>\n      <td>1</td>\n      <td>1</td>\n      <td>1</td>\n      <td>1</td>\n      <td>1</td>\n      <td>1</td>\n    </tr>\n    <tr>\n      <th>Premium Economy</th>\n      <td>85</td>\n      <td>85</td>\n      <td>85</td>\n      <td>85</td>\n      <td>85</td>\n      <td>85</td>\n      <td>85</td>\n    </tr>\n    <tr>\n      <th>Solo Leisure</th>\n      <td>553</td>\n      <td>553</td>\n      <td>553</td>\n      <td>553</td>\n      <td>553</td>\n      <td>553</td>\n      <td>553</td>\n    </tr>\n    <tr>\n      <th>no</th>\n      <td>322</td>\n      <td>0</td>\n      <td>0</td>\n      <td>317</td>\n      <td>322</td>\n      <td>322</td>\n      <td>322</td>\n    </tr>\n    <tr>\n      <th>yes</th>\n      <td>441</td>\n      <td>0</td>\n      <td>0</td>\n      <td>441</td>\n      <td>441</td>\n      <td>441</td>\n      <td>441</td>\n    </tr>\n  </tbody>\n</table>\n</div>"
     },
     "execution_count": 235,
     "metadata": {},
     "output_type": "execute_result"
    }
   ],
   "source": [
    "airline_data.groupby('Class').count()"
   ],
   "metadata": {
    "collapsed": false,
    "ExecuteTime": {
     "end_time": "2023-11-25T18:27:38.443262400Z",
     "start_time": "2023-11-25T18:27:38.322093700Z"
    }
   }
  },
  {
   "cell_type": "code",
   "execution_count": 236,
   "outputs": [],
   "source": [
    "#Create New Column to modify as the column could have data usefull for others\n",
    "airline_data['Class_fix'] = airline_data['Class']"
   ],
   "metadata": {
    "collapsed": false,
    "ExecuteTime": {
     "end_time": "2023-11-25T18:27:38.908627Z",
     "start_time": "2023-11-25T18:27:38.824545900Z"
    }
   }
  },
  {
   "cell_type": "code",
   "execution_count": 237,
   "outputs": [],
   "source": [
    "#Copy useful data from Route Column\n",
    "Route_to_fix = airline_data[(airline_data['Class'] != 'Premium Economy') & (airline_data['Class'] != 'Business Class') & (airline_data['Class'] != 'First Class') & (airline_data['Class'] != 'Economy Class')]['Route']"
   ],
   "metadata": {
    "collapsed": false,
    "ExecuteTime": {
     "end_time": "2023-11-25T18:27:39.339981500Z",
     "start_time": "2023-11-25T18:27:39.240046300Z"
    }
   }
  },
  {
   "cell_type": "code",
   "execution_count": 238,
   "outputs": [],
   "source": [
    "#Paste Data in the new Class Column, filtering by rows without relevant information for Class\n",
    "airline_data['Class_fix'][(airline_data['Class_fix'] != 'Premium Economy') & (airline_data['Class_fix'] != 'Business Class') & (airline_data['Class_fix'] != 'First Class_fix') & (airline_data['Class_fix'] != 'Economy Class')] = Route_to_fix"
   ],
   "metadata": {
    "collapsed": false,
    "ExecuteTime": {
     "end_time": "2023-11-25T18:27:39.783782700Z",
     "start_time": "2023-11-25T18:27:39.709354800Z"
    }
   }
  },
  {
   "cell_type": "code",
   "execution_count": 239,
   "outputs": [],
   "source": [
    "#Copy useful data from Traveller_type\n",
    "Traveller_to_fix = airline_data[(airline_data['Class_fix'] != 'Premium Economy') & (airline_data['Class_fix'] != 'Business Class') & (airline_data['Class_fix'] != 'First Class') & (airline_data['Class_fix'] != 'Economy Class')]['Traveller_type']"
   ],
   "metadata": {
    "collapsed": false,
    "ExecuteTime": {
     "end_time": "2023-11-25T18:27:40.241054Z",
     "start_time": "2023-11-25T18:27:40.141103200Z"
    }
   }
  },
  {
   "cell_type": "code",
   "execution_count": 240,
   "outputs": [],
   "source": [
    "#Paste Data in the new Class Column, filtering by rows without relevant information for Class\n",
    "airline_data['Class_fix'][(airline_data['Class_fix'] != 'Premium Economy') & (airline_data['Class_fix'] != 'Business Class') & (airline_data['Class_fix'] != 'First Class') & (airline_data['Class_fix'] != 'Economy Class')] = Traveller_to_fix"
   ],
   "metadata": {
    "collapsed": false,
    "ExecuteTime": {
     "end_time": "2023-11-25T18:27:40.680292Z",
     "start_time": "2023-11-25T18:27:40.579629700Z"
    }
   }
  },
  {
   "cell_type": "code",
   "execution_count": 241,
   "outputs": [],
   "source": [
    "#Last 13 Rows are first Class, there were a space that produced the error in that Rows, but mnually we can fix it easily\n",
    "airline_data['Class_fix'][(airline_data['Class_fix'] != 'Premium Economy') & (airline_data['Class_fix'] != 'Business Class') & (airline_data['Class_fix'] != 'First Class') & (airline_data['Class_fix'] != 'Economy Class')] = 'First Class'"
   ],
   "metadata": {
    "collapsed": false,
    "ExecuteTime": {
     "end_time": "2023-11-25T18:27:41.127003700Z",
     "start_time": "2023-11-25T18:27:41.027872800Z"
    }
   }
  },
  {
   "cell_type": "code",
   "execution_count": 242,
   "outputs": [
    {
     "data": {
      "text/plain": "                 Passanger_Name  Flying_month  Route  Rating  Review_title  \\\nClass_fix                                                                    \nBusiness Class             1161           867    867    1160          1161   \nEconomy Class              1849          1521   1522    1846          1849   \nFirst Class                 212           156    156     211           212   \nPremium Economy             358           271    271     358           358   \n\n                 Review_content  Traveller_type  Class  \nClass_fix                                               \nBusiness Class             1161            1161   1161  \nEconomy Class              1849            1849   1849  \nFirst Class                 212             212    211  \nPremium Economy             358             358    358  ",
      "text/html": "<div>\n<style scoped>\n    .dataframe tbody tr th:only-of-type {\n        vertical-align: middle;\n    }\n\n    .dataframe tbody tr th {\n        vertical-align: top;\n    }\n\n    .dataframe thead th {\n        text-align: right;\n    }\n</style>\n<table border=\"1\" class=\"dataframe\">\n  <thead>\n    <tr style=\"text-align: right;\">\n      <th></th>\n      <th>Passanger_Name</th>\n      <th>Flying_month</th>\n      <th>Route</th>\n      <th>Rating</th>\n      <th>Review_title</th>\n      <th>Review_content</th>\n      <th>Traveller_type</th>\n      <th>Class</th>\n    </tr>\n    <tr>\n      <th>Class_fix</th>\n      <th></th>\n      <th></th>\n      <th></th>\n      <th></th>\n      <th></th>\n      <th></th>\n      <th></th>\n      <th></th>\n    </tr>\n  </thead>\n  <tbody>\n    <tr>\n      <th>Business Class</th>\n      <td>1161</td>\n      <td>867</td>\n      <td>867</td>\n      <td>1160</td>\n      <td>1161</td>\n      <td>1161</td>\n      <td>1161</td>\n      <td>1161</td>\n    </tr>\n    <tr>\n      <th>Economy Class</th>\n      <td>1849</td>\n      <td>1521</td>\n      <td>1522</td>\n      <td>1846</td>\n      <td>1849</td>\n      <td>1849</td>\n      <td>1849</td>\n      <td>1849</td>\n    </tr>\n    <tr>\n      <th>First Class</th>\n      <td>212</td>\n      <td>156</td>\n      <td>156</td>\n      <td>211</td>\n      <td>212</td>\n      <td>212</td>\n      <td>212</td>\n      <td>211</td>\n    </tr>\n    <tr>\n      <th>Premium Economy</th>\n      <td>358</td>\n      <td>271</td>\n      <td>271</td>\n      <td>358</td>\n      <td>358</td>\n      <td>358</td>\n      <td>358</td>\n      <td>358</td>\n    </tr>\n  </tbody>\n</table>\n</div>"
     },
     "execution_count": 242,
     "metadata": {},
     "output_type": "execute_result"
    }
   ],
   "source": [
    "#Corrobarting all our values are Class denominatinos\n",
    "airline_data.groupby('Class_fix').count()"
   ],
   "metadata": {
    "collapsed": false,
    "ExecuteTime": {
     "end_time": "2023-11-25T18:27:41.512303900Z",
     "start_time": "2023-11-25T18:27:41.427658800Z"
    }
   }
  },
  {
   "cell_type": "code",
   "execution_count": 243,
   "outputs": [],
   "source": [
    "# 2.2 Flying Month"
   ],
   "metadata": {
    "collapsed": false,
    "ExecuteTime": {
     "end_time": "2023-11-25T18:27:42.061632700Z",
     "start_time": "2023-11-25T18:27:41.999264700Z"
    }
   }
  },
  {
   "cell_type": "code",
   "execution_count": 244,
   "outputs": [
    {
     "data": {
      "text/plain": "                              Passanger_Name  Route  Rating  Review_title  \\\nFlying_month                                                                \nACC to ZRH via LHR                         1      1       1             1   \nAGP to LGW                                 1      1       1             1   \nAMS to BKK via LHR                         1      1       1             1   \nAMS to GRU via LHR                         1      1       1             1   \nAMS to HKG via LHR                         1      1       1             1   \n...                                      ...    ...     ...           ...   \ndoha to londonDoha to London               1      1       1             1   \niAH to LHR                                 1      1       1             1   \nlgw to alicante                            1      1       1             1   \nno                                         9      9       9             9   \nyes                                        2      2       2             2   \n\n                              Review_content  Traveller_type  Class  Class_fix  \nFlying_month                                                                    \nACC to ZRH via LHR                         1               1      1          1  \nAGP to LGW                                 1               1      1          1  \nAMS to BKK via LHR                         1               1      1          1  \nAMS to GRU via LHR                         1               1      1          1  \nAMS to HKG via LHR                         1               1      1          1  \n...                                      ...             ...    ...        ...  \ndoha to londonDoha to London               1               1      1          1  \niAH to LHR                                 1               1      1          1  \nlgw to alicante                            1               1      1          1  \nno                                         9               9      9          9  \nyes                                        2               2      2          2  \n\n[1174 rows x 8 columns]",
      "text/html": "<div>\n<style scoped>\n    .dataframe tbody tr th:only-of-type {\n        vertical-align: middle;\n    }\n\n    .dataframe tbody tr th {\n        vertical-align: top;\n    }\n\n    .dataframe thead th {\n        text-align: right;\n    }\n</style>\n<table border=\"1\" class=\"dataframe\">\n  <thead>\n    <tr style=\"text-align: right;\">\n      <th></th>\n      <th>Passanger_Name</th>\n      <th>Route</th>\n      <th>Rating</th>\n      <th>Review_title</th>\n      <th>Review_content</th>\n      <th>Traveller_type</th>\n      <th>Class</th>\n      <th>Class_fix</th>\n    </tr>\n    <tr>\n      <th>Flying_month</th>\n      <th></th>\n      <th></th>\n      <th></th>\n      <th></th>\n      <th></th>\n      <th></th>\n      <th></th>\n      <th></th>\n    </tr>\n  </thead>\n  <tbody>\n    <tr>\n      <th>ACC to ZRH via LHR</th>\n      <td>1</td>\n      <td>1</td>\n      <td>1</td>\n      <td>1</td>\n      <td>1</td>\n      <td>1</td>\n      <td>1</td>\n      <td>1</td>\n    </tr>\n    <tr>\n      <th>AGP to LGW</th>\n      <td>1</td>\n      <td>1</td>\n      <td>1</td>\n      <td>1</td>\n      <td>1</td>\n      <td>1</td>\n      <td>1</td>\n      <td>1</td>\n    </tr>\n    <tr>\n      <th>AMS to BKK via LHR</th>\n      <td>1</td>\n      <td>1</td>\n      <td>1</td>\n      <td>1</td>\n      <td>1</td>\n      <td>1</td>\n      <td>1</td>\n      <td>1</td>\n    </tr>\n    <tr>\n      <th>AMS to GRU via LHR</th>\n      <td>1</td>\n      <td>1</td>\n      <td>1</td>\n      <td>1</td>\n      <td>1</td>\n      <td>1</td>\n      <td>1</td>\n      <td>1</td>\n    </tr>\n    <tr>\n      <th>AMS to HKG via LHR</th>\n      <td>1</td>\n      <td>1</td>\n      <td>1</td>\n      <td>1</td>\n      <td>1</td>\n      <td>1</td>\n      <td>1</td>\n      <td>1</td>\n    </tr>\n    <tr>\n      <th>...</th>\n      <td>...</td>\n      <td>...</td>\n      <td>...</td>\n      <td>...</td>\n      <td>...</td>\n      <td>...</td>\n      <td>...</td>\n      <td>...</td>\n    </tr>\n    <tr>\n      <th>doha to londonDoha to London</th>\n      <td>1</td>\n      <td>1</td>\n      <td>1</td>\n      <td>1</td>\n      <td>1</td>\n      <td>1</td>\n      <td>1</td>\n      <td>1</td>\n    </tr>\n    <tr>\n      <th>iAH to LHR</th>\n      <td>1</td>\n      <td>1</td>\n      <td>1</td>\n      <td>1</td>\n      <td>1</td>\n      <td>1</td>\n      <td>1</td>\n      <td>1</td>\n    </tr>\n    <tr>\n      <th>lgw to alicante</th>\n      <td>1</td>\n      <td>1</td>\n      <td>1</td>\n      <td>1</td>\n      <td>1</td>\n      <td>1</td>\n      <td>1</td>\n      <td>1</td>\n    </tr>\n    <tr>\n      <th>no</th>\n      <td>9</td>\n      <td>9</td>\n      <td>9</td>\n      <td>9</td>\n      <td>9</td>\n      <td>9</td>\n      <td>9</td>\n      <td>9</td>\n    </tr>\n    <tr>\n      <th>yes</th>\n      <td>2</td>\n      <td>2</td>\n      <td>2</td>\n      <td>2</td>\n      <td>2</td>\n      <td>2</td>\n      <td>2</td>\n      <td>2</td>\n    </tr>\n  </tbody>\n</table>\n<p>1174 rows × 8 columns</p>\n</div>"
     },
     "execution_count": 244,
     "metadata": {},
     "output_type": "execute_result"
    }
   ],
   "source": [
    "### Flying Month: Created Class Fixed Feature\n",
    "airline_data.groupby('Flying_month').count()"
   ],
   "metadata": {
    "collapsed": false,
    "ExecuteTime": {
     "end_time": "2023-11-25T18:27:42.823423Z",
     "start_time": "2023-11-25T18:27:42.772720100Z"
    }
   }
  },
  {
   "cell_type": "code",
   "execution_count": 245,
   "outputs": [
    {
     "data": {
      "text/plain": "0       New Orleans to London\n1             London to Amman\n2              Business Class\n3             Amman to London\n4              Business Class\n                ...          \n3575                     None\n3576                     None\n3577                     None\n3578                     None\n3579                     None\nName: Route, Length: 3580, dtype: object"
     },
     "execution_count": 245,
     "metadata": {},
     "output_type": "execute_result"
    }
   ],
   "source": [
    "airline_data['Route'].fillna('None')"
   ],
   "metadata": {
    "collapsed": false,
    "ExecuteTime": {
     "end_time": "2023-11-25T18:27:44.330066200Z",
     "start_time": "2023-11-25T18:27:44.169750Z"
    }
   }
  },
  {
   "cell_type": "code",
   "execution_count": 246,
   "outputs": [],
   "source": [
    "#Create New Column to modify as the column could have data usefull for others\n",
    "airline_data['Route_fix'] = airline_data['Route']"
   ],
   "metadata": {
    "collapsed": false,
    "ExecuteTime": {
     "end_time": "2023-11-25T18:27:45.037063600Z",
     "start_time": "2023-11-25T18:27:44.836517300Z"
    }
   }
  },
  {
   "cell_type": "code",
   "execution_count": 247,
   "outputs": [],
   "source": [
    "#Copy useful data from Route Column\n",
    "Copy_flying = airline_data[(airline_data['Route_fix'] == 'Premium Economy') | (airline_data['Route_fix'] == 'Business Class') | (\n",
    "                airline_data['Route_fix'] == 'First Class') | (airline_data['Route_fix'] == 'Economy Class')]['Flying_month']"
   ],
   "metadata": {
    "collapsed": false,
    "ExecuteTime": {
     "end_time": "2023-11-25T18:27:45.648743800Z",
     "start_time": "2023-11-25T18:27:45.612087800Z"
    }
   }
  },
  {
   "cell_type": "code",
   "execution_count": 248,
   "outputs": [
    {
     "data": {
      "text/plain": "2                Heathrow to Bodrum\n4              London City to Ibiza\n6               Amsterdam to London\n7       London Heathrow to Kalamata\n16               Santiago to London\n                   ...             \n2808            Gatwick to Barbados\n2809                 Kiev to London\n2811        London-Vancouver return\n2812                        LHR-ORD\n2815                            yes\nName: Flying_month, Length: 1858, dtype: object"
     },
     "execution_count": 248,
     "metadata": {},
     "output_type": "execute_result"
    }
   ],
   "source": [
    "Copy_flying"
   ],
   "metadata": {
    "collapsed": false,
    "ExecuteTime": {
     "end_time": "2023-11-25T18:27:46.509564100Z",
     "start_time": "2023-11-25T18:27:46.458961600Z"
    }
   }
  },
  {
   "cell_type": "code",
   "execution_count": 249,
   "outputs": [],
   "source": [
    "#Paste Data in the new Class Column, filtering by rows without relevant information for Class\n",
    "airline_data['Route_fix'][(airline_data['Route_fix'] == 'Premium Economy') | (airline_data['Route_fix'] == 'Business Class') | (\n",
    "                airline_data['Route_fix'] == 'First Class') | (airline_data['Route_fix'] == 'Economy Class')] = Copy_flying"
   ],
   "metadata": {
    "collapsed": false,
    "ExecuteTime": {
     "end_time": "2023-11-25T18:27:47.218503100Z",
     "start_time": "2023-11-25T18:27:47.118390300Z"
    }
   }
  },
  {
   "cell_type": "code",
   "execution_count": 250,
   "outputs": [
    {
     "data": {
      "text/plain": "         Passanger_Name          Flying_month                  Route  Rating  \\\n0            Paige Boet                Jun-23  New Orleans to London     1.0   \n1               S Layne                Mar-23        London to Amman     1.0   \n2           E Lanewoski    Heathrow to Bodrum         Business Class     2.0   \n3           Joel Burman                Jun-23        Amman to London     4.0   \n4               R Vines  London City to Ibiza         Business Class     7.0   \n...                 ...                   ...                    ...     ...   \n3575           W Benson                   NaN                    NaN     4.0   \n3576           S Luqman                   NaN                    NaN     4.0   \n3577            D Smith                   NaN                    NaN     4.0   \n3578           W Benson                   NaN                    NaN     6.0   \n3579  Michael Dielissen                   NaN                    NaN     8.0   \n\n                                Review_title  \\\n0                The airline lost my luggage   \n1     fully refunded by our travel insurance   \n2                no boarding drinks provided   \n3                          WiFi didn't work    \n4                         stick with economy   \n...                                      ...   \n3575         British Airways customer review   \n3576         British Airways customer review   \n3577         British Airways customer review   \n3578         British Airways customer review   \n3579         British Airways customer review   \n\n                                         Review_content   Traveller_type  \\\n0     The airline lost my luggage and was absolutely...     Solo Leisure   \n1     We booked on the BA website, round trip flight...   Couple Leisure   \n2     First time flying with BA business class, neve...         A321 neo   \n3     You can buy sandwiches and crisps but don't ex...     Solo Leisure   \n4     This is a two-for-one review covering economy ...      Embraer 190   \n...                                                 ...              ...   \n3575  LHR-HKG on Boeing 747 - 23/08/12. Much has bee...    Economy Class   \n3576  Just got back from Bridgetown Barbados flying ...    Economy Class   \n3577  LHR-JFK-LAX-LHR. Check in was ok apart from be...    Economy Class   \n3578  HKG-LHR in New Club World on Boeing 777-300 - ...   Business Class   \n3579  YYZ to LHR - July 2012 - I flew overnight in p...  Premium Economy   \n\n               Class        Class_fix              Route_fix  \n0      Economy Class    Economy Class  New Orleans to London  \n1     Business Class   Business Class        London to Amman  \n2       Solo Leisure   Business Class     Heathrow to Bodrum  \n3      Economy Class    Economy Class        Amman to London  \n4     Family Leisure   Business Class   London City to Ibiza  \n...              ...              ...                    ...  \n3575              no    Economy Class                    NaN  \n3576              no    Economy Class                    NaN  \n3577              no    Economy Class                    NaN  \n3578             yes   Business Class                    NaN  \n3579             yes  Premium Economy                    NaN  \n\n[3580 rows x 10 columns]",
      "text/html": "<div>\n<style scoped>\n    .dataframe tbody tr th:only-of-type {\n        vertical-align: middle;\n    }\n\n    .dataframe tbody tr th {\n        vertical-align: top;\n    }\n\n    .dataframe thead th {\n        text-align: right;\n    }\n</style>\n<table border=\"1\" class=\"dataframe\">\n  <thead>\n    <tr style=\"text-align: right;\">\n      <th></th>\n      <th>Passanger_Name</th>\n      <th>Flying_month</th>\n      <th>Route</th>\n      <th>Rating</th>\n      <th>Review_title</th>\n      <th>Review_content</th>\n      <th>Traveller_type</th>\n      <th>Class</th>\n      <th>Class_fix</th>\n      <th>Route_fix</th>\n    </tr>\n  </thead>\n  <tbody>\n    <tr>\n      <th>0</th>\n      <td>Paige Boet</td>\n      <td>Jun-23</td>\n      <td>New Orleans to London</td>\n      <td>1.0</td>\n      <td>The airline lost my luggage</td>\n      <td>The airline lost my luggage and was absolutely...</td>\n      <td>Solo Leisure</td>\n      <td>Economy Class</td>\n      <td>Economy Class</td>\n      <td>New Orleans to London</td>\n    </tr>\n    <tr>\n      <th>1</th>\n      <td>S Layne</td>\n      <td>Mar-23</td>\n      <td>London to Amman</td>\n      <td>1.0</td>\n      <td>fully refunded by our travel insurance</td>\n      <td>We booked on the BA website, round trip flight...</td>\n      <td>Couple Leisure</td>\n      <td>Business Class</td>\n      <td>Business Class</td>\n      <td>London to Amman</td>\n    </tr>\n    <tr>\n      <th>2</th>\n      <td>E Lanewoski</td>\n      <td>Heathrow to Bodrum</td>\n      <td>Business Class</td>\n      <td>2.0</td>\n      <td>no boarding drinks provided</td>\n      <td>First time flying with BA business class, neve...</td>\n      <td>A321 neo</td>\n      <td>Solo Leisure</td>\n      <td>Business Class</td>\n      <td>Heathrow to Bodrum</td>\n    </tr>\n    <tr>\n      <th>3</th>\n      <td>Joel Burman</td>\n      <td>Jun-23</td>\n      <td>Amman to London</td>\n      <td>4.0</td>\n      <td>WiFi didn't work</td>\n      <td>You can buy sandwiches and crisps but don't ex...</td>\n      <td>Solo Leisure</td>\n      <td>Economy Class</td>\n      <td>Economy Class</td>\n      <td>Amman to London</td>\n    </tr>\n    <tr>\n      <th>4</th>\n      <td>R Vines</td>\n      <td>London City to Ibiza</td>\n      <td>Business Class</td>\n      <td>7.0</td>\n      <td>stick with economy</td>\n      <td>This is a two-for-one review covering economy ...</td>\n      <td>Embraer 190</td>\n      <td>Family Leisure</td>\n      <td>Business Class</td>\n      <td>London City to Ibiza</td>\n    </tr>\n    <tr>\n      <th>...</th>\n      <td>...</td>\n      <td>...</td>\n      <td>...</td>\n      <td>...</td>\n      <td>...</td>\n      <td>...</td>\n      <td>...</td>\n      <td>...</td>\n      <td>...</td>\n      <td>...</td>\n    </tr>\n    <tr>\n      <th>3575</th>\n      <td>W Benson</td>\n      <td>NaN</td>\n      <td>NaN</td>\n      <td>4.0</td>\n      <td>British Airways customer review</td>\n      <td>LHR-HKG on Boeing 747 - 23/08/12. Much has bee...</td>\n      <td>Economy Class</td>\n      <td>no</td>\n      <td>Economy Class</td>\n      <td>NaN</td>\n    </tr>\n    <tr>\n      <th>3576</th>\n      <td>S Luqman</td>\n      <td>NaN</td>\n      <td>NaN</td>\n      <td>4.0</td>\n      <td>British Airways customer review</td>\n      <td>Just got back from Bridgetown Barbados flying ...</td>\n      <td>Economy Class</td>\n      <td>no</td>\n      <td>Economy Class</td>\n      <td>NaN</td>\n    </tr>\n    <tr>\n      <th>3577</th>\n      <td>D Smith</td>\n      <td>NaN</td>\n      <td>NaN</td>\n      <td>4.0</td>\n      <td>British Airways customer review</td>\n      <td>LHR-JFK-LAX-LHR. Check in was ok apart from be...</td>\n      <td>Economy Class</td>\n      <td>no</td>\n      <td>Economy Class</td>\n      <td>NaN</td>\n    </tr>\n    <tr>\n      <th>3578</th>\n      <td>W Benson</td>\n      <td>NaN</td>\n      <td>NaN</td>\n      <td>6.0</td>\n      <td>British Airways customer review</td>\n      <td>HKG-LHR in New Club World on Boeing 777-300 - ...</td>\n      <td>Business Class</td>\n      <td>yes</td>\n      <td>Business Class</td>\n      <td>NaN</td>\n    </tr>\n    <tr>\n      <th>3579</th>\n      <td>Michael Dielissen</td>\n      <td>NaN</td>\n      <td>NaN</td>\n      <td>8.0</td>\n      <td>British Airways customer review</td>\n      <td>YYZ to LHR - July 2012 - I flew overnight in p...</td>\n      <td>Premium Economy</td>\n      <td>yes</td>\n      <td>Premium Economy</td>\n      <td>NaN</td>\n    </tr>\n  </tbody>\n</table>\n<p>3580 rows × 10 columns</p>\n</div>"
     },
     "execution_count": 250,
     "metadata": {},
     "output_type": "execute_result"
    }
   ],
   "source": [
    "airline_data"
   ],
   "metadata": {
    "collapsed": false,
    "ExecuteTime": {
     "start_time": "2023-11-25T18:27:48.163469200Z"
    }
   }
  },
  {
   "cell_type": "code",
   "execution_count": 251,
   "outputs": [
    {
     "data": {
      "text/plain": "         Passanger_Name       Flying_month          Route  Rating  \\\n42       Nicholas Felty                 no         May-23     1.0   \n103      Janeks Volkovs  London Singapore   Economy Class     8.0   \n224       Mark Robinson                 no         Jul-22     1.0   \n234          Paul Mayer                 no         Jun-22     1.0   \n419   barbara ciereszko                 no         Jul-21     1.0   \n...                 ...                ...            ...     ...   \n3575           W Benson                NaN            NaN     4.0   \n3576           S Luqman                NaN            NaN     4.0   \n3577            D Smith                NaN            NaN     4.0   \n3578           W Benson                NaN            NaN     6.0   \n3579  Michael Dielissen                NaN            NaN     8.0   \n\n                          Review_title  \\\n42       I had to reschedule my flight   \n103         nice and professional crew   \n224       become an absolute nightmare   \n234   do not allow free seat selection   \n419               no refund issued yet   \n...                                ...   \n3575   British Airways customer review   \n3576   British Airways customer review   \n3577   British Airways customer review   \n3578   British Airways customer review   \n3579   British Airways customer review   \n\n                                         Review_content   Traveller_type  \\\n42    I booked business class tickets for my fiancé ...   Couple Leisure   \n103   Although it was a bit uncomfortable flight in ...       Boeing 787   \n224   Over 1 week ago I cancelled 2 Club Europe flig...   Business Class   \n234   Second time getting poor service from BA. 1st,...   Family Leisure   \n419   Booked flight six months before travel, then m...   Family Leisure   \n...                                                 ...              ...   \n3575  LHR-HKG on Boeing 747 - 23/08/12. Much has bee...    Economy Class   \n3576  Just got back from Bridgetown Barbados flying ...    Economy Class   \n3577  LHR-JFK-LAX-LHR. Check in was ok apart from be...    Economy Class   \n3578  HKG-LHR in New Club World on Boeing 777-300 - ...   Business Class   \n3579  YYZ to LHR - July 2012 - I flew overnight in p...  Premium Economy   \n\n                 Class        Class_fix          Route_fix  \n42      Business Class   Business Class             May-23  \n103       Solo Leisure    Economy Class  London Singapore   \n224   London to Malaga   Business Class             Jul-22  \n234     Business Class   Business Class             Jun-22  \n419      Economy Class    Economy Class             Jul-21  \n...                ...              ...                ...  \n3575                no    Economy Class                NaN  \n3576                no    Economy Class                NaN  \n3577                no    Economy Class                NaN  \n3578               yes   Business Class                NaN  \n3579               yes  Premium Economy                NaN  \n\n[788 rows x 10 columns]",
      "text/html": "<div>\n<style scoped>\n    .dataframe tbody tr th:only-of-type {\n        vertical-align: middle;\n    }\n\n    .dataframe tbody tr th {\n        vertical-align: top;\n    }\n\n    .dataframe thead th {\n        text-align: right;\n    }\n</style>\n<table border=\"1\" class=\"dataframe\">\n  <thead>\n    <tr style=\"text-align: right;\">\n      <th></th>\n      <th>Passanger_Name</th>\n      <th>Flying_month</th>\n      <th>Route</th>\n      <th>Rating</th>\n      <th>Review_title</th>\n      <th>Review_content</th>\n      <th>Traveller_type</th>\n      <th>Class</th>\n      <th>Class_fix</th>\n      <th>Route_fix</th>\n    </tr>\n  </thead>\n  <tbody>\n    <tr>\n      <th>42</th>\n      <td>Nicholas Felty</td>\n      <td>no</td>\n      <td>May-23</td>\n      <td>1.0</td>\n      <td>I had to reschedule my flight</td>\n      <td>I booked business class tickets for my fiancé ...</td>\n      <td>Couple Leisure</td>\n      <td>Business Class</td>\n      <td>Business Class</td>\n      <td>May-23</td>\n    </tr>\n    <tr>\n      <th>103</th>\n      <td>Janeks Volkovs</td>\n      <td>London Singapore</td>\n      <td>Economy Class</td>\n      <td>8.0</td>\n      <td>nice and professional crew</td>\n      <td>Although it was a bit uncomfortable flight in ...</td>\n      <td>Boeing 787</td>\n      <td>Solo Leisure</td>\n      <td>Economy Class</td>\n      <td>London Singapore</td>\n    </tr>\n    <tr>\n      <th>224</th>\n      <td>Mark Robinson</td>\n      <td>no</td>\n      <td>Jul-22</td>\n      <td>1.0</td>\n      <td>become an absolute nightmare</td>\n      <td>Over 1 week ago I cancelled 2 Club Europe flig...</td>\n      <td>Business Class</td>\n      <td>London to Malaga</td>\n      <td>Business Class</td>\n      <td>Jul-22</td>\n    </tr>\n    <tr>\n      <th>234</th>\n      <td>Paul Mayer</td>\n      <td>no</td>\n      <td>Jun-22</td>\n      <td>1.0</td>\n      <td>do not allow free seat selection</td>\n      <td>Second time getting poor service from BA. 1st,...</td>\n      <td>Family Leisure</td>\n      <td>Business Class</td>\n      <td>Business Class</td>\n      <td>Jun-22</td>\n    </tr>\n    <tr>\n      <th>419</th>\n      <td>barbara ciereszko</td>\n      <td>no</td>\n      <td>Jul-21</td>\n      <td>1.0</td>\n      <td>no refund issued yet</td>\n      <td>Booked flight six months before travel, then m...</td>\n      <td>Family Leisure</td>\n      <td>Economy Class</td>\n      <td>Economy Class</td>\n      <td>Jul-21</td>\n    </tr>\n    <tr>\n      <th>...</th>\n      <td>...</td>\n      <td>...</td>\n      <td>...</td>\n      <td>...</td>\n      <td>...</td>\n      <td>...</td>\n      <td>...</td>\n      <td>...</td>\n      <td>...</td>\n      <td>...</td>\n    </tr>\n    <tr>\n      <th>3575</th>\n      <td>W Benson</td>\n      <td>NaN</td>\n      <td>NaN</td>\n      <td>4.0</td>\n      <td>British Airways customer review</td>\n      <td>LHR-HKG on Boeing 747 - 23/08/12. Much has bee...</td>\n      <td>Economy Class</td>\n      <td>no</td>\n      <td>Economy Class</td>\n      <td>NaN</td>\n    </tr>\n    <tr>\n      <th>3576</th>\n      <td>S Luqman</td>\n      <td>NaN</td>\n      <td>NaN</td>\n      <td>4.0</td>\n      <td>British Airways customer review</td>\n      <td>Just got back from Bridgetown Barbados flying ...</td>\n      <td>Economy Class</td>\n      <td>no</td>\n      <td>Economy Class</td>\n      <td>NaN</td>\n    </tr>\n    <tr>\n      <th>3577</th>\n      <td>D Smith</td>\n      <td>NaN</td>\n      <td>NaN</td>\n      <td>4.0</td>\n      <td>British Airways customer review</td>\n      <td>LHR-JFK-LAX-LHR. Check in was ok apart from be...</td>\n      <td>Economy Class</td>\n      <td>no</td>\n      <td>Economy Class</td>\n      <td>NaN</td>\n    </tr>\n    <tr>\n      <th>3578</th>\n      <td>W Benson</td>\n      <td>NaN</td>\n      <td>NaN</td>\n      <td>6.0</td>\n      <td>British Airways customer review</td>\n      <td>HKG-LHR in New Club World on Boeing 777-300 - ...</td>\n      <td>Business Class</td>\n      <td>yes</td>\n      <td>Business Class</td>\n      <td>NaN</td>\n    </tr>\n    <tr>\n      <th>3579</th>\n      <td>Michael Dielissen</td>\n      <td>NaN</td>\n      <td>NaN</td>\n      <td>8.0</td>\n      <td>British Airways customer review</td>\n      <td>YYZ to LHR - July 2012 - I flew overnight in p...</td>\n      <td>Premium Economy</td>\n      <td>yes</td>\n      <td>Premium Economy</td>\n      <td>NaN</td>\n    </tr>\n  </tbody>\n</table>\n<p>788 rows × 10 columns</p>\n</div>"
     },
     "execution_count": 251,
     "metadata": {},
     "output_type": "execute_result"
    }
   ],
   "source": [
    "airline_data[~airline_data['Route_fix'].str.contains('to', na=False)]"
   ],
   "metadata": {
    "collapsed": false,
    "ExecuteTime": {
     "start_time": "2023-11-25T18:27:52.092041200Z"
    }
   }
  },
  {
   "cell_type": "code",
   "execution_count": null,
   "outputs": [],
   "source": [
    "Extraer de Traveller algunos"
   ],
   "metadata": {
    "collapsed": false
   }
  },
  {
   "cell_type": "markdown",
   "source": [
    "Siguiente paso, extraer texto de Review content, donde aparecen los destinosy colocarlos en Columna fix"
   ],
   "metadata": {
    "collapsed": false
   }
  },
  {
   "cell_type": "code",
   "execution_count": null,
   "outputs": [],
   "source": [],
   "metadata": {
    "collapsed": false
   }
  },
  {
   "cell_type": "code",
   "execution_count": null,
   "outputs": [],
   "source": [],
   "metadata": {
    "collapsed": false
   }
  },
  {
   "cell_type": "code",
   "execution_count": 218,
   "outputs": [
    {
     "data": {
      "text/plain": "                            Passanger_Name  Flying_month  Route  Rating  \\\nRoute_fix                                                                 \n London Heathrow to Madrid               1             1      1       1   \nABV to LHR                               1             1      1       1   \nABZ to SFO via LHR                       1             1      1       1   \nACC to LHR                               1             1      1       1   \nAGP to LGW                               1             1      1       1   \n...                                    ...           ...    ...     ...   \nZagreb to London                         1             1      1       1   \nZagreb to London Heathrow                1             1      1       1   \nZurich to London                         5             5      5       5   \nZurich to London Heathrow                2             2      2       2   \nyes                                      1             0      1       1   \n\n                            Review_title  Review_content  Traveller_type  \\\nRoute_fix                                                                  \n London Heathrow to Madrid             1               1               1   \nABV to LHR                             1               1               1   \nABZ to SFO via LHR                     1               1               1   \nACC to LHR                             1               1               1   \nAGP to LGW                             1               1               1   \n...                                  ...             ...             ...   \nZagreb to London                       1               1               1   \nZagreb to London Heathrow              1               1               1   \nZurich to London                       5               5               5   \nZurich to London Heathrow              2               2               2   \nyes                                    1               1               1   \n\n                            Class  Class_fix  \nRoute_fix                                     \n London Heathrow to Madrid      1          1  \nABV to LHR                      1          1  \nABZ to SFO via LHR              1          1  \nACC to LHR                      1          1  \nAGP to LGW                      1          1  \n...                           ...        ...  \nZagreb to London                1          1  \nZagreb to London Heathrow       1          1  \nZurich to London                5          5  \nZurich to London Heathrow       2          2  \nyes                             1          1  \n\n[734 rows x 9 columns]",
      "text/html": "<div>\n<style scoped>\n    .dataframe tbody tr th:only-of-type {\n        vertical-align: middle;\n    }\n\n    .dataframe tbody tr th {\n        vertical-align: top;\n    }\n\n    .dataframe thead th {\n        text-align: right;\n    }\n</style>\n<table border=\"1\" class=\"dataframe\">\n  <thead>\n    <tr style=\"text-align: right;\">\n      <th></th>\n      <th>Passanger_Name</th>\n      <th>Flying_month</th>\n      <th>Route</th>\n      <th>Rating</th>\n      <th>Review_title</th>\n      <th>Review_content</th>\n      <th>Traveller_type</th>\n      <th>Class</th>\n      <th>Class_fix</th>\n    </tr>\n    <tr>\n      <th>Route_fix</th>\n      <th></th>\n      <th></th>\n      <th></th>\n      <th></th>\n      <th></th>\n      <th></th>\n      <th></th>\n      <th></th>\n      <th></th>\n    </tr>\n  </thead>\n  <tbody>\n    <tr>\n      <th>London Heathrow to Madrid</th>\n      <td>1</td>\n      <td>1</td>\n      <td>1</td>\n      <td>1</td>\n      <td>1</td>\n      <td>1</td>\n      <td>1</td>\n      <td>1</td>\n      <td>1</td>\n    </tr>\n    <tr>\n      <th>ABV to LHR</th>\n      <td>1</td>\n      <td>1</td>\n      <td>1</td>\n      <td>1</td>\n      <td>1</td>\n      <td>1</td>\n      <td>1</td>\n      <td>1</td>\n      <td>1</td>\n    </tr>\n    <tr>\n      <th>ABZ to SFO via LHR</th>\n      <td>1</td>\n      <td>1</td>\n      <td>1</td>\n      <td>1</td>\n      <td>1</td>\n      <td>1</td>\n      <td>1</td>\n      <td>1</td>\n      <td>1</td>\n    </tr>\n    <tr>\n      <th>ACC to LHR</th>\n      <td>1</td>\n      <td>1</td>\n      <td>1</td>\n      <td>1</td>\n      <td>1</td>\n      <td>1</td>\n      <td>1</td>\n      <td>1</td>\n      <td>1</td>\n    </tr>\n    <tr>\n      <th>AGP to LGW</th>\n      <td>1</td>\n      <td>1</td>\n      <td>1</td>\n      <td>1</td>\n      <td>1</td>\n      <td>1</td>\n      <td>1</td>\n      <td>1</td>\n      <td>1</td>\n    </tr>\n    <tr>\n      <th>...</th>\n      <td>...</td>\n      <td>...</td>\n      <td>...</td>\n      <td>...</td>\n      <td>...</td>\n      <td>...</td>\n      <td>...</td>\n      <td>...</td>\n      <td>...</td>\n    </tr>\n    <tr>\n      <th>Zagreb to London</th>\n      <td>1</td>\n      <td>1</td>\n      <td>1</td>\n      <td>1</td>\n      <td>1</td>\n      <td>1</td>\n      <td>1</td>\n      <td>1</td>\n      <td>1</td>\n    </tr>\n    <tr>\n      <th>Zagreb to London Heathrow</th>\n      <td>1</td>\n      <td>1</td>\n      <td>1</td>\n      <td>1</td>\n      <td>1</td>\n      <td>1</td>\n      <td>1</td>\n      <td>1</td>\n      <td>1</td>\n    </tr>\n    <tr>\n      <th>Zurich to London</th>\n      <td>5</td>\n      <td>5</td>\n      <td>5</td>\n      <td>5</td>\n      <td>5</td>\n      <td>5</td>\n      <td>5</td>\n      <td>5</td>\n      <td>5</td>\n    </tr>\n    <tr>\n      <th>Zurich to London Heathrow</th>\n      <td>2</td>\n      <td>2</td>\n      <td>2</td>\n      <td>2</td>\n      <td>2</td>\n      <td>2</td>\n      <td>2</td>\n      <td>2</td>\n      <td>2</td>\n    </tr>\n    <tr>\n      <th>yes</th>\n      <td>1</td>\n      <td>0</td>\n      <td>1</td>\n      <td>1</td>\n      <td>1</td>\n      <td>1</td>\n      <td>1</td>\n      <td>1</td>\n      <td>1</td>\n    </tr>\n  </tbody>\n</table>\n<p>734 rows × 9 columns</p>\n</div>"
     },
     "execution_count": 218,
     "metadata": {},
     "output_type": "execute_result"
    }
   ],
   "source": [
    "#Corrobarting all our values are Class denominatinos\n",
    "airline_data.groupby('Route_fix').count()"
   ],
   "metadata": {
    "collapsed": false,
    "ExecuteTime": {
     "start_time": "2023-11-25T18:23:38.815959600Z"
    }
   }
  }
 ],
 "metadata": {
  "colab": {
   "include_colab_link": true,
   "provenance": []
  },
  "kernelspec": {
   "display_name": "Python 3 (ipykernel)",
   "language": "python",
   "name": "python3"
  },
  "language_info": {
   "codemirror_mode": {
    "name": "ipython",
    "version": 3
   },
   "file_extension": ".py",
   "mimetype": "text/x-python",
   "name": "python",
   "nbconvert_exporter": "python",
   "pygments_lexer": "ipython3",
   "version": "3.11.2"
  }
 },
 "nbformat": 4,
 "nbformat_minor": 4
}
