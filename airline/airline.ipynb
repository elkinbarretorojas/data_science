{
 "cells": [
  {
   "cell_type": "markdown",
   "source": [
    "# Airline Dataset"
   ],
   "metadata": {
    "collapsed": false
   }
  },
  {
   "cell_type": "markdown",
   "source": [
    "## 1. Import Libraries"
   ],
   "metadata": {
    "collapsed": false
   }
  },
  {
   "cell_type": "code",
   "execution_count": 332,
   "outputs": [],
   "source": [
    "import pandas as pd\n",
    "import numpy as np\n",
    "import seaborn as sns                       #visualisation\n",
    "import matplotlib.pyplot as plt             #visualisation\n",
    "import warnings\n",
    "from scipy.stats import shapiro\n",
    "from scipy.stats import kstest\n",
    "from scipy.stats import chisquare\n",
    "from sklearn.linear_model import LinearRegression\n",
    "warnings.filterwarnings('ignore')"
   ],
   "metadata": {
    "collapsed": false,
    "ExecuteTime": {
     "end_time": "2023-11-27T08:39:05.171773700Z",
     "start_time": "2023-11-27T08:39:04.588599500Z"
    }
   }
  },
  {
   "cell_type": "markdown",
   "source": [
    "## 2. Loading the data into the data frame."
   ],
   "metadata": {
    "collapsed": false
   }
  },
  {
   "cell_type": "code",
   "execution_count": 333,
   "outputs": [
    {
     "data": {
      "text/plain": "  Passanger_Name          Flying_month                  Route  Rating  \\\n0     Paige Boet                Jun-23  New Orleans to London     1.0   \n1        S Layne                Mar-23        London to Amman     1.0   \n2    E Lanewoski    Heathrow to Bodrum         Business Class     2.0   \n3    Joel Burman                Jun-23        Amman to London     4.0   \n4        R Vines  London City to Ibiza         Business Class     7.0   \n\n        Verified                            Review_title  \\\n0  Trip Verified             The airline lost my luggage   \n1  Trip Verified  fully refunded by our travel insurance   \n2  Trip Verified             no boarding drinks provided   \n3   Not Verified                       WiFi didn't work    \n4  Trip Verified                      stick with economy   \n\n                                      Review_content  Traveller_type  \\\n0  The airline lost my luggage and was absolutely...    Solo Leisure   \n1  We booked on the BA website, round trip flight...  Couple Leisure   \n2  First time flying with BA business class, neve...        A321 neo   \n3  You can buy sandwiches and crisps but don't ex...    Solo Leisure   \n4  This is a two-for-one review covering economy ...     Embraer 190   \n\n            Class  \n0   Economy Class  \n1  Business Class  \n2    Solo Leisure  \n3   Economy Class  \n4  Family Leisure  ",
      "text/html": "<div>\n<style scoped>\n    .dataframe tbody tr th:only-of-type {\n        vertical-align: middle;\n    }\n\n    .dataframe tbody tr th {\n        vertical-align: top;\n    }\n\n    .dataframe thead th {\n        text-align: right;\n    }\n</style>\n<table border=\"1\" class=\"dataframe\">\n  <thead>\n    <tr style=\"text-align: right;\">\n      <th></th>\n      <th>Passanger_Name</th>\n      <th>Flying_month</th>\n      <th>Route</th>\n      <th>Rating</th>\n      <th>Verified</th>\n      <th>Review_title</th>\n      <th>Review_content</th>\n      <th>Traveller_type</th>\n      <th>Class</th>\n    </tr>\n  </thead>\n  <tbody>\n    <tr>\n      <th>0</th>\n      <td>Paige Boet</td>\n      <td>Jun-23</td>\n      <td>New Orleans to London</td>\n      <td>1.0</td>\n      <td>Trip Verified</td>\n      <td>The airline lost my luggage</td>\n      <td>The airline lost my luggage and was absolutely...</td>\n      <td>Solo Leisure</td>\n      <td>Economy Class</td>\n    </tr>\n    <tr>\n      <th>1</th>\n      <td>S Layne</td>\n      <td>Mar-23</td>\n      <td>London to Amman</td>\n      <td>1.0</td>\n      <td>Trip Verified</td>\n      <td>fully refunded by our travel insurance</td>\n      <td>We booked on the BA website, round trip flight...</td>\n      <td>Couple Leisure</td>\n      <td>Business Class</td>\n    </tr>\n    <tr>\n      <th>2</th>\n      <td>E Lanewoski</td>\n      <td>Heathrow to Bodrum</td>\n      <td>Business Class</td>\n      <td>2.0</td>\n      <td>Trip Verified</td>\n      <td>no boarding drinks provided</td>\n      <td>First time flying with BA business class, neve...</td>\n      <td>A321 neo</td>\n      <td>Solo Leisure</td>\n    </tr>\n    <tr>\n      <th>3</th>\n      <td>Joel Burman</td>\n      <td>Jun-23</td>\n      <td>Amman to London</td>\n      <td>4.0</td>\n      <td>Not Verified</td>\n      <td>WiFi didn't work</td>\n      <td>You can buy sandwiches and crisps but don't ex...</td>\n      <td>Solo Leisure</td>\n      <td>Economy Class</td>\n    </tr>\n    <tr>\n      <th>4</th>\n      <td>R Vines</td>\n      <td>London City to Ibiza</td>\n      <td>Business Class</td>\n      <td>7.0</td>\n      <td>Trip Verified</td>\n      <td>stick with economy</td>\n      <td>This is a two-for-one review covering economy ...</td>\n      <td>Embraer 190</td>\n      <td>Family Leisure</td>\n    </tr>\n  </tbody>\n</table>\n</div>"
     },
     "execution_count": 333,
     "metadata": {},
     "output_type": "execute_result"
    }
   ],
   "source": [
    "#Read File from CSV file and saving it in airline_data DataFrame\n",
    "df = pd.read_csv(\"airline_data.csv\")\n",
    "airline_data = df\n",
    "# To display the top 5 rows\n",
    "airline_data.head()"
   ],
   "metadata": {
    "collapsed": false,
    "ExecuteTime": {
     "end_time": "2023-11-27T08:39:08.284466800Z",
     "start_time": "2023-11-27T08:39:04.610551500Z"
    }
   }
  },
  {
   "cell_type": "code",
   "execution_count": 334,
   "outputs": [
    {
     "name": "stdout",
     "output_type": "stream",
     "text": [
      "<class 'pandas.core.frame.DataFrame'>\n",
      "RangeIndex: 3580 entries, 0 to 3579\n",
      "Data columns (total 9 columns):\n",
      " #   Column          Non-Null Count  Dtype  \n",
      "---  ------          --------------  -----  \n",
      " 0   Passanger_Name  3580 non-null   object \n",
      " 1   Flying_month    2815 non-null   object \n",
      " 2   Route           2816 non-null   object \n",
      " 3   Rating          3575 non-null   float64\n",
      " 4   Verified        1270 non-null   object \n",
      " 5   Review_title    3580 non-null   object \n",
      " 6   Review_content  3580 non-null   object \n",
      " 7   Traveller_type  3580 non-null   object \n",
      " 8   Class           3579 non-null   object \n",
      "dtypes: float64(1), object(8)\n",
      "memory usage: 251.8+ KB\n"
     ]
    }
   ],
   "source": [
    "#Perform Info/Describe to see the structure of the Datframe\n",
    "airline_data.info()"
   ],
   "metadata": {
    "collapsed": false,
    "ExecuteTime": {
     "end_time": "2023-11-27T08:39:08.345719100Z",
     "start_time": "2023-11-27T08:39:04.777528Z"
    }
   }
  },
  {
   "cell_type": "code",
   "execution_count": 335,
   "outputs": [
    {
     "data": {
      "text/plain": "         count     mean       std  min  25%  50%  75%   max\nRating  3575.0  4.79049  3.170323  1.0  2.0  4.0  8.0  10.0",
      "text/html": "<div>\n<style scoped>\n    .dataframe tbody tr th:only-of-type {\n        vertical-align: middle;\n    }\n\n    .dataframe tbody tr th {\n        vertical-align: top;\n    }\n\n    .dataframe thead th {\n        text-align: right;\n    }\n</style>\n<table border=\"1\" class=\"dataframe\">\n  <thead>\n    <tr style=\"text-align: right;\">\n      <th></th>\n      <th>count</th>\n      <th>mean</th>\n      <th>std</th>\n      <th>min</th>\n      <th>25%</th>\n      <th>50%</th>\n      <th>75%</th>\n      <th>max</th>\n    </tr>\n  </thead>\n  <tbody>\n    <tr>\n      <th>Rating</th>\n      <td>3575.0</td>\n      <td>4.79049</td>\n      <td>3.170323</td>\n      <td>1.0</td>\n      <td>2.0</td>\n      <td>4.0</td>\n      <td>8.0</td>\n      <td>10.0</td>\n    </tr>\n  </tbody>\n</table>\n</div>"
     },
     "execution_count": 335,
     "metadata": {},
     "output_type": "execute_result"
    }
   ],
   "source": [
    "airline_data.describe().T"
   ],
   "metadata": {
    "collapsed": false,
    "ExecuteTime": {
     "end_time": "2023-11-27T08:39:08.550307200Z",
     "start_time": "2023-11-27T08:39:04.800938800Z"
    }
   }
  },
  {
   "cell_type": "markdown",
   "source": [
    "# 3. Cleaning Dataset"
   ],
   "metadata": {
    "collapsed": false
   }
  },
  {
   "cell_type": "code",
   "execution_count": 336,
   "outputs": [
    {
     "data": {
      "text/plain": "Passanger_Name     0.000000\nFlying_month      21.368715\nRoute             21.340782\nRating             0.139665\nVerified          64.525140\nReview_title       0.000000\nReview_content     0.000000\nTraveller_type     0.000000\nClass              0.027933\ndtype: float64"
     },
     "execution_count": 336,
     "metadata": {},
     "output_type": "execute_result"
    }
   ],
   "source": [
    "#Checkign the percentage of Null values betweeen the total of values per column\n",
    "percentage_null = (airline_data.isnull().sum() / len(airline_data))*100\n",
    "percentage_null"
   ],
   "metadata": {
    "collapsed": false,
    "ExecuteTime": {
     "end_time": "2023-11-27T08:39:08.621749300Z",
     "start_time": "2023-11-27T08:39:04.830054Z"
    }
   }
  },
  {
   "cell_type": "code",
   "execution_count": 337,
   "outputs": [],
   "source": [
    "#Drop \"Verified\" column as it has more than 60% of null values \n",
    "#Also, this information can not be found in other columns of the Dataset\n",
    "airline_data.drop('Verified',axis=1, inplace = True)"
   ],
   "metadata": {
    "collapsed": false,
    "ExecuteTime": {
     "end_time": "2023-11-27T08:39:08.693627800Z",
     "start_time": "2023-11-27T08:39:04.847951100Z"
    }
   }
  },
  {
   "cell_type": "markdown",
   "source": [
    "## 3.1 Cleaning 'Class'"
   ],
   "metadata": {
    "collapsed": false
   }
  },
  {
   "cell_type": "code",
   "execution_count": 338,
   "outputs": [
    {
     "data": {
      "text/plain": "                                         Passanger_Name  Flying_month  Route  \\\nClass                                                                          \nBusiness                                            430           430    430   \nBusiness Class                                      183           183    183   \nCouple Leisure                                      641           641    641   \nEconomy Class                                       676           675    676   \nFamily Leisure                                      234           234    234   \nFirst Class                                          11            11     11   \nLHR to ORD                                            1             1      1   \nLondon to Malaga                                      1             1      1   \nLos Angeles to London to Paris to Rome                1             1      1   \nPremium Economy                                      85            85     85   \nSolo Leisure                                        553           553    553   \nno                                                  322             0      0   \nyes                                                 441             0      0   \n\n                                         Rating  Review_title  Review_content  \\\nClass                                                                           \nBusiness                                    430           430             430   \nBusiness Class                              183           183             183   \nCouple Leisure                              641           641             641   \nEconomy Class                               676           676             676   \nFamily Leisure                              234           234             234   \nFirst Class                                  11            11              11   \nLHR to ORD                                    1             1               1   \nLondon to Malaga                              1             1               1   \nLos Angeles to London to Paris to Rome        1             1               1   \nPremium Economy                              85            85              85   \nSolo Leisure                                553           553             553   \nno                                          317           322             322   \nyes                                         441           441             441   \n\n                                         Traveller_type  \nClass                                                    \nBusiness                                            430  \nBusiness Class                                      183  \nCouple Leisure                                      641  \nEconomy Class                                       676  \nFamily Leisure                                      234  \nFirst Class                                          11  \nLHR to ORD                                            1  \nLondon to Malaga                                      1  \nLos Angeles to London to Paris to Rome                1  \nPremium Economy                                      85  \nSolo Leisure                                        553  \nno                                                  322  \nyes                                                 441  ",
      "text/html": "<div>\n<style scoped>\n    .dataframe tbody tr th:only-of-type {\n        vertical-align: middle;\n    }\n\n    .dataframe tbody tr th {\n        vertical-align: top;\n    }\n\n    .dataframe thead th {\n        text-align: right;\n    }\n</style>\n<table border=\"1\" class=\"dataframe\">\n  <thead>\n    <tr style=\"text-align: right;\">\n      <th></th>\n      <th>Passanger_Name</th>\n      <th>Flying_month</th>\n      <th>Route</th>\n      <th>Rating</th>\n      <th>Review_title</th>\n      <th>Review_content</th>\n      <th>Traveller_type</th>\n    </tr>\n    <tr>\n      <th>Class</th>\n      <th></th>\n      <th></th>\n      <th></th>\n      <th></th>\n      <th></th>\n      <th></th>\n      <th></th>\n    </tr>\n  </thead>\n  <tbody>\n    <tr>\n      <th>Business</th>\n      <td>430</td>\n      <td>430</td>\n      <td>430</td>\n      <td>430</td>\n      <td>430</td>\n      <td>430</td>\n      <td>430</td>\n    </tr>\n    <tr>\n      <th>Business Class</th>\n      <td>183</td>\n      <td>183</td>\n      <td>183</td>\n      <td>183</td>\n      <td>183</td>\n      <td>183</td>\n      <td>183</td>\n    </tr>\n    <tr>\n      <th>Couple Leisure</th>\n      <td>641</td>\n      <td>641</td>\n      <td>641</td>\n      <td>641</td>\n      <td>641</td>\n      <td>641</td>\n      <td>641</td>\n    </tr>\n    <tr>\n      <th>Economy Class</th>\n      <td>676</td>\n      <td>675</td>\n      <td>676</td>\n      <td>676</td>\n      <td>676</td>\n      <td>676</td>\n      <td>676</td>\n    </tr>\n    <tr>\n      <th>Family Leisure</th>\n      <td>234</td>\n      <td>234</td>\n      <td>234</td>\n      <td>234</td>\n      <td>234</td>\n      <td>234</td>\n      <td>234</td>\n    </tr>\n    <tr>\n      <th>First Class</th>\n      <td>11</td>\n      <td>11</td>\n      <td>11</td>\n      <td>11</td>\n      <td>11</td>\n      <td>11</td>\n      <td>11</td>\n    </tr>\n    <tr>\n      <th>LHR to ORD</th>\n      <td>1</td>\n      <td>1</td>\n      <td>1</td>\n      <td>1</td>\n      <td>1</td>\n      <td>1</td>\n      <td>1</td>\n    </tr>\n    <tr>\n      <th>London to Malaga</th>\n      <td>1</td>\n      <td>1</td>\n      <td>1</td>\n      <td>1</td>\n      <td>1</td>\n      <td>1</td>\n      <td>1</td>\n    </tr>\n    <tr>\n      <th>Los Angeles to London to Paris to Rome</th>\n      <td>1</td>\n      <td>1</td>\n      <td>1</td>\n      <td>1</td>\n      <td>1</td>\n      <td>1</td>\n      <td>1</td>\n    </tr>\n    <tr>\n      <th>Premium Economy</th>\n      <td>85</td>\n      <td>85</td>\n      <td>85</td>\n      <td>85</td>\n      <td>85</td>\n      <td>85</td>\n      <td>85</td>\n    </tr>\n    <tr>\n      <th>Solo Leisure</th>\n      <td>553</td>\n      <td>553</td>\n      <td>553</td>\n      <td>553</td>\n      <td>553</td>\n      <td>553</td>\n      <td>553</td>\n    </tr>\n    <tr>\n      <th>no</th>\n      <td>322</td>\n      <td>0</td>\n      <td>0</td>\n      <td>317</td>\n      <td>322</td>\n      <td>322</td>\n      <td>322</td>\n    </tr>\n    <tr>\n      <th>yes</th>\n      <td>441</td>\n      <td>0</td>\n      <td>0</td>\n      <td>441</td>\n      <td>441</td>\n      <td>441</td>\n      <td>441</td>\n    </tr>\n  </tbody>\n</table>\n</div>"
     },
     "execution_count": 338,
     "metadata": {},
     "output_type": "execute_result"
    }
   ],
   "source": [
    "#Exploring the kind of Data in the Column 'Class'\n",
    "airline_data.groupby('Class').count()"
   ],
   "metadata": {
    "collapsed": false,
    "ExecuteTime": {
     "end_time": "2023-11-27T08:39:08.845006400Z",
     "start_time": "2023-11-27T08:39:04.862999400Z"
    }
   }
  },
  {
   "cell_type": "code",
   "execution_count": 339,
   "outputs": [],
   "source": [
    "#Create New Column to modify as the column could have data usefull for others\n",
    "airline_data['Class_fix'] = airline_data['Class']"
   ],
   "metadata": {
    "collapsed": false,
    "ExecuteTime": {
     "end_time": "2023-11-27T08:39:08.865309800Z",
     "start_time": "2023-11-27T08:39:04.896773Z"
    }
   }
  },
  {
   "cell_type": "code",
   "execution_count": 340,
   "outputs": [],
   "source": [
    "#I found there are 'Class' data in the Column 'Root', I will filter it a copy\n",
    "Route_to_fix = airline_data[(airline_data['Class'] != 'Premium Economy') & (airline_data['Class'] != 'Business Class') & (airline_data['Class'] != 'First Class') & (airline_data['Class'] != 'Economy Class')]['Route']"
   ],
   "metadata": {
    "collapsed": false,
    "ExecuteTime": {
     "end_time": "2023-11-27T08:39:08.938915700Z",
     "start_time": "2023-11-27T08:39:04.908550Z"
    }
   }
  },
  {
   "cell_type": "code",
   "execution_count": 341,
   "outputs": [],
   "source": [
    "#Paste that Data found into the new Class Column (filtering by rows without relevant information for Class)\n",
    "airline_data['Class_fix'][(airline_data['Class_fix'] != 'Premium Economy') & (airline_data['Class_fix'] != 'Business Class') & (airline_data['Class_fix'] != 'First Class_fix') & (airline_data['Class_fix'] != 'Economy Class')] = Route_to_fix"
   ],
   "metadata": {
    "collapsed": false,
    "ExecuteTime": {
     "end_time": "2023-11-27T08:39:08.938915700Z",
     "start_time": "2023-11-27T08:39:04.929964300Z"
    }
   }
  },
  {
   "cell_type": "code",
   "execution_count": 342,
   "outputs": [],
   "source": [
    "#Also, Traveller_type has CLass useful data, will do the same process\n",
    "Traveller_to_fix = airline_data[(airline_data['Class_fix'] != 'Premium Economy') & (airline_data['Class_fix'] != 'Business Class') & (airline_data['Class_fix'] != 'First Class') & (airline_data['Class_fix'] != 'Economy Class')]['Traveller_type']"
   ],
   "metadata": {
    "collapsed": false,
    "ExecuteTime": {
     "end_time": "2023-11-27T08:39:08.938915700Z",
     "start_time": "2023-11-27T08:39:04.947574200Z"
    }
   }
  },
  {
   "cell_type": "code",
   "execution_count": 343,
   "outputs": [],
   "source": [
    "#Paste Data in the new Class Column (filtering by rows without relevant information for Class)\n",
    "airline_data['Class_fix'][(airline_data['Class_fix'] != 'Premium Economy') & (airline_data['Class_fix'] != 'Business Class') & (airline_data['Class_fix'] != 'First Class') & (airline_data['Class_fix'] != 'Economy Class')] = Traveller_to_fix"
   ],
   "metadata": {
    "collapsed": false,
    "ExecuteTime": {
     "end_time": "2023-11-27T08:39:08.957267800Z",
     "start_time": "2023-11-27T08:39:04.986278800Z"
    }
   }
  },
  {
   "cell_type": "code",
   "execution_count": 344,
   "outputs": [],
   "source": [
    "#Last 13 Rows are first Class has a space and need to manually be modified\n",
    "airline_data['Class_fix'][(airline_data['Class_fix'] != 'Premium Economy') & (airline_data['Class_fix'] != 'Business Class') & (airline_data['Class_fix'] != 'First Class') & (airline_data['Class_fix'] != 'Economy Class')] = 'First Class'"
   ],
   "metadata": {
    "collapsed": false,
    "ExecuteTime": {
     "end_time": "2023-11-27T08:39:08.979687Z",
     "start_time": "2023-11-27T08:39:04.997102300Z"
    }
   }
  },
  {
   "cell_type": "code",
   "execution_count": 345,
   "outputs": [
    {
     "data": {
      "text/plain": "                 Passanger_Name  Flying_month  Route  Rating  Review_title  \\\nClass_fix                                                                    \nBusiness Class             1161           867    867    1160          1161   \nEconomy Class              1849          1521   1522    1846          1849   \nFirst Class                 212           156    156     211           212   \nPremium Economy             358           271    271     358           358   \n\n                 Review_content  Traveller_type  Class  \nClass_fix                                               \nBusiness Class             1161            1161   1161  \nEconomy Class              1849            1849   1849  \nFirst Class                 212             212    211  \nPremium Economy             358             358    358  ",
      "text/html": "<div>\n<style scoped>\n    .dataframe tbody tr th:only-of-type {\n        vertical-align: middle;\n    }\n\n    .dataframe tbody tr th {\n        vertical-align: top;\n    }\n\n    .dataframe thead th {\n        text-align: right;\n    }\n</style>\n<table border=\"1\" class=\"dataframe\">\n  <thead>\n    <tr style=\"text-align: right;\">\n      <th></th>\n      <th>Passanger_Name</th>\n      <th>Flying_month</th>\n      <th>Route</th>\n      <th>Rating</th>\n      <th>Review_title</th>\n      <th>Review_content</th>\n      <th>Traveller_type</th>\n      <th>Class</th>\n    </tr>\n    <tr>\n      <th>Class_fix</th>\n      <th></th>\n      <th></th>\n      <th></th>\n      <th></th>\n      <th></th>\n      <th></th>\n      <th></th>\n      <th></th>\n    </tr>\n  </thead>\n  <tbody>\n    <tr>\n      <th>Business Class</th>\n      <td>1161</td>\n      <td>867</td>\n      <td>867</td>\n      <td>1160</td>\n      <td>1161</td>\n      <td>1161</td>\n      <td>1161</td>\n      <td>1161</td>\n    </tr>\n    <tr>\n      <th>Economy Class</th>\n      <td>1849</td>\n      <td>1521</td>\n      <td>1522</td>\n      <td>1846</td>\n      <td>1849</td>\n      <td>1849</td>\n      <td>1849</td>\n      <td>1849</td>\n    </tr>\n    <tr>\n      <th>First Class</th>\n      <td>212</td>\n      <td>156</td>\n      <td>156</td>\n      <td>211</td>\n      <td>212</td>\n      <td>212</td>\n      <td>212</td>\n      <td>211</td>\n    </tr>\n    <tr>\n      <th>Premium Economy</th>\n      <td>358</td>\n      <td>271</td>\n      <td>271</td>\n      <td>358</td>\n      <td>358</td>\n      <td>358</td>\n      <td>358</td>\n      <td>358</td>\n    </tr>\n  </tbody>\n</table>\n</div>"
     },
     "execution_count": 345,
     "metadata": {},
     "output_type": "execute_result"
    }
   ],
   "source": [
    "#Corrobarting all our values has now the correct information in our variable 'Class'\n",
    "airline_data.groupby('Class_fix').count()"
   ],
   "metadata": {
    "collapsed": false,
    "ExecuteTime": {
     "end_time": "2023-11-27T08:39:08.979687Z",
     "start_time": "2023-11-27T08:39:05.026213400Z"
    }
   }
  },
  {
   "cell_type": "markdown",
   "source": [
    "## 3.2 Cleaning 'Route'"
   ],
   "metadata": {
    "collapsed": false
   }
  },
  {
   "cell_type": "code",
   "execution_count": 346,
   "outputs": [
    {
     "data": {
      "text/plain": "0       New Orleans to London\n1             London to Amman\n2              Business Class\n3             Amman to London\n4              Business Class\n                ...          \n3575                     None\n3576                     None\n3577                     None\n3578                     None\n3579                     None\nName: Route, Length: 3580, dtype: object"
     },
     "execution_count": 346,
     "metadata": {},
     "output_type": "execute_result"
    }
   ],
   "source": [
    "airline_data['Route'].fillna('None')"
   ],
   "metadata": {
    "collapsed": false,
    "ExecuteTime": {
     "end_time": "2023-11-27T08:39:08.979687Z",
     "start_time": "2023-11-27T08:39:05.049148600Z"
    }
   }
  },
  {
   "cell_type": "code",
   "execution_count": 347,
   "outputs": [],
   "source": [
    "#Create New Column to modify as the column could have data usefull for others\n",
    "airline_data['Route_fix'] = airline_data['Route']"
   ],
   "metadata": {
    "collapsed": false,
    "ExecuteTime": {
     "end_time": "2023-11-27T08:39:08.979687Z",
     "start_time": "2023-11-27T08:39:05.093759Z"
    }
   }
  },
  {
   "cell_type": "code",
   "execution_count": 348,
   "outputs": [],
   "source": [
    "#Copy useful data from Route Column\n",
    "Copy_flying = airline_data[(airline_data['Route_fix'] == 'Premium Economy') | (airline_data['Route_fix'] == 'Business Class') | (\n",
    "                airline_data['Route_fix'] == 'First Class') | (airline_data['Route_fix'] == 'Economy Class')]['Flying_month']"
   ],
   "metadata": {
    "collapsed": false,
    "ExecuteTime": {
     "end_time": "2023-11-27T08:39:08.979687Z",
     "start_time": "2023-11-27T08:39:05.106659600Z"
    }
   }
  },
  {
   "cell_type": "code",
   "execution_count": 349,
   "outputs": [],
   "source": [
    "#Paste Data in the new Class Column, filtering by rows without relevant information for Class\n",
    "airline_data['Route_fix'][(airline_data['Route_fix'] == 'Premium Economy') | (airline_data['Route_fix'] == 'Business Class') | (\n",
    "                airline_data['Route_fix'] == 'First Class') | (airline_data['Route_fix'] == 'Economy Class')] = Copy_flying"
   ],
   "metadata": {
    "collapsed": false,
    "ExecuteTime": {
     "end_time": "2023-11-27T08:39:08.979687Z",
     "start_time": "2023-11-27T08:39:05.132623500Z"
    }
   }
  },
  {
   "cell_type": "code",
   "execution_count": 350,
   "outputs": [],
   "source": [
    "airline_data['Route_fix'][(~airline_data['Route_fix'].str.contains('|'.join(['to','London','LHR','Edinburgh']), na=False)) & (airline_data['Class'] != 'Premium Economy') & (airline_data['Class'] != 'Business Class') & (airline_data['Class'] != 'First Class') & (airline_data['Class'] != 'Economy Class') & (airline_data['Class'] != 'no') & (airline_data['Class'] != 'yes') & (airline_data['Class'] != 'Family Leisure') & (airline_data['Class'] != 'NaN')] = airline_data[(~airline_data['Route_fix'].str.contains('|'.join(['to','London','LHR','Edinburgh']), na=False)) & (airline_data['Class'] != 'Premium Economy') & (airline_data['Class'] != 'Business Class') & (airline_data['Class'] != 'First Class') & (airline_data['Class'] != 'Economy Class') & (airline_data['Class'] != 'no') & (airline_data['Class'] != 'yes') & (airline_data['Class'] != 'Family Leisure') & (airline_data['Class'] != 'NaN')]['Class']"
   ],
   "metadata": {
    "collapsed": false,
    "ExecuteTime": {
     "end_time": "2023-11-27T08:39:08.987776100Z",
     "start_time": "2023-11-27T08:39:05.171773700Z"
    }
   }
  },
  {
   "cell_type": "code",
   "execution_count": 351,
   "outputs": [
    {
     "data": {
      "text/plain": "         Passanger_Name Flying_month   Route  Rating  \\\n42       Nicholas Felty           no  May-23     1.0   \n234          Paul Mayer           no  Jun-22     1.0   \n419   barbara ciereszko           no  Jul-21     1.0   \n2552       Steve Purkis           no  Feb-15     1.0   \n2567     Travis Rodgers           no  Sep-15     5.0   \n...                 ...          ...     ...     ...   \n3575           W Benson          NaN     NaN     4.0   \n3576           S Luqman          NaN     NaN     4.0   \n3577            D Smith          NaN     NaN     4.0   \n3578           W Benson          NaN     NaN     6.0   \n3579  Michael Dielissen          NaN     NaN     8.0   \n\n                           Review_title  \\\n42        I had to reschedule my flight   \n234    do not allow free seat selection   \n419                no refund issued yet   \n2552  Fawlty Towers of customer service   \n2567         seats were extremely small   \n...                                 ...   \n3575    British Airways customer review   \n3576    British Airways customer review   \n3577    British Airways customer review   \n3578    British Airways customer review   \n3579    British Airways customer review   \n\n                                         Review_content   Traveller_type  \\\n42    I booked business class tickets for my fiancé ...   Couple Leisure   \n234   Second time getting poor service from BA. 1st,...   Family Leisure   \n419   Booked flight six months before travel, then m...   Family Leisure   \n2552  My issue is the very poor British Airways cust...   Family Leisure   \n2567  The British Airways seats were extremely small...   Couple Leisure   \n...                                                 ...              ...   \n3575  LHR-HKG on Boeing 747 - 23/08/12. Much has bee...    Economy Class   \n3576  Just got back from Bridgetown Barbados flying ...    Economy Class   \n3577  LHR-JFK-LAX-LHR. Check in was ok apart from be...    Economy Class   \n3578  HKG-LHR in New Club World on Boeing 777-300 - ...   Business Class   \n3579  YYZ to LHR - July 2012 - I flew overnight in p...  Premium Economy   \n\n               Class        Class_fix Route_fix  \n42    Business Class   Business Class    May-23  \n234   Business Class   Business Class    Jun-22  \n419    Economy Class    Economy Class    Jul-21  \n2552   Economy Class    Economy Class    Feb-15  \n2567   Economy Class    Economy Class    Sep-15  \n...              ...              ...       ...  \n3575              no    Economy Class       NaN  \n3576              no    Economy Class       NaN  \n3577              no    Economy Class       NaN  \n3578             yes   Business Class       NaN  \n3579             yes  Premium Economy       NaN  \n\n[771 rows x 10 columns]",
      "text/html": "<div>\n<style scoped>\n    .dataframe tbody tr th:only-of-type {\n        vertical-align: middle;\n    }\n\n    .dataframe tbody tr th {\n        vertical-align: top;\n    }\n\n    .dataframe thead th {\n        text-align: right;\n    }\n</style>\n<table border=\"1\" class=\"dataframe\">\n  <thead>\n    <tr style=\"text-align: right;\">\n      <th></th>\n      <th>Passanger_Name</th>\n      <th>Flying_month</th>\n      <th>Route</th>\n      <th>Rating</th>\n      <th>Review_title</th>\n      <th>Review_content</th>\n      <th>Traveller_type</th>\n      <th>Class</th>\n      <th>Class_fix</th>\n      <th>Route_fix</th>\n    </tr>\n  </thead>\n  <tbody>\n    <tr>\n      <th>42</th>\n      <td>Nicholas Felty</td>\n      <td>no</td>\n      <td>May-23</td>\n      <td>1.0</td>\n      <td>I had to reschedule my flight</td>\n      <td>I booked business class tickets for my fiancé ...</td>\n      <td>Couple Leisure</td>\n      <td>Business Class</td>\n      <td>Business Class</td>\n      <td>May-23</td>\n    </tr>\n    <tr>\n      <th>234</th>\n      <td>Paul Mayer</td>\n      <td>no</td>\n      <td>Jun-22</td>\n      <td>1.0</td>\n      <td>do not allow free seat selection</td>\n      <td>Second time getting poor service from BA. 1st,...</td>\n      <td>Family Leisure</td>\n      <td>Business Class</td>\n      <td>Business Class</td>\n      <td>Jun-22</td>\n    </tr>\n    <tr>\n      <th>419</th>\n      <td>barbara ciereszko</td>\n      <td>no</td>\n      <td>Jul-21</td>\n      <td>1.0</td>\n      <td>no refund issued yet</td>\n      <td>Booked flight six months before travel, then m...</td>\n      <td>Family Leisure</td>\n      <td>Economy Class</td>\n      <td>Economy Class</td>\n      <td>Jul-21</td>\n    </tr>\n    <tr>\n      <th>2552</th>\n      <td>Steve Purkis</td>\n      <td>no</td>\n      <td>Feb-15</td>\n      <td>1.0</td>\n      <td>Fawlty Towers of customer service</td>\n      <td>My issue is the very poor British Airways cust...</td>\n      <td>Family Leisure</td>\n      <td>Economy Class</td>\n      <td>Economy Class</td>\n      <td>Feb-15</td>\n    </tr>\n    <tr>\n      <th>2567</th>\n      <td>Travis Rodgers</td>\n      <td>no</td>\n      <td>Sep-15</td>\n      <td>5.0</td>\n      <td>seats were extremely small</td>\n      <td>The British Airways seats were extremely small...</td>\n      <td>Couple Leisure</td>\n      <td>Economy Class</td>\n      <td>Economy Class</td>\n      <td>Sep-15</td>\n    </tr>\n    <tr>\n      <th>...</th>\n      <td>...</td>\n      <td>...</td>\n      <td>...</td>\n      <td>...</td>\n      <td>...</td>\n      <td>...</td>\n      <td>...</td>\n      <td>...</td>\n      <td>...</td>\n      <td>...</td>\n    </tr>\n    <tr>\n      <th>3575</th>\n      <td>W Benson</td>\n      <td>NaN</td>\n      <td>NaN</td>\n      <td>4.0</td>\n      <td>British Airways customer review</td>\n      <td>LHR-HKG on Boeing 747 - 23/08/12. Much has bee...</td>\n      <td>Economy Class</td>\n      <td>no</td>\n      <td>Economy Class</td>\n      <td>NaN</td>\n    </tr>\n    <tr>\n      <th>3576</th>\n      <td>S Luqman</td>\n      <td>NaN</td>\n      <td>NaN</td>\n      <td>4.0</td>\n      <td>British Airways customer review</td>\n      <td>Just got back from Bridgetown Barbados flying ...</td>\n      <td>Economy Class</td>\n      <td>no</td>\n      <td>Economy Class</td>\n      <td>NaN</td>\n    </tr>\n    <tr>\n      <th>3577</th>\n      <td>D Smith</td>\n      <td>NaN</td>\n      <td>NaN</td>\n      <td>4.0</td>\n      <td>British Airways customer review</td>\n      <td>LHR-JFK-LAX-LHR. Check in was ok apart from be...</td>\n      <td>Economy Class</td>\n      <td>no</td>\n      <td>Economy Class</td>\n      <td>NaN</td>\n    </tr>\n    <tr>\n      <th>3578</th>\n      <td>W Benson</td>\n      <td>NaN</td>\n      <td>NaN</td>\n      <td>6.0</td>\n      <td>British Airways customer review</td>\n      <td>HKG-LHR in New Club World on Boeing 777-300 - ...</td>\n      <td>Business Class</td>\n      <td>yes</td>\n      <td>Business Class</td>\n      <td>NaN</td>\n    </tr>\n    <tr>\n      <th>3579</th>\n      <td>Michael Dielissen</td>\n      <td>NaN</td>\n      <td>NaN</td>\n      <td>8.0</td>\n      <td>British Airways customer review</td>\n      <td>YYZ to LHR - July 2012 - I flew overnight in p...</td>\n      <td>Premium Economy</td>\n      <td>yes</td>\n      <td>Premium Economy</td>\n      <td>NaN</td>\n    </tr>\n  </tbody>\n</table>\n<p>771 rows × 10 columns</p>\n</div>"
     },
     "execution_count": 351,
     "metadata": {},
     "output_type": "execute_result"
    }
   ],
   "source": [
    "airline_data[(~airline_data['Route_fix'].str.contains('|'.join(['to','London','LHR','Edinburgh']), na=False))]"
   ],
   "metadata": {
    "collapsed": false,
    "ExecuteTime": {
     "end_time": "2023-11-27T08:39:08.989828200Z",
     "start_time": "2023-11-27T08:39:05.273929800Z"
    }
   }
  },
  {
   "cell_type": "code",
   "execution_count": 352,
   "outputs": [],
   "source": [
    "route_in_review = ['Heathrow to Tokyo','HER-LGW','Heathrow to San Francisco','Heathrow to Athens','Tampa from Gatwick','Punta Cana - Gatwick','LHR-PEK','EWR to LHR','LGW-PUJ-LGW','Bangkok to London Heathrow','ZRH-LHR','LHR-ATL-LHR','JNB-LHR','LGW-HER','Gatwick to Florida','Gatwick-Naples','Tampa - Gatwick','LGW-CUN-LGW','LGW-RAK-LGW','BLQ-LGW','YYZ-LHR-BRU','LGW-AGP','Madrid-London','LHR to Istanbul','BRU-LHR-YYZ','LAX-LHR-LAX','LHR to CPT','CPT-LHR-MAD','MAN-LHR-YYZ','BRU-LHR-LAX','LGW-MCO-LGW','LHR-EZE','Pisa-LGW','Heathrow to Istanbul','London to Seattle','Manchester to JFK','Gatwick to Barbados','IST-LHR','LCY-ZHR','SAT-DFW-LHR-BRU','LGW-Pisa','LHR-MAD','LHR-SYD-MAD','LHR-SFO-LHR','Heathrow to Bilbao','NCL-LHR','Gatwick to Kingston','Hong Kong to London','LHR-Sidney','LHR-GVA','Sydney-LHR','LHR-BKK','LHR-AMS-LHR','LHR-PHL','LHR to SYD','LHR to Tokyo','Heathrow to Bologna','DEL-LHR','Heathrow to Rome','Delhi to Heathrow','Seattle USA - Heathrow','LGW to LAS','LHR-FRA','MAN-LHR-ATL','MIA-LHR','Bangkok from London','LHR-YVR','LHR Philadelphia','Shanghai to London','Warsaw to Heathrow','LGW-JER-LGW','VIE-LHR','LHR-IAD-LHR','LHR-PHL','DEL-LHR-HAM','GRU-LHR','GVA-LGW-GVA','London to Budapest','LHR-PISA-LHR','LGW-TFS-LGW','Warsaw to Heathrow','LHR-YVR','LGW-JER-LGW','London Heathrow to Dubai','VIE-LHR','LHR-IAD-LHR','LHR-DEL','BRU-EWR','LHR-SIN','LHR-PHL','LHR-LAX','YYZ-DXB','LHR to Frankfurt','LHR to YVR','LHR-Washington','SFO to Milan','IAD-LHR-IAS','Johannesburg to London','Heathrow to Boston','Heathrow to Boston','Heathrow to Washington','LHR-CDG','LAX-LHR','LHR-JFK','Sydney to Singapore','LHR-Zurich','JHB to LHR','LHR-Zurich','LHR-HGK','LHR-MIA','MIA-LHR','MAD-LHR','LGW-ACF','DEN-LHR','NCL-LHR','BKK-LHR','LHR-SIN','DUB-LCY','CPT-JNB','LGW to MCO','SFO-LHR','LGW-MLA','LGW-CUN','LGW-Barcelona','LHR-HKG','Miami to Brussels','LHR to Denver Colorado','MAD-SCL','Manchester to LHR','Los Angeles - Heathrow','LIS-LHR','LGW to TFS','LHR-Prague','HAM-LHR','SAN-MUC','Austin to London','LHR-SFO','London-Prague','TPA - LGW','VIE-LHR','LHR to LAX','Phoenix to London','LHR to IST','LHR-HEL','BGI-LGW','LHR to Seattle','IAH-LHR','YVR-LHR','LHR-BGO','LCA-LHR','London Coty to Florence','NBO-LHR','AMS-LHR','LHR to DXB','MCT to LHR','LHR-ZHR','Kingston to London','LHR-JNB','LGW to Cancun','LGW-ACE','BRU-Toronto','LGW to TFS','LHR to PHX','LHR to Las Vegas','Gatwick to Marrakech','Toronto to London','GIG-LHR','LHR-DEL','IAD-LHR','London to Calgary','OSL-LHR','LGW to Catania','Lucia to London','Aberdeen-Heathrow','LGW to CMB','LHR-MXP','LHR-NCL','LGW to SZG','VIE to LHR','Singapore-London','LHR-FCO','Rome to London Gatwick','LHR-Hannover Germany','LGW to Alicante','Gatwick-Colombia','LHR-NCL','BHD-LHR','LHR-SIS','LHR-SIN','LHR-BUD','Madrid-London','LHR-EWR','LHR-BOS','LHR - IST','LHR-MCT','Rome to LHR','London to Doha','LHR to Muscat','LHR-YYZ','Bari to Gatwick','DXB-LHR','LGW-TFS','LHR-HKK','LHR - Houston','Heathrow to Newark','Porto-LHR','LHR-CPH','LHR-CDG','DUS-LHR','Edinburgh-Gatwick','LHR-BSL','DME-LHR','ZRH to SFO','LAX to ZHR','GOT-LHR','LHR-FRA','LHR to Mumbai','Paris - London','Montreal - LHR','LGW to AMS','LHR-ATH','LHR to BKK','Dublin to Sydney','MCT-LHR','Heathrow - Johannesburg','Gatwick-Venice']"
   ],
   "metadata": {
    "collapsed": false,
    "ExecuteTime": {
     "end_time": "2023-11-27T08:39:08.989828200Z",
     "start_time": "2023-11-27T08:39:05.348561600Z"
    }
   }
  },
  {
   "cell_type": "code",
   "execution_count": 353,
   "outputs": [
    {
     "data": {
      "text/plain": "       Passanger_Name Flying_month Route  Rating  \\\n2820          R Vines          NaN   NaN     3.0   \n2821      David Ellis          NaN   NaN     2.0   \n2824          D Evans          NaN   NaN     4.0   \n2825        Sean Kyte          NaN   NaN     7.0   \n2826     Peter Gordon          NaN   NaN     8.0   \n...               ...          ...   ...     ...   \n3563         C Thomas          NaN   NaN     6.0   \n3570          D Nolan          NaN   NaN     5.0   \n3573  Bruce Bettridge          NaN   NaN     4.0   \n3575         W Benson          NaN   NaN     4.0   \n3577          D Smith          NaN   NaN     4.0   \n\n                         Review_title  \\\n2820  British Airways customer review   \n2821  British Airways customer review   \n2824  British Airways customer review   \n2825  British Airways customer review   \n2826  British Airways customer review   \n...                               ...   \n3563  British Airways customer review   \n3570  British Airways customer review   \n3573  British Airways customer review   \n3575  British Airways customer review   \n3577  British Airways customer review   \n\n                                         Review_content   Traveller_type  \\\n2820  I flew from Heathrow to Tokyo Haneda in First....      First Class   \n2821  HER-LGW. Our return flight confirmed our view ...   Business Class   \n2824  Flew from Heathrow to San Francisco on May 1st...  Premium Economy   \n2825  Flew Eurotraveller Heathrow to Athens and back...    Economy Class   \n2826  LHR-YYZ in World Traveller Plus (upgrade) in a...  Premium Economy   \n...                                                 ...              ...   \n3563  I'm not normally one to whine but here goes. L...    Economy Class   \n3570  Flew return in CW from LHR to BKK in August 20...   Business Class   \n3573  Business LHR to BKK. 747-400. First try back w...   Business Class   \n3575  LHR-HKG on Boeing 747 - 23/08/12. Much has bee...    Economy Class   \n3577  LHR-JFK-LAX-LHR. Check in was ok apart from be...    Economy Class   \n\n     Class        Class_fix Route_fix  \n2820   yes      First Class       NaN  \n2821    no   Business Class       NaN  \n2824    no  Premium Economy       NaN  \n2825   yes    Economy Class       NaN  \n2826   yes  Premium Economy       NaN  \n...    ...              ...       ...  \n3563   yes    Economy Class       NaN  \n3570   yes   Business Class       NaN  \n3573    no   Business Class       NaN  \n3575    no    Economy Class       NaN  \n3577    no    Economy Class       NaN  \n\n[349 rows x 10 columns]",
      "text/html": "<div>\n<style scoped>\n    .dataframe tbody tr th:only-of-type {\n        vertical-align: middle;\n    }\n\n    .dataframe tbody tr th {\n        vertical-align: top;\n    }\n\n    .dataframe thead th {\n        text-align: right;\n    }\n</style>\n<table border=\"1\" class=\"dataframe\">\n  <thead>\n    <tr style=\"text-align: right;\">\n      <th></th>\n      <th>Passanger_Name</th>\n      <th>Flying_month</th>\n      <th>Route</th>\n      <th>Rating</th>\n      <th>Review_title</th>\n      <th>Review_content</th>\n      <th>Traveller_type</th>\n      <th>Class</th>\n      <th>Class_fix</th>\n      <th>Route_fix</th>\n    </tr>\n  </thead>\n  <tbody>\n    <tr>\n      <th>2820</th>\n      <td>R Vines</td>\n      <td>NaN</td>\n      <td>NaN</td>\n      <td>3.0</td>\n      <td>British Airways customer review</td>\n      <td>I flew from Heathrow to Tokyo Haneda in First....</td>\n      <td>First Class</td>\n      <td>yes</td>\n      <td>First Class</td>\n      <td>NaN</td>\n    </tr>\n    <tr>\n      <th>2821</th>\n      <td>David Ellis</td>\n      <td>NaN</td>\n      <td>NaN</td>\n      <td>2.0</td>\n      <td>British Airways customer review</td>\n      <td>HER-LGW. Our return flight confirmed our view ...</td>\n      <td>Business Class</td>\n      <td>no</td>\n      <td>Business Class</td>\n      <td>NaN</td>\n    </tr>\n    <tr>\n      <th>2824</th>\n      <td>D Evans</td>\n      <td>NaN</td>\n      <td>NaN</td>\n      <td>4.0</td>\n      <td>British Airways customer review</td>\n      <td>Flew from Heathrow to San Francisco on May 1st...</td>\n      <td>Premium Economy</td>\n      <td>no</td>\n      <td>Premium Economy</td>\n      <td>NaN</td>\n    </tr>\n    <tr>\n      <th>2825</th>\n      <td>Sean Kyte</td>\n      <td>NaN</td>\n      <td>NaN</td>\n      <td>7.0</td>\n      <td>British Airways customer review</td>\n      <td>Flew Eurotraveller Heathrow to Athens and back...</td>\n      <td>Economy Class</td>\n      <td>yes</td>\n      <td>Economy Class</td>\n      <td>NaN</td>\n    </tr>\n    <tr>\n      <th>2826</th>\n      <td>Peter Gordon</td>\n      <td>NaN</td>\n      <td>NaN</td>\n      <td>8.0</td>\n      <td>British Airways customer review</td>\n      <td>LHR-YYZ in World Traveller Plus (upgrade) in a...</td>\n      <td>Premium Economy</td>\n      <td>yes</td>\n      <td>Premium Economy</td>\n      <td>NaN</td>\n    </tr>\n    <tr>\n      <th>...</th>\n      <td>...</td>\n      <td>...</td>\n      <td>...</td>\n      <td>...</td>\n      <td>...</td>\n      <td>...</td>\n      <td>...</td>\n      <td>...</td>\n      <td>...</td>\n      <td>...</td>\n    </tr>\n    <tr>\n      <th>3563</th>\n      <td>C Thomas</td>\n      <td>NaN</td>\n      <td>NaN</td>\n      <td>6.0</td>\n      <td>British Airways customer review</td>\n      <td>I'm not normally one to whine but here goes. L...</td>\n      <td>Economy Class</td>\n      <td>yes</td>\n      <td>Economy Class</td>\n      <td>NaN</td>\n    </tr>\n    <tr>\n      <th>3570</th>\n      <td>D Nolan</td>\n      <td>NaN</td>\n      <td>NaN</td>\n      <td>5.0</td>\n      <td>British Airways customer review</td>\n      <td>Flew return in CW from LHR to BKK in August 20...</td>\n      <td>Business Class</td>\n      <td>yes</td>\n      <td>Business Class</td>\n      <td>NaN</td>\n    </tr>\n    <tr>\n      <th>3573</th>\n      <td>Bruce Bettridge</td>\n      <td>NaN</td>\n      <td>NaN</td>\n      <td>4.0</td>\n      <td>British Airways customer review</td>\n      <td>Business LHR to BKK. 747-400. First try back w...</td>\n      <td>Business Class</td>\n      <td>no</td>\n      <td>Business Class</td>\n      <td>NaN</td>\n    </tr>\n    <tr>\n      <th>3575</th>\n      <td>W Benson</td>\n      <td>NaN</td>\n      <td>NaN</td>\n      <td>4.0</td>\n      <td>British Airways customer review</td>\n      <td>LHR-HKG on Boeing 747 - 23/08/12. Much has bee...</td>\n      <td>Economy Class</td>\n      <td>no</td>\n      <td>Economy Class</td>\n      <td>NaN</td>\n    </tr>\n    <tr>\n      <th>3577</th>\n      <td>D Smith</td>\n      <td>NaN</td>\n      <td>NaN</td>\n      <td>4.0</td>\n      <td>British Airways customer review</td>\n      <td>LHR-JFK-LAX-LHR. Check in was ok apart from be...</td>\n      <td>Economy Class</td>\n      <td>no</td>\n      <td>Economy Class</td>\n      <td>NaN</td>\n    </tr>\n  </tbody>\n</table>\n<p>349 rows × 10 columns</p>\n</div>"
     },
     "execution_count": 353,
     "metadata": {},
     "output_type": "execute_result"
    }
   ],
   "source": [
    "airline_data[(~airline_data['Route_fix'].str.contains('|'.join(['to','London','LHR','Edinburgh']), na=False)) & (airline_data['Review_content'].str.contains('|'.join(route_in_review), na=False))]"
   ],
   "metadata": {
    "collapsed": false,
    "ExecuteTime": {
     "end_time": "2023-11-27T08:39:09.071192700Z",
     "start_time": "2023-11-27T08:39:05.404011500Z"
    }
   }
  },
  {
   "cell_type": "code",
   "execution_count": 354,
   "outputs": [],
   "source": [
    "review_to_extract = airline_data[(~airline_data['Route_fix'].str.contains('|'.join(['to','London','LHR','Edinburgh']), na=False))]['Review_content']"
   ],
   "metadata": {
    "collapsed": false,
    "ExecuteTime": {
     "end_time": "2023-11-27T08:39:09.071192700Z",
     "start_time": "2023-11-27T08:39:05.630747700Z"
    }
   }
  },
  {
   "cell_type": "code",
   "execution_count": 355,
   "outputs": [
    {
     "data": {
      "text/plain": "42             {}\n234            {}\n419            {}\n2552           {}\n2567           {}\n          ...    \n3575    {LHR-HKG}\n3576           {}\n3577           {}\n3578           {}\n3579           {}\nName: Review_content, Length: 771, dtype: object"
     },
     "execution_count": 355,
     "metadata": {},
     "output_type": "execute_result"
    }
   ],
   "source": [
    "review_to_extract = review_to_extract.str.split().apply(set(route_in_review).intersection)\n",
    "review_to_extract"
   ],
   "metadata": {
    "collapsed": false,
    "ExecuteTime": {
     "end_time": "2023-11-27T08:39:09.071192700Z",
     "start_time": "2023-11-27T08:39:05.636127600Z"
    }
   }
  },
  {
   "cell_type": "code",
   "execution_count": 356,
   "outputs": [],
   "source": [
    "airline_data['Route_fix'][(~airline_data['Route_fix'].str.contains('|'.join(['to','London','LHR','Edinburgh']), na=False))] = review_to_extract"
   ],
   "metadata": {
    "collapsed": false,
    "ExecuteTime": {
     "end_time": "2023-11-27T08:39:09.071192700Z",
     "start_time": "2023-11-27T08:39:05.685738300Z"
    }
   }
  },
  {
   "cell_type": "code",
   "execution_count": 357,
   "outputs": [
    {
     "data": {
      "text/plain": "pandas.core.series.Series"
     },
     "execution_count": 357,
     "metadata": {},
     "output_type": "execute_result"
    }
   ],
   "source": [
    "type(review_to_extract)"
   ],
   "metadata": {
    "collapsed": false,
    "ExecuteTime": {
     "end_time": "2023-11-27T08:39:09.071192700Z",
     "start_time": "2023-11-27T08:39:05.704814400Z"
    }
   }
  },
  {
   "cell_type": "markdown",
   "source": [
    "## 3.3 Cleaning: Traveller Type"
   ],
   "metadata": {
    "collapsed": false
   }
  },
  {
   "cell_type": "code",
   "execution_count": 358,
   "outputs": [],
   "source": [
    "airline_data['Traveller_fix'] = airline_data['Traveller_type']"
   ],
   "metadata": {
    "collapsed": false,
    "ExecuteTime": {
     "end_time": "2023-11-27T08:39:09.071192700Z",
     "start_time": "2023-11-27T08:39:05.721884100Z"
    }
   }
  },
  {
   "cell_type": "code",
   "execution_count": 359,
   "outputs": [],
   "source": [
    "airline_data['Traveller_fix'][(~airline_data['Traveller_type'].str.contains('|'.join(['Solo Leisure','Family Leisure','Business','Couple Leisure']), na=False))] = airline_data[(~airline_data['Traveller_type'].str.contains('|'.join(['Solo Leisure','Family Leisure','Business','Couple Leisure']), na=False))]['Class']"
   ],
   "metadata": {
    "collapsed": false,
    "ExecuteTime": {
     "end_time": "2023-11-27T08:39:09.071192700Z",
     "start_time": "2023-11-27T08:39:05.735416600Z"
    }
   }
  },
  {
   "cell_type": "code",
   "execution_count": 360,
   "outputs": [],
   "source": [
    "airline_data[(~airline_data['Traveller_fix'].str.contains('|'.join(['Solo Leisure','Family Leisure','Business','Couple Leisure']), na=False))]['Traveller_fix'] = 'Other'"
   ],
   "metadata": {
    "collapsed": false,
    "ExecuteTime": {
     "end_time": "2023-11-27T08:39:09.071192700Z",
     "start_time": "2023-11-27T08:39:05.765195800Z"
    }
   }
  },
  {
   "cell_type": "code",
   "execution_count": 361,
   "outputs": [],
   "source": [
    "airline_data['Traveller_fix'][(~airline_data['Traveller_fix'].str.contains('|'.join(['Solo Leisure','Family Leisure','Business','Couple Leisure']), na=False))] = 'Other'\n",
    "airline_data['Traveller_fix'][airline_data['Traveller_fix'] == 'Business Class'] = 'Other'\n",
    "airline_data['Traveller_fix'][airline_data['Traveller_fix'].isnull() == True] = 'Other'"
   ],
   "metadata": {
    "collapsed": false,
    "ExecuteTime": {
     "end_time": "2023-11-27T08:39:09.071192700Z",
     "start_time": "2023-11-27T08:39:05.782778400Z"
    }
   }
  },
  {
   "cell_type": "markdown",
   "source": [
    "## 3.4 Cleaning: Flying Month"
   ],
   "metadata": {
    "collapsed": false
   }
  },
  {
   "cell_type": "code",
   "execution_count": 362,
   "outputs": [],
   "source": [
    "airline_data['Flying_month'][(~airline_data['Flying_month'].str.contains('|'.join(['-23','-22','21','20','19','18','17']), na=False))] = 'None'\n",
    "airline_data['Flying_month'][airline_data['Flying_month'].isnull() == True] = 'None'"
   ],
   "metadata": {
    "collapsed": false,
    "ExecuteTime": {
     "end_time": "2023-11-27T08:39:09.071192700Z",
     "start_time": "2023-11-27T08:39:05.811113Z"
    }
   }
  },
  {
   "cell_type": "code",
   "execution_count": 364,
   "outputs": [],
   "source": [
    "# Create a new Column - Extracting the month\n",
    "airline_data['Month'] = airline_data['Flying_month'][(airline_data['Flying_month'].str.contains('|'.join(['-23','-22','21','20','19','18','17']), na=False))].str[0:3]"
   ],
   "metadata": {
    "collapsed": false,
    "ExecuteTime": {
     "end_time": "2023-11-27T08:39:25.194395900Z",
     "start_time": "2023-11-27T08:39:25.016185600Z"
    }
   }
  },
  {
   "cell_type": "code",
   "execution_count": 369,
   "outputs": [
    {
     "data": {
      "text/plain": "       Passanger_Name  Flying_month  Route  Rating  Review_title  \\\nMonth                                                              \nApr                67            67     67      67            67   \nAug                48            48     48      48            48   \nDec                48            48     48      48            48   \nFeb                50            50     50      50            50   \nJan                52            52     52      52            52   \nJul                49            49     49      49            49   \nJun                70            70     70      70            70   \nMar                87            87     87      87            87   \nMay                65            65     65      65            65   \nNov                50            50     50      50            50   \nOct                45            45     45      45            45   \nSep                50            50     50      50            50   \n\n       Review_content  Traveller_type  Class  Class_fix  Route_fix  \\\nMonth                                                                \nApr                67              67     67         67         67   \nAug                48              48     48         48         48   \nDec                48              48     48         48         48   \nFeb                50              50     50         50         50   \nJan                52              52     52         52         52   \nJul                49              49     49         49         49   \nJun                70              70     70         70         70   \nMar                87              87     87         87         87   \nMay                65              65     65         65         65   \nNov                50              50     50         50         50   \nOct                45              45     45         45         45   \nSep                50              50     50         50         50   \n\n       Traveller_fix  \nMonth                 \nApr               67  \nAug               48  \nDec               48  \nFeb               50  \nJan               52  \nJul               49  \nJun               70  \nMar               87  \nMay               65  \nNov               50  \nOct               45  \nSep               50  ",
      "text/html": "<div>\n<style scoped>\n    .dataframe tbody tr th:only-of-type {\n        vertical-align: middle;\n    }\n\n    .dataframe tbody tr th {\n        vertical-align: top;\n    }\n\n    .dataframe thead th {\n        text-align: right;\n    }\n</style>\n<table border=\"1\" class=\"dataframe\">\n  <thead>\n    <tr style=\"text-align: right;\">\n      <th></th>\n      <th>Passanger_Name</th>\n      <th>Flying_month</th>\n      <th>Route</th>\n      <th>Rating</th>\n      <th>Review_title</th>\n      <th>Review_content</th>\n      <th>Traveller_type</th>\n      <th>Class</th>\n      <th>Class_fix</th>\n      <th>Route_fix</th>\n      <th>Traveller_fix</th>\n    </tr>\n    <tr>\n      <th>Month</th>\n      <th></th>\n      <th></th>\n      <th></th>\n      <th></th>\n      <th></th>\n      <th></th>\n      <th></th>\n      <th></th>\n      <th></th>\n      <th></th>\n      <th></th>\n    </tr>\n  </thead>\n  <tbody>\n    <tr>\n      <th>Apr</th>\n      <td>67</td>\n      <td>67</td>\n      <td>67</td>\n      <td>67</td>\n      <td>67</td>\n      <td>67</td>\n      <td>67</td>\n      <td>67</td>\n      <td>67</td>\n      <td>67</td>\n      <td>67</td>\n    </tr>\n    <tr>\n      <th>Aug</th>\n      <td>48</td>\n      <td>48</td>\n      <td>48</td>\n      <td>48</td>\n      <td>48</td>\n      <td>48</td>\n      <td>48</td>\n      <td>48</td>\n      <td>48</td>\n      <td>48</td>\n      <td>48</td>\n    </tr>\n    <tr>\n      <th>Dec</th>\n      <td>48</td>\n      <td>48</td>\n      <td>48</td>\n      <td>48</td>\n      <td>48</td>\n      <td>48</td>\n      <td>48</td>\n      <td>48</td>\n      <td>48</td>\n      <td>48</td>\n      <td>48</td>\n    </tr>\n    <tr>\n      <th>Feb</th>\n      <td>50</td>\n      <td>50</td>\n      <td>50</td>\n      <td>50</td>\n      <td>50</td>\n      <td>50</td>\n      <td>50</td>\n      <td>50</td>\n      <td>50</td>\n      <td>50</td>\n      <td>50</td>\n    </tr>\n    <tr>\n      <th>Jan</th>\n      <td>52</td>\n      <td>52</td>\n      <td>52</td>\n      <td>52</td>\n      <td>52</td>\n      <td>52</td>\n      <td>52</td>\n      <td>52</td>\n      <td>52</td>\n      <td>52</td>\n      <td>52</td>\n    </tr>\n    <tr>\n      <th>Jul</th>\n      <td>49</td>\n      <td>49</td>\n      <td>49</td>\n      <td>49</td>\n      <td>49</td>\n      <td>49</td>\n      <td>49</td>\n      <td>49</td>\n      <td>49</td>\n      <td>49</td>\n      <td>49</td>\n    </tr>\n    <tr>\n      <th>Jun</th>\n      <td>70</td>\n      <td>70</td>\n      <td>70</td>\n      <td>70</td>\n      <td>70</td>\n      <td>70</td>\n      <td>70</td>\n      <td>70</td>\n      <td>70</td>\n      <td>70</td>\n      <td>70</td>\n    </tr>\n    <tr>\n      <th>Mar</th>\n      <td>87</td>\n      <td>87</td>\n      <td>87</td>\n      <td>87</td>\n      <td>87</td>\n      <td>87</td>\n      <td>87</td>\n      <td>87</td>\n      <td>87</td>\n      <td>87</td>\n      <td>87</td>\n    </tr>\n    <tr>\n      <th>May</th>\n      <td>65</td>\n      <td>65</td>\n      <td>65</td>\n      <td>65</td>\n      <td>65</td>\n      <td>65</td>\n      <td>65</td>\n      <td>65</td>\n      <td>65</td>\n      <td>65</td>\n      <td>65</td>\n    </tr>\n    <tr>\n      <th>Nov</th>\n      <td>50</td>\n      <td>50</td>\n      <td>50</td>\n      <td>50</td>\n      <td>50</td>\n      <td>50</td>\n      <td>50</td>\n      <td>50</td>\n      <td>50</td>\n      <td>50</td>\n      <td>50</td>\n    </tr>\n    <tr>\n      <th>Oct</th>\n      <td>45</td>\n      <td>45</td>\n      <td>45</td>\n      <td>45</td>\n      <td>45</td>\n      <td>45</td>\n      <td>45</td>\n      <td>45</td>\n      <td>45</td>\n      <td>45</td>\n      <td>45</td>\n    </tr>\n    <tr>\n      <th>Sep</th>\n      <td>50</td>\n      <td>50</td>\n      <td>50</td>\n      <td>50</td>\n      <td>50</td>\n      <td>50</td>\n      <td>50</td>\n      <td>50</td>\n      <td>50</td>\n      <td>50</td>\n      <td>50</td>\n    </tr>\n  </tbody>\n</table>\n</div>"
     },
     "execution_count": 369,
     "metadata": {},
     "output_type": "execute_result"
    }
   ],
   "source": [
    "airline_data.groupby('Month').count()"
   ],
   "metadata": {
    "collapsed": false,
    "ExecuteTime": {
     "end_time": "2023-11-27T08:43:52.879852400Z",
     "start_time": "2023-11-27T08:43:52.595060600Z"
    }
   }
  },
  {
   "cell_type": "markdown",
   "source": [
    "## 3.5 Renaming and dropping unnecessary columns"
   ],
   "metadata": {
    "collapsed": false
   }
  },
  {
   "cell_type": "code",
   "execution_count": null,
   "outputs": [],
   "source": [
    "airline_data = airline_data.drop(columns=['Traveller_type','Class','Route'],axis=1)\n",
    "airline_data = airline_data[['Passanger_Name','Flying_month','Route_fix','Rating','Review_title','Review_content','Traveller_fix','Class_fix']]\n",
    "airline_data.rename(columns={'Route_fix':'Route','Traveller_fix':'Traveller_type','Class_fix':'Class'}, inplace = True)"
   ],
   "metadata": {
    "collapsed": false,
    "ExecuteTime": {
     "start_time": "2023-11-27T08:39:05.873468800Z"
    }
   }
  },
  {
   "cell_type": "code",
   "execution_count": null,
   "outputs": [],
   "source": [
    "percentage_null = (airline_data.isnull().sum() / len(airline_data))*100\n",
    "percentage_null"
   ],
   "metadata": {
    "collapsed": false,
    "ExecuteTime": {
     "start_time": "2023-11-27T08:39:05.889097200Z"
    }
   }
  },
  {
   "cell_type": "code",
   "execution_count": null,
   "outputs": [],
   "source": [
    "# Fill Na Values \n",
    "null_rating = airline_data[airline_data['Rating'].isnull()==True]\n",
    "unique_class = null_rating['Class'].unique()\n",
    "unique_class"
   ],
   "metadata": {
    "collapsed": false,
    "ExecuteTime": {
     "start_time": "2023-11-27T08:39:05.889097200Z"
    }
   }
  },
  {
   "cell_type": "code",
   "execution_count": null,
   "outputs": [],
   "source": [
    "for i in unique_class:\n",
    "    airline_data['Rating'] = airline_data['Rating'].fillna(round(airline_data[airline_data['Class'] == i]['Rating'].mean(), 0))"
   ],
   "metadata": {
    "collapsed": false,
    "ExecuteTime": {
     "start_time": "2023-11-27T08:39:05.904720900Z"
    }
   }
  },
  {
   "cell_type": "code",
   "execution_count": null,
   "outputs": [],
   "source": [
    "percentage_null = (airline_data.isnull().sum() / len(airline_data))*100\n",
    "percentage_null"
   ],
   "metadata": {
    "collapsed": false,
    "ExecuteTime": {
     "start_time": "2023-11-27T08:39:05.904720900Z"
    }
   }
  },
  {
   "cell_type": "markdown",
   "source": [
    "# 4. Statistical Test"
   ],
   "metadata": {
    "collapsed": false
   }
  },
  {
   "cell_type": "markdown",
   "source": [
    "### Normality Test"
   ],
   "metadata": {
    "collapsed": false
   }
  },
  {
   "cell_type": "code",
   "execution_count": null,
   "outputs": [],
   "source": [
    "#Perform Shapiro test to check the normality of the distribution \n",
    "from scipy.stats import shapiro\n",
    "stat, p = shapiro(airline_data['Rating'])\n",
    "print('stat={0:.3f}, p={0:.3f}' .format(stat, p))\n",
    "if p > 0.05:\n",
    "    print('Probably Gaussian')\n",
    "else:\n",
    "    print('Probably not Gaussian')"
   ],
   "metadata": {
    "collapsed": false,
    "ExecuteTime": {
     "start_time": "2023-11-27T08:39:05.920340800Z"
    }
   }
  },
  {
   "cell_type": "code",
   "execution_count": null,
   "outputs": [],
   "source": [
    "##Create a Histogram\n",
    "plt.hist(airline_data['Rating'], edgecolor='black',bins=20)\n",
    "plt.show()\n",
    "#From de Grpah we could be a Normal distribution data"
   ],
   "metadata": {
    "collapsed": false,
    "ExecuteTime": {
     "start_time": "2023-11-27T08:39:05.920340800Z"
    }
   }
  },
  {
   "cell_type": "markdown",
   "source": [
    "### Normality Test"
   ],
   "metadata": {
    "collapsed": false
   }
  },
  {
   "cell_type": "code",
   "execution_count": null,
   "outputs": [],
   "source": [
    "from sklearn.preprocessing import LabelEncoder\n",
    "\n",
    "airline_data_encoded = airline_data[['Flying_month','Rating','Traveller_type','Class']]\n",
    "\n",
    "enc = LabelEncoder()\n",
    "airline_data_encoded['Traveller_type'] = enc.fit_transform(airline_data_encoded['Traveller_type'])\n",
    "airline_data_encoded['Class'] = enc.fit_transform(airline_data_encoded['Class'])\n",
    "airline_data_encoded['Flying_month'] = enc.fit_transform(airline_data_encoded['Flying_month'])"
   ],
   "metadata": {
    "collapsed": false,
    "ExecuteTime": {
     "start_time": "2023-11-27T08:39:05.930851Z"
    }
   }
  },
  {
   "cell_type": "markdown",
   "source": [
    "# 4. Questions"
   ],
   "metadata": {
    "collapsed": false
   }
  },
  {
   "cell_type": "markdown",
   "source": [
    "## 4.1 •\tAre the First-class Customers more dissatisfied? \n",
    "o\tNull Hypothesis: There is no significance difference in the average rating based on Class of ticket\n",
    "o\tAlternative Hypothesis: There is significance difference in the average rating based on Class of ticket."
   ],
   "metadata": {
    "collapsed": false
   }
  },
  {
   "cell_type": "code",
   "execution_count": null,
   "outputs": [],
   "source": [
    "airline_data['Rating'].plot(kind = 'hist', title = 'Class')"
   ],
   "metadata": {
    "collapsed": false,
    "ExecuteTime": {
     "start_time": "2023-11-27T08:39:05.930851Z"
    }
   }
  },
  {
   "cell_type": "code",
   "execution_count": null,
   "outputs": [],
   "source": [
    "## T-Test (Numerical vs Categorical) <= 2 Groups\n",
    "from scipy.stats import ttest_ind\n",
    "data1 = airline_data_encoded['Class']\n",
    "data2 = airline_data_encoded['Rating']\n",
    "stat, p = ttest_ind(data1, data2)\n",
    "print('stat={0:.3f}, p={0:.3f}'.format(stat, p))\n",
    "if p > 0.05:\n",
    "    print('Probably the same distribution')\n",
    "else:\n",
    "    print('Probably different distributions')"
   ],
   "metadata": {
    "collapsed": false,
    "ExecuteTime": {
     "start_time": "2023-11-27T08:39:05.930851Z"
    }
   }
  },
  {
   "cell_type": "code",
   "execution_count": null,
   "outputs": [],
   "source": [
    "plt.figure(figsize=(6,6))\n",
    "sns.boxplot(x=airline_data['Class'],y=airline_data['Rating'])"
   ],
   "metadata": {
    "collapsed": false,
    "ExecuteTime": {
     "start_time": "2023-11-27T08:39:05.930851Z"
    }
   }
  },
  {
   "cell_type": "markdown",
   "source": [
    "## 4.2 •\tAre the customers travelling in winter less satisfied?\n",
    "\n",
    "o\tNull Hypothesis: There is no relationship between rating and Flying Month\n",
    "o\tAlternative Hypothesis: There is relationship between rating and Flying Month\n"
   ],
   "metadata": {
    "collapsed": false
   }
  },
  {
   "cell_type": "markdown",
   "source": [
    "## Not significant information to answer the question"
   ],
   "metadata": {
    "collapsed": false
   }
  },
  {
   "cell_type": "code",
   "execution_count": 366,
   "outputs": [
    {
     "data": {
      "text/plain": "[Text(0, 0, 'Jun'),\n Text(1, 0, 'Mar'),\n Text(2, 0, 'Apr'),\n Text(3, 0, 'May'),\n Text(4, 0, 'Feb'),\n Text(5, 0, 'Sep'),\n Text(6, 0, 'Jan'),\n Text(7, 0, 'Dec'),\n Text(8, 0, 'Oct'),\n Text(9, 0, 'Nov'),\n Text(10, 0, 'Aug'),\n Text(11, 0, 'Jul')]"
     },
     "execution_count": 366,
     "metadata": {},
     "output_type": "execute_result"
    },
    {
     "data": {
      "text/plain": "<Figure size 1200x400 with 1 Axes>",
      "image/png": "[encoded data removed]"
     },
     "metadata": {},
     "output_type": "display_data"
    }
   ],
   "source": [
    "plt.figure(figsize=(12,4))\n",
    "my_plot = sns.boxplot(x=airline_data['Month'],y=airline_data['Rating'])\n",
    "my_plot.set_xticklabels(my_plot.get_xticklabels(), rotation=90)"
   ],
   "metadata": {
    "collapsed": false,
    "ExecuteTime": {
     "start_time": "2023-11-27T08:40:13.025371100Z"
    }
   }
  },
  {
   "cell_type": "markdown",
   "source": [
    "### 4.3 •\tThe family travellers are more dissatisfied.\n",
    "o\tNull Hypothesis: There is no significance difference in the average rating based on Type of traveller.\n",
    "o\tAlternative Hypothesis: There is significance difference in the average rating based on Type of traveller.\n"
   ],
   "metadata": {
    "collapsed": false
   }
  },
  {
   "cell_type": "code",
   "execution_count": null,
   "outputs": [],
   "source": [
    "plt.figure(figsize=(6,6))\n",
    "my_plot = sns.boxplot(x=airline_data['Traveller_type'],y=airline_data['Rating'])\n",
    "my_plot.set_xticklabels(my_plot.get_xticklabels(), rotation=90)"
   ],
   "metadata": {
    "collapsed": false,
    "ExecuteTime": {
     "start_time": "2023-11-27T08:39:05.946481400Z"
    }
   }
  },
  {
   "cell_type": "markdown",
   "source": [
    "## 4.4 The Solo Traveller customers flying to Europe in Summer are more satisfied?\n",
    "o\tNull Hypothesis: There is no significance difference in the average rating based on Type of traveller and Flying Month.\n",
    "o\tAlternative Hypothesis: There is significance difference in the average rating based on Type of traveller and Flying Month.\n",
    "\n"
   ],
   "metadata": {
    "collapsed": false
   }
  },
  {
   "cell_type": "code",
   "execution_count": null,
   "outputs": [],
   "source": [
    "plt.figure(figsize=(6,6))\n",
    "my_plot = sns.boxplot(x=airline_data['Traveller_type'],y=airline_data['Rating'])\n",
    "my_plot.set_xticklabels(my_plot.get_xticklabels(), rotation=90)"
   ],
   "metadata": {
    "collapsed": false,
    "ExecuteTime": {
     "start_time": "2023-11-27T08:39:05.946481400Z"
    }
   }
  }
 ],
 "metadata": {
  "colab": {
   "include_colab_link": true,
   "provenance": []
  },
  "kernelspec": {
   "display_name": "Python 3 (ipykernel)",
   "language": "python",
   "name": "python3"
  },
  "language_info": {
   "codemirror_mode": {
    "name": "ipython",
    "version": 3
   },
   "file_extension": ".py",
   "mimetype": "text/x-python",
   "name": "python",
   "nbconvert_exporter": "python",
   "pygments_lexer": "ipython3",
   "version": "3.11.2"
  }
 },
 "nbformat": 4,
 "nbformat_minor": 4
}
