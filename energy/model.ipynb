{
 "cells": [
  {
   "cell_type": "markdown",
   "source": [
    "    # Energy Dataset."
   ],
   "metadata": {
    "collapsed": false
   }
  },
  {
   "cell_type": "markdown",
   "source": [
    "## 1. Importing the required libraries for EDA"
   ],
   "metadata": {
    "collapsed": false
   }
  },
  {
   "cell_type": "markdown",
   "metadata": {
    "id": "9eLMx1Ebwa92"
   },
   "source": [
    "Below are the libraries that are used IN THE MODEL"
   ]
  },
  {
   "cell_type": "code",
   "execution_count": 1,
   "metadata": {
    "id": "GGyDovL2QDLa",
    "ExecuteTime": {
     "end_time": "2023-11-24T17:59:11.606394700Z",
     "start_time": "2023-11-24T17:59:11.589817Z"
    }
   },
   "outputs": [],
   "source": [
    "import pandas as pd\n",
    "import numpy as np\n",
    "import seaborn as sns                       #visualisation\n",
    "import matplotlib.pyplot as plt             #visualisation\n",
    "import math\n",
    "import stats\n",
    "import warnings\n",
    "warnings.filterwarnings('ignore')"
   ]
  },
  {
   "cell_type": "markdown",
   "metadata": {
    "id": "8Y3Z2DbKTfJt"
   },
   "source": [
    "## 2. Loading the data into the data frame."
   ]
  },
  {
   "cell_type": "code",
   "execution_count": 2,
   "metadata": {
    "colab": {
     "base_uri": "https://localhost:8080/",
     "height": 430
    },
    "id": "0oVZnezwQ159",
    "outputId": "f1e0fe18-8fa0-482a-e2b9-2ecd87d97d9d",
    "ExecuteTime": {
     "end_time": "2023-11-24T17:59:11.881656100Z",
     "start_time": "2023-11-24T17:59:11.610382500Z"
    }
   },
   "outputs": [
    {
     "data": {
      "text/plain": "        Entity  Year  Access to electricity (% of population)  \\\n0  Afghanistan  2000                                 1.613591   \n1  Afghanistan  2001                                 4.074574   \n2  Afghanistan  2002                                 9.409158   \n3  Afghanistan  2003                                14.738506   \n4  Afghanistan  2004                                20.064968   \n\n   Access to clean fuels for cooking  \\\n0                                6.2   \n1                                7.2   \n2                                8.2   \n3                                9.5   \n4                               10.9   \n\n   Renewable-electricity-generating-capacity-per-capita  \\\n0                                               9.22      \n1                                               8.86      \n2                                               8.47      \n3                                               8.09      \n4                                               7.75      \n\n   Financial flows to developing countries (US $)  \\\n0                                         20000.0   \n1                                        130000.0   \n2                                       3950000.0   \n3                                      25970000.0   \n4                                             NaN   \n\n   Renewable energy share in the total final energy consumption (%)  \\\n0                                              44.99                  \n1                                              45.60                  \n2                                              37.83                  \n3                                              36.66                  \n4                                              44.24                  \n\n   Electricity from fossil fuels (TWh)  Electricity from nuclear (TWh)  \\\n0                                 0.16                             0.0   \n1                                 0.09                             0.0   \n2                                 0.13                             0.0   \n3                                 0.31                             0.0   \n4                                 0.33                             0.0   \n\n   Electricity from renewables (TWh)  ...  \\\n0                               0.31  ...   \n1                               0.50  ...   \n2                               0.56  ...   \n3                               0.63  ...   \n4                               0.56  ...   \n\n   Primary energy consumption per capita (kWh/person)  \\\n0                                          302.59482    \n1                                          236.89185    \n2                                          210.86215    \n3                                          229.96822    \n4                                          204.23125    \n\n   Energy intensity level of primary energy (MJ/$2017 PPP GDP)  \\\n0                                               1.64             \n1                                               1.74             \n2                                               1.40             \n3                                               1.40             \n4                                               1.20             \n\n   Value_co2_emissions_kt_by_country  \\\n0                         760.000000   \n1                         730.000000   \n2                        1029.999971   \n3                        1220.000029   \n4                        1029.999971   \n\n   Renewables (% equivalent primary energy)  gdp_growth  gdp_per_capita  \\\n0                                       NaN         NaN             NaN   \n1                                       NaN         NaN             NaN   \n2                                       NaN         NaN      179.426579   \n3                                       NaN    8.832278      190.683814   \n4                                       NaN    1.414118      211.382074   \n\n   Density\\n(P/Km2) Land Area(Km2)  Latitude  Longitude  \n0                60       6,52,230  33.93911  67.709953  \n1                60       6,52,230  33.93911  67.709953  \n2                60       6,52,230  33.93911  67.709953  \n3                60       6,52,230  33.93911  67.709953  \n4                60       6,52,230  33.93911  67.709953  \n\n[5 rows x 21 columns]",
      "text/html": "<div>\n<style scoped>\n    .dataframe tbody tr th:only-of-type {\n        vertical-align: middle;\n    }\n\n    .dataframe tbody tr th {\n        vertical-align: top;\n    }\n\n    .dataframe thead th {\n        text-align: right;\n    }\n</style>\n<table border=\"1\" class=\"dataframe\">\n  <thead>\n    <tr style=\"text-align: right;\">\n      <th></th>\n      <th>Entity</th>\n      <th>Year</th>\n      <th>Access to electricity (% of population)</th>\n      <th>Access to clean fuels for cooking</th>\n      <th>Renewable-electricity-generating-capacity-per-capita</th>\n      <th>Financial flows to developing countries (US $)</th>\n      <th>Renewable energy share in the total final energy consumption (%)</th>\n      <th>Electricity from fossil fuels (TWh)</th>\n      <th>Electricity from nuclear (TWh)</th>\n      <th>Electricity from renewables (TWh)</th>\n      <th>...</th>\n      <th>Primary energy consumption per capita (kWh/person)</th>\n      <th>Energy intensity level of primary energy (MJ/$2017 PPP GDP)</th>\n      <th>Value_co2_emissions_kt_by_country</th>\n      <th>Renewables (% equivalent primary energy)</th>\n      <th>gdp_growth</th>\n      <th>gdp_per_capita</th>\n      <th>Density\\n(P/Km2)</th>\n      <th>Land Area(Km2)</th>\n      <th>Latitude</th>\n      <th>Longitude</th>\n    </tr>\n  </thead>\n  <tbody>\n    <tr>\n      <th>0</th>\n      <td>Afghanistan</td>\n      <td>2000</td>\n      <td>1.613591</td>\n      <td>6.2</td>\n      <td>9.22</td>\n      <td>20000.0</td>\n      <td>44.99</td>\n      <td>0.16</td>\n      <td>0.0</td>\n      <td>0.31</td>\n      <td>...</td>\n      <td>302.59482</td>\n      <td>1.64</td>\n      <td>760.000000</td>\n      <td>NaN</td>\n      <td>NaN</td>\n      <td>NaN</td>\n      <td>60</td>\n      <td>6,52,230</td>\n      <td>33.93911</td>\n      <td>67.709953</td>\n    </tr>\n    <tr>\n      <th>1</th>\n      <td>Afghanistan</td>\n      <td>2001</td>\n      <td>4.074574</td>\n      <td>7.2</td>\n      <td>8.86</td>\n      <td>130000.0</td>\n      <td>45.60</td>\n      <td>0.09</td>\n      <td>0.0</td>\n      <td>0.50</td>\n      <td>...</td>\n      <td>236.89185</td>\n      <td>1.74</td>\n      <td>730.000000</td>\n      <td>NaN</td>\n      <td>NaN</td>\n      <td>NaN</td>\n      <td>60</td>\n      <td>6,52,230</td>\n      <td>33.93911</td>\n      <td>67.709953</td>\n    </tr>\n    <tr>\n      <th>2</th>\n      <td>Afghanistan</td>\n      <td>2002</td>\n      <td>9.409158</td>\n      <td>8.2</td>\n      <td>8.47</td>\n      <td>3950000.0</td>\n      <td>37.83</td>\n      <td>0.13</td>\n      <td>0.0</td>\n      <td>0.56</td>\n      <td>...</td>\n      <td>210.86215</td>\n      <td>1.40</td>\n      <td>1029.999971</td>\n      <td>NaN</td>\n      <td>NaN</td>\n      <td>179.426579</td>\n      <td>60</td>\n      <td>6,52,230</td>\n      <td>33.93911</td>\n      <td>67.709953</td>\n    </tr>\n    <tr>\n      <th>3</th>\n      <td>Afghanistan</td>\n      <td>2003</td>\n      <td>14.738506</td>\n      <td>9.5</td>\n      <td>8.09</td>\n      <td>25970000.0</td>\n      <td>36.66</td>\n      <td>0.31</td>\n      <td>0.0</td>\n      <td>0.63</td>\n      <td>...</td>\n      <td>229.96822</td>\n      <td>1.40</td>\n      <td>1220.000029</td>\n      <td>NaN</td>\n      <td>8.832278</td>\n      <td>190.683814</td>\n      <td>60</td>\n      <td>6,52,230</td>\n      <td>33.93911</td>\n      <td>67.709953</td>\n    </tr>\n    <tr>\n      <th>4</th>\n      <td>Afghanistan</td>\n      <td>2004</td>\n      <td>20.064968</td>\n      <td>10.9</td>\n      <td>7.75</td>\n      <td>NaN</td>\n      <td>44.24</td>\n      <td>0.33</td>\n      <td>0.0</td>\n      <td>0.56</td>\n      <td>...</td>\n      <td>204.23125</td>\n      <td>1.20</td>\n      <td>1029.999971</td>\n      <td>NaN</td>\n      <td>1.414118</td>\n      <td>211.382074</td>\n      <td>60</td>\n      <td>6,52,230</td>\n      <td>33.93911</td>\n      <td>67.709953</td>\n    </tr>\n  </tbody>\n</table>\n<p>5 rows × 21 columns</p>\n</div>"
     },
     "execution_count": 2,
     "metadata": {},
     "output_type": "execute_result"
    }
   ],
   "source": [
    "df = pd.read_csv(\"ENERGY_data.csv\")\n",
    "energy_data = df\n",
    "# To display the top 5 rows\n",
    "energy_data.head()"
   ]
  },
  {
   "cell_type": "code",
   "execution_count": 3,
   "metadata": {
    "collapsed": false,
    "ExecuteTime": {
     "end_time": "2023-11-24T17:59:11.902600700Z",
     "start_time": "2023-11-24T17:59:11.840767300Z"
    }
   },
   "outputs": [
    {
     "name": "stdout",
     "output_type": "stream",
     "text": [
      "<class 'pandas.core.frame.DataFrame'>\n",
      "RangeIndex: 3649 entries, 0 to 3648\n",
      "Data columns (total 21 columns):\n",
      " #   Column                                                            Non-Null Count  Dtype  \n",
      "---  ------                                                            --------------  -----  \n",
      " 0   Entity                                                            3649 non-null   object \n",
      " 1   Year                                                              3649 non-null   int64  \n",
      " 2   Access to electricity (% of population)                           3639 non-null   float64\n",
      " 3   Access to clean fuels for cooking                                 3480 non-null   float64\n",
      " 4   Renewable-electricity-generating-capacity-per-capita              2718 non-null   float64\n",
      " 5   Financial flows to developing countries (US $)                    1560 non-null   float64\n",
      " 6   Renewable energy share in the total final energy consumption (%)  3455 non-null   float64\n",
      " 7   Electricity from fossil fuels (TWh)                               3628 non-null   float64\n",
      " 8   Electricity from nuclear (TWh)                                    3523 non-null   float64\n",
      " 9   Electricity from renewables (TWh)                                 3628 non-null   float64\n",
      " 10  Low-carbon electricity (% electricity)                            3607 non-null   float64\n",
      " 11  Primary energy consumption per capita (kWh/person)                3649 non-null   float64\n",
      " 12  Energy intensity level of primary energy (MJ/$2017 PPP GDP)       3442 non-null   float64\n",
      " 13  Value_co2_emissions_kt_by_country                                 3221 non-null   float64\n",
      " 14  Renewables (% equivalent primary energy)                          1512 non-null   float64\n",
      " 15  gdp_growth                                                        3332 non-null   float64\n",
      " 16  gdp_per_capita                                                    3367 non-null   float64\n",
      " 17  Density\\n(P/Km2)                                                  3648 non-null   object \n",
      " 18  Land Area(Km2)                                                    3648 non-null   object \n",
      " 19  Latitude                                                          3648 non-null   float64\n",
      " 20  Longitude                                                         3648 non-null   float64\n",
      "dtypes: float64(17), int64(1), object(3)\n",
      "memory usage: 598.8+ KB\n"
     ]
    }
   ],
   "source": [
    "energy_data.info()"
   ]
  },
  {
   "cell_type": "code",
   "execution_count": 4,
   "metadata": {
    "collapsed": false,
    "ExecuteTime": {
     "end_time": "2023-11-24T17:59:16.060739900Z",
     "start_time": "2023-11-24T17:59:14.548880400Z"
    }
   },
   "outputs": [
    {
     "data": {
      "text/plain": "              Year  Access to electricity (% of population)  \\\ncount  3649.000000                              3639.000000   \nmean   2010.038367                                78.933702   \nstd       6.054228                                30.275541   \nmin    2000.000000                                 1.252269   \n25%    2005.000000                                59.800890   \n50%    2010.000000                                98.361570   \n75%    2015.000000                               100.000000   \nmax    2020.000000                               100.000000   \n\n       Access to clean fuels for cooking  \\\ncount                        3480.000000   \nmean                           63.255287   \nstd                            39.043658   \nmin                             0.000000   \n25%                            23.175000   \n50%                            83.150000   \n75%                           100.000000   \nmax                           100.000000   \n\n       Renewable-electricity-generating-capacity-per-capita  \\\ncount                                        2718.000000      \nmean                                          113.137498      \nstd                                           244.167256      \nmin                                             0.000000      \n25%                                             3.540000      \n50%                                            32.910000      \n75%                                           112.210000      \nmax                                          3060.190000      \n\n       Financial flows to developing countries (US $)  \\\ncount                                    1.560000e+03   \nmean                                     9.422400e+07   \nstd                                      2.981544e+08   \nmin                                      0.000000e+00   \n25%                                      2.600000e+05   \n50%                                      5.665000e+06   \n75%                                      5.534750e+07   \nmax                                      5.202310e+09   \n\n       Renewable energy share in the total final energy consumption (%)  \\\ncount                                        3455.000000                  \nmean                                           32.638165                  \nstd                                            29.894901                  \nmin                                             0.000000                  \n25%                                             6.515000                  \n50%                                            23.300000                  \n75%                                            55.245000                  \nmax                                            96.040000                  \n\n       Electricity from fossil fuels (TWh)  Electricity from nuclear (TWh)  \\\ncount                          3628.000000                     3523.000000   \nmean                             70.365003                       13.450190   \nstd                             348.051866                       73.006623   \nmin                               0.000000                        0.000000   \n25%                               0.290000                        0.000000   \n50%                               2.970000                        0.000000   \n75%                              26.837500                        0.000000   \nmax                            5184.130000                      809.410000   \n\n       Electricity from renewables (TWh)  \\\ncount                        3628.000000   \nmean                           23.968010   \nstd                           104.431085   \nmin                             0.000000   \n25%                             0.040000   \n50%                             1.470000   \n75%                             9.600000   \nmax                          2184.940000   \n\n       Low-carbon electricity (% electricity)  \\\ncount                             3607.000000   \nmean                                36.801182   \nstd                                 34.314884   \nmin                                  0.000000   \n25%                                  2.877847   \n50%                                 27.865068   \n75%                                 64.403792   \nmax                                100.000010   \n\n       Primary energy consumption per capita (kWh/person)  \\\ncount                                        3649.000000    \nmean                                        25743.981745    \nstd                                         34773.221366    \nmin                                             0.000000    \n25%                                          3116.737300    \n50%                                         13120.570000    \n75%                                         33892.780000    \nmax                                        262585.700000    \n\n       Energy intensity level of primary energy (MJ/$2017 PPP GDP)  \\\ncount                                        3442.000000             \nmean                                            5.307345             \nstd                                             3.532020             \nmin                                             0.110000             \n25%                                             3.170000             \n50%                                             4.300000             \n75%                                             6.027500             \nmax                                            32.570000             \n\n       Value_co2_emissions_kt_by_country  \\\ncount                       3.221000e+03   \nmean                        1.598665e+05   \nstd                         7.736611e+05   \nmin                         1.000000e+01   \n25%                         2.020000e+03   \n50%                         1.050000e+04   \n75%                         6.058000e+04   \nmax                         1.070722e+07   \n\n       Renewables (% equivalent primary energy)   gdp_growth  gdp_per_capita  \\\ncount                               1512.000000  3332.000000     3367.000000   \nmean                                  11.986707     3.441610    13283.774348   \nstd                                   14.994644     5.686720    19709.866716   \nmin                                    0.000000   -62.075920      111.927225   \n25%                                    2.137095     1.383302     1337.813437   \n50%                                    6.290766     3.559855     4578.633208   \n75%                                   16.841638     5.830099    15768.615365   \nmax                                   86.836586   123.139555   123514.196700   \n\n          Latitude    Longitude  \ncount  3648.000000  3648.000000  \nmean     18.246388    14.822695  \nstd      24.159232    66.348148  \nmin     -40.900557  -175.198242  \n25%       3.202778   -11.779889  \n50%      17.189877    19.145136  \n75%      38.969719    46.199616  \nmax      64.963051   178.065032  ",
      "text/html": "<div>\n<style scoped>\n    .dataframe tbody tr th:only-of-type {\n        vertical-align: middle;\n    }\n\n    .dataframe tbody tr th {\n        vertical-align: top;\n    }\n\n    .dataframe thead th {\n        text-align: right;\n    }\n</style>\n<table border=\"1\" class=\"dataframe\">\n  <thead>\n    <tr style=\"text-align: right;\">\n      <th></th>\n      <th>Year</th>\n      <th>Access to electricity (% of population)</th>\n      <th>Access to clean fuels for cooking</th>\n      <th>Renewable-electricity-generating-capacity-per-capita</th>\n      <th>Financial flows to developing countries (US $)</th>\n      <th>Renewable energy share in the total final energy consumption (%)</th>\n      <th>Electricity from fossil fuels (TWh)</th>\n      <th>Electricity from nuclear (TWh)</th>\n      <th>Electricity from renewables (TWh)</th>\n      <th>Low-carbon electricity (% electricity)</th>\n      <th>Primary energy consumption per capita (kWh/person)</th>\n      <th>Energy intensity level of primary energy (MJ/$2017 PPP GDP)</th>\n      <th>Value_co2_emissions_kt_by_country</th>\n      <th>Renewables (% equivalent primary energy)</th>\n      <th>gdp_growth</th>\n      <th>gdp_per_capita</th>\n      <th>Latitude</th>\n      <th>Longitude</th>\n    </tr>\n  </thead>\n  <tbody>\n    <tr>\n      <th>count</th>\n      <td>3649.000000</td>\n      <td>3639.000000</td>\n      <td>3480.000000</td>\n      <td>2718.000000</td>\n      <td>1.560000e+03</td>\n      <td>3455.000000</td>\n      <td>3628.000000</td>\n      <td>3523.000000</td>\n      <td>3628.000000</td>\n      <td>3607.000000</td>\n      <td>3649.000000</td>\n      <td>3442.000000</td>\n      <td>3.221000e+03</td>\n      <td>1512.000000</td>\n      <td>3332.000000</td>\n      <td>3367.000000</td>\n      <td>3648.000000</td>\n      <td>3648.000000</td>\n    </tr>\n    <tr>\n      <th>mean</th>\n      <td>2010.038367</td>\n      <td>78.933702</td>\n      <td>63.255287</td>\n      <td>113.137498</td>\n      <td>9.422400e+07</td>\n      <td>32.638165</td>\n      <td>70.365003</td>\n      <td>13.450190</td>\n      <td>23.968010</td>\n      <td>36.801182</td>\n      <td>25743.981745</td>\n      <td>5.307345</td>\n      <td>1.598665e+05</td>\n      <td>11.986707</td>\n      <td>3.441610</td>\n      <td>13283.774348</td>\n      <td>18.246388</td>\n      <td>14.822695</td>\n    </tr>\n    <tr>\n      <th>std</th>\n      <td>6.054228</td>\n      <td>30.275541</td>\n      <td>39.043658</td>\n      <td>244.167256</td>\n      <td>2.981544e+08</td>\n      <td>29.894901</td>\n      <td>348.051866</td>\n      <td>73.006623</td>\n      <td>104.431085</td>\n      <td>34.314884</td>\n      <td>34773.221366</td>\n      <td>3.532020</td>\n      <td>7.736611e+05</td>\n      <td>14.994644</td>\n      <td>5.686720</td>\n      <td>19709.866716</td>\n      <td>24.159232</td>\n      <td>66.348148</td>\n    </tr>\n    <tr>\n      <th>min</th>\n      <td>2000.000000</td>\n      <td>1.252269</td>\n      <td>0.000000</td>\n      <td>0.000000</td>\n      <td>0.000000e+00</td>\n      <td>0.000000</td>\n      <td>0.000000</td>\n      <td>0.000000</td>\n      <td>0.000000</td>\n      <td>0.000000</td>\n      <td>0.000000</td>\n      <td>0.110000</td>\n      <td>1.000000e+01</td>\n      <td>0.000000</td>\n      <td>-62.075920</td>\n      <td>111.927225</td>\n      <td>-40.900557</td>\n      <td>-175.198242</td>\n    </tr>\n    <tr>\n      <th>25%</th>\n      <td>2005.000000</td>\n      <td>59.800890</td>\n      <td>23.175000</td>\n      <td>3.540000</td>\n      <td>2.600000e+05</td>\n      <td>6.515000</td>\n      <td>0.290000</td>\n      <td>0.000000</td>\n      <td>0.040000</td>\n      <td>2.877847</td>\n      <td>3116.737300</td>\n      <td>3.170000</td>\n      <td>2.020000e+03</td>\n      <td>2.137095</td>\n      <td>1.383302</td>\n      <td>1337.813437</td>\n      <td>3.202778</td>\n      <td>-11.779889</td>\n    </tr>\n    <tr>\n      <th>50%</th>\n      <td>2010.000000</td>\n      <td>98.361570</td>\n      <td>83.150000</td>\n      <td>32.910000</td>\n      <td>5.665000e+06</td>\n      <td>23.300000</td>\n      <td>2.970000</td>\n      <td>0.000000</td>\n      <td>1.470000</td>\n      <td>27.865068</td>\n      <td>13120.570000</td>\n      <td>4.300000</td>\n      <td>1.050000e+04</td>\n      <td>6.290766</td>\n      <td>3.559855</td>\n      <td>4578.633208</td>\n      <td>17.189877</td>\n      <td>19.145136</td>\n    </tr>\n    <tr>\n      <th>75%</th>\n      <td>2015.000000</td>\n      <td>100.000000</td>\n      <td>100.000000</td>\n      <td>112.210000</td>\n      <td>5.534750e+07</td>\n      <td>55.245000</td>\n      <td>26.837500</td>\n      <td>0.000000</td>\n      <td>9.600000</td>\n      <td>64.403792</td>\n      <td>33892.780000</td>\n      <td>6.027500</td>\n      <td>6.058000e+04</td>\n      <td>16.841638</td>\n      <td>5.830099</td>\n      <td>15768.615365</td>\n      <td>38.969719</td>\n      <td>46.199616</td>\n    </tr>\n    <tr>\n      <th>max</th>\n      <td>2020.000000</td>\n      <td>100.000000</td>\n      <td>100.000000</td>\n      <td>3060.190000</td>\n      <td>5.202310e+09</td>\n      <td>96.040000</td>\n      <td>5184.130000</td>\n      <td>809.410000</td>\n      <td>2184.940000</td>\n      <td>100.000010</td>\n      <td>262585.700000</td>\n      <td>32.570000</td>\n      <td>1.070722e+07</td>\n      <td>86.836586</td>\n      <td>123.139555</td>\n      <td>123514.196700</td>\n      <td>64.963051</td>\n      <td>178.065032</td>\n    </tr>\n  </tbody>\n</table>\n</div>"
     },
     "execution_count": 4,
     "metadata": {},
     "output_type": "execute_result"
    }
   ],
   "source": [
    "energy_data.describe()"
   ]
  },
  {
   "cell_type": "markdown",
   "metadata": {
    "id": "vAmC369yTpMF"
   },
   "source": [
    "## 3. Checking the types of data"
   ]
  },
  {
   "cell_type": "code",
   "execution_count": 5,
   "metadata": {
    "colab": {
     "base_uri": "https://localhost:8080/",
     "height": 312
    },
    "id": "qPbKQ0noRptD",
    "outputId": "6a5aea47-ad0c-4118-8471-d91b6432b339",
    "ExecuteTime": {
     "end_time": "2023-11-24T17:59:16.271785100Z",
     "start_time": "2023-11-24T17:59:15.045800300Z"
    }
   },
   "outputs": [
    {
     "data": {
      "text/plain": "Entity                                                               object\nYear                                                                  int64\nAccess to electricity (% of population)                             float64\nAccess to clean fuels for cooking                                   float64\nRenewable-electricity-generating-capacity-per-capita                float64\nFinancial flows to developing countries (US $)                      float64\nRenewable energy share in the total final energy consumption (%)    float64\nElectricity from fossil fuels (TWh)                                 float64\nElectricity from nuclear (TWh)                                      float64\nElectricity from renewables (TWh)                                   float64\nLow-carbon electricity (% electricity)                              float64\nPrimary energy consumption per capita (kWh/person)                  float64\nEnergy intensity level of primary energy (MJ/$2017 PPP GDP)         float64\nValue_co2_emissions_kt_by_country                                   float64\nRenewables (% equivalent primary energy)                            float64\ngdp_growth                                                          float64\ngdp_per_capita                                                      float64\nDensity\\n(P/Km2)                                                     object\nLand Area(Km2)                                                       object\nLatitude                                                            float64\nLongitude                                                           float64\ndtype: object"
     },
     "execution_count": 5,
     "metadata": {},
     "output_type": "execute_result"
    }
   ],
   "source": [
    "energy_data.dtypes"
   ]
  },
  {
   "cell_type": "code",
   "execution_count": 6,
   "outputs": [],
   "source": [
    "energy_data.columns = energy_data.columns.str.lower().str.replace(\" \", \"_\")"
   ],
   "metadata": {
    "collapsed": false,
    "ExecuteTime": {
     "end_time": "2023-11-24T17:59:16.393318400Z",
     "start_time": "2023-11-24T17:59:15.317625300Z"
    }
   }
  },
  {
   "cell_type": "markdown",
   "metadata": {
    "id": "QoHuBhXxT5E9"
   },
   "source": [
    "## 4. Renaming columns and dropping columns"
   ]
  },
  {
   "cell_type": "code",
   "execution_count": 7,
   "outputs": [],
   "source": [
    "energy_data = energy_data.rename({'entity':'country','access_to_electricity_(%_of_population)':'access_electricity','access_to_clean_fuels_for_cooking':'access_cooking_fuels','renewable-electricity-generating-capacity-per-capita':'renewal_electricity_capacity','financial_flows_to_developing_countries_(us_$)':'financial_flows','renewable_energy_share_in_the_total_final_energy_consumption_(%)':'renewable_energy_share','electricity_from_fossil_fuels_(twh)':'electricity_fossil_fuels','electricity_from_nuclear_(twh)':'electricity_nuclear','electricity_from_renewables_(twh)':'electricity_renewals','low-carbon_electricity_(%_electricity)':'electricity_low_carbon','primary_energy_consumption_per_capita_(kwh/person)':'primary_energy_consumption','energy_intensity_level_of_primary_energy_(mj/$2017_ppp_gdp)':'energy_level','value_co2_emissions_kt_by_country':'co2_emissions','renewables_(%_equivalent_primary_energy)':'renewables','density\\\\n(p/km2)':'density','land_area(km2)':'land_area'},axis = 1)"
   ],
   "metadata": {
    "collapsed": false,
    "ExecuteTime": {
     "end_time": "2023-11-24T17:59:16.974375400Z",
     "start_time": "2023-11-24T17:59:15.789360200Z"
    }
   }
  },
  {
   "cell_type": "code",
   "execution_count": 8,
   "outputs": [
    {
     "data": {
      "text/plain": "          country  year  access_electricity  access_cooking_fuels  \\\n0     Afghanistan  2000            1.613591                   6.2   \n1     Afghanistan  2001            4.074574                   7.2   \n2     Afghanistan  2002            9.409158                   8.2   \n3     Afghanistan  2003           14.738506                   9.5   \n4     Afghanistan  2004           20.064968                  10.9   \n...           ...   ...                 ...                   ...   \n3644     Zimbabwe  2016           42.561730                  29.8   \n3645     Zimbabwe  2017           44.178635                  29.8   \n3646     Zimbabwe  2018           45.572647                  29.9   \n3647     Zimbabwe  2019           46.781475                  30.1   \n3648     Zimbabwe  2020           52.747670                  30.4   \n\n      renewal_electricity_capacity  financial_flows  renewable_energy_share  \\\n0                             9.22          20000.0                   44.99   \n1                             8.86         130000.0                   45.60   \n2                             8.47        3950000.0                   37.83   \n3                             8.09       25970000.0                   36.66   \n4                             7.75              NaN                   44.24   \n...                            ...              ...                     ...   \n3644                         62.88          30000.0                   81.90   \n3645                         62.33        5570000.0                   82.46   \n3646                         82.53          10000.0                   80.23   \n3647                         81.40         250000.0                   81.50   \n3648                         80.61          30000.0                   81.90   \n\n      electricity_fossil_fuels  electricity_nuclear  electricity_renewals  \\\n0                         0.16                  0.0                  0.31   \n1                         0.09                  0.0                  0.50   \n2                         0.13                  0.0                  0.56   \n3                         0.31                  0.0                  0.63   \n4                         0.33                  0.0                  0.56   \n...                        ...                  ...                   ...   \n3644                      3.50                  0.0                  3.32   \n3645                      3.05                  0.0                  4.30   \n3646                      3.73                  0.0                  5.46   \n3647                      3.66                  0.0                  4.58   \n3648                      3.40                  0.0                  4.19   \n\n      ...  primary_energy_consumption  energy_level  co2_emissions  \\\n0     ...                   302.59482          1.64     760.000000   \n1     ...                   236.89185          1.74     730.000000   \n2     ...                   210.86215          1.40    1029.999971   \n3     ...                   229.96822          1.40    1220.000029   \n4     ...                   204.23125          1.20    1029.999971   \n...   ...                         ...           ...            ...   \n3644  ...                  3227.68020         10.00   11020.000460   \n3645  ...                  3068.01150          9.51   10340.000150   \n3646  ...                  3441.98580          9.83   12380.000110   \n3647  ...                  3003.65530         10.47   11760.000230   \n3648  ...                  2680.13180         10.00            NaN   \n\n      renewables  gdp_growth  gdp_per_capita  density land_area   latitude  \\\n0            NaN         NaN             NaN       60  6,52,230  33.939110   \n1            NaN         NaN             NaN       60  6,52,230  33.939110   \n2            NaN         NaN      179.426579       60  6,52,230  33.939110   \n3            NaN    8.832278      190.683814       60  6,52,230  33.939110   \n4            NaN    1.414118      211.382074       60  6,52,230  33.939110   \n...          ...         ...             ...      ...       ...        ...   \n3644         NaN    0.755869     1464.588957       38  3,90,757 -19.015438   \n3645         NaN    4.709492     1235.189032       38  3,90,757 -19.015438   \n3646         NaN    4.824211     1254.642265       38  3,90,757 -19.015438   \n3647         NaN   -6.144236     1316.740657       38  3,90,757 -19.015438   \n3648         NaN   -6.248748     1214.509820       38  3,90,757 -19.015438   \n\n      longitude  \n0     67.709953  \n1     67.709953  \n2     67.709953  \n3     67.709953  \n4     67.709953  \n...         ...  \n3644  29.154857  \n3645  29.154857  \n3646  29.154857  \n3647  29.154857  \n3648  29.154857  \n\n[3649 rows x 21 columns]",
      "text/html": "<div>\n<style scoped>\n    .dataframe tbody tr th:only-of-type {\n        vertical-align: middle;\n    }\n\n    .dataframe tbody tr th {\n        vertical-align: top;\n    }\n\n    .dataframe thead th {\n        text-align: right;\n    }\n</style>\n<table border=\"1\" class=\"dataframe\">\n  <thead>\n    <tr style=\"text-align: right;\">\n      <th></th>\n      <th>country</th>\n      <th>year</th>\n      <th>access_electricity</th>\n      <th>access_cooking_fuels</th>\n      <th>renewal_electricity_capacity</th>\n      <th>financial_flows</th>\n      <th>renewable_energy_share</th>\n      <th>electricity_fossil_fuels</th>\n      <th>electricity_nuclear</th>\n      <th>electricity_renewals</th>\n      <th>...</th>\n      <th>primary_energy_consumption</th>\n      <th>energy_level</th>\n      <th>co2_emissions</th>\n      <th>renewables</th>\n      <th>gdp_growth</th>\n      <th>gdp_per_capita</th>\n      <th>density</th>\n      <th>land_area</th>\n      <th>latitude</th>\n      <th>longitude</th>\n    </tr>\n  </thead>\n  <tbody>\n    <tr>\n      <th>0</th>\n      <td>Afghanistan</td>\n      <td>2000</td>\n      <td>1.613591</td>\n      <td>6.2</td>\n      <td>9.22</td>\n      <td>20000.0</td>\n      <td>44.99</td>\n      <td>0.16</td>\n      <td>0.0</td>\n      <td>0.31</td>\n      <td>...</td>\n      <td>302.59482</td>\n      <td>1.64</td>\n      <td>760.000000</td>\n      <td>NaN</td>\n      <td>NaN</td>\n      <td>NaN</td>\n      <td>60</td>\n      <td>6,52,230</td>\n      <td>33.939110</td>\n      <td>67.709953</td>\n    </tr>\n    <tr>\n      <th>1</th>\n      <td>Afghanistan</td>\n      <td>2001</td>\n      <td>4.074574</td>\n      <td>7.2</td>\n      <td>8.86</td>\n      <td>130000.0</td>\n      <td>45.60</td>\n      <td>0.09</td>\n      <td>0.0</td>\n      <td>0.50</td>\n      <td>...</td>\n      <td>236.89185</td>\n      <td>1.74</td>\n      <td>730.000000</td>\n      <td>NaN</td>\n      <td>NaN</td>\n      <td>NaN</td>\n      <td>60</td>\n      <td>6,52,230</td>\n      <td>33.939110</td>\n      <td>67.709953</td>\n    </tr>\n    <tr>\n      <th>2</th>\n      <td>Afghanistan</td>\n      <td>2002</td>\n      <td>9.409158</td>\n      <td>8.2</td>\n      <td>8.47</td>\n      <td>3950000.0</td>\n      <td>37.83</td>\n      <td>0.13</td>\n      <td>0.0</td>\n      <td>0.56</td>\n      <td>...</td>\n      <td>210.86215</td>\n      <td>1.40</td>\n      <td>1029.999971</td>\n      <td>NaN</td>\n      <td>NaN</td>\n      <td>179.426579</td>\n      <td>60</td>\n      <td>6,52,230</td>\n      <td>33.939110</td>\n      <td>67.709953</td>\n    </tr>\n    <tr>\n      <th>3</th>\n      <td>Afghanistan</td>\n      <td>2003</td>\n      <td>14.738506</td>\n      <td>9.5</td>\n      <td>8.09</td>\n      <td>25970000.0</td>\n      <td>36.66</td>\n      <td>0.31</td>\n      <td>0.0</td>\n      <td>0.63</td>\n      <td>...</td>\n      <td>229.96822</td>\n      <td>1.40</td>\n      <td>1220.000029</td>\n      <td>NaN</td>\n      <td>8.832278</td>\n      <td>190.683814</td>\n      <td>60</td>\n      <td>6,52,230</td>\n      <td>33.939110</td>\n      <td>67.709953</td>\n    </tr>\n    <tr>\n      <th>4</th>\n      <td>Afghanistan</td>\n      <td>2004</td>\n      <td>20.064968</td>\n      <td>10.9</td>\n      <td>7.75</td>\n      <td>NaN</td>\n      <td>44.24</td>\n      <td>0.33</td>\n      <td>0.0</td>\n      <td>0.56</td>\n      <td>...</td>\n      <td>204.23125</td>\n      <td>1.20</td>\n      <td>1029.999971</td>\n      <td>NaN</td>\n      <td>1.414118</td>\n      <td>211.382074</td>\n      <td>60</td>\n      <td>6,52,230</td>\n      <td>33.939110</td>\n      <td>67.709953</td>\n    </tr>\n    <tr>\n      <th>...</th>\n      <td>...</td>\n      <td>...</td>\n      <td>...</td>\n      <td>...</td>\n      <td>...</td>\n      <td>...</td>\n      <td>...</td>\n      <td>...</td>\n      <td>...</td>\n      <td>...</td>\n      <td>...</td>\n      <td>...</td>\n      <td>...</td>\n      <td>...</td>\n      <td>...</td>\n      <td>...</td>\n      <td>...</td>\n      <td>...</td>\n      <td>...</td>\n      <td>...</td>\n      <td>...</td>\n    </tr>\n    <tr>\n      <th>3644</th>\n      <td>Zimbabwe</td>\n      <td>2016</td>\n      <td>42.561730</td>\n      <td>29.8</td>\n      <td>62.88</td>\n      <td>30000.0</td>\n      <td>81.90</td>\n      <td>3.50</td>\n      <td>0.0</td>\n      <td>3.32</td>\n      <td>...</td>\n      <td>3227.68020</td>\n      <td>10.00</td>\n      <td>11020.000460</td>\n      <td>NaN</td>\n      <td>0.755869</td>\n      <td>1464.588957</td>\n      <td>38</td>\n      <td>3,90,757</td>\n      <td>-19.015438</td>\n      <td>29.154857</td>\n    </tr>\n    <tr>\n      <th>3645</th>\n      <td>Zimbabwe</td>\n      <td>2017</td>\n      <td>44.178635</td>\n      <td>29.8</td>\n      <td>62.33</td>\n      <td>5570000.0</td>\n      <td>82.46</td>\n      <td>3.05</td>\n      <td>0.0</td>\n      <td>4.30</td>\n      <td>...</td>\n      <td>3068.01150</td>\n      <td>9.51</td>\n      <td>10340.000150</td>\n      <td>NaN</td>\n      <td>4.709492</td>\n      <td>1235.189032</td>\n      <td>38</td>\n      <td>3,90,757</td>\n      <td>-19.015438</td>\n      <td>29.154857</td>\n    </tr>\n    <tr>\n      <th>3646</th>\n      <td>Zimbabwe</td>\n      <td>2018</td>\n      <td>45.572647</td>\n      <td>29.9</td>\n      <td>82.53</td>\n      <td>10000.0</td>\n      <td>80.23</td>\n      <td>3.73</td>\n      <td>0.0</td>\n      <td>5.46</td>\n      <td>...</td>\n      <td>3441.98580</td>\n      <td>9.83</td>\n      <td>12380.000110</td>\n      <td>NaN</td>\n      <td>4.824211</td>\n      <td>1254.642265</td>\n      <td>38</td>\n      <td>3,90,757</td>\n      <td>-19.015438</td>\n      <td>29.154857</td>\n    </tr>\n    <tr>\n      <th>3647</th>\n      <td>Zimbabwe</td>\n      <td>2019</td>\n      <td>46.781475</td>\n      <td>30.1</td>\n      <td>81.40</td>\n      <td>250000.0</td>\n      <td>81.50</td>\n      <td>3.66</td>\n      <td>0.0</td>\n      <td>4.58</td>\n      <td>...</td>\n      <td>3003.65530</td>\n      <td>10.47</td>\n      <td>11760.000230</td>\n      <td>NaN</td>\n      <td>-6.144236</td>\n      <td>1316.740657</td>\n      <td>38</td>\n      <td>3,90,757</td>\n      <td>-19.015438</td>\n      <td>29.154857</td>\n    </tr>\n    <tr>\n      <th>3648</th>\n      <td>Zimbabwe</td>\n      <td>2020</td>\n      <td>52.747670</td>\n      <td>30.4</td>\n      <td>80.61</td>\n      <td>30000.0</td>\n      <td>81.90</td>\n      <td>3.40</td>\n      <td>0.0</td>\n      <td>4.19</td>\n      <td>...</td>\n      <td>2680.13180</td>\n      <td>10.00</td>\n      <td>NaN</td>\n      <td>NaN</td>\n      <td>-6.248748</td>\n      <td>1214.509820</td>\n      <td>38</td>\n      <td>3,90,757</td>\n      <td>-19.015438</td>\n      <td>29.154857</td>\n    </tr>\n  </tbody>\n</table>\n<p>3649 rows × 21 columns</p>\n</div>"
     },
     "execution_count": 8,
     "metadata": {},
     "output_type": "execute_result"
    }
   ],
   "source": [
    "energy_data"
   ],
   "metadata": {
    "collapsed": false,
    "ExecuteTime": {
     "end_time": "2023-11-24T17:59:20.105276600Z",
     "start_time": "2023-11-24T17:59:19.908688400Z"
    }
   }
  },
  {
   "cell_type": "code",
   "execution_count": 10,
   "outputs": [],
   "source": [
    "energy_data['land_area'] = energy_data['land_area'].str.replace(',', '')\n",
    "energy_data['land_area'] = pd.to_numeric(energy_data['land_area'])"
   ],
   "metadata": {
    "collapsed": false,
    "ExecuteTime": {
     "end_time": "2023-11-24T17:59:57.217569700Z",
     "start_time": "2023-11-24T17:59:57.164399600Z"
    }
   }
  },
  {
   "cell_type": "code",
   "execution_count": 11,
   "outputs": [],
   "source": [
    "energy_data['density'] = energy_data['density'].str.replace(',', '')\n",
    "energy_data['density'] = pd.to_numeric(energy_data['density'])"
   ],
   "metadata": {
    "collapsed": false,
    "ExecuteTime": {
     "end_time": "2023-11-24T18:00:06.266542900Z",
     "start_time": "2023-11-24T18:00:06.205781400Z"
    }
   }
  },
  {
   "cell_type": "code",
   "execution_count": 12,
   "outputs": [
    {
     "name": "stdout",
     "output_type": "stream",
     "text": [
      "<class 'pandas.core.frame.DataFrame'>\n",
      "RangeIndex: 3649 entries, 0 to 3648\n",
      "Data columns (total 21 columns):\n",
      " #   Column                        Non-Null Count  Dtype  \n",
      "---  ------                        --------------  -----  \n",
      " 0   country                       3649 non-null   object \n",
      " 1   year                          3649 non-null   int64  \n",
      " 2   access_electricity            3639 non-null   float64\n",
      " 3   access_cooking_fuels          3480 non-null   float64\n",
      " 4   renewal_electricity_capacity  2718 non-null   float64\n",
      " 5   financial_flows               1560 non-null   float64\n",
      " 6   renewable_energy_share        3455 non-null   float64\n",
      " 7   electricity_fossil_fuels      3628 non-null   float64\n",
      " 8   electricity_nuclear           3523 non-null   float64\n",
      " 9   electricity_renewals          3628 non-null   float64\n",
      " 10  electricity_low_carbon        3607 non-null   float64\n",
      " 11  primary_energy_consumption    3649 non-null   float64\n",
      " 12  energy_level                  3442 non-null   float64\n",
      " 13  co2_emissions                 3221 non-null   float64\n",
      " 14  renewables                    1512 non-null   float64\n",
      " 15  gdp_growth                    3332 non-null   float64\n",
      " 16  gdp_per_capita                3367 non-null   float64\n",
      " 17  density                       3648 non-null   float64\n",
      " 18  land_area                     3648 non-null   float64\n",
      " 19  latitude                      3648 non-null   float64\n",
      " 20  longitude                     3648 non-null   float64\n",
      "dtypes: float64(19), int64(1), object(1)\n",
      "memory usage: 598.8+ KB\n"
     ]
    }
   ],
   "source": [
    "energy_data.info()"
   ],
   "metadata": {
    "collapsed": false,
    "ExecuteTime": {
     "end_time": "2023-11-24T18:00:11.034927200Z",
     "start_time": "2023-11-24T18:00:10.999898600Z"
    }
   }
  },
  {
   "cell_type": "code",
   "execution_count": 13,
   "outputs": [
    {
     "data": {
      "text/plain": "country\nSerbia           14\nMontenegro       14\nSouth Sudan       8\nFrench Guiana     1\nName: count, dtype: int64"
     },
     "execution_count": 13,
     "metadata": {},
     "output_type": "execute_result"
    }
   ],
   "source": [
    "count_country = energy_data['country'].value_counts()\n",
    "count_country[count_country<21]"
   ],
   "metadata": {
    "collapsed": false,
    "ExecuteTime": {
     "end_time": "2023-11-24T18:00:16.487125800Z",
     "start_time": "2023-11-24T18:00:16.188330Z"
    }
   }
  },
  {
   "cell_type": "code",
   "execution_count": 14,
   "outputs": [],
   "source": [
    "#Drop the whole Country \"South Sudan\" and \"French Guinea\"\n",
    "energy_data = energy_data.drop(energy_data[energy_data['country'] == 'French Guiana'].index)\n",
    "energy_data = energy_data.drop(energy_data[energy_data['country'] == 'South Sudan'].index)"
   ],
   "metadata": {
    "collapsed": false,
    "ExecuteTime": {
     "end_time": "2023-11-24T18:00:26.518327Z",
     "start_time": "2023-11-24T18:00:26.337634700Z"
    }
   }
  },
  {
   "cell_type": "code",
   "execution_count": 15,
   "outputs": [
    {
     "data": {
      "text/plain": "     country  year  access_electricity  access_cooking_fuels  \\\n2913  Serbia  2007            100.0000                 64.60   \n2914  Serbia  2008            100.0000                 65.30   \n2915  Serbia  2009            100.0000                 66.10   \n2916  Serbia  2010             99.7184                 67.40   \n2917  Serbia  2011            100.0000                 67.90   \n2918  Serbia  2012            100.0000                 69.20   \n2919  Serbia  2013             99.9200                 70.45   \n2920  Serbia  2014             99.6608                 71.60   \n2921  Serbia  2015             99.9000                 73.00   \n2922  Serbia  2016            100.0000                 74.40   \n2923  Serbia  2017            100.0000                 75.70   \n2924  Serbia  2018            100.0000                 77.30   \n2925  Serbia  2019             99.8000                 78.60   \n2926  Serbia  2020            100.0000                 79.80   \n\n      renewal_electricity_capacity  financial_flows  renewable_energy_share  \\\n2913                           NaN              NaN                   14.03   \n2914                           NaN              NaN                   15.50   \n2915                           NaN              NaN                   20.68   \n2916                           NaN              NaN                   20.47   \n2917                           NaN              NaN                   17.44   \n2918                           NaN              NaN                   19.47   \n2919                           NaN              NaN                   20.03   \n2920                           NaN              NaN                   23.25   \n2921                           NaN              NaN                   21.24   \n2922                           NaN              NaN                   20.91   \n2923                           NaN              NaN                   20.00   \n2924                           NaN              NaN                   21.05   \n2925                           NaN              NaN                   21.53   \n2926                           NaN              NaN                     NaN   \n\n      electricity_fossil_fuels  electricity_nuclear  electricity_renewals  \\\n2913                     26.51                  0.0                  9.46   \n2914                     27.26                  0.0                  9.56   \n2915                     27.17                  0.0                 10.54   \n2916                     25.53                  0.0                 11.89   \n2917                     29.35                  0.0                  8.67   \n2918                     26.89                  0.0                  9.30   \n2919                     29.01                  0.0                 10.22   \n2920                     22.41                  0.0                 11.03   \n2921                     27.48                  0.0                 10.11   \n2922                     27.75                  0.0                 10.86   \n2923                     27.15                  0.0                  9.29   \n2924                     25.77                  0.0                 10.90   \n2925                     26.35                  0.0                 10.51   \n2926                     27.02                  0.0                 10.21   \n\n      ...  primary_energy_consumption  energy_level  co2_emissions  \\\n2913  ...                   26348.527          6.78    51459.99908   \n2914  ...                   26371.516          6.53    49830.00183   \n2915  ...                   25290.535          6.05    46869.99893   \n2916  ...                   26212.140          6.19    47099.99847   \n2917  ...                   26607.537          6.29    51229.99954   \n2918  ...                   25157.438          5.69    45790.00092   \n2919  ...                   25155.992          5.66    46470.00122   \n2920  ...                   22474.787          5.12    38959.99908   \n2921  ...                   24964.810          5.59    45389.99939   \n2922  ...                   25665.121          5.60    46619.99893   \n2923  ...                   26359.041          5.61    47340.00015   \n2924  ...                   26481.451          5.28    46130.00107   \n2925  ...                   26602.787          5.04    45950.00076   \n2926  ...                   26211.984           NaN            NaN   \n\n      renewables  gdp_growth  gdp_per_capita  density  land_area   latitude  \\\n2913         NaN    6.439526     5848.476405    100.0    77474.0  44.016521   \n2914         NaN    5.655577     7101.040141    100.0    77474.0  44.016521   \n2915         NaN   -2.731752     6169.114195    100.0    77474.0  44.016521   \n2916         NaN    0.731045     5735.422857    100.0    77474.0  44.016521   \n2917         NaN    2.036277     6809.159804    100.0    77474.0  44.016521   \n2918         NaN   -0.681542     6015.945228    100.0    77474.0  44.016521   \n2919         NaN    2.892637     6755.073675    100.0    77474.0  44.016521   \n2920         NaN   -1.589510     6600.056809    100.0    77474.0  44.016521   \n2921         NaN    1.806059     5588.980728    100.0    77474.0  44.016521   \n2922         NaN    3.338587     5765.200762    100.0    77474.0  44.016521   \n2923         NaN    2.101164     6292.543629    100.0    77474.0  44.016521   \n2924         NaN    4.495121     7252.401858    100.0    77474.0  44.016521   \n2925         NaN    4.331735     7417.203649    100.0    77474.0  44.016521   \n2926         NaN   -0.944597     7720.510572    100.0    77474.0  44.016521   \n\n      longitude  \n2913  21.005859  \n2914  21.005859  \n2915  21.005859  \n2916  21.005859  \n2917  21.005859  \n2918  21.005859  \n2919  21.005859  \n2920  21.005859  \n2921  21.005859  \n2922  21.005859  \n2923  21.005859  \n2924  21.005859  \n2925  21.005859  \n2926  21.005859  \n\n[14 rows x 21 columns]",
      "text/html": "<div>\n<style scoped>\n    .dataframe tbody tr th:only-of-type {\n        vertical-align: middle;\n    }\n\n    .dataframe tbody tr th {\n        vertical-align: top;\n    }\n\n    .dataframe thead th {\n        text-align: right;\n    }\n</style>\n<table border=\"1\" class=\"dataframe\">\n  <thead>\n    <tr style=\"text-align: right;\">\n      <th></th>\n      <th>country</th>\n      <th>year</th>\n      <th>access_electricity</th>\n      <th>access_cooking_fuels</th>\n      <th>renewal_electricity_capacity</th>\n      <th>financial_flows</th>\n      <th>renewable_energy_share</th>\n      <th>electricity_fossil_fuels</th>\n      <th>electricity_nuclear</th>\n      <th>electricity_renewals</th>\n      <th>...</th>\n      <th>primary_energy_consumption</th>\n      <th>energy_level</th>\n      <th>co2_emissions</th>\n      <th>renewables</th>\n      <th>gdp_growth</th>\n      <th>gdp_per_capita</th>\n      <th>density</th>\n      <th>land_area</th>\n      <th>latitude</th>\n      <th>longitude</th>\n    </tr>\n  </thead>\n  <tbody>\n    <tr>\n      <th>2913</th>\n      <td>Serbia</td>\n      <td>2007</td>\n      <td>100.0000</td>\n      <td>64.60</td>\n      <td>NaN</td>\n      <td>NaN</td>\n      <td>14.03</td>\n      <td>26.51</td>\n      <td>0.0</td>\n      <td>9.46</td>\n      <td>...</td>\n      <td>26348.527</td>\n      <td>6.78</td>\n      <td>51459.99908</td>\n      <td>NaN</td>\n      <td>6.439526</td>\n      <td>5848.476405</td>\n      <td>100.0</td>\n      <td>77474.0</td>\n      <td>44.016521</td>\n      <td>21.005859</td>\n    </tr>\n    <tr>\n      <th>2914</th>\n      <td>Serbia</td>\n      <td>2008</td>\n      <td>100.0000</td>\n      <td>65.30</td>\n      <td>NaN</td>\n      <td>NaN</td>\n      <td>15.50</td>\n      <td>27.26</td>\n      <td>0.0</td>\n      <td>9.56</td>\n      <td>...</td>\n      <td>26371.516</td>\n      <td>6.53</td>\n      <td>49830.00183</td>\n      <td>NaN</td>\n      <td>5.655577</td>\n      <td>7101.040141</td>\n      <td>100.0</td>\n      <td>77474.0</td>\n      <td>44.016521</td>\n      <td>21.005859</td>\n    </tr>\n    <tr>\n      <th>2915</th>\n      <td>Serbia</td>\n      <td>2009</td>\n      <td>100.0000</td>\n      <td>66.10</td>\n      <td>NaN</td>\n      <td>NaN</td>\n      <td>20.68</td>\n      <td>27.17</td>\n      <td>0.0</td>\n      <td>10.54</td>\n      <td>...</td>\n      <td>25290.535</td>\n      <td>6.05</td>\n      <td>46869.99893</td>\n      <td>NaN</td>\n      <td>-2.731752</td>\n      <td>6169.114195</td>\n      <td>100.0</td>\n      <td>77474.0</td>\n      <td>44.016521</td>\n      <td>21.005859</td>\n    </tr>\n    <tr>\n      <th>2916</th>\n      <td>Serbia</td>\n      <td>2010</td>\n      <td>99.7184</td>\n      <td>67.40</td>\n      <td>NaN</td>\n      <td>NaN</td>\n      <td>20.47</td>\n      <td>25.53</td>\n      <td>0.0</td>\n      <td>11.89</td>\n      <td>...</td>\n      <td>26212.140</td>\n      <td>6.19</td>\n      <td>47099.99847</td>\n      <td>NaN</td>\n      <td>0.731045</td>\n      <td>5735.422857</td>\n      <td>100.0</td>\n      <td>77474.0</td>\n      <td>44.016521</td>\n      <td>21.005859</td>\n    </tr>\n    <tr>\n      <th>2917</th>\n      <td>Serbia</td>\n      <td>2011</td>\n      <td>100.0000</td>\n      <td>67.90</td>\n      <td>NaN</td>\n      <td>NaN</td>\n      <td>17.44</td>\n      <td>29.35</td>\n      <td>0.0</td>\n      <td>8.67</td>\n      <td>...</td>\n      <td>26607.537</td>\n      <td>6.29</td>\n      <td>51229.99954</td>\n      <td>NaN</td>\n      <td>2.036277</td>\n      <td>6809.159804</td>\n      <td>100.0</td>\n      <td>77474.0</td>\n      <td>44.016521</td>\n      <td>21.005859</td>\n    </tr>\n    <tr>\n      <th>2918</th>\n      <td>Serbia</td>\n      <td>2012</td>\n      <td>100.0000</td>\n      <td>69.20</td>\n      <td>NaN</td>\n      <td>NaN</td>\n      <td>19.47</td>\n      <td>26.89</td>\n      <td>0.0</td>\n      <td>9.30</td>\n      <td>...</td>\n      <td>25157.438</td>\n      <td>5.69</td>\n      <td>45790.00092</td>\n      <td>NaN</td>\n      <td>-0.681542</td>\n      <td>6015.945228</td>\n      <td>100.0</td>\n      <td>77474.0</td>\n      <td>44.016521</td>\n      <td>21.005859</td>\n    </tr>\n    <tr>\n      <th>2919</th>\n      <td>Serbia</td>\n      <td>2013</td>\n      <td>99.9200</td>\n      <td>70.45</td>\n      <td>NaN</td>\n      <td>NaN</td>\n      <td>20.03</td>\n      <td>29.01</td>\n      <td>0.0</td>\n      <td>10.22</td>\n      <td>...</td>\n      <td>25155.992</td>\n      <td>5.66</td>\n      <td>46470.00122</td>\n      <td>NaN</td>\n      <td>2.892637</td>\n      <td>6755.073675</td>\n      <td>100.0</td>\n      <td>77474.0</td>\n      <td>44.016521</td>\n      <td>21.005859</td>\n    </tr>\n    <tr>\n      <th>2920</th>\n      <td>Serbia</td>\n      <td>2014</td>\n      <td>99.6608</td>\n      <td>71.60</td>\n      <td>NaN</td>\n      <td>NaN</td>\n      <td>23.25</td>\n      <td>22.41</td>\n      <td>0.0</td>\n      <td>11.03</td>\n      <td>...</td>\n      <td>22474.787</td>\n      <td>5.12</td>\n      <td>38959.99908</td>\n      <td>NaN</td>\n      <td>-1.589510</td>\n      <td>6600.056809</td>\n      <td>100.0</td>\n      <td>77474.0</td>\n      <td>44.016521</td>\n      <td>21.005859</td>\n    </tr>\n    <tr>\n      <th>2921</th>\n      <td>Serbia</td>\n      <td>2015</td>\n      <td>99.9000</td>\n      <td>73.00</td>\n      <td>NaN</td>\n      <td>NaN</td>\n      <td>21.24</td>\n      <td>27.48</td>\n      <td>0.0</td>\n      <td>10.11</td>\n      <td>...</td>\n      <td>24964.810</td>\n      <td>5.59</td>\n      <td>45389.99939</td>\n      <td>NaN</td>\n      <td>1.806059</td>\n      <td>5588.980728</td>\n      <td>100.0</td>\n      <td>77474.0</td>\n      <td>44.016521</td>\n      <td>21.005859</td>\n    </tr>\n    <tr>\n      <th>2922</th>\n      <td>Serbia</td>\n      <td>2016</td>\n      <td>100.0000</td>\n      <td>74.40</td>\n      <td>NaN</td>\n      <td>NaN</td>\n      <td>20.91</td>\n      <td>27.75</td>\n      <td>0.0</td>\n      <td>10.86</td>\n      <td>...</td>\n      <td>25665.121</td>\n      <td>5.60</td>\n      <td>46619.99893</td>\n      <td>NaN</td>\n      <td>3.338587</td>\n      <td>5765.200762</td>\n      <td>100.0</td>\n      <td>77474.0</td>\n      <td>44.016521</td>\n      <td>21.005859</td>\n    </tr>\n    <tr>\n      <th>2923</th>\n      <td>Serbia</td>\n      <td>2017</td>\n      <td>100.0000</td>\n      <td>75.70</td>\n      <td>NaN</td>\n      <td>NaN</td>\n      <td>20.00</td>\n      <td>27.15</td>\n      <td>0.0</td>\n      <td>9.29</td>\n      <td>...</td>\n      <td>26359.041</td>\n      <td>5.61</td>\n      <td>47340.00015</td>\n      <td>NaN</td>\n      <td>2.101164</td>\n      <td>6292.543629</td>\n      <td>100.0</td>\n      <td>77474.0</td>\n      <td>44.016521</td>\n      <td>21.005859</td>\n    </tr>\n    <tr>\n      <th>2924</th>\n      <td>Serbia</td>\n      <td>2018</td>\n      <td>100.0000</td>\n      <td>77.30</td>\n      <td>NaN</td>\n      <td>NaN</td>\n      <td>21.05</td>\n      <td>25.77</td>\n      <td>0.0</td>\n      <td>10.90</td>\n      <td>...</td>\n      <td>26481.451</td>\n      <td>5.28</td>\n      <td>46130.00107</td>\n      <td>NaN</td>\n      <td>4.495121</td>\n      <td>7252.401858</td>\n      <td>100.0</td>\n      <td>77474.0</td>\n      <td>44.016521</td>\n      <td>21.005859</td>\n    </tr>\n    <tr>\n      <th>2925</th>\n      <td>Serbia</td>\n      <td>2019</td>\n      <td>99.8000</td>\n      <td>78.60</td>\n      <td>NaN</td>\n      <td>NaN</td>\n      <td>21.53</td>\n      <td>26.35</td>\n      <td>0.0</td>\n      <td>10.51</td>\n      <td>...</td>\n      <td>26602.787</td>\n      <td>5.04</td>\n      <td>45950.00076</td>\n      <td>NaN</td>\n      <td>4.331735</td>\n      <td>7417.203649</td>\n      <td>100.0</td>\n      <td>77474.0</td>\n      <td>44.016521</td>\n      <td>21.005859</td>\n    </tr>\n    <tr>\n      <th>2926</th>\n      <td>Serbia</td>\n      <td>2020</td>\n      <td>100.0000</td>\n      <td>79.80</td>\n      <td>NaN</td>\n      <td>NaN</td>\n      <td>NaN</td>\n      <td>27.02</td>\n      <td>0.0</td>\n      <td>10.21</td>\n      <td>...</td>\n      <td>26211.984</td>\n      <td>NaN</td>\n      <td>NaN</td>\n      <td>NaN</td>\n      <td>-0.944597</td>\n      <td>7720.510572</td>\n      <td>100.0</td>\n      <td>77474.0</td>\n      <td>44.016521</td>\n      <td>21.005859</td>\n    </tr>\n  </tbody>\n</table>\n<p>14 rows × 21 columns</p>\n</div>"
     },
     "execution_count": 15,
     "metadata": {},
     "output_type": "execute_result"
    }
   ],
   "source": [
    "energy_data[energy_data['country'] == 'Serbia']"
   ],
   "metadata": {
    "collapsed": false,
    "ExecuteTime": {
     "end_time": "2023-11-24T18:00:29.160142100Z",
     "start_time": "2023-11-24T18:00:28.975124900Z"
    }
   }
  },
  {
   "cell_type": "code",
   "execution_count": 24,
   "outputs": [],
   "source": [
    "energy_data3 = energy_data"
   ],
   "metadata": {
    "collapsed": false,
    "ExecuteTime": {
     "end_time": "2023-11-24T18:05:18.132397400Z",
     "start_time": "2023-11-24T18:05:18.051108900Z"
    }
   }
  },
  {
   "cell_type": "code",
   "execution_count": 25,
   "outputs": [],
   "source": [
    "energy_data3.loc[2913] = ['Serbia',2006,0,0,0,0,0,0,0,0,0,0,0,0,0,0,0,0,0,0,0] "
   ],
   "metadata": {
    "collapsed": false,
    "ExecuteTime": {
     "end_time": "2023-11-24T18:05:19.065554400Z",
     "start_time": "2023-11-24T18:05:18.918432900Z"
    }
   }
  },
  {
   "cell_type": "code",
   "execution_count": 26,
   "outputs": [
    {
     "data": {
      "text/plain": "     country  year  access_electricity  access_cooking_fuels  \\\n2913  Serbia  2006              0.0000                  0.00   \n2914  Serbia  2006              0.0000                  0.00   \n2915  Serbia  2009            100.0000                 66.10   \n2916  Serbia  2010             99.7184                 67.40   \n2917  Serbia  2011            100.0000                 67.90   \n2918  Serbia  2012            100.0000                 69.20   \n2919  Serbia  2013             99.9200                 70.45   \n2920  Serbia  2014             99.6608                 71.60   \n2921  Serbia  2015             99.9000                 73.00   \n2922  Serbia  2016            100.0000                 74.40   \n2923  Serbia  2017            100.0000                 75.70   \n2924  Serbia  2018            100.0000                 77.30   \n2925  Serbia  2019             99.8000                 78.60   \n2926  Serbia  2020            100.0000                 79.80   \n\n      renewal_electricity_capacity  financial_flows  renewable_energy_share  \\\n2913                           0.0              0.0                    0.00   \n2914                           0.0              0.0                    0.00   \n2915                           NaN              NaN                   20.68   \n2916                           NaN              NaN                   20.47   \n2917                           NaN              NaN                   17.44   \n2918                           NaN              NaN                   19.47   \n2919                           NaN              NaN                   20.03   \n2920                           NaN              NaN                   23.25   \n2921                           NaN              NaN                   21.24   \n2922                           NaN              NaN                   20.91   \n2923                           NaN              NaN                   20.00   \n2924                           NaN              NaN                   21.05   \n2925                           NaN              NaN                   21.53   \n2926                           NaN              NaN                     NaN   \n\n      electricity_fossil_fuels  electricity_nuclear  electricity_renewals  \\\n2913                      0.00                  0.0                  0.00   \n2914                      0.00                  0.0                  0.00   \n2915                     27.17                  0.0                 10.54   \n2916                     25.53                  0.0                 11.89   \n2917                     29.35                  0.0                  8.67   \n2918                     26.89                  0.0                  9.30   \n2919                     29.01                  0.0                 10.22   \n2920                     22.41                  0.0                 11.03   \n2921                     27.48                  0.0                 10.11   \n2922                     27.75                  0.0                 10.86   \n2923                     27.15                  0.0                  9.29   \n2924                     25.77                  0.0                 10.90   \n2925                     26.35                  0.0                 10.51   \n2926                     27.02                  0.0                 10.21   \n\n      ...  primary_energy_consumption  energy_level  co2_emissions  \\\n2913  ...                       0.000          0.00        0.00000   \n2914  ...                       0.000          0.00        0.00000   \n2915  ...                   25290.535          6.05    46869.99893   \n2916  ...                   26212.140          6.19    47099.99847   \n2917  ...                   26607.537          6.29    51229.99954   \n2918  ...                   25157.438          5.69    45790.00092   \n2919  ...                   25155.992          5.66    46470.00122   \n2920  ...                   22474.787          5.12    38959.99908   \n2921  ...                   24964.810          5.59    45389.99939   \n2922  ...                   25665.121          5.60    46619.99893   \n2923  ...                   26359.041          5.61    47340.00015   \n2924  ...                   26481.451          5.28    46130.00107   \n2925  ...                   26602.787          5.04    45950.00076   \n2926  ...                   26211.984           NaN            NaN   \n\n      renewables  gdp_growth  gdp_per_capita  density  land_area   latitude  \\\n2913         0.0    0.000000        0.000000      0.0        0.0   0.000000   \n2914         0.0    0.000000        0.000000      0.0        0.0   0.000000   \n2915         NaN   -2.731752     6169.114195    100.0    77474.0  44.016521   \n2916         NaN    0.731045     5735.422857    100.0    77474.0  44.016521   \n2917         NaN    2.036277     6809.159804    100.0    77474.0  44.016521   \n2918         NaN   -0.681542     6015.945228    100.0    77474.0  44.016521   \n2919         NaN    2.892637     6755.073675    100.0    77474.0  44.016521   \n2920         NaN   -1.589510     6600.056809    100.0    77474.0  44.016521   \n2921         NaN    1.806059     5588.980728    100.0    77474.0  44.016521   \n2922         NaN    3.338587     5765.200762    100.0    77474.0  44.016521   \n2923         NaN    2.101164     6292.543629    100.0    77474.0  44.016521   \n2924         NaN    4.495121     7252.401858    100.0    77474.0  44.016521   \n2925         NaN    4.331735     7417.203649    100.0    77474.0  44.016521   \n2926         NaN   -0.944597     7720.510572    100.0    77474.0  44.016521   \n\n      longitude  \n2913   0.000000  \n2914   0.000000  \n2915  21.005859  \n2916  21.005859  \n2917  21.005859  \n2918  21.005859  \n2919  21.005859  \n2920  21.005859  \n2921  21.005859  \n2922  21.005859  \n2923  21.005859  \n2924  21.005859  \n2925  21.005859  \n2926  21.005859  \n\n[14 rows x 21 columns]",
      "text/html": "<div>\n<style scoped>\n    .dataframe tbody tr th:only-of-type {\n        vertical-align: middle;\n    }\n\n    .dataframe tbody tr th {\n        vertical-align: top;\n    }\n\n    .dataframe thead th {\n        text-align: right;\n    }\n</style>\n<table border=\"1\" class=\"dataframe\">\n  <thead>\n    <tr style=\"text-align: right;\">\n      <th></th>\n      <th>country</th>\n      <th>year</th>\n      <th>access_electricity</th>\n      <th>access_cooking_fuels</th>\n      <th>renewal_electricity_capacity</th>\n      <th>financial_flows</th>\n      <th>renewable_energy_share</th>\n      <th>electricity_fossil_fuels</th>\n      <th>electricity_nuclear</th>\n      <th>electricity_renewals</th>\n      <th>...</th>\n      <th>primary_energy_consumption</th>\n      <th>energy_level</th>\n      <th>co2_emissions</th>\n      <th>renewables</th>\n      <th>gdp_growth</th>\n      <th>gdp_per_capita</th>\n      <th>density</th>\n      <th>land_area</th>\n      <th>latitude</th>\n      <th>longitude</th>\n    </tr>\n  </thead>\n  <tbody>\n    <tr>\n      <th>2913</th>\n      <td>Serbia</td>\n      <td>2006</td>\n      <td>0.0000</td>\n      <td>0.00</td>\n      <td>0.0</td>\n      <td>0.0</td>\n      <td>0.00</td>\n      <td>0.00</td>\n      <td>0.0</td>\n      <td>0.00</td>\n      <td>...</td>\n      <td>0.000</td>\n      <td>0.00</td>\n      <td>0.00000</td>\n      <td>0.0</td>\n      <td>0.000000</td>\n      <td>0.000000</td>\n      <td>0.0</td>\n      <td>0.0</td>\n      <td>0.000000</td>\n      <td>0.000000</td>\n    </tr>\n    <tr>\n      <th>2914</th>\n      <td>Serbia</td>\n      <td>2006</td>\n      <td>0.0000</td>\n      <td>0.00</td>\n      <td>0.0</td>\n      <td>0.0</td>\n      <td>0.00</td>\n      <td>0.00</td>\n      <td>0.0</td>\n      <td>0.00</td>\n      <td>...</td>\n      <td>0.000</td>\n      <td>0.00</td>\n      <td>0.00000</td>\n      <td>0.0</td>\n      <td>0.000000</td>\n      <td>0.000000</td>\n      <td>0.0</td>\n      <td>0.0</td>\n      <td>0.000000</td>\n      <td>0.000000</td>\n    </tr>\n    <tr>\n      <th>2915</th>\n      <td>Serbia</td>\n      <td>2009</td>\n      <td>100.0000</td>\n      <td>66.10</td>\n      <td>NaN</td>\n      <td>NaN</td>\n      <td>20.68</td>\n      <td>27.17</td>\n      <td>0.0</td>\n      <td>10.54</td>\n      <td>...</td>\n      <td>25290.535</td>\n      <td>6.05</td>\n      <td>46869.99893</td>\n      <td>NaN</td>\n      <td>-2.731752</td>\n      <td>6169.114195</td>\n      <td>100.0</td>\n      <td>77474.0</td>\n      <td>44.016521</td>\n      <td>21.005859</td>\n    </tr>\n    <tr>\n      <th>2916</th>\n      <td>Serbia</td>\n      <td>2010</td>\n      <td>99.7184</td>\n      <td>67.40</td>\n      <td>NaN</td>\n      <td>NaN</td>\n      <td>20.47</td>\n      <td>25.53</td>\n      <td>0.0</td>\n      <td>11.89</td>\n      <td>...</td>\n      <td>26212.140</td>\n      <td>6.19</td>\n      <td>47099.99847</td>\n      <td>NaN</td>\n      <td>0.731045</td>\n      <td>5735.422857</td>\n      <td>100.0</td>\n      <td>77474.0</td>\n      <td>44.016521</td>\n      <td>21.005859</td>\n    </tr>\n    <tr>\n      <th>2917</th>\n      <td>Serbia</td>\n      <td>2011</td>\n      <td>100.0000</td>\n      <td>67.90</td>\n      <td>NaN</td>\n      <td>NaN</td>\n      <td>17.44</td>\n      <td>29.35</td>\n      <td>0.0</td>\n      <td>8.67</td>\n      <td>...</td>\n      <td>26607.537</td>\n      <td>6.29</td>\n      <td>51229.99954</td>\n      <td>NaN</td>\n      <td>2.036277</td>\n      <td>6809.159804</td>\n      <td>100.0</td>\n      <td>77474.0</td>\n      <td>44.016521</td>\n      <td>21.005859</td>\n    </tr>\n    <tr>\n      <th>2918</th>\n      <td>Serbia</td>\n      <td>2012</td>\n      <td>100.0000</td>\n      <td>69.20</td>\n      <td>NaN</td>\n      <td>NaN</td>\n      <td>19.47</td>\n      <td>26.89</td>\n      <td>0.0</td>\n      <td>9.30</td>\n      <td>...</td>\n      <td>25157.438</td>\n      <td>5.69</td>\n      <td>45790.00092</td>\n      <td>NaN</td>\n      <td>-0.681542</td>\n      <td>6015.945228</td>\n      <td>100.0</td>\n      <td>77474.0</td>\n      <td>44.016521</td>\n      <td>21.005859</td>\n    </tr>\n    <tr>\n      <th>2919</th>\n      <td>Serbia</td>\n      <td>2013</td>\n      <td>99.9200</td>\n      <td>70.45</td>\n      <td>NaN</td>\n      <td>NaN</td>\n      <td>20.03</td>\n      <td>29.01</td>\n      <td>0.0</td>\n      <td>10.22</td>\n      <td>...</td>\n      <td>25155.992</td>\n      <td>5.66</td>\n      <td>46470.00122</td>\n      <td>NaN</td>\n      <td>2.892637</td>\n      <td>6755.073675</td>\n      <td>100.0</td>\n      <td>77474.0</td>\n      <td>44.016521</td>\n      <td>21.005859</td>\n    </tr>\n    <tr>\n      <th>2920</th>\n      <td>Serbia</td>\n      <td>2014</td>\n      <td>99.6608</td>\n      <td>71.60</td>\n      <td>NaN</td>\n      <td>NaN</td>\n      <td>23.25</td>\n      <td>22.41</td>\n      <td>0.0</td>\n      <td>11.03</td>\n      <td>...</td>\n      <td>22474.787</td>\n      <td>5.12</td>\n      <td>38959.99908</td>\n      <td>NaN</td>\n      <td>-1.589510</td>\n      <td>6600.056809</td>\n      <td>100.0</td>\n      <td>77474.0</td>\n      <td>44.016521</td>\n      <td>21.005859</td>\n    </tr>\n    <tr>\n      <th>2921</th>\n      <td>Serbia</td>\n      <td>2015</td>\n      <td>99.9000</td>\n      <td>73.00</td>\n      <td>NaN</td>\n      <td>NaN</td>\n      <td>21.24</td>\n      <td>27.48</td>\n      <td>0.0</td>\n      <td>10.11</td>\n      <td>...</td>\n      <td>24964.810</td>\n      <td>5.59</td>\n      <td>45389.99939</td>\n      <td>NaN</td>\n      <td>1.806059</td>\n      <td>5588.980728</td>\n      <td>100.0</td>\n      <td>77474.0</td>\n      <td>44.016521</td>\n      <td>21.005859</td>\n    </tr>\n    <tr>\n      <th>2922</th>\n      <td>Serbia</td>\n      <td>2016</td>\n      <td>100.0000</td>\n      <td>74.40</td>\n      <td>NaN</td>\n      <td>NaN</td>\n      <td>20.91</td>\n      <td>27.75</td>\n      <td>0.0</td>\n      <td>10.86</td>\n      <td>...</td>\n      <td>25665.121</td>\n      <td>5.60</td>\n      <td>46619.99893</td>\n      <td>NaN</td>\n      <td>3.338587</td>\n      <td>5765.200762</td>\n      <td>100.0</td>\n      <td>77474.0</td>\n      <td>44.016521</td>\n      <td>21.005859</td>\n    </tr>\n    <tr>\n      <th>2923</th>\n      <td>Serbia</td>\n      <td>2017</td>\n      <td>100.0000</td>\n      <td>75.70</td>\n      <td>NaN</td>\n      <td>NaN</td>\n      <td>20.00</td>\n      <td>27.15</td>\n      <td>0.0</td>\n      <td>9.29</td>\n      <td>...</td>\n      <td>26359.041</td>\n      <td>5.61</td>\n      <td>47340.00015</td>\n      <td>NaN</td>\n      <td>2.101164</td>\n      <td>6292.543629</td>\n      <td>100.0</td>\n      <td>77474.0</td>\n      <td>44.016521</td>\n      <td>21.005859</td>\n    </tr>\n    <tr>\n      <th>2924</th>\n      <td>Serbia</td>\n      <td>2018</td>\n      <td>100.0000</td>\n      <td>77.30</td>\n      <td>NaN</td>\n      <td>NaN</td>\n      <td>21.05</td>\n      <td>25.77</td>\n      <td>0.0</td>\n      <td>10.90</td>\n      <td>...</td>\n      <td>26481.451</td>\n      <td>5.28</td>\n      <td>46130.00107</td>\n      <td>NaN</td>\n      <td>4.495121</td>\n      <td>7252.401858</td>\n      <td>100.0</td>\n      <td>77474.0</td>\n      <td>44.016521</td>\n      <td>21.005859</td>\n    </tr>\n    <tr>\n      <th>2925</th>\n      <td>Serbia</td>\n      <td>2019</td>\n      <td>99.8000</td>\n      <td>78.60</td>\n      <td>NaN</td>\n      <td>NaN</td>\n      <td>21.53</td>\n      <td>26.35</td>\n      <td>0.0</td>\n      <td>10.51</td>\n      <td>...</td>\n      <td>26602.787</td>\n      <td>5.04</td>\n      <td>45950.00076</td>\n      <td>NaN</td>\n      <td>4.331735</td>\n      <td>7417.203649</td>\n      <td>100.0</td>\n      <td>77474.0</td>\n      <td>44.016521</td>\n      <td>21.005859</td>\n    </tr>\n    <tr>\n      <th>2926</th>\n      <td>Serbia</td>\n      <td>2020</td>\n      <td>100.0000</td>\n      <td>79.80</td>\n      <td>NaN</td>\n      <td>NaN</td>\n      <td>NaN</td>\n      <td>27.02</td>\n      <td>0.0</td>\n      <td>10.21</td>\n      <td>...</td>\n      <td>26211.984</td>\n      <td>NaN</td>\n      <td>NaN</td>\n      <td>NaN</td>\n      <td>-0.944597</td>\n      <td>7720.510572</td>\n      <td>100.0</td>\n      <td>77474.0</td>\n      <td>44.016521</td>\n      <td>21.005859</td>\n    </tr>\n  </tbody>\n</table>\n<p>14 rows × 21 columns</p>\n</div>"
     },
     "execution_count": 26,
     "metadata": {},
     "output_type": "execute_result"
    }
   ],
   "source": [
    "energy_data3[energy_data3['country'] == 'Serbia']"
   ],
   "metadata": {
    "collapsed": false,
    "ExecuteTime": {
     "end_time": "2023-11-24T18:05:20.076523Z",
     "start_time": "2023-11-24T18:05:19.792319100Z"
    }
   }
  },
  {
   "cell_type": "code",
   "execution_count": 38,
   "outputs": [],
   "source": [
    "new_row = {'Country':'Serbia',\n",
    "           'year':'Serbia',\n",
    "           'access_electricity':24000, \n",
    "           'access_cooking_fuels':'55days', \n",
    "           'renewal_electricity_capacity':1800,\n",
    "           'financial_flows':1800,\n",
    "           'renewable_energy_share':1800,\n",
    "           'electricity_fossil_fuels':1800,\n",
    "           'electricity_nuclear':1800,\n",
    "           'electricity_renewals':1800,\n",
    "           'electricity_low_carbon':1800,\n",
    "           'primary_energy_consumption':1800,\n",
    "           'energy_level':1800,\n",
    "           'co2_emissions':1800,\n",
    "           'renewals':1800,\n",
    "           'gdp_growth':1800,\n",
    "           'gdp_per_capita':1800,\n",
    "           'density':1800,\n",
    "           'latitude':1800,\n",
    "           'longitude':1800,\n",
    "           'gdp_growth':1800,}"
   ],
   "metadata": {
    "collapsed": false,
    "ExecuteTime": {
     "end_time": "2023-11-24T17:49:34.648677200Z",
     "start_time": "2023-11-24T17:49:34.616214300Z"
    }
   }
  },
  {
   "cell_type": "code",
   "execution_count": 39,
   "outputs": [
    {
     "data": {
      "text/plain": "{'Country': 'Serbia',\n 'year': 'Serbia',\n 'access_electricity': 24000,\n 'access_cooking_fuels': '55days',\n 'renewal_electricity_capacity': 1800,\n 'financial_flows': 1800,\n 'renewable_energy_share': 1800,\n 'electricity_fossil_fuels': 1800,\n 'electricity_nuclear': 1800,\n 'electricity_renewals': 1800,\n 'electricity_low_carbon': 1800,\n 'primary_energy_consumption': 1800,\n 'energy_level': 1800,\n 'co2_emissions': 1800,\n 'renewals': 1800,\n 'gdp_growth': 1800,\n 'gdp_per_capita': 1800,\n 'density': 1800,\n 'latitude': 1800,\n 'longitude': 1800}"
     },
     "execution_count": 39,
     "metadata": {},
     "output_type": "execute_result"
    }
   ],
   "source": [
    "new_row"
   ],
   "metadata": {
    "collapsed": false,
    "ExecuteTime": {
     "end_time": "2023-11-24T17:49:35.269223600Z",
     "start_time": "2023-11-24T17:49:35.242773700Z"
    }
   }
  },
  {
   "cell_type": "code",
   "execution_count": 41,
   "outputs": [],
   "source": [
    "energy_data2[2914] = new_row"
   ],
   "metadata": {
    "collapsed": false,
    "ExecuteTime": {
     "end_time": "2023-11-24T17:53:19.882100900Z",
     "start_time": "2023-11-24T17:53:19.803557900Z"
    }
   }
  },
  {
   "cell_type": "code",
   "execution_count": 42,
   "outputs": [
    {
     "data": {
      "text/plain": "     country  year  access_electricity  access_cooking_fuels  \\\n2913  Serbia  2007            100.0000                 64.60   \n2914  Serbia  2008            100.0000                 65.30   \n2915  Serbia  2009            100.0000                 66.10   \n2916  Serbia  2010             99.7184                 67.40   \n2917  Serbia  2011            100.0000                 67.90   \n2918  Serbia  2012            100.0000                 69.20   \n2919  Serbia  2013             99.9200                 70.45   \n2920  Serbia  2014             99.6608                 71.60   \n2921  Serbia  2015             99.9000                 73.00   \n2922  Serbia  2016            100.0000                 74.40   \n2923  Serbia  2017            100.0000                 75.70   \n2924  Serbia  2018            100.0000                 77.30   \n2925  Serbia  2019             99.8000                 78.60   \n2926  Serbia  2020            100.0000                 79.80   \n\n      renewal_electricity_capacity  financial_flows  renewable_energy_share  \\\n2913                           NaN              NaN                   14.03   \n2914                           NaN              NaN                   15.50   \n2915                           NaN              NaN                   20.68   \n2916                           NaN              NaN                   20.47   \n2917                           NaN              NaN                   17.44   \n2918                           NaN              NaN                   19.47   \n2919                           NaN              NaN                   20.03   \n2920                           NaN              NaN                   23.25   \n2921                           NaN              NaN                   21.24   \n2922                           NaN              NaN                   20.91   \n2923                           NaN              NaN                   20.00   \n2924                           NaN              NaN                   21.05   \n2925                           NaN              NaN                   21.53   \n2926                           NaN              NaN                     NaN   \n\n      electricity_fossil_fuels  electricity_nuclear  electricity_renewals  \\\n2913                     26.51                  0.0                  9.46   \n2914                     27.26                  0.0                  9.56   \n2915                     27.17                  0.0                 10.54   \n2916                     25.53                  0.0                 11.89   \n2917                     29.35                  0.0                  8.67   \n2918                     26.89                  0.0                  9.30   \n2919                     29.01                  0.0                 10.22   \n2920                     22.41                  0.0                 11.03   \n2921                     27.48                  0.0                 10.11   \n2922                     27.75                  0.0                 10.86   \n2923                     27.15                  0.0                  9.29   \n2924                     25.77                  0.0                 10.90   \n2925                     26.35                  0.0                 10.51   \n2926                     27.02                  0.0                 10.21   \n\n      ...  energy_level  co2_emissions  renewables  gdp_growth  \\\n2913  ...          6.78    51459.99908         NaN    6.439526   \n2914  ...          6.53    49830.00183         NaN    5.655577   \n2915  ...          6.05    46869.99893         NaN   -2.731752   \n2916  ...          6.19    47099.99847         NaN    0.731045   \n2917  ...          6.29    51229.99954         NaN    2.036277   \n2918  ...          5.69    45790.00092         NaN   -0.681542   \n2919  ...          5.66    46470.00122         NaN    2.892637   \n2920  ...          5.12    38959.99908         NaN   -1.589510   \n2921  ...          5.59    45389.99939         NaN    1.806059   \n2922  ...          5.60    46619.99893         NaN    3.338587   \n2923  ...          5.61    47340.00015         NaN    2.101164   \n2924  ...          5.28    46130.00107         NaN    4.495121   \n2925  ...          5.04    45950.00076         NaN    4.331735   \n2926  ...           NaN            NaN         NaN   -0.944597   \n\n      gdp_per_capita  density  land_area   latitude  longitude  2914  \n2913     5848.476405    100.0    77474.0  44.016521  21.005859   NaN  \n2914     7101.040141    100.0    77474.0  44.016521  21.005859   NaN  \n2915     6169.114195    100.0    77474.0  44.016521  21.005859   NaN  \n2916     5735.422857    100.0    77474.0  44.016521  21.005859   NaN  \n2917     6809.159804    100.0    77474.0  44.016521  21.005859   NaN  \n2918     6015.945228    100.0    77474.0  44.016521  21.005859   NaN  \n2919     6755.073675    100.0    77474.0  44.016521  21.005859   NaN  \n2920     6600.056809    100.0    77474.0  44.016521  21.005859   NaN  \n2921     5588.980728    100.0    77474.0  44.016521  21.005859   NaN  \n2922     5765.200762    100.0    77474.0  44.016521  21.005859   NaN  \n2923     6292.543629    100.0    77474.0  44.016521  21.005859   NaN  \n2924     7252.401858    100.0    77474.0  44.016521  21.005859   NaN  \n2925     7417.203649    100.0    77474.0  44.016521  21.005859   NaN  \n2926     7720.510572    100.0    77474.0  44.016521  21.005859   NaN  \n\n[14 rows x 22 columns]",
      "text/html": "<div>\n<style scoped>\n    .dataframe tbody tr th:only-of-type {\n        vertical-align: middle;\n    }\n\n    .dataframe tbody tr th {\n        vertical-align: top;\n    }\n\n    .dataframe thead th {\n        text-align: right;\n    }\n</style>\n<table border=\"1\" class=\"dataframe\">\n  <thead>\n    <tr style=\"text-align: right;\">\n      <th></th>\n      <th>country</th>\n      <th>year</th>\n      <th>access_electricity</th>\n      <th>access_cooking_fuels</th>\n      <th>renewal_electricity_capacity</th>\n      <th>financial_flows</th>\n      <th>renewable_energy_share</th>\n      <th>electricity_fossil_fuels</th>\n      <th>electricity_nuclear</th>\n      <th>electricity_renewals</th>\n      <th>...</th>\n      <th>energy_level</th>\n      <th>co2_emissions</th>\n      <th>renewables</th>\n      <th>gdp_growth</th>\n      <th>gdp_per_capita</th>\n      <th>density</th>\n      <th>land_area</th>\n      <th>latitude</th>\n      <th>longitude</th>\n      <th>2914</th>\n    </tr>\n  </thead>\n  <tbody>\n    <tr>\n      <th>2913</th>\n      <td>Serbia</td>\n      <td>2007</td>\n      <td>100.0000</td>\n      <td>64.60</td>\n      <td>NaN</td>\n      <td>NaN</td>\n      <td>14.03</td>\n      <td>26.51</td>\n      <td>0.0</td>\n      <td>9.46</td>\n      <td>...</td>\n      <td>6.78</td>\n      <td>51459.99908</td>\n      <td>NaN</td>\n      <td>6.439526</td>\n      <td>5848.476405</td>\n      <td>100.0</td>\n      <td>77474.0</td>\n      <td>44.016521</td>\n      <td>21.005859</td>\n      <td>NaN</td>\n    </tr>\n    <tr>\n      <th>2914</th>\n      <td>Serbia</td>\n      <td>2008</td>\n      <td>100.0000</td>\n      <td>65.30</td>\n      <td>NaN</td>\n      <td>NaN</td>\n      <td>15.50</td>\n      <td>27.26</td>\n      <td>0.0</td>\n      <td>9.56</td>\n      <td>...</td>\n      <td>6.53</td>\n      <td>49830.00183</td>\n      <td>NaN</td>\n      <td>5.655577</td>\n      <td>7101.040141</td>\n      <td>100.0</td>\n      <td>77474.0</td>\n      <td>44.016521</td>\n      <td>21.005859</td>\n      <td>NaN</td>\n    </tr>\n    <tr>\n      <th>2915</th>\n      <td>Serbia</td>\n      <td>2009</td>\n      <td>100.0000</td>\n      <td>66.10</td>\n      <td>NaN</td>\n      <td>NaN</td>\n      <td>20.68</td>\n      <td>27.17</td>\n      <td>0.0</td>\n      <td>10.54</td>\n      <td>...</td>\n      <td>6.05</td>\n      <td>46869.99893</td>\n      <td>NaN</td>\n      <td>-2.731752</td>\n      <td>6169.114195</td>\n      <td>100.0</td>\n      <td>77474.0</td>\n      <td>44.016521</td>\n      <td>21.005859</td>\n      <td>NaN</td>\n    </tr>\n    <tr>\n      <th>2916</th>\n      <td>Serbia</td>\n      <td>2010</td>\n      <td>99.7184</td>\n      <td>67.40</td>\n      <td>NaN</td>\n      <td>NaN</td>\n      <td>20.47</td>\n      <td>25.53</td>\n      <td>0.0</td>\n      <td>11.89</td>\n      <td>...</td>\n      <td>6.19</td>\n      <td>47099.99847</td>\n      <td>NaN</td>\n      <td>0.731045</td>\n      <td>5735.422857</td>\n      <td>100.0</td>\n      <td>77474.0</td>\n      <td>44.016521</td>\n      <td>21.005859</td>\n      <td>NaN</td>\n    </tr>\n    <tr>\n      <th>2917</th>\n      <td>Serbia</td>\n      <td>2011</td>\n      <td>100.0000</td>\n      <td>67.90</td>\n      <td>NaN</td>\n      <td>NaN</td>\n      <td>17.44</td>\n      <td>29.35</td>\n      <td>0.0</td>\n      <td>8.67</td>\n      <td>...</td>\n      <td>6.29</td>\n      <td>51229.99954</td>\n      <td>NaN</td>\n      <td>2.036277</td>\n      <td>6809.159804</td>\n      <td>100.0</td>\n      <td>77474.0</td>\n      <td>44.016521</td>\n      <td>21.005859</td>\n      <td>NaN</td>\n    </tr>\n    <tr>\n      <th>2918</th>\n      <td>Serbia</td>\n      <td>2012</td>\n      <td>100.0000</td>\n      <td>69.20</td>\n      <td>NaN</td>\n      <td>NaN</td>\n      <td>19.47</td>\n      <td>26.89</td>\n      <td>0.0</td>\n      <td>9.30</td>\n      <td>...</td>\n      <td>5.69</td>\n      <td>45790.00092</td>\n      <td>NaN</td>\n      <td>-0.681542</td>\n      <td>6015.945228</td>\n      <td>100.0</td>\n      <td>77474.0</td>\n      <td>44.016521</td>\n      <td>21.005859</td>\n      <td>NaN</td>\n    </tr>\n    <tr>\n      <th>2919</th>\n      <td>Serbia</td>\n      <td>2013</td>\n      <td>99.9200</td>\n      <td>70.45</td>\n      <td>NaN</td>\n      <td>NaN</td>\n      <td>20.03</td>\n      <td>29.01</td>\n      <td>0.0</td>\n      <td>10.22</td>\n      <td>...</td>\n      <td>5.66</td>\n      <td>46470.00122</td>\n      <td>NaN</td>\n      <td>2.892637</td>\n      <td>6755.073675</td>\n      <td>100.0</td>\n      <td>77474.0</td>\n      <td>44.016521</td>\n      <td>21.005859</td>\n      <td>NaN</td>\n    </tr>\n    <tr>\n      <th>2920</th>\n      <td>Serbia</td>\n      <td>2014</td>\n      <td>99.6608</td>\n      <td>71.60</td>\n      <td>NaN</td>\n      <td>NaN</td>\n      <td>23.25</td>\n      <td>22.41</td>\n      <td>0.0</td>\n      <td>11.03</td>\n      <td>...</td>\n      <td>5.12</td>\n      <td>38959.99908</td>\n      <td>NaN</td>\n      <td>-1.589510</td>\n      <td>6600.056809</td>\n      <td>100.0</td>\n      <td>77474.0</td>\n      <td>44.016521</td>\n      <td>21.005859</td>\n      <td>NaN</td>\n    </tr>\n    <tr>\n      <th>2921</th>\n      <td>Serbia</td>\n      <td>2015</td>\n      <td>99.9000</td>\n      <td>73.00</td>\n      <td>NaN</td>\n      <td>NaN</td>\n      <td>21.24</td>\n      <td>27.48</td>\n      <td>0.0</td>\n      <td>10.11</td>\n      <td>...</td>\n      <td>5.59</td>\n      <td>45389.99939</td>\n      <td>NaN</td>\n      <td>1.806059</td>\n      <td>5588.980728</td>\n      <td>100.0</td>\n      <td>77474.0</td>\n      <td>44.016521</td>\n      <td>21.005859</td>\n      <td>NaN</td>\n    </tr>\n    <tr>\n      <th>2922</th>\n      <td>Serbia</td>\n      <td>2016</td>\n      <td>100.0000</td>\n      <td>74.40</td>\n      <td>NaN</td>\n      <td>NaN</td>\n      <td>20.91</td>\n      <td>27.75</td>\n      <td>0.0</td>\n      <td>10.86</td>\n      <td>...</td>\n      <td>5.60</td>\n      <td>46619.99893</td>\n      <td>NaN</td>\n      <td>3.338587</td>\n      <td>5765.200762</td>\n      <td>100.0</td>\n      <td>77474.0</td>\n      <td>44.016521</td>\n      <td>21.005859</td>\n      <td>NaN</td>\n    </tr>\n    <tr>\n      <th>2923</th>\n      <td>Serbia</td>\n      <td>2017</td>\n      <td>100.0000</td>\n      <td>75.70</td>\n      <td>NaN</td>\n      <td>NaN</td>\n      <td>20.00</td>\n      <td>27.15</td>\n      <td>0.0</td>\n      <td>9.29</td>\n      <td>...</td>\n      <td>5.61</td>\n      <td>47340.00015</td>\n      <td>NaN</td>\n      <td>2.101164</td>\n      <td>6292.543629</td>\n      <td>100.0</td>\n      <td>77474.0</td>\n      <td>44.016521</td>\n      <td>21.005859</td>\n      <td>NaN</td>\n    </tr>\n    <tr>\n      <th>2924</th>\n      <td>Serbia</td>\n      <td>2018</td>\n      <td>100.0000</td>\n      <td>77.30</td>\n      <td>NaN</td>\n      <td>NaN</td>\n      <td>21.05</td>\n      <td>25.77</td>\n      <td>0.0</td>\n      <td>10.90</td>\n      <td>...</td>\n      <td>5.28</td>\n      <td>46130.00107</td>\n      <td>NaN</td>\n      <td>4.495121</td>\n      <td>7252.401858</td>\n      <td>100.0</td>\n      <td>77474.0</td>\n      <td>44.016521</td>\n      <td>21.005859</td>\n      <td>NaN</td>\n    </tr>\n    <tr>\n      <th>2925</th>\n      <td>Serbia</td>\n      <td>2019</td>\n      <td>99.8000</td>\n      <td>78.60</td>\n      <td>NaN</td>\n      <td>NaN</td>\n      <td>21.53</td>\n      <td>26.35</td>\n      <td>0.0</td>\n      <td>10.51</td>\n      <td>...</td>\n      <td>5.04</td>\n      <td>45950.00076</td>\n      <td>NaN</td>\n      <td>4.331735</td>\n      <td>7417.203649</td>\n      <td>100.0</td>\n      <td>77474.0</td>\n      <td>44.016521</td>\n      <td>21.005859</td>\n      <td>NaN</td>\n    </tr>\n    <tr>\n      <th>2926</th>\n      <td>Serbia</td>\n      <td>2020</td>\n      <td>100.0000</td>\n      <td>79.80</td>\n      <td>NaN</td>\n      <td>NaN</td>\n      <td>NaN</td>\n      <td>27.02</td>\n      <td>0.0</td>\n      <td>10.21</td>\n      <td>...</td>\n      <td>NaN</td>\n      <td>NaN</td>\n      <td>NaN</td>\n      <td>-0.944597</td>\n      <td>7720.510572</td>\n      <td>100.0</td>\n      <td>77474.0</td>\n      <td>44.016521</td>\n      <td>21.005859</td>\n      <td>NaN</td>\n    </tr>\n  </tbody>\n</table>\n<p>14 rows × 22 columns</p>\n</div>"
     },
     "execution_count": 42,
     "metadata": {},
     "output_type": "execute_result"
    }
   ],
   "source": [
    "energy_data2[energy_data2['country'] == 'Serbia']"
   ],
   "metadata": {
    "collapsed": false,
    "ExecuteTime": {
     "end_time": "2023-11-24T17:53:41.250456700Z",
     "start_time": "2023-11-24T17:53:41.138579Z"
    }
   }
  },
  {
   "cell_type": "code",
   "execution_count": 11,
   "outputs": [
    {
     "data": {
      "text/plain": "country\nAfghanistan      21\nOman             21\nNetherlands      21\nNew Caledonia    21\nNew Zealand      21\n                 ..\nGabon            21\nGambia           21\nGeorgia          21\nGermany          21\nZimbabwe         21\nName: count, Length: 172, dtype: int64"
     },
     "execution_count": 11,
     "metadata": {},
     "output_type": "execute_result"
    }
   ],
   "source": [
    "count_country = energy_data['country'].value_counts()\n",
    "count_country"
   ],
   "metadata": {
    "collapsed": false,
    "ExecuteTime": {
     "start_time": "2023-11-24T15:51:45.096891800Z"
    }
   }
  },
  {
   "cell_type": "code",
   "execution_count": 12,
   "outputs": [],
   "source": [
    "south_sudan = energy_data[energy_data['country'] == 'Montenegro']"
   ],
   "metadata": {
    "collapsed": false,
    "ExecuteTime": {
     "end_time": "2023-11-24T15:51:46.062684Z",
     "start_time": "2023-11-24T15:51:46.040646300Z"
    }
   }
  },
  {
   "cell_type": "code",
   "execution_count": 13,
   "outputs": [
    {
     "data": {
      "text/plain": "Empty DataFrame\nColumns: [country, year, access_electricity, access_cooking_fuels, renewal_electricity_capacity, financial_flows, renewable_energy_share, electricity_fossil_fuels, electricity_nuclear, electricity_renewals, electricity_low_carbon, primary_energy_consumption, energy_level, co2_emissions, renewables, gdp_growth, gdp_per_capita, density, land_area, latitude, longitude]\nIndex: []\n\n[0 rows x 21 columns]",
      "text/html": "<div>\n<style scoped>\n    .dataframe tbody tr th:only-of-type {\n        vertical-align: middle;\n    }\n\n    .dataframe tbody tr th {\n        vertical-align: top;\n    }\n\n    .dataframe thead th {\n        text-align: right;\n    }\n</style>\n<table border=\"1\" class=\"dataframe\">\n  <thead>\n    <tr style=\"text-align: right;\">\n      <th></th>\n      <th>country</th>\n      <th>year</th>\n      <th>access_electricity</th>\n      <th>access_cooking_fuels</th>\n      <th>renewal_electricity_capacity</th>\n      <th>financial_flows</th>\n      <th>renewable_energy_share</th>\n      <th>electricity_fossil_fuels</th>\n      <th>electricity_nuclear</th>\n      <th>electricity_renewals</th>\n      <th>...</th>\n      <th>primary_energy_consumption</th>\n      <th>energy_level</th>\n      <th>co2_emissions</th>\n      <th>renewables</th>\n      <th>gdp_growth</th>\n      <th>gdp_per_capita</th>\n      <th>density</th>\n      <th>land_area</th>\n      <th>latitude</th>\n      <th>longitude</th>\n    </tr>\n  </thead>\n  <tbody>\n  </tbody>\n</table>\n<p>0 rows × 21 columns</p>\n</div>"
     },
     "execution_count": 13,
     "metadata": {},
     "output_type": "execute_result"
    }
   ],
   "source": [
    "south_sudan"
   ],
   "metadata": {
    "collapsed": false,
    "ExecuteTime": {
     "end_time": "2023-11-24T15:51:47.243363700Z",
     "start_time": "2023-11-24T15:51:47.188766800Z"
    }
   }
  },
  {
   "cell_type": "markdown",
   "source": [
    "## 5. Handling missing or null values."
   ],
   "metadata": {
    "collapsed": false
   }
  },
  {
   "cell_type": "code",
   "execution_count": 14,
   "outputs": [
    {
     "name": "stdout",
     "output_type": "stream",
     "text": [
      "Number of missing values in each columns are below : \n",
      "country                            0\n",
      "year                               0\n",
      "access_electricity                 9\n",
      "access_cooking_fuels             168\n",
      "renewal_electricity_capacity     903\n",
      "financial_flows                 2058\n",
      "renewable_energy_share           191\n",
      "electricity_fossil_fuels          21\n",
      "electricity_nuclear              126\n",
      "electricity_renewals              21\n",
      "electricity_low_carbon            42\n",
      "primary_energy_consumption         0\n",
      "energy_level                     199\n",
      "co2_emissions                    424\n",
      "renewables                      2100\n",
      "gdp_growth                       311\n",
      "gdp_per_capita                   276\n",
      "density                            0\n",
      "land_area                          0\n",
      "latitude                           0\n",
      "longitude                          0\n",
      "dtype: int64\n"
     ]
    }
   ],
   "source": [
    "print('Number of missing values in each columns are below : ')\n",
    "print(energy_data.isnull().sum())"
   ],
   "metadata": {
    "collapsed": false,
    "ExecuteTime": {
     "end_time": "2023-11-24T15:51:51.013576900Z",
     "start_time": "2023-11-24T15:51:50.970494300Z"
    }
   }
  },
  {
   "cell_type": "code",
   "execution_count": 15,
   "outputs": [],
   "source": [
    "#ACCESS TO ELECTRICITY had 10 missing values. Since the Years are not recently and all the countries are from similar region I will replace that value with 0 \n",
    "\n",
    "#CHANGE TO \n",
    "energy_data['access_electricity'] = energy_data['access_electricity'].fillna(0)"
   ],
   "metadata": {
    "collapsed": false,
    "ExecuteTime": {
     "end_time": "2023-11-24T15:51:52.105077200Z",
     "start_time": "2023-11-24T15:51:52.074647700Z"
    }
   }
  },
  {
   "cell_type": "code",
   "execution_count": 16,
   "outputs": [],
   "source": [
    "#ACCESS TO COOKING FUELS had 169 missing values distributed in 8 Countries means is not a typing error. Then, I will replace those value with 0 \n",
    "null_cooking = energy_data[energy_data['access_cooking_fuels'].isnull() == True]\n",
    "null_cooking['country'].unique()\n",
    "energy_data['access_cooking_fuels'] = energy_data['access_cooking_fuels'].fillna(0)"
   ],
   "metadata": {
    "collapsed": false,
    "ExecuteTime": {
     "end_time": "2023-11-24T15:51:52.916238600Z",
     "start_time": "2023-11-24T15:51:52.901321700Z"
    }
   }
  },
  {
   "cell_type": "code",
   "execution_count": 17,
   "outputs": [],
   "source": [
    "#RENEVAL ELECTRICTY CAPACITY had 931 that represents 26% of the data . Then, I will drop that column and the columns with more than 25% of Null values (Financial FLows, Renewables), \n",
    "#ADD JUSTIFICATION, IF THE COUNTRI\n",
    "energy_data = energy_data.drop(['renewal_electricity_capacity','financial_flows','renewables'], axis=1)"
   ],
   "metadata": {
    "collapsed": false,
    "ExecuteTime": {
     "end_time": "2023-11-24T15:51:53.606577100Z",
     "start_time": "2023-11-24T15:51:53.571608900Z"
    }
   }
  },
  {
   "cell_type": "code",
   "execution_count": 18,
   "outputs": [],
   "source": [
    "#1. RENEWAL ENERGY SHARE. I will replace the values of Albania by 0 due all the country does not have data. The rest of the countries will apply other a linnear regression to predict the 2020 value\n",
    "energy_data[(energy_data['country'] =='Albania') & energy_data['renewable_energy_share'].isnull()] = energy_data[(energy_data['country'] =='Albania') & energy_data['renewable_energy_share'].isnull()].fillna(0)"
   ],
   "metadata": {
    "collapsed": false,
    "ExecuteTime": {
     "end_time": "2023-11-24T15:51:54.241696100Z",
     "start_time": "2023-11-24T15:51:54.216252900Z"
    }
   }
  },
  {
   "cell_type": "code",
   "execution_count": 19,
   "outputs": [],
   "source": [
    "#2. RENEWAL ENERGY SHARE. I will apply a linner regression model to \n",
    "for col in ['renewable_energy_share','electricity_fossil_fuels', 'electricity_nuclear', 'electricity_renewals', 'electricity_low_carbon','energy_level','co2_emissions','gdp_growth','gdp_per_capita']:\n",
    "  energy_data[col] = energy_data[col].fillna(energy_data[col].interpolate())"
   ],
   "metadata": {
    "collapsed": false,
    "ExecuteTime": {
     "end_time": "2023-11-24T15:51:54.725959900Z",
     "start_time": "2023-11-24T15:51:54.699325300Z"
    }
   }
  },
  {
   "cell_type": "code",
   "execution_count": 20,
   "outputs": [
    {
     "name": "stdout",
     "output_type": "stream",
     "text": [
      "Number of missing values in each columns are below : \n",
      "country                       0\n",
      "year                          0\n",
      "access_electricity            0\n",
      "access_cooking_fuels          0\n",
      "renewable_energy_share        0\n",
      "electricity_fossil_fuels      0\n",
      "electricity_nuclear           0\n",
      "electricity_renewals          0\n",
      "electricity_low_carbon        0\n",
      "primary_energy_consumption    0\n",
      "energy_level                  0\n",
      "co2_emissions                 0\n",
      "gdp_growth                    3\n",
      "gdp_per_capita                2\n",
      "density                       0\n",
      "land_area                     0\n",
      "latitude                      0\n",
      "longitude                     0\n",
      "dtype: int64\n"
     ]
    }
   ],
   "source": [
    "print('Number of missing values in each columns are below : ')\n",
    "print(energy_data.isnull().sum())"
   ],
   "metadata": {
    "collapsed": false,
    "ExecuteTime": {
     "end_time": "2023-11-24T15:51:56.908147Z",
     "start_time": "2023-11-24T15:51:56.815397800Z"
    }
   }
  },
  {
   "cell_type": "code",
   "execution_count": 21,
   "outputs": [
    {
     "data": {
      "text/plain": "country                       0\nyear                          0\naccess_electricity            0\naccess_cooking_fuels          0\nrenewable_energy_share        0\nelectricity_fossil_fuels      0\nelectricity_nuclear           0\nelectricity_renewals          0\nelectricity_low_carbon        0\nprimary_energy_consumption    0\nenergy_level                  0\nco2_emissions                 0\ngdp_per_capita                0\ndtype: int64"
     },
     "execution_count": 21,
     "metadata": {},
     "output_type": "execute_result"
    }
   ],
   "source": [
    "for col in ['gdp_growth','gdp_per_capita','density']:\n",
    "  energy_data[col] = energy_data[col].fillna(energy_data[col].mode())\n",
    "energy_data = energy_data.drop(['gdp_growth','density','land_area','latitude','longitude'],axis=1)\n",
    "energy_data.isnull().sum()"
   ],
   "metadata": {
    "collapsed": false,
    "ExecuteTime": {
     "end_time": "2023-11-24T15:51:58.532098200Z",
     "start_time": "2023-11-24T15:51:58.500106500Z"
    }
   }
  },
  {
   "cell_type": "code",
   "execution_count": 22,
   "outputs": [
    {
     "data": {
      "text/plain": "entity                                                                 0\nyear                                                                   0\naccess_to_electricity_(%_of_population)                               10\naccess_to_clean_fuels_for_cooking                                    169\nrenewable-electricity-generating-capacity-per-capita                 931\nfinancial_flows_to_developing_countries_(us_$)                      2089\nrenewable_energy_share_in_the_total_final_energy_consumption_(%)     194\nelectricity_from_fossil_fuels_(twh)                                   21\nelectricity_from_nuclear_(twh)                                       126\nelectricity_from_renewables_(twh)                                     21\nlow-carbon_electricity_(%_electricity)                                42\nprimary_energy_consumption_per_capita_(kwh/person)                     0\nenergy_intensity_level_of_primary_energy_(mj/$2017_ppp_gdp)          207\nvalue_co2_emissions_kt_by_country                                    428\nrenewables_(%_equivalent_primary_energy)                            2137\ngdp_growth                                                           317\ngdp_per_capita                                                       282\ndensity\\n(p/km2)                                                       1\nland_area(km2)                                                         1\nlatitude                                                               1\nlongitude                                                              1\ndtype: int64"
     },
     "execution_count": 22,
     "metadata": {},
     "output_type": "execute_result"
    }
   ],
   "source": [
    "df.isnull().sum()"
   ],
   "metadata": {
    "collapsed": false,
    "ExecuteTime": {
     "end_time": "2023-11-24T15:52:00.447833700Z",
     "start_time": "2023-11-24T15:52:00.394804700Z"
    }
   }
  },
  {
   "cell_type": "code",
   "execution_count": 23,
   "outputs": [],
   "source": [
    "#Encoding Dataset"
   ],
   "metadata": {
    "collapsed": false,
    "ExecuteTime": {
     "end_time": "2023-11-24T15:52:03.835657700Z",
     "start_time": "2023-11-24T15:52:03.802291300Z"
    }
   }
  },
  {
   "cell_type": "code",
   "execution_count": 24,
   "outputs": [],
   "source": [
    "from sklearn.preprocessing import KBinsDiscretizer\n",
    "from sklearn.preprocessing import OrdinalEncoder\n",
    "from sklearn import preprocessing"
   ],
   "metadata": {
    "collapsed": false,
    "ExecuteTime": {
     "end_time": "2023-11-24T15:52:04.906893Z",
     "start_time": "2023-11-24T15:52:04.875991300Z"
    }
   }
  },
  {
   "cell_type": "code",
   "execution_count": 25,
   "outputs": [
    {
     "data": {
      "text/plain": "    country  year  access_electricity  access_cooking_fuels  \\\n0       0.0  2000            1.613591                  6.20   \n1       0.0  2001            4.074574                  7.20   \n2       0.0  2002            9.409158                  8.20   \n3       0.0  2003           14.738506                  9.50   \n4       0.0  2004           20.064968                 10.90   \n5       0.0  2005           25.390894                 12.20   \n6       0.0  2006           30.718690                 13.85   \n7       0.0  2007           36.051010                 15.30   \n8       0.0  2008           42.400000                 16.70   \n9       0.0  2009           46.740050                 18.40   \n10      0.0  2010           42.700000                 20.00   \n11      0.0  2011           43.222020                 21.80   \n12      0.0  2012           69.100000                 23.00   \n13      0.0  2013           68.290650                 24.80   \n14      0.0  2014           89.500000                 26.10   \n15      0.0  2015           71.500000                 27.40   \n16      0.0  2016           97.700000                 28.60   \n17      0.0  2017           97.700000                 29.70   \n18      0.0  2018           96.616135                 30.90   \n19      0.0  2019           97.700000                 31.90   \n20      0.0  2020           97.700000                 33.20   \n21      1.0  2000          100.000000                 38.20   \n22      1.0  2001          100.000000                 40.50   \n23      1.0  2002          100.000000                 43.20   \n24      1.0  2003          100.000000                 46.40   \n\n    renewable_energy_share  electricity_fossil_fuels  electricity_nuclear  \\\n0                   44.990                      0.16                  0.0   \n1                   45.600                      0.09                  0.0   \n2                   37.830                      0.13                  0.0   \n3                   36.660                      0.31                  0.0   \n4                   44.240                      0.33                  0.0   \n5                   33.880                      0.34                  0.0   \n6                   31.890                      0.20                  0.0   \n7                   28.780                      0.20                  0.0   \n8                   21.170                      0.19                  0.0   \n9                   16.530                      0.16                  0.0   \n10                  15.150                      0.19                  0.0   \n11                  12.610                      0.18                  0.0   \n12                  15.360                      0.14                  0.0   \n13                  16.860                      0.22                  0.0   \n14                  18.930                      0.16                  0.0   \n15                  17.530                      0.15                  0.0   \n16                  19.920                      0.15                  0.0   \n17                  19.210                      0.18                  0.0   \n18                  17.960                      0.20                  0.0   \n19                  18.510                      0.18                  0.0   \n20                   9.255                      0.12                  0.0   \n21                   0.000                      0.14                  0.0   \n22                   0.000                      0.13                  0.0   \n23                   0.000                      0.16                  0.0   \n24                   0.000                      0.10                  0.0   \n\n    electricity_renewals  electricity_low_carbon  primary_energy_consumption  \\\n0                   0.31               65.957440                   302.59482   \n1                   0.50               84.745766                   236.89185   \n2                   0.56               81.159424                   210.86215   \n3                   0.63               67.021280                   229.96822   \n4                   0.56               62.921350                   204.23125   \n5                   0.59               63.440857                   252.06912   \n6                   0.64               76.190475                   304.42090   \n7                   0.75               78.947370                   354.27990   \n8                   0.54               73.972600                   607.83350   \n9                   0.78               82.978720                   975.04816   \n10                  0.75               79.787230                  1182.89200   \n11                  0.60               76.923090                  1436.11430   \n12                  0.74               84.090910                  1324.12110   \n13                  0.89               80.180176                  1060.79260   \n14                  1.00               86.206900                   868.57620   \n15                  1.03               87.288140                   970.08030   \n16                  1.06               87.603294                   862.79114   \n17                  1.09               85.826775                   829.31195   \n18                  0.97               82.905980                   924.25085   \n19                  0.89               83.177570                   802.61255   \n20                  0.68               85.000000                   702.88800   \n21                  4.55               97.014930                  9029.43750   \n22                  3.52               96.438354                  8635.53200   \n23                  3.48               95.604390                  9443.55500   \n24                  5.12               98.084300                 10756.61200   \n\n    energy_level  co2_emissions  gdp_per_capita  \n0           1.64     760.000000      111.927225  \n1           1.74     730.000000      113.567251  \n2           1.40    1029.999971      179.426579  \n3           1.40    1220.000029      190.683814  \n4           1.20    1029.999971      211.382074  \n5           1.41    1549.999952      242.031313  \n6           1.50    1759.999990      263.733602  \n7           1.53    1769.999981      359.693158  \n8           1.94    3559.999943      364.663542  \n9           2.25    4880.000114      437.268740  \n10          2.46    7110.000134      543.306526  \n11          3.23    8930.000305      591.190030  \n12          2.61    8079.999924      638.845852  \n13          2.46    5989.999771      624.315454  \n14          2.25    4880.000114      614.223342  \n15          2.37    5949.999809      556.007221  \n16          2.24    5300.000191      512.012778  \n17          2.30    4780.000210      516.679862  \n18          2.44    6070.000172      485.668419  \n19          2.41    6079.999924      494.179350  \n20          3.27    4624.999962      516.747871  \n21          4.13    3170.000000     1126.683340  \n22          3.89    3230.000000     1281.659826  \n23          4.10    3759.999990     1425.124219  \n24          3.80    4070.000172     1846.120121  ",
      "text/html": "<div>\n<style scoped>\n    .dataframe tbody tr th:only-of-type {\n        vertical-align: middle;\n    }\n\n    .dataframe tbody tr th {\n        vertical-align: top;\n    }\n\n    .dataframe thead th {\n        text-align: right;\n    }\n</style>\n<table border=\"1\" class=\"dataframe\">\n  <thead>\n    <tr style=\"text-align: right;\">\n      <th></th>\n      <th>country</th>\n      <th>year</th>\n      <th>access_electricity</th>\n      <th>access_cooking_fuels</th>\n      <th>renewable_energy_share</th>\n      <th>electricity_fossil_fuels</th>\n      <th>electricity_nuclear</th>\n      <th>electricity_renewals</th>\n      <th>electricity_low_carbon</th>\n      <th>primary_energy_consumption</th>\n      <th>energy_level</th>\n      <th>co2_emissions</th>\n      <th>gdp_per_capita</th>\n    </tr>\n  </thead>\n  <tbody>\n    <tr>\n      <th>0</th>\n      <td>0.0</td>\n      <td>2000</td>\n      <td>1.613591</td>\n      <td>6.20</td>\n      <td>44.990</td>\n      <td>0.16</td>\n      <td>0.0</td>\n      <td>0.31</td>\n      <td>65.957440</td>\n      <td>302.59482</td>\n      <td>1.64</td>\n      <td>760.000000</td>\n      <td>111.927225</td>\n    </tr>\n    <tr>\n      <th>1</th>\n      <td>0.0</td>\n      <td>2001</td>\n      <td>4.074574</td>\n      <td>7.20</td>\n      <td>45.600</td>\n      <td>0.09</td>\n      <td>0.0</td>\n      <td>0.50</td>\n      <td>84.745766</td>\n      <td>236.89185</td>\n      <td>1.74</td>\n      <td>730.000000</td>\n      <td>113.567251</td>\n    </tr>\n    <tr>\n      <th>2</th>\n      <td>0.0</td>\n      <td>2002</td>\n      <td>9.409158</td>\n      <td>8.20</td>\n      <td>37.830</td>\n      <td>0.13</td>\n      <td>0.0</td>\n      <td>0.56</td>\n      <td>81.159424</td>\n      <td>210.86215</td>\n      <td>1.40</td>\n      <td>1029.999971</td>\n      <td>179.426579</td>\n    </tr>\n    <tr>\n      <th>3</th>\n      <td>0.0</td>\n      <td>2003</td>\n      <td>14.738506</td>\n      <td>9.50</td>\n      <td>36.660</td>\n      <td>0.31</td>\n      <td>0.0</td>\n      <td>0.63</td>\n      <td>67.021280</td>\n      <td>229.96822</td>\n      <td>1.40</td>\n      <td>1220.000029</td>\n      <td>190.683814</td>\n    </tr>\n    <tr>\n      <th>4</th>\n      <td>0.0</td>\n      <td>2004</td>\n      <td>20.064968</td>\n      <td>10.90</td>\n      <td>44.240</td>\n      <td>0.33</td>\n      <td>0.0</td>\n      <td>0.56</td>\n      <td>62.921350</td>\n      <td>204.23125</td>\n      <td>1.20</td>\n      <td>1029.999971</td>\n      <td>211.382074</td>\n    </tr>\n    <tr>\n      <th>5</th>\n      <td>0.0</td>\n      <td>2005</td>\n      <td>25.390894</td>\n      <td>12.20</td>\n      <td>33.880</td>\n      <td>0.34</td>\n      <td>0.0</td>\n      <td>0.59</td>\n      <td>63.440857</td>\n      <td>252.06912</td>\n      <td>1.41</td>\n      <td>1549.999952</td>\n      <td>242.031313</td>\n    </tr>\n    <tr>\n      <th>6</th>\n      <td>0.0</td>\n      <td>2006</td>\n      <td>30.718690</td>\n      <td>13.85</td>\n      <td>31.890</td>\n      <td>0.20</td>\n      <td>0.0</td>\n      <td>0.64</td>\n      <td>76.190475</td>\n      <td>304.42090</td>\n      <td>1.50</td>\n      <td>1759.999990</td>\n      <td>263.733602</td>\n    </tr>\n    <tr>\n      <th>7</th>\n      <td>0.0</td>\n      <td>2007</td>\n      <td>36.051010</td>\n      <td>15.30</td>\n      <td>28.780</td>\n      <td>0.20</td>\n      <td>0.0</td>\n      <td>0.75</td>\n      <td>78.947370</td>\n      <td>354.27990</td>\n      <td>1.53</td>\n      <td>1769.999981</td>\n      <td>359.693158</td>\n    </tr>\n    <tr>\n      <th>8</th>\n      <td>0.0</td>\n      <td>2008</td>\n      <td>42.400000</td>\n      <td>16.70</td>\n      <td>21.170</td>\n      <td>0.19</td>\n      <td>0.0</td>\n      <td>0.54</td>\n      <td>73.972600</td>\n      <td>607.83350</td>\n      <td>1.94</td>\n      <td>3559.999943</td>\n      <td>364.663542</td>\n    </tr>\n    <tr>\n      <th>9</th>\n      <td>0.0</td>\n      <td>2009</td>\n      <td>46.740050</td>\n      <td>18.40</td>\n      <td>16.530</td>\n      <td>0.16</td>\n      <td>0.0</td>\n      <td>0.78</td>\n      <td>82.978720</td>\n      <td>975.04816</td>\n      <td>2.25</td>\n      <td>4880.000114</td>\n      <td>437.268740</td>\n    </tr>\n    <tr>\n      <th>10</th>\n      <td>0.0</td>\n      <td>2010</td>\n      <td>42.700000</td>\n      <td>20.00</td>\n      <td>15.150</td>\n      <td>0.19</td>\n      <td>0.0</td>\n      <td>0.75</td>\n      <td>79.787230</td>\n      <td>1182.89200</td>\n      <td>2.46</td>\n      <td>7110.000134</td>\n      <td>543.306526</td>\n    </tr>\n    <tr>\n      <th>11</th>\n      <td>0.0</td>\n      <td>2011</td>\n      <td>43.222020</td>\n      <td>21.80</td>\n      <td>12.610</td>\n      <td>0.18</td>\n      <td>0.0</td>\n      <td>0.60</td>\n      <td>76.923090</td>\n      <td>1436.11430</td>\n      <td>3.23</td>\n      <td>8930.000305</td>\n      <td>591.190030</td>\n    </tr>\n    <tr>\n      <th>12</th>\n      <td>0.0</td>\n      <td>2012</td>\n      <td>69.100000</td>\n      <td>23.00</td>\n      <td>15.360</td>\n      <td>0.14</td>\n      <td>0.0</td>\n      <td>0.74</td>\n      <td>84.090910</td>\n      <td>1324.12110</td>\n      <td>2.61</td>\n      <td>8079.999924</td>\n      <td>638.845852</td>\n    </tr>\n    <tr>\n      <th>13</th>\n      <td>0.0</td>\n      <td>2013</td>\n      <td>68.290650</td>\n      <td>24.80</td>\n      <td>16.860</td>\n      <td>0.22</td>\n      <td>0.0</td>\n      <td>0.89</td>\n      <td>80.180176</td>\n      <td>1060.79260</td>\n      <td>2.46</td>\n      <td>5989.999771</td>\n      <td>624.315454</td>\n    </tr>\n    <tr>\n      <th>14</th>\n      <td>0.0</td>\n      <td>2014</td>\n      <td>89.500000</td>\n      <td>26.10</td>\n      <td>18.930</td>\n      <td>0.16</td>\n      <td>0.0</td>\n      <td>1.00</td>\n      <td>86.206900</td>\n      <td>868.57620</td>\n      <td>2.25</td>\n      <td>4880.000114</td>\n      <td>614.223342</td>\n    </tr>\n    <tr>\n      <th>15</th>\n      <td>0.0</td>\n      <td>2015</td>\n      <td>71.500000</td>\n      <td>27.40</td>\n      <td>17.530</td>\n      <td>0.15</td>\n      <td>0.0</td>\n      <td>1.03</td>\n      <td>87.288140</td>\n      <td>970.08030</td>\n      <td>2.37</td>\n      <td>5949.999809</td>\n      <td>556.007221</td>\n    </tr>\n    <tr>\n      <th>16</th>\n      <td>0.0</td>\n      <td>2016</td>\n      <td>97.700000</td>\n      <td>28.60</td>\n      <td>19.920</td>\n      <td>0.15</td>\n      <td>0.0</td>\n      <td>1.06</td>\n      <td>87.603294</td>\n      <td>862.79114</td>\n      <td>2.24</td>\n      <td>5300.000191</td>\n      <td>512.012778</td>\n    </tr>\n    <tr>\n      <th>17</th>\n      <td>0.0</td>\n      <td>2017</td>\n      <td>97.700000</td>\n      <td>29.70</td>\n      <td>19.210</td>\n      <td>0.18</td>\n      <td>0.0</td>\n      <td>1.09</td>\n      <td>85.826775</td>\n      <td>829.31195</td>\n      <td>2.30</td>\n      <td>4780.000210</td>\n      <td>516.679862</td>\n    </tr>\n    <tr>\n      <th>18</th>\n      <td>0.0</td>\n      <td>2018</td>\n      <td>96.616135</td>\n      <td>30.90</td>\n      <td>17.960</td>\n      <td>0.20</td>\n      <td>0.0</td>\n      <td>0.97</td>\n      <td>82.905980</td>\n      <td>924.25085</td>\n      <td>2.44</td>\n      <td>6070.000172</td>\n      <td>485.668419</td>\n    </tr>\n    <tr>\n      <th>19</th>\n      <td>0.0</td>\n      <td>2019</td>\n      <td>97.700000</td>\n      <td>31.90</td>\n      <td>18.510</td>\n      <td>0.18</td>\n      <td>0.0</td>\n      <td>0.89</td>\n      <td>83.177570</td>\n      <td>802.61255</td>\n      <td>2.41</td>\n      <td>6079.999924</td>\n      <td>494.179350</td>\n    </tr>\n    <tr>\n      <th>20</th>\n      <td>0.0</td>\n      <td>2020</td>\n      <td>97.700000</td>\n      <td>33.20</td>\n      <td>9.255</td>\n      <td>0.12</td>\n      <td>0.0</td>\n      <td>0.68</td>\n      <td>85.000000</td>\n      <td>702.88800</td>\n      <td>3.27</td>\n      <td>4624.999962</td>\n      <td>516.747871</td>\n    </tr>\n    <tr>\n      <th>21</th>\n      <td>1.0</td>\n      <td>2000</td>\n      <td>100.000000</td>\n      <td>38.20</td>\n      <td>0.000</td>\n      <td>0.14</td>\n      <td>0.0</td>\n      <td>4.55</td>\n      <td>97.014930</td>\n      <td>9029.43750</td>\n      <td>4.13</td>\n      <td>3170.000000</td>\n      <td>1126.683340</td>\n    </tr>\n    <tr>\n      <th>22</th>\n      <td>1.0</td>\n      <td>2001</td>\n      <td>100.000000</td>\n      <td>40.50</td>\n      <td>0.000</td>\n      <td>0.13</td>\n      <td>0.0</td>\n      <td>3.52</td>\n      <td>96.438354</td>\n      <td>8635.53200</td>\n      <td>3.89</td>\n      <td>3230.000000</td>\n      <td>1281.659826</td>\n    </tr>\n    <tr>\n      <th>23</th>\n      <td>1.0</td>\n      <td>2002</td>\n      <td>100.000000</td>\n      <td>43.20</td>\n      <td>0.000</td>\n      <td>0.16</td>\n      <td>0.0</td>\n      <td>3.48</td>\n      <td>95.604390</td>\n      <td>9443.55500</td>\n      <td>4.10</td>\n      <td>3759.999990</td>\n      <td>1425.124219</td>\n    </tr>\n    <tr>\n      <th>24</th>\n      <td>1.0</td>\n      <td>2003</td>\n      <td>100.000000</td>\n      <td>46.40</td>\n      <td>0.000</td>\n      <td>0.10</td>\n      <td>0.0</td>\n      <td>5.12</td>\n      <td>98.084300</td>\n      <td>10756.61200</td>\n      <td>3.80</td>\n      <td>4070.000172</td>\n      <td>1846.120121</td>\n    </tr>\n  </tbody>\n</table>\n</div>"
     },
     "execution_count": 25,
     "metadata": {},
     "output_type": "execute_result"
    }
   ],
   "source": [
    "enc = preprocessing.OrdinalEncoder()\n",
    "X = energy_data[['country']]\n",
    "enc.fit(X)\n",
    "energy_data['country'] = enc.transform(energy_data[['country']])\n",
    "energy_data.head(25)"
   ],
   "metadata": {
    "collapsed": false,
    "ExecuteTime": {
     "end_time": "2023-11-24T15:52:06.082329100Z",
     "start_time": "2023-11-24T15:52:06.069848Z"
    }
   }
  },
  {
   "cell_type": "markdown",
   "source": [
    "#Normalization"
   ],
   "metadata": {
    "collapsed": false
   }
  },
  {
   "cell_type": "code",
   "execution_count": 26,
   "outputs": [],
   "source": [
    "from sklearn.preprocessing import normalize"
   ],
   "metadata": {
    "collapsed": false,
    "ExecuteTime": {
     "end_time": "2023-11-24T15:52:09.224794900Z",
     "start_time": "2023-11-24T15:52:09.208066300Z"
    }
   }
  },
  {
   "cell_type": "code",
   "execution_count": 27,
   "outputs": [],
   "source": [
    "energy_data_normalized = energy_data\n",
    "\n",
    "#for col in ['access_electricity','access_cooking_fuels','renewable_energy_share','electricity_fossil_fuels','electricity_nuclear','electricity_renewals','electricity_low_carbon','primary_energy_consumption','energy_level','co2_emissions','gdp_per_capita']:\n",
    "#  X = energy_data_normalized[[col]]\n",
    "#  normalizer = preprocessing.Normalizer().fit(X)\n",
    "#  energy_data_normalized[col] = normalizer.transform(X)\n",
    "  \n",
    "#energy_data_normalized.describe()"
   ],
   "metadata": {
    "collapsed": false,
    "ExecuteTime": {
     "end_time": "2023-11-24T15:52:09.911726300Z",
     "start_time": "2023-11-24T15:52:09.884435700Z"
    }
   }
  },
  {
   "cell_type": "markdown",
   "source": [
    "## 6. Model"
   ],
   "metadata": {
    "collapsed": false
   }
  },
  {
   "cell_type": "code",
   "execution_count": 28,
   "outputs": [],
   "source": [
    "from sklearn.model_selection import train_test_split, GridSearchCV\n",
    "from sklearn.preprocessing import StandardScaler\n",
    "from sklearn.metrics import mean_squared_error, r2_score\n",
    "from sklearn.ensemble import RandomForestRegressor, GradientBoostingRegressor\n",
    "from sklearn.linear_model import LinearRegression"
   ],
   "metadata": {
    "collapsed": false,
    "ExecuteTime": {
     "end_time": "2023-11-24T15:52:31.870722400Z",
     "start_time": "2023-11-24T15:52:31.321256600Z"
    }
   }
  },
  {
   "cell_type": "code",
   "execution_count": 29,
   "outputs": [],
   "source": [
    "target = 'primary_energy_consumption'\n",
    "features = ['access_electricity',\n",
    "    'gdp_per_capita','electricity_renewals',\n",
    "    'electricity_fossil_fuels']\n",
    "x_imputed = energy_data[features]\n",
    "y = energy_data[target]"
   ],
   "metadata": {
    "collapsed": false,
    "ExecuteTime": {
     "end_time": "2023-11-24T15:52:50.023570800Z",
     "start_time": "2023-11-24T15:52:49.993611200Z"
    }
   }
  },
  {
   "cell_type": "code",
   "execution_count": 29,
   "outputs": [],
   "source": [],
   "metadata": {
    "collapsed": false,
    "ExecuteTime": {
     "end_time": "2023-11-24T15:52:52.066178800Z",
     "start_time": "2023-11-24T15:52:52.050363400Z"
    }
   }
  },
  {
   "cell_type": "code",
   "execution_count": 30,
   "outputs": [],
   "source": [
    "x_train, x_test, y_train, y_test = train_test_split(x_imputed, y, test_size = 0.4, random_state = 42)"
   ],
   "metadata": {
    "collapsed": false,
    "ExecuteTime": {
     "end_time": "2023-11-24T15:53:04.320360Z",
     "start_time": "2023-11-24T15:53:04.300728500Z"
    }
   }
  },
  {
   "cell_type": "code",
   "execution_count": 31,
   "outputs": [],
   "source": [
    "scaler = StandardScaler()\n",
    "x_train_scaled = scaler.fit_transform(x_train)\n",
    "x_test_scaled = scaler.transform(x_test)"
   ],
   "metadata": {
    "collapsed": false,
    "ExecuteTime": {
     "end_time": "2023-11-24T15:53:06.926260400Z",
     "start_time": "2023-11-24T15:53:06.878883500Z"
    }
   }
  },
  {
   "cell_type": "markdown",
   "source": [
    "## 7. Split dataset"
   ],
   "metadata": {
    "collapsed": false
   }
  },
  {
   "cell_type": "code",
   "execution_count": null,
   "outputs": [],
   "source": [
    "from sklearn.model_selection import GroupKFold\n",
    "import statsmodels.api as sm\n",
    "import pandas as pd\n",
    "import numpy as np\n",
    "from sklearn.model_selection import GroupKFold\n",
    "\n",
    "target = 'primary_energy_consumption'\n",
    "X_kfold = energy_data.drop(columns=[target,'co2_emissions','gdp_per_capita','renewable_energy_share','access_cooking_fuels','energy_level'])\n",
    "y_kfold = energy_data[target]"
   ],
   "metadata": {
    "collapsed": false,
    "ExecuteTime": {
     "end_time": "2023-11-24T16:00:16.486925500Z",
     "start_time": "2023-11-24T16:00:16.486767500Z"
    }
   }
  },
  {
   "cell_type": "code",
   "execution_count": null,
   "outputs": [],
   "source": [
    "group = energy_data.year.tolist()"
   ],
   "metadata": {
    "collapsed": false,
    "ExecuteTime": {
     "start_time": "2023-11-24T16:00:16.476083200Z"
    }
   }
  },
  {
   "cell_type": "code",
   "execution_count": 36,
   "outputs": [
    {
     "name": "stdout",
     "output_type": "stream",
     "text": [
      "Train: [   1    2    3 ... 3608 3609 3610] Test: [   0   20   21   41   42   62   63   83   84  104  105  125  126  146\n",
      "  147  167  168  188  189  209  210  230  231  251  252  272  273  293\n",
      "  294  314  315  335  336  356  357  377  378  398  399  419  420  440\n",
      "  441  461  462  482  483  503  504  524  525  545  546  566  567  587\n",
      "  588  608  609  629  630  650  651  671  672  692  693  713  714  734\n",
      "  735  755  756  776  777  797  798  818  819  839  840  860  861  881\n",
      "  882  902  903  923  924  944  945  965  966  986  987 1007 1008 1028\n",
      " 1029 1049 1050 1070 1071 1091 1092 1112 1113 1133 1134 1154 1155 1175\n",
      " 1176 1196 1197 1217 1218 1238 1239 1259 1260 1280 1281 1301 1302 1322\n",
      " 1323 1343 1344 1364 1365 1385 1386 1406 1407 1427 1428 1448 1449 1469\n",
      " 1470 1490 1491 1511 1512 1532 1533 1553 1554 1574 1575 1595 1596 1616\n",
      " 1617 1637 1638 1658 1659 1679 1680 1700 1701 1721 1722 1742 1743 1763\n",
      " 1764 1784 1785 1805 1806 1826 1827 1847 1848 1868 1869 1889 1890 1910\n",
      " 1911 1931 1932 1952 1953 1973 1974 1994 1995 2015 2016 2036 2037 2057\n",
      " 2058 2078 2079 2099 2100 2120 2121 2141 2142 2162 2163 2183 2184 2204\n",
      " 2205 2225 2226 2246 2247 2267 2268 2288 2289 2309 2310 2330 2331 2351\n",
      " 2352 2372 2373 2393 2394 2414 2415 2435 2436 2456 2457 2477 2478 2498\n",
      " 2499 2519 2520 2540 2541 2561 2562 2582 2583 2603 2604 2624 2625 2645\n",
      " 2646 2666 2667 2687 2688 2708 2709 2729 2730 2750 2751 2771 2772 2792\n",
      " 2793 2813 2814 2834 2835 2855 2856 2876 2877 2897 2898 2918 2919 2939\n",
      " 2940 2960 2961 2981 2982 3002 3003 3023 3024 3044 3045 3065 3066 3086\n",
      " 3087 3107 3108 3128 3129 3149 3150 3170 3171 3191 3192 3212 3213 3233\n",
      " 3234 3254 3255 3275 3276 3296 3297 3317 3318 3338 3339 3359 3360 3380\n",
      " 3381 3401 3402 3422 3423 3443 3444 3464 3465 3485 3486 3506 3507 3527\n",
      " 3528 3548 3549 3569 3570 3590 3591 3611]\n"
     ]
    },
    {
     "ename": "KeyError",
     "evalue": "'[2185, 2186, 2187, 2188, 2189, 2190, 2191, 2192, 2193, 2194, 2195, 2196, 2197, 2198, 2913, 2914, 2915, 2916, 2917, 2920, 2921, 2922, 2923, 2924, 2925, 2926, 3095, 3096, 3097, 3098, 3099, 3100, 3101, 3102] not in index'",
     "output_type": "error",
     "traceback": [
      "\u001B[1;31m---------------------------------------------------------------------------\u001B[0m",
      "\u001B[1;31mKeyError\u001B[0m                                  Traceback (most recent call last)",
      "Cell \u001B[1;32mIn[36], line 5\u001B[0m\n\u001B[0;32m      3\u001B[0m \u001B[38;5;28mprint\u001B[39m(\u001B[38;5;124m\"\u001B[39m\u001B[38;5;124mTrain:\u001B[39m\u001B[38;5;124m\"\u001B[39m, train_index, \u001B[38;5;124m\"\u001B[39m\u001B[38;5;124mTest:\u001B[39m\u001B[38;5;124m\"\u001B[39m, test_index)\n\u001B[0;32m      4\u001B[0m X_train_kfold \u001B[38;5;241m=\u001B[39m X_kfold\u001B[38;5;241m.\u001B[39miloc[train_index,:]\n\u001B[1;32m----> 5\u001B[0m Y_train_kfold \u001B[38;5;241m=\u001B[39m \u001B[43my_kfold\u001B[49m\u001B[43m[\u001B[49m\u001B[43mtrain_index\u001B[49m\u001B[43m]\u001B[49m\n\u001B[0;32m      6\u001B[0m X_test_kfold \u001B[38;5;241m=\u001B[39m X_kfold\u001B[38;5;241m.\u001B[39miloc[test_index,:]\n\u001B[0;32m      7\u001B[0m Y_test_kfold \u001B[38;5;241m=\u001B[39m y_kfold[test_index]\n",
      "File \u001B[1;32m~\\AppData\\Local\\Programs\\Python\\Python311\\Lib\\site-packages\\pandas\\core\\series.py:1072\u001B[0m, in \u001B[0;36mSeries.__getitem__\u001B[1;34m(self, key)\u001B[0m\n\u001B[0;32m   1069\u001B[0m     key \u001B[38;5;241m=\u001B[39m np\u001B[38;5;241m.\u001B[39masarray(key, dtype\u001B[38;5;241m=\u001B[39m\u001B[38;5;28mbool\u001B[39m)\n\u001B[0;32m   1070\u001B[0m     \u001B[38;5;28;01mreturn\u001B[39;00m \u001B[38;5;28mself\u001B[39m\u001B[38;5;241m.\u001B[39m_get_rows_with_mask(key)\n\u001B[1;32m-> 1072\u001B[0m \u001B[38;5;28;01mreturn\u001B[39;00m \u001B[38;5;28;43mself\u001B[39;49m\u001B[38;5;241;43m.\u001B[39;49m\u001B[43m_get_with\u001B[49m\u001B[43m(\u001B[49m\u001B[43mkey\u001B[49m\u001B[43m)\u001B[49m\n",
      "File \u001B[1;32m~\\AppData\\Local\\Programs\\Python\\Python311\\Lib\\site-packages\\pandas\\core\\series.py:1099\u001B[0m, in \u001B[0;36mSeries._get_with\u001B[1;34m(self, key)\u001B[0m\n\u001B[0;32m   1095\u001B[0m \u001B[38;5;28;01mif\u001B[39;00m key_type \u001B[38;5;241m==\u001B[39m \u001B[38;5;124m\"\u001B[39m\u001B[38;5;124minteger\u001B[39m\u001B[38;5;124m\"\u001B[39m:\n\u001B[0;32m   1096\u001B[0m     \u001B[38;5;66;03m# We need to decide whether to treat this as a positional indexer\u001B[39;00m\n\u001B[0;32m   1097\u001B[0m     \u001B[38;5;66;03m#  (i.e. self.iloc) or label-based (i.e. self.loc)\u001B[39;00m\n\u001B[0;32m   1098\u001B[0m     \u001B[38;5;28;01mif\u001B[39;00m \u001B[38;5;129;01mnot\u001B[39;00m \u001B[38;5;28mself\u001B[39m\u001B[38;5;241m.\u001B[39mindex\u001B[38;5;241m.\u001B[39m_should_fallback_to_positional:\n\u001B[1;32m-> 1099\u001B[0m         \u001B[38;5;28;01mreturn\u001B[39;00m \u001B[38;5;28;43mself\u001B[39;49m\u001B[38;5;241;43m.\u001B[39;49m\u001B[43mloc\u001B[49m\u001B[43m[\u001B[49m\u001B[43mkey\u001B[49m\u001B[43m]\u001B[49m\n\u001B[0;32m   1100\u001B[0m     \u001B[38;5;28;01melse\u001B[39;00m:\n\u001B[0;32m   1101\u001B[0m         warnings\u001B[38;5;241m.\u001B[39mwarn(\n\u001B[0;32m   1102\u001B[0m             \u001B[38;5;66;03m# GH#50617\u001B[39;00m\n\u001B[0;32m   1103\u001B[0m             \u001B[38;5;124m\"\u001B[39m\u001B[38;5;124mSeries.__getitem__ treating keys as positions is deprecated. \u001B[39m\u001B[38;5;124m\"\u001B[39m\n\u001B[1;32m   (...)\u001B[0m\n\u001B[0;32m   1108\u001B[0m             stacklevel\u001B[38;5;241m=\u001B[39mfind_stack_level(),\n\u001B[0;32m   1109\u001B[0m         )\n",
      "File \u001B[1;32m~\\AppData\\Local\\Programs\\Python\\Python311\\Lib\\site-packages\\pandas\\core\\indexing.py:1153\u001B[0m, in \u001B[0;36m_LocationIndexer.__getitem__\u001B[1;34m(self, key)\u001B[0m\n\u001B[0;32m   1150\u001B[0m axis \u001B[38;5;241m=\u001B[39m \u001B[38;5;28mself\u001B[39m\u001B[38;5;241m.\u001B[39maxis \u001B[38;5;129;01mor\u001B[39;00m \u001B[38;5;241m0\u001B[39m\n\u001B[0;32m   1152\u001B[0m maybe_callable \u001B[38;5;241m=\u001B[39m com\u001B[38;5;241m.\u001B[39mapply_if_callable(key, \u001B[38;5;28mself\u001B[39m\u001B[38;5;241m.\u001B[39mobj)\n\u001B[1;32m-> 1153\u001B[0m \u001B[38;5;28;01mreturn\u001B[39;00m \u001B[38;5;28;43mself\u001B[39;49m\u001B[38;5;241;43m.\u001B[39;49m\u001B[43m_getitem_axis\u001B[49m\u001B[43m(\u001B[49m\u001B[43mmaybe_callable\u001B[49m\u001B[43m,\u001B[49m\u001B[43m \u001B[49m\u001B[43maxis\u001B[49m\u001B[38;5;241;43m=\u001B[39;49m\u001B[43maxis\u001B[49m\u001B[43m)\u001B[49m\n",
      "File \u001B[1;32m~\\AppData\\Local\\Programs\\Python\\Python311\\Lib\\site-packages\\pandas\\core\\indexing.py:1382\u001B[0m, in \u001B[0;36m_LocIndexer._getitem_axis\u001B[1;34m(self, key, axis)\u001B[0m\n\u001B[0;32m   1379\u001B[0m     \u001B[38;5;28;01mif\u001B[39;00m \u001B[38;5;28mhasattr\u001B[39m(key, \u001B[38;5;124m\"\u001B[39m\u001B[38;5;124mndim\u001B[39m\u001B[38;5;124m\"\u001B[39m) \u001B[38;5;129;01mand\u001B[39;00m key\u001B[38;5;241m.\u001B[39mndim \u001B[38;5;241m>\u001B[39m \u001B[38;5;241m1\u001B[39m:\n\u001B[0;32m   1380\u001B[0m         \u001B[38;5;28;01mraise\u001B[39;00m \u001B[38;5;167;01mValueError\u001B[39;00m(\u001B[38;5;124m\"\u001B[39m\u001B[38;5;124mCannot index with multidimensional key\u001B[39m\u001B[38;5;124m\"\u001B[39m)\n\u001B[1;32m-> 1382\u001B[0m     \u001B[38;5;28;01mreturn\u001B[39;00m \u001B[38;5;28;43mself\u001B[39;49m\u001B[38;5;241;43m.\u001B[39;49m\u001B[43m_getitem_iterable\u001B[49m\u001B[43m(\u001B[49m\u001B[43mkey\u001B[49m\u001B[43m,\u001B[49m\u001B[43m \u001B[49m\u001B[43maxis\u001B[49m\u001B[38;5;241;43m=\u001B[39;49m\u001B[43maxis\u001B[49m\u001B[43m)\u001B[49m\n\u001B[0;32m   1384\u001B[0m \u001B[38;5;66;03m# nested tuple slicing\u001B[39;00m\n\u001B[0;32m   1385\u001B[0m \u001B[38;5;28;01mif\u001B[39;00m is_nested_tuple(key, labels):\n",
      "File \u001B[1;32m~\\AppData\\Local\\Programs\\Python\\Python311\\Lib\\site-packages\\pandas\\core\\indexing.py:1322\u001B[0m, in \u001B[0;36m_LocIndexer._getitem_iterable\u001B[1;34m(self, key, axis)\u001B[0m\n\u001B[0;32m   1319\u001B[0m \u001B[38;5;28mself\u001B[39m\u001B[38;5;241m.\u001B[39m_validate_key(key, axis)\n\u001B[0;32m   1321\u001B[0m \u001B[38;5;66;03m# A collection of keys\u001B[39;00m\n\u001B[1;32m-> 1322\u001B[0m keyarr, indexer \u001B[38;5;241m=\u001B[39m \u001B[38;5;28;43mself\u001B[39;49m\u001B[38;5;241;43m.\u001B[39;49m\u001B[43m_get_listlike_indexer\u001B[49m\u001B[43m(\u001B[49m\u001B[43mkey\u001B[49m\u001B[43m,\u001B[49m\u001B[43m \u001B[49m\u001B[43maxis\u001B[49m\u001B[43m)\u001B[49m\n\u001B[0;32m   1323\u001B[0m \u001B[38;5;28;01mreturn\u001B[39;00m \u001B[38;5;28mself\u001B[39m\u001B[38;5;241m.\u001B[39mobj\u001B[38;5;241m.\u001B[39m_reindex_with_indexers(\n\u001B[0;32m   1324\u001B[0m     {axis: [keyarr, indexer]}, copy\u001B[38;5;241m=\u001B[39m\u001B[38;5;28;01mTrue\u001B[39;00m, allow_dups\u001B[38;5;241m=\u001B[39m\u001B[38;5;28;01mTrue\u001B[39;00m\n\u001B[0;32m   1325\u001B[0m )\n",
      "File \u001B[1;32m~\\AppData\\Local\\Programs\\Python\\Python311\\Lib\\site-packages\\pandas\\core\\indexing.py:1520\u001B[0m, in \u001B[0;36m_LocIndexer._get_listlike_indexer\u001B[1;34m(self, key, axis)\u001B[0m\n\u001B[0;32m   1517\u001B[0m ax \u001B[38;5;241m=\u001B[39m \u001B[38;5;28mself\u001B[39m\u001B[38;5;241m.\u001B[39mobj\u001B[38;5;241m.\u001B[39m_get_axis(axis)\n\u001B[0;32m   1518\u001B[0m axis_name \u001B[38;5;241m=\u001B[39m \u001B[38;5;28mself\u001B[39m\u001B[38;5;241m.\u001B[39mobj\u001B[38;5;241m.\u001B[39m_get_axis_name(axis)\n\u001B[1;32m-> 1520\u001B[0m keyarr, indexer \u001B[38;5;241m=\u001B[39m \u001B[43max\u001B[49m\u001B[38;5;241;43m.\u001B[39;49m\u001B[43m_get_indexer_strict\u001B[49m\u001B[43m(\u001B[49m\u001B[43mkey\u001B[49m\u001B[43m,\u001B[49m\u001B[43m \u001B[49m\u001B[43maxis_name\u001B[49m\u001B[43m)\u001B[49m\n\u001B[0;32m   1522\u001B[0m \u001B[38;5;28;01mreturn\u001B[39;00m keyarr, indexer\n",
      "File \u001B[1;32m~\\AppData\\Local\\Programs\\Python\\Python311\\Lib\\site-packages\\pandas\\core\\indexes\\base.py:6114\u001B[0m, in \u001B[0;36mIndex._get_indexer_strict\u001B[1;34m(self, key, axis_name)\u001B[0m\n\u001B[0;32m   6111\u001B[0m \u001B[38;5;28;01melse\u001B[39;00m:\n\u001B[0;32m   6112\u001B[0m     keyarr, indexer, new_indexer \u001B[38;5;241m=\u001B[39m \u001B[38;5;28mself\u001B[39m\u001B[38;5;241m.\u001B[39m_reindex_non_unique(keyarr)\n\u001B[1;32m-> 6114\u001B[0m \u001B[38;5;28;43mself\u001B[39;49m\u001B[38;5;241;43m.\u001B[39;49m\u001B[43m_raise_if_missing\u001B[49m\u001B[43m(\u001B[49m\u001B[43mkeyarr\u001B[49m\u001B[43m,\u001B[49m\u001B[43m \u001B[49m\u001B[43mindexer\u001B[49m\u001B[43m,\u001B[49m\u001B[43m \u001B[49m\u001B[43maxis_name\u001B[49m\u001B[43m)\u001B[49m\n\u001B[0;32m   6116\u001B[0m keyarr \u001B[38;5;241m=\u001B[39m \u001B[38;5;28mself\u001B[39m\u001B[38;5;241m.\u001B[39mtake(indexer)\n\u001B[0;32m   6117\u001B[0m \u001B[38;5;28;01mif\u001B[39;00m \u001B[38;5;28misinstance\u001B[39m(key, Index):\n\u001B[0;32m   6118\u001B[0m     \u001B[38;5;66;03m# GH 42790 - Preserve name from an Index\u001B[39;00m\n",
      "File \u001B[1;32m~\\AppData\\Local\\Programs\\Python\\Python311\\Lib\\site-packages\\pandas\\core\\indexes\\base.py:6178\u001B[0m, in \u001B[0;36mIndex._raise_if_missing\u001B[1;34m(self, key, indexer, axis_name)\u001B[0m\n\u001B[0;32m   6175\u001B[0m     \u001B[38;5;28;01mraise\u001B[39;00m \u001B[38;5;167;01mKeyError\u001B[39;00m(\u001B[38;5;124mf\u001B[39m\u001B[38;5;124m\"\u001B[39m\u001B[38;5;124mNone of [\u001B[39m\u001B[38;5;132;01m{\u001B[39;00mkey\u001B[38;5;132;01m}\u001B[39;00m\u001B[38;5;124m] are in the [\u001B[39m\u001B[38;5;132;01m{\u001B[39;00maxis_name\u001B[38;5;132;01m}\u001B[39;00m\u001B[38;5;124m]\u001B[39m\u001B[38;5;124m\"\u001B[39m)\n\u001B[0;32m   6177\u001B[0m not_found \u001B[38;5;241m=\u001B[39m \u001B[38;5;28mlist\u001B[39m(ensure_index(key)[missing_mask\u001B[38;5;241m.\u001B[39mnonzero()[\u001B[38;5;241m0\u001B[39m]]\u001B[38;5;241m.\u001B[39munique())\n\u001B[1;32m-> 6178\u001B[0m \u001B[38;5;28;01mraise\u001B[39;00m \u001B[38;5;167;01mKeyError\u001B[39;00m(\u001B[38;5;124mf\u001B[39m\u001B[38;5;124m\"\u001B[39m\u001B[38;5;132;01m{\u001B[39;00mnot_found\u001B[38;5;132;01m}\u001B[39;00m\u001B[38;5;124m not in index\u001B[39m\u001B[38;5;124m\"\u001B[39m)\n",
      "\u001B[1;31mKeyError\u001B[0m: '[2185, 2186, 2187, 2188, 2189, 2190, 2191, 2192, 2193, 2194, 2195, 2196, 2197, 2198, 2913, 2914, 2915, 2916, 2917, 2920, 2921, 2922, 2923, 2924, 2925, 2926, 3095, 3096, 3097, 3098, 3099, 3100, 3101, 3102] not in index'"
     ]
    }
   ],
   "source": [
    "gkf = GroupKFold(n_splits=20)\n",
    "for train_index, test_index in gkf.split(X_kfold, groups=group):\n",
    "    print(\"Train:\", train_index, \"Test:\", test_index)\n",
    "    X_train_kfold = X_kfold.iloc[train_index,:]\n",
    "    Y_train_kfold = y_kfold[train_index]\n",
    "    X_test_kfold = X_kfold.iloc[test_index,:]\n",
    "    Y_test_kfold = y_kfold[test_index]"
   ],
   "metadata": {
    "collapsed": false,
    "ExecuteTime": {
     "end_time": "2023-11-24T15:56:05.171331900Z",
     "start_time": "2023-11-24T15:56:01.893692100Z"
    }
   }
  },
  {
   "cell_type": "markdown",
   "source": [
    "### 11. Model Training"
   ],
   "metadata": {
    "collapsed": false
   }
  },
  {
   "cell_type": "markdown",
   "source": [
    "#### 11.1 Random Forest"
   ],
   "metadata": {
    "collapsed": false
   }
  },
  {
   "cell_type": "code",
   "execution_count": 37,
   "outputs": [
    {
     "ename": "KeyboardInterrupt",
     "evalue": "",
     "output_type": "error",
     "traceback": [
      "\u001B[1;31m---------------------------------------------------------------------------\u001B[0m",
      "\u001B[1;31mKeyboardInterrupt\u001B[0m                         Traceback (most recent call last)",
      "Cell \u001B[1;32mIn[37], line 4\u001B[0m\n\u001B[0;32m      2\u001B[0m rf_model \u001B[38;5;241m=\u001B[39m RandomForestRegressor(random_state\u001B[38;5;241m=\u001B[39m\u001B[38;5;241m42\u001B[39m)\n\u001B[0;32m      3\u001B[0m rf_grid_search \u001B[38;5;241m=\u001B[39m GridSearchCV(estimator\u001B[38;5;241m=\u001B[39mrf_model, param_grid\u001B[38;5;241m=\u001B[39mrf_param_grid, scoring\u001B[38;5;241m=\u001B[39m\u001B[38;5;124m'\u001B[39m\u001B[38;5;124mneg_mean_squared_error\u001B[39m\u001B[38;5;124m'\u001B[39m, cv\u001B[38;5;241m=\u001B[39m\u001B[38;5;241m5\u001B[39m)\n\u001B[1;32m----> 4\u001B[0m \u001B[43mrf_grid_search\u001B[49m\u001B[38;5;241;43m.\u001B[39;49m\u001B[43mfit\u001B[49m\u001B[43m(\u001B[49m\u001B[43mx_train_scaled\u001B[49m\u001B[43m,\u001B[49m\u001B[43m \u001B[49m\u001B[43my_train\u001B[49m\u001B[43m)\u001B[49m\n\u001B[0;32m      5\u001B[0m best_rf_params \u001B[38;5;241m=\u001B[39m rf_grid_search\u001B[38;5;241m.\u001B[39mbest_params_\n",
      "File \u001B[1;32m~\\AppData\\Local\\Programs\\Python\\Python311\\Lib\\site-packages\\sklearn\\base.py:1152\u001B[0m, in \u001B[0;36m_fit_context.<locals>.decorator.<locals>.wrapper\u001B[1;34m(estimator, *args, **kwargs)\u001B[0m\n\u001B[0;32m   1145\u001B[0m     estimator\u001B[38;5;241m.\u001B[39m_validate_params()\n\u001B[0;32m   1147\u001B[0m \u001B[38;5;28;01mwith\u001B[39;00m config_context(\n\u001B[0;32m   1148\u001B[0m     skip_parameter_validation\u001B[38;5;241m=\u001B[39m(\n\u001B[0;32m   1149\u001B[0m         prefer_skip_nested_validation \u001B[38;5;129;01mor\u001B[39;00m global_skip_validation\n\u001B[0;32m   1150\u001B[0m     )\n\u001B[0;32m   1151\u001B[0m ):\n\u001B[1;32m-> 1152\u001B[0m     \u001B[38;5;28;01mreturn\u001B[39;00m \u001B[43mfit_method\u001B[49m\u001B[43m(\u001B[49m\u001B[43mestimator\u001B[49m\u001B[43m,\u001B[49m\u001B[43m \u001B[49m\u001B[38;5;241;43m*\u001B[39;49m\u001B[43margs\u001B[49m\u001B[43m,\u001B[49m\u001B[43m \u001B[49m\u001B[38;5;241;43m*\u001B[39;49m\u001B[38;5;241;43m*\u001B[39;49m\u001B[43mkwargs\u001B[49m\u001B[43m)\u001B[49m\n",
      "File \u001B[1;32m~\\AppData\\Local\\Programs\\Python\\Python311\\Lib\\site-packages\\sklearn\\model_selection\\_search.py:898\u001B[0m, in \u001B[0;36mBaseSearchCV.fit\u001B[1;34m(self, X, y, groups, **fit_params)\u001B[0m\n\u001B[0;32m    892\u001B[0m     results \u001B[38;5;241m=\u001B[39m \u001B[38;5;28mself\u001B[39m\u001B[38;5;241m.\u001B[39m_format_results(\n\u001B[0;32m    893\u001B[0m         all_candidate_params, n_splits, all_out, all_more_results\n\u001B[0;32m    894\u001B[0m     )\n\u001B[0;32m    896\u001B[0m     \u001B[38;5;28;01mreturn\u001B[39;00m results\n\u001B[1;32m--> 898\u001B[0m \u001B[38;5;28;43mself\u001B[39;49m\u001B[38;5;241;43m.\u001B[39;49m\u001B[43m_run_search\u001B[49m\u001B[43m(\u001B[49m\u001B[43mevaluate_candidates\u001B[49m\u001B[43m)\u001B[49m\n\u001B[0;32m    900\u001B[0m \u001B[38;5;66;03m# multimetric is determined here because in the case of a callable\u001B[39;00m\n\u001B[0;32m    901\u001B[0m \u001B[38;5;66;03m# self.scoring the return type is only known after calling\u001B[39;00m\n\u001B[0;32m    902\u001B[0m first_test_score \u001B[38;5;241m=\u001B[39m all_out[\u001B[38;5;241m0\u001B[39m][\u001B[38;5;124m\"\u001B[39m\u001B[38;5;124mtest_scores\u001B[39m\u001B[38;5;124m\"\u001B[39m]\n",
      "File \u001B[1;32m~\\AppData\\Local\\Programs\\Python\\Python311\\Lib\\site-packages\\sklearn\\model_selection\\_search.py:1422\u001B[0m, in \u001B[0;36mGridSearchCV._run_search\u001B[1;34m(self, evaluate_candidates)\u001B[0m\n\u001B[0;32m   1420\u001B[0m \u001B[38;5;28;01mdef\u001B[39;00m \u001B[38;5;21m_run_search\u001B[39m(\u001B[38;5;28mself\u001B[39m, evaluate_candidates):\n\u001B[0;32m   1421\u001B[0m \u001B[38;5;250m    \u001B[39m\u001B[38;5;124;03m\"\"\"Search all candidates in param_grid\"\"\"\u001B[39;00m\n\u001B[1;32m-> 1422\u001B[0m     \u001B[43mevaluate_candidates\u001B[49m\u001B[43m(\u001B[49m\u001B[43mParameterGrid\u001B[49m\u001B[43m(\u001B[49m\u001B[38;5;28;43mself\u001B[39;49m\u001B[38;5;241;43m.\u001B[39;49m\u001B[43mparam_grid\u001B[49m\u001B[43m)\u001B[49m\u001B[43m)\u001B[49m\n",
      "File \u001B[1;32m~\\AppData\\Local\\Programs\\Python\\Python311\\Lib\\site-packages\\sklearn\\model_selection\\_search.py:845\u001B[0m, in \u001B[0;36mBaseSearchCV.fit.<locals>.evaluate_candidates\u001B[1;34m(candidate_params, cv, more_results)\u001B[0m\n\u001B[0;32m    837\u001B[0m \u001B[38;5;28;01mif\u001B[39;00m \u001B[38;5;28mself\u001B[39m\u001B[38;5;241m.\u001B[39mverbose \u001B[38;5;241m>\u001B[39m \u001B[38;5;241m0\u001B[39m:\n\u001B[0;32m    838\u001B[0m     \u001B[38;5;28mprint\u001B[39m(\n\u001B[0;32m    839\u001B[0m         \u001B[38;5;124m\"\u001B[39m\u001B[38;5;124mFitting \u001B[39m\u001B[38;5;132;01m{0}\u001B[39;00m\u001B[38;5;124m folds for each of \u001B[39m\u001B[38;5;132;01m{1}\u001B[39;00m\u001B[38;5;124m candidates,\u001B[39m\u001B[38;5;124m\"\u001B[39m\n\u001B[0;32m    840\u001B[0m         \u001B[38;5;124m\"\u001B[39m\u001B[38;5;124m totalling \u001B[39m\u001B[38;5;132;01m{2}\u001B[39;00m\u001B[38;5;124m fits\u001B[39m\u001B[38;5;124m\"\u001B[39m\u001B[38;5;241m.\u001B[39mformat(\n\u001B[0;32m    841\u001B[0m             n_splits, n_candidates, n_candidates \u001B[38;5;241m*\u001B[39m n_splits\n\u001B[0;32m    842\u001B[0m         )\n\u001B[0;32m    843\u001B[0m     )\n\u001B[1;32m--> 845\u001B[0m out \u001B[38;5;241m=\u001B[39m \u001B[43mparallel\u001B[49m\u001B[43m(\u001B[49m\n\u001B[0;32m    846\u001B[0m \u001B[43m    \u001B[49m\u001B[43mdelayed\u001B[49m\u001B[43m(\u001B[49m\u001B[43m_fit_and_score\u001B[49m\u001B[43m)\u001B[49m\u001B[43m(\u001B[49m\n\u001B[0;32m    847\u001B[0m \u001B[43m        \u001B[49m\u001B[43mclone\u001B[49m\u001B[43m(\u001B[49m\u001B[43mbase_estimator\u001B[49m\u001B[43m)\u001B[49m\u001B[43m,\u001B[49m\n\u001B[0;32m    848\u001B[0m \u001B[43m        \u001B[49m\u001B[43mX\u001B[49m\u001B[43m,\u001B[49m\n\u001B[0;32m    849\u001B[0m \u001B[43m        \u001B[49m\u001B[43my\u001B[49m\u001B[43m,\u001B[49m\n\u001B[0;32m    850\u001B[0m \u001B[43m        \u001B[49m\u001B[43mtrain\u001B[49m\u001B[38;5;241;43m=\u001B[39;49m\u001B[43mtrain\u001B[49m\u001B[43m,\u001B[49m\n\u001B[0;32m    851\u001B[0m \u001B[43m        \u001B[49m\u001B[43mtest\u001B[49m\u001B[38;5;241;43m=\u001B[39;49m\u001B[43mtest\u001B[49m\u001B[43m,\u001B[49m\n\u001B[0;32m    852\u001B[0m \u001B[43m        \u001B[49m\u001B[43mparameters\u001B[49m\u001B[38;5;241;43m=\u001B[39;49m\u001B[43mparameters\u001B[49m\u001B[43m,\u001B[49m\n\u001B[0;32m    853\u001B[0m \u001B[43m        \u001B[49m\u001B[43msplit_progress\u001B[49m\u001B[38;5;241;43m=\u001B[39;49m\u001B[43m(\u001B[49m\u001B[43msplit_idx\u001B[49m\u001B[43m,\u001B[49m\u001B[43m \u001B[49m\u001B[43mn_splits\u001B[49m\u001B[43m)\u001B[49m\u001B[43m,\u001B[49m\n\u001B[0;32m    854\u001B[0m \u001B[43m        \u001B[49m\u001B[43mcandidate_progress\u001B[49m\u001B[38;5;241;43m=\u001B[39;49m\u001B[43m(\u001B[49m\u001B[43mcand_idx\u001B[49m\u001B[43m,\u001B[49m\u001B[43m \u001B[49m\u001B[43mn_candidates\u001B[49m\u001B[43m)\u001B[49m\u001B[43m,\u001B[49m\n\u001B[0;32m    855\u001B[0m \u001B[43m        \u001B[49m\u001B[38;5;241;43m*\u001B[39;49m\u001B[38;5;241;43m*\u001B[39;49m\u001B[43mfit_and_score_kwargs\u001B[49m\u001B[43m,\u001B[49m\n\u001B[0;32m    856\u001B[0m \u001B[43m    \u001B[49m\u001B[43m)\u001B[49m\n\u001B[0;32m    857\u001B[0m \u001B[43m    \u001B[49m\u001B[38;5;28;43;01mfor\u001B[39;49;00m\u001B[43m \u001B[49m\u001B[43m(\u001B[49m\u001B[43mcand_idx\u001B[49m\u001B[43m,\u001B[49m\u001B[43m \u001B[49m\u001B[43mparameters\u001B[49m\u001B[43m)\u001B[49m\u001B[43m,\u001B[49m\u001B[43m \u001B[49m\u001B[43m(\u001B[49m\u001B[43msplit_idx\u001B[49m\u001B[43m,\u001B[49m\u001B[43m \u001B[49m\u001B[43m(\u001B[49m\u001B[43mtrain\u001B[49m\u001B[43m,\u001B[49m\u001B[43m \u001B[49m\u001B[43mtest\u001B[49m\u001B[43m)\u001B[49m\u001B[43m)\u001B[49m\u001B[43m \u001B[49m\u001B[38;5;129;43;01min\u001B[39;49;00m\u001B[43m \u001B[49m\u001B[43mproduct\u001B[49m\u001B[43m(\u001B[49m\n\u001B[0;32m    858\u001B[0m \u001B[43m        \u001B[49m\u001B[38;5;28;43menumerate\u001B[39;49m\u001B[43m(\u001B[49m\u001B[43mcandidate_params\u001B[49m\u001B[43m)\u001B[49m\u001B[43m,\u001B[49m\u001B[43m \u001B[49m\u001B[38;5;28;43menumerate\u001B[39;49m\u001B[43m(\u001B[49m\u001B[43mcv\u001B[49m\u001B[38;5;241;43m.\u001B[39;49m\u001B[43msplit\u001B[49m\u001B[43m(\u001B[49m\u001B[43mX\u001B[49m\u001B[43m,\u001B[49m\u001B[43m \u001B[49m\u001B[43my\u001B[49m\u001B[43m,\u001B[49m\u001B[43m \u001B[49m\u001B[43mgroups\u001B[49m\u001B[43m)\u001B[49m\u001B[43m)\u001B[49m\n\u001B[0;32m    859\u001B[0m \u001B[43m    \u001B[49m\u001B[43m)\u001B[49m\n\u001B[0;32m    860\u001B[0m \u001B[43m\u001B[49m\u001B[43m)\u001B[49m\n\u001B[0;32m    862\u001B[0m \u001B[38;5;28;01mif\u001B[39;00m \u001B[38;5;28mlen\u001B[39m(out) \u001B[38;5;241m<\u001B[39m \u001B[38;5;241m1\u001B[39m:\n\u001B[0;32m    863\u001B[0m     \u001B[38;5;28;01mraise\u001B[39;00m \u001B[38;5;167;01mValueError\u001B[39;00m(\n\u001B[0;32m    864\u001B[0m         \u001B[38;5;124m\"\u001B[39m\u001B[38;5;124mNo fits were performed. \u001B[39m\u001B[38;5;124m\"\u001B[39m\n\u001B[0;32m    865\u001B[0m         \u001B[38;5;124m\"\u001B[39m\u001B[38;5;124mWas the CV iterator empty? \u001B[39m\u001B[38;5;124m\"\u001B[39m\n\u001B[0;32m    866\u001B[0m         \u001B[38;5;124m\"\u001B[39m\u001B[38;5;124mWere there no candidates?\u001B[39m\u001B[38;5;124m\"\u001B[39m\n\u001B[0;32m    867\u001B[0m     )\n",
      "File \u001B[1;32m~\\AppData\\Local\\Programs\\Python\\Python311\\Lib\\site-packages\\sklearn\\utils\\parallel.py:65\u001B[0m, in \u001B[0;36mParallel.__call__\u001B[1;34m(self, iterable)\u001B[0m\n\u001B[0;32m     60\u001B[0m config \u001B[38;5;241m=\u001B[39m get_config()\n\u001B[0;32m     61\u001B[0m iterable_with_config \u001B[38;5;241m=\u001B[39m (\n\u001B[0;32m     62\u001B[0m     (_with_config(delayed_func, config), args, kwargs)\n\u001B[0;32m     63\u001B[0m     \u001B[38;5;28;01mfor\u001B[39;00m delayed_func, args, kwargs \u001B[38;5;129;01min\u001B[39;00m iterable\n\u001B[0;32m     64\u001B[0m )\n\u001B[1;32m---> 65\u001B[0m \u001B[38;5;28;01mreturn\u001B[39;00m \u001B[38;5;28;43msuper\u001B[39;49m\u001B[43m(\u001B[49m\u001B[43m)\u001B[49m\u001B[38;5;241;43m.\u001B[39;49m\u001B[38;5;21;43m__call__\u001B[39;49m\u001B[43m(\u001B[49m\u001B[43miterable_with_config\u001B[49m\u001B[43m)\u001B[49m\n",
      "File \u001B[1;32m~\\AppData\\Local\\Programs\\Python\\Python311\\Lib\\site-packages\\joblib\\parallel.py:1863\u001B[0m, in \u001B[0;36mParallel.__call__\u001B[1;34m(self, iterable)\u001B[0m\n\u001B[0;32m   1861\u001B[0m     output \u001B[38;5;241m=\u001B[39m \u001B[38;5;28mself\u001B[39m\u001B[38;5;241m.\u001B[39m_get_sequential_output(iterable)\n\u001B[0;32m   1862\u001B[0m     \u001B[38;5;28mnext\u001B[39m(output)\n\u001B[1;32m-> 1863\u001B[0m     \u001B[38;5;28;01mreturn\u001B[39;00m output \u001B[38;5;28;01mif\u001B[39;00m \u001B[38;5;28mself\u001B[39m\u001B[38;5;241m.\u001B[39mreturn_generator \u001B[38;5;28;01melse\u001B[39;00m \u001B[38;5;28;43mlist\u001B[39;49m\u001B[43m(\u001B[49m\u001B[43moutput\u001B[49m\u001B[43m)\u001B[49m\n\u001B[0;32m   1865\u001B[0m \u001B[38;5;66;03m# Let's create an ID that uniquely identifies the current call. If the\u001B[39;00m\n\u001B[0;32m   1866\u001B[0m \u001B[38;5;66;03m# call is interrupted early and that the same instance is immediately\u001B[39;00m\n\u001B[0;32m   1867\u001B[0m \u001B[38;5;66;03m# re-used, this id will be used to prevent workers that were\u001B[39;00m\n\u001B[0;32m   1868\u001B[0m \u001B[38;5;66;03m# concurrently finalizing a task from the previous call to run the\u001B[39;00m\n\u001B[0;32m   1869\u001B[0m \u001B[38;5;66;03m# callback.\u001B[39;00m\n\u001B[0;32m   1870\u001B[0m \u001B[38;5;28;01mwith\u001B[39;00m \u001B[38;5;28mself\u001B[39m\u001B[38;5;241m.\u001B[39m_lock:\n",
      "File \u001B[1;32m~\\AppData\\Local\\Programs\\Python\\Python311\\Lib\\site-packages\\joblib\\parallel.py:1792\u001B[0m, in \u001B[0;36mParallel._get_sequential_output\u001B[1;34m(self, iterable)\u001B[0m\n\u001B[0;32m   1790\u001B[0m \u001B[38;5;28mself\u001B[39m\u001B[38;5;241m.\u001B[39mn_dispatched_batches \u001B[38;5;241m+\u001B[39m\u001B[38;5;241m=\u001B[39m \u001B[38;5;241m1\u001B[39m\n\u001B[0;32m   1791\u001B[0m \u001B[38;5;28mself\u001B[39m\u001B[38;5;241m.\u001B[39mn_dispatched_tasks \u001B[38;5;241m+\u001B[39m\u001B[38;5;241m=\u001B[39m \u001B[38;5;241m1\u001B[39m\n\u001B[1;32m-> 1792\u001B[0m res \u001B[38;5;241m=\u001B[39m \u001B[43mfunc\u001B[49m\u001B[43m(\u001B[49m\u001B[38;5;241;43m*\u001B[39;49m\u001B[43margs\u001B[49m\u001B[43m,\u001B[49m\u001B[43m \u001B[49m\u001B[38;5;241;43m*\u001B[39;49m\u001B[38;5;241;43m*\u001B[39;49m\u001B[43mkwargs\u001B[49m\u001B[43m)\u001B[49m\n\u001B[0;32m   1793\u001B[0m \u001B[38;5;28mself\u001B[39m\u001B[38;5;241m.\u001B[39mn_completed_tasks \u001B[38;5;241m+\u001B[39m\u001B[38;5;241m=\u001B[39m \u001B[38;5;241m1\u001B[39m\n\u001B[0;32m   1794\u001B[0m \u001B[38;5;28mself\u001B[39m\u001B[38;5;241m.\u001B[39mprint_progress()\n",
      "File \u001B[1;32m~\\AppData\\Local\\Programs\\Python\\Python311\\Lib\\site-packages\\sklearn\\utils\\parallel.py:127\u001B[0m, in \u001B[0;36m_FuncWrapper.__call__\u001B[1;34m(self, *args, **kwargs)\u001B[0m\n\u001B[0;32m    125\u001B[0m     config \u001B[38;5;241m=\u001B[39m {}\n\u001B[0;32m    126\u001B[0m \u001B[38;5;28;01mwith\u001B[39;00m config_context(\u001B[38;5;241m*\u001B[39m\u001B[38;5;241m*\u001B[39mconfig):\n\u001B[1;32m--> 127\u001B[0m     \u001B[38;5;28;01mreturn\u001B[39;00m \u001B[38;5;28;43mself\u001B[39;49m\u001B[38;5;241;43m.\u001B[39;49m\u001B[43mfunction\u001B[49m\u001B[43m(\u001B[49m\u001B[38;5;241;43m*\u001B[39;49m\u001B[43margs\u001B[49m\u001B[43m,\u001B[49m\u001B[43m \u001B[49m\u001B[38;5;241;43m*\u001B[39;49m\u001B[38;5;241;43m*\u001B[39;49m\u001B[43mkwargs\u001B[49m\u001B[43m)\u001B[49m\n",
      "File \u001B[1;32m~\\AppData\\Local\\Programs\\Python\\Python311\\Lib\\site-packages\\sklearn\\model_selection\\_validation.py:729\u001B[0m, in \u001B[0;36m_fit_and_score\u001B[1;34m(estimator, X, y, scorer, train, test, verbose, parameters, fit_params, return_train_score, return_parameters, return_n_test_samples, return_times, return_estimator, split_progress, candidate_progress, error_score)\u001B[0m\n\u001B[0;32m    727\u001B[0m         estimator\u001B[38;5;241m.\u001B[39mfit(X_train, \u001B[38;5;241m*\u001B[39m\u001B[38;5;241m*\u001B[39mfit_params)\n\u001B[0;32m    728\u001B[0m     \u001B[38;5;28;01melse\u001B[39;00m:\n\u001B[1;32m--> 729\u001B[0m         \u001B[43mestimator\u001B[49m\u001B[38;5;241;43m.\u001B[39;49m\u001B[43mfit\u001B[49m\u001B[43m(\u001B[49m\u001B[43mX_train\u001B[49m\u001B[43m,\u001B[49m\u001B[43m \u001B[49m\u001B[43my_train\u001B[49m\u001B[43m,\u001B[49m\u001B[43m \u001B[49m\u001B[38;5;241;43m*\u001B[39;49m\u001B[38;5;241;43m*\u001B[39;49m\u001B[43mfit_params\u001B[49m\u001B[43m)\u001B[49m\n\u001B[0;32m    731\u001B[0m \u001B[38;5;28;01mexcept\u001B[39;00m \u001B[38;5;167;01mException\u001B[39;00m:\n\u001B[0;32m    732\u001B[0m     \u001B[38;5;66;03m# Note fit time as time until error\u001B[39;00m\n\u001B[0;32m    733\u001B[0m     fit_time \u001B[38;5;241m=\u001B[39m time\u001B[38;5;241m.\u001B[39mtime() \u001B[38;5;241m-\u001B[39m start_time\n",
      "File \u001B[1;32m~\\AppData\\Local\\Programs\\Python\\Python311\\Lib\\site-packages\\sklearn\\base.py:1152\u001B[0m, in \u001B[0;36m_fit_context.<locals>.decorator.<locals>.wrapper\u001B[1;34m(estimator, *args, **kwargs)\u001B[0m\n\u001B[0;32m   1145\u001B[0m     estimator\u001B[38;5;241m.\u001B[39m_validate_params()\n\u001B[0;32m   1147\u001B[0m \u001B[38;5;28;01mwith\u001B[39;00m config_context(\n\u001B[0;32m   1148\u001B[0m     skip_parameter_validation\u001B[38;5;241m=\u001B[39m(\n\u001B[0;32m   1149\u001B[0m         prefer_skip_nested_validation \u001B[38;5;129;01mor\u001B[39;00m global_skip_validation\n\u001B[0;32m   1150\u001B[0m     )\n\u001B[0;32m   1151\u001B[0m ):\n\u001B[1;32m-> 1152\u001B[0m     \u001B[38;5;28;01mreturn\u001B[39;00m \u001B[43mfit_method\u001B[49m\u001B[43m(\u001B[49m\u001B[43mestimator\u001B[49m\u001B[43m,\u001B[49m\u001B[43m \u001B[49m\u001B[38;5;241;43m*\u001B[39;49m\u001B[43margs\u001B[49m\u001B[43m,\u001B[49m\u001B[43m \u001B[49m\u001B[38;5;241;43m*\u001B[39;49m\u001B[38;5;241;43m*\u001B[39;49m\u001B[43mkwargs\u001B[49m\u001B[43m)\u001B[49m\n",
      "File \u001B[1;32m~\\AppData\\Local\\Programs\\Python\\Python311\\Lib\\site-packages\\sklearn\\ensemble\\_forest.py:456\u001B[0m, in \u001B[0;36mBaseForest.fit\u001B[1;34m(self, X, y, sample_weight)\u001B[0m\n\u001B[0;32m    445\u001B[0m trees \u001B[38;5;241m=\u001B[39m [\n\u001B[0;32m    446\u001B[0m     \u001B[38;5;28mself\u001B[39m\u001B[38;5;241m.\u001B[39m_make_estimator(append\u001B[38;5;241m=\u001B[39m\u001B[38;5;28;01mFalse\u001B[39;00m, random_state\u001B[38;5;241m=\u001B[39mrandom_state)\n\u001B[0;32m    447\u001B[0m     \u001B[38;5;28;01mfor\u001B[39;00m i \u001B[38;5;129;01min\u001B[39;00m \u001B[38;5;28mrange\u001B[39m(n_more_estimators)\n\u001B[0;32m    448\u001B[0m ]\n\u001B[0;32m    450\u001B[0m \u001B[38;5;66;03m# Parallel loop: we prefer the threading backend as the Cython code\u001B[39;00m\n\u001B[0;32m    451\u001B[0m \u001B[38;5;66;03m# for fitting the trees is internally releasing the Python GIL\u001B[39;00m\n\u001B[0;32m    452\u001B[0m \u001B[38;5;66;03m# making threading more efficient than multiprocessing in\u001B[39;00m\n\u001B[0;32m    453\u001B[0m \u001B[38;5;66;03m# that case. However, for joblib 0.12+ we respect any\u001B[39;00m\n\u001B[0;32m    454\u001B[0m \u001B[38;5;66;03m# parallel_backend contexts set at a higher level,\u001B[39;00m\n\u001B[0;32m    455\u001B[0m \u001B[38;5;66;03m# since correctness does not rely on using threads.\u001B[39;00m\n\u001B[1;32m--> 456\u001B[0m trees \u001B[38;5;241m=\u001B[39m \u001B[43mParallel\u001B[49m\u001B[43m(\u001B[49m\n\u001B[0;32m    457\u001B[0m \u001B[43m    \u001B[49m\u001B[43mn_jobs\u001B[49m\u001B[38;5;241;43m=\u001B[39;49m\u001B[38;5;28;43mself\u001B[39;49m\u001B[38;5;241;43m.\u001B[39;49m\u001B[43mn_jobs\u001B[49m\u001B[43m,\u001B[49m\n\u001B[0;32m    458\u001B[0m \u001B[43m    \u001B[49m\u001B[43mverbose\u001B[49m\u001B[38;5;241;43m=\u001B[39;49m\u001B[38;5;28;43mself\u001B[39;49m\u001B[38;5;241;43m.\u001B[39;49m\u001B[43mverbose\u001B[49m\u001B[43m,\u001B[49m\n\u001B[0;32m    459\u001B[0m \u001B[43m    \u001B[49m\u001B[43mprefer\u001B[49m\u001B[38;5;241;43m=\u001B[39;49m\u001B[38;5;124;43m\"\u001B[39;49m\u001B[38;5;124;43mthreads\u001B[39;49m\u001B[38;5;124;43m\"\u001B[39;49m\u001B[43m,\u001B[49m\n\u001B[0;32m    460\u001B[0m \u001B[43m\u001B[49m\u001B[43m)\u001B[49m\u001B[43m(\u001B[49m\n\u001B[0;32m    461\u001B[0m \u001B[43m    \u001B[49m\u001B[43mdelayed\u001B[49m\u001B[43m(\u001B[49m\u001B[43m_parallel_build_trees\u001B[49m\u001B[43m)\u001B[49m\u001B[43m(\u001B[49m\n\u001B[0;32m    462\u001B[0m \u001B[43m        \u001B[49m\u001B[43mt\u001B[49m\u001B[43m,\u001B[49m\n\u001B[0;32m    463\u001B[0m \u001B[43m        \u001B[49m\u001B[38;5;28;43mself\u001B[39;49m\u001B[38;5;241;43m.\u001B[39;49m\u001B[43mbootstrap\u001B[49m\u001B[43m,\u001B[49m\n\u001B[0;32m    464\u001B[0m \u001B[43m        \u001B[49m\u001B[43mX\u001B[49m\u001B[43m,\u001B[49m\n\u001B[0;32m    465\u001B[0m \u001B[43m        \u001B[49m\u001B[43my\u001B[49m\u001B[43m,\u001B[49m\n\u001B[0;32m    466\u001B[0m \u001B[43m        \u001B[49m\u001B[43msample_weight\u001B[49m\u001B[43m,\u001B[49m\n\u001B[0;32m    467\u001B[0m \u001B[43m        \u001B[49m\u001B[43mi\u001B[49m\u001B[43m,\u001B[49m\n\u001B[0;32m    468\u001B[0m \u001B[43m        \u001B[49m\u001B[38;5;28;43mlen\u001B[39;49m\u001B[43m(\u001B[49m\u001B[43mtrees\u001B[49m\u001B[43m)\u001B[49m\u001B[43m,\u001B[49m\n\u001B[0;32m    469\u001B[0m \u001B[43m        \u001B[49m\u001B[43mverbose\u001B[49m\u001B[38;5;241;43m=\u001B[39;49m\u001B[38;5;28;43mself\u001B[39;49m\u001B[38;5;241;43m.\u001B[39;49m\u001B[43mverbose\u001B[49m\u001B[43m,\u001B[49m\n\u001B[0;32m    470\u001B[0m \u001B[43m        \u001B[49m\u001B[43mclass_weight\u001B[49m\u001B[38;5;241;43m=\u001B[39;49m\u001B[38;5;28;43mself\u001B[39;49m\u001B[38;5;241;43m.\u001B[39;49m\u001B[43mclass_weight\u001B[49m\u001B[43m,\u001B[49m\n\u001B[0;32m    471\u001B[0m \u001B[43m        \u001B[49m\u001B[43mn_samples_bootstrap\u001B[49m\u001B[38;5;241;43m=\u001B[39;49m\u001B[43mn_samples_bootstrap\u001B[49m\u001B[43m,\u001B[49m\n\u001B[0;32m    472\u001B[0m \u001B[43m    \u001B[49m\u001B[43m)\u001B[49m\n\u001B[0;32m    473\u001B[0m \u001B[43m    \u001B[49m\u001B[38;5;28;43;01mfor\u001B[39;49;00m\u001B[43m \u001B[49m\u001B[43mi\u001B[49m\u001B[43m,\u001B[49m\u001B[43m \u001B[49m\u001B[43mt\u001B[49m\u001B[43m \u001B[49m\u001B[38;5;129;43;01min\u001B[39;49;00m\u001B[43m \u001B[49m\u001B[38;5;28;43menumerate\u001B[39;49m\u001B[43m(\u001B[49m\u001B[43mtrees\u001B[49m\u001B[43m)\u001B[49m\n\u001B[0;32m    474\u001B[0m \u001B[43m\u001B[49m\u001B[43m)\u001B[49m\n\u001B[0;32m    476\u001B[0m \u001B[38;5;66;03m# Collect newly grown trees\u001B[39;00m\n\u001B[0;32m    477\u001B[0m \u001B[38;5;28mself\u001B[39m\u001B[38;5;241m.\u001B[39mestimators_\u001B[38;5;241m.\u001B[39mextend(trees)\n",
      "File \u001B[1;32m~\\AppData\\Local\\Programs\\Python\\Python311\\Lib\\site-packages\\sklearn\\utils\\parallel.py:65\u001B[0m, in \u001B[0;36mParallel.__call__\u001B[1;34m(self, iterable)\u001B[0m\n\u001B[0;32m     60\u001B[0m config \u001B[38;5;241m=\u001B[39m get_config()\n\u001B[0;32m     61\u001B[0m iterable_with_config \u001B[38;5;241m=\u001B[39m (\n\u001B[0;32m     62\u001B[0m     (_with_config(delayed_func, config), args, kwargs)\n\u001B[0;32m     63\u001B[0m     \u001B[38;5;28;01mfor\u001B[39;00m delayed_func, args, kwargs \u001B[38;5;129;01min\u001B[39;00m iterable\n\u001B[0;32m     64\u001B[0m )\n\u001B[1;32m---> 65\u001B[0m \u001B[38;5;28;01mreturn\u001B[39;00m \u001B[38;5;28;43msuper\u001B[39;49m\u001B[43m(\u001B[49m\u001B[43m)\u001B[49m\u001B[38;5;241;43m.\u001B[39;49m\u001B[38;5;21;43m__call__\u001B[39;49m\u001B[43m(\u001B[49m\u001B[43miterable_with_config\u001B[49m\u001B[43m)\u001B[49m\n",
      "File \u001B[1;32m~\\AppData\\Local\\Programs\\Python\\Python311\\Lib\\site-packages\\joblib\\parallel.py:1863\u001B[0m, in \u001B[0;36mParallel.__call__\u001B[1;34m(self, iterable)\u001B[0m\n\u001B[0;32m   1861\u001B[0m     output \u001B[38;5;241m=\u001B[39m \u001B[38;5;28mself\u001B[39m\u001B[38;5;241m.\u001B[39m_get_sequential_output(iterable)\n\u001B[0;32m   1862\u001B[0m     \u001B[38;5;28mnext\u001B[39m(output)\n\u001B[1;32m-> 1863\u001B[0m     \u001B[38;5;28;01mreturn\u001B[39;00m output \u001B[38;5;28;01mif\u001B[39;00m \u001B[38;5;28mself\u001B[39m\u001B[38;5;241m.\u001B[39mreturn_generator \u001B[38;5;28;01melse\u001B[39;00m \u001B[38;5;28mlist\u001B[39m(output)\n\u001B[0;32m   1865\u001B[0m \u001B[38;5;66;03m# Let's create an ID that uniquely identifies the current call. If the\u001B[39;00m\n\u001B[0;32m   1866\u001B[0m \u001B[38;5;66;03m# call is interrupted early and that the same instance is immediately\u001B[39;00m\n\u001B[0;32m   1867\u001B[0m \u001B[38;5;66;03m# re-used, this id will be used to prevent workers that were\u001B[39;00m\n\u001B[0;32m   1868\u001B[0m \u001B[38;5;66;03m# concurrently finalizing a task from the previous call to run the\u001B[39;00m\n\u001B[0;32m   1869\u001B[0m \u001B[38;5;66;03m# callback.\u001B[39;00m\n\u001B[0;32m   1870\u001B[0m \u001B[38;5;28;01mwith\u001B[39;00m \u001B[38;5;28mself\u001B[39m\u001B[38;5;241m.\u001B[39m_lock:\n",
      "File \u001B[1;32m~\\AppData\\Local\\Programs\\Python\\Python311\\Lib\\site-packages\\joblib\\parallel.py:1792\u001B[0m, in \u001B[0;36mParallel._get_sequential_output\u001B[1;34m(self, iterable)\u001B[0m\n\u001B[0;32m   1790\u001B[0m \u001B[38;5;28mself\u001B[39m\u001B[38;5;241m.\u001B[39mn_dispatched_batches \u001B[38;5;241m+\u001B[39m\u001B[38;5;241m=\u001B[39m \u001B[38;5;241m1\u001B[39m\n\u001B[0;32m   1791\u001B[0m \u001B[38;5;28mself\u001B[39m\u001B[38;5;241m.\u001B[39mn_dispatched_tasks \u001B[38;5;241m+\u001B[39m\u001B[38;5;241m=\u001B[39m \u001B[38;5;241m1\u001B[39m\n\u001B[1;32m-> 1792\u001B[0m res \u001B[38;5;241m=\u001B[39m \u001B[43mfunc\u001B[49m\u001B[43m(\u001B[49m\u001B[38;5;241;43m*\u001B[39;49m\u001B[43margs\u001B[49m\u001B[43m,\u001B[49m\u001B[43m \u001B[49m\u001B[38;5;241;43m*\u001B[39;49m\u001B[38;5;241;43m*\u001B[39;49m\u001B[43mkwargs\u001B[49m\u001B[43m)\u001B[49m\n\u001B[0;32m   1793\u001B[0m \u001B[38;5;28mself\u001B[39m\u001B[38;5;241m.\u001B[39mn_completed_tasks \u001B[38;5;241m+\u001B[39m\u001B[38;5;241m=\u001B[39m \u001B[38;5;241m1\u001B[39m\n\u001B[0;32m   1794\u001B[0m \u001B[38;5;28mself\u001B[39m\u001B[38;5;241m.\u001B[39mprint_progress()\n",
      "File \u001B[1;32m~\\AppData\\Local\\Programs\\Python\\Python311\\Lib\\site-packages\\sklearn\\utils\\parallel.py:127\u001B[0m, in \u001B[0;36m_FuncWrapper.__call__\u001B[1;34m(self, *args, **kwargs)\u001B[0m\n\u001B[0;32m    125\u001B[0m     config \u001B[38;5;241m=\u001B[39m {}\n\u001B[0;32m    126\u001B[0m \u001B[38;5;28;01mwith\u001B[39;00m config_context(\u001B[38;5;241m*\u001B[39m\u001B[38;5;241m*\u001B[39mconfig):\n\u001B[1;32m--> 127\u001B[0m     \u001B[38;5;28;01mreturn\u001B[39;00m \u001B[38;5;28;43mself\u001B[39;49m\u001B[38;5;241;43m.\u001B[39;49m\u001B[43mfunction\u001B[49m\u001B[43m(\u001B[49m\u001B[38;5;241;43m*\u001B[39;49m\u001B[43margs\u001B[49m\u001B[43m,\u001B[49m\u001B[43m \u001B[49m\u001B[38;5;241;43m*\u001B[39;49m\u001B[38;5;241;43m*\u001B[39;49m\u001B[43mkwargs\u001B[49m\u001B[43m)\u001B[49m\n",
      "File \u001B[1;32m~\\AppData\\Local\\Programs\\Python\\Python311\\Lib\\site-packages\\sklearn\\ensemble\\_forest.py:188\u001B[0m, in \u001B[0;36m_parallel_build_trees\u001B[1;34m(tree, bootstrap, X, y, sample_weight, tree_idx, n_trees, verbose, class_weight, n_samples_bootstrap)\u001B[0m\n\u001B[0;32m    185\u001B[0m     \u001B[38;5;28;01melif\u001B[39;00m class_weight \u001B[38;5;241m==\u001B[39m \u001B[38;5;124m\"\u001B[39m\u001B[38;5;124mbalanced_subsample\u001B[39m\u001B[38;5;124m\"\u001B[39m:\n\u001B[0;32m    186\u001B[0m         curr_sample_weight \u001B[38;5;241m*\u001B[39m\u001B[38;5;241m=\u001B[39m compute_sample_weight(\u001B[38;5;124m\"\u001B[39m\u001B[38;5;124mbalanced\u001B[39m\u001B[38;5;124m\"\u001B[39m, y, indices\u001B[38;5;241m=\u001B[39mindices)\n\u001B[1;32m--> 188\u001B[0m     \u001B[43mtree\u001B[49m\u001B[38;5;241;43m.\u001B[39;49m\u001B[43mfit\u001B[49m\u001B[43m(\u001B[49m\u001B[43mX\u001B[49m\u001B[43m,\u001B[49m\u001B[43m \u001B[49m\u001B[43my\u001B[49m\u001B[43m,\u001B[49m\u001B[43m \u001B[49m\u001B[43msample_weight\u001B[49m\u001B[38;5;241;43m=\u001B[39;49m\u001B[43mcurr_sample_weight\u001B[49m\u001B[43m,\u001B[49m\u001B[43m \u001B[49m\u001B[43mcheck_input\u001B[49m\u001B[38;5;241;43m=\u001B[39;49m\u001B[38;5;28;43;01mFalse\u001B[39;49;00m\u001B[43m)\u001B[49m\n\u001B[0;32m    189\u001B[0m \u001B[38;5;28;01melse\u001B[39;00m:\n\u001B[0;32m    190\u001B[0m     tree\u001B[38;5;241m.\u001B[39mfit(X, y, sample_weight\u001B[38;5;241m=\u001B[39msample_weight, check_input\u001B[38;5;241m=\u001B[39m\u001B[38;5;28;01mFalse\u001B[39;00m)\n",
      "File \u001B[1;32m~\\AppData\\Local\\Programs\\Python\\Python311\\Lib\\site-packages\\sklearn\\base.py:1152\u001B[0m, in \u001B[0;36m_fit_context.<locals>.decorator.<locals>.wrapper\u001B[1;34m(estimator, *args, **kwargs)\u001B[0m\n\u001B[0;32m   1145\u001B[0m     estimator\u001B[38;5;241m.\u001B[39m_validate_params()\n\u001B[0;32m   1147\u001B[0m \u001B[38;5;28;01mwith\u001B[39;00m config_context(\n\u001B[0;32m   1148\u001B[0m     skip_parameter_validation\u001B[38;5;241m=\u001B[39m(\n\u001B[0;32m   1149\u001B[0m         prefer_skip_nested_validation \u001B[38;5;129;01mor\u001B[39;00m global_skip_validation\n\u001B[0;32m   1150\u001B[0m     )\n\u001B[0;32m   1151\u001B[0m ):\n\u001B[1;32m-> 1152\u001B[0m     \u001B[38;5;28;01mreturn\u001B[39;00m \u001B[43mfit_method\u001B[49m\u001B[43m(\u001B[49m\u001B[43mestimator\u001B[49m\u001B[43m,\u001B[49m\u001B[43m \u001B[49m\u001B[38;5;241;43m*\u001B[39;49m\u001B[43margs\u001B[49m\u001B[43m,\u001B[49m\u001B[43m \u001B[49m\u001B[38;5;241;43m*\u001B[39;49m\u001B[38;5;241;43m*\u001B[39;49m\u001B[43mkwargs\u001B[49m\u001B[43m)\u001B[49m\n",
      "File \u001B[1;32m~\\AppData\\Local\\Programs\\Python\\Python311\\Lib\\site-packages\\sklearn\\tree\\_classes.py:1320\u001B[0m, in \u001B[0;36mDecisionTreeRegressor.fit\u001B[1;34m(self, X, y, sample_weight, check_input)\u001B[0m\n\u001B[0;32m   1290\u001B[0m \u001B[38;5;129m@_fit_context\u001B[39m(prefer_skip_nested_validation\u001B[38;5;241m=\u001B[39m\u001B[38;5;28;01mTrue\u001B[39;00m)\n\u001B[0;32m   1291\u001B[0m \u001B[38;5;28;01mdef\u001B[39;00m \u001B[38;5;21mfit\u001B[39m(\u001B[38;5;28mself\u001B[39m, X, y, sample_weight\u001B[38;5;241m=\u001B[39m\u001B[38;5;28;01mNone\u001B[39;00m, check_input\u001B[38;5;241m=\u001B[39m\u001B[38;5;28;01mTrue\u001B[39;00m):\n\u001B[0;32m   1292\u001B[0m \u001B[38;5;250m    \u001B[39m\u001B[38;5;124;03m\"\"\"Build a decision tree regressor from the training set (X, y).\u001B[39;00m\n\u001B[0;32m   1293\u001B[0m \n\u001B[0;32m   1294\u001B[0m \u001B[38;5;124;03m    Parameters\u001B[39;00m\n\u001B[1;32m   (...)\u001B[0m\n\u001B[0;32m   1317\u001B[0m \u001B[38;5;124;03m        Fitted estimator.\u001B[39;00m\n\u001B[0;32m   1318\u001B[0m \u001B[38;5;124;03m    \"\"\"\u001B[39;00m\n\u001B[1;32m-> 1320\u001B[0m     \u001B[38;5;28;43msuper\u001B[39;49m\u001B[43m(\u001B[49m\u001B[43m)\u001B[49m\u001B[38;5;241;43m.\u001B[39;49m\u001B[43m_fit\u001B[49m\u001B[43m(\u001B[49m\n\u001B[0;32m   1321\u001B[0m \u001B[43m        \u001B[49m\u001B[43mX\u001B[49m\u001B[43m,\u001B[49m\n\u001B[0;32m   1322\u001B[0m \u001B[43m        \u001B[49m\u001B[43my\u001B[49m\u001B[43m,\u001B[49m\n\u001B[0;32m   1323\u001B[0m \u001B[43m        \u001B[49m\u001B[43msample_weight\u001B[49m\u001B[38;5;241;43m=\u001B[39;49m\u001B[43msample_weight\u001B[49m\u001B[43m,\u001B[49m\n\u001B[0;32m   1324\u001B[0m \u001B[43m        \u001B[49m\u001B[43mcheck_input\u001B[49m\u001B[38;5;241;43m=\u001B[39;49m\u001B[43mcheck_input\u001B[49m\u001B[43m,\u001B[49m\n\u001B[0;32m   1325\u001B[0m \u001B[43m    \u001B[49m\u001B[43m)\u001B[49m\n\u001B[0;32m   1326\u001B[0m     \u001B[38;5;28;01mreturn\u001B[39;00m \u001B[38;5;28mself\u001B[39m\n",
      "File \u001B[1;32m~\\AppData\\Local\\Programs\\Python\\Python311\\Lib\\site-packages\\sklearn\\tree\\_classes.py:443\u001B[0m, in \u001B[0;36mBaseDecisionTree._fit\u001B[1;34m(self, X, y, sample_weight, check_input, missing_values_in_feature_mask)\u001B[0m\n\u001B[0;32m    432\u001B[0m \u001B[38;5;28;01melse\u001B[39;00m:\n\u001B[0;32m    433\u001B[0m     builder \u001B[38;5;241m=\u001B[39m BestFirstTreeBuilder(\n\u001B[0;32m    434\u001B[0m         splitter,\n\u001B[0;32m    435\u001B[0m         min_samples_split,\n\u001B[1;32m   (...)\u001B[0m\n\u001B[0;32m    440\u001B[0m         \u001B[38;5;28mself\u001B[39m\u001B[38;5;241m.\u001B[39mmin_impurity_decrease,\n\u001B[0;32m    441\u001B[0m     )\n\u001B[1;32m--> 443\u001B[0m \u001B[43mbuilder\u001B[49m\u001B[38;5;241;43m.\u001B[39;49m\u001B[43mbuild\u001B[49m\u001B[43m(\u001B[49m\u001B[38;5;28;43mself\u001B[39;49m\u001B[38;5;241;43m.\u001B[39;49m\u001B[43mtree_\u001B[49m\u001B[43m,\u001B[49m\u001B[43m \u001B[49m\u001B[43mX\u001B[49m\u001B[43m,\u001B[49m\u001B[43m \u001B[49m\u001B[43my\u001B[49m\u001B[43m,\u001B[49m\u001B[43m \u001B[49m\u001B[43msample_weight\u001B[49m\u001B[43m,\u001B[49m\u001B[43m \u001B[49m\u001B[43mmissing_values_in_feature_mask\u001B[49m\u001B[43m)\u001B[49m\n\u001B[0;32m    445\u001B[0m \u001B[38;5;28;01mif\u001B[39;00m \u001B[38;5;28mself\u001B[39m\u001B[38;5;241m.\u001B[39mn_outputs_ \u001B[38;5;241m==\u001B[39m \u001B[38;5;241m1\u001B[39m \u001B[38;5;129;01mand\u001B[39;00m is_classifier(\u001B[38;5;28mself\u001B[39m):\n\u001B[0;32m    446\u001B[0m     \u001B[38;5;28mself\u001B[39m\u001B[38;5;241m.\u001B[39mn_classes_ \u001B[38;5;241m=\u001B[39m \u001B[38;5;28mself\u001B[39m\u001B[38;5;241m.\u001B[39mn_classes_[\u001B[38;5;241m0\u001B[39m]\n",
      "\u001B[1;31mKeyboardInterrupt\u001B[0m: "
     ]
    }
   ],
   "source": [
    "rf_param_grid = {'n_estimators': [100, 300, 500], 'max_depth': [None, 10, 20], 'min_samples_split': [2, 5, 10]}\n",
    "rf_model = RandomForestRegressor(random_state=42)\n",
    "rf_grid_search = GridSearchCV(estimator=rf_model, param_grid=rf_param_grid, scoring='neg_mean_squared_error', cv=5)\n",
    "rf_grid_search.fit(x_train_scaled, y_train)\n",
    "best_rf_params = rf_grid_search.best_params_"
   ],
   "metadata": {
    "collapsed": false,
    "ExecuteTime": {
     "end_time": "2023-11-24T16:00:16.476083200Z",
     "start_time": "2023-11-24T15:57:49.400440700Z"
    }
   }
  },
  {
   "cell_type": "markdown",
   "source": [
    "### 11.2 Gradient Boosting\n"
   ],
   "metadata": {
    "collapsed": false
   }
  },
  {
   "cell_type": "code",
   "execution_count": 36,
   "outputs": [],
   "source": [
    "gb_param_grid = {'n_estimators': [100, 300, 500], 'max_depth': [3, 5, 7], 'learning_rate': [0.01, 0.1, 0.2]}\n",
    "gb_model = GradientBoostingRegressor(random_state=42)\n",
    "gb_grid_search = GridSearchCV(estimator=gb_model, param_grid=gb_param_grid, scoring='neg_mean_squared_error', cv=5)\n",
    "gb_grid_search.fit(x_train_scaled, y_train)\n",
    "best_gb_params = gb_grid_search.best_params_"
   ],
   "metadata": {
    "collapsed": false,
    "ExecuteTime": {
     "end_time": "2023-11-19T16:52:58.294318400Z",
     "start_time": "2023-11-19T16:36:54.274295900Z"
    }
   }
  },
  {
   "cell_type": "markdown",
   "source": [
    "\n",
    "### Initialization the models"
   ],
   "metadata": {
    "collapsed": false
   }
  },
  {
   "cell_type": "code",
   "execution_count": 37,
   "outputs": [],
   "source": [
    "random_forest_model = RandomForestRegressor(**best_rf_params, random_state=42)\n",
    "gradient_boosting_model = GradientBoostingRegressor(**best_gb_params, random_state=42)\n",
    "linear_regression_model = LinearRegression()"
   ],
   "metadata": {
    "collapsed": false,
    "ExecuteTime": {
     "end_time": "2023-11-19T17:00:26.264980Z",
     "start_time": "2023-11-19T17:00:26.170434500Z"
    }
   }
  },
  {
   "cell_type": "markdown",
   "source": [
    "### Training"
   ],
   "metadata": {
    "collapsed": false
   }
  },
  {
   "cell_type": "code",
   "execution_count": 38,
   "outputs": [
    {
     "data": {
      "text/plain": "LinearRegression()",
      "text/html": "<style>#sk-container-id-1 {color: black;}#sk-container-id-1 pre{padding: 0;}#sk-container-id-1 div.sk-toggleable {background-color: white;}#sk-container-id-1 label.sk-toggleable__label {cursor: pointer;display: block;width: 100%;margin-bottom: 0;padding: 0.3em;box-sizing: border-box;text-align: center;}#sk-container-id-1 label.sk-toggleable__label-arrow:before {content: \"▸\";float: left;margin-right: 0.25em;color: #696969;}#sk-container-id-1 label.sk-toggleable__label-arrow:hover:before {color: black;}#sk-container-id-1 div.sk-estimator:hover label.sk-toggleable__label-arrow:before {color: black;}#sk-container-id-1 div.sk-toggleable__content {max-height: 0;max-width: 0;overflow: hidden;text-align: left;background-color: #f0f8ff;}#sk-container-id-1 div.sk-toggleable__content pre {margin: 0.2em;color: black;border-radius: 0.25em;background-color: #f0f8ff;}#sk-container-id-1 input.sk-toggleable__control:checked~div.sk-toggleable__content {max-height: 200px;max-width: 100%;overflow: auto;}#sk-container-id-1 input.sk-toggleable__control:checked~label.sk-toggleable__label-arrow:before {content: \"▾\";}#sk-container-id-1 div.sk-estimator input.sk-toggleable__control:checked~label.sk-toggleable__label {background-color: #d4ebff;}#sk-container-id-1 div.sk-label input.sk-toggleable__control:checked~label.sk-toggleable__label {background-color: #d4ebff;}#sk-container-id-1 input.sk-hidden--visually {border: 0;clip: rect(1px 1px 1px 1px);clip: rect(1px, 1px, 1px, 1px);height: 1px;margin: -1px;overflow: hidden;padding: 0;position: absolute;width: 1px;}#sk-container-id-1 div.sk-estimator {font-family: monospace;background-color: #f0f8ff;border: 1px dotted black;border-radius: 0.25em;box-sizing: border-box;margin-bottom: 0.5em;}#sk-container-id-1 div.sk-estimator:hover {background-color: #d4ebff;}#sk-container-id-1 div.sk-parallel-item::after {content: \"\";width: 100%;border-bottom: 1px solid gray;flex-grow: 1;}#sk-container-id-1 div.sk-label:hover label.sk-toggleable__label {background-color: #d4ebff;}#sk-container-id-1 div.sk-serial::before {content: \"\";position: absolute;border-left: 1px solid gray;box-sizing: border-box;top: 0;bottom: 0;left: 50%;z-index: 0;}#sk-container-id-1 div.sk-serial {display: flex;flex-direction: column;align-items: center;background-color: white;padding-right: 0.2em;padding-left: 0.2em;position: relative;}#sk-container-id-1 div.sk-item {position: relative;z-index: 1;}#sk-container-id-1 div.sk-parallel {display: flex;align-items: stretch;justify-content: center;background-color: white;position: relative;}#sk-container-id-1 div.sk-item::before, #sk-container-id-1 div.sk-parallel-item::before {content: \"\";position: absolute;border-left: 1px solid gray;box-sizing: border-box;top: 0;bottom: 0;left: 50%;z-index: -1;}#sk-container-id-1 div.sk-parallel-item {display: flex;flex-direction: column;z-index: 1;position: relative;background-color: white;}#sk-container-id-1 div.sk-parallel-item:first-child::after {align-self: flex-end;width: 50%;}#sk-container-id-1 div.sk-parallel-item:last-child::after {align-self: flex-start;width: 50%;}#sk-container-id-1 div.sk-parallel-item:only-child::after {width: 0;}#sk-container-id-1 div.sk-dashed-wrapped {border: 1px dashed gray;margin: 0 0.4em 0.5em 0.4em;box-sizing: border-box;padding-bottom: 0.4em;background-color: white;}#sk-container-id-1 div.sk-label label {font-family: monospace;font-weight: bold;display: inline-block;line-height: 1.2em;}#sk-container-id-1 div.sk-label-container {text-align: center;}#sk-container-id-1 div.sk-container {/* jupyter's `normalize.less` sets `[hidden] { display: none; }` but bootstrap.min.css set `[hidden] { display: none !important; }` so we also need the `!important` here to be able to override the default hidden behavior on the sphinx rendered scikit-learn.org. See: https://github.com/scikit-learn/scikit-learn/issues/21755 */display: inline-block !important;position: relative;}#sk-container-id-1 div.sk-text-repr-fallback {display: none;}</style><div id=\"sk-container-id-1\" class=\"sk-top-container\"><div class=\"sk-text-repr-fallback\"><pre>LinearRegression()</pre><b>In a Jupyter environment, please rerun this cell to show the HTML representation or trust the notebook. <br />On GitHub, the HTML representation is unable to render, please try loading this page with nbviewer.org.</b></div><div class=\"sk-container\" hidden><div class=\"sk-item\"><div class=\"sk-estimator sk-toggleable\"><input class=\"sk-toggleable__control sk-hidden--visually\" id=\"sk-estimator-id-1\" type=\"checkbox\" checked><label for=\"sk-estimator-id-1\" class=\"sk-toggleable__label sk-toggleable__label-arrow\">LinearRegression</label><div class=\"sk-toggleable__content\"><pre>LinearRegression()</pre></div></div></div></div></div>"
     },
     "execution_count": 38,
     "metadata": {},
     "output_type": "execute_result"
    }
   ],
   "source": [
    "random_forest_model.fit(x_train_scaled, y_train)\n",
    "gradient_boosting_model.fit(x_train_scaled, y_train)\n",
    "linear_regression_model.fit(x_train_scaled, y_train)"
   ],
   "metadata": {
    "collapsed": false,
    "ExecuteTime": {
     "end_time": "2023-11-19T17:01:12.559660500Z",
     "start_time": "2023-11-19T17:00:28.412335200Z"
    }
   }
  },
  {
   "cell_type": "markdown",
   "source": [
    "### Predictions"
   ],
   "metadata": {
    "collapsed": false
   }
  },
  {
   "cell_type": "code",
   "execution_count": 39,
   "outputs": [],
   "source": [
    "rforest_predictions = random_forest_model.predict(x_test_scaled)\n",
    "linreg_predictions = linear_regression_model.predict(x_test_scaled)\n",
    "gradboost_predictions = gradient_boosting_model.predict(x_test_scaled)"
   ],
   "metadata": {
    "collapsed": false,
    "ExecuteTime": {
     "end_time": "2023-11-19T17:04:51.325711300Z",
     "start_time": "2023-11-19T17:04:50.357239400Z"
    }
   }
  },
  {
   "cell_type": "code",
   "execution_count": 40,
   "outputs": [],
   "source": [
    "rf_mse = mean_squared_error(y_test, rforest_predictions)\n",
    "lr_mse = mean_squared_error(y_test, linreg_predictions)\n",
    "gb_mse = mean_squared_error(y_test, gradboost_predictions)"
   ],
   "metadata": {
    "collapsed": false,
    "ExecuteTime": {
     "end_time": "2023-11-19T17:04:52.492504300Z",
     "start_time": "2023-11-19T17:04:52.408257100Z"
    }
   }
  },
  {
   "cell_type": "code",
   "execution_count": 41,
   "outputs": [],
   "source": [
    "rf_r2 = r2_score(y_test, rforest_predictions)\n",
    "lr_r2 = r2_score(y_test, linreg_predictions)\n",
    "gb_r2 = r2_score(y_test, gradboost_predictions)"
   ],
   "metadata": {
    "collapsed": false,
    "ExecuteTime": {
     "end_time": "2023-11-19T17:04:53.610266700Z",
     "start_time": "2023-11-19T17:04:53.472258200Z"
    }
   }
  },
  {
   "cell_type": "code",
   "execution_count": 42,
   "outputs": [],
   "source": [
    "results = pd.DataFrame({\n",
    "    'Model': ['Random Forest', 'Linear Regression', 'Gradient Boosting'],\n",
    "    'MSE': [rf_mse, lr_mse, gb_mse],\n",
    "    'R-squared': [rf_r2, lr_r2, gb_r2]\n",
    "})"
   ],
   "metadata": {
    "collapsed": false,
    "ExecuteTime": {
     "end_time": "2023-11-19T17:04:54.824814700Z",
     "start_time": "2023-11-19T17:04:54.740445400Z"
    }
   }
  },
  {
   "cell_type": "code",
   "execution_count": 44,
   "outputs": [
    {
     "data": {
      "text/plain": "               Model           MSE  R-squared\n0      Random Forest  6.944880e+07   0.940838\n1  Linear Regression  6.204842e+08   0.471422\n2  Gradient Boosting  7.077495e+07   0.939708",
      "text/html": "<div>\n<style scoped>\n    .dataframe tbody tr th:only-of-type {\n        vertical-align: middle;\n    }\n\n    .dataframe tbody tr th {\n        vertical-align: top;\n    }\n\n    .dataframe thead th {\n        text-align: right;\n    }\n</style>\n<table border=\"1\" class=\"dataframe\">\n  <thead>\n    <tr style=\"text-align: right;\">\n      <th></th>\n      <th>Model</th>\n      <th>MSE</th>\n      <th>R-squared</th>\n    </tr>\n  </thead>\n  <tbody>\n    <tr>\n      <th>0</th>\n      <td>Random Forest</td>\n      <td>6.944880e+07</td>\n      <td>0.940838</td>\n    </tr>\n    <tr>\n      <th>1</th>\n      <td>Linear Regression</td>\n      <td>6.204842e+08</td>\n      <td>0.471422</td>\n    </tr>\n    <tr>\n      <th>2</th>\n      <td>Gradient Boosting</td>\n      <td>7.077495e+07</td>\n      <td>0.939708</td>\n    </tr>\n  </tbody>\n</table>\n</div>"
     },
     "execution_count": 44,
     "metadata": {},
     "output_type": "execute_result"
    }
   ],
   "source": [
    "results"
   ],
   "metadata": {
    "collapsed": false,
    "ExecuteTime": {
     "end_time": "2023-11-19T17:44:11.582977200Z",
     "start_time": "2023-11-19T17:44:11.476555900Z"
    }
   }
  },
  {
   "cell_type": "markdown",
   "source": [
    "### 11. Conclusion / Answer Question"
   ],
   "metadata": {
    "collapsed": false
   }
  },
  {
   "cell_type": "markdown",
   "source": [],
   "metadata": {
    "collapsed": false
   }
  }
 ],
 "metadata": {
  "colab": {
   "include_colab_link": true,
   "provenance": []
  },
  "kernelspec": {
   "display_name": "Python 3 (ipykernel)",
   "language": "python",
   "name": "python3"
  },
  "language_info": {
   "codemirror_mode": {
    "name": "ipython",
    "version": 3
   },
   "file_extension": ".py",
   "mimetype": "text/x-python",
   "name": "python",
   "nbconvert_exporter": "python",
   "pygments_lexer": "ipython3",
   "version": "3.11.2"
  }
 },
 "nbformat": 4,
 "nbformat_minor": 4
}
