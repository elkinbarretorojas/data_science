{
 "cells": [
  {
   "cell_type": "markdown",
   "source": [
    "# Energy Dataset."
   ],
   "metadata": {
    "collapsed": false
   }
  },
  {
   "cell_type": "markdown",
   "source": [
    "## 1. Importing the required libraries for EDA"
   ],
   "metadata": {
    "collapsed": false
   }
  },
  {
   "cell_type": "markdown",
   "source": [
    "Preprocessing \n",
    "\n",
    "1. Check Error \n",
    "2. Data Impute (Missing Values) \n",
    "3. Encoding \n",
    "4. Normalization \n",
    "5. Model Training \n",
    "6. Model Test "
   ],
   "metadata": {
    "collapsed": false
   }
  },
  {
   "cell_type": "markdown",
   "metadata": {
    "id": "9eLMx1Ebwa92"
   },
   "source": [
    "Below are the libraries that are used IN THE MODEL"
   ]
  },
  {
   "cell_type": "code",
   "execution_count": 4,
   "metadata": {
    "id": "GGyDovL2QDLa",
    "ExecuteTime": {
     "end_time": "2023-10-27T16:07:15.926736200Z",
     "start_time": "2023-10-27T16:07:13.180627700Z"
    }
   },
   "outputs": [],
   "source": [
    "import pandas as pd\n",
    "import numpy as np\n",
    "import seaborn as sns                       #visualisation\n",
    "import matplotlib.pyplot as plt             #visualisation\n",
    "import math\n",
    "import stats\n",
    "import warnings\n",
    "from sklearn.linear_model import LinearRegression\n",
    "warnings.filterwarnings('ignore')"
   ]
  },
  {
   "cell_type": "markdown",
   "metadata": {
    "id": "8Y3Z2DbKTfJt"
   },
   "source": [
    "## 2. Loading the data into the data frame."
   ]
  },
  {
   "cell_type": "code",
   "execution_count": 12,
   "metadata": {
    "colab": {
     "base_uri": "https://localhost:8080/",
     "height": 430
    },
    "id": "0oVZnezwQ159",
    "outputId": "f1e0fe18-8fa0-482a-e2b9-2ecd87d97d9d",
    "ExecuteTime": {
     "end_time": "2023-10-27T16:07:44.756346100Z",
     "start_time": "2023-10-27T16:07:44.572657Z"
    }
   },
   "outputs": [
    {
     "data": {
      "text/plain": "        Entity  Year  Access to electricity (% of population)  \\\n0  Afghanistan  2000                                 1.613591   \n1  Afghanistan  2001                                 4.074574   \n2  Afghanistan  2002                                 9.409158   \n3  Afghanistan  2003                                14.738506   \n4  Afghanistan  2004                                20.064968   \n\n   Access to clean fuels for cooking  \\\n0                                6.2   \n1                                7.2   \n2                                8.2   \n3                                9.5   \n4                               10.9   \n\n   Renewable-electricity-generating-capacity-per-capita  \\\n0                                               9.22      \n1                                               8.86      \n2                                               8.47      \n3                                               8.09      \n4                                               7.75      \n\n   Financial flows to developing countries (US $)  \\\n0                                         20000.0   \n1                                        130000.0   \n2                                       3950000.0   \n3                                      25970000.0   \n4                                             NaN   \n\n   Renewable energy share in the total final energy consumption (%)  \\\n0                                              44.99                  \n1                                              45.60                  \n2                                              37.83                  \n3                                              36.66                  \n4                                              44.24                  \n\n   Electricity from fossil fuels (TWh)  Electricity from nuclear (TWh)  \\\n0                                 0.16                             0.0   \n1                                 0.09                             0.0   \n2                                 0.13                             0.0   \n3                                 0.31                             0.0   \n4                                 0.33                             0.0   \n\n   Electricity from renewables (TWh)  ...  \\\n0                               0.31  ...   \n1                               0.50  ...   \n2                               0.56  ...   \n3                               0.63  ...   \n4                               0.56  ...   \n\n   Primary energy consumption per capita (kWh/person)  \\\n0                                          302.59482    \n1                                          236.89185    \n2                                          210.86215    \n3                                          229.96822    \n4                                          204.23125    \n\n   Energy intensity level of primary energy (MJ/$2017 PPP GDP)  \\\n0                                               1.64             \n1                                               1.74             \n2                                               1.40             \n3                                               1.40             \n4                                               1.20             \n\n   Value_co2_emissions_kt_by_country  \\\n0                         760.000000   \n1                         730.000000   \n2                        1029.999971   \n3                        1220.000029   \n4                        1029.999971   \n\n   Renewables (% equivalent primary energy)  gdp_growth  gdp_per_capita  \\\n0                                       NaN         NaN             NaN   \n1                                       NaN         NaN             NaN   \n2                                       NaN         NaN      179.426579   \n3                                       NaN    8.832278      190.683814   \n4                                       NaN    1.414118      211.382074   \n\n   Density\\n(P/Km2) Land Area(Km2)  Latitude  Longitude  \n0                60       6,52,230  33.93911  67.709953  \n1                60       6,52,230  33.93911  67.709953  \n2                60       6,52,230  33.93911  67.709953  \n3                60       6,52,230  33.93911  67.709953  \n4                60       6,52,230  33.93911  67.709953  \n\n[5 rows x 21 columns]",
      "text/html": "<div>\n<style scoped>\n    .dataframe tbody tr th:only-of-type {\n        vertical-align: middle;\n    }\n\n    .dataframe tbody tr th {\n        vertical-align: top;\n    }\n\n    .dataframe thead th {\n        text-align: right;\n    }\n</style>\n<table border=\"1\" class=\"dataframe\">\n  <thead>\n    <tr style=\"text-align: right;\">\n      <th></th>\n      <th>Entity</th>\n      <th>Year</th>\n      <th>Access to electricity (% of population)</th>\n      <th>Access to clean fuels for cooking</th>\n      <th>Renewable-electricity-generating-capacity-per-capita</th>\n      <th>Financial flows to developing countries (US $)</th>\n      <th>Renewable energy share in the total final energy consumption (%)</th>\n      <th>Electricity from fossil fuels (TWh)</th>\n      <th>Electricity from nuclear (TWh)</th>\n      <th>Electricity from renewables (TWh)</th>\n      <th>...</th>\n      <th>Primary energy consumption per capita (kWh/person)</th>\n      <th>Energy intensity level of primary energy (MJ/$2017 PPP GDP)</th>\n      <th>Value_co2_emissions_kt_by_country</th>\n      <th>Renewables (% equivalent primary energy)</th>\n      <th>gdp_growth</th>\n      <th>gdp_per_capita</th>\n      <th>Density\\n(P/Km2)</th>\n      <th>Land Area(Km2)</th>\n      <th>Latitude</th>\n      <th>Longitude</th>\n    </tr>\n  </thead>\n  <tbody>\n    <tr>\n      <th>0</th>\n      <td>Afghanistan</td>\n      <td>2000</td>\n      <td>1.613591</td>\n      <td>6.2</td>\n      <td>9.22</td>\n      <td>20000.0</td>\n      <td>44.99</td>\n      <td>0.16</td>\n      <td>0.0</td>\n      <td>0.31</td>\n      <td>...</td>\n      <td>302.59482</td>\n      <td>1.64</td>\n      <td>760.000000</td>\n      <td>NaN</td>\n      <td>NaN</td>\n      <td>NaN</td>\n      <td>60</td>\n      <td>6,52,230</td>\n      <td>33.93911</td>\n      <td>67.709953</td>\n    </tr>\n    <tr>\n      <th>1</th>\n      <td>Afghanistan</td>\n      <td>2001</td>\n      <td>4.074574</td>\n      <td>7.2</td>\n      <td>8.86</td>\n      <td>130000.0</td>\n      <td>45.60</td>\n      <td>0.09</td>\n      <td>0.0</td>\n      <td>0.50</td>\n      <td>...</td>\n      <td>236.89185</td>\n      <td>1.74</td>\n      <td>730.000000</td>\n      <td>NaN</td>\n      <td>NaN</td>\n      <td>NaN</td>\n      <td>60</td>\n      <td>6,52,230</td>\n      <td>33.93911</td>\n      <td>67.709953</td>\n    </tr>\n    <tr>\n      <th>2</th>\n      <td>Afghanistan</td>\n      <td>2002</td>\n      <td>9.409158</td>\n      <td>8.2</td>\n      <td>8.47</td>\n      <td>3950000.0</td>\n      <td>37.83</td>\n      <td>0.13</td>\n      <td>0.0</td>\n      <td>0.56</td>\n      <td>...</td>\n      <td>210.86215</td>\n      <td>1.40</td>\n      <td>1029.999971</td>\n      <td>NaN</td>\n      <td>NaN</td>\n      <td>179.426579</td>\n      <td>60</td>\n      <td>6,52,230</td>\n      <td>33.93911</td>\n      <td>67.709953</td>\n    </tr>\n    <tr>\n      <th>3</th>\n      <td>Afghanistan</td>\n      <td>2003</td>\n      <td>14.738506</td>\n      <td>9.5</td>\n      <td>8.09</td>\n      <td>25970000.0</td>\n      <td>36.66</td>\n      <td>0.31</td>\n      <td>0.0</td>\n      <td>0.63</td>\n      <td>...</td>\n      <td>229.96822</td>\n      <td>1.40</td>\n      <td>1220.000029</td>\n      <td>NaN</td>\n      <td>8.832278</td>\n      <td>190.683814</td>\n      <td>60</td>\n      <td>6,52,230</td>\n      <td>33.93911</td>\n      <td>67.709953</td>\n    </tr>\n    <tr>\n      <th>4</th>\n      <td>Afghanistan</td>\n      <td>2004</td>\n      <td>20.064968</td>\n      <td>10.9</td>\n      <td>7.75</td>\n      <td>NaN</td>\n      <td>44.24</td>\n      <td>0.33</td>\n      <td>0.0</td>\n      <td>0.56</td>\n      <td>...</td>\n      <td>204.23125</td>\n      <td>1.20</td>\n      <td>1029.999971</td>\n      <td>NaN</td>\n      <td>1.414118</td>\n      <td>211.382074</td>\n      <td>60</td>\n      <td>6,52,230</td>\n      <td>33.93911</td>\n      <td>67.709953</td>\n    </tr>\n  </tbody>\n</table>\n<p>5 rows × 21 columns</p>\n</div>"
     },
     "execution_count": 12,
     "metadata": {},
     "output_type": "execute_result"
    }
   ],
   "source": [
    "df = pd.read_csv(\"ENERGY_data.csv\")\n",
    "energy_data = df\n",
    "# To display the top 5 rows\n",
    "energy_data.head()"
   ]
  },
  {
   "cell_type": "code",
   "execution_count": 13,
   "metadata": {
    "collapsed": false,
    "ExecuteTime": {
     "end_time": "2023-10-27T16:07:45.617628300Z",
     "start_time": "2023-10-27T16:07:45.363103500Z"
    }
   },
   "outputs": [
    {
     "name": "stdout",
     "output_type": "stream",
     "text": [
      "<class 'pandas.core.frame.DataFrame'>\n",
      "RangeIndex: 3649 entries, 0 to 3648\n",
      "Data columns (total 21 columns):\n",
      " #   Column                                                            Non-Null Count  Dtype  \n",
      "---  ------                                                            --------------  -----  \n",
      " 0   Entity                                                            3649 non-null   object \n",
      " 1   Year                                                              3649 non-null   int64  \n",
      " 2   Access to electricity (% of population)                           3639 non-null   float64\n",
      " 3   Access to clean fuels for cooking                                 3480 non-null   float64\n",
      " 4   Renewable-electricity-generating-capacity-per-capita              2718 non-null   float64\n",
      " 5   Financial flows to developing countries (US $)                    1560 non-null   float64\n",
      " 6   Renewable energy share in the total final energy consumption (%)  3455 non-null   float64\n",
      " 7   Electricity from fossil fuels (TWh)                               3628 non-null   float64\n",
      " 8   Electricity from nuclear (TWh)                                    3523 non-null   float64\n",
      " 9   Electricity from renewables (TWh)                                 3628 non-null   float64\n",
      " 10  Low-carbon electricity (% electricity)                            3607 non-null   float64\n",
      " 11  Primary energy consumption per capita (kWh/person)                3649 non-null   float64\n",
      " 12  Energy intensity level of primary energy (MJ/$2017 PPP GDP)       3442 non-null   float64\n",
      " 13  Value_co2_emissions_kt_by_country                                 3221 non-null   float64\n",
      " 14  Renewables (% equivalent primary energy)                          1512 non-null   float64\n",
      " 15  gdp_growth                                                        3332 non-null   float64\n",
      " 16  gdp_per_capita                                                    3367 non-null   float64\n",
      " 17  Density\\n(P/Km2)                                                  3648 non-null   object \n",
      " 18  Land Area(Km2)                                                    3648 non-null   object \n",
      " 19  Latitude                                                          3648 non-null   float64\n",
      " 20  Longitude                                                         3648 non-null   float64\n",
      "dtypes: float64(17), int64(1), object(3)\n",
      "memory usage: 598.8+ KB\n"
     ]
    }
   ],
   "source": [
    "energy_data.info()"
   ]
  },
  {
   "cell_type": "code",
   "execution_count": 14,
   "metadata": {
    "collapsed": false,
    "ExecuteTime": {
     "end_time": "2023-10-27T16:07:46.916472400Z",
     "start_time": "2023-10-27T16:07:46.752093800Z"
    }
   },
   "outputs": [
    {
     "data": {
      "text/plain": "              Year  Access to electricity (% of population)  \\\ncount  3649.000000                              3639.000000   \nmean   2010.038367                                78.933702   \nstd       6.054228                                30.275541   \nmin    2000.000000                                 1.252269   \n25%    2005.000000                                59.800890   \n50%    2010.000000                                98.361570   \n75%    2015.000000                               100.000000   \nmax    2020.000000                               100.000000   \n\n       Access to clean fuels for cooking  \\\ncount                        3480.000000   \nmean                           63.255287   \nstd                            39.043658   \nmin                             0.000000   \n25%                            23.175000   \n50%                            83.150000   \n75%                           100.000000   \nmax                           100.000000   \n\n       Renewable-electricity-generating-capacity-per-capita  \\\ncount                                        2718.000000      \nmean                                          113.137498      \nstd                                           244.167256      \nmin                                             0.000000      \n25%                                             3.540000      \n50%                                            32.910000      \n75%                                           112.210000      \nmax                                          3060.190000      \n\n       Financial flows to developing countries (US $)  \\\ncount                                    1.560000e+03   \nmean                                     9.422400e+07   \nstd                                      2.981544e+08   \nmin                                      0.000000e+00   \n25%                                      2.600000e+05   \n50%                                      5.665000e+06   \n75%                                      5.534750e+07   \nmax                                      5.202310e+09   \n\n       Renewable energy share in the total final energy consumption (%)  \\\ncount                                        3455.000000                  \nmean                                           32.638165                  \nstd                                            29.894901                  \nmin                                             0.000000                  \n25%                                             6.515000                  \n50%                                            23.300000                  \n75%                                            55.245000                  \nmax                                            96.040000                  \n\n       Electricity from fossil fuels (TWh)  Electricity from nuclear (TWh)  \\\ncount                          3628.000000                     3523.000000   \nmean                             70.365003                       13.450190   \nstd                             348.051866                       73.006623   \nmin                               0.000000                        0.000000   \n25%                               0.290000                        0.000000   \n50%                               2.970000                        0.000000   \n75%                              26.837500                        0.000000   \nmax                            5184.130000                      809.410000   \n\n       Electricity from renewables (TWh)  \\\ncount                        3628.000000   \nmean                           23.968010   \nstd                           104.431085   \nmin                             0.000000   \n25%                             0.040000   \n50%                             1.470000   \n75%                             9.600000   \nmax                          2184.940000   \n\n       Low-carbon electricity (% electricity)  \\\ncount                             3607.000000   \nmean                                36.801182   \nstd                                 34.314884   \nmin                                  0.000000   \n25%                                  2.877847   \n50%                                 27.865068   \n75%                                 64.403792   \nmax                                100.000010   \n\n       Primary energy consumption per capita (kWh/person)  \\\ncount                                        3649.000000    \nmean                                        25743.981745    \nstd                                         34773.221366    \nmin                                             0.000000    \n25%                                          3116.737300    \n50%                                         13120.570000    \n75%                                         33892.780000    \nmax                                        262585.700000    \n\n       Energy intensity level of primary energy (MJ/$2017 PPP GDP)  \\\ncount                                        3442.000000             \nmean                                            5.307345             \nstd                                             3.532020             \nmin                                             0.110000             \n25%                                             3.170000             \n50%                                             4.300000             \n75%                                             6.027500             \nmax                                            32.570000             \n\n       Value_co2_emissions_kt_by_country  \\\ncount                       3.221000e+03   \nmean                        1.598665e+05   \nstd                         7.736611e+05   \nmin                         1.000000e+01   \n25%                         2.020000e+03   \n50%                         1.050000e+04   \n75%                         6.058000e+04   \nmax                         1.070722e+07   \n\n       Renewables (% equivalent primary energy)   gdp_growth  gdp_per_capita  \\\ncount                               1512.000000  3332.000000     3367.000000   \nmean                                  11.986707     3.441610    13283.774348   \nstd                                   14.994644     5.686720    19709.866716   \nmin                                    0.000000   -62.075920      111.927225   \n25%                                    2.137095     1.383302     1337.813437   \n50%                                    6.290766     3.559855     4578.633208   \n75%                                   16.841638     5.830099    15768.615365   \nmax                                   86.836586   123.139555   123514.196700   \n\n          Latitude    Longitude  \ncount  3648.000000  3648.000000  \nmean     18.246388    14.822695  \nstd      24.159232    66.348148  \nmin     -40.900557  -175.198242  \n25%       3.202778   -11.779889  \n50%      17.189877    19.145136  \n75%      38.969719    46.199616  \nmax      64.963051   178.065032  ",
      "text/html": "<div>\n<style scoped>\n    .dataframe tbody tr th:only-of-type {\n        vertical-align: middle;\n    }\n\n    .dataframe tbody tr th {\n        vertical-align: top;\n    }\n\n    .dataframe thead th {\n        text-align: right;\n    }\n</style>\n<table border=\"1\" class=\"dataframe\">\n  <thead>\n    <tr style=\"text-align: right;\">\n      <th></th>\n      <th>Year</th>\n      <th>Access to electricity (% of population)</th>\n      <th>Access to clean fuels for cooking</th>\n      <th>Renewable-electricity-generating-capacity-per-capita</th>\n      <th>Financial flows to developing countries (US $)</th>\n      <th>Renewable energy share in the total final energy consumption (%)</th>\n      <th>Electricity from fossil fuels (TWh)</th>\n      <th>Electricity from nuclear (TWh)</th>\n      <th>Electricity from renewables (TWh)</th>\n      <th>Low-carbon electricity (% electricity)</th>\n      <th>Primary energy consumption per capita (kWh/person)</th>\n      <th>Energy intensity level of primary energy (MJ/$2017 PPP GDP)</th>\n      <th>Value_co2_emissions_kt_by_country</th>\n      <th>Renewables (% equivalent primary energy)</th>\n      <th>gdp_growth</th>\n      <th>gdp_per_capita</th>\n      <th>Latitude</th>\n      <th>Longitude</th>\n    </tr>\n  </thead>\n  <tbody>\n    <tr>\n      <th>count</th>\n      <td>3649.000000</td>\n      <td>3639.000000</td>\n      <td>3480.000000</td>\n      <td>2718.000000</td>\n      <td>1.560000e+03</td>\n      <td>3455.000000</td>\n      <td>3628.000000</td>\n      <td>3523.000000</td>\n      <td>3628.000000</td>\n      <td>3607.000000</td>\n      <td>3649.000000</td>\n      <td>3442.000000</td>\n      <td>3.221000e+03</td>\n      <td>1512.000000</td>\n      <td>3332.000000</td>\n      <td>3367.000000</td>\n      <td>3648.000000</td>\n      <td>3648.000000</td>\n    </tr>\n    <tr>\n      <th>mean</th>\n      <td>2010.038367</td>\n      <td>78.933702</td>\n      <td>63.255287</td>\n      <td>113.137498</td>\n      <td>9.422400e+07</td>\n      <td>32.638165</td>\n      <td>70.365003</td>\n      <td>13.450190</td>\n      <td>23.968010</td>\n      <td>36.801182</td>\n      <td>25743.981745</td>\n      <td>5.307345</td>\n      <td>1.598665e+05</td>\n      <td>11.986707</td>\n      <td>3.441610</td>\n      <td>13283.774348</td>\n      <td>18.246388</td>\n      <td>14.822695</td>\n    </tr>\n    <tr>\n      <th>std</th>\n      <td>6.054228</td>\n      <td>30.275541</td>\n      <td>39.043658</td>\n      <td>244.167256</td>\n      <td>2.981544e+08</td>\n      <td>29.894901</td>\n      <td>348.051866</td>\n      <td>73.006623</td>\n      <td>104.431085</td>\n      <td>34.314884</td>\n      <td>34773.221366</td>\n      <td>3.532020</td>\n      <td>7.736611e+05</td>\n      <td>14.994644</td>\n      <td>5.686720</td>\n      <td>19709.866716</td>\n      <td>24.159232</td>\n      <td>66.348148</td>\n    </tr>\n    <tr>\n      <th>min</th>\n      <td>2000.000000</td>\n      <td>1.252269</td>\n      <td>0.000000</td>\n      <td>0.000000</td>\n      <td>0.000000e+00</td>\n      <td>0.000000</td>\n      <td>0.000000</td>\n      <td>0.000000</td>\n      <td>0.000000</td>\n      <td>0.000000</td>\n      <td>0.000000</td>\n      <td>0.110000</td>\n      <td>1.000000e+01</td>\n      <td>0.000000</td>\n      <td>-62.075920</td>\n      <td>111.927225</td>\n      <td>-40.900557</td>\n      <td>-175.198242</td>\n    </tr>\n    <tr>\n      <th>25%</th>\n      <td>2005.000000</td>\n      <td>59.800890</td>\n      <td>23.175000</td>\n      <td>3.540000</td>\n      <td>2.600000e+05</td>\n      <td>6.515000</td>\n      <td>0.290000</td>\n      <td>0.000000</td>\n      <td>0.040000</td>\n      <td>2.877847</td>\n      <td>3116.737300</td>\n      <td>3.170000</td>\n      <td>2.020000e+03</td>\n      <td>2.137095</td>\n      <td>1.383302</td>\n      <td>1337.813437</td>\n      <td>3.202778</td>\n      <td>-11.779889</td>\n    </tr>\n    <tr>\n      <th>50%</th>\n      <td>2010.000000</td>\n      <td>98.361570</td>\n      <td>83.150000</td>\n      <td>32.910000</td>\n      <td>5.665000e+06</td>\n      <td>23.300000</td>\n      <td>2.970000</td>\n      <td>0.000000</td>\n      <td>1.470000</td>\n      <td>27.865068</td>\n      <td>13120.570000</td>\n      <td>4.300000</td>\n      <td>1.050000e+04</td>\n      <td>6.290766</td>\n      <td>3.559855</td>\n      <td>4578.633208</td>\n      <td>17.189877</td>\n      <td>19.145136</td>\n    </tr>\n    <tr>\n      <th>75%</th>\n      <td>2015.000000</td>\n      <td>100.000000</td>\n      <td>100.000000</td>\n      <td>112.210000</td>\n      <td>5.534750e+07</td>\n      <td>55.245000</td>\n      <td>26.837500</td>\n      <td>0.000000</td>\n      <td>9.600000</td>\n      <td>64.403792</td>\n      <td>33892.780000</td>\n      <td>6.027500</td>\n      <td>6.058000e+04</td>\n      <td>16.841638</td>\n      <td>5.830099</td>\n      <td>15768.615365</td>\n      <td>38.969719</td>\n      <td>46.199616</td>\n    </tr>\n    <tr>\n      <th>max</th>\n      <td>2020.000000</td>\n      <td>100.000000</td>\n      <td>100.000000</td>\n      <td>3060.190000</td>\n      <td>5.202310e+09</td>\n      <td>96.040000</td>\n      <td>5184.130000</td>\n      <td>809.410000</td>\n      <td>2184.940000</td>\n      <td>100.000010</td>\n      <td>262585.700000</td>\n      <td>32.570000</td>\n      <td>1.070722e+07</td>\n      <td>86.836586</td>\n      <td>123.139555</td>\n      <td>123514.196700</td>\n      <td>64.963051</td>\n      <td>178.065032</td>\n    </tr>\n  </tbody>\n</table>\n</div>"
     },
     "execution_count": 14,
     "metadata": {},
     "output_type": "execute_result"
    }
   ],
   "source": [
    "energy_data.describe()"
   ]
  },
  {
   "cell_type": "markdown",
   "metadata": {
    "id": "vAmC369yTpMF"
   },
   "source": [
    "## 3. Checking the types of data"
   ]
  },
  {
   "cell_type": "code",
   "execution_count": 15,
   "metadata": {
    "colab": {
     "base_uri": "https://localhost:8080/",
     "height": 312
    },
    "id": "qPbKQ0noRptD",
    "outputId": "6a5aea47-ad0c-4118-8471-d91b6432b339",
    "ExecuteTime": {
     "end_time": "2023-10-27T16:07:48.915522500Z",
     "start_time": "2023-10-27T16:07:48.827513100Z"
    }
   },
   "outputs": [
    {
     "data": {
      "text/plain": "Entity                                                               object\nYear                                                                  int64\nAccess to electricity (% of population)                             float64\nAccess to clean fuels for cooking                                   float64\nRenewable-electricity-generating-capacity-per-capita                float64\nFinancial flows to developing countries (US $)                      float64\nRenewable energy share in the total final energy consumption (%)    float64\nElectricity from fossil fuels (TWh)                                 float64\nElectricity from nuclear (TWh)                                      float64\nElectricity from renewables (TWh)                                   float64\nLow-carbon electricity (% electricity)                              float64\nPrimary energy consumption per capita (kWh/person)                  float64\nEnergy intensity level of primary energy (MJ/$2017 PPP GDP)         float64\nValue_co2_emissions_kt_by_country                                   float64\nRenewables (% equivalent primary energy)                            float64\ngdp_growth                                                          float64\ngdp_per_capita                                                      float64\nDensity\\n(P/Km2)                                                     object\nLand Area(Km2)                                                       object\nLatitude                                                            float64\nLongitude                                                           float64\ndtype: object"
     },
     "execution_count": 15,
     "metadata": {},
     "output_type": "execute_result"
    }
   ],
   "source": [
    "energy_data.dtypes"
   ]
  },
  {
   "cell_type": "code",
   "execution_count": 16,
   "outputs": [],
   "source": [
    "energy_data.columns = energy_data.columns.str.lower().str.replace(\" \", \"_\")"
   ],
   "metadata": {
    "collapsed": false,
    "ExecuteTime": {
     "end_time": "2023-10-27T16:07:49.716483900Z",
     "start_time": "2023-10-27T16:07:49.585063800Z"
    }
   }
  },
  {
   "cell_type": "markdown",
   "metadata": {
    "id": "QoHuBhXxT5E9"
   },
   "source": [
    "## 4. Renaming columns and dropping columns"
   ]
  },
  {
   "cell_type": "code",
   "execution_count": 17,
   "outputs": [],
   "source": [
    "energy_data = energy_data.rename({'entity':'country','access_to_electricity_(%_of_population)':'access_electricity','access_to_clean_fuels_for_cooking':'access_cooking_fuels','renewable-electricity-generating-capacity-per-capita':'renewal_electricity_capacity','financial_flows_to_developing_countries_(us_$)':'financial_flows','renewable_energy_share_in_the_total_final_energy_consumption_(%)':'renewable_energy_share','electricity_from_fossil_fuels_(twh)':'electricity_fossil_fuels','electricity_from_nuclear_(twh)':'electricity_nuclear','electricity_from_renewables_(twh)':'electricity_renewals','low-carbon_electricity_(%_electricity)':'electricity_low_carbon','primary_energy_consumption_per_capita_(kwh/person)':'primary_energy_consumption','energy_intensity_level_of_primary_energy_(mj/$2017_ppp_gdp)':'energy_level','value_co2_emissions_kt_by_country':'co2_emissions','renewables_(%_equivalent_primary_energy)':'renewables','density\\\\n(p/km2)':'density','land_area(km2)':'land_area'},axis = 1)"
   ],
   "metadata": {
    "collapsed": false,
    "ExecuteTime": {
     "end_time": "2023-10-27T16:07:54.438691300Z",
     "start_time": "2023-10-27T16:07:54.388656500Z"
    }
   }
  },
  {
   "cell_type": "code",
   "execution_count": 18,
   "outputs": [
    {
     "ename": "AttributeError",
     "evalue": "'list' object has no attribute 'isnull'",
     "output_type": "error",
     "traceback": [
      "\u001B[1;31m---------------------------------------------------------------------------\u001B[0m",
      "\u001B[1;31mAttributeError\u001B[0m                            Traceback (most recent call last)",
      "Cell \u001B[1;32mIn[18], line 4\u001B[0m\n\u001B[0;32m      1\u001B[0m \u001B[38;5;66;03m#print('Number of duplicates are : ', energy_data.duplicated().sum())\u001B[39;00m\n\u001B[0;32m      2\u001B[0m \u001B[38;5;66;03m#energy_data = energy_data.drop_duplicates()\u001B[39;00m\n\u001B[0;32m      3\u001B[0m energy_data\n\u001B[1;32m----> 4\u001B[0m energy_data[\u001B[43m[\u001B[49m\u001B[38;5;124;43m'\u001B[39;49m\u001B[38;5;124;43maccess_electricity\u001B[39;49m\u001B[38;5;124;43m'\u001B[39;49m\u001B[43m]\u001B[49m\u001B[38;5;241;43m.\u001B[39;49m\u001B[43misnull\u001B[49m() \u001B[38;5;241m==\u001B[39m \u001B[38;5;28;01mTrue\u001B[39;00m] \n",
      "\u001B[1;31mAttributeError\u001B[0m: 'list' object has no attribute 'isnull'"
     ]
    }
   ],
   "source": [
    "#print('Number of duplicates are : ', energy_data.duplicated().sum())\n",
    "#energy_data = energy_data.drop_duplicates()\n",
    "energy_data\n",
    "energy_data[['access_electricity'].isnull() == True] "
   ],
   "metadata": {
    "collapsed": false,
    "ExecuteTime": {
     "end_time": "2023-10-27T16:07:55.502803900Z",
     "start_time": "2023-10-27T16:07:55.373172700Z"
    }
   }
  },
  {
   "cell_type": "code",
   "execution_count": 18,
   "outputs": [],
   "source": [],
   "metadata": {
    "collapsed": false,
    "ExecuteTime": {
     "end_time": "2023-10-27T16:07:56.506661900Z",
     "start_time": "2023-10-27T16:07:56.426526500Z"
    }
   }
  },
  {
   "cell_type": "markdown",
   "source": [
    "## 5. Handling missing or null values."
   ],
   "metadata": {
    "collapsed": false
   }
  },
  {
   "cell_type": "code",
   "execution_count": 19,
   "outputs": [
    {
     "name": "stdout",
     "output_type": "stream",
     "text": [
      "Number of missing values in each columns are below : \n",
      "country                            0\n",
      "year                               0\n",
      "access_electricity                10\n",
      "access_cooking_fuels             169\n",
      "renewal_electricity_capacity     931\n",
      "financial_flows                 2089\n",
      "renewable_energy_share           194\n",
      "electricity_fossil_fuels          21\n",
      "electricity_nuclear              126\n",
      "electricity_renewals              21\n",
      "electricity_low_carbon            42\n",
      "primary_energy_consumption         0\n",
      "energy_level                     207\n",
      "co2_emissions                    428\n",
      "renewables                      2137\n",
      "gdp_growth                       317\n",
      "gdp_per_capita                   282\n",
      "density                            1\n",
      "land_area                          1\n",
      "latitude                           1\n",
      "longitude                          1\n",
      "dtype: int64\n"
     ]
    }
   ],
   "source": [
    "print('Number of missing values in each columns are below : ')\n",
    "print(energy_data.isnull().sum())"
   ],
   "metadata": {
    "collapsed": false,
    "ExecuteTime": {
     "end_time": "2023-10-27T16:07:59.982814700Z",
     "start_time": "2023-10-27T16:07:59.941975300Z"
    }
   }
  },
  {
   "cell_type": "code",
   "execution_count": 20,
   "outputs": [],
   "source": [
    "#ACCESS TO ELECTRICITY had 10 missing values. Since the Years are not recently and all the countries are from similar region I will replace that value with 0 \n",
    "\n",
    "#CHANGE TO \n",
    "energy_data['access_electricity'] = energy_data['access_electricity'].fillna(0)"
   ],
   "metadata": {
    "collapsed": false,
    "ExecuteTime": {
     "end_time": "2023-10-27T16:08:00.718033700Z",
     "start_time": "2023-10-27T16:08:00.664843100Z"
    }
   }
  },
  {
   "cell_type": "code",
   "execution_count": 21,
   "outputs": [],
   "source": [
    "#ACCESS TO COOKING FUELS had 169 missing values distributed in 8 Countries means is not a typing error. Then, I will replace those value with 0 \n",
    "null_cooking = energy_data[energy_data['access_cooking_fuels'].isnull() == True]\n",
    "null_cooking['country'].unique()\n",
    "energy_data['access_cooking_fuels'] = energy_data['access_cooking_fuels'].fillna(0)"
   ],
   "metadata": {
    "collapsed": false,
    "ExecuteTime": {
     "end_time": "2023-10-27T16:08:01.636367200Z",
     "start_time": "2023-10-27T16:08:01.565401400Z"
    }
   }
  },
  {
   "cell_type": "code",
   "execution_count": 22,
   "outputs": [],
   "source": [
    "#RENEVAL ELECTRICTY CAPACITY had 931 that represents 26% of the data . Then, I will drop that column and the columns with more than 25% of Null values (Financial FLows, Renewables), \n",
    "\n",
    "#ADD JUSTIFICATION, IF THE COUNTRI\n",
    "energy_data = energy_data.drop(['renewal_electricity_capacity','financial_flows','renewables'], axis=1)"
   ],
   "metadata": {
    "collapsed": false,
    "ExecuteTime": {
     "end_time": "2023-10-27T16:08:02.454003500Z",
     "start_time": "2023-10-27T16:08:02.332870200Z"
    }
   }
  },
  {
   "cell_type": "code",
   "execution_count": 23,
   "outputs": [],
   "source": [
    "#1. RENEWAL ENERGY SHARE. I will replace the values of Albania by 0 due all the country does not have data. The rest of the countries will apply other a linnear regression to predict the 2020 value\n",
    "energy_data[(energy_data['country'] =='Albania') & energy_data['renewable_energy_share'].isnull()] = energy_data[(energy_data['country'] =='Albania') & energy_data['renewable_energy_share'].isnull()].fillna(0)"
   ],
   "metadata": {
    "collapsed": false,
    "ExecuteTime": {
     "end_time": "2023-10-27T16:08:02.872770500Z",
     "start_time": "2023-10-27T16:08:02.834967800Z"
    }
   }
  },
  {
   "cell_type": "code",
   "execution_count": 24,
   "outputs": [
    {
     "data": {
      "text/plain": "          country  year  access_electricity  access_cooking_fuels  \\\n0     Afghanistan  2000            1.613591                   6.2   \n1     Afghanistan  2001            4.074574                   7.2   \n2     Afghanistan  2002            9.409158                   8.2   \n3     Afghanistan  2003           14.738506                   9.5   \n4     Afghanistan  2004           20.064968                  10.9   \n...           ...   ...                 ...                   ...   \n3644     Zimbabwe  2016           42.561730                  29.8   \n3645     Zimbabwe  2017           44.178635                  29.8   \n3646     Zimbabwe  2018           45.572647                  29.9   \n3647     Zimbabwe  2019           46.781475                  30.1   \n3648     Zimbabwe  2020           52.747670                  30.4   \n\n      renewable_energy_share  electricity_fossil_fuels  electricity_nuclear  \\\n0                      44.99                      0.16                  0.0   \n1                      45.60                      0.09                  0.0   \n2                      37.83                      0.13                  0.0   \n3                      36.66                      0.31                  0.0   \n4                      44.24                      0.33                  0.0   \n...                      ...                       ...                  ...   \n3644                   81.90                      3.50                  0.0   \n3645                   82.46                      3.05                  0.0   \n3646                   80.23                      3.73                  0.0   \n3647                   81.50                      3.66                  0.0   \n3648                   81.90                      3.40                  0.0   \n\n      electricity_renewals  electricity_low_carbon  \\\n0                     0.31               65.957440   \n1                     0.50               84.745766   \n2                     0.56               81.159424   \n3                     0.63               67.021280   \n4                     0.56               62.921350   \n...                    ...                     ...   \n3644                  3.32               48.680350   \n3645                  4.30               58.503407   \n3646                  5.46               59.412407   \n3647                  4.58               55.582527   \n3648                  4.19               55.204216   \n\n      primary_energy_consumption  energy_level  co2_emissions  gdp_growth  \\\n0                      302.59482          1.64     760.000000         NaN   \n1                      236.89185          1.74     730.000000         NaN   \n2                      210.86215          1.40    1029.999971         NaN   \n3                      229.96822          1.40    1220.000029    8.832278   \n4                      204.23125          1.20    1029.999971    1.414118   \n...                          ...           ...            ...         ...   \n3644                  3227.68020         10.00   11020.000460    0.755869   \n3645                  3068.01150          9.51   10340.000150    4.709492   \n3646                  3441.98580          9.83   12380.000110    4.824211   \n3647                  3003.65530         10.47   11760.000230   -6.144236   \n3648                  2680.13180         10.00            NaN   -6.248748   \n\n      gdp_per_capita density land_area   latitude  longitude  \n0                NaN      60  6,52,230  33.939110  67.709953  \n1                NaN      60  6,52,230  33.939110  67.709953  \n2         179.426579      60  6,52,230  33.939110  67.709953  \n3         190.683814      60  6,52,230  33.939110  67.709953  \n4         211.382074      60  6,52,230  33.939110  67.709953  \n...              ...     ...       ...        ...        ...  \n3644     1464.588957      38  3,90,757 -19.015438  29.154857  \n3645     1235.189032      38  3,90,757 -19.015438  29.154857  \n3646     1254.642265      38  3,90,757 -19.015438  29.154857  \n3647     1316.740657      38  3,90,757 -19.015438  29.154857  \n3648     1214.509820      38  3,90,757 -19.015438  29.154857  \n\n[3649 rows x 18 columns]",
      "text/html": "<div>\n<style scoped>\n    .dataframe tbody tr th:only-of-type {\n        vertical-align: middle;\n    }\n\n    .dataframe tbody tr th {\n        vertical-align: top;\n    }\n\n    .dataframe thead th {\n        text-align: right;\n    }\n</style>\n<table border=\"1\" class=\"dataframe\">\n  <thead>\n    <tr style=\"text-align: right;\">\n      <th></th>\n      <th>country</th>\n      <th>year</th>\n      <th>access_electricity</th>\n      <th>access_cooking_fuels</th>\n      <th>renewable_energy_share</th>\n      <th>electricity_fossil_fuels</th>\n      <th>electricity_nuclear</th>\n      <th>electricity_renewals</th>\n      <th>electricity_low_carbon</th>\n      <th>primary_energy_consumption</th>\n      <th>energy_level</th>\n      <th>co2_emissions</th>\n      <th>gdp_growth</th>\n      <th>gdp_per_capita</th>\n      <th>density</th>\n      <th>land_area</th>\n      <th>latitude</th>\n      <th>longitude</th>\n    </tr>\n  </thead>\n  <tbody>\n    <tr>\n      <th>0</th>\n      <td>Afghanistan</td>\n      <td>2000</td>\n      <td>1.613591</td>\n      <td>6.2</td>\n      <td>44.99</td>\n      <td>0.16</td>\n      <td>0.0</td>\n      <td>0.31</td>\n      <td>65.957440</td>\n      <td>302.59482</td>\n      <td>1.64</td>\n      <td>760.000000</td>\n      <td>NaN</td>\n      <td>NaN</td>\n      <td>60</td>\n      <td>6,52,230</td>\n      <td>33.939110</td>\n      <td>67.709953</td>\n    </tr>\n    <tr>\n      <th>1</th>\n      <td>Afghanistan</td>\n      <td>2001</td>\n      <td>4.074574</td>\n      <td>7.2</td>\n      <td>45.60</td>\n      <td>0.09</td>\n      <td>0.0</td>\n      <td>0.50</td>\n      <td>84.745766</td>\n      <td>236.89185</td>\n      <td>1.74</td>\n      <td>730.000000</td>\n      <td>NaN</td>\n      <td>NaN</td>\n      <td>60</td>\n      <td>6,52,230</td>\n      <td>33.939110</td>\n      <td>67.709953</td>\n    </tr>\n    <tr>\n      <th>2</th>\n      <td>Afghanistan</td>\n      <td>2002</td>\n      <td>9.409158</td>\n      <td>8.2</td>\n      <td>37.83</td>\n      <td>0.13</td>\n      <td>0.0</td>\n      <td>0.56</td>\n      <td>81.159424</td>\n      <td>210.86215</td>\n      <td>1.40</td>\n      <td>1029.999971</td>\n      <td>NaN</td>\n      <td>179.426579</td>\n      <td>60</td>\n      <td>6,52,230</td>\n      <td>33.939110</td>\n      <td>67.709953</td>\n    </tr>\n    <tr>\n      <th>3</th>\n      <td>Afghanistan</td>\n      <td>2003</td>\n      <td>14.738506</td>\n      <td>9.5</td>\n      <td>36.66</td>\n      <td>0.31</td>\n      <td>0.0</td>\n      <td>0.63</td>\n      <td>67.021280</td>\n      <td>229.96822</td>\n      <td>1.40</td>\n      <td>1220.000029</td>\n      <td>8.832278</td>\n      <td>190.683814</td>\n      <td>60</td>\n      <td>6,52,230</td>\n      <td>33.939110</td>\n      <td>67.709953</td>\n    </tr>\n    <tr>\n      <th>4</th>\n      <td>Afghanistan</td>\n      <td>2004</td>\n      <td>20.064968</td>\n      <td>10.9</td>\n      <td>44.24</td>\n      <td>0.33</td>\n      <td>0.0</td>\n      <td>0.56</td>\n      <td>62.921350</td>\n      <td>204.23125</td>\n      <td>1.20</td>\n      <td>1029.999971</td>\n      <td>1.414118</td>\n      <td>211.382074</td>\n      <td>60</td>\n      <td>6,52,230</td>\n      <td>33.939110</td>\n      <td>67.709953</td>\n    </tr>\n    <tr>\n      <th>...</th>\n      <td>...</td>\n      <td>...</td>\n      <td>...</td>\n      <td>...</td>\n      <td>...</td>\n      <td>...</td>\n      <td>...</td>\n      <td>...</td>\n      <td>...</td>\n      <td>...</td>\n      <td>...</td>\n      <td>...</td>\n      <td>...</td>\n      <td>...</td>\n      <td>...</td>\n      <td>...</td>\n      <td>...</td>\n      <td>...</td>\n    </tr>\n    <tr>\n      <th>3644</th>\n      <td>Zimbabwe</td>\n      <td>2016</td>\n      <td>42.561730</td>\n      <td>29.8</td>\n      <td>81.90</td>\n      <td>3.50</td>\n      <td>0.0</td>\n      <td>3.32</td>\n      <td>48.680350</td>\n      <td>3227.68020</td>\n      <td>10.00</td>\n      <td>11020.000460</td>\n      <td>0.755869</td>\n      <td>1464.588957</td>\n      <td>38</td>\n      <td>3,90,757</td>\n      <td>-19.015438</td>\n      <td>29.154857</td>\n    </tr>\n    <tr>\n      <th>3645</th>\n      <td>Zimbabwe</td>\n      <td>2017</td>\n      <td>44.178635</td>\n      <td>29.8</td>\n      <td>82.46</td>\n      <td>3.05</td>\n      <td>0.0</td>\n      <td>4.30</td>\n      <td>58.503407</td>\n      <td>3068.01150</td>\n      <td>9.51</td>\n      <td>10340.000150</td>\n      <td>4.709492</td>\n      <td>1235.189032</td>\n      <td>38</td>\n      <td>3,90,757</td>\n      <td>-19.015438</td>\n      <td>29.154857</td>\n    </tr>\n    <tr>\n      <th>3646</th>\n      <td>Zimbabwe</td>\n      <td>2018</td>\n      <td>45.572647</td>\n      <td>29.9</td>\n      <td>80.23</td>\n      <td>3.73</td>\n      <td>0.0</td>\n      <td>5.46</td>\n      <td>59.412407</td>\n      <td>3441.98580</td>\n      <td>9.83</td>\n      <td>12380.000110</td>\n      <td>4.824211</td>\n      <td>1254.642265</td>\n      <td>38</td>\n      <td>3,90,757</td>\n      <td>-19.015438</td>\n      <td>29.154857</td>\n    </tr>\n    <tr>\n      <th>3647</th>\n      <td>Zimbabwe</td>\n      <td>2019</td>\n      <td>46.781475</td>\n      <td>30.1</td>\n      <td>81.50</td>\n      <td>3.66</td>\n      <td>0.0</td>\n      <td>4.58</td>\n      <td>55.582527</td>\n      <td>3003.65530</td>\n      <td>10.47</td>\n      <td>11760.000230</td>\n      <td>-6.144236</td>\n      <td>1316.740657</td>\n      <td>38</td>\n      <td>3,90,757</td>\n      <td>-19.015438</td>\n      <td>29.154857</td>\n    </tr>\n    <tr>\n      <th>3648</th>\n      <td>Zimbabwe</td>\n      <td>2020</td>\n      <td>52.747670</td>\n      <td>30.4</td>\n      <td>81.90</td>\n      <td>3.40</td>\n      <td>0.0</td>\n      <td>4.19</td>\n      <td>55.204216</td>\n      <td>2680.13180</td>\n      <td>10.00</td>\n      <td>NaN</td>\n      <td>-6.248748</td>\n      <td>1214.509820</td>\n      <td>38</td>\n      <td>3,90,757</td>\n      <td>-19.015438</td>\n      <td>29.154857</td>\n    </tr>\n  </tbody>\n</table>\n<p>3649 rows × 18 columns</p>\n</div>"
     },
     "execution_count": 24,
     "metadata": {},
     "output_type": "execute_result"
    }
   ],
   "source": [
    "#2. RENEWAL ENERGY SHARE. I will apply a linner regression model to \n",
    "test1 = energy_data\n",
    "test1['renewable_energy_share'] = test1['renewable_energy_share'].fillna(test1['renewable_energy_share'].interpolate())\n",
    "test1"
   ],
   "metadata": {
    "collapsed": false,
    "ExecuteTime": {
     "end_time": "2023-10-27T16:08:03.533413800Z",
     "start_time": "2023-10-27T16:08:03.473571200Z"
    }
   }
  },
  {
   "cell_type": "code",
   "execution_count": 121,
   "outputs": [
    {
     "name": "stdout",
     "output_type": "stream",
     "text": [
      "Number of missing values in each columns are below : \n",
      "country                         0\n",
      "year                            0\n",
      "access_electricity              0\n",
      "access_cooking_fuels            0\n",
      "renewable_energy_share        194\n",
      "electricity_fossil_fuels       21\n",
      "electricity_nuclear           126\n",
      "electricity_renewals           21\n",
      "electricity_low_carbon         42\n",
      "primary_energy_consumption      0\n",
      "energy_level                  207\n",
      "co2_emissions                 428\n",
      "gdp_growth                    317\n",
      "gdp_per_capita                282\n",
      "density                         1\n",
      "land_area                       1\n",
      "latitude                        1\n",
      "longitude                       1\n",
      "dtype: int64\n"
     ]
    }
   ],
   "source": [
    "print('Number of missing values in each columns are below : ')\n",
    "print(energy_data.isnull().sum())"
   ],
   "metadata": {
    "collapsed": false,
    "ExecuteTime": {
     "end_time": "2023-10-26T07:17:10.067447700Z",
     "start_time": "2023-10-26T07:17:09.664187800Z"
    }
   }
  },
  {
   "cell_type": "code",
   "execution_count": 25,
   "outputs": [],
   "source": [
    "#Encoding Dataset"
   ],
   "metadata": {
    "collapsed": false,
    "ExecuteTime": {
     "start_time": "2023-10-27T16:08:05.192559900Z"
    }
   }
  },
  {
   "cell_type": "code",
   "execution_count": 26,
   "outputs": [],
   "source": [
    "from sklearn.preprocessing import KBinsDiscretizer\n",
    "from sklearn.preprocessing import OrdinalEncoder\n",
    "from sklearn import preprocessing"
   ],
   "metadata": {
    "collapsed": false,
    "ExecuteTime": {
     "start_time": "2023-10-27T16:08:06.189570400Z"
    }
   }
  },
  {
   "cell_type": "code",
   "execution_count": 27,
   "outputs": [],
   "source": [
    "enc = preprocessing.OrdinalEncoder()"
   ],
   "metadata": {
    "collapsed": false,
    "ExecuteTime": {
     "start_time": "2023-10-27T16:08:07.010650400Z"
    }
   }
  },
  {
   "cell_type": "code",
   "execution_count": 28,
   "outputs": [],
   "source": [
    "X = energy_data[['country']]"
   ],
   "metadata": {
    "collapsed": false,
    "ExecuteTime": {
     "start_time": "2023-10-27T16:08:07.768245600Z"
    }
   }
  },
  {
   "cell_type": "code",
   "execution_count": 29,
   "outputs": [
    {
     "data": {
      "text/plain": "OrdinalEncoder()",
      "text/html": "<style>#sk-container-id-1 {color: black;}#sk-container-id-1 pre{padding: 0;}#sk-container-id-1 div.sk-toggleable {background-color: white;}#sk-container-id-1 label.sk-toggleable__label {cursor: pointer;display: block;width: 100%;margin-bottom: 0;padding: 0.3em;box-sizing: border-box;text-align: center;}#sk-container-id-1 label.sk-toggleable__label-arrow:before {content: \"▸\";float: left;margin-right: 0.25em;color: #696969;}#sk-container-id-1 label.sk-toggleable__label-arrow:hover:before {color: black;}#sk-container-id-1 div.sk-estimator:hover label.sk-toggleable__label-arrow:before {color: black;}#sk-container-id-1 div.sk-toggleable__content {max-height: 0;max-width: 0;overflow: hidden;text-align: left;background-color: #f0f8ff;}#sk-container-id-1 div.sk-toggleable__content pre {margin: 0.2em;color: black;border-radius: 0.25em;background-color: #f0f8ff;}#sk-container-id-1 input.sk-toggleable__control:checked~div.sk-toggleable__content {max-height: 200px;max-width: 100%;overflow: auto;}#sk-container-id-1 input.sk-toggleable__control:checked~label.sk-toggleable__label-arrow:before {content: \"▾\";}#sk-container-id-1 div.sk-estimator input.sk-toggleable__control:checked~label.sk-toggleable__label {background-color: #d4ebff;}#sk-container-id-1 div.sk-label input.sk-toggleable__control:checked~label.sk-toggleable__label {background-color: #d4ebff;}#sk-container-id-1 input.sk-hidden--visually {border: 0;clip: rect(1px 1px 1px 1px);clip: rect(1px, 1px, 1px, 1px);height: 1px;margin: -1px;overflow: hidden;padding: 0;position: absolute;width: 1px;}#sk-container-id-1 div.sk-estimator {font-family: monospace;background-color: #f0f8ff;border: 1px dotted black;border-radius: 0.25em;box-sizing: border-box;margin-bottom: 0.5em;}#sk-container-id-1 div.sk-estimator:hover {background-color: #d4ebff;}#sk-container-id-1 div.sk-parallel-item::after {content: \"\";width: 100%;border-bottom: 1px solid gray;flex-grow: 1;}#sk-container-id-1 div.sk-label:hover label.sk-toggleable__label {background-color: #d4ebff;}#sk-container-id-1 div.sk-serial::before {content: \"\";position: absolute;border-left: 1px solid gray;box-sizing: border-box;top: 0;bottom: 0;left: 50%;z-index: 0;}#sk-container-id-1 div.sk-serial {display: flex;flex-direction: column;align-items: center;background-color: white;padding-right: 0.2em;padding-left: 0.2em;position: relative;}#sk-container-id-1 div.sk-item {position: relative;z-index: 1;}#sk-container-id-1 div.sk-parallel {display: flex;align-items: stretch;justify-content: center;background-color: white;position: relative;}#sk-container-id-1 div.sk-item::before, #sk-container-id-1 div.sk-parallel-item::before {content: \"\";position: absolute;border-left: 1px solid gray;box-sizing: border-box;top: 0;bottom: 0;left: 50%;z-index: -1;}#sk-container-id-1 div.sk-parallel-item {display: flex;flex-direction: column;z-index: 1;position: relative;background-color: white;}#sk-container-id-1 div.sk-parallel-item:first-child::after {align-self: flex-end;width: 50%;}#sk-container-id-1 div.sk-parallel-item:last-child::after {align-self: flex-start;width: 50%;}#sk-container-id-1 div.sk-parallel-item:only-child::after {width: 0;}#sk-container-id-1 div.sk-dashed-wrapped {border: 1px dashed gray;margin: 0 0.4em 0.5em 0.4em;box-sizing: border-box;padding-bottom: 0.4em;background-color: white;}#sk-container-id-1 div.sk-label label {font-family: monospace;font-weight: bold;display: inline-block;line-height: 1.2em;}#sk-container-id-1 div.sk-label-container {text-align: center;}#sk-container-id-1 div.sk-container {/* jupyter's `normalize.less` sets `[hidden] { display: none; }` but bootstrap.min.css set `[hidden] { display: none !important; }` so we also need the `!important` here to be able to override the default hidden behavior on the sphinx rendered scikit-learn.org. See: https://github.com/scikit-learn/scikit-learn/issues/21755 */display: inline-block !important;position: relative;}#sk-container-id-1 div.sk-text-repr-fallback {display: none;}</style><div id=\"sk-container-id-1\" class=\"sk-top-container\"><div class=\"sk-text-repr-fallback\"><pre>OrdinalEncoder()</pre><b>In a Jupyter environment, please rerun this cell to show the HTML representation or trust the notebook. <br />On GitHub, the HTML representation is unable to render, please try loading this page with nbviewer.org.</b></div><div class=\"sk-container\" hidden><div class=\"sk-item\"><div class=\"sk-estimator sk-toggleable\"><input class=\"sk-toggleable__control sk-hidden--visually\" id=\"sk-estimator-id-1\" type=\"checkbox\" checked><label for=\"sk-estimator-id-1\" class=\"sk-toggleable__label sk-toggleable__label-arrow\">OrdinalEncoder</label><div class=\"sk-toggleable__content\"><pre>OrdinalEncoder()</pre></div></div></div></div></div>"
     },
     "execution_count": 29,
     "metadata": {},
     "output_type": "execute_result"
    }
   ],
   "source": [
    "enc.fit(X)"
   ],
   "metadata": {
    "collapsed": false,
    "ExecuteTime": {
     "start_time": "2023-10-27T16:08:09.411911700Z"
    }
   }
  },
  {
   "cell_type": "code",
   "execution_count": 30,
   "outputs": [],
   "source": [
    "energy_data['country'] = enc.transform(energy_data[['country']])"
   ],
   "metadata": {
    "collapsed": false,
    "ExecuteTime": {
     "start_time": "2023-10-27T16:08:10.728637100Z"
    }
   }
  },
  {
   "cell_type": "code",
   "execution_count": 41,
   "outputs": [
    {
     "data": {
      "text/plain": "      country  year  access_electricity  access_cooking_fuels  \\\n0         0.0  2000            1.613591                   6.2   \n1         0.0  2001            4.074574                   7.2   \n2         0.0  2002            9.409158                   8.2   \n3         0.0  2003           14.738506                   9.5   \n4         0.0  2004           20.064968                  10.9   \n...       ...   ...                 ...                   ...   \n3644    175.0  2016           42.561730                  29.8   \n3645    175.0  2017           44.178635                  29.8   \n3646    175.0  2018           45.572647                  29.9   \n3647    175.0  2019           46.781475                  30.1   \n3648    175.0  2020           52.747670                  30.4   \n\n      renewable_energy_share  electricity_fossil_fuels  electricity_nuclear  \\\n0                      44.99                      0.16                  0.0   \n1                      45.60                      0.09                  0.0   \n2                      37.83                      0.13                  0.0   \n3                      36.66                      0.31                  0.0   \n4                      44.24                      0.33                  0.0   \n...                      ...                       ...                  ...   \n3644                   81.90                      3.50                  0.0   \n3645                   82.46                      3.05                  0.0   \n3646                   80.23                      3.73                  0.0   \n3647                   81.50                      3.66                  0.0   \n3648                   81.90                      3.40                  0.0   \n\n      electricity_renewals  electricity_low_carbon  \\\n0                     0.31               65.957440   \n1                     0.50               84.745766   \n2                     0.56               81.159424   \n3                     0.63               67.021280   \n4                     0.56               62.921350   \n...                    ...                     ...   \n3644                  3.32               48.680350   \n3645                  4.30               58.503407   \n3646                  5.46               59.412407   \n3647                  4.58               55.582527   \n3648                  4.19               55.204216   \n\n      primary_energy_consumption  energy_level  co2_emissions  gdp_growth  \\\n0                      302.59482          1.64     760.000000         NaN   \n1                      236.89185          1.74     730.000000         NaN   \n2                      210.86215          1.40    1029.999971         NaN   \n3                      229.96822          1.40    1220.000029    8.832278   \n4                      204.23125          1.20    1029.999971    1.414118   \n...                          ...           ...            ...         ...   \n3644                  3227.68020         10.00   11020.000460    0.755869   \n3645                  3068.01150          9.51   10340.000150    4.709492   \n3646                  3441.98580          9.83   12380.000110    4.824211   \n3647                  3003.65530         10.47   11760.000230   -6.144236   \n3648                  2680.13180         10.00            NaN   -6.248748   \n\n      gdp_per_capita density land_area   latitude  longitude  \n0                NaN      60  6,52,230  33.939110  67.709953  \n1                NaN      60  6,52,230  33.939110  67.709953  \n2         179.426579      60  6,52,230  33.939110  67.709953  \n3         190.683814      60  6,52,230  33.939110  67.709953  \n4         211.382074      60  6,52,230  33.939110  67.709953  \n...              ...     ...       ...        ...        ...  \n3644     1464.588957      38  3,90,757 -19.015438  29.154857  \n3645     1235.189032      38  3,90,757 -19.015438  29.154857  \n3646     1254.642265      38  3,90,757 -19.015438  29.154857  \n3647     1316.740657      38  3,90,757 -19.015438  29.154857  \n3648     1214.509820      38  3,90,757 -19.015438  29.154857  \n\n[3649 rows x 18 columns]",
      "text/html": "<div>\n<style scoped>\n    .dataframe tbody tr th:only-of-type {\n        vertical-align: middle;\n    }\n\n    .dataframe tbody tr th {\n        vertical-align: top;\n    }\n\n    .dataframe thead th {\n        text-align: right;\n    }\n</style>\n<table border=\"1\" class=\"dataframe\">\n  <thead>\n    <tr style=\"text-align: right;\">\n      <th></th>\n      <th>country</th>\n      <th>year</th>\n      <th>access_electricity</th>\n      <th>access_cooking_fuels</th>\n      <th>renewable_energy_share</th>\n      <th>electricity_fossil_fuels</th>\n      <th>electricity_nuclear</th>\n      <th>electricity_renewals</th>\n      <th>electricity_low_carbon</th>\n      <th>primary_energy_consumption</th>\n      <th>energy_level</th>\n      <th>co2_emissions</th>\n      <th>gdp_growth</th>\n      <th>gdp_per_capita</th>\n      <th>density</th>\n      <th>land_area</th>\n      <th>latitude</th>\n      <th>longitude</th>\n    </tr>\n  </thead>\n  <tbody>\n    <tr>\n      <th>0</th>\n      <td>0.0</td>\n      <td>2000</td>\n      <td>1.613591</td>\n      <td>6.2</td>\n      <td>44.99</td>\n      <td>0.16</td>\n      <td>0.0</td>\n      <td>0.31</td>\n      <td>65.957440</td>\n      <td>302.59482</td>\n      <td>1.64</td>\n      <td>760.000000</td>\n      <td>NaN</td>\n      <td>NaN</td>\n      <td>60</td>\n      <td>6,52,230</td>\n      <td>33.939110</td>\n      <td>67.709953</td>\n    </tr>\n    <tr>\n      <th>1</th>\n      <td>0.0</td>\n      <td>2001</td>\n      <td>4.074574</td>\n      <td>7.2</td>\n      <td>45.60</td>\n      <td>0.09</td>\n      <td>0.0</td>\n      <td>0.50</td>\n      <td>84.745766</td>\n      <td>236.89185</td>\n      <td>1.74</td>\n      <td>730.000000</td>\n      <td>NaN</td>\n      <td>NaN</td>\n      <td>60</td>\n      <td>6,52,230</td>\n      <td>33.939110</td>\n      <td>67.709953</td>\n    </tr>\n    <tr>\n      <th>2</th>\n      <td>0.0</td>\n      <td>2002</td>\n      <td>9.409158</td>\n      <td>8.2</td>\n      <td>37.83</td>\n      <td>0.13</td>\n      <td>0.0</td>\n      <td>0.56</td>\n      <td>81.159424</td>\n      <td>210.86215</td>\n      <td>1.40</td>\n      <td>1029.999971</td>\n      <td>NaN</td>\n      <td>179.426579</td>\n      <td>60</td>\n      <td>6,52,230</td>\n      <td>33.939110</td>\n      <td>67.709953</td>\n    </tr>\n    <tr>\n      <th>3</th>\n      <td>0.0</td>\n      <td>2003</td>\n      <td>14.738506</td>\n      <td>9.5</td>\n      <td>36.66</td>\n      <td>0.31</td>\n      <td>0.0</td>\n      <td>0.63</td>\n      <td>67.021280</td>\n      <td>229.96822</td>\n      <td>1.40</td>\n      <td>1220.000029</td>\n      <td>8.832278</td>\n      <td>190.683814</td>\n      <td>60</td>\n      <td>6,52,230</td>\n      <td>33.939110</td>\n      <td>67.709953</td>\n    </tr>\n    <tr>\n      <th>4</th>\n      <td>0.0</td>\n      <td>2004</td>\n      <td>20.064968</td>\n      <td>10.9</td>\n      <td>44.24</td>\n      <td>0.33</td>\n      <td>0.0</td>\n      <td>0.56</td>\n      <td>62.921350</td>\n      <td>204.23125</td>\n      <td>1.20</td>\n      <td>1029.999971</td>\n      <td>1.414118</td>\n      <td>211.382074</td>\n      <td>60</td>\n      <td>6,52,230</td>\n      <td>33.939110</td>\n      <td>67.709953</td>\n    </tr>\n    <tr>\n      <th>...</th>\n      <td>...</td>\n      <td>...</td>\n      <td>...</td>\n      <td>...</td>\n      <td>...</td>\n      <td>...</td>\n      <td>...</td>\n      <td>...</td>\n      <td>...</td>\n      <td>...</td>\n      <td>...</td>\n      <td>...</td>\n      <td>...</td>\n      <td>...</td>\n      <td>...</td>\n      <td>...</td>\n      <td>...</td>\n      <td>...</td>\n    </tr>\n    <tr>\n      <th>3644</th>\n      <td>175.0</td>\n      <td>2016</td>\n      <td>42.561730</td>\n      <td>29.8</td>\n      <td>81.90</td>\n      <td>3.50</td>\n      <td>0.0</td>\n      <td>3.32</td>\n      <td>48.680350</td>\n      <td>3227.68020</td>\n      <td>10.00</td>\n      <td>11020.000460</td>\n      <td>0.755869</td>\n      <td>1464.588957</td>\n      <td>38</td>\n      <td>3,90,757</td>\n      <td>-19.015438</td>\n      <td>29.154857</td>\n    </tr>\n    <tr>\n      <th>3645</th>\n      <td>175.0</td>\n      <td>2017</td>\n      <td>44.178635</td>\n      <td>29.8</td>\n      <td>82.46</td>\n      <td>3.05</td>\n      <td>0.0</td>\n      <td>4.30</td>\n      <td>58.503407</td>\n      <td>3068.01150</td>\n      <td>9.51</td>\n      <td>10340.000150</td>\n      <td>4.709492</td>\n      <td>1235.189032</td>\n      <td>38</td>\n      <td>3,90,757</td>\n      <td>-19.015438</td>\n      <td>29.154857</td>\n    </tr>\n    <tr>\n      <th>3646</th>\n      <td>175.0</td>\n      <td>2018</td>\n      <td>45.572647</td>\n      <td>29.9</td>\n      <td>80.23</td>\n      <td>3.73</td>\n      <td>0.0</td>\n      <td>5.46</td>\n      <td>59.412407</td>\n      <td>3441.98580</td>\n      <td>9.83</td>\n      <td>12380.000110</td>\n      <td>4.824211</td>\n      <td>1254.642265</td>\n      <td>38</td>\n      <td>3,90,757</td>\n      <td>-19.015438</td>\n      <td>29.154857</td>\n    </tr>\n    <tr>\n      <th>3647</th>\n      <td>175.0</td>\n      <td>2019</td>\n      <td>46.781475</td>\n      <td>30.1</td>\n      <td>81.50</td>\n      <td>3.66</td>\n      <td>0.0</td>\n      <td>4.58</td>\n      <td>55.582527</td>\n      <td>3003.65530</td>\n      <td>10.47</td>\n      <td>11760.000230</td>\n      <td>-6.144236</td>\n      <td>1316.740657</td>\n      <td>38</td>\n      <td>3,90,757</td>\n      <td>-19.015438</td>\n      <td>29.154857</td>\n    </tr>\n    <tr>\n      <th>3648</th>\n      <td>175.0</td>\n      <td>2020</td>\n      <td>52.747670</td>\n      <td>30.4</td>\n      <td>81.90</td>\n      <td>3.40</td>\n      <td>0.0</td>\n      <td>4.19</td>\n      <td>55.204216</td>\n      <td>2680.13180</td>\n      <td>10.00</td>\n      <td>NaN</td>\n      <td>-6.248748</td>\n      <td>1214.509820</td>\n      <td>38</td>\n      <td>3,90,757</td>\n      <td>-19.015438</td>\n      <td>29.154857</td>\n    </tr>\n  </tbody>\n</table>\n<p>3649 rows × 18 columns</p>\n</div>"
     },
     "execution_count": 41,
     "metadata": {},
     "output_type": "execute_result"
    }
   ],
   "source": [
    "energy_data"
   ],
   "metadata": {
    "collapsed": false,
    "ExecuteTime": {
     "end_time": "2023-10-27T17:06:02.745309400Z",
     "start_time": "2023-10-27T17:06:02.670375800Z"
    }
   }
  },
  {
   "cell_type": "markdown",
   "source": [
    "#Normalization"
   ],
   "metadata": {
    "collapsed": false
   }
  },
  {
   "cell_type": "code",
   "execution_count": 33,
   "outputs": [],
   "source": [
    "from sklearn.preprocessing import normalize"
   ],
   "metadata": {
    "collapsed": false,
    "ExecuteTime": {
     "end_time": "2023-10-27T17:01:01.546787500Z",
     "start_time": "2023-10-27T17:01:01.517765400Z"
    }
   }
  },
  {
   "cell_type": "code",
   "execution_count": 66,
   "outputs": [],
   "source": [
    "X = energy_data[['access_electricity']]"
   ],
   "metadata": {
    "collapsed": false,
    "ExecuteTime": {
     "end_time": "2023-10-27T17:20:12.106413800Z",
     "start_time": "2023-10-27T17:20:12.053278300Z"
    }
   }
  },
  {
   "cell_type": "code",
   "execution_count": 67,
   "outputs": [],
   "source": [
    "normalizer = preprocessing.Normalizer().fit(X)"
   ],
   "metadata": {
    "collapsed": false,
    "ExecuteTime": {
     "end_time": "2023-10-27T17:20:12.560038Z",
     "start_time": "2023-10-27T17:20:12.507922200Z"
    }
   }
  },
  {
   "cell_type": "code",
   "execution_count": 68,
   "outputs": [],
   "source": [
    "energy_data['access_electricity'] = normalizer.transform(X)"
   ],
   "metadata": {
    "collapsed": false,
    "ExecuteTime": {
     "end_time": "2023-10-27T17:20:12.970536600Z",
     "start_time": "2023-10-27T17:20:12.924182800Z"
    }
   }
  },
  {
   "cell_type": "code",
   "execution_count": 69,
   "outputs": [
    {
     "data": {
      "text/plain": "           country         year  access_electricity  access_cooking_fuels  \\\ncount  3649.000000  3649.000000         3649.000000           3649.000000   \nmean     87.308304  2010.038367            0.997260              0.951494   \nstd      50.902368     6.054228            0.052285              0.214863   \nmin       0.000000  2000.000000            0.000000              0.000000   \n25%      43.000000  2005.000000            1.000000              1.000000   \n50%      87.000000  2010.000000            1.000000              1.000000   \n75%     131.000000  2015.000000            1.000000              1.000000   \nmax     175.000000  2020.000000            1.000000              1.000000   \n\n       renewable_energy_share  electricity_fossil_fuels  electricity_nuclear  \\\ncount             3649.000000               3628.000000          3523.000000   \nmean                32.446394                 70.365003            13.450190   \nstd                 29.573587                348.051866            73.006623   \nmin                  0.000000                  0.000000             0.000000   \n25%                  6.640000                  0.290000             0.000000   \n50%                 23.630000                  2.970000             0.000000   \n75%                 54.140000                 26.837500             0.000000   \nmax                 96.040000               5184.130000           809.410000   \n\n       electricity_renewals  electricity_low_carbon  \\\ncount           3628.000000             3607.000000   \nmean              23.968010               36.801182   \nstd              104.431085               34.314884   \nmin                0.000000                0.000000   \n25%                0.040000                2.877847   \n50%                1.470000               27.865068   \n75%                9.600000               64.403792   \nmax             2184.940000              100.000010   \n\n       primary_energy_consumption  energy_level  co2_emissions   gdp_growth  \\\ncount                 3649.000000   3443.000000   3.222000e+03  3332.000000   \nmean                 25743.981745      5.305804   1.598168e+05     3.441610   \nstd                  34773.221366      3.532665   7.735461e+05     5.686720   \nmin                      0.000000      0.000000   0.000000e+00   -62.075920   \n25%                   3116.737300      3.167725   2.012500e+03     1.383302   \n50%                  13120.570000      4.300000   1.049500e+04     3.559855   \n75%                  33892.780000      6.025000   6.057250e+04     5.830099   \nmax                 262585.700000     32.570000   1.070722e+07   123.139555   \n\n       gdp_per_capita     latitude    longitude  \ncount     3367.000000  3648.000000  3648.000000  \nmean     13283.774348    18.246388    14.822695  \nstd      19709.866716    24.159232    66.348148  \nmin        111.927225   -40.900557  -175.198242  \n25%       1337.813437     3.202778   -11.779889  \n50%       4578.633208    17.189877    19.145136  \n75%      15768.615365    38.969719    46.199616  \nmax     123514.196700    64.963051   178.065032  ",
      "text/html": "<div>\n<style scoped>\n    .dataframe tbody tr th:only-of-type {\n        vertical-align: middle;\n    }\n\n    .dataframe tbody tr th {\n        vertical-align: top;\n    }\n\n    .dataframe thead th {\n        text-align: right;\n    }\n</style>\n<table border=\"1\" class=\"dataframe\">\n  <thead>\n    <tr style=\"text-align: right;\">\n      <th></th>\n      <th>country</th>\n      <th>year</th>\n      <th>access_electricity</th>\n      <th>access_cooking_fuels</th>\n      <th>renewable_energy_share</th>\n      <th>electricity_fossil_fuels</th>\n      <th>electricity_nuclear</th>\n      <th>electricity_renewals</th>\n      <th>electricity_low_carbon</th>\n      <th>primary_energy_consumption</th>\n      <th>energy_level</th>\n      <th>co2_emissions</th>\n      <th>gdp_growth</th>\n      <th>gdp_per_capita</th>\n      <th>latitude</th>\n      <th>longitude</th>\n    </tr>\n  </thead>\n  <tbody>\n    <tr>\n      <th>count</th>\n      <td>3649.000000</td>\n      <td>3649.000000</td>\n      <td>3649.000000</td>\n      <td>3649.000000</td>\n      <td>3649.000000</td>\n      <td>3628.000000</td>\n      <td>3523.000000</td>\n      <td>3628.000000</td>\n      <td>3607.000000</td>\n      <td>3649.000000</td>\n      <td>3443.000000</td>\n      <td>3.222000e+03</td>\n      <td>3332.000000</td>\n      <td>3367.000000</td>\n      <td>3648.000000</td>\n      <td>3648.000000</td>\n    </tr>\n    <tr>\n      <th>mean</th>\n      <td>87.308304</td>\n      <td>2010.038367</td>\n      <td>0.997260</td>\n      <td>0.951494</td>\n      <td>32.446394</td>\n      <td>70.365003</td>\n      <td>13.450190</td>\n      <td>23.968010</td>\n      <td>36.801182</td>\n      <td>25743.981745</td>\n      <td>5.305804</td>\n      <td>1.598168e+05</td>\n      <td>3.441610</td>\n      <td>13283.774348</td>\n      <td>18.246388</td>\n      <td>14.822695</td>\n    </tr>\n    <tr>\n      <th>std</th>\n      <td>50.902368</td>\n      <td>6.054228</td>\n      <td>0.052285</td>\n      <td>0.214863</td>\n      <td>29.573587</td>\n      <td>348.051866</td>\n      <td>73.006623</td>\n      <td>104.431085</td>\n      <td>34.314884</td>\n      <td>34773.221366</td>\n      <td>3.532665</td>\n      <td>7.735461e+05</td>\n      <td>5.686720</td>\n      <td>19709.866716</td>\n      <td>24.159232</td>\n      <td>66.348148</td>\n    </tr>\n    <tr>\n      <th>min</th>\n      <td>0.000000</td>\n      <td>2000.000000</td>\n      <td>0.000000</td>\n      <td>0.000000</td>\n      <td>0.000000</td>\n      <td>0.000000</td>\n      <td>0.000000</td>\n      <td>0.000000</td>\n      <td>0.000000</td>\n      <td>0.000000</td>\n      <td>0.000000</td>\n      <td>0.000000e+00</td>\n      <td>-62.075920</td>\n      <td>111.927225</td>\n      <td>-40.900557</td>\n      <td>-175.198242</td>\n    </tr>\n    <tr>\n      <th>25%</th>\n      <td>43.000000</td>\n      <td>2005.000000</td>\n      <td>1.000000</td>\n      <td>1.000000</td>\n      <td>6.640000</td>\n      <td>0.290000</td>\n      <td>0.000000</td>\n      <td>0.040000</td>\n      <td>2.877847</td>\n      <td>3116.737300</td>\n      <td>3.167725</td>\n      <td>2.012500e+03</td>\n      <td>1.383302</td>\n      <td>1337.813437</td>\n      <td>3.202778</td>\n      <td>-11.779889</td>\n    </tr>\n    <tr>\n      <th>50%</th>\n      <td>87.000000</td>\n      <td>2010.000000</td>\n      <td>1.000000</td>\n      <td>1.000000</td>\n      <td>23.630000</td>\n      <td>2.970000</td>\n      <td>0.000000</td>\n      <td>1.470000</td>\n      <td>27.865068</td>\n      <td>13120.570000</td>\n      <td>4.300000</td>\n      <td>1.049500e+04</td>\n      <td>3.559855</td>\n      <td>4578.633208</td>\n      <td>17.189877</td>\n      <td>19.145136</td>\n    </tr>\n    <tr>\n      <th>75%</th>\n      <td>131.000000</td>\n      <td>2015.000000</td>\n      <td>1.000000</td>\n      <td>1.000000</td>\n      <td>54.140000</td>\n      <td>26.837500</td>\n      <td>0.000000</td>\n      <td>9.600000</td>\n      <td>64.403792</td>\n      <td>33892.780000</td>\n      <td>6.025000</td>\n      <td>6.057250e+04</td>\n      <td>5.830099</td>\n      <td>15768.615365</td>\n      <td>38.969719</td>\n      <td>46.199616</td>\n    </tr>\n    <tr>\n      <th>max</th>\n      <td>175.000000</td>\n      <td>2020.000000</td>\n      <td>1.000000</td>\n      <td>1.000000</td>\n      <td>96.040000</td>\n      <td>5184.130000</td>\n      <td>809.410000</td>\n      <td>2184.940000</td>\n      <td>100.000010</td>\n      <td>262585.700000</td>\n      <td>32.570000</td>\n      <td>1.070722e+07</td>\n      <td>123.139555</td>\n      <td>123514.196700</td>\n      <td>64.963051</td>\n      <td>178.065032</td>\n    </tr>\n  </tbody>\n</table>\n</div>"
     },
     "execution_count": 69,
     "metadata": {},
     "output_type": "execute_result"
    }
   ],
   "source": [
    "energy_data.describe()"
   ],
   "metadata": {
    "collapsed": false,
    "ExecuteTime": {
     "end_time": "2023-10-27T17:20:13.659731400Z",
     "start_time": "2023-10-27T17:20:13.609058800Z"
    }
   }
  },
  {
   "cell_type": "code",
   "execution_count": 70,
   "outputs": [
    {
     "data": {
      "text/plain": "           country         year  access_electricity  access_cooking_fuels  \\\ncount  3649.000000  3649.000000         3649.000000           3649.000000   \nmean     87.308304  2010.038367            0.997260              0.951494   \nstd      50.902368     6.054228            0.052285              0.214863   \nmin       0.000000  2000.000000            0.000000              0.000000   \n25%      43.000000  2005.000000            1.000000              1.000000   \n50%      87.000000  2010.000000            1.000000              1.000000   \n75%     131.000000  2015.000000            1.000000              1.000000   \nmax     175.000000  2020.000000            1.000000              1.000000   \n\n       renewable_energy_share  electricity_fossil_fuels  electricity_nuclear  \\\ncount             3649.000000               3628.000000          3523.000000   \nmean                32.446394                 70.365003            13.450190   \nstd                 29.573587                348.051866            73.006623   \nmin                  0.000000                  0.000000             0.000000   \n25%                  6.640000                  0.290000             0.000000   \n50%                 23.630000                  2.970000             0.000000   \n75%                 54.140000                 26.837500             0.000000   \nmax                 96.040000               5184.130000           809.410000   \n\n       electricity_renewals  electricity_low_carbon  \\\ncount           3628.000000             3607.000000   \nmean              23.968010               36.801182   \nstd              104.431085               34.314884   \nmin                0.000000                0.000000   \n25%                0.040000                2.877847   \n50%                1.470000               27.865068   \n75%                9.600000               64.403792   \nmax             2184.940000              100.000010   \n\n       primary_energy_consumption  energy_level  co2_emissions   gdp_growth  \\\ncount                 3649.000000   3443.000000   3.222000e+03  3332.000000   \nmean                 25743.981745      5.305804   1.598168e+05     3.441610   \nstd                  34773.221366      3.532665   7.735461e+05     5.686720   \nmin                      0.000000      0.000000   0.000000e+00   -62.075920   \n25%                   3116.737300      3.167725   2.012500e+03     1.383302   \n50%                  13120.570000      4.300000   1.049500e+04     3.559855   \n75%                  33892.780000      6.025000   6.057250e+04     5.830099   \nmax                 262585.700000     32.570000   1.070722e+07   123.139555   \n\n       gdp_per_capita     latitude    longitude  \ncount     3367.000000  3648.000000  3648.000000  \nmean     13283.774348    18.246388    14.822695  \nstd      19709.866716    24.159232    66.348148  \nmin        111.927225   -40.900557  -175.198242  \n25%       1337.813437     3.202778   -11.779889  \n50%       4578.633208    17.189877    19.145136  \n75%      15768.615365    38.969719    46.199616  \nmax     123514.196700    64.963051   178.065032  ",
      "text/html": "<div>\n<style scoped>\n    .dataframe tbody tr th:only-of-type {\n        vertical-align: middle;\n    }\n\n    .dataframe tbody tr th {\n        vertical-align: top;\n    }\n\n    .dataframe thead th {\n        text-align: right;\n    }\n</style>\n<table border=\"1\" class=\"dataframe\">\n  <thead>\n    <tr style=\"text-align: right;\">\n      <th></th>\n      <th>country</th>\n      <th>year</th>\n      <th>access_electricity</th>\n      <th>access_cooking_fuels</th>\n      <th>renewable_energy_share</th>\n      <th>electricity_fossil_fuels</th>\n      <th>electricity_nuclear</th>\n      <th>electricity_renewals</th>\n      <th>electricity_low_carbon</th>\n      <th>primary_energy_consumption</th>\n      <th>energy_level</th>\n      <th>co2_emissions</th>\n      <th>gdp_growth</th>\n      <th>gdp_per_capita</th>\n      <th>latitude</th>\n      <th>longitude</th>\n    </tr>\n  </thead>\n  <tbody>\n    <tr>\n      <th>count</th>\n      <td>3649.000000</td>\n      <td>3649.000000</td>\n      <td>3649.000000</td>\n      <td>3649.000000</td>\n      <td>3649.000000</td>\n      <td>3628.000000</td>\n      <td>3523.000000</td>\n      <td>3628.000000</td>\n      <td>3607.000000</td>\n      <td>3649.000000</td>\n      <td>3443.000000</td>\n      <td>3.222000e+03</td>\n      <td>3332.000000</td>\n      <td>3367.000000</td>\n      <td>3648.000000</td>\n      <td>3648.000000</td>\n    </tr>\n    <tr>\n      <th>mean</th>\n      <td>87.308304</td>\n      <td>2010.038367</td>\n      <td>0.997260</td>\n      <td>0.951494</td>\n      <td>32.446394</td>\n      <td>70.365003</td>\n      <td>13.450190</td>\n      <td>23.968010</td>\n      <td>36.801182</td>\n      <td>25743.981745</td>\n      <td>5.305804</td>\n      <td>1.598168e+05</td>\n      <td>3.441610</td>\n      <td>13283.774348</td>\n      <td>18.246388</td>\n      <td>14.822695</td>\n    </tr>\n    <tr>\n      <th>std</th>\n      <td>50.902368</td>\n      <td>6.054228</td>\n      <td>0.052285</td>\n      <td>0.214863</td>\n      <td>29.573587</td>\n      <td>348.051866</td>\n      <td>73.006623</td>\n      <td>104.431085</td>\n      <td>34.314884</td>\n      <td>34773.221366</td>\n      <td>3.532665</td>\n      <td>7.735461e+05</td>\n      <td>5.686720</td>\n      <td>19709.866716</td>\n      <td>24.159232</td>\n      <td>66.348148</td>\n    </tr>\n    <tr>\n      <th>min</th>\n      <td>0.000000</td>\n      <td>2000.000000</td>\n      <td>0.000000</td>\n      <td>0.000000</td>\n      <td>0.000000</td>\n      <td>0.000000</td>\n      <td>0.000000</td>\n      <td>0.000000</td>\n      <td>0.000000</td>\n      <td>0.000000</td>\n      <td>0.000000</td>\n      <td>0.000000e+00</td>\n      <td>-62.075920</td>\n      <td>111.927225</td>\n      <td>-40.900557</td>\n      <td>-175.198242</td>\n    </tr>\n    <tr>\n      <th>25%</th>\n      <td>43.000000</td>\n      <td>2005.000000</td>\n      <td>1.000000</td>\n      <td>1.000000</td>\n      <td>6.640000</td>\n      <td>0.290000</td>\n      <td>0.000000</td>\n      <td>0.040000</td>\n      <td>2.877847</td>\n      <td>3116.737300</td>\n      <td>3.167725</td>\n      <td>2.012500e+03</td>\n      <td>1.383302</td>\n      <td>1337.813437</td>\n      <td>3.202778</td>\n      <td>-11.779889</td>\n    </tr>\n    <tr>\n      <th>50%</th>\n      <td>87.000000</td>\n      <td>2010.000000</td>\n      <td>1.000000</td>\n      <td>1.000000</td>\n      <td>23.630000</td>\n      <td>2.970000</td>\n      <td>0.000000</td>\n      <td>1.470000</td>\n      <td>27.865068</td>\n      <td>13120.570000</td>\n      <td>4.300000</td>\n      <td>1.049500e+04</td>\n      <td>3.559855</td>\n      <td>4578.633208</td>\n      <td>17.189877</td>\n      <td>19.145136</td>\n    </tr>\n    <tr>\n      <th>75%</th>\n      <td>131.000000</td>\n      <td>2015.000000</td>\n      <td>1.000000</td>\n      <td>1.000000</td>\n      <td>54.140000</td>\n      <td>26.837500</td>\n      <td>0.000000</td>\n      <td>9.600000</td>\n      <td>64.403792</td>\n      <td>33892.780000</td>\n      <td>6.025000</td>\n      <td>6.057250e+04</td>\n      <td>5.830099</td>\n      <td>15768.615365</td>\n      <td>38.969719</td>\n      <td>46.199616</td>\n    </tr>\n    <tr>\n      <th>max</th>\n      <td>175.000000</td>\n      <td>2020.000000</td>\n      <td>1.000000</td>\n      <td>1.000000</td>\n      <td>96.040000</td>\n      <td>5184.130000</td>\n      <td>809.410000</td>\n      <td>2184.940000</td>\n      <td>100.000010</td>\n      <td>262585.700000</td>\n      <td>32.570000</td>\n      <td>1.070722e+07</td>\n      <td>123.139555</td>\n      <td>123514.196700</td>\n      <td>64.963051</td>\n      <td>178.065032</td>\n    </tr>\n  </tbody>\n</table>\n</div>"
     },
     "execution_count": 70,
     "metadata": {},
     "output_type": "execute_result"
    }
   ],
   "source": [
    "X = energy_data[['access_cooking_fuels']]\n",
    "normalizer = preprocessing.Normalizer().fit(X)\n",
    "energy_data['access_cooking_fuels'] = normalizer.transform(X)\n",
    "energy_data.describe()"
   ],
   "metadata": {
    "collapsed": false,
    "ExecuteTime": {
     "end_time": "2023-10-27T17:26:05.220905300Z",
     "start_time": "2023-10-27T17:26:05.145970500Z"
    }
   }
  },
  {
   "cell_type": "code",
   "execution_count": 73,
   "outputs": [
    {
     "data": {
      "text/plain": "           country         year  access_electricity  access_cooking_fuels  \\\ncount  3649.000000  3649.000000         3649.000000           3649.000000   \nmean     87.308304  2010.038367            0.997260              0.951494   \nstd      50.902368     6.054228            0.052285              0.214863   \nmin       0.000000  2000.000000            0.000000              0.000000   \n25%      43.000000  2005.000000            1.000000              1.000000   \n50%      87.000000  2010.000000            1.000000              1.000000   \n75%     131.000000  2015.000000            1.000000              1.000000   \nmax     175.000000  2020.000000            1.000000              1.000000   \n\n       renewable_energy_share  electricity_fossil_fuels  electricity_nuclear  \\\ncount             3649.000000               3628.000000          3523.000000   \nmean                 0.968210                 70.365003            13.450190   \nstd                  0.175463                348.051866            73.006623   \nmin                  0.000000                  0.000000             0.000000   \n25%                  1.000000                  0.290000             0.000000   \n50%                  1.000000                  2.970000             0.000000   \n75%                  1.000000                 26.837500             0.000000   \nmax                  1.000000               5184.130000           809.410000   \n\n       electricity_renewals  electricity_low_carbon  \\\ncount           3628.000000             3607.000000   \nmean              23.968010               36.801182   \nstd              104.431085               34.314884   \nmin                0.000000                0.000000   \n25%                0.040000                2.877847   \n50%                1.470000               27.865068   \n75%                9.600000               64.403792   \nmax             2184.940000              100.000010   \n\n       primary_energy_consumption  energy_level  co2_emissions   gdp_growth  \\\ncount                 3649.000000   3443.000000   3.222000e+03  3332.000000   \nmean                 25743.981745      5.305804   1.598168e+05     3.441610   \nstd                  34773.221366      3.532665   7.735461e+05     5.686720   \nmin                      0.000000      0.000000   0.000000e+00   -62.075920   \n25%                   3116.737300      3.167725   2.012500e+03     1.383302   \n50%                  13120.570000      4.300000   1.049500e+04     3.559855   \n75%                  33892.780000      6.025000   6.057250e+04     5.830099   \nmax                 262585.700000     32.570000   1.070722e+07   123.139555   \n\n       gdp_per_capita     latitude    longitude  \ncount     3367.000000  3648.000000  3648.000000  \nmean     13283.774348    18.246388    14.822695  \nstd      19709.866716    24.159232    66.348148  \nmin        111.927225   -40.900557  -175.198242  \n25%       1337.813437     3.202778   -11.779889  \n50%       4578.633208    17.189877    19.145136  \n75%      15768.615365    38.969719    46.199616  \nmax     123514.196700    64.963051   178.065032  ",
      "text/html": "<div>\n<style scoped>\n    .dataframe tbody tr th:only-of-type {\n        vertical-align: middle;\n    }\n\n    .dataframe tbody tr th {\n        vertical-align: top;\n    }\n\n    .dataframe thead th {\n        text-align: right;\n    }\n</style>\n<table border=\"1\" class=\"dataframe\">\n  <thead>\n    <tr style=\"text-align: right;\">\n      <th></th>\n      <th>country</th>\n      <th>year</th>\n      <th>access_electricity</th>\n      <th>access_cooking_fuels</th>\n      <th>renewable_energy_share</th>\n      <th>electricity_fossil_fuels</th>\n      <th>electricity_nuclear</th>\n      <th>electricity_renewals</th>\n      <th>electricity_low_carbon</th>\n      <th>primary_energy_consumption</th>\n      <th>energy_level</th>\n      <th>co2_emissions</th>\n      <th>gdp_growth</th>\n      <th>gdp_per_capita</th>\n      <th>latitude</th>\n      <th>longitude</th>\n    </tr>\n  </thead>\n  <tbody>\n    <tr>\n      <th>count</th>\n      <td>3649.000000</td>\n      <td>3649.000000</td>\n      <td>3649.000000</td>\n      <td>3649.000000</td>\n      <td>3649.000000</td>\n      <td>3628.000000</td>\n      <td>3523.000000</td>\n      <td>3628.000000</td>\n      <td>3607.000000</td>\n      <td>3649.000000</td>\n      <td>3443.000000</td>\n      <td>3.222000e+03</td>\n      <td>3332.000000</td>\n      <td>3367.000000</td>\n      <td>3648.000000</td>\n      <td>3648.000000</td>\n    </tr>\n    <tr>\n      <th>mean</th>\n      <td>87.308304</td>\n      <td>2010.038367</td>\n      <td>0.997260</td>\n      <td>0.951494</td>\n      <td>0.968210</td>\n      <td>70.365003</td>\n      <td>13.450190</td>\n      <td>23.968010</td>\n      <td>36.801182</td>\n      <td>25743.981745</td>\n      <td>5.305804</td>\n      <td>1.598168e+05</td>\n      <td>3.441610</td>\n      <td>13283.774348</td>\n      <td>18.246388</td>\n      <td>14.822695</td>\n    </tr>\n    <tr>\n      <th>std</th>\n      <td>50.902368</td>\n      <td>6.054228</td>\n      <td>0.052285</td>\n      <td>0.214863</td>\n      <td>0.175463</td>\n      <td>348.051866</td>\n      <td>73.006623</td>\n      <td>104.431085</td>\n      <td>34.314884</td>\n      <td>34773.221366</td>\n      <td>3.532665</td>\n      <td>7.735461e+05</td>\n      <td>5.686720</td>\n      <td>19709.866716</td>\n      <td>24.159232</td>\n      <td>66.348148</td>\n    </tr>\n    <tr>\n      <th>min</th>\n      <td>0.000000</td>\n      <td>2000.000000</td>\n      <td>0.000000</td>\n      <td>0.000000</td>\n      <td>0.000000</td>\n      <td>0.000000</td>\n      <td>0.000000</td>\n      <td>0.000000</td>\n      <td>0.000000</td>\n      <td>0.000000</td>\n      <td>0.000000</td>\n      <td>0.000000e+00</td>\n      <td>-62.075920</td>\n      <td>111.927225</td>\n      <td>-40.900557</td>\n      <td>-175.198242</td>\n    </tr>\n    <tr>\n      <th>25%</th>\n      <td>43.000000</td>\n      <td>2005.000000</td>\n      <td>1.000000</td>\n      <td>1.000000</td>\n      <td>1.000000</td>\n      <td>0.290000</td>\n      <td>0.000000</td>\n      <td>0.040000</td>\n      <td>2.877847</td>\n      <td>3116.737300</td>\n      <td>3.167725</td>\n      <td>2.012500e+03</td>\n      <td>1.383302</td>\n      <td>1337.813437</td>\n      <td>3.202778</td>\n      <td>-11.779889</td>\n    </tr>\n    <tr>\n      <th>50%</th>\n      <td>87.000000</td>\n      <td>2010.000000</td>\n      <td>1.000000</td>\n      <td>1.000000</td>\n      <td>1.000000</td>\n      <td>2.970000</td>\n      <td>0.000000</td>\n      <td>1.470000</td>\n      <td>27.865068</td>\n      <td>13120.570000</td>\n      <td>4.300000</td>\n      <td>1.049500e+04</td>\n      <td>3.559855</td>\n      <td>4578.633208</td>\n      <td>17.189877</td>\n      <td>19.145136</td>\n    </tr>\n    <tr>\n      <th>75%</th>\n      <td>131.000000</td>\n      <td>2015.000000</td>\n      <td>1.000000</td>\n      <td>1.000000</td>\n      <td>1.000000</td>\n      <td>26.837500</td>\n      <td>0.000000</td>\n      <td>9.600000</td>\n      <td>64.403792</td>\n      <td>33892.780000</td>\n      <td>6.025000</td>\n      <td>6.057250e+04</td>\n      <td>5.830099</td>\n      <td>15768.615365</td>\n      <td>38.969719</td>\n      <td>46.199616</td>\n    </tr>\n    <tr>\n      <th>max</th>\n      <td>175.000000</td>\n      <td>2020.000000</td>\n      <td>1.000000</td>\n      <td>1.000000</td>\n      <td>1.000000</td>\n      <td>5184.130000</td>\n      <td>809.410000</td>\n      <td>2184.940000</td>\n      <td>100.000010</td>\n      <td>262585.700000</td>\n      <td>32.570000</td>\n      <td>1.070722e+07</td>\n      <td>123.139555</td>\n      <td>123514.196700</td>\n      <td>64.963051</td>\n      <td>178.065032</td>\n    </tr>\n  </tbody>\n</table>\n</div>"
     },
     "execution_count": 73,
     "metadata": {},
     "output_type": "execute_result"
    }
   ],
   "source": [
    "X = energy_data[['renewable_energy_share']]\n",
    "normalizer = preprocessing.Normalizer().fit(X)\n",
    "energy_data['renewable_energy_share'] = normalizer.transform(X)\n",
    "energy_data.describe()"
   ],
   "metadata": {
    "collapsed": false,
    "ExecuteTime": {
     "end_time": "2023-10-27T17:28:15.328406800Z",
     "start_time": "2023-10-27T17:28:15.226919Z"
    }
   }
  },
  {
   "cell_type": "code",
   "execution_count": 74,
   "outputs": [
    {
     "ename": "ValueError",
     "evalue": "Input X contains NaN.\nNormalizer does not accept missing values encoded as NaN natively. For supervised learning, you might want to consider sklearn.ensemble.HistGradientBoostingClassifier and Regressor which accept missing values encoded as NaNs natively. Alternatively, it is possible to preprocess the data, for instance by using an imputer transformer in a pipeline or drop samples with missing values. See https://scikit-learn.org/stable/modules/impute.html You can find a list of all estimators that handle NaN values at the following page: https://scikit-learn.org/stable/modules/impute.html#estimators-that-handle-nan-values",
     "output_type": "error",
     "traceback": [
      "\u001B[1;31m---------------------------------------------------------------------------\u001B[0m",
      "\u001B[1;31mValueError\u001B[0m                                Traceback (most recent call last)",
      "Cell \u001B[1;32mIn[74], line 2\u001B[0m\n\u001B[0;32m      1\u001B[0m X \u001B[38;5;241m=\u001B[39m energy_data[[\u001B[38;5;124m'\u001B[39m\u001B[38;5;124melectricity_fossil_fuels\u001B[39m\u001B[38;5;124m'\u001B[39m]]\n\u001B[1;32m----> 2\u001B[0m normalizer \u001B[38;5;241m=\u001B[39m \u001B[43mpreprocessing\u001B[49m\u001B[38;5;241;43m.\u001B[39;49m\u001B[43mNormalizer\u001B[49m\u001B[43m(\u001B[49m\u001B[43m)\u001B[49m\u001B[38;5;241;43m.\u001B[39;49m\u001B[43mfit\u001B[49m\u001B[43m(\u001B[49m\u001B[43mX\u001B[49m\u001B[43m)\u001B[49m\n\u001B[0;32m      3\u001B[0m energy_data[\u001B[38;5;124m'\u001B[39m\u001B[38;5;124melectricity_fossil_fuels\u001B[39m\u001B[38;5;124m'\u001B[39m] \u001B[38;5;241m=\u001B[39m normalizer\u001B[38;5;241m.\u001B[39mtransform(X)\n\u001B[0;32m      4\u001B[0m energy_data\u001B[38;5;241m.\u001B[39mdescribe()\n",
      "File \u001B[1;32m~\\AppData\\Local\\Programs\\Python\\Python311\\Lib\\site-packages\\sklearn\\base.py:1152\u001B[0m, in \u001B[0;36m_fit_context.<locals>.decorator.<locals>.wrapper\u001B[1;34m(estimator, *args, **kwargs)\u001B[0m\n\u001B[0;32m   1145\u001B[0m     estimator\u001B[38;5;241m.\u001B[39m_validate_params()\n\u001B[0;32m   1147\u001B[0m \u001B[38;5;28;01mwith\u001B[39;00m config_context(\n\u001B[0;32m   1148\u001B[0m     skip_parameter_validation\u001B[38;5;241m=\u001B[39m(\n\u001B[0;32m   1149\u001B[0m         prefer_skip_nested_validation \u001B[38;5;129;01mor\u001B[39;00m global_skip_validation\n\u001B[0;32m   1150\u001B[0m     )\n\u001B[0;32m   1151\u001B[0m ):\n\u001B[1;32m-> 1152\u001B[0m     \u001B[38;5;28;01mreturn\u001B[39;00m \u001B[43mfit_method\u001B[49m\u001B[43m(\u001B[49m\u001B[43mestimator\u001B[49m\u001B[43m,\u001B[49m\u001B[43m \u001B[49m\u001B[38;5;241;43m*\u001B[39;49m\u001B[43margs\u001B[49m\u001B[43m,\u001B[49m\u001B[43m \u001B[49m\u001B[38;5;241;43m*\u001B[39;49m\u001B[38;5;241;43m*\u001B[39;49m\u001B[43mkwargs\u001B[49m\u001B[43m)\u001B[49m\n",
      "File \u001B[1;32m~\\AppData\\Local\\Programs\\Python\\Python311\\Lib\\site-packages\\sklearn\\preprocessing\\_data.py:1989\u001B[0m, in \u001B[0;36mNormalizer.fit\u001B[1;34m(self, X, y)\u001B[0m\n\u001B[0;32m   1969\u001B[0m \u001B[38;5;129m@_fit_context\u001B[39m(prefer_skip_nested_validation\u001B[38;5;241m=\u001B[39m\u001B[38;5;28;01mTrue\u001B[39;00m)\n\u001B[0;32m   1970\u001B[0m \u001B[38;5;28;01mdef\u001B[39;00m \u001B[38;5;21mfit\u001B[39m(\u001B[38;5;28mself\u001B[39m, X, y\u001B[38;5;241m=\u001B[39m\u001B[38;5;28;01mNone\u001B[39;00m):\n\u001B[0;32m   1971\u001B[0m \u001B[38;5;250m    \u001B[39m\u001B[38;5;124;03m\"\"\"Only validates estimator's parameters.\u001B[39;00m\n\u001B[0;32m   1972\u001B[0m \n\u001B[0;32m   1973\u001B[0m \u001B[38;5;124;03m    This method allows to: (i) validate the estimator's parameters and\u001B[39;00m\n\u001B[1;32m   (...)\u001B[0m\n\u001B[0;32m   1987\u001B[0m \u001B[38;5;124;03m        Fitted transformer.\u001B[39;00m\n\u001B[0;32m   1988\u001B[0m \u001B[38;5;124;03m    \"\"\"\u001B[39;00m\n\u001B[1;32m-> 1989\u001B[0m     \u001B[38;5;28;43mself\u001B[39;49m\u001B[38;5;241;43m.\u001B[39;49m\u001B[43m_validate_data\u001B[49m\u001B[43m(\u001B[49m\u001B[43mX\u001B[49m\u001B[43m,\u001B[49m\u001B[43m \u001B[49m\u001B[43maccept_sparse\u001B[49m\u001B[38;5;241;43m=\u001B[39;49m\u001B[38;5;124;43m\"\u001B[39;49m\u001B[38;5;124;43mcsr\u001B[39;49m\u001B[38;5;124;43m\"\u001B[39;49m\u001B[43m)\u001B[49m\n\u001B[0;32m   1990\u001B[0m     \u001B[38;5;28;01mreturn\u001B[39;00m \u001B[38;5;28mself\u001B[39m\n",
      "File \u001B[1;32m~\\AppData\\Local\\Programs\\Python\\Python311\\Lib\\site-packages\\sklearn\\base.py:605\u001B[0m, in \u001B[0;36mBaseEstimator._validate_data\u001B[1;34m(self, X, y, reset, validate_separately, cast_to_ndarray, **check_params)\u001B[0m\n\u001B[0;32m    603\u001B[0m         out \u001B[38;5;241m=\u001B[39m X, y\n\u001B[0;32m    604\u001B[0m \u001B[38;5;28;01melif\u001B[39;00m \u001B[38;5;129;01mnot\u001B[39;00m no_val_X \u001B[38;5;129;01mand\u001B[39;00m no_val_y:\n\u001B[1;32m--> 605\u001B[0m     out \u001B[38;5;241m=\u001B[39m \u001B[43mcheck_array\u001B[49m\u001B[43m(\u001B[49m\u001B[43mX\u001B[49m\u001B[43m,\u001B[49m\u001B[43m \u001B[49m\u001B[43minput_name\u001B[49m\u001B[38;5;241;43m=\u001B[39;49m\u001B[38;5;124;43m\"\u001B[39;49m\u001B[38;5;124;43mX\u001B[39;49m\u001B[38;5;124;43m\"\u001B[39;49m\u001B[43m,\u001B[49m\u001B[43m \u001B[49m\u001B[38;5;241;43m*\u001B[39;49m\u001B[38;5;241;43m*\u001B[39;49m\u001B[43mcheck_params\u001B[49m\u001B[43m)\u001B[49m\n\u001B[0;32m    606\u001B[0m \u001B[38;5;28;01melif\u001B[39;00m no_val_X \u001B[38;5;129;01mand\u001B[39;00m \u001B[38;5;129;01mnot\u001B[39;00m no_val_y:\n\u001B[0;32m    607\u001B[0m     out \u001B[38;5;241m=\u001B[39m _check_y(y, \u001B[38;5;241m*\u001B[39m\u001B[38;5;241m*\u001B[39mcheck_params)\n",
      "File \u001B[1;32m~\\AppData\\Local\\Programs\\Python\\Python311\\Lib\\site-packages\\sklearn\\utils\\validation.py:957\u001B[0m, in \u001B[0;36mcheck_array\u001B[1;34m(array, accept_sparse, accept_large_sparse, dtype, order, copy, force_all_finite, ensure_2d, allow_nd, ensure_min_samples, ensure_min_features, estimator, input_name)\u001B[0m\n\u001B[0;32m    951\u001B[0m         \u001B[38;5;28;01mraise\u001B[39;00m \u001B[38;5;167;01mValueError\u001B[39;00m(\n\u001B[0;32m    952\u001B[0m             \u001B[38;5;124m\"\u001B[39m\u001B[38;5;124mFound array with dim \u001B[39m\u001B[38;5;132;01m%d\u001B[39;00m\u001B[38;5;124m. \u001B[39m\u001B[38;5;132;01m%s\u001B[39;00m\u001B[38;5;124m expected <= 2.\u001B[39m\u001B[38;5;124m\"\u001B[39m\n\u001B[0;32m    953\u001B[0m             \u001B[38;5;241m%\u001B[39m (array\u001B[38;5;241m.\u001B[39mndim, estimator_name)\n\u001B[0;32m    954\u001B[0m         )\n\u001B[0;32m    956\u001B[0m     \u001B[38;5;28;01mif\u001B[39;00m force_all_finite:\n\u001B[1;32m--> 957\u001B[0m         \u001B[43m_assert_all_finite\u001B[49m\u001B[43m(\u001B[49m\n\u001B[0;32m    958\u001B[0m \u001B[43m            \u001B[49m\u001B[43marray\u001B[49m\u001B[43m,\u001B[49m\n\u001B[0;32m    959\u001B[0m \u001B[43m            \u001B[49m\u001B[43minput_name\u001B[49m\u001B[38;5;241;43m=\u001B[39;49m\u001B[43minput_name\u001B[49m\u001B[43m,\u001B[49m\n\u001B[0;32m    960\u001B[0m \u001B[43m            \u001B[49m\u001B[43mestimator_name\u001B[49m\u001B[38;5;241;43m=\u001B[39;49m\u001B[43mestimator_name\u001B[49m\u001B[43m,\u001B[49m\n\u001B[0;32m    961\u001B[0m \u001B[43m            \u001B[49m\u001B[43mallow_nan\u001B[49m\u001B[38;5;241;43m=\u001B[39;49m\u001B[43mforce_all_finite\u001B[49m\u001B[43m \u001B[49m\u001B[38;5;241;43m==\u001B[39;49m\u001B[43m \u001B[49m\u001B[38;5;124;43m\"\u001B[39;49m\u001B[38;5;124;43mallow-nan\u001B[39;49m\u001B[38;5;124;43m\"\u001B[39;49m\u001B[43m,\u001B[49m\n\u001B[0;32m    962\u001B[0m \u001B[43m        \u001B[49m\u001B[43m)\u001B[49m\n\u001B[0;32m    964\u001B[0m \u001B[38;5;28;01mif\u001B[39;00m ensure_min_samples \u001B[38;5;241m>\u001B[39m \u001B[38;5;241m0\u001B[39m:\n\u001B[0;32m    965\u001B[0m     n_samples \u001B[38;5;241m=\u001B[39m _num_samples(array)\n",
      "File \u001B[1;32m~\\AppData\\Local\\Programs\\Python\\Python311\\Lib\\site-packages\\sklearn\\utils\\validation.py:122\u001B[0m, in \u001B[0;36m_assert_all_finite\u001B[1;34m(X, allow_nan, msg_dtype, estimator_name, input_name)\u001B[0m\n\u001B[0;32m    119\u001B[0m \u001B[38;5;28;01mif\u001B[39;00m first_pass_isfinite:\n\u001B[0;32m    120\u001B[0m     \u001B[38;5;28;01mreturn\u001B[39;00m\n\u001B[1;32m--> 122\u001B[0m \u001B[43m_assert_all_finite_element_wise\u001B[49m\u001B[43m(\u001B[49m\n\u001B[0;32m    123\u001B[0m \u001B[43m    \u001B[49m\u001B[43mX\u001B[49m\u001B[43m,\u001B[49m\n\u001B[0;32m    124\u001B[0m \u001B[43m    \u001B[49m\u001B[43mxp\u001B[49m\u001B[38;5;241;43m=\u001B[39;49m\u001B[43mxp\u001B[49m\u001B[43m,\u001B[49m\n\u001B[0;32m    125\u001B[0m \u001B[43m    \u001B[49m\u001B[43mallow_nan\u001B[49m\u001B[38;5;241;43m=\u001B[39;49m\u001B[43mallow_nan\u001B[49m\u001B[43m,\u001B[49m\n\u001B[0;32m    126\u001B[0m \u001B[43m    \u001B[49m\u001B[43mmsg_dtype\u001B[49m\u001B[38;5;241;43m=\u001B[39;49m\u001B[43mmsg_dtype\u001B[49m\u001B[43m,\u001B[49m\n\u001B[0;32m    127\u001B[0m \u001B[43m    \u001B[49m\u001B[43mestimator_name\u001B[49m\u001B[38;5;241;43m=\u001B[39;49m\u001B[43mestimator_name\u001B[49m\u001B[43m,\u001B[49m\n\u001B[0;32m    128\u001B[0m \u001B[43m    \u001B[49m\u001B[43minput_name\u001B[49m\u001B[38;5;241;43m=\u001B[39;49m\u001B[43minput_name\u001B[49m\u001B[43m,\u001B[49m\n\u001B[0;32m    129\u001B[0m \u001B[43m\u001B[49m\u001B[43m)\u001B[49m\n",
      "File \u001B[1;32m~\\AppData\\Local\\Programs\\Python\\Python311\\Lib\\site-packages\\sklearn\\utils\\validation.py:171\u001B[0m, in \u001B[0;36m_assert_all_finite_element_wise\u001B[1;34m(X, xp, allow_nan, msg_dtype, estimator_name, input_name)\u001B[0m\n\u001B[0;32m    154\u001B[0m \u001B[38;5;28;01mif\u001B[39;00m estimator_name \u001B[38;5;129;01mand\u001B[39;00m input_name \u001B[38;5;241m==\u001B[39m \u001B[38;5;124m\"\u001B[39m\u001B[38;5;124mX\u001B[39m\u001B[38;5;124m\"\u001B[39m \u001B[38;5;129;01mand\u001B[39;00m has_nan_error:\n\u001B[0;32m    155\u001B[0m     \u001B[38;5;66;03m# Improve the error message on how to handle missing values in\u001B[39;00m\n\u001B[0;32m    156\u001B[0m     \u001B[38;5;66;03m# scikit-learn.\u001B[39;00m\n\u001B[0;32m    157\u001B[0m     msg_err \u001B[38;5;241m+\u001B[39m\u001B[38;5;241m=\u001B[39m (\n\u001B[0;32m    158\u001B[0m         \u001B[38;5;124mf\u001B[39m\u001B[38;5;124m\"\u001B[39m\u001B[38;5;130;01m\\n\u001B[39;00m\u001B[38;5;132;01m{\u001B[39;00mestimator_name\u001B[38;5;132;01m}\u001B[39;00m\u001B[38;5;124m does not accept missing values\u001B[39m\u001B[38;5;124m\"\u001B[39m\n\u001B[0;32m    159\u001B[0m         \u001B[38;5;124m\"\u001B[39m\u001B[38;5;124m encoded as NaN natively. For supervised learning, you might want\u001B[39m\u001B[38;5;124m\"\u001B[39m\n\u001B[1;32m   (...)\u001B[0m\n\u001B[0;32m    169\u001B[0m         \u001B[38;5;124m\"\u001B[39m\u001B[38;5;124m#estimators-that-handle-nan-values\u001B[39m\u001B[38;5;124m\"\u001B[39m\n\u001B[0;32m    170\u001B[0m     )\n\u001B[1;32m--> 171\u001B[0m \u001B[38;5;28;01mraise\u001B[39;00m \u001B[38;5;167;01mValueError\u001B[39;00m(msg_err)\n",
      "\u001B[1;31mValueError\u001B[0m: Input X contains NaN.\nNormalizer does not accept missing values encoded as NaN natively. For supervised learning, you might want to consider sklearn.ensemble.HistGradientBoostingClassifier and Regressor which accept missing values encoded as NaNs natively. Alternatively, it is possible to preprocess the data, for instance by using an imputer transformer in a pipeline or drop samples with missing values. See https://scikit-learn.org/stable/modules/impute.html You can find a list of all estimators that handle NaN values at the following page: https://scikit-learn.org/stable/modules/impute.html#estimators-that-handle-nan-values"
     ]
    }
   ],
   "source": [
    "X = energy_data[['electricity_fossil_fuels']]\n",
    "normalizer = preprocessing.Normalizer().fit(X)\n",
    "energy_data['electricity_fossil_fuels'] = normalizer.transform(X)\n",
    "energy_data.describe()"
   ],
   "metadata": {
    "collapsed": false,
    "ExecuteTime": {
     "end_time": "2023-10-27T17:29:03.535046300Z",
     "start_time": "2023-10-27T17:29:03.223628600Z"
    }
   }
  },
  {
   "cell_type": "markdown",
   "source": [
    "## 6. Separating the numerical and categorical columns"
   ],
   "metadata": {
    "collapsed": false
   }
  },
  {
   "cell_type": "markdown",
   "source": [
    "## 7. Detecting Outlierss"
   ],
   "metadata": {
    "collapsed": false
   }
  },
  {
   "cell_type": "markdown",
   "source": [
    "## 8. Test of Normality (Focus in highway_mpg to answer the initial question)"
   ],
   "metadata": {
    "collapsed": false
   }
  },
  {
   "cell_type": "markdown",
   "source": [
    "Our initial question was. What is the most Fuel efficient (MPG) type of car? In order to treat the data, we are gonna perform the normality tests."
   ],
   "metadata": {
    "collapsed": false
   }
  },
  {
   "cell_type": "markdown",
   "source": [
    "### 10. Graphical Analysis (Power BI)"
   ],
   "metadata": {
    "collapsed": false
   }
  },
  {
   "cell_type": "markdown",
   "source": [
    "Export DataFrame to an excel file to be used in PowerBI"
   ],
   "metadata": {
    "collapsed": false
   }
  },
  {
   "cell_type": "markdown",
   "source": [
    "### 11. Conclusion / Answer Question"
   ],
   "metadata": {
    "collapsed": false
   }
  },
  {
   "cell_type": "markdown",
   "source": [
    "From the above, we can conclude the following answer to the question. What is the most fuel efficient car type (MPG)? In other words, which group of characteristicas have the higher Highway MPG:\n",
    "- Brand: Scion and FIAT\n",
    "- Driven Wheel: Front\n",
    "- Number of Doors: 2\n",
    "- Transmission: Direct Drive\n"
   ],
   "metadata": {
    "collapsed": false
   }
  }
 ],
 "metadata": {
  "colab": {
   "include_colab_link": true,
   "provenance": []
  },
  "kernelspec": {
   "display_name": "Python 3 (ipykernel)",
   "language": "python",
   "name": "python3"
  },
  "language_info": {
   "codemirror_mode": {
    "name": "ipython",
    "version": 3
   },
   "file_extension": ".py",
   "mimetype": "text/x-python",
   "name": "python",
   "nbconvert_exporter": "python",
   "pygments_lexer": "ipython3",
   "version": "3.11.2"
  }
 },
 "nbformat": 4,
 "nbformat_minor": 4
}
