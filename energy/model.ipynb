{
 "cells": [
  {
   "cell_type": "markdown",
   "source": [
    "# Energy Dataset."
   ],
   "metadata": {
    "collapsed": false
   }
  },
  {
   "cell_type": "markdown",
   "source": [
    "## 1. Importing the required libraries for EDA"
   ],
   "metadata": {
    "collapsed": false
   }
  },
  {
   "cell_type": "markdown",
   "source": [
    "Preprocessing \n",
    "\n",
    "1. Check Error \n",
    "2. Data Impute (Missing Values) \n",
    "3. Encoding \n",
    "4. Normalization \n",
    "5. Model Training \n",
    "6. Model Test "
   ],
   "metadata": {
    "collapsed": false
   }
  },
  {
   "cell_type": "markdown",
   "metadata": {
    "id": "9eLMx1Ebwa92"
   },
   "source": [
    "Below are the libraries that are used IN THE MODEL"
   ]
  },
  {
   "cell_type": "code",
   "execution_count": 1,
   "metadata": {
    "id": "GGyDovL2QDLa",
    "ExecuteTime": {
     "end_time": "2023-11-04T08:29:20.438266900Z",
     "start_time": "2023-11-04T08:29:19.329448900Z"
    }
   },
   "outputs": [],
   "source": [
    "import pandas as pd\n",
    "import numpy as np\n",
    "import seaborn as sns                       #visualisation\n",
    "import matplotlib.pyplot as plt             #visualisation\n",
    "import math\n",
    "import stats\n",
    "import warnings\n",
    "from sklearn.linear_model import LinearRegression\n",
    "warnings.filterwarnings('ignore')"
   ]
  },
  {
   "cell_type": "markdown",
   "metadata": {
    "id": "8Y3Z2DbKTfJt"
   },
   "source": [
    "## 2. Loading the data into the data frame."
   ]
  },
  {
   "cell_type": "code",
   "execution_count": 2,
   "metadata": {
    "colab": {
     "base_uri": "https://localhost:8080/",
     "height": 430
    },
    "id": "0oVZnezwQ159",
    "outputId": "f1e0fe18-8fa0-482a-e2b9-2ecd87d97d9d",
    "ExecuteTime": {
     "end_time": "2023-11-04T08:29:20.569838600Z",
     "start_time": "2023-11-04T08:29:20.438266900Z"
    }
   },
   "outputs": [
    {
     "data": {
      "text/plain": "        Entity  Year  Access to electricity (% of population)  \\\n0  Afghanistan  2000                                 1.613591   \n1  Afghanistan  2001                                 4.074574   \n2  Afghanistan  2002                                 9.409158   \n3  Afghanistan  2003                                14.738506   \n4  Afghanistan  2004                                20.064968   \n\n   Access to clean fuels for cooking  \\\n0                                6.2   \n1                                7.2   \n2                                8.2   \n3                                9.5   \n4                               10.9   \n\n   Renewable-electricity-generating-capacity-per-capita  \\\n0                                               9.22      \n1                                               8.86      \n2                                               8.47      \n3                                               8.09      \n4                                               7.75      \n\n   Financial flows to developing countries (US $)  \\\n0                                         20000.0   \n1                                        130000.0   \n2                                       3950000.0   \n3                                      25970000.0   \n4                                             NaN   \n\n   Renewable energy share in the total final energy consumption (%)  \\\n0                                              44.99                  \n1                                              45.60                  \n2                                              37.83                  \n3                                              36.66                  \n4                                              44.24                  \n\n   Electricity from fossil fuels (TWh)  Electricity from nuclear (TWh)  \\\n0                                 0.16                             0.0   \n1                                 0.09                             0.0   \n2                                 0.13                             0.0   \n3                                 0.31                             0.0   \n4                                 0.33                             0.0   \n\n   Electricity from renewables (TWh)  ...  \\\n0                               0.31  ...   \n1                               0.50  ...   \n2                               0.56  ...   \n3                               0.63  ...   \n4                               0.56  ...   \n\n   Primary energy consumption per capita (kWh/person)  \\\n0                                          302.59482    \n1                                          236.89185    \n2                                          210.86215    \n3                                          229.96822    \n4                                          204.23125    \n\n   Energy intensity level of primary energy (MJ/$2017 PPP GDP)  \\\n0                                               1.64             \n1                                               1.74             \n2                                               1.40             \n3                                               1.40             \n4                                               1.20             \n\n   Value_co2_emissions_kt_by_country  \\\n0                         760.000000   \n1                         730.000000   \n2                        1029.999971   \n3                        1220.000029   \n4                        1029.999971   \n\n   Renewables (% equivalent primary energy)  gdp_growth  gdp_per_capita  \\\n0                                       NaN         NaN             NaN   \n1                                       NaN         NaN             NaN   \n2                                       NaN         NaN      179.426579   \n3                                       NaN    8.832278      190.683814   \n4                                       NaN    1.414118      211.382074   \n\n   Density\\n(P/Km2) Land Area(Km2)  Latitude  Longitude  \n0                60       6,52,230  33.93911  67.709953  \n1                60       6,52,230  33.93911  67.709953  \n2                60       6,52,230  33.93911  67.709953  \n3                60       6,52,230  33.93911  67.709953  \n4                60       6,52,230  33.93911  67.709953  \n\n[5 rows x 21 columns]",
      "text/html": "<div>\n<style scoped>\n    .dataframe tbody tr th:only-of-type {\n        vertical-align: middle;\n    }\n\n    .dataframe tbody tr th {\n        vertical-align: top;\n    }\n\n    .dataframe thead th {\n        text-align: right;\n    }\n</style>\n<table border=\"1\" class=\"dataframe\">\n  <thead>\n    <tr style=\"text-align: right;\">\n      <th></th>\n      <th>Entity</th>\n      <th>Year</th>\n      <th>Access to electricity (% of population)</th>\n      <th>Access to clean fuels for cooking</th>\n      <th>Renewable-electricity-generating-capacity-per-capita</th>\n      <th>Financial flows to developing countries (US $)</th>\n      <th>Renewable energy share in the total final energy consumption (%)</th>\n      <th>Electricity from fossil fuels (TWh)</th>\n      <th>Electricity from nuclear (TWh)</th>\n      <th>Electricity from renewables (TWh)</th>\n      <th>...</th>\n      <th>Primary energy consumption per capita (kWh/person)</th>\n      <th>Energy intensity level of primary energy (MJ/$2017 PPP GDP)</th>\n      <th>Value_co2_emissions_kt_by_country</th>\n      <th>Renewables (% equivalent primary energy)</th>\n      <th>gdp_growth</th>\n      <th>gdp_per_capita</th>\n      <th>Density\\n(P/Km2)</th>\n      <th>Land Area(Km2)</th>\n      <th>Latitude</th>\n      <th>Longitude</th>\n    </tr>\n  </thead>\n  <tbody>\n    <tr>\n      <th>0</th>\n      <td>Afghanistan</td>\n      <td>2000</td>\n      <td>1.613591</td>\n      <td>6.2</td>\n      <td>9.22</td>\n      <td>20000.0</td>\n      <td>44.99</td>\n      <td>0.16</td>\n      <td>0.0</td>\n      <td>0.31</td>\n      <td>...</td>\n      <td>302.59482</td>\n      <td>1.64</td>\n      <td>760.000000</td>\n      <td>NaN</td>\n      <td>NaN</td>\n      <td>NaN</td>\n      <td>60</td>\n      <td>6,52,230</td>\n      <td>33.93911</td>\n      <td>67.709953</td>\n    </tr>\n    <tr>\n      <th>1</th>\n      <td>Afghanistan</td>\n      <td>2001</td>\n      <td>4.074574</td>\n      <td>7.2</td>\n      <td>8.86</td>\n      <td>130000.0</td>\n      <td>45.60</td>\n      <td>0.09</td>\n      <td>0.0</td>\n      <td>0.50</td>\n      <td>...</td>\n      <td>236.89185</td>\n      <td>1.74</td>\n      <td>730.000000</td>\n      <td>NaN</td>\n      <td>NaN</td>\n      <td>NaN</td>\n      <td>60</td>\n      <td>6,52,230</td>\n      <td>33.93911</td>\n      <td>67.709953</td>\n    </tr>\n    <tr>\n      <th>2</th>\n      <td>Afghanistan</td>\n      <td>2002</td>\n      <td>9.409158</td>\n      <td>8.2</td>\n      <td>8.47</td>\n      <td>3950000.0</td>\n      <td>37.83</td>\n      <td>0.13</td>\n      <td>0.0</td>\n      <td>0.56</td>\n      <td>...</td>\n      <td>210.86215</td>\n      <td>1.40</td>\n      <td>1029.999971</td>\n      <td>NaN</td>\n      <td>NaN</td>\n      <td>179.426579</td>\n      <td>60</td>\n      <td>6,52,230</td>\n      <td>33.93911</td>\n      <td>67.709953</td>\n    </tr>\n    <tr>\n      <th>3</th>\n      <td>Afghanistan</td>\n      <td>2003</td>\n      <td>14.738506</td>\n      <td>9.5</td>\n      <td>8.09</td>\n      <td>25970000.0</td>\n      <td>36.66</td>\n      <td>0.31</td>\n      <td>0.0</td>\n      <td>0.63</td>\n      <td>...</td>\n      <td>229.96822</td>\n      <td>1.40</td>\n      <td>1220.000029</td>\n      <td>NaN</td>\n      <td>8.832278</td>\n      <td>190.683814</td>\n      <td>60</td>\n      <td>6,52,230</td>\n      <td>33.93911</td>\n      <td>67.709953</td>\n    </tr>\n    <tr>\n      <th>4</th>\n      <td>Afghanistan</td>\n      <td>2004</td>\n      <td>20.064968</td>\n      <td>10.9</td>\n      <td>7.75</td>\n      <td>NaN</td>\n      <td>44.24</td>\n      <td>0.33</td>\n      <td>0.0</td>\n      <td>0.56</td>\n      <td>...</td>\n      <td>204.23125</td>\n      <td>1.20</td>\n      <td>1029.999971</td>\n      <td>NaN</td>\n      <td>1.414118</td>\n      <td>211.382074</td>\n      <td>60</td>\n      <td>6,52,230</td>\n      <td>33.93911</td>\n      <td>67.709953</td>\n    </tr>\n  </tbody>\n</table>\n<p>5 rows × 21 columns</p>\n</div>"
     },
     "execution_count": 2,
     "metadata": {},
     "output_type": "execute_result"
    }
   ],
   "source": [
    "df = pd.read_csv(\"ENERGY_data.csv\")\n",
    "energy_data = df\n",
    "# To display the top 5 rows\n",
    "energy_data.head()"
   ]
  },
  {
   "cell_type": "code",
   "execution_count": 3,
   "metadata": {
    "collapsed": false,
    "ExecuteTime": {
     "end_time": "2023-11-04T08:29:20.620065200Z",
     "start_time": "2023-11-04T08:29:20.552206100Z"
    }
   },
   "outputs": [
    {
     "name": "stdout",
     "output_type": "stream",
     "text": [
      "<class 'pandas.core.frame.DataFrame'>\n",
      "RangeIndex: 3649 entries, 0 to 3648\n",
      "Data columns (total 21 columns):\n",
      " #   Column                                                            Non-Null Count  Dtype  \n",
      "---  ------                                                            --------------  -----  \n",
      " 0   Entity                                                            3649 non-null   object \n",
      " 1   Year                                                              3649 non-null   int64  \n",
      " 2   Access to electricity (% of population)                           3639 non-null   float64\n",
      " 3   Access to clean fuels for cooking                                 3480 non-null   float64\n",
      " 4   Renewable-electricity-generating-capacity-per-capita              2718 non-null   float64\n",
      " 5   Financial flows to developing countries (US $)                    1560 non-null   float64\n",
      " 6   Renewable energy share in the total final energy consumption (%)  3455 non-null   float64\n",
      " 7   Electricity from fossil fuels (TWh)                               3628 non-null   float64\n",
      " 8   Electricity from nuclear (TWh)                                    3523 non-null   float64\n",
      " 9   Electricity from renewables (TWh)                                 3628 non-null   float64\n",
      " 10  Low-carbon electricity (% electricity)                            3607 non-null   float64\n",
      " 11  Primary energy consumption per capita (kWh/person)                3649 non-null   float64\n",
      " 12  Energy intensity level of primary energy (MJ/$2017 PPP GDP)       3442 non-null   float64\n",
      " 13  Value_co2_emissions_kt_by_country                                 3221 non-null   float64\n",
      " 14  Renewables (% equivalent primary energy)                          1512 non-null   float64\n",
      " 15  gdp_growth                                                        3332 non-null   float64\n",
      " 16  gdp_per_capita                                                    3367 non-null   float64\n",
      " 17  Density\\n(P/Km2)                                                  3648 non-null   object \n",
      " 18  Land Area(Km2)                                                    3648 non-null   object \n",
      " 19  Latitude                                                          3648 non-null   float64\n",
      " 20  Longitude                                                         3648 non-null   float64\n",
      "dtypes: float64(17), int64(1), object(3)\n",
      "memory usage: 598.8+ KB\n"
     ]
    }
   ],
   "source": [
    "energy_data.info()"
   ]
  },
  {
   "cell_type": "code",
   "execution_count": 4,
   "metadata": {
    "collapsed": false,
    "ExecuteTime": {
     "end_time": "2023-11-04T08:29:20.832336800Z",
     "start_time": "2023-11-04T08:29:20.588815100Z"
    }
   },
   "outputs": [
    {
     "data": {
      "text/plain": "              Year  Access to electricity (% of population)  \\\ncount  3649.000000                              3639.000000   \nmean   2010.038367                                78.933702   \nstd       6.054228                                30.275541   \nmin    2000.000000                                 1.252269   \n25%    2005.000000                                59.800890   \n50%    2010.000000                                98.361570   \n75%    2015.000000                               100.000000   \nmax    2020.000000                               100.000000   \n\n       Access to clean fuels for cooking  \\\ncount                        3480.000000   \nmean                           63.255287   \nstd                            39.043658   \nmin                             0.000000   \n25%                            23.175000   \n50%                            83.150000   \n75%                           100.000000   \nmax                           100.000000   \n\n       Renewable-electricity-generating-capacity-per-capita  \\\ncount                                        2718.000000      \nmean                                          113.137498      \nstd                                           244.167256      \nmin                                             0.000000      \n25%                                             3.540000      \n50%                                            32.910000      \n75%                                           112.210000      \nmax                                          3060.190000      \n\n       Financial flows to developing countries (US $)  \\\ncount                                    1.560000e+03   \nmean                                     9.422400e+07   \nstd                                      2.981544e+08   \nmin                                      0.000000e+00   \n25%                                      2.600000e+05   \n50%                                      5.665000e+06   \n75%                                      5.534750e+07   \nmax                                      5.202310e+09   \n\n       Renewable energy share in the total final energy consumption (%)  \\\ncount                                        3455.000000                  \nmean                                           32.638165                  \nstd                                            29.894901                  \nmin                                             0.000000                  \n25%                                             6.515000                  \n50%                                            23.300000                  \n75%                                            55.245000                  \nmax                                            96.040000                  \n\n       Electricity from fossil fuels (TWh)  Electricity from nuclear (TWh)  \\\ncount                          3628.000000                     3523.000000   \nmean                             70.365003                       13.450190   \nstd                             348.051866                       73.006623   \nmin                               0.000000                        0.000000   \n25%                               0.290000                        0.000000   \n50%                               2.970000                        0.000000   \n75%                              26.837500                        0.000000   \nmax                            5184.130000                      809.410000   \n\n       Electricity from renewables (TWh)  \\\ncount                        3628.000000   \nmean                           23.968010   \nstd                           104.431085   \nmin                             0.000000   \n25%                             0.040000   \n50%                             1.470000   \n75%                             9.600000   \nmax                          2184.940000   \n\n       Low-carbon electricity (% electricity)  \\\ncount                             3607.000000   \nmean                                36.801182   \nstd                                 34.314884   \nmin                                  0.000000   \n25%                                  2.877847   \n50%                                 27.865068   \n75%                                 64.403792   \nmax                                100.000010   \n\n       Primary energy consumption per capita (kWh/person)  \\\ncount                                        3649.000000    \nmean                                        25743.981745    \nstd                                         34773.221366    \nmin                                             0.000000    \n25%                                          3116.737300    \n50%                                         13120.570000    \n75%                                         33892.780000    \nmax                                        262585.700000    \n\n       Energy intensity level of primary energy (MJ/$2017 PPP GDP)  \\\ncount                                        3442.000000             \nmean                                            5.307345             \nstd                                             3.532020             \nmin                                             0.110000             \n25%                                             3.170000             \n50%                                             4.300000             \n75%                                             6.027500             \nmax                                            32.570000             \n\n       Value_co2_emissions_kt_by_country  \\\ncount                       3.221000e+03   \nmean                        1.598665e+05   \nstd                         7.736611e+05   \nmin                         1.000000e+01   \n25%                         2.020000e+03   \n50%                         1.050000e+04   \n75%                         6.058000e+04   \nmax                         1.070722e+07   \n\n       Renewables (% equivalent primary energy)   gdp_growth  gdp_per_capita  \\\ncount                               1512.000000  3332.000000     3367.000000   \nmean                                  11.986707     3.441610    13283.774348   \nstd                                   14.994644     5.686720    19709.866716   \nmin                                    0.000000   -62.075920      111.927225   \n25%                                    2.137095     1.383302     1337.813437   \n50%                                    6.290766     3.559855     4578.633208   \n75%                                   16.841638     5.830099    15768.615365   \nmax                                   86.836586   123.139555   123514.196700   \n\n          Latitude    Longitude  \ncount  3648.000000  3648.000000  \nmean     18.246388    14.822695  \nstd      24.159232    66.348148  \nmin     -40.900557  -175.198242  \n25%       3.202778   -11.779889  \n50%      17.189877    19.145136  \n75%      38.969719    46.199616  \nmax      64.963051   178.065032  ",
      "text/html": "<div>\n<style scoped>\n    .dataframe tbody tr th:only-of-type {\n        vertical-align: middle;\n    }\n\n    .dataframe tbody tr th {\n        vertical-align: top;\n    }\n\n    .dataframe thead th {\n        text-align: right;\n    }\n</style>\n<table border=\"1\" class=\"dataframe\">\n  <thead>\n    <tr style=\"text-align: right;\">\n      <th></th>\n      <th>Year</th>\n      <th>Access to electricity (% of population)</th>\n      <th>Access to clean fuels for cooking</th>\n      <th>Renewable-electricity-generating-capacity-per-capita</th>\n      <th>Financial flows to developing countries (US $)</th>\n      <th>Renewable energy share in the total final energy consumption (%)</th>\n      <th>Electricity from fossil fuels (TWh)</th>\n      <th>Electricity from nuclear (TWh)</th>\n      <th>Electricity from renewables (TWh)</th>\n      <th>Low-carbon electricity (% electricity)</th>\n      <th>Primary energy consumption per capita (kWh/person)</th>\n      <th>Energy intensity level of primary energy (MJ/$2017 PPP GDP)</th>\n      <th>Value_co2_emissions_kt_by_country</th>\n      <th>Renewables (% equivalent primary energy)</th>\n      <th>gdp_growth</th>\n      <th>gdp_per_capita</th>\n      <th>Latitude</th>\n      <th>Longitude</th>\n    </tr>\n  </thead>\n  <tbody>\n    <tr>\n      <th>count</th>\n      <td>3649.000000</td>\n      <td>3639.000000</td>\n      <td>3480.000000</td>\n      <td>2718.000000</td>\n      <td>1.560000e+03</td>\n      <td>3455.000000</td>\n      <td>3628.000000</td>\n      <td>3523.000000</td>\n      <td>3628.000000</td>\n      <td>3607.000000</td>\n      <td>3649.000000</td>\n      <td>3442.000000</td>\n      <td>3.221000e+03</td>\n      <td>1512.000000</td>\n      <td>3332.000000</td>\n      <td>3367.000000</td>\n      <td>3648.000000</td>\n      <td>3648.000000</td>\n    </tr>\n    <tr>\n      <th>mean</th>\n      <td>2010.038367</td>\n      <td>78.933702</td>\n      <td>63.255287</td>\n      <td>113.137498</td>\n      <td>9.422400e+07</td>\n      <td>32.638165</td>\n      <td>70.365003</td>\n      <td>13.450190</td>\n      <td>23.968010</td>\n      <td>36.801182</td>\n      <td>25743.981745</td>\n      <td>5.307345</td>\n      <td>1.598665e+05</td>\n      <td>11.986707</td>\n      <td>3.441610</td>\n      <td>13283.774348</td>\n      <td>18.246388</td>\n      <td>14.822695</td>\n    </tr>\n    <tr>\n      <th>std</th>\n      <td>6.054228</td>\n      <td>30.275541</td>\n      <td>39.043658</td>\n      <td>244.167256</td>\n      <td>2.981544e+08</td>\n      <td>29.894901</td>\n      <td>348.051866</td>\n      <td>73.006623</td>\n      <td>104.431085</td>\n      <td>34.314884</td>\n      <td>34773.221366</td>\n      <td>3.532020</td>\n      <td>7.736611e+05</td>\n      <td>14.994644</td>\n      <td>5.686720</td>\n      <td>19709.866716</td>\n      <td>24.159232</td>\n      <td>66.348148</td>\n    </tr>\n    <tr>\n      <th>min</th>\n      <td>2000.000000</td>\n      <td>1.252269</td>\n      <td>0.000000</td>\n      <td>0.000000</td>\n      <td>0.000000e+00</td>\n      <td>0.000000</td>\n      <td>0.000000</td>\n      <td>0.000000</td>\n      <td>0.000000</td>\n      <td>0.000000</td>\n      <td>0.000000</td>\n      <td>0.110000</td>\n      <td>1.000000e+01</td>\n      <td>0.000000</td>\n      <td>-62.075920</td>\n      <td>111.927225</td>\n      <td>-40.900557</td>\n      <td>-175.198242</td>\n    </tr>\n    <tr>\n      <th>25%</th>\n      <td>2005.000000</td>\n      <td>59.800890</td>\n      <td>23.175000</td>\n      <td>3.540000</td>\n      <td>2.600000e+05</td>\n      <td>6.515000</td>\n      <td>0.290000</td>\n      <td>0.000000</td>\n      <td>0.040000</td>\n      <td>2.877847</td>\n      <td>3116.737300</td>\n      <td>3.170000</td>\n      <td>2.020000e+03</td>\n      <td>2.137095</td>\n      <td>1.383302</td>\n      <td>1337.813437</td>\n      <td>3.202778</td>\n      <td>-11.779889</td>\n    </tr>\n    <tr>\n      <th>50%</th>\n      <td>2010.000000</td>\n      <td>98.361570</td>\n      <td>83.150000</td>\n      <td>32.910000</td>\n      <td>5.665000e+06</td>\n      <td>23.300000</td>\n      <td>2.970000</td>\n      <td>0.000000</td>\n      <td>1.470000</td>\n      <td>27.865068</td>\n      <td>13120.570000</td>\n      <td>4.300000</td>\n      <td>1.050000e+04</td>\n      <td>6.290766</td>\n      <td>3.559855</td>\n      <td>4578.633208</td>\n      <td>17.189877</td>\n      <td>19.145136</td>\n    </tr>\n    <tr>\n      <th>75%</th>\n      <td>2015.000000</td>\n      <td>100.000000</td>\n      <td>100.000000</td>\n      <td>112.210000</td>\n      <td>5.534750e+07</td>\n      <td>55.245000</td>\n      <td>26.837500</td>\n      <td>0.000000</td>\n      <td>9.600000</td>\n      <td>64.403792</td>\n      <td>33892.780000</td>\n      <td>6.027500</td>\n      <td>6.058000e+04</td>\n      <td>16.841638</td>\n      <td>5.830099</td>\n      <td>15768.615365</td>\n      <td>38.969719</td>\n      <td>46.199616</td>\n    </tr>\n    <tr>\n      <th>max</th>\n      <td>2020.000000</td>\n      <td>100.000000</td>\n      <td>100.000000</td>\n      <td>3060.190000</td>\n      <td>5.202310e+09</td>\n      <td>96.040000</td>\n      <td>5184.130000</td>\n      <td>809.410000</td>\n      <td>2184.940000</td>\n      <td>100.000010</td>\n      <td>262585.700000</td>\n      <td>32.570000</td>\n      <td>1.070722e+07</td>\n      <td>86.836586</td>\n      <td>123.139555</td>\n      <td>123514.196700</td>\n      <td>64.963051</td>\n      <td>178.065032</td>\n    </tr>\n  </tbody>\n</table>\n</div>"
     },
     "execution_count": 4,
     "metadata": {},
     "output_type": "execute_result"
    }
   ],
   "source": [
    "energy_data.describe()"
   ]
  },
  {
   "cell_type": "markdown",
   "metadata": {
    "id": "vAmC369yTpMF"
   },
   "source": [
    "## 3. Checking the types of data"
   ]
  },
  {
   "cell_type": "code",
   "execution_count": 5,
   "metadata": {
    "colab": {
     "base_uri": "https://localhost:8080/",
     "height": 312
    },
    "id": "qPbKQ0noRptD",
    "outputId": "6a5aea47-ad0c-4118-8471-d91b6432b339",
    "ExecuteTime": {
     "end_time": "2023-11-04T08:29:20.832336800Z",
     "start_time": "2023-11-04T08:29:20.653138800Z"
    }
   },
   "outputs": [
    {
     "data": {
      "text/plain": "Entity                                                               object\nYear                                                                  int64\nAccess to electricity (% of population)                             float64\nAccess to clean fuels for cooking                                   float64\nRenewable-electricity-generating-capacity-per-capita                float64\nFinancial flows to developing countries (US $)                      float64\nRenewable energy share in the total final energy consumption (%)    float64\nElectricity from fossil fuels (TWh)                                 float64\nElectricity from nuclear (TWh)                                      float64\nElectricity from renewables (TWh)                                   float64\nLow-carbon electricity (% electricity)                              float64\nPrimary energy consumption per capita (kWh/person)                  float64\nEnergy intensity level of primary energy (MJ/$2017 PPP GDP)         float64\nValue_co2_emissions_kt_by_country                                   float64\nRenewables (% equivalent primary energy)                            float64\ngdp_growth                                                          float64\ngdp_per_capita                                                      float64\nDensity\\n(P/Km2)                                                     object\nLand Area(Km2)                                                       object\nLatitude                                                            float64\nLongitude                                                           float64\ndtype: object"
     },
     "execution_count": 5,
     "metadata": {},
     "output_type": "execute_result"
    }
   ],
   "source": [
    "energy_data.dtypes"
   ]
  },
  {
   "cell_type": "code",
   "execution_count": 6,
   "outputs": [],
   "source": [
    "energy_data.columns = energy_data.columns.str.lower().str.replace(\" \", \"_\")"
   ],
   "metadata": {
    "collapsed": false,
    "ExecuteTime": {
     "end_time": "2023-11-04T08:29:20.953496600Z",
     "start_time": "2023-11-04T08:29:20.662936900Z"
    }
   }
  },
  {
   "cell_type": "markdown",
   "metadata": {
    "id": "QoHuBhXxT5E9"
   },
   "source": [
    "## 4. Renaming columns and dropping columns"
   ]
  },
  {
   "cell_type": "code",
   "execution_count": 7,
   "outputs": [],
   "source": [
    "energy_data = energy_data.rename({'entity':'country','access_to_electricity_(%_of_population)':'access_electricity','access_to_clean_fuels_for_cooking':'access_cooking_fuels','renewable-electricity-generating-capacity-per-capita':'renewal_electricity_capacity','financial_flows_to_developing_countries_(us_$)':'financial_flows','renewable_energy_share_in_the_total_final_energy_consumption_(%)':'renewable_energy_share','electricity_from_fossil_fuels_(twh)':'electricity_fossil_fuels','electricity_from_nuclear_(twh)':'electricity_nuclear','electricity_from_renewables_(twh)':'electricity_renewals','low-carbon_electricity_(%_electricity)':'electricity_low_carbon','primary_energy_consumption_per_capita_(kwh/person)':'primary_energy_consumption','energy_intensity_level_of_primary_energy_(mj/$2017_ppp_gdp)':'energy_level','value_co2_emissions_kt_by_country':'co2_emissions','renewables_(%_equivalent_primary_energy)':'renewables','density\\\\n(p/km2)':'density','land_area(km2)':'land_area'},axis = 1)"
   ],
   "metadata": {
    "collapsed": false,
    "ExecuteTime": {
     "end_time": "2023-11-04T08:29:20.953496600Z",
     "start_time": "2023-11-04T08:29:20.714381900Z"
    }
   }
  },
  {
   "cell_type": "code",
   "execution_count": 8,
   "outputs": [
    {
     "ename": "AttributeError",
     "evalue": "'list' object has no attribute 'isnull'",
     "output_type": "error",
     "traceback": [
      "\u001B[1;31m---------------------------------------------------------------------------\u001B[0m",
      "\u001B[1;31mAttributeError\u001B[0m                            Traceback (most recent call last)",
      "Cell \u001B[1;32mIn[8], line 4\u001B[0m\n\u001B[0;32m      1\u001B[0m \u001B[38;5;66;03m#print('Number of duplicates are : ', energy_data.duplicated().sum())\u001B[39;00m\n\u001B[0;32m      2\u001B[0m \u001B[38;5;66;03m#energy_data = energy_data.drop_duplicates()\u001B[39;00m\n\u001B[0;32m      3\u001B[0m energy_data\n\u001B[1;32m----> 4\u001B[0m energy_data[\u001B[43m[\u001B[49m\u001B[38;5;124;43m'\u001B[39;49m\u001B[38;5;124;43maccess_electricity\u001B[39;49m\u001B[38;5;124;43m'\u001B[39;49m\u001B[43m]\u001B[49m\u001B[38;5;241;43m.\u001B[39;49m\u001B[43misnull\u001B[49m() \u001B[38;5;241m==\u001B[39m \u001B[38;5;28;01mTrue\u001B[39;00m] \n",
      "\u001B[1;31mAttributeError\u001B[0m: 'list' object has no attribute 'isnull'"
     ]
    }
   ],
   "source": [
    "#print('Number of duplicates are : ', energy_data.duplicated().sum())\n",
    "#energy_data = energy_data.drop_duplicates()\n",
    "energy_data\n",
    "energy_data[['access_electricity'].isnull() == True] "
   ],
   "metadata": {
    "collapsed": false,
    "ExecuteTime": {
     "end_time": "2023-11-04T08:29:21.737928300Z",
     "start_time": "2023-11-04T08:29:20.733077900Z"
    }
   }
  },
  {
   "cell_type": "markdown",
   "source": [
    "## 5. Handling missing or null values."
   ],
   "metadata": {
    "collapsed": false
   }
  },
  {
   "cell_type": "code",
   "execution_count": 9,
   "outputs": [
    {
     "name": "stdout",
     "output_type": "stream",
     "text": [
      "Number of missing values in each columns are below : \n",
      "country                            0\n",
      "year                               0\n",
      "access_electricity                10\n",
      "access_cooking_fuels             169\n",
      "renewal_electricity_capacity     931\n",
      "financial_flows                 2089\n",
      "renewable_energy_share           194\n",
      "electricity_fossil_fuels          21\n",
      "electricity_nuclear              126\n",
      "electricity_renewals              21\n",
      "electricity_low_carbon            42\n",
      "primary_energy_consumption         0\n",
      "energy_level                     207\n",
      "co2_emissions                    428\n",
      "renewables                      2137\n",
      "gdp_growth                       317\n",
      "gdp_per_capita                   282\n",
      "density                            1\n",
      "land_area                          1\n",
      "latitude                           1\n",
      "longitude                          1\n",
      "dtype: int64\n"
     ]
    }
   ],
   "source": [
    "print('Number of missing values in each columns are below : ')\n",
    "print(energy_data.isnull().sum())"
   ],
   "metadata": {
    "collapsed": false,
    "ExecuteTime": {
     "end_time": "2023-11-04T08:29:32.001418800Z",
     "start_time": "2023-11-04T08:29:31.910020400Z"
    }
   }
  },
  {
   "cell_type": "code",
   "execution_count": 10,
   "outputs": [],
   "source": [
    "#ACCESS TO ELECTRICITY had 10 missing values. Since the Years are not recently and all the countries are from similar region I will replace that value with 0 \n",
    "\n",
    "#CHANGE TO \n",
    "energy_data['access_electricity'] = energy_data['access_electricity'].fillna(0)"
   ],
   "metadata": {
    "collapsed": false,
    "ExecuteTime": {
     "end_time": "2023-11-04T08:29:39.118330300Z",
     "start_time": "2023-11-04T08:29:39.049223700Z"
    }
   }
  },
  {
   "cell_type": "code",
   "execution_count": 11,
   "outputs": [],
   "source": [
    "#ACCESS TO COOKING FUELS had 169 missing values distributed in 8 Countries means is not a typing error. Then, I will replace those value with 0 \n",
    "null_cooking = energy_data[energy_data['access_cooking_fuels'].isnull() == True]\n",
    "null_cooking['country'].unique()\n",
    "energy_data['access_cooking_fuels'] = energy_data['access_cooking_fuels'].fillna(0)"
   ],
   "metadata": {
    "collapsed": false,
    "ExecuteTime": {
     "end_time": "2023-11-04T08:29:45.068296500Z",
     "start_time": "2023-11-04T08:29:45.015338500Z"
    }
   }
  },
  {
   "cell_type": "code",
   "execution_count": 12,
   "outputs": [],
   "source": [
    "#RENEVAL ELECTRICTY CAPACITY had 931 that represents 26% of the data . Then, I will drop that column and the columns with more than 25% of Null values (Financial FLows, Renewables), \n",
    "\n",
    "#ADD JUSTIFICATION, IF THE COUNTRI\n",
    "energy_data = energy_data.drop(['renewal_electricity_capacity','financial_flows','renewables'], axis=1)"
   ],
   "metadata": {
    "collapsed": false,
    "ExecuteTime": {
     "end_time": "2023-11-04T08:29:45.687216Z",
     "start_time": "2023-11-04T08:29:45.661810400Z"
    }
   }
  },
  {
   "cell_type": "code",
   "execution_count": 13,
   "outputs": [],
   "source": [
    "#1. RENEWAL ENERGY SHARE. I will replace the values of Albania by 0 due all the country does not have data. The rest of the countries will apply other a linnear regression to predict the 2020 value\n",
    "energy_data[(energy_data['country'] =='Albania') & energy_data['renewable_energy_share'].isnull()] = energy_data[(energy_data['country'] =='Albania') & energy_data['renewable_energy_share'].isnull()].fillna(0)"
   ],
   "metadata": {
    "collapsed": false,
    "ExecuteTime": {
     "end_time": "2023-11-04T08:29:57.991089300Z",
     "start_time": "2023-11-04T08:29:57.927661Z"
    }
   }
  },
  {
   "cell_type": "code",
   "execution_count": 16,
   "outputs": [],
   "source": [
    "#2. RENEWAL ENERGY SHARE. I will apply a linner regression model to \n",
    "for col in ['renewable_energy_share','electricity_fossil_fuels', 'electricity_nuclear', 'electricity_renewals', 'electricity_low_carbon','energy_level','co2_emissions','gdp_growth','gdp_per_capita']:\n",
    "  energy_data[col] = energy_data[col].fillna(energy_data[col].interpolate())"
   ],
   "metadata": {
    "collapsed": false,
    "ExecuteTime": {
     "end_time": "2023-11-04T08:30:59.012696600Z",
     "start_time": "2023-11-04T08:30:58.933593600Z"
    }
   }
  },
  {
   "cell_type": "code",
   "execution_count": 17,
   "outputs": [
    {
     "name": "stdout",
     "output_type": "stream",
     "text": [
      "Number of missing values in each columns are below : \n",
      "country                       0\n",
      "year                          0\n",
      "access_electricity            0\n",
      "access_cooking_fuels          0\n",
      "renewable_energy_share        0\n",
      "electricity_fossil_fuels      0\n",
      "electricity_nuclear           0\n",
      "electricity_renewals          0\n",
      "electricity_low_carbon        0\n",
      "primary_energy_consumption    0\n",
      "energy_level                  0\n",
      "co2_emissions                 0\n",
      "gdp_growth                    3\n",
      "gdp_per_capita                2\n",
      "density                       1\n",
      "land_area                     1\n",
      "latitude                      1\n",
      "longitude                     1\n",
      "dtype: int64\n"
     ]
    }
   ],
   "source": [
    "print('Number of missing values in each columns are below : ')\n",
    "print(energy_data.isnull().sum())"
   ],
   "metadata": {
    "collapsed": false,
    "ExecuteTime": {
     "end_time": "2023-11-04T08:31:00.312235600Z",
     "start_time": "2023-11-04T08:31:00.227749800Z"
    }
   }
  },
  {
   "cell_type": "code",
   "execution_count": 18,
   "outputs": [
    {
     "data": {
      "text/plain": "country                       0\nyear                          0\naccess_electricity            0\naccess_cooking_fuels          0\nrenewable_energy_share        0\nelectricity_fossil_fuels      0\nelectricity_nuclear           0\nelectricity_renewals          0\nelectricity_low_carbon        0\nprimary_energy_consumption    0\nenergy_level                  0\nco2_emissions                 0\ngdp_per_capita                0\ndtype: int64"
     },
     "execution_count": 18,
     "metadata": {},
     "output_type": "execute_result"
    }
   ],
   "source": [
    "for col in ['gdp_growth','gdp_per_capita','density']:\n",
    "  energy_data[col] = energy_data[col].fillna(energy_data[col].mode())\n",
    "energy_data = energy_data.drop(['gdp_growth','density','land_area','latitude','longitude'],axis=1)\n",
    "energy_data.isnull().sum()"
   ],
   "metadata": {
    "collapsed": false,
    "ExecuteTime": {
     "end_time": "2023-11-04T08:31:22.065960500Z",
     "start_time": "2023-11-04T08:31:21.967037600Z"
    }
   }
  },
  {
   "cell_type": "code",
   "execution_count": 25,
   "outputs": [],
   "source": [
    "#Encoding Dataset"
   ],
   "metadata": {
    "collapsed": false,
    "ExecuteTime": {
     "start_time": "2023-10-27T16:08:05.192559900Z"
    }
   }
  },
  {
   "cell_type": "code",
   "execution_count": 20,
   "outputs": [],
   "source": [
    "from sklearn.preprocessing import KBinsDiscretizer\n",
    "from sklearn.preprocessing import OrdinalEncoder\n",
    "from sklearn import preprocessing"
   ],
   "metadata": {
    "collapsed": false,
    "ExecuteTime": {
     "end_time": "2023-11-04T08:31:56.552744100Z",
     "start_time": "2023-11-04T08:31:56.520924300Z"
    }
   }
  },
  {
   "cell_type": "code",
   "execution_count": 21,
   "outputs": [
    {
     "data": {
      "text/plain": "      country  year  access_electricity  access_cooking_fuels  \\\n0         0.0  2000            1.613591                   6.2   \n1         0.0  2001            4.074574                   7.2   \n2         0.0  2002            9.409158                   8.2   \n3         0.0  2003           14.738506                   9.5   \n4         0.0  2004           20.064968                  10.9   \n...       ...   ...                 ...                   ...   \n3644    175.0  2016           42.561730                  29.8   \n3645    175.0  2017           44.178635                  29.8   \n3646    175.0  2018           45.572647                  29.9   \n3647    175.0  2019           46.781475                  30.1   \n3648    175.0  2020           52.747670                  30.4   \n\n      renewable_energy_share  electricity_fossil_fuels  electricity_nuclear  \\\n0                      44.99                      0.16                  0.0   \n1                      45.60                      0.09                  0.0   \n2                      37.83                      0.13                  0.0   \n3                      36.66                      0.31                  0.0   \n4                      44.24                      0.33                  0.0   \n...                      ...                       ...                  ...   \n3644                   81.90                      3.50                  0.0   \n3645                   82.46                      3.05                  0.0   \n3646                   80.23                      3.73                  0.0   \n3647                   81.50                      3.66                  0.0   \n3648                   81.90                      3.40                  0.0   \n\n      electricity_renewals  electricity_low_carbon  \\\n0                     0.31               65.957440   \n1                     0.50               84.745766   \n2                     0.56               81.159424   \n3                     0.63               67.021280   \n4                     0.56               62.921350   \n...                    ...                     ...   \n3644                  3.32               48.680350   \n3645                  4.30               58.503407   \n3646                  5.46               59.412407   \n3647                  4.58               55.582527   \n3648                  4.19               55.204216   \n\n      primary_energy_consumption  energy_level  co2_emissions  gdp_per_capita  \n0                      302.59482          1.64     760.000000      111.927225  \n1                      236.89185          1.74     730.000000      113.567251  \n2                      210.86215          1.40    1029.999971      179.426579  \n3                      229.96822          1.40    1220.000029      190.683814  \n4                      204.23125          1.20    1029.999971      211.382074  \n...                          ...           ...            ...             ...  \n3644                  3227.68020         10.00   11020.000460     1464.588957  \n3645                  3068.01150          9.51   10340.000150     1235.189032  \n3646                  3441.98580          9.83   12380.000110     1254.642265  \n3647                  3003.65530         10.47   11760.000230     1316.740657  \n3648                  2680.13180         10.00   11760.000230     1214.509820  \n\n[3649 rows x 13 columns]",
      "text/html": "<div>\n<style scoped>\n    .dataframe tbody tr th:only-of-type {\n        vertical-align: middle;\n    }\n\n    .dataframe tbody tr th {\n        vertical-align: top;\n    }\n\n    .dataframe thead th {\n        text-align: right;\n    }\n</style>\n<table border=\"1\" class=\"dataframe\">\n  <thead>\n    <tr style=\"text-align: right;\">\n      <th></th>\n      <th>country</th>\n      <th>year</th>\n      <th>access_electricity</th>\n      <th>access_cooking_fuels</th>\n      <th>renewable_energy_share</th>\n      <th>electricity_fossil_fuels</th>\n      <th>electricity_nuclear</th>\n      <th>electricity_renewals</th>\n      <th>electricity_low_carbon</th>\n      <th>primary_energy_consumption</th>\n      <th>energy_level</th>\n      <th>co2_emissions</th>\n      <th>gdp_per_capita</th>\n    </tr>\n  </thead>\n  <tbody>\n    <tr>\n      <th>0</th>\n      <td>0.0</td>\n      <td>2000</td>\n      <td>1.613591</td>\n      <td>6.2</td>\n      <td>44.99</td>\n      <td>0.16</td>\n      <td>0.0</td>\n      <td>0.31</td>\n      <td>65.957440</td>\n      <td>302.59482</td>\n      <td>1.64</td>\n      <td>760.000000</td>\n      <td>111.927225</td>\n    </tr>\n    <tr>\n      <th>1</th>\n      <td>0.0</td>\n      <td>2001</td>\n      <td>4.074574</td>\n      <td>7.2</td>\n      <td>45.60</td>\n      <td>0.09</td>\n      <td>0.0</td>\n      <td>0.50</td>\n      <td>84.745766</td>\n      <td>236.89185</td>\n      <td>1.74</td>\n      <td>730.000000</td>\n      <td>113.567251</td>\n    </tr>\n    <tr>\n      <th>2</th>\n      <td>0.0</td>\n      <td>2002</td>\n      <td>9.409158</td>\n      <td>8.2</td>\n      <td>37.83</td>\n      <td>0.13</td>\n      <td>0.0</td>\n      <td>0.56</td>\n      <td>81.159424</td>\n      <td>210.86215</td>\n      <td>1.40</td>\n      <td>1029.999971</td>\n      <td>179.426579</td>\n    </tr>\n    <tr>\n      <th>3</th>\n      <td>0.0</td>\n      <td>2003</td>\n      <td>14.738506</td>\n      <td>9.5</td>\n      <td>36.66</td>\n      <td>0.31</td>\n      <td>0.0</td>\n      <td>0.63</td>\n      <td>67.021280</td>\n      <td>229.96822</td>\n      <td>1.40</td>\n      <td>1220.000029</td>\n      <td>190.683814</td>\n    </tr>\n    <tr>\n      <th>4</th>\n      <td>0.0</td>\n      <td>2004</td>\n      <td>20.064968</td>\n      <td>10.9</td>\n      <td>44.24</td>\n      <td>0.33</td>\n      <td>0.0</td>\n      <td>0.56</td>\n      <td>62.921350</td>\n      <td>204.23125</td>\n      <td>1.20</td>\n      <td>1029.999971</td>\n      <td>211.382074</td>\n    </tr>\n    <tr>\n      <th>...</th>\n      <td>...</td>\n      <td>...</td>\n      <td>...</td>\n      <td>...</td>\n      <td>...</td>\n      <td>...</td>\n      <td>...</td>\n      <td>...</td>\n      <td>...</td>\n      <td>...</td>\n      <td>...</td>\n      <td>...</td>\n      <td>...</td>\n    </tr>\n    <tr>\n      <th>3644</th>\n      <td>175.0</td>\n      <td>2016</td>\n      <td>42.561730</td>\n      <td>29.8</td>\n      <td>81.90</td>\n      <td>3.50</td>\n      <td>0.0</td>\n      <td>3.32</td>\n      <td>48.680350</td>\n      <td>3227.68020</td>\n      <td>10.00</td>\n      <td>11020.000460</td>\n      <td>1464.588957</td>\n    </tr>\n    <tr>\n      <th>3645</th>\n      <td>175.0</td>\n      <td>2017</td>\n      <td>44.178635</td>\n      <td>29.8</td>\n      <td>82.46</td>\n      <td>3.05</td>\n      <td>0.0</td>\n      <td>4.30</td>\n      <td>58.503407</td>\n      <td>3068.01150</td>\n      <td>9.51</td>\n      <td>10340.000150</td>\n      <td>1235.189032</td>\n    </tr>\n    <tr>\n      <th>3646</th>\n      <td>175.0</td>\n      <td>2018</td>\n      <td>45.572647</td>\n      <td>29.9</td>\n      <td>80.23</td>\n      <td>3.73</td>\n      <td>0.0</td>\n      <td>5.46</td>\n      <td>59.412407</td>\n      <td>3441.98580</td>\n      <td>9.83</td>\n      <td>12380.000110</td>\n      <td>1254.642265</td>\n    </tr>\n    <tr>\n      <th>3647</th>\n      <td>175.0</td>\n      <td>2019</td>\n      <td>46.781475</td>\n      <td>30.1</td>\n      <td>81.50</td>\n      <td>3.66</td>\n      <td>0.0</td>\n      <td>4.58</td>\n      <td>55.582527</td>\n      <td>3003.65530</td>\n      <td>10.47</td>\n      <td>11760.000230</td>\n      <td>1316.740657</td>\n    </tr>\n    <tr>\n      <th>3648</th>\n      <td>175.0</td>\n      <td>2020</td>\n      <td>52.747670</td>\n      <td>30.4</td>\n      <td>81.90</td>\n      <td>3.40</td>\n      <td>0.0</td>\n      <td>4.19</td>\n      <td>55.204216</td>\n      <td>2680.13180</td>\n      <td>10.00</td>\n      <td>11760.000230</td>\n      <td>1214.509820</td>\n    </tr>\n  </tbody>\n</table>\n<p>3649 rows × 13 columns</p>\n</div>"
     },
     "execution_count": 21,
     "metadata": {},
     "output_type": "execute_result"
    }
   ],
   "source": [
    "enc = preprocessing.OrdinalEncoder()\n",
    "X = energy_data[['country']]\n",
    "enc.fit(X)\n",
    "energy_data['country'] = enc.transform(energy_data[['country']])\n",
    "energy_data"
   ],
   "metadata": {
    "collapsed": false,
    "ExecuteTime": {
     "end_time": "2023-11-04T08:31:57.494862700Z",
     "start_time": "2023-11-04T08:31:57.433887700Z"
    }
   }
  },
  {
   "cell_type": "markdown",
   "source": [
    "#Normalization"
   ],
   "metadata": {
    "collapsed": false
   }
  },
  {
   "cell_type": "code",
   "execution_count": 33,
   "outputs": [],
   "source": [
    "from sklearn.preprocessing import normalize"
   ],
   "metadata": {
    "collapsed": false,
    "ExecuteTime": {
     "end_time": "2023-10-27T17:01:01.546787500Z",
     "start_time": "2023-10-27T17:01:01.517765400Z"
    }
   }
  },
  {
   "cell_type": "code",
   "execution_count": 23,
   "outputs": [],
   "source": [
    "energy_data_normalized = energy_data\n",
    "\n",
    "for col in ['access_electricity','access_cooking_fuels','renewable_energy_share','electricity_fossil_fuels','electricity_nuclear','electricity_renewals','electricity_low_carbon','primary_energy_consumption','energy_level','co2_emissions','gdp_per_capita']:\n",
    "  X = energy_data_normalized[[col]]\n",
    "  normalizer = preprocessing.Normalizer().fit(X)\n",
    "  energy_data_normalized[col] = normalizer.transform(X)"
   ],
   "metadata": {
    "collapsed": false,
    "ExecuteTime": {
     "end_time": "2023-11-04T08:34:25.472616300Z",
     "start_time": "2023-11-04T08:34:25.358120Z"
    }
   }
  },
  {
   "cell_type": "markdown",
   "source": [
    "## 6. Detecting Outliers"
   ],
   "metadata": {
    "collapsed": false
   }
  },
  {
   "cell_type": "markdown",
   "source": [
    "## 7. Split dataset"
   ],
   "metadata": {
    "collapsed": false
   }
  },
  {
   "cell_type": "code",
   "execution_count": 25,
   "outputs": [],
   "source": [
    "from sklearn.model_selection import GroupKFold\n",
    "import statsmodels.api as sm\n",
    "import pandas as pd\n",
    "import numpy as np\n",
    "from sklearn.model_selection import GroupKFold\n",
    "\n",
    "target = 'primary_energy_consumption'\n",
    "X = energy_data.drop(columns=[target,'co2_emissions','gdp_per_capita','renewable_energy_share','access_cooking_fuels','energy_level'])\n",
    "y = energy_data[target]"
   ],
   "metadata": {
    "collapsed": false,
    "ExecuteTime": {
     "end_time": "2023-11-04T08:36:40.944267700Z",
     "start_time": "2023-11-04T08:36:39.009105300Z"
    }
   }
  },
  {
   "cell_type": "code",
   "execution_count": 26,
   "outputs": [],
   "source": [
    "group = energy_data.year.tolist()"
   ],
   "metadata": {
    "collapsed": false,
    "ExecuteTime": {
     "end_time": "2023-11-04T08:36:40.967258900Z",
     "start_time": "2023-11-04T08:36:40.944267700Z"
    }
   }
  },
  {
   "cell_type": "code",
   "execution_count": 27,
   "outputs": [
    {
     "name": "stdout",
     "output_type": "stream",
     "text": [
      "Train: [   0    1    2 ... 3645 3646 3647] Test: [  20   41   62   83  104  125  146  167  188  209  230  251  272  293\n",
      "  314  335  356  377  398  419  440  461  482  503  524  545  566  587\n",
      "  608  629  650  671  692  713  734  755  776  797  818  839  860  881\n",
      "  902  923  944  965  986 1007 1028 1049 1070 1091 1112 1133 1154 1175\n",
      " 1196 1217 1239 1260 1281 1302 1323 1344 1365 1386 1407 1428 1449 1470\n",
      " 1491 1512 1533 1554 1575 1596 1617 1638 1659 1680 1701 1722 1743 1764\n",
      " 1785 1806 1827 1848 1869 1890 1911 1932 1953 1974 1995 2016 2037 2058\n",
      " 2079 2100 2121 2142 2163 2184 2198 2219 2240 2261 2282 2303 2324 2345\n",
      " 2366 2387 2408 2429 2450 2471 2492 2513 2534 2555 2576 2597 2618 2639\n",
      " 2660 2681 2702 2723 2744 2765 2786 2807 2828 2849 2870 2891 2912 2926\n",
      " 2947 2968 2989 3010 3031 3052 3073 3094 3102 3123 3144 3165 3186 3207\n",
      " 3228 3249 3270 3291 3312 3333 3354 3375 3396 3417 3438 3459 3480 3501\n",
      " 3522 3543 3564 3585 3606 3627 3648]\n",
      "Train: [   0    1    2 ... 3645 3647 3648] Test: [  18   39   60   81  102  123  144  165  186  207  228  249  270  291\n",
      "  312  333  354  375  396  417  438  459  480  501  522  543  564  585\n",
      "  606  627  648  669  690  711  732  753  774  795  816  837  858  879\n",
      "  900  921  942  963  984 1005 1026 1047 1068 1089 1110 1131 1152 1173\n",
      " 1194 1215 1237 1258 1279 1300 1321 1342 1363 1384 1405 1426 1447 1468\n",
      " 1489 1510 1531 1552 1573 1594 1615 1636 1657 1678 1699 1720 1741 1762\n",
      " 1783 1804 1825 1846 1867 1888 1909 1930 1951 1972 1993 2014 2035 2056\n",
      " 2077 2098 2119 2140 2161 2182 2196 2217 2238 2259 2280 2301 2322 2343\n",
      " 2364 2385 2406 2427 2448 2469 2490 2511 2532 2553 2574 2595 2616 2637\n",
      " 2658 2679 2700 2721 2742 2763 2784 2805 2826 2847 2868 2889 2910 2924\n",
      " 2945 2966 2987 3008 3029 3050 3071 3092 3100 3121 3142 3163 3184 3205\n",
      " 3226 3247 3268 3289 3310 3331 3352 3373 3394 3415 3436 3457 3478 3499\n",
      " 3520 3541 3562 3583 3604 3625 3646]\n",
      "Train: [   0    1    2 ... 3646 3647 3648] Test: [  17   38   59   80  101  122  143  164  185  206  227  248  269  290\n",
      "  311  332  353  374  395  416  437  458  479  500  521  542  563  584\n",
      "  605  626  647  668  689  710  731  752  773  794  815  836  857  878\n",
      "  899  920  941  962  983 1004 1025 1046 1067 1088 1109 1130 1151 1172\n",
      " 1193 1214 1236 1257 1278 1299 1320 1341 1362 1383 1404 1425 1446 1467\n",
      " 1488 1509 1530 1551 1572 1593 1614 1635 1656 1677 1698 1719 1740 1761\n",
      " 1782 1803 1824 1845 1866 1887 1908 1929 1950 1971 1992 2013 2034 2055\n",
      " 2076 2097 2118 2139 2160 2181 2195 2216 2237 2258 2279 2300 2321 2342\n",
      " 2363 2384 2405 2426 2447 2468 2489 2510 2531 2552 2573 2594 2615 2636\n",
      " 2657 2678 2699 2720 2741 2762 2783 2804 2825 2846 2867 2888 2909 2923\n",
      " 2944 2965 2986 3007 3028 3049 3070 3091 3099 3120 3141 3162 3183 3204\n",
      " 3225 3246 3267 3288 3309 3330 3351 3372 3393 3414 3435 3456 3477 3498\n",
      " 3519 3540 3561 3582 3603 3624 3645]\n",
      "Train: [   0    1    2 ... 3646 3647 3648] Test: [  16   37   58   79  100  121  142  163  184  205  226  247  268  289\n",
      "  310  331  352  373  394  415  436  457  478  499  520  541  562  583\n",
      "  604  625  646  667  688  709  730  751  772  793  814  835  856  877\n",
      "  898  919  940  961  982 1003 1024 1045 1066 1087 1108 1129 1150 1171\n",
      " 1192 1213 1235 1256 1277 1298 1319 1340 1361 1382 1403 1424 1445 1466\n",
      " 1487 1508 1529 1550 1571 1592 1613 1634 1655 1676 1697 1718 1739 1760\n",
      " 1781 1802 1823 1844 1865 1886 1907 1928 1949 1970 1991 2012 2033 2054\n",
      " 2075 2096 2117 2138 2159 2180 2194 2215 2236 2257 2278 2299 2320 2341\n",
      " 2362 2383 2404 2425 2446 2467 2488 2509 2530 2551 2572 2593 2614 2635\n",
      " 2656 2677 2698 2719 2740 2761 2782 2803 2824 2845 2866 2887 2908 2922\n",
      " 2943 2964 2985 3006 3027 3048 3069 3090 3098 3119 3140 3161 3182 3203\n",
      " 3224 3245 3266 3287 3308 3329 3350 3371 3392 3413 3434 3455 3476 3497\n",
      " 3518 3539 3560 3581 3602 3623 3644]\n",
      "Train: [   0    1    2 ... 3646 3647 3648] Test: [  15   36   57   78   99  120  141  162  183  204  225  246  267  288\n",
      "  309  330  351  372  393  414  435  456  477  498  519  540  561  582\n",
      "  603  624  645  666  687  708  729  750  771  792  813  834  855  876\n",
      "  897  918  939  960  981 1002 1023 1044 1065 1086 1107 1128 1149 1170\n",
      " 1191 1212 1234 1255 1276 1297 1318 1339 1360 1381 1402 1423 1444 1465\n",
      " 1486 1507 1528 1549 1570 1591 1612 1633 1654 1675 1696 1717 1738 1759\n",
      " 1780 1801 1822 1843 1864 1885 1906 1927 1948 1969 1990 2011 2032 2053\n",
      " 2074 2095 2116 2137 2158 2179 2193 2214 2235 2256 2277 2298 2319 2340\n",
      " 2361 2382 2403 2424 2445 2466 2487 2508 2529 2550 2571 2592 2613 2634\n",
      " 2655 2676 2697 2718 2739 2760 2781 2802 2823 2844 2865 2886 2907 2921\n",
      " 2942 2963 2984 3005 3026 3047 3068 3089 3097 3118 3139 3160 3181 3202\n",
      " 3223 3244 3265 3286 3307 3328 3349 3370 3391 3412 3433 3454 3475 3496\n",
      " 3517 3538 3559 3580 3601 3622 3643]\n",
      "Train: [   0    1    2 ... 3646 3647 3648] Test: [  14   35   56   77   98  119  140  161  182  203  224  245  266  287\n",
      "  308  329  350  371  392  413  434  455  476  497  518  539  560  581\n",
      "  602  623  644  665  686  707  728  749  770  791  812  833  854  875\n",
      "  896  917  938  959  980 1001 1022 1043 1064 1085 1106 1127 1148 1169\n",
      " 1190 1211 1233 1254 1275 1296 1317 1338 1359 1380 1401 1422 1443 1464\n",
      " 1485 1506 1527 1548 1569 1590 1611 1632 1653 1674 1695 1716 1737 1758\n",
      " 1779 1800 1821 1842 1863 1884 1905 1926 1947 1968 1989 2010 2031 2052\n",
      " 2073 2094 2115 2136 2157 2178 2192 2213 2234 2255 2276 2297 2318 2339\n",
      " 2360 2381 2402 2423 2444 2465 2486 2507 2528 2549 2570 2591 2612 2633\n",
      " 2654 2675 2696 2717 2738 2759 2780 2801 2822 2843 2864 2885 2906 2920\n",
      " 2941 2962 2983 3004 3025 3046 3067 3088 3096 3117 3138 3159 3180 3201\n",
      " 3222 3243 3264 3285 3306 3327 3348 3369 3390 3411 3432 3453 3474 3495\n",
      " 3516 3537 3558 3579 3600 3621 3642]\n",
      "Train: [   0    1    2 ... 3646 3647 3648] Test: [  13   34   55   76   97  118  139  160  181  202  223  244  265  286\n",
      "  307  328  349  370  391  412  433  454  475  496  517  538  559  580\n",
      "  601  622  643  664  685  706  727  748  769  790  811  832  853  874\n",
      "  895  916  937  958  979 1000 1021 1042 1063 1084 1105 1126 1147 1168\n",
      " 1189 1210 1232 1253 1274 1295 1316 1337 1358 1379 1400 1421 1442 1463\n",
      " 1484 1505 1526 1547 1568 1589 1610 1631 1652 1673 1694 1715 1736 1757\n",
      " 1778 1799 1820 1841 1862 1883 1904 1925 1946 1967 1988 2009 2030 2051\n",
      " 2072 2093 2114 2135 2156 2177 2191 2212 2233 2254 2275 2296 2317 2338\n",
      " 2359 2380 2401 2422 2443 2464 2485 2506 2527 2548 2569 2590 2611 2632\n",
      " 2653 2674 2695 2716 2737 2758 2779 2800 2821 2842 2863 2884 2905 2919\n",
      " 2940 2961 2982 3003 3024 3045 3066 3087 3095 3116 3137 3158 3179 3200\n",
      " 3221 3242 3263 3284 3305 3326 3347 3368 3389 3410 3431 3452 3473 3494\n",
      " 3515 3536 3557 3578 3599 3620 3641]\n",
      "Train: [   0    1    2 ... 3645 3646 3648] Test: [  19   40   61   82  103  124  145  166  187  208  229  250  271  292\n",
      "  313  334  355  376  397  418  439  460  481  502  523  544  565  586\n",
      "  607  628  649  670  691  712  733  754  775  796  817  838  859  880\n",
      "  901  922  943  964  985 1006 1027 1048 1069 1090 1111 1132 1153 1174\n",
      " 1195 1216 1238 1259 1280 1301 1322 1343 1364 1385 1406 1427 1448 1469\n",
      " 1490 1511 1532 1553 1574 1595 1616 1637 1658 1679 1700 1721 1742 1763\n",
      " 1784 1805 1826 1847 1868 1889 1910 1931 1952 1973 1994 2015 2036 2057\n",
      " 2078 2099 2120 2141 2162 2183 2197 2218 2239 2260 2281 2302 2323 2344\n",
      " 2365 2386 2407 2428 2449 2470 2491 2512 2533 2554 2575 2596 2617 2638\n",
      " 2659 2680 2701 2722 2743 2764 2785 2806 2827 2848 2869 2890 2911 2925\n",
      " 2946 2967 2988 3009 3030 3051 3072 3093 3101 3122 3143 3164 3185 3206\n",
      " 3227 3248 3269 3290 3311 3332 3353 3374 3395 3416 3437 3458 3479 3500\n",
      " 3521 3542 3563 3584 3605 3626 3647]\n",
      "Train: [   0    1    2 ... 3646 3647 3648] Test: [   9   30   51   72   93  114  135  156  177  198  219  240  261  282\n",
      "  303  324  345  366  387  408  429  450  471  492  513  534  555  576\n",
      "  597  618  639  660  681  702  723  744  765  786  807  828  849  870\n",
      "  891  912  933  954  975  996 1017 1038 1059 1080 1101 1122 1143 1164\n",
      " 1185 1206 1228 1249 1270 1291 1312 1333 1354 1375 1396 1417 1438 1459\n",
      " 1480 1501 1522 1543 1564 1585 1606 1627 1648 1669 1690 1711 1732 1753\n",
      " 1774 1795 1816 1837 1858 1879 1900 1921 1942 1963 1984 2005 2026 2047\n",
      " 2068 2089 2110 2131 2152 2173 2187 2208 2229 2250 2271 2292 2313 2334\n",
      " 2355 2376 2397 2418 2439 2460 2481 2502 2523 2544 2565 2586 2607 2628\n",
      " 2649 2670 2691 2712 2733 2754 2775 2796 2817 2838 2859 2880 2901 2915\n",
      " 2936 2957 2978 2999 3020 3041 3062 3083 3112 3133 3154 3175 3196 3217\n",
      " 3238 3259 3280 3301 3322 3343 3364 3385 3406 3427 3448 3469 3490 3511\n",
      " 3532 3553 3574 3595 3616 3637]\n",
      "Train: [   0    1    2 ... 3646 3647 3648] Test: [   7   28   49   70   91  112  133  154  175  196  217  238  259  280\n",
      "  301  322  343  364  385  406  427  448  469  490  511  532  553  574\n",
      "  595  616  637  658  679  700  721  742  763  784  805  826  847  868\n",
      "  889  910  931  952  973  994 1015 1036 1057 1078 1099 1120 1141 1162\n",
      " 1183 1204 1226 1247 1268 1289 1310 1331 1352 1373 1394 1415 1436 1457\n",
      " 1478 1499 1520 1541 1562 1583 1604 1625 1646 1667 1688 1709 1730 1751\n",
      " 1772 1793 1814 1835 1856 1877 1898 1919 1940 1961 1982 2003 2024 2045\n",
      " 2066 2087 2108 2129 2150 2171 2185 2206 2227 2248 2269 2290 2311 2332\n",
      " 2353 2374 2395 2416 2437 2458 2479 2500 2521 2542 2563 2584 2605 2626\n",
      " 2647 2668 2689 2710 2731 2752 2773 2794 2815 2836 2857 2878 2899 2913\n",
      " 2934 2955 2976 2997 3018 3039 3060 3081 3110 3131 3152 3173 3194 3215\n",
      " 3236 3257 3278 3299 3320 3341 3362 3383 3404 3425 3446 3467 3488 3509\n",
      " 3530 3551 3572 3593 3614 3635]\n",
      "Train: [   0    1    2 ... 3646 3647 3648] Test: [   8   29   50   71   92  113  134  155  176  197  218  239  260  281\n",
      "  302  323  344  365  386  407  428  449  470  491  512  533  554  575\n",
      "  596  617  638  659  680  701  722  743  764  785  806  827  848  869\n",
      "  890  911  932  953  974  995 1016 1037 1058 1079 1100 1121 1142 1163\n",
      " 1184 1205 1227 1248 1269 1290 1311 1332 1353 1374 1395 1416 1437 1458\n",
      " 1479 1500 1521 1542 1563 1584 1605 1626 1647 1668 1689 1710 1731 1752\n",
      " 1773 1794 1815 1836 1857 1878 1899 1920 1941 1962 1983 2004 2025 2046\n",
      " 2067 2088 2109 2130 2151 2172 2186 2207 2228 2249 2270 2291 2312 2333\n",
      " 2354 2375 2396 2417 2438 2459 2480 2501 2522 2543 2564 2585 2606 2627\n",
      " 2648 2669 2690 2711 2732 2753 2774 2795 2816 2837 2858 2879 2900 2914\n",
      " 2935 2956 2977 2998 3019 3040 3061 3082 3111 3132 3153 3174 3195 3216\n",
      " 3237 3258 3279 3300 3321 3342 3363 3384 3405 3426 3447 3468 3489 3510\n",
      " 3531 3552 3573 3594 3615 3636]\n",
      "Train: [   0    1    2 ... 3646 3647 3648] Test: [  10   31   52   73   94  115  136  157  178  199  220  241  262  283\n",
      "  304  325  346  367  388  409  430  451  472  493  514  535  556  577\n",
      "  598  619  640  661  682  703  724  745  766  787  808  829  850  871\n",
      "  892  913  934  955  976  997 1018 1039 1060 1081 1102 1123 1144 1165\n",
      " 1186 1207 1229 1250 1271 1292 1313 1334 1355 1376 1397 1418 1439 1460\n",
      " 1481 1502 1523 1544 1565 1586 1607 1628 1649 1670 1691 1712 1733 1754\n",
      " 1775 1796 1817 1838 1859 1880 1901 1922 1943 1964 1985 2006 2027 2048\n",
      " 2069 2090 2111 2132 2153 2174 2188 2209 2230 2251 2272 2293 2314 2335\n",
      " 2356 2377 2398 2419 2440 2461 2482 2503 2524 2545 2566 2587 2608 2629\n",
      " 2650 2671 2692 2713 2734 2755 2776 2797 2818 2839 2860 2881 2902 2916\n",
      " 2937 2958 2979 3000 3021 3042 3063 3084 3113 3134 3155 3176 3197 3218\n",
      " 3239 3260 3281 3302 3323 3344 3365 3386 3407 3428 3449 3470 3491 3512\n",
      " 3533 3554 3575 3596 3617 3638]\n",
      "Train: [   0    1    2 ... 3646 3647 3648] Test: [  11   32   53   74   95  116  137  158  179  200  221  242  263  284\n",
      "  305  326  347  368  389  410  431  452  473  494  515  536  557  578\n",
      "  599  620  641  662  683  704  725  746  767  788  809  830  851  872\n",
      "  893  914  935  956  977  998 1019 1040 1061 1082 1103 1124 1145 1166\n",
      " 1187 1208 1230 1251 1272 1293 1314 1335 1356 1377 1398 1419 1440 1461\n",
      " 1482 1503 1524 1545 1566 1587 1608 1629 1650 1671 1692 1713 1734 1755\n",
      " 1776 1797 1818 1839 1860 1881 1902 1923 1944 1965 1986 2007 2028 2049\n",
      " 2070 2091 2112 2133 2154 2175 2189 2210 2231 2252 2273 2294 2315 2336\n",
      " 2357 2378 2399 2420 2441 2462 2483 2504 2525 2546 2567 2588 2609 2630\n",
      " 2651 2672 2693 2714 2735 2756 2777 2798 2819 2840 2861 2882 2903 2917\n",
      " 2938 2959 2980 3001 3022 3043 3064 3085 3114 3135 3156 3177 3198 3219\n",
      " 3240 3261 3282 3303 3324 3345 3366 3387 3408 3429 3450 3471 3492 3513\n",
      " 3534 3555 3576 3597 3618 3639]\n",
      "Train: [   0    1    2 ... 3646 3647 3648] Test: [  12   33   54   75   96  117  138  159  180  201  222  243  264  285\n",
      "  306  327  348  369  390  411  432  453  474  495  516  537  558  579\n",
      "  600  621  642  663  684  705  726  747  768  789  810  831  852  873\n",
      "  894  915  936  957  978  999 1020 1041 1062 1083 1104 1125 1146 1167\n",
      " 1188 1209 1231 1252 1273 1294 1315 1336 1357 1378 1399 1420 1441 1462\n",
      " 1483 1504 1525 1546 1567 1588 1609 1630 1651 1672 1693 1714 1735 1756\n",
      " 1777 1798 1819 1840 1861 1882 1903 1924 1945 1966 1987 2008 2029 2050\n",
      " 2071 2092 2113 2134 2155 2176 2190 2211 2232 2253 2274 2295 2316 2337\n",
      " 2358 2379 2400 2421 2442 2463 2484 2505 2526 2547 2568 2589 2610 2631\n",
      " 2652 2673 2694 2715 2736 2757 2778 2799 2820 2841 2862 2883 2904 2918\n",
      " 2939 2960 2981 3002 3023 3044 3065 3086 3115 3136 3157 3178 3199 3220\n",
      " 3241 3262 3283 3304 3325 3346 3367 3388 3409 3430 3451 3472 3493 3514\n",
      " 3535 3556 3577 3598 3619 3640]\n",
      "Train: [   1    2    3 ... 3646 3647 3648] Test: [   0   21   42   63   84  105  126  147  168  189  210  231  252  273\n",
      "  294  315  336  357  378  399  420  441  462  483  504  525  546  567\n",
      "  588  609  630  651  672  693  714  735  756  777  798  819  840  861\n",
      "  882  903  924  945  966  987 1008 1029 1050 1071 1092 1113 1134 1155\n",
      " 1176 1197 1218 1219 1240 1261 1282 1303 1324 1345 1366 1387 1408 1429\n",
      " 1450 1471 1492 1513 1534 1555 1576 1597 1618 1639 1660 1681 1702 1723\n",
      " 1744 1765 1786 1807 1828 1849 1870 1891 1912 1933 1954 1975 1996 2017\n",
      " 2038 2059 2080 2101 2122 2143 2164 2199 2220 2241 2262 2283 2304 2325\n",
      " 2346 2367 2388 2409 2430 2451 2472 2493 2514 2535 2556 2577 2598 2619\n",
      " 2640 2661 2682 2703 2724 2745 2766 2787 2808 2829 2850 2871 2892 2927\n",
      " 2948 2969 2990 3011 3032 3053 3074 3103 3124 3145 3166 3187 3208 3229\n",
      " 3250 3271 3292 3313 3334 3355 3376 3397 3418 3439 3460 3481 3502 3523\n",
      " 3544 3565 3586 3607 3628]\n",
      "Train: [   0    2    3 ... 3646 3647 3648] Test: [   1    6   22   27   43   48   64   69   85   90  106  111  127  132\n",
      "  148  153  169  174  190  195  211  216  232  237  253  258  274  279\n",
      "  295  300  316  321  337  342  358  363  379  384  400  405  421  426\n",
      "  442  447  463  468  484  489  505  510  526  531  547  552  568  573\n",
      "  589  594  610  615  631  636  652  657  673  678  694  699  715  720\n",
      "  736  741  757  762  778  783  799  804  820  825  841  846  862  867\n",
      "  883  888  904  909  925  930  946  951  967  972  988  993 1009 1014\n",
      " 1030 1035 1051 1056 1072 1077 1093 1098 1114 1119 1135 1140 1156 1161\n",
      " 1177 1182 1198 1203 1220 1225 1241 1246 1262 1267 1283 1288 1304 1309\n",
      " 1325 1330 1346 1351 1367 1372 1388 1393 1409 1414 1430 1435 1451 1456\n",
      " 1472 1477 1493 1498 1514 1519 1535 1540 1556 1561 1577 1582 1598 1603\n",
      " 1619 1624 1640 1645 1661 1666 1682 1687 1703 1708 1724 1729 1745 1750\n",
      " 1766 1771 1787 1792 1808 1813 1829 1834 1850 1855 1871 1876 1892 1897\n",
      " 1913 1918 1934 1939 1955 1960 1976 1981 1997 2002 2018 2023 2039 2044\n",
      " 2060 2065 2081 2086 2102 2107 2123 2128 2144 2149 2165 2170 2200 2205\n",
      " 2221 2226 2242 2247 2263 2268 2284 2289 2305 2310 2326 2331 2347 2352\n",
      " 2368 2373 2389 2394 2410 2415 2431 2436 2452 2457 2473 2478 2494 2499\n",
      " 2515 2520 2536 2541 2557 2562 2578 2583 2599 2604 2620 2625 2641 2646\n",
      " 2662 2667 2683 2688 2704 2709 2725 2730 2746 2751 2767 2772 2788 2793\n",
      " 2809 2814 2830 2835 2851 2856 2872 2877 2893 2898 2928 2933 2949 2954\n",
      " 2970 2975 2991 2996 3012 3017 3033 3038 3054 3059 3075 3080 3104 3109\n",
      " 3125 3130 3146 3151 3167 3172 3188 3193 3209 3214 3230 3235 3251 3256\n",
      " 3272 3277 3293 3298 3314 3319 3335 3340 3356 3361 3377 3382 3398 3403\n",
      " 3419 3424 3440 3445 3461 3466 3482 3487 3503 3508 3524 3529 3545 3550\n",
      " 3566 3571 3587 3592 3608 3613 3629 3634]\n",
      "Train: [   0    1    2 ... 3646 3647 3648] Test: [   5   26   47   68   89  110  131  152  173  194  215  236  257  278\n",
      "  299  320  341  362  383  404  425  446  467  488  509  530  551  572\n",
      "  593  614  635  656  677  698  719  740  761  782  803  824  845  866\n",
      "  887  908  929  950  971  992 1013 1034 1055 1076 1097 1118 1139 1160\n",
      " 1181 1202 1224 1245 1266 1287 1308 1329 1350 1371 1392 1413 1434 1455\n",
      " 1476 1497 1518 1539 1560 1581 1602 1623 1644 1665 1686 1707 1728 1749\n",
      " 1770 1791 1812 1833 1854 1875 1896 1917 1938 1959 1980 2001 2022 2043\n",
      " 2064 2085 2106 2127 2148 2169 2204 2225 2246 2267 2288 2309 2330 2351\n",
      " 2372 2393 2414 2435 2456 2477 2498 2519 2540 2561 2582 2603 2624 2645\n",
      " 2666 2687 2708 2729 2750 2771 2792 2813 2834 2855 2876 2897 2932 2953\n",
      " 2974 2995 3016 3037 3058 3079 3108 3129 3150 3171 3192 3213 3234 3255\n",
      " 3276 3297 3318 3339 3360 3381 3402 3423 3444 3465 3486 3507 3528 3549\n",
      " 3570 3591 3612 3633]\n",
      "Train: [   0    1    2 ... 3646 3647 3648] Test: [   4   25   46   67   88  109  130  151  172  193  214  235  256  277\n",
      "  298  319  340  361  382  403  424  445  466  487  508  529  550  571\n",
      "  592  613  634  655  676  697  718  739  760  781  802  823  844  865\n",
      "  886  907  928  949  970  991 1012 1033 1054 1075 1096 1117 1138 1159\n",
      " 1180 1201 1223 1244 1265 1286 1307 1328 1349 1370 1391 1412 1433 1454\n",
      " 1475 1496 1517 1538 1559 1580 1601 1622 1643 1664 1685 1706 1727 1748\n",
      " 1769 1790 1811 1832 1853 1874 1895 1916 1937 1958 1979 2000 2021 2042\n",
      " 2063 2084 2105 2126 2147 2168 2203 2224 2245 2266 2287 2308 2329 2350\n",
      " 2371 2392 2413 2434 2455 2476 2497 2518 2539 2560 2581 2602 2623 2644\n",
      " 2665 2686 2707 2728 2749 2770 2791 2812 2833 2854 2875 2896 2931 2952\n",
      " 2973 2994 3015 3036 3057 3078 3107 3128 3149 3170 3191 3212 3233 3254\n",
      " 3275 3296 3317 3338 3359 3380 3401 3422 3443 3464 3485 3506 3527 3548\n",
      " 3569 3590 3611 3632]\n",
      "Train: [   0    1    2 ... 3646 3647 3648] Test: [   3   24   45   66   87  108  129  150  171  192  213  234  255  276\n",
      "  297  318  339  360  381  402  423  444  465  486  507  528  549  570\n",
      "  591  612  633  654  675  696  717  738  759  780  801  822  843  864\n",
      "  885  906  927  948  969  990 1011 1032 1053 1074 1095 1116 1137 1158\n",
      " 1179 1200 1222 1243 1264 1285 1306 1327 1348 1369 1390 1411 1432 1453\n",
      " 1474 1495 1516 1537 1558 1579 1600 1621 1642 1663 1684 1705 1726 1747\n",
      " 1768 1789 1810 1831 1852 1873 1894 1915 1936 1957 1978 1999 2020 2041\n",
      " 2062 2083 2104 2125 2146 2167 2202 2223 2244 2265 2286 2307 2328 2349\n",
      " 2370 2391 2412 2433 2454 2475 2496 2517 2538 2559 2580 2601 2622 2643\n",
      " 2664 2685 2706 2727 2748 2769 2790 2811 2832 2853 2874 2895 2930 2951\n",
      " 2972 2993 3014 3035 3056 3077 3106 3127 3148 3169 3190 3211 3232 3253\n",
      " 3274 3295 3316 3337 3358 3379 3400 3421 3442 3463 3484 3505 3526 3547\n",
      " 3568 3589 3610 3631]\n",
      "Train: [   0    1    3 ... 3646 3647 3648] Test: [   2   23   44   65   86  107  128  149  170  191  212  233  254  275\n",
      "  296  317  338  359  380  401  422  443  464  485  506  527  548  569\n",
      "  590  611  632  653  674  695  716  737  758  779  800  821  842  863\n",
      "  884  905  926  947  968  989 1010 1031 1052 1073 1094 1115 1136 1157\n",
      " 1178 1199 1221 1242 1263 1284 1305 1326 1347 1368 1389 1410 1431 1452\n",
      " 1473 1494 1515 1536 1557 1578 1599 1620 1641 1662 1683 1704 1725 1746\n",
      " 1767 1788 1809 1830 1851 1872 1893 1914 1935 1956 1977 1998 2019 2040\n",
      " 2061 2082 2103 2124 2145 2166 2201 2222 2243 2264 2285 2306 2327 2348\n",
      " 2369 2390 2411 2432 2453 2474 2495 2516 2537 2558 2579 2600 2621 2642\n",
      " 2663 2684 2705 2726 2747 2768 2789 2810 2831 2852 2873 2894 2929 2950\n",
      " 2971 2992 3013 3034 3055 3076 3105 3126 3147 3168 3189 3210 3231 3252\n",
      " 3273 3294 3315 3336 3357 3378 3399 3420 3441 3462 3483 3504 3525 3546\n",
      " 3567 3588 3609 3630]\n"
     ]
    }
   ],
   "source": [
    "gkf = GroupKFold(n_splits=20)\n",
    "for train_index, test_index in gkf.split(X, groups=group):\n",
    "    print(\"Train:\", train_index, \"Test:\", test_index)\n",
    "    X_train = X.iloc[train_index,:]\n",
    "    y_train = y[train_index]\n",
    "    X_test = X.iloc[test_index,:]\n",
    "    y_test = y[test_index]"
   ],
   "metadata": {
    "collapsed": false,
    "ExecuteTime": {
     "end_time": "2023-11-04T08:36:42.145965900Z",
     "start_time": "2023-11-04T08:36:42.074123400Z"
    }
   }
  },
  {
   "cell_type": "markdown",
   "source": [
    "### 11. Conclusion / Answer Question"
   ],
   "metadata": {
    "collapsed": false
   }
  },
  {
   "cell_type": "markdown",
   "source": [
    "From the above, we can conclude the following answer to the question. What is the most fuel efficient car type (MPG)? In other words, which group of characteristicas have the higher Highway MPG:\n",
    "- Brand: Scion and FIAT\n",
    "- Driven Wheel: Front\n",
    "- Number of Doors: 2\n",
    "- Transmission: Direct Drive\n"
   ],
   "metadata": {
    "collapsed": false
   }
  }
 ],
 "metadata": {
  "colab": {
   "include_colab_link": true,
   "provenance": []
  },
  "kernelspec": {
   "display_name": "Python 3 (ipykernel)",
   "language": "python",
   "name": "python3"
  },
  "language_info": {
   "codemirror_mode": {
    "name": "ipython",
    "version": 3
   },
   "file_extension": ".py",
   "mimetype": "text/x-python",
   "name": "python",
   "nbconvert_exporter": "python",
   "pygments_lexer": "ipython3",
   "version": "3.11.2"
  }
 },
 "nbformat": 4,
 "nbformat_minor": 4
}
