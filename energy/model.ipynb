{
 "cells": [
  {
   "cell_type": "markdown",
   "source": [
    "    # Energy Dataset."
   ],
   "metadata": {
    "collapsed": false
   }
  },
  {
   "cell_type": "markdown",
   "source": [
    "## 1. Importing the required libraries for EDA"
   ],
   "metadata": {
    "collapsed": false
   }
  },
  {
   "cell_type": "markdown",
   "metadata": {
    "id": "9eLMx1Ebwa92"
   },
   "source": [
    "Below are the libraries that are used IN THE MODEL"
   ]
  },
  {
   "cell_type": "code",
   "execution_count": 109,
   "metadata": {
    "id": "GGyDovL2QDLa",
    "ExecuteTime": {
     "end_time": "2023-12-04T09:48:35.841827Z",
     "start_time": "2023-12-04T09:48:35.581608400Z"
    }
   },
   "outputs": [],
   "source": [
    "import pandas as pd\n",
    "import numpy as np\n",
    "import seaborn as sns                       #visualisation\n",
    "import matplotlib.pyplot as plt             #visualisation\n",
    "import math\n",
    "import stats\n",
    "import warnings\n",
    "warnings.filterwarnings('ignore')"
   ]
  },
  {
   "cell_type": "markdown",
   "metadata": {
    "id": "8Y3Z2DbKTfJt"
   },
   "source": [
    "## 2. Loading the data into the data frame."
   ]
  },
  {
   "cell_type": "code",
   "execution_count": 110,
   "metadata": {
    "colab": {
     "base_uri": "https://localhost:8080/",
     "height": 430
    },
    "id": "0oVZnezwQ159",
    "outputId": "f1e0fe18-8fa0-482a-e2b9-2ecd87d97d9d",
    "ExecuteTime": {
     "end_time": "2023-12-04T09:48:37.579982200Z",
     "start_time": "2023-12-04T09:48:35.593775700Z"
    }
   },
   "outputs": [
    {
     "data": {
      "text/plain": "         Entity  Year  Access to electricity (% of population)  \\\n0   Afghanistan  2000                                 1.613591   \n1   Afghanistan  2001                                 4.074574   \n2   Afghanistan  2002                                 9.409158   \n3   Afghanistan  2003                                14.738506   \n4   Afghanistan  2004                                20.064968   \n5   Afghanistan  2005                                25.390894   \n6   Afghanistan  2006                                30.718690   \n7   Afghanistan  2007                                36.051010   \n8   Afghanistan  2008                                42.400000   \n9   Afghanistan  2009                                46.740050   \n10  Afghanistan  2010                                42.700000   \n11  Afghanistan  2011                                43.222020   \n12  Afghanistan  2012                                69.100000   \n13  Afghanistan  2013                                68.290650   \n14  Afghanistan  2014                                89.500000   \n15  Afghanistan  2015                                71.500000   \n16  Afghanistan  2016                                97.700000   \n17  Afghanistan  2017                                97.700000   \n18  Afghanistan  2018                                96.616135   \n19  Afghanistan  2019                                97.700000   \n20  Afghanistan  2020                                97.700000   \n21      Albania  2000                               100.000000   \n22      Albania  2001                               100.000000   \n23      Albania  2002                               100.000000   \n24      Albania  2003                               100.000000   \n25      Albania  2004                               100.000000   \n26      Albania  2005                               100.000000   \n27      Albania  2006                               100.000000   \n28      Albania  2007                               100.000000   \n29      Albania  2008                               100.000000   \n30      Albania  2009                               100.000000   \n31      Albania  2010                               100.000000   \n32      Albania  2011                               100.000000   \n33      Albania  2012                                99.900000   \n34      Albania  2013                               100.000000   \n35      Albania  2014                                99.950000   \n36      Albania  2015                                99.980000   \n37      Albania  2016                                99.890000   \n38      Albania  2017                                99.890000   \n39      Albania  2018                               100.000000   \n40      Albania  2019                               100.000000   \n41      Albania  2020                               100.000000   \n\n    Access to clean fuels for cooking  \\\n0                                6.20   \n1                                7.20   \n2                                8.20   \n3                                9.50   \n4                               10.90   \n5                               12.20   \n6                               13.85   \n7                               15.30   \n8                               16.70   \n9                               18.40   \n10                              20.00   \n11                              21.80   \n12                              23.00   \n13                              24.80   \n14                              26.10   \n15                              27.40   \n16                              28.60   \n17                              29.70   \n18                              30.90   \n19                              31.90   \n20                              33.20   \n21                              38.20   \n22                              40.50   \n23                              43.20   \n24                              46.40   \n25                              49.00   \n26                              51.90   \n27                              54.80   \n28                              58.10   \n29                              60.80   \n30                              63.60   \n31                              66.50   \n32                              68.90   \n33                              71.30   \n34                              73.15   \n35                              74.60   \n36                              76.20   \n37                              77.80   \n38                              78.70   \n39                              79.80   \n40                              80.70   \n41                              81.30   \n\n    Renewable-electricity-generating-capacity-per-capita  \\\n0                                                9.22      \n1                                                8.86      \n2                                                8.47      \n3                                                8.09      \n4                                                7.75      \n5                                                7.51      \n6                                                7.40      \n7                                                7.25      \n8                                                7.49      \n9                                                7.50      \n10                                               8.27      \n11                                               8.13      \n12                                               9.29      \n13                                               9.10      \n14                                               8.95      \n15                                               8.79      \n16                                               9.87      \n17                                               9.79      \n18                                               9.55      \n19                                               9.58      \n20                                               9.35      \n21                                                NaN      \n22                                                NaN      \n23                                                NaN      \n24                                                NaN      \n25                                                NaN      \n26                                                NaN      \n27                                                NaN      \n28                                                NaN      \n29                                                NaN      \n30                                                NaN      \n31                                                NaN      \n32                                                NaN      \n33                                                NaN      \n34                                                NaN      \n35                                                NaN      \n36                                                NaN      \n37                                                NaN      \n38                                                NaN      \n39                                                NaN      \n40                                                NaN      \n41                                                NaN      \n\n    Financial flows to developing countries (US $)  \\\n0                                          20000.0   \n1                                         130000.0   \n2                                        3950000.0   \n3                                       25970000.0   \n4                                              NaN   \n5                                        9830000.0   \n6                                       10620000.0   \n7                                       15750000.0   \n8                                       16170000.0   \n9                                        9960000.0   \n10                                      36500000.0   \n11                                      28690000.0   \n12                                      62630000.0   \n13                                     268460000.0   \n14                                       6940000.0   \n15                                       4890000.0   \n16                                        860000.0   \n17                                      50330000.0   \n18                                      70100000.0   \n19                                       4620000.0   \n20                                             NaN   \n21                                             NaN   \n22                                             NaN   \n23                                             NaN   \n24                                             NaN   \n25                                             NaN   \n26                                             NaN   \n27                                             NaN   \n28                                             NaN   \n29                                             NaN   \n30                                             NaN   \n31                                             NaN   \n32                                             NaN   \n33                                             NaN   \n34                                             NaN   \n35                                             NaN   \n36                                             NaN   \n37                                             NaN   \n38                                             NaN   \n39                                             NaN   \n40                                             NaN   \n41                                             NaN   \n\n    Renewable energy share in the total final energy consumption (%)  \\\n0                                               44.99                  \n1                                               45.60                  \n2                                               37.83                  \n3                                               36.66                  \n4                                               44.24                  \n5                                               33.88                  \n6                                               31.89                  \n7                                               28.78                  \n8                                               21.17                  \n9                                               16.53                  \n10                                              15.15                  \n11                                              12.61                  \n12                                              15.36                  \n13                                              16.86                  \n14                                              18.93                  \n15                                              17.53                  \n16                                              19.92                  \n17                                              19.21                  \n18                                              17.96                  \n19                                              18.51                  \n20                                                NaN                  \n21                                                NaN                  \n22                                                NaN                  \n23                                                NaN                  \n24                                                NaN                  \n25                                                NaN                  \n26                                                NaN                  \n27                                                NaN                  \n28                                                NaN                  \n29                                                NaN                  \n30                                                NaN                  \n31                                                NaN                  \n32                                                NaN                  \n33                                                NaN                  \n34                                                NaN                  \n35                                                NaN                  \n36                                                NaN                  \n37                                                NaN                  \n38                                                NaN                  \n39                                                NaN                  \n40                                                NaN                  \n41                                                NaN                  \n\n    Electricity from fossil fuels (TWh)  Electricity from nuclear (TWh)  \\\n0                                  0.16                             0.0   \n1                                  0.09                             0.0   \n2                                  0.13                             0.0   \n3                                  0.31                             0.0   \n4                                  0.33                             0.0   \n5                                  0.34                             0.0   \n6                                  0.20                             0.0   \n7                                  0.20                             0.0   \n8                                  0.19                             0.0   \n9                                  0.16                             0.0   \n10                                 0.19                             0.0   \n11                                 0.18                             0.0   \n12                                 0.14                             0.0   \n13                                 0.22                             0.0   \n14                                 0.16                             0.0   \n15                                 0.15                             0.0   \n16                                 0.15                             0.0   \n17                                 0.18                             0.0   \n18                                 0.20                             0.0   \n19                                 0.18                             0.0   \n20                                 0.12                             0.0   \n21                                 0.14                             0.0   \n22                                 0.13                             0.0   \n23                                 0.16                             0.0   \n24                                 0.10                             0.0   \n25                                 0.13                             0.0   \n26                                 0.07                             0.0   \n27                                 0.09                             0.0   \n28                                 0.07                             0.0   \n29                                 0.07                             0.0   \n30                                 0.00                             0.0   \n31                                 0.00                             0.0   \n32                                 0.06                             0.0   \n33                                 0.00                             0.0   \n34                                 0.00                             0.0   \n35                                 0.00                             0.0   \n36                                 0.00                             0.0   \n37                                 0.00                             0.0   \n38                                 0.00                             0.0   \n39                                 0.00                             0.0   \n40                                 0.00                             0.0   \n41                                 0.00                             0.0   \n\n    Electricity from renewables (TWh)  ...  \\\n0                                0.31  ...   \n1                                0.50  ...   \n2                                0.56  ...   \n3                                0.63  ...   \n4                                0.56  ...   \n5                                0.59  ...   \n6                                0.64  ...   \n7                                0.75  ...   \n8                                0.54  ...   \n9                                0.78  ...   \n10                               0.75  ...   \n11                               0.60  ...   \n12                               0.74  ...   \n13                               0.89  ...   \n14                               1.00  ...   \n15                               1.03  ...   \n16                               1.06  ...   \n17                               1.09  ...   \n18                               0.97  ...   \n19                               0.89  ...   \n20                               0.68  ...   \n21                               4.55  ...   \n22                               3.52  ...   \n23                               3.48  ...   \n24                               5.12  ...   \n25                               5.41  ...   \n26                               5.32  ...   \n27                               4.95  ...   \n28                               2.76  ...   \n29                               3.76  ...   \n30                               5.20  ...   \n31                               7.49  ...   \n32                               4.09  ...   \n33                               4.68  ...   \n34                               6.89  ...   \n35                               4.68  ...   \n36                               5.84  ...   \n37                               7.70  ...   \n38                               4.48  ...   \n39                               8.47  ...   \n40                               5.17  ...   \n41                               5.31  ...   \n\n    Primary energy consumption per capita (kWh/person)  \\\n0                                           302.59482    \n1                                           236.89185    \n2                                           210.86215    \n3                                           229.96822    \n4                                           204.23125    \n5                                           252.06912    \n6                                           304.42090    \n7                                           354.27990    \n8                                           607.83350    \n9                                           975.04816    \n10                                         1182.89200    \n11                                         1436.11430    \n12                                         1324.12110    \n13                                         1060.79260    \n14                                          868.57620    \n15                                          970.08030    \n16                                          862.79114    \n17                                          829.31195    \n18                                          924.25085    \n19                                          802.61255    \n20                                          702.88800    \n21                                         9029.43750    \n22                                         8635.53200    \n23                                         9443.55500    \n24                                        10756.61200    \n25                                        11586.95100    \n26                                        11545.61600    \n27                                        10976.72800    \n28                                         9534.87400    \n29                                        10499.32800    \n30                                        11524.42800    \n31                                        12377.50400    \n32                                        10854.64900    \n33                                        10652.80900    \n34                                        13392.77400    \n35                                        11809.46100    \n36                                        11824.31400    \n37                                        13823.74800    \n38                                        12802.36000    \n39                                        14609.70100    \n40                                        11585.55500    \n41                                        11158.00300    \n\n    Energy intensity level of primary energy (MJ/$2017 PPP GDP)  \\\n0                                                1.64             \n1                                                1.74             \n2                                                1.40             \n3                                                1.40             \n4                                                1.20             \n5                                                1.41             \n6                                                1.50             \n7                                                1.53             \n8                                                1.94             \n9                                                2.25             \n10                                               2.46             \n11                                               3.23             \n12                                               2.61             \n13                                               2.46             \n14                                               2.25             \n15                                               2.37             \n16                                               2.24             \n17                                               2.30             \n18                                               2.44             \n19                                               2.41             \n20                                                NaN             \n21                                               4.13             \n22                                               3.89             \n23                                               4.10             \n24                                               3.80             \n25                                               3.96             \n26                                               3.75             \n27                                               3.46             \n28                                               3.12             \n29                                               3.01             \n30                                               2.98             \n31                                               2.85             \n32                                               2.91             \n33                                               2.57             \n34                                               2.96             \n35                                               2.93             \n36                                               2.69             \n37                                               2.68             \n38                                               2.69             \n39                                               2.57             \n40                                               2.50             \n41                                                NaN             \n\n    Value_co2_emissions_kt_by_country  \\\n0                          760.000000   \n1                          730.000000   \n2                         1029.999971   \n3                         1220.000029   \n4                         1029.999971   \n5                         1549.999952   \n6                         1759.999990   \n7                         1769.999981   \n8                         3559.999943   \n9                         4880.000114   \n10                        7110.000134   \n11                        8930.000305   \n12                        8079.999924   \n13                        5989.999771   \n14                        4880.000114   \n15                        5949.999809   \n16                        5300.000191   \n17                        4780.000210   \n18                        6070.000172   \n19                        6079.999924   \n20                                NaN   \n21                        3170.000000   \n22                        3230.000000   \n23                        3759.999990   \n24                        4070.000172   \n25                        4250.000000   \n26                        4030.000210   \n27                        4010.000229   \n28                        4139.999866   \n29                        4079.999924   \n30                        4219.999790   \n31                        4449.999809   \n32                        4849.999905   \n33                        4360.000134   \n34                        4440.000057   \n35                        4820.000172   \n36                        4619.999886   \n37                        4480.000019   \n38                        5139.999866   \n39                        5110.000134   \n40                        4829.999924   \n41                                NaN   \n\n    Renewables (% equivalent primary energy)  gdp_growth  gdp_per_capita  \\\n0                                        NaN         NaN             NaN   \n1                                        NaN         NaN             NaN   \n2                                        NaN         NaN      179.426579   \n3                                        NaN    8.832278      190.683814   \n4                                        NaN    1.414118      211.382074   \n5                                        NaN   11.229715      242.031313   \n6                                        NaN    5.357403      263.733602   \n7                                        NaN   13.826320      359.693158   \n8                                        NaN    3.924984      364.663542   \n9                                        NaN   21.390528      437.268740   \n10                                       NaN   14.362441      543.306526   \n11                                       NaN    0.426355      591.190030   \n12                                       NaN   12.752287      638.845852   \n13                                       NaN    5.600745      624.315454   \n14                                       NaN    2.724543      614.223342   \n15                                       NaN    1.451315      556.007221   \n16                                       NaN    2.260314      512.012778   \n17                                       NaN    2.647003      516.679862   \n18                                       NaN    1.189228      485.668419   \n19                                       NaN    3.911603      494.179350   \n20                                       NaN   -2.351101      516.747871   \n21                                       NaN    6.946217     1126.683340   \n22                                       NaN    8.293313     1281.659826   \n23                                       NaN    4.536524     1425.124219   \n24                                       NaN    5.528637     1846.120121   \n25                                       NaN    5.514668     2373.581292   \n26                                       NaN    5.526424     2673.786584   \n27                                       NaN    5.902659     2972.742924   \n28                                       NaN    5.983260     3595.038057   \n29                                       NaN    7.500041     4370.539925   \n30                                       NaN    3.354289     4114.134899   \n31                                       NaN    3.706938     4094.348386   \n32                                       NaN    2.545406     4437.142612   \n33                                       NaN    1.417243     4247.630047   \n34                                       NaN    1.002018     4413.062005   \n35                                       NaN    1.774449     4578.633208   \n36                                       NaN    2.218726     3952.802538   \n37                                       NaN    3.314981     4124.055390   \n38                                       NaN    3.802227     4531.019374   \n39                                       NaN    4.019360     5287.663694   \n40                                       NaN    2.113420     5395.659532   \n41                                       NaN   -3.955398     5246.292306   \n\n    Density\\n(P/Km2) Land Area(Km2)   Latitude  Longitude  \n0                 60       6,52,230  33.939110  67.709953  \n1                 60       6,52,230  33.939110  67.709953  \n2                 60       6,52,230  33.939110  67.709953  \n3                 60       6,52,230  33.939110  67.709953  \n4                 60       6,52,230  33.939110  67.709953  \n5                 60       6,52,230  33.939110  67.709953  \n6                 60       6,52,230  33.939110  67.709953  \n7                 60       6,52,230  33.939110  67.709953  \n8                 60       6,52,230  33.939110  67.709953  \n9                 60       6,52,230  33.939110  67.709953  \n10                60       6,52,230  33.939110  67.709953  \n11                60       6,52,230  33.939110  67.709953  \n12                60       6,52,230  33.939110  67.709953  \n13                60       6,52,230  33.939110  67.709953  \n14                60       6,52,230  33.939110  67.709953  \n15                60       6,52,230  33.939110  67.709953  \n16                60       6,52,230  33.939110  67.709953  \n17                60       6,52,230  33.939110  67.709953  \n18                60       6,52,230  33.939110  67.709953  \n19                60       6,52,230  33.939110  67.709953  \n20                60       6,52,230  33.939110  67.709953  \n21               105         28,748  41.153332  20.168331  \n22               105         28,748  41.153332  20.168331  \n23               105         28,748  41.153332  20.168331  \n24               105         28,748  41.153332  20.168331  \n25               105         28,748  41.153332  20.168331  \n26               105         28,748  41.153332  20.168331  \n27               105         28,748  41.153332  20.168331  \n28               105         28,748  41.153332  20.168331  \n29               105         28,748  41.153332  20.168331  \n30               105         28,748  41.153332  20.168331  \n31               105         28,748  41.153332  20.168331  \n32               105         28,748  41.153332  20.168331  \n33               105         28,748  41.153332  20.168331  \n34               105         28,748  41.153332  20.168331  \n35               105         28,748  41.153332  20.168331  \n36               105         28,748  41.153332  20.168331  \n37               105         28,748  41.153332  20.168331  \n38               105         28,748  41.153332  20.168331  \n39               105         28,748  41.153332  20.168331  \n40               105         28,748  41.153332  20.168331  \n41               105         28,748  41.153332  20.168331  \n\n[42 rows x 21 columns]",
      "text/html": "<div>\n<style scoped>\n    .dataframe tbody tr th:only-of-type {\n        vertical-align: middle;\n    }\n\n    .dataframe tbody tr th {\n        vertical-align: top;\n    }\n\n    .dataframe thead th {\n        text-align: right;\n    }\n</style>\n<table border=\"1\" class=\"dataframe\">\n  <thead>\n    <tr style=\"text-align: right;\">\n      <th></th>\n      <th>Entity</th>\n      <th>Year</th>\n      <th>Access to electricity (% of population)</th>\n      <th>Access to clean fuels for cooking</th>\n      <th>Renewable-electricity-generating-capacity-per-capita</th>\n      <th>Financial flows to developing countries (US $)</th>\n      <th>Renewable energy share in the total final energy consumption (%)</th>\n      <th>Electricity from fossil fuels (TWh)</th>\n      <th>Electricity from nuclear (TWh)</th>\n      <th>Electricity from renewables (TWh)</th>\n      <th>...</th>\n      <th>Primary energy consumption per capita (kWh/person)</th>\n      <th>Energy intensity level of primary energy (MJ/$2017 PPP GDP)</th>\n      <th>Value_co2_emissions_kt_by_country</th>\n      <th>Renewables (% equivalent primary energy)</th>\n      <th>gdp_growth</th>\n      <th>gdp_per_capita</th>\n      <th>Density\\n(P/Km2)</th>\n      <th>Land Area(Km2)</th>\n      <th>Latitude</th>\n      <th>Longitude</th>\n    </tr>\n  </thead>\n  <tbody>\n    <tr>\n      <th>0</th>\n      <td>Afghanistan</td>\n      <td>2000</td>\n      <td>1.613591</td>\n      <td>6.20</td>\n      <td>9.22</td>\n      <td>20000.0</td>\n      <td>44.99</td>\n      <td>0.16</td>\n      <td>0.0</td>\n      <td>0.31</td>\n      <td>...</td>\n      <td>302.59482</td>\n      <td>1.64</td>\n      <td>760.000000</td>\n      <td>NaN</td>\n      <td>NaN</td>\n      <td>NaN</td>\n      <td>60</td>\n      <td>6,52,230</td>\n      <td>33.939110</td>\n      <td>67.709953</td>\n    </tr>\n    <tr>\n      <th>1</th>\n      <td>Afghanistan</td>\n      <td>2001</td>\n      <td>4.074574</td>\n      <td>7.20</td>\n      <td>8.86</td>\n      <td>130000.0</td>\n      <td>45.60</td>\n      <td>0.09</td>\n      <td>0.0</td>\n      <td>0.50</td>\n      <td>...</td>\n      <td>236.89185</td>\n      <td>1.74</td>\n      <td>730.000000</td>\n      <td>NaN</td>\n      <td>NaN</td>\n      <td>NaN</td>\n      <td>60</td>\n      <td>6,52,230</td>\n      <td>33.939110</td>\n      <td>67.709953</td>\n    </tr>\n    <tr>\n      <th>2</th>\n      <td>Afghanistan</td>\n      <td>2002</td>\n      <td>9.409158</td>\n      <td>8.20</td>\n      <td>8.47</td>\n      <td>3950000.0</td>\n      <td>37.83</td>\n      <td>0.13</td>\n      <td>0.0</td>\n      <td>0.56</td>\n      <td>...</td>\n      <td>210.86215</td>\n      <td>1.40</td>\n      <td>1029.999971</td>\n      <td>NaN</td>\n      <td>NaN</td>\n      <td>179.426579</td>\n      <td>60</td>\n      <td>6,52,230</td>\n      <td>33.939110</td>\n      <td>67.709953</td>\n    </tr>\n    <tr>\n      <th>3</th>\n      <td>Afghanistan</td>\n      <td>2003</td>\n      <td>14.738506</td>\n      <td>9.50</td>\n      <td>8.09</td>\n      <td>25970000.0</td>\n      <td>36.66</td>\n      <td>0.31</td>\n      <td>0.0</td>\n      <td>0.63</td>\n      <td>...</td>\n      <td>229.96822</td>\n      <td>1.40</td>\n      <td>1220.000029</td>\n      <td>NaN</td>\n      <td>8.832278</td>\n      <td>190.683814</td>\n      <td>60</td>\n      <td>6,52,230</td>\n      <td>33.939110</td>\n      <td>67.709953</td>\n    </tr>\n    <tr>\n      <th>4</th>\n      <td>Afghanistan</td>\n      <td>2004</td>\n      <td>20.064968</td>\n      <td>10.90</td>\n      <td>7.75</td>\n      <td>NaN</td>\n      <td>44.24</td>\n      <td>0.33</td>\n      <td>0.0</td>\n      <td>0.56</td>\n      <td>...</td>\n      <td>204.23125</td>\n      <td>1.20</td>\n      <td>1029.999971</td>\n      <td>NaN</td>\n      <td>1.414118</td>\n      <td>211.382074</td>\n      <td>60</td>\n      <td>6,52,230</td>\n      <td>33.939110</td>\n      <td>67.709953</td>\n    </tr>\n    <tr>\n      <th>5</th>\n      <td>Afghanistan</td>\n      <td>2005</td>\n      <td>25.390894</td>\n      <td>12.20</td>\n      <td>7.51</td>\n      <td>9830000.0</td>\n      <td>33.88</td>\n      <td>0.34</td>\n      <td>0.0</td>\n      <td>0.59</td>\n      <td>...</td>\n      <td>252.06912</td>\n      <td>1.41</td>\n      <td>1549.999952</td>\n      <td>NaN</td>\n      <td>11.229715</td>\n      <td>242.031313</td>\n      <td>60</td>\n      <td>6,52,230</td>\n      <td>33.939110</td>\n      <td>67.709953</td>\n    </tr>\n    <tr>\n      <th>6</th>\n      <td>Afghanistan</td>\n      <td>2006</td>\n      <td>30.718690</td>\n      <td>13.85</td>\n      <td>7.40</td>\n      <td>10620000.0</td>\n      <td>31.89</td>\n      <td>0.20</td>\n      <td>0.0</td>\n      <td>0.64</td>\n      <td>...</td>\n      <td>304.42090</td>\n      <td>1.50</td>\n      <td>1759.999990</td>\n      <td>NaN</td>\n      <td>5.357403</td>\n      <td>263.733602</td>\n      <td>60</td>\n      <td>6,52,230</td>\n      <td>33.939110</td>\n      <td>67.709953</td>\n    </tr>\n    <tr>\n      <th>7</th>\n      <td>Afghanistan</td>\n      <td>2007</td>\n      <td>36.051010</td>\n      <td>15.30</td>\n      <td>7.25</td>\n      <td>15750000.0</td>\n      <td>28.78</td>\n      <td>0.20</td>\n      <td>0.0</td>\n      <td>0.75</td>\n      <td>...</td>\n      <td>354.27990</td>\n      <td>1.53</td>\n      <td>1769.999981</td>\n      <td>NaN</td>\n      <td>13.826320</td>\n      <td>359.693158</td>\n      <td>60</td>\n      <td>6,52,230</td>\n      <td>33.939110</td>\n      <td>67.709953</td>\n    </tr>\n    <tr>\n      <th>8</th>\n      <td>Afghanistan</td>\n      <td>2008</td>\n      <td>42.400000</td>\n      <td>16.70</td>\n      <td>7.49</td>\n      <td>16170000.0</td>\n      <td>21.17</td>\n      <td>0.19</td>\n      <td>0.0</td>\n      <td>0.54</td>\n      <td>...</td>\n      <td>607.83350</td>\n      <td>1.94</td>\n      <td>3559.999943</td>\n      <td>NaN</td>\n      <td>3.924984</td>\n      <td>364.663542</td>\n      <td>60</td>\n      <td>6,52,230</td>\n      <td>33.939110</td>\n      <td>67.709953</td>\n    </tr>\n    <tr>\n      <th>9</th>\n      <td>Afghanistan</td>\n      <td>2009</td>\n      <td>46.740050</td>\n      <td>18.40</td>\n      <td>7.50</td>\n      <td>9960000.0</td>\n      <td>16.53</td>\n      <td>0.16</td>\n      <td>0.0</td>\n      <td>0.78</td>\n      <td>...</td>\n      <td>975.04816</td>\n      <td>2.25</td>\n      <td>4880.000114</td>\n      <td>NaN</td>\n      <td>21.390528</td>\n      <td>437.268740</td>\n      <td>60</td>\n      <td>6,52,230</td>\n      <td>33.939110</td>\n      <td>67.709953</td>\n    </tr>\n    <tr>\n      <th>10</th>\n      <td>Afghanistan</td>\n      <td>2010</td>\n      <td>42.700000</td>\n      <td>20.00</td>\n      <td>8.27</td>\n      <td>36500000.0</td>\n      <td>15.15</td>\n      <td>0.19</td>\n      <td>0.0</td>\n      <td>0.75</td>\n      <td>...</td>\n      <td>1182.89200</td>\n      <td>2.46</td>\n      <td>7110.000134</td>\n      <td>NaN</td>\n      <td>14.362441</td>\n      <td>543.306526</td>\n      <td>60</td>\n      <td>6,52,230</td>\n      <td>33.939110</td>\n      <td>67.709953</td>\n    </tr>\n    <tr>\n      <th>11</th>\n      <td>Afghanistan</td>\n      <td>2011</td>\n      <td>43.222020</td>\n      <td>21.80</td>\n      <td>8.13</td>\n      <td>28690000.0</td>\n      <td>12.61</td>\n      <td>0.18</td>\n      <td>0.0</td>\n      <td>0.60</td>\n      <td>...</td>\n      <td>1436.11430</td>\n      <td>3.23</td>\n      <td>8930.000305</td>\n      <td>NaN</td>\n      <td>0.426355</td>\n      <td>591.190030</td>\n      <td>60</td>\n      <td>6,52,230</td>\n      <td>33.939110</td>\n      <td>67.709953</td>\n    </tr>\n    <tr>\n      <th>12</th>\n      <td>Afghanistan</td>\n      <td>2012</td>\n      <td>69.100000</td>\n      <td>23.00</td>\n      <td>9.29</td>\n      <td>62630000.0</td>\n      <td>15.36</td>\n      <td>0.14</td>\n      <td>0.0</td>\n      <td>0.74</td>\n      <td>...</td>\n      <td>1324.12110</td>\n      <td>2.61</td>\n      <td>8079.999924</td>\n      <td>NaN</td>\n      <td>12.752287</td>\n      <td>638.845852</td>\n      <td>60</td>\n      <td>6,52,230</td>\n      <td>33.939110</td>\n      <td>67.709953</td>\n    </tr>\n    <tr>\n      <th>13</th>\n      <td>Afghanistan</td>\n      <td>2013</td>\n      <td>68.290650</td>\n      <td>24.80</td>\n      <td>9.10</td>\n      <td>268460000.0</td>\n      <td>16.86</td>\n      <td>0.22</td>\n      <td>0.0</td>\n      <td>0.89</td>\n      <td>...</td>\n      <td>1060.79260</td>\n      <td>2.46</td>\n      <td>5989.999771</td>\n      <td>NaN</td>\n      <td>5.600745</td>\n      <td>624.315454</td>\n      <td>60</td>\n      <td>6,52,230</td>\n      <td>33.939110</td>\n      <td>67.709953</td>\n    </tr>\n    <tr>\n      <th>14</th>\n      <td>Afghanistan</td>\n      <td>2014</td>\n      <td>89.500000</td>\n      <td>26.10</td>\n      <td>8.95</td>\n      <td>6940000.0</td>\n      <td>18.93</td>\n      <td>0.16</td>\n      <td>0.0</td>\n      <td>1.00</td>\n      <td>...</td>\n      <td>868.57620</td>\n      <td>2.25</td>\n      <td>4880.000114</td>\n      <td>NaN</td>\n      <td>2.724543</td>\n      <td>614.223342</td>\n      <td>60</td>\n      <td>6,52,230</td>\n      <td>33.939110</td>\n      <td>67.709953</td>\n    </tr>\n    <tr>\n      <th>15</th>\n      <td>Afghanistan</td>\n      <td>2015</td>\n      <td>71.500000</td>\n      <td>27.40</td>\n      <td>8.79</td>\n      <td>4890000.0</td>\n      <td>17.53</td>\n      <td>0.15</td>\n      <td>0.0</td>\n      <td>1.03</td>\n      <td>...</td>\n      <td>970.08030</td>\n      <td>2.37</td>\n      <td>5949.999809</td>\n      <td>NaN</td>\n      <td>1.451315</td>\n      <td>556.007221</td>\n      <td>60</td>\n      <td>6,52,230</td>\n      <td>33.939110</td>\n      <td>67.709953</td>\n    </tr>\n    <tr>\n      <th>16</th>\n      <td>Afghanistan</td>\n      <td>2016</td>\n      <td>97.700000</td>\n      <td>28.60</td>\n      <td>9.87</td>\n      <td>860000.0</td>\n      <td>19.92</td>\n      <td>0.15</td>\n      <td>0.0</td>\n      <td>1.06</td>\n      <td>...</td>\n      <td>862.79114</td>\n      <td>2.24</td>\n      <td>5300.000191</td>\n      <td>NaN</td>\n      <td>2.260314</td>\n      <td>512.012778</td>\n      <td>60</td>\n      <td>6,52,230</td>\n      <td>33.939110</td>\n      <td>67.709953</td>\n    </tr>\n    <tr>\n      <th>17</th>\n      <td>Afghanistan</td>\n      <td>2017</td>\n      <td>97.700000</td>\n      <td>29.70</td>\n      <td>9.79</td>\n      <td>50330000.0</td>\n      <td>19.21</td>\n      <td>0.18</td>\n      <td>0.0</td>\n      <td>1.09</td>\n      <td>...</td>\n      <td>829.31195</td>\n      <td>2.30</td>\n      <td>4780.000210</td>\n      <td>NaN</td>\n      <td>2.647003</td>\n      <td>516.679862</td>\n      <td>60</td>\n      <td>6,52,230</td>\n      <td>33.939110</td>\n      <td>67.709953</td>\n    </tr>\n    <tr>\n      <th>18</th>\n      <td>Afghanistan</td>\n      <td>2018</td>\n      <td>96.616135</td>\n      <td>30.90</td>\n      <td>9.55</td>\n      <td>70100000.0</td>\n      <td>17.96</td>\n      <td>0.20</td>\n      <td>0.0</td>\n      <td>0.97</td>\n      <td>...</td>\n      <td>924.25085</td>\n      <td>2.44</td>\n      <td>6070.000172</td>\n      <td>NaN</td>\n      <td>1.189228</td>\n      <td>485.668419</td>\n      <td>60</td>\n      <td>6,52,230</td>\n      <td>33.939110</td>\n      <td>67.709953</td>\n    </tr>\n    <tr>\n      <th>19</th>\n      <td>Afghanistan</td>\n      <td>2019</td>\n      <td>97.700000</td>\n      <td>31.90</td>\n      <td>9.58</td>\n      <td>4620000.0</td>\n      <td>18.51</td>\n      <td>0.18</td>\n      <td>0.0</td>\n      <td>0.89</td>\n      <td>...</td>\n      <td>802.61255</td>\n      <td>2.41</td>\n      <td>6079.999924</td>\n      <td>NaN</td>\n      <td>3.911603</td>\n      <td>494.179350</td>\n      <td>60</td>\n      <td>6,52,230</td>\n      <td>33.939110</td>\n      <td>67.709953</td>\n    </tr>\n    <tr>\n      <th>20</th>\n      <td>Afghanistan</td>\n      <td>2020</td>\n      <td>97.700000</td>\n      <td>33.20</td>\n      <td>9.35</td>\n      <td>NaN</td>\n      <td>NaN</td>\n      <td>0.12</td>\n      <td>0.0</td>\n      <td>0.68</td>\n      <td>...</td>\n      <td>702.88800</td>\n      <td>NaN</td>\n      <td>NaN</td>\n      <td>NaN</td>\n      <td>-2.351101</td>\n      <td>516.747871</td>\n      <td>60</td>\n      <td>6,52,230</td>\n      <td>33.939110</td>\n      <td>67.709953</td>\n    </tr>\n    <tr>\n      <th>21</th>\n      <td>Albania</td>\n      <td>2000</td>\n      <td>100.000000</td>\n      <td>38.20</td>\n      <td>NaN</td>\n      <td>NaN</td>\n      <td>NaN</td>\n      <td>0.14</td>\n      <td>0.0</td>\n      <td>4.55</td>\n      <td>...</td>\n      <td>9029.43750</td>\n      <td>4.13</td>\n      <td>3170.000000</td>\n      <td>NaN</td>\n      <td>6.946217</td>\n      <td>1126.683340</td>\n      <td>105</td>\n      <td>28,748</td>\n      <td>41.153332</td>\n      <td>20.168331</td>\n    </tr>\n    <tr>\n      <th>22</th>\n      <td>Albania</td>\n      <td>2001</td>\n      <td>100.000000</td>\n      <td>40.50</td>\n      <td>NaN</td>\n      <td>NaN</td>\n      <td>NaN</td>\n      <td>0.13</td>\n      <td>0.0</td>\n      <td>3.52</td>\n      <td>...</td>\n      <td>8635.53200</td>\n      <td>3.89</td>\n      <td>3230.000000</td>\n      <td>NaN</td>\n      <td>8.293313</td>\n      <td>1281.659826</td>\n      <td>105</td>\n      <td>28,748</td>\n      <td>41.153332</td>\n      <td>20.168331</td>\n    </tr>\n    <tr>\n      <th>23</th>\n      <td>Albania</td>\n      <td>2002</td>\n      <td>100.000000</td>\n      <td>43.20</td>\n      <td>NaN</td>\n      <td>NaN</td>\n      <td>NaN</td>\n      <td>0.16</td>\n      <td>0.0</td>\n      <td>3.48</td>\n      <td>...</td>\n      <td>9443.55500</td>\n      <td>4.10</td>\n      <td>3759.999990</td>\n      <td>NaN</td>\n      <td>4.536524</td>\n      <td>1425.124219</td>\n      <td>105</td>\n      <td>28,748</td>\n      <td>41.153332</td>\n      <td>20.168331</td>\n    </tr>\n    <tr>\n      <th>24</th>\n      <td>Albania</td>\n      <td>2003</td>\n      <td>100.000000</td>\n      <td>46.40</td>\n      <td>NaN</td>\n      <td>NaN</td>\n      <td>NaN</td>\n      <td>0.10</td>\n      <td>0.0</td>\n      <td>5.12</td>\n      <td>...</td>\n      <td>10756.61200</td>\n      <td>3.80</td>\n      <td>4070.000172</td>\n      <td>NaN</td>\n      <td>5.528637</td>\n      <td>1846.120121</td>\n      <td>105</td>\n      <td>28,748</td>\n      <td>41.153332</td>\n      <td>20.168331</td>\n    </tr>\n    <tr>\n      <th>25</th>\n      <td>Albania</td>\n      <td>2004</td>\n      <td>100.000000</td>\n      <td>49.00</td>\n      <td>NaN</td>\n      <td>NaN</td>\n      <td>NaN</td>\n      <td>0.13</td>\n      <td>0.0</td>\n      <td>5.41</td>\n      <td>...</td>\n      <td>11586.95100</td>\n      <td>3.96</td>\n      <td>4250.000000</td>\n      <td>NaN</td>\n      <td>5.514668</td>\n      <td>2373.581292</td>\n      <td>105</td>\n      <td>28,748</td>\n      <td>41.153332</td>\n      <td>20.168331</td>\n    </tr>\n    <tr>\n      <th>26</th>\n      <td>Albania</td>\n      <td>2005</td>\n      <td>100.000000</td>\n      <td>51.90</td>\n      <td>NaN</td>\n      <td>NaN</td>\n      <td>NaN</td>\n      <td>0.07</td>\n      <td>0.0</td>\n      <td>5.32</td>\n      <td>...</td>\n      <td>11545.61600</td>\n      <td>3.75</td>\n      <td>4030.000210</td>\n      <td>NaN</td>\n      <td>5.526424</td>\n      <td>2673.786584</td>\n      <td>105</td>\n      <td>28,748</td>\n      <td>41.153332</td>\n      <td>20.168331</td>\n    </tr>\n    <tr>\n      <th>27</th>\n      <td>Albania</td>\n      <td>2006</td>\n      <td>100.000000</td>\n      <td>54.80</td>\n      <td>NaN</td>\n      <td>NaN</td>\n      <td>NaN</td>\n      <td>0.09</td>\n      <td>0.0</td>\n      <td>4.95</td>\n      <td>...</td>\n      <td>10976.72800</td>\n      <td>3.46</td>\n      <td>4010.000229</td>\n      <td>NaN</td>\n      <td>5.902659</td>\n      <td>2972.742924</td>\n      <td>105</td>\n      <td>28,748</td>\n      <td>41.153332</td>\n      <td>20.168331</td>\n    </tr>\n    <tr>\n      <th>28</th>\n      <td>Albania</td>\n      <td>2007</td>\n      <td>100.000000</td>\n      <td>58.10</td>\n      <td>NaN</td>\n      <td>NaN</td>\n      <td>NaN</td>\n      <td>0.07</td>\n      <td>0.0</td>\n      <td>2.76</td>\n      <td>...</td>\n      <td>9534.87400</td>\n      <td>3.12</td>\n      <td>4139.999866</td>\n      <td>NaN</td>\n      <td>5.983260</td>\n      <td>3595.038057</td>\n      <td>105</td>\n      <td>28,748</td>\n      <td>41.153332</td>\n      <td>20.168331</td>\n    </tr>\n    <tr>\n      <th>29</th>\n      <td>Albania</td>\n      <td>2008</td>\n      <td>100.000000</td>\n      <td>60.80</td>\n      <td>NaN</td>\n      <td>NaN</td>\n      <td>NaN</td>\n      <td>0.07</td>\n      <td>0.0</td>\n      <td>3.76</td>\n      <td>...</td>\n      <td>10499.32800</td>\n      <td>3.01</td>\n      <td>4079.999924</td>\n      <td>NaN</td>\n      <td>7.500041</td>\n      <td>4370.539925</td>\n      <td>105</td>\n      <td>28,748</td>\n      <td>41.153332</td>\n      <td>20.168331</td>\n    </tr>\n    <tr>\n      <th>30</th>\n      <td>Albania</td>\n      <td>2009</td>\n      <td>100.000000</td>\n      <td>63.60</td>\n      <td>NaN</td>\n      <td>NaN</td>\n      <td>NaN</td>\n      <td>0.00</td>\n      <td>0.0</td>\n      <td>5.20</td>\n      <td>...</td>\n      <td>11524.42800</td>\n      <td>2.98</td>\n      <td>4219.999790</td>\n      <td>NaN</td>\n      <td>3.354289</td>\n      <td>4114.134899</td>\n      <td>105</td>\n      <td>28,748</td>\n      <td>41.153332</td>\n      <td>20.168331</td>\n    </tr>\n    <tr>\n      <th>31</th>\n      <td>Albania</td>\n      <td>2010</td>\n      <td>100.000000</td>\n      <td>66.50</td>\n      <td>NaN</td>\n      <td>NaN</td>\n      <td>NaN</td>\n      <td>0.00</td>\n      <td>0.0</td>\n      <td>7.49</td>\n      <td>...</td>\n      <td>12377.50400</td>\n      <td>2.85</td>\n      <td>4449.999809</td>\n      <td>NaN</td>\n      <td>3.706938</td>\n      <td>4094.348386</td>\n      <td>105</td>\n      <td>28,748</td>\n      <td>41.153332</td>\n      <td>20.168331</td>\n    </tr>\n    <tr>\n      <th>32</th>\n      <td>Albania</td>\n      <td>2011</td>\n      <td>100.000000</td>\n      <td>68.90</td>\n      <td>NaN</td>\n      <td>NaN</td>\n      <td>NaN</td>\n      <td>0.06</td>\n      <td>0.0</td>\n      <td>4.09</td>\n      <td>...</td>\n      <td>10854.64900</td>\n      <td>2.91</td>\n      <td>4849.999905</td>\n      <td>NaN</td>\n      <td>2.545406</td>\n      <td>4437.142612</td>\n      <td>105</td>\n      <td>28,748</td>\n      <td>41.153332</td>\n      <td>20.168331</td>\n    </tr>\n    <tr>\n      <th>33</th>\n      <td>Albania</td>\n      <td>2012</td>\n      <td>99.900000</td>\n      <td>71.30</td>\n      <td>NaN</td>\n      <td>NaN</td>\n      <td>NaN</td>\n      <td>0.00</td>\n      <td>0.0</td>\n      <td>4.68</td>\n      <td>...</td>\n      <td>10652.80900</td>\n      <td>2.57</td>\n      <td>4360.000134</td>\n      <td>NaN</td>\n      <td>1.417243</td>\n      <td>4247.630047</td>\n      <td>105</td>\n      <td>28,748</td>\n      <td>41.153332</td>\n      <td>20.168331</td>\n    </tr>\n    <tr>\n      <th>34</th>\n      <td>Albania</td>\n      <td>2013</td>\n      <td>100.000000</td>\n      <td>73.15</td>\n      <td>NaN</td>\n      <td>NaN</td>\n      <td>NaN</td>\n      <td>0.00</td>\n      <td>0.0</td>\n      <td>6.89</td>\n      <td>...</td>\n      <td>13392.77400</td>\n      <td>2.96</td>\n      <td>4440.000057</td>\n      <td>NaN</td>\n      <td>1.002018</td>\n      <td>4413.062005</td>\n      <td>105</td>\n      <td>28,748</td>\n      <td>41.153332</td>\n      <td>20.168331</td>\n    </tr>\n    <tr>\n      <th>35</th>\n      <td>Albania</td>\n      <td>2014</td>\n      <td>99.950000</td>\n      <td>74.60</td>\n      <td>NaN</td>\n      <td>NaN</td>\n      <td>NaN</td>\n      <td>0.00</td>\n      <td>0.0</td>\n      <td>4.68</td>\n      <td>...</td>\n      <td>11809.46100</td>\n      <td>2.93</td>\n      <td>4820.000172</td>\n      <td>NaN</td>\n      <td>1.774449</td>\n      <td>4578.633208</td>\n      <td>105</td>\n      <td>28,748</td>\n      <td>41.153332</td>\n      <td>20.168331</td>\n    </tr>\n    <tr>\n      <th>36</th>\n      <td>Albania</td>\n      <td>2015</td>\n      <td>99.980000</td>\n      <td>76.20</td>\n      <td>NaN</td>\n      <td>NaN</td>\n      <td>NaN</td>\n      <td>0.00</td>\n      <td>0.0</td>\n      <td>5.84</td>\n      <td>...</td>\n      <td>11824.31400</td>\n      <td>2.69</td>\n      <td>4619.999886</td>\n      <td>NaN</td>\n      <td>2.218726</td>\n      <td>3952.802538</td>\n      <td>105</td>\n      <td>28,748</td>\n      <td>41.153332</td>\n      <td>20.168331</td>\n    </tr>\n    <tr>\n      <th>37</th>\n      <td>Albania</td>\n      <td>2016</td>\n      <td>99.890000</td>\n      <td>77.80</td>\n      <td>NaN</td>\n      <td>NaN</td>\n      <td>NaN</td>\n      <td>0.00</td>\n      <td>0.0</td>\n      <td>7.70</td>\n      <td>...</td>\n      <td>13823.74800</td>\n      <td>2.68</td>\n      <td>4480.000019</td>\n      <td>NaN</td>\n      <td>3.314981</td>\n      <td>4124.055390</td>\n      <td>105</td>\n      <td>28,748</td>\n      <td>41.153332</td>\n      <td>20.168331</td>\n    </tr>\n    <tr>\n      <th>38</th>\n      <td>Albania</td>\n      <td>2017</td>\n      <td>99.890000</td>\n      <td>78.70</td>\n      <td>NaN</td>\n      <td>NaN</td>\n      <td>NaN</td>\n      <td>0.00</td>\n      <td>0.0</td>\n      <td>4.48</td>\n      <td>...</td>\n      <td>12802.36000</td>\n      <td>2.69</td>\n      <td>5139.999866</td>\n      <td>NaN</td>\n      <td>3.802227</td>\n      <td>4531.019374</td>\n      <td>105</td>\n      <td>28,748</td>\n      <td>41.153332</td>\n      <td>20.168331</td>\n    </tr>\n    <tr>\n      <th>39</th>\n      <td>Albania</td>\n      <td>2018</td>\n      <td>100.000000</td>\n      <td>79.80</td>\n      <td>NaN</td>\n      <td>NaN</td>\n      <td>NaN</td>\n      <td>0.00</td>\n      <td>0.0</td>\n      <td>8.47</td>\n      <td>...</td>\n      <td>14609.70100</td>\n      <td>2.57</td>\n      <td>5110.000134</td>\n      <td>NaN</td>\n      <td>4.019360</td>\n      <td>5287.663694</td>\n      <td>105</td>\n      <td>28,748</td>\n      <td>41.153332</td>\n      <td>20.168331</td>\n    </tr>\n    <tr>\n      <th>40</th>\n      <td>Albania</td>\n      <td>2019</td>\n      <td>100.000000</td>\n      <td>80.70</td>\n      <td>NaN</td>\n      <td>NaN</td>\n      <td>NaN</td>\n      <td>0.00</td>\n      <td>0.0</td>\n      <td>5.17</td>\n      <td>...</td>\n      <td>11585.55500</td>\n      <td>2.50</td>\n      <td>4829.999924</td>\n      <td>NaN</td>\n      <td>2.113420</td>\n      <td>5395.659532</td>\n      <td>105</td>\n      <td>28,748</td>\n      <td>41.153332</td>\n      <td>20.168331</td>\n    </tr>\n    <tr>\n      <th>41</th>\n      <td>Albania</td>\n      <td>2020</td>\n      <td>100.000000</td>\n      <td>81.30</td>\n      <td>NaN</td>\n      <td>NaN</td>\n      <td>NaN</td>\n      <td>0.00</td>\n      <td>0.0</td>\n      <td>5.31</td>\n      <td>...</td>\n      <td>11158.00300</td>\n      <td>NaN</td>\n      <td>NaN</td>\n      <td>NaN</td>\n      <td>-3.955398</td>\n      <td>5246.292306</td>\n      <td>105</td>\n      <td>28,748</td>\n      <td>41.153332</td>\n      <td>20.168331</td>\n    </tr>\n  </tbody>\n</table>\n<p>42 rows × 21 columns</p>\n</div>"
     },
     "execution_count": 110,
     "metadata": {},
     "output_type": "execute_result"
    }
   ],
   "source": [
    "df = pd.read_csv(\"ENERGY_data.csv\")\n",
    "energy_data = df\n",
    "# To display the top 42 rows\n",
    "energy_data.head(42)"
   ]
  },
  {
   "cell_type": "code",
   "execution_count": 111,
   "metadata": {
    "collapsed": false,
    "ExecuteTime": {
     "end_time": "2023-12-04T09:48:37.639975300Z",
     "start_time": "2023-12-04T09:48:35.653874100Z"
    }
   },
   "outputs": [
    {
     "name": "stdout",
     "output_type": "stream",
     "text": [
      "<class 'pandas.core.frame.DataFrame'>\n",
      "RangeIndex: 3649 entries, 0 to 3648\n",
      "Data columns (total 21 columns):\n",
      " #   Column                                                            Non-Null Count  Dtype  \n",
      "---  ------                                                            --------------  -----  \n",
      " 0   Entity                                                            3649 non-null   object \n",
      " 1   Year                                                              3649 non-null   int64  \n",
      " 2   Access to electricity (% of population)                           3639 non-null   float64\n",
      " 3   Access to clean fuels for cooking                                 3480 non-null   float64\n",
      " 4   Renewable-electricity-generating-capacity-per-capita              2718 non-null   float64\n",
      " 5   Financial flows to developing countries (US $)                    1560 non-null   float64\n",
      " 6   Renewable energy share in the total final energy consumption (%)  3455 non-null   float64\n",
      " 7   Electricity from fossil fuels (TWh)                               3628 non-null   float64\n",
      " 8   Electricity from nuclear (TWh)                                    3523 non-null   float64\n",
      " 9   Electricity from renewables (TWh)                                 3628 non-null   float64\n",
      " 10  Low-carbon electricity (% electricity)                            3607 non-null   float64\n",
      " 11  Primary energy consumption per capita (kWh/person)                3649 non-null   float64\n",
      " 12  Energy intensity level of primary energy (MJ/$2017 PPP GDP)       3442 non-null   float64\n",
      " 13  Value_co2_emissions_kt_by_country                                 3221 non-null   float64\n",
      " 14  Renewables (% equivalent primary energy)                          1512 non-null   float64\n",
      " 15  gdp_growth                                                        3332 non-null   float64\n",
      " 16  gdp_per_capita                                                    3367 non-null   float64\n",
      " 17  Density\\n(P/Km2)                                                  3648 non-null   object \n",
      " 18  Land Area(Km2)                                                    3648 non-null   object \n",
      " 19  Latitude                                                          3648 non-null   float64\n",
      " 20  Longitude                                                         3648 non-null   float64\n",
      "dtypes: float64(17), int64(1), object(3)\n",
      "memory usage: 598.8+ KB\n"
     ]
    }
   ],
   "source": [
    "#Checking null values and types of the parameters\n",
    "energy_data.info()"
   ]
  },
  {
   "cell_type": "code",
   "execution_count": 112,
   "metadata": {
    "collapsed": false,
    "ExecuteTime": {
     "end_time": "2023-12-04T09:48:37.855834500Z",
     "start_time": "2023-12-04T09:48:35.664595400Z"
    }
   },
   "outputs": [
    {
     "data": {
      "text/plain": "              Year  Access to electricity (% of population)  \\\ncount  3649.000000                              3639.000000   \nmean   2010.038367                                78.933702   \nstd       6.054228                                30.275541   \nmin    2000.000000                                 1.252269   \n25%    2005.000000                                59.800890   \n50%    2010.000000                                98.361570   \n75%    2015.000000                               100.000000   \nmax    2020.000000                               100.000000   \n\n       Access to clean fuels for cooking  \\\ncount                        3480.000000   \nmean                           63.255287   \nstd                            39.043658   \nmin                             0.000000   \n25%                            23.175000   \n50%                            83.150000   \n75%                           100.000000   \nmax                           100.000000   \n\n       Renewable-electricity-generating-capacity-per-capita  \\\ncount                                        2718.000000      \nmean                                          113.137498      \nstd                                           244.167256      \nmin                                             0.000000      \n25%                                             3.540000      \n50%                                            32.910000      \n75%                                           112.210000      \nmax                                          3060.190000      \n\n       Financial flows to developing countries (US $)  \\\ncount                                    1.560000e+03   \nmean                                     9.422400e+07   \nstd                                      2.981544e+08   \nmin                                      0.000000e+00   \n25%                                      2.600000e+05   \n50%                                      5.665000e+06   \n75%                                      5.534750e+07   \nmax                                      5.202310e+09   \n\n       Renewable energy share in the total final energy consumption (%)  \\\ncount                                        3455.000000                  \nmean                                           32.638165                  \nstd                                            29.894901                  \nmin                                             0.000000                  \n25%                                             6.515000                  \n50%                                            23.300000                  \n75%                                            55.245000                  \nmax                                            96.040000                  \n\n       Electricity from fossil fuels (TWh)  Electricity from nuclear (TWh)  \\\ncount                          3628.000000                     3523.000000   \nmean                             70.365003                       13.450190   \nstd                             348.051866                       73.006623   \nmin                               0.000000                        0.000000   \n25%                               0.290000                        0.000000   \n50%                               2.970000                        0.000000   \n75%                              26.837500                        0.000000   \nmax                            5184.130000                      809.410000   \n\n       Electricity from renewables (TWh)  \\\ncount                        3628.000000   \nmean                           23.968010   \nstd                           104.431085   \nmin                             0.000000   \n25%                             0.040000   \n50%                             1.470000   \n75%                             9.600000   \nmax                          2184.940000   \n\n       Low-carbon electricity (% electricity)  \\\ncount                             3607.000000   \nmean                                36.801182   \nstd                                 34.314884   \nmin                                  0.000000   \n25%                                  2.877847   \n50%                                 27.865068   \n75%                                 64.403792   \nmax                                100.000010   \n\n       Primary energy consumption per capita (kWh/person)  \\\ncount                                        3649.000000    \nmean                                        25743.981745    \nstd                                         34773.221366    \nmin                                             0.000000    \n25%                                          3116.737300    \n50%                                         13120.570000    \n75%                                         33892.780000    \nmax                                        262585.700000    \n\n       Energy intensity level of primary energy (MJ/$2017 PPP GDP)  \\\ncount                                        3442.000000             \nmean                                            5.307345             \nstd                                             3.532020             \nmin                                             0.110000             \n25%                                             3.170000             \n50%                                             4.300000             \n75%                                             6.027500             \nmax                                            32.570000             \n\n       Value_co2_emissions_kt_by_country  \\\ncount                       3.221000e+03   \nmean                        1.598665e+05   \nstd                         7.736611e+05   \nmin                         1.000000e+01   \n25%                         2.020000e+03   \n50%                         1.050000e+04   \n75%                         6.058000e+04   \nmax                         1.070722e+07   \n\n       Renewables (% equivalent primary energy)   gdp_growth  gdp_per_capita  \\\ncount                               1512.000000  3332.000000     3367.000000   \nmean                                  11.986707     3.441610    13283.774348   \nstd                                   14.994644     5.686720    19709.866716   \nmin                                    0.000000   -62.075920      111.927225   \n25%                                    2.137095     1.383302     1337.813437   \n50%                                    6.290766     3.559855     4578.633208   \n75%                                   16.841638     5.830099    15768.615365   \nmax                                   86.836586   123.139555   123514.196700   \n\n          Latitude    Longitude  \ncount  3648.000000  3648.000000  \nmean     18.246388    14.822695  \nstd      24.159232    66.348148  \nmin     -40.900557  -175.198242  \n25%       3.202778   -11.779889  \n50%      17.189877    19.145136  \n75%      38.969719    46.199616  \nmax      64.963051   178.065032  ",
      "text/html": "<div>\n<style scoped>\n    .dataframe tbody tr th:only-of-type {\n        vertical-align: middle;\n    }\n\n    .dataframe tbody tr th {\n        vertical-align: top;\n    }\n\n    .dataframe thead th {\n        text-align: right;\n    }\n</style>\n<table border=\"1\" class=\"dataframe\">\n  <thead>\n    <tr style=\"text-align: right;\">\n      <th></th>\n      <th>Year</th>\n      <th>Access to electricity (% of population)</th>\n      <th>Access to clean fuels for cooking</th>\n      <th>Renewable-electricity-generating-capacity-per-capita</th>\n      <th>Financial flows to developing countries (US $)</th>\n      <th>Renewable energy share in the total final energy consumption (%)</th>\n      <th>Electricity from fossil fuels (TWh)</th>\n      <th>Electricity from nuclear (TWh)</th>\n      <th>Electricity from renewables (TWh)</th>\n      <th>Low-carbon electricity (% electricity)</th>\n      <th>Primary energy consumption per capita (kWh/person)</th>\n      <th>Energy intensity level of primary energy (MJ/$2017 PPP GDP)</th>\n      <th>Value_co2_emissions_kt_by_country</th>\n      <th>Renewables (% equivalent primary energy)</th>\n      <th>gdp_growth</th>\n      <th>gdp_per_capita</th>\n      <th>Latitude</th>\n      <th>Longitude</th>\n    </tr>\n  </thead>\n  <tbody>\n    <tr>\n      <th>count</th>\n      <td>3649.000000</td>\n      <td>3639.000000</td>\n      <td>3480.000000</td>\n      <td>2718.000000</td>\n      <td>1.560000e+03</td>\n      <td>3455.000000</td>\n      <td>3628.000000</td>\n      <td>3523.000000</td>\n      <td>3628.000000</td>\n      <td>3607.000000</td>\n      <td>3649.000000</td>\n      <td>3442.000000</td>\n      <td>3.221000e+03</td>\n      <td>1512.000000</td>\n      <td>3332.000000</td>\n      <td>3367.000000</td>\n      <td>3648.000000</td>\n      <td>3648.000000</td>\n    </tr>\n    <tr>\n      <th>mean</th>\n      <td>2010.038367</td>\n      <td>78.933702</td>\n      <td>63.255287</td>\n      <td>113.137498</td>\n      <td>9.422400e+07</td>\n      <td>32.638165</td>\n      <td>70.365003</td>\n      <td>13.450190</td>\n      <td>23.968010</td>\n      <td>36.801182</td>\n      <td>25743.981745</td>\n      <td>5.307345</td>\n      <td>1.598665e+05</td>\n      <td>11.986707</td>\n      <td>3.441610</td>\n      <td>13283.774348</td>\n      <td>18.246388</td>\n      <td>14.822695</td>\n    </tr>\n    <tr>\n      <th>std</th>\n      <td>6.054228</td>\n      <td>30.275541</td>\n      <td>39.043658</td>\n      <td>244.167256</td>\n      <td>2.981544e+08</td>\n      <td>29.894901</td>\n      <td>348.051866</td>\n      <td>73.006623</td>\n      <td>104.431085</td>\n      <td>34.314884</td>\n      <td>34773.221366</td>\n      <td>3.532020</td>\n      <td>7.736611e+05</td>\n      <td>14.994644</td>\n      <td>5.686720</td>\n      <td>19709.866716</td>\n      <td>24.159232</td>\n      <td>66.348148</td>\n    </tr>\n    <tr>\n      <th>min</th>\n      <td>2000.000000</td>\n      <td>1.252269</td>\n      <td>0.000000</td>\n      <td>0.000000</td>\n      <td>0.000000e+00</td>\n      <td>0.000000</td>\n      <td>0.000000</td>\n      <td>0.000000</td>\n      <td>0.000000</td>\n      <td>0.000000</td>\n      <td>0.000000</td>\n      <td>0.110000</td>\n      <td>1.000000e+01</td>\n      <td>0.000000</td>\n      <td>-62.075920</td>\n      <td>111.927225</td>\n      <td>-40.900557</td>\n      <td>-175.198242</td>\n    </tr>\n    <tr>\n      <th>25%</th>\n      <td>2005.000000</td>\n      <td>59.800890</td>\n      <td>23.175000</td>\n      <td>3.540000</td>\n      <td>2.600000e+05</td>\n      <td>6.515000</td>\n      <td>0.290000</td>\n      <td>0.000000</td>\n      <td>0.040000</td>\n      <td>2.877847</td>\n      <td>3116.737300</td>\n      <td>3.170000</td>\n      <td>2.020000e+03</td>\n      <td>2.137095</td>\n      <td>1.383302</td>\n      <td>1337.813437</td>\n      <td>3.202778</td>\n      <td>-11.779889</td>\n    </tr>\n    <tr>\n      <th>50%</th>\n      <td>2010.000000</td>\n      <td>98.361570</td>\n      <td>83.150000</td>\n      <td>32.910000</td>\n      <td>5.665000e+06</td>\n      <td>23.300000</td>\n      <td>2.970000</td>\n      <td>0.000000</td>\n      <td>1.470000</td>\n      <td>27.865068</td>\n      <td>13120.570000</td>\n      <td>4.300000</td>\n      <td>1.050000e+04</td>\n      <td>6.290766</td>\n      <td>3.559855</td>\n      <td>4578.633208</td>\n      <td>17.189877</td>\n      <td>19.145136</td>\n    </tr>\n    <tr>\n      <th>75%</th>\n      <td>2015.000000</td>\n      <td>100.000000</td>\n      <td>100.000000</td>\n      <td>112.210000</td>\n      <td>5.534750e+07</td>\n      <td>55.245000</td>\n      <td>26.837500</td>\n      <td>0.000000</td>\n      <td>9.600000</td>\n      <td>64.403792</td>\n      <td>33892.780000</td>\n      <td>6.027500</td>\n      <td>6.058000e+04</td>\n      <td>16.841638</td>\n      <td>5.830099</td>\n      <td>15768.615365</td>\n      <td>38.969719</td>\n      <td>46.199616</td>\n    </tr>\n    <tr>\n      <th>max</th>\n      <td>2020.000000</td>\n      <td>100.000000</td>\n      <td>100.000000</td>\n      <td>3060.190000</td>\n      <td>5.202310e+09</td>\n      <td>96.040000</td>\n      <td>5184.130000</td>\n      <td>809.410000</td>\n      <td>2184.940000</td>\n      <td>100.000010</td>\n      <td>262585.700000</td>\n      <td>32.570000</td>\n      <td>1.070722e+07</td>\n      <td>86.836586</td>\n      <td>123.139555</td>\n      <td>123514.196700</td>\n      <td>64.963051</td>\n      <td>178.065032</td>\n    </tr>\n  </tbody>\n</table>\n</div>"
     },
     "execution_count": 112,
     "metadata": {},
     "output_type": "execute_result"
    }
   ],
   "source": [
    "#Checking descriptive analytics of the numerical parameters\n",
    "energy_data.describe()"
   ]
  },
  {
   "cell_type": "markdown",
   "metadata": {
    "id": "QoHuBhXxT5E9"
   },
   "source": [
    "## 4. Renaming columns and dropping columns"
   ]
  },
  {
   "cell_type": "code",
   "execution_count": 113,
   "outputs": [],
   "source": [
    "#Adding \"_\" lower case to headers to easy hanlde\n",
    "energy_data.columns = energy_data.columns.str.lower().str.replace(\" \", \"_\")"
   ],
   "metadata": {
    "collapsed": false,
    "ExecuteTime": {
     "end_time": "2023-12-04T09:48:37.858797800Z",
     "start_time": "2023-12-04T09:48:35.713196700Z"
    }
   }
  },
  {
   "cell_type": "code",
   "execution_count": 114,
   "outputs": [],
   "source": [
    "#Renaming headers to easu handle titles\n",
    "energy_data = energy_data.rename({'entity':'country','access_to_electricity_(%_of_population)':'access_electricity(%)','access_to_clean_fuels_for_cooking':'access_cleaning_flues_cooking','renewable-electricity-generating-capacity-per-capita':'renewal_electricity_capacity(per person)','financial_flows_to_developing_countries_(us_$)':'financial_flows($)','renewable_energy_share_in_the_total_final_energy_consumption_(%)':'renewable_energy_from_total(%)','electricity_from_fossil_fuels_(twh)':'electricity_fossil_fuels(twh)','electricity_from_nuclear_(twh)':'electricity_nuclear','electricity_from_renewables_(twh)':'electricity_from_renewals','low-carbon_electricity_(%_electricity)':'electricity_low_carbon(%)','primary_energy_consumption_per_capita_(kwh/person)':'primary_energy_consumption(kwh/person)','energy_intensity_level_of_primary_energy_(mj/$2017_ppp_gdp)':'primary_energy_intensity','value_co2_emissions_kt_by_country':'co2_emissions','renewables_(%_equivalent_primary_energy)':'renewables','density\\\\n(p/km2)':'density','land_area(km2)':'land_area'},axis = 1)"
   ],
   "metadata": {
    "collapsed": false,
    "ExecuteTime": {
     "end_time": "2023-12-04T09:48:37.890419Z",
     "start_time": "2023-12-04T09:48:35.723594500Z"
    }
   }
  },
  {
   "cell_type": "code",
   "execution_count": 115,
   "outputs": [
    {
     "data": {
      "text/plain": "     land_area density\n0     6,52,230      60\n1     6,52,230      60\n2     6,52,230      60\n3     6,52,230      60\n4     6,52,230      60\n...        ...     ...\n3644  3,90,757      38\n3645  3,90,757      38\n3646  3,90,757      38\n3647  3,90,757      38\n3648  3,90,757      38\n\n[3649 rows x 2 columns]",
      "text/html": "<div>\n<style scoped>\n    .dataframe tbody tr th:only-of-type {\n        vertical-align: middle;\n    }\n\n    .dataframe tbody tr th {\n        vertical-align: top;\n    }\n\n    .dataframe thead th {\n        text-align: right;\n    }\n</style>\n<table border=\"1\" class=\"dataframe\">\n  <thead>\n    <tr style=\"text-align: right;\">\n      <th></th>\n      <th>land_area</th>\n      <th>density</th>\n    </tr>\n  </thead>\n  <tbody>\n    <tr>\n      <th>0</th>\n      <td>6,52,230</td>\n      <td>60</td>\n    </tr>\n    <tr>\n      <th>1</th>\n      <td>6,52,230</td>\n      <td>60</td>\n    </tr>\n    <tr>\n      <th>2</th>\n      <td>6,52,230</td>\n      <td>60</td>\n    </tr>\n    <tr>\n      <th>3</th>\n      <td>6,52,230</td>\n      <td>60</td>\n    </tr>\n    <tr>\n      <th>4</th>\n      <td>6,52,230</td>\n      <td>60</td>\n    </tr>\n    <tr>\n      <th>...</th>\n      <td>...</td>\n      <td>...</td>\n    </tr>\n    <tr>\n      <th>3644</th>\n      <td>3,90,757</td>\n      <td>38</td>\n    </tr>\n    <tr>\n      <th>3645</th>\n      <td>3,90,757</td>\n      <td>38</td>\n    </tr>\n    <tr>\n      <th>3646</th>\n      <td>3,90,757</td>\n      <td>38</td>\n    </tr>\n    <tr>\n      <th>3647</th>\n      <td>3,90,757</td>\n      <td>38</td>\n    </tr>\n    <tr>\n      <th>3648</th>\n      <td>3,90,757</td>\n      <td>38</td>\n    </tr>\n  </tbody>\n</table>\n<p>3649 rows × 2 columns</p>\n</div>"
     },
     "execution_count": 115,
     "metadata": {},
     "output_type": "execute_result"
    }
   ],
   "source": [
    "#Showing data of 'Land Area' and 'Density' as they have different type of data\n",
    "energy_data[['land_area','density']]"
   ],
   "metadata": {
    "collapsed": false,
    "ExecuteTime": {
     "end_time": "2023-12-04T09:48:37.892430700Z",
     "start_time": "2023-12-04T09:48:35.737389800Z"
    }
   }
  },
  {
   "cell_type": "code",
   "execution_count": 116,
   "outputs": [],
   "source": [
    "#Removing the comma from the numbers and then converting tu a numerica value\n",
    "energy_data['land_area'] = energy_data['land_area'].str.replace(',', '')\n",
    "energy_data['land_area'] = pd.to_numeric(energy_data['land_area'])"
   ],
   "metadata": {
    "collapsed": false,
    "ExecuteTime": {
     "end_time": "2023-12-04T09:48:37.893417800Z",
     "start_time": "2023-12-04T09:48:35.760790400Z"
    }
   }
  },
  {
   "cell_type": "code",
   "execution_count": 117,
   "outputs": [],
   "source": [
    "#Removing the comma from the numbers and then converting tu a numerica value\n",
    "energy_data['density'] = energy_data['density'].str.replace(',', '')\n",
    "energy_data['density'] = pd.to_numeric(energy_data['density'])"
   ],
   "metadata": {
    "collapsed": false,
    "ExecuteTime": {
     "end_time": "2023-12-04T09:48:37.894412Z",
     "start_time": "2023-12-04T09:48:35.775654700Z"
    }
   }
  },
  {
   "cell_type": "code",
   "execution_count": 118,
   "outputs": [
    {
     "name": "stdout",
     "output_type": "stream",
     "text": [
      "<class 'pandas.core.frame.DataFrame'>\n",
      "RangeIndex: 3649 entries, 0 to 3648\n",
      "Data columns (total 21 columns):\n",
      " #   Column                                    Non-Null Count  Dtype  \n",
      "---  ------                                    --------------  -----  \n",
      " 0   country                                   3649 non-null   object \n",
      " 1   year                                      3649 non-null   int64  \n",
      " 2   access_electricity(%)                     3639 non-null   float64\n",
      " 3   access_cleaning_flues_cooking             3480 non-null   float64\n",
      " 4   renewal_electricity_capacity(per person)  2718 non-null   float64\n",
      " 5   financial_flows($)                        1560 non-null   float64\n",
      " 6   renewable_energy_from_total(%)            3455 non-null   float64\n",
      " 7   electricity_fossil_fuels(twh)             3628 non-null   float64\n",
      " 8   electricity_nuclear                       3523 non-null   float64\n",
      " 9   electricity_from_renewals                 3628 non-null   float64\n",
      " 10  electricity_low_carbon(%)                 3607 non-null   float64\n",
      " 11  primary_energy_consumption(kwh/person)    3649 non-null   float64\n",
      " 12  primary_energy_intensity                  3442 non-null   float64\n",
      " 13  co2_emissions                             3221 non-null   float64\n",
      " 14  renewables                                1512 non-null   float64\n",
      " 15  gdp_growth                                3332 non-null   float64\n",
      " 16  gdp_per_capita                            3367 non-null   float64\n",
      " 17  density                                   3648 non-null   float64\n",
      " 18  land_area                                 3648 non-null   float64\n",
      " 19  latitude                                  3648 non-null   float64\n",
      " 20  longitude                                 3648 non-null   float64\n",
      "dtypes: float64(19), int64(1), object(1)\n",
      "memory usage: 598.8+ KB\n"
     ]
    }
   ],
   "source": [
    "#Checking all the parameters have the correct type of data\n",
    "energy_data.info()"
   ],
   "metadata": {
    "collapsed": false,
    "ExecuteTime": {
     "end_time": "2023-12-04T09:48:37.904266900Z",
     "start_time": "2023-12-04T09:48:35.787284900Z"
    }
   }
  },
  {
   "cell_type": "code",
   "execution_count": 119,
   "outputs": [
    {
     "data": {
      "text/plain": "country\nSerbia           14\nMontenegro       14\nSouth Sudan       8\nFrench Guiana     1\nName: count, dtype: int64"
     },
     "execution_count": 119,
     "metadata": {},
     "output_type": "execute_result"
    }
   ],
   "source": [
    "#Checking if all the countries have 21 years\n",
    "count_country = energy_data['country'].value_counts()\n",
    "count_country[count_country != 21]"
   ],
   "metadata": {
    "collapsed": false,
    "ExecuteTime": {
     "end_time": "2023-12-04T09:48:37.905263800Z",
     "start_time": "2023-12-04T09:48:35.808011900Z"
    }
   }
  },
  {
   "cell_type": "code",
   "execution_count": 120,
   "outputs": [],
   "source": [
    "#Drop the whole Country \"South Sudan\" and \"French Guinea\" as they don't have enough data\n",
    "energy_data = energy_data.drop(energy_data[energy_data['country'] == 'French Guiana'].index)\n",
    "energy_data = energy_data.drop(energy_data[energy_data['country'] == 'South Sudan'].index)"
   ],
   "metadata": {
    "collapsed": false,
    "ExecuteTime": {
     "end_time": "2023-12-04T09:48:37.906259800Z",
     "start_time": "2023-12-04T09:48:35.822278200Z"
    }
   }
  },
  {
   "cell_type": "code",
   "execution_count": 121,
   "outputs": [],
   "source": [
    "#Checking Serbia Country\n",
    "serbia = energy_data[energy_data['country'] == 'Serbia']"
   ],
   "metadata": {
    "collapsed": false,
    "ExecuteTime": {
     "end_time": "2023-12-04T09:48:37.908253100Z",
     "start_time": "2023-12-04T09:48:35.835841700Z"
    }
   }
  },
  {
   "cell_type": "code",
   "execution_count": 122,
   "outputs": [],
   "source": [
    "years = [0,1,2,3,4,5,6]\n",
    "new_row = [0,1,2,3,4,5,6]"
   ],
   "metadata": {
    "collapsed": false,
    "ExecuteTime": {
     "end_time": "2023-12-04T09:48:37.908253100Z",
     "start_time": "2023-12-04T09:48:36.000247200Z"
    }
   }
  },
  {
   "cell_type": "code",
   "execution_count": 123,
   "outputs": [],
   "source": [
    "for i in years:\n",
    "    new_row[i] = {'country':'Serbia',\n",
    "           'year':i+2000,\n",
    "           'access_electricity':'', \n",
    "           'access_cooking_fuels':'', \n",
    "           'renewal_electricity_capacity':'',\n",
    "           'financial_flows':'',\n",
    "           'renewable_energy_share':'',\n",
    "           'electricity_fossil_fuels':'',\n",
    "           'electricity_nuclear':'',\n",
    "           'electricity_renewals':'',\n",
    "           'electricity_low_carbon':'',\n",
    "           'primary_energy_consumption':'',\n",
    "           'energy_level':'',\n",
    "           'co2_emissions':'',\n",
    "           'renewals':'',\n",
    "           'gdp_growth':'',\n",
    "           'gdp_per_capita':'',\n",
    "           'density':'',\n",
    "           'latitude':'',\n",
    "           'longitude':'',\n",
    "           'gdp_growth':''}\n",
    "    serbia.loc[i] = new_row[i]"
   ],
   "metadata": {
    "collapsed": false,
    "ExecuteTime": {
     "end_time": "2023-12-04T09:48:37.908253100Z",
     "start_time": "2023-12-04T09:48:36.013843600Z"
    }
   }
  },
  {
   "cell_type": "code",
   "execution_count": 131,
   "outputs": [
    {
     "data": {
      "text/plain": "     country  year  access_electricity(%)  access_cleaning_flues_cooking  \\\n0     Serbia  2000                    NaN                            NaN   \n1     Serbia  2001                    NaN                            NaN   \n2     Serbia  2002                    NaN                            NaN   \n3     Serbia  2003                    NaN                            NaN   \n4     Serbia  2004                    NaN                            NaN   \n5     Serbia  2005                    NaN                            NaN   \n6     Serbia  2006                    NaN                            NaN   \n2913  Serbia  2007               100.0000                          64.60   \n2914  Serbia  2008               100.0000                          65.30   \n2915  Serbia  2009               100.0000                          66.10   \n2916  Serbia  2010                99.7184                          67.40   \n2917  Serbia  2011               100.0000                          67.90   \n2918  Serbia  2012               100.0000                          69.20   \n2919  Serbia  2013                99.9200                          70.45   \n2920  Serbia  2014                99.6608                          71.60   \n2921  Serbia  2015                99.9000                          73.00   \n2922  Serbia  2016               100.0000                          74.40   \n2923  Serbia  2017               100.0000                          75.70   \n2924  Serbia  2018               100.0000                          77.30   \n2925  Serbia  2019                99.8000                          78.60   \n2926  Serbia  2020               100.0000                          79.80   \n\n      renewal_electricity_capacity(per person)  financial_flows($)  \\\n0                                          NaN                 NaN   \n1                                          NaN                 NaN   \n2                                          NaN                 NaN   \n3                                          NaN                 NaN   \n4                                          NaN                 NaN   \n5                                          NaN                 NaN   \n6                                          NaN                 NaN   \n2913                                       NaN                 NaN   \n2914                                       NaN                 NaN   \n2915                                       NaN                 NaN   \n2916                                       NaN                 NaN   \n2917                                       NaN                 NaN   \n2918                                       NaN                 NaN   \n2919                                       NaN                 NaN   \n2920                                       NaN                 NaN   \n2921                                       NaN                 NaN   \n2922                                       NaN                 NaN   \n2923                                       NaN                 NaN   \n2924                                       NaN                 NaN   \n2925                                       NaN                 NaN   \n2926                                       NaN                 NaN   \n\n      renewable_energy_from_total(%)  electricity_fossil_fuels(twh)  \\\n0                                NaN                            NaN   \n1                                NaN                            NaN   \n2                                NaN                            NaN   \n3                                NaN                            NaN   \n4                                NaN                            NaN   \n5                                NaN                            NaN   \n6                                NaN                            NaN   \n2913                           14.03                          26.51   \n2914                           15.50                          27.26   \n2915                           20.68                          27.17   \n2916                           20.47                          25.53   \n2917                           17.44                          29.35   \n2918                           19.47                          26.89   \n2919                           20.03                          29.01   \n2920                           23.25                          22.41   \n2921                           21.24                          27.48   \n2922                           20.91                          27.75   \n2923                           20.00                          27.15   \n2924                           21.05                          25.77   \n2925                           21.53                          26.35   \n2926                             NaN                          27.02   \n\n     electricity_nuclear  electricity_from_renewals  ...  \\\n0                                               NaN  ...   \n1                                               NaN  ...   \n2                                               NaN  ...   \n3                                               NaN  ...   \n4                                               NaN  ...   \n5                                               NaN  ...   \n6                                               NaN  ...   \n2913                 0.0                       9.46  ...   \n2914                 0.0                       9.56  ...   \n2915                 0.0                      10.54  ...   \n2916                 0.0                      11.89  ...   \n2917                 0.0                       8.67  ...   \n2918                 0.0                       9.30  ...   \n2919                 0.0                      10.22  ...   \n2920                 0.0                      11.03  ...   \n2921                 0.0                      10.11  ...   \n2922                 0.0                      10.86  ...   \n2923                 0.0                       9.29  ...   \n2924                 0.0                      10.90  ...   \n2925                 0.0                      10.51  ...   \n2926                 0.0                      10.21  ...   \n\n      primary_energy_consumption(kwh/person)  primary_energy_intensity  \\\n0                                        NaN                       NaN   \n1                                        NaN                       NaN   \n2                                        NaN                       NaN   \n3                                        NaN                       NaN   \n4                                        NaN                       NaN   \n5                                        NaN                       NaN   \n6                                        NaN                       NaN   \n2913                               26348.527                      6.78   \n2914                               26371.516                      6.53   \n2915                               25290.535                      6.05   \n2916                               26212.140                      6.19   \n2917                               26607.537                      6.29   \n2918                               25157.438                      5.69   \n2919                               25155.992                      5.66   \n2920                               22474.787                      5.12   \n2921                               24964.810                      5.59   \n2922                               25665.121                      5.60   \n2923                               26359.041                      5.61   \n2924                               26481.451                      5.28   \n2925                               26602.787                      5.04   \n2926                               26211.984                       NaN   \n\n      co2_emissions renewables  gdp_growth gdp_per_capita density land_area  \\\n0                          NaN                                          NaN   \n1                          NaN                                          NaN   \n2                          NaN                                          NaN   \n3                          NaN                                          NaN   \n4                          NaN                                          NaN   \n5                          NaN                                          NaN   \n6                          NaN                                          NaN   \n2913    51459.99908        NaN    6.439526    5848.476405   100.0   77474.0   \n2914    49830.00183        NaN    5.655577    7101.040141   100.0   77474.0   \n2915    46869.99893        NaN   -2.731752    6169.114195   100.0   77474.0   \n2916    47099.99847        NaN    0.731045    5735.422857   100.0   77474.0   \n2917    51229.99954        NaN    2.036277    6809.159804   100.0   77474.0   \n2918    45790.00092        NaN   -0.681542    6015.945228   100.0   77474.0   \n2919    46470.00122        NaN    2.892637    6755.073675   100.0   77474.0   \n2920    38959.99908        NaN    -1.58951    6600.056809   100.0   77474.0   \n2921    45389.99939        NaN    1.806059    5588.980728   100.0   77474.0   \n2922    46619.99893        NaN    3.338587    5765.200762   100.0   77474.0   \n2923    47340.00015        NaN    2.101164    6292.543629   100.0   77474.0   \n2924    46130.00107        NaN    4.495121    7252.401858   100.0   77474.0   \n2925    45950.00076        NaN    4.331735    7417.203649   100.0   77474.0   \n2926            NaN        NaN   -0.944597    7720.510572   100.0   77474.0   \n\n       latitude  longitude  \n0                           \n1                           \n2                           \n3                           \n4                           \n5                           \n6                           \n2913  44.016521  21.005859  \n2914  44.016521  21.005859  \n2915  44.016521  21.005859  \n2916  44.016521  21.005859  \n2917  44.016521  21.005859  \n2918  44.016521  21.005859  \n2919  44.016521  21.005859  \n2920  44.016521  21.005859  \n2921  44.016521  21.005859  \n2922  44.016521  21.005859  \n2923  44.016521  21.005859  \n2924  44.016521  21.005859  \n2925  44.016521  21.005859  \n2926  44.016521  21.005859  \n\n[21 rows x 21 columns]",
      "text/html": "<div>\n<style scoped>\n    .dataframe tbody tr th:only-of-type {\n        vertical-align: middle;\n    }\n\n    .dataframe tbody tr th {\n        vertical-align: top;\n    }\n\n    .dataframe thead th {\n        text-align: right;\n    }\n</style>\n<table border=\"1\" class=\"dataframe\">\n  <thead>\n    <tr style=\"text-align: right;\">\n      <th></th>\n      <th>country</th>\n      <th>year</th>\n      <th>access_electricity(%)</th>\n      <th>access_cleaning_flues_cooking</th>\n      <th>renewal_electricity_capacity(per person)</th>\n      <th>financial_flows($)</th>\n      <th>renewable_energy_from_total(%)</th>\n      <th>electricity_fossil_fuels(twh)</th>\n      <th>electricity_nuclear</th>\n      <th>electricity_from_renewals</th>\n      <th>...</th>\n      <th>primary_energy_consumption(kwh/person)</th>\n      <th>primary_energy_intensity</th>\n      <th>co2_emissions</th>\n      <th>renewables</th>\n      <th>gdp_growth</th>\n      <th>gdp_per_capita</th>\n      <th>density</th>\n      <th>land_area</th>\n      <th>latitude</th>\n      <th>longitude</th>\n    </tr>\n  </thead>\n  <tbody>\n    <tr>\n      <th>0</th>\n      <td>Serbia</td>\n      <td>2000</td>\n      <td>NaN</td>\n      <td>NaN</td>\n      <td>NaN</td>\n      <td>NaN</td>\n      <td>NaN</td>\n      <td>NaN</td>\n      <td></td>\n      <td>NaN</td>\n      <td>...</td>\n      <td>NaN</td>\n      <td>NaN</td>\n      <td></td>\n      <td>NaN</td>\n      <td></td>\n      <td></td>\n      <td></td>\n      <td>NaN</td>\n      <td></td>\n      <td></td>\n    </tr>\n    <tr>\n      <th>1</th>\n      <td>Serbia</td>\n      <td>2001</td>\n      <td>NaN</td>\n      <td>NaN</td>\n      <td>NaN</td>\n      <td>NaN</td>\n      <td>NaN</td>\n      <td>NaN</td>\n      <td></td>\n      <td>NaN</td>\n      <td>...</td>\n      <td>NaN</td>\n      <td>NaN</td>\n      <td></td>\n      <td>NaN</td>\n      <td></td>\n      <td></td>\n      <td></td>\n      <td>NaN</td>\n      <td></td>\n      <td></td>\n    </tr>\n    <tr>\n      <th>2</th>\n      <td>Serbia</td>\n      <td>2002</td>\n      <td>NaN</td>\n      <td>NaN</td>\n      <td>NaN</td>\n      <td>NaN</td>\n      <td>NaN</td>\n      <td>NaN</td>\n      <td></td>\n      <td>NaN</td>\n      <td>...</td>\n      <td>NaN</td>\n      <td>NaN</td>\n      <td></td>\n      <td>NaN</td>\n      <td></td>\n      <td></td>\n      <td></td>\n      <td>NaN</td>\n      <td></td>\n      <td></td>\n    </tr>\n    <tr>\n      <th>3</th>\n      <td>Serbia</td>\n      <td>2003</td>\n      <td>NaN</td>\n      <td>NaN</td>\n      <td>NaN</td>\n      <td>NaN</td>\n      <td>NaN</td>\n      <td>NaN</td>\n      <td></td>\n      <td>NaN</td>\n      <td>...</td>\n      <td>NaN</td>\n      <td>NaN</td>\n      <td></td>\n      <td>NaN</td>\n      <td></td>\n      <td></td>\n      <td></td>\n      <td>NaN</td>\n      <td></td>\n      <td></td>\n    </tr>\n    <tr>\n      <th>4</th>\n      <td>Serbia</td>\n      <td>2004</td>\n      <td>NaN</td>\n      <td>NaN</td>\n      <td>NaN</td>\n      <td>NaN</td>\n      <td>NaN</td>\n      <td>NaN</td>\n      <td></td>\n      <td>NaN</td>\n      <td>...</td>\n      <td>NaN</td>\n      <td>NaN</td>\n      <td></td>\n      <td>NaN</td>\n      <td></td>\n      <td></td>\n      <td></td>\n      <td>NaN</td>\n      <td></td>\n      <td></td>\n    </tr>\n    <tr>\n      <th>5</th>\n      <td>Serbia</td>\n      <td>2005</td>\n      <td>NaN</td>\n      <td>NaN</td>\n      <td>NaN</td>\n      <td>NaN</td>\n      <td>NaN</td>\n      <td>NaN</td>\n      <td></td>\n      <td>NaN</td>\n      <td>...</td>\n      <td>NaN</td>\n      <td>NaN</td>\n      <td></td>\n      <td>NaN</td>\n      <td></td>\n      <td></td>\n      <td></td>\n      <td>NaN</td>\n      <td></td>\n      <td></td>\n    </tr>\n    <tr>\n      <th>6</th>\n      <td>Serbia</td>\n      <td>2006</td>\n      <td>NaN</td>\n      <td>NaN</td>\n      <td>NaN</td>\n      <td>NaN</td>\n      <td>NaN</td>\n      <td>NaN</td>\n      <td></td>\n      <td>NaN</td>\n      <td>...</td>\n      <td>NaN</td>\n      <td>NaN</td>\n      <td></td>\n      <td>NaN</td>\n      <td></td>\n      <td></td>\n      <td></td>\n      <td>NaN</td>\n      <td></td>\n      <td></td>\n    </tr>\n    <tr>\n      <th>2913</th>\n      <td>Serbia</td>\n      <td>2007</td>\n      <td>100.0000</td>\n      <td>64.60</td>\n      <td>NaN</td>\n      <td>NaN</td>\n      <td>14.03</td>\n      <td>26.51</td>\n      <td>0.0</td>\n      <td>9.46</td>\n      <td>...</td>\n      <td>26348.527</td>\n      <td>6.78</td>\n      <td>51459.99908</td>\n      <td>NaN</td>\n      <td>6.439526</td>\n      <td>5848.476405</td>\n      <td>100.0</td>\n      <td>77474.0</td>\n      <td>44.016521</td>\n      <td>21.005859</td>\n    </tr>\n    <tr>\n      <th>2914</th>\n      <td>Serbia</td>\n      <td>2008</td>\n      <td>100.0000</td>\n      <td>65.30</td>\n      <td>NaN</td>\n      <td>NaN</td>\n      <td>15.50</td>\n      <td>27.26</td>\n      <td>0.0</td>\n      <td>9.56</td>\n      <td>...</td>\n      <td>26371.516</td>\n      <td>6.53</td>\n      <td>49830.00183</td>\n      <td>NaN</td>\n      <td>5.655577</td>\n      <td>7101.040141</td>\n      <td>100.0</td>\n      <td>77474.0</td>\n      <td>44.016521</td>\n      <td>21.005859</td>\n    </tr>\n    <tr>\n      <th>2915</th>\n      <td>Serbia</td>\n      <td>2009</td>\n      <td>100.0000</td>\n      <td>66.10</td>\n      <td>NaN</td>\n      <td>NaN</td>\n      <td>20.68</td>\n      <td>27.17</td>\n      <td>0.0</td>\n      <td>10.54</td>\n      <td>...</td>\n      <td>25290.535</td>\n      <td>6.05</td>\n      <td>46869.99893</td>\n      <td>NaN</td>\n      <td>-2.731752</td>\n      <td>6169.114195</td>\n      <td>100.0</td>\n      <td>77474.0</td>\n      <td>44.016521</td>\n      <td>21.005859</td>\n    </tr>\n    <tr>\n      <th>2916</th>\n      <td>Serbia</td>\n      <td>2010</td>\n      <td>99.7184</td>\n      <td>67.40</td>\n      <td>NaN</td>\n      <td>NaN</td>\n      <td>20.47</td>\n      <td>25.53</td>\n      <td>0.0</td>\n      <td>11.89</td>\n      <td>...</td>\n      <td>26212.140</td>\n      <td>6.19</td>\n      <td>47099.99847</td>\n      <td>NaN</td>\n      <td>0.731045</td>\n      <td>5735.422857</td>\n      <td>100.0</td>\n      <td>77474.0</td>\n      <td>44.016521</td>\n      <td>21.005859</td>\n    </tr>\n    <tr>\n      <th>2917</th>\n      <td>Serbia</td>\n      <td>2011</td>\n      <td>100.0000</td>\n      <td>67.90</td>\n      <td>NaN</td>\n      <td>NaN</td>\n      <td>17.44</td>\n      <td>29.35</td>\n      <td>0.0</td>\n      <td>8.67</td>\n      <td>...</td>\n      <td>26607.537</td>\n      <td>6.29</td>\n      <td>51229.99954</td>\n      <td>NaN</td>\n      <td>2.036277</td>\n      <td>6809.159804</td>\n      <td>100.0</td>\n      <td>77474.0</td>\n      <td>44.016521</td>\n      <td>21.005859</td>\n    </tr>\n    <tr>\n      <th>2918</th>\n      <td>Serbia</td>\n      <td>2012</td>\n      <td>100.0000</td>\n      <td>69.20</td>\n      <td>NaN</td>\n      <td>NaN</td>\n      <td>19.47</td>\n      <td>26.89</td>\n      <td>0.0</td>\n      <td>9.30</td>\n      <td>...</td>\n      <td>25157.438</td>\n      <td>5.69</td>\n      <td>45790.00092</td>\n      <td>NaN</td>\n      <td>-0.681542</td>\n      <td>6015.945228</td>\n      <td>100.0</td>\n      <td>77474.0</td>\n      <td>44.016521</td>\n      <td>21.005859</td>\n    </tr>\n    <tr>\n      <th>2919</th>\n      <td>Serbia</td>\n      <td>2013</td>\n      <td>99.9200</td>\n      <td>70.45</td>\n      <td>NaN</td>\n      <td>NaN</td>\n      <td>20.03</td>\n      <td>29.01</td>\n      <td>0.0</td>\n      <td>10.22</td>\n      <td>...</td>\n      <td>25155.992</td>\n      <td>5.66</td>\n      <td>46470.00122</td>\n      <td>NaN</td>\n      <td>2.892637</td>\n      <td>6755.073675</td>\n      <td>100.0</td>\n      <td>77474.0</td>\n      <td>44.016521</td>\n      <td>21.005859</td>\n    </tr>\n    <tr>\n      <th>2920</th>\n      <td>Serbia</td>\n      <td>2014</td>\n      <td>99.6608</td>\n      <td>71.60</td>\n      <td>NaN</td>\n      <td>NaN</td>\n      <td>23.25</td>\n      <td>22.41</td>\n      <td>0.0</td>\n      <td>11.03</td>\n      <td>...</td>\n      <td>22474.787</td>\n      <td>5.12</td>\n      <td>38959.99908</td>\n      <td>NaN</td>\n      <td>-1.58951</td>\n      <td>6600.056809</td>\n      <td>100.0</td>\n      <td>77474.0</td>\n      <td>44.016521</td>\n      <td>21.005859</td>\n    </tr>\n    <tr>\n      <th>2921</th>\n      <td>Serbia</td>\n      <td>2015</td>\n      <td>99.9000</td>\n      <td>73.00</td>\n      <td>NaN</td>\n      <td>NaN</td>\n      <td>21.24</td>\n      <td>27.48</td>\n      <td>0.0</td>\n      <td>10.11</td>\n      <td>...</td>\n      <td>24964.810</td>\n      <td>5.59</td>\n      <td>45389.99939</td>\n      <td>NaN</td>\n      <td>1.806059</td>\n      <td>5588.980728</td>\n      <td>100.0</td>\n      <td>77474.0</td>\n      <td>44.016521</td>\n      <td>21.005859</td>\n    </tr>\n    <tr>\n      <th>2922</th>\n      <td>Serbia</td>\n      <td>2016</td>\n      <td>100.0000</td>\n      <td>74.40</td>\n      <td>NaN</td>\n      <td>NaN</td>\n      <td>20.91</td>\n      <td>27.75</td>\n      <td>0.0</td>\n      <td>10.86</td>\n      <td>...</td>\n      <td>25665.121</td>\n      <td>5.60</td>\n      <td>46619.99893</td>\n      <td>NaN</td>\n      <td>3.338587</td>\n      <td>5765.200762</td>\n      <td>100.0</td>\n      <td>77474.0</td>\n      <td>44.016521</td>\n      <td>21.005859</td>\n    </tr>\n    <tr>\n      <th>2923</th>\n      <td>Serbia</td>\n      <td>2017</td>\n      <td>100.0000</td>\n      <td>75.70</td>\n      <td>NaN</td>\n      <td>NaN</td>\n      <td>20.00</td>\n      <td>27.15</td>\n      <td>0.0</td>\n      <td>9.29</td>\n      <td>...</td>\n      <td>26359.041</td>\n      <td>5.61</td>\n      <td>47340.00015</td>\n      <td>NaN</td>\n      <td>2.101164</td>\n      <td>6292.543629</td>\n      <td>100.0</td>\n      <td>77474.0</td>\n      <td>44.016521</td>\n      <td>21.005859</td>\n    </tr>\n    <tr>\n      <th>2924</th>\n      <td>Serbia</td>\n      <td>2018</td>\n      <td>100.0000</td>\n      <td>77.30</td>\n      <td>NaN</td>\n      <td>NaN</td>\n      <td>21.05</td>\n      <td>25.77</td>\n      <td>0.0</td>\n      <td>10.90</td>\n      <td>...</td>\n      <td>26481.451</td>\n      <td>5.28</td>\n      <td>46130.00107</td>\n      <td>NaN</td>\n      <td>4.495121</td>\n      <td>7252.401858</td>\n      <td>100.0</td>\n      <td>77474.0</td>\n      <td>44.016521</td>\n      <td>21.005859</td>\n    </tr>\n    <tr>\n      <th>2925</th>\n      <td>Serbia</td>\n      <td>2019</td>\n      <td>99.8000</td>\n      <td>78.60</td>\n      <td>NaN</td>\n      <td>NaN</td>\n      <td>21.53</td>\n      <td>26.35</td>\n      <td>0.0</td>\n      <td>10.51</td>\n      <td>...</td>\n      <td>26602.787</td>\n      <td>5.04</td>\n      <td>45950.00076</td>\n      <td>NaN</td>\n      <td>4.331735</td>\n      <td>7417.203649</td>\n      <td>100.0</td>\n      <td>77474.0</td>\n      <td>44.016521</td>\n      <td>21.005859</td>\n    </tr>\n    <tr>\n      <th>2926</th>\n      <td>Serbia</td>\n      <td>2020</td>\n      <td>100.0000</td>\n      <td>79.80</td>\n      <td>NaN</td>\n      <td>NaN</td>\n      <td>NaN</td>\n      <td>27.02</td>\n      <td>0.0</td>\n      <td>10.21</td>\n      <td>...</td>\n      <td>26211.984</td>\n      <td>NaN</td>\n      <td>NaN</td>\n      <td>NaN</td>\n      <td>-0.944597</td>\n      <td>7720.510572</td>\n      <td>100.0</td>\n      <td>77474.0</td>\n      <td>44.016521</td>\n      <td>21.005859</td>\n    </tr>\n  </tbody>\n</table>\n<p>21 rows × 21 columns</p>\n</div>"
     },
     "execution_count": 131,
     "metadata": {},
     "output_type": "execute_result"
    }
   ],
   "source": [
    "serbia = serbia.sort_index()\n",
    "serbia"
   ],
   "metadata": {
    "collapsed": false,
    "ExecuteTime": {
     "end_time": "2023-12-04T09:49:21.891503700Z",
     "start_time": "2023-12-04T09:49:21.794514300Z"
    }
   }
  },
  {
   "cell_type": "code",
   "execution_count": 136,
   "outputs": [],
   "source": [
    "from sklearn import linear_model"
   ],
   "metadata": {
    "collapsed": false,
    "ExecuteTime": {
     "end_time": "2023-12-04T10:16:49.538544200Z",
     "start_time": "2023-12-04T10:16:49.476052800Z"
    }
   }
  },
  {
   "cell_type": "code",
   "execution_count": 138,
   "outputs": [
    {
     "ename": "AttributeError",
     "evalue": "module 'sklearn.linear_model' has no attribute 'predict'",
     "output_type": "error",
     "traceback": [
      "\u001B[1;31m---------------------------------------------------------------------------\u001B[0m",
      "\u001B[1;31mAttributeError\u001B[0m                            Traceback (most recent call last)",
      "Cell \u001B[1;32mIn[138], line 1\u001B[0m\n\u001B[1;32m----> 1\u001B[0m serbia[\u001B[38;5;124m'\u001B[39m\u001B[38;5;124maccess_electricity(\u001B[39m\u001B[38;5;124m%\u001B[39m\u001B[38;5;124m)_pd\u001B[39m\u001B[38;5;124m'\u001B[39m] \u001B[38;5;241m=\u001B[39m \u001B[43mlinear_model\u001B[49m\u001B[38;5;241;43m.\u001B[39;49m\u001B[43mpredict\u001B[49m(serbia\u001B[38;5;241m.\u001B[39mdrop(\u001B[38;5;124m'\u001B[39m\u001B[38;5;124maccess_electricity(\u001B[39m\u001B[38;5;124m%\u001B[39m\u001B[38;5;124m)\u001B[39m\u001B[38;5;124m'\u001B[39m, axis \u001B[38;5;241m=\u001B[39m \u001B[38;5;241m1\u001B[39m))\n\u001B[0;32m      3\u001B[0m serbia[\u001B[38;5;124m'\u001B[39m\u001B[38;5;124maccess_electricity(\u001B[39m\u001B[38;5;124m%\u001B[39m\u001B[38;5;124m)_LM\u001B[39m\u001B[38;5;124m'\u001B[39m] \u001B[38;5;241m=\u001B[39m np\u001B[38;5;241m.\u001B[39mwhere(serbia[\u001B[38;5;124m'\u001B[39m\u001B[38;5;124maccess_electricity(\u001B[39m\u001B[38;5;124m%\u001B[39m\u001B[38;5;124m)\u001B[39m\u001B[38;5;124m'\u001B[39m]\u001B[38;5;241m>\u001B[39m\u001B[38;5;241m0\u001B[39m, serbia[\u001B[38;5;124m'\u001B[39m\u001B[38;5;124maccess_electricity(\u001B[39m\u001B[38;5;124m%\u001B[39m\u001B[38;5;124m)\u001B[39m\u001B[38;5;124m'\u001B[39m], serbia[\u001B[38;5;124m'\u001B[39m\u001B[38;5;124maccess_electricity(\u001B[39m\u001B[38;5;124m%\u001B[39m\u001B[38;5;124m)_Pred\u001B[39m\u001B[38;5;124m'\u001B[39m])\n",
      "\u001B[1;31mAttributeError\u001B[0m: module 'sklearn.linear_model' has no attribute 'predict'"
     ]
    }
   ],
   "source": [
    "serbia['access_electricity(%)_pd'] = linear_model.predict(serbia.drop('access_electricity(%)', axis = 1))\n",
    "\n",
    "serbia['access_electricity(%)_LM'] = np.where(serbia['access_electricity(%)']>0, serbia['access_electricity(%)'], serbia['access_electricity(%)_Pred'])"
   ],
   "metadata": {
    "collapsed": false,
    "ExecuteTime": {
     "end_time": "2023-12-04T10:17:23.408868800Z",
     "start_time": "2023-12-04T10:17:23.294790900Z"
    }
   }
  },
  {
   "cell_type": "code",
   "execution_count": 125,
   "outputs": [
    {
     "data": {
      "text/plain": "country\nAfghanistan      21\nOman             21\nNetherlands      21\nNew Caledonia    21\nNew Zealand      21\n                 ..\nGeorgia          21\nGermany          21\nZimbabwe         21\nSerbia           14\nMontenegro       14\nName: count, Length: 174, dtype: int64"
     },
     "execution_count": 125,
     "metadata": {},
     "output_type": "execute_result"
    }
   ],
   "source": [
    "count_country = energy_data['country'].value_counts()\n",
    "count_country"
   ],
   "metadata": {
    "collapsed": false,
    "ExecuteTime": {
     "end_time": "2023-12-04T09:48:37.937591600Z",
     "start_time": "2023-12-04T09:48:36.085156500Z"
    }
   }
  },
  {
   "cell_type": "code",
   "execution_count": 126,
   "outputs": [],
   "source": [
    "south_sudan = energy_data[energy_data['country'] == 'Montenegro']"
   ],
   "metadata": {
    "collapsed": false,
    "ExecuteTime": {
     "end_time": "2023-12-04T09:48:37.938606600Z",
     "start_time": "2023-12-04T09:48:36.091851800Z"
    }
   }
  },
  {
   "cell_type": "code",
   "execution_count": 127,
   "outputs": [
    {
     "data": {
      "text/plain": "         country  year  access_electricity(%)  access_cleaning_flues_cooking  \\\n2185  Montenegro  2007                  100.0                          64.80   \n2186  Montenegro  2008                  100.0                          64.20   \n2187  Montenegro  2009                  100.0                          63.30   \n2188  Montenegro  2010                  100.0                          63.00   \n2189  Montenegro  2011                   99.0                          62.60   \n2190  Montenegro  2012                  100.0                          61.90   \n2191  Montenegro  2013                   99.7                          61.70   \n2192  Montenegro  2014                   97.7                          61.45   \n2193  Montenegro  2015                  100.0                          61.40   \n2194  Montenegro  2016                  100.0                          61.50   \n2195  Montenegro  2017                  100.0                          61.70   \n2196  Montenegro  2018                  100.0                          61.80   \n2197  Montenegro  2019                  100.0                          62.00   \n2198  Montenegro  2020                  100.0                          62.40   \n\n      renewal_electricity_capacity(per person)  financial_flows($)  \\\n2185                                       NaN                 NaN   \n2186                                       NaN                 NaN   \n2187                                       NaN                 NaN   \n2188                                       NaN                 NaN   \n2189                                       NaN                 NaN   \n2190                                       NaN                 NaN   \n2191                                       NaN                 NaN   \n2192                                       NaN                 NaN   \n2193                                       NaN                 NaN   \n2194                                       NaN                 NaN   \n2195                                       NaN                 NaN   \n2196                                       NaN                 NaN   \n2197                                       NaN                 NaN   \n2198                                       NaN                 NaN   \n\n      renewable_energy_from_total(%)  electricity_fossil_fuels(twh)  \\\n2185                           42.27                           0.86   \n2186                           38.76                           1.29   \n2187                           49.16                           0.69   \n2188                           49.09                           1.27   \n2189                           42.77                           1.45   \n2190                           45.86                           1.37   \n2191                           49.34                           1.44   \n2192                           45.95                           1.42   \n2193                           42.96                           1.51   \n2194                           43.89                           1.30   \n2195                           37.77                           1.36   \n2196                           40.60                           1.55   \n2197                           38.74                           1.50   \n2198                             NaN                           1.62   \n\n      electricity_nuclear  electricity_from_renewals  ...  \\\n2185                  0.0                       1.28  ...   \n2186                  0.0                       1.54  ...   \n2187                  0.0                       2.07  ...   \n2188                  0.0                       2.75  ...   \n2189                  0.0                       1.20  ...   \n2190                  0.0                       1.48  ...   \n2191                  0.0                       2.50  ...   \n2192                  0.0                       1.75  ...   \n2193                  0.0                       1.49  ...   \n2194                  0.0                       1.84  ...   \n2195                  0.0                       1.12  ...   \n2196                  0.0                       2.25  ...   \n2197                  0.0                       1.93  ...   \n2198                  0.0                       1.77  ...   \n\n      primary_energy_consumption(kwh/person)  primary_energy_intensity  \\\n2185                               21851.393                      4.71   \n2186                               24712.115                      4.73   \n2187                               21325.205                      3.98   \n2188                               26631.988                      4.55   \n2189                               21941.479                      4.39   \n2190                               21276.305                      4.25   \n2191                               22880.111                      3.80   \n2192                               20434.420                      3.64   \n2193                               21034.895                      3.68   \n2194                               21028.148                      3.47   \n2195                               19660.412                      3.48   \n2196                               21852.676                      3.42   \n2197                               20460.550                      3.40   \n2198                               17942.342                       NaN   \n\n      co2_emissions  renewables  gdp_growth  gdp_per_capita  density  \\\n2185    2099.999905         NaN    6.810150     5976.394145     47.0   \n2186    2690.000057         NaN    7.222753     7367.751909     47.0   \n2187    1750.000000         NaN   -5.795097     6727.107767     47.0   \n2188    2579.999924         NaN    2.734331     6688.482400     47.0   \n2189    2539.999962         NaN    3.228451     7328.932252     47.0   \n2190    2329.999924         NaN   -2.723791     6586.721279     47.0   \n2191    2269.999981         NaN    3.548980     7186.429787     47.0   \n2192    2220.000029         NaN    1.783699     7378.345289     47.0   \n2193    2359.999895         NaN    3.390381     6514.272695     47.0   \n2194    2150.000095         NaN    2.949280     7028.936577     47.0   \n2195    2269.999981         NaN    4.716465     7784.065290     47.0   \n2196    2500.000000         NaN    5.077889     8845.914219     47.0   \n2197    2599.999905         NaN    4.062945     8910.650834     47.0   \n2198            NaN         NaN  -15.306894     7677.152226     47.0   \n\n      land_area   latitude  longitude  \n2185    13812.0  42.708678   19.37439  \n2186    13812.0  42.708678   19.37439  \n2187    13812.0  42.708678   19.37439  \n2188    13812.0  42.708678   19.37439  \n2189    13812.0  42.708678   19.37439  \n2190    13812.0  42.708678   19.37439  \n2191    13812.0  42.708678   19.37439  \n2192    13812.0  42.708678   19.37439  \n2193    13812.0  42.708678   19.37439  \n2194    13812.0  42.708678   19.37439  \n2195    13812.0  42.708678   19.37439  \n2196    13812.0  42.708678   19.37439  \n2197    13812.0  42.708678   19.37439  \n2198    13812.0  42.708678   19.37439  \n\n[14 rows x 21 columns]",
      "text/html": "<div>\n<style scoped>\n    .dataframe tbody tr th:only-of-type {\n        vertical-align: middle;\n    }\n\n    .dataframe tbody tr th {\n        vertical-align: top;\n    }\n\n    .dataframe thead th {\n        text-align: right;\n    }\n</style>\n<table border=\"1\" class=\"dataframe\">\n  <thead>\n    <tr style=\"text-align: right;\">\n      <th></th>\n      <th>country</th>\n      <th>year</th>\n      <th>access_electricity(%)</th>\n      <th>access_cleaning_flues_cooking</th>\n      <th>renewal_electricity_capacity(per person)</th>\n      <th>financial_flows($)</th>\n      <th>renewable_energy_from_total(%)</th>\n      <th>electricity_fossil_fuels(twh)</th>\n      <th>electricity_nuclear</th>\n      <th>electricity_from_renewals</th>\n      <th>...</th>\n      <th>primary_energy_consumption(kwh/person)</th>\n      <th>primary_energy_intensity</th>\n      <th>co2_emissions</th>\n      <th>renewables</th>\n      <th>gdp_growth</th>\n      <th>gdp_per_capita</th>\n      <th>density</th>\n      <th>land_area</th>\n      <th>latitude</th>\n      <th>longitude</th>\n    </tr>\n  </thead>\n  <tbody>\n    <tr>\n      <th>2185</th>\n      <td>Montenegro</td>\n      <td>2007</td>\n      <td>100.0</td>\n      <td>64.80</td>\n      <td>NaN</td>\n      <td>NaN</td>\n      <td>42.27</td>\n      <td>0.86</td>\n      <td>0.0</td>\n      <td>1.28</td>\n      <td>...</td>\n      <td>21851.393</td>\n      <td>4.71</td>\n      <td>2099.999905</td>\n      <td>NaN</td>\n      <td>6.810150</td>\n      <td>5976.394145</td>\n      <td>47.0</td>\n      <td>13812.0</td>\n      <td>42.708678</td>\n      <td>19.37439</td>\n    </tr>\n    <tr>\n      <th>2186</th>\n      <td>Montenegro</td>\n      <td>2008</td>\n      <td>100.0</td>\n      <td>64.20</td>\n      <td>NaN</td>\n      <td>NaN</td>\n      <td>38.76</td>\n      <td>1.29</td>\n      <td>0.0</td>\n      <td>1.54</td>\n      <td>...</td>\n      <td>24712.115</td>\n      <td>4.73</td>\n      <td>2690.000057</td>\n      <td>NaN</td>\n      <td>7.222753</td>\n      <td>7367.751909</td>\n      <td>47.0</td>\n      <td>13812.0</td>\n      <td>42.708678</td>\n      <td>19.37439</td>\n    </tr>\n    <tr>\n      <th>2187</th>\n      <td>Montenegro</td>\n      <td>2009</td>\n      <td>100.0</td>\n      <td>63.30</td>\n      <td>NaN</td>\n      <td>NaN</td>\n      <td>49.16</td>\n      <td>0.69</td>\n      <td>0.0</td>\n      <td>2.07</td>\n      <td>...</td>\n      <td>21325.205</td>\n      <td>3.98</td>\n      <td>1750.000000</td>\n      <td>NaN</td>\n      <td>-5.795097</td>\n      <td>6727.107767</td>\n      <td>47.0</td>\n      <td>13812.0</td>\n      <td>42.708678</td>\n      <td>19.37439</td>\n    </tr>\n    <tr>\n      <th>2188</th>\n      <td>Montenegro</td>\n      <td>2010</td>\n      <td>100.0</td>\n      <td>63.00</td>\n      <td>NaN</td>\n      <td>NaN</td>\n      <td>49.09</td>\n      <td>1.27</td>\n      <td>0.0</td>\n      <td>2.75</td>\n      <td>...</td>\n      <td>26631.988</td>\n      <td>4.55</td>\n      <td>2579.999924</td>\n      <td>NaN</td>\n      <td>2.734331</td>\n      <td>6688.482400</td>\n      <td>47.0</td>\n      <td>13812.0</td>\n      <td>42.708678</td>\n      <td>19.37439</td>\n    </tr>\n    <tr>\n      <th>2189</th>\n      <td>Montenegro</td>\n      <td>2011</td>\n      <td>99.0</td>\n      <td>62.60</td>\n      <td>NaN</td>\n      <td>NaN</td>\n      <td>42.77</td>\n      <td>1.45</td>\n      <td>0.0</td>\n      <td>1.20</td>\n      <td>...</td>\n      <td>21941.479</td>\n      <td>4.39</td>\n      <td>2539.999962</td>\n      <td>NaN</td>\n      <td>3.228451</td>\n      <td>7328.932252</td>\n      <td>47.0</td>\n      <td>13812.0</td>\n      <td>42.708678</td>\n      <td>19.37439</td>\n    </tr>\n    <tr>\n      <th>2190</th>\n      <td>Montenegro</td>\n      <td>2012</td>\n      <td>100.0</td>\n      <td>61.90</td>\n      <td>NaN</td>\n      <td>NaN</td>\n      <td>45.86</td>\n      <td>1.37</td>\n      <td>0.0</td>\n      <td>1.48</td>\n      <td>...</td>\n      <td>21276.305</td>\n      <td>4.25</td>\n      <td>2329.999924</td>\n      <td>NaN</td>\n      <td>-2.723791</td>\n      <td>6586.721279</td>\n      <td>47.0</td>\n      <td>13812.0</td>\n      <td>42.708678</td>\n      <td>19.37439</td>\n    </tr>\n    <tr>\n      <th>2191</th>\n      <td>Montenegro</td>\n      <td>2013</td>\n      <td>99.7</td>\n      <td>61.70</td>\n      <td>NaN</td>\n      <td>NaN</td>\n      <td>49.34</td>\n      <td>1.44</td>\n      <td>0.0</td>\n      <td>2.50</td>\n      <td>...</td>\n      <td>22880.111</td>\n      <td>3.80</td>\n      <td>2269.999981</td>\n      <td>NaN</td>\n      <td>3.548980</td>\n      <td>7186.429787</td>\n      <td>47.0</td>\n      <td>13812.0</td>\n      <td>42.708678</td>\n      <td>19.37439</td>\n    </tr>\n    <tr>\n      <th>2192</th>\n      <td>Montenegro</td>\n      <td>2014</td>\n      <td>97.7</td>\n      <td>61.45</td>\n      <td>NaN</td>\n      <td>NaN</td>\n      <td>45.95</td>\n      <td>1.42</td>\n      <td>0.0</td>\n      <td>1.75</td>\n      <td>...</td>\n      <td>20434.420</td>\n      <td>3.64</td>\n      <td>2220.000029</td>\n      <td>NaN</td>\n      <td>1.783699</td>\n      <td>7378.345289</td>\n      <td>47.0</td>\n      <td>13812.0</td>\n      <td>42.708678</td>\n      <td>19.37439</td>\n    </tr>\n    <tr>\n      <th>2193</th>\n      <td>Montenegro</td>\n      <td>2015</td>\n      <td>100.0</td>\n      <td>61.40</td>\n      <td>NaN</td>\n      <td>NaN</td>\n      <td>42.96</td>\n      <td>1.51</td>\n      <td>0.0</td>\n      <td>1.49</td>\n      <td>...</td>\n      <td>21034.895</td>\n      <td>3.68</td>\n      <td>2359.999895</td>\n      <td>NaN</td>\n      <td>3.390381</td>\n      <td>6514.272695</td>\n      <td>47.0</td>\n      <td>13812.0</td>\n      <td>42.708678</td>\n      <td>19.37439</td>\n    </tr>\n    <tr>\n      <th>2194</th>\n      <td>Montenegro</td>\n      <td>2016</td>\n      <td>100.0</td>\n      <td>61.50</td>\n      <td>NaN</td>\n      <td>NaN</td>\n      <td>43.89</td>\n      <td>1.30</td>\n      <td>0.0</td>\n      <td>1.84</td>\n      <td>...</td>\n      <td>21028.148</td>\n      <td>3.47</td>\n      <td>2150.000095</td>\n      <td>NaN</td>\n      <td>2.949280</td>\n      <td>7028.936577</td>\n      <td>47.0</td>\n      <td>13812.0</td>\n      <td>42.708678</td>\n      <td>19.37439</td>\n    </tr>\n    <tr>\n      <th>2195</th>\n      <td>Montenegro</td>\n      <td>2017</td>\n      <td>100.0</td>\n      <td>61.70</td>\n      <td>NaN</td>\n      <td>NaN</td>\n      <td>37.77</td>\n      <td>1.36</td>\n      <td>0.0</td>\n      <td>1.12</td>\n      <td>...</td>\n      <td>19660.412</td>\n      <td>3.48</td>\n      <td>2269.999981</td>\n      <td>NaN</td>\n      <td>4.716465</td>\n      <td>7784.065290</td>\n      <td>47.0</td>\n      <td>13812.0</td>\n      <td>42.708678</td>\n      <td>19.37439</td>\n    </tr>\n    <tr>\n      <th>2196</th>\n      <td>Montenegro</td>\n      <td>2018</td>\n      <td>100.0</td>\n      <td>61.80</td>\n      <td>NaN</td>\n      <td>NaN</td>\n      <td>40.60</td>\n      <td>1.55</td>\n      <td>0.0</td>\n      <td>2.25</td>\n      <td>...</td>\n      <td>21852.676</td>\n      <td>3.42</td>\n      <td>2500.000000</td>\n      <td>NaN</td>\n      <td>5.077889</td>\n      <td>8845.914219</td>\n      <td>47.0</td>\n      <td>13812.0</td>\n      <td>42.708678</td>\n      <td>19.37439</td>\n    </tr>\n    <tr>\n      <th>2197</th>\n      <td>Montenegro</td>\n      <td>2019</td>\n      <td>100.0</td>\n      <td>62.00</td>\n      <td>NaN</td>\n      <td>NaN</td>\n      <td>38.74</td>\n      <td>1.50</td>\n      <td>0.0</td>\n      <td>1.93</td>\n      <td>...</td>\n      <td>20460.550</td>\n      <td>3.40</td>\n      <td>2599.999905</td>\n      <td>NaN</td>\n      <td>4.062945</td>\n      <td>8910.650834</td>\n      <td>47.0</td>\n      <td>13812.0</td>\n      <td>42.708678</td>\n      <td>19.37439</td>\n    </tr>\n    <tr>\n      <th>2198</th>\n      <td>Montenegro</td>\n      <td>2020</td>\n      <td>100.0</td>\n      <td>62.40</td>\n      <td>NaN</td>\n      <td>NaN</td>\n      <td>NaN</td>\n      <td>1.62</td>\n      <td>0.0</td>\n      <td>1.77</td>\n      <td>...</td>\n      <td>17942.342</td>\n      <td>NaN</td>\n      <td>NaN</td>\n      <td>NaN</td>\n      <td>-15.306894</td>\n      <td>7677.152226</td>\n      <td>47.0</td>\n      <td>13812.0</td>\n      <td>42.708678</td>\n      <td>19.37439</td>\n    </tr>\n  </tbody>\n</table>\n<p>14 rows × 21 columns</p>\n</div>"
     },
     "execution_count": 127,
     "metadata": {},
     "output_type": "execute_result"
    }
   ],
   "source": [
    "south_sudan"
   ],
   "metadata": {
    "collapsed": false,
    "ExecuteTime": {
     "end_time": "2023-12-04T09:48:37.939621500Z",
     "start_time": "2023-12-04T09:48:36.113162200Z"
    }
   }
  },
  {
   "cell_type": "markdown",
   "source": [
    "## 5. Handling missing or null values."
   ],
   "metadata": {
    "collapsed": false
   }
  },
  {
   "cell_type": "code",
   "execution_count": 128,
   "outputs": [
    {
     "name": "stdout",
     "output_type": "stream",
     "text": [
      "Number of missing values in each columns are below : \n",
      "country                                        0\n",
      "year                                           0\n",
      "access_electricity(%)                          9\n",
      "access_cleaning_flues_cooking                168\n",
      "renewal_electricity_capacity(per person)     931\n",
      "financial_flows($)                          2086\n",
      "renewable_energy_from_total(%)               193\n",
      "electricity_fossil_fuels(twh)                 21\n",
      "electricity_nuclear                          126\n",
      "electricity_from_renewals                     21\n",
      "electricity_low_carbon(%)                     42\n",
      "primary_energy_consumption(kwh/person)         0\n",
      "primary_energy_intensity                     201\n",
      "co2_emissions                                426\n",
      "renewables                                  2128\n",
      "gdp_growth                                   311\n",
      "gdp_per_capita                               276\n",
      "density                                        0\n",
      "land_area                                      0\n",
      "latitude                                       0\n",
      "longitude                                      0\n",
      "dtype: int64\n"
     ]
    }
   ],
   "source": [
    "print('Number of missing values in each columns are below : ')\n",
    "print(energy_data.isnull().sum())"
   ],
   "metadata": {
    "collapsed": false,
    "ExecuteTime": {
     "end_time": "2023-12-04T09:48:37.941581900Z",
     "start_time": "2023-12-04T09:48:36.152152200Z"
    }
   }
  },
  {
   "cell_type": "code",
   "execution_count": 129,
   "outputs": [
    {
     "ename": "KeyError",
     "evalue": "'access_electricity'",
     "output_type": "error",
     "traceback": [
      "\u001B[1;31m---------------------------------------------------------------------------\u001B[0m",
      "\u001B[1;31mKeyError\u001B[0m                                  Traceback (most recent call last)",
      "File \u001B[1;32m~\\AppData\\Local\\Programs\\Python\\Python311\\Lib\\site-packages\\pandas\\core\\indexes\\base.py:3790\u001B[0m, in \u001B[0;36mIndex.get_loc\u001B[1;34m(self, key)\u001B[0m\n\u001B[0;32m   3789\u001B[0m \u001B[38;5;28;01mtry\u001B[39;00m:\n\u001B[1;32m-> 3790\u001B[0m     \u001B[38;5;28;01mreturn\u001B[39;00m \u001B[38;5;28;43mself\u001B[39;49m\u001B[38;5;241;43m.\u001B[39;49m\u001B[43m_engine\u001B[49m\u001B[38;5;241;43m.\u001B[39;49m\u001B[43mget_loc\u001B[49m\u001B[43m(\u001B[49m\u001B[43mcasted_key\u001B[49m\u001B[43m)\u001B[49m\n\u001B[0;32m   3791\u001B[0m \u001B[38;5;28;01mexcept\u001B[39;00m \u001B[38;5;167;01mKeyError\u001B[39;00m \u001B[38;5;28;01mas\u001B[39;00m err:\n",
      "File \u001B[1;32mindex.pyx:152\u001B[0m, in \u001B[0;36mpandas._libs.index.IndexEngine.get_loc\u001B[1;34m()\u001B[0m\n",
      "File \u001B[1;32mindex.pyx:181\u001B[0m, in \u001B[0;36mpandas._libs.index.IndexEngine.get_loc\u001B[1;34m()\u001B[0m\n",
      "File \u001B[1;32mpandas\\_libs\\hashtable_class_helper.pxi:7080\u001B[0m, in \u001B[0;36mpandas._libs.hashtable.PyObjectHashTable.get_item\u001B[1;34m()\u001B[0m\n",
      "File \u001B[1;32mpandas\\_libs\\hashtable_class_helper.pxi:7088\u001B[0m, in \u001B[0;36mpandas._libs.hashtable.PyObjectHashTable.get_item\u001B[1;34m()\u001B[0m\n",
      "\u001B[1;31mKeyError\u001B[0m: 'access_electricity'",
      "\nThe above exception was the direct cause of the following exception:\n",
      "\u001B[1;31mKeyError\u001B[0m                                  Traceback (most recent call last)",
      "Cell \u001B[1;32mIn[129], line 4\u001B[0m\n\u001B[0;32m      1\u001B[0m \u001B[38;5;66;03m#ACCESS TO ELECTRICITY had 10 missing values. Since the Years are not recently and all the countries are from similar region I will replace that value with 0 \u001B[39;00m\n\u001B[0;32m      2\u001B[0m \n\u001B[0;32m      3\u001B[0m \u001B[38;5;66;03m#CHANGE TO \u001B[39;00m\n\u001B[1;32m----> 4\u001B[0m energy_data[\u001B[38;5;124m'\u001B[39m\u001B[38;5;124maccess_electricity\u001B[39m\u001B[38;5;124m'\u001B[39m] \u001B[38;5;241m=\u001B[39m \u001B[43menergy_data\u001B[49m\u001B[43m[\u001B[49m\u001B[38;5;124;43m'\u001B[39;49m\u001B[38;5;124;43maccess_electricity\u001B[39;49m\u001B[38;5;124;43m'\u001B[39;49m\u001B[43m]\u001B[49m\u001B[38;5;241m.\u001B[39mfillna(\u001B[38;5;241m0\u001B[39m)\n",
      "File \u001B[1;32m~\\AppData\\Local\\Programs\\Python\\Python311\\Lib\\site-packages\\pandas\\core\\frame.py:3896\u001B[0m, in \u001B[0;36mDataFrame.__getitem__\u001B[1;34m(self, key)\u001B[0m\n\u001B[0;32m   3894\u001B[0m \u001B[38;5;28;01mif\u001B[39;00m \u001B[38;5;28mself\u001B[39m\u001B[38;5;241m.\u001B[39mcolumns\u001B[38;5;241m.\u001B[39mnlevels \u001B[38;5;241m>\u001B[39m \u001B[38;5;241m1\u001B[39m:\n\u001B[0;32m   3895\u001B[0m     \u001B[38;5;28;01mreturn\u001B[39;00m \u001B[38;5;28mself\u001B[39m\u001B[38;5;241m.\u001B[39m_getitem_multilevel(key)\n\u001B[1;32m-> 3896\u001B[0m indexer \u001B[38;5;241m=\u001B[39m \u001B[38;5;28;43mself\u001B[39;49m\u001B[38;5;241;43m.\u001B[39;49m\u001B[43mcolumns\u001B[49m\u001B[38;5;241;43m.\u001B[39;49m\u001B[43mget_loc\u001B[49m\u001B[43m(\u001B[49m\u001B[43mkey\u001B[49m\u001B[43m)\u001B[49m\n\u001B[0;32m   3897\u001B[0m \u001B[38;5;28;01mif\u001B[39;00m is_integer(indexer):\n\u001B[0;32m   3898\u001B[0m     indexer \u001B[38;5;241m=\u001B[39m [indexer]\n",
      "File \u001B[1;32m~\\AppData\\Local\\Programs\\Python\\Python311\\Lib\\site-packages\\pandas\\core\\indexes\\base.py:3797\u001B[0m, in \u001B[0;36mIndex.get_loc\u001B[1;34m(self, key)\u001B[0m\n\u001B[0;32m   3792\u001B[0m     \u001B[38;5;28;01mif\u001B[39;00m \u001B[38;5;28misinstance\u001B[39m(casted_key, \u001B[38;5;28mslice\u001B[39m) \u001B[38;5;129;01mor\u001B[39;00m (\n\u001B[0;32m   3793\u001B[0m         \u001B[38;5;28misinstance\u001B[39m(casted_key, abc\u001B[38;5;241m.\u001B[39mIterable)\n\u001B[0;32m   3794\u001B[0m         \u001B[38;5;129;01mand\u001B[39;00m \u001B[38;5;28many\u001B[39m(\u001B[38;5;28misinstance\u001B[39m(x, \u001B[38;5;28mslice\u001B[39m) \u001B[38;5;28;01mfor\u001B[39;00m x \u001B[38;5;129;01min\u001B[39;00m casted_key)\n\u001B[0;32m   3795\u001B[0m     ):\n\u001B[0;32m   3796\u001B[0m         \u001B[38;5;28;01mraise\u001B[39;00m InvalidIndexError(key)\n\u001B[1;32m-> 3797\u001B[0m     \u001B[38;5;28;01mraise\u001B[39;00m \u001B[38;5;167;01mKeyError\u001B[39;00m(key) \u001B[38;5;28;01mfrom\u001B[39;00m \u001B[38;5;21;01merr\u001B[39;00m\n\u001B[0;32m   3798\u001B[0m \u001B[38;5;28;01mexcept\u001B[39;00m \u001B[38;5;167;01mTypeError\u001B[39;00m:\n\u001B[0;32m   3799\u001B[0m     \u001B[38;5;66;03m# If we have a listlike key, _check_indexing_error will raise\u001B[39;00m\n\u001B[0;32m   3800\u001B[0m     \u001B[38;5;66;03m#  InvalidIndexError. Otherwise we fall through and re-raise\u001B[39;00m\n\u001B[0;32m   3801\u001B[0m     \u001B[38;5;66;03m#  the TypeError.\u001B[39;00m\n\u001B[0;32m   3802\u001B[0m     \u001B[38;5;28mself\u001B[39m\u001B[38;5;241m.\u001B[39m_check_indexing_error(key)\n",
      "\u001B[1;31mKeyError\u001B[0m: 'access_electricity'"
     ]
    }
   ],
   "source": [
    "#ACCESS TO ELECTRICITY had 10 missing values. Since the Years are not recently and all the countries are from similar region I will replace that value with 0 \n",
    "\n",
    "#CHANGE TO \n",
    "energy_data['access_electricity'] = energy_data['access_electricity'].fillna(0)"
   ],
   "metadata": {
    "collapsed": false,
    "ExecuteTime": {
     "end_time": "2023-12-04T09:48:37.941581900Z",
     "start_time": "2023-12-04T09:48:36.166623Z"
    }
   }
  },
  {
   "cell_type": "code",
   "execution_count": null,
   "outputs": [],
   "source": [
    "#ACCESS TO COOKING FUELS had 169 missing values distributed in 8 Countries means is not a typing error. Then, I will replace those value with 0 \n",
    "null_cooking = energy_data[energy_data['access_cooking_fuels'].isnull() == True]\n",
    "null_cooking['country'].unique()\n",
    "energy_data['access_cooking_fuels'] = energy_data['access_cooking_fuels'].fillna(0)"
   ],
   "metadata": {
    "collapsed": false,
    "ExecuteTime": {
     "start_time": "2023-12-04T09:48:36.267425200Z"
    }
   }
  },
  {
   "cell_type": "code",
   "execution_count": null,
   "outputs": [],
   "source": [
    "#RENEVAL ELECTRICTY CAPACITY had 931 that represents 26% of the data . Then, I will drop that column and the columns with more than 25% of Null values (Financial FLows, Renewables), \n",
    "#ADD JUSTIFICATION, IF THE COUNTRI\n",
    "energy_data = energy_data.drop(['renewal_electricity_capacity','financial_flows','renewables'], axis=1)"
   ],
   "metadata": {
    "collapsed": false,
    "ExecuteTime": {
     "start_time": "2023-12-04T09:48:36.271408600Z"
    }
   }
  },
  {
   "cell_type": "code",
   "execution_count": null,
   "outputs": [],
   "source": [
    "#1. RENEWAL ENERGY SHARE. I will replace the values of Albania by 0 due all the country does not have data. The rest of the countries will apply other a linnear regression to predict the 2020 value\n",
    "energy_data[(energy_data['country'] =='Albania') & energy_data['renewable_energy_share'].isnull()] = energy_data[(energy_data['country'] =='Albania') & energy_data['renewable_energy_share'].isnull()].fillna(0)"
   ],
   "metadata": {
    "collapsed": false,
    "ExecuteTime": {
     "start_time": "2023-12-04T09:48:36.277390Z"
    }
   }
  },
  {
   "cell_type": "code",
   "execution_count": null,
   "outputs": [],
   "source": [
    "#2. RENEWAL ENERGY SHARE. I will apply a linner regression model to \n",
    "for col in ['renewable_energy_share','electricity_fossil_fuels', 'electricity_nuclear', 'electricity_renewals', 'electricity_low_carbon','energy_level','co2_emissions','gdp_growth','gdp_per_capita']:\n",
    "  energy_data[col] = energy_data[col].fillna(energy_data[col].interpolate())"
   ],
   "metadata": {
    "collapsed": false,
    "ExecuteTime": {
     "start_time": "2023-12-04T09:48:36.281448500Z"
    }
   }
  },
  {
   "cell_type": "code",
   "execution_count": null,
   "outputs": [],
   "source": [
    "print('Number of missing values in each columns are below : ')\n",
    "print(energy_data.isnull().sum())"
   ],
   "metadata": {
    "collapsed": false,
    "ExecuteTime": {
     "start_time": "2023-12-04T09:48:36.284439400Z"
    }
   }
  },
  {
   "cell_type": "code",
   "execution_count": null,
   "outputs": [],
   "source": [
    "for col in ['gdp_growth','gdp_per_capita','density']:\n",
    "  energy_data[col] = energy_data[col].fillna(energy_data[col].mode())\n",
    "energy_data = energy_data.drop(['gdp_growth','density','land_area','latitude','longitude'],axis=1)\n",
    "energy_data.isnull().sum()"
   ],
   "metadata": {
    "collapsed": false,
    "ExecuteTime": {
     "start_time": "2023-12-04T09:48:36.290659600Z"
    }
   }
  },
  {
   "cell_type": "code",
   "execution_count": null,
   "outputs": [],
   "source": [
    "df.isnull().sum()"
   ],
   "metadata": {
    "collapsed": false,
    "ExecuteTime": {
     "start_time": "2023-12-04T09:48:36.295637700Z"
    }
   }
  },
  {
   "cell_type": "code",
   "execution_count": null,
   "outputs": [],
   "source": [
    "#Encoding Dataset"
   ],
   "metadata": {
    "collapsed": false,
    "ExecuteTime": {
     "start_time": "2023-12-04T09:48:36.299627800Z"
    }
   }
  },
  {
   "cell_type": "code",
   "execution_count": null,
   "outputs": [],
   "source": [
    "from sklearn.preprocessing import KBinsDiscretizer\n",
    "from sklearn.preprocessing import OrdinalEncoder\n",
    "from sklearn import preprocessing"
   ],
   "metadata": {
    "collapsed": false,
    "ExecuteTime": {
     "start_time": "2023-12-04T09:48:36.303620800Z"
    }
   }
  },
  {
   "cell_type": "code",
   "execution_count": null,
   "outputs": [],
   "source": [
    "enc = preprocessing.OrdinalEncoder()\n",
    "X = energy_data[['country']]\n",
    "enc.fit(X)\n",
    "energy_data['country'] = enc.transform(energy_data[['country']])\n",
    "energy_data.head(25)"
   ],
   "metadata": {
    "collapsed": false,
    "ExecuteTime": {
     "start_time": "2023-12-04T09:48:36.307606100Z"
    }
   }
  },
  {
   "cell_type": "markdown",
   "source": [
    "#Normalization"
   ],
   "metadata": {
    "collapsed": false
   }
  },
  {
   "cell_type": "code",
   "execution_count": null,
   "outputs": [],
   "source": [
    "from sklearn.preprocessing import normalize"
   ],
   "metadata": {
    "collapsed": false,
    "ExecuteTime": {
     "start_time": "2023-12-04T09:48:36.311596300Z"
    }
   }
  },
  {
   "cell_type": "code",
   "execution_count": null,
   "outputs": [],
   "source": [
    "energy_data_normalized = energy_data\n",
    "\n",
    "#for col in ['access_electricity','access_cooking_fuels','renewable_energy_share','electricity_fossil_fuels','electricity_nuclear','electricity_renewals','electricity_low_carbon','primary_energy_consumption','energy_level','co2_emissions','gdp_per_capita']:\n",
    "#  X = energy_data_normalized[[col]]\n",
    "#  normalizer = preprocessing.Normalizer().fit(X)\n",
    "#  energy_data_normalized[col] = normalizer.transform(X)\n",
    "  \n",
    "#energy_data_normalized.describe()"
   ],
   "metadata": {
    "collapsed": false,
    "ExecuteTime": {
     "start_time": "2023-12-04T09:48:36.314587600Z"
    }
   }
  },
  {
   "cell_type": "markdown",
   "source": [
    "## 6. Model"
   ],
   "metadata": {
    "collapsed": false
   }
  },
  {
   "cell_type": "code",
   "execution_count": null,
   "outputs": [],
   "source": [
    "from sklearn.model_selection import train_test_split, GridSearchCV\n",
    "from sklearn.preprocessing import StandardScaler\n",
    "from sklearn.metrics import mean_squared_error, r2_score\n",
    "from sklearn.ensemble import RandomForestRegressor, GradientBoostingRegressor\n",
    "from sklearn.linear_model import LinearRegression"
   ],
   "metadata": {
    "collapsed": false,
    "ExecuteTime": {
     "start_time": "2023-12-04T09:48:36.317580900Z"
    }
   }
  },
  {
   "cell_type": "code",
   "execution_count": null,
   "outputs": [],
   "source": [
    "target = 'primary_energy_consumption'\n",
    "features = ['access_electricity',\n",
    "    'gdp_per_capita','electricity_renewals',\n",
    "    'electricity_fossil_fuels']\n",
    "x_imputed = energy_data[features]\n",
    "y = energy_data[target]"
   ],
   "metadata": {
    "collapsed": false,
    "ExecuteTime": {
     "start_time": "2023-12-04T09:48:36.322564700Z"
    }
   }
  },
  {
   "cell_type": "code",
   "execution_count": null,
   "outputs": [],
   "source": [],
   "metadata": {
    "collapsed": false,
    "ExecuteTime": {
     "start_time": "2023-12-04T09:48:36.326719900Z"
    }
   }
  },
  {
   "cell_type": "code",
   "execution_count": null,
   "outputs": [],
   "source": [
    "x_train, x_test, y_train, y_test = train_test_split(x_imputed, y, test_size = 0.4, random_state = 42)"
   ],
   "metadata": {
    "collapsed": false,
    "ExecuteTime": {
     "start_time": "2023-12-04T09:48:36.328717700Z"
    }
   }
  },
  {
   "cell_type": "code",
   "execution_count": null,
   "outputs": [],
   "source": [
    "scaler = StandardScaler()\n",
    "x_train_scaled = scaler.fit_transform(x_train)\n",
    "x_test_scaled = scaler.transform(x_test)"
   ],
   "metadata": {
    "collapsed": false,
    "ExecuteTime": {
     "start_time": "2023-12-04T09:48:36.330711400Z"
    }
   }
  },
  {
   "cell_type": "markdown",
   "source": [
    "## 7. Split dataset"
   ],
   "metadata": {
    "collapsed": false
   }
  },
  {
   "cell_type": "code",
   "execution_count": null,
   "outputs": [],
   "source": [
    "from sklearn.model_selection import GroupKFold\n",
    "import statsmodels.api as sm\n",
    "import pandas as pd\n",
    "import numpy as np\n",
    "from sklearn.model_selection import GroupKFold\n",
    "\n",
    "target = 'primary_energy_consumption'\n",
    "X_kfold = energy_data.drop(columns=[target,'co2_emissions','gdp_per_capita','renewable_energy_share','access_cooking_fuels','energy_level'])\n",
    "y_kfold = energy_data[target]"
   ],
   "metadata": {
    "collapsed": false,
    "ExecuteTime": {
     "start_time": "2023-12-04T09:48:36.332706100Z"
    }
   }
  },
  {
   "cell_type": "code",
   "execution_count": null,
   "outputs": [],
   "source": [
    "group = energy_data.year.tolist()"
   ],
   "metadata": {
    "collapsed": false,
    "ExecuteTime": {
     "start_time": "2023-12-04T09:48:36.334701900Z"
    }
   }
  },
  {
   "cell_type": "code",
   "execution_count": null,
   "outputs": [],
   "source": [
    "gkf = GroupKFold(n_splits=20)\n",
    "for train_index, test_index in gkf.split(X_kfold, groups=group):\n",
    "    print(\"Train:\", train_index, \"Test:\", test_index)\n",
    "    X_train_kfold = X_kfold.iloc[train_index,:]\n",
    "    Y_train_kfold = y_kfold[train_index]\n",
    "    X_test_kfold = X_kfold.iloc[test_index,:]\n",
    "    Y_test_kfold = y_kfold[test_index]"
   ],
   "metadata": {
    "collapsed": false,
    "ExecuteTime": {
     "start_time": "2023-12-04T09:48:36.336695100Z"
    }
   }
  },
  {
   "cell_type": "markdown",
   "source": [
    "### 11. Model Training"
   ],
   "metadata": {
    "collapsed": false
   }
  },
  {
   "cell_type": "markdown",
   "source": [
    "#### 11.1 Random Forest"
   ],
   "metadata": {
    "collapsed": false
   }
  },
  {
   "cell_type": "code",
   "execution_count": null,
   "outputs": [],
   "source": [
    "rf_param_grid = {'n_estimators': [100, 300, 500], 'max_depth': [None, 10, 20], 'min_samples_split': [2, 5, 10]}\n",
    "rf_model = RandomForestRegressor(random_state=42)\n",
    "rf_grid_search = GridSearchCV(estimator=rf_model, param_grid=rf_param_grid, scoring='neg_mean_squared_error', cv=5)\n",
    "rf_grid_search.fit(x_train_scaled, y_train)\n",
    "best_rf_params = rf_grid_search.best_params_"
   ],
   "metadata": {
    "collapsed": false,
    "ExecuteTime": {
     "start_time": "2023-12-04T09:48:36.339692200Z"
    }
   }
  },
  {
   "cell_type": "markdown",
   "source": [
    "### 11.2 Gradient Boosting\n"
   ],
   "metadata": {
    "collapsed": false
   }
  },
  {
   "cell_type": "code",
   "execution_count": null,
   "outputs": [],
   "source": [
    "gb_param_grid = {'n_estimators': [100, 300, 500], 'max_depth': [3, 5, 7], 'learning_rate': [0.01, 0.1, 0.2]}\n",
    "gb_model = GradientBoostingRegressor(random_state=42)\n",
    "gb_grid_search = GridSearchCV(estimator=gb_model, param_grid=gb_param_grid, scoring='neg_mean_squared_error', cv=5)\n",
    "gb_grid_search.fit(x_train_scaled, y_train)\n",
    "best_gb_params = gb_grid_search.best_params_"
   ],
   "metadata": {
    "collapsed": false,
    "ExecuteTime": {
     "start_time": "2023-12-04T09:48:36.342685800Z"
    }
   }
  },
  {
   "cell_type": "markdown",
   "source": [
    "\n",
    "### Initialization the models"
   ],
   "metadata": {
    "collapsed": false
   }
  },
  {
   "cell_type": "code",
   "execution_count": null,
   "outputs": [],
   "source": [
    "random_forest_model = RandomForestRegressor(**best_rf_params, random_state=42)\n",
    "gradient_boosting_model = GradientBoostingRegressor(**best_gb_params, random_state=42)\n",
    "linear_regression_model = LinearRegression()"
   ],
   "metadata": {
    "collapsed": false,
    "ExecuteTime": {
     "start_time": "2023-12-04T09:48:36.345676Z"
    }
   }
  },
  {
   "cell_type": "markdown",
   "source": [
    "### Training"
   ],
   "metadata": {
    "collapsed": false
   }
  },
  {
   "cell_type": "code",
   "execution_count": null,
   "outputs": [],
   "source": [
    "random_forest_model.fit(x_train_scaled, y_train)\n",
    "gradient_boosting_model.fit(x_train_scaled, y_train)\n",
    "linear_regression_model.fit(x_train_scaled, y_train)"
   ],
   "metadata": {
    "collapsed": false,
    "ExecuteTime": {
     "start_time": "2023-12-04T09:48:36.348664Z"
    }
   }
  },
  {
   "cell_type": "markdown",
   "source": [
    "### Predictions"
   ],
   "metadata": {
    "collapsed": false
   }
  },
  {
   "cell_type": "code",
   "execution_count": null,
   "outputs": [],
   "source": [
    "rforest_predictions = random_forest_model.predict(x_test_scaled)\n",
    "linreg_predictions = linear_regression_model.predict(x_test_scaled)\n",
    "gradboost_predictions = gradient_boosting_model.predict(x_test_scaled)"
   ],
   "metadata": {
    "collapsed": false,
    "ExecuteTime": {
     "start_time": "2023-12-04T09:48:36.351093500Z"
    }
   }
  },
  {
   "cell_type": "code",
   "execution_count": null,
   "outputs": [],
   "source": [
    "rf_mse = mean_squared_error(y_test, rforest_predictions)\n",
    "lr_mse = mean_squared_error(y_test, linreg_predictions)\n",
    "gb_mse = mean_squared_error(y_test, gradboost_predictions)"
   ],
   "metadata": {
    "collapsed": false,
    "ExecuteTime": {
     "start_time": "2023-12-04T09:48:36.353090100Z"
    }
   }
  },
  {
   "cell_type": "code",
   "execution_count": null,
   "outputs": [],
   "source": [
    "rf_r2 = r2_score(y_test, rforest_predictions)\n",
    "lr_r2 = r2_score(y_test, linreg_predictions)\n",
    "gb_r2 = r2_score(y_test, gradboost_predictions)"
   ],
   "metadata": {
    "collapsed": false,
    "ExecuteTime": {
     "start_time": "2023-12-04T09:48:36.358084Z"
    }
   }
  },
  {
   "cell_type": "code",
   "execution_count": null,
   "outputs": [],
   "source": [
    "results = pd.DataFrame({\n",
    "    'Model': ['Random Forest', 'Linear Regression', 'Gradient Boosting'],\n",
    "    'MSE': [rf_mse, lr_mse, gb_mse],\n",
    "    'R-squared': [rf_r2, lr_r2, gb_r2]\n",
    "})"
   ],
   "metadata": {
    "collapsed": false,
    "ExecuteTime": {
     "start_time": "2023-12-04T09:48:36.360070200Z"
    }
   }
  },
  {
   "cell_type": "code",
   "execution_count": null,
   "outputs": [],
   "source": [
    "results"
   ],
   "metadata": {
    "collapsed": false,
    "ExecuteTime": {
     "start_time": "2023-12-04T09:48:36.362070600Z"
    }
   }
  },
  {
   "cell_type": "markdown",
   "source": [
    "### 11. Conclusion / Answer Question"
   ],
   "metadata": {
    "collapsed": false
   }
  },
  {
   "cell_type": "markdown",
   "source": [],
   "metadata": {
    "collapsed": false
   }
  }
 ],
 "metadata": {
  "colab": {
   "include_colab_link": true,
   "provenance": []
  },
  "kernelspec": {
   "display_name": "Python 3 (ipykernel)",
   "language": "python",
   "name": "python3"
  },
  "language_info": {
   "codemirror_mode": {
    "name": "ipython",
    "version": 3
   },
   "file_extension": ".py",
   "mimetype": "text/x-python",
   "name": "python",
   "nbconvert_exporter": "python",
   "pygments_lexer": "ipython3",
   "version": "3.11.2"
  }
 },
 "nbformat": 4,
 "nbformat_minor": 4
}
