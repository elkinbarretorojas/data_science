{
 "cells": [
  {
   "cell_type": "markdown",
   "source": [
    "# Music"
   ],
   "metadata": {
    "collapsed": false
   }
  },
  {
   "cell_type": "markdown",
   "source": [
    "## 1. Importing the required libraries for EDA"
   ],
   "metadata": {
    "collapsed": false
   }
  },
  {
   "cell_type": "markdown",
   "metadata": {
    "id": "9eLMx1Ebwa92"
   },
   "source": [
    "Below are the libraries that are used in order to perform EDA and Random Forect Regressor"
   ]
  },
  {
   "cell_type": "code",
   "execution_count": 79,
   "metadata": {
    "id": "GGyDovL2QDLa",
    "ExecuteTime": {
     "end_time": "2023-10-25T15:18:51.353971Z",
     "start_time": "2023-10-25T15:18:51.338917100Z"
    }
   },
   "outputs": [],
   "source": [
    "import pandas as pd\n",
    "import numpy as np\n",
    "import seaborn as sns                       #visualisation\n",
    "import matplotlib.pyplot as plt             #visualisation\n",
    "import warnings\n",
    "import warnings\n",
    "warnings.filterwarnings('ignore')\n",
    "sns.set(color_codes = True)\n",
    "sns.set_palette(palette = 'magma', n_colors = 8)\n"
   ]
  },
  {
   "cell_type": "markdown",
   "metadata": {
    "id": "8Y3Z2DbKTfJt"
   },
   "source": [
    "## 2. Loading the data into the data frame."
   ]
  },
  {
   "cell_type": "code",
   "execution_count": 80,
   "metadata": {
    "colab": {
     "base_uri": "https://localhost:8080/",
     "height": 430
    },
    "id": "0oVZnezwQ159",
    "outputId": "f1e0fe18-8fa0-482a-e2b9-2ecd87d97d9d",
    "ExecuteTime": {
     "end_time": "2023-10-25T15:19:08.069297600Z",
     "start_time": "2023-10-25T15:19:08.041045100Z"
    }
   },
   "outputs": [
    {
     "data": {
      "text/plain": "            Timestamp   Age Primary streaming service  Hours per day  \\\n0  8/27/2022 19:29:02  18.0                   Spotify            3.0   \n1  8/27/2022 19:57:31  63.0                   Pandora            1.5   \n2  8/27/2022 21:28:18  18.0                   Spotify            4.0   \n3  8/27/2022 21:40:40  61.0             YouTube Music            2.5   \n4  8/27/2022 21:54:47  18.0                   Spotify            4.0   \n\n  While working Instrumentalist Composer         Fav genre Exploratory  \\\n0           Yes             Yes      Yes             Latin         Yes   \n1           Yes              No       No              Rock         Yes   \n2            No              No       No  Video game music          No   \n3           Yes              No      Yes              Jazz         Yes   \n4           Yes              No       No               R&B         Yes   \n\n  Foreign languages  ...  Frequency [R&B]  Frequency [Rap] Frequency [Rock]  \\\n0               Yes  ...        Sometimes  Very frequently            Never   \n1                No  ...        Sometimes           Rarely  Very frequently   \n2               Yes  ...            Never           Rarely           Rarely   \n3               Yes  ...        Sometimes            Never            Never   \n4                No  ...  Very frequently  Very frequently            Never   \n\n  Frequency [Video game music] Anxiety Depression Insomnia  OCD Music effects  \\\n0                    Sometimes     3.0        0.0      1.0  0.0           NaN   \n1                       Rarely     7.0        2.0      2.0  1.0           NaN   \n2              Very frequently     7.0        7.0     10.0  2.0     No effect   \n3                        Never     9.0        7.0      3.0  3.0       Improve   \n4                       Rarely     7.0        2.0      5.0  9.0       Improve   \n\n     Permissions  \n0  I understand.  \n1  I understand.  \n2  I understand.  \n3  I understand.  \n4  I understand.  \n\n[5 rows x 33 columns]",
      "text/html": "<div>\n<style scoped>\n    .dataframe tbody tr th:only-of-type {\n        vertical-align: middle;\n    }\n\n    .dataframe tbody tr th {\n        vertical-align: top;\n    }\n\n    .dataframe thead th {\n        text-align: right;\n    }\n</style>\n<table border=\"1\" class=\"dataframe\">\n  <thead>\n    <tr style=\"text-align: right;\">\n      <th></th>\n      <th>Timestamp</th>\n      <th>Age</th>\n      <th>Primary streaming service</th>\n      <th>Hours per day</th>\n      <th>While working</th>\n      <th>Instrumentalist</th>\n      <th>Composer</th>\n      <th>Fav genre</th>\n      <th>Exploratory</th>\n      <th>Foreign languages</th>\n      <th>...</th>\n      <th>Frequency [R&amp;B]</th>\n      <th>Frequency [Rap]</th>\n      <th>Frequency [Rock]</th>\n      <th>Frequency [Video game music]</th>\n      <th>Anxiety</th>\n      <th>Depression</th>\n      <th>Insomnia</th>\n      <th>OCD</th>\n      <th>Music effects</th>\n      <th>Permissions</th>\n    </tr>\n  </thead>\n  <tbody>\n    <tr>\n      <th>0</th>\n      <td>8/27/2022 19:29:02</td>\n      <td>18.0</td>\n      <td>Spotify</td>\n      <td>3.0</td>\n      <td>Yes</td>\n      <td>Yes</td>\n      <td>Yes</td>\n      <td>Latin</td>\n      <td>Yes</td>\n      <td>Yes</td>\n      <td>...</td>\n      <td>Sometimes</td>\n      <td>Very frequently</td>\n      <td>Never</td>\n      <td>Sometimes</td>\n      <td>3.0</td>\n      <td>0.0</td>\n      <td>1.0</td>\n      <td>0.0</td>\n      <td>NaN</td>\n      <td>I understand.</td>\n    </tr>\n    <tr>\n      <th>1</th>\n      <td>8/27/2022 19:57:31</td>\n      <td>63.0</td>\n      <td>Pandora</td>\n      <td>1.5</td>\n      <td>Yes</td>\n      <td>No</td>\n      <td>No</td>\n      <td>Rock</td>\n      <td>Yes</td>\n      <td>No</td>\n      <td>...</td>\n      <td>Sometimes</td>\n      <td>Rarely</td>\n      <td>Very frequently</td>\n      <td>Rarely</td>\n      <td>7.0</td>\n      <td>2.0</td>\n      <td>2.0</td>\n      <td>1.0</td>\n      <td>NaN</td>\n      <td>I understand.</td>\n    </tr>\n    <tr>\n      <th>2</th>\n      <td>8/27/2022 21:28:18</td>\n      <td>18.0</td>\n      <td>Spotify</td>\n      <td>4.0</td>\n      <td>No</td>\n      <td>No</td>\n      <td>No</td>\n      <td>Video game music</td>\n      <td>No</td>\n      <td>Yes</td>\n      <td>...</td>\n      <td>Never</td>\n      <td>Rarely</td>\n      <td>Rarely</td>\n      <td>Very frequently</td>\n      <td>7.0</td>\n      <td>7.0</td>\n      <td>10.0</td>\n      <td>2.0</td>\n      <td>No effect</td>\n      <td>I understand.</td>\n    </tr>\n    <tr>\n      <th>3</th>\n      <td>8/27/2022 21:40:40</td>\n      <td>61.0</td>\n      <td>YouTube Music</td>\n      <td>2.5</td>\n      <td>Yes</td>\n      <td>No</td>\n      <td>Yes</td>\n      <td>Jazz</td>\n      <td>Yes</td>\n      <td>Yes</td>\n      <td>...</td>\n      <td>Sometimes</td>\n      <td>Never</td>\n      <td>Never</td>\n      <td>Never</td>\n      <td>9.0</td>\n      <td>7.0</td>\n      <td>3.0</td>\n      <td>3.0</td>\n      <td>Improve</td>\n      <td>I understand.</td>\n    </tr>\n    <tr>\n      <th>4</th>\n      <td>8/27/2022 21:54:47</td>\n      <td>18.0</td>\n      <td>Spotify</td>\n      <td>4.0</td>\n      <td>Yes</td>\n      <td>No</td>\n      <td>No</td>\n      <td>R&amp;B</td>\n      <td>Yes</td>\n      <td>No</td>\n      <td>...</td>\n      <td>Very frequently</td>\n      <td>Very frequently</td>\n      <td>Never</td>\n      <td>Rarely</td>\n      <td>7.0</td>\n      <td>2.0</td>\n      <td>5.0</td>\n      <td>9.0</td>\n      <td>Improve</td>\n      <td>I understand.</td>\n    </tr>\n  </tbody>\n</table>\n<p>5 rows × 33 columns</p>\n</div>"
     },
     "execution_count": 80,
     "metadata": {},
     "output_type": "execute_result"
    }
   ],
   "source": [
    "df = pd.read_csv(\"Impact_music_mental_health.csv\")\n",
    "data = df\n",
    "# To display the top 5 rows\n",
    "data.head()"
   ]
  },
  {
   "cell_type": "code",
   "execution_count": 81,
   "metadata": {
    "collapsed": false,
    "ExecuteTime": {
     "end_time": "2023-10-25T15:19:08.305006900Z",
     "start_time": "2023-10-25T15:19:08.226250Z"
    }
   },
   "outputs": [
    {
     "name": "stdout",
     "output_type": "stream",
     "text": [
      "<class 'pandas.core.frame.DataFrame'>\n",
      "RangeIndex: 736 entries, 0 to 735\n",
      "Data columns (total 33 columns):\n",
      " #   Column                        Non-Null Count  Dtype  \n",
      "---  ------                        --------------  -----  \n",
      " 0   Timestamp                     736 non-null    object \n",
      " 1   Age                           735 non-null    float64\n",
      " 2   Primary streaming service     735 non-null    object \n",
      " 3   Hours per day                 736 non-null    float64\n",
      " 4   While working                 733 non-null    object \n",
      " 5   Instrumentalist               732 non-null    object \n",
      " 6   Composer                      735 non-null    object \n",
      " 7   Fav genre                     736 non-null    object \n",
      " 8   Exploratory                   736 non-null    object \n",
      " 9   Foreign languages             732 non-null    object \n",
      " 10  BPM                           629 non-null    float64\n",
      " 11  Frequency [Classical]         736 non-null    object \n",
      " 12  Frequency [Country]           736 non-null    object \n",
      " 13  Frequency [EDM]               736 non-null    object \n",
      " 14  Frequency [Folk]              736 non-null    object \n",
      " 15  Frequency [Gospel]            736 non-null    object \n",
      " 16  Frequency [Hip hop]           736 non-null    object \n",
      " 17  Frequency [Jazz]              736 non-null    object \n",
      " 18  Frequency [K pop]             736 non-null    object \n",
      " 19  Frequency [Latin]             736 non-null    object \n",
      " 20  Frequency [Lofi]              736 non-null    object \n",
      " 21  Frequency [Metal]             736 non-null    object \n",
      " 22  Frequency [Pop]               736 non-null    object \n",
      " 23  Frequency [R&B]               736 non-null    object \n",
      " 24  Frequency [Rap]               736 non-null    object \n",
      " 25  Frequency [Rock]              736 non-null    object \n",
      " 26  Frequency [Video game music]  736 non-null    object \n",
      " 27  Anxiety                       736 non-null    float64\n",
      " 28  Depression                    736 non-null    float64\n",
      " 29  Insomnia                      736 non-null    float64\n",
      " 30  OCD                           736 non-null    float64\n",
      " 31  Music effects                 728 non-null    object \n",
      " 32  Permissions                   736 non-null    object \n",
      "dtypes: float64(7), object(26)\n",
      "memory usage: 189.9+ KB\n"
     ]
    }
   ],
   "source": [
    "data.info()"
   ]
  },
  {
   "cell_type": "code",
   "execution_count": 82,
   "metadata": {
    "collapsed": false,
    "ExecuteTime": {
     "end_time": "2023-10-25T15:19:08.439208900Z",
     "start_time": "2023-10-25T15:19:08.395414400Z"
    }
   },
   "outputs": [
    {
     "data": {
      "text/plain": "              Age  Hours per day           BPM     Anxiety  Depression  \\\ncount  735.000000     736.000000  6.290000e+02  736.000000  736.000000   \nmean    25.206803       3.572758  1.589948e+06    5.837636    4.796196   \nstd     12.054970       3.028199  3.987261e+07    2.793054    3.028870   \nmin     10.000000       0.000000  0.000000e+00    0.000000    0.000000   \n25%     18.000000       2.000000  1.000000e+02    4.000000    2.000000   \n50%     21.000000       3.000000  1.200000e+02    6.000000    5.000000   \n75%     28.000000       5.000000  1.440000e+02    8.000000    7.000000   \nmax     89.000000      24.000000  1.000000e+09   10.000000   10.000000   \n\n         Insomnia         OCD  \ncount  736.000000  736.000000  \nmean     3.738451    2.637228  \nstd      3.088689    2.842017  \nmin      0.000000    0.000000  \n25%      1.000000    0.000000  \n50%      3.000000    2.000000  \n75%      6.000000    5.000000  \nmax     10.000000   10.000000  ",
      "text/html": "<div>\n<style scoped>\n    .dataframe tbody tr th:only-of-type {\n        vertical-align: middle;\n    }\n\n    .dataframe tbody tr th {\n        vertical-align: top;\n    }\n\n    .dataframe thead th {\n        text-align: right;\n    }\n</style>\n<table border=\"1\" class=\"dataframe\">\n  <thead>\n    <tr style=\"text-align: right;\">\n      <th></th>\n      <th>Age</th>\n      <th>Hours per day</th>\n      <th>BPM</th>\n      <th>Anxiety</th>\n      <th>Depression</th>\n      <th>Insomnia</th>\n      <th>OCD</th>\n    </tr>\n  </thead>\n  <tbody>\n    <tr>\n      <th>count</th>\n      <td>735.000000</td>\n      <td>736.000000</td>\n      <td>6.290000e+02</td>\n      <td>736.000000</td>\n      <td>736.000000</td>\n      <td>736.000000</td>\n      <td>736.000000</td>\n    </tr>\n    <tr>\n      <th>mean</th>\n      <td>25.206803</td>\n      <td>3.572758</td>\n      <td>1.589948e+06</td>\n      <td>5.837636</td>\n      <td>4.796196</td>\n      <td>3.738451</td>\n      <td>2.637228</td>\n    </tr>\n    <tr>\n      <th>std</th>\n      <td>12.054970</td>\n      <td>3.028199</td>\n      <td>3.987261e+07</td>\n      <td>2.793054</td>\n      <td>3.028870</td>\n      <td>3.088689</td>\n      <td>2.842017</td>\n    </tr>\n    <tr>\n      <th>min</th>\n      <td>10.000000</td>\n      <td>0.000000</td>\n      <td>0.000000e+00</td>\n      <td>0.000000</td>\n      <td>0.000000</td>\n      <td>0.000000</td>\n      <td>0.000000</td>\n    </tr>\n    <tr>\n      <th>25%</th>\n      <td>18.000000</td>\n      <td>2.000000</td>\n      <td>1.000000e+02</td>\n      <td>4.000000</td>\n      <td>2.000000</td>\n      <td>1.000000</td>\n      <td>0.000000</td>\n    </tr>\n    <tr>\n      <th>50%</th>\n      <td>21.000000</td>\n      <td>3.000000</td>\n      <td>1.200000e+02</td>\n      <td>6.000000</td>\n      <td>5.000000</td>\n      <td>3.000000</td>\n      <td>2.000000</td>\n    </tr>\n    <tr>\n      <th>75%</th>\n      <td>28.000000</td>\n      <td>5.000000</td>\n      <td>1.440000e+02</td>\n      <td>8.000000</td>\n      <td>7.000000</td>\n      <td>6.000000</td>\n      <td>5.000000</td>\n    </tr>\n    <tr>\n      <th>max</th>\n      <td>89.000000</td>\n      <td>24.000000</td>\n      <td>1.000000e+09</td>\n      <td>10.000000</td>\n      <td>10.000000</td>\n      <td>10.000000</td>\n      <td>10.000000</td>\n    </tr>\n  </tbody>\n</table>\n</div>"
     },
     "execution_count": 82,
     "metadata": {},
     "output_type": "execute_result"
    }
   ],
   "source": [
    "data.describe()"
   ]
  },
  {
   "cell_type": "markdown",
   "metadata": {
    "id": "vAmC369yTpMF"
   },
   "source": [
    "## 3. Checking the types of data"
   ]
  },
  {
   "cell_type": "code",
   "execution_count": 83,
   "metadata": {
    "colab": {
     "base_uri": "https://localhost:8080/",
     "height": 312
    },
    "id": "qPbKQ0noRptD",
    "outputId": "6a5aea47-ad0c-4118-8471-d91b6432b339",
    "ExecuteTime": {
     "end_time": "2023-10-25T15:19:08.717574500Z",
     "start_time": "2023-10-25T15:19:08.710968100Z"
    }
   },
   "outputs": [
    {
     "data": {
      "text/plain": "Timestamp                        object\nAge                             float64\nPrimary streaming service        object\nHours per day                   float64\nWhile working                    object\nInstrumentalist                  object\nComposer                         object\nFav genre                        object\nExploratory                      object\nForeign languages                object\nBPM                             float64\nFrequency [Classical]            object\nFrequency [Country]              object\nFrequency [EDM]                  object\nFrequency [Folk]                 object\nFrequency [Gospel]               object\nFrequency [Hip hop]              object\nFrequency [Jazz]                 object\nFrequency [K pop]                object\nFrequency [Latin]                object\nFrequency [Lofi]                 object\nFrequency [Metal]                object\nFrequency [Pop]                  object\nFrequency [R&B]                  object\nFrequency [Rap]                  object\nFrequency [Rock]                 object\nFrequency [Video game music]     object\nAnxiety                         float64\nDepression                      float64\nInsomnia                        float64\nOCD                             float64\nMusic effects                    object\nPermissions                      object\ndtype: object"
     },
     "execution_count": 83,
     "metadata": {},
     "output_type": "execute_result"
    }
   ],
   "source": [
    "data.dtypes"
   ]
  },
  {
   "cell_type": "code",
   "execution_count": 84,
   "outputs": [
    {
     "data": {
      "text/plain": "               count          mean           std   min    25%    50%    75%  \\\nAge            735.0  2.520680e+01  1.205497e+01  10.0   18.0   21.0   28.0   \nHours per day  736.0  3.572758e+00  3.028199e+00   0.0    2.0    3.0    5.0   \nBPM            629.0  1.589948e+06  3.987261e+07   0.0  100.0  120.0  144.0   \nAnxiety        736.0  5.837636e+00  2.793054e+00   0.0    4.0    6.0    8.0   \nDepression     736.0  4.796196e+00  3.028870e+00   0.0    2.0    5.0    7.0   \nInsomnia       736.0  3.738451e+00  3.088689e+00   0.0    1.0    3.0    6.0   \nOCD            736.0  2.637228e+00  2.842017e+00   0.0    0.0    2.0    5.0   \n\n                       max  \nAge                   89.0  \nHours per day         24.0  \nBPM            999999999.0  \nAnxiety               10.0  \nDepression            10.0  \nInsomnia              10.0  \nOCD                   10.0  ",
      "text/html": "<div>\n<style scoped>\n    .dataframe tbody tr th:only-of-type {\n        vertical-align: middle;\n    }\n\n    .dataframe tbody tr th {\n        vertical-align: top;\n    }\n\n    .dataframe thead th {\n        text-align: right;\n    }\n</style>\n<table border=\"1\" class=\"dataframe\">\n  <thead>\n    <tr style=\"text-align: right;\">\n      <th></th>\n      <th>count</th>\n      <th>mean</th>\n      <th>std</th>\n      <th>min</th>\n      <th>25%</th>\n      <th>50%</th>\n      <th>75%</th>\n      <th>max</th>\n    </tr>\n  </thead>\n  <tbody>\n    <tr>\n      <th>Age</th>\n      <td>735.0</td>\n      <td>2.520680e+01</td>\n      <td>1.205497e+01</td>\n      <td>10.0</td>\n      <td>18.0</td>\n      <td>21.0</td>\n      <td>28.0</td>\n      <td>89.0</td>\n    </tr>\n    <tr>\n      <th>Hours per day</th>\n      <td>736.0</td>\n      <td>3.572758e+00</td>\n      <td>3.028199e+00</td>\n      <td>0.0</td>\n      <td>2.0</td>\n      <td>3.0</td>\n      <td>5.0</td>\n      <td>24.0</td>\n    </tr>\n    <tr>\n      <th>BPM</th>\n      <td>629.0</td>\n      <td>1.589948e+06</td>\n      <td>3.987261e+07</td>\n      <td>0.0</td>\n      <td>100.0</td>\n      <td>120.0</td>\n      <td>144.0</td>\n      <td>999999999.0</td>\n    </tr>\n    <tr>\n      <th>Anxiety</th>\n      <td>736.0</td>\n      <td>5.837636e+00</td>\n      <td>2.793054e+00</td>\n      <td>0.0</td>\n      <td>4.0</td>\n      <td>6.0</td>\n      <td>8.0</td>\n      <td>10.0</td>\n    </tr>\n    <tr>\n      <th>Depression</th>\n      <td>736.0</td>\n      <td>4.796196e+00</td>\n      <td>3.028870e+00</td>\n      <td>0.0</td>\n      <td>2.0</td>\n      <td>5.0</td>\n      <td>7.0</td>\n      <td>10.0</td>\n    </tr>\n    <tr>\n      <th>Insomnia</th>\n      <td>736.0</td>\n      <td>3.738451e+00</td>\n      <td>3.088689e+00</td>\n      <td>0.0</td>\n      <td>1.0</td>\n      <td>3.0</td>\n      <td>6.0</td>\n      <td>10.0</td>\n    </tr>\n    <tr>\n      <th>OCD</th>\n      <td>736.0</td>\n      <td>2.637228e+00</td>\n      <td>2.842017e+00</td>\n      <td>0.0</td>\n      <td>0.0</td>\n      <td>2.0</td>\n      <td>5.0</td>\n      <td>10.0</td>\n    </tr>\n  </tbody>\n</table>\n</div>"
     },
     "execution_count": 84,
     "metadata": {},
     "output_type": "execute_result"
    }
   ],
   "source": [
    "data.describe().T"
   ],
   "metadata": {
    "collapsed": false,
    "ExecuteTime": {
     "end_time": "2023-10-25T15:19:08.943593900Z",
     "start_time": "2023-10-25T15:19:08.898827Z"
    }
   }
  },
  {
   "cell_type": "code",
   "execution_count": 85,
   "outputs": [
    {
     "data": {
      "text/plain": "                             count unique               top freq\nTimestamp                      736    729  09/01/2022 15:24    2\nPrimary streaming service      735      6           Spotify  458\nWhile working                  733      2               Yes  579\nInstrumentalist                732      2                No  497\nComposer                       735      2                No  609\nFav genre                      736     16              Rock  188\nExploratory                    736      2               Yes  525\nForeign languages              732      2               Yes  404\nFrequency [Classical]          736      4            Rarely  259\nFrequency [Country]            736      4             Never  343\nFrequency [EDM]                736      4             Never  307\nFrequency [Folk]               736      4             Never  292\nFrequency [Gospel]             736      4             Never  535\nFrequency [Hip hop]            736      4         Sometimes  218\nFrequency [Jazz]               736      4             Never  261\nFrequency [K pop]              736      4             Never  416\nFrequency [Latin]              736      4             Never  443\nFrequency [Lofi]               736      4             Never  280\nFrequency [Metal]              736      4             Never  264\nFrequency [Pop]                736      4   Very frequently  277\nFrequency [R&B]                736      4             Never  225\nFrequency [Rap]                736      4            Rarely  215\nFrequency [Rock]               736      4   Very frequently  330\nFrequency [Video game music]   736      4             Never  236\nMusic effects                  728      3           Improve  542\nPermissions                    736      1     I understand.  736",
      "text/html": "<div>\n<style scoped>\n    .dataframe tbody tr th:only-of-type {\n        vertical-align: middle;\n    }\n\n    .dataframe tbody tr th {\n        vertical-align: top;\n    }\n\n    .dataframe thead th {\n        text-align: right;\n    }\n</style>\n<table border=\"1\" class=\"dataframe\">\n  <thead>\n    <tr style=\"text-align: right;\">\n      <th></th>\n      <th>count</th>\n      <th>unique</th>\n      <th>top</th>\n      <th>freq</th>\n    </tr>\n  </thead>\n  <tbody>\n    <tr>\n      <th>Timestamp</th>\n      <td>736</td>\n      <td>729</td>\n      <td>09/01/2022 15:24</td>\n      <td>2</td>\n    </tr>\n    <tr>\n      <th>Primary streaming service</th>\n      <td>735</td>\n      <td>6</td>\n      <td>Spotify</td>\n      <td>458</td>\n    </tr>\n    <tr>\n      <th>While working</th>\n      <td>733</td>\n      <td>2</td>\n      <td>Yes</td>\n      <td>579</td>\n    </tr>\n    <tr>\n      <th>Instrumentalist</th>\n      <td>732</td>\n      <td>2</td>\n      <td>No</td>\n      <td>497</td>\n    </tr>\n    <tr>\n      <th>Composer</th>\n      <td>735</td>\n      <td>2</td>\n      <td>No</td>\n      <td>609</td>\n    </tr>\n    <tr>\n      <th>Fav genre</th>\n      <td>736</td>\n      <td>16</td>\n      <td>Rock</td>\n      <td>188</td>\n    </tr>\n    <tr>\n      <th>Exploratory</th>\n      <td>736</td>\n      <td>2</td>\n      <td>Yes</td>\n      <td>525</td>\n    </tr>\n    <tr>\n      <th>Foreign languages</th>\n      <td>732</td>\n      <td>2</td>\n      <td>Yes</td>\n      <td>404</td>\n    </tr>\n    <tr>\n      <th>Frequency [Classical]</th>\n      <td>736</td>\n      <td>4</td>\n      <td>Rarely</td>\n      <td>259</td>\n    </tr>\n    <tr>\n      <th>Frequency [Country]</th>\n      <td>736</td>\n      <td>4</td>\n      <td>Never</td>\n      <td>343</td>\n    </tr>\n    <tr>\n      <th>Frequency [EDM]</th>\n      <td>736</td>\n      <td>4</td>\n      <td>Never</td>\n      <td>307</td>\n    </tr>\n    <tr>\n      <th>Frequency [Folk]</th>\n      <td>736</td>\n      <td>4</td>\n      <td>Never</td>\n      <td>292</td>\n    </tr>\n    <tr>\n      <th>Frequency [Gospel]</th>\n      <td>736</td>\n      <td>4</td>\n      <td>Never</td>\n      <td>535</td>\n    </tr>\n    <tr>\n      <th>Frequency [Hip hop]</th>\n      <td>736</td>\n      <td>4</td>\n      <td>Sometimes</td>\n      <td>218</td>\n    </tr>\n    <tr>\n      <th>Frequency [Jazz]</th>\n      <td>736</td>\n      <td>4</td>\n      <td>Never</td>\n      <td>261</td>\n    </tr>\n    <tr>\n      <th>Frequency [K pop]</th>\n      <td>736</td>\n      <td>4</td>\n      <td>Never</td>\n      <td>416</td>\n    </tr>\n    <tr>\n      <th>Frequency [Latin]</th>\n      <td>736</td>\n      <td>4</td>\n      <td>Never</td>\n      <td>443</td>\n    </tr>\n    <tr>\n      <th>Frequency [Lofi]</th>\n      <td>736</td>\n      <td>4</td>\n      <td>Never</td>\n      <td>280</td>\n    </tr>\n    <tr>\n      <th>Frequency [Metal]</th>\n      <td>736</td>\n      <td>4</td>\n      <td>Never</td>\n      <td>264</td>\n    </tr>\n    <tr>\n      <th>Frequency [Pop]</th>\n      <td>736</td>\n      <td>4</td>\n      <td>Very frequently</td>\n      <td>277</td>\n    </tr>\n    <tr>\n      <th>Frequency [R&amp;B]</th>\n      <td>736</td>\n      <td>4</td>\n      <td>Never</td>\n      <td>225</td>\n    </tr>\n    <tr>\n      <th>Frequency [Rap]</th>\n      <td>736</td>\n      <td>4</td>\n      <td>Rarely</td>\n      <td>215</td>\n    </tr>\n    <tr>\n      <th>Frequency [Rock]</th>\n      <td>736</td>\n      <td>4</td>\n      <td>Very frequently</td>\n      <td>330</td>\n    </tr>\n    <tr>\n      <th>Frequency [Video game music]</th>\n      <td>736</td>\n      <td>4</td>\n      <td>Never</td>\n      <td>236</td>\n    </tr>\n    <tr>\n      <th>Music effects</th>\n      <td>728</td>\n      <td>3</td>\n      <td>Improve</td>\n      <td>542</td>\n    </tr>\n    <tr>\n      <th>Permissions</th>\n      <td>736</td>\n      <td>1</td>\n      <td>I understand.</td>\n      <td>736</td>\n    </tr>\n  </tbody>\n</table>\n</div>"
     },
     "execution_count": 85,
     "metadata": {},
     "output_type": "execute_result"
    }
   ],
   "source": [
    "data.describe(exclude = 'number').T"
   ],
   "metadata": {
    "collapsed": false,
    "ExecuteTime": {
     "end_time": "2023-10-25T15:19:09.126435100Z",
     "start_time": "2023-10-25T15:19:09.080198900Z"
    }
   }
  },
  {
   "cell_type": "markdown",
   "source": [
    "### 4. REMOVE OUTLIERS"
   ],
   "metadata": {
    "collapsed": false
   }
  },
  {
   "cell_type": "code",
   "execution_count": 86,
   "outputs": [
    {
     "data": {
      "text/plain": "Index([428, 429, 490, 494, 527, 695], dtype='int64')"
     },
     "execution_count": 86,
     "metadata": {},
     "output_type": "execute_result"
    }
   ],
   "source": [
    "age_index = data[(data['Age'] > 70)].index\n",
    "age_index"
   ],
   "metadata": {
    "collapsed": false,
    "ExecuteTime": {
     "end_time": "2023-10-25T15:19:09.388516900Z",
     "start_time": "2023-10-25T15:19:09.380506700Z"
    }
   }
  },
  {
   "cell_type": "code",
   "execution_count": 87,
   "outputs": [],
   "source": [
    "data = data.drop(age_index,axis=0)"
   ],
   "metadata": {
    "collapsed": false,
    "ExecuteTime": {
     "end_time": "2023-10-25T15:19:09.623281500Z",
     "start_time": "2023-10-25T15:19:09.580516100Z"
    }
   }
  },
  {
   "cell_type": "code",
   "execution_count": 88,
   "outputs": [
    {
     "data": {
      "text/plain": "               count          mean           std   min    25%    50%    75%  \\\nAge            729.0  2.478464e+01  1.115039e+01  10.0   18.0   21.0   27.0   \nHours per day  730.0  3.551096e+00  2.939285e+00   0.0    2.0    3.0    5.0   \nBPM            624.0  1.602688e+06  4.003203e+07   0.0  100.0  120.0  144.0   \nAnxiety        730.0  5.862329e+00  2.780595e+00   0.0    4.0    6.0    8.0   \nDepression     730.0  4.821918e+00  3.024897e+00   0.0    2.0    5.0    7.0   \nInsomnia       730.0  3.755479e+00  3.081117e+00   0.0    1.0    3.0    6.0   \nOCD            730.0  2.652055e+00  2.847790e+00   0.0    0.0    2.0    5.0   \n\n                       max  \nAge                   70.0  \nHours per day         24.0  \nBPM            999999999.0  \nAnxiety               10.0  \nDepression            10.0  \nInsomnia              10.0  \nOCD                   10.0  ",
      "text/html": "<div>\n<style scoped>\n    .dataframe tbody tr th:only-of-type {\n        vertical-align: middle;\n    }\n\n    .dataframe tbody tr th {\n        vertical-align: top;\n    }\n\n    .dataframe thead th {\n        text-align: right;\n    }\n</style>\n<table border=\"1\" class=\"dataframe\">\n  <thead>\n    <tr style=\"text-align: right;\">\n      <th></th>\n      <th>count</th>\n      <th>mean</th>\n      <th>std</th>\n      <th>min</th>\n      <th>25%</th>\n      <th>50%</th>\n      <th>75%</th>\n      <th>max</th>\n    </tr>\n  </thead>\n  <tbody>\n    <tr>\n      <th>Age</th>\n      <td>729.0</td>\n      <td>2.478464e+01</td>\n      <td>1.115039e+01</td>\n      <td>10.0</td>\n      <td>18.0</td>\n      <td>21.0</td>\n      <td>27.0</td>\n      <td>70.0</td>\n    </tr>\n    <tr>\n      <th>Hours per day</th>\n      <td>730.0</td>\n      <td>3.551096e+00</td>\n      <td>2.939285e+00</td>\n      <td>0.0</td>\n      <td>2.0</td>\n      <td>3.0</td>\n      <td>5.0</td>\n      <td>24.0</td>\n    </tr>\n    <tr>\n      <th>BPM</th>\n      <td>624.0</td>\n      <td>1.602688e+06</td>\n      <td>4.003203e+07</td>\n      <td>0.0</td>\n      <td>100.0</td>\n      <td>120.0</td>\n      <td>144.0</td>\n      <td>999999999.0</td>\n    </tr>\n    <tr>\n      <th>Anxiety</th>\n      <td>730.0</td>\n      <td>5.862329e+00</td>\n      <td>2.780595e+00</td>\n      <td>0.0</td>\n      <td>4.0</td>\n      <td>6.0</td>\n      <td>8.0</td>\n      <td>10.0</td>\n    </tr>\n    <tr>\n      <th>Depression</th>\n      <td>730.0</td>\n      <td>4.821918e+00</td>\n      <td>3.024897e+00</td>\n      <td>0.0</td>\n      <td>2.0</td>\n      <td>5.0</td>\n      <td>7.0</td>\n      <td>10.0</td>\n    </tr>\n    <tr>\n      <th>Insomnia</th>\n      <td>730.0</td>\n      <td>3.755479e+00</td>\n      <td>3.081117e+00</td>\n      <td>0.0</td>\n      <td>1.0</td>\n      <td>3.0</td>\n      <td>6.0</td>\n      <td>10.0</td>\n    </tr>\n    <tr>\n      <th>OCD</th>\n      <td>730.0</td>\n      <td>2.652055e+00</td>\n      <td>2.847790e+00</td>\n      <td>0.0</td>\n      <td>0.0</td>\n      <td>2.0</td>\n      <td>5.0</td>\n      <td>10.0</td>\n    </tr>\n  </tbody>\n</table>\n</div>"
     },
     "execution_count": 88,
     "metadata": {},
     "output_type": "execute_result"
    }
   ],
   "source": [
    "data.describe().T"
   ],
   "metadata": {
    "collapsed": false,
    "ExecuteTime": {
     "end_time": "2023-10-25T15:19:09.790521100Z",
     "start_time": "2023-10-25T15:19:09.732929300Z"
    }
   }
  },
  {
   "cell_type": "code",
   "execution_count": 89,
   "outputs": [
    {
     "data": {
      "text/plain": "Index([18, 290, 347, 359, 366, 485, 726], dtype='int64')"
     },
     "execution_count": 89,
     "metadata": {},
     "output_type": "execute_result"
    }
   ],
   "source": [
    "hpd_index = data[data['Hours per day'] >= 15].index\n",
    "hpd_index"
   ],
   "metadata": {
    "collapsed": false,
    "ExecuteTime": {
     "end_time": "2023-10-25T15:19:09.952284500Z",
     "start_time": "2023-10-25T15:19:09.895687900Z"
    }
   }
  },
  {
   "cell_type": "code",
   "execution_count": 90,
   "outputs": [
    {
     "data": {
      "text/plain": "               count          mean           std   min    25%    50%    75%  \\\nAge            722.0  2.479363e+01  1.112832e+01  10.0   18.0   21.0   27.0   \nHours per day  723.0  3.402905e+00  2.510217e+00   0.0    2.0    3.0    4.0   \nBPM            618.0  1.618247e+06  4.022589e+07   0.0  100.0  120.0  144.0   \nAnxiety        723.0  5.860996e+00  2.783081e+00   0.0    4.0    6.0    8.0   \nDepression     723.0  4.818811e+00  3.014454e+00   0.0    2.0    5.0    7.0   \nInsomnia       723.0  3.735131e+00  3.070846e+00   0.0    1.0    3.0    6.0   \nOCD            723.0  2.636238e+00  2.836210e+00   0.0    0.0    2.0    5.0   \n\n                       max  \nAge                   70.0  \nHours per day         14.0  \nBPM            999999999.0  \nAnxiety               10.0  \nDepression            10.0  \nInsomnia              10.0  \nOCD                   10.0  ",
      "text/html": "<div>\n<style scoped>\n    .dataframe tbody tr th:only-of-type {\n        vertical-align: middle;\n    }\n\n    .dataframe tbody tr th {\n        vertical-align: top;\n    }\n\n    .dataframe thead th {\n        text-align: right;\n    }\n</style>\n<table border=\"1\" class=\"dataframe\">\n  <thead>\n    <tr style=\"text-align: right;\">\n      <th></th>\n      <th>count</th>\n      <th>mean</th>\n      <th>std</th>\n      <th>min</th>\n      <th>25%</th>\n      <th>50%</th>\n      <th>75%</th>\n      <th>max</th>\n    </tr>\n  </thead>\n  <tbody>\n    <tr>\n      <th>Age</th>\n      <td>722.0</td>\n      <td>2.479363e+01</td>\n      <td>1.112832e+01</td>\n      <td>10.0</td>\n      <td>18.0</td>\n      <td>21.0</td>\n      <td>27.0</td>\n      <td>70.0</td>\n    </tr>\n    <tr>\n      <th>Hours per day</th>\n      <td>723.0</td>\n      <td>3.402905e+00</td>\n      <td>2.510217e+00</td>\n      <td>0.0</td>\n      <td>2.0</td>\n      <td>3.0</td>\n      <td>4.0</td>\n      <td>14.0</td>\n    </tr>\n    <tr>\n      <th>BPM</th>\n      <td>618.0</td>\n      <td>1.618247e+06</td>\n      <td>4.022589e+07</td>\n      <td>0.0</td>\n      <td>100.0</td>\n      <td>120.0</td>\n      <td>144.0</td>\n      <td>999999999.0</td>\n    </tr>\n    <tr>\n      <th>Anxiety</th>\n      <td>723.0</td>\n      <td>5.860996e+00</td>\n      <td>2.783081e+00</td>\n      <td>0.0</td>\n      <td>4.0</td>\n      <td>6.0</td>\n      <td>8.0</td>\n      <td>10.0</td>\n    </tr>\n    <tr>\n      <th>Depression</th>\n      <td>723.0</td>\n      <td>4.818811e+00</td>\n      <td>3.014454e+00</td>\n      <td>0.0</td>\n      <td>2.0</td>\n      <td>5.0</td>\n      <td>7.0</td>\n      <td>10.0</td>\n    </tr>\n    <tr>\n      <th>Insomnia</th>\n      <td>723.0</td>\n      <td>3.735131e+00</td>\n      <td>3.070846e+00</td>\n      <td>0.0</td>\n      <td>1.0</td>\n      <td>3.0</td>\n      <td>6.0</td>\n      <td>10.0</td>\n    </tr>\n    <tr>\n      <th>OCD</th>\n      <td>723.0</td>\n      <td>2.636238e+00</td>\n      <td>2.836210e+00</td>\n      <td>0.0</td>\n      <td>0.0</td>\n      <td>2.0</td>\n      <td>5.0</td>\n      <td>10.0</td>\n    </tr>\n  </tbody>\n</table>\n</div>"
     },
     "execution_count": 90,
     "metadata": {},
     "output_type": "execute_result"
    }
   ],
   "source": [
    "data = data.drop(hpd_index, axis = 0)\n",
    "data.describe().T"
   ],
   "metadata": {
    "collapsed": false,
    "ExecuteTime": {
     "end_time": "2023-10-25T15:19:10.111687100Z",
     "start_time": "2023-10-25T15:19:10.064899900Z"
    }
   }
  },
  {
   "cell_type": "code",
   "execution_count": 91,
   "outputs": [
    {
     "data": {
      "text/plain": "Index([248, 353, 498, 564, 568, 610, 644, 662, 711], dtype='int64')"
     },
     "execution_count": 91,
     "metadata": {},
     "output_type": "execute_result"
    }
   ],
   "source": [
    "bpm_index = data[data['BPM'] > 200].index\n",
    "bpm_index"
   ],
   "metadata": {
    "collapsed": false,
    "ExecuteTime": {
     "end_time": "2023-10-25T15:19:10.328463600Z",
     "start_time": "2023-10-25T15:19:10.265005600Z"
    }
   }
  },
  {
   "cell_type": "code",
   "execution_count": 92,
   "outputs": [],
   "source": [
    "data = data.drop(bpm_index, axis = 0)"
   ],
   "metadata": {
    "collapsed": false,
    "ExecuteTime": {
     "end_time": "2023-10-25T15:19:10.437091500Z",
     "start_time": "2023-10-25T15:19:10.414772Z"
    }
   }
  },
  {
   "cell_type": "code",
   "execution_count": 93,
   "outputs": [
    {
     "data": {
      "text/plain": "               count        mean        std   min    25%    50%    75%    max\nAge            713.0   24.813464  11.107758  10.0   18.0   21.0   27.0   70.0\nHours per day  714.0    3.405182   2.518266   0.0    2.0    3.0    4.0   14.0\nBPM            609.0  121.972085  32.452408   0.0  100.0  120.0  141.0  200.0\nAnxiety        714.0    5.871849   2.783321   0.0    4.0    6.0    8.0   10.0\nDepression     714.0    4.817927   3.015116   0.0    2.0    5.0    7.0   10.0\nInsomnia       714.0    3.733193   3.067136   0.0    1.0    3.0    6.0   10.0\nOCD            714.0    2.638655   2.838642   0.0    0.0    2.0    5.0   10.0",
      "text/html": "<div>\n<style scoped>\n    .dataframe tbody tr th:only-of-type {\n        vertical-align: middle;\n    }\n\n    .dataframe tbody tr th {\n        vertical-align: top;\n    }\n\n    .dataframe thead th {\n        text-align: right;\n    }\n</style>\n<table border=\"1\" class=\"dataframe\">\n  <thead>\n    <tr style=\"text-align: right;\">\n      <th></th>\n      <th>count</th>\n      <th>mean</th>\n      <th>std</th>\n      <th>min</th>\n      <th>25%</th>\n      <th>50%</th>\n      <th>75%</th>\n      <th>max</th>\n    </tr>\n  </thead>\n  <tbody>\n    <tr>\n      <th>Age</th>\n      <td>713.0</td>\n      <td>24.813464</td>\n      <td>11.107758</td>\n      <td>10.0</td>\n      <td>18.0</td>\n      <td>21.0</td>\n      <td>27.0</td>\n      <td>70.0</td>\n    </tr>\n    <tr>\n      <th>Hours per day</th>\n      <td>714.0</td>\n      <td>3.405182</td>\n      <td>2.518266</td>\n      <td>0.0</td>\n      <td>2.0</td>\n      <td>3.0</td>\n      <td>4.0</td>\n      <td>14.0</td>\n    </tr>\n    <tr>\n      <th>BPM</th>\n      <td>609.0</td>\n      <td>121.972085</td>\n      <td>32.452408</td>\n      <td>0.0</td>\n      <td>100.0</td>\n      <td>120.0</td>\n      <td>141.0</td>\n      <td>200.0</td>\n    </tr>\n    <tr>\n      <th>Anxiety</th>\n      <td>714.0</td>\n      <td>5.871849</td>\n      <td>2.783321</td>\n      <td>0.0</td>\n      <td>4.0</td>\n      <td>6.0</td>\n      <td>8.0</td>\n      <td>10.0</td>\n    </tr>\n    <tr>\n      <th>Depression</th>\n      <td>714.0</td>\n      <td>4.817927</td>\n      <td>3.015116</td>\n      <td>0.0</td>\n      <td>2.0</td>\n      <td>5.0</td>\n      <td>7.0</td>\n      <td>10.0</td>\n    </tr>\n    <tr>\n      <th>Insomnia</th>\n      <td>714.0</td>\n      <td>3.733193</td>\n      <td>3.067136</td>\n      <td>0.0</td>\n      <td>1.0</td>\n      <td>3.0</td>\n      <td>6.0</td>\n      <td>10.0</td>\n    </tr>\n    <tr>\n      <th>OCD</th>\n      <td>714.0</td>\n      <td>2.638655</td>\n      <td>2.838642</td>\n      <td>0.0</td>\n      <td>0.0</td>\n      <td>2.0</td>\n      <td>5.0</td>\n      <td>10.0</td>\n    </tr>\n  </tbody>\n</table>\n</div>"
     },
     "execution_count": 93,
     "metadata": {},
     "output_type": "execute_result"
    }
   ],
   "source": [
    "data.describe().T"
   ],
   "metadata": {
    "collapsed": false,
    "ExecuteTime": {
     "end_time": "2023-10-25T15:19:10.589117700Z",
     "start_time": "2023-10-25T15:19:10.565437600Z"
    }
   }
  },
  {
   "cell_type": "markdown",
   "source": [
    "Removed not needed Column"
   ],
   "metadata": {
    "collapsed": false
   }
  },
  {
   "cell_type": "code",
   "execution_count": 94,
   "outputs": [],
   "source": [
    "data.drop(['Timestamp','Permissions'], axis = 1, inplace = True)"
   ],
   "metadata": {
    "collapsed": false,
    "ExecuteTime": {
     "end_time": "2023-10-25T15:19:10.922225200Z",
     "start_time": "2023-10-25T15:19:10.897057400Z"
    }
   }
  },
  {
   "cell_type": "code",
   "execution_count": 95,
   "outputs": [
    {
     "data": {
      "text/plain": "      Age Primary streaming service  Hours per day While working  \\\n0    18.0                   Spotify            3.0           Yes   \n1    63.0                   Pandora            1.5           Yes   \n2    18.0                   Spotify            4.0            No   \n3    61.0             YouTube Music            2.5           Yes   \n4    18.0                   Spotify            4.0           Yes   \n..    ...                       ...            ...           ...   \n731  17.0                   Spotify            2.0           Yes   \n732  18.0                   Spotify            1.0           Yes   \n733  19.0   Other streaming service            6.0           Yes   \n734  19.0                   Spotify            5.0           Yes   \n735  29.0             YouTube Music            2.0           Yes   \n\n    Instrumentalist Composer         Fav genre Exploratory Foreign languages  \\\n0               Yes      Yes             Latin         Yes               Yes   \n1                No       No              Rock         Yes                No   \n2                No       No  Video game music          No               Yes   \n3                No      Yes              Jazz         Yes               Yes   \n4                No       No               R&B         Yes                No   \n..              ...      ...               ...         ...               ...   \n731             Yes       No              Rock         Yes               Yes   \n732             Yes       No               Pop         Yes               Yes   \n733              No      Yes               Rap         Yes                No   \n734             Yes       No         Classical          No                No   \n735              No       No           Hip hop         Yes               Yes   \n\n       BPM  ...  Frequency [Pop]  Frequency [R&B]  Frequency [Rap]  \\\n0    156.0  ...  Very frequently        Sometimes  Very frequently   \n1    119.0  ...        Sometimes        Sometimes           Rarely   \n2    132.0  ...           Rarely            Never           Rarely   \n3     84.0  ...        Sometimes        Sometimes            Never   \n4    107.0  ...        Sometimes  Very frequently  Very frequently   \n..     ...  ...              ...              ...              ...   \n731  120.0  ...  Very frequently            Never           Rarely   \n732  160.0  ...  Very frequently            Never            Never   \n733  120.0  ...        Sometimes        Sometimes        Sometimes   \n734  170.0  ...            Never            Never            Never   \n735   98.0  ...        Sometimes  Very frequently  Very frequently   \n\n    Frequency [Rock] Frequency [Video game music] Anxiety Depression Insomnia  \\\n0              Never                    Sometimes     3.0        0.0      1.0   \n1    Very frequently                       Rarely     7.0        2.0      2.0   \n2             Rarely              Very frequently     7.0        7.0     10.0   \n3              Never                        Never     9.0        7.0      3.0   \n4              Never                       Rarely     7.0        2.0      5.0   \n..               ...                          ...     ...        ...      ...   \n731  Very frequently                        Never     7.0        6.0      0.0   \n732        Sometimes                    Sometimes     3.0        2.0      2.0   \n733           Rarely                       Rarely     2.0        2.0      2.0   \n734            Never                    Sometimes     2.0        3.0      2.0   \n735  Very frequently                       Rarely     2.0        2.0      2.0   \n\n     OCD Music effects  \n0    0.0           NaN  \n1    1.0           NaN  \n2    2.0     No effect  \n3    3.0       Improve  \n4    9.0       Improve  \n..   ...           ...  \n731  9.0       Improve  \n732  5.0       Improve  \n733  2.0       Improve  \n734  1.0       Improve  \n735  5.0       Improve  \n\n[714 rows x 31 columns]",
      "text/html": "<div>\n<style scoped>\n    .dataframe tbody tr th:only-of-type {\n        vertical-align: middle;\n    }\n\n    .dataframe tbody tr th {\n        vertical-align: top;\n    }\n\n    .dataframe thead th {\n        text-align: right;\n    }\n</style>\n<table border=\"1\" class=\"dataframe\">\n  <thead>\n    <tr style=\"text-align: right;\">\n      <th></th>\n      <th>Age</th>\n      <th>Primary streaming service</th>\n      <th>Hours per day</th>\n      <th>While working</th>\n      <th>Instrumentalist</th>\n      <th>Composer</th>\n      <th>Fav genre</th>\n      <th>Exploratory</th>\n      <th>Foreign languages</th>\n      <th>BPM</th>\n      <th>...</th>\n      <th>Frequency [Pop]</th>\n      <th>Frequency [R&amp;B]</th>\n      <th>Frequency [Rap]</th>\n      <th>Frequency [Rock]</th>\n      <th>Frequency [Video game music]</th>\n      <th>Anxiety</th>\n      <th>Depression</th>\n      <th>Insomnia</th>\n      <th>OCD</th>\n      <th>Music effects</th>\n    </tr>\n  </thead>\n  <tbody>\n    <tr>\n      <th>0</th>\n      <td>18.0</td>\n      <td>Spotify</td>\n      <td>3.0</td>\n      <td>Yes</td>\n      <td>Yes</td>\n      <td>Yes</td>\n      <td>Latin</td>\n      <td>Yes</td>\n      <td>Yes</td>\n      <td>156.0</td>\n      <td>...</td>\n      <td>Very frequently</td>\n      <td>Sometimes</td>\n      <td>Very frequently</td>\n      <td>Never</td>\n      <td>Sometimes</td>\n      <td>3.0</td>\n      <td>0.0</td>\n      <td>1.0</td>\n      <td>0.0</td>\n      <td>NaN</td>\n    </tr>\n    <tr>\n      <th>1</th>\n      <td>63.0</td>\n      <td>Pandora</td>\n      <td>1.5</td>\n      <td>Yes</td>\n      <td>No</td>\n      <td>No</td>\n      <td>Rock</td>\n      <td>Yes</td>\n      <td>No</td>\n      <td>119.0</td>\n      <td>...</td>\n      <td>Sometimes</td>\n      <td>Sometimes</td>\n      <td>Rarely</td>\n      <td>Very frequently</td>\n      <td>Rarely</td>\n      <td>7.0</td>\n      <td>2.0</td>\n      <td>2.0</td>\n      <td>1.0</td>\n      <td>NaN</td>\n    </tr>\n    <tr>\n      <th>2</th>\n      <td>18.0</td>\n      <td>Spotify</td>\n      <td>4.0</td>\n      <td>No</td>\n      <td>No</td>\n      <td>No</td>\n      <td>Video game music</td>\n      <td>No</td>\n      <td>Yes</td>\n      <td>132.0</td>\n      <td>...</td>\n      <td>Rarely</td>\n      <td>Never</td>\n      <td>Rarely</td>\n      <td>Rarely</td>\n      <td>Very frequently</td>\n      <td>7.0</td>\n      <td>7.0</td>\n      <td>10.0</td>\n      <td>2.0</td>\n      <td>No effect</td>\n    </tr>\n    <tr>\n      <th>3</th>\n      <td>61.0</td>\n      <td>YouTube Music</td>\n      <td>2.5</td>\n      <td>Yes</td>\n      <td>No</td>\n      <td>Yes</td>\n      <td>Jazz</td>\n      <td>Yes</td>\n      <td>Yes</td>\n      <td>84.0</td>\n      <td>...</td>\n      <td>Sometimes</td>\n      <td>Sometimes</td>\n      <td>Never</td>\n      <td>Never</td>\n      <td>Never</td>\n      <td>9.0</td>\n      <td>7.0</td>\n      <td>3.0</td>\n      <td>3.0</td>\n      <td>Improve</td>\n    </tr>\n    <tr>\n      <th>4</th>\n      <td>18.0</td>\n      <td>Spotify</td>\n      <td>4.0</td>\n      <td>Yes</td>\n      <td>No</td>\n      <td>No</td>\n      <td>R&amp;B</td>\n      <td>Yes</td>\n      <td>No</td>\n      <td>107.0</td>\n      <td>...</td>\n      <td>Sometimes</td>\n      <td>Very frequently</td>\n      <td>Very frequently</td>\n      <td>Never</td>\n      <td>Rarely</td>\n      <td>7.0</td>\n      <td>2.0</td>\n      <td>5.0</td>\n      <td>9.0</td>\n      <td>Improve</td>\n    </tr>\n    <tr>\n      <th>...</th>\n      <td>...</td>\n      <td>...</td>\n      <td>...</td>\n      <td>...</td>\n      <td>...</td>\n      <td>...</td>\n      <td>...</td>\n      <td>...</td>\n      <td>...</td>\n      <td>...</td>\n      <td>...</td>\n      <td>...</td>\n      <td>...</td>\n      <td>...</td>\n      <td>...</td>\n      <td>...</td>\n      <td>...</td>\n      <td>...</td>\n      <td>...</td>\n      <td>...</td>\n      <td>...</td>\n    </tr>\n    <tr>\n      <th>731</th>\n      <td>17.0</td>\n      <td>Spotify</td>\n      <td>2.0</td>\n      <td>Yes</td>\n      <td>Yes</td>\n      <td>No</td>\n      <td>Rock</td>\n      <td>Yes</td>\n      <td>Yes</td>\n      <td>120.0</td>\n      <td>...</td>\n      <td>Very frequently</td>\n      <td>Never</td>\n      <td>Rarely</td>\n      <td>Very frequently</td>\n      <td>Never</td>\n      <td>7.0</td>\n      <td>6.0</td>\n      <td>0.0</td>\n      <td>9.0</td>\n      <td>Improve</td>\n    </tr>\n    <tr>\n      <th>732</th>\n      <td>18.0</td>\n      <td>Spotify</td>\n      <td>1.0</td>\n      <td>Yes</td>\n      <td>Yes</td>\n      <td>No</td>\n      <td>Pop</td>\n      <td>Yes</td>\n      <td>Yes</td>\n      <td>160.0</td>\n      <td>...</td>\n      <td>Very frequently</td>\n      <td>Never</td>\n      <td>Never</td>\n      <td>Sometimes</td>\n      <td>Sometimes</td>\n      <td>3.0</td>\n      <td>2.0</td>\n      <td>2.0</td>\n      <td>5.0</td>\n      <td>Improve</td>\n    </tr>\n    <tr>\n      <th>733</th>\n      <td>19.0</td>\n      <td>Other streaming service</td>\n      <td>6.0</td>\n      <td>Yes</td>\n      <td>No</td>\n      <td>Yes</td>\n      <td>Rap</td>\n      <td>Yes</td>\n      <td>No</td>\n      <td>120.0</td>\n      <td>...</td>\n      <td>Sometimes</td>\n      <td>Sometimes</td>\n      <td>Sometimes</td>\n      <td>Rarely</td>\n      <td>Rarely</td>\n      <td>2.0</td>\n      <td>2.0</td>\n      <td>2.0</td>\n      <td>2.0</td>\n      <td>Improve</td>\n    </tr>\n    <tr>\n      <th>734</th>\n      <td>19.0</td>\n      <td>Spotify</td>\n      <td>5.0</td>\n      <td>Yes</td>\n      <td>Yes</td>\n      <td>No</td>\n      <td>Classical</td>\n      <td>No</td>\n      <td>No</td>\n      <td>170.0</td>\n      <td>...</td>\n      <td>Never</td>\n      <td>Never</td>\n      <td>Never</td>\n      <td>Never</td>\n      <td>Sometimes</td>\n      <td>2.0</td>\n      <td>3.0</td>\n      <td>2.0</td>\n      <td>1.0</td>\n      <td>Improve</td>\n    </tr>\n    <tr>\n      <th>735</th>\n      <td>29.0</td>\n      <td>YouTube Music</td>\n      <td>2.0</td>\n      <td>Yes</td>\n      <td>No</td>\n      <td>No</td>\n      <td>Hip hop</td>\n      <td>Yes</td>\n      <td>Yes</td>\n      <td>98.0</td>\n      <td>...</td>\n      <td>Sometimes</td>\n      <td>Very frequently</td>\n      <td>Very frequently</td>\n      <td>Very frequently</td>\n      <td>Rarely</td>\n      <td>2.0</td>\n      <td>2.0</td>\n      <td>2.0</td>\n      <td>5.0</td>\n      <td>Improve</td>\n    </tr>\n  </tbody>\n</table>\n<p>714 rows × 31 columns</p>\n</div>"
     },
     "execution_count": 95,
     "metadata": {},
     "output_type": "execute_result"
    }
   ],
   "source": [
    "data"
   ],
   "metadata": {
    "collapsed": false,
    "ExecuteTime": {
     "end_time": "2023-10-25T15:19:11.609694800Z",
     "start_time": "2023-10-25T15:19:11.569393700Z"
    }
   }
  },
  {
   "cell_type": "markdown",
   "source": [
    "### 5. Correlation Check"
   ],
   "metadata": {
    "collapsed": false
   }
  },
  {
   "cell_type": "code",
   "execution_count": 100,
   "outputs": [
    {
     "ename": "ValueError",
     "evalue": "could not convert string to float: 'Spotify'",
     "output_type": "error",
     "traceback": [
      "\u001B[1;31m---------------------------------------------------------------------------\u001B[0m",
      "\u001B[1;31mValueError\u001B[0m                                Traceback (most recent call last)",
      "Cell \u001B[1;32mIn[100], line 1\u001B[0m\n\u001B[1;32m----> 1\u001B[0m corr_data \u001B[38;5;241m=\u001B[39m \u001B[43mdata\u001B[49m\u001B[38;5;241;43m.\u001B[39;49m\u001B[43mcorr\u001B[49m\u001B[43m(\u001B[49m\u001B[43m)\u001B[49m[\u001B[38;5;124m'\u001B[39m\u001B[38;5;124mAge\u001B[39m\u001B[38;5;124m'\u001B[39m]\n\u001B[0;32m      2\u001B[0m corr_data\u001B[38;5;241m.\u001B[39msort_values()\n",
      "File \u001B[1;32m~\\AppData\\Local\\Programs\\Python\\Python311\\Lib\\site-packages\\pandas\\core\\frame.py:10707\u001B[0m, in \u001B[0;36mDataFrame.corr\u001B[1;34m(self, method, min_periods, numeric_only)\u001B[0m\n\u001B[0;32m  10705\u001B[0m cols \u001B[38;5;241m=\u001B[39m data\u001B[38;5;241m.\u001B[39mcolumns\n\u001B[0;32m  10706\u001B[0m idx \u001B[38;5;241m=\u001B[39m cols\u001B[38;5;241m.\u001B[39mcopy()\n\u001B[1;32m> 10707\u001B[0m mat \u001B[38;5;241m=\u001B[39m \u001B[43mdata\u001B[49m\u001B[38;5;241;43m.\u001B[39;49m\u001B[43mto_numpy\u001B[49m\u001B[43m(\u001B[49m\u001B[43mdtype\u001B[49m\u001B[38;5;241;43m=\u001B[39;49m\u001B[38;5;28;43mfloat\u001B[39;49m\u001B[43m,\u001B[49m\u001B[43m \u001B[49m\u001B[43mna_value\u001B[49m\u001B[38;5;241;43m=\u001B[39;49m\u001B[43mnp\u001B[49m\u001B[38;5;241;43m.\u001B[39;49m\u001B[43mnan\u001B[49m\u001B[43m,\u001B[49m\u001B[43m \u001B[49m\u001B[43mcopy\u001B[49m\u001B[38;5;241;43m=\u001B[39;49m\u001B[38;5;28;43;01mFalse\u001B[39;49;00m\u001B[43m)\u001B[49m\n\u001B[0;32m  10709\u001B[0m \u001B[38;5;28;01mif\u001B[39;00m method \u001B[38;5;241m==\u001B[39m \u001B[38;5;124m\"\u001B[39m\u001B[38;5;124mpearson\u001B[39m\u001B[38;5;124m\"\u001B[39m:\n\u001B[0;32m  10710\u001B[0m     correl \u001B[38;5;241m=\u001B[39m libalgos\u001B[38;5;241m.\u001B[39mnancorr(mat, minp\u001B[38;5;241m=\u001B[39mmin_periods)\n",
      "File \u001B[1;32m~\\AppData\\Local\\Programs\\Python\\Python311\\Lib\\site-packages\\pandas\\core\\frame.py:1892\u001B[0m, in \u001B[0;36mDataFrame.to_numpy\u001B[1;34m(self, dtype, copy, na_value)\u001B[0m\n\u001B[0;32m   1890\u001B[0m \u001B[38;5;28;01mif\u001B[39;00m dtype \u001B[38;5;129;01mis\u001B[39;00m \u001B[38;5;129;01mnot\u001B[39;00m \u001B[38;5;28;01mNone\u001B[39;00m:\n\u001B[0;32m   1891\u001B[0m     dtype \u001B[38;5;241m=\u001B[39m np\u001B[38;5;241m.\u001B[39mdtype(dtype)\n\u001B[1;32m-> 1892\u001B[0m result \u001B[38;5;241m=\u001B[39m \u001B[38;5;28;43mself\u001B[39;49m\u001B[38;5;241;43m.\u001B[39;49m\u001B[43m_mgr\u001B[49m\u001B[38;5;241;43m.\u001B[39;49m\u001B[43mas_array\u001B[49m\u001B[43m(\u001B[49m\u001B[43mdtype\u001B[49m\u001B[38;5;241;43m=\u001B[39;49m\u001B[43mdtype\u001B[49m\u001B[43m,\u001B[49m\u001B[43m \u001B[49m\u001B[43mcopy\u001B[49m\u001B[38;5;241;43m=\u001B[39;49m\u001B[43mcopy\u001B[49m\u001B[43m,\u001B[49m\u001B[43m \u001B[49m\u001B[43mna_value\u001B[49m\u001B[38;5;241;43m=\u001B[39;49m\u001B[43mna_value\u001B[49m\u001B[43m)\u001B[49m\n\u001B[0;32m   1893\u001B[0m \u001B[38;5;28;01mif\u001B[39;00m result\u001B[38;5;241m.\u001B[39mdtype \u001B[38;5;129;01mis\u001B[39;00m \u001B[38;5;129;01mnot\u001B[39;00m dtype:\n\u001B[0;32m   1894\u001B[0m     result \u001B[38;5;241m=\u001B[39m np\u001B[38;5;241m.\u001B[39marray(result, dtype\u001B[38;5;241m=\u001B[39mdtype, copy\u001B[38;5;241m=\u001B[39m\u001B[38;5;28;01mFalse\u001B[39;00m)\n",
      "File \u001B[1;32m~\\AppData\\Local\\Programs\\Python\\Python311\\Lib\\site-packages\\pandas\\core\\internals\\managers.py:1656\u001B[0m, in \u001B[0;36mBlockManager.as_array\u001B[1;34m(self, dtype, copy, na_value)\u001B[0m\n\u001B[0;32m   1654\u001B[0m         arr\u001B[38;5;241m.\u001B[39mflags\u001B[38;5;241m.\u001B[39mwriteable \u001B[38;5;241m=\u001B[39m \u001B[38;5;28;01mFalse\u001B[39;00m\n\u001B[0;32m   1655\u001B[0m \u001B[38;5;28;01melse\u001B[39;00m:\n\u001B[1;32m-> 1656\u001B[0m     arr \u001B[38;5;241m=\u001B[39m \u001B[38;5;28;43mself\u001B[39;49m\u001B[38;5;241;43m.\u001B[39;49m\u001B[43m_interleave\u001B[49m\u001B[43m(\u001B[49m\u001B[43mdtype\u001B[49m\u001B[38;5;241;43m=\u001B[39;49m\u001B[43mdtype\u001B[49m\u001B[43m,\u001B[49m\u001B[43m \u001B[49m\u001B[43mna_value\u001B[49m\u001B[38;5;241;43m=\u001B[39;49m\u001B[43mna_value\u001B[49m\u001B[43m)\u001B[49m\n\u001B[0;32m   1657\u001B[0m     \u001B[38;5;66;03m# The underlying data was copied within _interleave, so no need\u001B[39;00m\n\u001B[0;32m   1658\u001B[0m     \u001B[38;5;66;03m# to further copy if copy=True or setting na_value\u001B[39;00m\n\u001B[0;32m   1660\u001B[0m \u001B[38;5;28;01mif\u001B[39;00m na_value \u001B[38;5;129;01mis\u001B[39;00m lib\u001B[38;5;241m.\u001B[39mno_default:\n",
      "File \u001B[1;32m~\\AppData\\Local\\Programs\\Python\\Python311\\Lib\\site-packages\\pandas\\core\\internals\\managers.py:1715\u001B[0m, in \u001B[0;36mBlockManager._interleave\u001B[1;34m(self, dtype, na_value)\u001B[0m\n\u001B[0;32m   1713\u001B[0m     \u001B[38;5;28;01melse\u001B[39;00m:\n\u001B[0;32m   1714\u001B[0m         arr \u001B[38;5;241m=\u001B[39m blk\u001B[38;5;241m.\u001B[39mget_values(dtype)\n\u001B[1;32m-> 1715\u001B[0m     \u001B[43mresult\u001B[49m\u001B[43m[\u001B[49m\u001B[43mrl\u001B[49m\u001B[38;5;241;43m.\u001B[39;49m\u001B[43mindexer\u001B[49m\u001B[43m]\u001B[49m \u001B[38;5;241m=\u001B[39m arr\n\u001B[0;32m   1716\u001B[0m     itemmask[rl\u001B[38;5;241m.\u001B[39mindexer] \u001B[38;5;241m=\u001B[39m \u001B[38;5;241m1\u001B[39m\n\u001B[0;32m   1718\u001B[0m \u001B[38;5;28;01mif\u001B[39;00m \u001B[38;5;129;01mnot\u001B[39;00m itemmask\u001B[38;5;241m.\u001B[39mall():\n",
      "\u001B[1;31mValueError\u001B[0m: could not convert string to float: 'Spotify'"
     ]
    }
   ],
   "source": [
    "corr_data = data.corr()['Age']\n",
    "corr_data.sort_values()"
   ],
   "metadata": {
    "collapsed": false,
    "ExecuteTime": {
     "end_time": "2023-10-25T15:37:38.124196900Z",
     "start_time": "2023-10-25T15:37:38.062306300Z"
    }
   }
  },
  {
   "cell_type": "code",
   "execution_count": null,
   "outputs": [],
   "source": [],
   "metadata": {
    "collapsed": false
   }
  }
 ],
 "metadata": {
  "colab": {
   "include_colab_link": true,
   "provenance": []
  },
  "kernelspec": {
   "display_name": "Python 3 (ipykernel)",
   "language": "python",
   "name": "python3"
  },
  "language_info": {
   "codemirror_mode": {
    "name": "ipython",
    "version": 3
   },
   "file_extension": ".py",
   "mimetype": "text/x-python",
   "name": "python",
   "nbconvert_exporter": "python",
   "pygments_lexer": "ipython3",
   "version": "3.11.2"
  }
 },
 "nbformat": 4,
 "nbformat_minor": 4
}
