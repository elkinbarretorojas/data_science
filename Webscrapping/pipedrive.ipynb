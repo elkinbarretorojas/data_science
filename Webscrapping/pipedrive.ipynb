{
 "cells": [
  {
   "cell_type": "code",
   "execution_count": 1,
   "id": "initial_id",
   "metadata": {
    "collapsed": true,
    "ExecuteTime": {
     "end_time": "2024-01-24T13:58:00.578235500Z",
     "start_time": "2024-01-24T13:58:00.473654900Z"
    }
   },
   "outputs": [],
   "source": [
    "import requests\n",
    "import pandas as pd\n",
    "from IPython.display import display\n",
    "import numpy as np\n",
    "import json\n",
    "from pandas import json_normalize"
   ]
  },
  {
   "cell_type": "code",
   "execution_count": 2,
   "outputs": [],
   "source": [
    "# Replace 'YOUR_API_TOKEN' with your Pipedrive API token\n",
    "api_token = '2be723d875edae489bdce028746e35bef6e3db80'\n",
    "\n",
    "# Base URL for the Pipedrive leads endpoint\n",
    "base_url = 'https://zappyrent.pipedrive.com/v1/deals'\n",
    "\n",
    "# Common request parameters (including your API token)\n",
    "common_params = {\n",
    "    'api_token': api_token,\n",
    "    'start': 0,       # The first page index\n",
    "    'limit': 500,     # The number of records per page\n",
    "}"
   ],
   "metadata": {
    "collapsed": false,
    "ExecuteTime": {
     "end_time": "2024-01-24T13:58:02.469388300Z",
     "start_time": "2024-01-24T13:58:02.421638500Z"
    }
   },
   "id": "a02366f2e903f299"
  },
  {
   "cell_type": "code",
   "execution_count": 3,
   "outputs": [],
   "source": [
    "# Initialize a list to store all records\n",
    "all_leads = []\n",
    "\n",
    "while True:\n",
    "    # Make a GET request to fetch leads\n",
    "    response = requests.get(base_url, params=common_params)\n",
    "\n",
    "    # Check if the request was successful (status code 200)\n",
    "    if response.status_code == 200:\n",
    "        data = response.json()\n",
    "        leads = data['data']\n",
    "\n",
    "        # Add leads to the main list\n",
    "        all_leads.extend(leads)\n",
    "\n",
    "        # Check if there are more pages to be fetched\n",
    "        pagination_info = data['additional_data']['pagination']\n",
    "        if not pagination_info['more_items_in_collection']:\n",
    "            break\n",
    "\n",
    "        # Update the 'start' value for the next page\n",
    "        common_params['start'] += common_params['limit']\n",
    "    else:\n",
    "        print(f\"Request error: {response.status_code} - {response.text}\")\n",
    "        break"
   ],
   "metadata": {
    "collapsed": false,
    "ExecuteTime": {
     "end_time": "2024-01-24T13:58:28.128217400Z",
     "start_time": "2024-01-24T13:58:04.120795800Z"
    }
   },
   "id": "7adccf8d78b4cfbb"
  },
  {
   "cell_type": "code",
   "execution_count": 4,
   "outputs": [
    {
     "name": "stdout",
     "output_type": "stream",
     "text": [
      "Total deals found: 19602\n"
     ]
    }
   ],
   "source": [
    "# 'all_leads' now contains all leads in list format\n",
    "df = json_normalize(all_leads)\n",
    "df.to_csv(r'C:\\Other test\\Webscrapping\\deals.txt',sep='\\t',encoding='utf-8')\n",
    "print(f\"Total deals found: {len(all_leads)}\")"
   ],
   "metadata": {
    "collapsed": false,
    "ExecuteTime": {
     "end_time": "2024-01-24T13:58:53.265697900Z",
     "start_time": "2024-01-24T13:58:49.479800Z"
    }
   },
   "id": "e23b9145ab7923f9"
  }
 ],
 "metadata": {
  "kernelspec": {
   "display_name": "Python 3",
   "language": "python",
   "name": "python3"
  },
  "language_info": {
   "codemirror_mode": {
    "name": "ipython",
    "version": 2
   },
   "file_extension": ".py",
   "mimetype": "text/x-python",
   "name": "python",
   "nbconvert_exporter": "python",
   "pygments_lexer": "ipython2",
   "version": "2.7.6"
  }
 },
 "nbformat": 4,
 "nbformat_minor": 5
}
