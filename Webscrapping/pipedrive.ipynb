{
 "cells": [
  {
   "cell_type": "code",
   "execution_count": 1,
   "id": "initial_id",
   "metadata": {
    "collapsed": true,
    "ExecuteTime": {
     "end_time": "2024-01-24T15:31:03.402978400Z",
     "start_time": "2024-01-24T15:31:00.311273200Z"
    }
   },
   "outputs": [],
   "source": [
    "import requests\n",
    "import pandas as pd\n",
    "from IPython.display import display\n",
    "import numpy as np\n",
    "import json\n",
    "from pandas import json_normalize"
   ]
  },
  {
   "cell_type": "code",
   "execution_count": 2,
   "outputs": [],
   "source": [
    "# Replace 'YOUR_API_TOKEN' with your Pipedrive API token\n",
    "api_token = '2be723d875edae489bdce028746e35bef6e3db80'\n",
    "\n",
    "# Base URL for the Pipedrive leads endpoint\n",
    "base_url = 'https://zappyrent.pipedrive.com/v1/leads'\n",
    "\n",
    "# Common request parameters (including your API token)\n",
    "common_params = {\n",
    "    'api_token': api_token,\n",
    "    'start': 0,       # The first page index\n",
    "    'limit': 500,     # The number of records per page\n",
    "}"
   ],
   "metadata": {
    "collapsed": false,
    "ExecuteTime": {
     "end_time": "2024-01-24T15:31:03.472316500Z",
     "start_time": "2024-01-24T15:31:03.417453400Z"
    }
   },
   "id": "a02366f2e903f299"
  },
  {
   "cell_type": "code",
   "execution_count": 3,
   "outputs": [],
   "source": [
    "# Initialize a list to store all records\n",
    "all_leads = []\n",
    "\n",
    "while True:\n",
    "    # Make a GET request to fetch leads\n",
    "    response = requests.get(base_url, params=common_params)\n",
    "\n",
    "    # Check if the request was successful (status code 200)\n",
    "    if response.status_code == 200:\n",
    "        data = response.json()\n",
    "        leads = data['data']\n",
    "\n",
    "        # Add leads to the main list\n",
    "        all_leads.extend(leads)\n",
    "\n",
    "        # Check if there are more pages to be fetched\n",
    "        pagination_info = data['additional_data']['pagination']\n",
    "        if not pagination_info['more_items_in_collection']:\n",
    "            break\n",
    "\n",
    "        # Update the 'start' value for the next page\n",
    "        common_params['start'] += common_params['limit']\n",
    "    else:\n",
    "        print(f\"Request error: {response.status_code} - {response.text}\")\n",
    "        break"
   ],
   "metadata": {
    "collapsed": false,
    "ExecuteTime": {
     "end_time": "2024-01-24T15:38:44.569162200Z",
     "start_time": "2024-01-24T15:31:03.430426600Z"
    }
   },
   "id": "7adccf8d78b4cfbb"
  },
  {
   "cell_type": "code",
   "execution_count": 4,
   "outputs": [
    {
     "name": "stdout",
     "output_type": "stream",
     "text": [
      "Total leads found: 140861\n"
     ]
    }
   ],
   "source": [
    "# 'all_leads' now contains all leads in list format\n",
    "df = json_normalize(all_leads)\n",
    "df.to_csv(r'C:\\Other test\\Webscrapping\\leads.txt',sep='\\t',encoding='utf-8')\n",
    "print(f\"Total leads found: {len(all_leads)}\")"
   ],
   "metadata": {
    "collapsed": false,
    "ExecuteTime": {
     "end_time": "2024-01-24T15:38:54.020963700Z",
     "start_time": "2024-01-24T15:38:44.666900300Z"
    }
   },
   "id": "e23b9145ab7923f9"
  },
  {
   "cell_type": "markdown",
   "source": [
    "## DEALS"
   ],
   "metadata": {
    "collapsed": false
   },
   "id": "a8ab159b727722b3"
  },
  {
   "cell_type": "code",
   "execution_count": 5,
   "outputs": [],
   "source": [
    "# Replace 'YOUR_API_TOKEN' with your Pipedrive API token\n",
    "api_token = '2be723d875edae489bdce028746e35bef6e3db80'\n",
    "\n",
    "# Base URL for the Pipedrive leads endpoint\n",
    "base_url = 'https://zappyrent.pipedrive.com/v1/deals'\n",
    "\n",
    "# Common request parameters (including your API token)\n",
    "common_params = {\n",
    "    'api_token': api_token,\n",
    "    'start': 0,       # The first page index\n",
    "    'limit': 500,     # The number of records per page\n",
    "}"
   ],
   "metadata": {
    "collapsed": false,
    "ExecuteTime": {
     "end_time": "2024-01-24T15:38:54.059610800Z",
     "start_time": "2024-01-24T15:38:54.026186600Z"
    }
   },
   "id": "b4a637934f377eec"
  },
  {
   "cell_type": "code",
   "execution_count": 6,
   "outputs": [],
   "source": [
    "# Initialize a list to store all records\n",
    "all_leads = []\n",
    "\n",
    "while True:\n",
    "    # Make a GET request to fetch leads\n",
    "    response = requests.get(base_url, params=common_params)\n",
    "\n",
    "    # Check if the request was successful (status code 200)\n",
    "    if response.status_code == 200:\n",
    "        data = response.json()\n",
    "        leads = data['data']\n",
    "\n",
    "        # Add leads to the main list\n",
    "        all_leads.extend(leads)\n",
    "\n",
    "        # Check if there are more pages to be fetched\n",
    "        pagination_info = data['additional_data']['pagination']\n",
    "        if not pagination_info['more_items_in_collection']:\n",
    "            break\n",
    "\n",
    "        # Update the 'start' value for the next page\n",
    "        common_params['start'] += common_params['limit']\n",
    "    else:\n",
    "        print(f\"Request error: {response.status_code} - {response.text}\")\n",
    "        break\n"
   ],
   "metadata": {
    "collapsed": false,
    "ExecuteTime": {
     "end_time": "2024-01-24T15:39:17.587945900Z",
     "start_time": "2024-01-24T15:38:54.041659400Z"
    }
   },
   "id": "98a47c1e238d8dd5"
  },
  {
   "cell_type": "code",
   "execution_count": 7,
   "outputs": [
    {
     "name": "stdout",
     "output_type": "stream",
     "text": [
      "Total deals found: 19628\n"
     ]
    }
   ],
   "source": [
    "\n",
    "# 'all_leads' now contains all leads in list format\n",
    "df = json_normalize(all_leads)\n",
    "df.to_csv(r'C:\\Other test\\Webscrapping\\deals.txt',sep='\\t',encoding='utf-8')\n",
    "print(f\"Total deals found: {len(all_leads)}\")\n"
   ],
   "metadata": {
    "collapsed": false,
    "ExecuteTime": {
     "end_time": "2024-01-24T15:39:23.389863200Z",
     "start_time": "2024-01-24T15:39:17.595930400Z"
    }
   },
   "id": "3d6e098d59a219f2"
  },
  {
   "cell_type": "markdown",
   "source": [
    "##PERSONS"
   ],
   "metadata": {
    "collapsed": false
   },
   "id": "a6b3054fe29a44c"
  },
  {
   "cell_type": "code",
   "execution_count": 8,
   "outputs": [],
   "source": [
    "# Replace 'YOUR_API_TOKEN' with your Pipedrive API token\n",
    "api_token = '2be723d875edae489bdce028746e35bef6e3db80'\n",
    "\n",
    "# Base URL for the Pipedrive leads endpoint\n",
    "base_url = 'https://zappyrent.pipedrive.com/v1/persons'\n",
    "\n",
    "# Common request parameters (including your API token)\n",
    "common_params = {\n",
    "    'api_token': api_token,\n",
    "    'start': 0,       # The first page index\n",
    "    'limit': 500,     # The number of records per page\n",
    "}"
   ],
   "metadata": {
    "collapsed": false,
    "ExecuteTime": {
     "end_time": "2024-01-24T15:39:23.390863800Z",
     "start_time": "2024-01-24T15:39:23.387627200Z"
    }
   },
   "id": "3d625ca405e8c264"
  },
  {
   "cell_type": "code",
   "execution_count": 9,
   "outputs": [],
   "source": [
    "# Initialize a list to store all records\n",
    "all_leads = []\n",
    "\n",
    "while True:\n",
    "    # Make a GET request to fetch leads\n",
    "    response = requests.get(base_url, params=common_params)\n",
    "\n",
    "    # Check if the request was successful (status code 200)\n",
    "    if response.status_code == 200:\n",
    "        data = response.json()\n",
    "        leads = data['data']\n",
    "\n",
    "        # Add leads to the main list\n",
    "        all_leads.extend(leads)\n",
    "\n",
    "        # Check if there are more pages to be fetched\n",
    "        pagination_info = data['additional_data']['pagination']\n",
    "        if not pagination_info['more_items_in_collection']:\n",
    "            break\n",
    "\n",
    "        # Update the 'start' value for the next page\n",
    "        common_params['start'] += common_params['limit']\n",
    "    else:\n",
    "        print(f\"Request error: {response.status_code} - {response.text}\")\n",
    "        break\n"
   ],
   "metadata": {
    "collapsed": false,
    "ExecuteTime": {
     "end_time": "2024-01-24T15:44:57.424661100Z",
     "start_time": "2024-01-24T15:39:23.408968Z"
    }
   },
   "id": "501229827e441524"
  },
  {
   "cell_type": "code",
   "execution_count": 10,
   "outputs": [
    {
     "name": "stdout",
     "output_type": "stream",
     "text": [
      "Total persons found: 170771\n"
     ]
    }
   ],
   "source": [
    "# 'all_leads' now contains all leads in list format\n",
    "df = json_normalize(all_leads)\n",
    "df.to_csv(r'C:\\Other test\\Webscrapping\\persons.txt',sep='\\t',encoding='utf-8')\n",
    "print(f\"Total persons found: {len(all_leads)}\")"
   ],
   "metadata": {
    "collapsed": false,
    "ExecuteTime": {
     "end_time": "2024-01-24T15:45:23.980299700Z",
     "start_time": "2024-01-24T15:44:57.376726800Z"
    }
   },
   "id": "9163834decf21649"
  }
 ],
 "metadata": {
  "kernelspec": {
   "display_name": "Python 3",
   "language": "python",
   "name": "python3"
  },
  "language_info": {
   "codemirror_mode": {
    "name": "ipython",
    "version": 2
   },
   "file_extension": ".py",
   "mimetype": "text/x-python",
   "name": "python",
   "nbconvert_exporter": "python",
   "pygments_lexer": "ipython2",
   "version": "2.7.6"
  }
 },
 "nbformat": 4,
 "nbformat_minor": 5
}
