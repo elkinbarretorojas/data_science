{
 "cells": [
  {
   "cell_type": "markdown",
   "source": [
    "# Import the Necessary Libraries"
   ],
   "metadata": {
    "collapsed": false
   },
   "id": "9ce7854af68bb7df"
  },
  {
   "cell_type": "code",
   "outputs": [],
   "source": [
    "#IMPORT THE PANDAS AND NUMPY LIBRARIES\n",
    "import pandas as pd\n",
    "import numpy as np\n",
    "pd.options.display.float_format = '{:.2f}'.format\n",
    "import warnings\n",
    "warnings.filterwarnings('ignore')\n",
    "\n",
    "#IMPORT THE SCIKIT-LEARN LIBRARIES\n",
    "from sklearn.cluster import KMeans\n",
    "from sklearn.metrics import silhouette_score\n",
    "from mpl_toolkits.mplot3d import Axes3D\n",
    "from sklearn.preprocessing import MinMaxScaler,StandardScaler\n",
    "\n",
    "#IMPORT THE VISUALIZATION LIBRARIES\n",
    "import plotly.express as px\n",
    "import kaleido\n",
    "import matplotlib.pyplot as plt\n",
    "%matplotlib inline\n",
    "import seaborn as sns\n",
    "\n",
    "#IMPORT THE SQALCHEMY LIBRARY's CREATE_ENGINE METHOD\n",
    "import mysql.connector\n",
    "from mysql.connector import Error"
   ],
   "metadata": {
    "collapsed": false,
    "ExecuteTime": {
     "end_time": "2024-04-11T10:14:21.235719Z",
     "start_time": "2024-04-11T10:14:19.804828Z"
    }
   },
   "id": "750910e1db8f13eb",
   "execution_count": 1
  },
  {
   "cell_type": "markdown",
   "source": [
    "# Import data from MySQL DB"
   ],
   "metadata": {
    "collapsed": false
   },
   "id": "904c476ef34da892"
  },
  {
   "cell_type": "code",
   "outputs": [
    {
     "name": "stdout",
     "output_type": "stream",
     "text": [
      "Connected to MySQL database... MySQL Server version on  8.0.35\n",
      "MySQL connection is closed\n"
     ]
    }
   ],
   "source": [
    "try:\n",
    "    connection = mysql.connector.connect(host='scraper.cx53soegx3qk.eu-west-1.rds.amazonaws.com',\n",
    "                                         database='pipedrive',\n",
    "                                         user='pipedrive',\n",
    "                                         password='#8LsH25%ZD', use_pure=True)\n",
    "    if connection.is_connected():\n",
    "        db_Info = connection.get_server_info()\n",
    "        data = pd.read_sql('SELECT * FROM clustering', connection)\n",
    "        print(\"Connected to MySQL database... MySQL Server version on \", db_Info)\n",
    "except Error as e:\n",
    "    print(\"Error while connecting to MySQL\", e)\n",
    "finally:\n",
    "    if connection.is_connected():\n",
    "        connection.close()\n",
    "        print(\"MySQL connection is closed\")"
   ],
   "metadata": {
    "collapsed": false,
    "ExecuteTime": {
     "end_time": "2024-04-11T10:15:49.928288Z",
     "start_time": "2024-04-11T10:14:21.239732Z"
    }
   },
   "id": "bfb051eae11558d0",
   "execution_count": 2
  },
  {
   "cell_type": "markdown",
   "source": [
    "# Data Preprocessing"
   ],
   "metadata": {
    "collapsed": false
   },
   "id": "823309a71045de5f"
  },
  {
   "cell_type": "code",
   "outputs": [
    {
     "data": {
      "text/plain": "(4125075, 5)"
     },
     "execution_count": 3,
     "metadata": {},
     "output_type": "execute_result"
    }
   ],
   "source": [
    "#CHECK THE SHAPE OF THE DATAFRAME\n",
    "data.shape"
   ],
   "metadata": {
    "collapsed": false,
    "ExecuteTime": {
     "end_time": "2024-04-11T10:15:49.939469Z",
     "start_time": "2024-04-11T10:15:49.930298Z"
    }
   },
   "id": "3acd8b2242eaee77",
   "execution_count": 3
  },
  {
   "cell_type": "code",
   "outputs": [
    {
     "data": {
      "text/plain": "                                 id_intestati  \\\n0        dcad7eb8-a5d8-4eb2-9e75-3ff0b49dca02   \n1        c557abc4-799b-4bca-a919-4637410f7884   \n2        091aac50-96e4-4231-8d48-1e3c5b55a328   \n3        221e9517-dca2-4507-96f1-74cd44380744   \n4        1136dc3a-2321-4c46-ae2f-2167d2826d62   \n...                                       ...   \n4125070  90eddf85-75fd-4255-8767-3bd3add0bd31   \n4125071  690db6fa-15e0-4f08-9728-5d3e0d0c30b7   \n4125072  28f41fdb-a57a-4136-8ca2-db0b04372bb5   \n4125073  940a0090-038e-4a9e-90a8-3f4b41e3c151   \n4125074  d05e7761-6137-4049-9407-025a6aa1c109   \n\n                                                   codfisc     quota  \\\n0        _SOCIETA'_COOPERATIVA_RESPONSABILITA'_LIMITATA...       1/1   \n1                                   -_DELTA_PRIMA_-_S.R.L.             \n2                     -C.L.I.COMPAGNIA_LIGURE_INVESTIMENTI      None   \n3                                                   -CIMEP       1/1   \n4           -IMPRESA_SOC.COSTR.TRONI_OMILDE_E_FIGLI-S.N.C.      None   \n...                                                    ...       ...   \n4125070                                   ZZZVTR60S58L219E  500/1000   \n4125071                                   ZZZVTR76H25A509E       1/2   \n4125072                                   ZZZVTR94A02H501S     10/40   \n4125073                                   ZZZWLY27H50L273E       1/1   \n4125074                                   ZZZWTR82L23F205Z       1/1   \n\n                     titolarita  Total_IMM  \n0        Proprieta' per l'area           1  \n1                   Proprieta'           1  \n2                   Proprieta'           1  \n3        Proprieta' per l'area           1  \n4                                        2  \n...                         ...        ...  \n4125070             Proprieta'           3  \n4125071      Proprieta' per 1/2          7  \n4125072    Proprieta' per 10/40          1  \n4125073      Proprieta' per 1/1          1  \n4125074      Proprieta' per 1/1          5  \n\n[4125075 rows x 5 columns]",
      "text/html": "<div>\n<style scoped>\n    .dataframe tbody tr th:only-of-type {\n        vertical-align: middle;\n    }\n\n    .dataframe tbody tr th {\n        vertical-align: top;\n    }\n\n    .dataframe thead th {\n        text-align: right;\n    }\n</style>\n<table border=\"1\" class=\"dataframe\">\n  <thead>\n    <tr style=\"text-align: right;\">\n      <th></th>\n      <th>id_intestati</th>\n      <th>codfisc</th>\n      <th>quota</th>\n      <th>titolarita</th>\n      <th>Total_IMM</th>\n    </tr>\n  </thead>\n  <tbody>\n    <tr>\n      <th>0</th>\n      <td>dcad7eb8-a5d8-4eb2-9e75-3ff0b49dca02</td>\n      <td>_SOCIETA'_COOPERATIVA_RESPONSABILITA'_LIMITATA...</td>\n      <td>1/1</td>\n      <td>Proprieta' per l'area</td>\n      <td>1</td>\n    </tr>\n    <tr>\n      <th>1</th>\n      <td>c557abc4-799b-4bca-a919-4637410f7884</td>\n      <td>-_DELTA_PRIMA_-_S.R.L.</td>\n      <td></td>\n      <td>Proprieta'</td>\n      <td>1</td>\n    </tr>\n    <tr>\n      <th>2</th>\n      <td>091aac50-96e4-4231-8d48-1e3c5b55a328</td>\n      <td>-C.L.I.COMPAGNIA_LIGURE_INVESTIMENTI</td>\n      <td>None</td>\n      <td>Proprieta'</td>\n      <td>1</td>\n    </tr>\n    <tr>\n      <th>3</th>\n      <td>221e9517-dca2-4507-96f1-74cd44380744</td>\n      <td>-CIMEP</td>\n      <td>1/1</td>\n      <td>Proprieta' per l'area</td>\n      <td>1</td>\n    </tr>\n    <tr>\n      <th>4</th>\n      <td>1136dc3a-2321-4c46-ae2f-2167d2826d62</td>\n      <td>-IMPRESA_SOC.COSTR.TRONI_OMILDE_E_FIGLI-S.N.C.</td>\n      <td>None</td>\n      <td></td>\n      <td>2</td>\n    </tr>\n    <tr>\n      <th>...</th>\n      <td>...</td>\n      <td>...</td>\n      <td>...</td>\n      <td>...</td>\n      <td>...</td>\n    </tr>\n    <tr>\n      <th>4125070</th>\n      <td>90eddf85-75fd-4255-8767-3bd3add0bd31</td>\n      <td>ZZZVTR60S58L219E</td>\n      <td>500/1000</td>\n      <td>Proprieta'</td>\n      <td>3</td>\n    </tr>\n    <tr>\n      <th>4125071</th>\n      <td>690db6fa-15e0-4f08-9728-5d3e0d0c30b7</td>\n      <td>ZZZVTR76H25A509E</td>\n      <td>1/2</td>\n      <td>Proprieta' per 1/2</td>\n      <td>7</td>\n    </tr>\n    <tr>\n      <th>4125072</th>\n      <td>28f41fdb-a57a-4136-8ca2-db0b04372bb5</td>\n      <td>ZZZVTR94A02H501S</td>\n      <td>10/40</td>\n      <td>Proprieta' per 10/40</td>\n      <td>1</td>\n    </tr>\n    <tr>\n      <th>4125073</th>\n      <td>940a0090-038e-4a9e-90a8-3f4b41e3c151</td>\n      <td>ZZZWLY27H50L273E</td>\n      <td>1/1</td>\n      <td>Proprieta' per 1/1</td>\n      <td>1</td>\n    </tr>\n    <tr>\n      <th>4125074</th>\n      <td>d05e7761-6137-4049-9407-025a6aa1c109</td>\n      <td>ZZZWTR82L23F205Z</td>\n      <td>1/1</td>\n      <td>Proprieta' per 1/1</td>\n      <td>5</td>\n    </tr>\n  </tbody>\n</table>\n<p>4125075 rows × 5 columns</p>\n</div>"
     },
     "execution_count": 4,
     "metadata": {},
     "output_type": "execute_result"
    }
   ],
   "source": [
    "data"
   ],
   "metadata": {
    "collapsed": false,
    "ExecuteTime": {
     "end_time": "2024-04-11T10:15:49.971738Z",
     "start_time": "2024-04-11T10:15:49.941484Z"
    }
   },
   "id": "1a6fa05e173191ae",
   "execution_count": 4
  },
  {
   "cell_type": "markdown",
   "source": [
    "### Removing Duplicates"
   ],
   "metadata": {
    "collapsed": false
   },
   "id": "f1f3185c89353a19"
  },
  {
   "cell_type": "code",
   "outputs": [],
   "source": [
    "#Drop Duplicates Rows\n",
    "data.drop_duplicates(inplace=True)"
   ],
   "metadata": {
    "collapsed": false,
    "ExecuteTime": {
     "end_time": "2024-04-11T10:16:01.126582Z",
     "start_time": "2024-04-11T10:15:49.972750Z"
    }
   },
   "id": "ceb9c4627bbfbbc4",
   "execution_count": 5
  },
  {
   "cell_type": "markdown",
   "source": [
    "### Data Imputation"
   ],
   "metadata": {
    "collapsed": false
   },
   "id": "db74881fba96af30"
  },
  {
   "cell_type": "code",
   "outputs": [
    {
     "data": {
      "text/plain": "titolarita   0.10\nquota        6.78\ndtype: float64"
     },
     "execution_count": 6,
     "metadata": {},
     "output_type": "execute_result"
    }
   ],
   "source": [
    "#CHECK NULL VALUES\n",
    "null_values = data.isnull().sum() / len(data) * 100\n",
    "null_values[null_values > 0].sort_values(ascending=True)"
   ],
   "metadata": {
    "collapsed": false,
    "ExecuteTime": {
     "end_time": "2024-04-11T10:16:02.084928Z",
     "start_time": "2024-04-11T10:16:01.128592Z"
    }
   },
   "id": "9ead3041eaeb93fa",
   "execution_count": 6
  },
  {
   "cell_type": "code",
   "outputs": [
    {
     "data": {
      "text/plain": "id_intestati    object\ncodfisc         object\nquota           object\ntitolarita      object\nTotal_IMM        int64\ndtype: object"
     },
     "execution_count": 7,
     "metadata": {},
     "output_type": "execute_result"
    }
   ],
   "source": [
    "#CHECK THE DATA TYPES\n",
    "data.dtypes"
   ],
   "metadata": {
    "collapsed": false,
    "ExecuteTime": {
     "end_time": "2024-04-11T10:16:02.095420Z",
     "start_time": "2024-04-11T10:16:02.085939Z"
    }
   },
   "id": "9b4bd97bca509309",
   "execution_count": 7
  },
  {
   "cell_type": "markdown",
   "source": [
    "#### Quota Column"
   ],
   "metadata": {
    "collapsed": false
   },
   "id": "95e0d61fda49e66e"
  },
  {
   "cell_type": "code",
   "outputs": [],
   "source": [
    "#QUOTA. FILL THE NULL VALUES OF QUOTA WITH THE MODE VALUE\n",
    "data['quota'].fillna(data['quota'].mode()[0], inplace=True)\n",
    "data['quota'][data['quota'] == ''] = 0"
   ],
   "metadata": {
    "collapsed": false,
    "ExecuteTime": {
     "end_time": "2024-04-11T10:16:03.451772Z",
     "start_time": "2024-04-11T10:16:02.096430Z"
    }
   },
   "id": "c8040501f2e0cc40",
   "execution_count": 8
  },
  {
   "cell_type": "code",
   "outputs": [],
   "source": [
    "#Split Quota column from df dataframe into two columns by \"/\"\n",
    "data[['numerator','denominator']] = data['quota'].str.split(\"/\",expand=True)"
   ],
   "metadata": {
    "collapsed": false,
    "ExecuteTime": {
     "end_time": "2024-04-11T10:16:12.701676Z",
     "start_time": "2024-04-11T10:16:03.455791Z"
    }
   },
   "id": "c64f3fa0a5e6a310",
   "execution_count": 9
  },
  {
   "cell_type": "code",
   "outputs": [],
   "source": [
    "#Convert NaNs to a number (e.g., -1 or 0) or drop the rows with NaNs\n",
    "data['numerator'] = data['numerator'].fillna(0) \n",
    "#Where there is numerator values. Fill the missing values in the 'denominator' column with the values in the 'numerator' column\n",
    "data['denominator'][(data['denominator'].isnull())] = data['numerator'][(data['denominator'].isnull())]\n",
    "#Looking for the most frequent values in the column\n",
    "data.groupby('denominator')['denominator'].count().sort_values(ascending=False).head(50)\n",
    "data['denominator'][data['denominator'] == ''] = data['numerator'][data['denominator'] == '']"
   ],
   "metadata": {
    "collapsed": false,
    "ExecuteTime": {
     "end_time": "2024-04-11T10:16:15.358022Z",
     "start_time": "2024-04-11T10:16:12.709723Z"
    }
   },
   "id": "374221aa870ffc56",
   "execution_count": 10
  },
  {
   "cell_type": "code",
   "outputs": [],
   "source": [
    "#Create a column named 'division' with the ratio of 'numerator' and 'denominator'\n",
    "data['%Ownership'] = data['numerator'].astype(float) / data['denominator'].astype(float) \n",
    "#Fill na values of %Ownership column with 1.00\n",
    "data['%Ownership'].fillna(1.00, inplace=True)"
   ],
   "metadata": {
    "collapsed": false,
    "ExecuteTime": {
     "end_time": "2024-04-11T10:16:16.841258Z",
     "start_time": "2024-04-11T10:16:15.359020Z"
    }
   },
   "id": "57c15c9fcbc6dfad",
   "execution_count": 11
  },
  {
   "cell_type": "code",
   "outputs": [
    {
     "data": {
      "text/plain": "%Ownership\n1.00        2261631\n0.50        1215785\n0.17         113301\n0.33         106946\n0.25          81911\n             ...   \n0.05              1\n0.05              1\n0.05              1\n0.05              1\n17777.64          1\nName: %Ownership, Length: 10926, dtype: int64"
     },
     "execution_count": 12,
     "metadata": {},
     "output_type": "execute_result"
    }
   ],
   "source": [
    "data.groupby('%Ownership')['%Ownership'].count().sort_values(ascending=False)"
   ],
   "metadata": {
    "collapsed": false,
    "ExecuteTime": {
     "end_time": "2024-04-11T10:16:17.128248Z",
     "start_time": "2024-04-11T10:16:16.845286Z"
    }
   },
   "id": "4ba3047276fde5b4",
   "execution_count": 12
  },
  {
   "cell_type": "markdown",
   "source": [
    "#### Titolarita Column\n"
   ],
   "metadata": {
    "collapsed": false
   },
   "id": "8e6dfbdfc9956be0"
  },
  {
   "cell_type": "code",
   "outputs": [],
   "source": [
    "data['titolarita'].fillna(data['quota'].mode()[0], inplace=True)"
   ],
   "metadata": {
    "collapsed": false,
    "ExecuteTime": {
     "end_time": "2024-04-11T10:16:19.050054Z",
     "start_time": "2024-04-11T10:16:17.131267Z"
    }
   },
   "id": "2210ad9bea98440d",
   "execution_count": 13
  },
  {
   "cell_type": "code",
   "outputs": [],
   "source": [
    "data['titolarita'] = data['titolarita'].str.replace(\"'\", \"\")"
   ],
   "metadata": {
    "collapsed": false,
    "ExecuteTime": {
     "end_time": "2024-04-11T10:16:20.892787Z",
     "start_time": "2024-04-11T10:16:19.052065Z"
    }
   },
   "id": "fbf2b2147369f958",
   "execution_count": 14
  },
  {
   "cell_type": "code",
   "outputs": [
    {
     "data": {
      "text/plain": "titolarita\nProprieta                 1510067\nProprieta per 1/2          732004\nProprieta per 1/1          727074\nProprieta per 1/6           72402\nProprieta per 1/3           71889\n                           ...   \nProprieta per 499/999           1\nProprieta per 499/9000          1\nProprieta per 499/8000          1\nProprieta per 499/500           1\nz                               1\nName: titolarita, Length: 38836, dtype: int64"
     },
     "execution_count": 15,
     "metadata": {},
     "output_type": "execute_result"
    }
   ],
   "source": [
    "data.groupby('titolarita')['titolarita'].count().sort_values(ascending=False)"
   ],
   "metadata": {
    "collapsed": false,
    "ExecuteTime": {
     "end_time": "2024-04-11T10:16:22.210172Z",
     "start_time": "2024-04-11T10:16:20.894819Z"
    }
   },
   "id": "4318746fc1f1744e",
   "execution_count": 15
  },
  {
   "cell_type": "code",
   "outputs": [],
   "source": [
    "# DROP numerator, quota, denominator columns\n",
    "data.drop(['numerator','quota','denominator','id_intestati'], axis=1, inplace=True)"
   ],
   "metadata": {
    "collapsed": false,
    "ExecuteTime": {
     "end_time": "2024-04-11T10:16:23.671717Z",
     "start_time": "2024-04-11T10:16:22.216196Z"
    }
   },
   "id": "3260fa2dc5960ed9",
   "execution_count": 16
  },
  {
   "cell_type": "markdown",
   "source": [
    "### Check Outliers"
   ],
   "metadata": {
    "collapsed": false
   },
   "id": "6e5604d38afc5cdd"
  },
  {
   "cell_type": "code",
   "outputs": [
    {
     "data": {
      "text/plain": "<Figure size 640x480 with 1 Axes>",
      "image/png": "[encoded data removed]"
     },
     "metadata": {},
     "output_type": "display_data"
    }
   ],
   "source": [
    "# Boxplot visualization\n",
    "sns.boxplot(x=data['%Ownership'])\n",
    "plt.show()\n",
    "\n",
    "# IQR method\n",
    "Q1 = data['%Ownership'].quantile(0.25)\n",
    "Q3 = data['%Ownership'].quantile(0.75)\n",
    "IQR = Q3 - Q1\n",
    "\n",
    "lower_bound = Q1 - 1.5 * IQR\n",
    "upper_bound = Q3 + 1.5 * IQR"
   ],
   "metadata": {
    "collapsed": false,
    "ExecuteTime": {
     "end_time": "2024-04-11T10:16:24.465804Z",
     "start_time": "2024-04-11T10:16:23.675734Z"
    }
   },
   "id": "22114310a2cc21c4",
   "execution_count": 17
  },
  {
   "cell_type": "code",
   "outputs": [
    {
     "data": {
      "text/plain": "<Figure size 640x480 with 1 Axes>",
      "image/png": "[encoded data removed]"
     },
     "metadata": {},
     "output_type": "display_data"
    }
   ],
   "source": [
    "# Boxplot visualization\n",
    "sns.boxplot(x=data['Total_IMM'])\n",
    "plt.show()\n",
    "\n",
    "# IQR method\n",
    "Q1 = data['Total_IMM'].quantile(0.25)\n",
    "Q3 = data['Total_IMM'].quantile(0.75)\n",
    "IQR = Q3 - Q1\n",
    "\n",
    "lower_bound = Q1 - 1.5 * IQR\n",
    "upper_bound = Q3 + 1.5 * IQR"
   ],
   "metadata": {
    "collapsed": false,
    "ExecuteTime": {
     "end_time": "2024-04-11T10:16:25.501287Z",
     "start_time": "2024-04-11T10:16:24.468467Z"
    }
   },
   "id": "3011e10789719df5",
   "execution_count": 18
  },
  {
   "cell_type": "markdown",
   "source": [
    "### Descriptive Analysis"
   ],
   "metadata": {
    "collapsed": false
   },
   "id": "41761b52a8ae6701"
  },
  {
   "cell_type": "code",
   "outputs": [
    {
     "data": {
      "text/plain": "                                             codfisc            titolarita  \\\n0  _SOCIETA'_COOPERATIVA_RESPONSABILITA'_LIMITATA...  Proprieta per larea    \n1                             -_DELTA_PRIMA_-_S.R.L.            Proprieta    \n2               -C.L.I.COMPAGNIA_LIGURE_INVESTIMENTI            Proprieta    \n3                                             -CIMEP  Proprieta per larea    \n4     -IMPRESA_SOC.COSTR.TRONI_OMILDE_E_FIGLI-S.N.C.                         \n\n   Total_IMM  %Ownership  \n0          1        1.00  \n1          1        1.00  \n2          1        1.00  \n3          1        1.00  \n4          2        1.00  ",
      "text/html": "<div>\n<style scoped>\n    .dataframe tbody tr th:only-of-type {\n        vertical-align: middle;\n    }\n\n    .dataframe tbody tr th {\n        vertical-align: top;\n    }\n\n    .dataframe thead th {\n        text-align: right;\n    }\n</style>\n<table border=\"1\" class=\"dataframe\">\n  <thead>\n    <tr style=\"text-align: right;\">\n      <th></th>\n      <th>codfisc</th>\n      <th>titolarita</th>\n      <th>Total_IMM</th>\n      <th>%Ownership</th>\n    </tr>\n  </thead>\n  <tbody>\n    <tr>\n      <th>0</th>\n      <td>_SOCIETA'_COOPERATIVA_RESPONSABILITA'_LIMITATA...</td>\n      <td>Proprieta per larea</td>\n      <td>1</td>\n      <td>1.00</td>\n    </tr>\n    <tr>\n      <th>1</th>\n      <td>-_DELTA_PRIMA_-_S.R.L.</td>\n      <td>Proprieta</td>\n      <td>1</td>\n      <td>1.00</td>\n    </tr>\n    <tr>\n      <th>2</th>\n      <td>-C.L.I.COMPAGNIA_LIGURE_INVESTIMENTI</td>\n      <td>Proprieta</td>\n      <td>1</td>\n      <td>1.00</td>\n    </tr>\n    <tr>\n      <th>3</th>\n      <td>-CIMEP</td>\n      <td>Proprieta per larea</td>\n      <td>1</td>\n      <td>1.00</td>\n    </tr>\n    <tr>\n      <th>4</th>\n      <td>-IMPRESA_SOC.COSTR.TRONI_OMILDE_E_FIGLI-S.N.C.</td>\n      <td></td>\n      <td>2</td>\n      <td>1.00</td>\n    </tr>\n  </tbody>\n</table>\n</div>"
     },
     "execution_count": 19,
     "metadata": {},
     "output_type": "execute_result"
    }
   ],
   "source": [
    "#CHECK THE STATISTICAL SUMMARY OF THE DATAFRAME\n",
    "data.head()"
   ],
   "metadata": {
    "collapsed": false,
    "ExecuteTime": {
     "end_time": "2024-04-11T10:16:25.516071Z",
     "start_time": "2024-04-11T10:16:25.503816Z"
    }
   },
   "id": "8bfca59ba7b5408f",
   "execution_count": 19
  },
  {
   "cell_type": "markdown",
   "source": [
    "### Exploratory Analysis"
   ],
   "metadata": {
    "collapsed": false
   },
   "id": "f3c71924d68da63e"
  },
  {
   "cell_type": "code",
   "outputs": [
    {
     "name": "stdout",
     "output_type": "stream",
     "text": [
      "Categorical Features : titolitaria\n",
      "Numerical Features : Total_IMM %Ownership\n"
     ]
    }
   ],
   "source": [
    "#Divide between Categorical and Numerical Features\n",
    "col = list(data.columns)\n",
    "#\n",
    "col.remove('codfisc')\n",
    "categorical_features = ['titolitaria']\n",
    "numerical_features = ['Total_IMM','%Ownership']\n",
    "print('Categorical Features :',*categorical_features)\n",
    "print('Numerical Features :',*numerical_features)"
   ],
   "metadata": {
    "collapsed": false,
    "ExecuteTime": {
     "end_time": "2024-04-11T10:16:25.528377Z",
     "start_time": "2024-04-11T10:16:25.518081Z"
    }
   },
   "id": "faa4a7c31f9c4608",
   "execution_count": 20
  },
  {
   "cell_type": "code",
   "outputs": [
    {
     "data": {
      "text/plain": "<Figure size 900x900 with 2 Axes>",
      "image/png": "[encoded data removed]"
     },
     "metadata": {},
     "output_type": "display_data"
    }
   ],
   "source": [
    "colors = ['#FF781F','#2D2926']\n",
    "fig, ax = plt.subplots(nrows = 1,ncols = 2,figsize = (9,9))\n",
    "for i in range(len(numerical_features)):\n",
    "    plt.subplot(2,2,i+1)\n",
    "    sns.distplot(data[numerical_features[i]],color = colors[0])\n",
    "    title = 'Distribution : ' + numerical_features[i]\n",
    "    plt.title(title)\n",
    "plt.show()"
   ],
   "metadata": {
    "collapsed": false,
    "ExecuteTime": {
     "end_time": "2024-04-11T10:18:33.472787Z",
     "start_time": "2024-04-11T10:16:25.529389Z"
    }
   },
   "id": "b3d775d20399c59c",
   "execution_count": 21
  },
  {
   "cell_type": "code",
   "outputs": [
    {
     "data": {
      "text/plain": "<Figure size 640x480 with 2 Axes>",
      "image/png": "[encoded data removed]"
     },
     "metadata": {},
     "output_type": "display_data"
    }
   ],
   "source": [
    "# Plot a correlation matrix\n",
    "corr = data[['%Ownership','Total_IMM']].corr()\n",
    "corr_matrix = data[['%Ownership','Total_IMM']].corr()\n",
    "sns.heatmap(corr_matrix, annot=True)\n",
    "plt.show()"
   ],
   "metadata": {
    "collapsed": false,
    "ExecuteTime": {
     "end_time": "2024-04-11T10:18:33.989067Z",
     "start_time": "2024-04-11T10:18:33.474300Z"
    }
   },
   "id": "f5ef67ecf69535f4",
   "execution_count": 22
  },
  {
   "cell_type": "code",
   "outputs": [
    {
     "data": {
      "text/plain": "codfisc        object\ntitolarita     object\nTotal_IMM       int64\n%Ownership    float64\ndtype: object"
     },
     "execution_count": 23,
     "metadata": {},
     "output_type": "execute_result"
    }
   ],
   "source": [
    "data.dtypes"
   ],
   "metadata": {
    "collapsed": false,
    "ExecuteTime": {
     "end_time": "2024-04-11T10:18:33.998869Z",
     "start_time": "2024-04-11T10:18:33.990074Z"
    }
   },
   "id": "151d57ad13cbe898",
   "execution_count": 23
  },
  {
   "cell_type": "code",
   "outputs": [
    {
     "data": {
      "text/plain": "<Figure size 640x480 with 0 Axes>"
     },
     "metadata": {},
     "output_type": "display_data"
    },
    {
     "data": {
      "text/plain": "<Figure size 640x480 with 0 Axes>"
     },
     "metadata": {},
     "output_type": "display_data"
    },
    {
     "data": {
      "text/plain": "<Figure size 640x480 with 1 Axes>",
      "image/png": "[encoded data removed]"
     },
     "metadata": {},
     "output_type": "display_data"
    },
    {
     "data": {
      "text/plain": "<Figure size 640x480 with 1 Axes>",
      "image/png": "[encoded data removed]"
     },
     "metadata": {},
     "output_type": "display_data"
    }
   ],
   "source": [
    "# Plot bar charts for numerical columns\n",
    "for column in data.select_dtypes(include=[np.number]).columns:\n",
    "    plt.figure()\n",
    "for column in data.select_dtypes(include=[np.number]).columns:\n",
    "    plt.figure()\n",
    "    data.boxplot([column])\n",
    "\n",
    "    data.boxplot([column])"
   ],
   "metadata": {
    "collapsed": false,
    "ExecuteTime": {
     "end_time": "2024-04-11T10:18:54.438058Z",
     "start_time": "2024-04-11T10:18:34.000887Z"
    }
   },
   "id": "cd73cc21d1562018",
   "execution_count": 24
  },
  {
   "cell_type": "markdown",
   "source": [
    "# Feature Engineering"
   ],
   "metadata": {
    "collapsed": false
   },
   "id": "f21c462a36be310e"
  },
  {
   "cell_type": "markdown",
   "source": [
    "## Encoding"
   ],
   "metadata": {
    "collapsed": false
   },
   "id": "ea72626ae50e9d3b"
  },
  {
   "cell_type": "code",
   "outputs": [],
   "source": [
    "# One-hot encoding\n",
    "data_encoded = pd.get_dummies(data, columns=['titolarita'], sparse=True)"
   ],
   "metadata": {
    "collapsed": false,
    "ExecuteTime": {
     "end_time": "2024-04-11T10:23:48.442485Z",
     "start_time": "2024-04-11T10:23:40.244290Z"
    }
   },
   "id": "6ec76c4a6205c535",
   "execution_count": 28
  },
  {
   "cell_type": "code",
   "outputs": [
    {
     "name": "stdout",
     "output_type": "stream",
     "text": [
      "<class 'pandas.core.frame.DataFrame'>\n",
      "RangeIndex: 4125075 entries, 0 to 4125074\n",
      "Columns: 38839 entries, codfisc to titolarita_z\n",
      "dtypes: Sparse[bool, False](38836), float64(1), int64(1), object(1)\n",
      "memory usage: 114.1+ MB\n"
     ]
    }
   ],
   "source": [
    "data_encoded.info()"
   ],
   "metadata": {
    "collapsed": false,
    "ExecuteTime": {
     "end_time": "2024-04-11T10:25:54.623651Z",
     "start_time": "2024-04-11T10:25:51.293917Z"
    }
   },
   "id": "dbf028965ddf0cd7",
   "execution_count": 31
  },
  {
   "cell_type": "code",
   "outputs": [
    {
     "data": {
      "text/plain": "                                             codfisc  Total_IMM  %Ownership  \\\n0  _SOCIETA'_COOPERATIVA_RESPONSABILITA'_LIMITATA...          1        0.00   \n1                             -_DELTA_PRIMA_-_S.R.L.          1        0.00   \n2               -C.L.I.COMPAGNIA_LIGURE_INVESTIMENTI          1        0.00   \n3                                             -CIMEP          1        0.00   \n4     -IMPRESA_SOC.COSTR.TRONI_OMILDE_E_FIGLI-S.N.C.          2        0.00   \n\n   titolarita_  titolarita_\"con diritti dei singoli partecipanti ai sens  \\\n0        False                                              False          \n1        False                                              False          \n2        False                                              False          \n3        False                                              False          \n4         True                                              False          \n\n   titolarita_&amp;  titolarita_&amp;1  titolarita_&amp;12  \\\n0             False              False               False   \n1             False              False               False   \n2             False              False               False   \n3             False              False               False   \n4             False              False               False   \n\n   titolarita_&amp;14  titolarita_&amp;17  ...  titolarita_x45  \\\n0               False               False  ...           False   \n1               False               False  ...           False   \n2               False               False  ...           False   \n3               False               False  ...           False   \n4               False               False  ...           False   \n\n   titolarita_x46  titolarita_x500/1000  titolarita_x69  titolarita_x750/1000  \\\n0           False                 False           False                 False   \n1           False                 False           False                 False   \n2           False                 False           False                 False   \n3           False                 False           False                 False   \n4           False                 False           False                 False   \n\n   titolarita_xfabbricato e sottosuolo  titolarita_xui  titolarita_ypx 1/3  \\\n0                                False           False               False   \n1                                False           False               False   \n2                                False           False               False   \n3                                False           False               False   \n4                                False           False               False   \n\n   titolarita_z  Total_imM  \n0         False       0.00  \n1         False       0.00  \n2         False       0.00  \n3         False       0.00  \n4         False       0.00  \n\n[5 rows x 38840 columns]",
      "text/html": "<div>\n<style scoped>\n    .dataframe tbody tr th:only-of-type {\n        vertical-align: middle;\n    }\n\n    .dataframe tbody tr th {\n        vertical-align: top;\n    }\n\n    .dataframe thead th {\n        text-align: right;\n    }\n</style>\n<table border=\"1\" class=\"dataframe\">\n  <thead>\n    <tr style=\"text-align: right;\">\n      <th></th>\n      <th>codfisc</th>\n      <th>Total_IMM</th>\n      <th>%Ownership</th>\n      <th>titolarita_</th>\n      <th>titolarita_\"con diritti dei singoli partecipanti ai sens</th>\n      <th>titolarita_&amp;amp;</th>\n      <th>titolarita_&amp;amp;1</th>\n      <th>titolarita_&amp;amp;12</th>\n      <th>titolarita_&amp;amp;14</th>\n      <th>titolarita_&amp;amp;17</th>\n      <th>...</th>\n      <th>titolarita_x45</th>\n      <th>titolarita_x46</th>\n      <th>titolarita_x500/1000</th>\n      <th>titolarita_x69</th>\n      <th>titolarita_x750/1000</th>\n      <th>titolarita_xfabbricato e sottosuolo</th>\n      <th>titolarita_xui</th>\n      <th>titolarita_ypx 1/3</th>\n      <th>titolarita_z</th>\n      <th>Total_imM</th>\n    </tr>\n  </thead>\n  <tbody>\n    <tr>\n      <th>0</th>\n      <td>_SOCIETA'_COOPERATIVA_RESPONSABILITA'_LIMITATA...</td>\n      <td>1</td>\n      <td>0.00</td>\n      <td>False</td>\n      <td>False</td>\n      <td>False</td>\n      <td>False</td>\n      <td>False</td>\n      <td>False</td>\n      <td>False</td>\n      <td>...</td>\n      <td>False</td>\n      <td>False</td>\n      <td>False</td>\n      <td>False</td>\n      <td>False</td>\n      <td>False</td>\n      <td>False</td>\n      <td>False</td>\n      <td>False</td>\n      <td>0.00</td>\n    </tr>\n    <tr>\n      <th>1</th>\n      <td>-_DELTA_PRIMA_-_S.R.L.</td>\n      <td>1</td>\n      <td>0.00</td>\n      <td>False</td>\n      <td>False</td>\n      <td>False</td>\n      <td>False</td>\n      <td>False</td>\n      <td>False</td>\n      <td>False</td>\n      <td>...</td>\n      <td>False</td>\n      <td>False</td>\n      <td>False</td>\n      <td>False</td>\n      <td>False</td>\n      <td>False</td>\n      <td>False</td>\n      <td>False</td>\n      <td>False</td>\n      <td>0.00</td>\n    </tr>\n    <tr>\n      <th>2</th>\n      <td>-C.L.I.COMPAGNIA_LIGURE_INVESTIMENTI</td>\n      <td>1</td>\n      <td>0.00</td>\n      <td>False</td>\n      <td>False</td>\n      <td>False</td>\n      <td>False</td>\n      <td>False</td>\n      <td>False</td>\n      <td>False</td>\n      <td>...</td>\n      <td>False</td>\n      <td>False</td>\n      <td>False</td>\n      <td>False</td>\n      <td>False</td>\n      <td>False</td>\n      <td>False</td>\n      <td>False</td>\n      <td>False</td>\n      <td>0.00</td>\n    </tr>\n    <tr>\n      <th>3</th>\n      <td>-CIMEP</td>\n      <td>1</td>\n      <td>0.00</td>\n      <td>False</td>\n      <td>False</td>\n      <td>False</td>\n      <td>False</td>\n      <td>False</td>\n      <td>False</td>\n      <td>False</td>\n      <td>...</td>\n      <td>False</td>\n      <td>False</td>\n      <td>False</td>\n      <td>False</td>\n      <td>False</td>\n      <td>False</td>\n      <td>False</td>\n      <td>False</td>\n      <td>False</td>\n      <td>0.00</td>\n    </tr>\n    <tr>\n      <th>4</th>\n      <td>-IMPRESA_SOC.COSTR.TRONI_OMILDE_E_FIGLI-S.N.C.</td>\n      <td>2</td>\n      <td>0.00</td>\n      <td>True</td>\n      <td>False</td>\n      <td>False</td>\n      <td>False</td>\n      <td>False</td>\n      <td>False</td>\n      <td>False</td>\n      <td>...</td>\n      <td>False</td>\n      <td>False</td>\n      <td>False</td>\n      <td>False</td>\n      <td>False</td>\n      <td>False</td>\n      <td>False</td>\n      <td>False</td>\n      <td>False</td>\n      <td>0.00</td>\n    </tr>\n  </tbody>\n</table>\n<p>5 rows × 38840 columns</p>\n</div>"
     },
     "execution_count": 33,
     "metadata": {},
     "output_type": "execute_result"
    }
   ],
   "source": [
    "#Normalization\n",
    "mms = MinMaxScaler() # Normalization\n",
    "\n",
    "data_encoded['%Ownership'] = mms.fit_transform(data_encoded[['%Ownership']])\n",
    "data_encoded['Total_imM'] = mms.fit_transform(data_encoded[['%Ownership']])\n",
    "data_encoded.head()"
   ],
   "metadata": {
    "collapsed": false,
    "ExecuteTime": {
     "end_time": "2024-04-11T10:28:03.181438Z",
     "start_time": "2024-04-11T10:28:01.962111Z"
    }
   },
   "id": "a170a5dd2ba1ac78",
   "execution_count": 33
  },
  {
   "cell_type": "code",
   "outputs": [],
   "source": [
    "#Drop "
   ],
   "metadata": {
    "collapsed": false
   },
   "id": "7055fa0ccaf0c32b"
  },
  {
   "cell_type": "markdown",
   "source": [
    "## Principal Component Analysis (PCA) - Reducing Dimensionality"
   ],
   "metadata": {
    "collapsed": false
   },
   "id": "496798ed9462ea71"
  },
  {
   "cell_type": "code",
   "outputs": [],
   "source": [
    "#No need for now"
   ],
   "metadata": {
    "collapsed": false,
    "ExecuteTime": {
     "start_time": "2024-04-11T10:08:36.196836Z"
    }
   },
   "id": "d467ef4c544f7a0a"
  },
  {
   "cell_type": "markdown",
   "source": [
    "# Model Training"
   ],
   "metadata": {
    "collapsed": false
   },
   "id": "20913faa92858362"
  },
  {
   "cell_type": "markdown",
   "source": [
    "### K-means clustering"
   ],
   "metadata": {
    "collapsed": false
   },
   "id": "6b388c2892f858ce"
  },
  {
   "cell_type": "code",
   "outputs": [],
   "source": [
    "#DEFINE THE NUMBER OF CLUSTERS\n",
    "n_clusters = 3"
   ],
   "metadata": {
    "collapsed": false,
    "ExecuteTime": {
     "end_time": "2024-04-11T10:28:46.561073Z",
     "start_time": "2024-04-11T10:28:46.556692Z"
    }
   },
   "id": "774da92943e80284",
   "execution_count": 34
  },
  {
   "cell_type": "code",
   "outputs": [],
   "source": [
    "#CREATE THE KMEANS MODEL\n",
    "kmeans = KMeans(n_clusters=n_clusters, random_state=0)"
   ],
   "metadata": {
    "collapsed": false,
    "ExecuteTime": {
     "end_time": "2024-04-11T10:28:47.338900Z",
     "start_time": "2024-04-11T10:28:47.334899Z"
    }
   },
   "id": "11d7524bd1ac4a70",
   "execution_count": 35
  },
  {
   "cell_type": "code",
   "outputs": [],
   "source": [
    "#FIT THE MODEL\n",
    "kmeans.fit(X)"
   ],
   "metadata": {
    "collapsed": false,
    "ExecuteTime": {
     "start_time": "2024-04-11T10:08:36.201830Z"
    }
   },
   "id": "e8833c59707faa3b"
  },
  {
   "cell_type": "code",
   "outputs": [],
   "source": [
    "#PREDICT THE CLUSTERS\n",
    "data['cluster'] = kmeans.predict(X)"
   ],
   "metadata": {
    "collapsed": false,
    "ExecuteTime": {
     "start_time": "2024-04-11T10:08:36.202831Z"
    }
   },
   "id": "3c8d5cda1a93f3e2"
  },
  {
   "cell_type": "markdown",
   "source": [
    "### DBSCAN Clustering"
   ],
   "metadata": {
    "collapsed": false
   },
   "id": "a09db9e7a3e4b518"
  },
  {
   "cell_type": "markdown",
   "source": [
    "### Divisive hierarchical clustering"
   ],
   "metadata": {
    "collapsed": false
   },
   "id": "40990a145243a627"
  },
  {
   "cell_type": "markdown",
   "source": [
    "### Agglomerative hierarchical clustering"
   ],
   "metadata": {
    "collapsed": false
   },
   "id": "86666430fe7e6d39"
  },
  {
   "cell_type": "markdown",
   "source": [
    "### Mean Shift Clustering"
   ],
   "metadata": {
    "collapsed": false
   },
   "id": "236d2deddc1ca2c9"
  },
  {
   "cell_type": "markdown",
   "source": [
    "### Spectral Clustering"
   ],
   "metadata": {
    "collapsed": false
   },
   "id": "f7917edab5ba00db"
  },
  {
   "cell_type": "markdown",
   "source": [
    "### Affinity Propagation"
   ],
   "metadata": {
    "collapsed": false
   },
   "id": "6e6001b2fd685922"
  },
  {
   "cell_type": "markdown",
   "source": [
    "### BIRCH Clustering"
   ],
   "metadata": {
    "collapsed": false
   },
   "id": "96fe0406fc0776a8"
  },
  {
   "cell_type": "markdown",
   "source": [
    "# Model Evaluation"
   ],
   "metadata": {
    "collapsed": false
   },
   "id": "59508192d5a438ab"
  },
  {
   "cell_type": "markdown",
   "source": [
    "# Deployment"
   ],
   "metadata": {
    "collapsed": false
   },
   "id": "278400752870fcf3"
  },
  {
   "cell_type": "markdown",
   "source": [
    "# Monitoring"
   ],
   "metadata": {
    "collapsed": false
   },
   "id": "343f437d9c5f34c0"
  }
 ],
 "metadata": {
  "kernelspec": {
   "display_name": "Python 3",
   "language": "python",
   "name": "python3"
  },
  "language_info": {
   "codemirror_mode": {
    "name": "ipython",
    "version": 2
   },
   "file_extension": ".py",
   "mimetype": "text/x-python",
   "name": "python",
   "nbconvert_exporter": "python",
   "pygments_lexer": "ipython2",
   "version": "2.7.6"
  }
 },
 "nbformat": 4,
 "nbformat_minor": 5
}
