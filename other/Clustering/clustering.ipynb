{
 "cells": [
  {
   "cell_type": "markdown",
   "source": [
    "# Import the Necessary Libraries"
   ],
   "metadata": {
    "collapsed": false
   },
   "id": "9ce7854af68bb7df"
  },
  {
   "cell_type": "code",
   "outputs": [],
   "source": [
    "#IMPORT THE PANDAS AND NUMPY LIBRARIES\n",
    "import pandas as pd\n",
    "import numpy as np\n",
    "pd.options.display.float_format = '{:.2f}'.format\n",
    "import warnings\n",
    "warnings.filterwarnings('ignore')\n",
    "\n",
    "#IMPORT THE SCIKIT-LEARN LIBRARIES\n",
    "from sklearn.cluster import KMeans\n",
    "from sklearn.metrics import silhouette_score\n",
    "from mpl_toolkits.mplot3d import Axes3D\n",
    "\n",
    "#IMPORT THE VISUALIZATION LIBRARIES\n",
    "import plotly.express as px\n",
    "import kaleido\n",
    "import matplotlib.pyplot as plt\n",
    "%matplotlib inline\n",
    "import seaborn as sns\n",
    "\n",
    "#IMPORT THE SQALCHEMY LIBRARY's CREATE_ENGINE METHOD\n",
    "import mysql.connector\n",
    "from mysql.connector import Error"
   ],
   "metadata": {
    "collapsed": false,
    "ExecuteTime": {
     "end_time": "2024-04-04T10:42:30.501336Z",
     "start_time": "2024-04-04T10:42:27.408215Z"
    }
   },
   "id": "750910e1db8f13eb",
   "execution_count": 1
  },
  {
   "cell_type": "markdown",
   "source": [
    "# Import data from MySQL DB"
   ],
   "metadata": {
    "collapsed": false
   },
   "id": "904c476ef34da892"
  },
  {
   "cell_type": "code",
   "outputs": [
    {
     "name": "stdout",
     "output_type": "stream",
     "text": [
      "Connected to MySQL database... MySQL Server version on  8.0.35\n",
      "MySQL connection is closed\n"
     ]
    }
   ],
   "source": [
    "try:\n",
    "    connection = mysql.connector.connect(host='scraper.cx53soegx3qk.eu-west-1.rds.amazonaws.com',\n",
    "                                         database='pipedrive',\n",
    "                                         user='pipedrive',\n",
    "                                         password='#8LsH25%ZD', use_pure=True)\n",
    "    if connection.is_connected():\n",
    "        db_Info = connection.get_server_info()\n",
    "        df_properties = pd.read_sql('SELECT * FROM ade_properties_intestati', connection)\n",
    "        df_leads_deals = pd.read_sql('SELECT * FROM leads_deals_person', connection)\n",
    "        print(\"Connected to MySQL database... MySQL Server version on \", db_Info)\n",
    "except Error as e:\n",
    "    print(\"Error while connecting to MySQL\", e)\n",
    "finally:\n",
    "    if connection.is_connected():\n",
    "        connection.close()\n",
    "        print(\"MySQL connection is closed\")"
   ],
   "metadata": {
    "collapsed": false,
    "ExecuteTime": {
     "end_time": "2024-04-04T10:49:39.049214Z",
     "start_time": "2024-04-04T10:42:35.251408Z"
    }
   },
   "id": "bfb051eae11558d0",
   "execution_count": 2
  },
  {
   "cell_type": "markdown",
   "source": [
    "# Data Preprocessing"
   ],
   "metadata": {
    "collapsed": false
   },
   "id": "823309a71045de5f"
  },
  {
   "cell_type": "markdown",
   "source": [
    "### Dropping unnecesary columns"
   ],
   "metadata": {
    "collapsed": false
   },
   "id": "63ee8b99c7edd509"
  },
  {
   "cell_type": "code",
   "outputs": [],
   "source": [
    "#DROP THE COLUMNS THAT ARE NOT NEEDED\n",
    "df_properties.drop(['buyer_persona1_1imm','buyer_persona1_2imm','buyer_persona1_more3imm','buyer_persona2_1imm','buyer_persona2_2imm','buyer_persona2_more3imm','buyer_persona3_1imm','buyer_persona3_2imm','buyer_persona3_more3imm','buyer_persona4_1imm','buyer_persona4_2imm','buyer_persona4_more3imm','buyer_persona5_1imm','buyer_persona5_2imm','buyer_persona5_more3imm','buyer_persona6_1imm','buyer_persona6_2imm','buyer_persona6_more3imm','buyer_persona7_1imm','buyer_persona7_2imm','buyer_persona7_more3imm','buyer_persona8_1imm','buyer_persona8_2imm','buyer_persona8_more3imm','ricerca_nazionale_done_at','status_ricerca_nazionale','sent','has_phone','is_lead','qualified_ready_nel_passato','person_add_time',], axis=1, inplace=True)"
   ],
   "metadata": {
    "collapsed": false,
    "ExecuteTime": {
     "end_time": "2024-04-04T11:13:50.232760Z",
     "start_time": "2024-04-04T11:13:49.257865Z"
    }
   },
   "id": "8ae36df3004f6ceb",
   "execution_count": 11
  },
  {
   "cell_type": "code",
   "outputs": [
    {
     "data": {
      "text/plain": "                                 id_intestati  \\\n0        091aac50-96e4-4231-8d48-1e3c5b55a328   \n1        1136dc3a-2321-4c46-ae2f-2167d2826d62   \n2        c563d10f-d166-4770-8640-208b55a7cd5a   \n3        91fe7f41-3f98-480d-aa06-b64c8cdfddaf   \n4        f090add1-1e3a-45d9-8596-7b83de972541   \n...                                       ...   \n3931469  90eddf85-75fd-4255-8767-3bd3add0bd31   \n3931470  690db6fa-15e0-4f08-9728-5d3e0d0c30b7   \n3931471  28f41fdb-a57a-4136-8ca2-db0b04372bb5   \n3931472  940a0090-038e-4a9e-90a8-3f4b41e3c151   \n3931473  d05e7761-6137-4049-9407-025a6aa1c109   \n\n                                                   codfisc attribution  \\\n0                     -C.L.I.COMPAGNIA_LIGURE_INVESTIMENTI      Milano   \n1           -IMPRESA_SOC.COSTR.TRONI_OMILDE_E_FIGLI-S.N.C.     Firenze   \n2                    -SOCIETA'_NUOVA_EDILIZIA_S._DESIDERIO      Genova   \n3                                                 ._ROMA_.        Roma   \n4        ''DISCO_PIU'_S.R.L._''_CON_SEDE_IN_MILANO_VIA_...      Milano   \n...                                                    ...         ...   \n3931469                                   ZZZVTR60S58L219E      Torino   \n3931470                                   ZZZVTR76H25A509E        Roma   \n3931471                                   ZZZVTR94A02H501S        Roma   \n3931472                                   ZZZWLY27H50L273E      Torino   \n3931473                                   ZZZWTR82L23F205Z      Milano   \n\n             quota                         titolarita  Total_IMM  \\\n0             None                        Proprieta'           1   \n1             None                                             2   \n2        1000/1000                        Proprieta'           1   \n3              1/1  Diritto del concedente concedente          5   \n4             None                        Proprieta'           1   \n...            ...                                ...        ...   \n3931469        1/2                        Proprieta'           2   \n3931470        1/2                        Proprieta'           1   \n3931471      10/40               Proprieta' per 10/40          1   \n3931472        1/1                 Proprieta' per 1/1          1   \n3931473        1/1                 Proprieta' per 1/1          3   \n\n         IMM_MILANO_HINTERLAND_No_small_cities  \\\n0                                            1   \n1                                            0   \n2                                            0   \n3                                            0   \n4                                            1   \n...                                        ...   \n3931469                                      0   \n3931470                                      0   \n3931471                                      0   \n3931472                                      0   \n3931473                                      3   \n\n         IMM_MILANO_HINTERLAND_Small_cities  IMM_ROMA_TERRITORIO  \\\n0                                         1                    0   \n1                                         0                    0   \n2                                         0                    0   \n3                                         0                    5   \n4                                         1                    0   \n...                                     ...                  ...   \n3931469                                   0                    0   \n3931470                                   0                    1   \n3931471                                   0                    0   \n3931472                                   0                    0   \n3931473                                   3                    0   \n\n         IMM_ROMA_PROVINCIA  IMM_TORINO_TERRITORIO  IMM_TORINO_PROVINCIA  \\\n0                         0                      0                     0   \n1                         0                      0                     0   \n2                         0                      0                     0   \n3                         0                      0                     0   \n4                         0                      0                     0   \n...                     ...                    ...                   ...   \n3931469                   0                      2                     0   \n3931470                   0                      0                     0   \n3931471                   1                      0                     0   \n3931472                   0                      0                     1   \n3931473                   0                      0                     0   \n\n         IMM_FIRENZE_TERRITORIO  IMM_FIRENZE_PROVINCIA  IMM_GENOVA_TERRITORIO  \\\n0                             0                      0                      0   \n1                             2                      0                      0   \n2                             0                      0                      1   \n3                             0                      0                      0   \n4                             0                      0                      0   \n...                         ...                    ...                    ...   \n3931469                       0                      0                      0   \n3931470                       0                      0                      0   \n3931471                       0                      0                      0   \n3931472                       0                      0                      0   \n3931473                       0                      0                      0   \n\n         IMM_GENOVA_PROVINCIA  IMM_OTHER  \n0                           0          0  \n1                           0          0  \n2                           0          0  \n3                           0          0  \n4                           0          0  \n...                       ...        ...  \n3931469                     0          0  \n3931470                     0          0  \n3931471                     0          0  \n3931472                     0          0  \n3931473                     0          0  \n\n[3931474 rows x 17 columns]",
      "text/html": "<div>\n<style scoped>\n    .dataframe tbody tr th:only-of-type {\n        vertical-align: middle;\n    }\n\n    .dataframe tbody tr th {\n        vertical-align: top;\n    }\n\n    .dataframe thead th {\n        text-align: right;\n    }\n</style>\n<table border=\"1\" class=\"dataframe\">\n  <thead>\n    <tr style=\"text-align: right;\">\n      <th></th>\n      <th>id_intestati</th>\n      <th>codfisc</th>\n      <th>attribution</th>\n      <th>quota</th>\n      <th>titolarita</th>\n      <th>Total_IMM</th>\n      <th>IMM_MILANO_HINTERLAND_No_small_cities</th>\n      <th>IMM_MILANO_HINTERLAND_Small_cities</th>\n      <th>IMM_ROMA_TERRITORIO</th>\n      <th>IMM_ROMA_PROVINCIA</th>\n      <th>IMM_TORINO_TERRITORIO</th>\n      <th>IMM_TORINO_PROVINCIA</th>\n      <th>IMM_FIRENZE_TERRITORIO</th>\n      <th>IMM_FIRENZE_PROVINCIA</th>\n      <th>IMM_GENOVA_TERRITORIO</th>\n      <th>IMM_GENOVA_PROVINCIA</th>\n      <th>IMM_OTHER</th>\n    </tr>\n  </thead>\n  <tbody>\n    <tr>\n      <th>0</th>\n      <td>091aac50-96e4-4231-8d48-1e3c5b55a328</td>\n      <td>-C.L.I.COMPAGNIA_LIGURE_INVESTIMENTI</td>\n      <td>Milano</td>\n      <td>None</td>\n      <td>Proprieta'</td>\n      <td>1</td>\n      <td>1</td>\n      <td>1</td>\n      <td>0</td>\n      <td>0</td>\n      <td>0</td>\n      <td>0</td>\n      <td>0</td>\n      <td>0</td>\n      <td>0</td>\n      <td>0</td>\n      <td>0</td>\n    </tr>\n    <tr>\n      <th>1</th>\n      <td>1136dc3a-2321-4c46-ae2f-2167d2826d62</td>\n      <td>-IMPRESA_SOC.COSTR.TRONI_OMILDE_E_FIGLI-S.N.C.</td>\n      <td>Firenze</td>\n      <td>None</td>\n      <td></td>\n      <td>2</td>\n      <td>0</td>\n      <td>0</td>\n      <td>0</td>\n      <td>0</td>\n      <td>0</td>\n      <td>0</td>\n      <td>2</td>\n      <td>0</td>\n      <td>0</td>\n      <td>0</td>\n      <td>0</td>\n    </tr>\n    <tr>\n      <th>2</th>\n      <td>c563d10f-d166-4770-8640-208b55a7cd5a</td>\n      <td>-SOCIETA'_NUOVA_EDILIZIA_S._DESIDERIO</td>\n      <td>Genova</td>\n      <td>1000/1000</td>\n      <td>Proprieta'</td>\n      <td>1</td>\n      <td>0</td>\n      <td>0</td>\n      <td>0</td>\n      <td>0</td>\n      <td>0</td>\n      <td>0</td>\n      <td>0</td>\n      <td>0</td>\n      <td>1</td>\n      <td>0</td>\n      <td>0</td>\n    </tr>\n    <tr>\n      <th>3</th>\n      <td>91fe7f41-3f98-480d-aa06-b64c8cdfddaf</td>\n      <td>._ROMA_.</td>\n      <td>Roma</td>\n      <td>1/1</td>\n      <td>Diritto del concedente concedente</td>\n      <td>5</td>\n      <td>0</td>\n      <td>0</td>\n      <td>5</td>\n      <td>0</td>\n      <td>0</td>\n      <td>0</td>\n      <td>0</td>\n      <td>0</td>\n      <td>0</td>\n      <td>0</td>\n      <td>0</td>\n    </tr>\n    <tr>\n      <th>4</th>\n      <td>f090add1-1e3a-45d9-8596-7b83de972541</td>\n      <td>''DISCO_PIU'_S.R.L._''_CON_SEDE_IN_MILANO_VIA_...</td>\n      <td>Milano</td>\n      <td>None</td>\n      <td>Proprieta'</td>\n      <td>1</td>\n      <td>1</td>\n      <td>1</td>\n      <td>0</td>\n      <td>0</td>\n      <td>0</td>\n      <td>0</td>\n      <td>0</td>\n      <td>0</td>\n      <td>0</td>\n      <td>0</td>\n      <td>0</td>\n    </tr>\n    <tr>\n      <th>...</th>\n      <td>...</td>\n      <td>...</td>\n      <td>...</td>\n      <td>...</td>\n      <td>...</td>\n      <td>...</td>\n      <td>...</td>\n      <td>...</td>\n      <td>...</td>\n      <td>...</td>\n      <td>...</td>\n      <td>...</td>\n      <td>...</td>\n      <td>...</td>\n      <td>...</td>\n      <td>...</td>\n      <td>...</td>\n    </tr>\n    <tr>\n      <th>3931469</th>\n      <td>90eddf85-75fd-4255-8767-3bd3add0bd31</td>\n      <td>ZZZVTR60S58L219E</td>\n      <td>Torino</td>\n      <td>1/2</td>\n      <td>Proprieta'</td>\n      <td>2</td>\n      <td>0</td>\n      <td>0</td>\n      <td>0</td>\n      <td>0</td>\n      <td>2</td>\n      <td>0</td>\n      <td>0</td>\n      <td>0</td>\n      <td>0</td>\n      <td>0</td>\n      <td>0</td>\n    </tr>\n    <tr>\n      <th>3931470</th>\n      <td>690db6fa-15e0-4f08-9728-5d3e0d0c30b7</td>\n      <td>ZZZVTR76H25A509E</td>\n      <td>Roma</td>\n      <td>1/2</td>\n      <td>Proprieta'</td>\n      <td>1</td>\n      <td>0</td>\n      <td>0</td>\n      <td>1</td>\n      <td>0</td>\n      <td>0</td>\n      <td>0</td>\n      <td>0</td>\n      <td>0</td>\n      <td>0</td>\n      <td>0</td>\n      <td>0</td>\n    </tr>\n    <tr>\n      <th>3931471</th>\n      <td>28f41fdb-a57a-4136-8ca2-db0b04372bb5</td>\n      <td>ZZZVTR94A02H501S</td>\n      <td>Roma</td>\n      <td>10/40</td>\n      <td>Proprieta' per 10/40</td>\n      <td>1</td>\n      <td>0</td>\n      <td>0</td>\n      <td>0</td>\n      <td>1</td>\n      <td>0</td>\n      <td>0</td>\n      <td>0</td>\n      <td>0</td>\n      <td>0</td>\n      <td>0</td>\n      <td>0</td>\n    </tr>\n    <tr>\n      <th>3931472</th>\n      <td>940a0090-038e-4a9e-90a8-3f4b41e3c151</td>\n      <td>ZZZWLY27H50L273E</td>\n      <td>Torino</td>\n      <td>1/1</td>\n      <td>Proprieta' per 1/1</td>\n      <td>1</td>\n      <td>0</td>\n      <td>0</td>\n      <td>0</td>\n      <td>0</td>\n      <td>0</td>\n      <td>1</td>\n      <td>0</td>\n      <td>0</td>\n      <td>0</td>\n      <td>0</td>\n      <td>0</td>\n    </tr>\n    <tr>\n      <th>3931473</th>\n      <td>d05e7761-6137-4049-9407-025a6aa1c109</td>\n      <td>ZZZWTR82L23F205Z</td>\n      <td>Milano</td>\n      <td>1/1</td>\n      <td>Proprieta' per 1/1</td>\n      <td>3</td>\n      <td>3</td>\n      <td>3</td>\n      <td>0</td>\n      <td>0</td>\n      <td>0</td>\n      <td>0</td>\n      <td>0</td>\n      <td>0</td>\n      <td>0</td>\n      <td>0</td>\n      <td>0</td>\n    </tr>\n  </tbody>\n</table>\n<p>3931474 rows × 17 columns</p>\n</div>"
     },
     "execution_count": 12,
     "metadata": {},
     "output_type": "execute_result"
    }
   ],
   "source": [
    "df_properties"
   ],
   "metadata": {
    "collapsed": false,
    "ExecuteTime": {
     "end_time": "2024-04-04T11:13:55.573075Z",
     "start_time": "2024-04-04T11:13:55.537400Z"
    }
   },
   "id": "72b3e4164b06e570",
   "execution_count": 12
  },
  {
   "cell_type": "code",
   "outputs": [],
   "source": [
    "#DROP THE COLUMNS THAT ARE NOT NEEDED\n",
    "df_leads_deals.drop(['person_id','property_id','mkt_acquisition_campaign','mkt_acquisition_content','deal_id','phone','lead_id','Qualified_Ready_nel_passato','creator_user_id','pre_sales'], axis=1, inplace=True)"
   ],
   "metadata": {
    "collapsed": false,
    "ExecuteTime": {
     "end_time": "2024-04-04T11:21:26.379052Z",
     "start_time": "2024-04-04T11:21:26.291979Z"
    }
   },
   "id": "6909a0d91202c37b",
   "execution_count": 13
  },
  {
   "cell_type": "code",
   "outputs": [
    {
     "data": {
      "text/plain": "       mkt_acquisition_channel    Codice_Fiscale     person_add_time  \\\n0                     Outbound  DNGWQN61T10Z210K 2024-01-12 00:31:58   \n1                     Outbound  GRSGGR60C06F205K 2023-05-05 14:56:21   \n2                     Outbound  PRTPMR59D44L219I 2024-01-11 22:30:17   \n3                     Outbound  RMSLSN71T23H501Z 2023-11-30 12:21:32   \n4                                                2022-11-07 10:07:22   \n...                        ...               ...                 ...   \n257357                Outbound  VLSMSM64B24L219H 2024-01-11 22:58:49   \n257358              SocialPaid                   2024-04-01 16:44:54   \n257359                Outbound  CPDSNT66M65L219Y 2023-10-25 18:20:52   \n257360                Outbound  PZZLSN55A68L219N 2023-12-12 11:52:42   \n257361              SocialPaid                   2023-07-05 21:56:54   \n\n        is_archived status                         city  pipeline_id  is_lead  \\\n0                 1   deal  Milano - Zibido san Giacomo            0        1   \n1                 0   deal                       Milano            0        1   \n2                 0   deal                       Torino            0        1   \n3                 1   deal                         Roma            0        1   \n4                 1   deal                      Brescia            0        1   \n...             ...    ...                          ...          ...      ...   \n257357            2   open                       Torino            2        0   \n257358            2   open                        Monza            1        0   \n257359            2   open                       Torino            2        0   \n257360            2   open                       Milano            2        0   \n257361            2   open                       Torino            1        0   \n\n                        title           owner_name  \n0                DONG WENQIAN                       \n1             GREGORIO GRASSI                       \n2       PORTINARO PAOLA MARIA                       \n3          RIMASSA ALESSANDRO                       \n4                       26857                       \n...                       ...                  ...  \n257357       VALESANO MASSIMO  Riccardo Del Monaco  \n257358                  34513                Fabio  \n257359     CAPODICI SIMONETTA  Riccardo Del Monaco  \n257360       PIZZI ALESSANDRA         Tania Aureli  \n257361                  34500                Fabio  \n\n[257362 rows x 10 columns]",
      "text/html": "<div>\n<style scoped>\n    .dataframe tbody tr th:only-of-type {\n        vertical-align: middle;\n    }\n\n    .dataframe tbody tr th {\n        vertical-align: top;\n    }\n\n    .dataframe thead th {\n        text-align: right;\n    }\n</style>\n<table border=\"1\" class=\"dataframe\">\n  <thead>\n    <tr style=\"text-align: right;\">\n      <th></th>\n      <th>mkt_acquisition_channel</th>\n      <th>Codice_Fiscale</th>\n      <th>person_add_time</th>\n      <th>is_archived</th>\n      <th>status</th>\n      <th>city</th>\n      <th>pipeline_id</th>\n      <th>is_lead</th>\n      <th>title</th>\n      <th>owner_name</th>\n    </tr>\n  </thead>\n  <tbody>\n    <tr>\n      <th>0</th>\n      <td>Outbound</td>\n      <td>DNGWQN61T10Z210K</td>\n      <td>2024-01-12 00:31:58</td>\n      <td>1</td>\n      <td>deal</td>\n      <td>Milano - Zibido san Giacomo</td>\n      <td>0</td>\n      <td>1</td>\n      <td>DONG WENQIAN</td>\n      <td></td>\n    </tr>\n    <tr>\n      <th>1</th>\n      <td>Outbound</td>\n      <td>GRSGGR60C06F205K</td>\n      <td>2023-05-05 14:56:21</td>\n      <td>0</td>\n      <td>deal</td>\n      <td>Milano</td>\n      <td>0</td>\n      <td>1</td>\n      <td>GREGORIO GRASSI</td>\n      <td></td>\n    </tr>\n    <tr>\n      <th>2</th>\n      <td>Outbound</td>\n      <td>PRTPMR59D44L219I</td>\n      <td>2024-01-11 22:30:17</td>\n      <td>0</td>\n      <td>deal</td>\n      <td>Torino</td>\n      <td>0</td>\n      <td>1</td>\n      <td>PORTINARO PAOLA MARIA</td>\n      <td></td>\n    </tr>\n    <tr>\n      <th>3</th>\n      <td>Outbound</td>\n      <td>RMSLSN71T23H501Z</td>\n      <td>2023-11-30 12:21:32</td>\n      <td>1</td>\n      <td>deal</td>\n      <td>Roma</td>\n      <td>0</td>\n      <td>1</td>\n      <td>RIMASSA ALESSANDRO</td>\n      <td></td>\n    </tr>\n    <tr>\n      <th>4</th>\n      <td></td>\n      <td></td>\n      <td>2022-11-07 10:07:22</td>\n      <td>1</td>\n      <td>deal</td>\n      <td>Brescia</td>\n      <td>0</td>\n      <td>1</td>\n      <td>26857</td>\n      <td></td>\n    </tr>\n    <tr>\n      <th>...</th>\n      <td>...</td>\n      <td>...</td>\n      <td>...</td>\n      <td>...</td>\n      <td>...</td>\n      <td>...</td>\n      <td>...</td>\n      <td>...</td>\n      <td>...</td>\n      <td>...</td>\n    </tr>\n    <tr>\n      <th>257357</th>\n      <td>Outbound</td>\n      <td>VLSMSM64B24L219H</td>\n      <td>2024-01-11 22:58:49</td>\n      <td>2</td>\n      <td>open</td>\n      <td>Torino</td>\n      <td>2</td>\n      <td>0</td>\n      <td>VALESANO MASSIMO</td>\n      <td>Riccardo Del Monaco</td>\n    </tr>\n    <tr>\n      <th>257358</th>\n      <td>SocialPaid</td>\n      <td></td>\n      <td>2024-04-01 16:44:54</td>\n      <td>2</td>\n      <td>open</td>\n      <td>Monza</td>\n      <td>1</td>\n      <td>0</td>\n      <td>34513</td>\n      <td>Fabio</td>\n    </tr>\n    <tr>\n      <th>257359</th>\n      <td>Outbound</td>\n      <td>CPDSNT66M65L219Y</td>\n      <td>2023-10-25 18:20:52</td>\n      <td>2</td>\n      <td>open</td>\n      <td>Torino</td>\n      <td>2</td>\n      <td>0</td>\n      <td>CAPODICI SIMONETTA</td>\n      <td>Riccardo Del Monaco</td>\n    </tr>\n    <tr>\n      <th>257360</th>\n      <td>Outbound</td>\n      <td>PZZLSN55A68L219N</td>\n      <td>2023-12-12 11:52:42</td>\n      <td>2</td>\n      <td>open</td>\n      <td>Milano</td>\n      <td>2</td>\n      <td>0</td>\n      <td>PIZZI ALESSANDRA</td>\n      <td>Tania Aureli</td>\n    </tr>\n    <tr>\n      <th>257361</th>\n      <td>SocialPaid</td>\n      <td></td>\n      <td>2023-07-05 21:56:54</td>\n      <td>2</td>\n      <td>open</td>\n      <td>Torino</td>\n      <td>1</td>\n      <td>0</td>\n      <td>34500</td>\n      <td>Fabio</td>\n    </tr>\n  </tbody>\n</table>\n<p>257362 rows × 10 columns</p>\n</div>"
     },
     "execution_count": 14,
     "metadata": {},
     "output_type": "execute_result"
    }
   ],
   "source": [
    "df_leads_deals"
   ],
   "metadata": {
    "collapsed": false,
    "ExecuteTime": {
     "end_time": "2024-04-04T11:21:34.400253Z",
     "start_time": "2024-04-04T11:21:34.380359Z"
    }
   },
   "id": "1a6fa05e173191ae",
   "execution_count": 14
  },
  {
   "cell_type": "markdown",
   "source": [
    "### Merging the two dataframes in OBT"
   ],
   "metadata": {
    "collapsed": false
   },
   "id": "c1374ca71c4433fd"
  },
  {
   "cell_type": "code",
   "outputs": [],
   "source": [
    "#MERGE THE TWO DATAFRAMES\n",
    "df = pd.merge(df_properties, df_leads_deals, left_on='codfisc', right_on='Codice_Fiscale', how='left')"
   ],
   "metadata": {
    "collapsed": false,
    "ExecuteTime": {
     "end_time": "2024-04-04T11:21:49.841127Z",
     "start_time": "2024-04-04T11:21:43.689358Z"
    }
   },
   "id": "9e42d10c49b57a2c",
   "execution_count": 15
  },
  {
   "cell_type": "code",
   "outputs": [
    {
     "data": {
      "text/plain": "                                 id_intestati  \\\n0        091aac50-96e4-4231-8d48-1e3c5b55a328   \n1        1136dc3a-2321-4c46-ae2f-2167d2826d62   \n2        c563d10f-d166-4770-8640-208b55a7cd5a   \n3        91fe7f41-3f98-480d-aa06-b64c8cdfddaf   \n4        f090add1-1e3a-45d9-8596-7b83de972541   \n...                                       ...   \n3945940  90eddf85-75fd-4255-8767-3bd3add0bd31   \n3945941  690db6fa-15e0-4f08-9728-5d3e0d0c30b7   \n3945942  28f41fdb-a57a-4136-8ca2-db0b04372bb5   \n3945943  940a0090-038e-4a9e-90a8-3f4b41e3c151   \n3945944  d05e7761-6137-4049-9407-025a6aa1c109   \n\n                                                   codfisc attribution  \\\n0                     -C.L.I.COMPAGNIA_LIGURE_INVESTIMENTI      Milano   \n1           -IMPRESA_SOC.COSTR.TRONI_OMILDE_E_FIGLI-S.N.C.     Firenze   \n2                    -SOCIETA'_NUOVA_EDILIZIA_S._DESIDERIO      Genova   \n3                                                 ._ROMA_.        Roma   \n4        ''DISCO_PIU'_S.R.L._''_CON_SEDE_IN_MILANO_VIA_...      Milano   \n...                                                    ...         ...   \n3945940                                   ZZZVTR60S58L219E      Torino   \n3945941                                   ZZZVTR76H25A509E        Roma   \n3945942                                   ZZZVTR94A02H501S        Roma   \n3945943                                   ZZZWLY27H50L273E      Torino   \n3945944                                   ZZZWTR82L23F205Z      Milano   \n\n             quota                         titolarita  Total_IMM  \\\n0             None                        Proprieta'           1   \n1             None                                             2   \n2        1000/1000                        Proprieta'           1   \n3              1/1  Diritto del concedente concedente          5   \n4             None                        Proprieta'           1   \n...            ...                                ...        ...   \n3945940        1/2                        Proprieta'           2   \n3945941        1/2                        Proprieta'           1   \n3945942      10/40               Proprieta' per 10/40          1   \n3945943        1/1                 Proprieta' per 1/1          1   \n3945944        1/1                 Proprieta' per 1/1          3   \n\n         IMM_MILANO_HINTERLAND_No_small_cities  \\\n0                                            1   \n1                                            0   \n2                                            0   \n3                                            0   \n4                                            1   \n...                                        ...   \n3945940                                      0   \n3945941                                      0   \n3945942                                      0   \n3945943                                      0   \n3945944                                      3   \n\n         IMM_MILANO_HINTERLAND_Small_cities  IMM_ROMA_TERRITORIO  \\\n0                                         1                    0   \n1                                         0                    0   \n2                                         0                    0   \n3                                         0                    5   \n4                                         1                    0   \n...                                     ...                  ...   \n3945940                                   0                    0   \n3945941                                   0                    1   \n3945942                                   0                    0   \n3945943                                   0                    0   \n3945944                                   3                    0   \n\n         IMM_ROMA_PROVINCIA  ...  mkt_acquisition_channel    Codice_Fiscale  \\\n0                         0  ...                      NaN               NaN   \n1                         0  ...                      NaN               NaN   \n2                         0  ...                      NaN               NaN   \n3                         0  ...                      NaN               NaN   \n4                         0  ...                      NaN               NaN   \n...                     ...  ...                      ...               ...   \n3945940                   0  ...                      NaN               NaN   \n3945941                   0  ...                      NaN               NaN   \n3945942                   1  ...                      NaN               NaN   \n3945943                   0  ...                      NaN               NaN   \n3945944                   0  ...                 Outbound  ZZZWTR82L23F205Z   \n\n            person_add_time  is_archived  status    city  pipeline_id is_lead  \\\n0                       NaT          NaN     NaN     NaN          NaN     NaN   \n1                       NaT          NaN     NaN     NaN          NaN     NaN   \n2                       NaT          NaN     NaN     NaN          NaN     NaN   \n3                       NaT          NaN     NaN     NaN          NaN     NaN   \n4                       NaT          NaN     NaN     NaN          NaN     NaN   \n...                     ...          ...     ...     ...          ...     ...   \n3945940                 NaT          NaN     NaN     NaN          NaN     NaN   \n3945941                 NaT          NaN     NaN     NaN          NaN     NaN   \n3945942                 NaT          NaN     NaN     NaN          NaN     NaN   \n3945943                 NaT          NaN     NaN     NaN          NaN     NaN   \n3945944 2023-02-21 14:56:24         1.00    deal  Milano         0.00    1.00   \n\n                  title owner_name  \n0                   NaN        NaN  \n1                   NaN        NaN  \n2                   NaN        NaN  \n3                   NaN        NaN  \n4                   NaN        NaN  \n...                 ...        ...  \n3945940             NaN        NaN  \n3945941             NaN        NaN  \n3945942             NaN        NaN  \n3945943             NaN        NaN  \n3945944  ZIZZARI WALTER             \n\n[3945945 rows x 27 columns]",
      "text/html": "<div>\n<style scoped>\n    .dataframe tbody tr th:only-of-type {\n        vertical-align: middle;\n    }\n\n    .dataframe tbody tr th {\n        vertical-align: top;\n    }\n\n    .dataframe thead th {\n        text-align: right;\n    }\n</style>\n<table border=\"1\" class=\"dataframe\">\n  <thead>\n    <tr style=\"text-align: right;\">\n      <th></th>\n      <th>id_intestati</th>\n      <th>codfisc</th>\n      <th>attribution</th>\n      <th>quota</th>\n      <th>titolarita</th>\n      <th>Total_IMM</th>\n      <th>IMM_MILANO_HINTERLAND_No_small_cities</th>\n      <th>IMM_MILANO_HINTERLAND_Small_cities</th>\n      <th>IMM_ROMA_TERRITORIO</th>\n      <th>IMM_ROMA_PROVINCIA</th>\n      <th>...</th>\n      <th>mkt_acquisition_channel</th>\n      <th>Codice_Fiscale</th>\n      <th>person_add_time</th>\n      <th>is_archived</th>\n      <th>status</th>\n      <th>city</th>\n      <th>pipeline_id</th>\n      <th>is_lead</th>\n      <th>title</th>\n      <th>owner_name</th>\n    </tr>\n  </thead>\n  <tbody>\n    <tr>\n      <th>0</th>\n      <td>091aac50-96e4-4231-8d48-1e3c5b55a328</td>\n      <td>-C.L.I.COMPAGNIA_LIGURE_INVESTIMENTI</td>\n      <td>Milano</td>\n      <td>None</td>\n      <td>Proprieta'</td>\n      <td>1</td>\n      <td>1</td>\n      <td>1</td>\n      <td>0</td>\n      <td>0</td>\n      <td>...</td>\n      <td>NaN</td>\n      <td>NaN</td>\n      <td>NaT</td>\n      <td>NaN</td>\n      <td>NaN</td>\n      <td>NaN</td>\n      <td>NaN</td>\n      <td>NaN</td>\n      <td>NaN</td>\n      <td>NaN</td>\n    </tr>\n    <tr>\n      <th>1</th>\n      <td>1136dc3a-2321-4c46-ae2f-2167d2826d62</td>\n      <td>-IMPRESA_SOC.COSTR.TRONI_OMILDE_E_FIGLI-S.N.C.</td>\n      <td>Firenze</td>\n      <td>None</td>\n      <td></td>\n      <td>2</td>\n      <td>0</td>\n      <td>0</td>\n      <td>0</td>\n      <td>0</td>\n      <td>...</td>\n      <td>NaN</td>\n      <td>NaN</td>\n      <td>NaT</td>\n      <td>NaN</td>\n      <td>NaN</td>\n      <td>NaN</td>\n      <td>NaN</td>\n      <td>NaN</td>\n      <td>NaN</td>\n      <td>NaN</td>\n    </tr>\n    <tr>\n      <th>2</th>\n      <td>c563d10f-d166-4770-8640-208b55a7cd5a</td>\n      <td>-SOCIETA'_NUOVA_EDILIZIA_S._DESIDERIO</td>\n      <td>Genova</td>\n      <td>1000/1000</td>\n      <td>Proprieta'</td>\n      <td>1</td>\n      <td>0</td>\n      <td>0</td>\n      <td>0</td>\n      <td>0</td>\n      <td>...</td>\n      <td>NaN</td>\n      <td>NaN</td>\n      <td>NaT</td>\n      <td>NaN</td>\n      <td>NaN</td>\n      <td>NaN</td>\n      <td>NaN</td>\n      <td>NaN</td>\n      <td>NaN</td>\n      <td>NaN</td>\n    </tr>\n    <tr>\n      <th>3</th>\n      <td>91fe7f41-3f98-480d-aa06-b64c8cdfddaf</td>\n      <td>._ROMA_.</td>\n      <td>Roma</td>\n      <td>1/1</td>\n      <td>Diritto del concedente concedente</td>\n      <td>5</td>\n      <td>0</td>\n      <td>0</td>\n      <td>5</td>\n      <td>0</td>\n      <td>...</td>\n      <td>NaN</td>\n      <td>NaN</td>\n      <td>NaT</td>\n      <td>NaN</td>\n      <td>NaN</td>\n      <td>NaN</td>\n      <td>NaN</td>\n      <td>NaN</td>\n      <td>NaN</td>\n      <td>NaN</td>\n    </tr>\n    <tr>\n      <th>4</th>\n      <td>f090add1-1e3a-45d9-8596-7b83de972541</td>\n      <td>''DISCO_PIU'_S.R.L._''_CON_SEDE_IN_MILANO_VIA_...</td>\n      <td>Milano</td>\n      <td>None</td>\n      <td>Proprieta'</td>\n      <td>1</td>\n      <td>1</td>\n      <td>1</td>\n      <td>0</td>\n      <td>0</td>\n      <td>...</td>\n      <td>NaN</td>\n      <td>NaN</td>\n      <td>NaT</td>\n      <td>NaN</td>\n      <td>NaN</td>\n      <td>NaN</td>\n      <td>NaN</td>\n      <td>NaN</td>\n      <td>NaN</td>\n      <td>NaN</td>\n    </tr>\n    <tr>\n      <th>...</th>\n      <td>...</td>\n      <td>...</td>\n      <td>...</td>\n      <td>...</td>\n      <td>...</td>\n      <td>...</td>\n      <td>...</td>\n      <td>...</td>\n      <td>...</td>\n      <td>...</td>\n      <td>...</td>\n      <td>...</td>\n      <td>...</td>\n      <td>...</td>\n      <td>...</td>\n      <td>...</td>\n      <td>...</td>\n      <td>...</td>\n      <td>...</td>\n      <td>...</td>\n      <td>...</td>\n    </tr>\n    <tr>\n      <th>3945940</th>\n      <td>90eddf85-75fd-4255-8767-3bd3add0bd31</td>\n      <td>ZZZVTR60S58L219E</td>\n      <td>Torino</td>\n      <td>1/2</td>\n      <td>Proprieta'</td>\n      <td>2</td>\n      <td>0</td>\n      <td>0</td>\n      <td>0</td>\n      <td>0</td>\n      <td>...</td>\n      <td>NaN</td>\n      <td>NaN</td>\n      <td>NaT</td>\n      <td>NaN</td>\n      <td>NaN</td>\n      <td>NaN</td>\n      <td>NaN</td>\n      <td>NaN</td>\n      <td>NaN</td>\n      <td>NaN</td>\n    </tr>\n    <tr>\n      <th>3945941</th>\n      <td>690db6fa-15e0-4f08-9728-5d3e0d0c30b7</td>\n      <td>ZZZVTR76H25A509E</td>\n      <td>Roma</td>\n      <td>1/2</td>\n      <td>Proprieta'</td>\n      <td>1</td>\n      <td>0</td>\n      <td>0</td>\n      <td>1</td>\n      <td>0</td>\n      <td>...</td>\n      <td>NaN</td>\n      <td>NaN</td>\n      <td>NaT</td>\n      <td>NaN</td>\n      <td>NaN</td>\n      <td>NaN</td>\n      <td>NaN</td>\n      <td>NaN</td>\n      <td>NaN</td>\n      <td>NaN</td>\n    </tr>\n    <tr>\n      <th>3945942</th>\n      <td>28f41fdb-a57a-4136-8ca2-db0b04372bb5</td>\n      <td>ZZZVTR94A02H501S</td>\n      <td>Roma</td>\n      <td>10/40</td>\n      <td>Proprieta' per 10/40</td>\n      <td>1</td>\n      <td>0</td>\n      <td>0</td>\n      <td>0</td>\n      <td>1</td>\n      <td>...</td>\n      <td>NaN</td>\n      <td>NaN</td>\n      <td>NaT</td>\n      <td>NaN</td>\n      <td>NaN</td>\n      <td>NaN</td>\n      <td>NaN</td>\n      <td>NaN</td>\n      <td>NaN</td>\n      <td>NaN</td>\n    </tr>\n    <tr>\n      <th>3945943</th>\n      <td>940a0090-038e-4a9e-90a8-3f4b41e3c151</td>\n      <td>ZZZWLY27H50L273E</td>\n      <td>Torino</td>\n      <td>1/1</td>\n      <td>Proprieta' per 1/1</td>\n      <td>1</td>\n      <td>0</td>\n      <td>0</td>\n      <td>0</td>\n      <td>0</td>\n      <td>...</td>\n      <td>NaN</td>\n      <td>NaN</td>\n      <td>NaT</td>\n      <td>NaN</td>\n      <td>NaN</td>\n      <td>NaN</td>\n      <td>NaN</td>\n      <td>NaN</td>\n      <td>NaN</td>\n      <td>NaN</td>\n    </tr>\n    <tr>\n      <th>3945944</th>\n      <td>d05e7761-6137-4049-9407-025a6aa1c109</td>\n      <td>ZZZWTR82L23F205Z</td>\n      <td>Milano</td>\n      <td>1/1</td>\n      <td>Proprieta' per 1/1</td>\n      <td>3</td>\n      <td>3</td>\n      <td>3</td>\n      <td>0</td>\n      <td>0</td>\n      <td>...</td>\n      <td>Outbound</td>\n      <td>ZZZWTR82L23F205Z</td>\n      <td>2023-02-21 14:56:24</td>\n      <td>1.00</td>\n      <td>deal</td>\n      <td>Milano</td>\n      <td>0.00</td>\n      <td>1.00</td>\n      <td>ZIZZARI WALTER</td>\n      <td></td>\n    </tr>\n  </tbody>\n</table>\n<p>3945945 rows × 27 columns</p>\n</div>"
     },
     "execution_count": 16,
     "metadata": {},
     "output_type": "execute_result"
    }
   ],
   "source": [
    "df"
   ],
   "metadata": {
    "collapsed": false,
    "ExecuteTime": {
     "end_time": "2024-04-04T11:21:57.254959Z",
     "start_time": "2024-04-04T11:21:52.618756Z"
    }
   },
   "id": "6e01900c1d0f3c31",
   "execution_count": 16
  },
  {
   "cell_type": "markdown",
   "source": [
    "### Removing Duplicates"
   ],
   "metadata": {
    "collapsed": false
   },
   "id": "f1f3185c89353a19"
  },
  {
   "cell_type": "code",
   "outputs": [
    {
     "data": {
      "text/plain": "(3945057, 27)"
     },
     "execution_count": 49,
     "metadata": {},
     "output_type": "execute_result"
    }
   ],
   "source": [
    "#CHECK THE SHAPE OF THE DATAFRAME\n",
    "df.shape"
   ],
   "metadata": {
    "collapsed": false,
    "ExecuteTime": {
     "end_time": "2024-04-04T12:05:22.786236Z",
     "start_time": "2024-04-04T12:05:22.779643Z"
    }
   },
   "id": "3acd8b2242eaee77",
   "execution_count": 49
  },
  {
   "cell_type": "code",
   "outputs": [],
   "source": [
    "#Drop Duplicates Rows\n",
    "df.drop_duplicates(inplace=True)"
   ],
   "metadata": {
    "collapsed": false,
    "ExecuteTime": {
     "end_time": "2024-04-04T11:34:51.746878Z",
     "start_time": "2024-04-04T11:34:36.196049Z"
    }
   },
   "id": "ceb9c4627bbfbbc4",
   "execution_count": 23
  },
  {
   "cell_type": "markdown",
   "source": [
    "### Data Imputation"
   ],
   "metadata": {
    "collapsed": false
   },
   "id": "db74881fba96af30"
  },
  {
   "cell_type": "code",
   "outputs": [
    {
     "data": {
      "text/plain": "id_intestati                             0.00\ncodfisc                                  0.00\nattribution                              0.00\nquota                                    6.71\ntitolarita                               0.11\nTotal_IMM                                0.00\nIMM_MILANO_HINTERLAND_No_small_cities    0.00\nIMM_MILANO_HINTERLAND_Small_cities       0.00\nIMM_ROMA_TERRITORIO                      0.00\nIMM_ROMA_PROVINCIA                       0.00\nIMM_TORINO_TERRITORIO                    0.00\nIMM_TORINO_PROVINCIA                     0.00\nIMM_FIRENZE_TERRITORIO                   0.00\nIMM_FIRENZE_PROVINCIA                    0.00\nIMM_GENOVA_TERRITORIO                    0.00\nIMM_GENOVA_PROVINCIA                     0.00\nIMM_OTHER                                0.00\nmkt_acquisition_channel                 94.23\nCodice_Fiscale                          94.23\nperson_add_time                         94.23\nis_archived                             94.23\nstatus                                  94.23\ncity                                    94.23\npipeline_id                             94.23\nis_lead                                 94.23\ntitle                                   94.23\nowner_name                              94.23\ndtype: float64"
     },
     "execution_count": 30,
     "metadata": {},
     "output_type": "execute_result"
    }
   ],
   "source": [
    "#CHECK NULL VALUES\n",
    "df.isnull().sum() / len(df) * 100"
   ],
   "metadata": {
    "collapsed": false,
    "ExecuteTime": {
     "end_time": "2024-04-04T11:38:20.658064Z",
     "start_time": "2024-04-04T11:38:18.758247Z"
    }
   },
   "id": "9ead3041eaeb93fa",
   "execution_count": 30
  },
  {
   "cell_type": "code",
   "outputs": [
    {
     "data": {
      "text/plain": "id_intestati                                     object\ncodfisc                                          object\nattribution                                      object\nquota                                            object\ntitolarita                                       object\nTotal_IMM                                         int64\nIMM_MILANO_HINTERLAND_No_small_cities             int64\nIMM_MILANO_HINTERLAND_Small_cities                int64\nIMM_ROMA_TERRITORIO                               int64\nIMM_ROMA_PROVINCIA                                int64\nIMM_TORINO_TERRITORIO                             int64\nIMM_TORINO_PROVINCIA                              int64\nIMM_FIRENZE_TERRITORIO                            int64\nIMM_FIRENZE_PROVINCIA                             int64\nIMM_GENOVA_TERRITORIO                             int64\nIMM_GENOVA_PROVINCIA                              int64\nIMM_OTHER                                         int64\nmkt_acquisition_channel                          object\nCodice_Fiscale                                   object\nperson_add_time                          datetime64[ns]\nis_archived                                     float64\nstatus                                           object\ncity                                             object\npipeline_id                                     float64\nis_lead                                         float64\ntitle                                            object\nowner_name                                       object\ndtype: object"
     },
     "execution_count": 48,
     "metadata": {},
     "output_type": "execute_result"
    }
   ],
   "source": [
    "#CHECK THE DATA TYPES\n",
    "df.dtypes"
   ],
   "metadata": {
    "collapsed": false,
    "ExecuteTime": {
     "end_time": "2024-04-04T12:05:09.716748Z",
     "start_time": "2024-04-04T12:05:09.708103Z"
    }
   },
   "id": "9b4bd97bca509309",
   "execution_count": 48
  },
  {
   "cell_type": "code",
   "outputs": [],
   "source": [
    "#QUOTA/TITOLITARIA: FILL THE NULL VALUES OF QUOTA WITH THE MODE VALUE\n",
    "df['quota'].fillna(df['quota'].mode()[0], inplace=True)\n",
    "df['titolarita'].fillna(df['quota'].mode()[0], inplace=True)"
   ],
   "metadata": {
    "collapsed": false,
    "ExecuteTime": {
     "end_time": "2024-04-04T12:00:44.287935Z",
     "start_time": "2024-04-04T12:00:42.800389Z"
    }
   },
   "id": "c8040501f2e0cc40",
   "execution_count": 44
  },
  {
   "cell_type": "code",
   "outputs": [
    {
     "data": {
      "text/plain": "quota\n1/1              1534869\n1/2              1155452\n1000/1000         138743\n0.50              119948\n1.00              118333\n                  ...   \n1920/6300              1\n19200/1000000          1\n4340/10000             1\n434/1000               1\n3173/4000              1\nName: quota, Length: 12044, dtype: int64"
     },
     "execution_count": 46,
     "metadata": {},
     "output_type": "execute_result"
    }
   ],
   "source": [
    "#Looking for the most frequent values in the column\n",
    "df.groupby('quota')['quota'].count().sort_values(ascending=False)"
   ],
   "metadata": {
    "collapsed": false,
    "ExecuteTime": {
     "end_time": "2024-04-04T12:04:42.631119Z",
     "start_time": "2024-04-04T12:04:41.638124Z"
    }
   },
   "id": "722c0a66c9bf628c",
   "execution_count": 46
  },
  {
   "cell_type": "markdown",
   "source": [
    "### Descriptive Analysis"
   ],
   "metadata": {
    "collapsed": false
   },
   "id": "41761b52a8ae6701"
  },
  {
   "cell_type": "code",
   "outputs": [
    {
     "data": {
      "text/plain": "       Total_IMM  IMM_MILANO_HINTERLAND_No_small_cities  \\\ncount 3945057.00                             3945057.00   \nmean        1.93                                   0.61   \nmin         1.00                                   0.00   \n25%         1.00                                   0.00   \n50%         1.00                                   0.00   \n75%         2.00                                   1.00   \nmax     74692.00                               42183.00   \nstd        52.68                                  28.82   \n\n       IMM_MILANO_HINTERLAND_Small_cities  IMM_ROMA_TERRITORIO  \\\ncount                          3945057.00           3945057.00   \nmean                                 0.69                 0.45   \nmin                                  0.00                 0.00   \n25%                                  0.00                 0.00   \n50%                                  0.00                 0.00   \n75%                                  1.00                 1.00   \nmax                              47011.00             74692.00   \nstd                                 32.50                40.27   \n\n       IMM_ROMA_PROVINCIA  IMM_TORINO_TERRITORIO  IMM_TORINO_PROVINCIA  \\\ncount          3945057.00             3945057.00            3945057.00   \nmean                 0.10                   0.10                  0.09   \nmin                  0.00                   0.00                  0.00   \n25%                  0.00                   0.00                  0.00   \n50%                  0.00                   0.00                  0.00   \n75%                  0.00                   0.00                  0.00   \nmax                180.00               10000.00                148.00   \nstd                  0.52                   6.19                  0.78   \n\n       IMM_FIRENZE_TERRITORIO  IMM_FIRENZE_PROVINCIA  IMM_GENOVA_TERRITORIO  \\\ncount              3945057.00             3945057.00             3945057.00   \nmean                     0.08                   0.00                   0.03   \nmin                      0.00                   0.00                   0.00   \n25%                      0.00                   0.00                   0.00   \n50%                      0.00                   0.00                   0.00   \n75%                      0.00                   0.00                   0.00   \nmax                   7253.00                  78.00                 991.00   \nstd                      3.72                   0.11                   0.66   \n\n       IMM_GENOVA_PROVINCIA  IMM_OTHER                person_add_time  \\\ncount            3945057.00 3945057.00                         227493   \nmean                   0.01       0.38  2023-11-22 08:08:28.117875456   \nmin                    0.00       0.00            2022-06-11 06:15:36   \n25%                    0.00       0.00            2023-09-11 09:55:58   \n50%                    0.00       0.00            2024-01-11 22:37:44   \n75%                    0.00       0.00            2024-03-06 11:09:13   \nmax                   67.00    9816.00            2024-04-02 17:23:00   \nstd                    0.16       5.89                            NaN   \n\n       is_archived  pipeline_id   is_lead  \ncount    227683.00    227683.00 227683.00  \nmean          0.58         0.21      0.89  \nmin           0.00         0.00      0.00  \n25%           0.00         0.00      1.00  \n50%           0.00         0.00      1.00  \n75%           1.00         0.00      1.00  \nmax           2.00         2.00      1.00  \nstd           0.68         0.62      0.31  ",
      "text/html": "<div>\n<style scoped>\n    .dataframe tbody tr th:only-of-type {\n        vertical-align: middle;\n    }\n\n    .dataframe tbody tr th {\n        vertical-align: top;\n    }\n\n    .dataframe thead th {\n        text-align: right;\n    }\n</style>\n<table border=\"1\" class=\"dataframe\">\n  <thead>\n    <tr style=\"text-align: right;\">\n      <th></th>\n      <th>Total_IMM</th>\n      <th>IMM_MILANO_HINTERLAND_No_small_cities</th>\n      <th>IMM_MILANO_HINTERLAND_Small_cities</th>\n      <th>IMM_ROMA_TERRITORIO</th>\n      <th>IMM_ROMA_PROVINCIA</th>\n      <th>IMM_TORINO_TERRITORIO</th>\n      <th>IMM_TORINO_PROVINCIA</th>\n      <th>IMM_FIRENZE_TERRITORIO</th>\n      <th>IMM_FIRENZE_PROVINCIA</th>\n      <th>IMM_GENOVA_TERRITORIO</th>\n      <th>IMM_GENOVA_PROVINCIA</th>\n      <th>IMM_OTHER</th>\n      <th>person_add_time</th>\n      <th>is_archived</th>\n      <th>pipeline_id</th>\n      <th>is_lead</th>\n    </tr>\n  </thead>\n  <tbody>\n    <tr>\n      <th>count</th>\n      <td>3945057.00</td>\n      <td>3945057.00</td>\n      <td>3945057.00</td>\n      <td>3945057.00</td>\n      <td>3945057.00</td>\n      <td>3945057.00</td>\n      <td>3945057.00</td>\n      <td>3945057.00</td>\n      <td>3945057.00</td>\n      <td>3945057.00</td>\n      <td>3945057.00</td>\n      <td>3945057.00</td>\n      <td>227493</td>\n      <td>227683.00</td>\n      <td>227683.00</td>\n      <td>227683.00</td>\n    </tr>\n    <tr>\n      <th>mean</th>\n      <td>1.93</td>\n      <td>0.61</td>\n      <td>0.69</td>\n      <td>0.45</td>\n      <td>0.10</td>\n      <td>0.10</td>\n      <td>0.09</td>\n      <td>0.08</td>\n      <td>0.00</td>\n      <td>0.03</td>\n      <td>0.01</td>\n      <td>0.38</td>\n      <td>2023-11-22 08:08:28.117875456</td>\n      <td>0.58</td>\n      <td>0.21</td>\n      <td>0.89</td>\n    </tr>\n    <tr>\n      <th>min</th>\n      <td>1.00</td>\n      <td>0.00</td>\n      <td>0.00</td>\n      <td>0.00</td>\n      <td>0.00</td>\n      <td>0.00</td>\n      <td>0.00</td>\n      <td>0.00</td>\n      <td>0.00</td>\n      <td>0.00</td>\n      <td>0.00</td>\n      <td>0.00</td>\n      <td>2022-06-11 06:15:36</td>\n      <td>0.00</td>\n      <td>0.00</td>\n      <td>0.00</td>\n    </tr>\n    <tr>\n      <th>25%</th>\n      <td>1.00</td>\n      <td>0.00</td>\n      <td>0.00</td>\n      <td>0.00</td>\n      <td>0.00</td>\n      <td>0.00</td>\n      <td>0.00</td>\n      <td>0.00</td>\n      <td>0.00</td>\n      <td>0.00</td>\n      <td>0.00</td>\n      <td>0.00</td>\n      <td>2023-09-11 09:55:58</td>\n      <td>0.00</td>\n      <td>0.00</td>\n      <td>1.00</td>\n    </tr>\n    <tr>\n      <th>50%</th>\n      <td>1.00</td>\n      <td>0.00</td>\n      <td>0.00</td>\n      <td>0.00</td>\n      <td>0.00</td>\n      <td>0.00</td>\n      <td>0.00</td>\n      <td>0.00</td>\n      <td>0.00</td>\n      <td>0.00</td>\n      <td>0.00</td>\n      <td>0.00</td>\n      <td>2024-01-11 22:37:44</td>\n      <td>0.00</td>\n      <td>0.00</td>\n      <td>1.00</td>\n    </tr>\n    <tr>\n      <th>75%</th>\n      <td>2.00</td>\n      <td>1.00</td>\n      <td>1.00</td>\n      <td>1.00</td>\n      <td>0.00</td>\n      <td>0.00</td>\n      <td>0.00</td>\n      <td>0.00</td>\n      <td>0.00</td>\n      <td>0.00</td>\n      <td>0.00</td>\n      <td>0.00</td>\n      <td>2024-03-06 11:09:13</td>\n      <td>1.00</td>\n      <td>0.00</td>\n      <td>1.00</td>\n    </tr>\n    <tr>\n      <th>max</th>\n      <td>74692.00</td>\n      <td>42183.00</td>\n      <td>47011.00</td>\n      <td>74692.00</td>\n      <td>180.00</td>\n      <td>10000.00</td>\n      <td>148.00</td>\n      <td>7253.00</td>\n      <td>78.00</td>\n      <td>991.00</td>\n      <td>67.00</td>\n      <td>9816.00</td>\n      <td>2024-04-02 17:23:00</td>\n      <td>2.00</td>\n      <td>2.00</td>\n      <td>1.00</td>\n    </tr>\n    <tr>\n      <th>std</th>\n      <td>52.68</td>\n      <td>28.82</td>\n      <td>32.50</td>\n      <td>40.27</td>\n      <td>0.52</td>\n      <td>6.19</td>\n      <td>0.78</td>\n      <td>3.72</td>\n      <td>0.11</td>\n      <td>0.66</td>\n      <td>0.16</td>\n      <td>5.89</td>\n      <td>NaN</td>\n      <td>0.68</td>\n      <td>0.62</td>\n      <td>0.31</td>\n    </tr>\n  </tbody>\n</table>\n</div>"
     },
     "execution_count": 50,
     "metadata": {},
     "output_type": "execute_result"
    }
   ],
   "source": [
    "#CHECK THE STATISTICAL SUMMARY OF THE DATAFRAME\n",
    "df.describe()"
   ],
   "metadata": {
    "collapsed": false,
    "ExecuteTime": {
     "end_time": "2024-04-04T12:05:40.780619Z",
     "start_time": "2024-04-04T12:05:38.737768Z"
    }
   },
   "id": "8bfca59ba7b5408f",
   "execution_count": 50
  },
  {
   "cell_type": "markdown",
   "source": [
    "### Data Visualization"
   ],
   "metadata": {
    "collapsed": false
   },
   "id": "f3c71924d68da63e"
  },
  {
   "cell_type": "code",
   "outputs": [],
   "source": [
    "#PLOT THE DISTRIBUTION OF THE DEAL VALUES\n",
    "plt.figure(figsize=(10, 6))"
   ],
   "metadata": {
    "collapsed": false
   },
   "id": "faa4a7c31f9c4608"
  },
  {
   "cell_type": "code",
   "outputs": [],
   "source": [
    "sns.histplot(df['deal_value'], bins=30, kde=True)\n",
    "plt.title('Distribution of Deal Values')\n",
    "plt.xlabel('Deal Value')\n",
    "plt.ylabel('Frequency')\n",
    "plt.show()"
   ],
   "metadata": {
    "collapsed": false
   },
   "id": "b3d775d20399c59c"
  },
  {
   "cell_type": "code",
   "outputs": [],
   "source": [
    "#PLOT THE DISTRIBUTION OF THE DEAL VALUES\n",
    "plt.figure(figsize=(10, 6))"
   ],
   "metadata": {
    "collapsed": false
   },
   "id": "c91d82570a972dc8"
  },
  {
   "cell_type": "code",
   "outputs": [],
   "source": [
    "sns.boxplot(df['deal_value'])\n",
    "plt.title('Distribution of Deal Values')\n",
    "plt.xlabel('Deal Value')\n",
    "plt.show()"
   ],
   "metadata": {
    "collapsed": false
   },
   "id": "ba0effa2a6515b87"
  },
  {
   "cell_type": "markdown",
   "source": [
    "# Feature Engineering"
   ],
   "metadata": {
    "collapsed": false
   },
   "id": "f21c462a36be310e"
  },
  {
   "cell_type": "code",
   "outputs": [],
   "source": [
    "#CREATE A NEW COLUMN FOR THE DEAL VALUE\n",
    "df['deal_value_log'] = np.log1p(df['deal_value'])"
   ],
   "metadata": {
    "collapsed": false
   },
   "id": "a170a5dd2ba1ac78"
  },
  {
   "cell_type": "code",
   "outputs": [],
   "source": [
    "#PLOT THE DISTRIBUT\n",
    "plt.figure(figsize=(10, 6))"
   ],
   "metadata": {
    "collapsed": false
   },
   "id": "e258488f1eb1e773"
  },
  {
   "cell_type": "code",
   "outputs": [],
   "source": [
    "sns.histplot(df['deal_value_log'], bins=30, kde=True)\n",
    "plt.title('Distribution of Log Deal Values')\n",
    "plt.xlabel('Log Deal Value')\n",
    "plt.ylabel('Frequency')\n",
    "plt.show()"
   ],
   "metadata": {
    "collapsed": false
   },
   "id": "99ed917a6fe730ba"
  },
  {
   "cell_type": "markdown",
   "source": [
    "# Feature Selection"
   ],
   "metadata": {
    "collapsed": false
   },
   "id": "496798ed9462ea71"
  },
  {
   "cell_type": "code",
   "outputs": [],
   "source": [
    "#SELECT THE COLUMNS FOR THE CLUSTERING\n",
    "X = df[['deal_value_log']]"
   ],
   "metadata": {
    "collapsed": false
   },
   "id": "eebfdbf17cf02810"
  },
  {
   "cell_type": "code",
   "outputs": [],
   "source": [
    "#CHECK THE SHAPE OF THE DATAFRAME\n",
    "X.shape"
   ],
   "metadata": {
    "collapsed": false
   },
   "id": "a36c42a8d9124404"
  },
  {
   "cell_type": "code",
   "outputs": [],
   "source": [
    "#CHECK THE FIRST FEW ROWS OF THE DATAFRAME\n",
    "X.head()"
   ],
   "metadata": {
    "collapsed": false
   },
   "id": "3e2d5888e7ef0f5a"
  },
  {
   "cell_type": "code",
   "outputs": [],
   "source": [
    "#PLOT THE DISTRIBUTION OF THE DEAL VALUES\n",
    "plt.figure(figsize=(10, 6))"
   ],
   "metadata": {
    "collapsed": false
   },
   "id": "d467ef4c544f7a0a"
  },
  {
   "cell_type": "code",
   "outputs": [],
   "source": [
    "sns.histplot(X['deal_value_log'], bins=30, kde=True)\n",
    "plt.title('Distribution of Log Deal Values')\n",
    "plt.xlabel('Log Deal Value')\n",
    "plt.ylabel('Frequency')\n",
    "plt.show()"
   ],
   "metadata": {
    "collapsed": false
   },
   "id": "68f4cb9890e6c0d5"
  },
  {
   "cell_type": "markdown",
   "source": [
    "# Model Training"
   ],
   "metadata": {
    "collapsed": false
   },
   "id": "20913faa92858362"
  },
  {
   "cell_type": "code",
   "outputs": [],
   "source": [
    "#DEFINE THE NUMBER OF CLUSTERS\n",
    "n_clusters = 3"
   ],
   "metadata": {
    "collapsed": false
   },
   "id": "774da92943e80284"
  },
  {
   "cell_type": "code",
   "outputs": [],
   "source": [
    "#CREATE THE KMEANS MODEL\n",
    "kmeans = KMeans(n_clusters=n_clusters, random_state=0)"
   ],
   "metadata": {
    "collapsed": false
   },
   "id": "11d7524bd1ac4a70"
  },
  {
   "cell_type": "code",
   "outputs": [],
   "source": [
    "#FIT THE MODEL\n",
    "kmeans.fit(X)"
   ],
   "metadata": {
    "collapsed": false
   },
   "id": "e8833c59707faa3b"
  },
  {
   "cell_type": "code",
   "outputs": [],
   "source": [
    "#PREDICT THE CLUSTERS\n",
    "df['cluster'] = kmeans.predict(X)"
   ],
   "metadata": {
    "collapsed": false
   },
   "id": "3c8d5cda1a93f3e2"
  },
  {
   "cell_type": "code",
   "outputs": [],
   "source": [
    "#PLOT THE CLUSTERS\n",
    "plt.figure(figsize=(10, 6))"
   ],
   "metadata": {
    "collapsed": false
   },
   "id": "b02c1a85bad5445e"
  },
  {
   "cell_type": "code",
   "outputs": [],
   "source": [
    "sns.scatterplot(x='deal_value_log', y='deal_value', hue='cluster', data=df)\n",
    "plt.title('Clusters of Deal Values')\n",
    "plt.xlabel('Log Deal Value')\n",
    "plt.ylabel('Deal Value')\n",
    "plt.show()"
   ],
   "metadata": {
    "collapsed": false
   },
   "id": "839da123bcaee682"
  },
  {
   "cell_type": "markdown",
   "source": [
    "# Transfer Learning"
   ],
   "metadata": {
    "collapsed": false
   },
   "id": "6667ec01cbb740a"
  },
  {
   "cell_type": "markdown",
   "source": [
    "# Model Evaluation"
   ],
   "metadata": {
    "collapsed": false
   },
   "id": "59508192d5a438ab"
  },
  {
   "cell_type": "markdown",
   "source": [
    "# Deployment"
   ],
   "metadata": {
    "collapsed": false
   },
   "id": "278400752870fcf3"
  },
  {
   "cell_type": "markdown",
   "source": [
    "# Monitoring"
   ],
   "metadata": {
    "collapsed": false
   },
   "id": "343f437d9c5f34c0"
  },
  {
   "cell_type": "code",
   "outputs": [],
   "source": [],
   "metadata": {
    "collapsed": false
   },
   "id": "39f53e573728af8"
  }
 ],
 "metadata": {
  "kernelspec": {
   "display_name": "Python 3",
   "language": "python",
   "name": "python3"
  },
  "language_info": {
   "codemirror_mode": {
    "name": "ipython",
    "version": 2
   },
   "file_extension": ".py",
   "mimetype": "text/x-python",
   "name": "python",
   "nbconvert_exporter": "python",
   "pygments_lexer": "ipython2",
   "version": "2.7.6"
  }
 },
 "nbformat": 4,
 "nbformat_minor": 5
}
