{
 "cells": [
  {
   "cell_type": "markdown",
   "source": [
    "# Import the Necessary Libraries"
   ],
   "metadata": {
    "collapsed": false
   },
   "id": "9ce7854af68bb7df"
  },
  {
   "cell_type": "code",
   "outputs": [],
   "source": [
    "#IMPORT THE PANDAS AND NUMPY LIBRARIES\n",
    "import pandas as pd\n",
    "import numpy as np\n",
    "pd.options.display.float_format = '{:.2f}'.format\n",
    "import warnings\n",
    "warnings.filterwarnings('ignore')\n",
    "\n",
    "#IMPORT THE SCIKIT-LEARN LIBRARIES\n",
    "from sklearn.cluster import KMeans\n",
    "from sklearn.metrics import silhouette_score\n",
    "from mpl_toolkits.mplot3d import Axes3D\n",
    "\n",
    "#IMPORT THE VISUALIZATION LIBRARIES\n",
    "import plotly.express as px\n",
    "import kaleido\n",
    "import matplotlib.pyplot as plt\n",
    "%matplotlib inline\n",
    "import seaborn as sns\n",
    "\n",
    "#IMPORT THE SQALCHEMY LIBRARY's CREATE_ENGINE METHOD\n",
    "import mysql.connector\n",
    "from mysql.connector import Error"
   ],
   "metadata": {
    "collapsed": false,
    "ExecuteTime": {
     "end_time": "2024-04-06T14:10:54.053698Z",
     "start_time": "2024-04-06T14:10:52.326060Z"
    }
   },
   "id": "750910e1db8f13eb",
   "execution_count": 1
  },
  {
   "cell_type": "markdown",
   "source": [
    "# Import data from MySQL DB"
   ],
   "metadata": {
    "collapsed": false
   },
   "id": "904c476ef34da892"
  },
  {
   "cell_type": "code",
   "outputs": [
    {
     "name": "stdout",
     "output_type": "stream",
     "text": [
      "Connected to MySQL database... MySQL Server version on  8.0.35\n",
      "MySQL connection is closed\n"
     ]
    }
   ],
   "source": [
    "try:\n",
    "    connection = mysql.connector.connect(host='scraper.cx53soegx3qk.eu-west-1.rds.amazonaws.com',\n",
    "                                         database='pipedrive',\n",
    "                                         user='pipedrive',\n",
    "                                         password='#8LsH25%ZD', use_pure=True)\n",
    "    if connection.is_connected():\n",
    "        db_Info = connection.get_server_info()\n",
    "        data = pd.read_sql('SELECT * FROM clustering', connection)\n",
    "        print(\"Connected to MySQL database... MySQL Server version on \", db_Info)\n",
    "except Error as e:\n",
    "    print(\"Error while connecting to MySQL\", e)\n",
    "finally:\n",
    "    if connection.is_connected():\n",
    "        connection.close()\n",
    "        print(\"MySQL connection is closed\")"
   ],
   "metadata": {
    "collapsed": false,
    "ExecuteTime": {
     "end_time": "2024-04-06T14:37:56.211511Z",
     "start_time": "2024-04-06T14:30:44.185923Z"
    }
   },
   "id": "bfb051eae11558d0",
   "execution_count": 21
  },
  {
   "cell_type": "markdown",
   "source": [
    "# Data Preprocessing"
   ],
   "metadata": {
    "collapsed": false
   },
   "id": "823309a71045de5f"
  },
  {
   "cell_type": "code",
   "outputs": [
    {
     "data": {
      "text/plain": "(3957583, 28)"
     },
     "execution_count": 131,
     "metadata": {},
     "output_type": "execute_result"
    }
   ],
   "source": [
    "#CHECK THE SHAPE OF THE DATAFRAME\n",
    "data.shape"
   ],
   "metadata": {
    "collapsed": false,
    "ExecuteTime": {
     "end_time": "2024-04-06T15:43:16.312550Z",
     "start_time": "2024-04-06T15:43:16.108772Z"
    }
   },
   "id": "3acd8b2242eaee77",
   "execution_count": 131
  },
  {
   "cell_type": "code",
   "outputs": [
    {
     "data": {
      "text/plain": "       mkt_acquisition_channel    Codice_Fiscale     person_add_time  \\\n0                          NaN               NaN                 NaT   \n1                                            NaN 2022-06-10 15:36:56   \n2                          dem               NaN 2022-06-10 17:02:55   \n3                   SocialPaid               NaN 2022-06-10 17:57:08   \n4                   SocialPaid               NaN 2022-06-10 18:19:46   \n...                        ...               ...                 ...   \n202236                Outbound  GRBRLS62D49F205N 2024-03-12 00:00:00   \n202237                Outbound  PNGWTR65C24F205N 2024-02-28 00:00:00   \n202238                Outbound  BCCMND43C42I474X 2024-03-12 00:00:00   \n202239                Outbound  MRCFRZ62M17F351S 2024-03-12 00:00:00   \n202240                Outbound  NNLMPL68S47F205M 2024-01-11 00:00:00   \n\n       is_archived status                city pipeline_id  is_lead  \\\n0                1   deal                 NaN           0        1   \n1                1   deal                 NaN           0        1   \n2                1   deal                Roma           0        1   \n3                1   deal              Torino           0        1   \n4                1   deal              Torino           0        1   \n...            ...    ...                 ...         ...      ...   \n202236           2   open  Milano - Provincia           2        0   \n202237           2   open              Milano           2        0   \n202238           2   open     Milano - Paullo           2        0   \n202239           2   open                Roma           2        0   \n202240           2   open              Milano           2        0   \n\n                          title        owner_name  \n0                   dsfsre lead                    \n1                         23099                    \n2                         23106                    \n3                         23108                    \n4                         23111                    \n...                         ...               ...  \n202236  GORBANI RITA ELISABETTA       Giada Mazza  \n202237    PANGHERZ WALTER MARIA             erick  \n202238        BACCOLINI MIRANDA    Valeria Grassi  \n202239       MERCENATI FABRIZIO  Claudia Mastrota  \n202240  ANNALE MARIA PAOLA lead  Claudia Mastrota  \n\n[202241 rows x 10 columns]",
      "text/html": "<div>\n<style scoped>\n    .dataframe tbody tr th:only-of-type {\n        vertical-align: middle;\n    }\n\n    .dataframe tbody tr th {\n        vertical-align: top;\n    }\n\n    .dataframe thead th {\n        text-align: right;\n    }\n</style>\n<table border=\"1\" class=\"dataframe\">\n  <thead>\n    <tr style=\"text-align: right;\">\n      <th></th>\n      <th>mkt_acquisition_channel</th>\n      <th>Codice_Fiscale</th>\n      <th>person_add_time</th>\n      <th>is_archived</th>\n      <th>status</th>\n      <th>city</th>\n      <th>pipeline_id</th>\n      <th>is_lead</th>\n      <th>title</th>\n      <th>owner_name</th>\n    </tr>\n  </thead>\n  <tbody>\n    <tr>\n      <th>0</th>\n      <td>NaN</td>\n      <td>NaN</td>\n      <td>NaT</td>\n      <td>1</td>\n      <td>deal</td>\n      <td>NaN</td>\n      <td>0</td>\n      <td>1</td>\n      <td>dsfsre lead</td>\n      <td></td>\n    </tr>\n    <tr>\n      <th>1</th>\n      <td></td>\n      <td>NaN</td>\n      <td>2022-06-10 15:36:56</td>\n      <td>1</td>\n      <td>deal</td>\n      <td>NaN</td>\n      <td>0</td>\n      <td>1</td>\n      <td>23099</td>\n      <td></td>\n    </tr>\n    <tr>\n      <th>2</th>\n      <td>dem</td>\n      <td>NaN</td>\n      <td>2022-06-10 17:02:55</td>\n      <td>1</td>\n      <td>deal</td>\n      <td>Roma</td>\n      <td>0</td>\n      <td>1</td>\n      <td>23106</td>\n      <td></td>\n    </tr>\n    <tr>\n      <th>3</th>\n      <td>SocialPaid</td>\n      <td>NaN</td>\n      <td>2022-06-10 17:57:08</td>\n      <td>1</td>\n      <td>deal</td>\n      <td>Torino</td>\n      <td>0</td>\n      <td>1</td>\n      <td>23108</td>\n      <td></td>\n    </tr>\n    <tr>\n      <th>4</th>\n      <td>SocialPaid</td>\n      <td>NaN</td>\n      <td>2022-06-10 18:19:46</td>\n      <td>1</td>\n      <td>deal</td>\n      <td>Torino</td>\n      <td>0</td>\n      <td>1</td>\n      <td>23111</td>\n      <td></td>\n    </tr>\n    <tr>\n      <th>...</th>\n      <td>...</td>\n      <td>...</td>\n      <td>...</td>\n      <td>...</td>\n      <td>...</td>\n      <td>...</td>\n      <td>...</td>\n      <td>...</td>\n      <td>...</td>\n      <td>...</td>\n    </tr>\n    <tr>\n      <th>202236</th>\n      <td>Outbound</td>\n      <td>GRBRLS62D49F205N</td>\n      <td>2024-03-12 00:00:00</td>\n      <td>2</td>\n      <td>open</td>\n      <td>Milano - Provincia</td>\n      <td>2</td>\n      <td>0</td>\n      <td>GORBANI RITA ELISABETTA</td>\n      <td>Giada Mazza</td>\n    </tr>\n    <tr>\n      <th>202237</th>\n      <td>Outbound</td>\n      <td>PNGWTR65C24F205N</td>\n      <td>2024-02-28 00:00:00</td>\n      <td>2</td>\n      <td>open</td>\n      <td>Milano</td>\n      <td>2</td>\n      <td>0</td>\n      <td>PANGHERZ WALTER MARIA</td>\n      <td>erick</td>\n    </tr>\n    <tr>\n      <th>202238</th>\n      <td>Outbound</td>\n      <td>BCCMND43C42I474X</td>\n      <td>2024-03-12 00:00:00</td>\n      <td>2</td>\n      <td>open</td>\n      <td>Milano - Paullo</td>\n      <td>2</td>\n      <td>0</td>\n      <td>BACCOLINI MIRANDA</td>\n      <td>Valeria Grassi</td>\n    </tr>\n    <tr>\n      <th>202239</th>\n      <td>Outbound</td>\n      <td>MRCFRZ62M17F351S</td>\n      <td>2024-03-12 00:00:00</td>\n      <td>2</td>\n      <td>open</td>\n      <td>Roma</td>\n      <td>2</td>\n      <td>0</td>\n      <td>MERCENATI FABRIZIO</td>\n      <td>Claudia Mastrota</td>\n    </tr>\n    <tr>\n      <th>202240</th>\n      <td>Outbound</td>\n      <td>NNLMPL68S47F205M</td>\n      <td>2024-01-11 00:00:00</td>\n      <td>2</td>\n      <td>open</td>\n      <td>Milano</td>\n      <td>2</td>\n      <td>0</td>\n      <td>ANNALE MARIA PAOLA lead</td>\n      <td>Claudia Mastrota</td>\n    </tr>\n  </tbody>\n</table>\n<p>202241 rows × 10 columns</p>\n</div>"
     },
     "execution_count": 25,
     "metadata": {},
     "output_type": "execute_result"
    }
   ],
   "source": [
    "data"
   ],
   "metadata": {
    "collapsed": false,
    "ExecuteTime": {
     "end_time": "2024-04-06T14:37:58.364111Z",
     "start_time": "2024-04-06T14:37:58.251036Z"
    }
   },
   "id": "1a6fa05e173191ae",
   "execution_count": 25
  },
  {
   "cell_type": "markdown",
   "source": [
    "### Removing Duplicates"
   ],
   "metadata": {
    "collapsed": false
   },
   "id": "f1f3185c89353a19"
  },
  {
   "cell_type": "code",
   "outputs": [],
   "source": [
    "#Drop Duplicates Rows\n",
    "data.drop_duplicates(inplace=True)"
   ],
   "metadata": {
    "collapsed": false,
    "ExecuteTime": {
     "end_time": "2024-04-06T15:43:36.541878Z",
     "start_time": "2024-04-06T15:43:16.314592Z"
    }
   },
   "id": "ceb9c4627bbfbbc4",
   "execution_count": 132
  },
  {
   "cell_type": "markdown",
   "source": [
    "### Data Imputation"
   ],
   "metadata": {
    "collapsed": false
   },
   "id": "db74881fba96af30"
  },
  {
   "cell_type": "code",
   "outputs": [
    {
     "data": {
      "text/plain": "division                   0.11\nattribution               11.67\nmkt_acquisition_channel   95.61\nCodice_Fiscale            95.61\nis_archived               95.61\nstatus                    95.61\ncity                      95.61\npipeline_id               95.61\nis_lead                   95.61\ntitle                     95.61\nowner_name                95.61\nperson_add_time           95.61\ndtype: float64"
     },
     "execution_count": 201,
     "metadata": {},
     "output_type": "execute_result"
    }
   ],
   "source": [
    "#CHECK NULL VALUES\n",
    "null_values = data.isnull().sum() / len(df) * 100\n",
    "null_values[null_values > 0].sort_values(ascending=True)"
   ],
   "metadata": {
    "collapsed": false,
    "ExecuteTime": {
     "end_time": "2024-04-06T16:35:04.276533Z",
     "start_time": "2024-04-06T16:35:01.494116Z"
    }
   },
   "id": "9ead3041eaeb93fa",
   "execution_count": 201
  },
  {
   "cell_type": "code",
   "outputs": [
    {
     "data": {
      "text/plain": "id_intestati                                     object\ncodfisc                                          object\nattribution                                      object\nquota                                            object\ntitolarita                                       object\nTotal_IMM                                         int64\nIMM_MILANO_HINTERLAND_No_small_cities             int64\nIMM_MILANO_HINTERLAND_Small_cities                int64\nIMM_ROMA_TERRITORIO                               int64\nIMM_ROMA_CITTA                                    int64\nIMM_ROMA_PROVINCIA                                int64\nIMM_TORINO_TERRITORIO                             int64\nIMM_TORINO_PROVINCIA                              int64\nIMM_FIRENZE_TERRITORIO                            int64\nIMM_FIRENZE_PROVINCIA                             int64\nIMM_GENOVA_TERRITORIO                             int64\nIMM_GENOVA_PROVINCIA                              int64\nIMM_OTHER                                         int64\nmkt_acquisition_channel                          object\nCodice_Fiscale                                   object\nperson_add_time                          datetime64[ns]\nis_archived                                      object\nstatus                                           object\ncity                                             object\npipeline_id                                      object\nis_lead                                         float64\ntitle                                            object\nowner_name                                       object\ndtype: object"
     },
     "execution_count": 134,
     "metadata": {},
     "output_type": "execute_result"
    }
   ],
   "source": [
    "#CHECK THE DATA TYPES\n",
    "data.dtypes"
   ],
   "metadata": {
    "collapsed": false,
    "ExecuteTime": {
     "end_time": "2024-04-06T15:43:38.962141Z",
     "start_time": "2024-04-06T15:43:38.950824Z"
    }
   },
   "id": "9b4bd97bca509309",
   "execution_count": 134
  },
  {
   "cell_type": "markdown",
   "source": [
    "#### Quota Column"
   ],
   "metadata": {
    "collapsed": false
   },
   "id": "95e0d61fda49e66e"
  },
  {
   "cell_type": "code",
   "outputs": [],
   "source": [
    "#QUOTA. FILL THE NULL VALUES OF QUOTA WITH THE MODE VALUE\n",
    "data['quota'].fillna(data['quota'].mode()[0], inplace=True)\n",
    "data['quota'][data['quota'] == ''] = 0"
   ],
   "metadata": {
    "collapsed": false,
    "ExecuteTime": {
     "end_time": "2024-04-06T15:43:40.905222Z",
     "start_time": "2024-04-06T15:43:38.966683Z"
    }
   },
   "id": "c8040501f2e0cc40",
   "execution_count": 135
  },
  {
   "cell_type": "code",
   "outputs": [],
   "source": [
    "#Split Quota column from df dataframe into two columns by \"/\"\n",
    "data[['numerator','denominator']] = data['quota'].str.split(\"/\",expand=True)"
   ],
   "metadata": {
    "collapsed": false,
    "ExecuteTime": {
     "end_time": "2024-04-06T15:44:01.065356Z",
     "start_time": "2024-04-06T15:43:40.908418Z"
    }
   },
   "id": "c64f3fa0a5e6a310",
   "execution_count": 136
  },
  {
   "cell_type": "code",
   "outputs": [],
   "source": [
    "#Convert NaNs to a number (e.g., -1 or 0) or drop the rows with NaNs\n",
    "data['numerator'] = data['numerator'].fillna(0) \n",
    "#Where there is numerator values. Fill the missing values in the 'denominator' column with the values in the 'numerator' column\n",
    "data['denominator'][(data['denominator'].isnull())] = data['numerator'][(data['denominator'].isnull())]\n",
    "#Looking for the most frequent values in the column\n",
    "data.groupby('denominator')['denominator'].count().sort_values(ascending=False).head(50)\n",
    "data['denominator'][data['denominator'] == ''] = data['numerator'][data['denominator'] == '']"
   ],
   "metadata": {
    "collapsed": false,
    "ExecuteTime": {
     "end_time": "2024-04-06T16:01:43.686521Z",
     "start_time": "2024-04-06T16:01:43.130204Z"
    }
   },
   "id": "374221aa870ffc56",
   "execution_count": 156
  },
  {
   "cell_type": "code",
   "outputs": [],
   "source": [
    "#Create a column named 'division' with the ratio of 'numerator' and 'denominator'\n",
    "data['%Ownership'] = data['numerator'].astype(float) / data['denominator'].astype(float) \n",
    "#Fill na values of %Ownership column with 1.00\n",
    "data['%Ownership'].fillna(1.00, inplace=True)"
   ],
   "metadata": {
    "collapsed": false,
    "ExecuteTime": {
     "end_time": "2024-04-06T16:34:24.016095Z",
     "start_time": "2024-04-06T16:34:22.506185Z"
    }
   },
   "id": "57c15c9fcbc6dfad",
   "execution_count": 197
  },
  {
   "cell_type": "code",
   "outputs": [
    {
     "data": {
      "text/plain": "%Ownership\n1.00        2143546\n0.50        1200906\n0.17         111150\n0.33         102107\n0.25          75118\n             ...   \n0.02              1\n0.13              1\n0.13              1\n0.02              1\n17777.64          1\nName: %Ownership, Length: 6702, dtype: int64"
     },
     "execution_count": 198,
     "metadata": {},
     "output_type": "execute_result"
    }
   ],
   "source": [
    "data.groupby('%Ownership')['%Ownership'].count().sort_values(ascending=False)"
   ],
   "metadata": {
    "collapsed": false,
    "ExecuteTime": {
     "end_time": "2024-04-06T16:34:28.554202Z",
     "start_time": "2024-04-06T16:34:28.420668Z"
    }
   },
   "id": "4ba3047276fde5b4",
   "execution_count": 198
  },
  {
   "cell_type": "code",
   "outputs": [
    {
     "data": {
      "text/plain": "                                 id_intestati           codfisc attribution  \\\n25949    7c2d7907-7145-4111-bc93-f8bf3299994b       06782321001        None   \n32414    4450616f-37b2-42f7-9a24-c4e6aa9f6591       09479010580        None   \n41210    8b3454d3-ce84-4ba0-8a8d-5c86f5a7d67d       44044569000        None   \n59673    295789ea-0962-4e82-8923-682cf2de8377  BAEBNG86M28Z213I        None   \n59674    b2981071-779e-4a4e-9234-60bfcfeff37d  BAEHWN62B54Z213Q        None   \n...                                       ...               ...         ...   \n3957561  d44687ff-1e19-4f85-a44a-bcf3f0308a81  ZZZVLR63A24B842Q        None   \n3957566  c83f2efa-ab12-4579-be91-87a36695f5b4  ZZZVLR89D54H501A        None   \n3957570  615c1497-1e9c-4107-8dcf-6aec53908186  ZZZVNT38M04C741O        None   \n3957573  34b074ce-6d1d-418b-ae43-a9f445c0b3fa  ZZZVNT83L63H501I        None   \n3957580  28f41fdb-a57a-4136-8ca2-db0b04372bb5  ZZZVTR94A02H501S        None   \n\n           quota             titolarita  Total_IMM  \\\n25949        1/1      Proprieta per 1/1          1   \n32414        1/1      Proprieta per 1/1          1   \n41210        1/2      Proprieta per 1/2          1   \n59673        1/2      Proprieta per 1/2          1   \n59674        1/2      Proprieta per 1/2          1   \n...          ...                    ...        ...   \n3957561  100/100  Proprieta per 100/100          1   \n3957566      1/1      Proprieta per 1/1          1   \n3957570      1/2      Proprieta per 1/2          1   \n3957573      3/6      Proprieta per 3/6          1   \n3957580    10/40    Proprieta per 10/40          1   \n\n         IMM_MILANO_HINTERLAND_No_small_cities  \\\n25949                                        0   \n32414                                        0   \n41210                                        0   \n59673                                        0   \n59674                                        0   \n...                                        ...   \n3957561                                      0   \n3957566                                      0   \n3957570                                      0   \n3957573                                      0   \n3957580                                      0   \n\n         IMM_MILANO_HINTERLAND_Small_cities  IMM_ROMA_TERRITORIO  \\\n25949                                     0                    0   \n32414                                     0                    0   \n41210                                     0                    0   \n59673                                     0                    0   \n59674                                     0                    0   \n...                                     ...                  ...   \n3957561                                   0                    0   \n3957566                                   0                    0   \n3957570                                   0                    0   \n3957573                                   0                    0   \n3957580                                   0                    0   \n\n         IMM_ROMA_CITTA  ...  status  city  pipeline_id  is_lead  title  \\\n25949                 0  ...     NaN   NaN          NaN      NaN    NaN   \n32414                 0  ...     NaN   NaN          NaN      NaN    NaN   \n41210                 0  ...     NaN   NaN          NaN      NaN    NaN   \n59673                 0  ...     NaN   NaN          NaN      NaN    NaN   \n59674                 0  ...     NaN   NaN          NaN      NaN    NaN   \n...                 ...  ...     ...   ...          ...      ...    ...   \n3957561               0  ...     NaN   NaN          NaN      NaN    NaN   \n3957566               0  ...     NaN   NaN          NaN      NaN    NaN   \n3957570               0  ...     NaN   NaN          NaN      NaN    NaN   \n3957573               0  ...     NaN   NaN          NaN      NaN    NaN   \n3957580               0  ...     NaN   NaN          NaN      NaN    NaN   \n\n         owner_name  numerator  denominator division %Ownership  \n25949           NaN          1            1     1.00       1.00  \n32414           NaN          1            1     1.00       1.00  \n41210           NaN          1            2     0.50       0.50  \n59673           NaN          1            2     0.50       0.50  \n59674           NaN          1            2     0.50       0.50  \n...             ...        ...          ...      ...        ...  \n3957561         NaN        100          100     1.00       1.00  \n3957566         NaN          1            1     1.00       1.00  \n3957570         NaN          1            2     0.50       0.50  \n3957573         NaN          3            6     0.50       0.50  \n3957580         NaN         10           40     0.25       0.25  \n\n[461633 rows x 32 columns]",
      "text/html": "<div>\n<style scoped>\n    .dataframe tbody tr th:only-of-type {\n        vertical-align: middle;\n    }\n\n    .dataframe tbody tr th {\n        vertical-align: top;\n    }\n\n    .dataframe thead th {\n        text-align: right;\n    }\n</style>\n<table border=\"1\" class=\"dataframe\">\n  <thead>\n    <tr style=\"text-align: right;\">\n      <th></th>\n      <th>id_intestati</th>\n      <th>codfisc</th>\n      <th>attribution</th>\n      <th>quota</th>\n      <th>titolarita</th>\n      <th>Total_IMM</th>\n      <th>IMM_MILANO_HINTERLAND_No_small_cities</th>\n      <th>IMM_MILANO_HINTERLAND_Small_cities</th>\n      <th>IMM_ROMA_TERRITORIO</th>\n      <th>IMM_ROMA_CITTA</th>\n      <th>...</th>\n      <th>status</th>\n      <th>city</th>\n      <th>pipeline_id</th>\n      <th>is_lead</th>\n      <th>title</th>\n      <th>owner_name</th>\n      <th>numerator</th>\n      <th>denominator</th>\n      <th>division</th>\n      <th>%Ownership</th>\n    </tr>\n  </thead>\n  <tbody>\n    <tr>\n      <th>25949</th>\n      <td>7c2d7907-7145-4111-bc93-f8bf3299994b</td>\n      <td>06782321001</td>\n      <td>None</td>\n      <td>1/1</td>\n      <td>Proprieta per 1/1</td>\n      <td>1</td>\n      <td>0</td>\n      <td>0</td>\n      <td>0</td>\n      <td>0</td>\n      <td>...</td>\n      <td>NaN</td>\n      <td>NaN</td>\n      <td>NaN</td>\n      <td>NaN</td>\n      <td>NaN</td>\n      <td>NaN</td>\n      <td>1</td>\n      <td>1</td>\n      <td>1.00</td>\n      <td>1.00</td>\n    </tr>\n    <tr>\n      <th>32414</th>\n      <td>4450616f-37b2-42f7-9a24-c4e6aa9f6591</td>\n      <td>09479010580</td>\n      <td>None</td>\n      <td>1/1</td>\n      <td>Proprieta per 1/1</td>\n      <td>1</td>\n      <td>0</td>\n      <td>0</td>\n      <td>0</td>\n      <td>0</td>\n      <td>...</td>\n      <td>NaN</td>\n      <td>NaN</td>\n      <td>NaN</td>\n      <td>NaN</td>\n      <td>NaN</td>\n      <td>NaN</td>\n      <td>1</td>\n      <td>1</td>\n      <td>1.00</td>\n      <td>1.00</td>\n    </tr>\n    <tr>\n      <th>41210</th>\n      <td>8b3454d3-ce84-4ba0-8a8d-5c86f5a7d67d</td>\n      <td>44044569000</td>\n      <td>None</td>\n      <td>1/2</td>\n      <td>Proprieta per 1/2</td>\n      <td>1</td>\n      <td>0</td>\n      <td>0</td>\n      <td>0</td>\n      <td>0</td>\n      <td>...</td>\n      <td>NaN</td>\n      <td>NaN</td>\n      <td>NaN</td>\n      <td>NaN</td>\n      <td>NaN</td>\n      <td>NaN</td>\n      <td>1</td>\n      <td>2</td>\n      <td>0.50</td>\n      <td>0.50</td>\n    </tr>\n    <tr>\n      <th>59673</th>\n      <td>295789ea-0962-4e82-8923-682cf2de8377</td>\n      <td>BAEBNG86M28Z213I</td>\n      <td>None</td>\n      <td>1/2</td>\n      <td>Proprieta per 1/2</td>\n      <td>1</td>\n      <td>0</td>\n      <td>0</td>\n      <td>0</td>\n      <td>0</td>\n      <td>...</td>\n      <td>NaN</td>\n      <td>NaN</td>\n      <td>NaN</td>\n      <td>NaN</td>\n      <td>NaN</td>\n      <td>NaN</td>\n      <td>1</td>\n      <td>2</td>\n      <td>0.50</td>\n      <td>0.50</td>\n    </tr>\n    <tr>\n      <th>59674</th>\n      <td>b2981071-779e-4a4e-9234-60bfcfeff37d</td>\n      <td>BAEHWN62B54Z213Q</td>\n      <td>None</td>\n      <td>1/2</td>\n      <td>Proprieta per 1/2</td>\n      <td>1</td>\n      <td>0</td>\n      <td>0</td>\n      <td>0</td>\n      <td>0</td>\n      <td>...</td>\n      <td>NaN</td>\n      <td>NaN</td>\n      <td>NaN</td>\n      <td>NaN</td>\n      <td>NaN</td>\n      <td>NaN</td>\n      <td>1</td>\n      <td>2</td>\n      <td>0.50</td>\n      <td>0.50</td>\n    </tr>\n    <tr>\n      <th>...</th>\n      <td>...</td>\n      <td>...</td>\n      <td>...</td>\n      <td>...</td>\n      <td>...</td>\n      <td>...</td>\n      <td>...</td>\n      <td>...</td>\n      <td>...</td>\n      <td>...</td>\n      <td>...</td>\n      <td>...</td>\n      <td>...</td>\n      <td>...</td>\n      <td>...</td>\n      <td>...</td>\n      <td>...</td>\n      <td>...</td>\n      <td>...</td>\n      <td>...</td>\n      <td>...</td>\n    </tr>\n    <tr>\n      <th>3957561</th>\n      <td>d44687ff-1e19-4f85-a44a-bcf3f0308a81</td>\n      <td>ZZZVLR63A24B842Q</td>\n      <td>None</td>\n      <td>100/100</td>\n      <td>Proprieta per 100/100</td>\n      <td>1</td>\n      <td>0</td>\n      <td>0</td>\n      <td>0</td>\n      <td>0</td>\n      <td>...</td>\n      <td>NaN</td>\n      <td>NaN</td>\n      <td>NaN</td>\n      <td>NaN</td>\n      <td>NaN</td>\n      <td>NaN</td>\n      <td>100</td>\n      <td>100</td>\n      <td>1.00</td>\n      <td>1.00</td>\n    </tr>\n    <tr>\n      <th>3957566</th>\n      <td>c83f2efa-ab12-4579-be91-87a36695f5b4</td>\n      <td>ZZZVLR89D54H501A</td>\n      <td>None</td>\n      <td>1/1</td>\n      <td>Proprieta per 1/1</td>\n      <td>1</td>\n      <td>0</td>\n      <td>0</td>\n      <td>0</td>\n      <td>0</td>\n      <td>...</td>\n      <td>NaN</td>\n      <td>NaN</td>\n      <td>NaN</td>\n      <td>NaN</td>\n      <td>NaN</td>\n      <td>NaN</td>\n      <td>1</td>\n      <td>1</td>\n      <td>1.00</td>\n      <td>1.00</td>\n    </tr>\n    <tr>\n      <th>3957570</th>\n      <td>615c1497-1e9c-4107-8dcf-6aec53908186</td>\n      <td>ZZZVNT38M04C741O</td>\n      <td>None</td>\n      <td>1/2</td>\n      <td>Proprieta per 1/2</td>\n      <td>1</td>\n      <td>0</td>\n      <td>0</td>\n      <td>0</td>\n      <td>0</td>\n      <td>...</td>\n      <td>NaN</td>\n      <td>NaN</td>\n      <td>NaN</td>\n      <td>NaN</td>\n      <td>NaN</td>\n      <td>NaN</td>\n      <td>1</td>\n      <td>2</td>\n      <td>0.50</td>\n      <td>0.50</td>\n    </tr>\n    <tr>\n      <th>3957573</th>\n      <td>34b074ce-6d1d-418b-ae43-a9f445c0b3fa</td>\n      <td>ZZZVNT83L63H501I</td>\n      <td>None</td>\n      <td>3/6</td>\n      <td>Proprieta per 3/6</td>\n      <td>1</td>\n      <td>0</td>\n      <td>0</td>\n      <td>0</td>\n      <td>0</td>\n      <td>...</td>\n      <td>NaN</td>\n      <td>NaN</td>\n      <td>NaN</td>\n      <td>NaN</td>\n      <td>NaN</td>\n      <td>NaN</td>\n      <td>3</td>\n      <td>6</td>\n      <td>0.50</td>\n      <td>0.50</td>\n    </tr>\n    <tr>\n      <th>3957580</th>\n      <td>28f41fdb-a57a-4136-8ca2-db0b04372bb5</td>\n      <td>ZZZVTR94A02H501S</td>\n      <td>None</td>\n      <td>10/40</td>\n      <td>Proprieta per 10/40</td>\n      <td>1</td>\n      <td>0</td>\n      <td>0</td>\n      <td>0</td>\n      <td>0</td>\n      <td>...</td>\n      <td>NaN</td>\n      <td>NaN</td>\n      <td>NaN</td>\n      <td>NaN</td>\n      <td>NaN</td>\n      <td>NaN</td>\n      <td>10</td>\n      <td>40</td>\n      <td>0.25</td>\n      <td>0.25</td>\n    </tr>\n  </tbody>\n</table>\n<p>461633 rows × 32 columns</p>\n</div>"
     },
     "execution_count": 202,
     "metadata": {},
     "output_type": "execute_result"
    }
   ],
   "source": [
    "data[data['attribution'].isnull()]"
   ],
   "metadata": {
    "collapsed": false,
    "ExecuteTime": {
     "end_time": "2024-04-06T16:35:27.145865Z",
     "start_time": "2024-04-06T16:35:25.246152Z"
    }
   },
   "id": "6e8169faa0e9c70c",
   "execution_count": 202
  },
  {
   "cell_type": "markdown",
   "source": [
    "#### Titolarita Column\n"
   ],
   "metadata": {
    "collapsed": false
   },
   "id": "8e6dfbdfc9956be0"
  },
  {
   "cell_type": "code",
   "outputs": [],
   "source": [
    "data['titolarita'].fillna(data['quota'].mode()[0], inplace=True)"
   ],
   "metadata": {
    "collapsed": false,
    "ExecuteTime": {
     "end_time": "2024-04-06T16:15:30.456280Z",
     "start_time": "2024-04-06T16:15:29.769590Z"
    }
   },
   "id": "2210ad9bea98440d",
   "execution_count": 177
  },
  {
   "cell_type": "code",
   "outputs": [],
   "source": [
    "data['titolarita'] = data['titolarita'].str.replace(\"'\", \"\")"
   ],
   "metadata": {
    "collapsed": false,
    "ExecuteTime": {
     "end_time": "2024-04-06T16:22:18.565739Z",
     "start_time": "2024-04-06T16:22:16.157055Z"
    }
   },
   "id": "fbf2b2147369f958",
   "execution_count": 185
  },
  {
   "cell_type": "code",
   "outputs": [
    {
     "data": {
      "text/plain": "titolarita\nProprieta                       1546473\nProprieta per 1/2                688631\nProprieta per 1/1                683934\nProprieta per 1/6                 66055\n                                  63457\n                                 ...   \nProprieta per 648/10000               1\nProprieta per 647022/6000000          1\nProprieta per 6443/100000             1\nProprieta per 644/1000                1\nz                                     1\nName: titolarita, Length: 29624, dtype: int64"
     },
     "execution_count": 186,
     "metadata": {},
     "output_type": "execute_result"
    }
   ],
   "source": [
    "data.groupby('titolarita')['titolarita'].count().sort_values(ascending=False)"
   ],
   "metadata": {
    "collapsed": false,
    "ExecuteTime": {
     "end_time": "2024-04-06T16:22:24.445332Z",
     "start_time": "2024-04-06T16:22:23.404647Z"
    }
   },
   "id": "4318746fc1f1744e",
   "execution_count": 186
  },
  {
   "cell_type": "markdown",
   "source": [
    "### Descriptive Analysis"
   ],
   "metadata": {
    "collapsed": false
   },
   "id": "41761b52a8ae6701"
  },
  {
   "cell_type": "code",
   "outputs": [
    {
     "data": {
      "text/plain": "       Total_IMM  IMM_MILANO_HINTERLAND_No_small_cities  \\\ncount 3957221.00                             3957221.00   \nmean        2.01                                   0.60   \nmin         1.00                                   0.00   \n25%         1.00                                   0.00   \n50%         1.00                                   0.00   \n75%         2.00                                   1.00   \nmax     74692.00                               42183.00   \nstd        52.60                                  28.78   \n\n       IMM_MILANO_HINTERLAND_Small_cities  IMM_ROMA_TERRITORIO  \\\ncount                          3957221.00           3957221.00   \nmean                                 0.68                 0.31   \nmin                                  0.00                 0.00   \n25%                                  0.00                 0.00   \n50%                                  0.00                 0.00   \n75%                                  1.00                 0.00   \nmax                              47011.00             74692.00   \nstd                                 32.45                40.21   \n\n       IMM_ROMA_CITTA  IMM_ROMA_PROVINCIA  IMM_TORINO_TERRITORIO  \\\ncount      3957221.00          3957221.00             3957221.00   \nmean             0.31                0.28                   0.09   \nmin              0.00                0.00                   0.00   \n25%              0.00                0.00                   0.00   \n50%              0.00                0.00                   0.00   \n75%              0.00                0.00                   0.00   \nmax          74692.00              311.00               10000.00   \nstd             40.21                0.83                   6.18   \n\n       IMM_TORINO_PROVINCIA  IMM_FIRENZE_TERRITORIO  IMM_FIRENZE_PROVINCIA  \\\ncount            3957221.00              3957221.00             3957221.00   \nmean                   0.09                    0.08                   0.00   \nmin                    0.00                    0.00                   0.00   \n25%                    0.00                    0.00                   0.00   \n50%                    0.00                    0.00                   0.00   \n75%                    0.00                    0.00                   0.00   \nmax                  148.00                 7253.00                  78.00   \nstd                    0.79                    3.71                   0.11   \n\n       IMM_GENOVA_TERRITORIO  IMM_GENOVA_PROVINCIA  IMM_OTHER  \\\ncount             3957221.00            3957221.00 3957221.00   \nmean                    0.03                  0.01       0.45   \nmin                     0.00                  0.00       0.00   \n25%                     0.00                  0.00       0.00   \n50%                     0.00                  0.00       0.00   \n75%                     0.00                  0.00       0.00   \nmax                   991.00                 67.00    9816.00   \nstd                     0.66                  0.16       5.92   \n\n                     person_add_time   is_lead  \ncount                         173663 173754.00  \nmean   2023-10-17 18:21:23.216438784      0.86  \nmin              2022-06-11 06:15:36      0.00  \n25%              2023-07-11 16:21:31      1.00  \n50%              2023-10-25 00:00:00      1.00  \n75%              2024-01-12 00:32:42      1.00  \nmax              2024-03-28 00:00:00      1.00  \nstd                              NaN      0.34  ",
      "text/html": "<div>\n<style scoped>\n    .dataframe tbody tr th:only-of-type {\n        vertical-align: middle;\n    }\n\n    .dataframe tbody tr th {\n        vertical-align: top;\n    }\n\n    .dataframe thead th {\n        text-align: right;\n    }\n</style>\n<table border=\"1\" class=\"dataframe\">\n  <thead>\n    <tr style=\"text-align: right;\">\n      <th></th>\n      <th>Total_IMM</th>\n      <th>IMM_MILANO_HINTERLAND_No_small_cities</th>\n      <th>IMM_MILANO_HINTERLAND_Small_cities</th>\n      <th>IMM_ROMA_TERRITORIO</th>\n      <th>IMM_ROMA_CITTA</th>\n      <th>IMM_ROMA_PROVINCIA</th>\n      <th>IMM_TORINO_TERRITORIO</th>\n      <th>IMM_TORINO_PROVINCIA</th>\n      <th>IMM_FIRENZE_TERRITORIO</th>\n      <th>IMM_FIRENZE_PROVINCIA</th>\n      <th>IMM_GENOVA_TERRITORIO</th>\n      <th>IMM_GENOVA_PROVINCIA</th>\n      <th>IMM_OTHER</th>\n      <th>person_add_time</th>\n      <th>is_lead</th>\n    </tr>\n  </thead>\n  <tbody>\n    <tr>\n      <th>count</th>\n      <td>3957221.00</td>\n      <td>3957221.00</td>\n      <td>3957221.00</td>\n      <td>3957221.00</td>\n      <td>3957221.00</td>\n      <td>3957221.00</td>\n      <td>3957221.00</td>\n      <td>3957221.00</td>\n      <td>3957221.00</td>\n      <td>3957221.00</td>\n      <td>3957221.00</td>\n      <td>3957221.00</td>\n      <td>3957221.00</td>\n      <td>173663</td>\n      <td>173754.00</td>\n    </tr>\n    <tr>\n      <th>mean</th>\n      <td>2.01</td>\n      <td>0.60</td>\n      <td>0.68</td>\n      <td>0.31</td>\n      <td>0.31</td>\n      <td>0.28</td>\n      <td>0.09</td>\n      <td>0.09</td>\n      <td>0.08</td>\n      <td>0.00</td>\n      <td>0.03</td>\n      <td>0.01</td>\n      <td>0.45</td>\n      <td>2023-10-17 18:21:23.216438784</td>\n      <td>0.86</td>\n    </tr>\n    <tr>\n      <th>min</th>\n      <td>1.00</td>\n      <td>0.00</td>\n      <td>0.00</td>\n      <td>0.00</td>\n      <td>0.00</td>\n      <td>0.00</td>\n      <td>0.00</td>\n      <td>0.00</td>\n      <td>0.00</td>\n      <td>0.00</td>\n      <td>0.00</td>\n      <td>0.00</td>\n      <td>0.00</td>\n      <td>2022-06-11 06:15:36</td>\n      <td>0.00</td>\n    </tr>\n    <tr>\n      <th>25%</th>\n      <td>1.00</td>\n      <td>0.00</td>\n      <td>0.00</td>\n      <td>0.00</td>\n      <td>0.00</td>\n      <td>0.00</td>\n      <td>0.00</td>\n      <td>0.00</td>\n      <td>0.00</td>\n      <td>0.00</td>\n      <td>0.00</td>\n      <td>0.00</td>\n      <td>0.00</td>\n      <td>2023-07-11 16:21:31</td>\n      <td>1.00</td>\n    </tr>\n    <tr>\n      <th>50%</th>\n      <td>1.00</td>\n      <td>0.00</td>\n      <td>0.00</td>\n      <td>0.00</td>\n      <td>0.00</td>\n      <td>0.00</td>\n      <td>0.00</td>\n      <td>0.00</td>\n      <td>0.00</td>\n      <td>0.00</td>\n      <td>0.00</td>\n      <td>0.00</td>\n      <td>0.00</td>\n      <td>2023-10-25 00:00:00</td>\n      <td>1.00</td>\n    </tr>\n    <tr>\n      <th>75%</th>\n      <td>2.00</td>\n      <td>1.00</td>\n      <td>1.00</td>\n      <td>0.00</td>\n      <td>0.00</td>\n      <td>0.00</td>\n      <td>0.00</td>\n      <td>0.00</td>\n      <td>0.00</td>\n      <td>0.00</td>\n      <td>0.00</td>\n      <td>0.00</td>\n      <td>0.00</td>\n      <td>2024-01-12 00:32:42</td>\n      <td>1.00</td>\n    </tr>\n    <tr>\n      <th>max</th>\n      <td>74692.00</td>\n      <td>42183.00</td>\n      <td>47011.00</td>\n      <td>74692.00</td>\n      <td>74692.00</td>\n      <td>311.00</td>\n      <td>10000.00</td>\n      <td>148.00</td>\n      <td>7253.00</td>\n      <td>78.00</td>\n      <td>991.00</td>\n      <td>67.00</td>\n      <td>9816.00</td>\n      <td>2024-03-28 00:00:00</td>\n      <td>1.00</td>\n    </tr>\n    <tr>\n      <th>std</th>\n      <td>52.60</td>\n      <td>28.78</td>\n      <td>32.45</td>\n      <td>40.21</td>\n      <td>40.21</td>\n      <td>0.83</td>\n      <td>6.18</td>\n      <td>0.79</td>\n      <td>3.71</td>\n      <td>0.11</td>\n      <td>0.66</td>\n      <td>0.16</td>\n      <td>5.92</td>\n      <td>NaN</td>\n      <td>0.34</td>\n    </tr>\n  </tbody>\n</table>\n</div>"
     },
     "execution_count": 36,
     "metadata": {},
     "output_type": "execute_result"
    }
   ],
   "source": [
    "#CHECK THE STATISTICAL SUMMARY OF THE DATAFRAME\n",
    "data.describe()"
   ],
   "metadata": {
    "collapsed": false,
    "ExecuteTime": {
     "end_time": "2024-04-06T14:40:05.404792Z",
     "start_time": "2024-04-06T14:40:03.791940Z"
    }
   },
   "id": "8bfca59ba7b5408f",
   "execution_count": 36
  },
  {
   "cell_type": "markdown",
   "source": [
    "### Data Visualization"
   ],
   "metadata": {
    "collapsed": false
   },
   "id": "f3c71924d68da63e"
  },
  {
   "cell_type": "code",
   "outputs": [
    {
     "data": {
      "text/plain": "<Figure size 1000x600 with 0 Axes>"
     },
     "execution_count": 16,
     "metadata": {},
     "output_type": "execute_result"
    },
    {
     "data": {
      "text/plain": "<Figure size 1000x600 with 0 Axes>"
     },
     "metadata": {},
     "output_type": "display_data"
    }
   ],
   "source": [
    "#PLOT THE DISTRIBUTION OF THE DEAL VALUES\n",
    "plt.figure(figsize=(10, 6))"
   ],
   "metadata": {
    "collapsed": false,
    "ExecuteTime": {
     "end_time": "2024-04-06T14:19:19.508818Z",
     "start_time": "2024-04-06T14:19:18.675564Z"
    }
   },
   "id": "faa4a7c31f9c4608",
   "execution_count": 16
  },
  {
   "cell_type": "code",
   "outputs": [
    {
     "ename": "KeyError",
     "evalue": "'deal_value'",
     "output_type": "error",
     "traceback": [
      "\u001B[1;31m---------------------------------------------------------------------------\u001B[0m",
      "\u001B[1;31mKeyError\u001B[0m                                  Traceback (most recent call last)",
      "File \u001B[1;32m~\\anaconda3\\Lib\\site-packages\\pandas\\core\\indexes\\base.py:3653\u001B[0m, in \u001B[0;36mIndex.get_loc\u001B[1;34m(self, key)\u001B[0m\n\u001B[0;32m   3652\u001B[0m \u001B[38;5;28;01mtry\u001B[39;00m:\n\u001B[1;32m-> 3653\u001B[0m     \u001B[38;5;28;01mreturn\u001B[39;00m \u001B[38;5;28mself\u001B[39m\u001B[38;5;241m.\u001B[39m_engine\u001B[38;5;241m.\u001B[39mget_loc(casted_key)\n\u001B[0;32m   3654\u001B[0m \u001B[38;5;28;01mexcept\u001B[39;00m \u001B[38;5;167;01mKeyError\u001B[39;00m \u001B[38;5;28;01mas\u001B[39;00m err:\n",
      "File \u001B[1;32m~\\anaconda3\\Lib\\site-packages\\pandas\\_libs\\index.pyx:147\u001B[0m, in \u001B[0;36mpandas._libs.index.IndexEngine.get_loc\u001B[1;34m()\u001B[0m\n",
      "File \u001B[1;32m~\\anaconda3\\Lib\\site-packages\\pandas\\_libs\\index.pyx:176\u001B[0m, in \u001B[0;36mpandas._libs.index.IndexEngine.get_loc\u001B[1;34m()\u001B[0m\n",
      "File \u001B[1;32mpandas\\_libs\\hashtable_class_helper.pxi:7080\u001B[0m, in \u001B[0;36mpandas._libs.hashtable.PyObjectHashTable.get_item\u001B[1;34m()\u001B[0m\n",
      "File \u001B[1;32mpandas\\_libs\\hashtable_class_helper.pxi:7088\u001B[0m, in \u001B[0;36mpandas._libs.hashtable.PyObjectHashTable.get_item\u001B[1;34m()\u001B[0m\n",
      "\u001B[1;31mKeyError\u001B[0m: 'deal_value'",
      "\nThe above exception was the direct cause of the following exception:\n",
      "\u001B[1;31mKeyError\u001B[0m                                  Traceback (most recent call last)",
      "Cell \u001B[1;32mIn[17], line 1\u001B[0m\n\u001B[1;32m----> 1\u001B[0m sns\u001B[38;5;241m.\u001B[39mhistplot(df[\u001B[38;5;124m'\u001B[39m\u001B[38;5;124mdeal_value\u001B[39m\u001B[38;5;124m'\u001B[39m], bins\u001B[38;5;241m=\u001B[39m\u001B[38;5;241m30\u001B[39m, kde\u001B[38;5;241m=\u001B[39m\u001B[38;5;28;01mTrue\u001B[39;00m)\n\u001B[0;32m      2\u001B[0m plt\u001B[38;5;241m.\u001B[39mtitle(\u001B[38;5;124m'\u001B[39m\u001B[38;5;124mDistribution of Deal Values\u001B[39m\u001B[38;5;124m'\u001B[39m)\n\u001B[0;32m      3\u001B[0m plt\u001B[38;5;241m.\u001B[39mxlabel(\u001B[38;5;124m'\u001B[39m\u001B[38;5;124mDeal Value\u001B[39m\u001B[38;5;124m'\u001B[39m)\n",
      "File \u001B[1;32m~\\anaconda3\\Lib\\site-packages\\pandas\\core\\frame.py:3761\u001B[0m, in \u001B[0;36mDataFrame.__getitem__\u001B[1;34m(self, key)\u001B[0m\n\u001B[0;32m   3759\u001B[0m \u001B[38;5;28;01mif\u001B[39;00m \u001B[38;5;28mself\u001B[39m\u001B[38;5;241m.\u001B[39mcolumns\u001B[38;5;241m.\u001B[39mnlevels \u001B[38;5;241m>\u001B[39m \u001B[38;5;241m1\u001B[39m:\n\u001B[0;32m   3760\u001B[0m     \u001B[38;5;28;01mreturn\u001B[39;00m \u001B[38;5;28mself\u001B[39m\u001B[38;5;241m.\u001B[39m_getitem_multilevel(key)\n\u001B[1;32m-> 3761\u001B[0m indexer \u001B[38;5;241m=\u001B[39m \u001B[38;5;28mself\u001B[39m\u001B[38;5;241m.\u001B[39mcolumns\u001B[38;5;241m.\u001B[39mget_loc(key)\n\u001B[0;32m   3762\u001B[0m \u001B[38;5;28;01mif\u001B[39;00m is_integer(indexer):\n\u001B[0;32m   3763\u001B[0m     indexer \u001B[38;5;241m=\u001B[39m [indexer]\n",
      "File \u001B[1;32m~\\anaconda3\\Lib\\site-packages\\pandas\\core\\indexes\\base.py:3655\u001B[0m, in \u001B[0;36mIndex.get_loc\u001B[1;34m(self, key)\u001B[0m\n\u001B[0;32m   3653\u001B[0m     \u001B[38;5;28;01mreturn\u001B[39;00m \u001B[38;5;28mself\u001B[39m\u001B[38;5;241m.\u001B[39m_engine\u001B[38;5;241m.\u001B[39mget_loc(casted_key)\n\u001B[0;32m   3654\u001B[0m \u001B[38;5;28;01mexcept\u001B[39;00m \u001B[38;5;167;01mKeyError\u001B[39;00m \u001B[38;5;28;01mas\u001B[39;00m err:\n\u001B[1;32m-> 3655\u001B[0m     \u001B[38;5;28;01mraise\u001B[39;00m \u001B[38;5;167;01mKeyError\u001B[39;00m(key) \u001B[38;5;28;01mfrom\u001B[39;00m \u001B[38;5;21;01merr\u001B[39;00m\n\u001B[0;32m   3656\u001B[0m \u001B[38;5;28;01mexcept\u001B[39;00m \u001B[38;5;167;01mTypeError\u001B[39;00m:\n\u001B[0;32m   3657\u001B[0m     \u001B[38;5;66;03m# If we have a listlike key, _check_indexing_error will raise\u001B[39;00m\n\u001B[0;32m   3658\u001B[0m     \u001B[38;5;66;03m#  InvalidIndexError. Otherwise we fall through and re-raise\u001B[39;00m\n\u001B[0;32m   3659\u001B[0m     \u001B[38;5;66;03m#  the TypeError.\u001B[39;00m\n\u001B[0;32m   3660\u001B[0m     \u001B[38;5;28mself\u001B[39m\u001B[38;5;241m.\u001B[39m_check_indexing_error(key)\n",
      "\u001B[1;31mKeyError\u001B[0m: 'deal_value'"
     ]
    }
   ],
   "source": [
    "sns.histplot(data['deal_value'], bins=30, kde=True)\n",
    "plt.title('Distribution of Deal Values')\n",
    "plt.xlabel('Deal Value')\n",
    "plt.ylabel('Frequency')\n",
    "plt.show()"
   ],
   "metadata": {
    "collapsed": false,
    "ExecuteTime": {
     "end_time": "2024-04-06T14:19:25.396023Z",
     "start_time": "2024-04-06T14:19:19.515034Z"
    }
   },
   "id": "b3d775d20399c59c",
   "execution_count": 17
  },
  {
   "cell_type": "code",
   "outputs": [],
   "source": [
    "#PLOT THE DISTRIBUTION OF THE DEAL VALUES\n",
    "plt.figure(figsize=(10, 6))"
   ],
   "metadata": {
    "collapsed": false,
    "ExecuteTime": {
     "end_time": "2024-04-06T14:19:25.397021Z",
     "start_time": "2024-04-06T14:19:25.397021Z"
    }
   },
   "id": "c91d82570a972dc8"
  },
  {
   "cell_type": "code",
   "outputs": [],
   "source": [
    "sns.boxplot(data['deal_value'])\n",
    "plt.title('Distribution of Deal Values')\n",
    "plt.xlabel('Deal Value')\n",
    "plt.show()"
   ],
   "metadata": {
    "collapsed": false,
    "ExecuteTime": {
     "start_time": "2024-04-06T14:19:25.398052Z"
    }
   },
   "id": "ba0effa2a6515b87"
  },
  {
   "cell_type": "markdown",
   "source": [
    "# Feature Engineering"
   ],
   "metadata": {
    "collapsed": false
   },
   "id": "f21c462a36be310e"
  },
  {
   "cell_type": "code",
   "outputs": [],
   "source": [
    "#CREATE A NEW COLUMN FOR THE DEAL VALUE\n",
    "data['deal_value_log'] = np.log1p(data['deal_value'])"
   ],
   "metadata": {
    "collapsed": false,
    "ExecuteTime": {
     "start_time": "2024-04-06T14:19:25.399051Z"
    }
   },
   "id": "a170a5dd2ba1ac78"
  },
  {
   "cell_type": "code",
   "outputs": [],
   "source": [
    "#PLOT THE DISTRIBUT\n",
    "plt.figure(figsize=(10, 6))"
   ],
   "metadata": {
    "collapsed": false
   },
   "id": "e258488f1eb1e773"
  },
  {
   "cell_type": "code",
   "outputs": [],
   "source": [
    "sns.histplot(data['deal_value_log'], bins=30, kde=True)\n",
    "plt.title('Distribution of Log Deal Values')\n",
    "plt.xlabel('Log Deal Value')\n",
    "plt.ylabel('Frequency')\n",
    "plt.show()"
   ],
   "metadata": {
    "collapsed": false,
    "ExecuteTime": {
     "start_time": "2024-04-06T14:19:25.401116Z"
    }
   },
   "id": "99ed917a6fe730ba"
  },
  {
   "cell_type": "markdown",
   "source": [
    "# Feature Selection - Principal Component Analysis (PCA)"
   ],
   "metadata": {
    "collapsed": false
   },
   "id": "496798ed9462ea71"
  },
  {
   "cell_type": "code",
   "outputs": [],
   "source": [
    "#SELECT THE COLUMNS FOR THE CLUSTERING\n",
    "X = data[['deal_value_log']]"
   ],
   "metadata": {
    "collapsed": false,
    "ExecuteTime": {
     "start_time": "2024-04-06T14:19:25.402152Z"
    }
   },
   "id": "eebfdbf17cf02810"
  },
  {
   "cell_type": "code",
   "outputs": [],
   "source": [
    "#CHECK THE SHAPE OF THE DATAFRAME\n",
    "X.shape"
   ],
   "metadata": {
    "collapsed": false,
    "ExecuteTime": {
     "start_time": "2024-04-06T14:19:25.403149Z"
    }
   },
   "id": "a36c42a8d9124404"
  },
  {
   "cell_type": "code",
   "outputs": [],
   "source": [
    "#CHECK THE FIRST FEW ROWS OF THE DATAFRAME\n",
    "X.head()"
   ],
   "metadata": {
    "collapsed": false,
    "ExecuteTime": {
     "start_time": "2024-04-06T14:19:25.404187Z"
    }
   },
   "id": "3e2d5888e7ef0f5a"
  },
  {
   "cell_type": "code",
   "outputs": [],
   "source": [
    "#PLOT THE DISTRIBUTION OF THE DEAL VALUES\n",
    "plt.figure(figsize=(10, 6))"
   ],
   "metadata": {
    "collapsed": false,
    "ExecuteTime": {
     "start_time": "2024-04-06T14:19:25.405185Z"
    }
   },
   "id": "d467ef4c544f7a0a"
  },
  {
   "cell_type": "code",
   "outputs": [],
   "source": [
    "sns.histplot(X['deal_value_log'], bins=30, kde=True)\n",
    "plt.title('Distribution of Log Deal Values')\n",
    "plt.xlabel('Log Deal Value')\n",
    "plt.ylabel('Frequency')\n",
    "plt.show()"
   ],
   "metadata": {
    "collapsed": false,
    "ExecuteTime": {
     "start_time": "2024-04-06T14:19:25.406241Z"
    }
   },
   "id": "68f4cb9890e6c0d5"
  },
  {
   "cell_type": "markdown",
   "source": [
    "# Model Training"
   ],
   "metadata": {
    "collapsed": false
   },
   "id": "20913faa92858362"
  },
  {
   "cell_type": "markdown",
   "source": [
    "### K-means clustering"
   ],
   "metadata": {
    "collapsed": false
   },
   "id": "6b388c2892f858ce"
  },
  {
   "cell_type": "code",
   "outputs": [],
   "source": [
    "#DEFINE THE NUMBER OF CLUSTERS\n",
    "n_clusters = 3"
   ],
   "metadata": {
    "collapsed": false,
    "ExecuteTime": {
     "start_time": "2024-04-06T14:19:25.407239Z"
    }
   },
   "id": "774da92943e80284"
  },
  {
   "cell_type": "code",
   "outputs": [],
   "source": [
    "#CREATE THE KMEANS MODEL\n",
    "kmeans = KMeans(n_clusters=n_clusters, random_state=0)"
   ],
   "metadata": {
    "collapsed": false,
    "ExecuteTime": {
     "start_time": "2024-04-06T14:19:25.408263Z"
    }
   },
   "id": "11d7524bd1ac4a70"
  },
  {
   "cell_type": "code",
   "outputs": [],
   "source": [
    "#FIT THE MODEL\n",
    "kmeans.fit(X)"
   ],
   "metadata": {
    "collapsed": false,
    "ExecuteTime": {
     "start_time": "2024-04-06T14:19:25.410288Z"
    }
   },
   "id": "e8833c59707faa3b"
  },
  {
   "cell_type": "code",
   "outputs": [],
   "source": [
    "#PREDICT THE CLUSTERS\n",
    "data['cluster'] = kmeans.predict(X)"
   ],
   "metadata": {
    "collapsed": false,
    "ExecuteTime": {
     "start_time": "2024-04-06T14:19:25.411286Z"
    }
   },
   "id": "3c8d5cda1a93f3e2"
  },
  {
   "cell_type": "markdown",
   "source": [
    "### DBSCAN Clustering"
   ],
   "metadata": {
    "collapsed": false
   },
   "id": "a09db9e7a3e4b518"
  },
  {
   "cell_type": "markdown",
   "source": [
    "### Divisive hierarchical clustering"
   ],
   "metadata": {
    "collapsed": false
   },
   "id": "40990a145243a627"
  },
  {
   "cell_type": "markdown",
   "source": [
    "### Agglomerative hierarchical clustering"
   ],
   "metadata": {
    "collapsed": false
   },
   "id": "86666430fe7e6d39"
  },
  {
   "cell_type": "markdown",
   "source": [
    "### Mean Shift Clustering"
   ],
   "metadata": {
    "collapsed": false
   },
   "id": "236d2deddc1ca2c9"
  },
  {
   "cell_type": "markdown",
   "source": [
    "### Spectral Clustering"
   ],
   "metadata": {
    "collapsed": false
   },
   "id": "f7917edab5ba00db"
  },
  {
   "cell_type": "markdown",
   "source": [
    "### Affinity Propagation"
   ],
   "metadata": {
    "collapsed": false
   },
   "id": "6e6001b2fd685922"
  },
  {
   "cell_type": "markdown",
   "source": [
    "### BIRCH Clustering"
   ],
   "metadata": {
    "collapsed": false
   },
   "id": "96fe0406fc0776a8"
  },
  {
   "cell_type": "markdown",
   "source": [
    "# Transfer Learning"
   ],
   "metadata": {
    "collapsed": false
   },
   "id": "6667ec01cbb740a"
  },
  {
   "cell_type": "markdown",
   "source": [
    "# Model Evaluation"
   ],
   "metadata": {
    "collapsed": false
   },
   "id": "59508192d5a438ab"
  },
  {
   "cell_type": "markdown",
   "source": [
    "# Deployment"
   ],
   "metadata": {
    "collapsed": false
   },
   "id": "278400752870fcf3"
  },
  {
   "cell_type": "markdown",
   "source": [
    "# Monitoring"
   ],
   "metadata": {
    "collapsed": false
   },
   "id": "343f437d9c5f34c0"
  }
 ],
 "metadata": {
  "kernelspec": {
   "display_name": "Python 3",
   "language": "python",
   "name": "python3"
  },
  "language_info": {
   "codemirror_mode": {
    "name": "ipython",
    "version": 2
   },
   "file_extension": ".py",
   "mimetype": "text/x-python",
   "name": "python",
   "nbconvert_exporter": "python",
   "pygments_lexer": "ipython2",
   "version": "2.7.6"
  }
 },
 "nbformat": 4,
 "nbformat_minor": 5
}
