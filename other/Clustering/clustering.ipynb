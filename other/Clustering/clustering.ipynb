{
 "cells": [
  {
   "cell_type": "markdown",
   "source": [
    "# Import the Necessary Libraries"
   ],
   "metadata": {
    "collapsed": false
   },
   "id": "9ce7854af68bb7df"
  },
  {
   "cell_type": "code",
   "outputs": [],
   "source": [
    "#IMPORT THE PANDAS AND NUMPY LIBRARIES\n",
    "import pandas as pd\n",
    "import numpy as np\n",
    "pd.options.display.float_format = '{:.2f}'.format\n",
    "import warnings\n",
    "warnings.filterwarnings('ignore')\n",
    "\n",
    "#IMPORT THE SCIKIT-LEARN LIBRARIES\n",
    "from sklearn.cluster import KMeans\n",
    "from sklearn.metrics import silhouette_score\n",
    "from mpl_toolkits.mplot3d import Axes3D\n",
    "\n",
    "#IMPORT THE VISUALIZATION LIBRARIES\n",
    "import plotly.express as px\n",
    "import kaleido\n",
    "import matplotlib.pyplot as plt\n",
    "%matplotlib inline\n",
    "import seaborn as sns\n",
    "\n",
    "#IMPORT THE SQALCHEMY LIBRARY's CREATE_ENGINE METHOD\n",
    "import mysql.connector\n",
    "from mysql.connector import Error"
   ],
   "metadata": {
    "collapsed": false,
    "ExecuteTime": {
     "end_time": "2024-04-06T18:02:04.519329Z",
     "start_time": "2024-04-06T18:02:02.887288Z"
    }
   },
   "id": "750910e1db8f13eb",
   "execution_count": 2
  },
  {
   "cell_type": "markdown",
   "source": [
    "# Import data from MySQL DB"
   ],
   "metadata": {
    "collapsed": false
   },
   "id": "904c476ef34da892"
  },
  {
   "cell_type": "code",
   "outputs": [
    {
     "name": "stdout",
     "output_type": "stream",
     "text": [
      "Connected to MySQL database... MySQL Server version on  8.0.35\n",
      "MySQL connection is closed\n"
     ]
    }
   ],
   "source": [
    "try:\n",
    "    connection = mysql.connector.connect(host='scraper.cx53soegx3qk.eu-west-1.rds.amazonaws.com',\n",
    "                                         database='pipedrive',\n",
    "                                         user='pipedrive',\n",
    "                                         password='#8LsH25%ZD', use_pure=True)\n",
    "    if connection.is_connected():\n",
    "        db_Info = connection.get_server_info()\n",
    "        data = pd.read_sql('SELECT * FROM clustering', connection)\n",
    "        print(\"Connected to MySQL database... MySQL Server version on \", db_Info)\n",
    "except Error as e:\n",
    "    print(\"Error while connecting to MySQL\", e)\n",
    "finally:\n",
    "    if connection.is_connected():\n",
    "        connection.close()\n",
    "        print(\"MySQL connection is closed\")"
   ],
   "metadata": {
    "collapsed": false,
    "ExecuteTime": {
     "end_time": "2024-04-06T18:03:34.670891Z",
     "start_time": "2024-04-06T18:02:05.349183Z"
    }
   },
   "id": "bfb051eae11558d0",
   "execution_count": 3
  },
  {
   "cell_type": "markdown",
   "source": [
    "# Data Preprocessing"
   ],
   "metadata": {
    "collapsed": false
   },
   "id": "823309a71045de5f"
  },
  {
   "cell_type": "code",
   "outputs": [
    {
     "data": {
      "text/plain": "(4125075, 5)"
     },
     "execution_count": 4,
     "metadata": {},
     "output_type": "execute_result"
    }
   ],
   "source": [
    "#CHECK THE SHAPE OF THE DATAFRAME\n",
    "data.shape"
   ],
   "metadata": {
    "collapsed": false,
    "ExecuteTime": {
     "end_time": "2024-04-06T18:03:34.684475Z",
     "start_time": "2024-04-06T18:03:34.675887Z"
    }
   },
   "id": "3acd8b2242eaee77",
   "execution_count": 4
  },
  {
   "cell_type": "code",
   "outputs": [
    {
     "data": {
      "text/plain": "                                 id_intestati  \\\n0        dcad7eb8-a5d8-4eb2-9e75-3ff0b49dca02   \n1        c557abc4-799b-4bca-a919-4637410f7884   \n2        091aac50-96e4-4231-8d48-1e3c5b55a328   \n3        221e9517-dca2-4507-96f1-74cd44380744   \n4        1136dc3a-2321-4c46-ae2f-2167d2826d62   \n...                                       ...   \n4125070  90eddf85-75fd-4255-8767-3bd3add0bd31   \n4125071  690db6fa-15e0-4f08-9728-5d3e0d0c30b7   \n4125072  28f41fdb-a57a-4136-8ca2-db0b04372bb5   \n4125073  940a0090-038e-4a9e-90a8-3f4b41e3c151   \n4125074  d05e7761-6137-4049-9407-025a6aa1c109   \n\n                                                   codfisc     quota  \\\n0        _SOCIETA'_COOPERATIVA_RESPONSABILITA'_LIMITATA...       1/1   \n1                                   -_DELTA_PRIMA_-_S.R.L.             \n2                     -C.L.I.COMPAGNIA_LIGURE_INVESTIMENTI      None   \n3                                                   -CIMEP       1/1   \n4           -IMPRESA_SOC.COSTR.TRONI_OMILDE_E_FIGLI-S.N.C.      None   \n...                                                    ...       ...   \n4125070                                   ZZZVTR60S58L219E  500/1000   \n4125071                                   ZZZVTR76H25A509E       1/2   \n4125072                                   ZZZVTR94A02H501S     10/40   \n4125073                                   ZZZWLY27H50L273E       1/1   \n4125074                                   ZZZWTR82L23F205Z       1/1   \n\n                     titolarita  Total_IMM  \n0        Proprieta' per l'area           1  \n1                   Proprieta'           1  \n2                   Proprieta'           1  \n3        Proprieta' per l'area           1  \n4                                        2  \n...                         ...        ...  \n4125070             Proprieta'           3  \n4125071      Proprieta' per 1/2          7  \n4125072    Proprieta' per 10/40          1  \n4125073      Proprieta' per 1/1          1  \n4125074      Proprieta' per 1/1          5  \n\n[4125075 rows x 5 columns]",
      "text/html": "<div>\n<style scoped>\n    .dataframe tbody tr th:only-of-type {\n        vertical-align: middle;\n    }\n\n    .dataframe tbody tr th {\n        vertical-align: top;\n    }\n\n    .dataframe thead th {\n        text-align: right;\n    }\n</style>\n<table border=\"1\" class=\"dataframe\">\n  <thead>\n    <tr style=\"text-align: right;\">\n      <th></th>\n      <th>id_intestati</th>\n      <th>codfisc</th>\n      <th>quota</th>\n      <th>titolarita</th>\n      <th>Total_IMM</th>\n    </tr>\n  </thead>\n  <tbody>\n    <tr>\n      <th>0</th>\n      <td>dcad7eb8-a5d8-4eb2-9e75-3ff0b49dca02</td>\n      <td>_SOCIETA'_COOPERATIVA_RESPONSABILITA'_LIMITATA...</td>\n      <td>1/1</td>\n      <td>Proprieta' per l'area</td>\n      <td>1</td>\n    </tr>\n    <tr>\n      <th>1</th>\n      <td>c557abc4-799b-4bca-a919-4637410f7884</td>\n      <td>-_DELTA_PRIMA_-_S.R.L.</td>\n      <td></td>\n      <td>Proprieta'</td>\n      <td>1</td>\n    </tr>\n    <tr>\n      <th>2</th>\n      <td>091aac50-96e4-4231-8d48-1e3c5b55a328</td>\n      <td>-C.L.I.COMPAGNIA_LIGURE_INVESTIMENTI</td>\n      <td>None</td>\n      <td>Proprieta'</td>\n      <td>1</td>\n    </tr>\n    <tr>\n      <th>3</th>\n      <td>221e9517-dca2-4507-96f1-74cd44380744</td>\n      <td>-CIMEP</td>\n      <td>1/1</td>\n      <td>Proprieta' per l'area</td>\n      <td>1</td>\n    </tr>\n    <tr>\n      <th>4</th>\n      <td>1136dc3a-2321-4c46-ae2f-2167d2826d62</td>\n      <td>-IMPRESA_SOC.COSTR.TRONI_OMILDE_E_FIGLI-S.N.C.</td>\n      <td>None</td>\n      <td></td>\n      <td>2</td>\n    </tr>\n    <tr>\n      <th>...</th>\n      <td>...</td>\n      <td>...</td>\n      <td>...</td>\n      <td>...</td>\n      <td>...</td>\n    </tr>\n    <tr>\n      <th>4125070</th>\n      <td>90eddf85-75fd-4255-8767-3bd3add0bd31</td>\n      <td>ZZZVTR60S58L219E</td>\n      <td>500/1000</td>\n      <td>Proprieta'</td>\n      <td>3</td>\n    </tr>\n    <tr>\n      <th>4125071</th>\n      <td>690db6fa-15e0-4f08-9728-5d3e0d0c30b7</td>\n      <td>ZZZVTR76H25A509E</td>\n      <td>1/2</td>\n      <td>Proprieta' per 1/2</td>\n      <td>7</td>\n    </tr>\n    <tr>\n      <th>4125072</th>\n      <td>28f41fdb-a57a-4136-8ca2-db0b04372bb5</td>\n      <td>ZZZVTR94A02H501S</td>\n      <td>10/40</td>\n      <td>Proprieta' per 10/40</td>\n      <td>1</td>\n    </tr>\n    <tr>\n      <th>4125073</th>\n      <td>940a0090-038e-4a9e-90a8-3f4b41e3c151</td>\n      <td>ZZZWLY27H50L273E</td>\n      <td>1/1</td>\n      <td>Proprieta' per 1/1</td>\n      <td>1</td>\n    </tr>\n    <tr>\n      <th>4125074</th>\n      <td>d05e7761-6137-4049-9407-025a6aa1c109</td>\n      <td>ZZZWTR82L23F205Z</td>\n      <td>1/1</td>\n      <td>Proprieta' per 1/1</td>\n      <td>5</td>\n    </tr>\n  </tbody>\n</table>\n<p>4125075 rows × 5 columns</p>\n</div>"
     },
     "execution_count": 5,
     "metadata": {},
     "output_type": "execute_result"
    }
   ],
   "source": [
    "data"
   ],
   "metadata": {
    "collapsed": false,
    "ExecuteTime": {
     "end_time": "2024-04-06T18:03:34.726091Z",
     "start_time": "2024-04-06T18:03:34.686483Z"
    }
   },
   "id": "1a6fa05e173191ae",
   "execution_count": 5
  },
  {
   "cell_type": "markdown",
   "source": [
    "### Removing Duplicates"
   ],
   "metadata": {
    "collapsed": false
   },
   "id": "f1f3185c89353a19"
  },
  {
   "cell_type": "code",
   "outputs": [],
   "source": [
    "#Drop Duplicates Rows\n",
    "data.drop_duplicates(inplace=True)"
   ],
   "metadata": {
    "collapsed": false,
    "ExecuteTime": {
     "end_time": "2024-04-06T18:10:58.019808Z",
     "start_time": "2024-04-06T18:10:36.448261Z"
    }
   },
   "id": "ceb9c4627bbfbbc4",
   "execution_count": 6
  },
  {
   "cell_type": "markdown",
   "source": [
    "### Data Imputation"
   ],
   "metadata": {
    "collapsed": false
   },
   "id": "db74881fba96af30"
  },
  {
   "cell_type": "code",
   "outputs": [
    {
     "data": {
      "text/plain": "Series([], dtype: float64)"
     },
     "execution_count": 18,
     "metadata": {},
     "output_type": "execute_result"
    }
   ],
   "source": [
    "#CHECK NULL VALUES\n",
    "null_values = data.isnull().sum() / len(data) * 100\n",
    "null_values[null_values > 0].sort_values(ascending=True)"
   ],
   "metadata": {
    "collapsed": false,
    "ExecuteTime": {
     "end_time": "2024-04-06T18:12:19.390477Z",
     "start_time": "2024-04-06T18:12:18.008205Z"
    }
   },
   "id": "9ead3041eaeb93fa",
   "execution_count": 18
  },
  {
   "cell_type": "code",
   "outputs": [],
   "source": [
    "#CHECK THE DATA TYPES\n",
    "data.dtypes"
   ],
   "metadata": {
    "collapsed": false,
    "ExecuteTime": {
     "start_time": "2024-04-06T18:10:59.598Z"
    }
   },
   "id": "9b4bd97bca509309",
   "execution_count": null
  },
  {
   "cell_type": "markdown",
   "source": [
    "#### Quota Column"
   ],
   "metadata": {
    "collapsed": false
   },
   "id": "95e0d61fda49e66e"
  },
  {
   "cell_type": "code",
   "outputs": [],
   "source": [
    "#QUOTA. FILL THE NULL VALUES OF QUOTA WITH THE MODE VALUE\n",
    "data['quota'].fillna(data['quota'].mode()[0], inplace=True)\n",
    "data['quota'][data['quota'] == ''] = 0"
   ],
   "metadata": {
    "collapsed": false,
    "ExecuteTime": {
     "end_time": "2024-04-06T18:11:22.868246Z",
     "start_time": "2024-04-06T18:11:21.796096Z"
    }
   },
   "id": "c8040501f2e0cc40",
   "execution_count": 9
  },
  {
   "cell_type": "code",
   "outputs": [],
   "source": [
    "#Split Quota column from df dataframe into two columns by \"/\"\n",
    "data[['numerator','denominator']] = data['quota'].str.split(\"/\",expand=True)"
   ],
   "metadata": {
    "collapsed": false,
    "ExecuteTime": {
     "end_time": "2024-04-06T18:11:41.982960Z",
     "start_time": "2024-04-06T18:11:25.422610Z"
    }
   },
   "id": "c64f3fa0a5e6a310",
   "execution_count": 10
  },
  {
   "cell_type": "code",
   "outputs": [],
   "source": [
    "#Convert NaNs to a number (e.g., -1 or 0) or drop the rows with NaNs\n",
    "data['numerator'] = data['numerator'].fillna(0) \n",
    "#Where there is numerator values. Fill the missing values in the 'denominator' column with the values in the 'numerator' column\n",
    "data['denominator'][(data['denominator'].isnull())] = data['numerator'][(data['denominator'].isnull())]\n",
    "#Looking for the most frequent values in the column\n",
    "data.groupby('denominator')['denominator'].count().sort_values(ascending=False).head(50)\n",
    "data['denominator'][data['denominator'] == ''] = data['numerator'][data['denominator'] == '']"
   ],
   "metadata": {
    "collapsed": false,
    "ExecuteTime": {
     "end_time": "2024-04-06T18:11:44.989792Z",
     "start_time": "2024-04-06T18:11:41.998926Z"
    }
   },
   "id": "374221aa870ffc56",
   "execution_count": 11
  },
  {
   "cell_type": "code",
   "outputs": [],
   "source": [
    "#Create a column named 'division' with the ratio of 'numerator' and 'denominator'\n",
    "data['%Ownership'] = data['numerator'].astype(float) / data['denominator'].astype(float) \n",
    "#Fill na values of %Ownership column with 1.00\n",
    "data['%Ownership'].fillna(1.00, inplace=True)"
   ],
   "metadata": {
    "collapsed": false,
    "ExecuteTime": {
     "end_time": "2024-04-06T18:11:47.458704Z",
     "start_time": "2024-04-06T18:11:44.992789Z"
    }
   },
   "id": "57c15c9fcbc6dfad",
   "execution_count": 12
  },
  {
   "cell_type": "code",
   "outputs": [
    {
     "data": {
      "text/plain": "%Ownership\n1.00        2246523\n0.50        1224320\n0.17         114525\n0.33         108273\n0.25          82683\n             ...   \n0.05              1\n0.05              1\n0.05              1\n0.05              1\n17777.64          1\nName: %Ownership, Length: 10998, dtype: int64"
     },
     "execution_count": 13,
     "metadata": {},
     "output_type": "execute_result"
    }
   ],
   "source": [
    "data.groupby('%Ownership')['%Ownership'].count().sort_values(ascending=False)"
   ],
   "metadata": {
    "collapsed": false,
    "ExecuteTime": {
     "end_time": "2024-04-06T18:11:47.626292Z",
     "start_time": "2024-04-06T18:11:47.461712Z"
    }
   },
   "id": "4ba3047276fde5b4",
   "execution_count": 13
  },
  {
   "cell_type": "markdown",
   "source": [
    "#### Titolarita Column\n"
   ],
   "metadata": {
    "collapsed": false
   },
   "id": "8e6dfbdfc9956be0"
  },
  {
   "cell_type": "code",
   "outputs": [],
   "source": [
    "data['titolarita'].fillna(data['quota'].mode()[0], inplace=True)"
   ],
   "metadata": {
    "collapsed": false,
    "ExecuteTime": {
     "end_time": "2024-04-06T18:11:56.718464Z",
     "start_time": "2024-04-06T18:11:55.729623Z"
    }
   },
   "id": "2210ad9bea98440d",
   "execution_count": 14
  },
  {
   "cell_type": "code",
   "outputs": [],
   "source": [
    "data['titolarita'] = data['titolarita'].str.replace(\"'\", \"\")"
   ],
   "metadata": {
    "collapsed": false,
    "ExecuteTime": {
     "end_time": "2024-04-06T18:12:02.112165Z",
     "start_time": "2024-04-06T18:11:58.231870Z"
    }
   },
   "id": "fbf2b2147369f958",
   "execution_count": 15
  },
  {
   "cell_type": "code",
   "outputs": [
    {
     "data": {
      "text/plain": "titolarita\nProprieta                     1582064\nProprieta per 1/2              709294\nProprieta per 1/1              701331\nProprieta per 1/6               69816\nProprieta per 1/3               68585\n                               ...   \nProprieta per 5/10400               1\nProprieta per 49999/45000           1\nProprieta per 49999/360000          1\nProprieta per 49999/200000          1\nz                                   1\nName: titolarita, Length: 38297, dtype: int64"
     },
     "execution_count": 16,
     "metadata": {},
     "output_type": "execute_result"
    }
   ],
   "source": [
    "data.groupby('titolarita')['titolarita'].count().sort_values(ascending=False)"
   ],
   "metadata": {
    "collapsed": false,
    "ExecuteTime": {
     "end_time": "2024-04-06T18:12:03.166492Z",
     "start_time": "2024-04-06T18:12:02.115163Z"
    }
   },
   "id": "4318746fc1f1744e",
   "execution_count": 16
  },
  {
   "cell_type": "markdown",
   "source": [
    "### Check Outliers"
   ],
   "metadata": {
    "collapsed": false
   },
   "id": "6e5604d38afc5cdd"
  },
  {
   "cell_type": "code",
   "outputs": [],
   "source": [
    "import seaborn as sns\n",
    "\n",
    "# Boxplot visualization\n",
    "sns.boxplot(x=data['titolarita'])\n",
    "plt.show()\n",
    "\n",
    "# IQR method\n",
    "Q1 = data['titolarita'].quantile(0.25)\n",
    "Q3 = data['titolarita'].quantile(0.75)\n",
    "IQR = Q3 - Q1\n",
    "\n",
    "lower_bound = Q1 - 1.5 * IQR\n",
    "upper_bound = Q3 + 1.5 * IQR"
   ],
   "metadata": {
    "collapsed": false
   },
   "id": "22114310a2cc21c4"
  },
  {
   "cell_type": "markdown",
   "source": [
    "### Descriptive Analysis"
   ],
   "metadata": {
    "collapsed": false
   },
   "id": "41761b52a8ae6701"
  },
  {
   "cell_type": "code",
   "outputs": [
    {
     "data": {
      "text/plain": "                           id_intestati  \\\n0  dcad7eb8-a5d8-4eb2-9e75-3ff0b49dca02   \n1  c557abc4-799b-4bca-a919-4637410f7884   \n2  091aac50-96e4-4231-8d48-1e3c5b55a328   \n3  221e9517-dca2-4507-96f1-74cd44380744   \n4  1136dc3a-2321-4c46-ae2f-2167d2826d62   \n\n                                             codfisc quota  \\\n0  _SOCIETA'_COOPERATIVA_RESPONSABILITA'_LIMITATA...   1/1   \n1                             -_DELTA_PRIMA_-_S.R.L.     0   \n2               -C.L.I.COMPAGNIA_LIGURE_INVESTIMENTI   1/1   \n3                                             -CIMEP   1/1   \n4     -IMPRESA_SOC.COSTR.TRONI_OMILDE_E_FIGLI-S.N.C.   1/1   \n\n             titolarita  Total_IMM numerator denominator  %Ownership  \n0  Proprieta per larea           1         1           1        1.00  \n1            Proprieta           1         0           0        1.00  \n2            Proprieta           1         1           1        1.00  \n3  Proprieta per larea           1         1           1        1.00  \n4                                2         1           1        1.00  ",
      "text/html": "<div>\n<style scoped>\n    .dataframe tbody tr th:only-of-type {\n        vertical-align: middle;\n    }\n\n    .dataframe tbody tr th {\n        vertical-align: top;\n    }\n\n    .dataframe thead th {\n        text-align: right;\n    }\n</style>\n<table border=\"1\" class=\"dataframe\">\n  <thead>\n    <tr style=\"text-align: right;\">\n      <th></th>\n      <th>id_intestati</th>\n      <th>codfisc</th>\n      <th>quota</th>\n      <th>titolarita</th>\n      <th>Total_IMM</th>\n      <th>numerator</th>\n      <th>denominator</th>\n      <th>%Ownership</th>\n    </tr>\n  </thead>\n  <tbody>\n    <tr>\n      <th>0</th>\n      <td>dcad7eb8-a5d8-4eb2-9e75-3ff0b49dca02</td>\n      <td>_SOCIETA'_COOPERATIVA_RESPONSABILITA'_LIMITATA...</td>\n      <td>1/1</td>\n      <td>Proprieta per larea</td>\n      <td>1</td>\n      <td>1</td>\n      <td>1</td>\n      <td>1.00</td>\n    </tr>\n    <tr>\n      <th>1</th>\n      <td>c557abc4-799b-4bca-a919-4637410f7884</td>\n      <td>-_DELTA_PRIMA_-_S.R.L.</td>\n      <td>0</td>\n      <td>Proprieta</td>\n      <td>1</td>\n      <td>0</td>\n      <td>0</td>\n      <td>1.00</td>\n    </tr>\n    <tr>\n      <th>2</th>\n      <td>091aac50-96e4-4231-8d48-1e3c5b55a328</td>\n      <td>-C.L.I.COMPAGNIA_LIGURE_INVESTIMENTI</td>\n      <td>1/1</td>\n      <td>Proprieta</td>\n      <td>1</td>\n      <td>1</td>\n      <td>1</td>\n      <td>1.00</td>\n    </tr>\n    <tr>\n      <th>3</th>\n      <td>221e9517-dca2-4507-96f1-74cd44380744</td>\n      <td>-CIMEP</td>\n      <td>1/1</td>\n      <td>Proprieta per larea</td>\n      <td>1</td>\n      <td>1</td>\n      <td>1</td>\n      <td>1.00</td>\n    </tr>\n    <tr>\n      <th>4</th>\n      <td>1136dc3a-2321-4c46-ae2f-2167d2826d62</td>\n      <td>-IMPRESA_SOC.COSTR.TRONI_OMILDE_E_FIGLI-S.N.C.</td>\n      <td>1/1</td>\n      <td></td>\n      <td>2</td>\n      <td>1</td>\n      <td>1</td>\n      <td>1.00</td>\n    </tr>\n  </tbody>\n</table>\n</div>"
     },
     "execution_count": 23,
     "metadata": {},
     "output_type": "execute_result"
    }
   ],
   "source": [
    "#CHECK THE STATISTICAL SUMMARY OF THE DATAFRAME\n",
    "data.head()\n"
   ],
   "metadata": {
    "collapsed": false
   },
   "id": "8bfca59ba7b5408f",
   "execution_count": 23
  },
  {
   "cell_type": "markdown",
   "source": [
    "### Exploratory Analysis"
   ],
   "metadata": {
    "collapsed": false
   },
   "id": "f3c71924d68da63e"
  },
  {
   "cell_type": "code",
   "outputs": [
    {
     "name": "stdout",
     "output_type": "stream",
     "text": [
      "Categorical Features : titolitaria\n",
      "Numerical Features : Total_IMM %Ownership\n"
     ]
    }
   ],
   "source": [
    "#Divide between Categorical and Numerical Features\n",
    "col = list(data.columns)\n",
    "#\n",
    "col.remove('codfisc')\n",
    "col.remove('quota')\n",
    "col.remove('numerator')\n",
    "col.remove('denominator')\n",
    "col.remove('id_intestati')\n",
    "categorical_features = ['titolitaria']\n",
    "numerical_features = ['Total_IMM','%Ownership']\n",
    "print('Categorical Features :',*categorical_features)\n",
    "print('Numerical Features :',*numerical_features)"
   ],
   "metadata": {
    "collapsed": false,
    "ExecuteTime": {
     "end_time": "2024-04-06T18:28:40.574213Z",
     "start_time": "2024-04-06T18:28:40.567696Z"
    }
   },
   "id": "faa4a7c31f9c4608",
   "execution_count": 29
  },
  {
   "cell_type": "code",
   "outputs": [
    {
     "data": {
      "text/plain": "<Figure size 1500x1500 with 9 Axes>",
      "image/png": "[encoded data removed]"
     },
     "metadata": {},
     "output_type": "display_data"
    }
   ],
   "source": [
    "colors = ['#FF781F','#2D2926']\n",
    "fig, ax = plt.subplots(nrows = 3,ncols = 3,figsize = (15,15))\n",
    "for i in range(len(numerical_features)):\n",
    "    plt.subplot(3,3,i+1)\n",
    "    sns.distplot(data[numerical_features[i]],color = colors[0])\n",
    "    title = 'Distribution : ' + numerical_features[i]\n",
    "    plt.title(title)\n",
    "plt.show()"
   ],
   "metadata": {
    "collapsed": false,
    "ExecuteTime": {
     "end_time": "2024-04-06T18:30:52.193366Z",
     "start_time": "2024-04-06T18:28:43.778840Z"
    }
   },
   "id": "b3d775d20399c59c",
   "execution_count": 30
  },
  {
   "cell_type": "code",
   "outputs": [
    {
     "ename": "ValueError",
     "evalue": "could not convert string to float: 'dcad7eb8-a5d8-4eb2-9e75-3ff0b49dca02'",
     "output_type": "error",
     "traceback": [
      "\u001B[1;31m---------------------------------------------------------------------------\u001B[0m",
      "\u001B[1;31mValueError\u001B[0m                                Traceback (most recent call last)",
      "Cell \u001B[1;32mIn[31], line 2\u001B[0m\n\u001B[0;32m      1\u001B[0m \u001B[38;5;66;03m# Plot a correlation matrix\u001B[39;00m\n\u001B[1;32m----> 2\u001B[0m corr \u001B[38;5;241m=\u001B[39m data\u001B[38;5;241m.\u001B[39mcorr()\n\u001B[0;32m      3\u001B[0m corr_matrix \u001B[38;5;241m=\u001B[39m data\u001B[38;5;241m.\u001B[39mcorr()\n\u001B[0;32m      4\u001B[0m sns\u001B[38;5;241m.\u001B[39mheatmap(corr_matrix, annot\u001B[38;5;241m=\u001B[39m\u001B[38;5;28;01mTrue\u001B[39;00m)\n",
      "File \u001B[1;32m~\\anaconda3\\Lib\\site-packages\\pandas\\core\\frame.py:10054\u001B[0m, in \u001B[0;36mDataFrame.corr\u001B[1;34m(self, method, min_periods, numeric_only)\u001B[0m\n\u001B[0;32m  10052\u001B[0m cols \u001B[38;5;241m=\u001B[39m data\u001B[38;5;241m.\u001B[39mcolumns\n\u001B[0;32m  10053\u001B[0m idx \u001B[38;5;241m=\u001B[39m cols\u001B[38;5;241m.\u001B[39mcopy()\n\u001B[1;32m> 10054\u001B[0m mat \u001B[38;5;241m=\u001B[39m data\u001B[38;5;241m.\u001B[39mto_numpy(dtype\u001B[38;5;241m=\u001B[39m\u001B[38;5;28mfloat\u001B[39m, na_value\u001B[38;5;241m=\u001B[39mnp\u001B[38;5;241m.\u001B[39mnan, copy\u001B[38;5;241m=\u001B[39m\u001B[38;5;28;01mFalse\u001B[39;00m)\n\u001B[0;32m  10056\u001B[0m \u001B[38;5;28;01mif\u001B[39;00m method \u001B[38;5;241m==\u001B[39m \u001B[38;5;124m\"\u001B[39m\u001B[38;5;124mpearson\u001B[39m\u001B[38;5;124m\"\u001B[39m:\n\u001B[0;32m  10057\u001B[0m     correl \u001B[38;5;241m=\u001B[39m libalgos\u001B[38;5;241m.\u001B[39mnancorr(mat, minp\u001B[38;5;241m=\u001B[39mmin_periods)\n",
      "File \u001B[1;32m~\\anaconda3\\Lib\\site-packages\\pandas\\core\\frame.py:1838\u001B[0m, in \u001B[0;36mDataFrame.to_numpy\u001B[1;34m(self, dtype, copy, na_value)\u001B[0m\n\u001B[0;32m   1836\u001B[0m \u001B[38;5;28;01mif\u001B[39;00m dtype \u001B[38;5;129;01mis\u001B[39;00m \u001B[38;5;129;01mnot\u001B[39;00m \u001B[38;5;28;01mNone\u001B[39;00m:\n\u001B[0;32m   1837\u001B[0m     dtype \u001B[38;5;241m=\u001B[39m np\u001B[38;5;241m.\u001B[39mdtype(dtype)\n\u001B[1;32m-> 1838\u001B[0m result \u001B[38;5;241m=\u001B[39m \u001B[38;5;28mself\u001B[39m\u001B[38;5;241m.\u001B[39m_mgr\u001B[38;5;241m.\u001B[39mas_array(dtype\u001B[38;5;241m=\u001B[39mdtype, copy\u001B[38;5;241m=\u001B[39mcopy, na_value\u001B[38;5;241m=\u001B[39mna_value)\n\u001B[0;32m   1839\u001B[0m \u001B[38;5;28;01mif\u001B[39;00m result\u001B[38;5;241m.\u001B[39mdtype \u001B[38;5;129;01mis\u001B[39;00m \u001B[38;5;129;01mnot\u001B[39;00m dtype:\n\u001B[0;32m   1840\u001B[0m     result \u001B[38;5;241m=\u001B[39m np\u001B[38;5;241m.\u001B[39marray(result, dtype\u001B[38;5;241m=\u001B[39mdtype, copy\u001B[38;5;241m=\u001B[39m\u001B[38;5;28;01mFalse\u001B[39;00m)\n",
      "File \u001B[1;32m~\\anaconda3\\Lib\\site-packages\\pandas\\core\\internals\\managers.py:1732\u001B[0m, in \u001B[0;36mBlockManager.as_array\u001B[1;34m(self, dtype, copy, na_value)\u001B[0m\n\u001B[0;32m   1730\u001B[0m         arr\u001B[38;5;241m.\u001B[39mflags\u001B[38;5;241m.\u001B[39mwriteable \u001B[38;5;241m=\u001B[39m \u001B[38;5;28;01mFalse\u001B[39;00m\n\u001B[0;32m   1731\u001B[0m \u001B[38;5;28;01melse\u001B[39;00m:\n\u001B[1;32m-> 1732\u001B[0m     arr \u001B[38;5;241m=\u001B[39m \u001B[38;5;28mself\u001B[39m\u001B[38;5;241m.\u001B[39m_interleave(dtype\u001B[38;5;241m=\u001B[39mdtype, na_value\u001B[38;5;241m=\u001B[39mna_value)\n\u001B[0;32m   1733\u001B[0m     \u001B[38;5;66;03m# The underlying data was copied within _interleave, so no need\u001B[39;00m\n\u001B[0;32m   1734\u001B[0m     \u001B[38;5;66;03m# to further copy if copy=True or setting na_value\u001B[39;00m\n\u001B[0;32m   1736\u001B[0m \u001B[38;5;28;01mif\u001B[39;00m na_value \u001B[38;5;129;01mis\u001B[39;00m \u001B[38;5;129;01mnot\u001B[39;00m lib\u001B[38;5;241m.\u001B[39mno_default:\n",
      "File \u001B[1;32m~\\anaconda3\\Lib\\site-packages\\pandas\\core\\internals\\managers.py:1794\u001B[0m, in \u001B[0;36mBlockManager._interleave\u001B[1;34m(self, dtype, na_value)\u001B[0m\n\u001B[0;32m   1792\u001B[0m     \u001B[38;5;28;01melse\u001B[39;00m:\n\u001B[0;32m   1793\u001B[0m         arr \u001B[38;5;241m=\u001B[39m blk\u001B[38;5;241m.\u001B[39mget_values(dtype)\n\u001B[1;32m-> 1794\u001B[0m     result[rl\u001B[38;5;241m.\u001B[39mindexer] \u001B[38;5;241m=\u001B[39m arr\n\u001B[0;32m   1795\u001B[0m     itemmask[rl\u001B[38;5;241m.\u001B[39mindexer] \u001B[38;5;241m=\u001B[39m \u001B[38;5;241m1\u001B[39m\n\u001B[0;32m   1797\u001B[0m \u001B[38;5;28;01mif\u001B[39;00m \u001B[38;5;129;01mnot\u001B[39;00m itemmask\u001B[38;5;241m.\u001B[39mall():\n",
      "\u001B[1;31mValueError\u001B[0m: could not convert string to float: 'dcad7eb8-a5d8-4eb2-9e75-3ff0b49dca02'"
     ]
    }
   ],
   "source": [
    "# Plot a correlation matrix\n",
    "corr = data.corr()\n",
    "corr_matrix = data.corr()\n",
    "sns.heatmap(corr_matrix, annot=True)\n",
    "plt.show()"
   ],
   "metadata": {
    "collapsed": false,
    "ExecuteTime": {
     "end_time": "2024-04-06T18:30:52.895555Z",
     "start_time": "2024-04-06T18:30:52.195365Z"
    }
   },
   "id": "f5ef67ecf69535f4",
   "execution_count": 31
  },
  {
   "cell_type": "code",
   "outputs": [
    {
     "ename": "KeyboardInterrupt",
     "evalue": "",
     "output_type": "error",
     "traceback": [
      "\u001B[1;31m---------------------------------------------------------------------------\u001B[0m",
      "\u001B[1;31mKeyboardInterrupt\u001B[0m                         Traceback (most recent call last)",
      "Cell \u001B[1;32mIn[32], line 6\u001B[0m\n\u001B[0;32m      4\u001B[0m plt\u001B[38;5;241m.\u001B[39mfigure()\n\u001B[0;32m      5\u001B[0m plt\u001B[38;5;241m.\u001B[39mfigure()\n\u001B[1;32m----> 6\u001B[0m data[column]\u001B[38;5;241m.\u001B[39mvalue_counts()\u001B[38;5;241m.\u001B[39mplot(kind\u001B[38;5;241m=\u001B[39m\u001B[38;5;124m'\u001B[39m\u001B[38;5;124mbar\u001B[39m\u001B[38;5;124m'\u001B[39m)\n\u001B[0;32m      7\u001B[0m plt\u001B[38;5;241m.\u001B[39mtitle(column)\n\u001B[0;32m      9\u001B[0m data[column]\u001B[38;5;241m.\u001B[39mvalue_counts()\u001B[38;5;241m.\u001B[39mplot(kind\u001B[38;5;241m=\u001B[39m\u001B[38;5;124m'\u001B[39m\u001B[38;5;124mbar\u001B[39m\u001B[38;5;124m'\u001B[39m)\n",
      "File \u001B[1;32m~\\anaconda3\\Lib\\site-packages\\pandas\\plotting\\_core.py:975\u001B[0m, in \u001B[0;36mPlotAccessor.__call__\u001B[1;34m(self, *args, **kwargs)\u001B[0m\n\u001B[0;32m    972\u001B[0m             label_name \u001B[38;5;241m=\u001B[39m label_kw \u001B[38;5;129;01mor\u001B[39;00m data\u001B[38;5;241m.\u001B[39mcolumns\n\u001B[0;32m    973\u001B[0m             data\u001B[38;5;241m.\u001B[39mcolumns \u001B[38;5;241m=\u001B[39m label_name\n\u001B[1;32m--> 975\u001B[0m \u001B[38;5;28;01mreturn\u001B[39;00m plot_backend\u001B[38;5;241m.\u001B[39mplot(data, kind\u001B[38;5;241m=\u001B[39mkind, \u001B[38;5;241m*\u001B[39m\u001B[38;5;241m*\u001B[39mkwargs)\n",
      "File \u001B[1;32m~\\anaconda3\\Lib\\site-packages\\pandas\\plotting\\_matplotlib\\__init__.py:71\u001B[0m, in \u001B[0;36mplot\u001B[1;34m(data, kind, **kwargs)\u001B[0m\n\u001B[0;32m     69\u001B[0m         kwargs[\u001B[38;5;124m\"\u001B[39m\u001B[38;5;124max\u001B[39m\u001B[38;5;124m\"\u001B[39m] \u001B[38;5;241m=\u001B[39m \u001B[38;5;28mgetattr\u001B[39m(ax, \u001B[38;5;124m\"\u001B[39m\u001B[38;5;124mleft_ax\u001B[39m\u001B[38;5;124m\"\u001B[39m, ax)\n\u001B[0;32m     70\u001B[0m plot_obj \u001B[38;5;241m=\u001B[39m PLOT_CLASSES[kind](data, \u001B[38;5;241m*\u001B[39m\u001B[38;5;241m*\u001B[39mkwargs)\n\u001B[1;32m---> 71\u001B[0m plot_obj\u001B[38;5;241m.\u001B[39mgenerate()\n\u001B[0;32m     72\u001B[0m plot_obj\u001B[38;5;241m.\u001B[39mdraw()\n\u001B[0;32m     73\u001B[0m \u001B[38;5;28;01mreturn\u001B[39;00m plot_obj\u001B[38;5;241m.\u001B[39mresult\n",
      "File \u001B[1;32m~\\anaconda3\\Lib\\site-packages\\pandas\\plotting\\_matplotlib\\core.py:448\u001B[0m, in \u001B[0;36mMPLPlot.generate\u001B[1;34m(self)\u001B[0m\n\u001B[0;32m    446\u001B[0m \u001B[38;5;28mself\u001B[39m\u001B[38;5;241m.\u001B[39m_compute_plot_data()\n\u001B[0;32m    447\u001B[0m \u001B[38;5;28mself\u001B[39m\u001B[38;5;241m.\u001B[39m_setup_subplots()\n\u001B[1;32m--> 448\u001B[0m \u001B[38;5;28mself\u001B[39m\u001B[38;5;241m.\u001B[39m_make_plot()\n\u001B[0;32m    449\u001B[0m \u001B[38;5;28mself\u001B[39m\u001B[38;5;241m.\u001B[39m_add_table()\n\u001B[0;32m    450\u001B[0m \u001B[38;5;28mself\u001B[39m\u001B[38;5;241m.\u001B[39m_make_legend()\n",
      "File \u001B[1;32m~\\anaconda3\\Lib\\site-packages\\pandas\\plotting\\_matplotlib\\core.py:1732\u001B[0m, in \u001B[0;36mBarPlot._make_plot\u001B[1;34m(self)\u001B[0m\n\u001B[0;32m   1730\u001B[0m \u001B[38;5;28;01melse\u001B[39;00m:\n\u001B[0;32m   1731\u001B[0m     w \u001B[38;5;241m=\u001B[39m \u001B[38;5;28mself\u001B[39m\u001B[38;5;241m.\u001B[39mbar_width \u001B[38;5;241m/\u001B[39m K\n\u001B[1;32m-> 1732\u001B[0m     rect \u001B[38;5;241m=\u001B[39m \u001B[38;5;28mself\u001B[39m\u001B[38;5;241m.\u001B[39m_plot(\n\u001B[0;32m   1733\u001B[0m         ax,\n\u001B[0;32m   1734\u001B[0m         \u001B[38;5;28mself\u001B[39m\u001B[38;5;241m.\u001B[39max_pos \u001B[38;5;241m+\u001B[39m (i \u001B[38;5;241m+\u001B[39m \u001B[38;5;241m0.5\u001B[39m) \u001B[38;5;241m*\u001B[39m w,\n\u001B[0;32m   1735\u001B[0m         y,\n\u001B[0;32m   1736\u001B[0m         w,\n\u001B[0;32m   1737\u001B[0m         start\u001B[38;5;241m=\u001B[39mstart,\n\u001B[0;32m   1738\u001B[0m         label\u001B[38;5;241m=\u001B[39mlabel,\n\u001B[0;32m   1739\u001B[0m         log\u001B[38;5;241m=\u001B[39m\u001B[38;5;28mself\u001B[39m\u001B[38;5;241m.\u001B[39mlog,\n\u001B[0;32m   1740\u001B[0m         \u001B[38;5;241m*\u001B[39m\u001B[38;5;241m*\u001B[39mkwds,\n\u001B[0;32m   1741\u001B[0m     )\n\u001B[0;32m   1742\u001B[0m \u001B[38;5;28mself\u001B[39m\u001B[38;5;241m.\u001B[39m_append_legend_handles_labels(rect, label)\n",
      "File \u001B[1;32m~\\anaconda3\\Lib\\site-packages\\pandas\\plotting\\_matplotlib\\core.py:1664\u001B[0m, in \u001B[0;36mBarPlot._plot\u001B[1;34m(cls, ax, x, y, w, start, log, **kwds)\u001B[0m\n\u001B[0;32m   1653\u001B[0m \u001B[38;5;129m@classmethod\u001B[39m\n\u001B[0;32m   1654\u001B[0m \u001B[38;5;28;01mdef\u001B[39;00m \u001B[38;5;21m_plot\u001B[39m(  \u001B[38;5;66;03m# type: ignore[override]\u001B[39;00m\n\u001B[0;32m   1655\u001B[0m     \u001B[38;5;28mcls\u001B[39m,\n\u001B[1;32m   (...)\u001B[0m\n\u001B[0;32m   1662\u001B[0m     \u001B[38;5;241m*\u001B[39m\u001B[38;5;241m*\u001B[39mkwds,\n\u001B[0;32m   1663\u001B[0m ):\n\u001B[1;32m-> 1664\u001B[0m     \u001B[38;5;28;01mreturn\u001B[39;00m ax\u001B[38;5;241m.\u001B[39mbar(x, y, w, bottom\u001B[38;5;241m=\u001B[39mstart, log\u001B[38;5;241m=\u001B[39mlog, \u001B[38;5;241m*\u001B[39m\u001B[38;5;241m*\u001B[39mkwds)\n",
      "File \u001B[1;32m~\\anaconda3\\Lib\\site-packages\\matplotlib\\__init__.py:1446\u001B[0m, in \u001B[0;36m_preprocess_data.<locals>.inner\u001B[1;34m(ax, data, *args, **kwargs)\u001B[0m\n\u001B[0;32m   1443\u001B[0m \u001B[38;5;129m@functools\u001B[39m\u001B[38;5;241m.\u001B[39mwraps(func)\n\u001B[0;32m   1444\u001B[0m \u001B[38;5;28;01mdef\u001B[39;00m \u001B[38;5;21minner\u001B[39m(ax, \u001B[38;5;241m*\u001B[39margs, data\u001B[38;5;241m=\u001B[39m\u001B[38;5;28;01mNone\u001B[39;00m, \u001B[38;5;241m*\u001B[39m\u001B[38;5;241m*\u001B[39mkwargs):\n\u001B[0;32m   1445\u001B[0m     \u001B[38;5;28;01mif\u001B[39;00m data \u001B[38;5;129;01mis\u001B[39;00m \u001B[38;5;28;01mNone\u001B[39;00m:\n\u001B[1;32m-> 1446\u001B[0m         \u001B[38;5;28;01mreturn\u001B[39;00m func(ax, \u001B[38;5;241m*\u001B[39m\u001B[38;5;28mmap\u001B[39m(sanitize_sequence, args), \u001B[38;5;241m*\u001B[39m\u001B[38;5;241m*\u001B[39mkwargs)\n\u001B[0;32m   1448\u001B[0m     bound \u001B[38;5;241m=\u001B[39m new_sig\u001B[38;5;241m.\u001B[39mbind(ax, \u001B[38;5;241m*\u001B[39margs, \u001B[38;5;241m*\u001B[39m\u001B[38;5;241m*\u001B[39mkwargs)\n\u001B[0;32m   1449\u001B[0m     auto_label \u001B[38;5;241m=\u001B[39m (bound\u001B[38;5;241m.\u001B[39marguments\u001B[38;5;241m.\u001B[39mget(label_namer)\n\u001B[0;32m   1450\u001B[0m                   \u001B[38;5;129;01mor\u001B[39;00m bound\u001B[38;5;241m.\u001B[39mkwargs\u001B[38;5;241m.\u001B[39mget(label_namer))\n",
      "File \u001B[1;32m~\\anaconda3\\Lib\\site-packages\\matplotlib\\axes\\_axes.py:2486\u001B[0m, in \u001B[0;36mAxes.bar\u001B[1;34m(self, x, height, width, bottom, align, **kwargs)\u001B[0m\n\u001B[0;32m   2484\u001B[0m     \u001B[38;5;28;01melse\u001B[39;00m:  \u001B[38;5;66;03m# horizontal\u001B[39;00m\n\u001B[0;32m   2485\u001B[0m         r\u001B[38;5;241m.\u001B[39msticky_edges\u001B[38;5;241m.\u001B[39mx\u001B[38;5;241m.\u001B[39mappend(l)\n\u001B[1;32m-> 2486\u001B[0m     \u001B[38;5;28mself\u001B[39m\u001B[38;5;241m.\u001B[39madd_patch(r)\n\u001B[0;32m   2487\u001B[0m     patches\u001B[38;5;241m.\u001B[39mappend(r)\n\u001B[0;32m   2489\u001B[0m \u001B[38;5;28;01mif\u001B[39;00m xerr \u001B[38;5;129;01mis\u001B[39;00m \u001B[38;5;129;01mnot\u001B[39;00m \u001B[38;5;28;01mNone\u001B[39;00m \u001B[38;5;129;01mor\u001B[39;00m yerr \u001B[38;5;129;01mis\u001B[39;00m \u001B[38;5;129;01mnot\u001B[39;00m \u001B[38;5;28;01mNone\u001B[39;00m:\n",
      "File \u001B[1;32m~\\anaconda3\\Lib\\site-packages\\matplotlib\\axes\\_base.py:2379\u001B[0m, in \u001B[0;36m_AxesBase.add_patch\u001B[1;34m(self, p)\u001B[0m\n\u001B[0;32m   2377\u001B[0m \u001B[38;5;28;01mif\u001B[39;00m p\u001B[38;5;241m.\u001B[39mget_clip_path() \u001B[38;5;129;01mis\u001B[39;00m \u001B[38;5;28;01mNone\u001B[39;00m:\n\u001B[0;32m   2378\u001B[0m     p\u001B[38;5;241m.\u001B[39mset_clip_path(\u001B[38;5;28mself\u001B[39m\u001B[38;5;241m.\u001B[39mpatch)\n\u001B[1;32m-> 2379\u001B[0m \u001B[38;5;28mself\u001B[39m\u001B[38;5;241m.\u001B[39m_update_patch_limits(p)\n\u001B[0;32m   2380\u001B[0m \u001B[38;5;28mself\u001B[39m\u001B[38;5;241m.\u001B[39m_children\u001B[38;5;241m.\u001B[39mappend(p)\n\u001B[0;32m   2381\u001B[0m p\u001B[38;5;241m.\u001B[39m_remove_method \u001B[38;5;241m=\u001B[39m \u001B[38;5;28mself\u001B[39m\u001B[38;5;241m.\u001B[39m_children\u001B[38;5;241m.\u001B[39mremove\n",
      "File \u001B[1;32m~\\anaconda3\\Lib\\site-packages\\matplotlib\\axes\\_base.py:2421\u001B[0m, in \u001B[0;36m_AxesBase._update_patch_limits\u001B[1;34m(self, patch)\u001B[0m\n\u001B[0;32m   2419\u001B[0m         updatey \u001B[38;5;241m=\u001B[39m \u001B[38;5;28;01mFalse\u001B[39;00m\n\u001B[0;32m   2420\u001B[0m trf_to_data \u001B[38;5;241m=\u001B[39m patch_trf \u001B[38;5;241m-\u001B[39m \u001B[38;5;28mself\u001B[39m\u001B[38;5;241m.\u001B[39mtransData\n\u001B[1;32m-> 2421\u001B[0m xys \u001B[38;5;241m=\u001B[39m trf_to_data\u001B[38;5;241m.\u001B[39mtransform(vertices)\n\u001B[0;32m   2422\u001B[0m \u001B[38;5;28mself\u001B[39m\u001B[38;5;241m.\u001B[39mupdate_datalim(xys, updatex\u001B[38;5;241m=\u001B[39mupdatex, updatey\u001B[38;5;241m=\u001B[39mupdatey)\n",
      "File \u001B[1;32m~\\anaconda3\\Lib\\site-packages\\matplotlib\\transforms.py:1498\u001B[0m, in \u001B[0;36mTransform.transform\u001B[1;34m(self, values)\u001B[0m\n\u001B[0;32m   1495\u001B[0m values \u001B[38;5;241m=\u001B[39m values\u001B[38;5;241m.\u001B[39mreshape((\u001B[38;5;241m-\u001B[39m\u001B[38;5;241m1\u001B[39m, \u001B[38;5;28mself\u001B[39m\u001B[38;5;241m.\u001B[39minput_dims))\n\u001B[0;32m   1497\u001B[0m \u001B[38;5;66;03m# Transform the values\u001B[39;00m\n\u001B[1;32m-> 1498\u001B[0m res \u001B[38;5;241m=\u001B[39m \u001B[38;5;28mself\u001B[39m\u001B[38;5;241m.\u001B[39mtransform_affine(\u001B[38;5;28mself\u001B[39m\u001B[38;5;241m.\u001B[39mtransform_non_affine(values))\n\u001B[0;32m   1500\u001B[0m \u001B[38;5;66;03m# Convert the result back to the shape of the input values.\u001B[39;00m\n\u001B[0;32m   1501\u001B[0m \u001B[38;5;28;01mif\u001B[39;00m ndim \u001B[38;5;241m==\u001B[39m \u001B[38;5;241m0\u001B[39m:\n",
      "File \u001B[1;32m~\\anaconda3\\Lib\\site-packages\\matplotlib\\transforms.py:2423\u001B[0m, in \u001B[0;36mCompositeGenericTransform.transform_affine\u001B[1;34m(self, points)\u001B[0m\n\u001B[0;32m   2421\u001B[0m \u001B[38;5;28;01mdef\u001B[39;00m \u001B[38;5;21mtransform_affine\u001B[39m(\u001B[38;5;28mself\u001B[39m, points):\n\u001B[0;32m   2422\u001B[0m     \u001B[38;5;66;03m# docstring inherited\u001B[39;00m\n\u001B[1;32m-> 2423\u001B[0m     \u001B[38;5;28;01mreturn\u001B[39;00m \u001B[38;5;28mself\u001B[39m\u001B[38;5;241m.\u001B[39mget_affine()\u001B[38;5;241m.\u001B[39mtransform(points)\n",
      "File \u001B[1;32m~\\anaconda3\\Lib\\site-packages\\matplotlib\\transforms.py:2449\u001B[0m, in \u001B[0;36mCompositeGenericTransform.get_affine\u001B[1;34m(self)\u001B[0m\n\u001B[0;32m   2447\u001B[0m     \u001B[38;5;28;01mreturn\u001B[39;00m \u001B[38;5;28mself\u001B[39m\u001B[38;5;241m.\u001B[39m_b\u001B[38;5;241m.\u001B[39mget_affine()\n\u001B[0;32m   2448\u001B[0m \u001B[38;5;28;01melse\u001B[39;00m:\n\u001B[1;32m-> 2449\u001B[0m     \u001B[38;5;28;01mreturn\u001B[39;00m Affine2D(np\u001B[38;5;241m.\u001B[39mdot(\u001B[38;5;28mself\u001B[39m\u001B[38;5;241m.\u001B[39m_b\u001B[38;5;241m.\u001B[39mget_affine()\u001B[38;5;241m.\u001B[39mget_matrix(),\n\u001B[0;32m   2450\u001B[0m                            \u001B[38;5;28mself\u001B[39m\u001B[38;5;241m.\u001B[39m_a\u001B[38;5;241m.\u001B[39mget_affine()\u001B[38;5;241m.\u001B[39mget_matrix()))\n",
      "File \u001B[1;32m<__array_function__ internals>:200\u001B[0m, in \u001B[0;36mdot\u001B[1;34m(*args, **kwargs)\u001B[0m\n",
      "\u001B[1;31mKeyboardInterrupt\u001B[0m: "
     ]
    }
   ],
   "source": [
    "\n",
    "# Plot bar charts for categorical columns\n",
    "\n",
    "for column in data.select_dtypes(include=['object']).columns:\n",
    "    plt.figure()\n",
    "    plt.figure()\n",
    "    data[column].value_counts().plot(kind='bar')\n",
    "    plt.title(column)\n",
    "\n",
    "    data[column].value_counts().plot(kind='bar')\n",
    "    plt.title(column)"
   ],
   "metadata": {
    "collapsed": false,
    "is_executing": true,
    "ExecuteTime": {
     "start_time": "2024-04-06T18:30:54.633214Z"
    }
   },
   "id": "bacecc0079609656"
  },
  {
   "cell_type": "code",
   "outputs": [],
   "source": [
    "for column in data.select_dtypes(include=[np.number]).columns:\n",
    "    plt.figure()\n",
    "for column in data.select_dtypes(include=[np.number]).columns:\n",
    "    plt.figure()\n",
    "    data.boxplot([column])\n",
    "\n",
    "    data.boxplot([column])"
   ],
   "metadata": {
    "collapsed": false,
    "is_executing": true
   },
   "id": "cd73cc21d1562018"
  },
  {
   "cell_type": "code",
   "outputs": [],
   "source": [
    "for column in data.select_dtypes(include=[np.number]).columns:\n",
    "    plt.figure()\n",
    "    data[column].hist()\n",
    "    plt.title(column)\n",
    "\n",
    "    data[column].hist()\n",
    "    plt.title(column)"
   ],
   "metadata": {
    "collapsed": false,
    "is_executing": true
   },
   "id": "3bde38f63eba10df"
  },
  {
   "cell_type": "code",
   "outputs": [],
   "source": [
    "ig = plt.subplots(nrows = 1,ncols = 3,figsize = (25,7))\n",
    "plt.subplot(1,3,1)\n",
    "ax = sns.barplot(x = 'country',y = 'child_mort', data = data.sort_values(ascending = False,by = 'child_mort').iloc[:5],palette = colors,edgecolor = 'black');\n",
    "plt.title('Countries with High Children Mortalitiy')\n",
    "for rect in ax.patches:\n",
    "    ax.text(rect.get_x() + rect.get_width()/2, rect.get_height(), int(rect.get_height()), \n",
    "            horizontalalignment='center', fontsize = 12)\n",
    "\n",
    "plt.subplot(1,3,2)\n",
    "ax = sns.barplot(x = 'country',y = 'child_mort', data = data.sort_values(ascending = False,by = 'child_mort').iloc[81:86],palette = colors,edgecolor = 'black');\n",
    "plt.title('Countries with Medial Children Mortalitiy')\n",
    "for rect in ax.patches:\n",
    "    ax.text(rect.get_x() + rect.get_width()/2, rect.get_height(), int(rect.get_height()), \n",
    "            horizontalalignment='center', fontsize = 12)\n",
    "\n",
    "plt.subplot(1,3,3)\n",
    "ax = sns.barplot(x = 'country',y = 'child_mort', data = data.sort_values(ascending = False,by = 'child_mort').iloc[161:166],palette = colors,edgecolor = 'black');\n",
    "plt.title('Countries with Low Children Mortalitiy')\n",
    "for rect in ax.patches:\n",
    "    ax.text(rect.get_x() + rect.get_width()/2, rect.get_height(), int(rect.get_height()), \n",
    "            horizontalalignment='center', fontsize = 12)\n",
    "plt.show("
   ],
   "metadata": {
    "collapsed": false,
    "is_executing": true
   },
   "id": "3b1eabcfab7feb14"
  },
  {
   "cell_type": "markdown",
   "source": [
    "# Feature Engineering"
   ],
   "metadata": {
    "collapsed": false
   },
   "id": "f21c462a36be310e"
  },
  {
   "cell_type": "code",
   "outputs": [],
   "source": [
    "#CREATE A NEW COLUMN FOR THE DEAL VALUE\n",
    "data['deal_value_log'] = np.log1p(data['deal_value'])"
   ],
   "metadata": {
    "collapsed": false,
    "ExecuteTime": {
     "start_time": "2024-04-06T14:19:25.399051Z"
    }
   },
   "id": "a170a5dd2ba1ac78"
  },
  {
   "cell_type": "code",
   "outputs": [],
   "source": [
    "#PLOT THE DISTRIBUT\n",
    "plt.figure(figsize=(10, 6))"
   ],
   "metadata": {
    "collapsed": false
   },
   "id": "e258488f1eb1e773"
  },
  {
   "cell_type": "code",
   "outputs": [],
   "source": [
    "sns.histplot(data['deal_value_log'], bins=30, kde=True)\n",
    "plt.title('Distribution of Log Deal Values')\n",
    "plt.xlabel('Log Deal Value')\n",
    "plt.ylabel('Frequency')\n",
    "plt.show()"
   ],
   "metadata": {
    "collapsed": false,
    "ExecuteTime": {
     "start_time": "2024-04-06T14:19:25.401116Z"
    }
   },
   "id": "99ed917a6fe730ba"
  },
  {
   "cell_type": "markdown",
   "source": [
    "# Feature Selection - Principal Component Analysis (PCA)"
   ],
   "metadata": {
    "collapsed": false
   },
   "id": "496798ed9462ea71"
  },
  {
   "cell_type": "code",
   "outputs": [],
   "source": [
    "#SELECT THE COLUMNS FOR THE CLUSTERING\n",
    "X = data[['deal_value_log']]"
   ],
   "metadata": {
    "collapsed": false,
    "ExecuteTime": {
     "start_time": "2024-04-06T14:19:25.402152Z"
    }
   },
   "id": "eebfdbf17cf02810"
  },
  {
   "cell_type": "code",
   "outputs": [],
   "source": [
    "#CHECK THE SHAPE OF THE DATAFRAME\n",
    "X.shape"
   ],
   "metadata": {
    "collapsed": false,
    "ExecuteTime": {
     "start_time": "2024-04-06T14:19:25.403149Z"
    }
   },
   "id": "a36c42a8d9124404"
  },
  {
   "cell_type": "code",
   "outputs": [],
   "source": [
    "#CHECK THE FIRST FEW ROWS OF THE DATAFRAME\n",
    "X.head()"
   ],
   "metadata": {
    "collapsed": false,
    "ExecuteTime": {
     "start_time": "2024-04-06T14:19:25.404187Z"
    }
   },
   "id": "3e2d5888e7ef0f5a"
  },
  {
   "cell_type": "code",
   "outputs": [],
   "source": [
    "#PLOT THE DISTRIBUTION OF THE DEAL VALUES\n",
    "plt.figure(figsize=(10, 6))"
   ],
   "metadata": {
    "collapsed": false,
    "ExecuteTime": {
     "start_time": "2024-04-06T14:19:25.405185Z"
    }
   },
   "id": "d467ef4c544f7a0a"
  },
  {
   "cell_type": "code",
   "outputs": [],
   "source": [
    "sns.histplot(X['deal_value_log'], bins=30, kde=True)\n",
    "plt.title('Distribution of Log Deal Values')\n",
    "plt.xlabel('Log Deal Value')\n",
    "plt.ylabel('Frequency')\n",
    "plt.show()"
   ],
   "metadata": {
    "collapsed": false,
    "ExecuteTime": {
     "start_time": "2024-04-06T14:19:25.406241Z"
    }
   },
   "id": "68f4cb9890e6c0d5"
  },
  {
   "cell_type": "markdown",
   "source": [
    "# Model Training"
   ],
   "metadata": {
    "collapsed": false
   },
   "id": "20913faa92858362"
  },
  {
   "cell_type": "markdown",
   "source": [
    "### K-means clustering"
   ],
   "metadata": {
    "collapsed": false
   },
   "id": "6b388c2892f858ce"
  },
  {
   "cell_type": "code",
   "outputs": [],
   "source": [
    "#DEFINE THE NUMBER OF CLUSTERS\n",
    "n_clusters = 3"
   ],
   "metadata": {
    "collapsed": false,
    "ExecuteTime": {
     "start_time": "2024-04-06T14:19:25.407239Z"
    }
   },
   "id": "774da92943e80284"
  },
  {
   "cell_type": "code",
   "outputs": [],
   "source": [
    "#CREATE THE KMEANS MODEL\n",
    "kmeans = KMeans(n_clusters=n_clusters, random_state=0)"
   ],
   "metadata": {
    "collapsed": false,
    "ExecuteTime": {
     "start_time": "2024-04-06T14:19:25.408263Z"
    }
   },
   "id": "11d7524bd1ac4a70"
  },
  {
   "cell_type": "code",
   "outputs": [],
   "source": [
    "#FIT THE MODEL\n",
    "kmeans.fit(X)"
   ],
   "metadata": {
    "collapsed": false,
    "ExecuteTime": {
     "start_time": "2024-04-06T14:19:25.410288Z"
    }
   },
   "id": "e8833c59707faa3b"
  },
  {
   "cell_type": "code",
   "outputs": [],
   "source": [
    "#PREDICT THE CLUSTERS\n",
    "data['cluster'] = kmeans.predict(X)"
   ],
   "metadata": {
    "collapsed": false,
    "ExecuteTime": {
     "start_time": "2024-04-06T14:19:25.411286Z"
    }
   },
   "id": "3c8d5cda1a93f3e2"
  },
  {
   "cell_type": "markdown",
   "source": [
    "### DBSCAN Clustering"
   ],
   "metadata": {
    "collapsed": false
   },
   "id": "a09db9e7a3e4b518"
  },
  {
   "cell_type": "markdown",
   "source": [
    "### Divisive hierarchical clustering"
   ],
   "metadata": {
    "collapsed": false
   },
   "id": "40990a145243a627"
  },
  {
   "cell_type": "markdown",
   "source": [
    "### Agglomerative hierarchical clustering"
   ],
   "metadata": {
    "collapsed": false
   },
   "id": "86666430fe7e6d39"
  },
  {
   "cell_type": "markdown",
   "source": [
    "### Mean Shift Clustering"
   ],
   "metadata": {
    "collapsed": false
   },
   "id": "236d2deddc1ca2c9"
  },
  {
   "cell_type": "markdown",
   "source": [
    "### Spectral Clustering"
   ],
   "metadata": {
    "collapsed": false
   },
   "id": "f7917edab5ba00db"
  },
  {
   "cell_type": "markdown",
   "source": [
    "### Affinity Propagation"
   ],
   "metadata": {
    "collapsed": false
   },
   "id": "6e6001b2fd685922"
  },
  {
   "cell_type": "markdown",
   "source": [
    "### BIRCH Clustering"
   ],
   "metadata": {
    "collapsed": false
   },
   "id": "96fe0406fc0776a8"
  },
  {
   "cell_type": "markdown",
   "source": [
    "# Transfer Learning"
   ],
   "metadata": {
    "collapsed": false
   },
   "id": "6667ec01cbb740a"
  },
  {
   "cell_type": "markdown",
   "source": [
    "# Model Evaluation"
   ],
   "metadata": {
    "collapsed": false
   },
   "id": "59508192d5a438ab"
  },
  {
   "cell_type": "markdown",
   "source": [
    "# Deployment"
   ],
   "metadata": {
    "collapsed": false
   },
   "id": "278400752870fcf3"
  },
  {
   "cell_type": "markdown",
   "source": [
    "# Monitoring"
   ],
   "metadata": {
    "collapsed": false
   },
   "id": "343f437d9c5f34c0"
  }
 ],
 "metadata": {
  "kernelspec": {
   "display_name": "Python 3",
   "language": "python",
   "name": "python3"
  },
  "language_info": {
   "codemirror_mode": {
    "name": "ipython",
    "version": 2
   },
   "file_extension": ".py",
   "mimetype": "text/x-python",
   "name": "python",
   "nbconvert_exporter": "python",
   "pygments_lexer": "ipython2",
   "version": "2.7.6"
  }
 },
 "nbformat": 4,
 "nbformat_minor": 5
}
