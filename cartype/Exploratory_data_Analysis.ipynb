{
 "cells": [
  {
   "cell_type": "markdown",
   "metadata": {
    "colab_type": "text",
    "id": "view-in-github"
   },
   "source": [
    "<a href=\"https://colab.research.google.com/github/elkinbarretorojas/data_science/blob/main/Exploratory_data_Analysis.ipynb\" target=\"_parent\"><img src=\"https://colab.research.google.com/assets/colab-badge.svg\" alt=\"Open In Colab\"/></a>"
   ]
  },
  {
   "cell_type": "markdown",
   "metadata": {
    "id": "TOvht7vqQGdR"
   },
   "source": [
    "# Exploratory data analysis in Python."
   ]
  },
  {
   "cell_type": "markdown",
   "metadata": {
    "id": "mhA_0CQOTDQy"
   },
   "source": [
    "## Let us understand how to explore the data in python.\n"
   ]
  },
  {
   "cell_type": "markdown",
   "metadata": {
    "id": "dB_j6LtTTO5j"
   },
   "source": [
    "## Introduction"
   ]
  },
  {
   "cell_type": "markdown",
   "metadata": {
    "id": "8hg00soETQ3z"
   },
   "source": [
    "**What is Exploratory Data Analysis ?**\n",
    "\n",
    "Exploratory Data Analysis or (EDA) is understanding the data sets by summarizing their main characteristics often plotting them visually. This step is very important especially when we arrive at modeling the data in order to apply Machine learning. Plotting in EDA consists of Histograms, Box plot, Scatter plot and many more. It often takes much time to explore the data. Through the process of EDA, we can ask to define the problem statement or definition on our data set which is very important."
   ]
  },
  {
   "cell_type": "markdown",
   "metadata": {
    "id": "ZfelutoyTS25"
   },
   "source": [
    "**How to perform Exploratory Data Analysis ?**\n",
    "\n",
    "This is one such question that everyone is keen on knowing the answer. Well, the answer is it depends on the data set that you are working. There is no one method or common methods in order to perform EDA, whereas in this tutorial you can understand some common methods and plots that would be used in the EDA process."
   ]
  },
  {
   "cell_type": "markdown",
   "metadata": {
    "id": "n3VfNkBBw15s"
   },
   "source": [
    "**What data are we exploring today ?**\n",
    "\n",
    "\n",
    "\n",
    "Since I am a huge fan of cars, I got a very beautiful data-set of cars from Kaggle. The data-set can be downloaded from [here](https://www.kaggle.com/CooperUnion/cardataset). To give a piece of brief information about the data set this data contains more of 10, 000 rows and more than 10 columns which contains features of the car such as Engine Fuel Type, Engine HP, Transmission Type, highway MPG, city MPG and many more. So in this tutorial, we will explore the data and make it ready for modeling."
   ]
  },
  {
   "cell_type": "markdown",
   "metadata": {
    "id": "CQDO4JCqTThV"
   },
   "source": [
    "\n",
    "\n",
    "---\n",
    "\n"
   ]
  },
  {
   "cell_type": "markdown",
   "metadata": {
    "id": "FPSqz1wzTXvz"
   },
   "source": [
    "## 1. Importing the required libraries for EDA"
   ]
  },
  {
   "cell_type": "markdown",
   "metadata": {
    "id": "9eLMx1Ebwa92"
   },
   "source": [
    "Below are the libraries that are used in order to perform EDA (Exploratory data analysis) in this tutorial."
   ]
  },
  {
   "cell_type": "code",
   "execution_count": 2,
   "metadata": {
    "id": "GGyDovL2QDLa",
    "ExecuteTime": {
     "end_time": "2023-10-19T09:41:56.872782900Z",
     "start_time": "2023-10-19T09:41:56.852240500Z"
    }
   },
   "outputs": [],
   "source": [
    "import pandas as pd\n",
    "import numpy as np\n",
    "import seaborn as sns                       #visualisation\n",
    "import matplotlib.pyplot as plt             #visualisation\n",
    "%matplotlib inline\n",
    "sns.set(color_codes=True)"
   ]
  },
  {
   "cell_type": "markdown",
   "metadata": {
    "id": "Ye6eXuohTd5Q"
   },
   "source": [
    "\n",
    "\n",
    "---\n",
    "\n"
   ]
  },
  {
   "cell_type": "markdown",
   "metadata": {
    "id": "8Y3Z2DbKTfJt"
   },
   "source": [
    "## 2. Loading the data into the data frame."
   ]
  },
  {
   "cell_type": "markdown",
   "metadata": {
    "id": "ko5zGJFCySaz"
   },
   "source": [
    "Loading the data into the pandas data frame is certainly one of the most important steps in EDA, as we can see that the value from the data set is comma-separated. So all we have to do is to just read the CSV into a data frame and pandas data frame does the job for us."
   ]
  },
  {
   "cell_type": "markdown",
   "metadata": {
    "id": "LgzUzD61IM8h"
   },
   "source": [
    "To get or load the dataset into the notebook, all I did was one trivial step. In Google Colab at the left-hand side of the notebook, you will find a > (greater than symbol). When you click that you will find a tab with three options, you just have to select Files. Then you can easily upload your file with the help of the Upload option. No need to mount to the google drive or use any specific libraries just upload the data set and your job is done. One thing to remember in this step is that uploaded files will get deleted when this runtime is recycled. This is how I got the data set into the notebook."
   ]
  },
  {
   "cell_type": "code",
   "execution_count": 5,
   "metadata": {
    "colab": {
     "base_uri": "https://localhost:8080/",
     "height": 430
    },
    "id": "0oVZnezwQ159",
    "outputId": "f1e0fe18-8fa0-482a-e2b9-2ecd87d97d9d",
    "ExecuteTime": {
     "end_time": "2023-10-19T09:42:20.528040800Z",
     "start_time": "2023-10-19T09:42:20.396606400Z"
    }
   },
   "outputs": [
    {
     "data": {
      "text/plain": "   Model Year      Mfr Name                  Division        Carline  \\\n0        2015  aston martin  Aston Martin Lagonda Ltd  V12 Vantage S   \n1        2015  aston martin  Aston Martin Lagonda Ltd     V8 Vantage   \n2        2015  aston martin  Aston Martin Lagonda Ltd     V8 Vantage   \n3        2015  aston martin  Aston Martin Lagonda Ltd   V8 Vantage S   \n4        2015  aston martin  Aston Martin Lagonda Ltd   V8 Vantage S   \n\n   Engine Displacement  # Cylinders Transmission  City FE  Highway FE  \\\n0                  6.0           12         Auto       12          18   \n1                  4.7            8         Auto       14          21   \n2                  4.7            8       Manual       13          19   \n3                  4.7            8         Auto       14          21   \n4                  4.7            8       Manual       13          19   \n\n   Combined FE Air Aspiration Method Transmission Description  # Gears  \\\n0           14   Naturally Aspirated         Automated Manual        7   \n1           16   Naturally Aspirated         Automated Manual        7   \n2           15   Naturally Aspirated                   Manual        6   \n3           16   Naturally Aspirated         Automated Manual        7   \n4           15   Naturally Aspirated                   Manual        6   \n\n            Drive Desc Carline Class Desc Release Date  City CO2  Highway CO2  \\\n0  2-Wheel Drive, Rear        Two Seaters    1/20/2014       742          488   \n1  2-Wheel Drive, Rear        Two Seaters    5/19/2014       655          426   \n2  2-Wheel Drive, Rear        Two Seaters    5/19/2014       681          461   \n3  2-Wheel Drive, Rear        Two Seaters    5/19/2014       655          426   \n4  2-Wheel Drive, Rear        Two Seaters    5/19/2014       681          461   \n\n   Combined CO2  \n0           628  \n1           552  \n2           582  \n3           552  \n4           582  ",
      "text/html": "<div>\n<style scoped>\n    .dataframe tbody tr th:only-of-type {\n        vertical-align: middle;\n    }\n\n    .dataframe tbody tr th {\n        vertical-align: top;\n    }\n\n    .dataframe thead th {\n        text-align: right;\n    }\n</style>\n<table border=\"1\" class=\"dataframe\">\n  <thead>\n    <tr style=\"text-align: right;\">\n      <th></th>\n      <th>Model Year</th>\n      <th>Mfr Name</th>\n      <th>Division</th>\n      <th>Carline</th>\n      <th>Engine Displacement</th>\n      <th># Cylinders</th>\n      <th>Transmission</th>\n      <th>City FE</th>\n      <th>Highway FE</th>\n      <th>Combined FE</th>\n      <th>Air Aspiration Method</th>\n      <th>Transmission Description</th>\n      <th># Gears</th>\n      <th>Drive Desc</th>\n      <th>Carline Class Desc</th>\n      <th>Release Date</th>\n      <th>City CO2</th>\n      <th>Highway CO2</th>\n      <th>Combined CO2</th>\n    </tr>\n  </thead>\n  <tbody>\n    <tr>\n      <th>0</th>\n      <td>2015</td>\n      <td>aston martin</td>\n      <td>Aston Martin Lagonda Ltd</td>\n      <td>V12 Vantage S</td>\n      <td>6.0</td>\n      <td>12</td>\n      <td>Auto</td>\n      <td>12</td>\n      <td>18</td>\n      <td>14</td>\n      <td>Naturally Aspirated</td>\n      <td>Automated Manual</td>\n      <td>7</td>\n      <td>2-Wheel Drive, Rear</td>\n      <td>Two Seaters</td>\n      <td>1/20/2014</td>\n      <td>742</td>\n      <td>488</td>\n      <td>628</td>\n    </tr>\n    <tr>\n      <th>1</th>\n      <td>2015</td>\n      <td>aston martin</td>\n      <td>Aston Martin Lagonda Ltd</td>\n      <td>V8 Vantage</td>\n      <td>4.7</td>\n      <td>8</td>\n      <td>Auto</td>\n      <td>14</td>\n      <td>21</td>\n      <td>16</td>\n      <td>Naturally Aspirated</td>\n      <td>Automated Manual</td>\n      <td>7</td>\n      <td>2-Wheel Drive, Rear</td>\n      <td>Two Seaters</td>\n      <td>5/19/2014</td>\n      <td>655</td>\n      <td>426</td>\n      <td>552</td>\n    </tr>\n    <tr>\n      <th>2</th>\n      <td>2015</td>\n      <td>aston martin</td>\n      <td>Aston Martin Lagonda Ltd</td>\n      <td>V8 Vantage</td>\n      <td>4.7</td>\n      <td>8</td>\n      <td>Manual</td>\n      <td>13</td>\n      <td>19</td>\n      <td>15</td>\n      <td>Naturally Aspirated</td>\n      <td>Manual</td>\n      <td>6</td>\n      <td>2-Wheel Drive, Rear</td>\n      <td>Two Seaters</td>\n      <td>5/19/2014</td>\n      <td>681</td>\n      <td>461</td>\n      <td>582</td>\n    </tr>\n    <tr>\n      <th>3</th>\n      <td>2015</td>\n      <td>aston martin</td>\n      <td>Aston Martin Lagonda Ltd</td>\n      <td>V8 Vantage S</td>\n      <td>4.7</td>\n      <td>8</td>\n      <td>Auto</td>\n      <td>14</td>\n      <td>21</td>\n      <td>16</td>\n      <td>Naturally Aspirated</td>\n      <td>Automated Manual</td>\n      <td>7</td>\n      <td>2-Wheel Drive, Rear</td>\n      <td>Two Seaters</td>\n      <td>5/19/2014</td>\n      <td>655</td>\n      <td>426</td>\n      <td>552</td>\n    </tr>\n    <tr>\n      <th>4</th>\n      <td>2015</td>\n      <td>aston martin</td>\n      <td>Aston Martin Lagonda Ltd</td>\n      <td>V8 Vantage S</td>\n      <td>4.7</td>\n      <td>8</td>\n      <td>Manual</td>\n      <td>13</td>\n      <td>19</td>\n      <td>15</td>\n      <td>Naturally Aspirated</td>\n      <td>Manual</td>\n      <td>6</td>\n      <td>2-Wheel Drive, Rear</td>\n      <td>Two Seaters</td>\n      <td>5/19/2014</td>\n      <td>681</td>\n      <td>461</td>\n      <td>582</td>\n    </tr>\n  </tbody>\n</table>\n</div>"
     },
     "execution_count": 5,
     "metadata": {},
     "output_type": "execute_result"
    }
   ],
   "source": [
    "df = pd.read_csv(\"cartype CSV.csv\")\n",
    "# To display the top 5 rows\n",
    "df.head(5)"
   ]
  },
  {
   "cell_type": "code",
   "execution_count": 6,
   "metadata": {
    "colab": {
     "base_uri": "https://localhost:8080/",
     "height": 413
    },
    "id": "Fm-9dzdTRKpe",
    "outputId": "7892eaf7-0605-4b92-e139-cf0553041e51",
    "ExecuteTime": {
     "end_time": "2023-10-19T09:42:22.787420300Z",
     "start_time": "2023-10-19T09:42:22.618168300Z"
    }
   },
   "outputs": [
    {
     "data": {
      "text/plain": "     Model Year             Mfr Name       Division        Carline  \\\n724        2015        Mercedes-Benz  Mercedes-Benz  GL 550 4MATIC   \n725        2015        Mercedes-Benz  Mercedes-Benz  ML 350 4MATIC   \n726        2015        Mercedes-Benz  Mercedes-Benz  ML 350 4MATIC   \n727        2015        Mercedes-Benz  Mercedes-Benz  ML 400 4MATIC   \n728        2015  Volkswagen Group of     Volkswagen        Touareg   \n\n     Engine Displacement  # Cylinders Transmission  City FE  Highway FE  \\\n724                  4.7            8         Auto       13          18   \n725                  3.5            6         Auto       17          22   \n726                  3.5            6         Auto       17          22   \n727                  3.0            6         Auto       18          22   \n728                  3.6            6         Auto       17          23   \n\n     Combined FE Air Aspiration Method Transmission Description  # Gears  \\\n724           15          Turbocharged                Automatic        7   \n725           19   Naturally Aspirated                Automatic        7   \n726           19   Naturally Aspirated                Automatic        7   \n727           20          Turbocharged                Automatic        7   \n728           19   Naturally Aspirated           Semi-Automatic        8   \n\n          Drive Desc Carline Class Desc Release Date  City CO2  Highway CO2  \\\n724    4-Wheel Drive   Standard SUV 4WD    7/15/2014       660          498   \n725    4-Wheel Drive   Standard SUV 4WD    7/15/2014       506          396   \n726    4-Wheel Drive   Standard SUV 4WD    7/23/2014       506          396   \n727    4-Wheel Drive   Standard SUV 4WD     7/4/2014       496          403   \n728  All Wheel Drive   Standard SUV 4WD     8/1/2014       520          391   \n\n     Combined CO2  \n724           587  \n725           456  \n726           456  \n727           454  \n728           462  ",
      "text/html": "<div>\n<style scoped>\n    .dataframe tbody tr th:only-of-type {\n        vertical-align: middle;\n    }\n\n    .dataframe tbody tr th {\n        vertical-align: top;\n    }\n\n    .dataframe thead th {\n        text-align: right;\n    }\n</style>\n<table border=\"1\" class=\"dataframe\">\n  <thead>\n    <tr style=\"text-align: right;\">\n      <th></th>\n      <th>Model Year</th>\n      <th>Mfr Name</th>\n      <th>Division</th>\n      <th>Carline</th>\n      <th>Engine Displacement</th>\n      <th># Cylinders</th>\n      <th>Transmission</th>\n      <th>City FE</th>\n      <th>Highway FE</th>\n      <th>Combined FE</th>\n      <th>Air Aspiration Method</th>\n      <th>Transmission Description</th>\n      <th># Gears</th>\n      <th>Drive Desc</th>\n      <th>Carline Class Desc</th>\n      <th>Release Date</th>\n      <th>City CO2</th>\n      <th>Highway CO2</th>\n      <th>Combined CO2</th>\n    </tr>\n  </thead>\n  <tbody>\n    <tr>\n      <th>724</th>\n      <td>2015</td>\n      <td>Mercedes-Benz</td>\n      <td>Mercedes-Benz</td>\n      <td>GL 550 4MATIC</td>\n      <td>4.7</td>\n      <td>8</td>\n      <td>Auto</td>\n      <td>13</td>\n      <td>18</td>\n      <td>15</td>\n      <td>Turbocharged</td>\n      <td>Automatic</td>\n      <td>7</td>\n      <td>4-Wheel Drive</td>\n      <td>Standard SUV 4WD</td>\n      <td>7/15/2014</td>\n      <td>660</td>\n      <td>498</td>\n      <td>587</td>\n    </tr>\n    <tr>\n      <th>725</th>\n      <td>2015</td>\n      <td>Mercedes-Benz</td>\n      <td>Mercedes-Benz</td>\n      <td>ML 350 4MATIC</td>\n      <td>3.5</td>\n      <td>6</td>\n      <td>Auto</td>\n      <td>17</td>\n      <td>22</td>\n      <td>19</td>\n      <td>Naturally Aspirated</td>\n      <td>Automatic</td>\n      <td>7</td>\n      <td>4-Wheel Drive</td>\n      <td>Standard SUV 4WD</td>\n      <td>7/15/2014</td>\n      <td>506</td>\n      <td>396</td>\n      <td>456</td>\n    </tr>\n    <tr>\n      <th>726</th>\n      <td>2015</td>\n      <td>Mercedes-Benz</td>\n      <td>Mercedes-Benz</td>\n      <td>ML 350 4MATIC</td>\n      <td>3.5</td>\n      <td>6</td>\n      <td>Auto</td>\n      <td>17</td>\n      <td>22</td>\n      <td>19</td>\n      <td>Naturally Aspirated</td>\n      <td>Automatic</td>\n      <td>7</td>\n      <td>4-Wheel Drive</td>\n      <td>Standard SUV 4WD</td>\n      <td>7/23/2014</td>\n      <td>506</td>\n      <td>396</td>\n      <td>456</td>\n    </tr>\n    <tr>\n      <th>727</th>\n      <td>2015</td>\n      <td>Mercedes-Benz</td>\n      <td>Mercedes-Benz</td>\n      <td>ML 400 4MATIC</td>\n      <td>3.0</td>\n      <td>6</td>\n      <td>Auto</td>\n      <td>18</td>\n      <td>22</td>\n      <td>20</td>\n      <td>Turbocharged</td>\n      <td>Automatic</td>\n      <td>7</td>\n      <td>4-Wheel Drive</td>\n      <td>Standard SUV 4WD</td>\n      <td>7/4/2014</td>\n      <td>496</td>\n      <td>403</td>\n      <td>454</td>\n    </tr>\n    <tr>\n      <th>728</th>\n      <td>2015</td>\n      <td>Volkswagen Group of</td>\n      <td>Volkswagen</td>\n      <td>Touareg</td>\n      <td>3.6</td>\n      <td>6</td>\n      <td>Auto</td>\n      <td>17</td>\n      <td>23</td>\n      <td>19</td>\n      <td>Naturally Aspirated</td>\n      <td>Semi-Automatic</td>\n      <td>8</td>\n      <td>All Wheel Drive</td>\n      <td>Standard SUV 4WD</td>\n      <td>8/1/2014</td>\n      <td>520</td>\n      <td>391</td>\n      <td>462</td>\n    </tr>\n  </tbody>\n</table>\n</div>"
     },
     "execution_count": 6,
     "metadata": {},
     "output_type": "execute_result"
    }
   ],
   "source": [
    "df.tail(5)                        # To display the botton 5 rows"
   ]
  },
  {
   "cell_type": "markdown",
   "metadata": {
    "id": "JjQnr4SPzaL5"
   },
   "source": [
    "\n",
    "\n",
    "---\n",
    "\n"
   ]
  },
  {
   "cell_type": "markdown",
   "metadata": {
    "id": "vAmC369yTpMF"
   },
   "source": [
    "## 3. Checking the types of data"
   ]
  },
  {
   "cell_type": "markdown",
   "metadata": {
    "id": "9ESKxikIzA1d"
   },
   "source": [
    "Here we check for the datatypes because sometimes the MSRP or the price of the car would be stored as a string, if in that case, we have to convert that string to the integer data only then we can plot the data via a graph. Here, in this case, the data is already in integer format so nothing to worry."
   ]
  },
  {
   "cell_type": "code",
   "execution_count": 7,
   "metadata": {
    "colab": {
     "base_uri": "https://localhost:8080/",
     "height": 312
    },
    "id": "qPbKQ0noRptD",
    "outputId": "6a5aea47-ad0c-4118-8471-d91b6432b339",
    "ExecuteTime": {
     "end_time": "2023-10-19T09:42:28.075966600Z",
     "start_time": "2023-10-19T09:42:28.036167600Z"
    }
   },
   "outputs": [
    {
     "data": {
      "text/plain": "Model Year                    int64\nMfr Name                     object\nDivision                     object\nCarline                      object\nEngine Displacement         float64\n# Cylinders                   int64\nTransmission                 object\nCity FE                       int64\nHighway FE                    int64\nCombined FE                   int64\nAir Aspiration Method        object\nTransmission Description     object\n# Gears                       int64\nDrive Desc                   object\nCarline Class Desc           object\nRelease Date                 object\nCity CO2                      int64\nHighway CO2                   int64\nCombined CO2                  int64\ndtype: object"
     },
     "execution_count": 7,
     "metadata": {},
     "output_type": "execute_result"
    }
   ],
   "source": [
    "df.dtypes"
   ]
  },
  {
   "cell_type": "markdown",
   "metadata": {
    "id": "beRJyQAezdX8"
   },
   "source": [
    "\n",
    "\n",
    "---\n",
    "\n"
   ]
  },
  {
   "cell_type": "markdown",
   "metadata": {
    "id": "QoHuBhXxT5E9"
   },
   "source": [
    "## 4. Dropping irrelevant columns"
   ]
  },
  {
   "cell_type": "markdown",
   "metadata": {
    "id": "_3cy877Mze4H"
   },
   "source": [
    "This step is certainly needed in every EDA because sometimes there would be many columns that we never use in such cases dropping is the only solution. In this case, the columns such as Engine Fuel Type, Market Category, Vehicle style, Popularity, Number of doors, Vehicle Size doesn't make any sense to me so I just dropped for this instance."
   ]
  },
  {
   "cell_type": "code",
   "execution_count": 9,
   "metadata": {
    "colab": {
     "base_uri": "https://localhost:8080/",
     "height": 202
    },
    "id": "uvSkK8swTr9H",
    "outputId": "1734f538-a4a1-45b9-d656-7ddc0124dc35",
    "ExecuteTime": {
     "end_time": "2023-10-19T09:42:48.538267100Z",
     "start_time": "2023-10-19T09:42:48.469217100Z"
    }
   },
   "outputs": [
    {
     "data": {
      "text/plain": "   Model Year      Mfr Name                  Division        Carline  \\\n0        2015  aston martin  Aston Martin Lagonda Ltd  V12 Vantage S   \n1        2015  aston martin  Aston Martin Lagonda Ltd     V8 Vantage   \n2        2015  aston martin  Aston Martin Lagonda Ltd     V8 Vantage   \n3        2015  aston martin  Aston Martin Lagonda Ltd   V8 Vantage S   \n4        2015  aston martin  Aston Martin Lagonda Ltd   V8 Vantage S   \n\n   Engine Displacement  # Cylinders Transmission  City FE  Highway FE  \\\n0                  6.0           12         Auto       12          18   \n1                  4.7            8         Auto       14          21   \n2                  4.7            8       Manual       13          19   \n3                  4.7            8         Auto       14          21   \n4                  4.7            8       Manual       13          19   \n\n   Combined FE Air Aspiration Method Transmission Description  # Gears  \\\n0           14   Naturally Aspirated         Automated Manual        7   \n1           16   Naturally Aspirated         Automated Manual        7   \n2           15   Naturally Aspirated                   Manual        6   \n3           16   Naturally Aspirated         Automated Manual        7   \n4           15   Naturally Aspirated                   Manual        6   \n\n            Drive Desc Carline Class Desc Release Date  City CO2  Highway CO2  \\\n0  2-Wheel Drive, Rear        Two Seaters    1/20/2014       742          488   \n1  2-Wheel Drive, Rear        Two Seaters    5/19/2014       655          426   \n2  2-Wheel Drive, Rear        Two Seaters    5/19/2014       681          461   \n3  2-Wheel Drive, Rear        Two Seaters    5/19/2014       655          426   \n4  2-Wheel Drive, Rear        Two Seaters    5/19/2014       681          461   \n\n   Combined CO2  \n0           628  \n1           552  \n2           582  \n3           552  \n4           582  ",
      "text/html": "<div>\n<style scoped>\n    .dataframe tbody tr th:only-of-type {\n        vertical-align: middle;\n    }\n\n    .dataframe tbody tr th {\n        vertical-align: top;\n    }\n\n    .dataframe thead th {\n        text-align: right;\n    }\n</style>\n<table border=\"1\" class=\"dataframe\">\n  <thead>\n    <tr style=\"text-align: right;\">\n      <th></th>\n      <th>Model Year</th>\n      <th>Mfr Name</th>\n      <th>Division</th>\n      <th>Carline</th>\n      <th>Engine Displacement</th>\n      <th># Cylinders</th>\n      <th>Transmission</th>\n      <th>City FE</th>\n      <th>Highway FE</th>\n      <th>Combined FE</th>\n      <th>Air Aspiration Method</th>\n      <th>Transmission Description</th>\n      <th># Gears</th>\n      <th>Drive Desc</th>\n      <th>Carline Class Desc</th>\n      <th>Release Date</th>\n      <th>City CO2</th>\n      <th>Highway CO2</th>\n      <th>Combined CO2</th>\n    </tr>\n  </thead>\n  <tbody>\n    <tr>\n      <th>0</th>\n      <td>2015</td>\n      <td>aston martin</td>\n      <td>Aston Martin Lagonda Ltd</td>\n      <td>V12 Vantage S</td>\n      <td>6.0</td>\n      <td>12</td>\n      <td>Auto</td>\n      <td>12</td>\n      <td>18</td>\n      <td>14</td>\n      <td>Naturally Aspirated</td>\n      <td>Automated Manual</td>\n      <td>7</td>\n      <td>2-Wheel Drive, Rear</td>\n      <td>Two Seaters</td>\n      <td>1/20/2014</td>\n      <td>742</td>\n      <td>488</td>\n      <td>628</td>\n    </tr>\n    <tr>\n      <th>1</th>\n      <td>2015</td>\n      <td>aston martin</td>\n      <td>Aston Martin Lagonda Ltd</td>\n      <td>V8 Vantage</td>\n      <td>4.7</td>\n      <td>8</td>\n      <td>Auto</td>\n      <td>14</td>\n      <td>21</td>\n      <td>16</td>\n      <td>Naturally Aspirated</td>\n      <td>Automated Manual</td>\n      <td>7</td>\n      <td>2-Wheel Drive, Rear</td>\n      <td>Two Seaters</td>\n      <td>5/19/2014</td>\n      <td>655</td>\n      <td>426</td>\n      <td>552</td>\n    </tr>\n    <tr>\n      <th>2</th>\n      <td>2015</td>\n      <td>aston martin</td>\n      <td>Aston Martin Lagonda Ltd</td>\n      <td>V8 Vantage</td>\n      <td>4.7</td>\n      <td>8</td>\n      <td>Manual</td>\n      <td>13</td>\n      <td>19</td>\n      <td>15</td>\n      <td>Naturally Aspirated</td>\n      <td>Manual</td>\n      <td>6</td>\n      <td>2-Wheel Drive, Rear</td>\n      <td>Two Seaters</td>\n      <td>5/19/2014</td>\n      <td>681</td>\n      <td>461</td>\n      <td>582</td>\n    </tr>\n    <tr>\n      <th>3</th>\n      <td>2015</td>\n      <td>aston martin</td>\n      <td>Aston Martin Lagonda Ltd</td>\n      <td>V8 Vantage S</td>\n      <td>4.7</td>\n      <td>8</td>\n      <td>Auto</td>\n      <td>14</td>\n      <td>21</td>\n      <td>16</td>\n      <td>Naturally Aspirated</td>\n      <td>Automated Manual</td>\n      <td>7</td>\n      <td>2-Wheel Drive, Rear</td>\n      <td>Two Seaters</td>\n      <td>5/19/2014</td>\n      <td>655</td>\n      <td>426</td>\n      <td>552</td>\n    </tr>\n    <tr>\n      <th>4</th>\n      <td>2015</td>\n      <td>aston martin</td>\n      <td>Aston Martin Lagonda Ltd</td>\n      <td>V8 Vantage S</td>\n      <td>4.7</td>\n      <td>8</td>\n      <td>Manual</td>\n      <td>13</td>\n      <td>19</td>\n      <td>15</td>\n      <td>Naturally Aspirated</td>\n      <td>Manual</td>\n      <td>6</td>\n      <td>2-Wheel Drive, Rear</td>\n      <td>Two Seaters</td>\n      <td>5/19/2014</td>\n      <td>681</td>\n      <td>461</td>\n      <td>582</td>\n    </tr>\n  </tbody>\n</table>\n</div>"
     },
     "execution_count": 9,
     "metadata": {},
     "output_type": "execute_result"
    }
   ],
   "source": [
    "df = df.drop([], axis=1)\n",
    "df.head(5)"
   ]
  },
  {
   "cell_type": "markdown",
   "metadata": {
    "id": "20OeQBpWz89v"
   },
   "source": [
    "\n",
    "\n",
    "---\n",
    "\n"
   ]
  },
  {
   "cell_type": "markdown",
   "metadata": {
    "id": "caAownWdUZso"
   },
   "source": [
    "## 5. Renaming the columns"
   ]
  },
  {
   "cell_type": "markdown",
   "metadata": {
    "id": "UABLiEcyz-2G"
   },
   "source": [
    "In this instance, most of the column names are very confusing to read, so I just tweaked their column names. This is a good approach it improves the readability of the data set."
   ]
  },
  {
   "cell_type": "code",
   "execution_count": 10,
   "metadata": {
    "colab": {
     "base_uri": "https://localhost:8080/",
     "height": 202
    },
    "id": "1wHW41whURub",
    "outputId": "dec9b1b3-e344-4b33-92fd-6e9f4c03c878",
    "ExecuteTime": {
     "end_time": "2023-10-19T09:42:52.909035700Z",
     "start_time": "2023-10-19T09:42:52.835981Z"
    }
   },
   "outputs": [
    {
     "data": {
      "text/plain": "   Model Year      Mfr Name                  Division        Carline  \\\n0        2015  aston martin  Aston Martin Lagonda Ltd  V12 Vantage S   \n1        2015  aston martin  Aston Martin Lagonda Ltd     V8 Vantage   \n2        2015  aston martin  Aston Martin Lagonda Ltd     V8 Vantage   \n3        2015  aston martin  Aston Martin Lagonda Ltd   V8 Vantage S   \n4        2015  aston martin  Aston Martin Lagonda Ltd   V8 Vantage S   \n\n   Engine Displacement  # Cylinders Transmission  City FE  Highway FE  \\\n0                  6.0           12         Auto       12          18   \n1                  4.7            8         Auto       14          21   \n2                  4.7            8       Manual       13          19   \n3                  4.7            8         Auto       14          21   \n4                  4.7            8       Manual       13          19   \n\n   Combined FE Air Aspiration Method Transmission Description  # Gears  \\\n0           14   Naturally Aspirated         Automated Manual        7   \n1           16   Naturally Aspirated         Automated Manual        7   \n2           15   Naturally Aspirated                   Manual        6   \n3           16   Naturally Aspirated         Automated Manual        7   \n4           15   Naturally Aspirated                   Manual        6   \n\n            Drive Desc Carline Class Desc Release Date  City CO2  Highway CO2  \\\n0  2-Wheel Drive, Rear        Two Seaters    1/20/2014       742          488   \n1  2-Wheel Drive, Rear        Two Seaters    5/19/2014       655          426   \n2  2-Wheel Drive, Rear        Two Seaters    5/19/2014       681          461   \n3  2-Wheel Drive, Rear        Two Seaters    5/19/2014       655          426   \n4  2-Wheel Drive, Rear        Two Seaters    5/19/2014       681          461   \n\n   Combined CO2  \n0           628  \n1           552  \n2           582  \n3           552  \n4           582  ",
      "text/html": "<div>\n<style scoped>\n    .dataframe tbody tr th:only-of-type {\n        vertical-align: middle;\n    }\n\n    .dataframe tbody tr th {\n        vertical-align: top;\n    }\n\n    .dataframe thead th {\n        text-align: right;\n    }\n</style>\n<table border=\"1\" class=\"dataframe\">\n  <thead>\n    <tr style=\"text-align: right;\">\n      <th></th>\n      <th>Model Year</th>\n      <th>Mfr Name</th>\n      <th>Division</th>\n      <th>Carline</th>\n      <th>Engine Displacement</th>\n      <th># Cylinders</th>\n      <th>Transmission</th>\n      <th>City FE</th>\n      <th>Highway FE</th>\n      <th>Combined FE</th>\n      <th>Air Aspiration Method</th>\n      <th>Transmission Description</th>\n      <th># Gears</th>\n      <th>Drive Desc</th>\n      <th>Carline Class Desc</th>\n      <th>Release Date</th>\n      <th>City CO2</th>\n      <th>Highway CO2</th>\n      <th>Combined CO2</th>\n    </tr>\n  </thead>\n  <tbody>\n    <tr>\n      <th>0</th>\n      <td>2015</td>\n      <td>aston martin</td>\n      <td>Aston Martin Lagonda Ltd</td>\n      <td>V12 Vantage S</td>\n      <td>6.0</td>\n      <td>12</td>\n      <td>Auto</td>\n      <td>12</td>\n      <td>18</td>\n      <td>14</td>\n      <td>Naturally Aspirated</td>\n      <td>Automated Manual</td>\n      <td>7</td>\n      <td>2-Wheel Drive, Rear</td>\n      <td>Two Seaters</td>\n      <td>1/20/2014</td>\n      <td>742</td>\n      <td>488</td>\n      <td>628</td>\n    </tr>\n    <tr>\n      <th>1</th>\n      <td>2015</td>\n      <td>aston martin</td>\n      <td>Aston Martin Lagonda Ltd</td>\n      <td>V8 Vantage</td>\n      <td>4.7</td>\n      <td>8</td>\n      <td>Auto</td>\n      <td>14</td>\n      <td>21</td>\n      <td>16</td>\n      <td>Naturally Aspirated</td>\n      <td>Automated Manual</td>\n      <td>7</td>\n      <td>2-Wheel Drive, Rear</td>\n      <td>Two Seaters</td>\n      <td>5/19/2014</td>\n      <td>655</td>\n      <td>426</td>\n      <td>552</td>\n    </tr>\n    <tr>\n      <th>2</th>\n      <td>2015</td>\n      <td>aston martin</td>\n      <td>Aston Martin Lagonda Ltd</td>\n      <td>V8 Vantage</td>\n      <td>4.7</td>\n      <td>8</td>\n      <td>Manual</td>\n      <td>13</td>\n      <td>19</td>\n      <td>15</td>\n      <td>Naturally Aspirated</td>\n      <td>Manual</td>\n      <td>6</td>\n      <td>2-Wheel Drive, Rear</td>\n      <td>Two Seaters</td>\n      <td>5/19/2014</td>\n      <td>681</td>\n      <td>461</td>\n      <td>582</td>\n    </tr>\n    <tr>\n      <th>3</th>\n      <td>2015</td>\n      <td>aston martin</td>\n      <td>Aston Martin Lagonda Ltd</td>\n      <td>V8 Vantage S</td>\n      <td>4.7</td>\n      <td>8</td>\n      <td>Auto</td>\n      <td>14</td>\n      <td>21</td>\n      <td>16</td>\n      <td>Naturally Aspirated</td>\n      <td>Automated Manual</td>\n      <td>7</td>\n      <td>2-Wheel Drive, Rear</td>\n      <td>Two Seaters</td>\n      <td>5/19/2014</td>\n      <td>655</td>\n      <td>426</td>\n      <td>552</td>\n    </tr>\n    <tr>\n      <th>4</th>\n      <td>2015</td>\n      <td>aston martin</td>\n      <td>Aston Martin Lagonda Ltd</td>\n      <td>V8 Vantage S</td>\n      <td>4.7</td>\n      <td>8</td>\n      <td>Manual</td>\n      <td>13</td>\n      <td>19</td>\n      <td>15</td>\n      <td>Naturally Aspirated</td>\n      <td>Manual</td>\n      <td>6</td>\n      <td>2-Wheel Drive, Rear</td>\n      <td>Two Seaters</td>\n      <td>5/19/2014</td>\n      <td>681</td>\n      <td>461</td>\n      <td>582</td>\n    </tr>\n  </tbody>\n</table>\n</div>"
     },
     "execution_count": 10,
     "metadata": {},
     "output_type": "execute_result"
    }
   ],
   "source": [
    "df = df.rename(columns={\"Engine HP\": \"HP\", \"Engine Cylinders\": \"Cylinders\", \"Transmission Type\": \"Transmission\", \"Driven_Wheels\": \"Drive Mode\",\"highway MPG\": \"MPG-H\", \"city mpg\": \"MPG-C\", \"MSRP\": \"Price\" })\n",
    "df.head(5)"
   ]
  },
  {
   "cell_type": "markdown",
   "metadata": {
    "id": "5tcGiOmV0afN"
   },
   "source": [
    "\n",
    "\n",
    "---\n",
    "\n"
   ]
  },
  {
   "cell_type": "markdown",
   "metadata": {
    "id": "uiW7x_O4WIDX"
   },
   "source": [
    "## 6. Dropping the duplicate rows"
   ]
  },
  {
   "cell_type": "markdown",
   "metadata": {
    "id": "9LpR5NW70hXm"
   },
   "source": [
    "This is often a handy thing to do because a huge data set as in this case contains more than 10, 000 rows often have some duplicate data which might be disturbing, so here I remove all the duplicate value from the data-set. For example prior to removing I had 11914 rows of data but after removing the duplicates 10925 data meaning that I had 989 of duplicate data."
   ]
  },
  {
   "cell_type": "code",
   "execution_count": 11,
   "metadata": {
    "colab": {
     "base_uri": "https://localhost:8080/",
     "height": 35
    },
    "id": "1nBN_BCDWSmv",
    "outputId": "9a070a7d-a4d4-45c7-cac8-acb2c4db0e72",
    "ExecuteTime": {
     "end_time": "2023-10-19T09:42:57.054993500Z",
     "start_time": "2023-10-19T09:42:57.015980Z"
    }
   },
   "outputs": [
    {
     "data": {
      "text/plain": "(729, 19)"
     },
     "execution_count": 11,
     "metadata": {},
     "output_type": "execute_result"
    }
   ],
   "source": [
    "df.shape"
   ]
  },
  {
   "cell_type": "code",
   "execution_count": 12,
   "metadata": {
    "colab": {
     "base_uri": "https://localhost:8080/",
     "height": 35
    },
    "id": "yB8t6o0wH7If",
    "outputId": "d4778cd1-5372-4e27-db62-20635493786e",
    "ExecuteTime": {
     "end_time": "2023-10-19T09:42:58.466332500Z",
     "start_time": "2023-10-19T09:42:58.446424100Z"
    }
   },
   "outputs": [
    {
     "name": "stdout",
     "output_type": "stream",
     "text": [
      "number of duplicate rows:  (7, 19)\n"
     ]
    }
   ],
   "source": [
    "duplicate_rows_df = df[df.duplicated()]\n",
    "print(\"number of duplicate rows: \", duplicate_rows_df.shape)"
   ]
  },
  {
   "cell_type": "markdown",
   "metadata": {
    "id": "chhNvMFCIzqI"
   },
   "source": [
    "Now let us remove the duplicate data because it's ok to remove them."
   ]
  },
  {
   "cell_type": "code",
   "execution_count": 13,
   "metadata": {
    "colab": {
     "base_uri": "https://localhost:8080/",
     "height": 208
    },
    "id": "kuobmetTV820",
    "outputId": "c6d6ce5c-6a38-4cd2-ee99-151124a1f84d",
    "ExecuteTime": {
     "end_time": "2023-10-19T09:43:01.269314200Z",
     "start_time": "2023-10-19T09:43:01.209764700Z"
    }
   },
   "outputs": [
    {
     "data": {
      "text/plain": "Model Year                  729\nMfr Name                    729\nDivision                    729\nCarline                     729\nEngine Displacement         729\n# Cylinders                 729\nTransmission                729\nCity FE                     729\nHighway FE                  729\nCombined FE                 729\nAir Aspiration Method       729\nTransmission Description    729\n# Gears                     729\nDrive Desc                  729\nCarline Class Desc          729\nRelease Date                729\nCity CO2                    729\nHighway CO2                 729\nCombined CO2                729\ndtype: int64"
     },
     "execution_count": 13,
     "metadata": {},
     "output_type": "execute_result"
    }
   ],
   "source": [
    "df.count()      # Used to count the number of rows"
   ]
  },
  {
   "cell_type": "markdown",
   "metadata": {
    "id": "_MJKjbzHI40K"
   },
   "source": [
    "So seen above there are 11914 rows and we are removing 989 rows of duplicate data."
   ]
  },
  {
   "cell_type": "code",
   "execution_count": 14,
   "metadata": {
    "colab": {
     "base_uri": "https://localhost:8080/",
     "height": 202
    },
    "id": "OiOsEF6WVTSj",
    "outputId": "a527c1a2-5d74-42bb-99e2-8112ebffb871",
    "ExecuteTime": {
     "end_time": "2023-10-19T09:43:05.508105300Z",
     "start_time": "2023-10-19T09:43:05.439307900Z"
    }
   },
   "outputs": [
    {
     "data": {
      "text/plain": "   Model Year      Mfr Name                  Division        Carline  \\\n0        2015  aston martin  Aston Martin Lagonda Ltd  V12 Vantage S   \n1        2015  aston martin  Aston Martin Lagonda Ltd     V8 Vantage   \n2        2015  aston martin  Aston Martin Lagonda Ltd     V8 Vantage   \n3        2015  aston martin  Aston Martin Lagonda Ltd   V8 Vantage S   \n4        2015  aston martin  Aston Martin Lagonda Ltd   V8 Vantage S   \n\n   Engine Displacement  # Cylinders Transmission  City FE  Highway FE  \\\n0                  6.0           12         Auto       12          18   \n1                  4.7            8         Auto       14          21   \n2                  4.7            8       Manual       13          19   \n3                  4.7            8         Auto       14          21   \n4                  4.7            8       Manual       13          19   \n\n   Combined FE Air Aspiration Method Transmission Description  # Gears  \\\n0           14   Naturally Aspirated         Automated Manual        7   \n1           16   Naturally Aspirated         Automated Manual        7   \n2           15   Naturally Aspirated                   Manual        6   \n3           16   Naturally Aspirated         Automated Manual        7   \n4           15   Naturally Aspirated                   Manual        6   \n\n            Drive Desc Carline Class Desc Release Date  City CO2  Highway CO2  \\\n0  2-Wheel Drive, Rear        Two Seaters    1/20/2014       742          488   \n1  2-Wheel Drive, Rear        Two Seaters    5/19/2014       655          426   \n2  2-Wheel Drive, Rear        Two Seaters    5/19/2014       681          461   \n3  2-Wheel Drive, Rear        Two Seaters    5/19/2014       655          426   \n4  2-Wheel Drive, Rear        Two Seaters    5/19/2014       681          461   \n\n   Combined CO2  \n0           628  \n1           552  \n2           582  \n3           552  \n4           582  ",
      "text/html": "<div>\n<style scoped>\n    .dataframe tbody tr th:only-of-type {\n        vertical-align: middle;\n    }\n\n    .dataframe tbody tr th {\n        vertical-align: top;\n    }\n\n    .dataframe thead th {\n        text-align: right;\n    }\n</style>\n<table border=\"1\" class=\"dataframe\">\n  <thead>\n    <tr style=\"text-align: right;\">\n      <th></th>\n      <th>Model Year</th>\n      <th>Mfr Name</th>\n      <th>Division</th>\n      <th>Carline</th>\n      <th>Engine Displacement</th>\n      <th># Cylinders</th>\n      <th>Transmission</th>\n      <th>City FE</th>\n      <th>Highway FE</th>\n      <th>Combined FE</th>\n      <th>Air Aspiration Method</th>\n      <th>Transmission Description</th>\n      <th># Gears</th>\n      <th>Drive Desc</th>\n      <th>Carline Class Desc</th>\n      <th>Release Date</th>\n      <th>City CO2</th>\n      <th>Highway CO2</th>\n      <th>Combined CO2</th>\n    </tr>\n  </thead>\n  <tbody>\n    <tr>\n      <th>0</th>\n      <td>2015</td>\n      <td>aston martin</td>\n      <td>Aston Martin Lagonda Ltd</td>\n      <td>V12 Vantage S</td>\n      <td>6.0</td>\n      <td>12</td>\n      <td>Auto</td>\n      <td>12</td>\n      <td>18</td>\n      <td>14</td>\n      <td>Naturally Aspirated</td>\n      <td>Automated Manual</td>\n      <td>7</td>\n      <td>2-Wheel Drive, Rear</td>\n      <td>Two Seaters</td>\n      <td>1/20/2014</td>\n      <td>742</td>\n      <td>488</td>\n      <td>628</td>\n    </tr>\n    <tr>\n      <th>1</th>\n      <td>2015</td>\n      <td>aston martin</td>\n      <td>Aston Martin Lagonda Ltd</td>\n      <td>V8 Vantage</td>\n      <td>4.7</td>\n      <td>8</td>\n      <td>Auto</td>\n      <td>14</td>\n      <td>21</td>\n      <td>16</td>\n      <td>Naturally Aspirated</td>\n      <td>Automated Manual</td>\n      <td>7</td>\n      <td>2-Wheel Drive, Rear</td>\n      <td>Two Seaters</td>\n      <td>5/19/2014</td>\n      <td>655</td>\n      <td>426</td>\n      <td>552</td>\n    </tr>\n    <tr>\n      <th>2</th>\n      <td>2015</td>\n      <td>aston martin</td>\n      <td>Aston Martin Lagonda Ltd</td>\n      <td>V8 Vantage</td>\n      <td>4.7</td>\n      <td>8</td>\n      <td>Manual</td>\n      <td>13</td>\n      <td>19</td>\n      <td>15</td>\n      <td>Naturally Aspirated</td>\n      <td>Manual</td>\n      <td>6</td>\n      <td>2-Wheel Drive, Rear</td>\n      <td>Two Seaters</td>\n      <td>5/19/2014</td>\n      <td>681</td>\n      <td>461</td>\n      <td>582</td>\n    </tr>\n    <tr>\n      <th>3</th>\n      <td>2015</td>\n      <td>aston martin</td>\n      <td>Aston Martin Lagonda Ltd</td>\n      <td>V8 Vantage S</td>\n      <td>4.7</td>\n      <td>8</td>\n      <td>Auto</td>\n      <td>14</td>\n      <td>21</td>\n      <td>16</td>\n      <td>Naturally Aspirated</td>\n      <td>Automated Manual</td>\n      <td>7</td>\n      <td>2-Wheel Drive, Rear</td>\n      <td>Two Seaters</td>\n      <td>5/19/2014</td>\n      <td>655</td>\n      <td>426</td>\n      <td>552</td>\n    </tr>\n    <tr>\n      <th>4</th>\n      <td>2015</td>\n      <td>aston martin</td>\n      <td>Aston Martin Lagonda Ltd</td>\n      <td>V8 Vantage S</td>\n      <td>4.7</td>\n      <td>8</td>\n      <td>Manual</td>\n      <td>13</td>\n      <td>19</td>\n      <td>15</td>\n      <td>Naturally Aspirated</td>\n      <td>Manual</td>\n      <td>6</td>\n      <td>2-Wheel Drive, Rear</td>\n      <td>Two Seaters</td>\n      <td>5/19/2014</td>\n      <td>681</td>\n      <td>461</td>\n      <td>582</td>\n    </tr>\n  </tbody>\n</table>\n</div>"
     },
     "execution_count": 14,
     "metadata": {},
     "output_type": "execute_result"
    }
   ],
   "source": [
    "df = df.drop_duplicates()\n",
    "df.head(5)"
   ]
  },
  {
   "cell_type": "code",
   "execution_count": 15,
   "metadata": {
    "colab": {
     "base_uri": "https://localhost:8080/",
     "height": 208
    },
    "id": "2gMM4lb0Vzor",
    "outputId": "f04e1803-e7de-4cbf-fdeb-8449a8051a07",
    "ExecuteTime": {
     "end_time": "2023-10-19T09:43:07.453329600Z",
     "start_time": "2023-10-19T09:43:07.402576200Z"
    }
   },
   "outputs": [
    {
     "data": {
      "text/plain": "Model Year                  722\nMfr Name                    722\nDivision                    722\nCarline                     722\nEngine Displacement         722\n# Cylinders                 722\nTransmission                722\nCity FE                     722\nHighway FE                  722\nCombined FE                 722\nAir Aspiration Method       722\nTransmission Description    722\n# Gears                     722\nDrive Desc                  722\nCarline Class Desc          722\nRelease Date                722\nCity CO2                    722\nHighway CO2                 722\nCombined CO2                722\ndtype: int64"
     },
     "execution_count": 15,
     "metadata": {},
     "output_type": "execute_result"
    }
   ],
   "source": [
    "df.count()"
   ]
  },
  {
   "cell_type": "markdown",
   "metadata": {
    "id": "zCLUdZOQ1PDP"
   },
   "source": [
    "\n",
    "\n",
    "---\n",
    "\n"
   ]
  },
  {
   "cell_type": "markdown",
   "metadata": {
    "id": "JkXUQtyQW3Dy"
   },
   "source": [
    "## 7. Dropping the missing or null values."
   ]
  },
  {
   "cell_type": "markdown",
   "metadata": {
    "id": "K5pKvJi41YCp"
   },
   "source": [
    "This is mostly similar to the previous step but in here all the missing values are detected and are dropped later. Now, this is not a good approach to do so, because many people just replace the missing values with the mean or the average of that column, but in this case, I just dropped that missing values. This is because there is nearly 100 missing value compared to 10, 000 values this is a small number and this is negligible so I just dropped those values."
   ]
  },
  {
   "cell_type": "code",
   "execution_count": 16,
   "metadata": {
    "colab": {
     "base_uri": "https://localhost:8080/",
     "height": 208
    },
    "id": "Tzdlg-1OWjMz",
    "outputId": "7375ab6e-1473-4346-e5b5-0c61189cc716",
    "ExecuteTime": {
     "end_time": "2023-10-19T09:43:11.841143700Z",
     "start_time": "2023-10-19T09:43:11.815496200Z"
    }
   },
   "outputs": [
    {
     "name": "stdout",
     "output_type": "stream",
     "text": [
      "Model Year                  0\n",
      "Mfr Name                    0\n",
      "Division                    0\n",
      "Carline                     0\n",
      "Engine Displacement         0\n",
      "# Cylinders                 0\n",
      "Transmission                0\n",
      "City FE                     0\n",
      "Highway FE                  0\n",
      "Combined FE                 0\n",
      "Air Aspiration Method       0\n",
      "Transmission Description    0\n",
      "# Gears                     0\n",
      "Drive Desc                  0\n",
      "Carline Class Desc          0\n",
      "Release Date                0\n",
      "City CO2                    0\n",
      "Highway CO2                 0\n",
      "Combined CO2                0\n",
      "dtype: int64\n"
     ]
    }
   ],
   "source": [
    "print(df.isnull().sum())"
   ]
  },
  {
   "cell_type": "markdown",
   "metadata": {
    "id": "iWJqTVxTJQnO"
   },
   "source": [
    "This is the reason in the above step while counting both Cylinders and Horsepower (HP) had 10856 and 10895 over 10925 rows."
   ]
  },
  {
   "cell_type": "code",
   "execution_count": 17,
   "metadata": {
    "colab": {
     "base_uri": "https://localhost:8080/",
     "height": 208
    },
    "id": "KbbV0xHPWoad",
    "outputId": "17dda8ec-1282-4814-de79-8f5e1aff3a5f",
    "ExecuteTime": {
     "end_time": "2023-10-19T09:43:15.030792300Z",
     "start_time": "2023-10-19T09:43:14.983619300Z"
    }
   },
   "outputs": [
    {
     "data": {
      "text/plain": "Model Year                  722\nMfr Name                    722\nDivision                    722\nCarline                     722\nEngine Displacement         722\n# Cylinders                 722\nTransmission                722\nCity FE                     722\nHighway FE                  722\nCombined FE                 722\nAir Aspiration Method       722\nTransmission Description    722\n# Gears                     722\nDrive Desc                  722\nCarline Class Desc          722\nRelease Date                722\nCity CO2                    722\nHighway CO2                 722\nCombined CO2                722\ndtype: int64"
     },
     "execution_count": 17,
     "metadata": {},
     "output_type": "execute_result"
    }
   ],
   "source": [
    "df = df.dropna()    # Dropping the missing values.\n",
    "df.count()"
   ]
  },
  {
   "cell_type": "markdown",
   "metadata": {
    "id": "2t7L9l2mJSoX"
   },
   "source": [
    "Now we have removed all the rows which contain the Null or N/A values (Cylinders and Horsepower (HP))."
   ]
  },
  {
   "cell_type": "code",
   "execution_count": 18,
   "metadata": {
    "colab": {
     "base_uri": "https://localhost:8080/",
     "height": 208
    },
    "id": "V-DmX1O4Wtox",
    "outputId": "2d50fc20-3535-413b-e317-75a7f94fa2a2",
    "ExecuteTime": {
     "end_time": "2023-10-19T09:43:17.261645100Z",
     "start_time": "2023-10-19T09:43:17.236618800Z"
    }
   },
   "outputs": [
    {
     "name": "stdout",
     "output_type": "stream",
     "text": [
      "Model Year                  0\n",
      "Mfr Name                    0\n",
      "Division                    0\n",
      "Carline                     0\n",
      "Engine Displacement         0\n",
      "# Cylinders                 0\n",
      "Transmission                0\n",
      "City FE                     0\n",
      "Highway FE                  0\n",
      "Combined FE                 0\n",
      "Air Aspiration Method       0\n",
      "Transmission Description    0\n",
      "# Gears                     0\n",
      "Drive Desc                  0\n",
      "Carline Class Desc          0\n",
      "Release Date                0\n",
      "City CO2                    0\n",
      "Highway CO2                 0\n",
      "Combined CO2                0\n",
      "dtype: int64\n"
     ]
    }
   ],
   "source": [
    "print(df.isnull().sum())   # After dropping the values"
   ]
  },
  {
   "cell_type": "markdown",
   "metadata": {
    "id": "bk8RAHqQJVJK"
   },
   "source": [
    "\n",
    "\n",
    "---\n",
    "\n"
   ]
  },
  {
   "cell_type": "markdown",
   "metadata": {
    "id": "8Py3sQc_ZxyU"
   },
   "source": [
    "## 8. Detecting Outlierss"
   ]
  },
  {
   "cell_type": "markdown",
   "metadata": {
    "id": "1g6CJPofZzHN"
   },
   "source": [
    "An outlier is a point or set of points that are different from other points. Sometimes they can be very high or very low. It's often a good idea to detect and remove the outliers. Because outliers are one of the primary reasons for resulting in a less accurate model. Hence it's a good idea to remove them. The outlier detection and removing that I am going to perform is called IQR score technique. Often outliers can be seen with visualizations using a box plot. Shown below are the box plot of MSRP, Cylinders, Horsepower and EngineSize. Herein all the plots, you can find some points are outside the box they are none other than outliers. The technique of finding and removing outlier that I am performing in this assignment is taken help of a tutorial from[ towards data science](https://towardsdatascience.com/ways-to-detect-and-remove-the-outliers-404d16608dba)."
   ]
  },
  {
   "cell_type": "code",
   "execution_count": 19,
   "metadata": {
    "colab": {
     "base_uri": "https://localhost:8080/",
     "height": 309
    },
    "id": "vtxX_y6zZ2ri",
    "outputId": "e3f93522-9244-4c32-c34c-103e0834e93b",
    "ExecuteTime": {
     "end_time": "2023-10-19T09:43:21.563196100Z",
     "start_time": "2023-10-19T09:43:21.546948700Z"
    }
   },
   "outputs": [],
   "source": [
    "#sns.boxplot(x=df['Price'])"
   ]
  },
  {
   "cell_type": "code",
   "execution_count": 20,
   "metadata": {
    "colab": {
     "base_uri": "https://localhost:8080/",
     "height": 309
    },
    "id": "9HtvQYVHZ8u5",
    "outputId": "3dc30a01-6fb1-41d9-dec8-0ceeead6a358",
    "ExecuteTime": {
     "end_time": "2023-10-19T09:43:22.763604500Z",
     "start_time": "2023-10-19T09:43:22.728725500Z"
    }
   },
   "outputs": [],
   "source": [
    "#sns.boxplot(x=df['HP'])"
   ]
  },
  {
   "cell_type": "code",
   "execution_count": 22,
   "metadata": {
    "colab": {
     "base_uri": "https://localhost:8080/",
     "height": 309
    },
    "id": "Xz3MwIjbaBUr",
    "outputId": "335d1e55-55a3-4e61-8401-a414580d9d62",
    "ExecuteTime": {
     "end_time": "2023-10-19T09:43:35.106541700Z",
     "start_time": "2023-10-19T09:43:34.806233200Z"
    }
   },
   "outputs": [
    {
     "data": {
      "text/plain": "<Axes: xlabel='# Cylinders'>"
     },
     "execution_count": 22,
     "metadata": {},
     "output_type": "execute_result"
    },
    {
     "data": {
      "text/plain": "<Figure size 640x480 with 1 Axes>",
      "image/png": "[encoded data removed]"
     },
     "metadata": {},
     "output_type": "display_data"
    }
   ],
   "source": [
    "sns.boxplot(x=df['# Cylinders'])"
   ]
  },
  {
   "cell_type": "code",
   "execution_count": 24,
   "metadata": {
    "colab": {
     "base_uri": "https://localhost:8080/",
     "height": 139
    },
    "id": "cFG9hck7aHUx",
    "outputId": "7c09ff98-3725-4d56-9b97-ef6b43d0e17b",
    "ExecuteTime": {
     "end_time": "2023-10-19T09:43:55.065263Z",
     "start_time": "2023-10-19T09:43:55.034005Z"
    }
   },
   "outputs": [],
   "source": [
    "#Q1 = df.quantile(0.25)\n",
    "#Q3 = df.quantile(0.75)\n",
    "#IQR = Q3 - Q1\n",
    "#print(IQR)"
   ]
  },
  {
   "cell_type": "markdown",
   "metadata": {
    "id": "kCv110_cJiDz"
   },
   "source": [
    "Don't worry about the above values because it's not important to know each and every one of them because it's just important to know how to use this technique in order to remove the outliers."
   ]
  },
  {
   "cell_type": "code",
   "execution_count": 26,
   "metadata": {
    "colab": {
     "base_uri": "https://localhost:8080/",
     "height": 35
    },
    "id": "igh_mRXeaJrI",
    "outputId": "44660b71-2eb7-4387-c599-e527640a7c21",
    "ExecuteTime": {
     "end_time": "2023-10-19T09:44:07.763728600Z",
     "start_time": "2023-10-19T09:44:07.716860Z"
    }
   },
   "outputs": [],
   "source": [
    "#df = df[~((df < (Q1 - 1.5 * IQR)) |(df > (Q3 + 1.5 * IQR))).any(axis=1)]\n",
    "#df.shape"
   ]
  },
  {
   "cell_type": "markdown",
   "metadata": {
    "id": "9Nh93DCGJkqT"
   },
   "source": [
    "As seen above there were around 1600 rows were outliers. But you cannot completely remove the outliers because even after you use the above technique there maybe 1–2 outlier unremoved but that ok because there were more than 100 outliers. Something is better than nothing."
   ]
  },
  {
   "cell_type": "markdown",
   "metadata": {
    "id": "Z87kHbgvaQbb"
   },
   "source": [
    "\n",
    "\n",
    "---\n",
    "\n"
   ]
  },
  {
   "cell_type": "markdown",
   "metadata": {
    "id": "WqFPRda8eEp_"
   },
   "source": [
    "## 9. Plot different features against one another (scatter), against frequency (histogram)"
   ]
  },
  {
   "cell_type": "markdown",
   "metadata": {
    "id": "Z-W6Q9-hJosZ"
   },
   "source": [
    "### Histogram\n",
    "\n",
    "Histogram refers to the frequency of occurrence of variables in an interval. In this case, there are mainly 10 different types of car manufacturing companies, but it is often important to know who has the most number of cars. To do this histogram is one of the trivial solutions which lets us know the total number of car manufactured by a different company."
   ]
  },
  {
   "cell_type": "code",
   "execution_count": 28,
   "metadata": {
    "colab": {
     "base_uri": "https://localhost:8080/",
     "height": 431
    },
    "id": "dAnd4DSyeHDb",
    "outputId": "44b04e39-9dc7-40fc-9ddb-b7182f4f6e1f",
    "ExecuteTime": {
     "end_time": "2023-10-19T09:44:28.024141800Z",
     "start_time": "2023-10-19T09:44:28.011638Z"
    }
   },
   "outputs": [],
   "source": [
    "#df.Make.value_counts().nlargest(40).plot(kind='bar', figsize=(10,5))\n",
    "#plt.title(\"Number of cars by make\")\n",
    "#plt.ylabel('Number of cars')\n",
    "#plt.xlabel('Make');"
   ]
  },
  {
   "cell_type": "markdown",
   "metadata": {
    "id": "c37WtYYWJuAQ"
   },
   "source": [
    "### Heat Maps\n",
    "\n",
    "Heat Maps is a type of plot which is necessary when we need to find the dependent variables. One of the best way to find the relationship between the features can be done using heat maps. In the below heat map we know that the price feature depends mainly on the Engine Size, Horsepower, and Cylinders."
   ]
  },
  {
   "cell_type": "code",
   "execution_count": 30,
   "metadata": {
    "colab": {
     "base_uri": "https://localhost:8080/",
     "height": 544
    },
    "id": "yhHfLVTj6nmy",
    "outputId": "50a65ae0-841a-42ec-87e6-1a99da1ea57b",
    "ExecuteTime": {
     "end_time": "2023-10-19T09:44:43.871882500Z",
     "start_time": "2023-10-19T09:44:43.825013200Z"
    }
   },
   "outputs": [],
   "source": [
    "#plt.figure(figsize=(10,5))\n",
    "#c= df.corr()\n",
    "#sns.heatmap(c,cmap=\"BrBG\",annot=True)\n",
    "#c"
   ]
  },
  {
   "cell_type": "markdown",
   "metadata": {
    "id": "1ROThOLQfRZw"
   },
   "source": [
    "### Scatterplot\n",
    "\n",
    "We generally use scatter plots to find the correlation between two variables. Here the scatter plots are plotted between Horsepower and Price and we can see the plot below. With the plot given below, we can easily draw a trend line. These features provide a good scattering of points."
   ]
  },
  {
   "cell_type": "code",
   "execution_count": 32,
   "metadata": {
    "colab": {
     "base_uri": "https://localhost:8080/",
     "height": 401
    },
    "id": "2aOfHNFefSrX",
    "outputId": "4b5286f0-5419-48bc-d2de-476aeb36f022",
    "ExecuteTime": {
     "end_time": "2023-10-19T09:44:54.503737600Z",
     "start_time": "2023-10-19T09:44:54.449340500Z"
    }
   },
   "outputs": [],
   "source": [
    "#fig, ax = plt.subplots(figsize=(10,6))\n",
    "#ax.scatter(df['HP'], df['Price'])\n",
    "#ax.set_xlabel('HP')\n",
    "#ax.set_ylabel('Price')\n",
    "#plt.show()"
   ]
  },
  {
   "cell_type": "markdown",
   "metadata": {
    "id": "hQXy8o_gKFS5"
   },
   "source": [
    "**Hence the above are some of the steps involved in Exploratory data analysis, these are some general steps that you must follow in order to perform EDA. There are many more yet to come but for now, this is more than enough idea as to how to perform a good EDA given any data sets. Stay tuned for more updates.**\n",
    "\n",
    "## Thank you."
   ]
  }
 ],
 "metadata": {
  "colab": {
   "include_colab_link": true,
   "provenance": []
  },
  "kernelspec": {
   "display_name": "Python 3 (ipykernel)",
   "language": "python",
   "name": "python3"
  },
  "language_info": {
   "codemirror_mode": {
    "name": "ipython",
    "version": 3
   },
   "file_extension": ".py",
   "mimetype": "text/x-python",
   "name": "python",
   "nbconvert_exporter": "python",
   "pygments_lexer": "ipython3",
   "version": "3.11.2"
  }
 },
 "nbformat": 4,
 "nbformat_minor": 4
}
