{
 "cells": [
  {
   "cell_type": "markdown",
   "source": [
    "After performing the EDA and answer the question. I am going to perform a model to predict the price of certain typer of cars "
   ],
   "metadata": {
    "collapsed": false
   }
  },
  {
   "cell_type": "markdown",
   "source": [
    "### 1. Importing dependencies"
   ],
   "metadata": {
    "collapsed": false
   }
  },
  {
   "cell_type": "code",
   "execution_count": 12,
   "outputs": [],
   "source": [
    "import numpy as np \n",
    "import pandas as pd \n",
    "import matplotlib.pyplot as plt\n",
    "import seaborn as sns\n",
    "import plotly.express as px\n",
    "import plotly.graph_objects as go\n",
    "\n",
    "from sklearn.model_selection import train_test_split\n",
    "from sklearn.preprocessing import StandardScaler\n",
    "\n",
    "from sklearn.ensemble import RandomForestRegressor\n",
    "from sklearn.pipeline import make_pipeline\n",
    "\n",
    "import math\n",
    "from sklearn.metrics import r2_score, mean_squared_error\n",
    "\n",
    "import os\n",
    "for dirname, _, filenames in os.walk('/kaggle/input'):\n",
    "    for filename in filenames:\n",
    "        print(os.path.join(dirname, filename))\n",
    "        \n",
    "import warnings\n",
    "warnings.filterwarnings('ignore')"
   ],
   "metadata": {
    "collapsed": false,
    "ExecuteTime": {
     "end_time": "2023-10-22T12:37:44.597214600Z",
     "start_time": "2023-10-22T12:37:44.580565Z"
    }
   }
  },
  {
   "cell_type": "code",
   "execution_count": 13,
   "outputs": [],
   "source": [
    "cars_data = pd.read_excel('output.xlsx')"
   ],
   "metadata": {
    "collapsed": false,
    "ExecuteTime": {
     "end_time": "2023-10-22T12:37:48.874031100Z",
     "start_time": "2023-10-22T12:37:46.014516200Z"
    }
   }
  },
  {
   "cell_type": "code",
   "execution_count": 14,
   "outputs": [
    {
     "data": {
      "text/plain": "       Unnamed: 0     make       model  year                engine_fuel_type  \\\n0               0      BMW  1 Series M  2011     premium unleaded (required)   \n1               1      BMW    1 Series  2011     premium unleaded (required)   \n2               2      BMW    1 Series  2011     premium unleaded (required)   \n3               3      BMW    1 Series  2011     premium unleaded (required)   \n4               4      BMW    1 Series  2011     premium unleaded (required)   \n...           ...      ...         ...   ...                             ...   \n10379       11909    Acura         ZDX  2012     premium unleaded (required)   \n10380       11910    Acura         ZDX  2012     premium unleaded (required)   \n10381       11911    Acura         ZDX  2012     premium unleaded (required)   \n10382       11912    Acura         ZDX  2013  premium unleaded (recommended)   \n10383       11913  Lincoln      Zephyr  2006                regular unleaded   \n\n       engine_hp  engine_cylinders transmission_type      driven_wheels  \\\n0            335                 6            MANUAL   rear wheel drive   \n1            300                 6            MANUAL   rear wheel drive   \n2            300                 6            MANUAL   rear wheel drive   \n3            230                 6            MANUAL   rear wheel drive   \n4            230                 6            MANUAL   rear wheel drive   \n...          ...               ...               ...                ...   \n10379        300                 6         AUTOMATIC    all wheel drive   \n10380        300                 6         AUTOMATIC    all wheel drive   \n10381        300                 6         AUTOMATIC    all wheel drive   \n10382        300                 6         AUTOMATIC    all wheel drive   \n10383        221                 6         AUTOMATIC  front wheel drive   \n\n       number_of_doors vehicle_size  vehicle_style  highway_mpg  city_mpg  \\\n0                    2      Compact          Coupe           26        19   \n1                    2      Compact    Convertible           28        19   \n2                    2      Compact          Coupe           28        20   \n3                    2      Compact          Coupe           28        18   \n4                    2      Compact    Convertible           28        18   \n...                ...          ...            ...          ...       ...   \n10379                4      Midsize  4dr Hatchback           23        16   \n10380                4      Midsize  4dr Hatchback           23        16   \n10381                4      Midsize  4dr Hatchback           23        16   \n10382                4      Midsize  4dr Hatchback           23        16   \n10383                4      Midsize          Sedan           26        17   \n\n       popularity   msrp  \n0            3916  46135  \n1            3916  40650  \n2            3916  36350  \n3            3916  29450  \n4            3916  34500  \n...           ...    ...  \n10379         204  46120  \n10380         204  56670  \n10381         204  50620  \n10382         204  50920  \n10383          61  28995  \n\n[10384 rows x 16 columns]",
      "text/html": "<div>\n<style scoped>\n    .dataframe tbody tr th:only-of-type {\n        vertical-align: middle;\n    }\n\n    .dataframe tbody tr th {\n        vertical-align: top;\n    }\n\n    .dataframe thead th {\n        text-align: right;\n    }\n</style>\n<table border=\"1\" class=\"dataframe\">\n  <thead>\n    <tr style=\"text-align: right;\">\n      <th></th>\n      <th>Unnamed: 0</th>\n      <th>make</th>\n      <th>model</th>\n      <th>year</th>\n      <th>engine_fuel_type</th>\n      <th>engine_hp</th>\n      <th>engine_cylinders</th>\n      <th>transmission_type</th>\n      <th>driven_wheels</th>\n      <th>number_of_doors</th>\n      <th>vehicle_size</th>\n      <th>vehicle_style</th>\n      <th>highway_mpg</th>\n      <th>city_mpg</th>\n      <th>popularity</th>\n      <th>msrp</th>\n    </tr>\n  </thead>\n  <tbody>\n    <tr>\n      <th>0</th>\n      <td>0</td>\n      <td>BMW</td>\n      <td>1 Series M</td>\n      <td>2011</td>\n      <td>premium unleaded (required)</td>\n      <td>335</td>\n      <td>6</td>\n      <td>MANUAL</td>\n      <td>rear wheel drive</td>\n      <td>2</td>\n      <td>Compact</td>\n      <td>Coupe</td>\n      <td>26</td>\n      <td>19</td>\n      <td>3916</td>\n      <td>46135</td>\n    </tr>\n    <tr>\n      <th>1</th>\n      <td>1</td>\n      <td>BMW</td>\n      <td>1 Series</td>\n      <td>2011</td>\n      <td>premium unleaded (required)</td>\n      <td>300</td>\n      <td>6</td>\n      <td>MANUAL</td>\n      <td>rear wheel drive</td>\n      <td>2</td>\n      <td>Compact</td>\n      <td>Convertible</td>\n      <td>28</td>\n      <td>19</td>\n      <td>3916</td>\n      <td>40650</td>\n    </tr>\n    <tr>\n      <th>2</th>\n      <td>2</td>\n      <td>BMW</td>\n      <td>1 Series</td>\n      <td>2011</td>\n      <td>premium unleaded (required)</td>\n      <td>300</td>\n      <td>6</td>\n      <td>MANUAL</td>\n      <td>rear wheel drive</td>\n      <td>2</td>\n      <td>Compact</td>\n      <td>Coupe</td>\n      <td>28</td>\n      <td>20</td>\n      <td>3916</td>\n      <td>36350</td>\n    </tr>\n    <tr>\n      <th>3</th>\n      <td>3</td>\n      <td>BMW</td>\n      <td>1 Series</td>\n      <td>2011</td>\n      <td>premium unleaded (required)</td>\n      <td>230</td>\n      <td>6</td>\n      <td>MANUAL</td>\n      <td>rear wheel drive</td>\n      <td>2</td>\n      <td>Compact</td>\n      <td>Coupe</td>\n      <td>28</td>\n      <td>18</td>\n      <td>3916</td>\n      <td>29450</td>\n    </tr>\n    <tr>\n      <th>4</th>\n      <td>4</td>\n      <td>BMW</td>\n      <td>1 Series</td>\n      <td>2011</td>\n      <td>premium unleaded (required)</td>\n      <td>230</td>\n      <td>6</td>\n      <td>MANUAL</td>\n      <td>rear wheel drive</td>\n      <td>2</td>\n      <td>Compact</td>\n      <td>Convertible</td>\n      <td>28</td>\n      <td>18</td>\n      <td>3916</td>\n      <td>34500</td>\n    </tr>\n    <tr>\n      <th>...</th>\n      <td>...</td>\n      <td>...</td>\n      <td>...</td>\n      <td>...</td>\n      <td>...</td>\n      <td>...</td>\n      <td>...</td>\n      <td>...</td>\n      <td>...</td>\n      <td>...</td>\n      <td>...</td>\n      <td>...</td>\n      <td>...</td>\n      <td>...</td>\n      <td>...</td>\n      <td>...</td>\n    </tr>\n    <tr>\n      <th>10379</th>\n      <td>11909</td>\n      <td>Acura</td>\n      <td>ZDX</td>\n      <td>2012</td>\n      <td>premium unleaded (required)</td>\n      <td>300</td>\n      <td>6</td>\n      <td>AUTOMATIC</td>\n      <td>all wheel drive</td>\n      <td>4</td>\n      <td>Midsize</td>\n      <td>4dr Hatchback</td>\n      <td>23</td>\n      <td>16</td>\n      <td>204</td>\n      <td>46120</td>\n    </tr>\n    <tr>\n      <th>10380</th>\n      <td>11910</td>\n      <td>Acura</td>\n      <td>ZDX</td>\n      <td>2012</td>\n      <td>premium unleaded (required)</td>\n      <td>300</td>\n      <td>6</td>\n      <td>AUTOMATIC</td>\n      <td>all wheel drive</td>\n      <td>4</td>\n      <td>Midsize</td>\n      <td>4dr Hatchback</td>\n      <td>23</td>\n      <td>16</td>\n      <td>204</td>\n      <td>56670</td>\n    </tr>\n    <tr>\n      <th>10381</th>\n      <td>11911</td>\n      <td>Acura</td>\n      <td>ZDX</td>\n      <td>2012</td>\n      <td>premium unleaded (required)</td>\n      <td>300</td>\n      <td>6</td>\n      <td>AUTOMATIC</td>\n      <td>all wheel drive</td>\n      <td>4</td>\n      <td>Midsize</td>\n      <td>4dr Hatchback</td>\n      <td>23</td>\n      <td>16</td>\n      <td>204</td>\n      <td>50620</td>\n    </tr>\n    <tr>\n      <th>10382</th>\n      <td>11912</td>\n      <td>Acura</td>\n      <td>ZDX</td>\n      <td>2013</td>\n      <td>premium unleaded (recommended)</td>\n      <td>300</td>\n      <td>6</td>\n      <td>AUTOMATIC</td>\n      <td>all wheel drive</td>\n      <td>4</td>\n      <td>Midsize</td>\n      <td>4dr Hatchback</td>\n      <td>23</td>\n      <td>16</td>\n      <td>204</td>\n      <td>50920</td>\n    </tr>\n    <tr>\n      <th>10383</th>\n      <td>11913</td>\n      <td>Lincoln</td>\n      <td>Zephyr</td>\n      <td>2006</td>\n      <td>regular unleaded</td>\n      <td>221</td>\n      <td>6</td>\n      <td>AUTOMATIC</td>\n      <td>front wheel drive</td>\n      <td>4</td>\n      <td>Midsize</td>\n      <td>Sedan</td>\n      <td>26</td>\n      <td>17</td>\n      <td>61</td>\n      <td>28995</td>\n    </tr>\n  </tbody>\n</table>\n<p>10384 rows × 16 columns</p>\n</div>"
     },
     "execution_count": 14,
     "metadata": {},
     "output_type": "execute_result"
    }
   ],
   "source": [
    "cars_data"
   ],
   "metadata": {
    "collapsed": false,
    "ExecuteTime": {
     "end_time": "2023-10-22T12:37:49.393842700Z",
     "start_time": "2023-10-22T12:37:49.332425700Z"
    }
   }
  },
  {
   "cell_type": "markdown",
   "source": [
    "## 2. Preprocessing"
   ],
   "metadata": {
    "collapsed": false
   }
  },
  {
   "cell_type": "code",
   "execution_count": null,
   "outputs": [],
   "source": [
    "# Feature encoding: Machine learning models can only work with numerical values. For this reason, it is necessary to transform the categorical values into numerical values"
   ],
   "metadata": {
    "collapsed": false
   }
  },
  {
   "cell_type": "code",
   "execution_count": 18,
   "outputs": [],
   "source": [
    "cat_features = ['make','model','engine_fuel_type','transmission_type','driven_wheels','vehicle_size','vehicle_style']"
   ],
   "metadata": {
    "collapsed": false,
    "ExecuteTime": {
     "start_time": "2023-10-22T12:44:27.677594300Z"
    }
   }
  },
  {
   "cell_type": "code",
   "execution_count": 25,
   "outputs": [
    {
     "data": {
      "text/plain": "   Unnamed: 0  year  engine_hp  engine_cylinders  number_of_doors  \\\n0           0  2011        335                 6                2   \n1           1  2011        300                 6                2   \n2           2  2011        300                 6                2   \n3           3  2011        230                 6                2   \n4           4  2011        230                 6                2   \n\n   highway_mpg  city_mpg  popularity   msrp  make_Acura  ...  \\\n0           26        19        3916  46135       False  ...   \n1           28        19        3916  40650       False  ...   \n2           28        20        3916  36350       False  ...   \n3           28        18        3916  29450       False  ...   \n4           28        18        3916  34500       False  ...   \n\n   vehicle_style_Convertible  vehicle_style_Convertible SUV  \\\n0                      False                          False   \n1                       True                          False   \n2                      False                          False   \n3                      False                          False   \n4                       True                          False   \n\n   vehicle_style_Coupe  vehicle_style_Crew Cab Pickup  \\\n0                 True                          False   \n1                False                          False   \n2                 True                          False   \n3                 True                          False   \n4                False                          False   \n\n   vehicle_style_Extended Cab Pickup  vehicle_style_Passenger Minivan  \\\n0                              False                            False   \n1                              False                            False   \n2                              False                            False   \n3                              False                            False   \n4                              False                            False   \n\n   vehicle_style_Passenger Van  vehicle_style_Regular Cab Pickup  \\\n0                        False                             False   \n1                        False                             False   \n2                        False                             False   \n3                        False                             False   \n4                        False                             False   \n\n   vehicle_style_Sedan  vehicle_style_Wagon  \n0                False                False  \n1                False                False  \n2                False                False  \n3                False                False  \n4                False                False  \n\n[5 rows x 886 columns]",
      "text/html": "<div>\n<style scoped>\n    .dataframe tbody tr th:only-of-type {\n        vertical-align: middle;\n    }\n\n    .dataframe tbody tr th {\n        vertical-align: top;\n    }\n\n    .dataframe thead th {\n        text-align: right;\n    }\n</style>\n<table border=\"1\" class=\"dataframe\">\n  <thead>\n    <tr style=\"text-align: right;\">\n      <th></th>\n      <th>Unnamed: 0</th>\n      <th>year</th>\n      <th>engine_hp</th>\n      <th>engine_cylinders</th>\n      <th>number_of_doors</th>\n      <th>highway_mpg</th>\n      <th>city_mpg</th>\n      <th>popularity</th>\n      <th>msrp</th>\n      <th>make_Acura</th>\n      <th>...</th>\n      <th>vehicle_style_Convertible</th>\n      <th>vehicle_style_Convertible SUV</th>\n      <th>vehicle_style_Coupe</th>\n      <th>vehicle_style_Crew Cab Pickup</th>\n      <th>vehicle_style_Extended Cab Pickup</th>\n      <th>vehicle_style_Passenger Minivan</th>\n      <th>vehicle_style_Passenger Van</th>\n      <th>vehicle_style_Regular Cab Pickup</th>\n      <th>vehicle_style_Sedan</th>\n      <th>vehicle_style_Wagon</th>\n    </tr>\n  </thead>\n  <tbody>\n    <tr>\n      <th>0</th>\n      <td>0</td>\n      <td>2011</td>\n      <td>335</td>\n      <td>6</td>\n      <td>2</td>\n      <td>26</td>\n      <td>19</td>\n      <td>3916</td>\n      <td>46135</td>\n      <td>False</td>\n      <td>...</td>\n      <td>False</td>\n      <td>False</td>\n      <td>True</td>\n      <td>False</td>\n      <td>False</td>\n      <td>False</td>\n      <td>False</td>\n      <td>False</td>\n      <td>False</td>\n      <td>False</td>\n    </tr>\n    <tr>\n      <th>1</th>\n      <td>1</td>\n      <td>2011</td>\n      <td>300</td>\n      <td>6</td>\n      <td>2</td>\n      <td>28</td>\n      <td>19</td>\n      <td>3916</td>\n      <td>40650</td>\n      <td>False</td>\n      <td>...</td>\n      <td>True</td>\n      <td>False</td>\n      <td>False</td>\n      <td>False</td>\n      <td>False</td>\n      <td>False</td>\n      <td>False</td>\n      <td>False</td>\n      <td>False</td>\n      <td>False</td>\n    </tr>\n    <tr>\n      <th>2</th>\n      <td>2</td>\n      <td>2011</td>\n      <td>300</td>\n      <td>6</td>\n      <td>2</td>\n      <td>28</td>\n      <td>20</td>\n      <td>3916</td>\n      <td>36350</td>\n      <td>False</td>\n      <td>...</td>\n      <td>False</td>\n      <td>False</td>\n      <td>True</td>\n      <td>False</td>\n      <td>False</td>\n      <td>False</td>\n      <td>False</td>\n      <td>False</td>\n      <td>False</td>\n      <td>False</td>\n    </tr>\n    <tr>\n      <th>3</th>\n      <td>3</td>\n      <td>2011</td>\n      <td>230</td>\n      <td>6</td>\n      <td>2</td>\n      <td>28</td>\n      <td>18</td>\n      <td>3916</td>\n      <td>29450</td>\n      <td>False</td>\n      <td>...</td>\n      <td>False</td>\n      <td>False</td>\n      <td>True</td>\n      <td>False</td>\n      <td>False</td>\n      <td>False</td>\n      <td>False</td>\n      <td>False</td>\n      <td>False</td>\n      <td>False</td>\n    </tr>\n    <tr>\n      <th>4</th>\n      <td>4</td>\n      <td>2011</td>\n      <td>230</td>\n      <td>6</td>\n      <td>2</td>\n      <td>28</td>\n      <td>18</td>\n      <td>3916</td>\n      <td>34500</td>\n      <td>False</td>\n      <td>...</td>\n      <td>True</td>\n      <td>False</td>\n      <td>False</td>\n      <td>False</td>\n      <td>False</td>\n      <td>False</td>\n      <td>False</td>\n      <td>False</td>\n      <td>False</td>\n      <td>False</td>\n    </tr>\n  </tbody>\n</table>\n<p>5 rows × 886 columns</p>\n</div>"
     },
     "execution_count": 25,
     "metadata": {},
     "output_type": "execute_result"
    }
   ],
   "source": [
    "cars_data = pd.get_dummies(cars_data, columns = cat_features)\n",
    "cars_data.head()"
   ],
   "metadata": {
    "collapsed": false,
    "ExecuteTime": {
     "end_time": "2023-10-22T12:51:00.980731600Z",
     "start_time": "2023-10-22T12:51:00.947931200Z"
    }
   }
  },
  {
   "cell_type": "markdown",
   "source": [
    "Splitting the dataset into train and test"
   ],
   "metadata": {
    "collapsed": false
   }
  },
  {
   "cell_type": "code",
   "execution_count": 28,
   "outputs": [],
   "source": [
    "X = cars_data.drop('msrp',axis = 1)\n",
    "y = cars_data['msrp']\n",
    "\n",
    "X_train, X_test, y_train, y_test = train_test_split(X, y, test_size = 0.2, random_state = 1)"
   ],
   "metadata": {
    "collapsed": false,
    "ExecuteTime": {
     "end_time": "2023-10-22T12:55:25.546080700Z",
     "start_time": "2023-10-22T12:55:25.477881900Z"
    }
   }
  },
  {
   "cell_type": "markdown",
   "source": [
    "Now, we should do normalization or standardize my data by using Standard Scaler"
   ],
   "metadata": {
    "collapsed": false
   }
  },
  {
   "cell_type": "code",
   "execution_count": 29,
   "outputs": [],
   "source": [
    "sc = StandardScaler()\n",
    "X_train = sc.fit_transform(X_train)\n",
    "X_test = sc.transform(X_test)"
   ],
   "metadata": {
    "collapsed": false,
    "ExecuteTime": {
     "end_time": "2023-10-22T12:56:40.474956100Z",
     "start_time": "2023-10-22T12:56:39.900860900Z"
    }
   }
  },
  {
   "cell_type": "markdown",
   "source": [
    "### 3. Modelling"
   ],
   "metadata": {
    "collapsed": false
   }
  },
  {
   "cell_type": "markdown",
   "source": [
    "It has been recommended to use a random forest regressor model to the dataset."
   ],
   "metadata": {
    "collapsed": false
   }
  },
  {
   "cell_type": "code",
   "execution_count": 30,
   "outputs": [
    {
     "name": "stdout",
     "output_type": "stream",
     "text": [
      "R2 Score is :  0.9709733646011416\n",
      "Mean squared error is :  4864.080786923705\n"
     ]
    }
   ],
   "source": [
    "rfr = RandomForestRegressor(n_estimators = 40)\n",
    "rfr_algo = make_pipeline(rfr)\n",
    "\n",
    "rfr_algo.fit(X_train, y_train)\n",
    "rfr_pred = rfr_algo.predict(X_test)\n",
    "\n",
    "print('R2 Score is : ', r2_score(y_test, rfr_pred))\n",
    "print('Mean squared error is : ', math.sqrt(mean_squared_error(y_test, rfr_pred)))"
   ],
   "metadata": {
    "collapsed": false,
    "ExecuteTime": {
     "end_time": "2023-10-22T13:17:51.409865Z",
     "start_time": "2023-10-22T13:17:32.361342400Z"
    }
   }
  },
  {
   "cell_type": "markdown",
   "source": [
    "We are gonna make it visual"
   ],
   "metadata": {
    "collapsed": false
   }
  },
  {
   "cell_type": "code",
   "execution_count": 37,
   "outputs": [
    {
     "data": {
      "text/plain": "<Axes: xlabel='msrp', ylabel='Predicted Value'>"
     },
     "execution_count": 37,
     "metadata": {},
     "output_type": "execute_result"
    },
    {
     "data": {
      "text/plain": "<Figure size 500x500 with 1 Axes>",
      "image/png": "[encoded data removed]"
     },
     "metadata": {},
     "output_type": "display_data"
    }
   ],
   "source": [
    "plt.figure(figsize=(5,5))\n",
    "plt.ylabel(\"Predicted Value\")\n",
    "sns.regplot(x = y_test, y = rfr_pred, fit_reg=True, scatter_kws={\"s\": 100})"
   ],
   "metadata": {
    "collapsed": false,
    "ExecuteTime": {
     "end_time": "2023-10-22T13:30:29.865371200Z",
     "start_time": "2023-10-22T13:30:29.175338800Z"
    }
   }
  },
  {
   "cell_type": "markdown",
   "source": [
    "The perfom went well with r2 = 0.97"
   ],
   "metadata": {
    "collapsed": false
   }
  }
 ],
 "metadata": {
  "colab": {
   "include_colab_link": true,
   "provenance": []
  },
  "kernelspec": {
   "display_name": "Python 3 (ipykernel)",
   "language": "python",
   "name": "python3"
  },
  "language_info": {
   "codemirror_mode": {
    "name": "ipython",
    "version": 3
   },
   "file_extension": ".py",
   "mimetype": "text/x-python",
   "name": "python",
   "nbconvert_exporter": "python",
   "pygments_lexer": "ipython3",
   "version": "3.11.2"
  }
 },
 "nbformat": 4,
 "nbformat_minor": 4
}
