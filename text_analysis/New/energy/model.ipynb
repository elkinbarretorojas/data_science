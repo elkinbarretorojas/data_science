{
 "cells": [
  {
   "cell_type": "markdown",
   "source": [
    "    # Energy Dataset."
   ],
   "metadata": {
    "collapsed": false
   }
  },
  {
   "cell_type": "markdown",
   "source": [
    "## 1. Importing the required libraries for EDA"
   ],
   "metadata": {
    "collapsed": false
   }
  },
  {
   "cell_type": "markdown",
   "source": [
    "Below are the libraries that are used IN THE MODEL"
   ],
   "metadata": {
    "collapsed": false
   }
  },
  {
   "cell_type": "code",
   "execution_count": 470,
   "outputs": [],
   "source": [
    "import pandas as pd                                                           #Dataframe\n",
    "import numpy as np                                                            #Dataframe\n",
    "import matplotlib.pyplot as plt                                               #Visualisation\n",
    "import plotly.express as px                                                   #Visualization\n",
    "import seaborn as sns                                                         #Visualization\n",
    "import plotly.graph_objects as go                                             #Visualisation\n",
    "from plotly.subplots import make_subplots                                     #Visualisation\n",
    "from sklearn.model_selection import train_test_split, GridSearchCV            #Model\n",
    "from sklearn.preprocessing import StandardScaler                              #Model\n",
    "from sklearn.metrics import mean_squared_error, r2_score                      #Model\n",
    "from sklearn.ensemble import RandomForestRegressor, GradientBoostingRegressor #Model\n",
    "from sklearn.linear_model import LinearRegression                             #Model\n",
    "from sklearn import preprocessing                                             #Model\n",
    "import statsmodels.api as sm                                                  #Model\n",
    "import warnings\n",
    "warnings.filterwarnings('ignore')"
   ],
   "metadata": {
    "collapsed": false,
    "ExecuteTime": {
     "end_time": "2024-01-21T22:00:42.833693500Z",
     "start_time": "2024-01-21T22:00:42.749061700Z"
    }
   }
  },
  {
   "cell_type": "markdown",
   "source": [
    "## 2. Loading the data into the data frame."
   ],
   "metadata": {
    "collapsed": false
   }
  },
  {
   "cell_type": "code",
   "execution_count": 471,
   "outputs": [
    {
     "data": {
      "text/plain": "         Entity  Year  Access to electricity (% of population)  \\\n0   Afghanistan  2000                                 1.613591   \n1   Afghanistan  2001                                 4.074574   \n2   Afghanistan  2002                                 9.409158   \n3   Afghanistan  2003                                14.738506   \n4   Afghanistan  2004                                20.064968   \n5   Afghanistan  2005                                25.390894   \n6   Afghanistan  2006                                30.718690   \n7   Afghanistan  2007                                36.051010   \n8   Afghanistan  2008                                42.400000   \n9   Afghanistan  2009                                46.740050   \n10  Afghanistan  2010                                42.700000   \n11  Afghanistan  2011                                43.222020   \n12  Afghanistan  2012                                69.100000   \n13  Afghanistan  2013                                68.290650   \n14  Afghanistan  2014                                89.500000   \n15  Afghanistan  2015                                71.500000   \n16  Afghanistan  2016                                97.700000   \n17  Afghanistan  2017                                97.700000   \n18  Afghanistan  2018                                96.616135   \n19  Afghanistan  2019                                97.700000   \n20  Afghanistan  2020                                97.700000   \n21      Albania  2000                               100.000000   \n22      Albania  2001                               100.000000   \n23      Albania  2002                               100.000000   \n24      Albania  2003                               100.000000   \n25      Albania  2004                               100.000000   \n26      Albania  2005                               100.000000   \n27      Albania  2006                               100.000000   \n28      Albania  2007                               100.000000   \n29      Albania  2008                               100.000000   \n30      Albania  2009                               100.000000   \n31      Albania  2010                               100.000000   \n32      Albania  2011                               100.000000   \n33      Albania  2012                                99.900000   \n34      Albania  2013                               100.000000   \n35      Albania  2014                                99.950000   \n36      Albania  2015                                99.980000   \n37      Albania  2016                                99.890000   \n38      Albania  2017                                99.890000   \n39      Albania  2018                               100.000000   \n40      Albania  2019                               100.000000   \n41      Albania  2020                               100.000000   \n42      Algeria  2000                                98.973100   \n43      Algeria  2001                                98.966870   \n44      Algeria  2002                                98.953060   \n\n    Access to clean fuels for cooking  \\\n0                                6.20   \n1                                7.20   \n2                                8.20   \n3                                9.50   \n4                               10.90   \n5                               12.20   \n6                               13.85   \n7                               15.30   \n8                               16.70   \n9                               18.40   \n10                              20.00   \n11                              21.80   \n12                              23.00   \n13                              24.80   \n14                              26.10   \n15                              27.40   \n16                              28.60   \n17                              29.70   \n18                              30.90   \n19                              31.90   \n20                              33.20   \n21                              38.20   \n22                              40.50   \n23                              43.20   \n24                              46.40   \n25                              49.00   \n26                              51.90   \n27                              54.80   \n28                              58.10   \n29                              60.80   \n30                              63.60   \n31                              66.50   \n32                              68.90   \n33                              71.30   \n34                              73.15   \n35                              74.60   \n36                              76.20   \n37                              77.80   \n38                              78.70   \n39                              79.80   \n40                              80.70   \n41                              81.30   \n42                              97.10   \n43                              97.30   \n44                              97.80   \n\n    Renewable-electricity-generating-capacity-per-capita  \\\n0                                                9.22      \n1                                                8.86      \n2                                                8.47      \n3                                                8.09      \n4                                                7.75      \n5                                                7.51      \n6                                                7.40      \n7                                                7.25      \n8                                                7.49      \n9                                                7.50      \n10                                               8.27      \n11                                               8.13      \n12                                               9.29      \n13                                               9.10      \n14                                               8.95      \n15                                               8.79      \n16                                               9.87      \n17                                               9.79      \n18                                               9.55      \n19                                               9.58      \n20                                               9.35      \n21                                                NaN      \n22                                                NaN      \n23                                                NaN      \n24                                                NaN      \n25                                                NaN      \n26                                                NaN      \n27                                                NaN      \n28                                                NaN      \n29                                                NaN      \n30                                                NaN      \n31                                                NaN      \n32                                                NaN      \n33                                                NaN      \n34                                                NaN      \n35                                                NaN      \n36                                                NaN      \n37                                                NaN      \n38                                                NaN      \n39                                                NaN      \n40                                                NaN      \n41                                                NaN      \n42                                               8.91      \n43                                               8.79      \n44                                               8.68      \n\n    Financial flows to developing countries (US $)  \\\n0                                          20000.0   \n1                                         130000.0   \n2                                        3950000.0   \n3                                       25970000.0   \n4                                              NaN   \n5                                        9830000.0   \n6                                       10620000.0   \n7                                       15750000.0   \n8                                       16170000.0   \n9                                        9960000.0   \n10                                      36500000.0   \n11                                      28690000.0   \n12                                      62630000.0   \n13                                     268460000.0   \n14                                       6940000.0   \n15                                       4890000.0   \n16                                        860000.0   \n17                                      50330000.0   \n18                                      70100000.0   \n19                                       4620000.0   \n20                                             NaN   \n21                                             NaN   \n22                                             NaN   \n23                                             NaN   \n24                                             NaN   \n25                                             NaN   \n26                                             NaN   \n27                                             NaN   \n28                                             NaN   \n29                                             NaN   \n30                                             NaN   \n31                                             NaN   \n32                                             NaN   \n33                                             NaN   \n34                                             NaN   \n35                                             NaN   \n36                                             NaN   \n37                                             NaN   \n38                                             NaN   \n39                                             NaN   \n40                                             NaN   \n41                                             NaN   \n42                                             NaN   \n43                                        810000.0   \n44                                        310000.0   \n\n    Renewable energy share in the total final energy consumption (%)  \\\n0                                               44.99                  \n1                                               45.60                  \n2                                               37.83                  \n3                                               36.66                  \n4                                               44.24                  \n5                                               33.88                  \n6                                               31.89                  \n7                                               28.78                  \n8                                               21.17                  \n9                                               16.53                  \n10                                              15.15                  \n11                                              12.61                  \n12                                              15.36                  \n13                                              16.86                  \n14                                              18.93                  \n15                                              17.53                  \n16                                              19.92                  \n17                                              19.21                  \n18                                              17.96                  \n19                                              18.51                  \n20                                                NaN                  \n21                                                NaN                  \n22                                                NaN                  \n23                                                NaN                  \n24                                                NaN                  \n25                                                NaN                  \n26                                                NaN                  \n27                                                NaN                  \n28                                                NaN                  \n29                                                NaN                  \n30                                                NaN                  \n31                                                NaN                  \n32                                                NaN                  \n33                                                NaN                  \n34                                                NaN                  \n35                                                NaN                  \n36                                                NaN                  \n37                                                NaN                  \n38                                                NaN                  \n39                                                NaN                  \n40                                                NaN                  \n41                                                NaN                  \n42                                               0.43                  \n43                                               0.43                  \n44                                               0.51                  \n\n    Electricity from fossil fuels (TWh)  Electricity from nuclear (TWh)  \\\n0                                  0.16                             0.0   \n1                                  0.09                             0.0   \n2                                  0.13                             0.0   \n3                                  0.31                             0.0   \n4                                  0.33                             0.0   \n5                                  0.34                             0.0   \n6                                  0.20                             0.0   \n7                                  0.20                             0.0   \n8                                  0.19                             0.0   \n9                                  0.16                             0.0   \n10                                 0.19                             0.0   \n11                                 0.18                             0.0   \n12                                 0.14                             0.0   \n13                                 0.22                             0.0   \n14                                 0.16                             0.0   \n15                                 0.15                             0.0   \n16                                 0.15                             0.0   \n17                                 0.18                             0.0   \n18                                 0.20                             0.0   \n19                                 0.18                             0.0   \n20                                 0.12                             0.0   \n21                                 0.14                             0.0   \n22                                 0.13                             0.0   \n23                                 0.16                             0.0   \n24                                 0.10                             0.0   \n25                                 0.13                             0.0   \n26                                 0.07                             0.0   \n27                                 0.09                             0.0   \n28                                 0.07                             0.0   \n29                                 0.07                             0.0   \n30                                 0.00                             0.0   \n31                                 0.00                             0.0   \n32                                 0.06                             0.0   \n33                                 0.00                             0.0   \n34                                 0.00                             0.0   \n35                                 0.00                             0.0   \n36                                 0.00                             0.0   \n37                                 0.00                             0.0   \n38                                 0.00                             0.0   \n39                                 0.00                             0.0   \n40                                 0.00                             0.0   \n41                                 0.00                             0.0   \n42                                23.84                             0.0   \n43                                24.96                             0.0   \n44                                25.94                             0.0   \n\n    Electricity from renewables (TWh)  ...  \\\n0                                0.31  ...   \n1                                0.50  ...   \n2                                0.56  ...   \n3                                0.63  ...   \n4                                0.56  ...   \n5                                0.59  ...   \n6                                0.64  ...   \n7                                0.75  ...   \n8                                0.54  ...   \n9                                0.78  ...   \n10                               0.75  ...   \n11                               0.60  ...   \n12                               0.74  ...   \n13                               0.89  ...   \n14                               1.00  ...   \n15                               1.03  ...   \n16                               1.06  ...   \n17                               1.09  ...   \n18                               0.97  ...   \n19                               0.89  ...   \n20                               0.68  ...   \n21                               4.55  ...   \n22                               3.52  ...   \n23                               3.48  ...   \n24                               5.12  ...   \n25                               5.41  ...   \n26                               5.32  ...   \n27                               4.95  ...   \n28                               2.76  ...   \n29                               3.76  ...   \n30                               5.20  ...   \n31                               7.49  ...   \n32                               4.09  ...   \n33                               4.68  ...   \n34                               6.89  ...   \n35                               4.68  ...   \n36                               5.84  ...   \n37                               7.70  ...   \n38                               4.48  ...   \n39                               8.47  ...   \n40                               5.17  ...   \n41                               5.31  ...   \n42                               0.05  ...   \n43                               0.07  ...   \n44                               0.06  ...   \n\n    Primary energy consumption per capita (kWh/person)  \\\n0                                           302.59482    \n1                                           236.89185    \n2                                           210.86215    \n3                                           229.96822    \n4                                           204.23125    \n5                                           252.06912    \n6                                           304.42090    \n7                                           354.27990    \n8                                           607.83350    \n9                                           975.04816    \n10                                         1182.89200    \n11                                         1436.11430    \n12                                         1324.12110    \n13                                         1060.79260    \n14                                          868.57620    \n15                                          970.08030    \n16                                          862.79114    \n17                                          829.31195    \n18                                          924.25085    \n19                                          802.61255    \n20                                          702.88800    \n21                                         9029.43750    \n22                                         8635.53200    \n23                                         9443.55500    \n24                                        10756.61200    \n25                                        11586.95100    \n26                                        11545.61600    \n27                                        10976.72800    \n28                                         9534.87400    \n29                                        10499.32800    \n30                                        11524.42800    \n31                                        12377.50400    \n32                                        10854.64900    \n33                                        10652.80900    \n34                                        13392.77400    \n35                                        11809.46100    \n36                                        11824.31400    \n37                                        13823.74800    \n38                                        12802.36000    \n39                                        14609.70100    \n40                                        11585.55500    \n41                                        11158.00300    \n42                                         9746.52400    \n43                                         9961.64000    \n44                                        10180.35000    \n\n    Energy intensity level of primary energy (MJ/$2017 PPP GDP)  \\\n0                                                1.64             \n1                                                1.74             \n2                                                1.40             \n3                                                1.40             \n4                                                1.20             \n5                                                1.41             \n6                                                1.50             \n7                                                1.53             \n8                                                1.94             \n9                                                2.25             \n10                                               2.46             \n11                                               3.23             \n12                                               2.61             \n13                                               2.46             \n14                                               2.25             \n15                                               2.37             \n16                                               2.24             \n17                                               2.30             \n18                                               2.44             \n19                                               2.41             \n20                                                NaN             \n21                                               4.13             \n22                                               3.89             \n23                                               4.10             \n24                                               3.80             \n25                                               3.96             \n26                                               3.75             \n27                                               3.46             \n28                                               3.12             \n29                                               3.01             \n30                                               2.98             \n31                                               2.85             \n32                                               2.91             \n33                                               2.57             \n34                                               2.96             \n35                                               2.93             \n36                                               2.69             \n37                                               2.68             \n38                                               2.69             \n39                                               2.57             \n40                                               2.50             \n41                                                NaN             \n42                                               4.18             \n43                                               4.07             \n44                                               4.12             \n\n    Value_co2_emissions_kt_by_country  \\\n0                          760.000000   \n1                          730.000000   \n2                         1029.999971   \n3                         1220.000029   \n4                         1029.999971   \n5                         1549.999952   \n6                         1759.999990   \n7                         1769.999981   \n8                         3559.999943   \n9                         4880.000114   \n10                        7110.000134   \n11                        8930.000305   \n12                        8079.999924   \n13                        5989.999771   \n14                        4880.000114   \n15                        5949.999809   \n16                        5300.000191   \n17                        4780.000210   \n18                        6070.000172   \n19                        6079.999924   \n20                                NaN   \n21                        3170.000000   \n22                        3230.000000   \n23                        3759.999990   \n24                        4070.000172   \n25                        4250.000000   \n26                        4030.000210   \n27                        4010.000229   \n28                        4139.999866   \n29                        4079.999924   \n30                        4219.999790   \n31                        4449.999809   \n32                        4849.999905   \n33                        4360.000134   \n34                        4440.000057   \n35                        4820.000172   \n36                        4619.999886   \n37                        4480.000019   \n38                        5139.999866   \n39                        5110.000134   \n40                        4829.999924   \n41                                NaN   \n42                       80050.000000   \n43                       78650.000000   \n44                       82400.001530   \n\n    Renewables (% equivalent primary energy)  gdp_growth  gdp_per_capita  \\\n0                                        NaN         NaN             NaN   \n1                                        NaN         NaN             NaN   \n2                                        NaN         NaN      179.426579   \n3                                        NaN    8.832278      190.683814   \n4                                        NaN    1.414118      211.382074   \n5                                        NaN   11.229715      242.031313   \n6                                        NaN    5.357403      263.733602   \n7                                        NaN   13.826320      359.693158   \n8                                        NaN    3.924984      364.663542   \n9                                        NaN   21.390528      437.268740   \n10                                       NaN   14.362441      543.306526   \n11                                       NaN    0.426355      591.190030   \n12                                       NaN   12.752287      638.845852   \n13                                       NaN    5.600745      624.315454   \n14                                       NaN    2.724543      614.223342   \n15                                       NaN    1.451315      556.007221   \n16                                       NaN    2.260314      512.012778   \n17                                       NaN    2.647003      516.679862   \n18                                       NaN    1.189228      485.668419   \n19                                       NaN    3.911603      494.179350   \n20                                       NaN   -2.351101      516.747871   \n21                                       NaN    6.946217     1126.683340   \n22                                       NaN    8.293313     1281.659826   \n23                                       NaN    4.536524     1425.124219   \n24                                       NaN    5.528637     1846.120121   \n25                                       NaN    5.514668     2373.581292   \n26                                       NaN    5.526424     2673.786584   \n27                                       NaN    5.902659     2972.742924   \n28                                       NaN    5.983260     3595.038057   \n29                                       NaN    7.500041     4370.539925   \n30                                       NaN    3.354289     4114.134899   \n31                                       NaN    3.706938     4094.348386   \n32                                       NaN    2.545406     4437.142612   \n33                                       NaN    1.417243     4247.630047   \n34                                       NaN    1.002018     4413.062005   \n35                                       NaN    1.774449     4578.633208   \n36                                       NaN    2.218726     3952.802538   \n37                                       NaN    3.314981     4124.055390   \n38                                       NaN    3.802227     4531.019374   \n39                                       NaN    4.019360     5287.663694   \n40                                       NaN    2.113420     5395.659532   \n41                                       NaN   -3.955398     5246.292306   \n42                                  0.053235    3.800000     1765.027146   \n43                                  0.065218    3.000000     1740.606654   \n44                                  0.051677    5.600000     1781.828908   \n\n    Density\\n(P/Km2) Land Area(Km2)   Latitude  Longitude  \n0                 60       6,52,230  33.939110  67.709953  \n1                 60       6,52,230  33.939110  67.709953  \n2                 60       6,52,230  33.939110  67.709953  \n3                 60       6,52,230  33.939110  67.709953  \n4                 60       6,52,230  33.939110  67.709953  \n5                 60       6,52,230  33.939110  67.709953  \n6                 60       6,52,230  33.939110  67.709953  \n7                 60       6,52,230  33.939110  67.709953  \n8                 60       6,52,230  33.939110  67.709953  \n9                 60       6,52,230  33.939110  67.709953  \n10                60       6,52,230  33.939110  67.709953  \n11                60       6,52,230  33.939110  67.709953  \n12                60       6,52,230  33.939110  67.709953  \n13                60       6,52,230  33.939110  67.709953  \n14                60       6,52,230  33.939110  67.709953  \n15                60       6,52,230  33.939110  67.709953  \n16                60       6,52,230  33.939110  67.709953  \n17                60       6,52,230  33.939110  67.709953  \n18                60       6,52,230  33.939110  67.709953  \n19                60       6,52,230  33.939110  67.709953  \n20                60       6,52,230  33.939110  67.709953  \n21               105         28,748  41.153332  20.168331  \n22               105         28,748  41.153332  20.168331  \n23               105         28,748  41.153332  20.168331  \n24               105         28,748  41.153332  20.168331  \n25               105         28,748  41.153332  20.168331  \n26               105         28,748  41.153332  20.168331  \n27               105         28,748  41.153332  20.168331  \n28               105         28,748  41.153332  20.168331  \n29               105         28,748  41.153332  20.168331  \n30               105         28,748  41.153332  20.168331  \n31               105         28,748  41.153332  20.168331  \n32               105         28,748  41.153332  20.168331  \n33               105         28,748  41.153332  20.168331  \n34               105         28,748  41.153332  20.168331  \n35               105         28,748  41.153332  20.168331  \n36               105         28,748  41.153332  20.168331  \n37               105         28,748  41.153332  20.168331  \n38               105         28,748  41.153332  20.168331  \n39               105         28,748  41.153332  20.168331  \n40               105         28,748  41.153332  20.168331  \n41               105         28,748  41.153332  20.168331  \n42                18      23,81,741  28.033886   1.659626  \n43                18      23,81,741  28.033886   1.659626  \n44                18      23,81,741  28.033886   1.659626  \n\n[45 rows x 21 columns]",
      "text/html": "<div>\n<style scoped>\n    .dataframe tbody tr th:only-of-type {\n        vertical-align: middle;\n    }\n\n    .dataframe tbody tr th {\n        vertical-align: top;\n    }\n\n    .dataframe thead th {\n        text-align: right;\n    }\n</style>\n<table border=\"1\" class=\"dataframe\">\n  <thead>\n    <tr style=\"text-align: right;\">\n      <th></th>\n      <th>Entity</th>\n      <th>Year</th>\n      <th>Access to electricity (% of population)</th>\n      <th>Access to clean fuels for cooking</th>\n      <th>Renewable-electricity-generating-capacity-per-capita</th>\n      <th>Financial flows to developing countries (US $)</th>\n      <th>Renewable energy share in the total final energy consumption (%)</th>\n      <th>Electricity from fossil fuels (TWh)</th>\n      <th>Electricity from nuclear (TWh)</th>\n      <th>Electricity from renewables (TWh)</th>\n      <th>...</th>\n      <th>Primary energy consumption per capita (kWh/person)</th>\n      <th>Energy intensity level of primary energy (MJ/$2017 PPP GDP)</th>\n      <th>Value_co2_emissions_kt_by_country</th>\n      <th>Renewables (% equivalent primary energy)</th>\n      <th>gdp_growth</th>\n      <th>gdp_per_capita</th>\n      <th>Density\\n(P/Km2)</th>\n      <th>Land Area(Km2)</th>\n      <th>Latitude</th>\n      <th>Longitude</th>\n    </tr>\n  </thead>\n  <tbody>\n    <tr>\n      <th>0</th>\n      <td>Afghanistan</td>\n      <td>2000</td>\n      <td>1.613591</td>\n      <td>6.20</td>\n      <td>9.22</td>\n      <td>20000.0</td>\n      <td>44.99</td>\n      <td>0.16</td>\n      <td>0.0</td>\n      <td>0.31</td>\n      <td>...</td>\n      <td>302.59482</td>\n      <td>1.64</td>\n      <td>760.000000</td>\n      <td>NaN</td>\n      <td>NaN</td>\n      <td>NaN</td>\n      <td>60</td>\n      <td>6,52,230</td>\n      <td>33.939110</td>\n      <td>67.709953</td>\n    </tr>\n    <tr>\n      <th>1</th>\n      <td>Afghanistan</td>\n      <td>2001</td>\n      <td>4.074574</td>\n      <td>7.20</td>\n      <td>8.86</td>\n      <td>130000.0</td>\n      <td>45.60</td>\n      <td>0.09</td>\n      <td>0.0</td>\n      <td>0.50</td>\n      <td>...</td>\n      <td>236.89185</td>\n      <td>1.74</td>\n      <td>730.000000</td>\n      <td>NaN</td>\n      <td>NaN</td>\n      <td>NaN</td>\n      <td>60</td>\n      <td>6,52,230</td>\n      <td>33.939110</td>\n      <td>67.709953</td>\n    </tr>\n    <tr>\n      <th>2</th>\n      <td>Afghanistan</td>\n      <td>2002</td>\n      <td>9.409158</td>\n      <td>8.20</td>\n      <td>8.47</td>\n      <td>3950000.0</td>\n      <td>37.83</td>\n      <td>0.13</td>\n      <td>0.0</td>\n      <td>0.56</td>\n      <td>...</td>\n      <td>210.86215</td>\n      <td>1.40</td>\n      <td>1029.999971</td>\n      <td>NaN</td>\n      <td>NaN</td>\n      <td>179.426579</td>\n      <td>60</td>\n      <td>6,52,230</td>\n      <td>33.939110</td>\n      <td>67.709953</td>\n    </tr>\n    <tr>\n      <th>3</th>\n      <td>Afghanistan</td>\n      <td>2003</td>\n      <td>14.738506</td>\n      <td>9.50</td>\n      <td>8.09</td>\n      <td>25970000.0</td>\n      <td>36.66</td>\n      <td>0.31</td>\n      <td>0.0</td>\n      <td>0.63</td>\n      <td>...</td>\n      <td>229.96822</td>\n      <td>1.40</td>\n      <td>1220.000029</td>\n      <td>NaN</td>\n      <td>8.832278</td>\n      <td>190.683814</td>\n      <td>60</td>\n      <td>6,52,230</td>\n      <td>33.939110</td>\n      <td>67.709953</td>\n    </tr>\n    <tr>\n      <th>4</th>\n      <td>Afghanistan</td>\n      <td>2004</td>\n      <td>20.064968</td>\n      <td>10.90</td>\n      <td>7.75</td>\n      <td>NaN</td>\n      <td>44.24</td>\n      <td>0.33</td>\n      <td>0.0</td>\n      <td>0.56</td>\n      <td>...</td>\n      <td>204.23125</td>\n      <td>1.20</td>\n      <td>1029.999971</td>\n      <td>NaN</td>\n      <td>1.414118</td>\n      <td>211.382074</td>\n      <td>60</td>\n      <td>6,52,230</td>\n      <td>33.939110</td>\n      <td>67.709953</td>\n    </tr>\n    <tr>\n      <th>5</th>\n      <td>Afghanistan</td>\n      <td>2005</td>\n      <td>25.390894</td>\n      <td>12.20</td>\n      <td>7.51</td>\n      <td>9830000.0</td>\n      <td>33.88</td>\n      <td>0.34</td>\n      <td>0.0</td>\n      <td>0.59</td>\n      <td>...</td>\n      <td>252.06912</td>\n      <td>1.41</td>\n      <td>1549.999952</td>\n      <td>NaN</td>\n      <td>11.229715</td>\n      <td>242.031313</td>\n      <td>60</td>\n      <td>6,52,230</td>\n      <td>33.939110</td>\n      <td>67.709953</td>\n    </tr>\n    <tr>\n      <th>6</th>\n      <td>Afghanistan</td>\n      <td>2006</td>\n      <td>30.718690</td>\n      <td>13.85</td>\n      <td>7.40</td>\n      <td>10620000.0</td>\n      <td>31.89</td>\n      <td>0.20</td>\n      <td>0.0</td>\n      <td>0.64</td>\n      <td>...</td>\n      <td>304.42090</td>\n      <td>1.50</td>\n      <td>1759.999990</td>\n      <td>NaN</td>\n      <td>5.357403</td>\n      <td>263.733602</td>\n      <td>60</td>\n      <td>6,52,230</td>\n      <td>33.939110</td>\n      <td>67.709953</td>\n    </tr>\n    <tr>\n      <th>7</th>\n      <td>Afghanistan</td>\n      <td>2007</td>\n      <td>36.051010</td>\n      <td>15.30</td>\n      <td>7.25</td>\n      <td>15750000.0</td>\n      <td>28.78</td>\n      <td>0.20</td>\n      <td>0.0</td>\n      <td>0.75</td>\n      <td>...</td>\n      <td>354.27990</td>\n      <td>1.53</td>\n      <td>1769.999981</td>\n      <td>NaN</td>\n      <td>13.826320</td>\n      <td>359.693158</td>\n      <td>60</td>\n      <td>6,52,230</td>\n      <td>33.939110</td>\n      <td>67.709953</td>\n    </tr>\n    <tr>\n      <th>8</th>\n      <td>Afghanistan</td>\n      <td>2008</td>\n      <td>42.400000</td>\n      <td>16.70</td>\n      <td>7.49</td>\n      <td>16170000.0</td>\n      <td>21.17</td>\n      <td>0.19</td>\n      <td>0.0</td>\n      <td>0.54</td>\n      <td>...</td>\n      <td>607.83350</td>\n      <td>1.94</td>\n      <td>3559.999943</td>\n      <td>NaN</td>\n      <td>3.924984</td>\n      <td>364.663542</td>\n      <td>60</td>\n      <td>6,52,230</td>\n      <td>33.939110</td>\n      <td>67.709953</td>\n    </tr>\n    <tr>\n      <th>9</th>\n      <td>Afghanistan</td>\n      <td>2009</td>\n      <td>46.740050</td>\n      <td>18.40</td>\n      <td>7.50</td>\n      <td>9960000.0</td>\n      <td>16.53</td>\n      <td>0.16</td>\n      <td>0.0</td>\n      <td>0.78</td>\n      <td>...</td>\n      <td>975.04816</td>\n      <td>2.25</td>\n      <td>4880.000114</td>\n      <td>NaN</td>\n      <td>21.390528</td>\n      <td>437.268740</td>\n      <td>60</td>\n      <td>6,52,230</td>\n      <td>33.939110</td>\n      <td>67.709953</td>\n    </tr>\n    <tr>\n      <th>10</th>\n      <td>Afghanistan</td>\n      <td>2010</td>\n      <td>42.700000</td>\n      <td>20.00</td>\n      <td>8.27</td>\n      <td>36500000.0</td>\n      <td>15.15</td>\n      <td>0.19</td>\n      <td>0.0</td>\n      <td>0.75</td>\n      <td>...</td>\n      <td>1182.89200</td>\n      <td>2.46</td>\n      <td>7110.000134</td>\n      <td>NaN</td>\n      <td>14.362441</td>\n      <td>543.306526</td>\n      <td>60</td>\n      <td>6,52,230</td>\n      <td>33.939110</td>\n      <td>67.709953</td>\n    </tr>\n    <tr>\n      <th>11</th>\n      <td>Afghanistan</td>\n      <td>2011</td>\n      <td>43.222020</td>\n      <td>21.80</td>\n      <td>8.13</td>\n      <td>28690000.0</td>\n      <td>12.61</td>\n      <td>0.18</td>\n      <td>0.0</td>\n      <td>0.60</td>\n      <td>...</td>\n      <td>1436.11430</td>\n      <td>3.23</td>\n      <td>8930.000305</td>\n      <td>NaN</td>\n      <td>0.426355</td>\n      <td>591.190030</td>\n      <td>60</td>\n      <td>6,52,230</td>\n      <td>33.939110</td>\n      <td>67.709953</td>\n    </tr>\n    <tr>\n      <th>12</th>\n      <td>Afghanistan</td>\n      <td>2012</td>\n      <td>69.100000</td>\n      <td>23.00</td>\n      <td>9.29</td>\n      <td>62630000.0</td>\n      <td>15.36</td>\n      <td>0.14</td>\n      <td>0.0</td>\n      <td>0.74</td>\n      <td>...</td>\n      <td>1324.12110</td>\n      <td>2.61</td>\n      <td>8079.999924</td>\n      <td>NaN</td>\n      <td>12.752287</td>\n      <td>638.845852</td>\n      <td>60</td>\n      <td>6,52,230</td>\n      <td>33.939110</td>\n      <td>67.709953</td>\n    </tr>\n    <tr>\n      <th>13</th>\n      <td>Afghanistan</td>\n      <td>2013</td>\n      <td>68.290650</td>\n      <td>24.80</td>\n      <td>9.10</td>\n      <td>268460000.0</td>\n      <td>16.86</td>\n      <td>0.22</td>\n      <td>0.0</td>\n      <td>0.89</td>\n      <td>...</td>\n      <td>1060.79260</td>\n      <td>2.46</td>\n      <td>5989.999771</td>\n      <td>NaN</td>\n      <td>5.600745</td>\n      <td>624.315454</td>\n      <td>60</td>\n      <td>6,52,230</td>\n      <td>33.939110</td>\n      <td>67.709953</td>\n    </tr>\n    <tr>\n      <th>14</th>\n      <td>Afghanistan</td>\n      <td>2014</td>\n      <td>89.500000</td>\n      <td>26.10</td>\n      <td>8.95</td>\n      <td>6940000.0</td>\n      <td>18.93</td>\n      <td>0.16</td>\n      <td>0.0</td>\n      <td>1.00</td>\n      <td>...</td>\n      <td>868.57620</td>\n      <td>2.25</td>\n      <td>4880.000114</td>\n      <td>NaN</td>\n      <td>2.724543</td>\n      <td>614.223342</td>\n      <td>60</td>\n      <td>6,52,230</td>\n      <td>33.939110</td>\n      <td>67.709953</td>\n    </tr>\n    <tr>\n      <th>15</th>\n      <td>Afghanistan</td>\n      <td>2015</td>\n      <td>71.500000</td>\n      <td>27.40</td>\n      <td>8.79</td>\n      <td>4890000.0</td>\n      <td>17.53</td>\n      <td>0.15</td>\n      <td>0.0</td>\n      <td>1.03</td>\n      <td>...</td>\n      <td>970.08030</td>\n      <td>2.37</td>\n      <td>5949.999809</td>\n      <td>NaN</td>\n      <td>1.451315</td>\n      <td>556.007221</td>\n      <td>60</td>\n      <td>6,52,230</td>\n      <td>33.939110</td>\n      <td>67.709953</td>\n    </tr>\n    <tr>\n      <th>16</th>\n      <td>Afghanistan</td>\n      <td>2016</td>\n      <td>97.700000</td>\n      <td>28.60</td>\n      <td>9.87</td>\n      <td>860000.0</td>\n      <td>19.92</td>\n      <td>0.15</td>\n      <td>0.0</td>\n      <td>1.06</td>\n      <td>...</td>\n      <td>862.79114</td>\n      <td>2.24</td>\n      <td>5300.000191</td>\n      <td>NaN</td>\n      <td>2.260314</td>\n      <td>512.012778</td>\n      <td>60</td>\n      <td>6,52,230</td>\n      <td>33.939110</td>\n      <td>67.709953</td>\n    </tr>\n    <tr>\n      <th>17</th>\n      <td>Afghanistan</td>\n      <td>2017</td>\n      <td>97.700000</td>\n      <td>29.70</td>\n      <td>9.79</td>\n      <td>50330000.0</td>\n      <td>19.21</td>\n      <td>0.18</td>\n      <td>0.0</td>\n      <td>1.09</td>\n      <td>...</td>\n      <td>829.31195</td>\n      <td>2.30</td>\n      <td>4780.000210</td>\n      <td>NaN</td>\n      <td>2.647003</td>\n      <td>516.679862</td>\n      <td>60</td>\n      <td>6,52,230</td>\n      <td>33.939110</td>\n      <td>67.709953</td>\n    </tr>\n    <tr>\n      <th>18</th>\n      <td>Afghanistan</td>\n      <td>2018</td>\n      <td>96.616135</td>\n      <td>30.90</td>\n      <td>9.55</td>\n      <td>70100000.0</td>\n      <td>17.96</td>\n      <td>0.20</td>\n      <td>0.0</td>\n      <td>0.97</td>\n      <td>...</td>\n      <td>924.25085</td>\n      <td>2.44</td>\n      <td>6070.000172</td>\n      <td>NaN</td>\n      <td>1.189228</td>\n      <td>485.668419</td>\n      <td>60</td>\n      <td>6,52,230</td>\n      <td>33.939110</td>\n      <td>67.709953</td>\n    </tr>\n    <tr>\n      <th>19</th>\n      <td>Afghanistan</td>\n      <td>2019</td>\n      <td>97.700000</td>\n      <td>31.90</td>\n      <td>9.58</td>\n      <td>4620000.0</td>\n      <td>18.51</td>\n      <td>0.18</td>\n      <td>0.0</td>\n      <td>0.89</td>\n      <td>...</td>\n      <td>802.61255</td>\n      <td>2.41</td>\n      <td>6079.999924</td>\n      <td>NaN</td>\n      <td>3.911603</td>\n      <td>494.179350</td>\n      <td>60</td>\n      <td>6,52,230</td>\n      <td>33.939110</td>\n      <td>67.709953</td>\n    </tr>\n    <tr>\n      <th>20</th>\n      <td>Afghanistan</td>\n      <td>2020</td>\n      <td>97.700000</td>\n      <td>33.20</td>\n      <td>9.35</td>\n      <td>NaN</td>\n      <td>NaN</td>\n      <td>0.12</td>\n      <td>0.0</td>\n      <td>0.68</td>\n      <td>...</td>\n      <td>702.88800</td>\n      <td>NaN</td>\n      <td>NaN</td>\n      <td>NaN</td>\n      <td>-2.351101</td>\n      <td>516.747871</td>\n      <td>60</td>\n      <td>6,52,230</td>\n      <td>33.939110</td>\n      <td>67.709953</td>\n    </tr>\n    <tr>\n      <th>21</th>\n      <td>Albania</td>\n      <td>2000</td>\n      <td>100.000000</td>\n      <td>38.20</td>\n      <td>NaN</td>\n      <td>NaN</td>\n      <td>NaN</td>\n      <td>0.14</td>\n      <td>0.0</td>\n      <td>4.55</td>\n      <td>...</td>\n      <td>9029.43750</td>\n      <td>4.13</td>\n      <td>3170.000000</td>\n      <td>NaN</td>\n      <td>6.946217</td>\n      <td>1126.683340</td>\n      <td>105</td>\n      <td>28,748</td>\n      <td>41.153332</td>\n      <td>20.168331</td>\n    </tr>\n    <tr>\n      <th>22</th>\n      <td>Albania</td>\n      <td>2001</td>\n      <td>100.000000</td>\n      <td>40.50</td>\n      <td>NaN</td>\n      <td>NaN</td>\n      <td>NaN</td>\n      <td>0.13</td>\n      <td>0.0</td>\n      <td>3.52</td>\n      <td>...</td>\n      <td>8635.53200</td>\n      <td>3.89</td>\n      <td>3230.000000</td>\n      <td>NaN</td>\n      <td>8.293313</td>\n      <td>1281.659826</td>\n      <td>105</td>\n      <td>28,748</td>\n      <td>41.153332</td>\n      <td>20.168331</td>\n    </tr>\n    <tr>\n      <th>23</th>\n      <td>Albania</td>\n      <td>2002</td>\n      <td>100.000000</td>\n      <td>43.20</td>\n      <td>NaN</td>\n      <td>NaN</td>\n      <td>NaN</td>\n      <td>0.16</td>\n      <td>0.0</td>\n      <td>3.48</td>\n      <td>...</td>\n      <td>9443.55500</td>\n      <td>4.10</td>\n      <td>3759.999990</td>\n      <td>NaN</td>\n      <td>4.536524</td>\n      <td>1425.124219</td>\n      <td>105</td>\n      <td>28,748</td>\n      <td>41.153332</td>\n      <td>20.168331</td>\n    </tr>\n    <tr>\n      <th>24</th>\n      <td>Albania</td>\n      <td>2003</td>\n      <td>100.000000</td>\n      <td>46.40</td>\n      <td>NaN</td>\n      <td>NaN</td>\n      <td>NaN</td>\n      <td>0.10</td>\n      <td>0.0</td>\n      <td>5.12</td>\n      <td>...</td>\n      <td>10756.61200</td>\n      <td>3.80</td>\n      <td>4070.000172</td>\n      <td>NaN</td>\n      <td>5.528637</td>\n      <td>1846.120121</td>\n      <td>105</td>\n      <td>28,748</td>\n      <td>41.153332</td>\n      <td>20.168331</td>\n    </tr>\n    <tr>\n      <th>25</th>\n      <td>Albania</td>\n      <td>2004</td>\n      <td>100.000000</td>\n      <td>49.00</td>\n      <td>NaN</td>\n      <td>NaN</td>\n      <td>NaN</td>\n      <td>0.13</td>\n      <td>0.0</td>\n      <td>5.41</td>\n      <td>...</td>\n      <td>11586.95100</td>\n      <td>3.96</td>\n      <td>4250.000000</td>\n      <td>NaN</td>\n      <td>5.514668</td>\n      <td>2373.581292</td>\n      <td>105</td>\n      <td>28,748</td>\n      <td>41.153332</td>\n      <td>20.168331</td>\n    </tr>\n    <tr>\n      <th>26</th>\n      <td>Albania</td>\n      <td>2005</td>\n      <td>100.000000</td>\n      <td>51.90</td>\n      <td>NaN</td>\n      <td>NaN</td>\n      <td>NaN</td>\n      <td>0.07</td>\n      <td>0.0</td>\n      <td>5.32</td>\n      <td>...</td>\n      <td>11545.61600</td>\n      <td>3.75</td>\n      <td>4030.000210</td>\n      <td>NaN</td>\n      <td>5.526424</td>\n      <td>2673.786584</td>\n      <td>105</td>\n      <td>28,748</td>\n      <td>41.153332</td>\n      <td>20.168331</td>\n    </tr>\n    <tr>\n      <th>27</th>\n      <td>Albania</td>\n      <td>2006</td>\n      <td>100.000000</td>\n      <td>54.80</td>\n      <td>NaN</td>\n      <td>NaN</td>\n      <td>NaN</td>\n      <td>0.09</td>\n      <td>0.0</td>\n      <td>4.95</td>\n      <td>...</td>\n      <td>10976.72800</td>\n      <td>3.46</td>\n      <td>4010.000229</td>\n      <td>NaN</td>\n      <td>5.902659</td>\n      <td>2972.742924</td>\n      <td>105</td>\n      <td>28,748</td>\n      <td>41.153332</td>\n      <td>20.168331</td>\n    </tr>\n    <tr>\n      <th>28</th>\n      <td>Albania</td>\n      <td>2007</td>\n      <td>100.000000</td>\n      <td>58.10</td>\n      <td>NaN</td>\n      <td>NaN</td>\n      <td>NaN</td>\n      <td>0.07</td>\n      <td>0.0</td>\n      <td>2.76</td>\n      <td>...</td>\n      <td>9534.87400</td>\n      <td>3.12</td>\n      <td>4139.999866</td>\n      <td>NaN</td>\n      <td>5.983260</td>\n      <td>3595.038057</td>\n      <td>105</td>\n      <td>28,748</td>\n      <td>41.153332</td>\n      <td>20.168331</td>\n    </tr>\n    <tr>\n      <th>29</th>\n      <td>Albania</td>\n      <td>2008</td>\n      <td>100.000000</td>\n      <td>60.80</td>\n      <td>NaN</td>\n      <td>NaN</td>\n      <td>NaN</td>\n      <td>0.07</td>\n      <td>0.0</td>\n      <td>3.76</td>\n      <td>...</td>\n      <td>10499.32800</td>\n      <td>3.01</td>\n      <td>4079.999924</td>\n      <td>NaN</td>\n      <td>7.500041</td>\n      <td>4370.539925</td>\n      <td>105</td>\n      <td>28,748</td>\n      <td>41.153332</td>\n      <td>20.168331</td>\n    </tr>\n    <tr>\n      <th>30</th>\n      <td>Albania</td>\n      <td>2009</td>\n      <td>100.000000</td>\n      <td>63.60</td>\n      <td>NaN</td>\n      <td>NaN</td>\n      <td>NaN</td>\n      <td>0.00</td>\n      <td>0.0</td>\n      <td>5.20</td>\n      <td>...</td>\n      <td>11524.42800</td>\n      <td>2.98</td>\n      <td>4219.999790</td>\n      <td>NaN</td>\n      <td>3.354289</td>\n      <td>4114.134899</td>\n      <td>105</td>\n      <td>28,748</td>\n      <td>41.153332</td>\n      <td>20.168331</td>\n    </tr>\n    <tr>\n      <th>31</th>\n      <td>Albania</td>\n      <td>2010</td>\n      <td>100.000000</td>\n      <td>66.50</td>\n      <td>NaN</td>\n      <td>NaN</td>\n      <td>NaN</td>\n      <td>0.00</td>\n      <td>0.0</td>\n      <td>7.49</td>\n      <td>...</td>\n      <td>12377.50400</td>\n      <td>2.85</td>\n      <td>4449.999809</td>\n      <td>NaN</td>\n      <td>3.706938</td>\n      <td>4094.348386</td>\n      <td>105</td>\n      <td>28,748</td>\n      <td>41.153332</td>\n      <td>20.168331</td>\n    </tr>\n    <tr>\n      <th>32</th>\n      <td>Albania</td>\n      <td>2011</td>\n      <td>100.000000</td>\n      <td>68.90</td>\n      <td>NaN</td>\n      <td>NaN</td>\n      <td>NaN</td>\n      <td>0.06</td>\n      <td>0.0</td>\n      <td>4.09</td>\n      <td>...</td>\n      <td>10854.64900</td>\n      <td>2.91</td>\n      <td>4849.999905</td>\n      <td>NaN</td>\n      <td>2.545406</td>\n      <td>4437.142612</td>\n      <td>105</td>\n      <td>28,748</td>\n      <td>41.153332</td>\n      <td>20.168331</td>\n    </tr>\n    <tr>\n      <th>33</th>\n      <td>Albania</td>\n      <td>2012</td>\n      <td>99.900000</td>\n      <td>71.30</td>\n      <td>NaN</td>\n      <td>NaN</td>\n      <td>NaN</td>\n      <td>0.00</td>\n      <td>0.0</td>\n      <td>4.68</td>\n      <td>...</td>\n      <td>10652.80900</td>\n      <td>2.57</td>\n      <td>4360.000134</td>\n      <td>NaN</td>\n      <td>1.417243</td>\n      <td>4247.630047</td>\n      <td>105</td>\n      <td>28,748</td>\n      <td>41.153332</td>\n      <td>20.168331</td>\n    </tr>\n    <tr>\n      <th>34</th>\n      <td>Albania</td>\n      <td>2013</td>\n      <td>100.000000</td>\n      <td>73.15</td>\n      <td>NaN</td>\n      <td>NaN</td>\n      <td>NaN</td>\n      <td>0.00</td>\n      <td>0.0</td>\n      <td>6.89</td>\n      <td>...</td>\n      <td>13392.77400</td>\n      <td>2.96</td>\n      <td>4440.000057</td>\n      <td>NaN</td>\n      <td>1.002018</td>\n      <td>4413.062005</td>\n      <td>105</td>\n      <td>28,748</td>\n      <td>41.153332</td>\n      <td>20.168331</td>\n    </tr>\n    <tr>\n      <th>35</th>\n      <td>Albania</td>\n      <td>2014</td>\n      <td>99.950000</td>\n      <td>74.60</td>\n      <td>NaN</td>\n      <td>NaN</td>\n      <td>NaN</td>\n      <td>0.00</td>\n      <td>0.0</td>\n      <td>4.68</td>\n      <td>...</td>\n      <td>11809.46100</td>\n      <td>2.93</td>\n      <td>4820.000172</td>\n      <td>NaN</td>\n      <td>1.774449</td>\n      <td>4578.633208</td>\n      <td>105</td>\n      <td>28,748</td>\n      <td>41.153332</td>\n      <td>20.168331</td>\n    </tr>\n    <tr>\n      <th>36</th>\n      <td>Albania</td>\n      <td>2015</td>\n      <td>99.980000</td>\n      <td>76.20</td>\n      <td>NaN</td>\n      <td>NaN</td>\n      <td>NaN</td>\n      <td>0.00</td>\n      <td>0.0</td>\n      <td>5.84</td>\n      <td>...</td>\n      <td>11824.31400</td>\n      <td>2.69</td>\n      <td>4619.999886</td>\n      <td>NaN</td>\n      <td>2.218726</td>\n      <td>3952.802538</td>\n      <td>105</td>\n      <td>28,748</td>\n      <td>41.153332</td>\n      <td>20.168331</td>\n    </tr>\n    <tr>\n      <th>37</th>\n      <td>Albania</td>\n      <td>2016</td>\n      <td>99.890000</td>\n      <td>77.80</td>\n      <td>NaN</td>\n      <td>NaN</td>\n      <td>NaN</td>\n      <td>0.00</td>\n      <td>0.0</td>\n      <td>7.70</td>\n      <td>...</td>\n      <td>13823.74800</td>\n      <td>2.68</td>\n      <td>4480.000019</td>\n      <td>NaN</td>\n      <td>3.314981</td>\n      <td>4124.055390</td>\n      <td>105</td>\n      <td>28,748</td>\n      <td>41.153332</td>\n      <td>20.168331</td>\n    </tr>\n    <tr>\n      <th>38</th>\n      <td>Albania</td>\n      <td>2017</td>\n      <td>99.890000</td>\n      <td>78.70</td>\n      <td>NaN</td>\n      <td>NaN</td>\n      <td>NaN</td>\n      <td>0.00</td>\n      <td>0.0</td>\n      <td>4.48</td>\n      <td>...</td>\n      <td>12802.36000</td>\n      <td>2.69</td>\n      <td>5139.999866</td>\n      <td>NaN</td>\n      <td>3.802227</td>\n      <td>4531.019374</td>\n      <td>105</td>\n      <td>28,748</td>\n      <td>41.153332</td>\n      <td>20.168331</td>\n    </tr>\n    <tr>\n      <th>39</th>\n      <td>Albania</td>\n      <td>2018</td>\n      <td>100.000000</td>\n      <td>79.80</td>\n      <td>NaN</td>\n      <td>NaN</td>\n      <td>NaN</td>\n      <td>0.00</td>\n      <td>0.0</td>\n      <td>8.47</td>\n      <td>...</td>\n      <td>14609.70100</td>\n      <td>2.57</td>\n      <td>5110.000134</td>\n      <td>NaN</td>\n      <td>4.019360</td>\n      <td>5287.663694</td>\n      <td>105</td>\n      <td>28,748</td>\n      <td>41.153332</td>\n      <td>20.168331</td>\n    </tr>\n    <tr>\n      <th>40</th>\n      <td>Albania</td>\n      <td>2019</td>\n      <td>100.000000</td>\n      <td>80.70</td>\n      <td>NaN</td>\n      <td>NaN</td>\n      <td>NaN</td>\n      <td>0.00</td>\n      <td>0.0</td>\n      <td>5.17</td>\n      <td>...</td>\n      <td>11585.55500</td>\n      <td>2.50</td>\n      <td>4829.999924</td>\n      <td>NaN</td>\n      <td>2.113420</td>\n      <td>5395.659532</td>\n      <td>105</td>\n      <td>28,748</td>\n      <td>41.153332</td>\n      <td>20.168331</td>\n    </tr>\n    <tr>\n      <th>41</th>\n      <td>Albania</td>\n      <td>2020</td>\n      <td>100.000000</td>\n      <td>81.30</td>\n      <td>NaN</td>\n      <td>NaN</td>\n      <td>NaN</td>\n      <td>0.00</td>\n      <td>0.0</td>\n      <td>5.31</td>\n      <td>...</td>\n      <td>11158.00300</td>\n      <td>NaN</td>\n      <td>NaN</td>\n      <td>NaN</td>\n      <td>-3.955398</td>\n      <td>5246.292306</td>\n      <td>105</td>\n      <td>28,748</td>\n      <td>41.153332</td>\n      <td>20.168331</td>\n    </tr>\n    <tr>\n      <th>42</th>\n      <td>Algeria</td>\n      <td>2000</td>\n      <td>98.973100</td>\n      <td>97.10</td>\n      <td>8.91</td>\n      <td>NaN</td>\n      <td>0.43</td>\n      <td>23.84</td>\n      <td>0.0</td>\n      <td>0.05</td>\n      <td>...</td>\n      <td>9746.52400</td>\n      <td>4.18</td>\n      <td>80050.000000</td>\n      <td>0.053235</td>\n      <td>3.800000</td>\n      <td>1765.027146</td>\n      <td>18</td>\n      <td>23,81,741</td>\n      <td>28.033886</td>\n      <td>1.659626</td>\n    </tr>\n    <tr>\n      <th>43</th>\n      <td>Algeria</td>\n      <td>2001</td>\n      <td>98.966870</td>\n      <td>97.30</td>\n      <td>8.79</td>\n      <td>810000.0</td>\n      <td>0.43</td>\n      <td>24.96</td>\n      <td>0.0</td>\n      <td>0.07</td>\n      <td>...</td>\n      <td>9961.64000</td>\n      <td>4.07</td>\n      <td>78650.000000</td>\n      <td>0.065218</td>\n      <td>3.000000</td>\n      <td>1740.606654</td>\n      <td>18</td>\n      <td>23,81,741</td>\n      <td>28.033886</td>\n      <td>1.659626</td>\n    </tr>\n    <tr>\n      <th>44</th>\n      <td>Algeria</td>\n      <td>2002</td>\n      <td>98.953060</td>\n      <td>97.80</td>\n      <td>8.68</td>\n      <td>310000.0</td>\n      <td>0.51</td>\n      <td>25.94</td>\n      <td>0.0</td>\n      <td>0.06</td>\n      <td>...</td>\n      <td>10180.35000</td>\n      <td>4.12</td>\n      <td>82400.001530</td>\n      <td>0.051677</td>\n      <td>5.600000</td>\n      <td>1781.828908</td>\n      <td>18</td>\n      <td>23,81,741</td>\n      <td>28.033886</td>\n      <td>1.659626</td>\n    </tr>\n  </tbody>\n</table>\n<p>45 rows × 21 columns</p>\n</div>"
     },
     "execution_count": 471,
     "metadata": {},
     "output_type": "execute_result"
    }
   ],
   "source": [
    "df = pd.read_csv(\"ENERGY_data.csv\")\n",
    "energy_data = df\n",
    "# To display the top 42 rows\n",
    "energy_data.head(45)"
   ],
   "metadata": {
    "collapsed": false,
    "ExecuteTime": {
     "end_time": "2024-01-21T22:00:43.281338300Z",
     "start_time": "2024-01-21T22:00:43.146627200Z"
    }
   }
  },
  {
   "cell_type": "code",
   "execution_count": 472,
   "outputs": [
    {
     "name": "stdout",
     "output_type": "stream",
     "text": [
      "<class 'pandas.core.frame.DataFrame'>\n",
      "RangeIndex: 3649 entries, 0 to 3648\n",
      "Data columns (total 21 columns):\n",
      " #   Column                                                            Non-Null Count  Dtype  \n",
      "---  ------                                                            --------------  -----  \n",
      " 0   Entity                                                            3649 non-null   object \n",
      " 1   Year                                                              3649 non-null   int64  \n",
      " 2   Access to electricity (% of population)                           3639 non-null   float64\n",
      " 3   Access to clean fuels for cooking                                 3480 non-null   float64\n",
      " 4   Renewable-electricity-generating-capacity-per-capita              2718 non-null   float64\n",
      " 5   Financial flows to developing countries (US $)                    1560 non-null   float64\n",
      " 6   Renewable energy share in the total final energy consumption (%)  3455 non-null   float64\n",
      " 7   Electricity from fossil fuels (TWh)                               3628 non-null   float64\n",
      " 8   Electricity from nuclear (TWh)                                    3523 non-null   float64\n",
      " 9   Electricity from renewables (TWh)                                 3628 non-null   float64\n",
      " 10  Low-carbon electricity (% electricity)                            3607 non-null   float64\n",
      " 11  Primary energy consumption per capita (kWh/person)                3649 non-null   float64\n",
      " 12  Energy intensity level of primary energy (MJ/$2017 PPP GDP)       3442 non-null   float64\n",
      " 13  Value_co2_emissions_kt_by_country                                 3221 non-null   float64\n",
      " 14  Renewables (% equivalent primary energy)                          1512 non-null   float64\n",
      " 15  gdp_growth                                                        3332 non-null   float64\n",
      " 16  gdp_per_capita                                                    3367 non-null   float64\n",
      " 17  Density\\n(P/Km2)                                                  3648 non-null   object \n",
      " 18  Land Area(Km2)                                                    3648 non-null   object \n",
      " 19  Latitude                                                          3648 non-null   float64\n",
      " 20  Longitude                                                         3648 non-null   float64\n",
      "dtypes: float64(17), int64(1), object(3)\n",
      "memory usage: 598.8+ KB\n"
     ]
    }
   ],
   "source": [
    "#Checking null values and types of the parameters\n",
    "energy_data.info()"
   ],
   "metadata": {
    "collapsed": false,
    "ExecuteTime": {
     "end_time": "2024-01-21T22:00:43.924838600Z",
     "start_time": "2024-01-21T22:00:43.397294900Z"
    }
   }
  },
  {
   "cell_type": "code",
   "execution_count": 473,
   "outputs": [
    {
     "data": {
      "text/plain": "                                                     count          mean  \\\nYear                                                3649.0  2.010038e+03   \nAccess to electricity (% of population)             3639.0  7.893370e+01   \nAccess to clean fuels for cooking                   3480.0  6.325529e+01   \nRenewable-electricity-generating-capacity-per-c...  2718.0  1.131375e+02   \nFinancial flows to developing countries (US $)      1560.0  9.422400e+07   \nRenewable energy share in the total final energ...  3455.0  3.263816e+01   \nElectricity from fossil fuels (TWh)                 3628.0  7.036500e+01   \nElectricity from nuclear (TWh)                      3523.0  1.345019e+01   \nElectricity from renewables (TWh)                   3628.0  2.396801e+01   \nLow-carbon electricity (% electricity)              3607.0  3.680118e+01   \nPrimary energy consumption per capita (kWh/person)  3649.0  2.574398e+04   \nEnergy intensity level of primary energy (MJ/$2...  3442.0  5.307345e+00   \nValue_co2_emissions_kt_by_country                   3221.0  1.598665e+05   \nRenewables (% equivalent primary energy)            1512.0  1.198671e+01   \ngdp_growth                                          3332.0  3.441610e+00   \ngdp_per_capita                                      3367.0  1.328377e+04   \nLatitude                                            3648.0  1.824639e+01   \nLongitude                                           3648.0  1.482269e+01   \n\n                                                             std          min  \\\nYear                                                6.054228e+00  2000.000000   \nAccess to electricity (% of population)             3.027554e+01     1.252269   \nAccess to clean fuels for cooking                   3.904366e+01     0.000000   \nRenewable-electricity-generating-capacity-per-c...  2.441673e+02     0.000000   \nFinancial flows to developing countries (US $)      2.981544e+08     0.000000   \nRenewable energy share in the total final energ...  2.989490e+01     0.000000   \nElectricity from fossil fuels (TWh)                 3.480519e+02     0.000000   \nElectricity from nuclear (TWh)                      7.300662e+01     0.000000   \nElectricity from renewables (TWh)                   1.044311e+02     0.000000   \nLow-carbon electricity (% electricity)              3.431488e+01     0.000000   \nPrimary energy consumption per capita (kWh/person)  3.477322e+04     0.000000   \nEnergy intensity level of primary energy (MJ/$2...  3.532020e+00     0.110000   \nValue_co2_emissions_kt_by_country                   7.736611e+05    10.000000   \nRenewables (% equivalent primary energy)            1.499464e+01     0.000000   \ngdp_growth                                          5.686720e+00   -62.075920   \ngdp_per_capita                                      1.970987e+04   111.927225   \nLatitude                                            2.415923e+01   -40.900557   \nLongitude                                           6.634815e+01  -175.198242   \n\n                                                              25%  \\\nYear                                                  2005.000000   \nAccess to electricity (% of population)                 59.800890   \nAccess to clean fuels for cooking                       23.175000   \nRenewable-electricity-generating-capacity-per-c...       3.540000   \nFinancial flows to developing countries (US $)      260000.000000   \nRenewable energy share in the total final energ...       6.515000   \nElectricity from fossil fuels (TWh)                      0.290000   \nElectricity from nuclear (TWh)                           0.000000   \nElectricity from renewables (TWh)                        0.040000   \nLow-carbon electricity (% electricity)                   2.877847   \nPrimary energy consumption per capita (kWh/person)    3116.737300   \nEnergy intensity level of primary energy (MJ/$2...       3.170000   \nValue_co2_emissions_kt_by_country                     2019.999981   \nRenewables (% equivalent primary energy)                 2.137095   \ngdp_growth                                               1.383302   \ngdp_per_capita                                        1337.813437   \nLatitude                                                 3.202778   \nLongitude                                              -11.779889   \n\n                                                             50%  \\\nYear                                                2.010000e+03   \nAccess to electricity (% of population)             9.836157e+01   \nAccess to clean fuels for cooking                   8.315000e+01   \nRenewable-electricity-generating-capacity-per-c...  3.291000e+01   \nFinancial flows to developing countries (US $)      5.665000e+06   \nRenewable energy share in the total final energ...  2.330000e+01   \nElectricity from fossil fuels (TWh)                 2.970000e+00   \nElectricity from nuclear (TWh)                      0.000000e+00   \nElectricity from renewables (TWh)                   1.470000e+00   \nLow-carbon electricity (% electricity)              2.786507e+01   \nPrimary energy consumption per capita (kWh/person)  1.312057e+04   \nEnergy intensity level of primary energy (MJ/$2...  4.300000e+00   \nValue_co2_emissions_kt_by_country                   1.050000e+04   \nRenewables (% equivalent primary energy)            6.290766e+00   \ngdp_growth                                          3.559855e+00   \ngdp_per_capita                                      4.578633e+03   \nLatitude                                            1.718988e+01   \nLongitude                                           1.914514e+01   \n\n                                                             75%           max  \nYear                                                2.015000e+03  2.020000e+03  \nAccess to electricity (% of population)             1.000000e+02  1.000000e+02  \nAccess to clean fuels for cooking                   1.000000e+02  1.000000e+02  \nRenewable-electricity-generating-capacity-per-c...  1.122100e+02  3.060190e+03  \nFinancial flows to developing countries (US $)      5.534750e+07  5.202310e+09  \nRenewable energy share in the total final energ...  5.524500e+01  9.604000e+01  \nElectricity from fossil fuels (TWh)                 2.683750e+01  5.184130e+03  \nElectricity from nuclear (TWh)                      0.000000e+00  8.094100e+02  \nElectricity from renewables (TWh)                   9.600000e+00  2.184940e+03  \nLow-carbon electricity (% electricity)              6.440379e+01  1.000000e+02  \nPrimary energy consumption per capita (kWh/person)  3.389278e+04  2.625857e+05  \nEnergy intensity level of primary energy (MJ/$2...  6.027500e+00  3.257000e+01  \nValue_co2_emissions_kt_by_country                   6.058000e+04  1.070722e+07  \nRenewables (% equivalent primary energy)            1.684164e+01  8.683659e+01  \ngdp_growth                                          5.830099e+00  1.231396e+02  \ngdp_per_capita                                      1.576862e+04  1.235142e+05  \nLatitude                                            3.896972e+01  6.496305e+01  \nLongitude                                           4.619962e+01  1.780650e+02  ",
      "text/html": "<div>\n<style scoped>\n    .dataframe tbody tr th:only-of-type {\n        vertical-align: middle;\n    }\n\n    .dataframe tbody tr th {\n        vertical-align: top;\n    }\n\n    .dataframe thead th {\n        text-align: right;\n    }\n</style>\n<table border=\"1\" class=\"dataframe\">\n  <thead>\n    <tr style=\"text-align: right;\">\n      <th></th>\n      <th>count</th>\n      <th>mean</th>\n      <th>std</th>\n      <th>min</th>\n      <th>25%</th>\n      <th>50%</th>\n      <th>75%</th>\n      <th>max</th>\n    </tr>\n  </thead>\n  <tbody>\n    <tr>\n      <th>Year</th>\n      <td>3649.0</td>\n      <td>2.010038e+03</td>\n      <td>6.054228e+00</td>\n      <td>2000.000000</td>\n      <td>2005.000000</td>\n      <td>2.010000e+03</td>\n      <td>2.015000e+03</td>\n      <td>2.020000e+03</td>\n    </tr>\n    <tr>\n      <th>Access to electricity (% of population)</th>\n      <td>3639.0</td>\n      <td>7.893370e+01</td>\n      <td>3.027554e+01</td>\n      <td>1.252269</td>\n      <td>59.800890</td>\n      <td>9.836157e+01</td>\n      <td>1.000000e+02</td>\n      <td>1.000000e+02</td>\n    </tr>\n    <tr>\n      <th>Access to clean fuels for cooking</th>\n      <td>3480.0</td>\n      <td>6.325529e+01</td>\n      <td>3.904366e+01</td>\n      <td>0.000000</td>\n      <td>23.175000</td>\n      <td>8.315000e+01</td>\n      <td>1.000000e+02</td>\n      <td>1.000000e+02</td>\n    </tr>\n    <tr>\n      <th>Renewable-electricity-generating-capacity-per-capita</th>\n      <td>2718.0</td>\n      <td>1.131375e+02</td>\n      <td>2.441673e+02</td>\n      <td>0.000000</td>\n      <td>3.540000</td>\n      <td>3.291000e+01</td>\n      <td>1.122100e+02</td>\n      <td>3.060190e+03</td>\n    </tr>\n    <tr>\n      <th>Financial flows to developing countries (US $)</th>\n      <td>1560.0</td>\n      <td>9.422400e+07</td>\n      <td>2.981544e+08</td>\n      <td>0.000000</td>\n      <td>260000.000000</td>\n      <td>5.665000e+06</td>\n      <td>5.534750e+07</td>\n      <td>5.202310e+09</td>\n    </tr>\n    <tr>\n      <th>Renewable energy share in the total final energy consumption (%)</th>\n      <td>3455.0</td>\n      <td>3.263816e+01</td>\n      <td>2.989490e+01</td>\n      <td>0.000000</td>\n      <td>6.515000</td>\n      <td>2.330000e+01</td>\n      <td>5.524500e+01</td>\n      <td>9.604000e+01</td>\n    </tr>\n    <tr>\n      <th>Electricity from fossil fuels (TWh)</th>\n      <td>3628.0</td>\n      <td>7.036500e+01</td>\n      <td>3.480519e+02</td>\n      <td>0.000000</td>\n      <td>0.290000</td>\n      <td>2.970000e+00</td>\n      <td>2.683750e+01</td>\n      <td>5.184130e+03</td>\n    </tr>\n    <tr>\n      <th>Electricity from nuclear (TWh)</th>\n      <td>3523.0</td>\n      <td>1.345019e+01</td>\n      <td>7.300662e+01</td>\n      <td>0.000000</td>\n      <td>0.000000</td>\n      <td>0.000000e+00</td>\n      <td>0.000000e+00</td>\n      <td>8.094100e+02</td>\n    </tr>\n    <tr>\n      <th>Electricity from renewables (TWh)</th>\n      <td>3628.0</td>\n      <td>2.396801e+01</td>\n      <td>1.044311e+02</td>\n      <td>0.000000</td>\n      <td>0.040000</td>\n      <td>1.470000e+00</td>\n      <td>9.600000e+00</td>\n      <td>2.184940e+03</td>\n    </tr>\n    <tr>\n      <th>Low-carbon electricity (% electricity)</th>\n      <td>3607.0</td>\n      <td>3.680118e+01</td>\n      <td>3.431488e+01</td>\n      <td>0.000000</td>\n      <td>2.877847</td>\n      <td>2.786507e+01</td>\n      <td>6.440379e+01</td>\n      <td>1.000000e+02</td>\n    </tr>\n    <tr>\n      <th>Primary energy consumption per capita (kWh/person)</th>\n      <td>3649.0</td>\n      <td>2.574398e+04</td>\n      <td>3.477322e+04</td>\n      <td>0.000000</td>\n      <td>3116.737300</td>\n      <td>1.312057e+04</td>\n      <td>3.389278e+04</td>\n      <td>2.625857e+05</td>\n    </tr>\n    <tr>\n      <th>Energy intensity level of primary energy (MJ/$2017 PPP GDP)</th>\n      <td>3442.0</td>\n      <td>5.307345e+00</td>\n      <td>3.532020e+00</td>\n      <td>0.110000</td>\n      <td>3.170000</td>\n      <td>4.300000e+00</td>\n      <td>6.027500e+00</td>\n      <td>3.257000e+01</td>\n    </tr>\n    <tr>\n      <th>Value_co2_emissions_kt_by_country</th>\n      <td>3221.0</td>\n      <td>1.598665e+05</td>\n      <td>7.736611e+05</td>\n      <td>10.000000</td>\n      <td>2019.999981</td>\n      <td>1.050000e+04</td>\n      <td>6.058000e+04</td>\n      <td>1.070722e+07</td>\n    </tr>\n    <tr>\n      <th>Renewables (% equivalent primary energy)</th>\n      <td>1512.0</td>\n      <td>1.198671e+01</td>\n      <td>1.499464e+01</td>\n      <td>0.000000</td>\n      <td>2.137095</td>\n      <td>6.290766e+00</td>\n      <td>1.684164e+01</td>\n      <td>8.683659e+01</td>\n    </tr>\n    <tr>\n      <th>gdp_growth</th>\n      <td>3332.0</td>\n      <td>3.441610e+00</td>\n      <td>5.686720e+00</td>\n      <td>-62.075920</td>\n      <td>1.383302</td>\n      <td>3.559855e+00</td>\n      <td>5.830099e+00</td>\n      <td>1.231396e+02</td>\n    </tr>\n    <tr>\n      <th>gdp_per_capita</th>\n      <td>3367.0</td>\n      <td>1.328377e+04</td>\n      <td>1.970987e+04</td>\n      <td>111.927225</td>\n      <td>1337.813437</td>\n      <td>4.578633e+03</td>\n      <td>1.576862e+04</td>\n      <td>1.235142e+05</td>\n    </tr>\n    <tr>\n      <th>Latitude</th>\n      <td>3648.0</td>\n      <td>1.824639e+01</td>\n      <td>2.415923e+01</td>\n      <td>-40.900557</td>\n      <td>3.202778</td>\n      <td>1.718988e+01</td>\n      <td>3.896972e+01</td>\n      <td>6.496305e+01</td>\n    </tr>\n    <tr>\n      <th>Longitude</th>\n      <td>3648.0</td>\n      <td>1.482269e+01</td>\n      <td>6.634815e+01</td>\n      <td>-175.198242</td>\n      <td>-11.779889</td>\n      <td>1.914514e+01</td>\n      <td>4.619962e+01</td>\n      <td>1.780650e+02</td>\n    </tr>\n  </tbody>\n</table>\n</div>"
     },
     "execution_count": 473,
     "metadata": {},
     "output_type": "execute_result"
    }
   ],
   "source": [
    "#Checking descriptive analytics of the numerical parameters\n",
    "energy_data.describe().T"
   ],
   "metadata": {
    "collapsed": false,
    "ExecuteTime": {
     "end_time": "2024-01-21T22:00:43.982214900Z",
     "start_time": "2024-01-21T22:00:43.466044600Z"
    }
   }
  },
  {
   "cell_type": "markdown",
   "source": [
    "## 4. Renaming columns and dropping columns"
   ],
   "metadata": {
    "collapsed": false
   }
  },
  {
   "cell_type": "code",
   "execution_count": 474,
   "outputs": [],
   "source": [
    "#Adding \"_\" lower case to headers to easy hanlde\n",
    "energy_data.columns = energy_data.columns.str.lower().str.replace(\" \", \"_\")"
   ],
   "metadata": {
    "collapsed": false,
    "ExecuteTime": {
     "end_time": "2024-01-21T22:00:44.351493300Z",
     "start_time": "2024-01-21T22:00:43.913120900Z"
    }
   }
  },
  {
   "cell_type": "code",
   "execution_count": 475,
   "outputs": [],
   "source": [
    "#Renaming headers to easu handle titles\n",
    "energy_data = energy_data.rename({'entity':'country','access_to_electricity_(%_of_population)':'access_electricity(%)','access_to_clean_fuels_for_cooking':'access_cleaning_flues_cooking','renewable-electricity-generating-capacity-per-capita':'renewal_electricity_capacity(per person)','financial_flows_to_developing_countries_(us_$)':'financial_flows($)','renewable_energy_share_in_the_total_final_energy_consumption_(%)':'renewable_energy(%)','electricity_from_fossil_fuels_(twh)':'electricity_fossil_fuels(twh)','electricity_from_nuclear_(twh)':'electricity_nuclear','electricity_from_renewables_(twh)':'electricity_from_renewals','low-carbon_electricity_(%_electricity)':'electricity_low_carbon(%)','primary_energy_consumption_per_capita_(kwh/person)':'primary_energy_consumption(kwh/person)','energy_intensity_level_of_primary_energy_(mj/$2017_ppp_gdp)':'primary_energy_intensity','value_co2_emissions_kt_by_country':'co2_emissions','renewables_(%_equivalent_primary_energy)':'renewables','density\\\\n(p/km2)':'density','land_area(km2)':'land_area'},axis = 1)"
   ],
   "metadata": {
    "collapsed": false,
    "ExecuteTime": {
     "end_time": "2024-01-21T22:00:44.667291300Z",
     "start_time": "2024-01-21T22:00:44.089125200Z"
    }
   }
  },
  {
   "cell_type": "code",
   "execution_count": 476,
   "outputs": [
    {
     "data": {
      "text/plain": "     land_area density\n0     6,52,230      60\n1     6,52,230      60\n2     6,52,230      60\n3     6,52,230      60\n4     6,52,230      60\n...        ...     ...\n3644  3,90,757      38\n3645  3,90,757      38\n3646  3,90,757      38\n3647  3,90,757      38\n3648  3,90,757      38\n\n[3649 rows x 2 columns]",
      "text/html": "<div>\n<style scoped>\n    .dataframe tbody tr th:only-of-type {\n        vertical-align: middle;\n    }\n\n    .dataframe tbody tr th {\n        vertical-align: top;\n    }\n\n    .dataframe thead th {\n        text-align: right;\n    }\n</style>\n<table border=\"1\" class=\"dataframe\">\n  <thead>\n    <tr style=\"text-align: right;\">\n      <th></th>\n      <th>land_area</th>\n      <th>density</th>\n    </tr>\n  </thead>\n  <tbody>\n    <tr>\n      <th>0</th>\n      <td>6,52,230</td>\n      <td>60</td>\n    </tr>\n    <tr>\n      <th>1</th>\n      <td>6,52,230</td>\n      <td>60</td>\n    </tr>\n    <tr>\n      <th>2</th>\n      <td>6,52,230</td>\n      <td>60</td>\n    </tr>\n    <tr>\n      <th>3</th>\n      <td>6,52,230</td>\n      <td>60</td>\n    </tr>\n    <tr>\n      <th>4</th>\n      <td>6,52,230</td>\n      <td>60</td>\n    </tr>\n    <tr>\n      <th>...</th>\n      <td>...</td>\n      <td>...</td>\n    </tr>\n    <tr>\n      <th>3644</th>\n      <td>3,90,757</td>\n      <td>38</td>\n    </tr>\n    <tr>\n      <th>3645</th>\n      <td>3,90,757</td>\n      <td>38</td>\n    </tr>\n    <tr>\n      <th>3646</th>\n      <td>3,90,757</td>\n      <td>38</td>\n    </tr>\n    <tr>\n      <th>3647</th>\n      <td>3,90,757</td>\n      <td>38</td>\n    </tr>\n    <tr>\n      <th>3648</th>\n      <td>3,90,757</td>\n      <td>38</td>\n    </tr>\n  </tbody>\n</table>\n<p>3649 rows × 2 columns</p>\n</div>"
     },
     "execution_count": 476,
     "metadata": {},
     "output_type": "execute_result"
    }
   ],
   "source": [
    "#Showing data of 'Land Area' and 'Density' as they have different type of data\n",
    "energy_data[['land_area','density']]"
   ],
   "metadata": {
    "collapsed": false,
    "ExecuteTime": {
     "end_time": "2024-01-21T22:00:45.193650400Z",
     "start_time": "2024-01-21T22:00:44.235754800Z"
    }
   }
  },
  {
   "cell_type": "code",
   "execution_count": 477,
   "outputs": [],
   "source": [
    "#Removing the comma from the numbers and then converting tu a numerica value\n",
    "energy_data['land_area'] = energy_data['land_area'].str.replace(',', '')\n",
    "energy_data['land_area'] = pd.to_numeric(energy_data['land_area'])"
   ],
   "metadata": {
    "collapsed": false,
    "ExecuteTime": {
     "end_time": "2024-01-21T22:00:45.537324200Z",
     "start_time": "2024-01-21T22:00:44.522635Z"
    }
   }
  },
  {
   "cell_type": "code",
   "execution_count": 478,
   "outputs": [],
   "source": [
    "#Removing the comma from the numbers and then converting tu a numerica value\n",
    "energy_data['density'] = energy_data['density'].str.replace(',', '')\n",
    "energy_data['density'] = pd.to_numeric(energy_data['density'])"
   ],
   "metadata": {
    "collapsed": false,
    "ExecuteTime": {
     "end_time": "2024-01-21T22:00:45.769015200Z",
     "start_time": "2024-01-21T22:00:44.583034700Z"
    }
   }
  },
  {
   "cell_type": "code",
   "execution_count": 479,
   "outputs": [
    {
     "name": "stdout",
     "output_type": "stream",
     "text": [
      "<class 'pandas.core.frame.DataFrame'>\n",
      "RangeIndex: 3649 entries, 0 to 3648\n",
      "Data columns (total 21 columns):\n",
      " #   Column                                    Non-Null Count  Dtype  \n",
      "---  ------                                    --------------  -----  \n",
      " 0   country                                   3649 non-null   object \n",
      " 1   year                                      3649 non-null   int64  \n",
      " 2   access_electricity(%)                     3639 non-null   float64\n",
      " 3   access_cleaning_flues_cooking             3480 non-null   float64\n",
      " 4   renewal_electricity_capacity(per person)  2718 non-null   float64\n",
      " 5   financial_flows($)                        1560 non-null   float64\n",
      " 6   renewable_energy(%)                       3455 non-null   float64\n",
      " 7   electricity_fossil_fuels(twh)             3628 non-null   float64\n",
      " 8   electricity_nuclear                       3523 non-null   float64\n",
      " 9   electricity_from_renewals                 3628 non-null   float64\n",
      " 10  electricity_low_carbon(%)                 3607 non-null   float64\n",
      " 11  primary_energy_consumption(kwh/person)    3649 non-null   float64\n",
      " 12  primary_energy_intensity                  3442 non-null   float64\n",
      " 13  co2_emissions                             3221 non-null   float64\n",
      " 14  renewables                                1512 non-null   float64\n",
      " 15  gdp_growth                                3332 non-null   float64\n",
      " 16  gdp_per_capita                            3367 non-null   float64\n",
      " 17  density                                   3648 non-null   float64\n",
      " 18  land_area                                 3648 non-null   float64\n",
      " 19  latitude                                  3648 non-null   float64\n",
      " 20  longitude                                 3648 non-null   float64\n",
      "dtypes: float64(19), int64(1), object(1)\n",
      "memory usage: 598.8+ KB\n"
     ]
    }
   ],
   "source": [
    "#Checking all the parameters have the correct type of data\n",
    "energy_data.info()"
   ],
   "metadata": {
    "collapsed": false,
    "ExecuteTime": {
     "end_time": "2024-01-21T22:00:46.069495200Z",
     "start_time": "2024-01-21T22:00:44.983532300Z"
    }
   }
  },
  {
   "cell_type": "code",
   "execution_count": 480,
   "outputs": [
    {
     "data": {
      "text/plain": "country\nSerbia           14\nMontenegro       14\nSouth Sudan       8\nFrench Guiana     1\nName: count, dtype: int64"
     },
     "execution_count": 480,
     "metadata": {},
     "output_type": "execute_result"
    }
   ],
   "source": [
    "#Checking if all the countries have 21 years\n",
    "count_country = energy_data['country'].value_counts()\n",
    "count_country[count_country != 21]"
   ],
   "metadata": {
    "collapsed": false,
    "ExecuteTime": {
     "end_time": "2024-01-21T22:00:46.382350600Z",
     "start_time": "2024-01-21T22:00:45.052357500Z"
    }
   }
  },
  {
   "cell_type": "code",
   "execution_count": 481,
   "outputs": [],
   "source": [
    "#Creating a subset of Serbia/Montenegro COuntries\n",
    "serbia = energy_data[energy_data['country'] == 'Serbia']\n",
    "montenegro = energy_data[energy_data['country'] == 'Montenegro']"
   ],
   "metadata": {
    "collapsed": false,
    "ExecuteTime": {
     "end_time": "2024-01-21T22:00:46.454557900Z",
     "start_time": "2024-01-21T22:00:45.183922300Z"
    }
   }
  },
  {
   "cell_type": "code",
   "execution_count": 482,
   "outputs": [],
   "source": [
    "#Drop the whole Country \"South Sudan\" and \"French Guinea\" as they don't have enough data\n",
    "energy_data = energy_data.drop(energy_data[energy_data['country'] == 'French Guiana'].index)\n",
    "energy_data = energy_data.drop(energy_data[energy_data['country'] == 'South Sudan'].index)\n",
    "energy_data = energy_data.drop(energy_data[energy_data['country'] == 'Serbia'].index)\n",
    "energy_data = energy_data.drop(energy_data[energy_data['country'] == 'Montenegro'].index)"
   ],
   "metadata": {
    "collapsed": false,
    "ExecuteTime": {
     "end_time": "2024-01-21T22:00:46.766550500Z",
     "start_time": "2024-01-21T22:00:45.337203800Z"
    }
   }
  },
  {
   "cell_type": "code",
   "execution_count": 483,
   "outputs": [],
   "source": [
    "#Adding the 6 years missing to both countries \n",
    "years = [0,1,2,3,4,5,6]\n",
    "new_row = [0,1,2,3,4,5,6]\n",
    "for i in years:\n",
    "    new_row[i] = {'country':'Serbia',\n",
    "           'year':i+2000,\n",
    "           'access_electricity':0, \n",
    "           'access_cooking_fuels':0, \n",
    "           'renewal_electricity_capacity':0,\n",
    "           'financial_flows':0,\n",
    "           'renewable_energy_share':0,\n",
    "           'electricity_fossil_fuels':0,\n",
    "           'electricity_nuclear':0,\n",
    "           'electricity_renewals':0,\n",
    "           'electricity_low_carbon':0,\n",
    "           'primary_energy_consumption':0,\n",
    "           'energy_level':0,\n",
    "           'co2_emissions':0,\n",
    "           'renewals':0,\n",
    "           'gdp_growth':0,\n",
    "           'gdp_per_capita':0,\n",
    "           'density':0,\n",
    "           'latitude':0,\n",
    "           'longitude':0,\n",
    "           'gdp_growth':0}\n",
    "    serbia.loc[i] = new_row[i]\n",
    "\n",
    "for i in years:\n",
    "    new_row[i] = {'country':'Montenegro',\n",
    "           'year':i+2000,\n",
    "           'access_electricity':0, \n",
    "           'access_cooking_fuels':0, \n",
    "           'renewal_electricity_capacity':0,\n",
    "           'financial_flows':0,\n",
    "           'renewable_energy_share':0,\n",
    "           'electricity_fossil_fuels':0,\n",
    "           'electricity_nuclear':0,\n",
    "           'electricity_renewals':0,\n",
    "           'electricity_low_carbon':0,\n",
    "           'primary_energy_consumption':0,\n",
    "           'energy_level':0,\n",
    "           'co2_emissions':0,\n",
    "           'renewals':0,\n",
    "           'gdp_growth':0,\n",
    "           'gdp_per_capita':0,\n",
    "           'density':0,\n",
    "           'latitude':0,\n",
    "           'longitude':0,\n",
    "           'gdp_growth':0}\n",
    "    montenegro.loc[i] = new_row[i]"
   ],
   "metadata": {
    "collapsed": false,
    "ExecuteTime": {
     "end_time": "2024-01-21T22:00:47.200081Z",
     "start_time": "2024-01-21T22:00:45.530816Z"
    }
   }
  },
  {
   "cell_type": "code",
   "execution_count": 484,
   "outputs": [],
   "source": [
    "#Sorting and reseting the indexes for both countries\n",
    "serbia = serbia.sort_index()\n",
    "serbia = serbia.reset_index(drop=True)\n",
    "\n",
    "montenegro = montenegro.sort_index()\n",
    "montenegro = montenegro.reset_index(drop=True)"
   ],
   "metadata": {
    "collapsed": false,
    "ExecuteTime": {
     "end_time": "2024-01-21T22:00:47.576696Z",
     "start_time": "2024-01-21T22:00:45.684667900Z"
    }
   }
  },
  {
   "cell_type": "code",
   "execution_count": 485,
   "outputs": [],
   "source": [
    "#Adding back both countries to Main dataset with new Year\n",
    "energy_data = pd.concat([serbia,energy_data.loc[:]])\n",
    "energy_data = energy_data.reset_index(drop=True)\n",
    "\n",
    "energy_data = pd.concat([montenegro,energy_data.loc[:]])\n",
    "energy_data = energy_data.reset_index(drop=True)"
   ],
   "metadata": {
    "collapsed": false,
    "ExecuteTime": {
     "end_time": "2024-01-21T22:00:47.856884300Z",
     "start_time": "2024-01-21T22:00:45.838007500Z"
    }
   }
  },
  {
   "cell_type": "code",
   "execution_count": 486,
   "outputs": [
    {
     "data": {
      "text/plain": "Series([], Name: count, dtype: int64)"
     },
     "execution_count": 486,
     "metadata": {},
     "output_type": "execute_result"
    }
   ],
   "source": [
    "#Checking again that all the countries have 21 years\n",
    "count_country = energy_data['country'].value_counts()\n",
    "count_country[count_country != 21]"
   ],
   "metadata": {
    "collapsed": false,
    "ExecuteTime": {
     "end_time": "2024-01-21T22:00:47.903757100Z",
     "start_time": "2024-01-21T22:00:45.977361100Z"
    }
   }
  },
  {
   "cell_type": "markdown",
   "source": [
    "## 5. Handling missing or null values."
   ],
   "metadata": {
    "collapsed": false
   }
  },
  {
   "cell_type": "code",
   "execution_count": 487,
   "outputs": [
    {
     "data": {
      "text/plain": "country                                      0.000000\nyear                                         0.000000\naccess_electricity(%)                        0.629447\naccess_cleaning_flues_cooking                4.980843\nrenewal_electricity_capacity(per person)    25.862069\nfinancial_flows($)                          57.471264\nrenewable_energy(%)                          5.665025\nelectricity_fossil_fuels(twh)                0.957854\nelectricity_nuclear                          3.448276\nelectricity_from_renewals                    0.957854\nelectricity_low_carbon(%)                    1.532567\nprimary_energy_consumption(kwh/person)       0.383142\nprimary_energy_intensity                     5.883963\nco2_emissions                               11.658456\nrenewables                                  58.620690\ngdp_growth                                   8.511221\ngdp_per_capita                               7.553366\ndensity                                      0.000000\nland_area                                    0.383142\nlatitude                                     0.000000\nlongitude                                    0.000000\ndtype: float64"
     },
     "execution_count": 487,
     "metadata": {},
     "output_type": "execute_result"
    }
   ],
   "source": [
    "null_values = (energy_data.isnull().sum() / len(energy_data))*100\n",
    "null_values"
   ],
   "metadata": {
    "collapsed": false,
    "ExecuteTime": {
     "end_time": "2024-01-21T22:00:48.041762700Z",
     "start_time": "2024-01-21T22:00:46.369758100Z"
    }
   }
  },
  {
   "cell_type": "code",
   "execution_count": 488,
   "outputs": [],
   "source": [
    "#access_electricity(%) had 10 missing values. Since the Years are not recently and all the countries are from similar region I will replace that value with 0 \n",
    "energy_data['access_electricity(%)'] = energy_data['access_electricity(%)'].fillna(0)"
   ],
   "metadata": {
    "collapsed": false,
    "ExecuteTime": {
     "end_time": "2024-01-21T22:00:48.273502600Z",
     "start_time": "2024-01-21T22:00:46.632738300Z"
    }
   }
  },
  {
   "cell_type": "code",
   "execution_count": 489,
   "outputs": [],
   "source": [
    "#access_cleaning_flues_cookin had 169 missing values distributed in 8 Countries, and it happens either the first years or the whole 20 years, means it is possible those countries really don't have access to cleaning fuels cooking. Then, I will replace those value with 0 \n",
    "null_cooking = energy_data[energy_data['access_cleaning_flues_cooking'].isnull() == True]\n",
    "null_cooking['country'].unique()\n",
    "energy_data['access_cleaning_flues_cooking'] = energy_data['access_cleaning_flues_cooking'].fillna(0)"
   ],
   "metadata": {
    "collapsed": false,
    "ExecuteTime": {
     "end_time": "2024-01-21T22:00:48.458179600Z",
     "start_time": "2024-01-21T22:00:46.739522500Z"
    }
   }
  },
  {
   "cell_type": "code",
   "execution_count": 490,
   "outputs": [],
   "source": [
    "#renewal_electricity_capacity(per person) had 945 that represents 26% of the data. Then, I will drop that column. Additionaly, Renewal electricity capacity variable does not give us relevant information to the aim of the study, renewable energy % contains more valuable information.\n",
    "#financial_flows($) has 58% of missing values, which leave as not relevant the information for the porpuse of the study\n",
    "energy_data = energy_data.drop(['renewal_electricity_capacity(per person)','financial_flows($)','renewables'], axis=1)"
   ],
   "metadata": {
    "collapsed": false,
    "ExecuteTime": {
     "end_time": "2024-01-21T22:00:48.520666Z",
     "start_time": "2024-01-21T22:00:47.057160600Z"
    }
   }
  },
  {
   "cell_type": "code",
   "execution_count": 491,
   "outputs": [],
   "source": [
    "#I will fill with 0 the countries  of Montenegro, Serbia and Albania before 2020 as they were not declared independent nations in the past\n",
    "energy_data[(energy_data['country'] =='Montenegro') & (energy_data['renewable_energy(%)'].isnull()==True) & (energy_data['year'] != 2020)] = energy_data[(energy_data['country'] =='Montenegro') & (energy_data['renewable_energy(%)'].isnull() ==True) & (energy_data['year'] != 2020)].fillna(0)\n",
    "energy_data[(energy_data['country'] =='Serbia') & (energy_data['renewable_energy(%)'].isnull()==True) & (energy_data['year'] != 2020)] = energy_data[(energy_data['country'] =='Serbia') & (energy_data['renewable_energy(%)'].isnull() ==True) & (energy_data['year'] != 2020)].fillna(0)\n",
    "energy_data[(energy_data['country'] =='Albania') & (energy_data['renewable_energy(%)'].isnull()==True) & (energy_data['year'] != 2020)] = energy_data[(energy_data['country'] =='Albania') & (energy_data['renewable_energy(%)'].isnull() ==True) & (energy_data['year'] != 2020)].fillna(0)"
   ],
   "metadata": {
    "collapsed": false,
    "ExecuteTime": {
     "end_time": "2024-01-21T22:00:48.794237700Z",
     "start_time": "2024-01-21T22:00:47.135779200Z"
    }
   }
  },
  {
   "cell_type": "code",
   "execution_count": 492,
   "outputs": [
    {
     "data": {
      "text/plain": "<Figure size 640x480 with 1 Axes>",
      "image/png": "[encoded data removed]"
     },
     "metadata": {},
     "output_type": "display_data"
    }
   ],
   "source": [
    "#It can be seen the overall trend is to decrease until 2019, \n",
    "dates = energy_data['year'].unique()\n",
    "renewal_energy = energy_data[['year','renewable_energy(%)']].groupby(by='year').mean()\n",
    "# Create a line plot\n",
    "plt.plot(dates, renewal_energy)\n",
    "# Show the plot\n",
    "plt.show()"
   ],
   "metadata": {
    "collapsed": false,
    "ExecuteTime": {
     "end_time": "2024-01-21T22:00:49.083104300Z",
     "start_time": "2024-01-21T22:00:47.271092800Z"
    }
   }
  },
  {
   "cell_type": "code",
   "execution_count": 493,
   "outputs": [],
   "source": [
    "x_unseen_china = energy_data[['year','access_electricity(%)','gdp_per_capita','electricity_from_renewals','electricity_fossil_fuels(twh)']][(energy_data['year']>= 2016) & (energy_data['year']<= 2020) & (energy_data['country']== 'China')]"
   ],
   "metadata": {
    "collapsed": false,
    "ExecuteTime": {
     "end_time": "2024-01-21T22:00:49.083104300Z",
     "start_time": "2024-01-21T22:00:47.544373Z"
    }
   }
  },
  {
   "cell_type": "code",
   "execution_count": 494,
   "outputs": [
    {
     "data": {
      "text/plain": "756     9334.936\n757     9797.812\n758    10602.087\n759    12273.320\n760    14272.745\n761    16114.158\n762    17552.816\n763    18955.008\n764    19560.700\n765    20281.068\n766    21551.547\n767    23090.885\n768    23873.234\n769    24600.360\n770    25072.023\n771    25209.490\n772    25164.803\n773    25987.611\n774    27109.420\n775    28277.445\n776    29133.936\nName: primary_energy_consumption(kwh/person), dtype: float64"
     },
     "execution_count": 494,
     "metadata": {},
     "output_type": "execute_result"
    }
   ],
   "source": [
    "energy_data['primary_energy_consumption(kwh/person)'][(energy_data['country']== 'China')]"
   ],
   "metadata": {
    "collapsed": false,
    "ExecuteTime": {
     "end_time": "2024-01-21T22:00:49.123386100Z",
     "start_time": "2024-01-21T22:00:47.576190200Z"
    }
   }
  },
  {
   "cell_type": "code",
   "execution_count": 495,
   "outputs": [],
   "source": [
    "y_unseen_china = energy_data[['primary_energy_consumption(kwh/person)']][(energy_data['year']>= 2016) & (energy_data['year']<= 2020) & (energy_data['country']== 'China')]"
   ],
   "metadata": {
    "collapsed": false,
    "ExecuteTime": {
     "end_time": "2024-01-21T22:00:49.189896500Z",
     "start_time": "2024-01-21T22:00:47.787805900Z"
    }
   }
  },
  {
   "cell_type": "code",
   "execution_count": 496,
   "outputs": [],
   "source": [
    "y_unseen_china.reset_index(inplace=True)\n",
    "y_unseen_china.drop(['index'],axis=1, inplace=True)\n",
    "y_unseen_train= y_unseen_china"
   ],
   "metadata": {
    "collapsed": false,
    "ExecuteTime": {
     "end_time": "2024-01-21T22:00:49.490646Z",
     "start_time": "2024-01-21T22:00:48.773911600Z"
    }
   }
  },
  {
   "cell_type": "code",
   "execution_count": 497,
   "outputs": [
    {
     "data": {
      "text/plain": "   primary_energy_consumption(kwh/person)\n0                               25164.803\n1                               25987.611\n2                               27109.420\n3                               28277.445\n4                               29133.936",
      "text/html": "<div>\n<style scoped>\n    .dataframe tbody tr th:only-of-type {\n        vertical-align: middle;\n    }\n\n    .dataframe tbody tr th {\n        vertical-align: top;\n    }\n\n    .dataframe thead th {\n        text-align: right;\n    }\n</style>\n<table border=\"1\" class=\"dataframe\">\n  <thead>\n    <tr style=\"text-align: right;\">\n      <th></th>\n      <th>primary_energy_consumption(kwh/person)</th>\n    </tr>\n  </thead>\n  <tbody>\n    <tr>\n      <th>0</th>\n      <td>25164.803</td>\n    </tr>\n    <tr>\n      <th>1</th>\n      <td>25987.611</td>\n    </tr>\n    <tr>\n      <th>2</th>\n      <td>27109.420</td>\n    </tr>\n    <tr>\n      <th>3</th>\n      <td>28277.445</td>\n    </tr>\n    <tr>\n      <th>4</th>\n      <td>29133.936</td>\n    </tr>\n  </tbody>\n</table>\n</div>"
     },
     "execution_count": 497,
     "metadata": {},
     "output_type": "execute_result"
    }
   ],
   "source": [
    "y_unseen_china"
   ],
   "metadata": {
    "collapsed": false,
    "ExecuteTime": {
     "end_time": "2024-01-21T22:00:49.744527300Z",
     "start_time": "2024-01-21T22:00:48.920734Z"
    }
   }
  },
  {
   "cell_type": "markdown",
   "source": [
    "# Create unseen data of China from 2021 to 2026 "
   ],
   "metadata": {
    "collapsed": false
   }
  },
  {
   "cell_type": "code",
   "execution_count": 498,
   "outputs": [],
   "source": [
    "x_unseen_china.loc[777,'country'] = 'China'\n",
    "x_unseen_china.loc[778,'country'] = 'China'\n",
    "x_unseen_china.loc[779,'country'] = 'China'\n",
    "x_unseen_china.loc[780,'country'] = 'China'\n",
    "x_unseen_china.loc[781,'country'] = 'China'\n",
    "\n",
    "x_unseen_china.loc[772,'year'] = '2016'\n",
    "x_unseen_china.loc[773,'year'] = '2017'\n",
    "x_unseen_china.loc[774,'year'] = '2018'\n",
    "x_unseen_china.loc[775,'year'] = '2019'\n",
    "x_unseen_china.loc[776,'year'] = '2020'\n",
    "x_unseen_china.loc[777,'year'] = '2021'\n",
    "x_unseen_china.loc[778,'year'] = '2022'\n",
    "x_unseen_china.loc[779,'year'] = '2023'\n",
    "x_unseen_china.loc[780,'year'] = '2024'\n",
    "x_unseen_china.loc[781,'year'] = '2025'"
   ],
   "metadata": {
    "collapsed": false,
    "ExecuteTime": {
     "end_time": "2024-01-21T22:00:51.844377700Z",
     "start_time": "2024-01-21T22:00:51.510048800Z"
    }
   }
  },
  {
   "cell_type": "code",
   "execution_count": 499,
   "outputs": [],
   "source": [
    "x_unseen_china.reset_index(inplace=True)\n",
    "x_unseen_china.drop(['index'],axis=1, inplace=True)"
   ],
   "metadata": {
    "collapsed": false,
    "ExecuteTime": {
     "end_time": "2024-01-21T22:00:53.415683Z",
     "start_time": "2024-01-21T22:00:53.347285700Z"
    }
   }
  },
  {
   "cell_type": "code",
   "execution_count": 500,
   "outputs": [
    {
     "data": {
      "text/plain": "   year  access_electricity(%)  gdp_per_capita  electricity_from_renewals  \\\n0  2016                  100.0     8094.363367                    1522.79   \n1  2017                  100.0     8816.986905                    1667.06   \n2  2018                  100.0     9905.342004                    1835.32   \n3  2019                  100.0    10143.838170                    2014.57   \n4  2020                  100.0    10434.775190                    2184.94   \n5  2021                    NaN             NaN                        NaN   \n6  2022                    NaN             NaN                        NaN   \n7  2023                    NaN             NaN                        NaN   \n8  2024                    NaN             NaN                        NaN   \n9  2025                    NaN             NaN                        NaN   \n\n   electricity_fossil_fuels(twh) country  \n0                        4355.00     NaN  \n1                        4643.10     NaN  \n2                        4990.28     NaN  \n3                        5098.22     NaN  \n4                        5184.13     NaN  \n5                            NaN   China  \n6                            NaN   China  \n7                            NaN   China  \n8                            NaN   China  \n9                            NaN   China  ",
      "text/html": "<div>\n<style scoped>\n    .dataframe tbody tr th:only-of-type {\n        vertical-align: middle;\n    }\n\n    .dataframe tbody tr th {\n        vertical-align: top;\n    }\n\n    .dataframe thead th {\n        text-align: right;\n    }\n</style>\n<table border=\"1\" class=\"dataframe\">\n  <thead>\n    <tr style=\"text-align: right;\">\n      <th></th>\n      <th>year</th>\n      <th>access_electricity(%)</th>\n      <th>gdp_per_capita</th>\n      <th>electricity_from_renewals</th>\n      <th>electricity_fossil_fuels(twh)</th>\n      <th>country</th>\n    </tr>\n  </thead>\n  <tbody>\n    <tr>\n      <th>0</th>\n      <td>2016</td>\n      <td>100.0</td>\n      <td>8094.363367</td>\n      <td>1522.79</td>\n      <td>4355.00</td>\n      <td>NaN</td>\n    </tr>\n    <tr>\n      <th>1</th>\n      <td>2017</td>\n      <td>100.0</td>\n      <td>8816.986905</td>\n      <td>1667.06</td>\n      <td>4643.10</td>\n      <td>NaN</td>\n    </tr>\n    <tr>\n      <th>2</th>\n      <td>2018</td>\n      <td>100.0</td>\n      <td>9905.342004</td>\n      <td>1835.32</td>\n      <td>4990.28</td>\n      <td>NaN</td>\n    </tr>\n    <tr>\n      <th>3</th>\n      <td>2019</td>\n      <td>100.0</td>\n      <td>10143.838170</td>\n      <td>2014.57</td>\n      <td>5098.22</td>\n      <td>NaN</td>\n    </tr>\n    <tr>\n      <th>4</th>\n      <td>2020</td>\n      <td>100.0</td>\n      <td>10434.775190</td>\n      <td>2184.94</td>\n      <td>5184.13</td>\n      <td>NaN</td>\n    </tr>\n    <tr>\n      <th>5</th>\n      <td>2021</td>\n      <td>NaN</td>\n      <td>NaN</td>\n      <td>NaN</td>\n      <td>NaN</td>\n      <td>China</td>\n    </tr>\n    <tr>\n      <th>6</th>\n      <td>2022</td>\n      <td>NaN</td>\n      <td>NaN</td>\n      <td>NaN</td>\n      <td>NaN</td>\n      <td>China</td>\n    </tr>\n    <tr>\n      <th>7</th>\n      <td>2023</td>\n      <td>NaN</td>\n      <td>NaN</td>\n      <td>NaN</td>\n      <td>NaN</td>\n      <td>China</td>\n    </tr>\n    <tr>\n      <th>8</th>\n      <td>2024</td>\n      <td>NaN</td>\n      <td>NaN</td>\n      <td>NaN</td>\n      <td>NaN</td>\n      <td>China</td>\n    </tr>\n    <tr>\n      <th>9</th>\n      <td>2025</td>\n      <td>NaN</td>\n      <td>NaN</td>\n      <td>NaN</td>\n      <td>NaN</td>\n      <td>China</td>\n    </tr>\n  </tbody>\n</table>\n</div>"
     },
     "execution_count": 500,
     "metadata": {},
     "output_type": "execute_result"
    }
   ],
   "source": [
    "x_unseen_china"
   ],
   "metadata": {
    "collapsed": false,
    "ExecuteTime": {
     "end_time": "2024-01-21T22:00:54.609254Z",
     "start_time": "2024-01-21T22:00:54.223901400Z"
    }
   }
  },
  {
   "cell_type": "code",
   "execution_count": 501,
   "outputs": [
    {
     "data": {
      "text/plain": "   year  access_electricity(%)  gdp_per_capita  electricity_from_renewals  \\\n0  2016                  100.0     8094.363367                    1522.79   \n1  2017                  100.0     8816.986905                    1667.06   \n2  2018                  100.0     9905.342004                    1835.32   \n3  2019                  100.0    10143.838170                    2014.57   \n4  2020                  100.0    10434.775190                    2184.94   \n5  2021                  100.0    10725.712210                    2355.31   \n6  2022                  100.0    11016.649230                    2525.68   \n7  2023                  100.0    11307.586250                    2696.05   \n8  2024                  100.0    11598.523270                    2866.42   \n9  2025                  100.0    11889.460290                    3036.79   \n\n   electricity_fossil_fuels(twh) country  \n0                        4355.00     NaN  \n1                        4643.10     NaN  \n2                        4990.28     NaN  \n3                        5098.22     NaN  \n4                        5184.13     NaN  \n5                        5270.04   China  \n6                        5355.95   China  \n7                        5441.86   China  \n8                        5527.77   China  \n9                        5613.68   China  ",
      "text/html": "<div>\n<style scoped>\n    .dataframe tbody tr th:only-of-type {\n        vertical-align: middle;\n    }\n\n    .dataframe tbody tr th {\n        vertical-align: top;\n    }\n\n    .dataframe thead th {\n        text-align: right;\n    }\n</style>\n<table border=\"1\" class=\"dataframe\">\n  <thead>\n    <tr style=\"text-align: right;\">\n      <th></th>\n      <th>year</th>\n      <th>access_electricity(%)</th>\n      <th>gdp_per_capita</th>\n      <th>electricity_from_renewals</th>\n      <th>electricity_fossil_fuels(twh)</th>\n      <th>country</th>\n    </tr>\n  </thead>\n  <tbody>\n    <tr>\n      <th>0</th>\n      <td>2016</td>\n      <td>100.0</td>\n      <td>8094.363367</td>\n      <td>1522.79</td>\n      <td>4355.00</td>\n      <td>NaN</td>\n    </tr>\n    <tr>\n      <th>1</th>\n      <td>2017</td>\n      <td>100.0</td>\n      <td>8816.986905</td>\n      <td>1667.06</td>\n      <td>4643.10</td>\n      <td>NaN</td>\n    </tr>\n    <tr>\n      <th>2</th>\n      <td>2018</td>\n      <td>100.0</td>\n      <td>9905.342004</td>\n      <td>1835.32</td>\n      <td>4990.28</td>\n      <td>NaN</td>\n    </tr>\n    <tr>\n      <th>3</th>\n      <td>2019</td>\n      <td>100.0</td>\n      <td>10143.838170</td>\n      <td>2014.57</td>\n      <td>5098.22</td>\n      <td>NaN</td>\n    </tr>\n    <tr>\n      <th>4</th>\n      <td>2020</td>\n      <td>100.0</td>\n      <td>10434.775190</td>\n      <td>2184.94</td>\n      <td>5184.13</td>\n      <td>NaN</td>\n    </tr>\n    <tr>\n      <th>5</th>\n      <td>2021</td>\n      <td>100.0</td>\n      <td>10725.712210</td>\n      <td>2355.31</td>\n      <td>5270.04</td>\n      <td>China</td>\n    </tr>\n    <tr>\n      <th>6</th>\n      <td>2022</td>\n      <td>100.0</td>\n      <td>11016.649230</td>\n      <td>2525.68</td>\n      <td>5355.95</td>\n      <td>China</td>\n    </tr>\n    <tr>\n      <th>7</th>\n      <td>2023</td>\n      <td>100.0</td>\n      <td>11307.586250</td>\n      <td>2696.05</td>\n      <td>5441.86</td>\n      <td>China</td>\n    </tr>\n    <tr>\n      <th>8</th>\n      <td>2024</td>\n      <td>100.0</td>\n      <td>11598.523270</td>\n      <td>2866.42</td>\n      <td>5527.77</td>\n      <td>China</td>\n    </tr>\n    <tr>\n      <th>9</th>\n      <td>2025</td>\n      <td>100.0</td>\n      <td>11889.460290</td>\n      <td>3036.79</td>\n      <td>5613.68</td>\n      <td>China</td>\n    </tr>\n  </tbody>\n</table>\n</div>"
     },
     "execution_count": 501,
     "metadata": {},
     "output_type": "execute_result"
    }
   ],
   "source": [
    "#Access to Electricity\n",
    "x_unseen_china['access_electricity(%)'] = x_unseen_china['access_electricity(%)'].fillna(x_unseen_china['access_electricity(%)'].interpolate(method=\"slinear\", fill_value=\"extrapolate\", limit_direction=\"forward\"))\n",
    "#gdp_per_capita\n",
    "x_unseen_china['gdp_per_capita'] = x_unseen_china['gdp_per_capita'].fillna(x_unseen_china['gdp_per_capita'].interpolate(method=\"slinear\", fill_value=\"extrapolate\", limit_direction=\"forward\"))\n",
    "#electricity_from_renewals\n",
    "x_unseen_china['electricity_from_renewals'] = x_unseen_china['electricity_from_renewals'].fillna(x_unseen_china['electricity_from_renewals'].interpolate(method=\"slinear\", fill_value=\"extrapolate\", limit_direction=\"forward\"))\n",
    "x_unseen_china['electricity_fossil_fuels(twh)'] = x_unseen_china['electricity_fossil_fuels(twh)'].fillna(x_unseen_china['electricity_fossil_fuels(twh)'].interpolate(method=\"slinear\", fill_value=\"extrapolate\", limit_direction=\"forward\"))\n",
    "x_unseen_china"
   ],
   "metadata": {
    "collapsed": false,
    "ExecuteTime": {
     "end_time": "2024-01-21T22:00:55.905198300Z",
     "start_time": "2024-01-21T22:00:55.157032400Z"
    }
   }
  },
  {
   "cell_type": "code",
   "execution_count": 502,
   "outputs": [],
   "source": [
    "enc = preprocessing.OrdinalEncoder()\n",
    "X = x_unseen_china[['country']]\n",
    "enc.fit(X)\n",
    "x_unseen_china['country'] = enc.transform(x_unseen_china[['country']])"
   ],
   "metadata": {
    "collapsed": false,
    "ExecuteTime": {
     "end_time": "2024-01-21T22:00:56.606166800Z",
     "start_time": "2024-01-21T22:00:56.480588100Z"
    }
   }
  },
  {
   "cell_type": "code",
   "execution_count": 503,
   "outputs": [],
   "source": [
    "x_unseen_china.drop(['country','year','access_electricity(%)'],axis=1,inplace = True)"
   ],
   "metadata": {
    "collapsed": false,
    "ExecuteTime": {
     "end_time": "2024-01-21T22:00:57.637674600Z",
     "start_time": "2024-01-21T22:00:57.553101200Z"
    }
   }
  },
  {
   "cell_type": "code",
   "execution_count": 504,
   "outputs": [],
   "source": [
    "scaler = StandardScaler()\n",
    "x_unseen_china = scaler.fit_transform(x_unseen_china)\n",
    "x_unseen_china = pd.DataFrame(x_unseen_china)"
   ],
   "metadata": {
    "collapsed": false,
    "ExecuteTime": {
     "end_time": "2024-01-21T22:00:57.991359200Z",
     "start_time": "2024-01-21T22:00:57.822383700Z"
    }
   }
  },
  {
   "cell_type": "code",
   "execution_count": 505,
   "outputs": [],
   "source": [
    "x_unseen_china_test = x_unseen_china.iloc[5:]"
   ],
   "metadata": {
    "collapsed": false,
    "ExecuteTime": {
     "end_time": "2024-01-21T22:00:58.154053600Z",
     "start_time": "2024-01-21T22:00:57.898666Z"
    }
   }
  },
  {
   "cell_type": "code",
   "execution_count": 506,
   "outputs": [],
   "source": [
    "x_unseen_china_train = x_unseen_china.iloc[0:5]"
   ],
   "metadata": {
    "collapsed": false,
    "ExecuteTime": {
     "end_time": "2024-01-21T22:00:59.431261900Z",
     "start_time": "2024-01-21T22:00:58.938611700Z"
    }
   }
  },
  {
   "cell_type": "code",
   "execution_count": 507,
   "outputs": [],
   "source": [
    "actual_years = [2016,2017,2018,2019,2020]"
   ],
   "metadata": {
    "collapsed": false,
    "ExecuteTime": {
     "end_time": "2024-01-21T22:00:59.990564500Z",
     "start_time": "2024-01-21T22:00:59.085394900Z"
    }
   }
  },
  {
   "cell_type": "code",
   "execution_count": 508,
   "outputs": [],
   "source": [
    "future_years = [2021,2022,2023,2024,2025]"
   ],
   "metadata": {
    "collapsed": false,
    "ExecuteTime": {
     "end_time": "2024-01-21T22:01:00.212665500Z",
     "start_time": "2024-01-21T22:00:59.142921600Z"
    }
   }
  },
  {
   "cell_type": "code",
   "execution_count": 509,
   "outputs": [
    {
     "data": {
      "text/plain": "          0         1         2\n5  0.290432  0.173816  0.324080\n6  0.544644  0.522958  0.552222\n7  0.798857  0.872099  0.780364\n8  1.053069  1.221240  1.008505\n9  1.307282  1.570381  1.236647",
      "text/html": "<div>\n<style scoped>\n    .dataframe tbody tr th:only-of-type {\n        vertical-align: middle;\n    }\n\n    .dataframe tbody tr th {\n        vertical-align: top;\n    }\n\n    .dataframe thead th {\n        text-align: right;\n    }\n</style>\n<table border=\"1\" class=\"dataframe\">\n  <thead>\n    <tr style=\"text-align: right;\">\n      <th></th>\n      <th>0</th>\n      <th>1</th>\n      <th>2</th>\n    </tr>\n  </thead>\n  <tbody>\n    <tr>\n      <th>5</th>\n      <td>0.290432</td>\n      <td>0.173816</td>\n      <td>0.324080</td>\n    </tr>\n    <tr>\n      <th>6</th>\n      <td>0.544644</td>\n      <td>0.522958</td>\n      <td>0.552222</td>\n    </tr>\n    <tr>\n      <th>7</th>\n      <td>0.798857</td>\n      <td>0.872099</td>\n      <td>0.780364</td>\n    </tr>\n    <tr>\n      <th>8</th>\n      <td>1.053069</td>\n      <td>1.221240</td>\n      <td>1.008505</td>\n    </tr>\n    <tr>\n      <th>9</th>\n      <td>1.307282</td>\n      <td>1.570381</td>\n      <td>1.236647</td>\n    </tr>\n  </tbody>\n</table>\n</div>"
     },
     "execution_count": 509,
     "metadata": {},
     "output_type": "execute_result"
    }
   ],
   "source": [
    "x_unseen_china_test"
   ],
   "metadata": {
    "collapsed": false,
    "ExecuteTime": {
     "end_time": "2024-01-21T22:01:00.475640900Z",
     "start_time": "2024-01-21T22:01:00.128128Z"
    }
   }
  },
  {
   "cell_type": "code",
   "execution_count": 510,
   "outputs": [],
   "source": [
    "#We use the extrapolating method to fill the 2020 years\n",
    "for country in energy_data['country'].unique():\n",
    "       energy_data['renewable_energy(%)'][energy_data['country']==country] = energy_data['renewable_energy(%)'][energy_data['country']==country].fillna(energy_data['renewable_energy(%)'][energy_data['country']==country].interpolate(method=\"slinear\", fill_value=\"extrapolate\", limit_direction=\"forward\"))"
   ],
   "metadata": {
    "collapsed": false,
    "ExecuteTime": {
     "end_time": "2024-01-21T22:01:02.805299900Z",
     "start_time": "2024-01-21T22:01:01.599038600Z"
    }
   }
  },
  {
   "cell_type": "code",
   "execution_count": 511,
   "outputs": [
    {
     "data": {
      "text/plain": "<Figure size 640x480 with 1 Axes>",
      "image/png": "[encoded data removed]"
     },
     "metadata": {},
     "output_type": "display_data"
    }
   ],
   "source": [
    "#It can be seen the overall trend is to decrease until 2019, \n",
    "dates = energy_data['year'].unique()\n",
    "renewal_energy = energy_data[['year','renewable_energy(%)']].groupby(by='year').mean()\n",
    "# Create a line plot\n",
    "plt.plot(dates, renewal_energy)\n",
    "# Show the plot\n",
    "plt.show()"
   ],
   "metadata": {
    "collapsed": false,
    "ExecuteTime": {
     "end_time": "2024-01-21T22:01:03.246165800Z",
     "start_time": "2024-01-21T22:01:02.705050100Z"
    }
   }
  },
  {
   "cell_type": "code",
   "execution_count": 512,
   "outputs": [],
   "source": [
    "energy_data['electricity_fossil_fuels(twh)'][energy_data['electricity_fossil_fuels(twh)'].isnull()==True] = 0"
   ],
   "metadata": {
    "collapsed": false,
    "ExecuteTime": {
     "end_time": "2024-01-21T22:01:04.186630900Z",
     "start_time": "2024-01-21T22:01:04.039608100Z"
    }
   }
  },
  {
   "cell_type": "code",
   "execution_count": 513,
   "outputs": [],
   "source": [
    "energy_data['electricity_from_renewals'][energy_data['electricity_from_renewals'].isnull()==True] = 0"
   ],
   "metadata": {
    "collapsed": false,
    "ExecuteTime": {
     "end_time": "2024-01-21T22:01:05.874368100Z",
     "start_time": "2024-01-21T22:01:05.783478Z"
    }
   }
  },
  {
   "cell_type": "code",
   "execution_count": 514,
   "outputs": [],
   "source": [
    "energy_data['electricity_low_carbon(%)'][energy_data['electricity_low_carbon(%)'].isnull()==True] = 0"
   ],
   "metadata": {
    "collapsed": false,
    "ExecuteTime": {
     "end_time": "2024-01-21T22:01:07.557616Z",
     "start_time": "2024-01-21T22:01:07.292129800Z"
    }
   }
  },
  {
   "cell_type": "code",
   "execution_count": 515,
   "outputs": [],
   "source": [
    "#We use the extrapolating method to fill the 2020 years\n",
    "for country in energy_data['country'].unique():\n",
    "       energy_data['primary_energy_intensity'][energy_data['country']==country] = energy_data['primary_energy_intensity'][energy_data['country']==country].fillna(energy_data['primary_energy_intensity'][energy_data['country']==country].interpolate(method=\"slinear\", fill_value=\"extrapolate\", limit_direction=\"forward\"))\n",
    "\n",
    "energy_data['primary_energy_intensity'][energy_data['primary_energy_intensity'].isnull()==True] = 0"
   ],
   "metadata": {
    "collapsed": false,
    "ExecuteTime": {
     "end_time": "2024-01-21T22:01:09.426459600Z",
     "start_time": "2024-01-21T22:01:08.237512100Z"
    }
   }
  },
  {
   "cell_type": "code",
   "execution_count": 516,
   "outputs": [],
   "source": [
    "energy_data['electricity_nuclear'][energy_data['electricity_nuclear'].isnull()==True] = 0"
   ],
   "metadata": {
    "collapsed": false,
    "ExecuteTime": {
     "end_time": "2024-01-21T22:01:09.428509200Z",
     "start_time": "2024-01-21T22:01:09.245902200Z"
    }
   }
  },
  {
   "cell_type": "code",
   "execution_count": 517,
   "outputs": [],
   "source": [
    "for country in energy_data['country'].unique():\n",
    "       energy_data['co2_emissions'][energy_data['country']==country] = energy_data['co2_emissions'][energy_data['country']==country].fillna(energy_data['co2_emissions'][energy_data['country']==country].interpolate(method=\"slinear\", fill_value=\"extrapolate\", limit_direction=\"forward\"))\n",
    "       \n",
    "energy_data['co2_emissions'][energy_data['co2_emissions'].isnull()==True] = 0"
   ],
   "metadata": {
    "collapsed": false,
    "ExecuteTime": {
     "end_time": "2024-01-21T22:01:10.013193200Z",
     "start_time": "2024-01-21T22:01:09.256137Z"
    }
   }
  },
  {
   "cell_type": "code",
   "execution_count": 518,
   "outputs": [],
   "source": [
    "for country in energy_data['country'].unique():\n",
    "       energy_data['gdp_per_capita'][energy_data['country']==country] = energy_data['gdp_per_capita'][energy_data['country']==country].fillna(energy_data['gdp_per_capita'][energy_data['country']==country].interpolate(method=\"slinear\", fill_value=\"extrapolate\", limit_direction=\"forward\"))\n",
    "       \n",
    "energy_data['gdp_per_capita'][energy_data['gdp_per_capita'].isnull()==True] = 0"
   ],
   "metadata": {
    "collapsed": false,
    "ExecuteTime": {
     "end_time": "2024-01-21T22:01:10.391435900Z",
     "start_time": "2024-01-21T22:01:09.841628200Z"
    }
   }
  },
  {
   "cell_type": "code",
   "execution_count": 519,
   "outputs": [],
   "source": [
    "energy_data['gdp_growth'].fillna(method='bfill', inplace = True)"
   ],
   "metadata": {
    "collapsed": false,
    "ExecuteTime": {
     "end_time": "2024-01-21T22:01:10.414568400Z",
     "start_time": "2024-01-21T22:01:10.383626600Z"
    }
   }
  },
  {
   "cell_type": "code",
   "execution_count": 520,
   "outputs": [],
   "source": [
    "energy_data[energy_data['co2_emissions'].isnull() == True]['co2_emissions'] = 0"
   ],
   "metadata": {
    "collapsed": false,
    "ExecuteTime": {
     "end_time": "2024-01-21T22:01:11.324123400Z",
     "start_time": "2024-01-21T22:01:11.154841800Z"
    }
   }
  },
  {
   "cell_type": "code",
   "execution_count": 521,
   "outputs": [
    {
     "data": {
      "text/plain": "country                                   0.0\nyear                                      0.0\naccess_electricity(%)                     0.0\naccess_cleaning_flues_cooking             0.0\nrenewable_energy(%)                       0.0\nelectricity_fossil_fuels(twh)             0.0\nelectricity_nuclear                       0.0\nelectricity_from_renewals                 0.0\nelectricity_low_carbon(%)                 0.0\nprimary_energy_consumption(kwh/person)    0.0\nprimary_energy_intensity                  0.0\nco2_emissions                             0.0\ngdp_growth                                0.0\ngdp_per_capita                            0.0\ndensity                                   0.0\nland_area                                 0.0\nlatitude                                  0.0\nlongitude                                 0.0\ndtype: float64"
     },
     "execution_count": 521,
     "metadata": {},
     "output_type": "execute_result"
    }
   ],
   "source": [
    "null_values = (energy_data.isnull().sum() / len(energy_data))*100\n",
    "null_values"
   ],
   "metadata": {
    "collapsed": false,
    "ExecuteTime": {
     "end_time": "2024-01-21T22:01:12.256478700Z",
     "start_time": "2024-01-21T22:01:11.909045100Z"
    }
   }
  },
  {
   "cell_type": "code",
   "execution_count": 528,
   "outputs": [
    {
     "data": {
      "application/vnd.plotly.v1+json": {
       "data": [
        {
         "alignmentgroup": "True",
         "hovertemplate": "gdp_per_capita=%{y}<extra></extra>",
         "legendgroup": "",
         "marker": {
          "color": "#636efa"
         },
         "name": "",
         "notched": false,
         "offsetgroup": "",
         "orientation": "v",
         "showlegend": false,
         "x0": " ",
         "xaxis": "x",
         "y": [
          0.0,
          0.0,
          0.0,
          0.0,
          0.0,
          0.0,
          0.0,
          5976.394145,
          7367.751909,
          6727.107767,
          6688.4824,
          7328.932252,
          6586.721279,
          7186.429787,
          7378.345289,
          6514.272695,
          7028.936577,
          7784.06529,
          8845.914219,
          8910.650834,
          7677.152226,
          0.0,
          0.0,
          0.0,
          0.0,
          0.0,
          0.0,
          0.0,
          5848.476405,
          7101.040141,
          6169.114195,
          5735.422857,
          6809.159804,
          6015.945228,
          6755.073675,
          6600.056809,
          5588.980728,
          5765.200762,
          6292.543629,
          7252.401858,
          7417.203649,
          7720.510572,
          0.0,
          0.0,
          179.4265792,
          190.6838143,
          211.3820742,
          242.0313132,
          263.7336019,
          359.6931579,
          364.663542,
          437.2687402,
          543.3065262,
          591.1900302,
          638.8458516,
          624.3154545,
          614.2233424,
          556.0072209,
          512.0127781,
          516.6798622,
          485.6684187,
          494.1793499,
          516.7478708,
          1126.68334,
          1281.659826,
          1425.124219,
          1846.120121,
          2373.581292,
          2673.786584,
          2972.742924,
          3595.038057,
          4370.539925,
          4114.134899,
          4094.348386,
          4437.142612,
          4247.630047,
          4413.062005,
          4578.633208,
          3952.802538,
          4124.05539,
          4531.019374,
          5287.663694,
          5395.659532,
          5246.292306,
          1765.027146,
          1740.606654,
          1781.828908,
          2103.381291,
          2610.185422,
          3113.094883,
          3478.710002,
          3950.512993,
          4923.631615,
          3883.2709,
          4480.786318,
          5455.679403,
          5592.220115,
          5499.587331,
          5493.056695,
          4177.889542,
          3946.452447,
          4109.698217,
          4142.018558,
          3989.668276,
          3306.858208,
          556.8386317,
          527.3335285,
          872.4944418,
          982.9610078,
          1255.564513,
          1902.42215,
          2599.565948,
          3121.996085,
          4080.941034,
          3122.781599,
          3587.883645,
          4615.468219,
          5100.097027,
          5254.881126,
          5408.4117,
          4166.979833,
          3506.073128,
          4095.810057,
          3289.643995,
          2809.626088,
          1776.166868,
          10872.29295,
          10367.31961,
          10401.05088,
          10797.95106,
          11446.96914,
          12557.54785,
          13995.80442,
          15622.69287,
          16044.1058,
          14160.562,
          13048.96058,
          12746.63347,
          13272.73494,
          12910.59063,
          13501.58092,
          14285.32978,
          15198.74297,
          15383.5764,
          16679.59166,
          17376.64968,
          13992.74448,
          7708.099115,
          7208.373114,
          2593.404563,
          3349.8063,
          4277.721573,
          5109.852245,
          5919.012338,
          7245.446857,
          9020.873323,
          8225.137583,
          10385.96443,
          12848.8642,
          13082.66433,
          13080.25473,
          12334.79825,
          13789.06042,
          12790.24247,
          14613.04182,
          11795.15939,
          10056.63794,
          8579.017773,
          622.7409229,
          694.4234554,
          783.241215,
          930.1254727,
          1191.921006,
          1643.756889,
          2158.148074,
          3139.28071,
          4010.861381,
          2994.340471,
          3218.378299,
          3525.807198,
          3681.844691,
          3838.17388,
          3986.231624,
          3607.289299,
          3591.828052,
          3914.527854,
          4220.540321,
          4604.646324,
          4266.018074,
          20617.75047,
          20670.36701,
          20436.88713,
          20833.97636,
          22568.37499,
          23300.73836,
          24046.22638,
          25834.11178,
          27083.63486,
          24631.18205,
          23513.5277,
          24985.01392,
          24712.49326,
          26441.61994,
          26893.01151,
          28396.90842,
          28452.17061,
          29350.80502,
          30253.27936,
          31155.7537,
          32058.22804,
          21697.70848,
          19527.32358,
          20117.78889,
          23492.40517,
          30513.94174,
          34080.9999,
          36117.48798,
          41001.14298,
          49654.9106,
          42783.32257,
          52087.97229,
          62574.1457,
          68027.84171,
          68156.62792,
          62511.69059,
          56707.02208,
          49881.76371,
          53934.25018,
          57180.7794,
          54875.28596,
          51692.84275,
          24564.45829,
          24537.51426,
          26401.74546,
          32222.89724,
          36821.52147,
          38403.13388,
          40635.28182,
          46855.77175,
          51708.76575,
          47963.1794,
          46858.04327,
          51374.95841,
          48567.69529,
          50716.70871,
          51717.49594,
          44178.04738,
          45276.83144,
          47312.00623,
          51461.43322,
          50114.40111,
          48586.80132,
          655.1199452,
          703.6838434,
          763.080638,
          883.7339715,
          1045.009379,
          1578.40239,
          2473.081819,
          3851.437869,
          5574.603802,
          4950.294791,
          5843.533768,
          7189.691229,
          7496.294648,
          7875.756953,
          7891.313147,
          5500.310382,
          3880.738731,
          4147.089716,
          4739.84171,
          4805.753718,
          4221.407478,
          0.0,
          0.0,
          0.0,
          0.0,
          0.0,
          0.0,
          0.0,
          0.0,
          0.0,
          0.0,
          0.0,
          0.0,
          0.0,
          0.0,
          0.0,
          0.0,
          0.0,
          0.0,
          0.0,
          0.0,
          0.0,
          13636.41675,
          12868.17692,
          13049.90973,
          14222.0368,
          15846.50595,
          17959.39683,
          19307.50894,
          20976.44229,
          23066.45098,
          19355.92101,
          20722.07049,
          22514.20272,
          23654.36959,
          24744.29696,
          24989.43753,
          22634.08565,
          22608.45256,
          23742.93734,
          24085.95599,
          23551.93009,
          20409.9528,
          418.0689421,
          415.0344043,
          413.0802826,
          446.3106757,
          475.2919302,
          499.4619402,
          509.6401899,
          558.0518407,
          634.9870697,
          702.2644196,
          781.1535777,
          861.7621622,
          883.1171296,
          981.8608514,
          1118.873808,
          1248.45331,
          1401.564635,
          1563.767819,
          1698.132081,
          1855.740094,
          1961.613749,
          11268.42006,
          11209.42112,
          11361.51677,
          11699.37047,
          12512.57797,
          13822.74175,
          15199.56753,
          16770.66103,
          17092.58214,
          15885.41018,
          16056.37098,
          16458.35321,
          16249.67395,
          16451.27931,
          16489.07224,
          16524.8995,
          16900.04829,
          17391.66891,
          17745.25537,
          18148.49785,
          15373.8547,
          1276.493985,
          1244.373185,
          1479.314583,
          1819.766059,
          2378.623286,
          3125.810535,
          3847.434124,
          4735.657608,
          6377.369732,
          5352.583912,
          6033.686239,
          6527.173869,
          6953.132515,
          7998.125239,
          8341.399679,
          5967.052204,
          5039.681886,
          5785.670673,
          6360.062473,
          6837.717826,
          6424.152176,
          23041.53473,
          22995.15752,
          24887.56133,
          30587.66841,
          35364.37533,
          36795.97688,
          38672.70594,
          44262.896,
          48106.89292,
          44583.54481,
          44141.87814,
          47348.52502,
          44673.11588,
          46744.66254,
          47700.54036,
          40991.80814,
          41984.10303,
          44089.31009,
          47519.5531,
          46591.49161,
          45159.34822,
          3364.491731,
          3404.420586,
          3526.081513,
          3650.60647,
          3802.26316,
          3885.034074,
          4155.323885,
          4252.395404,
          4404.308198,
          4186.519998,
          4270.780085,
          4423.496842,
          4505.600593,
          4568.641228,
          4718.436581,
          4770.232656,
          4856.973249,
          4945.857699,
          5001.422157,
          5078.809944,
          4115.177008,
          512.673902,
          518.0674741,
          574.9297982,
          711.2849548,
          798.7443045,
          822.7851431,
          856.0549166,
          966.2036183,
          1125.426134,
          1088.757906,
          1036.534515,
          1130.273251,
          1145.140105,
          1251.209767,
          1291.410185,
          1076.796698,
          1087.287331,
          1136.593872,
          1241.825298,
          1219.515506,
          1291.040972,
          56284.16865,
          58883.95943,
          62583.1002,
          66111.72523,
          70359.31911,
          75882.03386,
          95221.85887,
          104287.3875,
          106935.4863,
          101407.764,
          101875.2841,
          97774.16207,
          98431.86518,
          99471.6389,
          98467.68399,
          102005.6256,
          106885.8785,
          111820.5815,
          113023.1856,
          117098.4463,
          107079.4798,
          718.196337,
          764.4328082,
          845.5006721,
          962.0953713,
          1068.431811,
          1228.432356,
          1330.977444,
          1757.190496,
          1828.154677,
          1819.19731,
          2258.186435,
          2563.261224,
          2538.949519,
          2472.724753,
          2652.225654,
          2752.630172,
          2930.574923,
          3286.596744,
          3243.477437,
          3322.863329,
          3000.779327,
          1484.176056,
          1544.602075,
          1789.857691,
          2258.946452,
          2698.46718,
          2980.601268,
          3416.512376,
          4193.368011,
          5090.945834,
          4714.693746,
          4635.510195,
          5092.554723,
          4777.066914,
          5129.663534,
          5330.355075,
          4729.689959,
          4994.971551,
          5394.268944,
          6070.349081,
          6119.762345,
          6079.738285,
          3522.310821,
          3278.016079,
          3190.624811,
          4330.972369,
          5073.520408,
          5513.331063,
          5521.990608,
          5832.737052,
          5713.543931,
          5255.776533,
          6434.812485,
          7617.310041,
          7050.573472,
          7224.912737,
          7495.220866,
          6402.910183,
          6982.917492,
          7296.092142,
          7503.878588,
          7203.064221,
          6404.899932,
          3749.910848,
          3160.249345,
          2839.491501,
          3070.436419,
          3637.31389,
          4790.456566,
          5886.391522,
          7348.187963,
          8831.183643,
          8597.794335,
          11286.07154,
          13245.38737,
          12370.22325,
          12300.38671,
          12112.83496,
          8813.989806,
          8710.06329,
          9928.675897,
          9151.381732,
          8897.552966,
          6796.844542,
          1621.242961,
          1770.913534,
          2092.957694,
          2719.497656,
          3389.707049,
          3899.907638,
          4523.050833,
          5885.104348,
          7265.735497,
          6988.233325,
          6853.002854,
          7849.165283,
          7432.478766,
          7681.93462,
          7901.785876,
          7074.681023,
          7569.478815,
          8366.293221,
          9446.700772,
          9879.268533,
          10079.20338,
          255.7186873,
          267.0975996,
          294.6653885,
          374.627358,
          418.3766603,
          457.9334308,
          473.4498682,
          535.0622795,
          643.404581,
          624.1751645,
          647.8360955,
          751.1727704,
          758.000427,
          787.4694383,
          792.8462374,
          653.3272681,
          688.2506963,
          734.996268,
          804.5005378,
          796.1152068,
          857.9327297,
          136.4639708,
          134.3634269,
          123.1175361,
          113.5672513,
          128.3367028,
          151.6815663,
          167.3764625,
          172.4955966,
          198.3528517,
          212.1370572,
          234.2355389,
          249.5779794,
          252.3588707,
          256.9756526,
          274.8578362,
          305.5496525,
          260.5652208,
          253.8263541,
          238.783467,
          228.2135892,
          238.9907259,
          300.613679,
          321.1502236,
          338.9874773,
          362.3354822,
          408.5136388,
          474.1111921,
          539.7503289,
          631.5252576,
          745.609127,
          738.0547312,
          785.5026671,
          882.275614,
          950.880346,
          1013.420536,
          1093.495976,
          1162.904995,
          1269.591499,
          1385.260066,
          1512.126989,
          1643.121389,
          1543.669258,
          681.102043,
          687.6481344,
          759.1118514,
          950.5648637,
          1090.785332,
          1100.174926,
          1147.4366,
          1277.516807,
          1439.547804,
          1411.474572,
          1352.302275,
          1465.145788,
          1403.522915,
          1527.751257,
          1604.214035,
          1382.50979,
          1413.255957,
          1469.4475,
          1585.240534,
          1533.095688,
          1537.130218,
          24271.00206,
          23822.06012,
          24255.33858,
          28300.4631,
          32143.68141,
          36382.50792,
          40504.06073,
          44659.89514,
          46710.50558,
          40876.31015,
          47562.08343,
          52223.69611,
          52669.08996,
          52635.17496,
          50955.99832,
          43596.13554,
          42315.60371,
          45129.35644,
          46548.52036,
          46338.34096,
          43294.64816,
          0.0,
          0.0,
          0.0,
          0.0,
          0.0,
          0.0,
          82801.54266,
          85433.03094,
          85188.33704,
          77400.42144,
          73351.75677,
          72329.66133,
          72777.14849,
          73514.66868,
          74990.43322,
          76284.19393,
          78471.62873,
          81513.16302,
          86059.73922,
          91392.64259,
          85082.52686,
          251.2072914,
          250.3571459,
          260.7454587,
          293.661549,
          320.7368123,
          331.1630882,
          354.6708633,
          404.3745429,
          464.5612047,
          474.7056275,
          488.4217358,
          551.7497219,
          565.8012071,
          380.2979111,
          424.4491317,
          377.4229177,
          402.1916451,
          450.9006579,
          475.9538139,
          467.9080323,
          492.7958712,
          166.1757089,
          197.1460821,
          221.4165369,
          292.6008802,
          454.3363652,
          658.566973,
          710.3963987,
          799.603742,
          929.3827519,
          803.6863884,
          892.5688697,
          984.7361305,
          967.3529488,
          979.8117426,
          1020.287979,
          776.0197523,
          693.4497674,
          665.9488849,
          726.1510071,
          709.5400432,
          659.270045,
          5074.902616,
          4574.594716,
          4446.249371,
          4772.563723,
          6194.85272,
          7598.528877,
          9464.548507,
          10502.35071,
          10751.4816,
          10208.90797,
          12808.03834,
          14637.23344,
          15351.54074,
          15842.93648,
          14670.98891,
          13574.16924,
          13753.59215,
          14998.81706,
          15888.14436,
          14741.7144,
          13231.70421,
          959.3724836,
          1053.108243,
          1148.50829,
          1288.643252,
          1508.668098,
          1753.417829,
          2099.229435,
          2693.970063,
          3468.304602,
          3832.236432,
          4550.453108,
          5614.352135,
          6300.615118,
          7020.338485,
          7636.116601,
          8016.431435,
          8094.363367,
          8816.986905,
          9905.342004,
          10143.83817,
          10434.77519,
          2520.481089,
          2439.682456,
          2396.627127,
          2281.401762,
          2782.623185,
          3414.465158,
          3741.092837,
          4714.073055,
          5472.53653,
          5193.241458,
          6336.709474,
          7335.166934,
          8050.255372,
          8218.347844,
          8114.343921,
          6175.87603,
          5870.777957,
          6376.706716,
          6729.583332,
          6424.979492,
          5334.556042,
          647.4258118,
          680.9055728,
          747.9888625,
          937.7108963,
          1061.075548,
          1069.029426,
          1114.945281,
          1240.092528,
          1393.216032,
          1344.730406,
          1316.491213,
          1447.945144,
          1403.360252,
          1505.337292,
          1513.830379,
          1242.585608,
          1273.050952,
          1323.814843,
          1428.290463,
          1401.542312,
          1420.661747,
          0.0,
          0.0,
          0.0,
          0.0,
          0.0,
          0.0,
          0.0,
          0.0,
          0.0,
          0.0,
          0.0,
          0.0,
          0.0,
          0.0,
          0.0,
          0.0,
          0.0,
          0.0,
          0.0,
          0.0,
          0.0,
          3789.053886,
          3960.307703,
          4042.705686,
          4147.824369,
          4404.711884,
          4676.379366,
          5227.465952,
          6103.741917,
          6901.388306,
          6801.036735,
          8227.127494,
          9229.834517,
          10075.00462,
          10744.09102,
          10847.16967,
          11642.77805,
          12011.22275,
          12225.57449,
          12485.4239,
          12693.82796,
          12140.85415,
          4887.713716,
          5412.925136,
          6293.225299,
          8129.794584,
          9747.440771,
          10621.50746,
          11797.47447,
          14046.31681,
          16416.58681,
          14653.04355,
          14067.52312,
          14757.18034,
          13401.65662,
          13837.73164,
          13762.37286,
          11933.37738,
          12527.73986,
          13629.28959,
          15227.5601,
          15311.7669,
          14134.16268,
          2747.100303,
          2837.73573,
          2999.241763,
          3197.133185,
          3395.710843,
          3786.66345,
          4683.569067,
          5208.718388,
          5411.269492,
          5529.669375,
          5730.354264,
          6139.718783,
          6497.314764,
          6837.71168,
          7133.337679,
          7694.014637,
          8060.796598,
          8541.213686,
          8824.194008,
          9125.878679,
          9477.852873,
          14388.34806,
          14821.44682,
          16093.21461,
          20252.23898,
          23792.62136,
          24959.25917,
          26729.3234,
          31244.92622,
          35397.36368,
          32109.24251,
          31023.63833,
          32396.38574,
          28912.15694,
          27729.1927,
          27163.33297,
          23408.33668,
          24605.92083,
          26608.87509,
          29334.11093,
          29206.07672,
          27527.84531,
          0.0,
          0.0,
          0.0,
          0.0,
          0.0,
          0.0,
          0.0,
          0.0,
          0.0,
          0.0,
          0.0,
          0.0,
          0.0,
          0.0,
          0.0,
          0.0,
          0.0,
          0.0,
          0.0,
          0.0,
          0.0,
          30743.54768,
          30751.65435,
          33228.69354,
          40458.7774,
          46511.59833,
          48799.8256,
          52026.99951,
          58487.05497,
          64322.0635,
          58163.27688,
          58041.39844,
          61753.64713,
          58507.50805,
          61191.1937,
          62548.98473,
          53254.85637,
          54663.99837,
          57610.09818,
          61591.92887,
          59775.7351,
          61063.31643,
          768.1835703,
          780.9039613,
          791.3841807,
          818.8687857,
          863.2360874,
          904.7366795,
          967.6795838,
          1052.719117,
          1223.852363,
          1267.317394,
          1343.275125,
          1451.548081,
          1559.240651,
          2312.720948,
          2464.294905,
          2658.949245,
          2802.166204,
          2914.358197,
          3141.861711,
          3414.916178,
          3425.484176,
          4787.801441,
          4883.003024,
          4770.851894,
          4897.308367,
          5216.872434,
          5160.889141,
          5518.4232,
          5951.863413,
          6468.944767,
          6903.145806,
          6967.364955,
          7065.460372,
          6849.455933,
          7016.380071,
          7317.486143,
          7597.288894,
          8080.968623,
          7274.517731,
          7687.462963,
          8516.280039,
          7003.859021,
          2869.178139,
          2977.43451,
          3110.325447,
          2418.350422,
          2487.329061,
          3932.784407,
          4109.033591,
          4707.795052,
          5087.983213,
          5039.403122,
          5555.392014,
          5913.426649,
          6110.366576,
          6238.132367,
          6608.825501,
          6921.520594,
          7280.88361,
          7609.353275,
          8050.644076,
          8282.117131,
          7268.19691,
          1445.279324,
          1894.616196,
          2172.101877,
          2425.851842,
          2691.277685,
          3002.138604,
          3328.884156,
          3567.837186,
          4249.01897,
          4231.619235,
          4633.591284,
          5200.555108,
          5682.046108,
          6056.331213,
          6377.093929,
          6124.490887,
          6060.092962,
          6213.503127,
          6295.934662,
          6222.524653,
          5600.389615,
          0.0,
          0.0,
          0.0,
          0.0,
          0.0,
          0.0,
          0.0,
          0.0,
          0.0,
          0.0,
          0.0,
          0.0,
          0.0,
          0.0,
          0.0,
          0.0,
          0.0,
          0.0,
          0.0,
          0.0,
          0.0,
          2001.540049,
          2072.301591,
          2124.10182,
          2209.497245,
          2278.43033,
          2428.568879,
          2631.822739,
          2786.157774,
          2933.39424,
          2858.483344,
          2983.228806,
          3266.010978,
          3428.409332,
          3509.526536,
          3589.042885,
          3705.579704,
          3805.995686,
          3910.254403,
          4052.624775,
          4167.730939,
          3798.636521,
          1725.557584,
          2313.165937,
          2744.191483,
          3618.544476,
          6152.131238,
          10963.40638,
          12857.36882,
          15908.41119,
          22942.6101,
          16668.1217,
          17288.8426,
          21641.6939,
          21711.15159,
          20390.73727,
          19394.08066,
          11283.39805,
          9250.316493,
          9667.857801,
          10005.61679,
          8419.933336,
          7143.238705,
          308.1341868,
          316.8239534,
          293.9556724,
          334.5855715,
          407.769077,
          388.5959475,
          415.0360305,
          439.8321034,
          450.6323989,
          595.1099872,
          501.355317,
          642.5082588,
          783.6612006,
          924.8141424,
          1065.9670842,
          1207.120026,
          1348.2729678,
          1489.4259095999996,
          1630.5788514,
          1771.7317932000005,
          1912.8847350000005,
          4070.609024,
          4505.858332,
          5341.628947,
          7203.523038,
          8914.103557,
          10412.64431,
          12639.40007,
          16744.58445,
          18204.96648,
          14711.73527,
          14663.04461,
          17464.92008,
          17404.2008,
          19050.58592,
          20234.11742,
          17395.04062,
          18282.92339,
          20387.28315,
          23052.30126,
          23397.12001,
          23027.027,
          1728.710498,
          1521.769075,
          1405.448706,
          2148.632475,
          2699.130742,
          3083.838141,
          3176.691168,
          3327.445134,
          3137.387266,
          3385.858846,
          4168.489403,
          4496.613361,
          4527.565039,
          4230.171266,
          4039.159341,
          3680.349473,
          3425.531957,
          3914.418484,
          4105.893683,
          3915.643467,
          3424.282212,
          124.4607909,
          120.7657837,
          111.9272251,
          119.490396,
          136.46625,
          162.4327286,
          194.6874329,
          244.2860523,
          326.4368228,
          380.5690032,
          341.5541227,
          354.4795719,
          467.0778718,
          499.5315302,
          566.9264029,
          640.5419231,
          717.1248698,
          768.5230154,
          771.5248663,
          855.7608852,
          936.3404611,
          2069.317455,
          2030.246351,
          2248.714191,
          2818.91392,
          3311.159895,
          3627.632856,
          3715.932657,
          4040.152119,
          4167.694935,
          3362.820495,
          3652.535933,
          4371.447385,
          4591.577015,
          4840.72727,
          5605.609148,
          5390.714207,
          5651.272721,
          6101.02389,
          6317.41372,
          6175.890653,
          5057.631913,
          24285.46682,
          24946.18919,
          26869.6749,
          32855.13263,
          37702.84538,
          39040.28888,
          41188.0937,
          48414.84509,
          53554.03892,
          47293.99283,
          46459.97325,
          51081.99767,
          47710.79022,
          49878.04324,
          50260.29986,
          42784.69836,
          43784.28396,
          46297.49635,
          49964.49991,
          48628.64176,
          48744.98813,
          22364.02939,
          22433.55498,
          24177.33556,
          29568.3888,
          33741.26192,
          34760.18502,
          36443.62631,
          41508.43269,
          45334.11796,
          41575.42196,
          40638.33525,
          43790.72602,
          40874.70039,
          42592.93539,
          43011.2631,
          36638.18493,
          37037.37419,
          38685.25849,
          41572.48501,
          40578.64429,
          39030.36037,
          4135.99238,
          3993.031336,
          4141.434366,
          4933.46217,
          5739.613204,
          6891.36192,
          7221.369877,
          8458.309179,
          10254.17196,
          7721.018953,
          8849.322608,
          10809.68495,
          9813.505747,
          9683.58162,
          9663.42411,
          7384.700704,
          6984.419712,
          7230.434912,
          7959.007267,
          7766.996554,
          6881.715192,
          0.0,
          0.0,
          0.0,
          0.0,
          0.0,
          0.0,
          0.0,
          0.0,
          0.0,
          0.0,
          0.0,
          0.0,
          0.0,
          0.0,
          0.0,
          0.0,
          0.0,
          0.0,
          0.0,
          0.0,
          0.0,
          749.908535,
          801.9904139,
          853.5164537,
          1010.00798,
          1305.047486,
          1642.760938,
          1996.057129,
          2635.353882,
          3324.735879,
          2822.66743,
          3233.295943,
          4021.743306,
          4421.818242,
          4623.745725,
          4739.188338,
          4014.185944,
          4062.169888,
          4357.000936,
          4722.787783,
          4697.983652,
          4266.690795,
          23635.92922,
          23607.88286,
          25077.72908,
          30243.57653,
          34044.05363,
          34507.36881,
          36323.44774,
          41587.2129,
          45427.15168,
          41485.90165,
          41531.9342,
          46644.77603,
          43858.36306,
          46285.76407,
          47959.99327,
          41086.72967,
          42107.51727,
          44542.2952,
          47950.18081,
          46794.89929,
          46208.42947,
          258.4710399,
          269.0149848,
          304.564636,
          367.8213621,
          417.5080667,
          492.5440562,
          913.3938493,
          1081.166318,
          1217.064435,
          1077.662058,
          1299.345212,
          1549.462719,
          1587.560932,
          2361.090324,
          2012.264247,
          1774.074771,
          1971.956935,
          2074.290733,
          2260.860567,
          2246.625578,
          2205.529016,
          12042.95371,
          12538.17887,
          14110.31337,
          18477.57836,
          21955.10414,
          22551.73577,
          24801.15778,
          28827.32639,
          31997.28202,
          29710.97023,
          26690.60742,
          25450.53412,
          21914.25173,
          21781.59535,
          21587.95755,
          18076.60676,
          17911.79938,
          18536.19072,
          19747.34258,
          19133.75776,
          17622.541,
          5056.977259,
          5041.012235,
          5213.795649,
          5682.705378,
          5741.653658,
          6645.985549,
          6658.223586,
          7212.986819,
          7832.349081,
          7290.834938,
          7258.166561,
          7291.74167,
          7444.089075,
          7789.632355,
          8370.040472,
          9096.538652,
          9628.259169,
          10152.83281,
          10466.88221,
          10827.43529,
          9261.551876,
          1664.298958,
          1550.360366,
          1682.994501,
          1737.879287,
          1859.098363,
          2068.500129,
          2251.087963,
          2490.749127,
          2802.461962,
          2651.817123,
          2852.547327,
          3228.045741,
          3355.036919,
          3522.773706,
          3779.642336,
          3994.636913,
          4173.301666,
          4454.04815,
          4478.424646,
          4638.634943,
          4603.339617,
          363.4822793,
          336.1540207,
          343.6026312,
          393.7396899,
          407.3009759,
          322.41554,
          453.4037133,
          659.992931,
          715.0965267,
          674.0854826,
          672.4249304,
          651.1361134,
          717.0505359,
          769.0031667,
          787.2385644,
          769.2554754,
          732.2915119,
          855.5752706,
          955.1112811,
          1058.143368,
          1194.037865,
          308.9103184,
          319.9574494,
          333.0585793,
          372.0561949,
          405.0751184,
          436.4752202,
          430.0039403,
          493.7219932,
          599.9952372,
          559.4145709,
          558.1746681,
          703.6605673,
          616.375664,
          634.6620391,
          623.3130914,
          603.3993815,
          661.4578387,
          738.5499449,
          802.7673851,
          749.453747,
          727.5201717,
          954.4003181,
          955.6653806,
          974.9491933,
          997.2113729,
          1056.423886,
          1105.506825,
          3188.67316,
          3658.479967,
          4050.786237,
          4233.766143,
          4580.698762,
          4908.566448,
          5378.810878,
          5489.140726,
          5407.147366,
          5576.825852,
          5811.397924,
          6124.95367,
          6145.819277,
          6609.51128,
          6955.939217,
          805.0256325,
          735.5211179,
          692.0301629,
          542.3335961,
          667.2825464,
          781.2766578,
          804.5245119,
          1002.888487,
          1086.938192,
          1183.604854,
          1191.972664,
          1287.95465,
          1337.335946,
          1432.837618,
          1435.13647,
          1386.854191,
          1290.380508,
          1369.063734,
          1479.345827,
          1312.770636,
          1272.367992,
          1080.510472,
          1120.54996,
          1122.0886,
          1145.497946,
          1204.479826,
          1296.694784,
          1420.134396,
          1572.064888,
          1727.793682,
          1777.272802,
          1891.158589,
          2073.90437,
          2129.521439,
          2088.097206,
          2190.653139,
          2286.203037,
          2326.297278,
          2436.671636,
          2492.868968,
          2556.456891,
          2389.012431,
          4624.281657,
          5276.033189,
          6655.333009,
          8421.103313,
          10303.70419,
          11225.93258,
          11493.10041,
          13944.97101,
          15777.19202,
          13081.79264,
          13223.083,
          14240.2575,
          12989.18028,
          13719.95054,
          14298.83367,
          12720.71202,
          13107.37791,
          14623.69665,
          16427.37276,
          16735.65978,
          15980.74089,
          32096.37226,
          28897.44394,
          32409.21615,
          39476.69785,
          47334.93065,
          56794.85016,
          57492.93425,
          69495.72674,
          56943.37045,
          41301.27322,
          43237.07295,
          47714.59223,
          45995.54788,
          49804.983,
          54576.74481,
          52951.68151,
          61987.92636,
          72010.14903,
          74469.80406,
          68941.46223,
          59270.18005,
          443.3141938,
          451.5729973,
          470.9867868,
          546.7266135,
          627.7742417,
          714.8610154,
          806.7532806,
          1028.334772,
          998.5223415,
          1101.960838,
          1357.563727,
          1458.104066,
          1443.882435,
          1449.610451,
          1573.885642,
          1605.605445,
          1732.554242,
          1980.66702,
          1996.915087,
          2100.751461,
          1927.707823,
          780.1902047,
          748.2576087,
          900.1775881,
          1065.64852,
          1150.261367,
          1263.287332,
          1589.801489,
          1860.002811,
          2166.854231,
          2261.247309,
          3122.362673,
          3643.047176,
          3694.35934,
          3623.927241,
          3491.637491,
          3331.695115,
          3562.816334,
          3837.578024,
          3893.859578,
          4135.201531,
          3869.588427,
          2058.264401,
          1494.388802,
          1320.734706,
          854.8252808,
          1391.963489,
          1855.522348,
          2373.209448,
          3182.841351,
          4636.639325,
          3853.82862,
          4657.280269,
          6045.494567,
          6836.073995,
          7076.552265,
          6637.684375,
          4688.318017,
          4550.658638,
          4985.452879,
          5915.850854,
          5980.626918,
          4145.862936,
          26269.18162,
          28257.93859,
          32550.27907,
          41112.74822,
          47666.54708,
          50914.03129,
          54283.68178,
          61318.46603,
          61103.51347,
          51927.23096,
          48607.94052,
          52108.83323,
          49028.82739,
          51518.3881,
          55525.89725,
          61987.551,
          62818.96636,
          69601.68388,
          79068.97461,
          80886.61574,
          85267.76474,
          21061.48228,
          20316.24805,
          18439.64616,
          18991.37985,
          19910.61067,
          20585.13861,
          21853.14024,
          24952.54759,
          29650.77025,
          27780.46372,
          30780.02382,
          33775.512,
          32667.60687,
          36499.45611,
          37847.64994,
          35808.43643,
          37330.2618,
          40774.12961,
          42063.45313,
          43951.24773,
          44168.94364,
          20087.59199,
          20483.21599,
          22270.14412,
          27465.6753,
          31259.7165,
          32043.14037,
          33501.65817,
          37822.66524,
          40778.34274,
          37079.75867,
          36000.52012,
          38599.06221,
          35053.52624,
          35549.9747,
          35518.41529,
          30230.2263,
          30939.71425,
          32326.67421,
          34605.26273,
          33641.63375,
          31714.22095,
          3392.123878,
          3437.655517,
          3609.203331,
          3480.511665,
          3733.798671,
          4103.601637,
          4331.292053,
          4623.747897,
          4928.126409,
          4335.178411,
          4704.04776,
          5111.465987,
          5209.859264,
          4989.734089,
          4834.284009,
          4907.927415,
          4843.7499,
          5070.099503,
          5359.993789,
          5369.498371,
          4664.530242,
          39169.35957,
          34406.18246,
          32820.79364,
          35387.03742,
          38298.98017,
          37812.89502,
          35991.546,
          35779.02454,
          39876.30397,
          41308.99684,
          44968.15623,
          48760.07895,
          49145.28043,
          40898.6479,
          38475.39525,
          34960.63938,
          39400.73936,
          38891.08627,
          39808.16856,
          40777.6087,
          40193.25244,
          1651.621798,
          1720.361427,
          1802.055064,
          1876.259338,
          2044.963723,
          2183.394643,
          2513.028732,
          2735.378767,
          3455.769953,
          3559.692102,
          3736.645462,
          3852.890025,
          3910.346894,
          4044.426869,
          4131.44735,
          4164.108769,
          4175.356602,
          4231.51828,
          4308.151074,
          4405.487109,
          4282.765825,
          1229.001247,
          1490.92709,
          1658.030785,
          2068.123979,
          2874.288483,
          3771.278957,
          5291.575305,
          6771.414797,
          8458.017154,
          7165.223175,
          9070.488253,
          11634.0012,
          12386.69927,
          13890.63096,
          12807.26069,
          10510.77189,
          7714.841844,
          9247.581331,
          9812.626371,
          9812.595808,
          9122.23343,
          397.4826588,
          395.3294716,
          389.5426302,
          429.787819,
          451.6687666,
          511.6163943,
          685.9544229,
          825.666555,
          902.0699578,
          1035.338787,
          1080.296184,
          1085.487152,
          1271.815383,
          1354.820833,
          1462.220052,
          1464.554009,
          1525.235192,
          1633.491216,
          1794.091175,
          1912.647867,
          1878.580703,
          796.8032036,
          735.0691064,
          826.9168653,
          1015.667006,
          1131.152504,
          1214.635603,
          1168.473302,
          1374.395199,
          1428.134977,
          1312.023443,
          1516.76323,
          1734.903839,
          1788.691439,
          1715.814321,
          1642.820129,
          1542.616465,
          1584.738015,
          1640.571205,
          1727.845001,
          1601.861869,
          1653.540297,
          18440.37852,
          16587.24865,
          17846.37616,
          22148.37815,
          27011.654,
          35591.03713,
          42781.56475,
          45782.14857,
          55494.9301,
          37561.72593,
          38577.49828,
          48631.7834,
          51979.12069,
          49388.05338,
          44062.34091,
          29869.55275,
          27653.15762,
          29759.46747,
          33399.06044,
          32373.25112,
          24811.76971,
          0.0,
          0.0,
          0.0,
          0.0,
          0.0,
          0.0,
          0.0,
          0.0,
          0.0,
          0.0,
          0.0,
          0.0,
          0.0,
          0.0,
          0.0,
          0.0,
          0.0,
          0.0,
          0.0,
          0.0,
          0.0,
          3361.640869,
          3578.0019,
          4136.933297,
          5145.195232,
          6378.666521,
          7594.902384,
          9723.446902,
          14113.52913,
          16467.14369,
          12331.92855,
          11420.994,
          13338.96224,
          13847.33794,
          15007.49186,
          15721.45233,
          13780.91355,
          14322.02268,
          15656.34749,
          17856.30712,
          17926.84159,
          17726.25294,
          4491.641934,
          4422.389292,
          4579.459593,
          4576.387617,
          4630.790585,
          4575.107459,
          4626.853003,
          5207.792723,
          6111.327281,
          7354.953605,
          7761.641489,
          7675.30894,
          7952.151266,
          7933.23332,
          7687.759336,
          7663.920232,
          7653.73363,
          7819.60467,
          8058.444337,
          7578.172368,
          4649.547646,
          436.4881373,
          405.6057121,
          382.1896086,
          573.6517781,
          753.3759044,
          842.812631,
          904.6061298,
          846.5423208,
          889.1342855,
          874.7298605,
          1119.843641,
          1287.269536,
          1229.636232,
          1166.911756,
          1194.575627,
          1146.064688,
          1018.931093,
          1102.94441,
          1192.48432,
          1113.37214,
          875.353433,
          306.8338642,
          306.7102516,
          306.4739396,
          243.0895775,
          286.0647253,
          294.8932201,
          336.1156743,
          396.6017613,
          478.3995401,
          470.9481214,
          513.4455667,
          596.8966353,
          675.0101918,
          747.8686601,
          739.911935,
          721.5810505,
          740.914906,
          721.085044,
          710.2659984,
          672.3404992,
          632.9363856,
          7142.771786,
          6266.489821,
          3703.042952,
          4673.145576,
          5800.588826,
          8163.00937,
          9336.353498,
          11300.19323,
          14382.59529,
          10275.26154,
          12064.77291,
          5554.180053,
          13025.27932,
          10363.80425,
          6466.908237,
          4337.919139,
          4035.196802,
          5756.699325,
          7877.12461,
          7685.948132,
          3699.294765,
          3293.229979,
          3525.793632,
          4141.592702,
          5499.428989,
          6700.327192,
          7854.765279,
          9230.707981,
          12285.44705,
          14944.99665,
          11820.77616,
          11987.50841,
          14376.94786,
          14367.70942,
          15729.65247,
          16551.0182,
          14258.22933,
          14998.12506,
          16843.69965,
          19176.81215,
          19575.76848,
          20233.64135,
          48538.7829,
          48398.22929,
          52754.27325,
          65544.59195,
          76404.41504,
          80957.94128,
          90712.79929,
          107338.8652,
          119932.2437,
          108987.6776,
          110777.9079,
          118869.2999,
          112591.1162,
          119966.0349,
          123514.1967,
          105419.6085,
          106826.7264,
          109921.0314,
          117197.4817,
          113218.7133,
          116014.6025,
          293.6071574,
          334.4416177,
          319.2163788,
          368.7972369,
          284.4877263,
          319.5374751,
          338.7511983,
          438.6555158,
          536.3514017,
          467.5397834,
          471.9592116,
          531.2654321,
          518.1528127,
          541.0659437,
          530.8610389,
          467.2354316,
          475.9555568,
          515.2933234,
          523.9459714,
          522.9895243,
          471.4914963,
          156.3858168,
          150.1489426,
          298.4334104,
          267.3990119,
          282.5671076,
          289.5552148,
          308.1636182,
          332.2590946,
          387.6057212,
          438.2118568,
          478.6686885,
          534.9510502,
          391.5617052,
          348.4298737,
          371.2695217,
          380.5969877,
          315.7779871,
          506.1372944,
          544.5934354,
          591.8463896,
          636.8205368,
          4043.662923,
          3913.429386,
          4165.726104,
          4461.847325,
          4952.213958,
          5587.02478,
          6209.126167,
          7243.456801,
          8474.587762,
          7292.494973,
          9040.568495,
          10399.37021,
          10817.43171,
          10970.1043,
          11319.06194,
          9955.242722,
          9817.78709,
          10259.30481,
          11380.08209,
          11432.823,
          10412.34898,
          2234.595861,
          3038.781417,
          3049.207981,
          3476.006273,
          3941.431136,
          3640.012132,
          4809.93374,
          5574.401981,
          6614.23618,
          6636.543871,
          7076.739821,
          7291.465967,
          7265.723399,
          7928.476443,
          8499.307148,
          9033.41027,
          9209.443564,
          9577.346946,
          10279.07998,
          10561.61351,
          6924.105745,
          270.542236,
          307.7048595,
          336.4187392,
          393.4050091,
          440.9567771,
          489.0213369,
          523.0386031,
          597.4844576,
          697.0878685,
          701.7171134,
          710.2742494,
          837.605821,
          778.6252695,
          805.0339796,
          848.279043,
          751.4728866,
          780.7235695,
          830.0215153,
          894.8047765,
          879.0431873,
          862.4530188,
          10432.32812,
          10402.23337,
          11289.88984,
          13669.49712,
          15197.05671,
          15888.17232,
          16723.88418,
          19485.87119,
          22205.35681,
          21083.27715,
          21799.17426,
          23155.55479,
          22527.63676,
          24771.07658,
          26754.26845,
          24921.60368,
          25741.44606,
          28250.69777,
          30672.29224,
          30186.19596,
          27884.64283,
          676.5690224,
          646.1151155,
          639.6675829,
          717.8998676,
          803.7779156,
          970.8423607,
          1259.541505,
          1357.124285,
          1579.511548,
          1389.338533,
          1610.921603,
          1879.772472,
          1815.218939,
          1892.094,
          1677.109019,
          1524.071753,
          1536.854888,
          1587.611263,
          1670.204165,
          1743.302901,
          1701.991163,
          3929.075495,
          3856.625227,
          4018.948897,
          4793.718179,
          5388.065784,
          5282.906022,
          5695.969327,
          6574.654338,
          8030.063005,
          7318.12641,
          8000.376432,
          9197.026972,
          9291.227619,
          9637.00265,
          10153.93822,
          9260.447303,
          9681.618567,
          10484.90836,
          11208.34382,
          11097.16898,
          8627.843157,
          7157.8145,
          7544.568723,
          7593.137345,
          7075.369643,
          7484.486399,
          8277.671564,
          9068.294218,
          9642.680517,
          10016.57121,
          8002.972178,
          9271.398396,
          10203.4213,
          10241.72783,
          10725.18359,
          10928.91601,
          9616.645558,
          8744.515559,
          9287.849587,
          9686.984927,
          9950.45008,
          8329.271313,
          474.2170943,
          524.0540084,
          571.594979,
          646.192471,
          797.9777263,
          998.829388,
          1334.212724,
          1632.727582,
          2136.562402,
          1714.361827,
          2643.287083,
          3757.565415,
          4351.888461,
          4366.089537,
          4158.521471,
          3875.321675,
          3658.3903,
          3687.100003,
          4156.84697,
          4404.84583,
          4060.950518,
          1334.943464,
          1339.294077,
          1416.488396,
          1725.457466,
          1952.902534,
          2018.025547,
          2196.011276,
          2499.259938,
          2890.360715,
          2866.92411,
          2839.92612,
          3046.947854,
          2912.658275,
          3121.680081,
          3171.699192,
          2875.257985,
          2896.722196,
          3035.454433,
          3226.982794,
          3235.00066,
          3058.691689,
          319.3596208,
          296.2684069,
          302.5452337,
          326.0751909,
          383.2702219,
          416.8098242,
          435.3340633,
          482.1985636,
          563.6496343,
          520.4026316,
          471.9043433,
          594.5861471,
          657.6446765,
          664.0775104,
          673.969212,
          589.85905,
          428.9266729,
          461.4150941,
          503.3179252,
          506.6416391,
          448.5442807,
          146.6045788,
          131.7153072,
          128.0997081,
          161.0555236,
          193.3687658,
          216.3115014,
          240.6240142,
          314.2022942,
          460.9088892,
          586.1681802,
          746.94536,
          1061.344429,
          1134.302224,
          1168.1654,
          1210.097636,
          1196.743357,
          1136.610665,
          1151.114462,
          1250.173691,
          1271.111575,
          1467.604281,
          2185.604115,
          1950.648536,
          1808.884899,
          2621.700395,
          3464.418226,
          3739.531717,
          4059.101348,
          4405.410399,
          4212.367197,
          4295.387143,
          5394.996712,
          5806.748246,
          5942.29274,
          5392.094938,
          5469.9014,
          4896.61526,
          4546.986688,
          5367.114674,
          5588.392864,
          5009.685904,
          4179.278066,
          0.0,
          0.0,
          0.0,
          0.0,
          0.0,
          0.0,
          0.0,
          0.0,
          0.0,
          0.0,
          4752.175082,
          6560.27487,
          9562.667866,
          9648.495655,
          10171.48073,
          8341.012278,
          9521.042101,
          10339.38548,
          11614.66508,
          11029.73558,
          10580.26819,
          229.4903926,
          246.7255581,
          244.7208435,
          252.4023518,
          286.1576726,
          315.80563,
          346.9453313,
          391.3800572,
          470.455459,
          478.1732528,
          592.4012071,
          799.5833769,
          804.1416073,
          823.3598746,
          844.8531248,
          901.7496077,
          899.523581,
          1048.453755,
          1178.525932,
          1194.956876,
          1155.142854,
          26149.41108,
          26873.27593,
          29204.03983,
          35672.2066,
          40362.39478,
          41979.05585,
          44863.35063,
          51733.44213,
          57644.47997,
          52514.02712,
          50950.03434,
          54159.34661,
          50073.00566,
          52184.06185,
          52830.17423,
          45175.23189,
          46007.85292,
          48554.99228,
          53018.62936,
          52476.27325,
          52397.11671,
          16039.16917,
          15174.27843,
          16885.8944,
          21817.31511,
          25770.53108,
          26861.69844,
          29604.05264,
          36864.85762,
          37353.7373,
          35391.08787,
          37494.89516,
          40697.65294,
          37294.02281,
          38503.25385,
          39675.56631,
          32520.29416,
          32391.19722,
          33976.55555,
          36382.48766,
          34788.52928,
          33194.570900000006,
          13641.10272,
          13882.85683,
          16874.18749,
          21913.70817,
          25420.23488,
          27751.06547,
          26654.5932,
          32479.98174,
          31252.96256,
          28209.36233,
          33676.77412,
          38387.62708,
          39973.38076,
          42976.64959,
          44572.89875,
          38630.72659,
          40080.49411,
          42992.89527,
          43306.07,
          42755.21626,
          41441.46667,
          1007.499839,
          1034.551387,
          1000.936715,
          1005.733044,
          1080.269119,
          1162.289685,
          1226.644309,
          1327.966782,
          1499.25762,
          1444.36951,
          1503.864191,
          1655.802946,
          1760.460308,
          1811.636803,
          1934.062922,
          2049.851666,
          2107.57406,
          2159.156714,
          2014.575189,
          1926.699694,
          1905.261152,
          197.8326834,
          208.3770599,
          228.2359086,
          268.349893,
          286.4900658,
          321.7236612,
          336.2819503,
          390.2844802,
          478.502559,
          464.057999,
          476.8695322,
          512.595335,
          529.7444581,
          552.569139,
          564.5967488,
          484.1531374,
          500.2149113,
          517.7715723,
          570.723922,
          554.0993893,
          567.6698923,
          567.9307221,
          590.381815,
          741.7474939,
          795.3862287,
          1007.874342,
          1268.383462,
          1656.424794,
          1883.461388,
          2259.114059,
          1911.607866,
          2280.437337,
          2487.598017,
          2723.822191,
          2961.549422,
          3098.985791,
          2687.480056,
          2176.002772,
          1968.565398,
          2027.778549,
          2229.858652,
          2097.092473,
          1861.898065,
          1823.023561,
          1989.135125,
          2440.476943,
          2795.899261,
          3072.678573,
          3362.968419,
          4079.391954,
          4841.251694,
          4584.709832,
          4577.688755,
          5098.097583,
          4728.308142,
          5241.058345,
          5495.735049,
          4861.553971,
          5149.589074,
          5450.492881,
          6108.740108,
          6070.388054,
          5917.262575,
          38131.46061,
          38542.7151,
          43084.47247,
          50134.89077,
          57603.83602,
          66810.47852,
          74148.32008,
          85139.96045,
          96944.09561,
          79977.69708,
          87693.79007,
          100600.5624,
          101524.1419,
          102913.4508,
          97019.18275,
          74355.51586,
          70460.56053,
          75496.75406,
          82267.80932,
          75719.7529,
          67329.67779,
          8601.271944,
          8475.968643,
          8626.965234,
          9066.312371,
          10126.13774,
          12377.08001,
          14420.51204,
          15838.46956,
          22139.74071,
          16823.79498,
          21369.35297,
          23837.31094,
          24988.01259,
          23888.62658,
          23017.93398,
          18444.927,
          16772.73921,
          17329.18546,
          18947.3665,
          17700.70349,
          14485.38612,
          576.1955804,
          544.4942514,
          534.3039007,
          599.3763305,
          687.8364127,
          748.9225893,
          836.8605262,
          908.0950852,
          990.8466112,
          957.9956753,
          987.409712,
          1164.978823,
          1198.117637,
          1208.91771,
          1251.175719,
          1356.667831,
          1368.426961,
          1464.926195,
          1482.213067,
          1288.556325,
          1188.859757,
          4060.317793,
          4046.429148,
          4126.232386,
          4267.292687,
          4592.152614,
          4916.907612,
          5348.884253,
          6166.187871,
          7154.274501,
          7576.140457,
          8082.016175,
          9358.26813,
          10722.26147,
          11889.09507,
          12796.07403,
          13630.30114,
          14343.98026,
          15146.40851,
          15544.99908,
          15774.25494,
          12509.83529,
          602.1864903,
          515.6847804,
          491.8343081,
          568.2463486,
          618.0367032,
          749.1865116,
          1256.979648,
          1401.949447,
          1672.951024,
          1626.312855,
          1949.351185,
          2406.910967,
          2790.676303,
          2729.888751,
          2920.782986,
          2679.346579,
          2509.629637,
          2695.249009,
          2801.371393,
          2820.306397,
          2757.21753,
          1663.604939,
          1565.054289,
          1300.852367,
          1365.416418,
          1679.49512,
          1843.634108,
          2271.088885,
          2976.824014,
          4047.909791,
          3626.818637,
          4359.428415,
          5329.387437,
          5185.141549,
          5936.975959,
          6118.31811,
          5413.776021,
          5324.609068,
          5678.869972,
          5782.78455,
          5380.963322,
          5001.07276,
          1955.588006,
          1941.475342,
          2021.240038,
          2145.643889,
          2417.034363,
          2729.499172,
          3154.331349,
          3606.070689,
          4220.616378,
          4196.311627,
          5082.353706,
          5869.323882,
          6528.971775,
          6756.752996,
          6672.877373,
          6229.100674,
          6204.996457,
          6710.507602,
          6957.793411,
          7027.612207,
          6126.87454,
          1072.801752,
          990.5659913,
          1036.158331,
          1048.008205,
          1121.490006,
          1244.348741,
          1452.438089,
          1744.639979,
          1998.02692,
          1904.196388,
          2217.472153,
          2450.735694,
          2694.305109,
          2871.429701,
          2959.645435,
          3001.043182,
          3073.654686,
          3123.245642,
          3252.110274,
          3485.340844,
          3298.829586,
          4501.454067,
          4991.244358,
          5207.171421,
          5701.602212,
          6681.386472,
          8021.505743,
          9035.410467,
          11254.51739,
          13996.02515,
          11526.05589,
          12613.011,
          13879.56099,
          13097.27085,
          13696.4663,
          14271.30585,
          12578.49547,
          12447.43959,
          13864.68176,
          15468.48222,
          15732.20313,
          15720.99466,
          11497.75346,
          11724.6115,
          12875.32079,
          15762.97579,
          18031.00042,
          18773.12536,
          19822.84603,
          22782.09462,
          24847.54514,
          23059.79745,
          22498.69086,
          23186.91313,
          20564.88986,
          21647.04181,
          22074.30076,
          19242.36647,
          19978.40121,
          21437.3475,
          23551.04829,
          23330.81729,
          22176.29671,
          16192.12697,
          18123.1987,
          18731.45939,
          19557.12025,
          20988.99233,
          21959.3227,
          22935.94116,
          23664.88235,
          24898.33459,
          25768.72589,
          26435.74879,
          27278.88305,
          27944.73389,
          28513.16574,
          28981.45733,
          29763.4883,
          30627.1634,
          31108.76057,
          31604.70151,
          32850.54861,
          32290.92114,
          29976.16763,
          28517.22084,
          30214.67042,
          34517.60321,
          42124.94084,
          51455.95094,
          59530.561,
          65421.37692,
          80234.19083,
          59094.65918,
          67403.08768,
          82409.94165,
          85075.98654,
          85050.68434,
          83858.34046,
          63039.11263,
          57162.96801,
          59124.86727,
          65907.94844,
          62276.42869,
          50124.38594,
          1659.90764,
          1825.179805,
          2119.882673,
          2679.41191,
          3494.944517,
          4617.929016,
          5757.496429,
          8360.166321,
          10435.04398,
          8548.118672,
          8214.076893,
          9099.217539,
          8507.104775,
          9547.852151,
          10043.67745,
          8969.148921,
          9548.587403,
          10807.00917,
          12398.98198,
          12899.34611,
          12896.08862,
          260.6011858,
          238.7812778,
          233.1512636,
          249.7433131,
          273.6336903,
          331.6901134,
          366.8943924,
          438.6641845,
          543.5453565,
          579.726615,
          609.724917,
          668.4946722,
          725.1697703,
          722.8943285,
          743.559038,
          751.0773926,
          744.7607488,
          772.3169891,
          783.6371628,
          820.1492886,
          797.8555207,
          0.0,
          0.0,
          0.0,
          0.0,
          0.0,
          0.0,
          0.0,
          0.0,
          0.0,
          0.0,
          0.0,
          0.0,
          0.0,
          0.0,
          0.0,
          0.0,
          0.0,
          0.0,
          0.0,
          0.0,
          0.0,
          0.0,
          0.0,
          0.0,
          0.0,
          0.0,
          0.0,
          0.0,
          0.0,
          0.0,
          0.0,
          0.0,
          0.0,
          0.0,
          0.0,
          0.0,
          0.0,
          0.0,
          0.0,
          0.0,
          0.0,
          0.0,
          0.0,
          0.0,
          0.0,
          0.0,
          0.0,
          0.0,
          0.0,
          0.0,
          0.0,
          0.0,
          0.0,
          0.0,
          0.0,
          0.0,
          0.0,
          0.0,
          0.0,
          0.0,
          0.0,
          0.0,
          0.0,
          1542.066736,
          1556.999425,
          1633.007661,
          1909.154441,
          2353.455973,
          2590.489858,
          2796.601169,
          3133.671327,
          3378.953029,
          3168.228207,
          3566.42836,
          3932.105847,
          4020.959844,
          4037.813829,
          3937.186246,
          4071.926959,
          4109.663228,
          4258.978767,
          4187.504729,
          4322.868457,
          4067.843459,
          0.0,
          524.6698721,
          577.628404,
          678.7379639,
          745.3202999,
          866.5049956,
          883.0970413,
          896.8677913,
          1098.755219,
          1067.908053,
          1090.260763,
          1254.541598,
          1330.620114,
          1564.768548,
          1770.467688,
          1584.775657,
          1700.097997,
          1813.807434,
          1953.513257,
          1987.579702,
          2157.840446,
          9171.331476,
          8684.645762,
          8695.396483,
          9609.968686,
          11185.13704,
          13791.45476,
          15384.73836,
          16516.63178,
          20078.26007,
          16113.14371,
          19262.5476,
          23745.88058,
          25243.602,
          24845.12466,
          24464.21256,
          20627.92693,
          19878.76384,
          20802.46631,
          23337.01755,
          23139.79798,
          20110.31619,
          613.7323845,
          648.4414733,
          681.3118508,
          831.8310403,
          932.1680954,
          992.6880581,
          1027.731441,
          1197.409561,
          1403.949385,
          1308.937808,
          1271.583281,
          1366.774501,
          1317.779802,
          1372.665779,
          1396.657339,
          1219.249415,
          1269.903294,
          1361.701972,
          1458.069093,
          1430.148259,
          1471.830962,
          7578.851053,
          7663.13708,
          8331.261997,
          8524.961236,
          10176.65871,
          11092.51074,
          12014.39987,
          12154.82994,
          11122.86207,
          9706.95606,
          10804.68447,
          12189.09516,
          12006.68296,
          14765.67398,
          14700.33434,
          14745.34146,
          15068.62035,
          15945.26493,
          15994.81986,
          16213.48076,
          10764.42042,
          138.6987225,
          229.3756595,
          252.396007,
          266.4469054,
          266.5693713,
          292.3490663,
          323.3890184,
          360.3716605,
          408.4810085,
          391.200943,
          401.8348761,
          448.3376621,
          566.3782351,
          716.8358269,
          714.6997957,
          588.2288628,
          501.4151655,
          496.6822949,
          533.9915333,
          521.7548367,
          509.376594,
          23852.32703,
          21700.02005,
          22159.68886,
          23730.15245,
          27608.53737,
          29961.26328,
          33769.15416,
          39432.93835,
          40007.46926,
          38927.20688,
          47236.96023,
          53890.42873,
          55546.48854,
          56967.42579,
          57562.53079,
          55646.61875,
          56848.17539,
          61176.45636,
          66679.04649,
          65640.70795,
          59797.75218,
          0.0,
          0.0,
          0.0,
          0.0,
          0.0,
          0.0,
          0.0,
          0.0,
          0.0,
          0.0,
          0.0,
          0.0,
          0.0,
          0.0,
          0.0,
          0.0,
          0.0,
          0.0,
          0.0,
          0.0,
          0.0,
          10201.30354,
          10479.75963,
          11777.15566,
          14849.03724,
          17233.13856,
          18098.90854,
          19672.96556,
          23787.64656,
          27483.33717,
          24694.23049,
          23509.54314,
          25095.13229,
          22643.10025,
          23496.6025,
          24214.92207,
          20881.76693,
          21663.64341,
          23455.94473,
          26104.10279,
          25942.95477,
          25517.33067,
          1017.613757,
          965.7656751,
          795.6015338,
          788.6131193,
          867.1071722,
          1014.85528,
          1119.693297,
          1260.289404,
          1388.963877,
          1428.505673,
          1604.20583,
          1938.891187,
          2141.821522,
          2248.614935,
          2274.887866,
          2167.119928,
          2225.486842,
          2332.844216,
          2411.862926,
          2344.048976,
          2250.601164,
          0.0,
          0.0,
          0.0,
          0.0,
          0.0,
          0.0,
          0.0,
          0.0,
          0.0,
          0.0,
          0.0,
          0.0,
          0.0,
          350.1681618,
          374.1147807,
          386.437817,
          389.8220615,
          384.4634014,
          389.8313955,
          419.3948077,
          438.2551656,
          3374.718423,
          2971.819769,
          2797.087291,
          4217.11478,
          5409.133489,
          6033.101491,
          6266.533987,
          6780.884555,
          6350.65271,
          6532.736968,
          8148.961202,
          8810.930651,
          8222.197279,
          7467.079185,
          6988.808739,
          6259.839681,
          5756.965741,
          6690.939847,
          7005.095413,
          6624.761865,
          5655.867654,
          14713.06571,
          15355.70317,
          17025.53198,
          21463.44266,
          24861.2828,
          26419.29686,
          28365.31349,
          32549.97098,
          35366.2596,
          32042.47408,
          30502.71971,
          31636.44631,
          28324.42934,
          29059.54795,
          29461.55033,
          25732.01836,
          26505.34322,
          28100.58624,
          30349.7521,
          29555.3157,
          27063.19392,
          869.696285,
          832.8035723,
          867.4914868,
          982.195697,
          1065.784437,
          1248.698185,
          1435.816813,
          1630.388906,
          2037.322103,
          2090.401826,
          2799.648738,
          3200.861132,
          3350.521876,
          3610.289363,
          3819.25353,
          3843.780672,
          3886.291502,
          4077.043841,
          4059.20823,
          3852.265603,
          3680.673477,
          366.172742,
          456.6242379,
          512.4412582,
          586.7532114,
          711.9219842,
          914.1665223,
          1143.932251,
          1461.315914,
          1551.085771,
          1202.557881,
          1338.443724,
          1366.410905,
          1039.762051,
          1160.535552,
          1303.838955,
          1329.635962,
          1069.839957,
          1011.521216,
          740.746767,
          610.9278615,
          486.4188163,
          2012.281651,
          1750.576737,
          2267.753984,
          2611.377493,
          3006.183233,
          3590.648183,
          5197.747907,
          5744.759727,
          6831.983622,
          7408.360786,
          8255.874872,
          8263.203803,
          9200.974786,
          9402.164419,
          9471.922001,
          9168.237157,
          5872.789429,
          6295.560562,
          6938.086981,
          6853.693411,
          4916.605666,
          29624.91267,
          27247.85773,
          29899.19525,
          37321.7979,
          42821.67314,
          43437.06312,
          46593.60216,
          53700.00534,
          56152.55234,
          46946.96027,
          52869.04429,
          60755.75955,
          58037.82132,
          61126.9432,
          60020.36046,
          51545.48361,
          51965.15715,
          53791.50873,
          54589.06039,
          51939.42974,
          52274.40879,
          38952.0342,
          39727.84667,
          42578.76314,
          49470.39713,
          54878.471,
          56546.78566,
          59300.61722,
          65359.51922,
          74572.23237,
          72083.1677,
          77117.12601,
          91254.03476,
          86547.67089,
          88109.48675,
          89684.70758,
          84776.14217,
          83073.28008,
          83352.08865,
          86388.40495,
          85334.51946,
          87097.03645,
          138.4291467,
          171.0480646,
          190.0026776,
          237.7573352,
          311.6272313,
          340.5831832,
          408.8384135,
          526.6432883,
          715.8657063,
          676.1235111,
          749.5524123,
          847.3824321,
          969.2961039,
          1048.225602,
          1104.172358,
          978.4049812,
          807.1025861,
          848.6723799,
          853.2188734,
          890.5444024,
          859.1379611,
          2007.735271,
          1893.264239,
          2096.187802,
          2359.116831,
          2660.126835,
          2894.062656,
          3369.543198,
          3973.017172,
          4379.658787,
          4213.006654,
          5076.339872,
          5492.1215,
          5860.581471,
          6168.261356,
          5951.883487,
          5840.053067,
          5993.305516,
          6593.818352,
          7296.879608,
          7817.009671,
          7186.874092,
          302.958592,
          292.8231035,
          328.3981073,
          396.9205798,
          413.3298662,
          406.562366,
          408.0571173,
          449.7382505,
          546.3503702,
          540.6087126,
          534.0447826,
          587.0974928,
          571.8067239,
          621.3988536,
          640.9342196,
          570.9099672,
          803.1518934,
          830.7452767,
          901.5230169,
          893.3524541,
          914.9507925,
          2091.113009,
          1839.086867,
          1845.669127,
          2030.775469,
          2301.654115,
          2594.418739,
          2873.076637,
          2910.145122,
          3331.546555,
          3006.606344,
          3527.952342,
          4002.813771,
          4581.783245,
          4428.146521,
          4354.24436,
          4336.239603,
          4157.877249,
          4513.432531,
          4740.700272,
          4903.012138,
          4624.823449,
          6435.134212,
          6939.828471,
          7053.087371,
          8807.866068,
          10293.86925,
          12327.28071,
          14102.59329,
          16539.89075,
          21204.00818,
          14514.24061,
          16683.39306,
          19034.12071,
          19157.45977,
          20143.54541,
          20270.93377,
          18214.46062,
          16250.62869,
          16173.74005,
          17037.86236,
          16637.16294,
          15425.63511,
          2211.835015,
          2253.034852,
          2344.396907,
          2760.405122,
          3111.374381,
          3193.204358,
          3369.924443,
          3776.332046,
          4307.580023,
          4128.463959,
          4344.64192,
          4479.930327,
          4361.687736,
          4444.816511,
          4544.016632,
          4094.836287,
          3924.363346,
          3687.777461,
          3680.892597,
          3574.654024,
          3521.591948,
          4337.478003,
          3142.920998,
          3687.956093,
          4760.104019,
          6101.632117,
          7456.296101,
          8101.856924,
          9791.88245,
          10941.17215,
          9103.474051,
          10742.77498,
          11420.55546,
          11795.63346,
          12614.78161,
          12157.99043,
          11006.27952,
          10894.60338,
          10589.66772,
          9454.348443,
          9121.515167,
          8536.43332,
          643.1909754,
          774.482152,
          967.8874353,
          1283.908782,
          1453.917784,
          1704.41538,
          2136.472101,
          2600.368758,
          3904.465301,
          4036.456805,
          4439.202128,
          5649.962106,
          6675.178055,
          7304.285771,
          7962.244925,
          6432.685325,
          6387.682575,
          6587.092604,
          6967.375043,
          7612.03518,
          8256.695317,
          1463.166211,
          1392.334348,
          1610.653001,
          1874.853819,
          2181.636269,
          2184.565259,
          2263.575948,
          2645.109505,
          2936.521547,
          2602.619444,
          3024.761774,
          3643.121608,
          3506.308144,
          3457.376266,
          3398.39675,
          3197.772252,
          3253.899536,
          3574.065288,
          3701.709255,
          4055.89561,
          4143.109753,
          261.8691416,
          239.473127,
          245.5000403,
          254.3012043,
          296.0142675,
          333.7315763,
          349.2171001,
          403.6637446,
          474.5179496,
          799.9658963,
          822.5393725,
          832.5690782,
          790.1314506,
          810.090395,
          883.5287445,
          847.2676289,
          736.5598474,
          746.8307529,
          770.6007843,
          798.5857341,
          822.0276815,
          658.348608,
          807.8019371,
          911.9111514,
          1087.785627,
          1416.60381,
          1894.470781,
          2391.323934,
          3197.934295,
          4066.547885,
          2639.391654,
          3078.429982,
          3704.824973,
          4004.804396,
          4187.739845,
          3104.643206,
          2124.662319,
          2187.73051,
          2638.326055,
          3096.561697,
          3661.456204,
          3724.938437,
          33291.36625,
          31280.75586,
          31567.54631,
          33499.10278,
          36333.18733,
          39365.45964,
          41907.42147,
          41809.46216,
          44498.94051,
          32024.19778,
          33893.26387,
          39194.67224,
          40976.49075,
          42412.6395,
          43751.80565,
          38663.4005,
          38141.86713,
          40644.79119,
          43839.32449,
          42701.44305,
          36284.55524,
          28223.06757,
          27806.44882,
          30049.89632,
          34487.46757,
          40371.71083,
          42132.09072,
          44654.09692,
          50653.25691,
          47549.34863,
          38952.21103,
          39688.61497,
          42284.88449,
          42686.80005,
          43713.81412,
          47787.2413,
          45404.56777,
          41499.5557,
          40857.75558,
          43646.95197,
          43070.49836,
          41059.16881,
          36334.90878,
          37133.24281,
          38023.16111,
          39496.48588,
          41712.80107,
          44114.74778,
          46298.73144,
          47975.9677,
          48382.55845,
          47099.98047,
          48466.6576,
          49882.55813,
          51602.93105,
          53106.53677,
          55049.98833,
          56863.3715,
          58021.4005,
          60109.65573,
          63064.41841,
          65279.52903,
          63593.44362,
          6875.025469,
          6284.45968,
          4090.891888,
          3624.205685,
          4120.544205,
          5226.9441,
          5887.845162,
          7026.503055,
          9091.079039,
          9451.932449,
          11992.02377,
          14236.715,
          15171.58017,
          16973.68924,
          16831.94819,
          15613.74597,
          16715.63347,
          18690.89384,
          18703.86029,
          17688.01501,
          15438.41167,
          558.2268024,
          456.7062895,
          383.343068,
          396.377979,
          465.1198869,
          546.7768502,
          654.2838373,
          830.4076942,
          1082.286025,
          1213.265328,
          1742.349256,
          2051.129515,
          2267.623275,
          2419.718703,
          2628.460008,
          2753.971072,
          2704.677188,
          1916.764642,
          1597.068337,
          1784.009816,
          1750.697113,
          1470.63587,
          1363.185058,
          1354.100243,
          1580.575634,
          1788.122206,
          1887.226576,
          2049.532809,
          2352.973255,
          2629.053124,
          2573.889015,
          2839.40634,
          3173.822022,
          2997.293432,
          2954.774511,
          2926.67996,
          2695.666186,
          2805.66532,
          3082.475083,
          3125.404999,
          3116.297759,
          2870.0893,
          0.0,
          0.0,
          0.0,
          0.0,
          0.0,
          0.0,
          0.0,
          0.0,
          0.0,
          0.0,
          0.0,
          0.0,
          0.0,
          0.0,
          0.0,
          0.0,
          0.0,
          0.0,
          0.0,
          0.0,
          0.0,
          345.6896207,
          382.9410352,
          382.2419633,
          435.4581994,
          538.591553,
          702.7411184,
          1047.918843,
          1124.290586,
          1394.0005,
          1159.907499,
          1489.459087,
          1672.907535,
          1763.069442,
          1878.346811,
          1762.427817,
          1338.290927,
          1280.806543,
          1535.196574,
          1516.368371,
          1305.001031,
          985.132436,
          563.0575041,
          568.3862905,
          530.5304463,
          478.0076044,
          482.9984515,
          476.5554025,
          447.8547399,
          431.7872587,
          356.6932344,
          771.5990323,
          948.331481,
          1093.653409,
          1304.968011,
          1429.998461,
          1434.896277,
          1445.069702,
          1464.588957,
          1235.189032,
          1254.642265,
          1316.740657,
          1214.50982
         ],
         "y0": " ",
         "yaxis": "y",
         "type": "box"
        }
       ],
       "layout": {
        "template": {
         "data": {
          "barpolar": [
           {
            "marker": {
             "line": {
              "color": "white",
              "width": 0.5
             },
             "pattern": {
              "fillmode": "overlay",
              "size": 10,
              "solidity": 0.2
             }
            },
            "type": "barpolar"
           }
          ],
          "bar": [
           {
            "error_x": {
             "color": "#2a3f5f"
            },
            "error_y": {
             "color": "#2a3f5f"
            },
            "marker": {
             "line": {
              "color": "white",
              "width": 0.5
             },
             "pattern": {
              "fillmode": "overlay",
              "size": 10,
              "solidity": 0.2
             }
            },
            "type": "bar"
           }
          ],
          "carpet": [
           {
            "aaxis": {
             "endlinecolor": "#2a3f5f",
             "gridcolor": "#C8D4E3",
             "linecolor": "#C8D4E3",
             "minorgridcolor": "#C8D4E3",
             "startlinecolor": "#2a3f5f"
            },
            "baxis": {
             "endlinecolor": "#2a3f5f",
             "gridcolor": "#C8D4E3",
             "linecolor": "#C8D4E3",
             "minorgridcolor": "#C8D4E3",
             "startlinecolor": "#2a3f5f"
            },
            "type": "carpet"
           }
          ],
          "choropleth": [
           {
            "colorbar": {
             "outlinewidth": 0,
             "ticks": ""
            },
            "type": "choropleth"
           }
          ],
          "contourcarpet": [
           {
            "colorbar": {
             "outlinewidth": 0,
             "ticks": ""
            },
            "type": "contourcarpet"
           }
          ],
          "contour": [
           {
            "colorbar": {
             "outlinewidth": 0,
             "ticks": ""
            },
            "colorscale": [
             [
              0.0,
              "#0d0887"
             ],
             [
              0.1111111111111111,
              "#46039f"
             ],
             [
              0.2222222222222222,
              "#7201a8"
             ],
             [
              0.3333333333333333,
              "#9c179e"
             ],
             [
              0.4444444444444444,
              "#bd3786"
             ],
             [
              0.5555555555555556,
              "#d8576b"
             ],
             [
              0.6666666666666666,
              "#ed7953"
             ],
             [
              0.7777777777777778,
              "#fb9f3a"
             ],
             [
              0.8888888888888888,
              "#fdca26"
             ],
             [
              1.0,
              "#f0f921"
             ]
            ],
            "type": "contour"
           }
          ],
          "heatmapgl": [
           {
            "colorbar": {
             "outlinewidth": 0,
             "ticks": ""
            },
            "colorscale": [
             [
              0.0,
              "#0d0887"
             ],
             [
              0.1111111111111111,
              "#46039f"
             ],
             [
              0.2222222222222222,
              "#7201a8"
             ],
             [
              0.3333333333333333,
              "#9c179e"
             ],
             [
              0.4444444444444444,
              "#bd3786"
             ],
             [
              0.5555555555555556,
              "#d8576b"
             ],
             [
              0.6666666666666666,
              "#ed7953"
             ],
             [
              0.7777777777777778,
              "#fb9f3a"
             ],
             [
              0.8888888888888888,
              "#fdca26"
             ],
             [
              1.0,
              "#f0f921"
             ]
            ],
            "type": "heatmapgl"
           }
          ],
          "heatmap": [
           {
            "colorbar": {
             "outlinewidth": 0,
             "ticks": ""
            },
            "colorscale": [
             [
              0.0,
              "#0d0887"
             ],
             [
              0.1111111111111111,
              "#46039f"
             ],
             [
              0.2222222222222222,
              "#7201a8"
             ],
             [
              0.3333333333333333,
              "#9c179e"
             ],
             [
              0.4444444444444444,
              "#bd3786"
             ],
             [
              0.5555555555555556,
              "#d8576b"
             ],
             [
              0.6666666666666666,
              "#ed7953"
             ],
             [
              0.7777777777777778,
              "#fb9f3a"
             ],
             [
              0.8888888888888888,
              "#fdca26"
             ],
             [
              1.0,
              "#f0f921"
             ]
            ],
            "type": "heatmap"
           }
          ],
          "histogram2dcontour": [
           {
            "colorbar": {
             "outlinewidth": 0,
             "ticks": ""
            },
            "colorscale": [
             [
              0.0,
              "#0d0887"
             ],
             [
              0.1111111111111111,
              "#46039f"
             ],
             [
              0.2222222222222222,
              "#7201a8"
             ],
             [
              0.3333333333333333,
              "#9c179e"
             ],
             [
              0.4444444444444444,
              "#bd3786"
             ],
             [
              0.5555555555555556,
              "#d8576b"
             ],
             [
              0.6666666666666666,
              "#ed7953"
             ],
             [
              0.7777777777777778,
              "#fb9f3a"
             ],
             [
              0.8888888888888888,
              "#fdca26"
             ],
             [
              1.0,
              "#f0f921"
             ]
            ],
            "type": "histogram2dcontour"
           }
          ],
          "histogram2d": [
           {
            "colorbar": {
             "outlinewidth": 0,
             "ticks": ""
            },
            "colorscale": [
             [
              0.0,
              "#0d0887"
             ],
             [
              0.1111111111111111,
              "#46039f"
             ],
             [
              0.2222222222222222,
              "#7201a8"
             ],
             [
              0.3333333333333333,
              "#9c179e"
             ],
             [
              0.4444444444444444,
              "#bd3786"
             ],
             [
              0.5555555555555556,
              "#d8576b"
             ],
             [
              0.6666666666666666,
              "#ed7953"
             ],
             [
              0.7777777777777778,
              "#fb9f3a"
             ],
             [
              0.8888888888888888,
              "#fdca26"
             ],
             [
              1.0,
              "#f0f921"
             ]
            ],
            "type": "histogram2d"
           }
          ],
          "histogram": [
           {
            "marker": {
             "pattern": {
              "fillmode": "overlay",
              "size": 10,
              "solidity": 0.2
             }
            },
            "type": "histogram"
           }
          ],
          "mesh3d": [
           {
            "colorbar": {
             "outlinewidth": 0,
             "ticks": ""
            },
            "type": "mesh3d"
           }
          ],
          "parcoords": [
           {
            "line": {
             "colorbar": {
              "outlinewidth": 0,
              "ticks": ""
             }
            },
            "type": "parcoords"
           }
          ],
          "pie": [
           {
            "automargin": true,
            "type": "pie"
           }
          ],
          "scatter3d": [
           {
            "line": {
             "colorbar": {
              "outlinewidth": 0,
              "ticks": ""
             }
            },
            "marker": {
             "colorbar": {
              "outlinewidth": 0,
              "ticks": ""
             }
            },
            "type": "scatter3d"
           }
          ],
          "scattercarpet": [
           {
            "marker": {
             "colorbar": {
              "outlinewidth": 0,
              "ticks": ""
             }
            },
            "type": "scattercarpet"
           }
          ],
          "scattergeo": [
           {
            "marker": {
             "colorbar": {
              "outlinewidth": 0,
              "ticks": ""
             }
            },
            "type": "scattergeo"
           }
          ],
          "scattergl": [
           {
            "marker": {
             "colorbar": {
              "outlinewidth": 0,
              "ticks": ""
             }
            },
            "type": "scattergl"
           }
          ],
          "scattermapbox": [
           {
            "marker": {
             "colorbar": {
              "outlinewidth": 0,
              "ticks": ""
             }
            },
            "type": "scattermapbox"
           }
          ],
          "scatterpolargl": [
           {
            "marker": {
             "colorbar": {
              "outlinewidth": 0,
              "ticks": ""
             }
            },
            "type": "scatterpolargl"
           }
          ],
          "scatterpolar": [
           {
            "marker": {
             "colorbar": {
              "outlinewidth": 0,
              "ticks": ""
             }
            },
            "type": "scatterpolar"
           }
          ],
          "scatter": [
           {
            "fillpattern": {
             "fillmode": "overlay",
             "size": 10,
             "solidity": 0.2
            },
            "type": "scatter"
           }
          ],
          "scatterternary": [
           {
            "marker": {
             "colorbar": {
              "outlinewidth": 0,
              "ticks": ""
             }
            },
            "type": "scatterternary"
           }
          ],
          "surface": [
           {
            "colorbar": {
             "outlinewidth": 0,
             "ticks": ""
            },
            "colorscale": [
             [
              0.0,
              "#0d0887"
             ],
             [
              0.1111111111111111,
              "#46039f"
             ],
             [
              0.2222222222222222,
              "#7201a8"
             ],
             [
              0.3333333333333333,
              "#9c179e"
             ],
             [
              0.4444444444444444,
              "#bd3786"
             ],
             [
              0.5555555555555556,
              "#d8576b"
             ],
             [
              0.6666666666666666,
              "#ed7953"
             ],
             [
              0.7777777777777778,
              "#fb9f3a"
             ],
             [
              0.8888888888888888,
              "#fdca26"
             ],
             [
              1.0,
              "#f0f921"
             ]
            ],
            "type": "surface"
           }
          ],
          "table": [
           {
            "cells": {
             "fill": {
              "color": "#EBF0F8"
             },
             "line": {
              "color": "white"
             }
            },
            "header": {
             "fill": {
              "color": "#C8D4E3"
             },
             "line": {
              "color": "white"
             }
            },
            "type": "table"
           }
          ]
         },
         "layout": {
          "annotationdefaults": {
           "arrowcolor": "#2a3f5f",
           "arrowhead": 0,
           "arrowwidth": 1
          },
          "autotypenumbers": "strict",
          "coloraxis": {
           "colorbar": {
            "outlinewidth": 0,
            "ticks": ""
           }
          },
          "colorscale": {
           "diverging": [
            [
             0,
             "#8e0152"
            ],
            [
             0.1,
             "#c51b7d"
            ],
            [
             0.2,
             "#de77ae"
            ],
            [
             0.3,
             "#f1b6da"
            ],
            [
             0.4,
             "#fde0ef"
            ],
            [
             0.5,
             "#f7f7f7"
            ],
            [
             0.6,
             "#e6f5d0"
            ],
            [
             0.7,
             "#b8e186"
            ],
            [
             0.8,
             "#7fbc41"
            ],
            [
             0.9,
             "#4d9221"
            ],
            [
             1,
             "#276419"
            ]
           ],
           "sequential": [
            [
             0.0,
             "#0d0887"
            ],
            [
             0.1111111111111111,
             "#46039f"
            ],
            [
             0.2222222222222222,
             "#7201a8"
            ],
            [
             0.3333333333333333,
             "#9c179e"
            ],
            [
             0.4444444444444444,
             "#bd3786"
            ],
            [
             0.5555555555555556,
             "#d8576b"
            ],
            [
             0.6666666666666666,
             "#ed7953"
            ],
            [
             0.7777777777777778,
             "#fb9f3a"
            ],
            [
             0.8888888888888888,
             "#fdca26"
            ],
            [
             1.0,
             "#f0f921"
            ]
           ],
           "sequentialminus": [
            [
             0.0,
             "#0d0887"
            ],
            [
             0.1111111111111111,
             "#46039f"
            ],
            [
             0.2222222222222222,
             "#7201a8"
            ],
            [
             0.3333333333333333,
             "#9c179e"
            ],
            [
             0.4444444444444444,
             "#bd3786"
            ],
            [
             0.5555555555555556,
             "#d8576b"
            ],
            [
             0.6666666666666666,
             "#ed7953"
            ],
            [
             0.7777777777777778,
             "#fb9f3a"
            ],
            [
             0.8888888888888888,
             "#fdca26"
            ],
            [
             1.0,
             "#f0f921"
            ]
           ]
          },
          "colorway": [
           "#636efa",
           "#EF553B",
           "#00cc96",
           "#ab63fa",
           "#FFA15A",
           "#19d3f3",
           "#FF6692",
           "#B6E880",
           "#FF97FF",
           "#FECB52"
          ],
          "font": {
           "color": "#2a3f5f"
          },
          "geo": {
           "bgcolor": "white",
           "lakecolor": "white",
           "landcolor": "white",
           "showlakes": true,
           "showland": true,
           "subunitcolor": "#C8D4E3"
          },
          "hoverlabel": {
           "align": "left"
          },
          "hovermode": "closest",
          "mapbox": {
           "style": "light"
          },
          "paper_bgcolor": "white",
          "plot_bgcolor": "white",
          "polar": {
           "angularaxis": {
            "gridcolor": "#EBF0F8",
            "linecolor": "#EBF0F8",
            "ticks": ""
           },
           "bgcolor": "white",
           "radialaxis": {
            "gridcolor": "#EBF0F8",
            "linecolor": "#EBF0F8",
            "ticks": ""
           }
          },
          "scene": {
           "xaxis": {
            "backgroundcolor": "white",
            "gridcolor": "#DFE8F3",
            "gridwidth": 2,
            "linecolor": "#EBF0F8",
            "showbackground": true,
            "ticks": "",
            "zerolinecolor": "#EBF0F8"
           },
           "yaxis": {
            "backgroundcolor": "white",
            "gridcolor": "#DFE8F3",
            "gridwidth": 2,
            "linecolor": "#EBF0F8",
            "showbackground": true,
            "ticks": "",
            "zerolinecolor": "#EBF0F8"
           },
           "zaxis": {
            "backgroundcolor": "white",
            "gridcolor": "#DFE8F3",
            "gridwidth": 2,
            "linecolor": "#EBF0F8",
            "showbackground": true,
            "ticks": "",
            "zerolinecolor": "#EBF0F8"
           }
          },
          "shapedefaults": {
           "line": {
            "color": "#2a3f5f"
           }
          },
          "ternary": {
           "aaxis": {
            "gridcolor": "#DFE8F3",
            "linecolor": "#A2B1C6",
            "ticks": ""
           },
           "baxis": {
            "gridcolor": "#DFE8F3",
            "linecolor": "#A2B1C6",
            "ticks": ""
           },
           "bgcolor": "white",
           "caxis": {
            "gridcolor": "#DFE8F3",
            "linecolor": "#A2B1C6",
            "ticks": ""
           }
          },
          "title": {
           "x": 0.05
          },
          "xaxis": {
           "automargin": true,
           "gridcolor": "#EBF0F8",
           "linecolor": "#EBF0F8",
           "ticks": "",
           "title": {
            "standoff": 15
           },
           "zerolinecolor": "#EBF0F8",
           "zerolinewidth": 2
          },
          "yaxis": {
           "automargin": true,
           "gridcolor": "#EBF0F8",
           "linecolor": "#EBF0F8",
           "ticks": "",
           "title": {
            "standoff": 15
           },
           "zerolinecolor": "#EBF0F8",
           "zerolinewidth": 2
          }
         }
        },
        "xaxis": {
         "anchor": "y",
         "domain": [
          0.0,
          1.0
         ]
        },
        "yaxis": {
         "anchor": "x",
         "domain": [
          0.0,
          1.0
         ],
         "title": {
          "text": "gdp_per_capita"
         }
        },
        "legend": {
         "tracegroupgap": 0
        },
        "title": {
         "text": "CO2 emission (BoxPlot)"
        },
        "boxmode": "group",
        "font": {
         "size": 10,
         "family": "Franklin Gothic"
        }
       },
       "config": {
        "plotlyServerURL": "https://plot.ly"
       }
      },
      "text/html": "<div>                            <div id=\"46ae6541-8567-418a-8de4-0b824623be79\" class=\"plotly-graph-div\" style=\"height:525px; width:100%;\"></div>            <script type=\"text/javascript\">                require([\"plotly\"], function(Plotly) {                    window.PLOTLYENV=window.PLOTLYENV || {};                                    if (document.getElementById(\"46ae6541-8567-418a-8de4-0b824623be79\")) {                    Plotly.newPlot(                        \"46ae6541-8567-418a-8de4-0b824623be79\",                        [{\"alignmentgroup\":\"True\",\"hovertemplate\":\"gdp_per_capita=%{y}\\u003cextra\\u003e\\u003c\\u002fextra\\u003e\",\"legendgroup\":\"\",\"marker\":{\"color\":\"#636efa\"},\"name\":\"\",\"notched\":false,\"offsetgroup\":\"\",\"orientation\":\"v\",\"showlegend\":false,\"x0\":\" \",\"xaxis\":\"x\",\"y\":[0.0,0.0,0.0,0.0,0.0,0.0,0.0,5976.394145,7367.751909,6727.107767,6688.4824,7328.932252,6586.721279,7186.429787,7378.345289,6514.272695,7028.936577,7784.06529,8845.914219,8910.650834,7677.152226,0.0,0.0,0.0,0.0,0.0,0.0,0.0,5848.476405,7101.040141,6169.114195,5735.422857,6809.159804,6015.945228,6755.073675,6600.056809,5588.980728,5765.200762,6292.543629,7252.401858,7417.203649,7720.510572,0.0,0.0,179.4265792,190.6838143,211.3820742,242.0313132,263.7336019,359.6931579,364.663542,437.2687402,543.3065262,591.1900302,638.8458516,624.3154545,614.2233424,556.0072209,512.0127781,516.6798622,485.6684187,494.1793499,516.7478708,1126.68334,1281.659826,1425.124219,1846.120121,2373.581292,2673.786584,2972.742924,3595.038057,4370.539925,4114.134899,4094.348386,4437.142612,4247.630047,4413.062005,4578.633208,3952.802538,4124.05539,4531.019374,5287.663694,5395.659532,5246.292306,1765.027146,1740.606654,1781.828908,2103.381291,2610.185422,3113.094883,3478.710002,3950.512993,4923.631615,3883.2709,4480.786318,5455.679403,5592.220115,5499.587331,5493.056695,4177.889542,3946.452447,4109.698217,4142.018558,3989.668276,3306.858208,556.8386317,527.3335285,872.4944418,982.9610078,1255.564513,1902.42215,2599.565948,3121.996085,4080.941034,3122.781599,3587.883645,4615.468219,5100.097027,5254.881126,5408.4117,4166.979833,3506.073128,4095.810057,3289.643995,2809.626088,1776.166868,10872.29295,10367.31961,10401.05088,10797.95106,11446.96914,12557.54785,13995.80442,15622.69287,16044.1058,14160.562,13048.96058,12746.63347,13272.73494,12910.59063,13501.58092,14285.32978,15198.74297,15383.5764,16679.59166,17376.64968,13992.74448,7708.099115,7208.373114,2593.404563,3349.8063,4277.721573,5109.852245,5919.012338,7245.446857,9020.873323,8225.137583,10385.96443,12848.8642,13082.66433,13080.25473,12334.79825,13789.06042,12790.24247,14613.04182,11795.15939,10056.63794,8579.017773,622.7409229,694.4234554,783.241215,930.1254727,1191.921006,1643.756889,2158.148074,3139.28071,4010.861381,2994.340471,3218.378299,3525.807198,3681.844691,3838.17388,3986.231624,3607.289299,3591.828052,3914.527854,4220.540321,4604.646324,4266.018074,20617.75047,20670.36701,20436.88713,20833.97636,22568.37499,23300.73836,24046.22638,25834.11178,27083.63486,24631.18205,23513.5277,24985.01392,24712.49326,26441.61994,26893.01151,28396.90842,28452.17061,29350.80502,30253.27936,31155.7537,32058.22804,21697.70848,19527.32358,20117.78889,23492.40517,30513.94174,34080.9999,36117.48798,41001.14298,49654.9106,42783.32257,52087.97229,62574.1457,68027.84171,68156.62792,62511.69059,56707.02208,49881.76371,53934.25018,57180.7794,54875.28596,51692.84275,24564.45829,24537.51426,26401.74546,32222.89724,36821.52147,38403.13388,40635.28182,46855.77175,51708.76575,47963.1794,46858.04327,51374.95841,48567.69529,50716.70871,51717.49594,44178.04738,45276.83144,47312.00623,51461.43322,50114.40111,48586.80132,655.1199452,703.6838434,763.080638,883.7339715,1045.009379,1578.40239,2473.081819,3851.437869,5574.603802,4950.294791,5843.533768,7189.691229,7496.294648,7875.756953,7891.313147,5500.310382,3880.738731,4147.089716,4739.84171,4805.753718,4221.407478,0.0,0.0,0.0,0.0,0.0,0.0,0.0,0.0,0.0,0.0,0.0,0.0,0.0,0.0,0.0,0.0,0.0,0.0,0.0,0.0,0.0,13636.41675,12868.17692,13049.90973,14222.0368,15846.50595,17959.39683,19307.50894,20976.44229,23066.45098,19355.92101,20722.07049,22514.20272,23654.36959,24744.29696,24989.43753,22634.08565,22608.45256,23742.93734,24085.95599,23551.93009,20409.9528,418.0689421,415.0344043,413.0802826,446.3106757,475.2919302,499.4619402,509.6401899,558.0518407,634.9870697,702.2644196,781.1535777,861.7621622,883.1171296,981.8608514,1118.873808,1248.45331,1401.564635,1563.767819,1698.132081,1855.740094,1961.613749,11268.42006,11209.42112,11361.51677,11699.37047,12512.57797,13822.74175,15199.56753,16770.66103,17092.58214,15885.41018,16056.37098,16458.35321,16249.67395,16451.27931,16489.07224,16524.8995,16900.04829,17391.66891,17745.25537,18148.49785,15373.8547,1276.493985,1244.373185,1479.314583,1819.766059,2378.623286,3125.810535,3847.434124,4735.657608,6377.369732,5352.583912,6033.686239,6527.173869,6953.132515,7998.125239,8341.399679,5967.052204,5039.681886,5785.670673,6360.062473,6837.717826,6424.152176,23041.53473,22995.15752,24887.56133,30587.66841,35364.37533,36795.97688,38672.70594,44262.896,48106.89292,44583.54481,44141.87814,47348.52502,44673.11588,46744.66254,47700.54036,40991.80814,41984.10303,44089.31009,47519.5531,46591.49161,45159.34822,3364.491731,3404.420586,3526.081513,3650.60647,3802.26316,3885.034074,4155.323885,4252.395404,4404.308198,4186.519998,4270.780085,4423.496842,4505.600593,4568.641228,4718.436581,4770.232656,4856.973249,4945.857699,5001.422157,5078.809944,4115.177008,512.673902,518.0674741,574.9297982,711.2849548,798.7443045,822.7851431,856.0549166,966.2036183,1125.426134,1088.757906,1036.534515,1130.273251,1145.140105,1251.209767,1291.410185,1076.796698,1087.287331,1136.593872,1241.825298,1219.515506,1291.040972,56284.16865,58883.95943,62583.1002,66111.72523,70359.31911,75882.03386,95221.85887,104287.3875,106935.4863,101407.764,101875.2841,97774.16207,98431.86518,99471.6389,98467.68399,102005.6256,106885.8785,111820.5815,113023.1856,117098.4463,107079.4798,718.196337,764.4328082,845.5006721,962.0953713,1068.431811,1228.432356,1330.977444,1757.190496,1828.154677,1819.19731,2258.186435,2563.261224,2538.949519,2472.724753,2652.225654,2752.630172,2930.574923,3286.596744,3243.477437,3322.863329,3000.779327,1484.176056,1544.602075,1789.857691,2258.946452,2698.46718,2980.601268,3416.512376,4193.368011,5090.945834,4714.693746,4635.510195,5092.554723,4777.066914,5129.663534,5330.355075,4729.689959,4994.971551,5394.268944,6070.349081,6119.762345,6079.738285,3522.310821,3278.016079,3190.624811,4330.972369,5073.520408,5513.331063,5521.990608,5832.737052,5713.543931,5255.776533,6434.812485,7617.310041,7050.573472,7224.912737,7495.220866,6402.910183,6982.917492,7296.092142,7503.878588,7203.064221,6404.899932,3749.910848,3160.249345,2839.491501,3070.436419,3637.31389,4790.456566,5886.391522,7348.187963,8831.183643,8597.794335,11286.07154,13245.38737,12370.22325,12300.38671,12112.83496,8813.989806,8710.06329,9928.675897,9151.381732,8897.552966,6796.844542,1621.242961,1770.913534,2092.957694,2719.497656,3389.707049,3899.907638,4523.050833,5885.104348,7265.735497,6988.233325,6853.002854,7849.165283,7432.478766,7681.93462,7901.785876,7074.681023,7569.478815,8366.293221,9446.700772,9879.268533,10079.20338,255.7186873,267.0975996,294.6653885,374.627358,418.3766603,457.9334308,473.4498682,535.0622795,643.404581,624.1751645,647.8360955,751.1727704,758.000427,787.4694383,792.8462374,653.3272681,688.2506963,734.996268,804.5005378,796.1152068,857.9327297,136.4639708,134.3634269,123.1175361,113.5672513,128.3367028,151.6815663,167.3764625,172.4955966,198.3528517,212.1370572,234.2355389,249.5779794,252.3588707,256.9756526,274.8578362,305.5496525,260.5652208,253.8263541,238.783467,228.2135892,238.9907259,300.613679,321.1502236,338.9874773,362.3354822,408.5136388,474.1111921,539.7503289,631.5252576,745.609127,738.0547312,785.5026671,882.275614,950.880346,1013.420536,1093.495976,1162.904995,1269.591499,1385.260066,1512.126989,1643.121389,1543.669258,681.102043,687.6481344,759.1118514,950.5648637,1090.785332,1100.174926,1147.4366,1277.516807,1439.547804,1411.474572,1352.302275,1465.145788,1403.522915,1527.751257,1604.214035,1382.50979,1413.255957,1469.4475,1585.240534,1533.095688,1537.130218,24271.00206,23822.06012,24255.33858,28300.4631,32143.68141,36382.50792,40504.06073,44659.89514,46710.50558,40876.31015,47562.08343,52223.69611,52669.08996,52635.17496,50955.99832,43596.13554,42315.60371,45129.35644,46548.52036,46338.34096,43294.64816,0.0,0.0,0.0,0.0,0.0,0.0,82801.54266,85433.03094,85188.33704,77400.42144,73351.75677,72329.66133,72777.14849,73514.66868,74990.43322,76284.19393,78471.62873,81513.16302,86059.73922,91392.64259,85082.52686,251.2072914,250.3571459,260.7454587,293.661549,320.7368123,331.1630882,354.6708633,404.3745429,464.5612047,474.7056275,488.4217358,551.7497219,565.8012071,380.2979111,424.4491317,377.4229177,402.1916451,450.9006579,475.9538139,467.9080323,492.7958712,166.1757089,197.1460821,221.4165369,292.6008802,454.3363652,658.566973,710.3963987,799.603742,929.3827519,803.6863884,892.5688697,984.7361305,967.3529488,979.8117426,1020.287979,776.0197523,693.4497674,665.9488849,726.1510071,709.5400432,659.270045,5074.902616,4574.594716,4446.249371,4772.563723,6194.85272,7598.528877,9464.548507,10502.35071,10751.4816,10208.90797,12808.03834,14637.23344,15351.54074,15842.93648,14670.98891,13574.16924,13753.59215,14998.81706,15888.14436,14741.7144,13231.70421,959.3724836,1053.108243,1148.50829,1288.643252,1508.668098,1753.417829,2099.229435,2693.970063,3468.304602,3832.236432,4550.453108,5614.352135,6300.615118,7020.338485,7636.116601,8016.431435,8094.363367,8816.986905,9905.342004,10143.83817,10434.77519,2520.481089,2439.682456,2396.627127,2281.401762,2782.623185,3414.465158,3741.092837,4714.073055,5472.53653,5193.241458,6336.709474,7335.166934,8050.255372,8218.347844,8114.343921,6175.87603,5870.777957,6376.706716,6729.583332,6424.979492,5334.556042,647.4258118,680.9055728,747.9888625,937.7108963,1061.075548,1069.029426,1114.945281,1240.092528,1393.216032,1344.730406,1316.491213,1447.945144,1403.360252,1505.337292,1513.830379,1242.585608,1273.050952,1323.814843,1428.290463,1401.542312,1420.661747,0.0,0.0,0.0,0.0,0.0,0.0,0.0,0.0,0.0,0.0,0.0,0.0,0.0,0.0,0.0,0.0,0.0,0.0,0.0,0.0,0.0,3789.053886,3960.307703,4042.705686,4147.824369,4404.711884,4676.379366,5227.465952,6103.741917,6901.388306,6801.036735,8227.127494,9229.834517,10075.00462,10744.09102,10847.16967,11642.77805,12011.22275,12225.57449,12485.4239,12693.82796,12140.85415,4887.713716,5412.925136,6293.225299,8129.794584,9747.440771,10621.50746,11797.47447,14046.31681,16416.58681,14653.04355,14067.52312,14757.18034,13401.65662,13837.73164,13762.37286,11933.37738,12527.73986,13629.28959,15227.5601,15311.7669,14134.16268,2747.100303,2837.73573,2999.241763,3197.133185,3395.710843,3786.66345,4683.569067,5208.718388,5411.269492,5529.669375,5730.354264,6139.718783,6497.314764,6837.71168,7133.337679,7694.014637,8060.796598,8541.213686,8824.194008,9125.878679,9477.852873,14388.34806,14821.44682,16093.21461,20252.23898,23792.62136,24959.25917,26729.3234,31244.92622,35397.36368,32109.24251,31023.63833,32396.38574,28912.15694,27729.1927,27163.33297,23408.33668,24605.92083,26608.87509,29334.11093,29206.07672,27527.84531,0.0,0.0,0.0,0.0,0.0,0.0,0.0,0.0,0.0,0.0,0.0,0.0,0.0,0.0,0.0,0.0,0.0,0.0,0.0,0.0,0.0,30743.54768,30751.65435,33228.69354,40458.7774,46511.59833,48799.8256,52026.99951,58487.05497,64322.0635,58163.27688,58041.39844,61753.64713,58507.50805,61191.1937,62548.98473,53254.85637,54663.99837,57610.09818,61591.92887,59775.7351,61063.31643,768.1835703,780.9039613,791.3841807,818.8687857,863.2360874,904.7366795,967.6795838,1052.719117,1223.852363,1267.317394,1343.275125,1451.548081,1559.240651,2312.720948,2464.294905,2658.949245,2802.166204,2914.358197,3141.861711,3414.916178,3425.484176,4787.801441,4883.003024,4770.851894,4897.308367,5216.872434,5160.889141,5518.4232,5951.863413,6468.944767,6903.145806,6967.364955,7065.460372,6849.455933,7016.380071,7317.486143,7597.288894,8080.968623,7274.517731,7687.462963,8516.280039,7003.859021,2869.178139,2977.43451,3110.325447,2418.350422,2487.329061,3932.784407,4109.033591,4707.795052,5087.983213,5039.403122,5555.392014,5913.426649,6110.366576,6238.132367,6608.825501,6921.520594,7280.88361,7609.353275,8050.644076,8282.117131,7268.19691,1445.279324,1894.616196,2172.101877,2425.851842,2691.277685,3002.138604,3328.884156,3567.837186,4249.01897,4231.619235,4633.591284,5200.555108,5682.046108,6056.331213,6377.093929,6124.490887,6060.092962,6213.503127,6295.934662,6222.524653,5600.389615,0.0,0.0,0.0,0.0,0.0,0.0,0.0,0.0,0.0,0.0,0.0,0.0,0.0,0.0,0.0,0.0,0.0,0.0,0.0,0.0,0.0,2001.540049,2072.301591,2124.10182,2209.497245,2278.43033,2428.568879,2631.822739,2786.157774,2933.39424,2858.483344,2983.228806,3266.010978,3428.409332,3509.526536,3589.042885,3705.579704,3805.995686,3910.254403,4052.624775,4167.730939,3798.636521,1725.557584,2313.165937,2744.191483,3618.544476,6152.131238,10963.40638,12857.36882,15908.41119,22942.6101,16668.1217,17288.8426,21641.6939,21711.15159,20390.73727,19394.08066,11283.39805,9250.316493,9667.857801,10005.61679,8419.933336,7143.238705,308.1341868,316.8239534,293.9556724,334.5855715,407.769077,388.5959475,415.0360305,439.8321034,450.6323989,595.1099872,501.355317,642.5082588,783.6612006,924.8141424,1065.9670842,1207.120026,1348.2729678,1489.4259095999996,1630.5788514,1771.7317932000005,1912.8847350000005,4070.609024,4505.858332,5341.628947,7203.523038,8914.103557,10412.64431,12639.40007,16744.58445,18204.96648,14711.73527,14663.04461,17464.92008,17404.2008,19050.58592,20234.11742,17395.04062,18282.92339,20387.28315,23052.30126,23397.12001,23027.027,1728.710498,1521.769075,1405.448706,2148.632475,2699.130742,3083.838141,3176.691168,3327.445134,3137.387266,3385.858846,4168.489403,4496.613361,4527.565039,4230.171266,4039.159341,3680.349473,3425.531957,3914.418484,4105.893683,3915.643467,3424.282212,124.4607909,120.7657837,111.9272251,119.490396,136.46625,162.4327286,194.6874329,244.2860523,326.4368228,380.5690032,341.5541227,354.4795719,467.0778718,499.5315302,566.9264029,640.5419231,717.1248698,768.5230154,771.5248663,855.7608852,936.3404611,2069.317455,2030.246351,2248.714191,2818.91392,3311.159895,3627.632856,3715.932657,4040.152119,4167.694935,3362.820495,3652.535933,4371.447385,4591.577015,4840.72727,5605.609148,5390.714207,5651.272721,6101.02389,6317.41372,6175.890653,5057.631913,24285.46682,24946.18919,26869.6749,32855.13263,37702.84538,39040.28888,41188.0937,48414.84509,53554.03892,47293.99283,46459.97325,51081.99767,47710.79022,49878.04324,50260.29986,42784.69836,43784.28396,46297.49635,49964.49991,48628.64176,48744.98813,22364.02939,22433.55498,24177.33556,29568.3888,33741.26192,34760.18502,36443.62631,41508.43269,45334.11796,41575.42196,40638.33525,43790.72602,40874.70039,42592.93539,43011.2631,36638.18493,37037.37419,38685.25849,41572.48501,40578.64429,39030.36037,4135.99238,3993.031336,4141.434366,4933.46217,5739.613204,6891.36192,7221.369877,8458.309179,10254.17196,7721.018953,8849.322608,10809.68495,9813.505747,9683.58162,9663.42411,7384.700704,6984.419712,7230.434912,7959.007267,7766.996554,6881.715192,0.0,0.0,0.0,0.0,0.0,0.0,0.0,0.0,0.0,0.0,0.0,0.0,0.0,0.0,0.0,0.0,0.0,0.0,0.0,0.0,0.0,749.908535,801.9904139,853.5164537,1010.00798,1305.047486,1642.760938,1996.057129,2635.353882,3324.735879,2822.66743,3233.295943,4021.743306,4421.818242,4623.745725,4739.188338,4014.185944,4062.169888,4357.000936,4722.787783,4697.983652,4266.690795,23635.92922,23607.88286,25077.72908,30243.57653,34044.05363,34507.36881,36323.44774,41587.2129,45427.15168,41485.90165,41531.9342,46644.77603,43858.36306,46285.76407,47959.99327,41086.72967,42107.51727,44542.2952,47950.18081,46794.89929,46208.42947,258.4710399,269.0149848,304.564636,367.8213621,417.5080667,492.5440562,913.3938493,1081.166318,1217.064435,1077.662058,1299.345212,1549.462719,1587.560932,2361.090324,2012.264247,1774.074771,1971.956935,2074.290733,2260.860567,2246.625578,2205.529016,12042.95371,12538.17887,14110.31337,18477.57836,21955.10414,22551.73577,24801.15778,28827.32639,31997.28202,29710.97023,26690.60742,25450.53412,21914.25173,21781.59535,21587.95755,18076.60676,17911.79938,18536.19072,19747.34258,19133.75776,17622.541,5056.977259,5041.012235,5213.795649,5682.705378,5741.653658,6645.985549,6658.223586,7212.986819,7832.349081,7290.834938,7258.166561,7291.74167,7444.089075,7789.632355,8370.040472,9096.538652,9628.259169,10152.83281,10466.88221,10827.43529,9261.551876,1664.298958,1550.360366,1682.994501,1737.879287,1859.098363,2068.500129,2251.087963,2490.749127,2802.461962,2651.817123,2852.547327,3228.045741,3355.036919,3522.773706,3779.642336,3994.636913,4173.301666,4454.04815,4478.424646,4638.634943,4603.339617,363.4822793,336.1540207,343.6026312,393.7396899,407.3009759,322.41554,453.4037133,659.992931,715.0965267,674.0854826,672.4249304,651.1361134,717.0505359,769.0031667,787.2385644,769.2554754,732.2915119,855.5752706,955.1112811,1058.143368,1194.037865,308.9103184,319.9574494,333.0585793,372.0561949,405.0751184,436.4752202,430.0039403,493.7219932,599.9952372,559.4145709,558.1746681,703.6605673,616.375664,634.6620391,623.3130914,603.3993815,661.4578387,738.5499449,802.7673851,749.453747,727.5201717,954.4003181,955.6653806,974.9491933,997.2113729,1056.423886,1105.506825,3188.67316,3658.479967,4050.786237,4233.766143,4580.698762,4908.566448,5378.810878,5489.140726,5407.147366,5576.825852,5811.397924,6124.95367,6145.819277,6609.51128,6955.939217,805.0256325,735.5211179,692.0301629,542.3335961,667.2825464,781.2766578,804.5245119,1002.888487,1086.938192,1183.604854,1191.972664,1287.95465,1337.335946,1432.837618,1435.13647,1386.854191,1290.380508,1369.063734,1479.345827,1312.770636,1272.367992,1080.510472,1120.54996,1122.0886,1145.497946,1204.479826,1296.694784,1420.134396,1572.064888,1727.793682,1777.272802,1891.158589,2073.90437,2129.521439,2088.097206,2190.653139,2286.203037,2326.297278,2436.671636,2492.868968,2556.456891,2389.012431,4624.281657,5276.033189,6655.333009,8421.103313,10303.70419,11225.93258,11493.10041,13944.97101,15777.19202,13081.79264,13223.083,14240.2575,12989.18028,13719.95054,14298.83367,12720.71202,13107.37791,14623.69665,16427.37276,16735.65978,15980.74089,32096.37226,28897.44394,32409.21615,39476.69785,47334.93065,56794.85016,57492.93425,69495.72674,56943.37045,41301.27322,43237.07295,47714.59223,45995.54788,49804.983,54576.74481,52951.68151,61987.92636,72010.14903,74469.80406,68941.46223,59270.18005,443.3141938,451.5729973,470.9867868,546.7266135,627.7742417,714.8610154,806.7532806,1028.334772,998.5223415,1101.960838,1357.563727,1458.104066,1443.882435,1449.610451,1573.885642,1605.605445,1732.554242,1980.66702,1996.915087,2100.751461,1927.707823,780.1902047,748.2576087,900.1775881,1065.64852,1150.261367,1263.287332,1589.801489,1860.002811,2166.854231,2261.247309,3122.362673,3643.047176,3694.35934,3623.927241,3491.637491,3331.695115,3562.816334,3837.578024,3893.859578,4135.201531,3869.588427,2058.264401,1494.388802,1320.734706,854.8252808,1391.963489,1855.522348,2373.209448,3182.841351,4636.639325,3853.82862,4657.280269,6045.494567,6836.073995,7076.552265,6637.684375,4688.318017,4550.658638,4985.452879,5915.850854,5980.626918,4145.862936,26269.18162,28257.93859,32550.27907,41112.74822,47666.54708,50914.03129,54283.68178,61318.46603,61103.51347,51927.23096,48607.94052,52108.83323,49028.82739,51518.3881,55525.89725,61987.551,62818.96636,69601.68388,79068.97461,80886.61574,85267.76474,21061.48228,20316.24805,18439.64616,18991.37985,19910.61067,20585.13861,21853.14024,24952.54759,29650.77025,27780.46372,30780.02382,33775.512,32667.60687,36499.45611,37847.64994,35808.43643,37330.2618,40774.12961,42063.45313,43951.24773,44168.94364,20087.59199,20483.21599,22270.14412,27465.6753,31259.7165,32043.14037,33501.65817,37822.66524,40778.34274,37079.75867,36000.52012,38599.06221,35053.52624,35549.9747,35518.41529,30230.2263,30939.71425,32326.67421,34605.26273,33641.63375,31714.22095,3392.123878,3437.655517,3609.203331,3480.511665,3733.798671,4103.601637,4331.292053,4623.747897,4928.126409,4335.178411,4704.04776,5111.465987,5209.859264,4989.734089,4834.284009,4907.927415,4843.7499,5070.099503,5359.993789,5369.498371,4664.530242,39169.35957,34406.18246,32820.79364,35387.03742,38298.98017,37812.89502,35991.546,35779.02454,39876.30397,41308.99684,44968.15623,48760.07895,49145.28043,40898.6479,38475.39525,34960.63938,39400.73936,38891.08627,39808.16856,40777.6087,40193.25244,1651.621798,1720.361427,1802.055064,1876.259338,2044.963723,2183.394643,2513.028732,2735.378767,3455.769953,3559.692102,3736.645462,3852.890025,3910.346894,4044.426869,4131.44735,4164.108769,4175.356602,4231.51828,4308.151074,4405.487109,4282.765825,1229.001247,1490.92709,1658.030785,2068.123979,2874.288483,3771.278957,5291.575305,6771.414797,8458.017154,7165.223175,9070.488253,11634.0012,12386.69927,13890.63096,12807.26069,10510.77189,7714.841844,9247.581331,9812.626371,9812.595808,9122.23343,397.4826588,395.3294716,389.5426302,429.787819,451.6687666,511.6163943,685.9544229,825.666555,902.0699578,1035.338787,1080.296184,1085.487152,1271.815383,1354.820833,1462.220052,1464.554009,1525.235192,1633.491216,1794.091175,1912.647867,1878.580703,796.8032036,735.0691064,826.9168653,1015.667006,1131.152504,1214.635603,1168.473302,1374.395199,1428.134977,1312.023443,1516.76323,1734.903839,1788.691439,1715.814321,1642.820129,1542.616465,1584.738015,1640.571205,1727.845001,1601.861869,1653.540297,18440.37852,16587.24865,17846.37616,22148.37815,27011.654,35591.03713,42781.56475,45782.14857,55494.9301,37561.72593,38577.49828,48631.7834,51979.12069,49388.05338,44062.34091,29869.55275,27653.15762,29759.46747,33399.06044,32373.25112,24811.76971,0.0,0.0,0.0,0.0,0.0,0.0,0.0,0.0,0.0,0.0,0.0,0.0,0.0,0.0,0.0,0.0,0.0,0.0,0.0,0.0,0.0,3361.640869,3578.0019,4136.933297,5145.195232,6378.666521,7594.902384,9723.446902,14113.52913,16467.14369,12331.92855,11420.994,13338.96224,13847.33794,15007.49186,15721.45233,13780.91355,14322.02268,15656.34749,17856.30712,17926.84159,17726.25294,4491.641934,4422.389292,4579.459593,4576.387617,4630.790585,4575.107459,4626.853003,5207.792723,6111.327281,7354.953605,7761.641489,7675.30894,7952.151266,7933.23332,7687.759336,7663.920232,7653.73363,7819.60467,8058.444337,7578.172368,4649.547646,436.4881373,405.6057121,382.1896086,573.6517781,753.3759044,842.812631,904.6061298,846.5423208,889.1342855,874.7298605,1119.843641,1287.269536,1229.636232,1166.911756,1194.575627,1146.064688,1018.931093,1102.94441,1192.48432,1113.37214,875.353433,306.8338642,306.7102516,306.4739396,243.0895775,286.0647253,294.8932201,336.1156743,396.6017613,478.3995401,470.9481214,513.4455667,596.8966353,675.0101918,747.8686601,739.911935,721.5810505,740.914906,721.085044,710.2659984,672.3404992,632.9363856,7142.771786,6266.489821,3703.042952,4673.145576,5800.588826,8163.00937,9336.353498,11300.19323,14382.59529,10275.26154,12064.77291,5554.180053,13025.27932,10363.80425,6466.908237,4337.919139,4035.196802,5756.699325,7877.12461,7685.948132,3699.294765,3293.229979,3525.793632,4141.592702,5499.428989,6700.327192,7854.765279,9230.707981,12285.44705,14944.99665,11820.77616,11987.50841,14376.94786,14367.70942,15729.65247,16551.0182,14258.22933,14998.12506,16843.69965,19176.81215,19575.76848,20233.64135,48538.7829,48398.22929,52754.27325,65544.59195,76404.41504,80957.94128,90712.79929,107338.8652,119932.2437,108987.6776,110777.9079,118869.2999,112591.1162,119966.0349,123514.1967,105419.6085,106826.7264,109921.0314,117197.4817,113218.7133,116014.6025,293.6071574,334.4416177,319.2163788,368.7972369,284.4877263,319.5374751,338.7511983,438.6555158,536.3514017,467.5397834,471.9592116,531.2654321,518.1528127,541.0659437,530.8610389,467.2354316,475.9555568,515.2933234,523.9459714,522.9895243,471.4914963,156.3858168,150.1489426,298.4334104,267.3990119,282.5671076,289.5552148,308.1636182,332.2590946,387.6057212,438.2118568,478.6686885,534.9510502,391.5617052,348.4298737,371.2695217,380.5969877,315.7779871,506.1372944,544.5934354,591.8463896,636.8205368,4043.662923,3913.429386,4165.726104,4461.847325,4952.213958,5587.02478,6209.126167,7243.456801,8474.587762,7292.494973,9040.568495,10399.37021,10817.43171,10970.1043,11319.06194,9955.242722,9817.78709,10259.30481,11380.08209,11432.823,10412.34898,2234.595861,3038.781417,3049.207981,3476.006273,3941.431136,3640.012132,4809.93374,5574.401981,6614.23618,6636.543871,7076.739821,7291.465967,7265.723399,7928.476443,8499.307148,9033.41027,9209.443564,9577.346946,10279.07998,10561.61351,6924.105745,270.542236,307.7048595,336.4187392,393.4050091,440.9567771,489.0213369,523.0386031,597.4844576,697.0878685,701.7171134,710.2742494,837.605821,778.6252695,805.0339796,848.279043,751.4728866,780.7235695,830.0215153,894.8047765,879.0431873,862.4530188,10432.32812,10402.23337,11289.88984,13669.49712,15197.05671,15888.17232,16723.88418,19485.87119,22205.35681,21083.27715,21799.17426,23155.55479,22527.63676,24771.07658,26754.26845,24921.60368,25741.44606,28250.69777,30672.29224,30186.19596,27884.64283,676.5690224,646.1151155,639.6675829,717.8998676,803.7779156,970.8423607,1259.541505,1357.124285,1579.511548,1389.338533,1610.921603,1879.772472,1815.218939,1892.094,1677.109019,1524.071753,1536.854888,1587.611263,1670.204165,1743.302901,1701.991163,3929.075495,3856.625227,4018.948897,4793.718179,5388.065784,5282.906022,5695.969327,6574.654338,8030.063005,7318.12641,8000.376432,9197.026972,9291.227619,9637.00265,10153.93822,9260.447303,9681.618567,10484.90836,11208.34382,11097.16898,8627.843157,7157.8145,7544.568723,7593.137345,7075.369643,7484.486399,8277.671564,9068.294218,9642.680517,10016.57121,8002.972178,9271.398396,10203.4213,10241.72783,10725.18359,10928.91601,9616.645558,8744.515559,9287.849587,9686.984927,9950.45008,8329.271313,474.2170943,524.0540084,571.594979,646.192471,797.9777263,998.829388,1334.212724,1632.727582,2136.562402,1714.361827,2643.287083,3757.565415,4351.888461,4366.089537,4158.521471,3875.321675,3658.3903,3687.100003,4156.84697,4404.84583,4060.950518,1334.943464,1339.294077,1416.488396,1725.457466,1952.902534,2018.025547,2196.011276,2499.259938,2890.360715,2866.92411,2839.92612,3046.947854,2912.658275,3121.680081,3171.699192,2875.257985,2896.722196,3035.454433,3226.982794,3235.00066,3058.691689,319.3596208,296.2684069,302.5452337,326.0751909,383.2702219,416.8098242,435.3340633,482.1985636,563.6496343,520.4026316,471.9043433,594.5861471,657.6446765,664.0775104,673.969212,589.85905,428.9266729,461.4150941,503.3179252,506.6416391,448.5442807,146.6045788,131.7153072,128.0997081,161.0555236,193.3687658,216.3115014,240.6240142,314.2022942,460.9088892,586.1681802,746.94536,1061.344429,1134.302224,1168.1654,1210.097636,1196.743357,1136.610665,1151.114462,1250.173691,1271.111575,1467.604281,2185.604115,1950.648536,1808.884899,2621.700395,3464.418226,3739.531717,4059.101348,4405.410399,4212.367197,4295.387143,5394.996712,5806.748246,5942.29274,5392.094938,5469.9014,4896.61526,4546.986688,5367.114674,5588.392864,5009.685904,4179.278066,0.0,0.0,0.0,0.0,0.0,0.0,0.0,0.0,0.0,0.0,4752.175082,6560.27487,9562.667866,9648.495655,10171.48073,8341.012278,9521.042101,10339.38548,11614.66508,11029.73558,10580.26819,229.4903926,246.7255581,244.7208435,252.4023518,286.1576726,315.80563,346.9453313,391.3800572,470.455459,478.1732528,592.4012071,799.5833769,804.1416073,823.3598746,844.8531248,901.7496077,899.523581,1048.453755,1178.525932,1194.956876,1155.142854,26149.41108,26873.27593,29204.03983,35672.2066,40362.39478,41979.05585,44863.35063,51733.44213,57644.47997,52514.02712,50950.03434,54159.34661,50073.00566,52184.06185,52830.17423,45175.23189,46007.85292,48554.99228,53018.62936,52476.27325,52397.11671,16039.16917,15174.27843,16885.8944,21817.31511,25770.53108,26861.69844,29604.05264,36864.85762,37353.7373,35391.08787,37494.89516,40697.65294,37294.02281,38503.25385,39675.56631,32520.29416,32391.19722,33976.55555,36382.48766,34788.52928,33194.570900000006,13641.10272,13882.85683,16874.18749,21913.70817,25420.23488,27751.06547,26654.5932,32479.98174,31252.96256,28209.36233,33676.77412,38387.62708,39973.38076,42976.64959,44572.89875,38630.72659,40080.49411,42992.89527,43306.07,42755.21626,41441.46667,1007.499839,1034.551387,1000.936715,1005.733044,1080.269119,1162.289685,1226.644309,1327.966782,1499.25762,1444.36951,1503.864191,1655.802946,1760.460308,1811.636803,1934.062922,2049.851666,2107.57406,2159.156714,2014.575189,1926.699694,1905.261152,197.8326834,208.3770599,228.2359086,268.349893,286.4900658,321.7236612,336.2819503,390.2844802,478.502559,464.057999,476.8695322,512.595335,529.7444581,552.569139,564.5967488,484.1531374,500.2149113,517.7715723,570.723922,554.0993893,567.6698923,567.9307221,590.381815,741.7474939,795.3862287,1007.874342,1268.383462,1656.424794,1883.461388,2259.114059,1911.607866,2280.437337,2487.598017,2723.822191,2961.549422,3098.985791,2687.480056,2176.002772,1968.565398,2027.778549,2229.858652,2097.092473,1861.898065,1823.023561,1989.135125,2440.476943,2795.899261,3072.678573,3362.968419,4079.391954,4841.251694,4584.709832,4577.688755,5098.097583,4728.308142,5241.058345,5495.735049,4861.553971,5149.589074,5450.492881,6108.740108,6070.388054,5917.262575,38131.46061,38542.7151,43084.47247,50134.89077,57603.83602,66810.47852,74148.32008,85139.96045,96944.09561,79977.69708,87693.79007,100600.5624,101524.1419,102913.4508,97019.18275,74355.51586,70460.56053,75496.75406,82267.80932,75719.7529,67329.67779,8601.271944,8475.968643,8626.965234,9066.312371,10126.13774,12377.08001,14420.51204,15838.46956,22139.74071,16823.79498,21369.35297,23837.31094,24988.01259,23888.62658,23017.93398,18444.927,16772.73921,17329.18546,18947.3665,17700.70349,14485.38612,576.1955804,544.4942514,534.3039007,599.3763305,687.8364127,748.9225893,836.8605262,908.0950852,990.8466112,957.9956753,987.409712,1164.978823,1198.117637,1208.91771,1251.175719,1356.667831,1368.426961,1464.926195,1482.213067,1288.556325,1188.859757,4060.317793,4046.429148,4126.232386,4267.292687,4592.152614,4916.907612,5348.884253,6166.187871,7154.274501,7576.140457,8082.016175,9358.26813,10722.26147,11889.09507,12796.07403,13630.30114,14343.98026,15146.40851,15544.99908,15774.25494,12509.83529,602.1864903,515.6847804,491.8343081,568.2463486,618.0367032,749.1865116,1256.979648,1401.949447,1672.951024,1626.312855,1949.351185,2406.910967,2790.676303,2729.888751,2920.782986,2679.346579,2509.629637,2695.249009,2801.371393,2820.306397,2757.21753,1663.604939,1565.054289,1300.852367,1365.416418,1679.49512,1843.634108,2271.088885,2976.824014,4047.909791,3626.818637,4359.428415,5329.387437,5185.141549,5936.975959,6118.31811,5413.776021,5324.609068,5678.869972,5782.78455,5380.963322,5001.07276,1955.588006,1941.475342,2021.240038,2145.643889,2417.034363,2729.499172,3154.331349,3606.070689,4220.616378,4196.311627,5082.353706,5869.323882,6528.971775,6756.752996,6672.877373,6229.100674,6204.996457,6710.507602,6957.793411,7027.612207,6126.87454,1072.801752,990.5659913,1036.158331,1048.008205,1121.490006,1244.348741,1452.438089,1744.639979,1998.02692,1904.196388,2217.472153,2450.735694,2694.305109,2871.429701,2959.645435,3001.043182,3073.654686,3123.245642,3252.110274,3485.340844,3298.829586,4501.454067,4991.244358,5207.171421,5701.602212,6681.386472,8021.505743,9035.410467,11254.51739,13996.02515,11526.05589,12613.011,13879.56099,13097.27085,13696.4663,14271.30585,12578.49547,12447.43959,13864.68176,15468.48222,15732.20313,15720.99466,11497.75346,11724.6115,12875.32079,15762.97579,18031.00042,18773.12536,19822.84603,22782.09462,24847.54514,23059.79745,22498.69086,23186.91313,20564.88986,21647.04181,22074.30076,19242.36647,19978.40121,21437.3475,23551.04829,23330.81729,22176.29671,16192.12697,18123.1987,18731.45939,19557.12025,20988.99233,21959.3227,22935.94116,23664.88235,24898.33459,25768.72589,26435.74879,27278.88305,27944.73389,28513.16574,28981.45733,29763.4883,30627.1634,31108.76057,31604.70151,32850.54861,32290.92114,29976.16763,28517.22084,30214.67042,34517.60321,42124.94084,51455.95094,59530.561,65421.37692,80234.19083,59094.65918,67403.08768,82409.94165,85075.98654,85050.68434,83858.34046,63039.11263,57162.96801,59124.86727,65907.94844,62276.42869,50124.38594,1659.90764,1825.179805,2119.882673,2679.41191,3494.944517,4617.929016,5757.496429,8360.166321,10435.04398,8548.118672,8214.076893,9099.217539,8507.104775,9547.852151,10043.67745,8969.148921,9548.587403,10807.00917,12398.98198,12899.34611,12896.08862,260.6011858,238.7812778,233.1512636,249.7433131,273.6336903,331.6901134,366.8943924,438.6641845,543.5453565,579.726615,609.724917,668.4946722,725.1697703,722.8943285,743.559038,751.0773926,744.7607488,772.3169891,783.6371628,820.1492886,797.8555207,0.0,0.0,0.0,0.0,0.0,0.0,0.0,0.0,0.0,0.0,0.0,0.0,0.0,0.0,0.0,0.0,0.0,0.0,0.0,0.0,0.0,0.0,0.0,0.0,0.0,0.0,0.0,0.0,0.0,0.0,0.0,0.0,0.0,0.0,0.0,0.0,0.0,0.0,0.0,0.0,0.0,0.0,0.0,0.0,0.0,0.0,0.0,0.0,0.0,0.0,0.0,0.0,0.0,0.0,0.0,0.0,0.0,0.0,0.0,0.0,0.0,0.0,0.0,1542.066736,1556.999425,1633.007661,1909.154441,2353.455973,2590.489858,2796.601169,3133.671327,3378.953029,3168.228207,3566.42836,3932.105847,4020.959844,4037.813829,3937.186246,4071.926959,4109.663228,4258.978767,4187.504729,4322.868457,4067.843459,0.0,524.6698721,577.628404,678.7379639,745.3202999,866.5049956,883.0970413,896.8677913,1098.755219,1067.908053,1090.260763,1254.541598,1330.620114,1564.768548,1770.467688,1584.775657,1700.097997,1813.807434,1953.513257,1987.579702,2157.840446,9171.331476,8684.645762,8695.396483,9609.968686,11185.13704,13791.45476,15384.73836,16516.63178,20078.26007,16113.14371,19262.5476,23745.88058,25243.602,24845.12466,24464.21256,20627.92693,19878.76384,20802.46631,23337.01755,23139.79798,20110.31619,613.7323845,648.4414733,681.3118508,831.8310403,932.1680954,992.6880581,1027.731441,1197.409561,1403.949385,1308.937808,1271.583281,1366.774501,1317.779802,1372.665779,1396.657339,1219.249415,1269.903294,1361.701972,1458.069093,1430.148259,1471.830962,7578.851053,7663.13708,8331.261997,8524.961236,10176.65871,11092.51074,12014.39987,12154.82994,11122.86207,9706.95606,10804.68447,12189.09516,12006.68296,14765.67398,14700.33434,14745.34146,15068.62035,15945.26493,15994.81986,16213.48076,10764.42042,138.6987225,229.3756595,252.396007,266.4469054,266.5693713,292.3490663,323.3890184,360.3716605,408.4810085,391.200943,401.8348761,448.3376621,566.3782351,716.8358269,714.6997957,588.2288628,501.4151655,496.6822949,533.9915333,521.7548367,509.376594,23852.32703,21700.02005,22159.68886,23730.15245,27608.53737,29961.26328,33769.15416,39432.93835,40007.46926,38927.20688,47236.96023,53890.42873,55546.48854,56967.42579,57562.53079,55646.61875,56848.17539,61176.45636,66679.04649,65640.70795,59797.75218,0.0,0.0,0.0,0.0,0.0,0.0,0.0,0.0,0.0,0.0,0.0,0.0,0.0,0.0,0.0,0.0,0.0,0.0,0.0,0.0,0.0,10201.30354,10479.75963,11777.15566,14849.03724,17233.13856,18098.90854,19672.96556,23787.64656,27483.33717,24694.23049,23509.54314,25095.13229,22643.10025,23496.6025,24214.92207,20881.76693,21663.64341,23455.94473,26104.10279,25942.95477,25517.33067,1017.613757,965.7656751,795.6015338,788.6131193,867.1071722,1014.85528,1119.693297,1260.289404,1388.963877,1428.505673,1604.20583,1938.891187,2141.821522,2248.614935,2274.887866,2167.119928,2225.486842,2332.844216,2411.862926,2344.048976,2250.601164,0.0,0.0,0.0,0.0,0.0,0.0,0.0,0.0,0.0,0.0,0.0,0.0,0.0,350.1681618,374.1147807,386.437817,389.8220615,384.4634014,389.8313955,419.3948077,438.2551656,3374.718423,2971.819769,2797.087291,4217.11478,5409.133489,6033.101491,6266.533987,6780.884555,6350.65271,6532.736968,8148.961202,8810.930651,8222.197279,7467.079185,6988.808739,6259.839681,5756.965741,6690.939847,7005.095413,6624.761865,5655.867654,14713.06571,15355.70317,17025.53198,21463.44266,24861.2828,26419.29686,28365.31349,32549.97098,35366.2596,32042.47408,30502.71971,31636.44631,28324.42934,29059.54795,29461.55033,25732.01836,26505.34322,28100.58624,30349.7521,29555.3157,27063.19392,869.696285,832.8035723,867.4914868,982.195697,1065.784437,1248.698185,1435.816813,1630.388906,2037.322103,2090.401826,2799.648738,3200.861132,3350.521876,3610.289363,3819.25353,3843.780672,3886.291502,4077.043841,4059.20823,3852.265603,3680.673477,366.172742,456.6242379,512.4412582,586.7532114,711.9219842,914.1665223,1143.932251,1461.315914,1551.085771,1202.557881,1338.443724,1366.410905,1039.762051,1160.535552,1303.838955,1329.635962,1069.839957,1011.521216,740.746767,610.9278615,486.4188163,2012.281651,1750.576737,2267.753984,2611.377493,3006.183233,3590.648183,5197.747907,5744.759727,6831.983622,7408.360786,8255.874872,8263.203803,9200.974786,9402.164419,9471.922001,9168.237157,5872.789429,6295.560562,6938.086981,6853.693411,4916.605666,29624.91267,27247.85773,29899.19525,37321.7979,42821.67314,43437.06312,46593.60216,53700.00534,56152.55234,46946.96027,52869.04429,60755.75955,58037.82132,61126.9432,60020.36046,51545.48361,51965.15715,53791.50873,54589.06039,51939.42974,52274.40879,38952.0342,39727.84667,42578.76314,49470.39713,54878.471,56546.78566,59300.61722,65359.51922,74572.23237,72083.1677,77117.12601,91254.03476,86547.67089,88109.48675,89684.70758,84776.14217,83073.28008,83352.08865,86388.40495,85334.51946,87097.03645,138.4291467,171.0480646,190.0026776,237.7573352,311.6272313,340.5831832,408.8384135,526.6432883,715.8657063,676.1235111,749.5524123,847.3824321,969.2961039,1048.225602,1104.172358,978.4049812,807.1025861,848.6723799,853.2188734,890.5444024,859.1379611,2007.735271,1893.264239,2096.187802,2359.116831,2660.126835,2894.062656,3369.543198,3973.017172,4379.658787,4213.006654,5076.339872,5492.1215,5860.581471,6168.261356,5951.883487,5840.053067,5993.305516,6593.818352,7296.879608,7817.009671,7186.874092,302.958592,292.8231035,328.3981073,396.9205798,413.3298662,406.562366,408.0571173,449.7382505,546.3503702,540.6087126,534.0447826,587.0974928,571.8067239,621.3988536,640.9342196,570.9099672,803.1518934,830.7452767,901.5230169,893.3524541,914.9507925,2091.113009,1839.086867,1845.669127,2030.775469,2301.654115,2594.418739,2873.076637,2910.145122,3331.546555,3006.606344,3527.952342,4002.813771,4581.783245,4428.146521,4354.24436,4336.239603,4157.877249,4513.432531,4740.700272,4903.012138,4624.823449,6435.134212,6939.828471,7053.087371,8807.866068,10293.86925,12327.28071,14102.59329,16539.89075,21204.00818,14514.24061,16683.39306,19034.12071,19157.45977,20143.54541,20270.93377,18214.46062,16250.62869,16173.74005,17037.86236,16637.16294,15425.63511,2211.835015,2253.034852,2344.396907,2760.405122,3111.374381,3193.204358,3369.924443,3776.332046,4307.580023,4128.463959,4344.64192,4479.930327,4361.687736,4444.816511,4544.016632,4094.836287,3924.363346,3687.777461,3680.892597,3574.654024,3521.591948,4337.478003,3142.920998,3687.956093,4760.104019,6101.632117,7456.296101,8101.856924,9791.88245,10941.17215,9103.474051,10742.77498,11420.55546,11795.63346,12614.78161,12157.99043,11006.27952,10894.60338,10589.66772,9454.348443,9121.515167,8536.43332,643.1909754,774.482152,967.8874353,1283.908782,1453.917784,1704.41538,2136.472101,2600.368758,3904.465301,4036.456805,4439.202128,5649.962106,6675.178055,7304.285771,7962.244925,6432.685325,6387.682575,6587.092604,6967.375043,7612.03518,8256.695317,1463.166211,1392.334348,1610.653001,1874.853819,2181.636269,2184.565259,2263.575948,2645.109505,2936.521547,2602.619444,3024.761774,3643.121608,3506.308144,3457.376266,3398.39675,3197.772252,3253.899536,3574.065288,3701.709255,4055.89561,4143.109753,261.8691416,239.473127,245.5000403,254.3012043,296.0142675,333.7315763,349.2171001,403.6637446,474.5179496,799.9658963,822.5393725,832.5690782,790.1314506,810.090395,883.5287445,847.2676289,736.5598474,746.8307529,770.6007843,798.5857341,822.0276815,658.348608,807.8019371,911.9111514,1087.785627,1416.60381,1894.470781,2391.323934,3197.934295,4066.547885,2639.391654,3078.429982,3704.824973,4004.804396,4187.739845,3104.643206,2124.662319,2187.73051,2638.326055,3096.561697,3661.456204,3724.938437,33291.36625,31280.75586,31567.54631,33499.10278,36333.18733,39365.45964,41907.42147,41809.46216,44498.94051,32024.19778,33893.26387,39194.67224,40976.49075,42412.6395,43751.80565,38663.4005,38141.86713,40644.79119,43839.32449,42701.44305,36284.55524,28223.06757,27806.44882,30049.89632,34487.46757,40371.71083,42132.09072,44654.09692,50653.25691,47549.34863,38952.21103,39688.61497,42284.88449,42686.80005,43713.81412,47787.2413,45404.56777,41499.5557,40857.75558,43646.95197,43070.49836,41059.16881,36334.90878,37133.24281,38023.16111,39496.48588,41712.80107,44114.74778,46298.73144,47975.9677,48382.55845,47099.98047,48466.6576,49882.55813,51602.93105,53106.53677,55049.98833,56863.3715,58021.4005,60109.65573,63064.41841,65279.52903,63593.44362,6875.025469,6284.45968,4090.891888,3624.205685,4120.544205,5226.9441,5887.845162,7026.503055,9091.079039,9451.932449,11992.02377,14236.715,15171.58017,16973.68924,16831.94819,15613.74597,16715.63347,18690.89384,18703.86029,17688.01501,15438.41167,558.2268024,456.7062895,383.343068,396.377979,465.1198869,546.7768502,654.2838373,830.4076942,1082.286025,1213.265328,1742.349256,2051.129515,2267.623275,2419.718703,2628.460008,2753.971072,2704.677188,1916.764642,1597.068337,1784.009816,1750.697113,1470.63587,1363.185058,1354.100243,1580.575634,1788.122206,1887.226576,2049.532809,2352.973255,2629.053124,2573.889015,2839.40634,3173.822022,2997.293432,2954.774511,2926.67996,2695.666186,2805.66532,3082.475083,3125.404999,3116.297759,2870.0893,0.0,0.0,0.0,0.0,0.0,0.0,0.0,0.0,0.0,0.0,0.0,0.0,0.0,0.0,0.0,0.0,0.0,0.0,0.0,0.0,0.0,345.6896207,382.9410352,382.2419633,435.4581994,538.591553,702.7411184,1047.918843,1124.290586,1394.0005,1159.907499,1489.459087,1672.907535,1763.069442,1878.346811,1762.427817,1338.290927,1280.806543,1535.196574,1516.368371,1305.001031,985.132436,563.0575041,568.3862905,530.5304463,478.0076044,482.9984515,476.5554025,447.8547399,431.7872587,356.6932344,771.5990323,948.331481,1093.653409,1304.968011,1429.998461,1434.896277,1445.069702,1464.588957,1235.189032,1254.642265,1316.740657,1214.50982],\"y0\":\" \",\"yaxis\":\"y\",\"type\":\"box\"}],                        {\"template\":{\"data\":{\"barpolar\":[{\"marker\":{\"line\":{\"color\":\"white\",\"width\":0.5},\"pattern\":{\"fillmode\":\"overlay\",\"size\":10,\"solidity\":0.2}},\"type\":\"barpolar\"}],\"bar\":[{\"error_x\":{\"color\":\"#2a3f5f\"},\"error_y\":{\"color\":\"#2a3f5f\"},\"marker\":{\"line\":{\"color\":\"white\",\"width\":0.5},\"pattern\":{\"fillmode\":\"overlay\",\"size\":10,\"solidity\":0.2}},\"type\":\"bar\"}],\"carpet\":[{\"aaxis\":{\"endlinecolor\":\"#2a3f5f\",\"gridcolor\":\"#C8D4E3\",\"linecolor\":\"#C8D4E3\",\"minorgridcolor\":\"#C8D4E3\",\"startlinecolor\":\"#2a3f5f\"},\"baxis\":{\"endlinecolor\":\"#2a3f5f\",\"gridcolor\":\"#C8D4E3\",\"linecolor\":\"#C8D4E3\",\"minorgridcolor\":\"#C8D4E3\",\"startlinecolor\":\"#2a3f5f\"},\"type\":\"carpet\"}],\"choropleth\":[{\"colorbar\":{\"outlinewidth\":0,\"ticks\":\"\"},\"type\":\"choropleth\"}],\"contourcarpet\":[{\"colorbar\":{\"outlinewidth\":0,\"ticks\":\"\"},\"type\":\"contourcarpet\"}],\"contour\":[{\"colorbar\":{\"outlinewidth\":0,\"ticks\":\"\"},\"colorscale\":[[0.0,\"#0d0887\"],[0.1111111111111111,\"#46039f\"],[0.2222222222222222,\"#7201a8\"],[0.3333333333333333,\"#9c179e\"],[0.4444444444444444,\"#bd3786\"],[0.5555555555555556,\"#d8576b\"],[0.6666666666666666,\"#ed7953\"],[0.7777777777777778,\"#fb9f3a\"],[0.8888888888888888,\"#fdca26\"],[1.0,\"#f0f921\"]],\"type\":\"contour\"}],\"heatmapgl\":[{\"colorbar\":{\"outlinewidth\":0,\"ticks\":\"\"},\"colorscale\":[[0.0,\"#0d0887\"],[0.1111111111111111,\"#46039f\"],[0.2222222222222222,\"#7201a8\"],[0.3333333333333333,\"#9c179e\"],[0.4444444444444444,\"#bd3786\"],[0.5555555555555556,\"#d8576b\"],[0.6666666666666666,\"#ed7953\"],[0.7777777777777778,\"#fb9f3a\"],[0.8888888888888888,\"#fdca26\"],[1.0,\"#f0f921\"]],\"type\":\"heatmapgl\"}],\"heatmap\":[{\"colorbar\":{\"outlinewidth\":0,\"ticks\":\"\"},\"colorscale\":[[0.0,\"#0d0887\"],[0.1111111111111111,\"#46039f\"],[0.2222222222222222,\"#7201a8\"],[0.3333333333333333,\"#9c179e\"],[0.4444444444444444,\"#bd3786\"],[0.5555555555555556,\"#d8576b\"],[0.6666666666666666,\"#ed7953\"],[0.7777777777777778,\"#fb9f3a\"],[0.8888888888888888,\"#fdca26\"],[1.0,\"#f0f921\"]],\"type\":\"heatmap\"}],\"histogram2dcontour\":[{\"colorbar\":{\"outlinewidth\":0,\"ticks\":\"\"},\"colorscale\":[[0.0,\"#0d0887\"],[0.1111111111111111,\"#46039f\"],[0.2222222222222222,\"#7201a8\"],[0.3333333333333333,\"#9c179e\"],[0.4444444444444444,\"#bd3786\"],[0.5555555555555556,\"#d8576b\"],[0.6666666666666666,\"#ed7953\"],[0.7777777777777778,\"#fb9f3a\"],[0.8888888888888888,\"#fdca26\"],[1.0,\"#f0f921\"]],\"type\":\"histogram2dcontour\"}],\"histogram2d\":[{\"colorbar\":{\"outlinewidth\":0,\"ticks\":\"\"},\"colorscale\":[[0.0,\"#0d0887\"],[0.1111111111111111,\"#46039f\"],[0.2222222222222222,\"#7201a8\"],[0.3333333333333333,\"#9c179e\"],[0.4444444444444444,\"#bd3786\"],[0.5555555555555556,\"#d8576b\"],[0.6666666666666666,\"#ed7953\"],[0.7777777777777778,\"#fb9f3a\"],[0.8888888888888888,\"#fdca26\"],[1.0,\"#f0f921\"]],\"type\":\"histogram2d\"}],\"histogram\":[{\"marker\":{\"pattern\":{\"fillmode\":\"overlay\",\"size\":10,\"solidity\":0.2}},\"type\":\"histogram\"}],\"mesh3d\":[{\"colorbar\":{\"outlinewidth\":0,\"ticks\":\"\"},\"type\":\"mesh3d\"}],\"parcoords\":[{\"line\":{\"colorbar\":{\"outlinewidth\":0,\"ticks\":\"\"}},\"type\":\"parcoords\"}],\"pie\":[{\"automargin\":true,\"type\":\"pie\"}],\"scatter3d\":[{\"line\":{\"colorbar\":{\"outlinewidth\":0,\"ticks\":\"\"}},\"marker\":{\"colorbar\":{\"outlinewidth\":0,\"ticks\":\"\"}},\"type\":\"scatter3d\"}],\"scattercarpet\":[{\"marker\":{\"colorbar\":{\"outlinewidth\":0,\"ticks\":\"\"}},\"type\":\"scattercarpet\"}],\"scattergeo\":[{\"marker\":{\"colorbar\":{\"outlinewidth\":0,\"ticks\":\"\"}},\"type\":\"scattergeo\"}],\"scattergl\":[{\"marker\":{\"colorbar\":{\"outlinewidth\":0,\"ticks\":\"\"}},\"type\":\"scattergl\"}],\"scattermapbox\":[{\"marker\":{\"colorbar\":{\"outlinewidth\":0,\"ticks\":\"\"}},\"type\":\"scattermapbox\"}],\"scatterpolargl\":[{\"marker\":{\"colorbar\":{\"outlinewidth\":0,\"ticks\":\"\"}},\"type\":\"scatterpolargl\"}],\"scatterpolar\":[{\"marker\":{\"colorbar\":{\"outlinewidth\":0,\"ticks\":\"\"}},\"type\":\"scatterpolar\"}],\"scatter\":[{\"fillpattern\":{\"fillmode\":\"overlay\",\"size\":10,\"solidity\":0.2},\"type\":\"scatter\"}],\"scatterternary\":[{\"marker\":{\"colorbar\":{\"outlinewidth\":0,\"ticks\":\"\"}},\"type\":\"scatterternary\"}],\"surface\":[{\"colorbar\":{\"outlinewidth\":0,\"ticks\":\"\"},\"colorscale\":[[0.0,\"#0d0887\"],[0.1111111111111111,\"#46039f\"],[0.2222222222222222,\"#7201a8\"],[0.3333333333333333,\"#9c179e\"],[0.4444444444444444,\"#bd3786\"],[0.5555555555555556,\"#d8576b\"],[0.6666666666666666,\"#ed7953\"],[0.7777777777777778,\"#fb9f3a\"],[0.8888888888888888,\"#fdca26\"],[1.0,\"#f0f921\"]],\"type\":\"surface\"}],\"table\":[{\"cells\":{\"fill\":{\"color\":\"#EBF0F8\"},\"line\":{\"color\":\"white\"}},\"header\":{\"fill\":{\"color\":\"#C8D4E3\"},\"line\":{\"color\":\"white\"}},\"type\":\"table\"}]},\"layout\":{\"annotationdefaults\":{\"arrowcolor\":\"#2a3f5f\",\"arrowhead\":0,\"arrowwidth\":1},\"autotypenumbers\":\"strict\",\"coloraxis\":{\"colorbar\":{\"outlinewidth\":0,\"ticks\":\"\"}},\"colorscale\":{\"diverging\":[[0,\"#8e0152\"],[0.1,\"#c51b7d\"],[0.2,\"#de77ae\"],[0.3,\"#f1b6da\"],[0.4,\"#fde0ef\"],[0.5,\"#f7f7f7\"],[0.6,\"#e6f5d0\"],[0.7,\"#b8e186\"],[0.8,\"#7fbc41\"],[0.9,\"#4d9221\"],[1,\"#276419\"]],\"sequential\":[[0.0,\"#0d0887\"],[0.1111111111111111,\"#46039f\"],[0.2222222222222222,\"#7201a8\"],[0.3333333333333333,\"#9c179e\"],[0.4444444444444444,\"#bd3786\"],[0.5555555555555556,\"#d8576b\"],[0.6666666666666666,\"#ed7953\"],[0.7777777777777778,\"#fb9f3a\"],[0.8888888888888888,\"#fdca26\"],[1.0,\"#f0f921\"]],\"sequentialminus\":[[0.0,\"#0d0887\"],[0.1111111111111111,\"#46039f\"],[0.2222222222222222,\"#7201a8\"],[0.3333333333333333,\"#9c179e\"],[0.4444444444444444,\"#bd3786\"],[0.5555555555555556,\"#d8576b\"],[0.6666666666666666,\"#ed7953\"],[0.7777777777777778,\"#fb9f3a\"],[0.8888888888888888,\"#fdca26\"],[1.0,\"#f0f921\"]]},\"colorway\":[\"#636efa\",\"#EF553B\",\"#00cc96\",\"#ab63fa\",\"#FFA15A\",\"#19d3f3\",\"#FF6692\",\"#B6E880\",\"#FF97FF\",\"#FECB52\"],\"font\":{\"color\":\"#2a3f5f\"},\"geo\":{\"bgcolor\":\"white\",\"lakecolor\":\"white\",\"landcolor\":\"white\",\"showlakes\":true,\"showland\":true,\"subunitcolor\":\"#C8D4E3\"},\"hoverlabel\":{\"align\":\"left\"},\"hovermode\":\"closest\",\"mapbox\":{\"style\":\"light\"},\"paper_bgcolor\":\"white\",\"plot_bgcolor\":\"white\",\"polar\":{\"angularaxis\":{\"gridcolor\":\"#EBF0F8\",\"linecolor\":\"#EBF0F8\",\"ticks\":\"\"},\"bgcolor\":\"white\",\"radialaxis\":{\"gridcolor\":\"#EBF0F8\",\"linecolor\":\"#EBF0F8\",\"ticks\":\"\"}},\"scene\":{\"xaxis\":{\"backgroundcolor\":\"white\",\"gridcolor\":\"#DFE8F3\",\"gridwidth\":2,\"linecolor\":\"#EBF0F8\",\"showbackground\":true,\"ticks\":\"\",\"zerolinecolor\":\"#EBF0F8\"},\"yaxis\":{\"backgroundcolor\":\"white\",\"gridcolor\":\"#DFE8F3\",\"gridwidth\":2,\"linecolor\":\"#EBF0F8\",\"showbackground\":true,\"ticks\":\"\",\"zerolinecolor\":\"#EBF0F8\"},\"zaxis\":{\"backgroundcolor\":\"white\",\"gridcolor\":\"#DFE8F3\",\"gridwidth\":2,\"linecolor\":\"#EBF0F8\",\"showbackground\":true,\"ticks\":\"\",\"zerolinecolor\":\"#EBF0F8\"}},\"shapedefaults\":{\"line\":{\"color\":\"#2a3f5f\"}},\"ternary\":{\"aaxis\":{\"gridcolor\":\"#DFE8F3\",\"linecolor\":\"#A2B1C6\",\"ticks\":\"\"},\"baxis\":{\"gridcolor\":\"#DFE8F3\",\"linecolor\":\"#A2B1C6\",\"ticks\":\"\"},\"bgcolor\":\"white\",\"caxis\":{\"gridcolor\":\"#DFE8F3\",\"linecolor\":\"#A2B1C6\",\"ticks\":\"\"}},\"title\":{\"x\":0.05},\"xaxis\":{\"automargin\":true,\"gridcolor\":\"#EBF0F8\",\"linecolor\":\"#EBF0F8\",\"ticks\":\"\",\"title\":{\"standoff\":15},\"zerolinecolor\":\"#EBF0F8\",\"zerolinewidth\":2},\"yaxis\":{\"automargin\":true,\"gridcolor\":\"#EBF0F8\",\"linecolor\":\"#EBF0F8\",\"ticks\":\"\",\"title\":{\"standoff\":15},\"zerolinecolor\":\"#EBF0F8\",\"zerolinewidth\":2}}},\"xaxis\":{\"anchor\":\"y\",\"domain\":[0.0,1.0]},\"yaxis\":{\"anchor\":\"x\",\"domain\":[0.0,1.0],\"title\":{\"text\":\"gdp_per_capita\"}},\"legend\":{\"tracegroupgap\":0},\"title\":{\"text\":\"CO2 emission (BoxPlot)\"},\"boxmode\":\"group\",\"font\":{\"size\":10,\"family\":\"Franklin Gothic\"}},                        {\"responsive\": true}                    ).then(function(){\n                            \nvar gd = document.getElementById('46ae6541-8567-418a-8de4-0b824623be79');\nvar x = new MutationObserver(function (mutations, observer) {{\n        var display = window.getComputedStyle(gd).display;\n        if (!display || display === 'none') {{\n            console.log([gd, 'removed!']);\n            Plotly.purge(gd);\n            observer.disconnect();\n        }}\n}});\n\n// Listen for the removal of the full notebook cells\nvar notebookContainer = gd.closest('#notebook-container');\nif (notebookContainer) {{\n    x.observe(notebookContainer, {childList: true});\n}}\n\n// Listen for the clearing of the current output cell\nvar outputEl = gd.closest('.output');\nif (outputEl) {{\n    x.observe(outputEl, {childList: true});\n}}\n\n                        })                };                });            </script>        </div>"
     },
     "metadata": {},
     "output_type": "display_data"
    }
   ],
   "source": [
    "# Create the box plot using Plotly Express for 'CO2'\n",
    "fig1 = px.box(energy_data['gdp_per_capita'], y='gdp_per_capita', template='plotly_white', title='CO2 emission (BoxPlot)')\n",
    "# Customize the layout of the box plot\n",
    "fig1.update_layout(font=dict(size=10, family=\"Franklin Gothic\"))\n",
    "# Display the box plot\n",
    "fig1.show()"
   ],
   "metadata": {
    "collapsed": false,
    "ExecuteTime": {
     "end_time": "2024-01-21T22:09:00.412760900Z",
     "start_time": "2024-01-21T22:09:00.239599400Z"
    }
   }
  },
  {
   "cell_type": "code",
   "execution_count": 417,
   "outputs": [
    {
     "data": {
      "text/plain": "                                             country          year  \\\ncountry                                 1.000000e+00 -1.837885e-13   \nyear                                   -1.837885e-13  1.000000e+00   \naccess_electricity(%)                  -1.718006e-02  1.475798e-01   \naccess_cleaning_flues_cooking           2.416838e-02  7.800700e-02   \nrenewable_energy(%)                     5.952880e-03 -2.620819e-02   \nelectricity_fossil_fuels(twh)           2.426663e-02  3.376442e-02   \nelectricity_nuclear                     8.258834e-02 -3.542214e-03   \nelectricity_from_renewals              -5.070808e-02  7.509171e-02   \nelectricity_low_carbon(%)              -3.709955e-02  3.641832e-02   \nprimary_energy_consumption(kwh/person)  6.330680e-02  9.007514e-03   \nprimary_energy_intensity                1.319191e-01 -1.602596e-01   \nco2_emissions                           1.510211e-03  2.392402e-02   \ngdp_growth                              8.364658e-03 -1.775531e-01   \ngdp_per_capita                         -1.291440e-02  1.359765e-01   \ndensity                                 2.906151e-02  4.767209e-04   \nland_area                              -1.085016e-01  1.275876e-04   \nlatitude                               -6.941179e-02  7.950629e-03   \nlongitude                               1.142754e-01  1.349077e-03   \n\n                                        access_electricity(%)  \\\ncountry                                             -0.017180   \nyear                                                 0.147580   \naccess_electricity(%)                                1.000000   \naccess_cleaning_flues_cooking                        0.766239   \nrenewable_energy(%)                                 -0.766827   \nelectricity_fossil_fuels(twh)                        0.123566   \nelectricity_nuclear                                  0.123745   \nelectricity_from_renewals                            0.137595   \nelectricity_low_carbon(%)                           -0.143347   \nprimary_energy_consumption(kwh/person)               0.455791   \nprimary_energy_intensity                            -0.253935   \nco2_emissions                                        0.119217   \ngdp_growth                                          -0.100236   \ngdp_per_capita                                       0.397520   \ndensity                                              0.101512   \nland_area                                            0.060257   \nlatitude                                             0.421704   \nlongitude                                           -0.095394   \n\n                                        access_cleaning_flues_cooking  \\\ncountry                                                      0.024168   \nyear                                                         0.078007   \naccess_electricity(%)                                        0.766239   \naccess_cleaning_flues_cooking                                1.000000   \nrenewable_energy(%)                                         -0.648368   \nelectricity_fossil_fuels(twh)                                0.108058   \nelectricity_nuclear                                          0.160620   \nelectricity_from_renewals                                    0.134122   \nelectricity_low_carbon(%)                                   -0.050629   \nprimary_energy_consumption(kwh/person)                       0.489543   \nprimary_energy_intensity                                    -0.144578   \nco2_emissions                                                0.096686   \ngdp_growth                                                  -0.090641   \ngdp_per_capita                                               0.362892   \ndensity                                                      0.073792   \nland_area                                                    0.090247   \nlatitude                                                     0.398096   \nlongitude                                                   -0.119021   \n\n                                        renewable_energy(%)  \\\ncountry                                            0.005953   \nyear                                              -0.026208   \naccess_electricity(%)                             -0.766827   \naccess_cleaning_flues_cooking                     -0.648368   \nrenewable_energy(%)                                1.000000   \nelectricity_fossil_fuels(twh)                     -0.128645   \nelectricity_nuclear                               -0.126206   \nelectricity_from_renewals                         -0.063555   \nelectricity_low_carbon(%)                          0.458696   \nprimary_energy_consumption(kwh/person)            -0.418406   \nprimary_energy_intensity                           0.263265   \nco2_emissions                                     -0.116291   \ngdp_growth                                         0.087026   \ngdp_per_capita                                    -0.323476   \ndensity                                           -0.157507   \nland_area                                         -0.040626   \nlatitude                                          -0.326130   \nlongitude                                          0.018463   \n\n                                        electricity_fossil_fuels(twh)  \\\ncountry                                                      0.024267   \nyear                                                         0.033764   \naccess_electricity(%)                                        0.123566   \naccess_cleaning_flues_cooking                                0.108058   \nrenewable_energy(%)                                         -0.128645   \nelectricity_fossil_fuels(twh)                                1.000000   \nelectricity_nuclear                                          0.644844   \nelectricity_from_renewals                                    0.845116   \nelectricity_low_carbon(%)                                   -0.060498   \nprimary_energy_consumption(kwh/person)                       0.106397   \nprimary_energy_intensity                                     0.033681   \nco2_emissions                                                0.989214   \ngdp_growth                                                   0.016641   \ngdp_per_capita                                               0.114664   \ndensity                                                     -0.010469   \nland_area                                                    0.627883   \nlatitude                                                     0.112129   \nlongitude                                                    0.042022   \n\n                                        electricity_nuclear  \\\ncountry                                            0.082588   \nyear                                              -0.003542   \naccess_electricity(%)                              0.123745   \naccess_cleaning_flues_cooking                      0.160620   \nrenewable_energy(%)                               -0.126206   \nelectricity_fossil_fuels(twh)                      0.644844   \nelectricity_nuclear                                1.000000   \nelectricity_from_renewals                          0.492197   \nelectricity_low_carbon(%)                          0.076353   \nprimary_energy_consumption(kwh/person)             0.178235   \nprimary_energy_intensity                          -0.003739   \nco2_emissions                                      0.601755   \ngdp_growth                                        -0.051224   \ngdp_per_capita                                     0.235103   \ndensity                                           -0.027722   \nland_area                                          0.465516   \nlatitude                                           0.176977   \nlongitude                                         -0.089181   \n\n                                        electricity_from_renewals  \\\ncountry                                                 -0.050708   \nyear                                                     0.075092   \naccess_electricity(%)                                    0.137595   \naccess_cleaning_flues_cooking                            0.134122   \nrenewable_energy(%)                                     -0.063555   \nelectricity_fossil_fuels(twh)                            0.845116   \nelectricity_nuclear                                      0.492197   \nelectricity_from_renewals                                1.000000   \nelectricity_low_carbon(%)                                0.093909   \nprimary_energy_consumption(kwh/person)                   0.120738   \nprimary_energy_intensity                                 0.012020   \nco2_emissions                                            0.858922   \ngdp_growth                                              -0.006182   \ngdp_per_capita                                           0.148095   \ndensity                                                 -0.036195   \nland_area                                                0.705090   \nlatitude                                                 0.114171   \nlongitude                                               -0.019020   \n\n                                        electricity_low_carbon(%)  \\\ncountry                                                 -0.037100   \nyear                                                     0.036418   \naccess_electricity(%)                                   -0.143347   \naccess_cleaning_flues_cooking                           -0.050629   \nrenewable_energy(%)                                      0.458696   \nelectricity_fossil_fuels(twh)                           -0.060498   \nelectricity_nuclear                                      0.076353   \nelectricity_from_renewals                                0.093909   \nelectricity_low_carbon(%)                                1.000000   \nprimary_energy_consumption(kwh/person)                  -0.115742   \nprimary_energy_intensity                                 0.063432   \nco2_emissions                                           -0.042502   \ngdp_growth                                              -0.016621   \ngdp_per_capita                                           0.004028   \ndensity                                                 -0.182755   \nland_area                                                0.051032   \nlatitude                                                -0.023896   \nlongitude                                               -0.050277   \n\n                                        primary_energy_consumption(kwh/person)  \\\ncountry                                                               0.063307   \nyear                                                                  0.009008   \naccess_electricity(%)                                                 0.455791   \naccess_cleaning_flues_cooking                                         0.489543   \nrenewable_energy(%)                                                  -0.418406   \nelectricity_fossil_fuels(twh)                                         0.106397   \nelectricity_nuclear                                                   0.178235   \nelectricity_from_renewals                                             0.120738   \nelectricity_low_carbon(%)                                            -0.115742   \nprimary_energy_consumption(kwh/person)                                1.000000   \nprimary_energy_intensity                                              0.134335   \nco2_emissions                                                         0.097013   \ngdp_growth                                                           -0.042355   \ngdp_per_capita                                                        0.662163   \ndensity                                                               0.306371   \nland_area                                                             0.115714   \nlatitude                                                              0.330852   \nlongitude                                                             0.040730   \n\n                                        primary_energy_intensity  \\\ncountry                                                 0.131919   \nyear                                                   -0.160260   \naccess_electricity(%)                                  -0.253935   \naccess_cleaning_flues_cooking                          -0.144578   \nrenewable_energy(%)                                     0.263265   \nelectricity_fossil_fuels(twh)                           0.033681   \nelectricity_nuclear                                    -0.003739   \nelectricity_from_renewals                               0.012020   \nelectricity_low_carbon(%)                               0.063432   \nprimary_energy_consumption(kwh/person)                  0.134335   \nprimary_energy_intensity                                1.000000   \nco2_emissions                                           0.048530   \ngdp_growth                                              0.081756   \ngdp_per_capita                                         -0.169579   \ndensity                                                -0.075893   \nland_area                                               0.077193   \nlatitude                                                0.001313   \nlongitude                                               0.108490   \n\n                                        co2_emissions  gdp_growth  \\\ncountry                                      0.001510    0.008365   \nyear                                         0.023924   -0.177553   \naccess_electricity(%)                        0.119217   -0.100236   \naccess_cleaning_flues_cooking                0.096686   -0.090641   \nrenewable_energy(%)                         -0.116291    0.087026   \nelectricity_fossil_fuels(twh)                0.989214    0.016641   \nelectricity_nuclear                          0.601755   -0.051224   \nelectricity_from_renewals                    0.858922   -0.006182   \nelectricity_low_carbon(%)                   -0.042502   -0.016621   \nprimary_energy_consumption(kwh/person)       0.097013   -0.042355   \nprimary_energy_intensity                     0.048530    0.081756   \nco2_emissions                                1.000000    0.026909   \ngdp_growth                                   0.026909    1.000000   \ngdp_per_capita                               0.100095   -0.134565   \ndensity                                     -0.017076    0.006953   \nland_area                                    0.648814    0.019694   \nlatitude                                     0.110543   -0.007877   \nlongitude                                    0.042885    0.098369   \n\n                                        gdp_per_capita   density  land_area  \\\ncountry                                      -0.012914  0.029062  -0.108502   \nyear                                          0.135977  0.000477   0.000128   \naccess_electricity(%)                         0.397520  0.101512   0.060257   \naccess_cleaning_flues_cooking                 0.362892  0.073792   0.090247   \nrenewable_energy(%)                          -0.323476 -0.157507  -0.040626   \nelectricity_fossil_fuels(twh)                 0.114664 -0.010469   0.627883   \nelectricity_nuclear                           0.235103 -0.027722   0.465516   \nelectricity_from_renewals                     0.148095 -0.036195   0.705090   \nelectricity_low_carbon(%)                     0.004028 -0.182755   0.051032   \nprimary_energy_consumption(kwh/person)        0.662163  0.306371   0.115714   \nprimary_energy_intensity                     -0.169579 -0.075893   0.077193   \nco2_emissions                                 0.100095 -0.017076   0.648814   \ngdp_growth                                   -0.134565  0.006953   0.019694   \ngdp_per_capita                                1.000000  0.178903   0.086151   \ndensity                                       0.178903  1.000000  -0.090453   \nland_area                                     0.086151 -0.090453   1.000000   \nlatitude                                      0.362388 -0.031646  -0.020422   \nlongitude                                    -0.005690  0.117373  -0.032489   \n\n                                        latitude  longitude  \ncountry                                -0.069412   0.114275  \nyear                                    0.007951   0.001349  \naccess_electricity(%)                   0.421704  -0.095394  \naccess_cleaning_flues_cooking           0.398096  -0.119021  \nrenewable_energy(%)                    -0.326130   0.018463  \nelectricity_fossil_fuels(twh)           0.112129   0.042022  \nelectricity_nuclear                     0.176977  -0.089181  \nelectricity_from_renewals               0.114171  -0.019020  \nelectricity_low_carbon(%)              -0.023896  -0.050277  \nprimary_energy_consumption(kwh/person)  0.330852   0.040730  \nprimary_energy_intensity                0.001313   0.108490  \nco2_emissions                           0.110543   0.042885  \ngdp_growth                             -0.007877   0.098369  \ngdp_per_capita                          0.362388  -0.005690  \ndensity                                -0.031646   0.117373  \nland_area                              -0.020422  -0.032489  \nlatitude                                1.000000  -0.015559  \nlongitude                              -0.015559   1.000000  ",
      "text/html": "<div>\n<style scoped>\n    .dataframe tbody tr th:only-of-type {\n        vertical-align: middle;\n    }\n\n    .dataframe tbody tr th {\n        vertical-align: top;\n    }\n\n    .dataframe thead th {\n        text-align: right;\n    }\n</style>\n<table border=\"1\" class=\"dataframe\">\n  <thead>\n    <tr style=\"text-align: right;\">\n      <th></th>\n      <th>country</th>\n      <th>year</th>\n      <th>access_electricity(%)</th>\n      <th>access_cleaning_flues_cooking</th>\n      <th>renewable_energy(%)</th>\n      <th>electricity_fossil_fuels(twh)</th>\n      <th>electricity_nuclear</th>\n      <th>electricity_from_renewals</th>\n      <th>electricity_low_carbon(%)</th>\n      <th>primary_energy_consumption(kwh/person)</th>\n      <th>primary_energy_intensity</th>\n      <th>co2_emissions</th>\n      <th>gdp_growth</th>\n      <th>gdp_per_capita</th>\n      <th>density</th>\n      <th>land_area</th>\n      <th>latitude</th>\n      <th>longitude</th>\n    </tr>\n  </thead>\n  <tbody>\n    <tr>\n      <th>country</th>\n      <td>1.000000e+00</td>\n      <td>-1.837885e-13</td>\n      <td>-0.017180</td>\n      <td>0.024168</td>\n      <td>0.005953</td>\n      <td>0.024267</td>\n      <td>0.082588</td>\n      <td>-0.050708</td>\n      <td>-0.037100</td>\n      <td>0.063307</td>\n      <td>0.131919</td>\n      <td>0.001510</td>\n      <td>0.008365</td>\n      <td>-0.012914</td>\n      <td>0.029062</td>\n      <td>-0.108502</td>\n      <td>-0.069412</td>\n      <td>0.114275</td>\n    </tr>\n    <tr>\n      <th>year</th>\n      <td>-1.837885e-13</td>\n      <td>1.000000e+00</td>\n      <td>0.147580</td>\n      <td>0.078007</td>\n      <td>-0.026208</td>\n      <td>0.033764</td>\n      <td>-0.003542</td>\n      <td>0.075092</td>\n      <td>0.036418</td>\n      <td>0.009008</td>\n      <td>-0.160260</td>\n      <td>0.023924</td>\n      <td>-0.177553</td>\n      <td>0.135977</td>\n      <td>0.000477</td>\n      <td>0.000128</td>\n      <td>0.007951</td>\n      <td>0.001349</td>\n    </tr>\n    <tr>\n      <th>access_electricity(%)</th>\n      <td>-1.718006e-02</td>\n      <td>1.475798e-01</td>\n      <td>1.000000</td>\n      <td>0.766239</td>\n      <td>-0.766827</td>\n      <td>0.123566</td>\n      <td>0.123745</td>\n      <td>0.137595</td>\n      <td>-0.143347</td>\n      <td>0.455791</td>\n      <td>-0.253935</td>\n      <td>0.119217</td>\n      <td>-0.100236</td>\n      <td>0.397520</td>\n      <td>0.101512</td>\n      <td>0.060257</td>\n      <td>0.421704</td>\n      <td>-0.095394</td>\n    </tr>\n    <tr>\n      <th>access_cleaning_flues_cooking</th>\n      <td>2.416838e-02</td>\n      <td>7.800700e-02</td>\n      <td>0.766239</td>\n      <td>1.000000</td>\n      <td>-0.648368</td>\n      <td>0.108058</td>\n      <td>0.160620</td>\n      <td>0.134122</td>\n      <td>-0.050629</td>\n      <td>0.489543</td>\n      <td>-0.144578</td>\n      <td>0.096686</td>\n      <td>-0.090641</td>\n      <td>0.362892</td>\n      <td>0.073792</td>\n      <td>0.090247</td>\n      <td>0.398096</td>\n      <td>-0.119021</td>\n    </tr>\n    <tr>\n      <th>renewable_energy(%)</th>\n      <td>5.952880e-03</td>\n      <td>-2.620819e-02</td>\n      <td>-0.766827</td>\n      <td>-0.648368</td>\n      <td>1.000000</td>\n      <td>-0.128645</td>\n      <td>-0.126206</td>\n      <td>-0.063555</td>\n      <td>0.458696</td>\n      <td>-0.418406</td>\n      <td>0.263265</td>\n      <td>-0.116291</td>\n      <td>0.087026</td>\n      <td>-0.323476</td>\n      <td>-0.157507</td>\n      <td>-0.040626</td>\n      <td>-0.326130</td>\n      <td>0.018463</td>\n    </tr>\n    <tr>\n      <th>electricity_fossil_fuels(twh)</th>\n      <td>2.426663e-02</td>\n      <td>3.376442e-02</td>\n      <td>0.123566</td>\n      <td>0.108058</td>\n      <td>-0.128645</td>\n      <td>1.000000</td>\n      <td>0.644844</td>\n      <td>0.845116</td>\n      <td>-0.060498</td>\n      <td>0.106397</td>\n      <td>0.033681</td>\n      <td>0.989214</td>\n      <td>0.016641</td>\n      <td>0.114664</td>\n      <td>-0.010469</td>\n      <td>0.627883</td>\n      <td>0.112129</td>\n      <td>0.042022</td>\n    </tr>\n    <tr>\n      <th>electricity_nuclear</th>\n      <td>8.258834e-02</td>\n      <td>-3.542214e-03</td>\n      <td>0.123745</td>\n      <td>0.160620</td>\n      <td>-0.126206</td>\n      <td>0.644844</td>\n      <td>1.000000</td>\n      <td>0.492197</td>\n      <td>0.076353</td>\n      <td>0.178235</td>\n      <td>-0.003739</td>\n      <td>0.601755</td>\n      <td>-0.051224</td>\n      <td>0.235103</td>\n      <td>-0.027722</td>\n      <td>0.465516</td>\n      <td>0.176977</td>\n      <td>-0.089181</td>\n    </tr>\n    <tr>\n      <th>electricity_from_renewals</th>\n      <td>-5.070808e-02</td>\n      <td>7.509171e-02</td>\n      <td>0.137595</td>\n      <td>0.134122</td>\n      <td>-0.063555</td>\n      <td>0.845116</td>\n      <td>0.492197</td>\n      <td>1.000000</td>\n      <td>0.093909</td>\n      <td>0.120738</td>\n      <td>0.012020</td>\n      <td>0.858922</td>\n      <td>-0.006182</td>\n      <td>0.148095</td>\n      <td>-0.036195</td>\n      <td>0.705090</td>\n      <td>0.114171</td>\n      <td>-0.019020</td>\n    </tr>\n    <tr>\n      <th>electricity_low_carbon(%)</th>\n      <td>-3.709955e-02</td>\n      <td>3.641832e-02</td>\n      <td>-0.143347</td>\n      <td>-0.050629</td>\n      <td>0.458696</td>\n      <td>-0.060498</td>\n      <td>0.076353</td>\n      <td>0.093909</td>\n      <td>1.000000</td>\n      <td>-0.115742</td>\n      <td>0.063432</td>\n      <td>-0.042502</td>\n      <td>-0.016621</td>\n      <td>0.004028</td>\n      <td>-0.182755</td>\n      <td>0.051032</td>\n      <td>-0.023896</td>\n      <td>-0.050277</td>\n    </tr>\n    <tr>\n      <th>primary_energy_consumption(kwh/person)</th>\n      <td>6.330680e-02</td>\n      <td>9.007514e-03</td>\n      <td>0.455791</td>\n      <td>0.489543</td>\n      <td>-0.418406</td>\n      <td>0.106397</td>\n      <td>0.178235</td>\n      <td>0.120738</td>\n      <td>-0.115742</td>\n      <td>1.000000</td>\n      <td>0.134335</td>\n      <td>0.097013</td>\n      <td>-0.042355</td>\n      <td>0.662163</td>\n      <td>0.306371</td>\n      <td>0.115714</td>\n      <td>0.330852</td>\n      <td>0.040730</td>\n    </tr>\n    <tr>\n      <th>primary_energy_intensity</th>\n      <td>1.319191e-01</td>\n      <td>-1.602596e-01</td>\n      <td>-0.253935</td>\n      <td>-0.144578</td>\n      <td>0.263265</td>\n      <td>0.033681</td>\n      <td>-0.003739</td>\n      <td>0.012020</td>\n      <td>0.063432</td>\n      <td>0.134335</td>\n      <td>1.000000</td>\n      <td>0.048530</td>\n      <td>0.081756</td>\n      <td>-0.169579</td>\n      <td>-0.075893</td>\n      <td>0.077193</td>\n      <td>0.001313</td>\n      <td>0.108490</td>\n    </tr>\n    <tr>\n      <th>co2_emissions</th>\n      <td>1.510211e-03</td>\n      <td>2.392402e-02</td>\n      <td>0.119217</td>\n      <td>0.096686</td>\n      <td>-0.116291</td>\n      <td>0.989214</td>\n      <td>0.601755</td>\n      <td>0.858922</td>\n      <td>-0.042502</td>\n      <td>0.097013</td>\n      <td>0.048530</td>\n      <td>1.000000</td>\n      <td>0.026909</td>\n      <td>0.100095</td>\n      <td>-0.017076</td>\n      <td>0.648814</td>\n      <td>0.110543</td>\n      <td>0.042885</td>\n    </tr>\n    <tr>\n      <th>gdp_growth</th>\n      <td>8.364658e-03</td>\n      <td>-1.775531e-01</td>\n      <td>-0.100236</td>\n      <td>-0.090641</td>\n      <td>0.087026</td>\n      <td>0.016641</td>\n      <td>-0.051224</td>\n      <td>-0.006182</td>\n      <td>-0.016621</td>\n      <td>-0.042355</td>\n      <td>0.081756</td>\n      <td>0.026909</td>\n      <td>1.000000</td>\n      <td>-0.134565</td>\n      <td>0.006953</td>\n      <td>0.019694</td>\n      <td>-0.007877</td>\n      <td>0.098369</td>\n    </tr>\n    <tr>\n      <th>gdp_per_capita</th>\n      <td>-1.291440e-02</td>\n      <td>1.359765e-01</td>\n      <td>0.397520</td>\n      <td>0.362892</td>\n      <td>-0.323476</td>\n      <td>0.114664</td>\n      <td>0.235103</td>\n      <td>0.148095</td>\n      <td>0.004028</td>\n      <td>0.662163</td>\n      <td>-0.169579</td>\n      <td>0.100095</td>\n      <td>-0.134565</td>\n      <td>1.000000</td>\n      <td>0.178903</td>\n      <td>0.086151</td>\n      <td>0.362388</td>\n      <td>-0.005690</td>\n    </tr>\n    <tr>\n      <th>density</th>\n      <td>2.906151e-02</td>\n      <td>4.767209e-04</td>\n      <td>0.101512</td>\n      <td>0.073792</td>\n      <td>-0.157507</td>\n      <td>-0.010469</td>\n      <td>-0.027722</td>\n      <td>-0.036195</td>\n      <td>-0.182755</td>\n      <td>0.306371</td>\n      <td>-0.075893</td>\n      <td>-0.017076</td>\n      <td>0.006953</td>\n      <td>0.178903</td>\n      <td>1.000000</td>\n      <td>-0.090453</td>\n      <td>-0.031646</td>\n      <td>0.117373</td>\n    </tr>\n    <tr>\n      <th>land_area</th>\n      <td>-1.085016e-01</td>\n      <td>1.275876e-04</td>\n      <td>0.060257</td>\n      <td>0.090247</td>\n      <td>-0.040626</td>\n      <td>0.627883</td>\n      <td>0.465516</td>\n      <td>0.705090</td>\n      <td>0.051032</td>\n      <td>0.115714</td>\n      <td>0.077193</td>\n      <td>0.648814</td>\n      <td>0.019694</td>\n      <td>0.086151</td>\n      <td>-0.090453</td>\n      <td>1.000000</td>\n      <td>-0.020422</td>\n      <td>-0.032489</td>\n    </tr>\n    <tr>\n      <th>latitude</th>\n      <td>-6.941179e-02</td>\n      <td>7.950629e-03</td>\n      <td>0.421704</td>\n      <td>0.398096</td>\n      <td>-0.326130</td>\n      <td>0.112129</td>\n      <td>0.176977</td>\n      <td>0.114171</td>\n      <td>-0.023896</td>\n      <td>0.330852</td>\n      <td>0.001313</td>\n      <td>0.110543</td>\n      <td>-0.007877</td>\n      <td>0.362388</td>\n      <td>-0.031646</td>\n      <td>-0.020422</td>\n      <td>1.000000</td>\n      <td>-0.015559</td>\n    </tr>\n    <tr>\n      <th>longitude</th>\n      <td>1.142754e-01</td>\n      <td>1.349077e-03</td>\n      <td>-0.095394</td>\n      <td>-0.119021</td>\n      <td>0.018463</td>\n      <td>0.042022</td>\n      <td>-0.089181</td>\n      <td>-0.019020</td>\n      <td>-0.050277</td>\n      <td>0.040730</td>\n      <td>0.108490</td>\n      <td>0.042885</td>\n      <td>0.098369</td>\n      <td>-0.005690</td>\n      <td>0.117373</td>\n      <td>-0.032489</td>\n      <td>-0.015559</td>\n      <td>1.000000</td>\n    </tr>\n  </tbody>\n</table>\n</div>"
     },
     "execution_count": 417,
     "metadata": {},
     "output_type": "execute_result"
    },
    {
     "data": {
      "text/plain": "<Figure size 1200x800 with 2 Axes>",
      "image/png": "[encoded data removed]"
     },
     "metadata": {},
     "output_type": "display_data"
    }
   ],
   "source": [
    "plt.figure(figsize=(12,8))\n",
    "matrix= energy_data.corr()\n",
    "sns.heatmap(matrix,cmap=\"BrBG\",annot=True)\n",
    "matrix"
   ],
   "metadata": {
    "collapsed": false,
    "ExecuteTime": {
     "end_time": "2024-01-21T21:52:39.472747400Z",
     "start_time": "2024-01-21T21:52:37.151926100Z"
    }
   }
  },
  {
   "cell_type": "markdown",
   "source": [
    "## 6. Model"
   ],
   "metadata": {
    "collapsed": false
   }
  },
  {
   "cell_type": "markdown",
   "source": [
    "## Encoding Dataset"
   ],
   "metadata": {
    "collapsed": false
   }
  },
  {
   "cell_type": "code",
   "execution_count": 390,
   "outputs": [],
   "source": [
    "original_df = energy_data"
   ],
   "metadata": {
    "collapsed": false,
    "ExecuteTime": {
     "end_time": "2024-01-21T21:22:16.972380500Z",
     "start_time": "2024-01-21T21:22:14.594234600Z"
    }
   }
  },
  {
   "cell_type": "code",
   "execution_count": 391,
   "outputs": [
    {
     "data": {
      "text/plain": "    country  year  access_electricity(%)  access_cleaning_flues_cooking  \\\n0     104.0  2000                    0.0                           0.00   \n1     104.0  2001                    0.0                           0.00   \n2     104.0  2002                    0.0                           0.00   \n3     104.0  2003                    0.0                           0.00   \n4     104.0  2004                    0.0                           0.00   \n5     104.0  2005                    0.0                           0.00   \n6     104.0  2006                    0.0                           0.00   \n7     104.0  2007                  100.0                          64.80   \n8     104.0  2008                  100.0                          64.20   \n9     104.0  2009                  100.0                          63.30   \n10    104.0  2010                  100.0                          63.00   \n11    104.0  2011                   99.0                          62.60   \n12    104.0  2012                  100.0                          61.90   \n13    104.0  2013                   99.7                          61.70   \n14    104.0  2014                   97.7                          61.45   \n15    104.0  2015                  100.0                          61.40   \n16    104.0  2016                  100.0                          61.50   \n17    104.0  2017                  100.0                          61.70   \n18    104.0  2018                  100.0                          61.80   \n19    104.0  2019                  100.0                          62.00   \n20    104.0  2020                  100.0                          62.40   \n21    139.0  2000                    0.0                           0.00   \n22    139.0  2001                    0.0                           0.00   \n23    139.0  2002                    0.0                           0.00   \n24    139.0  2003                    0.0                           0.00   \n\n    renewable_energy(%)  electricity_fossil_fuels(twh)  electricity_nuclear  \\\n0                  0.00                           0.00                  0.0   \n1                  0.00                           0.00                  0.0   \n2                  0.00                           0.00                  0.0   \n3                  0.00                           0.00                  0.0   \n4                  0.00                           0.00                  0.0   \n5                  0.00                           0.00                  0.0   \n6                  0.00                           0.00                  0.0   \n7                 42.27                           0.86                  0.0   \n8                 38.76                           1.29                  0.0   \n9                 49.16                           0.69                  0.0   \n10                49.09                           1.27                  0.0   \n11                42.77                           1.45                  0.0   \n12                45.86                           1.37                  0.0   \n13                49.34                           1.44                  0.0   \n14                45.95                           1.42                  0.0   \n15                42.96                           1.51                  0.0   \n16                43.89                           1.30                  0.0   \n17                37.77                           1.36                  0.0   \n18                40.60                           1.55                  0.0   \n19                38.74                           1.50                  0.0   \n20                36.88                           1.62                  0.0   \n21                 0.00                           0.00                  0.0   \n22                 0.00                           0.00                  0.0   \n23                 0.00                           0.00                  0.0   \n24                 0.00                           0.00                  0.0   \n\n    electricity_from_renewals  electricity_low_carbon(%)  \\\n0                        0.00                   0.000000   \n1                        0.00                   0.000000   \n2                        0.00                   0.000000   \n3                        0.00                   0.000000   \n4                        0.00                   0.000000   \n5                        0.00                   0.000000   \n6                        0.00                   0.000000   \n7                        1.28                  59.813080   \n8                        1.54                  54.416960   \n9                        2.07                  75.000000   \n10                       2.75                  68.407960   \n11                       1.20                  45.283020   \n12                       1.48                  51.929825   \n13                       2.50                  63.451775   \n14                       1.75                  55.205048   \n15                       1.49                  49.666668   \n16                       1.84                  58.598724   \n17                       1.12                  45.161290   \n18                       2.25                  59.210526   \n19                       1.93                  56.268220   \n20                       1.77                  52.212387   \n21                       0.00                   0.000000   \n22                       0.00                   0.000000   \n23                       0.00                   0.000000   \n24                       0.00                   0.000000   \n\n    primary_energy_consumption(kwh/person)  primary_energy_intensity  \\\n0                                    0.000                      0.00   \n1                                    0.000                      0.00   \n2                                    0.000                      0.00   \n3                                    0.000                      0.00   \n4                                    0.000                      0.00   \n5                                    0.000                      0.00   \n6                                    0.000                      0.00   \n7                                21851.393                      4.71   \n8                                24712.115                      4.73   \n9                                21325.205                      3.98   \n10                               26631.988                      4.55   \n11                               21941.479                      4.39   \n12                               21276.305                      4.25   \n13                               22880.111                      3.80   \n14                               20434.420                      3.64   \n15                               21034.895                      3.68   \n16                               21028.148                      3.47   \n17                               19660.412                      3.48   \n18                               21852.676                      3.42   \n19                               20460.550                      3.40   \n20                               17942.342                      3.38   \n21                                   0.000                      0.00   \n22                                   0.000                      0.00   \n23                                   0.000                      0.00   \n24                                   0.000                      0.00   \n\n    co2_emissions  gdp_growth  gdp_per_capita  density  land_area   latitude  \\\n0        0.000000    0.000000        0.000000      0.0        0.0   0.000000   \n1        0.000000    0.000000        0.000000      0.0        0.0   0.000000   \n2        0.000000    0.000000        0.000000      0.0        0.0   0.000000   \n3        0.000000    0.000000        0.000000      0.0        0.0   0.000000   \n4        0.000000    0.000000        0.000000      0.0        0.0   0.000000   \n5        0.000000    0.000000        0.000000      0.0        0.0   0.000000   \n6        0.000000    0.000000        0.000000      0.0        0.0   0.000000   \n7     2099.999905    6.810150     5976.394145     47.0    13812.0  42.708678   \n8     2690.000057    7.222753     7367.751909     47.0    13812.0  42.708678   \n9     1750.000000   -5.795097     6727.107767     47.0    13812.0  42.708678   \n10    2579.999924    2.734331     6688.482400     47.0    13812.0  42.708678   \n11    2539.999962    3.228451     7328.932252     47.0    13812.0  42.708678   \n12    2329.999924   -2.723791     6586.721279     47.0    13812.0  42.708678   \n13    2269.999981    3.548980     7186.429787     47.0    13812.0  42.708678   \n14    2220.000029    1.783699     7378.345289     47.0    13812.0  42.708678   \n15    2359.999895    3.390381     6514.272695     47.0    13812.0  42.708678   \n16    2150.000095    2.949280     7028.936577     47.0    13812.0  42.708678   \n17    2269.999981    4.716465     7784.065290     47.0    13812.0  42.708678   \n18    2500.000000    5.077889     8845.914219     47.0    13812.0  42.708678   \n19    2599.999905    4.062945     8910.650834     47.0    13812.0  42.708678   \n20    2699.999810  -15.306894     7677.152226     47.0    13812.0  42.708678   \n21       0.000000    0.000000        0.000000      0.0        0.0   0.000000   \n22       0.000000    0.000000        0.000000      0.0        0.0   0.000000   \n23       0.000000    0.000000        0.000000      0.0        0.0   0.000000   \n24       0.000000    0.000000        0.000000      0.0        0.0   0.000000   \n\n    longitude  \n0     0.00000  \n1     0.00000  \n2     0.00000  \n3     0.00000  \n4     0.00000  \n5     0.00000  \n6     0.00000  \n7    19.37439  \n8    19.37439  \n9    19.37439  \n10   19.37439  \n11   19.37439  \n12   19.37439  \n13   19.37439  \n14   19.37439  \n15   19.37439  \n16   19.37439  \n17   19.37439  \n18   19.37439  \n19   19.37439  \n20   19.37439  \n21    0.00000  \n22    0.00000  \n23    0.00000  \n24    0.00000  ",
      "text/html": "<div>\n<style scoped>\n    .dataframe tbody tr th:only-of-type {\n        vertical-align: middle;\n    }\n\n    .dataframe tbody tr th {\n        vertical-align: top;\n    }\n\n    .dataframe thead th {\n        text-align: right;\n    }\n</style>\n<table border=\"1\" class=\"dataframe\">\n  <thead>\n    <tr style=\"text-align: right;\">\n      <th></th>\n      <th>country</th>\n      <th>year</th>\n      <th>access_electricity(%)</th>\n      <th>access_cleaning_flues_cooking</th>\n      <th>renewable_energy(%)</th>\n      <th>electricity_fossil_fuels(twh)</th>\n      <th>electricity_nuclear</th>\n      <th>electricity_from_renewals</th>\n      <th>electricity_low_carbon(%)</th>\n      <th>primary_energy_consumption(kwh/person)</th>\n      <th>primary_energy_intensity</th>\n      <th>co2_emissions</th>\n      <th>gdp_growth</th>\n      <th>gdp_per_capita</th>\n      <th>density</th>\n      <th>land_area</th>\n      <th>latitude</th>\n      <th>longitude</th>\n    </tr>\n  </thead>\n  <tbody>\n    <tr>\n      <th>0</th>\n      <td>104.0</td>\n      <td>2000</td>\n      <td>0.0</td>\n      <td>0.00</td>\n      <td>0.00</td>\n      <td>0.00</td>\n      <td>0.0</td>\n      <td>0.00</td>\n      <td>0.000000</td>\n      <td>0.000</td>\n      <td>0.00</td>\n      <td>0.000000</td>\n      <td>0.000000</td>\n      <td>0.000000</td>\n      <td>0.0</td>\n      <td>0.0</td>\n      <td>0.000000</td>\n      <td>0.00000</td>\n    </tr>\n    <tr>\n      <th>1</th>\n      <td>104.0</td>\n      <td>2001</td>\n      <td>0.0</td>\n      <td>0.00</td>\n      <td>0.00</td>\n      <td>0.00</td>\n      <td>0.0</td>\n      <td>0.00</td>\n      <td>0.000000</td>\n      <td>0.000</td>\n      <td>0.00</td>\n      <td>0.000000</td>\n      <td>0.000000</td>\n      <td>0.000000</td>\n      <td>0.0</td>\n      <td>0.0</td>\n      <td>0.000000</td>\n      <td>0.00000</td>\n    </tr>\n    <tr>\n      <th>2</th>\n      <td>104.0</td>\n      <td>2002</td>\n      <td>0.0</td>\n      <td>0.00</td>\n      <td>0.00</td>\n      <td>0.00</td>\n      <td>0.0</td>\n      <td>0.00</td>\n      <td>0.000000</td>\n      <td>0.000</td>\n      <td>0.00</td>\n      <td>0.000000</td>\n      <td>0.000000</td>\n      <td>0.000000</td>\n      <td>0.0</td>\n      <td>0.0</td>\n      <td>0.000000</td>\n      <td>0.00000</td>\n    </tr>\n    <tr>\n      <th>3</th>\n      <td>104.0</td>\n      <td>2003</td>\n      <td>0.0</td>\n      <td>0.00</td>\n      <td>0.00</td>\n      <td>0.00</td>\n      <td>0.0</td>\n      <td>0.00</td>\n      <td>0.000000</td>\n      <td>0.000</td>\n      <td>0.00</td>\n      <td>0.000000</td>\n      <td>0.000000</td>\n      <td>0.000000</td>\n      <td>0.0</td>\n      <td>0.0</td>\n      <td>0.000000</td>\n      <td>0.00000</td>\n    </tr>\n    <tr>\n      <th>4</th>\n      <td>104.0</td>\n      <td>2004</td>\n      <td>0.0</td>\n      <td>0.00</td>\n      <td>0.00</td>\n      <td>0.00</td>\n      <td>0.0</td>\n      <td>0.00</td>\n      <td>0.000000</td>\n      <td>0.000</td>\n      <td>0.00</td>\n      <td>0.000000</td>\n      <td>0.000000</td>\n      <td>0.000000</td>\n      <td>0.0</td>\n      <td>0.0</td>\n      <td>0.000000</td>\n      <td>0.00000</td>\n    </tr>\n    <tr>\n      <th>5</th>\n      <td>104.0</td>\n      <td>2005</td>\n      <td>0.0</td>\n      <td>0.00</td>\n      <td>0.00</td>\n      <td>0.00</td>\n      <td>0.0</td>\n      <td>0.00</td>\n      <td>0.000000</td>\n      <td>0.000</td>\n      <td>0.00</td>\n      <td>0.000000</td>\n      <td>0.000000</td>\n      <td>0.000000</td>\n      <td>0.0</td>\n      <td>0.0</td>\n      <td>0.000000</td>\n      <td>0.00000</td>\n    </tr>\n    <tr>\n      <th>6</th>\n      <td>104.0</td>\n      <td>2006</td>\n      <td>0.0</td>\n      <td>0.00</td>\n      <td>0.00</td>\n      <td>0.00</td>\n      <td>0.0</td>\n      <td>0.00</td>\n      <td>0.000000</td>\n      <td>0.000</td>\n      <td>0.00</td>\n      <td>0.000000</td>\n      <td>0.000000</td>\n      <td>0.000000</td>\n      <td>0.0</td>\n      <td>0.0</td>\n      <td>0.000000</td>\n      <td>0.00000</td>\n    </tr>\n    <tr>\n      <th>7</th>\n      <td>104.0</td>\n      <td>2007</td>\n      <td>100.0</td>\n      <td>64.80</td>\n      <td>42.27</td>\n      <td>0.86</td>\n      <td>0.0</td>\n      <td>1.28</td>\n      <td>59.813080</td>\n      <td>21851.393</td>\n      <td>4.71</td>\n      <td>2099.999905</td>\n      <td>6.810150</td>\n      <td>5976.394145</td>\n      <td>47.0</td>\n      <td>13812.0</td>\n      <td>42.708678</td>\n      <td>19.37439</td>\n    </tr>\n    <tr>\n      <th>8</th>\n      <td>104.0</td>\n      <td>2008</td>\n      <td>100.0</td>\n      <td>64.20</td>\n      <td>38.76</td>\n      <td>1.29</td>\n      <td>0.0</td>\n      <td>1.54</td>\n      <td>54.416960</td>\n      <td>24712.115</td>\n      <td>4.73</td>\n      <td>2690.000057</td>\n      <td>7.222753</td>\n      <td>7367.751909</td>\n      <td>47.0</td>\n      <td>13812.0</td>\n      <td>42.708678</td>\n      <td>19.37439</td>\n    </tr>\n    <tr>\n      <th>9</th>\n      <td>104.0</td>\n      <td>2009</td>\n      <td>100.0</td>\n      <td>63.30</td>\n      <td>49.16</td>\n      <td>0.69</td>\n      <td>0.0</td>\n      <td>2.07</td>\n      <td>75.000000</td>\n      <td>21325.205</td>\n      <td>3.98</td>\n      <td>1750.000000</td>\n      <td>-5.795097</td>\n      <td>6727.107767</td>\n      <td>47.0</td>\n      <td>13812.0</td>\n      <td>42.708678</td>\n      <td>19.37439</td>\n    </tr>\n    <tr>\n      <th>10</th>\n      <td>104.0</td>\n      <td>2010</td>\n      <td>100.0</td>\n      <td>63.00</td>\n      <td>49.09</td>\n      <td>1.27</td>\n      <td>0.0</td>\n      <td>2.75</td>\n      <td>68.407960</td>\n      <td>26631.988</td>\n      <td>4.55</td>\n      <td>2579.999924</td>\n      <td>2.734331</td>\n      <td>6688.482400</td>\n      <td>47.0</td>\n      <td>13812.0</td>\n      <td>42.708678</td>\n      <td>19.37439</td>\n    </tr>\n    <tr>\n      <th>11</th>\n      <td>104.0</td>\n      <td>2011</td>\n      <td>99.0</td>\n      <td>62.60</td>\n      <td>42.77</td>\n      <td>1.45</td>\n      <td>0.0</td>\n      <td>1.20</td>\n      <td>45.283020</td>\n      <td>21941.479</td>\n      <td>4.39</td>\n      <td>2539.999962</td>\n      <td>3.228451</td>\n      <td>7328.932252</td>\n      <td>47.0</td>\n      <td>13812.0</td>\n      <td>42.708678</td>\n      <td>19.37439</td>\n    </tr>\n    <tr>\n      <th>12</th>\n      <td>104.0</td>\n      <td>2012</td>\n      <td>100.0</td>\n      <td>61.90</td>\n      <td>45.86</td>\n      <td>1.37</td>\n      <td>0.0</td>\n      <td>1.48</td>\n      <td>51.929825</td>\n      <td>21276.305</td>\n      <td>4.25</td>\n      <td>2329.999924</td>\n      <td>-2.723791</td>\n      <td>6586.721279</td>\n      <td>47.0</td>\n      <td>13812.0</td>\n      <td>42.708678</td>\n      <td>19.37439</td>\n    </tr>\n    <tr>\n      <th>13</th>\n      <td>104.0</td>\n      <td>2013</td>\n      <td>99.7</td>\n      <td>61.70</td>\n      <td>49.34</td>\n      <td>1.44</td>\n      <td>0.0</td>\n      <td>2.50</td>\n      <td>63.451775</td>\n      <td>22880.111</td>\n      <td>3.80</td>\n      <td>2269.999981</td>\n      <td>3.548980</td>\n      <td>7186.429787</td>\n      <td>47.0</td>\n      <td>13812.0</td>\n      <td>42.708678</td>\n      <td>19.37439</td>\n    </tr>\n    <tr>\n      <th>14</th>\n      <td>104.0</td>\n      <td>2014</td>\n      <td>97.7</td>\n      <td>61.45</td>\n      <td>45.95</td>\n      <td>1.42</td>\n      <td>0.0</td>\n      <td>1.75</td>\n      <td>55.205048</td>\n      <td>20434.420</td>\n      <td>3.64</td>\n      <td>2220.000029</td>\n      <td>1.783699</td>\n      <td>7378.345289</td>\n      <td>47.0</td>\n      <td>13812.0</td>\n      <td>42.708678</td>\n      <td>19.37439</td>\n    </tr>\n    <tr>\n      <th>15</th>\n      <td>104.0</td>\n      <td>2015</td>\n      <td>100.0</td>\n      <td>61.40</td>\n      <td>42.96</td>\n      <td>1.51</td>\n      <td>0.0</td>\n      <td>1.49</td>\n      <td>49.666668</td>\n      <td>21034.895</td>\n      <td>3.68</td>\n      <td>2359.999895</td>\n      <td>3.390381</td>\n      <td>6514.272695</td>\n      <td>47.0</td>\n      <td>13812.0</td>\n      <td>42.708678</td>\n      <td>19.37439</td>\n    </tr>\n    <tr>\n      <th>16</th>\n      <td>104.0</td>\n      <td>2016</td>\n      <td>100.0</td>\n      <td>61.50</td>\n      <td>43.89</td>\n      <td>1.30</td>\n      <td>0.0</td>\n      <td>1.84</td>\n      <td>58.598724</td>\n      <td>21028.148</td>\n      <td>3.47</td>\n      <td>2150.000095</td>\n      <td>2.949280</td>\n      <td>7028.936577</td>\n      <td>47.0</td>\n      <td>13812.0</td>\n      <td>42.708678</td>\n      <td>19.37439</td>\n    </tr>\n    <tr>\n      <th>17</th>\n      <td>104.0</td>\n      <td>2017</td>\n      <td>100.0</td>\n      <td>61.70</td>\n      <td>37.77</td>\n      <td>1.36</td>\n      <td>0.0</td>\n      <td>1.12</td>\n      <td>45.161290</td>\n      <td>19660.412</td>\n      <td>3.48</td>\n      <td>2269.999981</td>\n      <td>4.716465</td>\n      <td>7784.065290</td>\n      <td>47.0</td>\n      <td>13812.0</td>\n      <td>42.708678</td>\n      <td>19.37439</td>\n    </tr>\n    <tr>\n      <th>18</th>\n      <td>104.0</td>\n      <td>2018</td>\n      <td>100.0</td>\n      <td>61.80</td>\n      <td>40.60</td>\n      <td>1.55</td>\n      <td>0.0</td>\n      <td>2.25</td>\n      <td>59.210526</td>\n      <td>21852.676</td>\n      <td>3.42</td>\n      <td>2500.000000</td>\n      <td>5.077889</td>\n      <td>8845.914219</td>\n      <td>47.0</td>\n      <td>13812.0</td>\n      <td>42.708678</td>\n      <td>19.37439</td>\n    </tr>\n    <tr>\n      <th>19</th>\n      <td>104.0</td>\n      <td>2019</td>\n      <td>100.0</td>\n      <td>62.00</td>\n      <td>38.74</td>\n      <td>1.50</td>\n      <td>0.0</td>\n      <td>1.93</td>\n      <td>56.268220</td>\n      <td>20460.550</td>\n      <td>3.40</td>\n      <td>2599.999905</td>\n      <td>4.062945</td>\n      <td>8910.650834</td>\n      <td>47.0</td>\n      <td>13812.0</td>\n      <td>42.708678</td>\n      <td>19.37439</td>\n    </tr>\n    <tr>\n      <th>20</th>\n      <td>104.0</td>\n      <td>2020</td>\n      <td>100.0</td>\n      <td>62.40</td>\n      <td>36.88</td>\n      <td>1.62</td>\n      <td>0.0</td>\n      <td>1.77</td>\n      <td>52.212387</td>\n      <td>17942.342</td>\n      <td>3.38</td>\n      <td>2699.999810</td>\n      <td>-15.306894</td>\n      <td>7677.152226</td>\n      <td>47.0</td>\n      <td>13812.0</td>\n      <td>42.708678</td>\n      <td>19.37439</td>\n    </tr>\n    <tr>\n      <th>21</th>\n      <td>139.0</td>\n      <td>2000</td>\n      <td>0.0</td>\n      <td>0.00</td>\n      <td>0.00</td>\n      <td>0.00</td>\n      <td>0.0</td>\n      <td>0.00</td>\n      <td>0.000000</td>\n      <td>0.000</td>\n      <td>0.00</td>\n      <td>0.000000</td>\n      <td>0.000000</td>\n      <td>0.000000</td>\n      <td>0.0</td>\n      <td>0.0</td>\n      <td>0.000000</td>\n      <td>0.00000</td>\n    </tr>\n    <tr>\n      <th>22</th>\n      <td>139.0</td>\n      <td>2001</td>\n      <td>0.0</td>\n      <td>0.00</td>\n      <td>0.00</td>\n      <td>0.00</td>\n      <td>0.0</td>\n      <td>0.00</td>\n      <td>0.000000</td>\n      <td>0.000</td>\n      <td>0.00</td>\n      <td>0.000000</td>\n      <td>0.000000</td>\n      <td>0.000000</td>\n      <td>0.0</td>\n      <td>0.0</td>\n      <td>0.000000</td>\n      <td>0.00000</td>\n    </tr>\n    <tr>\n      <th>23</th>\n      <td>139.0</td>\n      <td>2002</td>\n      <td>0.0</td>\n      <td>0.00</td>\n      <td>0.00</td>\n      <td>0.00</td>\n      <td>0.0</td>\n      <td>0.00</td>\n      <td>0.000000</td>\n      <td>0.000</td>\n      <td>0.00</td>\n      <td>0.000000</td>\n      <td>0.000000</td>\n      <td>0.000000</td>\n      <td>0.0</td>\n      <td>0.0</td>\n      <td>0.000000</td>\n      <td>0.00000</td>\n    </tr>\n    <tr>\n      <th>24</th>\n      <td>139.0</td>\n      <td>2003</td>\n      <td>0.0</td>\n      <td>0.00</td>\n      <td>0.00</td>\n      <td>0.00</td>\n      <td>0.0</td>\n      <td>0.00</td>\n      <td>0.000000</td>\n      <td>0.000</td>\n      <td>0.00</td>\n      <td>0.000000</td>\n      <td>0.000000</td>\n      <td>0.000000</td>\n      <td>0.0</td>\n      <td>0.0</td>\n      <td>0.000000</td>\n      <td>0.00000</td>\n    </tr>\n  </tbody>\n</table>\n</div>"
     },
     "execution_count": 391,
     "metadata": {},
     "output_type": "execute_result"
    }
   ],
   "source": [
    "enc = preprocessing.OrdinalEncoder()\n",
    "X = energy_data[['country']]\n",
    "enc.fit(X)\n",
    "energy_data['country'] = enc.transform(energy_data[['country']])\n",
    "energy_data.head(25)"
   ],
   "metadata": {
    "collapsed": false,
    "ExecuteTime": {
     "end_time": "2024-01-21T21:22:17.219705900Z",
     "start_time": "2024-01-21T21:22:14.615921500Z"
    }
   }
  },
  {
   "cell_type": "markdown",
   "source": [
    "## Separating Target from Features"
   ],
   "metadata": {
    "collapsed": false
   }
  },
  {
   "cell_type": "code",
   "execution_count": 392,
   "outputs": [],
   "source": [
    "target = 'primary_energy_consumption(kwh/person)'\n",
    "features = ['gdp_per_capita','electricity_from_renewals','electricity_fossil_fuels(twh)']\n",
    "x_imputed = energy_data[features]\n",
    "y = energy_data[target]"
   ],
   "metadata": {
    "collapsed": false,
    "ExecuteTime": {
     "end_time": "2024-01-21T21:22:17.219705900Z",
     "start_time": "2024-01-21T21:22:14.735326700Z"
    }
   }
  },
  {
   "cell_type": "markdown",
   "source": [
    "## Feature Selection"
   ],
   "metadata": {
    "collapsed": false
   }
  },
  {
   "cell_type": "markdown",
   "source": [
    "## Splitting dataset"
   ],
   "metadata": {
    "collapsed": false
   }
  },
  {
   "cell_type": "code",
   "execution_count": 393,
   "outputs": [],
   "source": [
    "x_train, x_test, y_train, y_test = train_test_split(x_imputed, y, test_size = 0.4, random_state = 42)"
   ],
   "metadata": {
    "collapsed": false,
    "ExecuteTime": {
     "end_time": "2024-01-21T21:22:17.219705900Z",
     "start_time": "2024-01-21T21:22:14.747368300Z"
    }
   }
  },
  {
   "cell_type": "code",
   "execution_count": 394,
   "outputs": [
    {
     "data": {
      "text/plain": "      gdp_per_capita  electricity_from_renewals  electricity_fossil_fuels(twh)\n1286        0.000000                       0.00                           0.19\n349     16451.279310                       0.00                           0.95\n1368    18477.578360                       5.89                          52.01\n3537     9451.932449                       6.08                           2.72\n643      1527.751257                       4.33                           1.82\n...              ...                        ...                            ...\n1130     1489.425910                       0.01                           0.40\n1294        0.000000                       0.00                           0.25\n860     12140.854150                      11.55                           0.19\n3507    36334.908780                     350.93                        2697.28\n3174     2611.377493                       0.75                           0.69\n\n[2192 rows x 3 columns]",
      "text/html": "<div>\n<style scoped>\n    .dataframe tbody tr th:only-of-type {\n        vertical-align: middle;\n    }\n\n    .dataframe tbody tr th {\n        vertical-align: top;\n    }\n\n    .dataframe thead th {\n        text-align: right;\n    }\n</style>\n<table border=\"1\" class=\"dataframe\">\n  <thead>\n    <tr style=\"text-align: right;\">\n      <th></th>\n      <th>gdp_per_capita</th>\n      <th>electricity_from_renewals</th>\n      <th>electricity_fossil_fuels(twh)</th>\n    </tr>\n  </thead>\n  <tbody>\n    <tr>\n      <th>1286</th>\n      <td>0.000000</td>\n      <td>0.00</td>\n      <td>0.19</td>\n    </tr>\n    <tr>\n      <th>349</th>\n      <td>16451.279310</td>\n      <td>0.00</td>\n      <td>0.95</td>\n    </tr>\n    <tr>\n      <th>1368</th>\n      <td>18477.578360</td>\n      <td>5.89</td>\n      <td>52.01</td>\n    </tr>\n    <tr>\n      <th>3537</th>\n      <td>9451.932449</td>\n      <td>6.08</td>\n      <td>2.72</td>\n    </tr>\n    <tr>\n      <th>643</th>\n      <td>1527.751257</td>\n      <td>4.33</td>\n      <td>1.82</td>\n    </tr>\n    <tr>\n      <th>...</th>\n      <td>...</td>\n      <td>...</td>\n      <td>...</td>\n    </tr>\n    <tr>\n      <th>1130</th>\n      <td>1489.425910</td>\n      <td>0.01</td>\n      <td>0.40</td>\n    </tr>\n    <tr>\n      <th>1294</th>\n      <td>0.000000</td>\n      <td>0.00</td>\n      <td>0.25</td>\n    </tr>\n    <tr>\n      <th>860</th>\n      <td>12140.854150</td>\n      <td>11.55</td>\n      <td>0.19</td>\n    </tr>\n    <tr>\n      <th>3507</th>\n      <td>36334.908780</td>\n      <td>350.93</td>\n      <td>2697.28</td>\n    </tr>\n    <tr>\n      <th>3174</th>\n      <td>2611.377493</td>\n      <td>0.75</td>\n      <td>0.69</td>\n    </tr>\n  </tbody>\n</table>\n<p>2192 rows × 3 columns</p>\n</div>"
     },
     "execution_count": 394,
     "metadata": {},
     "output_type": "execute_result"
    }
   ],
   "source": [
    "x_train"
   ],
   "metadata": {
    "collapsed": false,
    "ExecuteTime": {
     "end_time": "2024-01-21T21:22:17.219705900Z",
     "start_time": "2024-01-21T21:22:14.767457200Z"
    }
   }
  },
  {
   "cell_type": "code",
   "execution_count": 395,
   "outputs": [],
   "source": [
    "i=0\n",
    "j=0\n",
    "k=0\n",
    "\n",
    "x_test_country = pd.DataFrame(0, index=np.arange(880), columns=['renewable_energy(%)']) \n",
    "x_train_country = pd.DataFrame(0, index=np.arange(2816), columns=['renewable_energy(%)']) \n",
    "y_test_country = energy_data['co2_emissions']\n",
    "y_train_country = energy_data['co2_emissions']\n",
    "\n",
    "for country in energy_data['country'].unique():\n",
    "       #Train Dataset three years and skip by country, including last 3 years\n",
    "       x_train_country.iloc[i] = energy_data['renewable_energy(%)'].iloc[j]\n",
    "       x_train_country.iloc[i+1] = energy_data['renewable_energy(%)'].iloc[j+2]\n",
    "       x_train_country.iloc[i+2] = energy_data['renewable_energy(%)'].iloc[j+3]\n",
    "       x_train_country.iloc[i+3] = energy_data['renewable_energy(%)'].iloc[j+4]\n",
    "       x_train_country.iloc[i+4] = energy_data['renewable_energy(%)'].iloc[j+6]\n",
    "       x_train_country.iloc[i+5] = energy_data['renewable_energy(%)'].iloc[j+7]\n",
    "       x_train_country.iloc[i+6] = energy_data['renewable_energy(%)'].iloc[j+8]\n",
    "       x_train_country.iloc[i+7] = energy_data['renewable_energy(%)'].iloc[j+10]\n",
    "       x_train_country.iloc[i+8] = energy_data['renewable_energy(%)'].iloc[j+11]\n",
    "       x_train_country.iloc[i+9] = energy_data['renewable_energy(%)'].iloc[j+12]\n",
    "       x_train_country.iloc[i+10] = energy_data['renewable_energy(%)'].iloc[j+14]\n",
    "       x_train_country.iloc[i+11] = energy_data['renewable_energy(%)'].iloc[j+15]\n",
    "       x_train_country.iloc[i+12] = energy_data['renewable_energy(%)'].iloc[j+16]\n",
    "       x_train_country.iloc[i+13] = energy_data['renewable_energy(%)'].iloc[j+18]\n",
    "       x_train_country.iloc[i+14] = energy_data['renewable_energy(%)'].iloc[j+19]\n",
    "       x_train_country.iloc[i+15] = energy_data['renewable_energy(%)'].iloc[j+20]\n",
    "       #Test Dataset three years and skip by country, including last 3 years\n",
    "       x_test_country.iloc[k] = energy_data['renewable_energy(%)'].iloc[j+1]\n",
    "       x_test_country.iloc[k+1] = energy_data['renewable_energy(%)'].iloc[j+5]\n",
    "       x_test_country.iloc[k+2] = energy_data['renewable_energy(%)'].iloc[j+9]\n",
    "       x_test_country.iloc[k+3] = energy_data['renewable_energy(%)'].iloc[j+13]\n",
    "       x_test_country.iloc[k+4] = energy_data['renewable_energy(%)'].iloc[j+17]\n",
    "       i=i+16\n",
    "       j=j+21\n",
    "       k=k+5   "
   ],
   "metadata": {
    "collapsed": false,
    "ExecuteTime": {
     "end_time": "2024-01-21T21:22:17.282191400Z",
     "start_time": "2024-01-21T21:22:14.798104700Z"
    }
   }
  },
  {
   "cell_type": "code",
   "execution_count": 396,
   "outputs": [
    {
     "data": {
      "text/plain": "      renewable_energy(%)\n0                     0.0\n1                     0.0\n2                     0.0\n3                     0.0\n4                     0.0\n...                   ...\n2811                  0.0\n2812                  0.0\n2813                  0.0\n2814                  0.0\n2815                  0.0\n\n[2816 rows x 1 columns]",
      "text/html": "<div>\n<style scoped>\n    .dataframe tbody tr th:only-of-type {\n        vertical-align: middle;\n    }\n\n    .dataframe tbody tr th {\n        vertical-align: top;\n    }\n\n    .dataframe thead th {\n        text-align: right;\n    }\n</style>\n<table border=\"1\" class=\"dataframe\">\n  <thead>\n    <tr style=\"text-align: right;\">\n      <th></th>\n      <th>renewable_energy(%)</th>\n    </tr>\n  </thead>\n  <tbody>\n    <tr>\n      <th>0</th>\n      <td>0.0</td>\n    </tr>\n    <tr>\n      <th>1</th>\n      <td>0.0</td>\n    </tr>\n    <tr>\n      <th>2</th>\n      <td>0.0</td>\n    </tr>\n    <tr>\n      <th>3</th>\n      <td>0.0</td>\n    </tr>\n    <tr>\n      <th>4</th>\n      <td>0.0</td>\n    </tr>\n    <tr>\n      <th>...</th>\n      <td>...</td>\n    </tr>\n    <tr>\n      <th>2811</th>\n      <td>0.0</td>\n    </tr>\n    <tr>\n      <th>2812</th>\n      <td>0.0</td>\n    </tr>\n    <tr>\n      <th>2813</th>\n      <td>0.0</td>\n    </tr>\n    <tr>\n      <th>2814</th>\n      <td>0.0</td>\n    </tr>\n    <tr>\n      <th>2815</th>\n      <td>0.0</td>\n    </tr>\n  </tbody>\n</table>\n<p>2816 rows × 1 columns</p>\n</div>"
     },
     "execution_count": 396,
     "metadata": {},
     "output_type": "execute_result"
    }
   ],
   "source": [
    "x_train_country"
   ],
   "metadata": {
    "collapsed": false,
    "ExecuteTime": {
     "end_time": "2024-01-21T21:22:17.282191400Z",
     "start_time": "2024-01-21T21:22:15.382275200Z"
    }
   }
  },
  {
   "cell_type": "markdown",
   "source": [
    "## Normalization"
   ],
   "metadata": {
    "collapsed": false
   }
  },
  {
   "cell_type": "code",
   "execution_count": 397,
   "outputs": [],
   "source": [
    "scaler = StandardScaler()\n",
    "x_train_scaled = scaler.fit_transform(x_train)\n",
    "x_test_scaled = scaler.transform(x_test)"
   ],
   "metadata": {
    "collapsed": false,
    "ExecuteTime": {
     "end_time": "2024-01-21T21:22:17.282191400Z",
     "start_time": "2024-01-21T21:22:15.412925100Z"
    }
   }
  },
  {
   "cell_type": "markdown",
   "source": [
    "### Hyperparameter Optimization"
   ],
   "metadata": {
    "collapsed": false
   }
  },
  {
   "cell_type": "markdown",
   "source": [
    "#### Random Forest"
   ],
   "metadata": {
    "collapsed": false
   }
  },
  {
   "cell_type": "code",
   "execution_count": 398,
   "outputs": [],
   "source": [
    "rf_param_grid = {'n_estimators': [100, 300, 500], 'max_depth': [None, 10, 20], 'min_samples_split': [2, 5, 10]}\n",
    "#rf_param_grid = {'n_estimators': [100], 'max_depth': [None], 'min_samples_split': [2]}\n",
    "rf_model = RandomForestRegressor(random_state=2)\n",
    "rf_grid_search = GridSearchCV(estimator=rf_model, param_grid=rf_param_grid, scoring='neg_mean_squared_error', cv=5)\n",
    "rf_grid_search.fit(x_train_scaled, y_train)\n",
    "best_rf_params = rf_grid_search.best_params_"
   ],
   "metadata": {
    "collapsed": false,
    "ExecuteTime": {
     "end_time": "2024-01-21T21:31:24.008306300Z",
     "start_time": "2024-01-21T21:22:15.433142600Z"
    }
   }
  },
  {
   "cell_type": "markdown",
   "source": [
    "### Gradient Boosting\n"
   ],
   "metadata": {
    "collapsed": false
   }
  },
  {
   "cell_type": "code",
   "execution_count": 399,
   "outputs": [],
   "source": [
    "gb_param_grid = {'n_estimators': [100, 300, 500], 'max_depth': [3, 5, 7], 'learning_rate': [0.01, 0.1, 0.2]}\n",
    "#gb_param_grid = {'n_estimators': [100], 'max_depth': [3], 'learning_rate': [0.01]}\n",
    "gb_model = GradientBoostingRegressor(random_state=2)\n",
    "gb_grid_search = GridSearchCV(estimator=gb_model, param_grid=gb_param_grid, scoring='neg_mean_squared_error', cv=5)\n",
    "gb_grid_search.fit(x_train_scaled, y_train)\n",
    "best_gb_params = gb_grid_search.best_params_"
   ],
   "metadata": {
    "collapsed": false,
    "ExecuteTime": {
     "end_time": "2024-01-21T21:36:58.427119600Z",
     "start_time": "2024-01-21T21:31:24.014826700Z"
    }
   }
  },
  {
   "cell_type": "markdown",
   "source": [
    "\n",
    "### Initialization the models"
   ],
   "metadata": {
    "collapsed": false
   }
  },
  {
   "cell_type": "code",
   "execution_count": 400,
   "outputs": [],
   "source": [
    "random_forest_model = RandomForestRegressor(**best_rf_params, random_state=2)\n",
    "gradient_boosting_model = GradientBoostingRegressor(**best_gb_params, random_state=2)\n",
    "linear_regression_model = LinearRegression()"
   ],
   "metadata": {
    "collapsed": false,
    "ExecuteTime": {
     "end_time": "2024-01-21T21:36:58.475432300Z",
     "start_time": "2024-01-21T21:36:58.444183Z"
    }
   }
  },
  {
   "cell_type": "markdown",
   "source": [
    "### Training"
   ],
   "metadata": {
    "collapsed": false
   }
  },
  {
   "cell_type": "code",
   "execution_count": 401,
   "outputs": [
    {
     "data": {
      "text/plain": "LinearRegression()",
      "text/html": "<style>#sk-container-id-2 {color: black;}#sk-container-id-2 pre{padding: 0;}#sk-container-id-2 div.sk-toggleable {background-color: white;}#sk-container-id-2 label.sk-toggleable__label {cursor: pointer;display: block;width: 100%;margin-bottom: 0;padding: 0.3em;box-sizing: border-box;text-align: center;}#sk-container-id-2 label.sk-toggleable__label-arrow:before {content: \"▸\";float: left;margin-right: 0.25em;color: #696969;}#sk-container-id-2 label.sk-toggleable__label-arrow:hover:before {color: black;}#sk-container-id-2 div.sk-estimator:hover label.sk-toggleable__label-arrow:before {color: black;}#sk-container-id-2 div.sk-toggleable__content {max-height: 0;max-width: 0;overflow: hidden;text-align: left;background-color: #f0f8ff;}#sk-container-id-2 div.sk-toggleable__content pre {margin: 0.2em;color: black;border-radius: 0.25em;background-color: #f0f8ff;}#sk-container-id-2 input.sk-toggleable__control:checked~div.sk-toggleable__content {max-height: 200px;max-width: 100%;overflow: auto;}#sk-container-id-2 input.sk-toggleable__control:checked~label.sk-toggleable__label-arrow:before {content: \"▾\";}#sk-container-id-2 div.sk-estimator input.sk-toggleable__control:checked~label.sk-toggleable__label {background-color: #d4ebff;}#sk-container-id-2 div.sk-label input.sk-toggleable__control:checked~label.sk-toggleable__label {background-color: #d4ebff;}#sk-container-id-2 input.sk-hidden--visually {border: 0;clip: rect(1px 1px 1px 1px);clip: rect(1px, 1px, 1px, 1px);height: 1px;margin: -1px;overflow: hidden;padding: 0;position: absolute;width: 1px;}#sk-container-id-2 div.sk-estimator {font-family: monospace;background-color: #f0f8ff;border: 1px dotted black;border-radius: 0.25em;box-sizing: border-box;margin-bottom: 0.5em;}#sk-container-id-2 div.sk-estimator:hover {background-color: #d4ebff;}#sk-container-id-2 div.sk-parallel-item::after {content: \"\";width: 100%;border-bottom: 1px solid gray;flex-grow: 1;}#sk-container-id-2 div.sk-label:hover label.sk-toggleable__label {background-color: #d4ebff;}#sk-container-id-2 div.sk-serial::before {content: \"\";position: absolute;border-left: 1px solid gray;box-sizing: border-box;top: 0;bottom: 0;left: 50%;z-index: 0;}#sk-container-id-2 div.sk-serial {display: flex;flex-direction: column;align-items: center;background-color: white;padding-right: 0.2em;padding-left: 0.2em;position: relative;}#sk-container-id-2 div.sk-item {position: relative;z-index: 1;}#sk-container-id-2 div.sk-parallel {display: flex;align-items: stretch;justify-content: center;background-color: white;position: relative;}#sk-container-id-2 div.sk-item::before, #sk-container-id-2 div.sk-parallel-item::before {content: \"\";position: absolute;border-left: 1px solid gray;box-sizing: border-box;top: 0;bottom: 0;left: 50%;z-index: -1;}#sk-container-id-2 div.sk-parallel-item {display: flex;flex-direction: column;z-index: 1;position: relative;background-color: white;}#sk-container-id-2 div.sk-parallel-item:first-child::after {align-self: flex-end;width: 50%;}#sk-container-id-2 div.sk-parallel-item:last-child::after {align-self: flex-start;width: 50%;}#sk-container-id-2 div.sk-parallel-item:only-child::after {width: 0;}#sk-container-id-2 div.sk-dashed-wrapped {border: 1px dashed gray;margin: 0 0.4em 0.5em 0.4em;box-sizing: border-box;padding-bottom: 0.4em;background-color: white;}#sk-container-id-2 div.sk-label label {font-family: monospace;font-weight: bold;display: inline-block;line-height: 1.2em;}#sk-container-id-2 div.sk-label-container {text-align: center;}#sk-container-id-2 div.sk-container {/* jupyter's `normalize.less` sets `[hidden] { display: none; }` but bootstrap.min.css set `[hidden] { display: none !important; }` so we also need the `!important` here to be able to override the default hidden behavior on the sphinx rendered scikit-learn.org. See: https://github.com/scikit-learn/scikit-learn/issues/21755 */display: inline-block !important;position: relative;}#sk-container-id-2 div.sk-text-repr-fallback {display: none;}</style><div id=\"sk-container-id-2\" class=\"sk-top-container\"><div class=\"sk-text-repr-fallback\"><pre>LinearRegression()</pre><b>In a Jupyter environment, please rerun this cell to show the HTML representation or trust the notebook. <br />On GitHub, the HTML representation is unable to render, please try loading this page with nbviewer.org.</b></div><div class=\"sk-container\" hidden><div class=\"sk-item\"><div class=\"sk-estimator sk-toggleable\"><input class=\"sk-toggleable__control sk-hidden--visually\" id=\"sk-estimator-id-2\" type=\"checkbox\" checked><label for=\"sk-estimator-id-2\" class=\"sk-toggleable__label sk-toggleable__label-arrow\">LinearRegression</label><div class=\"sk-toggleable__content\"><pre>LinearRegression()</pre></div></div></div></div></div>"
     },
     "execution_count": 401,
     "metadata": {},
     "output_type": "execute_result"
    }
   ],
   "source": [
    "random_forest_model.fit(x_train_scaled, y_train)\n",
    "gradient_boosting_model.fit(x_train_scaled, y_train)\n",
    "linear_regression_model.fit(x_train_scaled, y_train)"
   ],
   "metadata": {
    "collapsed": false,
    "ExecuteTime": {
     "end_time": "2024-01-21T21:37:11.529955700Z",
     "start_time": "2024-01-21T21:36:58.444183Z"
    }
   }
  },
  {
   "cell_type": "markdown",
   "source": [
    "### Predictions"
   ],
   "metadata": {
    "collapsed": false
   }
  },
  {
   "cell_type": "markdown",
   "source": [],
   "metadata": {
    "collapsed": false
   }
  },
  {
   "cell_type": "code",
   "execution_count": 402,
   "outputs": [],
   "source": [
    "rforest_predictions = random_forest_model.predict(x_test_scaled)\n",
    "linreg_predictions = linear_regression_model.predict(x_test_scaled)\n",
    "gradboost_predictions = gradient_boosting_model.predict(x_test_scaled)"
   ],
   "metadata": {
    "collapsed": false,
    "ExecuteTime": {
     "end_time": "2024-01-21T21:37:11.671227400Z",
     "start_time": "2024-01-21T21:37:11.525001800Z"
    }
   }
  },
  {
   "cell_type": "code",
   "execution_count": 403,
   "outputs": [
    {
     "data": {
      "text/plain": "array([12868.0166582 , 67192.91973067, 60538.06243407, ...,\n        5419.75529992, 14592.16252594, 41521.19036403])"
     },
     "execution_count": 403,
     "metadata": {},
     "output_type": "execute_result"
    }
   ],
   "source": [
    "rforest_predictions"
   ],
   "metadata": {
    "collapsed": false,
    "ExecuteTime": {
     "end_time": "2024-01-21T21:37:11.677539900Z",
     "start_time": "2024-01-21T21:37:11.675771800Z"
    }
   }
  },
  {
   "cell_type": "code",
   "execution_count": 404,
   "outputs": [],
   "source": [
    "rf_mse = mean_squared_error(y_test, rforest_predictions)\n",
    "lr_mse = mean_squared_error(y_test, linreg_predictions)\n",
    "gb_mse = mean_squared_error(y_test, gradboost_predictions)"
   ],
   "metadata": {
    "collapsed": false,
    "ExecuteTime": {
     "end_time": "2024-01-21T21:37:11.786087800Z",
     "start_time": "2024-01-21T21:37:11.677539900Z"
    }
   }
  },
  {
   "cell_type": "code",
   "execution_count": 405,
   "outputs": [],
   "source": [
    "rf_r2 = r2_score(y_test, rforest_predictions)\n",
    "lr_r2 = r2_score(y_test, linreg_predictions)\n",
    "gb_r2 = r2_score(y_test, gradboost_predictions)"
   ],
   "metadata": {
    "collapsed": false,
    "ExecuteTime": {
     "end_time": "2024-01-21T21:37:11.797058400Z",
     "start_time": "2024-01-21T21:37:11.696235100Z"
    }
   }
  },
  {
   "cell_type": "code",
   "execution_count": 406,
   "outputs": [],
   "source": [
    "results = pd.DataFrame({\n",
    "    'Model': ['Random Forest', 'Linear Regression', 'Gradient Boosting'],\n",
    "    'MSE': [rf_mse, lr_mse, gb_mse],\n",
    "    'R-squared': [rf_r2, lr_r2, gb_r2]\n",
    "})"
   ],
   "metadata": {
    "collapsed": false,
    "ExecuteTime": {
     "end_time": "2024-01-21T21:37:11.799803100Z",
     "start_time": "2024-01-21T21:37:11.714152700Z"
    }
   }
  },
  {
   "cell_type": "code",
   "execution_count": 407,
   "outputs": [
    {
     "data": {
      "text/plain": "               Model           MSE  R-squared\n0      Random Forest  8.640494e+07   0.922503\n1  Linear Regression  6.270000e+08   0.437637\n2  Gradient Boosting  1.108626e+08   0.900566",
      "text/html": "<div>\n<style scoped>\n    .dataframe tbody tr th:only-of-type {\n        vertical-align: middle;\n    }\n\n    .dataframe tbody tr th {\n        vertical-align: top;\n    }\n\n    .dataframe thead th {\n        text-align: right;\n    }\n</style>\n<table border=\"1\" class=\"dataframe\">\n  <thead>\n    <tr style=\"text-align: right;\">\n      <th></th>\n      <th>Model</th>\n      <th>MSE</th>\n      <th>R-squared</th>\n    </tr>\n  </thead>\n  <tbody>\n    <tr>\n      <th>0</th>\n      <td>Random Forest</td>\n      <td>8.640494e+07</td>\n      <td>0.922503</td>\n    </tr>\n    <tr>\n      <th>1</th>\n      <td>Linear Regression</td>\n      <td>6.270000e+08</td>\n      <td>0.437637</td>\n    </tr>\n    <tr>\n      <th>2</th>\n      <td>Gradient Boosting</td>\n      <td>1.108626e+08</td>\n      <td>0.900566</td>\n    </tr>\n  </tbody>\n</table>\n</div>"
     },
     "execution_count": 407,
     "metadata": {},
     "output_type": "execute_result"
    }
   ],
   "source": [
    "results"
   ],
   "metadata": {
    "collapsed": false,
    "ExecuteTime": {
     "end_time": "2024-01-21T21:37:11.809375Z",
     "start_time": "2024-01-21T21:37:11.725410100Z"
    }
   }
  },
  {
   "cell_type": "code",
   "execution_count": 408,
   "outputs": [
    {
     "data": {
      "application/vnd.plotly.v1+json": {
       "data": [
        {
         "alignmentgroup": "True",
         "hovertemplate": "Importance=%{x}<br>Feature=%{y}<br>color=%{marker.color}<extra></extra>",
         "legendgroup": "",
         "marker": {
          "color": [
           0.6026186527844732,
           0.23888075946509882,
           0.158500587750428
          ],
          "coloraxis": "coloraxis",
          "pattern": {
           "shape": ""
          }
         },
         "name": "",
         "offsetgroup": "",
         "orientation": "h",
         "showlegend": false,
         "textposition": "outside",
         "x": [
          0.6026186527844732,
          0.23888075946509882,
          0.158500587750428
         ],
         "xaxis": "x",
         "y": [
          "gdp_per_capita",
          "electricity_fossil_fuels(twh)",
          "electricity_from_renewals"
         ],
         "yaxis": "y",
         "type": "bar",
         "texttemplate": "%{text:.2f}"
        }
       ],
       "layout": {
        "template": {
         "data": {
          "histogram2dcontour": [
           {
            "type": "histogram2dcontour",
            "colorbar": {
             "outlinewidth": 0,
             "ticks": ""
            },
            "colorscale": [
             [
              0.0,
              "#0d0887"
             ],
             [
              0.1111111111111111,
              "#46039f"
             ],
             [
              0.2222222222222222,
              "#7201a8"
             ],
             [
              0.3333333333333333,
              "#9c179e"
             ],
             [
              0.4444444444444444,
              "#bd3786"
             ],
             [
              0.5555555555555556,
              "#d8576b"
             ],
             [
              0.6666666666666666,
              "#ed7953"
             ],
             [
              0.7777777777777778,
              "#fb9f3a"
             ],
             [
              0.8888888888888888,
              "#fdca26"
             ],
             [
              1.0,
              "#f0f921"
             ]
            ]
           }
          ],
          "choropleth": [
           {
            "type": "choropleth",
            "colorbar": {
             "outlinewidth": 0,
             "ticks": ""
            }
           }
          ],
          "histogram2d": [
           {
            "type": "histogram2d",
            "colorbar": {
             "outlinewidth": 0,
             "ticks": ""
            },
            "colorscale": [
             [
              0.0,
              "#0d0887"
             ],
             [
              0.1111111111111111,
              "#46039f"
             ],
             [
              0.2222222222222222,
              "#7201a8"
             ],
             [
              0.3333333333333333,
              "#9c179e"
             ],
             [
              0.4444444444444444,
              "#bd3786"
             ],
             [
              0.5555555555555556,
              "#d8576b"
             ],
             [
              0.6666666666666666,
              "#ed7953"
             ],
             [
              0.7777777777777778,
              "#fb9f3a"
             ],
             [
              0.8888888888888888,
              "#fdca26"
             ],
             [
              1.0,
              "#f0f921"
             ]
            ]
           }
          ],
          "heatmap": [
           {
            "type": "heatmap",
            "colorbar": {
             "outlinewidth": 0,
             "ticks": ""
            },
            "colorscale": [
             [
              0.0,
              "#0d0887"
             ],
             [
              0.1111111111111111,
              "#46039f"
             ],
             [
              0.2222222222222222,
              "#7201a8"
             ],
             [
              0.3333333333333333,
              "#9c179e"
             ],
             [
              0.4444444444444444,
              "#bd3786"
             ],
             [
              0.5555555555555556,
              "#d8576b"
             ],
             [
              0.6666666666666666,
              "#ed7953"
             ],
             [
              0.7777777777777778,
              "#fb9f3a"
             ],
             [
              0.8888888888888888,
              "#fdca26"
             ],
             [
              1.0,
              "#f0f921"
             ]
            ]
           }
          ],
          "heatmapgl": [
           {
            "type": "heatmapgl",
            "colorbar": {
             "outlinewidth": 0,
             "ticks": ""
            },
            "colorscale": [
             [
              0.0,
              "#0d0887"
             ],
             [
              0.1111111111111111,
              "#46039f"
             ],
             [
              0.2222222222222222,
              "#7201a8"
             ],
             [
              0.3333333333333333,
              "#9c179e"
             ],
             [
              0.4444444444444444,
              "#bd3786"
             ],
             [
              0.5555555555555556,
              "#d8576b"
             ],
             [
              0.6666666666666666,
              "#ed7953"
             ],
             [
              0.7777777777777778,
              "#fb9f3a"
             ],
             [
              0.8888888888888888,
              "#fdca26"
             ],
             [
              1.0,
              "#f0f921"
             ]
            ]
           }
          ],
          "contourcarpet": [
           {
            "type": "contourcarpet",
            "colorbar": {
             "outlinewidth": 0,
             "ticks": ""
            }
           }
          ],
          "contour": [
           {
            "type": "contour",
            "colorbar": {
             "outlinewidth": 0,
             "ticks": ""
            },
            "colorscale": [
             [
              0.0,
              "#0d0887"
             ],
             [
              0.1111111111111111,
              "#46039f"
             ],
             [
              0.2222222222222222,
              "#7201a8"
             ],
             [
              0.3333333333333333,
              "#9c179e"
             ],
             [
              0.4444444444444444,
              "#bd3786"
             ],
             [
              0.5555555555555556,
              "#d8576b"
             ],
             [
              0.6666666666666666,
              "#ed7953"
             ],
             [
              0.7777777777777778,
              "#fb9f3a"
             ],
             [
              0.8888888888888888,
              "#fdca26"
             ],
             [
              1.0,
              "#f0f921"
             ]
            ]
           }
          ],
          "surface": [
           {
            "type": "surface",
            "colorbar": {
             "outlinewidth": 0,
             "ticks": ""
            },
            "colorscale": [
             [
              0.0,
              "#0d0887"
             ],
             [
              0.1111111111111111,
              "#46039f"
             ],
             [
              0.2222222222222222,
              "#7201a8"
             ],
             [
              0.3333333333333333,
              "#9c179e"
             ],
             [
              0.4444444444444444,
              "#bd3786"
             ],
             [
              0.5555555555555556,
              "#d8576b"
             ],
             [
              0.6666666666666666,
              "#ed7953"
             ],
             [
              0.7777777777777778,
              "#fb9f3a"
             ],
             [
              0.8888888888888888,
              "#fdca26"
             ],
             [
              1.0,
              "#f0f921"
             ]
            ]
           }
          ],
          "mesh3d": [
           {
            "type": "mesh3d",
            "colorbar": {
             "outlinewidth": 0,
             "ticks": ""
            }
           }
          ],
          "scatter": [
           {
            "fillpattern": {
             "fillmode": "overlay",
             "size": 10,
             "solidity": 0.2
            },
            "type": "scatter"
           }
          ],
          "parcoords": [
           {
            "type": "parcoords",
            "line": {
             "colorbar": {
              "outlinewidth": 0,
              "ticks": ""
             }
            }
           }
          ],
          "scatterpolargl": [
           {
            "type": "scatterpolargl",
            "marker": {
             "colorbar": {
              "outlinewidth": 0,
              "ticks": ""
             }
            }
           }
          ],
          "bar": [
           {
            "error_x": {
             "color": "#2a3f5f"
            },
            "error_y": {
             "color": "#2a3f5f"
            },
            "marker": {
             "line": {
              "color": "#E5ECF6",
              "width": 0.5
             },
             "pattern": {
              "fillmode": "overlay",
              "size": 10,
              "solidity": 0.2
             }
            },
            "type": "bar"
           }
          ],
          "scattergeo": [
           {
            "type": "scattergeo",
            "marker": {
             "colorbar": {
              "outlinewidth": 0,
              "ticks": ""
             }
            }
           }
          ],
          "scatterpolar": [
           {
            "type": "scatterpolar",
            "marker": {
             "colorbar": {
              "outlinewidth": 0,
              "ticks": ""
             }
            }
           }
          ],
          "histogram": [
           {
            "marker": {
             "pattern": {
              "fillmode": "overlay",
              "size": 10,
              "solidity": 0.2
             }
            },
            "type": "histogram"
           }
          ],
          "scattergl": [
           {
            "type": "scattergl",
            "marker": {
             "colorbar": {
              "outlinewidth": 0,
              "ticks": ""
             }
            }
           }
          ],
          "scatter3d": [
           {
            "type": "scatter3d",
            "line": {
             "colorbar": {
              "outlinewidth": 0,
              "ticks": ""
             }
            },
            "marker": {
             "colorbar": {
              "outlinewidth": 0,
              "ticks": ""
             }
            }
           }
          ],
          "scattermapbox": [
           {
            "type": "scattermapbox",
            "marker": {
             "colorbar": {
              "outlinewidth": 0,
              "ticks": ""
             }
            }
           }
          ],
          "scatterternary": [
           {
            "type": "scatterternary",
            "marker": {
             "colorbar": {
              "outlinewidth": 0,
              "ticks": ""
             }
            }
           }
          ],
          "scattercarpet": [
           {
            "type": "scattercarpet",
            "marker": {
             "colorbar": {
              "outlinewidth": 0,
              "ticks": ""
             }
            }
           }
          ],
          "carpet": [
           {
            "aaxis": {
             "endlinecolor": "#2a3f5f",
             "gridcolor": "white",
             "linecolor": "white",
             "minorgridcolor": "white",
             "startlinecolor": "#2a3f5f"
            },
            "baxis": {
             "endlinecolor": "#2a3f5f",
             "gridcolor": "white",
             "linecolor": "white",
             "minorgridcolor": "white",
             "startlinecolor": "#2a3f5f"
            },
            "type": "carpet"
           }
          ],
          "table": [
           {
            "cells": {
             "fill": {
              "color": "#EBF0F8"
             },
             "line": {
              "color": "white"
             }
            },
            "header": {
             "fill": {
              "color": "#C8D4E3"
             },
             "line": {
              "color": "white"
             }
            },
            "type": "table"
           }
          ],
          "barpolar": [
           {
            "marker": {
             "line": {
              "color": "#E5ECF6",
              "width": 0.5
             },
             "pattern": {
              "fillmode": "overlay",
              "size": 10,
              "solidity": 0.2
             }
            },
            "type": "barpolar"
           }
          ],
          "pie": [
           {
            "automargin": true,
            "type": "pie"
           }
          ]
         },
         "layout": {
          "autotypenumbers": "strict",
          "colorway": [
           "#636efa",
           "#EF553B",
           "#00cc96",
           "#ab63fa",
           "#FFA15A",
           "#19d3f3",
           "#FF6692",
           "#B6E880",
           "#FF97FF",
           "#FECB52"
          ],
          "font": {
           "color": "#2a3f5f"
          },
          "hovermode": "closest",
          "hoverlabel": {
           "align": "left"
          },
          "paper_bgcolor": "white",
          "plot_bgcolor": "#E5ECF6",
          "polar": {
           "bgcolor": "#E5ECF6",
           "angularaxis": {
            "gridcolor": "white",
            "linecolor": "white",
            "ticks": ""
           },
           "radialaxis": {
            "gridcolor": "white",
            "linecolor": "white",
            "ticks": ""
           }
          },
          "ternary": {
           "bgcolor": "#E5ECF6",
           "aaxis": {
            "gridcolor": "white",
            "linecolor": "white",
            "ticks": ""
           },
           "baxis": {
            "gridcolor": "white",
            "linecolor": "white",
            "ticks": ""
           },
           "caxis": {
            "gridcolor": "white",
            "linecolor": "white",
            "ticks": ""
           }
          },
          "coloraxis": {
           "colorbar": {
            "outlinewidth": 0,
            "ticks": ""
           }
          },
          "colorscale": {
           "sequential": [
            [
             0.0,
             "#0d0887"
            ],
            [
             0.1111111111111111,
             "#46039f"
            ],
            [
             0.2222222222222222,
             "#7201a8"
            ],
            [
             0.3333333333333333,
             "#9c179e"
            ],
            [
             0.4444444444444444,
             "#bd3786"
            ],
            [
             0.5555555555555556,
             "#d8576b"
            ],
            [
             0.6666666666666666,
             "#ed7953"
            ],
            [
             0.7777777777777778,
             "#fb9f3a"
            ],
            [
             0.8888888888888888,
             "#fdca26"
            ],
            [
             1.0,
             "#f0f921"
            ]
           ],
           "sequentialminus": [
            [
             0.0,
             "#0d0887"
            ],
            [
             0.1111111111111111,
             "#46039f"
            ],
            [
             0.2222222222222222,
             "#7201a8"
            ],
            [
             0.3333333333333333,
             "#9c179e"
            ],
            [
             0.4444444444444444,
             "#bd3786"
            ],
            [
             0.5555555555555556,
             "#d8576b"
            ],
            [
             0.6666666666666666,
             "#ed7953"
            ],
            [
             0.7777777777777778,
             "#fb9f3a"
            ],
            [
             0.8888888888888888,
             "#fdca26"
            ],
            [
             1.0,
             "#f0f921"
            ]
           ],
           "diverging": [
            [
             0,
             "#8e0152"
            ],
            [
             0.1,
             "#c51b7d"
            ],
            [
             0.2,
             "#de77ae"
            ],
            [
             0.3,
             "#f1b6da"
            ],
            [
             0.4,
             "#fde0ef"
            ],
            [
             0.5,
             "#f7f7f7"
            ],
            [
             0.6,
             "#e6f5d0"
            ],
            [
             0.7,
             "#b8e186"
            ],
            [
             0.8,
             "#7fbc41"
            ],
            [
             0.9,
             "#4d9221"
            ],
            [
             1,
             "#276419"
            ]
           ]
          },
          "xaxis": {
           "gridcolor": "white",
           "linecolor": "white",
           "ticks": "",
           "title": {
            "standoff": 15
           },
           "zerolinecolor": "white",
           "automargin": true,
           "zerolinewidth": 2
          },
          "yaxis": {
           "gridcolor": "white",
           "linecolor": "white",
           "ticks": "",
           "title": {
            "standoff": 15
           },
           "zerolinecolor": "white",
           "automargin": true,
           "zerolinewidth": 2
          },
          "scene": {
           "xaxis": {
            "backgroundcolor": "#E5ECF6",
            "gridcolor": "white",
            "linecolor": "white",
            "showbackground": true,
            "ticks": "",
            "zerolinecolor": "white",
            "gridwidth": 2
           },
           "yaxis": {
            "backgroundcolor": "#E5ECF6",
            "gridcolor": "white",
            "linecolor": "white",
            "showbackground": true,
            "ticks": "",
            "zerolinecolor": "white",
            "gridwidth": 2
           },
           "zaxis": {
            "backgroundcolor": "#E5ECF6",
            "gridcolor": "white",
            "linecolor": "white",
            "showbackground": true,
            "ticks": "",
            "zerolinecolor": "white",
            "gridwidth": 2
           }
          },
          "shapedefaults": {
           "line": {
            "color": "#2a3f5f"
           }
          },
          "annotationdefaults": {
           "arrowcolor": "#2a3f5f",
           "arrowhead": 0,
           "arrowwidth": 1
          },
          "geo": {
           "bgcolor": "white",
           "landcolor": "#E5ECF6",
           "subunitcolor": "white",
           "showland": true,
           "showlakes": true,
           "lakecolor": "white"
          },
          "title": {
           "x": 0.05
          },
          "mapbox": {
           "style": "light"
          }
         }
        },
        "xaxis": {
         "anchor": "y",
         "domain": [
          0.0,
          1.0
         ],
         "title": {
          "text": "Importance"
         }
        },
        "yaxis": {
         "anchor": "x",
         "domain": [
          0.0,
          1.0
         ],
         "title": {
          "text": "Feature"
         }
        },
        "coloraxis": {
         "colorbar": {
          "title": {
           "text": "color"
          }
         },
         "colorscale": [
          [
           0.0,
           "rgb(255,245,240)"
          ],
          [
           0.125,
           "rgb(254,224,210)"
          ],
          [
           0.25,
           "rgb(252,187,161)"
          ],
          [
           0.375,
           "rgb(252,146,114)"
          ],
          [
           0.5,
           "rgb(251,106,74)"
          ],
          [
           0.625,
           "rgb(239,59,44)"
          ],
          [
           0.75,
           "rgb(203,24,29)"
          ],
          [
           0.875,
           "rgb(165,15,21)"
          ],
          [
           1.0,
           "rgb(103,0,13)"
          ]
         ]
        },
        "legend": {
         "tracegroupgap": 0
        },
        "title": {
         "text": "Top 5 Feature Importance"
        },
        "barmode": "relative"
       },
       "config": {
        "plotlyServerURL": "https://plot.ly"
       }
      },
      "text/html": "<div>                            <div id=\"9ae7d5e5-6764-4821-8ac8-eaa338a855e2\" class=\"plotly-graph-div\" style=\"height:525px; width:100%;\"></div>            <script type=\"text/javascript\">                require([\"plotly\"], function(Plotly) {                    window.PLOTLYENV=window.PLOTLYENV || {};                                    if (document.getElementById(\"9ae7d5e5-6764-4821-8ac8-eaa338a855e2\")) {                    Plotly.newPlot(                        \"9ae7d5e5-6764-4821-8ac8-eaa338a855e2\",                        [{\"alignmentgroup\":\"True\",\"hovertemplate\":\"Importance=%{x}\\u003cbr\\u003eFeature=%{y}\\u003cbr\\u003ecolor=%{marker.color}\\u003cextra\\u003e\\u003c\\u002fextra\\u003e\",\"legendgroup\":\"\",\"marker\":{\"color\":[0.6026186527844732,0.23888075946509882,0.158500587750428],\"coloraxis\":\"coloraxis\",\"pattern\":{\"shape\":\"\"}},\"name\":\"\",\"offsetgroup\":\"\",\"orientation\":\"h\",\"showlegend\":false,\"textposition\":\"outside\",\"x\":[0.6026186527844732,0.23888075946509882,0.158500587750428],\"xaxis\":\"x\",\"y\":[\"gdp_per_capita\",\"electricity_fossil_fuels(twh)\",\"electricity_from_renewals\"],\"yaxis\":\"y\",\"type\":\"bar\",\"texttemplate\":\"%{text:.2f}\"}],                        {\"template\":{\"data\":{\"histogram2dcontour\":[{\"type\":\"histogram2dcontour\",\"colorbar\":{\"outlinewidth\":0,\"ticks\":\"\"},\"colorscale\":[[0.0,\"#0d0887\"],[0.1111111111111111,\"#46039f\"],[0.2222222222222222,\"#7201a8\"],[0.3333333333333333,\"#9c179e\"],[0.4444444444444444,\"#bd3786\"],[0.5555555555555556,\"#d8576b\"],[0.6666666666666666,\"#ed7953\"],[0.7777777777777778,\"#fb9f3a\"],[0.8888888888888888,\"#fdca26\"],[1.0,\"#f0f921\"]]}],\"choropleth\":[{\"type\":\"choropleth\",\"colorbar\":{\"outlinewidth\":0,\"ticks\":\"\"}}],\"histogram2d\":[{\"type\":\"histogram2d\",\"colorbar\":{\"outlinewidth\":0,\"ticks\":\"\"},\"colorscale\":[[0.0,\"#0d0887\"],[0.1111111111111111,\"#46039f\"],[0.2222222222222222,\"#7201a8\"],[0.3333333333333333,\"#9c179e\"],[0.4444444444444444,\"#bd3786\"],[0.5555555555555556,\"#d8576b\"],[0.6666666666666666,\"#ed7953\"],[0.7777777777777778,\"#fb9f3a\"],[0.8888888888888888,\"#fdca26\"],[1.0,\"#f0f921\"]]}],\"heatmap\":[{\"type\":\"heatmap\",\"colorbar\":{\"outlinewidth\":0,\"ticks\":\"\"},\"colorscale\":[[0.0,\"#0d0887\"],[0.1111111111111111,\"#46039f\"],[0.2222222222222222,\"#7201a8\"],[0.3333333333333333,\"#9c179e\"],[0.4444444444444444,\"#bd3786\"],[0.5555555555555556,\"#d8576b\"],[0.6666666666666666,\"#ed7953\"],[0.7777777777777778,\"#fb9f3a\"],[0.8888888888888888,\"#fdca26\"],[1.0,\"#f0f921\"]]}],\"heatmapgl\":[{\"type\":\"heatmapgl\",\"colorbar\":{\"outlinewidth\":0,\"ticks\":\"\"},\"colorscale\":[[0.0,\"#0d0887\"],[0.1111111111111111,\"#46039f\"],[0.2222222222222222,\"#7201a8\"],[0.3333333333333333,\"#9c179e\"],[0.4444444444444444,\"#bd3786\"],[0.5555555555555556,\"#d8576b\"],[0.6666666666666666,\"#ed7953\"],[0.7777777777777778,\"#fb9f3a\"],[0.8888888888888888,\"#fdca26\"],[1.0,\"#f0f921\"]]}],\"contourcarpet\":[{\"type\":\"contourcarpet\",\"colorbar\":{\"outlinewidth\":0,\"ticks\":\"\"}}],\"contour\":[{\"type\":\"contour\",\"colorbar\":{\"outlinewidth\":0,\"ticks\":\"\"},\"colorscale\":[[0.0,\"#0d0887\"],[0.1111111111111111,\"#46039f\"],[0.2222222222222222,\"#7201a8\"],[0.3333333333333333,\"#9c179e\"],[0.4444444444444444,\"#bd3786\"],[0.5555555555555556,\"#d8576b\"],[0.6666666666666666,\"#ed7953\"],[0.7777777777777778,\"#fb9f3a\"],[0.8888888888888888,\"#fdca26\"],[1.0,\"#f0f921\"]]}],\"surface\":[{\"type\":\"surface\",\"colorbar\":{\"outlinewidth\":0,\"ticks\":\"\"},\"colorscale\":[[0.0,\"#0d0887\"],[0.1111111111111111,\"#46039f\"],[0.2222222222222222,\"#7201a8\"],[0.3333333333333333,\"#9c179e\"],[0.4444444444444444,\"#bd3786\"],[0.5555555555555556,\"#d8576b\"],[0.6666666666666666,\"#ed7953\"],[0.7777777777777778,\"#fb9f3a\"],[0.8888888888888888,\"#fdca26\"],[1.0,\"#f0f921\"]]}],\"mesh3d\":[{\"type\":\"mesh3d\",\"colorbar\":{\"outlinewidth\":0,\"ticks\":\"\"}}],\"scatter\":[{\"fillpattern\":{\"fillmode\":\"overlay\",\"size\":10,\"solidity\":0.2},\"type\":\"scatter\"}],\"parcoords\":[{\"type\":\"parcoords\",\"line\":{\"colorbar\":{\"outlinewidth\":0,\"ticks\":\"\"}}}],\"scatterpolargl\":[{\"type\":\"scatterpolargl\",\"marker\":{\"colorbar\":{\"outlinewidth\":0,\"ticks\":\"\"}}}],\"bar\":[{\"error_x\":{\"color\":\"#2a3f5f\"},\"error_y\":{\"color\":\"#2a3f5f\"},\"marker\":{\"line\":{\"color\":\"#E5ECF6\",\"width\":0.5},\"pattern\":{\"fillmode\":\"overlay\",\"size\":10,\"solidity\":0.2}},\"type\":\"bar\"}],\"scattergeo\":[{\"type\":\"scattergeo\",\"marker\":{\"colorbar\":{\"outlinewidth\":0,\"ticks\":\"\"}}}],\"scatterpolar\":[{\"type\":\"scatterpolar\",\"marker\":{\"colorbar\":{\"outlinewidth\":0,\"ticks\":\"\"}}}],\"histogram\":[{\"marker\":{\"pattern\":{\"fillmode\":\"overlay\",\"size\":10,\"solidity\":0.2}},\"type\":\"histogram\"}],\"scattergl\":[{\"type\":\"scattergl\",\"marker\":{\"colorbar\":{\"outlinewidth\":0,\"ticks\":\"\"}}}],\"scatter3d\":[{\"type\":\"scatter3d\",\"line\":{\"colorbar\":{\"outlinewidth\":0,\"ticks\":\"\"}},\"marker\":{\"colorbar\":{\"outlinewidth\":0,\"ticks\":\"\"}}}],\"scattermapbox\":[{\"type\":\"scattermapbox\",\"marker\":{\"colorbar\":{\"outlinewidth\":0,\"ticks\":\"\"}}}],\"scatterternary\":[{\"type\":\"scatterternary\",\"marker\":{\"colorbar\":{\"outlinewidth\":0,\"ticks\":\"\"}}}],\"scattercarpet\":[{\"type\":\"scattercarpet\",\"marker\":{\"colorbar\":{\"outlinewidth\":0,\"ticks\":\"\"}}}],\"carpet\":[{\"aaxis\":{\"endlinecolor\":\"#2a3f5f\",\"gridcolor\":\"white\",\"linecolor\":\"white\",\"minorgridcolor\":\"white\",\"startlinecolor\":\"#2a3f5f\"},\"baxis\":{\"endlinecolor\":\"#2a3f5f\",\"gridcolor\":\"white\",\"linecolor\":\"white\",\"minorgridcolor\":\"white\",\"startlinecolor\":\"#2a3f5f\"},\"type\":\"carpet\"}],\"table\":[{\"cells\":{\"fill\":{\"color\":\"#EBF0F8\"},\"line\":{\"color\":\"white\"}},\"header\":{\"fill\":{\"color\":\"#C8D4E3\"},\"line\":{\"color\":\"white\"}},\"type\":\"table\"}],\"barpolar\":[{\"marker\":{\"line\":{\"color\":\"#E5ECF6\",\"width\":0.5},\"pattern\":{\"fillmode\":\"overlay\",\"size\":10,\"solidity\":0.2}},\"type\":\"barpolar\"}],\"pie\":[{\"automargin\":true,\"type\":\"pie\"}]},\"layout\":{\"autotypenumbers\":\"strict\",\"colorway\":[\"#636efa\",\"#EF553B\",\"#00cc96\",\"#ab63fa\",\"#FFA15A\",\"#19d3f3\",\"#FF6692\",\"#B6E880\",\"#FF97FF\",\"#FECB52\"],\"font\":{\"color\":\"#2a3f5f\"},\"hovermode\":\"closest\",\"hoverlabel\":{\"align\":\"left\"},\"paper_bgcolor\":\"white\",\"plot_bgcolor\":\"#E5ECF6\",\"polar\":{\"bgcolor\":\"#E5ECF6\",\"angularaxis\":{\"gridcolor\":\"white\",\"linecolor\":\"white\",\"ticks\":\"\"},\"radialaxis\":{\"gridcolor\":\"white\",\"linecolor\":\"white\",\"ticks\":\"\"}},\"ternary\":{\"bgcolor\":\"#E5ECF6\",\"aaxis\":{\"gridcolor\":\"white\",\"linecolor\":\"white\",\"ticks\":\"\"},\"baxis\":{\"gridcolor\":\"white\",\"linecolor\":\"white\",\"ticks\":\"\"},\"caxis\":{\"gridcolor\":\"white\",\"linecolor\":\"white\",\"ticks\":\"\"}},\"coloraxis\":{\"colorbar\":{\"outlinewidth\":0,\"ticks\":\"\"}},\"colorscale\":{\"sequential\":[[0.0,\"#0d0887\"],[0.1111111111111111,\"#46039f\"],[0.2222222222222222,\"#7201a8\"],[0.3333333333333333,\"#9c179e\"],[0.4444444444444444,\"#bd3786\"],[0.5555555555555556,\"#d8576b\"],[0.6666666666666666,\"#ed7953\"],[0.7777777777777778,\"#fb9f3a\"],[0.8888888888888888,\"#fdca26\"],[1.0,\"#f0f921\"]],\"sequentialminus\":[[0.0,\"#0d0887\"],[0.1111111111111111,\"#46039f\"],[0.2222222222222222,\"#7201a8\"],[0.3333333333333333,\"#9c179e\"],[0.4444444444444444,\"#bd3786\"],[0.5555555555555556,\"#d8576b\"],[0.6666666666666666,\"#ed7953\"],[0.7777777777777778,\"#fb9f3a\"],[0.8888888888888888,\"#fdca26\"],[1.0,\"#f0f921\"]],\"diverging\":[[0,\"#8e0152\"],[0.1,\"#c51b7d\"],[0.2,\"#de77ae\"],[0.3,\"#f1b6da\"],[0.4,\"#fde0ef\"],[0.5,\"#f7f7f7\"],[0.6,\"#e6f5d0\"],[0.7,\"#b8e186\"],[0.8,\"#7fbc41\"],[0.9,\"#4d9221\"],[1,\"#276419\"]]},\"xaxis\":{\"gridcolor\":\"white\",\"linecolor\":\"white\",\"ticks\":\"\",\"title\":{\"standoff\":15},\"zerolinecolor\":\"white\",\"automargin\":true,\"zerolinewidth\":2},\"yaxis\":{\"gridcolor\":\"white\",\"linecolor\":\"white\",\"ticks\":\"\",\"title\":{\"standoff\":15},\"zerolinecolor\":\"white\",\"automargin\":true,\"zerolinewidth\":2},\"scene\":{\"xaxis\":{\"backgroundcolor\":\"#E5ECF6\",\"gridcolor\":\"white\",\"linecolor\":\"white\",\"showbackground\":true,\"ticks\":\"\",\"zerolinecolor\":\"white\",\"gridwidth\":2},\"yaxis\":{\"backgroundcolor\":\"#E5ECF6\",\"gridcolor\":\"white\",\"linecolor\":\"white\",\"showbackground\":true,\"ticks\":\"\",\"zerolinecolor\":\"white\",\"gridwidth\":2},\"zaxis\":{\"backgroundcolor\":\"#E5ECF6\",\"gridcolor\":\"white\",\"linecolor\":\"white\",\"showbackground\":true,\"ticks\":\"\",\"zerolinecolor\":\"white\",\"gridwidth\":2}},\"shapedefaults\":{\"line\":{\"color\":\"#2a3f5f\"}},\"annotationdefaults\":{\"arrowcolor\":\"#2a3f5f\",\"arrowhead\":0,\"arrowwidth\":1},\"geo\":{\"bgcolor\":\"white\",\"landcolor\":\"#E5ECF6\",\"subunitcolor\":\"white\",\"showland\":true,\"showlakes\":true,\"lakecolor\":\"white\"},\"title\":{\"x\":0.05},\"mapbox\":{\"style\":\"light\"}}},\"xaxis\":{\"anchor\":\"y\",\"domain\":[0.0,1.0],\"title\":{\"text\":\"Importance\"}},\"yaxis\":{\"anchor\":\"x\",\"domain\":[0.0,1.0],\"title\":{\"text\":\"Feature\"}},\"coloraxis\":{\"colorbar\":{\"title\":{\"text\":\"color\"}},\"colorscale\":[[0.0,\"rgb(255,245,240)\"],[0.125,\"rgb(254,224,210)\"],[0.25,\"rgb(252,187,161)\"],[0.375,\"rgb(252,146,114)\"],[0.5,\"rgb(251,106,74)\"],[0.625,\"rgb(239,59,44)\"],[0.75,\"rgb(203,24,29)\"],[0.875,\"rgb(165,15,21)\"],[1.0,\"rgb(103,0,13)\"]]},\"legend\":{\"tracegroupgap\":0},\"title\":{\"text\":\"Top 5 Feature Importance\"},\"barmode\":\"relative\"},                        {\"responsive\": true}                    ).then(function(){\n                            \nvar gd = document.getElementById('9ae7d5e5-6764-4821-8ac8-eaa338a855e2');\nvar x = new MutationObserver(function (mutations, observer) {{\n        var display = window.getComputedStyle(gd).display;\n        if (!display || display === 'none') {{\n            console.log([gd, 'removed!']);\n            Plotly.purge(gd);\n            observer.disconnect();\n        }}\n}});\n\n// Listen for the removal of the full notebook cells\nvar notebookContainer = gd.closest('#notebook-container');\nif (notebookContainer) {{\n    x.observe(notebookContainer, {childList: true});\n}}\n\n// Listen for the clearing of the current output cell\nvar outputEl = gd.closest('.output');\nif (outputEl) {{\n    x.observe(outputEl, {childList: true});\n}}\n\n                        })                };                });            </script>        </div>"
     },
     "metadata": {},
     "output_type": "display_data"
    }
   ],
   "source": [
    "from sklearn.feature_selection import SelectKBest, f_regression\n",
    "importances = random_forest_model.feature_importances_\n",
    "feature_names = x_train.columns\n",
    "feature_importance_dict = dict(zip(feature_names, importances))\n",
    "sorted_feature_importance = sorted(feature_importance_dict.items(), key=lambda x: x[1], reverse=True)\n",
    "\n",
    "top_n = 5  # Set the number of top features to display\n",
    "top_feature_names, top_importances = zip(*sorted_feature_importance[:top_n])\n",
    "\n",
    "fig = px.bar(\n",
    "    x=top_importances,\n",
    "    y=top_feature_names,\n",
    "    orientation='h',\n",
    "    title='Top 5 Feature Importance',\n",
    "    labels={'x': 'Importance', 'y': 'Feature'},\n",
    "    color=top_importances,  # Color bars by importance values\n",
    "    color_continuous_scale='reds',  # Choose a color scale\n",
    ")\n",
    "\n",
    "fig.update_traces(texttemplate='%{text:.2f}', textposition='outside')\n",
    "\n",
    "fig.show()"
   ],
   "metadata": {
    "collapsed": false,
    "ExecuteTime": {
     "end_time": "2024-01-21T21:37:11.996540800Z",
     "start_time": "2024-01-21T21:37:11.754386300Z"
    }
   }
  },
  {
   "cell_type": "code",
   "execution_count": 409,
   "outputs": [
    {
     "data": {
      "text/plain": "<Figure size 1000x600 with 1 Axes>",
      "image/png": "[encoded data removed]"
     },
     "metadata": {},
     "output_type": "display_data"
    }
   ],
   "source": [
    "y_pred= random_forest_model.predict(x_test)\n",
    "# Residuals\n",
    "residuals = y_test - y_pred\n",
    "# Plot\n",
    "plt.figure(figsize=(10, 6))\n",
    "sns.scatterplot(x=y_pred, y=residuals)\n",
    "plt.axhline(y=0, color='r', linestyle='--')\n",
    "plt.xlabel('Predicted Values')\n",
    "plt.ylabel('Residuals')\n",
    "plt.title('Residual Plot')\n",
    "plt.show()"
   ],
   "metadata": {
    "collapsed": false,
    "ExecuteTime": {
     "end_time": "2024-01-21T21:37:12.303762Z",
     "start_time": "2024-01-21T21:37:11.902337300Z"
    }
   }
  },
  {
   "cell_type": "markdown",
   "source": [
    "#Forward_selection   "
   ],
   "metadata": {
    "collapsed": false
   }
  },
  {
   "cell_type": "code",
   "execution_count": 410,
   "outputs": [],
   "source": [
    "#X = features\n",
    "#y = target\n",
    "#df= energy_data\n",
    "\n",
    "#def forward_selection(df, target, significance_level=0.05):\n",
    "#    initial_features = df.columns.tolist()\n",
    "#    best_features = []\n",
    "#    while len(initial_features) > 0:\n",
    "#        remaining_features = list(set(initial_features) - set(best_features))\n",
    "#        new_pval = pd.Series(index=remaining_features)\n",
    "#        for new_column in remaining_features:\n",
    "#            model = sm.OLS(target, sm.add_constant(df[best_features + [new_column]])).fit()\n",
    "#            new_pval[new_column] = model.pvalues[new_column]\n",
    "#        min_p_value = new_pval.min()\n",
    "#        if min_p_value < significance_level:\n",
    "#            best_features.append(new_pval.idxmin())\n",
    "##        else:\n",
    "#            break\n",
    "#    return best_features\n",
    "\n",
    "# Assuming you have already defined X and y as the features and target variable respectively\n",
    "#selected_features = forward_selection(X, y)\n",
    "#print(\"Selected features:\", selected_features)"
   ],
   "metadata": {
    "collapsed": false,
    "ExecuteTime": {
     "end_time": "2024-01-21T21:37:12.386234900Z",
     "start_time": "2024-01-21T21:37:12.306258700Z"
    }
   }
  },
  {
   "cell_type": "markdown",
   "source": [
    "### 11. Conclusion / Answer Question"
   ],
   "metadata": {
    "collapsed": false
   }
  },
  {
   "cell_type": "code",
   "execution_count": 411,
   "outputs": [],
   "source": [
    "predicted_co2 = random_forest_model.predict(x_unseen_china_test)"
   ],
   "metadata": {
    "collapsed": false,
    "ExecuteTime": {
     "end_time": "2024-01-21T21:37:12.417125200Z",
     "start_time": "2024-01-21T21:37:12.310579500Z"
    }
   }
  },
  {
   "cell_type": "code",
   "execution_count": 412,
   "outputs": [
    {
     "data": {
      "text/plain": "<Figure size 1200x600 with 1 Axes>",
      "image/png": "[encoded data removed]"
     },
     "metadata": {},
     "output_type": "display_data"
    }
   ],
   "source": [
    "import matplotlib.pyplot as plt\n",
    "# Predict CO2 emission and energy consumption for the years 2021 to 2025\n",
    "\n",
    "plt.figure(figsize=(12, 6))\n",
    "\n",
    "plt.subplot(1, 2, 1)\n",
    "plt.plot(actual_years, y_unseen_china, label='Actual', marker='o')\n",
    "plt.plot(future_years, predicted_co2, label='Predicted', marker='o', linestyle='--')\n",
    "plt.title('Energy Consumption Prediction for China')\n",
    "plt.xlabel('year')\n",
    "plt.ylabel('Energy Consumption')\n",
    "plt.legend()\n",
    "\n",
    "plt.tight_layout()\n",
    "plt.show()"
   ],
   "metadata": {
    "collapsed": false,
    "ExecuteTime": {
     "end_time": "2024-01-21T21:37:12.668928900Z",
     "start_time": "2024-01-21T21:37:12.371628900Z"
    }
   }
  }
 ],
 "metadata": {
  "colab": {
   "include_colab_link": true,
   "provenance": []
  },
  "kernelspec": {
   "display_name": "Python 3 (ipykernel)",
   "language": "python",
   "name": "python3"
  },
  "language_info": {
   "codemirror_mode": {
    "name": "ipython",
    "version": 3
   },
   "file_extension": ".py",
   "mimetype": "text/x-python",
   "name": "python",
   "nbconvert_exporter": "python",
   "pygments_lexer": "ipython3",
   "version": "3.11.2"
  }
 },
 "nbformat": 4,
 "nbformat_minor": 4
}
