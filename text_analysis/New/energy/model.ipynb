{
 "cells": [
  {
   "cell_type": "markdown",
   "source": [
    "    # Energy Dataset."
   ],
   "metadata": {
    "collapsed": false
   }
  },
  {
   "cell_type": "code",
   "execution_count": 64,
   "outputs": [],
   "source": [],
   "metadata": {
    "collapsed": false,
    "ExecuteTime": {
     "end_time": "2024-01-21T14:17:37.685556100Z",
     "start_time": "2024-01-21T14:17:37.275822700Z"
    }
   }
  },
  {
   "cell_type": "markdown",
   "source": [
    "## 1. Importing the required libraries for EDA"
   ],
   "metadata": {
    "collapsed": false
   }
  },
  {
   "cell_type": "markdown",
   "source": [
    "Below are the libraries that are used IN THE MODEL"
   ],
   "metadata": {
    "collapsed": false
   }
  },
  {
   "cell_type": "code",
   "execution_count": 65,
   "outputs": [],
   "source": [
    "import pandas as pd                                                           #Dataframe\n",
    "import numpy as np                                                            #Dataframe\n",
    "import matplotlib.pyplot as plt                                               #Visualisation\n",
    "import plotly.express as px                                                   #Visualization\n",
    "import seaborn as sns                                                         #Visualization\n",
    "from sklearn.model_selection import train_test_split, GridSearchCV            #Model\n",
    "from sklearn.preprocessing import StandardScaler                              #Model\n",
    "from sklearn.metrics import mean_squared_error, r2_score                      #Model\n",
    "from sklearn.ensemble import RandomForestRegressor, GradientBoostingRegressor #Model\n",
    "from sklearn.linear_model import LinearRegression                             #Model\n",
    "from sklearn import preprocessing                                             #Model\n",
    "import statsmodels.api as sm                                                  #Model\n",
    "import warnings\n",
    "warnings.filterwarnings('ignore')"
   ],
   "metadata": {
    "collapsed": false,
    "ExecuteTime": {
     "end_time": "2024-01-21T14:17:37.755586400Z",
     "start_time": "2024-01-21T14:17:37.291449600Z"
    }
   }
  },
  {
   "cell_type": "markdown",
   "source": [
    "## 2. Loading the data into the data frame."
   ],
   "metadata": {
    "collapsed": false
   }
  },
  {
   "cell_type": "code",
   "execution_count": 66,
   "outputs": [
    {
     "data": {
      "text/plain": "         Entity  Year  Access to electricity (% of population)  \\\n0   Afghanistan  2000                                 1.613591   \n1   Afghanistan  2001                                 4.074574   \n2   Afghanistan  2002                                 9.409158   \n3   Afghanistan  2003                                14.738506   \n4   Afghanistan  2004                                20.064968   \n5   Afghanistan  2005                                25.390894   \n6   Afghanistan  2006                                30.718690   \n7   Afghanistan  2007                                36.051010   \n8   Afghanistan  2008                                42.400000   \n9   Afghanistan  2009                                46.740050   \n10  Afghanistan  2010                                42.700000   \n11  Afghanistan  2011                                43.222020   \n12  Afghanistan  2012                                69.100000   \n13  Afghanistan  2013                                68.290650   \n14  Afghanistan  2014                                89.500000   \n15  Afghanistan  2015                                71.500000   \n16  Afghanistan  2016                                97.700000   \n17  Afghanistan  2017                                97.700000   \n18  Afghanistan  2018                                96.616135   \n19  Afghanistan  2019                                97.700000   \n20  Afghanistan  2020                                97.700000   \n21      Albania  2000                               100.000000   \n22      Albania  2001                               100.000000   \n23      Albania  2002                               100.000000   \n24      Albania  2003                               100.000000   \n25      Albania  2004                               100.000000   \n26      Albania  2005                               100.000000   \n27      Albania  2006                               100.000000   \n28      Albania  2007                               100.000000   \n29      Albania  2008                               100.000000   \n30      Albania  2009                               100.000000   \n31      Albania  2010                               100.000000   \n32      Albania  2011                               100.000000   \n33      Albania  2012                                99.900000   \n34      Albania  2013                               100.000000   \n35      Albania  2014                                99.950000   \n36      Albania  2015                                99.980000   \n37      Albania  2016                                99.890000   \n38      Albania  2017                                99.890000   \n39      Albania  2018                               100.000000   \n40      Albania  2019                               100.000000   \n41      Albania  2020                               100.000000   \n42      Algeria  2000                                98.973100   \n43      Algeria  2001                                98.966870   \n44      Algeria  2002                                98.953060   \n\n    Access to clean fuels for cooking  \\\n0                                6.20   \n1                                7.20   \n2                                8.20   \n3                                9.50   \n4                               10.90   \n5                               12.20   \n6                               13.85   \n7                               15.30   \n8                               16.70   \n9                               18.40   \n10                              20.00   \n11                              21.80   \n12                              23.00   \n13                              24.80   \n14                              26.10   \n15                              27.40   \n16                              28.60   \n17                              29.70   \n18                              30.90   \n19                              31.90   \n20                              33.20   \n21                              38.20   \n22                              40.50   \n23                              43.20   \n24                              46.40   \n25                              49.00   \n26                              51.90   \n27                              54.80   \n28                              58.10   \n29                              60.80   \n30                              63.60   \n31                              66.50   \n32                              68.90   \n33                              71.30   \n34                              73.15   \n35                              74.60   \n36                              76.20   \n37                              77.80   \n38                              78.70   \n39                              79.80   \n40                              80.70   \n41                              81.30   \n42                              97.10   \n43                              97.30   \n44                              97.80   \n\n    Renewable-electricity-generating-capacity-per-capita  \\\n0                                                9.22      \n1                                                8.86      \n2                                                8.47      \n3                                                8.09      \n4                                                7.75      \n5                                                7.51      \n6                                                7.40      \n7                                                7.25      \n8                                                7.49      \n9                                                7.50      \n10                                               8.27      \n11                                               8.13      \n12                                               9.29      \n13                                               9.10      \n14                                               8.95      \n15                                               8.79      \n16                                               9.87      \n17                                               9.79      \n18                                               9.55      \n19                                               9.58      \n20                                               9.35      \n21                                                NaN      \n22                                                NaN      \n23                                                NaN      \n24                                                NaN      \n25                                                NaN      \n26                                                NaN      \n27                                                NaN      \n28                                                NaN      \n29                                                NaN      \n30                                                NaN      \n31                                                NaN      \n32                                                NaN      \n33                                                NaN      \n34                                                NaN      \n35                                                NaN      \n36                                                NaN      \n37                                                NaN      \n38                                                NaN      \n39                                                NaN      \n40                                                NaN      \n41                                                NaN      \n42                                               8.91      \n43                                               8.79      \n44                                               8.68      \n\n    Financial flows to developing countries (US $)  \\\n0                                          20000.0   \n1                                         130000.0   \n2                                        3950000.0   \n3                                       25970000.0   \n4                                              NaN   \n5                                        9830000.0   \n6                                       10620000.0   \n7                                       15750000.0   \n8                                       16170000.0   \n9                                        9960000.0   \n10                                      36500000.0   \n11                                      28690000.0   \n12                                      62630000.0   \n13                                     268460000.0   \n14                                       6940000.0   \n15                                       4890000.0   \n16                                        860000.0   \n17                                      50330000.0   \n18                                      70100000.0   \n19                                       4620000.0   \n20                                             NaN   \n21                                             NaN   \n22                                             NaN   \n23                                             NaN   \n24                                             NaN   \n25                                             NaN   \n26                                             NaN   \n27                                             NaN   \n28                                             NaN   \n29                                             NaN   \n30                                             NaN   \n31                                             NaN   \n32                                             NaN   \n33                                             NaN   \n34                                             NaN   \n35                                             NaN   \n36                                             NaN   \n37                                             NaN   \n38                                             NaN   \n39                                             NaN   \n40                                             NaN   \n41                                             NaN   \n42                                             NaN   \n43                                        810000.0   \n44                                        310000.0   \n\n    Renewable energy share in the total final energy consumption (%)  \\\n0                                               44.99                  \n1                                               45.60                  \n2                                               37.83                  \n3                                               36.66                  \n4                                               44.24                  \n5                                               33.88                  \n6                                               31.89                  \n7                                               28.78                  \n8                                               21.17                  \n9                                               16.53                  \n10                                              15.15                  \n11                                              12.61                  \n12                                              15.36                  \n13                                              16.86                  \n14                                              18.93                  \n15                                              17.53                  \n16                                              19.92                  \n17                                              19.21                  \n18                                              17.96                  \n19                                              18.51                  \n20                                                NaN                  \n21                                                NaN                  \n22                                                NaN                  \n23                                                NaN                  \n24                                                NaN                  \n25                                                NaN                  \n26                                                NaN                  \n27                                                NaN                  \n28                                                NaN                  \n29                                                NaN                  \n30                                                NaN                  \n31                                                NaN                  \n32                                                NaN                  \n33                                                NaN                  \n34                                                NaN                  \n35                                                NaN                  \n36                                                NaN                  \n37                                                NaN                  \n38                                                NaN                  \n39                                                NaN                  \n40                                                NaN                  \n41                                                NaN                  \n42                                               0.43                  \n43                                               0.43                  \n44                                               0.51                  \n\n    Electricity from fossil fuels (TWh)  Electricity from nuclear (TWh)  \\\n0                                  0.16                             0.0   \n1                                  0.09                             0.0   \n2                                  0.13                             0.0   \n3                                  0.31                             0.0   \n4                                  0.33                             0.0   \n5                                  0.34                             0.0   \n6                                  0.20                             0.0   \n7                                  0.20                             0.0   \n8                                  0.19                             0.0   \n9                                  0.16                             0.0   \n10                                 0.19                             0.0   \n11                                 0.18                             0.0   \n12                                 0.14                             0.0   \n13                                 0.22                             0.0   \n14                                 0.16                             0.0   \n15                                 0.15                             0.0   \n16                                 0.15                             0.0   \n17                                 0.18                             0.0   \n18                                 0.20                             0.0   \n19                                 0.18                             0.0   \n20                                 0.12                             0.0   \n21                                 0.14                             0.0   \n22                                 0.13                             0.0   \n23                                 0.16                             0.0   \n24                                 0.10                             0.0   \n25                                 0.13                             0.0   \n26                                 0.07                             0.0   \n27                                 0.09                             0.0   \n28                                 0.07                             0.0   \n29                                 0.07                             0.0   \n30                                 0.00                             0.0   \n31                                 0.00                             0.0   \n32                                 0.06                             0.0   \n33                                 0.00                             0.0   \n34                                 0.00                             0.0   \n35                                 0.00                             0.0   \n36                                 0.00                             0.0   \n37                                 0.00                             0.0   \n38                                 0.00                             0.0   \n39                                 0.00                             0.0   \n40                                 0.00                             0.0   \n41                                 0.00                             0.0   \n42                                23.84                             0.0   \n43                                24.96                             0.0   \n44                                25.94                             0.0   \n\n    Electricity from renewables (TWh)  ...  \\\n0                                0.31  ...   \n1                                0.50  ...   \n2                                0.56  ...   \n3                                0.63  ...   \n4                                0.56  ...   \n5                                0.59  ...   \n6                                0.64  ...   \n7                                0.75  ...   \n8                                0.54  ...   \n9                                0.78  ...   \n10                               0.75  ...   \n11                               0.60  ...   \n12                               0.74  ...   \n13                               0.89  ...   \n14                               1.00  ...   \n15                               1.03  ...   \n16                               1.06  ...   \n17                               1.09  ...   \n18                               0.97  ...   \n19                               0.89  ...   \n20                               0.68  ...   \n21                               4.55  ...   \n22                               3.52  ...   \n23                               3.48  ...   \n24                               5.12  ...   \n25                               5.41  ...   \n26                               5.32  ...   \n27                               4.95  ...   \n28                               2.76  ...   \n29                               3.76  ...   \n30                               5.20  ...   \n31                               7.49  ...   \n32                               4.09  ...   \n33                               4.68  ...   \n34                               6.89  ...   \n35                               4.68  ...   \n36                               5.84  ...   \n37                               7.70  ...   \n38                               4.48  ...   \n39                               8.47  ...   \n40                               5.17  ...   \n41                               5.31  ...   \n42                               0.05  ...   \n43                               0.07  ...   \n44                               0.06  ...   \n\n    Primary energy consumption per capita (kWh/person)  \\\n0                                           302.59482    \n1                                           236.89185    \n2                                           210.86215    \n3                                           229.96822    \n4                                           204.23125    \n5                                           252.06912    \n6                                           304.42090    \n7                                           354.27990    \n8                                           607.83350    \n9                                           975.04816    \n10                                         1182.89200    \n11                                         1436.11430    \n12                                         1324.12110    \n13                                         1060.79260    \n14                                          868.57620    \n15                                          970.08030    \n16                                          862.79114    \n17                                          829.31195    \n18                                          924.25085    \n19                                          802.61255    \n20                                          702.88800    \n21                                         9029.43750    \n22                                         8635.53200    \n23                                         9443.55500    \n24                                        10756.61200    \n25                                        11586.95100    \n26                                        11545.61600    \n27                                        10976.72800    \n28                                         9534.87400    \n29                                        10499.32800    \n30                                        11524.42800    \n31                                        12377.50400    \n32                                        10854.64900    \n33                                        10652.80900    \n34                                        13392.77400    \n35                                        11809.46100    \n36                                        11824.31400    \n37                                        13823.74800    \n38                                        12802.36000    \n39                                        14609.70100    \n40                                        11585.55500    \n41                                        11158.00300    \n42                                         9746.52400    \n43                                         9961.64000    \n44                                        10180.35000    \n\n    Energy intensity level of primary energy (MJ/$2017 PPP GDP)  \\\n0                                                1.64             \n1                                                1.74             \n2                                                1.40             \n3                                                1.40             \n4                                                1.20             \n5                                                1.41             \n6                                                1.50             \n7                                                1.53             \n8                                                1.94             \n9                                                2.25             \n10                                               2.46             \n11                                               3.23             \n12                                               2.61             \n13                                               2.46             \n14                                               2.25             \n15                                               2.37             \n16                                               2.24             \n17                                               2.30             \n18                                               2.44             \n19                                               2.41             \n20                                                NaN             \n21                                               4.13             \n22                                               3.89             \n23                                               4.10             \n24                                               3.80             \n25                                               3.96             \n26                                               3.75             \n27                                               3.46             \n28                                               3.12             \n29                                               3.01             \n30                                               2.98             \n31                                               2.85             \n32                                               2.91             \n33                                               2.57             \n34                                               2.96             \n35                                               2.93             \n36                                               2.69             \n37                                               2.68             \n38                                               2.69             \n39                                               2.57             \n40                                               2.50             \n41                                                NaN             \n42                                               4.18             \n43                                               4.07             \n44                                               4.12             \n\n    Value_co2_emissions_kt_by_country  \\\n0                          760.000000   \n1                          730.000000   \n2                         1029.999971   \n3                         1220.000029   \n4                         1029.999971   \n5                         1549.999952   \n6                         1759.999990   \n7                         1769.999981   \n8                         3559.999943   \n9                         4880.000114   \n10                        7110.000134   \n11                        8930.000305   \n12                        8079.999924   \n13                        5989.999771   \n14                        4880.000114   \n15                        5949.999809   \n16                        5300.000191   \n17                        4780.000210   \n18                        6070.000172   \n19                        6079.999924   \n20                                NaN   \n21                        3170.000000   \n22                        3230.000000   \n23                        3759.999990   \n24                        4070.000172   \n25                        4250.000000   \n26                        4030.000210   \n27                        4010.000229   \n28                        4139.999866   \n29                        4079.999924   \n30                        4219.999790   \n31                        4449.999809   \n32                        4849.999905   \n33                        4360.000134   \n34                        4440.000057   \n35                        4820.000172   \n36                        4619.999886   \n37                        4480.000019   \n38                        5139.999866   \n39                        5110.000134   \n40                        4829.999924   \n41                                NaN   \n42                       80050.000000   \n43                       78650.000000   \n44                       82400.001530   \n\n    Renewables (% equivalent primary energy)  gdp_growth  gdp_per_capita  \\\n0                                        NaN         NaN             NaN   \n1                                        NaN         NaN             NaN   \n2                                        NaN         NaN      179.426579   \n3                                        NaN    8.832278      190.683814   \n4                                        NaN    1.414118      211.382074   \n5                                        NaN   11.229715      242.031313   \n6                                        NaN    5.357403      263.733602   \n7                                        NaN   13.826320      359.693158   \n8                                        NaN    3.924984      364.663542   \n9                                        NaN   21.390528      437.268740   \n10                                       NaN   14.362441      543.306526   \n11                                       NaN    0.426355      591.190030   \n12                                       NaN   12.752287      638.845852   \n13                                       NaN    5.600745      624.315454   \n14                                       NaN    2.724543      614.223342   \n15                                       NaN    1.451315      556.007221   \n16                                       NaN    2.260314      512.012778   \n17                                       NaN    2.647003      516.679862   \n18                                       NaN    1.189228      485.668419   \n19                                       NaN    3.911603      494.179350   \n20                                       NaN   -2.351101      516.747871   \n21                                       NaN    6.946217     1126.683340   \n22                                       NaN    8.293313     1281.659826   \n23                                       NaN    4.536524     1425.124219   \n24                                       NaN    5.528637     1846.120121   \n25                                       NaN    5.514668     2373.581292   \n26                                       NaN    5.526424     2673.786584   \n27                                       NaN    5.902659     2972.742924   \n28                                       NaN    5.983260     3595.038057   \n29                                       NaN    7.500041     4370.539925   \n30                                       NaN    3.354289     4114.134899   \n31                                       NaN    3.706938     4094.348386   \n32                                       NaN    2.545406     4437.142612   \n33                                       NaN    1.417243     4247.630047   \n34                                       NaN    1.002018     4413.062005   \n35                                       NaN    1.774449     4578.633208   \n36                                       NaN    2.218726     3952.802538   \n37                                       NaN    3.314981     4124.055390   \n38                                       NaN    3.802227     4531.019374   \n39                                       NaN    4.019360     5287.663694   \n40                                       NaN    2.113420     5395.659532   \n41                                       NaN   -3.955398     5246.292306   \n42                                  0.053235    3.800000     1765.027146   \n43                                  0.065218    3.000000     1740.606654   \n44                                  0.051677    5.600000     1781.828908   \n\n    Density\\n(P/Km2) Land Area(Km2)   Latitude  Longitude  \n0                 60       6,52,230  33.939110  67.709953  \n1                 60       6,52,230  33.939110  67.709953  \n2                 60       6,52,230  33.939110  67.709953  \n3                 60       6,52,230  33.939110  67.709953  \n4                 60       6,52,230  33.939110  67.709953  \n5                 60       6,52,230  33.939110  67.709953  \n6                 60       6,52,230  33.939110  67.709953  \n7                 60       6,52,230  33.939110  67.709953  \n8                 60       6,52,230  33.939110  67.709953  \n9                 60       6,52,230  33.939110  67.709953  \n10                60       6,52,230  33.939110  67.709953  \n11                60       6,52,230  33.939110  67.709953  \n12                60       6,52,230  33.939110  67.709953  \n13                60       6,52,230  33.939110  67.709953  \n14                60       6,52,230  33.939110  67.709953  \n15                60       6,52,230  33.939110  67.709953  \n16                60       6,52,230  33.939110  67.709953  \n17                60       6,52,230  33.939110  67.709953  \n18                60       6,52,230  33.939110  67.709953  \n19                60       6,52,230  33.939110  67.709953  \n20                60       6,52,230  33.939110  67.709953  \n21               105         28,748  41.153332  20.168331  \n22               105         28,748  41.153332  20.168331  \n23               105         28,748  41.153332  20.168331  \n24               105         28,748  41.153332  20.168331  \n25               105         28,748  41.153332  20.168331  \n26               105         28,748  41.153332  20.168331  \n27               105         28,748  41.153332  20.168331  \n28               105         28,748  41.153332  20.168331  \n29               105         28,748  41.153332  20.168331  \n30               105         28,748  41.153332  20.168331  \n31               105         28,748  41.153332  20.168331  \n32               105         28,748  41.153332  20.168331  \n33               105         28,748  41.153332  20.168331  \n34               105         28,748  41.153332  20.168331  \n35               105         28,748  41.153332  20.168331  \n36               105         28,748  41.153332  20.168331  \n37               105         28,748  41.153332  20.168331  \n38               105         28,748  41.153332  20.168331  \n39               105         28,748  41.153332  20.168331  \n40               105         28,748  41.153332  20.168331  \n41               105         28,748  41.153332  20.168331  \n42                18      23,81,741  28.033886   1.659626  \n43                18      23,81,741  28.033886   1.659626  \n44                18      23,81,741  28.033886   1.659626  \n\n[45 rows x 21 columns]",
      "text/html": "<div>\n<style scoped>\n    .dataframe tbody tr th:only-of-type {\n        vertical-align: middle;\n    }\n\n    .dataframe tbody tr th {\n        vertical-align: top;\n    }\n\n    .dataframe thead th {\n        text-align: right;\n    }\n</style>\n<table border=\"1\" class=\"dataframe\">\n  <thead>\n    <tr style=\"text-align: right;\">\n      <th></th>\n      <th>Entity</th>\n      <th>Year</th>\n      <th>Access to electricity (% of population)</th>\n      <th>Access to clean fuels for cooking</th>\n      <th>Renewable-electricity-generating-capacity-per-capita</th>\n      <th>Financial flows to developing countries (US $)</th>\n      <th>Renewable energy share in the total final energy consumption (%)</th>\n      <th>Electricity from fossil fuels (TWh)</th>\n      <th>Electricity from nuclear (TWh)</th>\n      <th>Electricity from renewables (TWh)</th>\n      <th>...</th>\n      <th>Primary energy consumption per capita (kWh/person)</th>\n      <th>Energy intensity level of primary energy (MJ/$2017 PPP GDP)</th>\n      <th>Value_co2_emissions_kt_by_country</th>\n      <th>Renewables (% equivalent primary energy)</th>\n      <th>gdp_growth</th>\n      <th>gdp_per_capita</th>\n      <th>Density\\n(P/Km2)</th>\n      <th>Land Area(Km2)</th>\n      <th>Latitude</th>\n      <th>Longitude</th>\n    </tr>\n  </thead>\n  <tbody>\n    <tr>\n      <th>0</th>\n      <td>Afghanistan</td>\n      <td>2000</td>\n      <td>1.613591</td>\n      <td>6.20</td>\n      <td>9.22</td>\n      <td>20000.0</td>\n      <td>44.99</td>\n      <td>0.16</td>\n      <td>0.0</td>\n      <td>0.31</td>\n      <td>...</td>\n      <td>302.59482</td>\n      <td>1.64</td>\n      <td>760.000000</td>\n      <td>NaN</td>\n      <td>NaN</td>\n      <td>NaN</td>\n      <td>60</td>\n      <td>6,52,230</td>\n      <td>33.939110</td>\n      <td>67.709953</td>\n    </tr>\n    <tr>\n      <th>1</th>\n      <td>Afghanistan</td>\n      <td>2001</td>\n      <td>4.074574</td>\n      <td>7.20</td>\n      <td>8.86</td>\n      <td>130000.0</td>\n      <td>45.60</td>\n      <td>0.09</td>\n      <td>0.0</td>\n      <td>0.50</td>\n      <td>...</td>\n      <td>236.89185</td>\n      <td>1.74</td>\n      <td>730.000000</td>\n      <td>NaN</td>\n      <td>NaN</td>\n      <td>NaN</td>\n      <td>60</td>\n      <td>6,52,230</td>\n      <td>33.939110</td>\n      <td>67.709953</td>\n    </tr>\n    <tr>\n      <th>2</th>\n      <td>Afghanistan</td>\n      <td>2002</td>\n      <td>9.409158</td>\n      <td>8.20</td>\n      <td>8.47</td>\n      <td>3950000.0</td>\n      <td>37.83</td>\n      <td>0.13</td>\n      <td>0.0</td>\n      <td>0.56</td>\n      <td>...</td>\n      <td>210.86215</td>\n      <td>1.40</td>\n      <td>1029.999971</td>\n      <td>NaN</td>\n      <td>NaN</td>\n      <td>179.426579</td>\n      <td>60</td>\n      <td>6,52,230</td>\n      <td>33.939110</td>\n      <td>67.709953</td>\n    </tr>\n    <tr>\n      <th>3</th>\n      <td>Afghanistan</td>\n      <td>2003</td>\n      <td>14.738506</td>\n      <td>9.50</td>\n      <td>8.09</td>\n      <td>25970000.0</td>\n      <td>36.66</td>\n      <td>0.31</td>\n      <td>0.0</td>\n      <td>0.63</td>\n      <td>...</td>\n      <td>229.96822</td>\n      <td>1.40</td>\n      <td>1220.000029</td>\n      <td>NaN</td>\n      <td>8.832278</td>\n      <td>190.683814</td>\n      <td>60</td>\n      <td>6,52,230</td>\n      <td>33.939110</td>\n      <td>67.709953</td>\n    </tr>\n    <tr>\n      <th>4</th>\n      <td>Afghanistan</td>\n      <td>2004</td>\n      <td>20.064968</td>\n      <td>10.90</td>\n      <td>7.75</td>\n      <td>NaN</td>\n      <td>44.24</td>\n      <td>0.33</td>\n      <td>0.0</td>\n      <td>0.56</td>\n      <td>...</td>\n      <td>204.23125</td>\n      <td>1.20</td>\n      <td>1029.999971</td>\n      <td>NaN</td>\n      <td>1.414118</td>\n      <td>211.382074</td>\n      <td>60</td>\n      <td>6,52,230</td>\n      <td>33.939110</td>\n      <td>67.709953</td>\n    </tr>\n    <tr>\n      <th>5</th>\n      <td>Afghanistan</td>\n      <td>2005</td>\n      <td>25.390894</td>\n      <td>12.20</td>\n      <td>7.51</td>\n      <td>9830000.0</td>\n      <td>33.88</td>\n      <td>0.34</td>\n      <td>0.0</td>\n      <td>0.59</td>\n      <td>...</td>\n      <td>252.06912</td>\n      <td>1.41</td>\n      <td>1549.999952</td>\n      <td>NaN</td>\n      <td>11.229715</td>\n      <td>242.031313</td>\n      <td>60</td>\n      <td>6,52,230</td>\n      <td>33.939110</td>\n      <td>67.709953</td>\n    </tr>\n    <tr>\n      <th>6</th>\n      <td>Afghanistan</td>\n      <td>2006</td>\n      <td>30.718690</td>\n      <td>13.85</td>\n      <td>7.40</td>\n      <td>10620000.0</td>\n      <td>31.89</td>\n      <td>0.20</td>\n      <td>0.0</td>\n      <td>0.64</td>\n      <td>...</td>\n      <td>304.42090</td>\n      <td>1.50</td>\n      <td>1759.999990</td>\n      <td>NaN</td>\n      <td>5.357403</td>\n      <td>263.733602</td>\n      <td>60</td>\n      <td>6,52,230</td>\n      <td>33.939110</td>\n      <td>67.709953</td>\n    </tr>\n    <tr>\n      <th>7</th>\n      <td>Afghanistan</td>\n      <td>2007</td>\n      <td>36.051010</td>\n      <td>15.30</td>\n      <td>7.25</td>\n      <td>15750000.0</td>\n      <td>28.78</td>\n      <td>0.20</td>\n      <td>0.0</td>\n      <td>0.75</td>\n      <td>...</td>\n      <td>354.27990</td>\n      <td>1.53</td>\n      <td>1769.999981</td>\n      <td>NaN</td>\n      <td>13.826320</td>\n      <td>359.693158</td>\n      <td>60</td>\n      <td>6,52,230</td>\n      <td>33.939110</td>\n      <td>67.709953</td>\n    </tr>\n    <tr>\n      <th>8</th>\n      <td>Afghanistan</td>\n      <td>2008</td>\n      <td>42.400000</td>\n      <td>16.70</td>\n      <td>7.49</td>\n      <td>16170000.0</td>\n      <td>21.17</td>\n      <td>0.19</td>\n      <td>0.0</td>\n      <td>0.54</td>\n      <td>...</td>\n      <td>607.83350</td>\n      <td>1.94</td>\n      <td>3559.999943</td>\n      <td>NaN</td>\n      <td>3.924984</td>\n      <td>364.663542</td>\n      <td>60</td>\n      <td>6,52,230</td>\n      <td>33.939110</td>\n      <td>67.709953</td>\n    </tr>\n    <tr>\n      <th>9</th>\n      <td>Afghanistan</td>\n      <td>2009</td>\n      <td>46.740050</td>\n      <td>18.40</td>\n      <td>7.50</td>\n      <td>9960000.0</td>\n      <td>16.53</td>\n      <td>0.16</td>\n      <td>0.0</td>\n      <td>0.78</td>\n      <td>...</td>\n      <td>975.04816</td>\n      <td>2.25</td>\n      <td>4880.000114</td>\n      <td>NaN</td>\n      <td>21.390528</td>\n      <td>437.268740</td>\n      <td>60</td>\n      <td>6,52,230</td>\n      <td>33.939110</td>\n      <td>67.709953</td>\n    </tr>\n    <tr>\n      <th>10</th>\n      <td>Afghanistan</td>\n      <td>2010</td>\n      <td>42.700000</td>\n      <td>20.00</td>\n      <td>8.27</td>\n      <td>36500000.0</td>\n      <td>15.15</td>\n      <td>0.19</td>\n      <td>0.0</td>\n      <td>0.75</td>\n      <td>...</td>\n      <td>1182.89200</td>\n      <td>2.46</td>\n      <td>7110.000134</td>\n      <td>NaN</td>\n      <td>14.362441</td>\n      <td>543.306526</td>\n      <td>60</td>\n      <td>6,52,230</td>\n      <td>33.939110</td>\n      <td>67.709953</td>\n    </tr>\n    <tr>\n      <th>11</th>\n      <td>Afghanistan</td>\n      <td>2011</td>\n      <td>43.222020</td>\n      <td>21.80</td>\n      <td>8.13</td>\n      <td>28690000.0</td>\n      <td>12.61</td>\n      <td>0.18</td>\n      <td>0.0</td>\n      <td>0.60</td>\n      <td>...</td>\n      <td>1436.11430</td>\n      <td>3.23</td>\n      <td>8930.000305</td>\n      <td>NaN</td>\n      <td>0.426355</td>\n      <td>591.190030</td>\n      <td>60</td>\n      <td>6,52,230</td>\n      <td>33.939110</td>\n      <td>67.709953</td>\n    </tr>\n    <tr>\n      <th>12</th>\n      <td>Afghanistan</td>\n      <td>2012</td>\n      <td>69.100000</td>\n      <td>23.00</td>\n      <td>9.29</td>\n      <td>62630000.0</td>\n      <td>15.36</td>\n      <td>0.14</td>\n      <td>0.0</td>\n      <td>0.74</td>\n      <td>...</td>\n      <td>1324.12110</td>\n      <td>2.61</td>\n      <td>8079.999924</td>\n      <td>NaN</td>\n      <td>12.752287</td>\n      <td>638.845852</td>\n      <td>60</td>\n      <td>6,52,230</td>\n      <td>33.939110</td>\n      <td>67.709953</td>\n    </tr>\n    <tr>\n      <th>13</th>\n      <td>Afghanistan</td>\n      <td>2013</td>\n      <td>68.290650</td>\n      <td>24.80</td>\n      <td>9.10</td>\n      <td>268460000.0</td>\n      <td>16.86</td>\n      <td>0.22</td>\n      <td>0.0</td>\n      <td>0.89</td>\n      <td>...</td>\n      <td>1060.79260</td>\n      <td>2.46</td>\n      <td>5989.999771</td>\n      <td>NaN</td>\n      <td>5.600745</td>\n      <td>624.315454</td>\n      <td>60</td>\n      <td>6,52,230</td>\n      <td>33.939110</td>\n      <td>67.709953</td>\n    </tr>\n    <tr>\n      <th>14</th>\n      <td>Afghanistan</td>\n      <td>2014</td>\n      <td>89.500000</td>\n      <td>26.10</td>\n      <td>8.95</td>\n      <td>6940000.0</td>\n      <td>18.93</td>\n      <td>0.16</td>\n      <td>0.0</td>\n      <td>1.00</td>\n      <td>...</td>\n      <td>868.57620</td>\n      <td>2.25</td>\n      <td>4880.000114</td>\n      <td>NaN</td>\n      <td>2.724543</td>\n      <td>614.223342</td>\n      <td>60</td>\n      <td>6,52,230</td>\n      <td>33.939110</td>\n      <td>67.709953</td>\n    </tr>\n    <tr>\n      <th>15</th>\n      <td>Afghanistan</td>\n      <td>2015</td>\n      <td>71.500000</td>\n      <td>27.40</td>\n      <td>8.79</td>\n      <td>4890000.0</td>\n      <td>17.53</td>\n      <td>0.15</td>\n      <td>0.0</td>\n      <td>1.03</td>\n      <td>...</td>\n      <td>970.08030</td>\n      <td>2.37</td>\n      <td>5949.999809</td>\n      <td>NaN</td>\n      <td>1.451315</td>\n      <td>556.007221</td>\n      <td>60</td>\n      <td>6,52,230</td>\n      <td>33.939110</td>\n      <td>67.709953</td>\n    </tr>\n    <tr>\n      <th>16</th>\n      <td>Afghanistan</td>\n      <td>2016</td>\n      <td>97.700000</td>\n      <td>28.60</td>\n      <td>9.87</td>\n      <td>860000.0</td>\n      <td>19.92</td>\n      <td>0.15</td>\n      <td>0.0</td>\n      <td>1.06</td>\n      <td>...</td>\n      <td>862.79114</td>\n      <td>2.24</td>\n      <td>5300.000191</td>\n      <td>NaN</td>\n      <td>2.260314</td>\n      <td>512.012778</td>\n      <td>60</td>\n      <td>6,52,230</td>\n      <td>33.939110</td>\n      <td>67.709953</td>\n    </tr>\n    <tr>\n      <th>17</th>\n      <td>Afghanistan</td>\n      <td>2017</td>\n      <td>97.700000</td>\n      <td>29.70</td>\n      <td>9.79</td>\n      <td>50330000.0</td>\n      <td>19.21</td>\n      <td>0.18</td>\n      <td>0.0</td>\n      <td>1.09</td>\n      <td>...</td>\n      <td>829.31195</td>\n      <td>2.30</td>\n      <td>4780.000210</td>\n      <td>NaN</td>\n      <td>2.647003</td>\n      <td>516.679862</td>\n      <td>60</td>\n      <td>6,52,230</td>\n      <td>33.939110</td>\n      <td>67.709953</td>\n    </tr>\n    <tr>\n      <th>18</th>\n      <td>Afghanistan</td>\n      <td>2018</td>\n      <td>96.616135</td>\n      <td>30.90</td>\n      <td>9.55</td>\n      <td>70100000.0</td>\n      <td>17.96</td>\n      <td>0.20</td>\n      <td>0.0</td>\n      <td>0.97</td>\n      <td>...</td>\n      <td>924.25085</td>\n      <td>2.44</td>\n      <td>6070.000172</td>\n      <td>NaN</td>\n      <td>1.189228</td>\n      <td>485.668419</td>\n      <td>60</td>\n      <td>6,52,230</td>\n      <td>33.939110</td>\n      <td>67.709953</td>\n    </tr>\n    <tr>\n      <th>19</th>\n      <td>Afghanistan</td>\n      <td>2019</td>\n      <td>97.700000</td>\n      <td>31.90</td>\n      <td>9.58</td>\n      <td>4620000.0</td>\n      <td>18.51</td>\n      <td>0.18</td>\n      <td>0.0</td>\n      <td>0.89</td>\n      <td>...</td>\n      <td>802.61255</td>\n      <td>2.41</td>\n      <td>6079.999924</td>\n      <td>NaN</td>\n      <td>3.911603</td>\n      <td>494.179350</td>\n      <td>60</td>\n      <td>6,52,230</td>\n      <td>33.939110</td>\n      <td>67.709953</td>\n    </tr>\n    <tr>\n      <th>20</th>\n      <td>Afghanistan</td>\n      <td>2020</td>\n      <td>97.700000</td>\n      <td>33.20</td>\n      <td>9.35</td>\n      <td>NaN</td>\n      <td>NaN</td>\n      <td>0.12</td>\n      <td>0.0</td>\n      <td>0.68</td>\n      <td>...</td>\n      <td>702.88800</td>\n      <td>NaN</td>\n      <td>NaN</td>\n      <td>NaN</td>\n      <td>-2.351101</td>\n      <td>516.747871</td>\n      <td>60</td>\n      <td>6,52,230</td>\n      <td>33.939110</td>\n      <td>67.709953</td>\n    </tr>\n    <tr>\n      <th>21</th>\n      <td>Albania</td>\n      <td>2000</td>\n      <td>100.000000</td>\n      <td>38.20</td>\n      <td>NaN</td>\n      <td>NaN</td>\n      <td>NaN</td>\n      <td>0.14</td>\n      <td>0.0</td>\n      <td>4.55</td>\n      <td>...</td>\n      <td>9029.43750</td>\n      <td>4.13</td>\n      <td>3170.000000</td>\n      <td>NaN</td>\n      <td>6.946217</td>\n      <td>1126.683340</td>\n      <td>105</td>\n      <td>28,748</td>\n      <td>41.153332</td>\n      <td>20.168331</td>\n    </tr>\n    <tr>\n      <th>22</th>\n      <td>Albania</td>\n      <td>2001</td>\n      <td>100.000000</td>\n      <td>40.50</td>\n      <td>NaN</td>\n      <td>NaN</td>\n      <td>NaN</td>\n      <td>0.13</td>\n      <td>0.0</td>\n      <td>3.52</td>\n      <td>...</td>\n      <td>8635.53200</td>\n      <td>3.89</td>\n      <td>3230.000000</td>\n      <td>NaN</td>\n      <td>8.293313</td>\n      <td>1281.659826</td>\n      <td>105</td>\n      <td>28,748</td>\n      <td>41.153332</td>\n      <td>20.168331</td>\n    </tr>\n    <tr>\n      <th>23</th>\n      <td>Albania</td>\n      <td>2002</td>\n      <td>100.000000</td>\n      <td>43.20</td>\n      <td>NaN</td>\n      <td>NaN</td>\n      <td>NaN</td>\n      <td>0.16</td>\n      <td>0.0</td>\n      <td>3.48</td>\n      <td>...</td>\n      <td>9443.55500</td>\n      <td>4.10</td>\n      <td>3759.999990</td>\n      <td>NaN</td>\n      <td>4.536524</td>\n      <td>1425.124219</td>\n      <td>105</td>\n      <td>28,748</td>\n      <td>41.153332</td>\n      <td>20.168331</td>\n    </tr>\n    <tr>\n      <th>24</th>\n      <td>Albania</td>\n      <td>2003</td>\n      <td>100.000000</td>\n      <td>46.40</td>\n      <td>NaN</td>\n      <td>NaN</td>\n      <td>NaN</td>\n      <td>0.10</td>\n      <td>0.0</td>\n      <td>5.12</td>\n      <td>...</td>\n      <td>10756.61200</td>\n      <td>3.80</td>\n      <td>4070.000172</td>\n      <td>NaN</td>\n      <td>5.528637</td>\n      <td>1846.120121</td>\n      <td>105</td>\n      <td>28,748</td>\n      <td>41.153332</td>\n      <td>20.168331</td>\n    </tr>\n    <tr>\n      <th>25</th>\n      <td>Albania</td>\n      <td>2004</td>\n      <td>100.000000</td>\n      <td>49.00</td>\n      <td>NaN</td>\n      <td>NaN</td>\n      <td>NaN</td>\n      <td>0.13</td>\n      <td>0.0</td>\n      <td>5.41</td>\n      <td>...</td>\n      <td>11586.95100</td>\n      <td>3.96</td>\n      <td>4250.000000</td>\n      <td>NaN</td>\n      <td>5.514668</td>\n      <td>2373.581292</td>\n      <td>105</td>\n      <td>28,748</td>\n      <td>41.153332</td>\n      <td>20.168331</td>\n    </tr>\n    <tr>\n      <th>26</th>\n      <td>Albania</td>\n      <td>2005</td>\n      <td>100.000000</td>\n      <td>51.90</td>\n      <td>NaN</td>\n      <td>NaN</td>\n      <td>NaN</td>\n      <td>0.07</td>\n      <td>0.0</td>\n      <td>5.32</td>\n      <td>...</td>\n      <td>11545.61600</td>\n      <td>3.75</td>\n      <td>4030.000210</td>\n      <td>NaN</td>\n      <td>5.526424</td>\n      <td>2673.786584</td>\n      <td>105</td>\n      <td>28,748</td>\n      <td>41.153332</td>\n      <td>20.168331</td>\n    </tr>\n    <tr>\n      <th>27</th>\n      <td>Albania</td>\n      <td>2006</td>\n      <td>100.000000</td>\n      <td>54.80</td>\n      <td>NaN</td>\n      <td>NaN</td>\n      <td>NaN</td>\n      <td>0.09</td>\n      <td>0.0</td>\n      <td>4.95</td>\n      <td>...</td>\n      <td>10976.72800</td>\n      <td>3.46</td>\n      <td>4010.000229</td>\n      <td>NaN</td>\n      <td>5.902659</td>\n      <td>2972.742924</td>\n      <td>105</td>\n      <td>28,748</td>\n      <td>41.153332</td>\n      <td>20.168331</td>\n    </tr>\n    <tr>\n      <th>28</th>\n      <td>Albania</td>\n      <td>2007</td>\n      <td>100.000000</td>\n      <td>58.10</td>\n      <td>NaN</td>\n      <td>NaN</td>\n      <td>NaN</td>\n      <td>0.07</td>\n      <td>0.0</td>\n      <td>2.76</td>\n      <td>...</td>\n      <td>9534.87400</td>\n      <td>3.12</td>\n      <td>4139.999866</td>\n      <td>NaN</td>\n      <td>5.983260</td>\n      <td>3595.038057</td>\n      <td>105</td>\n      <td>28,748</td>\n      <td>41.153332</td>\n      <td>20.168331</td>\n    </tr>\n    <tr>\n      <th>29</th>\n      <td>Albania</td>\n      <td>2008</td>\n      <td>100.000000</td>\n      <td>60.80</td>\n      <td>NaN</td>\n      <td>NaN</td>\n      <td>NaN</td>\n      <td>0.07</td>\n      <td>0.0</td>\n      <td>3.76</td>\n      <td>...</td>\n      <td>10499.32800</td>\n      <td>3.01</td>\n      <td>4079.999924</td>\n      <td>NaN</td>\n      <td>7.500041</td>\n      <td>4370.539925</td>\n      <td>105</td>\n      <td>28,748</td>\n      <td>41.153332</td>\n      <td>20.168331</td>\n    </tr>\n    <tr>\n      <th>30</th>\n      <td>Albania</td>\n      <td>2009</td>\n      <td>100.000000</td>\n      <td>63.60</td>\n      <td>NaN</td>\n      <td>NaN</td>\n      <td>NaN</td>\n      <td>0.00</td>\n      <td>0.0</td>\n      <td>5.20</td>\n      <td>...</td>\n      <td>11524.42800</td>\n      <td>2.98</td>\n      <td>4219.999790</td>\n      <td>NaN</td>\n      <td>3.354289</td>\n      <td>4114.134899</td>\n      <td>105</td>\n      <td>28,748</td>\n      <td>41.153332</td>\n      <td>20.168331</td>\n    </tr>\n    <tr>\n      <th>31</th>\n      <td>Albania</td>\n      <td>2010</td>\n      <td>100.000000</td>\n      <td>66.50</td>\n      <td>NaN</td>\n      <td>NaN</td>\n      <td>NaN</td>\n      <td>0.00</td>\n      <td>0.0</td>\n      <td>7.49</td>\n      <td>...</td>\n      <td>12377.50400</td>\n      <td>2.85</td>\n      <td>4449.999809</td>\n      <td>NaN</td>\n      <td>3.706938</td>\n      <td>4094.348386</td>\n      <td>105</td>\n      <td>28,748</td>\n      <td>41.153332</td>\n      <td>20.168331</td>\n    </tr>\n    <tr>\n      <th>32</th>\n      <td>Albania</td>\n      <td>2011</td>\n      <td>100.000000</td>\n      <td>68.90</td>\n      <td>NaN</td>\n      <td>NaN</td>\n      <td>NaN</td>\n      <td>0.06</td>\n      <td>0.0</td>\n      <td>4.09</td>\n      <td>...</td>\n      <td>10854.64900</td>\n      <td>2.91</td>\n      <td>4849.999905</td>\n      <td>NaN</td>\n      <td>2.545406</td>\n      <td>4437.142612</td>\n      <td>105</td>\n      <td>28,748</td>\n      <td>41.153332</td>\n      <td>20.168331</td>\n    </tr>\n    <tr>\n      <th>33</th>\n      <td>Albania</td>\n      <td>2012</td>\n      <td>99.900000</td>\n      <td>71.30</td>\n      <td>NaN</td>\n      <td>NaN</td>\n      <td>NaN</td>\n      <td>0.00</td>\n      <td>0.0</td>\n      <td>4.68</td>\n      <td>...</td>\n      <td>10652.80900</td>\n      <td>2.57</td>\n      <td>4360.000134</td>\n      <td>NaN</td>\n      <td>1.417243</td>\n      <td>4247.630047</td>\n      <td>105</td>\n      <td>28,748</td>\n      <td>41.153332</td>\n      <td>20.168331</td>\n    </tr>\n    <tr>\n      <th>34</th>\n      <td>Albania</td>\n      <td>2013</td>\n      <td>100.000000</td>\n      <td>73.15</td>\n      <td>NaN</td>\n      <td>NaN</td>\n      <td>NaN</td>\n      <td>0.00</td>\n      <td>0.0</td>\n      <td>6.89</td>\n      <td>...</td>\n      <td>13392.77400</td>\n      <td>2.96</td>\n      <td>4440.000057</td>\n      <td>NaN</td>\n      <td>1.002018</td>\n      <td>4413.062005</td>\n      <td>105</td>\n      <td>28,748</td>\n      <td>41.153332</td>\n      <td>20.168331</td>\n    </tr>\n    <tr>\n      <th>35</th>\n      <td>Albania</td>\n      <td>2014</td>\n      <td>99.950000</td>\n      <td>74.60</td>\n      <td>NaN</td>\n      <td>NaN</td>\n      <td>NaN</td>\n      <td>0.00</td>\n      <td>0.0</td>\n      <td>4.68</td>\n      <td>...</td>\n      <td>11809.46100</td>\n      <td>2.93</td>\n      <td>4820.000172</td>\n      <td>NaN</td>\n      <td>1.774449</td>\n      <td>4578.633208</td>\n      <td>105</td>\n      <td>28,748</td>\n      <td>41.153332</td>\n      <td>20.168331</td>\n    </tr>\n    <tr>\n      <th>36</th>\n      <td>Albania</td>\n      <td>2015</td>\n      <td>99.980000</td>\n      <td>76.20</td>\n      <td>NaN</td>\n      <td>NaN</td>\n      <td>NaN</td>\n      <td>0.00</td>\n      <td>0.0</td>\n      <td>5.84</td>\n      <td>...</td>\n      <td>11824.31400</td>\n      <td>2.69</td>\n      <td>4619.999886</td>\n      <td>NaN</td>\n      <td>2.218726</td>\n      <td>3952.802538</td>\n      <td>105</td>\n      <td>28,748</td>\n      <td>41.153332</td>\n      <td>20.168331</td>\n    </tr>\n    <tr>\n      <th>37</th>\n      <td>Albania</td>\n      <td>2016</td>\n      <td>99.890000</td>\n      <td>77.80</td>\n      <td>NaN</td>\n      <td>NaN</td>\n      <td>NaN</td>\n      <td>0.00</td>\n      <td>0.0</td>\n      <td>7.70</td>\n      <td>...</td>\n      <td>13823.74800</td>\n      <td>2.68</td>\n      <td>4480.000019</td>\n      <td>NaN</td>\n      <td>3.314981</td>\n      <td>4124.055390</td>\n      <td>105</td>\n      <td>28,748</td>\n      <td>41.153332</td>\n      <td>20.168331</td>\n    </tr>\n    <tr>\n      <th>38</th>\n      <td>Albania</td>\n      <td>2017</td>\n      <td>99.890000</td>\n      <td>78.70</td>\n      <td>NaN</td>\n      <td>NaN</td>\n      <td>NaN</td>\n      <td>0.00</td>\n      <td>0.0</td>\n      <td>4.48</td>\n      <td>...</td>\n      <td>12802.36000</td>\n      <td>2.69</td>\n      <td>5139.999866</td>\n      <td>NaN</td>\n      <td>3.802227</td>\n      <td>4531.019374</td>\n      <td>105</td>\n      <td>28,748</td>\n      <td>41.153332</td>\n      <td>20.168331</td>\n    </tr>\n    <tr>\n      <th>39</th>\n      <td>Albania</td>\n      <td>2018</td>\n      <td>100.000000</td>\n      <td>79.80</td>\n      <td>NaN</td>\n      <td>NaN</td>\n      <td>NaN</td>\n      <td>0.00</td>\n      <td>0.0</td>\n      <td>8.47</td>\n      <td>...</td>\n      <td>14609.70100</td>\n      <td>2.57</td>\n      <td>5110.000134</td>\n      <td>NaN</td>\n      <td>4.019360</td>\n      <td>5287.663694</td>\n      <td>105</td>\n      <td>28,748</td>\n      <td>41.153332</td>\n      <td>20.168331</td>\n    </tr>\n    <tr>\n      <th>40</th>\n      <td>Albania</td>\n      <td>2019</td>\n      <td>100.000000</td>\n      <td>80.70</td>\n      <td>NaN</td>\n      <td>NaN</td>\n      <td>NaN</td>\n      <td>0.00</td>\n      <td>0.0</td>\n      <td>5.17</td>\n      <td>...</td>\n      <td>11585.55500</td>\n      <td>2.50</td>\n      <td>4829.999924</td>\n      <td>NaN</td>\n      <td>2.113420</td>\n      <td>5395.659532</td>\n      <td>105</td>\n      <td>28,748</td>\n      <td>41.153332</td>\n      <td>20.168331</td>\n    </tr>\n    <tr>\n      <th>41</th>\n      <td>Albania</td>\n      <td>2020</td>\n      <td>100.000000</td>\n      <td>81.30</td>\n      <td>NaN</td>\n      <td>NaN</td>\n      <td>NaN</td>\n      <td>0.00</td>\n      <td>0.0</td>\n      <td>5.31</td>\n      <td>...</td>\n      <td>11158.00300</td>\n      <td>NaN</td>\n      <td>NaN</td>\n      <td>NaN</td>\n      <td>-3.955398</td>\n      <td>5246.292306</td>\n      <td>105</td>\n      <td>28,748</td>\n      <td>41.153332</td>\n      <td>20.168331</td>\n    </tr>\n    <tr>\n      <th>42</th>\n      <td>Algeria</td>\n      <td>2000</td>\n      <td>98.973100</td>\n      <td>97.10</td>\n      <td>8.91</td>\n      <td>NaN</td>\n      <td>0.43</td>\n      <td>23.84</td>\n      <td>0.0</td>\n      <td>0.05</td>\n      <td>...</td>\n      <td>9746.52400</td>\n      <td>4.18</td>\n      <td>80050.000000</td>\n      <td>0.053235</td>\n      <td>3.800000</td>\n      <td>1765.027146</td>\n      <td>18</td>\n      <td>23,81,741</td>\n      <td>28.033886</td>\n      <td>1.659626</td>\n    </tr>\n    <tr>\n      <th>43</th>\n      <td>Algeria</td>\n      <td>2001</td>\n      <td>98.966870</td>\n      <td>97.30</td>\n      <td>8.79</td>\n      <td>810000.0</td>\n      <td>0.43</td>\n      <td>24.96</td>\n      <td>0.0</td>\n      <td>0.07</td>\n      <td>...</td>\n      <td>9961.64000</td>\n      <td>4.07</td>\n      <td>78650.000000</td>\n      <td>0.065218</td>\n      <td>3.000000</td>\n      <td>1740.606654</td>\n      <td>18</td>\n      <td>23,81,741</td>\n      <td>28.033886</td>\n      <td>1.659626</td>\n    </tr>\n    <tr>\n      <th>44</th>\n      <td>Algeria</td>\n      <td>2002</td>\n      <td>98.953060</td>\n      <td>97.80</td>\n      <td>8.68</td>\n      <td>310000.0</td>\n      <td>0.51</td>\n      <td>25.94</td>\n      <td>0.0</td>\n      <td>0.06</td>\n      <td>...</td>\n      <td>10180.35000</td>\n      <td>4.12</td>\n      <td>82400.001530</td>\n      <td>0.051677</td>\n      <td>5.600000</td>\n      <td>1781.828908</td>\n      <td>18</td>\n      <td>23,81,741</td>\n      <td>28.033886</td>\n      <td>1.659626</td>\n    </tr>\n  </tbody>\n</table>\n<p>45 rows × 21 columns</p>\n</div>"
     },
     "execution_count": 66,
     "metadata": {},
     "output_type": "execute_result"
    }
   ],
   "source": [
    "df = pd.read_csv(\"ENERGY_data.csv\")\n",
    "energy_data = df\n",
    "# To display the top 42 rows\n",
    "energy_data.head(45)"
   ],
   "metadata": {
    "collapsed": false,
    "ExecuteTime": {
     "end_time": "2024-01-21T14:17:39.600459300Z",
     "start_time": "2024-01-21T14:17:37.302637500Z"
    }
   }
  },
  {
   "cell_type": "code",
   "execution_count": 67,
   "outputs": [
    {
     "name": "stdout",
     "output_type": "stream",
     "text": [
      "<class 'pandas.core.frame.DataFrame'>\n",
      "RangeIndex: 3649 entries, 0 to 3648\n",
      "Data columns (total 21 columns):\n",
      " #   Column                                                            Non-Null Count  Dtype  \n",
      "---  ------                                                            --------------  -----  \n",
      " 0   Entity                                                            3649 non-null   object \n",
      " 1   Year                                                              3649 non-null   int64  \n",
      " 2   Access to electricity (% of population)                           3639 non-null   float64\n",
      " 3   Access to clean fuels for cooking                                 3480 non-null   float64\n",
      " 4   Renewable-electricity-generating-capacity-per-capita              2718 non-null   float64\n",
      " 5   Financial flows to developing countries (US $)                    1560 non-null   float64\n",
      " 6   Renewable energy share in the total final energy consumption (%)  3455 non-null   float64\n",
      " 7   Electricity from fossil fuels (TWh)                               3628 non-null   float64\n",
      " 8   Electricity from nuclear (TWh)                                    3523 non-null   float64\n",
      " 9   Electricity from renewables (TWh)                                 3628 non-null   float64\n",
      " 10  Low-carbon electricity (% electricity)                            3607 non-null   float64\n",
      " 11  Primary energy consumption per capita (kWh/person)                3649 non-null   float64\n",
      " 12  Energy intensity level of primary energy (MJ/$2017 PPP GDP)       3442 non-null   float64\n",
      " 13  Value_co2_emissions_kt_by_country                                 3221 non-null   float64\n",
      " 14  Renewables (% equivalent primary energy)                          1512 non-null   float64\n",
      " 15  gdp_growth                                                        3332 non-null   float64\n",
      " 16  gdp_per_capita                                                    3367 non-null   float64\n",
      " 17  Density\\n(P/Km2)                                                  3648 non-null   object \n",
      " 18  Land Area(Km2)                                                    3648 non-null   object \n",
      " 19  Latitude                                                          3648 non-null   float64\n",
      " 20  Longitude                                                         3648 non-null   float64\n",
      "dtypes: float64(17), int64(1), object(3)\n",
      "memory usage: 598.8+ KB\n"
     ]
    }
   ],
   "source": [
    "#Checking null values and types of the parameters\n",
    "energy_data.info()"
   ],
   "metadata": {
    "collapsed": false,
    "ExecuteTime": {
     "end_time": "2024-01-21T14:17:39.711739400Z",
     "start_time": "2024-01-21T14:17:37.367434100Z"
    }
   }
  },
  {
   "cell_type": "code",
   "execution_count": 68,
   "outputs": [
    {
     "data": {
      "text/plain": "                                                     count          mean  \\\nYear                                                3649.0  2.010038e+03   \nAccess to electricity (% of population)             3639.0  7.893370e+01   \nAccess to clean fuels for cooking                   3480.0  6.325529e+01   \nRenewable-electricity-generating-capacity-per-c...  2718.0  1.131375e+02   \nFinancial flows to developing countries (US $)      1560.0  9.422400e+07   \nRenewable energy share in the total final energ...  3455.0  3.263816e+01   \nElectricity from fossil fuels (TWh)                 3628.0  7.036500e+01   \nElectricity from nuclear (TWh)                      3523.0  1.345019e+01   \nElectricity from renewables (TWh)                   3628.0  2.396801e+01   \nLow-carbon electricity (% electricity)              3607.0  3.680118e+01   \nPrimary energy consumption per capita (kWh/person)  3649.0  2.574398e+04   \nEnergy intensity level of primary energy (MJ/$2...  3442.0  5.307345e+00   \nValue_co2_emissions_kt_by_country                   3221.0  1.598665e+05   \nRenewables (% equivalent primary energy)            1512.0  1.198671e+01   \ngdp_growth                                          3332.0  3.441610e+00   \ngdp_per_capita                                      3367.0  1.328377e+04   \nLatitude                                            3648.0  1.824639e+01   \nLongitude                                           3648.0  1.482269e+01   \n\n                                                             std          min  \\\nYear                                                6.054228e+00  2000.000000   \nAccess to electricity (% of population)             3.027554e+01     1.252269   \nAccess to clean fuels for cooking                   3.904366e+01     0.000000   \nRenewable-electricity-generating-capacity-per-c...  2.441673e+02     0.000000   \nFinancial flows to developing countries (US $)      2.981544e+08     0.000000   \nRenewable energy share in the total final energ...  2.989490e+01     0.000000   \nElectricity from fossil fuels (TWh)                 3.480519e+02     0.000000   \nElectricity from nuclear (TWh)                      7.300662e+01     0.000000   \nElectricity from renewables (TWh)                   1.044311e+02     0.000000   \nLow-carbon electricity (% electricity)              3.431488e+01     0.000000   \nPrimary energy consumption per capita (kWh/person)  3.477322e+04     0.000000   \nEnergy intensity level of primary energy (MJ/$2...  3.532020e+00     0.110000   \nValue_co2_emissions_kt_by_country                   7.736611e+05    10.000000   \nRenewables (% equivalent primary energy)            1.499464e+01     0.000000   \ngdp_growth                                          5.686720e+00   -62.075920   \ngdp_per_capita                                      1.970987e+04   111.927225   \nLatitude                                            2.415923e+01   -40.900557   \nLongitude                                           6.634815e+01  -175.198242   \n\n                                                              25%  \\\nYear                                                  2005.000000   \nAccess to electricity (% of population)                 59.800890   \nAccess to clean fuels for cooking                       23.175000   \nRenewable-electricity-generating-capacity-per-c...       3.540000   \nFinancial flows to developing countries (US $)      260000.000000   \nRenewable energy share in the total final energ...       6.515000   \nElectricity from fossil fuels (TWh)                      0.290000   \nElectricity from nuclear (TWh)                           0.000000   \nElectricity from renewables (TWh)                        0.040000   \nLow-carbon electricity (% electricity)                   2.877847   \nPrimary energy consumption per capita (kWh/person)    3116.737300   \nEnergy intensity level of primary energy (MJ/$2...       3.170000   \nValue_co2_emissions_kt_by_country                     2019.999981   \nRenewables (% equivalent primary energy)                 2.137095   \ngdp_growth                                               1.383302   \ngdp_per_capita                                        1337.813437   \nLatitude                                                 3.202778   \nLongitude                                              -11.779889   \n\n                                                             50%  \\\nYear                                                2.010000e+03   \nAccess to electricity (% of population)             9.836157e+01   \nAccess to clean fuels for cooking                   8.315000e+01   \nRenewable-electricity-generating-capacity-per-c...  3.291000e+01   \nFinancial flows to developing countries (US $)      5.665000e+06   \nRenewable energy share in the total final energ...  2.330000e+01   \nElectricity from fossil fuels (TWh)                 2.970000e+00   \nElectricity from nuclear (TWh)                      0.000000e+00   \nElectricity from renewables (TWh)                   1.470000e+00   \nLow-carbon electricity (% electricity)              2.786507e+01   \nPrimary energy consumption per capita (kWh/person)  1.312057e+04   \nEnergy intensity level of primary energy (MJ/$2...  4.300000e+00   \nValue_co2_emissions_kt_by_country                   1.050000e+04   \nRenewables (% equivalent primary energy)            6.290766e+00   \ngdp_growth                                          3.559855e+00   \ngdp_per_capita                                      4.578633e+03   \nLatitude                                            1.718988e+01   \nLongitude                                           1.914514e+01   \n\n                                                             75%           max  \nYear                                                2.015000e+03  2.020000e+03  \nAccess to electricity (% of population)             1.000000e+02  1.000000e+02  \nAccess to clean fuels for cooking                   1.000000e+02  1.000000e+02  \nRenewable-electricity-generating-capacity-per-c...  1.122100e+02  3.060190e+03  \nFinancial flows to developing countries (US $)      5.534750e+07  5.202310e+09  \nRenewable energy share in the total final energ...  5.524500e+01  9.604000e+01  \nElectricity from fossil fuels (TWh)                 2.683750e+01  5.184130e+03  \nElectricity from nuclear (TWh)                      0.000000e+00  8.094100e+02  \nElectricity from renewables (TWh)                   9.600000e+00  2.184940e+03  \nLow-carbon electricity (% electricity)              6.440379e+01  1.000000e+02  \nPrimary energy consumption per capita (kWh/person)  3.389278e+04  2.625857e+05  \nEnergy intensity level of primary energy (MJ/$2...  6.027500e+00  3.257000e+01  \nValue_co2_emissions_kt_by_country                   6.058000e+04  1.070722e+07  \nRenewables (% equivalent primary energy)            1.684164e+01  8.683659e+01  \ngdp_growth                                          5.830099e+00  1.231396e+02  \ngdp_per_capita                                      1.576862e+04  1.235142e+05  \nLatitude                                            3.896972e+01  6.496305e+01  \nLongitude                                           4.619962e+01  1.780650e+02  ",
      "text/html": "<div>\n<style scoped>\n    .dataframe tbody tr th:only-of-type {\n        vertical-align: middle;\n    }\n\n    .dataframe tbody tr th {\n        vertical-align: top;\n    }\n\n    .dataframe thead th {\n        text-align: right;\n    }\n</style>\n<table border=\"1\" class=\"dataframe\">\n  <thead>\n    <tr style=\"text-align: right;\">\n      <th></th>\n      <th>count</th>\n      <th>mean</th>\n      <th>std</th>\n      <th>min</th>\n      <th>25%</th>\n      <th>50%</th>\n      <th>75%</th>\n      <th>max</th>\n    </tr>\n  </thead>\n  <tbody>\n    <tr>\n      <th>Year</th>\n      <td>3649.0</td>\n      <td>2.010038e+03</td>\n      <td>6.054228e+00</td>\n      <td>2000.000000</td>\n      <td>2005.000000</td>\n      <td>2.010000e+03</td>\n      <td>2.015000e+03</td>\n      <td>2.020000e+03</td>\n    </tr>\n    <tr>\n      <th>Access to electricity (% of population)</th>\n      <td>3639.0</td>\n      <td>7.893370e+01</td>\n      <td>3.027554e+01</td>\n      <td>1.252269</td>\n      <td>59.800890</td>\n      <td>9.836157e+01</td>\n      <td>1.000000e+02</td>\n      <td>1.000000e+02</td>\n    </tr>\n    <tr>\n      <th>Access to clean fuels for cooking</th>\n      <td>3480.0</td>\n      <td>6.325529e+01</td>\n      <td>3.904366e+01</td>\n      <td>0.000000</td>\n      <td>23.175000</td>\n      <td>8.315000e+01</td>\n      <td>1.000000e+02</td>\n      <td>1.000000e+02</td>\n    </tr>\n    <tr>\n      <th>Renewable-electricity-generating-capacity-per-capita</th>\n      <td>2718.0</td>\n      <td>1.131375e+02</td>\n      <td>2.441673e+02</td>\n      <td>0.000000</td>\n      <td>3.540000</td>\n      <td>3.291000e+01</td>\n      <td>1.122100e+02</td>\n      <td>3.060190e+03</td>\n    </tr>\n    <tr>\n      <th>Financial flows to developing countries (US $)</th>\n      <td>1560.0</td>\n      <td>9.422400e+07</td>\n      <td>2.981544e+08</td>\n      <td>0.000000</td>\n      <td>260000.000000</td>\n      <td>5.665000e+06</td>\n      <td>5.534750e+07</td>\n      <td>5.202310e+09</td>\n    </tr>\n    <tr>\n      <th>Renewable energy share in the total final energy consumption (%)</th>\n      <td>3455.0</td>\n      <td>3.263816e+01</td>\n      <td>2.989490e+01</td>\n      <td>0.000000</td>\n      <td>6.515000</td>\n      <td>2.330000e+01</td>\n      <td>5.524500e+01</td>\n      <td>9.604000e+01</td>\n    </tr>\n    <tr>\n      <th>Electricity from fossil fuels (TWh)</th>\n      <td>3628.0</td>\n      <td>7.036500e+01</td>\n      <td>3.480519e+02</td>\n      <td>0.000000</td>\n      <td>0.290000</td>\n      <td>2.970000e+00</td>\n      <td>2.683750e+01</td>\n      <td>5.184130e+03</td>\n    </tr>\n    <tr>\n      <th>Electricity from nuclear (TWh)</th>\n      <td>3523.0</td>\n      <td>1.345019e+01</td>\n      <td>7.300662e+01</td>\n      <td>0.000000</td>\n      <td>0.000000</td>\n      <td>0.000000e+00</td>\n      <td>0.000000e+00</td>\n      <td>8.094100e+02</td>\n    </tr>\n    <tr>\n      <th>Electricity from renewables (TWh)</th>\n      <td>3628.0</td>\n      <td>2.396801e+01</td>\n      <td>1.044311e+02</td>\n      <td>0.000000</td>\n      <td>0.040000</td>\n      <td>1.470000e+00</td>\n      <td>9.600000e+00</td>\n      <td>2.184940e+03</td>\n    </tr>\n    <tr>\n      <th>Low-carbon electricity (% electricity)</th>\n      <td>3607.0</td>\n      <td>3.680118e+01</td>\n      <td>3.431488e+01</td>\n      <td>0.000000</td>\n      <td>2.877847</td>\n      <td>2.786507e+01</td>\n      <td>6.440379e+01</td>\n      <td>1.000000e+02</td>\n    </tr>\n    <tr>\n      <th>Primary energy consumption per capita (kWh/person)</th>\n      <td>3649.0</td>\n      <td>2.574398e+04</td>\n      <td>3.477322e+04</td>\n      <td>0.000000</td>\n      <td>3116.737300</td>\n      <td>1.312057e+04</td>\n      <td>3.389278e+04</td>\n      <td>2.625857e+05</td>\n    </tr>\n    <tr>\n      <th>Energy intensity level of primary energy (MJ/$2017 PPP GDP)</th>\n      <td>3442.0</td>\n      <td>5.307345e+00</td>\n      <td>3.532020e+00</td>\n      <td>0.110000</td>\n      <td>3.170000</td>\n      <td>4.300000e+00</td>\n      <td>6.027500e+00</td>\n      <td>3.257000e+01</td>\n    </tr>\n    <tr>\n      <th>Value_co2_emissions_kt_by_country</th>\n      <td>3221.0</td>\n      <td>1.598665e+05</td>\n      <td>7.736611e+05</td>\n      <td>10.000000</td>\n      <td>2019.999981</td>\n      <td>1.050000e+04</td>\n      <td>6.058000e+04</td>\n      <td>1.070722e+07</td>\n    </tr>\n    <tr>\n      <th>Renewables (% equivalent primary energy)</th>\n      <td>1512.0</td>\n      <td>1.198671e+01</td>\n      <td>1.499464e+01</td>\n      <td>0.000000</td>\n      <td>2.137095</td>\n      <td>6.290766e+00</td>\n      <td>1.684164e+01</td>\n      <td>8.683659e+01</td>\n    </tr>\n    <tr>\n      <th>gdp_growth</th>\n      <td>3332.0</td>\n      <td>3.441610e+00</td>\n      <td>5.686720e+00</td>\n      <td>-62.075920</td>\n      <td>1.383302</td>\n      <td>3.559855e+00</td>\n      <td>5.830099e+00</td>\n      <td>1.231396e+02</td>\n    </tr>\n    <tr>\n      <th>gdp_per_capita</th>\n      <td>3367.0</td>\n      <td>1.328377e+04</td>\n      <td>1.970987e+04</td>\n      <td>111.927225</td>\n      <td>1337.813437</td>\n      <td>4.578633e+03</td>\n      <td>1.576862e+04</td>\n      <td>1.235142e+05</td>\n    </tr>\n    <tr>\n      <th>Latitude</th>\n      <td>3648.0</td>\n      <td>1.824639e+01</td>\n      <td>2.415923e+01</td>\n      <td>-40.900557</td>\n      <td>3.202778</td>\n      <td>1.718988e+01</td>\n      <td>3.896972e+01</td>\n      <td>6.496305e+01</td>\n    </tr>\n    <tr>\n      <th>Longitude</th>\n      <td>3648.0</td>\n      <td>1.482269e+01</td>\n      <td>6.634815e+01</td>\n      <td>-175.198242</td>\n      <td>-11.779889</td>\n      <td>1.914514e+01</td>\n      <td>4.619962e+01</td>\n      <td>1.780650e+02</td>\n    </tr>\n  </tbody>\n</table>\n</div>"
     },
     "execution_count": 68,
     "metadata": {},
     "output_type": "execute_result"
    }
   ],
   "source": [
    "#Checking descriptive analytics of the numerical parameters\n",
    "energy_data.describe().T"
   ],
   "metadata": {
    "collapsed": false,
    "ExecuteTime": {
     "end_time": "2024-01-21T14:17:39.946060100Z",
     "start_time": "2024-01-21T14:17:37.378844100Z"
    }
   }
  },
  {
   "cell_type": "markdown",
   "source": [
    "## 4. Renaming columns and dropping columns"
   ],
   "metadata": {
    "collapsed": false
   }
  },
  {
   "cell_type": "code",
   "execution_count": 69,
   "outputs": [],
   "source": [
    "#Adding \"_\" lower case to headers to easy hanlde\n",
    "energy_data.columns = energy_data.columns.str.lower().str.replace(\" \", \"_\")"
   ],
   "metadata": {
    "collapsed": false,
    "ExecuteTime": {
     "end_time": "2024-01-21T14:17:39.946060100Z",
     "start_time": "2024-01-21T14:17:37.431289500Z"
    }
   }
  },
  {
   "cell_type": "code",
   "execution_count": 70,
   "outputs": [],
   "source": [
    "#Renaming headers to easu handle titles\n",
    "energy_data = energy_data.rename({'entity':'country','access_to_electricity_(%_of_population)':'access_electricity(%)','access_to_clean_fuels_for_cooking':'access_cleaning_flues_cooking','renewable-electricity-generating-capacity-per-capita':'renewal_electricity_capacity(per person)','financial_flows_to_developing_countries_(us_$)':'financial_flows($)','renewable_energy_share_in_the_total_final_energy_consumption_(%)':'renewable_energy(%)','electricity_from_fossil_fuels_(twh)':'electricity_fossil_fuels(twh)','electricity_from_nuclear_(twh)':'electricity_nuclear','electricity_from_renewables_(twh)':'electricity_from_renewals','low-carbon_electricity_(%_electricity)':'electricity_low_carbon(%)','primary_energy_consumption_per_capita_(kwh/person)':'primary_energy_consumption(kwh/person)','energy_intensity_level_of_primary_energy_(mj/$2017_ppp_gdp)':'primary_energy_intensity','value_co2_emissions_kt_by_country':'co2_emissions','renewables_(%_equivalent_primary_energy)':'renewables','density\\\\n(p/km2)':'density','land_area(km2)':'land_area'},axis = 1)"
   ],
   "metadata": {
    "collapsed": false,
    "ExecuteTime": {
     "end_time": "2024-01-21T14:17:39.992954700Z",
     "start_time": "2024-01-21T14:17:37.431289500Z"
    }
   }
  },
  {
   "cell_type": "code",
   "execution_count": 71,
   "outputs": [
    {
     "data": {
      "text/plain": "     land_area density\n0     6,52,230      60\n1     6,52,230      60\n2     6,52,230      60\n3     6,52,230      60\n4     6,52,230      60\n...        ...     ...\n3644  3,90,757      38\n3645  3,90,757      38\n3646  3,90,757      38\n3647  3,90,757      38\n3648  3,90,757      38\n\n[3649 rows x 2 columns]",
      "text/html": "<div>\n<style scoped>\n    .dataframe tbody tr th:only-of-type {\n        vertical-align: middle;\n    }\n\n    .dataframe tbody tr th {\n        vertical-align: top;\n    }\n\n    .dataframe thead th {\n        text-align: right;\n    }\n</style>\n<table border=\"1\" class=\"dataframe\">\n  <thead>\n    <tr style=\"text-align: right;\">\n      <th></th>\n      <th>land_area</th>\n      <th>density</th>\n    </tr>\n  </thead>\n  <tbody>\n    <tr>\n      <th>0</th>\n      <td>6,52,230</td>\n      <td>60</td>\n    </tr>\n    <tr>\n      <th>1</th>\n      <td>6,52,230</td>\n      <td>60</td>\n    </tr>\n    <tr>\n      <th>2</th>\n      <td>6,52,230</td>\n      <td>60</td>\n    </tr>\n    <tr>\n      <th>3</th>\n      <td>6,52,230</td>\n      <td>60</td>\n    </tr>\n    <tr>\n      <th>4</th>\n      <td>6,52,230</td>\n      <td>60</td>\n    </tr>\n    <tr>\n      <th>...</th>\n      <td>...</td>\n      <td>...</td>\n    </tr>\n    <tr>\n      <th>3644</th>\n      <td>3,90,757</td>\n      <td>38</td>\n    </tr>\n    <tr>\n      <th>3645</th>\n      <td>3,90,757</td>\n      <td>38</td>\n    </tr>\n    <tr>\n      <th>3646</th>\n      <td>3,90,757</td>\n      <td>38</td>\n    </tr>\n    <tr>\n      <th>3647</th>\n      <td>3,90,757</td>\n      <td>38</td>\n    </tr>\n    <tr>\n      <th>3648</th>\n      <td>3,90,757</td>\n      <td>38</td>\n    </tr>\n  </tbody>\n</table>\n<p>3649 rows × 2 columns</p>\n</div>"
     },
     "execution_count": 71,
     "metadata": {},
     "output_type": "execute_result"
    }
   ],
   "source": [
    "#Showing data of 'Land Area' and 'Density' as they have different type of data\n",
    "energy_data[['land_area','density']]"
   ],
   "metadata": {
    "collapsed": false,
    "ExecuteTime": {
     "end_time": "2024-01-21T14:17:39.992954700Z",
     "start_time": "2024-01-21T14:17:37.444429700Z"
    }
   }
  },
  {
   "cell_type": "code",
   "execution_count": 72,
   "outputs": [],
   "source": [
    "#Removing the comma from the numbers and then converting tu a numerica value\n",
    "energy_data['land_area'] = energy_data['land_area'].str.replace(',', '')\n",
    "energy_data['land_area'] = pd.to_numeric(energy_data['land_area'])"
   ],
   "metadata": {
    "collapsed": false,
    "ExecuteTime": {
     "end_time": "2024-01-21T14:17:40.055408600Z",
     "start_time": "2024-01-21T14:17:37.463879800Z"
    }
   }
  },
  {
   "cell_type": "code",
   "execution_count": 73,
   "outputs": [],
   "source": [
    "#Removing the comma from the numbers and then converting tu a numerica value\n",
    "energy_data['density'] = energy_data['density'].str.replace(',', '')\n",
    "energy_data['density'] = pd.to_numeric(energy_data['density'])"
   ],
   "metadata": {
    "collapsed": false,
    "ExecuteTime": {
     "end_time": "2024-01-21T14:17:40.102275100Z",
     "start_time": "2024-01-21T14:17:37.480823400Z"
    }
   }
  },
  {
   "cell_type": "code",
   "execution_count": 74,
   "outputs": [
    {
     "name": "stdout",
     "output_type": "stream",
     "text": [
      "<class 'pandas.core.frame.DataFrame'>\n",
      "RangeIndex: 3649 entries, 0 to 3648\n",
      "Data columns (total 21 columns):\n",
      " #   Column                                    Non-Null Count  Dtype  \n",
      "---  ------                                    --------------  -----  \n",
      " 0   country                                   3649 non-null   object \n",
      " 1   year                                      3649 non-null   int64  \n",
      " 2   access_electricity(%)                     3639 non-null   float64\n",
      " 3   access_cleaning_flues_cooking             3480 non-null   float64\n",
      " 4   renewal_electricity_capacity(per person)  2718 non-null   float64\n",
      " 5   financial_flows($)                        1560 non-null   float64\n",
      " 6   renewable_energy(%)                       3455 non-null   float64\n",
      " 7   electricity_fossil_fuels(twh)             3628 non-null   float64\n",
      " 8   electricity_nuclear                       3523 non-null   float64\n",
      " 9   electricity_from_renewals                 3628 non-null   float64\n",
      " 10  electricity_low_carbon(%)                 3607 non-null   float64\n",
      " 11  primary_energy_consumption(kwh/person)    3649 non-null   float64\n",
      " 12  primary_energy_intensity                  3442 non-null   float64\n",
      " 13  co2_emissions                             3221 non-null   float64\n",
      " 14  renewables                                1512 non-null   float64\n",
      " 15  gdp_growth                                3332 non-null   float64\n",
      " 16  gdp_per_capita                            3367 non-null   float64\n",
      " 17  density                                   3648 non-null   float64\n",
      " 18  land_area                                 3648 non-null   float64\n",
      " 19  latitude                                  3648 non-null   float64\n",
      " 20  longitude                                 3648 non-null   float64\n",
      "dtypes: float64(19), int64(1), object(1)\n",
      "memory usage: 598.8+ KB\n"
     ]
    }
   ],
   "source": [
    "#Checking all the parameters have the correct type of data\n",
    "energy_data.info()"
   ],
   "metadata": {
    "collapsed": false,
    "ExecuteTime": {
     "end_time": "2024-01-21T14:17:40.414699Z",
     "start_time": "2024-01-21T14:17:37.496426100Z"
    }
   }
  },
  {
   "cell_type": "code",
   "execution_count": 75,
   "outputs": [
    {
     "data": {
      "text/plain": "country\nSerbia           14\nMontenegro       14\nSouth Sudan       8\nFrench Guiana     1\nName: count, dtype: int64"
     },
     "execution_count": 75,
     "metadata": {},
     "output_type": "execute_result"
    }
   ],
   "source": [
    "#Checking if all the countries have 21 years\n",
    "count_country = energy_data['country'].value_counts()\n",
    "count_country[count_country != 21]"
   ],
   "metadata": {
    "collapsed": false,
    "ExecuteTime": {
     "end_time": "2024-01-21T14:17:40.445942900Z",
     "start_time": "2024-01-21T14:17:37.515875700Z"
    }
   }
  },
  {
   "cell_type": "code",
   "execution_count": 76,
   "outputs": [],
   "source": [
    "#Creating a subset of Serbia/Montenegro COuntries\n",
    "serbia = energy_data[energy_data['country'] == 'Serbia']\n",
    "montenegro = energy_data[energy_data['country'] == 'Montenegro']"
   ],
   "metadata": {
    "collapsed": false,
    "ExecuteTime": {
     "end_time": "2024-01-21T14:17:40.758368900Z",
     "start_time": "2024-01-21T14:17:37.526559900Z"
    }
   }
  },
  {
   "cell_type": "code",
   "execution_count": 77,
   "outputs": [],
   "source": [
    "#Drop the whole Country \"South Sudan\" and \"French Guinea\" as they don't have enough data\n",
    "energy_data = energy_data.drop(energy_data[energy_data['country'] == 'French Guiana'].index)\n",
    "energy_data = energy_data.drop(energy_data[energy_data['country'] == 'South Sudan'].index)\n",
    "energy_data = energy_data.drop(energy_data[energy_data['country'] == 'Serbia'].index)\n",
    "energy_data = energy_data.drop(energy_data[energy_data['country'] == 'Montenegro'].index)"
   ],
   "metadata": {
    "collapsed": false,
    "ExecuteTime": {
     "end_time": "2024-01-21T14:17:40.758368900Z",
     "start_time": "2024-01-21T14:17:37.542693400Z"
    }
   }
  },
  {
   "cell_type": "code",
   "execution_count": 78,
   "outputs": [],
   "source": [
    "#Adding the 6 years missing to both countries \n",
    "years = [0,1,2,3,4,5,6]\n",
    "new_row = [0,1,2,3,4,5,6]\n",
    "for i in years:\n",
    "    new_row[i] = {'country':'Serbia',\n",
    "           'year':i+2000,\n",
    "           'access_electricity':0, \n",
    "           'access_cooking_fuels':0, \n",
    "           'renewal_electricity_capacity':0,\n",
    "           'financial_flows':0,\n",
    "           'renewable_energy_share':0,\n",
    "           'electricity_fossil_fuels':0,\n",
    "           'electricity_nuclear':0,\n",
    "           'electricity_renewals':0,\n",
    "           'electricity_low_carbon':0,\n",
    "           'primary_energy_consumption':0,\n",
    "           'energy_level':0,\n",
    "           'co2_emissions':0,\n",
    "           'renewals':0,\n",
    "           'gdp_growth':0,\n",
    "           'gdp_per_capita':0,\n",
    "           'density':0,\n",
    "           'latitude':0,\n",
    "           'longitude':0,\n",
    "           'gdp_growth':0}\n",
    "    serbia.loc[i] = new_row[i]\n",
    "\n",
    "for i in years:\n",
    "    new_row[i] = {'country':'Montenegro',\n",
    "           'year':i+2000,\n",
    "           'access_electricity':0, \n",
    "           'access_cooking_fuels':0, \n",
    "           'renewal_electricity_capacity':0,\n",
    "           'financial_flows':0,\n",
    "           'renewable_energy_share':0,\n",
    "           'electricity_fossil_fuels':0,\n",
    "           'electricity_nuclear':0,\n",
    "           'electricity_renewals':0,\n",
    "           'electricity_low_carbon':0,\n",
    "           'primary_energy_consumption':0,\n",
    "           'energy_level':0,\n",
    "           'co2_emissions':0,\n",
    "           'renewals':0,\n",
    "           'gdp_growth':0,\n",
    "           'gdp_per_capita':0,\n",
    "           'density':0,\n",
    "           'latitude':0,\n",
    "           'longitude':0,\n",
    "           'gdp_growth':0}\n",
    "    montenegro.loc[i] = new_row[i]"
   ],
   "metadata": {
    "collapsed": false,
    "ExecuteTime": {
     "end_time": "2024-01-21T14:17:40.758368900Z",
     "start_time": "2024-01-21T14:17:37.563704200Z"
    }
   }
  },
  {
   "cell_type": "code",
   "execution_count": 79,
   "outputs": [],
   "source": [
    "#Sorting and reseting the indexes for both countries\n",
    "serbia = serbia.sort_index()\n",
    "serbia = serbia.reset_index(drop=True)\n",
    "\n",
    "montenegro = montenegro.sort_index()\n",
    "montenegro = montenegro.reset_index(drop=True)"
   ],
   "metadata": {
    "collapsed": false,
    "ExecuteTime": {
     "end_time": "2024-01-21T14:17:40.758368900Z",
     "start_time": "2024-01-21T14:17:37.612949100Z"
    }
   }
  },
  {
   "cell_type": "code",
   "execution_count": 80,
   "outputs": [],
   "source": [
    "#Adding back both countries to Main dataset with new Year\n",
    "energy_data = pd.concat([serbia,energy_data.loc[:]])\n",
    "energy_data = energy_data.reset_index(drop=True)\n",
    "\n",
    "energy_data = pd.concat([montenegro,energy_data.loc[:]])\n",
    "energy_data = energy_data.reset_index(drop=True)"
   ],
   "metadata": {
    "collapsed": false,
    "ExecuteTime": {
     "end_time": "2024-01-21T14:17:40.758368900Z",
     "start_time": "2024-01-21T14:17:37.623624900Z"
    }
   }
  },
  {
   "cell_type": "code",
   "execution_count": 81,
   "outputs": [
    {
     "data": {
      "text/plain": "Series([], Name: count, dtype: int64)"
     },
     "execution_count": 81,
     "metadata": {},
     "output_type": "execute_result"
    }
   ],
   "source": [
    "#Checking again that all the countries have 21 years\n",
    "count_country = energy_data['country'].value_counts()\n",
    "count_country[count_country != 21]"
   ],
   "metadata": {
    "collapsed": false,
    "ExecuteTime": {
     "end_time": "2024-01-21T14:17:40.758368900Z",
     "start_time": "2024-01-21T14:17:37.639145700Z"
    }
   }
  },
  {
   "cell_type": "markdown",
   "source": [
    "## 5. Handling missing or null values."
   ],
   "metadata": {
    "collapsed": false
   }
  },
  {
   "cell_type": "code",
   "execution_count": 82,
   "outputs": [
    {
     "name": "stdout",
     "output_type": "stream",
     "text": [
      "Number of missing values in each columns are below : \n",
      "country                                        0\n",
      "year                                           0\n",
      "access_electricity(%)                         23\n",
      "access_cleaning_flues_cooking                182\n",
      "renewal_electricity_capacity(per person)     945\n",
      "financial_flows($)                          2100\n",
      "renewable_energy(%)                          207\n",
      "electricity_fossil_fuels(twh)                 35\n",
      "electricity_nuclear                          126\n",
      "electricity_from_renewals                     35\n",
      "electricity_low_carbon(%)                     56\n",
      "primary_energy_consumption(kwh/person)        14\n",
      "primary_energy_intensity                     215\n",
      "co2_emissions                                426\n",
      "renewables                                  2142\n",
      "gdp_growth                                   311\n",
      "gdp_per_capita                               276\n",
      "density                                        0\n",
      "land_area                                     14\n",
      "latitude                                       0\n",
      "longitude                                      0\n",
      "dtype: int64\n"
     ]
    }
   ],
   "source": [
    "print('Number of missing values in each columns are below : ')\n",
    "print(energy_data.isnull().sum())"
   ],
   "metadata": {
    "collapsed": false,
    "ExecuteTime": {
     "end_time": "2024-01-21T14:17:40.758368900Z",
     "start_time": "2024-01-21T14:17:37.658159700Z"
    }
   }
  },
  {
   "cell_type": "code",
   "execution_count": 83,
   "outputs": [],
   "source": [
    "#access_electricity(%) had 10 missing values. Since the Years are not recently and all the countries are from similar region I will replace that value with 0 \n",
    "energy_data['access_electricity(%)'] = energy_data['access_electricity(%)'].fillna(0)"
   ],
   "metadata": {
    "collapsed": false,
    "ExecuteTime": {
     "end_time": "2024-01-21T14:17:40.758368900Z",
     "start_time": "2024-01-21T14:17:37.670553900Z"
    }
   }
  },
  {
   "cell_type": "code",
   "execution_count": 84,
   "outputs": [],
   "source": [
    "#access_cleaning_flues_cookin had 169 missing values distributed in 8 Countries, and it happens either the first years or the whole 20 years, means it is possible those countries really don't have access to cleaning fuels cooking. Then, I will replace those value with 0 \n",
    "null_cooking = energy_data[energy_data['access_cleaning_flues_cooking'].isnull() == True]\n",
    "null_cooking['country'].unique()\n",
    "energy_data['access_cleaning_flues_cooking'] = energy_data['access_cleaning_flues_cooking'].fillna(0)"
   ],
   "metadata": {
    "collapsed": false,
    "ExecuteTime": {
     "end_time": "2024-01-21T14:17:40.758368900Z",
     "start_time": "2024-01-21T14:17:37.685556100Z"
    }
   }
  },
  {
   "cell_type": "code",
   "execution_count": 85,
   "outputs": [],
   "source": [
    "#renewal_electricity_capacity(per person) had 945 that represents 26% of the data. Then, I will drop that column. Additionaly, Renewal electricity capacity variable does not give us relevant information to the aim of the study, renewable energy % contains more valuable information.\n",
    "#financial_flows($) has 58% of missing values, which leave as not relevant the information for the porpuse of the study\n",
    "energy_data = energy_data.drop(['renewal_electricity_capacity(per person)','financial_flows($)','renewables'], axis=1)"
   ],
   "metadata": {
    "collapsed": false,
    "ExecuteTime": {
     "end_time": "2024-01-21T14:17:40.758368900Z",
     "start_time": "2024-01-21T14:17:37.701688200Z"
    }
   }
  },
  {
   "cell_type": "code",
   "execution_count": 86,
   "outputs": [],
   "source": [
    "#I will fill with 0 the countries  of Montenegro, Serbia and Albania before 2020 as they were not declared independent nations in the past\n",
    "energy_data[(energy_data['country'] =='Montenegro') & (energy_data['renewable_energy(%)'].isnull()==True) & (energy_data['year'] != 2020)] = energy_data[(energy_data['country'] =='Montenegro') & (energy_data['renewable_energy(%)'].isnull() ==True) & (energy_data['year'] != 2020)].fillna(0)\n",
    "energy_data[(energy_data['country'] =='Serbia') & (energy_data['renewable_energy(%)'].isnull()==True) & (energy_data['year'] != 2020)] = energy_data[(energy_data['country'] =='Serbia') & (energy_data['renewable_energy(%)'].isnull() ==True) & (energy_data['year'] != 2020)].fillna(0)\n",
    "energy_data[(energy_data['country'] =='Albania') & (energy_data['renewable_energy(%)'].isnull()==True) & (energy_data['year'] != 2020)] = energy_data[(energy_data['country'] =='Albania') & (energy_data['renewable_energy(%)'].isnull() ==True) & (energy_data['year'] != 2020)].fillna(0)"
   ],
   "metadata": {
    "collapsed": false,
    "ExecuteTime": {
     "end_time": "2024-01-21T14:17:40.805251900Z",
     "start_time": "2024-01-21T14:17:37.720045100Z"
    }
   }
  },
  {
   "cell_type": "code",
   "execution_count": 87,
   "outputs": [
    {
     "data": {
      "text/plain": "<Figure size 640x480 with 1 Axes>",
      "image/png": "[encoded data removed]"
     },
     "metadata": {},
     "output_type": "display_data"
    }
   ],
   "source": [
    "#It can be seen the overall trend is to decrease until 2019, \n",
    "dates = energy_data['year'].unique()\n",
    "renewal_energy = energy_data[['year','renewable_energy(%)']].groupby(by='year').mean()\n",
    "# Create a line plot\n",
    "plt.plot(dates, renewal_energy)\n",
    "# Show the plot\n",
    "plt.show()"
   ],
   "metadata": {
    "collapsed": false,
    "ExecuteTime": {
     "end_time": "2024-01-21T14:17:40.820859600Z",
     "start_time": "2024-01-21T14:17:37.755586400Z"
    }
   }
  },
  {
   "cell_type": "code",
   "execution_count": 88,
   "outputs": [],
   "source": [
    "x_unseen_china = energy_data[['country','year','access_electricity(%)','gdp_per_capita','electricity_from_renewals','electricity_fossil_fuels(twh)']][(energy_data['year']>= 2016) & (energy_data['year']<= 2020) & (energy_data['country']== 'China')]"
   ],
   "metadata": {
    "collapsed": false,
    "ExecuteTime": {
     "end_time": "2024-01-21T14:17:40.820859600Z",
     "start_time": "2024-01-21T14:17:37.997782800Z"
    }
   }
  },
  {
   "cell_type": "code",
   "execution_count": 89,
   "outputs": [],
   "source": [
    "y_unseen_china = energy_data[['primary_energy_consumption(kwh/person)']][(energy_data['year']>= 2016) & (energy_data['year']<= 2020) & (energy_data['country']== 'China')]"
   ],
   "metadata": {
    "collapsed": false,
    "ExecuteTime": {
     "end_time": "2024-01-21T14:17:40.820859600Z",
     "start_time": "2024-01-21T14:17:38.005497300Z"
    }
   }
  },
  {
   "cell_type": "code",
   "execution_count": 90,
   "outputs": [],
   "source": [
    "y_unseen_china.reset_index(inplace=True)\n",
    "y_unseen_china.drop(['index'],axis=1, inplace=True)\n",
    "y_energy= y_unseen_china"
   ],
   "metadata": {
    "collapsed": false,
    "ExecuteTime": {
     "end_time": "2024-01-21T14:17:40.820859600Z",
     "start_time": "2024-01-21T14:17:38.017579200Z"
    }
   }
  },
  {
   "cell_type": "code",
   "execution_count": 91,
   "outputs": [],
   "source": [
    "x_unseen_china.loc[777,'country'] = 'China'\n",
    "x_unseen_china.loc[778,'country'] = 'China'\n",
    "x_unseen_china.loc[779,'country'] = 'China'\n",
    "x_unseen_china.loc[780,'country'] = 'China'\n",
    "x_unseen_china.loc[781,'country'] = 'China'\n",
    "\n",
    "x_unseen_china.loc[777,'year'] = '2021'\n",
    "x_unseen_china.loc[778,'year'] = '2022'\n",
    "x_unseen_china.loc[779,'year'] = '2023'\n",
    "x_unseen_china.loc[780,'year'] = '2024'\n",
    "x_unseen_china.loc[781,'year'] = '2025'"
   ],
   "metadata": {
    "collapsed": false,
    "ExecuteTime": {
     "end_time": "2024-01-21T14:17:40.820859600Z",
     "start_time": "2024-01-21T14:17:38.030344200Z"
    }
   }
  },
  {
   "cell_type": "code",
   "execution_count": 92,
   "outputs": [],
   "source": [
    "x_unseen_china.reset_index(inplace=True)\n",
    "x_unseen_china.drop(['index'],axis=1, inplace=True)"
   ],
   "metadata": {
    "collapsed": false,
    "ExecuteTime": {
     "end_time": "2024-01-21T14:17:40.820859600Z",
     "start_time": "2024-01-21T14:17:38.045560700Z"
    }
   }
  },
  {
   "cell_type": "code",
   "execution_count": 93,
   "outputs": [
    {
     "data": {
      "text/plain": "  country    year  access_electricity(%)  gdp_per_capita  \\\n0   China  2016.0                  100.0     8094.363367   \n1   China  2017.0                  100.0     8816.986905   \n2   China  2018.0                  100.0     9905.342004   \n3   China  2019.0                  100.0    10143.838170   \n4   China  2020.0                  100.0    10434.775190   \n5   China    2021                    NaN             NaN   \n6   China    2022                    NaN             NaN   \n7   China    2023                    NaN             NaN   \n8   China    2024                    NaN             NaN   \n9   China    2025                    NaN             NaN   \n\n   electricity_from_renewals  electricity_fossil_fuels(twh)  \n0                    1522.79                        4355.00  \n1                    1667.06                        4643.10  \n2                    1835.32                        4990.28  \n3                    2014.57                        5098.22  \n4                    2184.94                        5184.13  \n5                        NaN                            NaN  \n6                        NaN                            NaN  \n7                        NaN                            NaN  \n8                        NaN                            NaN  \n9                        NaN                            NaN  ",
      "text/html": "<div>\n<style scoped>\n    .dataframe tbody tr th:only-of-type {\n        vertical-align: middle;\n    }\n\n    .dataframe tbody tr th {\n        vertical-align: top;\n    }\n\n    .dataframe thead th {\n        text-align: right;\n    }\n</style>\n<table border=\"1\" class=\"dataframe\">\n  <thead>\n    <tr style=\"text-align: right;\">\n      <th></th>\n      <th>country</th>\n      <th>year</th>\n      <th>access_electricity(%)</th>\n      <th>gdp_per_capita</th>\n      <th>electricity_from_renewals</th>\n      <th>electricity_fossil_fuels(twh)</th>\n    </tr>\n  </thead>\n  <tbody>\n    <tr>\n      <th>0</th>\n      <td>China</td>\n      <td>2016.0</td>\n      <td>100.0</td>\n      <td>8094.363367</td>\n      <td>1522.79</td>\n      <td>4355.00</td>\n    </tr>\n    <tr>\n      <th>1</th>\n      <td>China</td>\n      <td>2017.0</td>\n      <td>100.0</td>\n      <td>8816.986905</td>\n      <td>1667.06</td>\n      <td>4643.10</td>\n    </tr>\n    <tr>\n      <th>2</th>\n      <td>China</td>\n      <td>2018.0</td>\n      <td>100.0</td>\n      <td>9905.342004</td>\n      <td>1835.32</td>\n      <td>4990.28</td>\n    </tr>\n    <tr>\n      <th>3</th>\n      <td>China</td>\n      <td>2019.0</td>\n      <td>100.0</td>\n      <td>10143.838170</td>\n      <td>2014.57</td>\n      <td>5098.22</td>\n    </tr>\n    <tr>\n      <th>4</th>\n      <td>China</td>\n      <td>2020.0</td>\n      <td>100.0</td>\n      <td>10434.775190</td>\n      <td>2184.94</td>\n      <td>5184.13</td>\n    </tr>\n    <tr>\n      <th>5</th>\n      <td>China</td>\n      <td>2021</td>\n      <td>NaN</td>\n      <td>NaN</td>\n      <td>NaN</td>\n      <td>NaN</td>\n    </tr>\n    <tr>\n      <th>6</th>\n      <td>China</td>\n      <td>2022</td>\n      <td>NaN</td>\n      <td>NaN</td>\n      <td>NaN</td>\n      <td>NaN</td>\n    </tr>\n    <tr>\n      <th>7</th>\n      <td>China</td>\n      <td>2023</td>\n      <td>NaN</td>\n      <td>NaN</td>\n      <td>NaN</td>\n      <td>NaN</td>\n    </tr>\n    <tr>\n      <th>8</th>\n      <td>China</td>\n      <td>2024</td>\n      <td>NaN</td>\n      <td>NaN</td>\n      <td>NaN</td>\n      <td>NaN</td>\n    </tr>\n    <tr>\n      <th>9</th>\n      <td>China</td>\n      <td>2025</td>\n      <td>NaN</td>\n      <td>NaN</td>\n      <td>NaN</td>\n      <td>NaN</td>\n    </tr>\n  </tbody>\n</table>\n</div>"
     },
     "execution_count": 93,
     "metadata": {},
     "output_type": "execute_result"
    }
   ],
   "source": [
    "x_unseen_china"
   ],
   "metadata": {
    "collapsed": false,
    "ExecuteTime": {
     "end_time": "2024-01-21T14:17:40.820859600Z",
     "start_time": "2024-01-21T14:17:38.063626200Z"
    }
   }
  },
  {
   "cell_type": "code",
   "execution_count": 94,
   "outputs": [
    {
     "data": {
      "text/plain": "  country    year  access_electricity(%)  gdp_per_capita  \\\n0   China  2016.0                  100.0     8094.363367   \n1   China  2017.0                  100.0     8816.986905   \n2   China  2018.0                  100.0     9905.342004   \n3   China  2019.0                  100.0    10143.838170   \n4   China  2020.0                  100.0    10434.775190   \n5   China    2021                  100.0    10725.712210   \n6   China    2022                  100.0    11016.649230   \n7   China    2023                  100.0    11307.586250   \n8   China    2024                  100.0    11598.523270   \n9   China    2025                  100.0    11889.460290   \n\n   electricity_from_renewals  electricity_fossil_fuels(twh)  \n0                    1522.79                        4355.00  \n1                    1667.06                        4643.10  \n2                    1835.32                        4990.28  \n3                    2014.57                        5098.22  \n4                    2184.94                        5184.13  \n5                    2355.31                        5270.04  \n6                    2525.68                        5355.95  \n7                    2696.05                        5441.86  \n8                    2866.42                        5527.77  \n9                    3036.79                        5613.68  ",
      "text/html": "<div>\n<style scoped>\n    .dataframe tbody tr th:only-of-type {\n        vertical-align: middle;\n    }\n\n    .dataframe tbody tr th {\n        vertical-align: top;\n    }\n\n    .dataframe thead th {\n        text-align: right;\n    }\n</style>\n<table border=\"1\" class=\"dataframe\">\n  <thead>\n    <tr style=\"text-align: right;\">\n      <th></th>\n      <th>country</th>\n      <th>year</th>\n      <th>access_electricity(%)</th>\n      <th>gdp_per_capita</th>\n      <th>electricity_from_renewals</th>\n      <th>electricity_fossil_fuels(twh)</th>\n    </tr>\n  </thead>\n  <tbody>\n    <tr>\n      <th>0</th>\n      <td>China</td>\n      <td>2016.0</td>\n      <td>100.0</td>\n      <td>8094.363367</td>\n      <td>1522.79</td>\n      <td>4355.00</td>\n    </tr>\n    <tr>\n      <th>1</th>\n      <td>China</td>\n      <td>2017.0</td>\n      <td>100.0</td>\n      <td>8816.986905</td>\n      <td>1667.06</td>\n      <td>4643.10</td>\n    </tr>\n    <tr>\n      <th>2</th>\n      <td>China</td>\n      <td>2018.0</td>\n      <td>100.0</td>\n      <td>9905.342004</td>\n      <td>1835.32</td>\n      <td>4990.28</td>\n    </tr>\n    <tr>\n      <th>3</th>\n      <td>China</td>\n      <td>2019.0</td>\n      <td>100.0</td>\n      <td>10143.838170</td>\n      <td>2014.57</td>\n      <td>5098.22</td>\n    </tr>\n    <tr>\n      <th>4</th>\n      <td>China</td>\n      <td>2020.0</td>\n      <td>100.0</td>\n      <td>10434.775190</td>\n      <td>2184.94</td>\n      <td>5184.13</td>\n    </tr>\n    <tr>\n      <th>5</th>\n      <td>China</td>\n      <td>2021</td>\n      <td>100.0</td>\n      <td>10725.712210</td>\n      <td>2355.31</td>\n      <td>5270.04</td>\n    </tr>\n    <tr>\n      <th>6</th>\n      <td>China</td>\n      <td>2022</td>\n      <td>100.0</td>\n      <td>11016.649230</td>\n      <td>2525.68</td>\n      <td>5355.95</td>\n    </tr>\n    <tr>\n      <th>7</th>\n      <td>China</td>\n      <td>2023</td>\n      <td>100.0</td>\n      <td>11307.586250</td>\n      <td>2696.05</td>\n      <td>5441.86</td>\n    </tr>\n    <tr>\n      <th>8</th>\n      <td>China</td>\n      <td>2024</td>\n      <td>100.0</td>\n      <td>11598.523270</td>\n      <td>2866.42</td>\n      <td>5527.77</td>\n    </tr>\n    <tr>\n      <th>9</th>\n      <td>China</td>\n      <td>2025</td>\n      <td>100.0</td>\n      <td>11889.460290</td>\n      <td>3036.79</td>\n      <td>5613.68</td>\n    </tr>\n  </tbody>\n</table>\n</div>"
     },
     "execution_count": 94,
     "metadata": {},
     "output_type": "execute_result"
    }
   ],
   "source": [
    "#Access to Electricity\n",
    "x_unseen_china['access_electricity(%)'] = x_unseen_china['access_electricity(%)'].fillna(x_unseen_china['access_electricity(%)'].interpolate(method=\"slinear\", fill_value=\"extrapolate\", limit_direction=\"forward\"))\n",
    "#gdp_per_capita\n",
    "x_unseen_china['gdp_per_capita'] = x_unseen_china['gdp_per_capita'].fillna(x_unseen_china['gdp_per_capita'].interpolate(method=\"slinear\", fill_value=\"extrapolate\", limit_direction=\"forward\"))\n",
    "#electricity_from_renewals\n",
    "x_unseen_china['electricity_from_renewals'] = x_unseen_china['electricity_from_renewals'].fillna(x_unseen_china['electricity_from_renewals'].interpolate(method=\"slinear\", fill_value=\"extrapolate\", limit_direction=\"forward\"))\n",
    "x_unseen_china['electricity_fossil_fuels(twh)'] = x_unseen_china['electricity_fossil_fuels(twh)'].fillna(x_unseen_china['electricity_fossil_fuels(twh)'].interpolate(method=\"slinear\", fill_value=\"extrapolate\", limit_direction=\"forward\"))\n",
    "x_unseen_china"
   ],
   "metadata": {
    "collapsed": false,
    "ExecuteTime": {
     "end_time": "2024-01-21T14:17:40.820859600Z",
     "start_time": "2024-01-21T14:17:38.082743800Z"
    }
   }
  },
  {
   "cell_type": "code",
   "execution_count": 95,
   "outputs": [],
   "source": [
    "enc = preprocessing.OrdinalEncoder()\n",
    "X = x_unseen_china[['country']]\n",
    "enc.fit(X)\n",
    "x_unseen_china['country'] = enc.transform(x_unseen_china[['country']])"
   ],
   "metadata": {
    "collapsed": false,
    "ExecuteTime": {
     "end_time": "2024-01-21T14:17:40.820859600Z",
     "start_time": "2024-01-21T14:17:38.104193800Z"
    }
   }
  },
  {
   "cell_type": "code",
   "execution_count": 96,
   "outputs": [],
   "source": [
    "x_unseen_china_future_years = x_unseen_china.iloc[5:]"
   ],
   "metadata": {
    "collapsed": false,
    "ExecuteTime": {
     "end_time": "2024-01-21T14:17:40.820859600Z",
     "start_time": "2024-01-21T14:17:38.112543900Z"
    }
   }
  },
  {
   "cell_type": "code",
   "execution_count": 97,
   "outputs": [
    {
     "data": {
      "text/plain": "   country  year  access_electricity(%)  gdp_per_capita  \\\n5      0.0  2021                  100.0     10725.71221   \n6      0.0  2022                  100.0     11016.64923   \n7      0.0  2023                  100.0     11307.58625   \n8      0.0  2024                  100.0     11598.52327   \n9      0.0  2025                  100.0     11889.46029   \n\n   electricity_from_renewals  electricity_fossil_fuels(twh)  \n5                    2355.31                        5270.04  \n6                    2525.68                        5355.95  \n7                    2696.05                        5441.86  \n8                    2866.42                        5527.77  \n9                    3036.79                        5613.68  ",
      "text/html": "<div>\n<style scoped>\n    .dataframe tbody tr th:only-of-type {\n        vertical-align: middle;\n    }\n\n    .dataframe tbody tr th {\n        vertical-align: top;\n    }\n\n    .dataframe thead th {\n        text-align: right;\n    }\n</style>\n<table border=\"1\" class=\"dataframe\">\n  <thead>\n    <tr style=\"text-align: right;\">\n      <th></th>\n      <th>country</th>\n      <th>year</th>\n      <th>access_electricity(%)</th>\n      <th>gdp_per_capita</th>\n      <th>electricity_from_renewals</th>\n      <th>electricity_fossil_fuels(twh)</th>\n    </tr>\n  </thead>\n  <tbody>\n    <tr>\n      <th>5</th>\n      <td>0.0</td>\n      <td>2021</td>\n      <td>100.0</td>\n      <td>10725.71221</td>\n      <td>2355.31</td>\n      <td>5270.04</td>\n    </tr>\n    <tr>\n      <th>6</th>\n      <td>0.0</td>\n      <td>2022</td>\n      <td>100.0</td>\n      <td>11016.64923</td>\n      <td>2525.68</td>\n      <td>5355.95</td>\n    </tr>\n    <tr>\n      <th>7</th>\n      <td>0.0</td>\n      <td>2023</td>\n      <td>100.0</td>\n      <td>11307.58625</td>\n      <td>2696.05</td>\n      <td>5441.86</td>\n    </tr>\n    <tr>\n      <th>8</th>\n      <td>0.0</td>\n      <td>2024</td>\n      <td>100.0</td>\n      <td>11598.52327</td>\n      <td>2866.42</td>\n      <td>5527.77</td>\n    </tr>\n    <tr>\n      <th>9</th>\n      <td>0.0</td>\n      <td>2025</td>\n      <td>100.0</td>\n      <td>11889.46029</td>\n      <td>3036.79</td>\n      <td>5613.68</td>\n    </tr>\n  </tbody>\n</table>\n</div>"
     },
     "execution_count": 97,
     "metadata": {},
     "output_type": "execute_result"
    }
   ],
   "source": [
    "x_unseen_china_future_years"
   ],
   "metadata": {
    "collapsed": false,
    "ExecuteTime": {
     "end_time": "2024-01-21T14:17:40.820859600Z",
     "start_time": "2024-01-21T14:17:38.279771Z"
    }
   }
  },
  {
   "cell_type": "code",
   "execution_count": 98,
   "outputs": [],
   "source": [
    "scaler = StandardScaler()\n",
    "x_train_scaled_unseen = scaler.fit_transform(x_unseen_china_future_years)"
   ],
   "metadata": {
    "collapsed": false,
    "ExecuteTime": {
     "end_time": "2024-01-21T14:17:40.820859600Z",
     "start_time": "2024-01-21T14:17:38.299371900Z"
    }
   }
  },
  {
   "cell_type": "markdown",
   "source": [
    "# Create unseen data from 2021 to 2026 "
   ],
   "metadata": {
    "collapsed": false
   }
  },
  {
   "cell_type": "code",
   "execution_count": 99,
   "outputs": [],
   "source": [
    "#We use the extrapolating method to fill the 2020 years\n",
    "for country in energy_data['country'].unique():\n",
    "       energy_data['renewable_energy(%)'][energy_data['country']==country] = energy_data['renewable_energy(%)'][energy_data['country']==country].fillna(energy_data['renewable_energy(%)'][energy_data['country']==country].interpolate(method=\"slinear\", fill_value=\"extrapolate\", limit_direction=\"forward\"))"
   ],
   "metadata": {
    "collapsed": false,
    "ExecuteTime": {
     "end_time": "2024-01-21T14:17:40.820859600Z",
     "start_time": "2024-01-21T14:17:38.325248100Z"
    }
   }
  },
  {
   "cell_type": "code",
   "execution_count": 100,
   "outputs": [
    {
     "data": {
      "text/plain": "<Figure size 640x480 with 1 Axes>",
      "image/png": "[encoded data removed]"
     },
     "metadata": {},
     "output_type": "display_data"
    }
   ],
   "source": [
    "#It can be seen the overall trend is to decrease until 2019, \n",
    "dates = energy_data['year'].unique()\n",
    "renewal_energy = energy_data[['year','renewable_energy(%)']].groupby(by='year').mean()\n",
    "# Create a line plot\n",
    "plt.plot(dates, renewal_energy)\n",
    "# Show the plot\n",
    "plt.show()"
   ],
   "metadata": {
    "collapsed": false,
    "ExecuteTime": {
     "end_time": "2024-01-21T14:17:40.820859600Z",
     "start_time": "2024-01-21T14:17:38.900561600Z"
    }
   }
  },
  {
   "cell_type": "code",
   "execution_count": 101,
   "outputs": [
    {
     "data": {
      "text/plain": "         country  year  access_electricity(%)  access_cleaning_flues_cooking  \\\n0     Montenegro  2000               0.000000                            0.0   \n1     Montenegro  2001               0.000000                            0.0   \n2     Montenegro  2002               0.000000                            0.0   \n3     Montenegro  2003               0.000000                            0.0   \n4     Montenegro  2004               0.000000                            0.0   \n...          ...   ...                    ...                            ...   \n3649    Zimbabwe  2016              42.561730                           29.8   \n3650    Zimbabwe  2017              44.178635                           29.8   \n3651    Zimbabwe  2018              45.572647                           29.9   \n3652    Zimbabwe  2019              46.781475                           30.1   \n3653    Zimbabwe  2020              52.747670                           30.4   \n\n      renewable_energy(%)  electricity_fossil_fuels(twh)  electricity_nuclear  \\\n0                    0.00                           0.00                  0.0   \n1                    0.00                           0.00                  0.0   \n2                    0.00                           0.00                  0.0   \n3                    0.00                           0.00                  0.0   \n4                    0.00                           0.00                  0.0   \n...                   ...                            ...                  ...   \n3649                81.90                           3.50                  0.0   \n3650                82.46                           3.05                  0.0   \n3651                80.23                           3.73                  0.0   \n3652                81.50                           3.66                  0.0   \n3653                81.90                           3.40                  0.0   \n\n      electricity_from_renewals  electricity_low_carbon(%)  \\\n0                          0.00                   0.000000   \n1                          0.00                   0.000000   \n2                          0.00                   0.000000   \n3                          0.00                   0.000000   \n4                          0.00                   0.000000   \n...                         ...                        ...   \n3649                       3.32                  48.680350   \n3650                       4.30                  58.503407   \n3651                       5.46                  59.412407   \n3652                       4.58                  55.582527   \n3653                       4.19                  55.204216   \n\n      primary_energy_consumption(kwh/person)  primary_energy_intensity  \\\n0                                     0.0000                      0.00   \n1                                     0.0000                      0.00   \n2                                     0.0000                      0.00   \n3                                     0.0000                      0.00   \n4                                     0.0000                      0.00   \n...                                      ...                       ...   \n3649                               3227.6802                     10.00   \n3650                               3068.0115                      9.51   \n3651                               3441.9858                      9.83   \n3652                               3003.6553                     10.47   \n3653                               2680.1318                     10.00   \n\n      co2_emissions  gdp_growth  gdp_per_capita  density  land_area  \\\n0           0.00000    0.000000        0.000000      0.0        0.0   \n1           0.00000    0.000000        0.000000      0.0        0.0   \n2           0.00000    0.000000        0.000000      0.0        0.0   \n3           0.00000    0.000000        0.000000      0.0        0.0   \n4           0.00000    0.000000        0.000000      0.0        0.0   \n...             ...         ...             ...      ...        ...   \n3649    11020.00046    0.755869     1464.588957     38.0   390757.0   \n3650    10340.00015    4.709492     1235.189032     38.0   390757.0   \n3651    12380.00011    4.824211     1254.642265     38.0   390757.0   \n3652    11760.00023   -6.144236     1316.740657     38.0   390757.0   \n3653            NaN   -6.248748     1214.509820     38.0   390757.0   \n\n       latitude  longitude  \n0      0.000000   0.000000  \n1      0.000000   0.000000  \n2      0.000000   0.000000  \n3      0.000000   0.000000  \n4      0.000000   0.000000  \n...         ...        ...  \n3649 -19.015438  29.154857  \n3650 -19.015438  29.154857  \n3651 -19.015438  29.154857  \n3652 -19.015438  29.154857  \n3653 -19.015438  29.154857  \n\n[3654 rows x 18 columns]",
      "text/html": "<div>\n<style scoped>\n    .dataframe tbody tr th:only-of-type {\n        vertical-align: middle;\n    }\n\n    .dataframe tbody tr th {\n        vertical-align: top;\n    }\n\n    .dataframe thead th {\n        text-align: right;\n    }\n</style>\n<table border=\"1\" class=\"dataframe\">\n  <thead>\n    <tr style=\"text-align: right;\">\n      <th></th>\n      <th>country</th>\n      <th>year</th>\n      <th>access_electricity(%)</th>\n      <th>access_cleaning_flues_cooking</th>\n      <th>renewable_energy(%)</th>\n      <th>electricity_fossil_fuels(twh)</th>\n      <th>electricity_nuclear</th>\n      <th>electricity_from_renewals</th>\n      <th>electricity_low_carbon(%)</th>\n      <th>primary_energy_consumption(kwh/person)</th>\n      <th>primary_energy_intensity</th>\n      <th>co2_emissions</th>\n      <th>gdp_growth</th>\n      <th>gdp_per_capita</th>\n      <th>density</th>\n      <th>land_area</th>\n      <th>latitude</th>\n      <th>longitude</th>\n    </tr>\n  </thead>\n  <tbody>\n    <tr>\n      <th>0</th>\n      <td>Montenegro</td>\n      <td>2000</td>\n      <td>0.000000</td>\n      <td>0.0</td>\n      <td>0.00</td>\n      <td>0.00</td>\n      <td>0.0</td>\n      <td>0.00</td>\n      <td>0.000000</td>\n      <td>0.0000</td>\n      <td>0.00</td>\n      <td>0.00000</td>\n      <td>0.000000</td>\n      <td>0.000000</td>\n      <td>0.0</td>\n      <td>0.0</td>\n      <td>0.000000</td>\n      <td>0.000000</td>\n    </tr>\n    <tr>\n      <th>1</th>\n      <td>Montenegro</td>\n      <td>2001</td>\n      <td>0.000000</td>\n      <td>0.0</td>\n      <td>0.00</td>\n      <td>0.00</td>\n      <td>0.0</td>\n      <td>0.00</td>\n      <td>0.000000</td>\n      <td>0.0000</td>\n      <td>0.00</td>\n      <td>0.00000</td>\n      <td>0.000000</td>\n      <td>0.000000</td>\n      <td>0.0</td>\n      <td>0.0</td>\n      <td>0.000000</td>\n      <td>0.000000</td>\n    </tr>\n    <tr>\n      <th>2</th>\n      <td>Montenegro</td>\n      <td>2002</td>\n      <td>0.000000</td>\n      <td>0.0</td>\n      <td>0.00</td>\n      <td>0.00</td>\n      <td>0.0</td>\n      <td>0.00</td>\n      <td>0.000000</td>\n      <td>0.0000</td>\n      <td>0.00</td>\n      <td>0.00000</td>\n      <td>0.000000</td>\n      <td>0.000000</td>\n      <td>0.0</td>\n      <td>0.0</td>\n      <td>0.000000</td>\n      <td>0.000000</td>\n    </tr>\n    <tr>\n      <th>3</th>\n      <td>Montenegro</td>\n      <td>2003</td>\n      <td>0.000000</td>\n      <td>0.0</td>\n      <td>0.00</td>\n      <td>0.00</td>\n      <td>0.0</td>\n      <td>0.00</td>\n      <td>0.000000</td>\n      <td>0.0000</td>\n      <td>0.00</td>\n      <td>0.00000</td>\n      <td>0.000000</td>\n      <td>0.000000</td>\n      <td>0.0</td>\n      <td>0.0</td>\n      <td>0.000000</td>\n      <td>0.000000</td>\n    </tr>\n    <tr>\n      <th>4</th>\n      <td>Montenegro</td>\n      <td>2004</td>\n      <td>0.000000</td>\n      <td>0.0</td>\n      <td>0.00</td>\n      <td>0.00</td>\n      <td>0.0</td>\n      <td>0.00</td>\n      <td>0.000000</td>\n      <td>0.0000</td>\n      <td>0.00</td>\n      <td>0.00000</td>\n      <td>0.000000</td>\n      <td>0.000000</td>\n      <td>0.0</td>\n      <td>0.0</td>\n      <td>0.000000</td>\n      <td>0.000000</td>\n    </tr>\n    <tr>\n      <th>...</th>\n      <td>...</td>\n      <td>...</td>\n      <td>...</td>\n      <td>...</td>\n      <td>...</td>\n      <td>...</td>\n      <td>...</td>\n      <td>...</td>\n      <td>...</td>\n      <td>...</td>\n      <td>...</td>\n      <td>...</td>\n      <td>...</td>\n      <td>...</td>\n      <td>...</td>\n      <td>...</td>\n      <td>...</td>\n      <td>...</td>\n    </tr>\n    <tr>\n      <th>3649</th>\n      <td>Zimbabwe</td>\n      <td>2016</td>\n      <td>42.561730</td>\n      <td>29.8</td>\n      <td>81.90</td>\n      <td>3.50</td>\n      <td>0.0</td>\n      <td>3.32</td>\n      <td>48.680350</td>\n      <td>3227.6802</td>\n      <td>10.00</td>\n      <td>11020.00046</td>\n      <td>0.755869</td>\n      <td>1464.588957</td>\n      <td>38.0</td>\n      <td>390757.0</td>\n      <td>-19.015438</td>\n      <td>29.154857</td>\n    </tr>\n    <tr>\n      <th>3650</th>\n      <td>Zimbabwe</td>\n      <td>2017</td>\n      <td>44.178635</td>\n      <td>29.8</td>\n      <td>82.46</td>\n      <td>3.05</td>\n      <td>0.0</td>\n      <td>4.30</td>\n      <td>58.503407</td>\n      <td>3068.0115</td>\n      <td>9.51</td>\n      <td>10340.00015</td>\n      <td>4.709492</td>\n      <td>1235.189032</td>\n      <td>38.0</td>\n      <td>390757.0</td>\n      <td>-19.015438</td>\n      <td>29.154857</td>\n    </tr>\n    <tr>\n      <th>3651</th>\n      <td>Zimbabwe</td>\n      <td>2018</td>\n      <td>45.572647</td>\n      <td>29.9</td>\n      <td>80.23</td>\n      <td>3.73</td>\n      <td>0.0</td>\n      <td>5.46</td>\n      <td>59.412407</td>\n      <td>3441.9858</td>\n      <td>9.83</td>\n      <td>12380.00011</td>\n      <td>4.824211</td>\n      <td>1254.642265</td>\n      <td>38.0</td>\n      <td>390757.0</td>\n      <td>-19.015438</td>\n      <td>29.154857</td>\n    </tr>\n    <tr>\n      <th>3652</th>\n      <td>Zimbabwe</td>\n      <td>2019</td>\n      <td>46.781475</td>\n      <td>30.1</td>\n      <td>81.50</td>\n      <td>3.66</td>\n      <td>0.0</td>\n      <td>4.58</td>\n      <td>55.582527</td>\n      <td>3003.6553</td>\n      <td>10.47</td>\n      <td>11760.00023</td>\n      <td>-6.144236</td>\n      <td>1316.740657</td>\n      <td>38.0</td>\n      <td>390757.0</td>\n      <td>-19.015438</td>\n      <td>29.154857</td>\n    </tr>\n    <tr>\n      <th>3653</th>\n      <td>Zimbabwe</td>\n      <td>2020</td>\n      <td>52.747670</td>\n      <td>30.4</td>\n      <td>81.90</td>\n      <td>3.40</td>\n      <td>0.0</td>\n      <td>4.19</td>\n      <td>55.204216</td>\n      <td>2680.1318</td>\n      <td>10.00</td>\n      <td>NaN</td>\n      <td>-6.248748</td>\n      <td>1214.509820</td>\n      <td>38.0</td>\n      <td>390757.0</td>\n      <td>-19.015438</td>\n      <td>29.154857</td>\n    </tr>\n  </tbody>\n</table>\n<p>3654 rows × 18 columns</p>\n</div>"
     },
     "execution_count": 101,
     "metadata": {},
     "output_type": "execute_result"
    }
   ],
   "source": [
    "energy_data"
   ],
   "metadata": {
    "collapsed": false,
    "ExecuteTime": {
     "end_time": "2024-01-21T14:17:40.820859600Z",
     "start_time": "2024-01-21T14:17:39.126871900Z"
    }
   }
  },
  {
   "cell_type": "code",
   "execution_count": 102,
   "outputs": [],
   "source": [
    "energy_data['electricity_fossil_fuels(twh)'].fillna(method='bfill', inplace = True)\n",
    "energy_data['electricity_from_renewals'].fillna(method='bfill', inplace = True)\n",
    "energy_data['electricity_low_carbon(%)'].fillna(method='bfill', inplace = True)\n",
    "energy_data['primary_energy_consumption(kwh/person)'].fillna(method='bfill', inplace = True)\n",
    "energy_data['primary_energy_intensity'].fillna(method='bfill', inplace = True)\n",
    "energy_data['electricity_nuclear'].fillna(method='bfill', inplace = True)\n",
    "energy_data['co2_emissions'].fillna(method='bfill', inplace = True)\n",
    "energy_data['gdp_per_capita'].fillna(method='bfill', inplace = True)\n",
    "energy_data['gdp_growth'].fillna(method='bfill', inplace = True)\n",
    "energy_data['land_area'].fillna(method='bfill', inplace = True)"
   ],
   "metadata": {
    "collapsed": false,
    "ExecuteTime": {
     "end_time": "2024-01-21T14:17:40.820859600Z",
     "start_time": "2024-01-21T14:17:39.152851800Z"
    }
   }
  },
  {
   "cell_type": "code",
   "execution_count": 103,
   "outputs": [],
   "source": [
    "energy_data[energy_data['co2_emissions'].isnull() == True]['co2_emissions'] = 0"
   ],
   "metadata": {
    "collapsed": false,
    "ExecuteTime": {
     "end_time": "2024-01-21T14:17:40.820859600Z",
     "start_time": "2024-01-21T14:17:39.171428800Z"
    }
   }
  },
  {
   "cell_type": "code",
   "execution_count": 104,
   "outputs": [
    {
     "name": "stdout",
     "output_type": "stream",
     "text": [
      "<class 'pandas.core.frame.DataFrame'>\n",
      "RangeIndex: 3654 entries, 0 to 3653\n",
      "Data columns (total 18 columns):\n",
      " #   Column                                  Non-Null Count  Dtype  \n",
      "---  ------                                  --------------  -----  \n",
      " 0   country                                 3654 non-null   object \n",
      " 1   year                                    3654 non-null   int64  \n",
      " 2   access_electricity(%)                   3654 non-null   float64\n",
      " 3   access_cleaning_flues_cooking           3654 non-null   float64\n",
      " 4   renewable_energy(%)                     3654 non-null   float64\n",
      " 5   electricity_fossil_fuels(twh)           3654 non-null   float64\n",
      " 6   electricity_nuclear                     3654 non-null   float64\n",
      " 7   electricity_from_renewals               3654 non-null   float64\n",
      " 8   electricity_low_carbon(%)               3654 non-null   float64\n",
      " 9   primary_energy_consumption(kwh/person)  3654 non-null   float64\n",
      " 10  primary_energy_intensity                3654 non-null   float64\n",
      " 11  co2_emissions                           3653 non-null   float64\n",
      " 12  gdp_growth                              3654 non-null   float64\n",
      " 13  gdp_per_capita                          3654 non-null   float64\n",
      " 14  density                                 3654 non-null   float64\n",
      " 15  land_area                               3654 non-null   float64\n",
      " 16  latitude                                3654 non-null   float64\n",
      " 17  longitude                               3654 non-null   float64\n",
      "dtypes: float64(16), int64(1), object(1)\n",
      "memory usage: 514.0+ KB\n"
     ]
    }
   ],
   "source": [
    "energy_data.info()"
   ],
   "metadata": {
    "collapsed": false,
    "ExecuteTime": {
     "end_time": "2024-01-21T14:17:40.820859600Z",
     "start_time": "2024-01-21T14:17:39.183473100Z"
    }
   }
  },
  {
   "cell_type": "markdown",
   "source": [
    "## 6. Model"
   ],
   "metadata": {
    "collapsed": false
   }
  },
  {
   "cell_type": "markdown",
   "source": [
    "## Encoding Dataset"
   ],
   "metadata": {
    "collapsed": false
   }
  },
  {
   "cell_type": "code",
   "execution_count": 105,
   "outputs": [],
   "source": [
    "original_df = energy_data"
   ],
   "metadata": {
    "collapsed": false,
    "ExecuteTime": {
     "end_time": "2024-01-21T14:17:40.820859600Z",
     "start_time": "2024-01-21T14:17:39.201255500Z"
    }
   }
  },
  {
   "cell_type": "code",
   "execution_count": 106,
   "outputs": [
    {
     "data": {
      "text/plain": "    country  year  access_electricity(%)  access_cleaning_flues_cooking  \\\n0     104.0  2000                    0.0                           0.00   \n1     104.0  2001                    0.0                           0.00   \n2     104.0  2002                    0.0                           0.00   \n3     104.0  2003                    0.0                           0.00   \n4     104.0  2004                    0.0                           0.00   \n5     104.0  2005                    0.0                           0.00   \n6     104.0  2006                    0.0                           0.00   \n7     104.0  2007                  100.0                          64.80   \n8     104.0  2008                  100.0                          64.20   \n9     104.0  2009                  100.0                          63.30   \n10    104.0  2010                  100.0                          63.00   \n11    104.0  2011                   99.0                          62.60   \n12    104.0  2012                  100.0                          61.90   \n13    104.0  2013                   99.7                          61.70   \n14    104.0  2014                   97.7                          61.45   \n15    104.0  2015                  100.0                          61.40   \n16    104.0  2016                  100.0                          61.50   \n17    104.0  2017                  100.0                          61.70   \n18    104.0  2018                  100.0                          61.80   \n19    104.0  2019                  100.0                          62.00   \n20    104.0  2020                  100.0                          62.40   \n21    139.0  2000                    0.0                           0.00   \n22    139.0  2001                    0.0                           0.00   \n23    139.0  2002                    0.0                           0.00   \n24    139.0  2003                    0.0                           0.00   \n\n    renewable_energy(%)  electricity_fossil_fuels(twh)  electricity_nuclear  \\\n0                  0.00                           0.00                  0.0   \n1                  0.00                           0.00                  0.0   \n2                  0.00                           0.00                  0.0   \n3                  0.00                           0.00                  0.0   \n4                  0.00                           0.00                  0.0   \n5                  0.00                           0.00                  0.0   \n6                  0.00                           0.00                  0.0   \n7                 42.27                           0.86                  0.0   \n8                 38.76                           1.29                  0.0   \n9                 49.16                           0.69                  0.0   \n10                49.09                           1.27                  0.0   \n11                42.77                           1.45                  0.0   \n12                45.86                           1.37                  0.0   \n13                49.34                           1.44                  0.0   \n14                45.95                           1.42                  0.0   \n15                42.96                           1.51                  0.0   \n16                43.89                           1.30                  0.0   \n17                37.77                           1.36                  0.0   \n18                40.60                           1.55                  0.0   \n19                38.74                           1.50                  0.0   \n20                36.88                           1.62                  0.0   \n21                 0.00                           0.00                  0.0   \n22                 0.00                           0.00                  0.0   \n23                 0.00                           0.00                  0.0   \n24                 0.00                           0.00                  0.0   \n\n    electricity_from_renewals  electricity_low_carbon(%)  \\\n0                        0.00                   0.000000   \n1                        0.00                   0.000000   \n2                        0.00                   0.000000   \n3                        0.00                   0.000000   \n4                        0.00                   0.000000   \n5                        0.00                   0.000000   \n6                        0.00                   0.000000   \n7                        1.28                  59.813080   \n8                        1.54                  54.416960   \n9                        2.07                  75.000000   \n10                       2.75                  68.407960   \n11                       1.20                  45.283020   \n12                       1.48                  51.929825   \n13                       2.50                  63.451775   \n14                       1.75                  55.205048   \n15                       1.49                  49.666668   \n16                       1.84                  58.598724   \n17                       1.12                  45.161290   \n18                       2.25                  59.210526   \n19                       1.93                  56.268220   \n20                       1.77                  52.212387   \n21                       0.00                   0.000000   \n22                       0.00                   0.000000   \n23                       0.00                   0.000000   \n24                       0.00                   0.000000   \n\n    primary_energy_consumption(kwh/person)  primary_energy_intensity  \\\n0                                    0.000                      0.00   \n1                                    0.000                      0.00   \n2                                    0.000                      0.00   \n3                                    0.000                      0.00   \n4                                    0.000                      0.00   \n5                                    0.000                      0.00   \n6                                    0.000                      0.00   \n7                                21851.393                      4.71   \n8                                24712.115                      4.73   \n9                                21325.205                      3.98   \n10                               26631.988                      4.55   \n11                               21941.479                      4.39   \n12                               21276.305                      4.25   \n13                               22880.111                      3.80   \n14                               20434.420                      3.64   \n15                               21034.895                      3.68   \n16                               21028.148                      3.47   \n17                               19660.412                      3.48   \n18                               21852.676                      3.42   \n19                               20460.550                      3.40   \n20                               17942.342                      0.00   \n21                                   0.000                      0.00   \n22                                   0.000                      0.00   \n23                                   0.000                      0.00   \n24                                   0.000                      0.00   \n\n    co2_emissions  gdp_growth  gdp_per_capita  density  land_area   latitude  \\\n0        0.000000    0.000000        0.000000      0.0        0.0   0.000000   \n1        0.000000    0.000000        0.000000      0.0        0.0   0.000000   \n2        0.000000    0.000000        0.000000      0.0        0.0   0.000000   \n3        0.000000    0.000000        0.000000      0.0        0.0   0.000000   \n4        0.000000    0.000000        0.000000      0.0        0.0   0.000000   \n5        0.000000    0.000000        0.000000      0.0        0.0   0.000000   \n6        0.000000    0.000000        0.000000      0.0        0.0   0.000000   \n7     2099.999905    6.810150     5976.394145     47.0    13812.0  42.708678   \n8     2690.000057    7.222753     7367.751909     47.0    13812.0  42.708678   \n9     1750.000000   -5.795097     6727.107767     47.0    13812.0  42.708678   \n10    2579.999924    2.734331     6688.482400     47.0    13812.0  42.708678   \n11    2539.999962    3.228451     7328.932252     47.0    13812.0  42.708678   \n12    2329.999924   -2.723791     6586.721279     47.0    13812.0  42.708678   \n13    2269.999981    3.548980     7186.429787     47.0    13812.0  42.708678   \n14    2220.000029    1.783699     7378.345289     47.0    13812.0  42.708678   \n15    2359.999895    3.390381     6514.272695     47.0    13812.0  42.708678   \n16    2150.000095    2.949280     7028.936577     47.0    13812.0  42.708678   \n17    2269.999981    4.716465     7784.065290     47.0    13812.0  42.708678   \n18    2500.000000    5.077889     8845.914219     47.0    13812.0  42.708678   \n19    2599.999905    4.062945     8910.650834     47.0    13812.0  42.708678   \n20       0.000000  -15.306894     7677.152226     47.0    13812.0  42.708678   \n21       0.000000    0.000000        0.000000      0.0        0.0   0.000000   \n22       0.000000    0.000000        0.000000      0.0        0.0   0.000000   \n23       0.000000    0.000000        0.000000      0.0        0.0   0.000000   \n24       0.000000    0.000000        0.000000      0.0        0.0   0.000000   \n\n    longitude  \n0     0.00000  \n1     0.00000  \n2     0.00000  \n3     0.00000  \n4     0.00000  \n5     0.00000  \n6     0.00000  \n7    19.37439  \n8    19.37439  \n9    19.37439  \n10   19.37439  \n11   19.37439  \n12   19.37439  \n13   19.37439  \n14   19.37439  \n15   19.37439  \n16   19.37439  \n17   19.37439  \n18   19.37439  \n19   19.37439  \n20   19.37439  \n21    0.00000  \n22    0.00000  \n23    0.00000  \n24    0.00000  ",
      "text/html": "<div>\n<style scoped>\n    .dataframe tbody tr th:only-of-type {\n        vertical-align: middle;\n    }\n\n    .dataframe tbody tr th {\n        vertical-align: top;\n    }\n\n    .dataframe thead th {\n        text-align: right;\n    }\n</style>\n<table border=\"1\" class=\"dataframe\">\n  <thead>\n    <tr style=\"text-align: right;\">\n      <th></th>\n      <th>country</th>\n      <th>year</th>\n      <th>access_electricity(%)</th>\n      <th>access_cleaning_flues_cooking</th>\n      <th>renewable_energy(%)</th>\n      <th>electricity_fossil_fuels(twh)</th>\n      <th>electricity_nuclear</th>\n      <th>electricity_from_renewals</th>\n      <th>electricity_low_carbon(%)</th>\n      <th>primary_energy_consumption(kwh/person)</th>\n      <th>primary_energy_intensity</th>\n      <th>co2_emissions</th>\n      <th>gdp_growth</th>\n      <th>gdp_per_capita</th>\n      <th>density</th>\n      <th>land_area</th>\n      <th>latitude</th>\n      <th>longitude</th>\n    </tr>\n  </thead>\n  <tbody>\n    <tr>\n      <th>0</th>\n      <td>104.0</td>\n      <td>2000</td>\n      <td>0.0</td>\n      <td>0.00</td>\n      <td>0.00</td>\n      <td>0.00</td>\n      <td>0.0</td>\n      <td>0.00</td>\n      <td>0.000000</td>\n      <td>0.000</td>\n      <td>0.00</td>\n      <td>0.000000</td>\n      <td>0.000000</td>\n      <td>0.000000</td>\n      <td>0.0</td>\n      <td>0.0</td>\n      <td>0.000000</td>\n      <td>0.00000</td>\n    </tr>\n    <tr>\n      <th>1</th>\n      <td>104.0</td>\n      <td>2001</td>\n      <td>0.0</td>\n      <td>0.00</td>\n      <td>0.00</td>\n      <td>0.00</td>\n      <td>0.0</td>\n      <td>0.00</td>\n      <td>0.000000</td>\n      <td>0.000</td>\n      <td>0.00</td>\n      <td>0.000000</td>\n      <td>0.000000</td>\n      <td>0.000000</td>\n      <td>0.0</td>\n      <td>0.0</td>\n      <td>0.000000</td>\n      <td>0.00000</td>\n    </tr>\n    <tr>\n      <th>2</th>\n      <td>104.0</td>\n      <td>2002</td>\n      <td>0.0</td>\n      <td>0.00</td>\n      <td>0.00</td>\n      <td>0.00</td>\n      <td>0.0</td>\n      <td>0.00</td>\n      <td>0.000000</td>\n      <td>0.000</td>\n      <td>0.00</td>\n      <td>0.000000</td>\n      <td>0.000000</td>\n      <td>0.000000</td>\n      <td>0.0</td>\n      <td>0.0</td>\n      <td>0.000000</td>\n      <td>0.00000</td>\n    </tr>\n    <tr>\n      <th>3</th>\n      <td>104.0</td>\n      <td>2003</td>\n      <td>0.0</td>\n      <td>0.00</td>\n      <td>0.00</td>\n      <td>0.00</td>\n      <td>0.0</td>\n      <td>0.00</td>\n      <td>0.000000</td>\n      <td>0.000</td>\n      <td>0.00</td>\n      <td>0.000000</td>\n      <td>0.000000</td>\n      <td>0.000000</td>\n      <td>0.0</td>\n      <td>0.0</td>\n      <td>0.000000</td>\n      <td>0.00000</td>\n    </tr>\n    <tr>\n      <th>4</th>\n      <td>104.0</td>\n      <td>2004</td>\n      <td>0.0</td>\n      <td>0.00</td>\n      <td>0.00</td>\n      <td>0.00</td>\n      <td>0.0</td>\n      <td>0.00</td>\n      <td>0.000000</td>\n      <td>0.000</td>\n      <td>0.00</td>\n      <td>0.000000</td>\n      <td>0.000000</td>\n      <td>0.000000</td>\n      <td>0.0</td>\n      <td>0.0</td>\n      <td>0.000000</td>\n      <td>0.00000</td>\n    </tr>\n    <tr>\n      <th>5</th>\n      <td>104.0</td>\n      <td>2005</td>\n      <td>0.0</td>\n      <td>0.00</td>\n      <td>0.00</td>\n      <td>0.00</td>\n      <td>0.0</td>\n      <td>0.00</td>\n      <td>0.000000</td>\n      <td>0.000</td>\n      <td>0.00</td>\n      <td>0.000000</td>\n      <td>0.000000</td>\n      <td>0.000000</td>\n      <td>0.0</td>\n      <td>0.0</td>\n      <td>0.000000</td>\n      <td>0.00000</td>\n    </tr>\n    <tr>\n      <th>6</th>\n      <td>104.0</td>\n      <td>2006</td>\n      <td>0.0</td>\n      <td>0.00</td>\n      <td>0.00</td>\n      <td>0.00</td>\n      <td>0.0</td>\n      <td>0.00</td>\n      <td>0.000000</td>\n      <td>0.000</td>\n      <td>0.00</td>\n      <td>0.000000</td>\n      <td>0.000000</td>\n      <td>0.000000</td>\n      <td>0.0</td>\n      <td>0.0</td>\n      <td>0.000000</td>\n      <td>0.00000</td>\n    </tr>\n    <tr>\n      <th>7</th>\n      <td>104.0</td>\n      <td>2007</td>\n      <td>100.0</td>\n      <td>64.80</td>\n      <td>42.27</td>\n      <td>0.86</td>\n      <td>0.0</td>\n      <td>1.28</td>\n      <td>59.813080</td>\n      <td>21851.393</td>\n      <td>4.71</td>\n      <td>2099.999905</td>\n      <td>6.810150</td>\n      <td>5976.394145</td>\n      <td>47.0</td>\n      <td>13812.0</td>\n      <td>42.708678</td>\n      <td>19.37439</td>\n    </tr>\n    <tr>\n      <th>8</th>\n      <td>104.0</td>\n      <td>2008</td>\n      <td>100.0</td>\n      <td>64.20</td>\n      <td>38.76</td>\n      <td>1.29</td>\n      <td>0.0</td>\n      <td>1.54</td>\n      <td>54.416960</td>\n      <td>24712.115</td>\n      <td>4.73</td>\n      <td>2690.000057</td>\n      <td>7.222753</td>\n      <td>7367.751909</td>\n      <td>47.0</td>\n      <td>13812.0</td>\n      <td>42.708678</td>\n      <td>19.37439</td>\n    </tr>\n    <tr>\n      <th>9</th>\n      <td>104.0</td>\n      <td>2009</td>\n      <td>100.0</td>\n      <td>63.30</td>\n      <td>49.16</td>\n      <td>0.69</td>\n      <td>0.0</td>\n      <td>2.07</td>\n      <td>75.000000</td>\n      <td>21325.205</td>\n      <td>3.98</td>\n      <td>1750.000000</td>\n      <td>-5.795097</td>\n      <td>6727.107767</td>\n      <td>47.0</td>\n      <td>13812.0</td>\n      <td>42.708678</td>\n      <td>19.37439</td>\n    </tr>\n    <tr>\n      <th>10</th>\n      <td>104.0</td>\n      <td>2010</td>\n      <td>100.0</td>\n      <td>63.00</td>\n      <td>49.09</td>\n      <td>1.27</td>\n      <td>0.0</td>\n      <td>2.75</td>\n      <td>68.407960</td>\n      <td>26631.988</td>\n      <td>4.55</td>\n      <td>2579.999924</td>\n      <td>2.734331</td>\n      <td>6688.482400</td>\n      <td>47.0</td>\n      <td>13812.0</td>\n      <td>42.708678</td>\n      <td>19.37439</td>\n    </tr>\n    <tr>\n      <th>11</th>\n      <td>104.0</td>\n      <td>2011</td>\n      <td>99.0</td>\n      <td>62.60</td>\n      <td>42.77</td>\n      <td>1.45</td>\n      <td>0.0</td>\n      <td>1.20</td>\n      <td>45.283020</td>\n      <td>21941.479</td>\n      <td>4.39</td>\n      <td>2539.999962</td>\n      <td>3.228451</td>\n      <td>7328.932252</td>\n      <td>47.0</td>\n      <td>13812.0</td>\n      <td>42.708678</td>\n      <td>19.37439</td>\n    </tr>\n    <tr>\n      <th>12</th>\n      <td>104.0</td>\n      <td>2012</td>\n      <td>100.0</td>\n      <td>61.90</td>\n      <td>45.86</td>\n      <td>1.37</td>\n      <td>0.0</td>\n      <td>1.48</td>\n      <td>51.929825</td>\n      <td>21276.305</td>\n      <td>4.25</td>\n      <td>2329.999924</td>\n      <td>-2.723791</td>\n      <td>6586.721279</td>\n      <td>47.0</td>\n      <td>13812.0</td>\n      <td>42.708678</td>\n      <td>19.37439</td>\n    </tr>\n    <tr>\n      <th>13</th>\n      <td>104.0</td>\n      <td>2013</td>\n      <td>99.7</td>\n      <td>61.70</td>\n      <td>49.34</td>\n      <td>1.44</td>\n      <td>0.0</td>\n      <td>2.50</td>\n      <td>63.451775</td>\n      <td>22880.111</td>\n      <td>3.80</td>\n      <td>2269.999981</td>\n      <td>3.548980</td>\n      <td>7186.429787</td>\n      <td>47.0</td>\n      <td>13812.0</td>\n      <td>42.708678</td>\n      <td>19.37439</td>\n    </tr>\n    <tr>\n      <th>14</th>\n      <td>104.0</td>\n      <td>2014</td>\n      <td>97.7</td>\n      <td>61.45</td>\n      <td>45.95</td>\n      <td>1.42</td>\n      <td>0.0</td>\n      <td>1.75</td>\n      <td>55.205048</td>\n      <td>20434.420</td>\n      <td>3.64</td>\n      <td>2220.000029</td>\n      <td>1.783699</td>\n      <td>7378.345289</td>\n      <td>47.0</td>\n      <td>13812.0</td>\n      <td>42.708678</td>\n      <td>19.37439</td>\n    </tr>\n    <tr>\n      <th>15</th>\n      <td>104.0</td>\n      <td>2015</td>\n      <td>100.0</td>\n      <td>61.40</td>\n      <td>42.96</td>\n      <td>1.51</td>\n      <td>0.0</td>\n      <td>1.49</td>\n      <td>49.666668</td>\n      <td>21034.895</td>\n      <td>3.68</td>\n      <td>2359.999895</td>\n      <td>3.390381</td>\n      <td>6514.272695</td>\n      <td>47.0</td>\n      <td>13812.0</td>\n      <td>42.708678</td>\n      <td>19.37439</td>\n    </tr>\n    <tr>\n      <th>16</th>\n      <td>104.0</td>\n      <td>2016</td>\n      <td>100.0</td>\n      <td>61.50</td>\n      <td>43.89</td>\n      <td>1.30</td>\n      <td>0.0</td>\n      <td>1.84</td>\n      <td>58.598724</td>\n      <td>21028.148</td>\n      <td>3.47</td>\n      <td>2150.000095</td>\n      <td>2.949280</td>\n      <td>7028.936577</td>\n      <td>47.0</td>\n      <td>13812.0</td>\n      <td>42.708678</td>\n      <td>19.37439</td>\n    </tr>\n    <tr>\n      <th>17</th>\n      <td>104.0</td>\n      <td>2017</td>\n      <td>100.0</td>\n      <td>61.70</td>\n      <td>37.77</td>\n      <td>1.36</td>\n      <td>0.0</td>\n      <td>1.12</td>\n      <td>45.161290</td>\n      <td>19660.412</td>\n      <td>3.48</td>\n      <td>2269.999981</td>\n      <td>4.716465</td>\n      <td>7784.065290</td>\n      <td>47.0</td>\n      <td>13812.0</td>\n      <td>42.708678</td>\n      <td>19.37439</td>\n    </tr>\n    <tr>\n      <th>18</th>\n      <td>104.0</td>\n      <td>2018</td>\n      <td>100.0</td>\n      <td>61.80</td>\n      <td>40.60</td>\n      <td>1.55</td>\n      <td>0.0</td>\n      <td>2.25</td>\n      <td>59.210526</td>\n      <td>21852.676</td>\n      <td>3.42</td>\n      <td>2500.000000</td>\n      <td>5.077889</td>\n      <td>8845.914219</td>\n      <td>47.0</td>\n      <td>13812.0</td>\n      <td>42.708678</td>\n      <td>19.37439</td>\n    </tr>\n    <tr>\n      <th>19</th>\n      <td>104.0</td>\n      <td>2019</td>\n      <td>100.0</td>\n      <td>62.00</td>\n      <td>38.74</td>\n      <td>1.50</td>\n      <td>0.0</td>\n      <td>1.93</td>\n      <td>56.268220</td>\n      <td>20460.550</td>\n      <td>3.40</td>\n      <td>2599.999905</td>\n      <td>4.062945</td>\n      <td>8910.650834</td>\n      <td>47.0</td>\n      <td>13812.0</td>\n      <td>42.708678</td>\n      <td>19.37439</td>\n    </tr>\n    <tr>\n      <th>20</th>\n      <td>104.0</td>\n      <td>2020</td>\n      <td>100.0</td>\n      <td>62.40</td>\n      <td>36.88</td>\n      <td>1.62</td>\n      <td>0.0</td>\n      <td>1.77</td>\n      <td>52.212387</td>\n      <td>17942.342</td>\n      <td>0.00</td>\n      <td>0.000000</td>\n      <td>-15.306894</td>\n      <td>7677.152226</td>\n      <td>47.0</td>\n      <td>13812.0</td>\n      <td>42.708678</td>\n      <td>19.37439</td>\n    </tr>\n    <tr>\n      <th>21</th>\n      <td>139.0</td>\n      <td>2000</td>\n      <td>0.0</td>\n      <td>0.00</td>\n      <td>0.00</td>\n      <td>0.00</td>\n      <td>0.0</td>\n      <td>0.00</td>\n      <td>0.000000</td>\n      <td>0.000</td>\n      <td>0.00</td>\n      <td>0.000000</td>\n      <td>0.000000</td>\n      <td>0.000000</td>\n      <td>0.0</td>\n      <td>0.0</td>\n      <td>0.000000</td>\n      <td>0.00000</td>\n    </tr>\n    <tr>\n      <th>22</th>\n      <td>139.0</td>\n      <td>2001</td>\n      <td>0.0</td>\n      <td>0.00</td>\n      <td>0.00</td>\n      <td>0.00</td>\n      <td>0.0</td>\n      <td>0.00</td>\n      <td>0.000000</td>\n      <td>0.000</td>\n      <td>0.00</td>\n      <td>0.000000</td>\n      <td>0.000000</td>\n      <td>0.000000</td>\n      <td>0.0</td>\n      <td>0.0</td>\n      <td>0.000000</td>\n      <td>0.00000</td>\n    </tr>\n    <tr>\n      <th>23</th>\n      <td>139.0</td>\n      <td>2002</td>\n      <td>0.0</td>\n      <td>0.00</td>\n      <td>0.00</td>\n      <td>0.00</td>\n      <td>0.0</td>\n      <td>0.00</td>\n      <td>0.000000</td>\n      <td>0.000</td>\n      <td>0.00</td>\n      <td>0.000000</td>\n      <td>0.000000</td>\n      <td>0.000000</td>\n      <td>0.0</td>\n      <td>0.0</td>\n      <td>0.000000</td>\n      <td>0.00000</td>\n    </tr>\n    <tr>\n      <th>24</th>\n      <td>139.0</td>\n      <td>2003</td>\n      <td>0.0</td>\n      <td>0.00</td>\n      <td>0.00</td>\n      <td>0.00</td>\n      <td>0.0</td>\n      <td>0.00</td>\n      <td>0.000000</td>\n      <td>0.000</td>\n      <td>0.00</td>\n      <td>0.000000</td>\n      <td>0.000000</td>\n      <td>0.000000</td>\n      <td>0.0</td>\n      <td>0.0</td>\n      <td>0.000000</td>\n      <td>0.00000</td>\n    </tr>\n  </tbody>\n</table>\n</div>"
     },
     "execution_count": 106,
     "metadata": {},
     "output_type": "execute_result"
    }
   ],
   "source": [
    "enc = preprocessing.OrdinalEncoder()\n",
    "X = energy_data[['country']]\n",
    "enc.fit(X)\n",
    "energy_data['country'] = enc.transform(energy_data[['country']])\n",
    "energy_data.head(25)"
   ],
   "metadata": {
    "collapsed": false,
    "ExecuteTime": {
     "end_time": "2024-01-21T14:17:40.820859600Z",
     "start_time": "2024-01-21T14:17:39.212956700Z"
    }
   }
  },
  {
   "cell_type": "markdown",
   "source": [
    "## Separating Target from Features"
   ],
   "metadata": {
    "collapsed": false
   }
  },
  {
   "cell_type": "code",
   "execution_count": 107,
   "outputs": [],
   "source": [
    "target = 'primary_energy_consumption(kwh/person)'\n",
    "features = ['country','year','access_electricity(%)','gdp_per_capita','electricity_from_renewals','electricity_fossil_fuels(twh)']\n",
    "x_imputed = energy_data[features]\n",
    "y = energy_data[target]"
   ],
   "metadata": {
    "collapsed": false,
    "ExecuteTime": {
     "end_time": "2024-01-21T14:17:40.820859600Z",
     "start_time": "2024-01-21T14:17:39.267777700Z"
    }
   }
  },
  {
   "cell_type": "markdown",
   "source": [
    "## Feature Selection"
   ],
   "metadata": {
    "collapsed": false
   }
  },
  {
   "cell_type": "markdown",
   "source": [
    "## Splitting dataset"
   ],
   "metadata": {
    "collapsed": false
   }
  },
  {
   "cell_type": "code",
   "execution_count": 108,
   "outputs": [],
   "source": [
    "x_train, x_test, y_train, y_test = train_test_split(x_imputed, y, test_size = 0.4, random_state = 42)"
   ],
   "metadata": {
    "collapsed": false,
    "ExecuteTime": {
     "end_time": "2024-01-21T14:17:40.820859600Z",
     "start_time": "2024-01-21T14:17:39.268284300Z"
    }
   }
  },
  {
   "cell_type": "code",
   "execution_count": 109,
   "outputs": [
    {
     "data": {
      "text/plain": "      country  year  access_electricity(%)  gdp_per_capita  \\\n1286     59.0  2005              30.456268      749.908535   \n349      14.0  2013             100.000000    16451.279310   \n1368     63.0  2003             100.000000    18477.578360   \n3537    168.0  2009              99.100000     9451.932449   \n643      28.0  2013              56.207813     1527.751257   \n...       ...   ...                    ...             ...   \n1130     51.0  2017              48.472744     4070.609024   \n1294     59.0  2013              51.500000      749.908535   \n860      38.0  2020              99.900000    12140.854150   \n3507    167.0  2000             100.000000    36334.908780   \n3174    151.0  2003              95.183010     2611.377493   \n\n      electricity_from_renewals  electricity_fossil_fuels(twh)  \n1286                       0.00                           0.19  \n349                        0.00                           0.95  \n1368                       5.89                          52.01  \n3537                       6.08                           2.72  \n643                        4.33                           1.82  \n...                         ...                            ...  \n1130                       0.01                           0.40  \n1294                       0.00                           0.25  \n860                       11.55                           0.19  \n3507                     350.93                        2697.28  \n3174                       0.75                           0.69  \n\n[2192 rows x 6 columns]",
      "text/html": "<div>\n<style scoped>\n    .dataframe tbody tr th:only-of-type {\n        vertical-align: middle;\n    }\n\n    .dataframe tbody tr th {\n        vertical-align: top;\n    }\n\n    .dataframe thead th {\n        text-align: right;\n    }\n</style>\n<table border=\"1\" class=\"dataframe\">\n  <thead>\n    <tr style=\"text-align: right;\">\n      <th></th>\n      <th>country</th>\n      <th>year</th>\n      <th>access_electricity(%)</th>\n      <th>gdp_per_capita</th>\n      <th>electricity_from_renewals</th>\n      <th>electricity_fossil_fuels(twh)</th>\n    </tr>\n  </thead>\n  <tbody>\n    <tr>\n      <th>1286</th>\n      <td>59.0</td>\n      <td>2005</td>\n      <td>30.456268</td>\n      <td>749.908535</td>\n      <td>0.00</td>\n      <td>0.19</td>\n    </tr>\n    <tr>\n      <th>349</th>\n      <td>14.0</td>\n      <td>2013</td>\n      <td>100.000000</td>\n      <td>16451.279310</td>\n      <td>0.00</td>\n      <td>0.95</td>\n    </tr>\n    <tr>\n      <th>1368</th>\n      <td>63.0</td>\n      <td>2003</td>\n      <td>100.000000</td>\n      <td>18477.578360</td>\n      <td>5.89</td>\n      <td>52.01</td>\n    </tr>\n    <tr>\n      <th>3537</th>\n      <td>168.0</td>\n      <td>2009</td>\n      <td>99.100000</td>\n      <td>9451.932449</td>\n      <td>6.08</td>\n      <td>2.72</td>\n    </tr>\n    <tr>\n      <th>643</th>\n      <td>28.0</td>\n      <td>2013</td>\n      <td>56.207813</td>\n      <td>1527.751257</td>\n      <td>4.33</td>\n      <td>1.82</td>\n    </tr>\n    <tr>\n      <th>...</th>\n      <td>...</td>\n      <td>...</td>\n      <td>...</td>\n      <td>...</td>\n      <td>...</td>\n      <td>...</td>\n    </tr>\n    <tr>\n      <th>1130</th>\n      <td>51.0</td>\n      <td>2017</td>\n      <td>48.472744</td>\n      <td>4070.609024</td>\n      <td>0.01</td>\n      <td>0.40</td>\n    </tr>\n    <tr>\n      <th>1294</th>\n      <td>59.0</td>\n      <td>2013</td>\n      <td>51.500000</td>\n      <td>749.908535</td>\n      <td>0.00</td>\n      <td>0.25</td>\n    </tr>\n    <tr>\n      <th>860</th>\n      <td>38.0</td>\n      <td>2020</td>\n      <td>99.900000</td>\n      <td>12140.854150</td>\n      <td>11.55</td>\n      <td>0.19</td>\n    </tr>\n    <tr>\n      <th>3507</th>\n      <td>167.0</td>\n      <td>2000</td>\n      <td>100.000000</td>\n      <td>36334.908780</td>\n      <td>350.93</td>\n      <td>2697.28</td>\n    </tr>\n    <tr>\n      <th>3174</th>\n      <td>151.0</td>\n      <td>2003</td>\n      <td>95.183010</td>\n      <td>2611.377493</td>\n      <td>0.75</td>\n      <td>0.69</td>\n    </tr>\n  </tbody>\n</table>\n<p>2192 rows × 6 columns</p>\n</div>"
     },
     "execution_count": 109,
     "metadata": {},
     "output_type": "execute_result"
    }
   ],
   "source": [
    "x_train"
   ],
   "metadata": {
    "collapsed": false,
    "ExecuteTime": {
     "end_time": "2024-01-21T14:17:40.820859600Z",
     "start_time": "2024-01-21T14:17:39.281860900Z"
    }
   }
  },
  {
   "cell_type": "code",
   "execution_count": 110,
   "outputs": [
    {
     "data": {
      "text/plain": "      country  year  access_electricity(%)  access_cleaning_flues_cooking  \\\n0       104.0  2000               0.000000                            0.0   \n1       104.0  2001               0.000000                            0.0   \n2       104.0  2002               0.000000                            0.0   \n3       104.0  2003               0.000000                            0.0   \n4       104.0  2004               0.000000                            0.0   \n...       ...   ...                    ...                            ...   \n3649    173.0  2016              42.561730                           29.8   \n3650    173.0  2017              44.178635                           29.8   \n3651    173.0  2018              45.572647                           29.9   \n3652    173.0  2019              46.781475                           30.1   \n3653    173.0  2020              52.747670                           30.4   \n\n      renewable_energy(%)  electricity_fossil_fuels(twh)  electricity_nuclear  \\\n0                    0.00                           0.00                  0.0   \n1                    0.00                           0.00                  0.0   \n2                    0.00                           0.00                  0.0   \n3                    0.00                           0.00                  0.0   \n4                    0.00                           0.00                  0.0   \n...                   ...                            ...                  ...   \n3649                81.90                           3.50                  0.0   \n3650                82.46                           3.05                  0.0   \n3651                80.23                           3.73                  0.0   \n3652                81.50                           3.66                  0.0   \n3653                81.90                           3.40                  0.0   \n\n      electricity_from_renewals  electricity_low_carbon(%)  \\\n0                          0.00                   0.000000   \n1                          0.00                   0.000000   \n2                          0.00                   0.000000   \n3                          0.00                   0.000000   \n4                          0.00                   0.000000   \n...                         ...                        ...   \n3649                       3.32                  48.680350   \n3650                       4.30                  58.503407   \n3651                       5.46                  59.412407   \n3652                       4.58                  55.582527   \n3653                       4.19                  55.204216   \n\n      primary_energy_consumption(kwh/person)  primary_energy_intensity  \\\n0                                     0.0000                      0.00   \n1                                     0.0000                      0.00   \n2                                     0.0000                      0.00   \n3                                     0.0000                      0.00   \n4                                     0.0000                      0.00   \n...                                      ...                       ...   \n3649                               3227.6802                     10.00   \n3650                               3068.0115                      9.51   \n3651                               3441.9858                      9.83   \n3652                               3003.6553                     10.47   \n3653                               2680.1318                     10.00   \n\n      co2_emissions  gdp_growth  gdp_per_capita  density  land_area  \\\n0           0.00000    0.000000        0.000000      0.0        0.0   \n1           0.00000    0.000000        0.000000      0.0        0.0   \n2           0.00000    0.000000        0.000000      0.0        0.0   \n3           0.00000    0.000000        0.000000      0.0        0.0   \n4           0.00000    0.000000        0.000000      0.0        0.0   \n...             ...         ...             ...      ...        ...   \n3649    11020.00046    0.755869     1464.588957     38.0   390757.0   \n3650    10340.00015    4.709492     1235.189032     38.0   390757.0   \n3651    12380.00011    4.824211     1254.642265     38.0   390757.0   \n3652    11760.00023   -6.144236     1316.740657     38.0   390757.0   \n3653            NaN   -6.248748     1214.509820     38.0   390757.0   \n\n       latitude  longitude  \n0      0.000000   0.000000  \n1      0.000000   0.000000  \n2      0.000000   0.000000  \n3      0.000000   0.000000  \n4      0.000000   0.000000  \n...         ...        ...  \n3649 -19.015438  29.154857  \n3650 -19.015438  29.154857  \n3651 -19.015438  29.154857  \n3652 -19.015438  29.154857  \n3653 -19.015438  29.154857  \n\n[3654 rows x 18 columns]",
      "text/html": "<div>\n<style scoped>\n    .dataframe tbody tr th:only-of-type {\n        vertical-align: middle;\n    }\n\n    .dataframe tbody tr th {\n        vertical-align: top;\n    }\n\n    .dataframe thead th {\n        text-align: right;\n    }\n</style>\n<table border=\"1\" class=\"dataframe\">\n  <thead>\n    <tr style=\"text-align: right;\">\n      <th></th>\n      <th>country</th>\n      <th>year</th>\n      <th>access_electricity(%)</th>\n      <th>access_cleaning_flues_cooking</th>\n      <th>renewable_energy(%)</th>\n      <th>electricity_fossil_fuels(twh)</th>\n      <th>electricity_nuclear</th>\n      <th>electricity_from_renewals</th>\n      <th>electricity_low_carbon(%)</th>\n      <th>primary_energy_consumption(kwh/person)</th>\n      <th>primary_energy_intensity</th>\n      <th>co2_emissions</th>\n      <th>gdp_growth</th>\n      <th>gdp_per_capita</th>\n      <th>density</th>\n      <th>land_area</th>\n      <th>latitude</th>\n      <th>longitude</th>\n    </tr>\n  </thead>\n  <tbody>\n    <tr>\n      <th>0</th>\n      <td>104.0</td>\n      <td>2000</td>\n      <td>0.000000</td>\n      <td>0.0</td>\n      <td>0.00</td>\n      <td>0.00</td>\n      <td>0.0</td>\n      <td>0.00</td>\n      <td>0.000000</td>\n      <td>0.0000</td>\n      <td>0.00</td>\n      <td>0.00000</td>\n      <td>0.000000</td>\n      <td>0.000000</td>\n      <td>0.0</td>\n      <td>0.0</td>\n      <td>0.000000</td>\n      <td>0.000000</td>\n    </tr>\n    <tr>\n      <th>1</th>\n      <td>104.0</td>\n      <td>2001</td>\n      <td>0.000000</td>\n      <td>0.0</td>\n      <td>0.00</td>\n      <td>0.00</td>\n      <td>0.0</td>\n      <td>0.00</td>\n      <td>0.000000</td>\n      <td>0.0000</td>\n      <td>0.00</td>\n      <td>0.00000</td>\n      <td>0.000000</td>\n      <td>0.000000</td>\n      <td>0.0</td>\n      <td>0.0</td>\n      <td>0.000000</td>\n      <td>0.000000</td>\n    </tr>\n    <tr>\n      <th>2</th>\n      <td>104.0</td>\n      <td>2002</td>\n      <td>0.000000</td>\n      <td>0.0</td>\n      <td>0.00</td>\n      <td>0.00</td>\n      <td>0.0</td>\n      <td>0.00</td>\n      <td>0.000000</td>\n      <td>0.0000</td>\n      <td>0.00</td>\n      <td>0.00000</td>\n      <td>0.000000</td>\n      <td>0.000000</td>\n      <td>0.0</td>\n      <td>0.0</td>\n      <td>0.000000</td>\n      <td>0.000000</td>\n    </tr>\n    <tr>\n      <th>3</th>\n      <td>104.0</td>\n      <td>2003</td>\n      <td>0.000000</td>\n      <td>0.0</td>\n      <td>0.00</td>\n      <td>0.00</td>\n      <td>0.0</td>\n      <td>0.00</td>\n      <td>0.000000</td>\n      <td>0.0000</td>\n      <td>0.00</td>\n      <td>0.00000</td>\n      <td>0.000000</td>\n      <td>0.000000</td>\n      <td>0.0</td>\n      <td>0.0</td>\n      <td>0.000000</td>\n      <td>0.000000</td>\n    </tr>\n    <tr>\n      <th>4</th>\n      <td>104.0</td>\n      <td>2004</td>\n      <td>0.000000</td>\n      <td>0.0</td>\n      <td>0.00</td>\n      <td>0.00</td>\n      <td>0.0</td>\n      <td>0.00</td>\n      <td>0.000000</td>\n      <td>0.0000</td>\n      <td>0.00</td>\n      <td>0.00000</td>\n      <td>0.000000</td>\n      <td>0.000000</td>\n      <td>0.0</td>\n      <td>0.0</td>\n      <td>0.000000</td>\n      <td>0.000000</td>\n    </tr>\n    <tr>\n      <th>...</th>\n      <td>...</td>\n      <td>...</td>\n      <td>...</td>\n      <td>...</td>\n      <td>...</td>\n      <td>...</td>\n      <td>...</td>\n      <td>...</td>\n      <td>...</td>\n      <td>...</td>\n      <td>...</td>\n      <td>...</td>\n      <td>...</td>\n      <td>...</td>\n      <td>...</td>\n      <td>...</td>\n      <td>...</td>\n      <td>...</td>\n    </tr>\n    <tr>\n      <th>3649</th>\n      <td>173.0</td>\n      <td>2016</td>\n      <td>42.561730</td>\n      <td>29.8</td>\n      <td>81.90</td>\n      <td>3.50</td>\n      <td>0.0</td>\n      <td>3.32</td>\n      <td>48.680350</td>\n      <td>3227.6802</td>\n      <td>10.00</td>\n      <td>11020.00046</td>\n      <td>0.755869</td>\n      <td>1464.588957</td>\n      <td>38.0</td>\n      <td>390757.0</td>\n      <td>-19.015438</td>\n      <td>29.154857</td>\n    </tr>\n    <tr>\n      <th>3650</th>\n      <td>173.0</td>\n      <td>2017</td>\n      <td>44.178635</td>\n      <td>29.8</td>\n      <td>82.46</td>\n      <td>3.05</td>\n      <td>0.0</td>\n      <td>4.30</td>\n      <td>58.503407</td>\n      <td>3068.0115</td>\n      <td>9.51</td>\n      <td>10340.00015</td>\n      <td>4.709492</td>\n      <td>1235.189032</td>\n      <td>38.0</td>\n      <td>390757.0</td>\n      <td>-19.015438</td>\n      <td>29.154857</td>\n    </tr>\n    <tr>\n      <th>3651</th>\n      <td>173.0</td>\n      <td>2018</td>\n      <td>45.572647</td>\n      <td>29.9</td>\n      <td>80.23</td>\n      <td>3.73</td>\n      <td>0.0</td>\n      <td>5.46</td>\n      <td>59.412407</td>\n      <td>3441.9858</td>\n      <td>9.83</td>\n      <td>12380.00011</td>\n      <td>4.824211</td>\n      <td>1254.642265</td>\n      <td>38.0</td>\n      <td>390757.0</td>\n      <td>-19.015438</td>\n      <td>29.154857</td>\n    </tr>\n    <tr>\n      <th>3652</th>\n      <td>173.0</td>\n      <td>2019</td>\n      <td>46.781475</td>\n      <td>30.1</td>\n      <td>81.50</td>\n      <td>3.66</td>\n      <td>0.0</td>\n      <td>4.58</td>\n      <td>55.582527</td>\n      <td>3003.6553</td>\n      <td>10.47</td>\n      <td>11760.00023</td>\n      <td>-6.144236</td>\n      <td>1316.740657</td>\n      <td>38.0</td>\n      <td>390757.0</td>\n      <td>-19.015438</td>\n      <td>29.154857</td>\n    </tr>\n    <tr>\n      <th>3653</th>\n      <td>173.0</td>\n      <td>2020</td>\n      <td>52.747670</td>\n      <td>30.4</td>\n      <td>81.90</td>\n      <td>3.40</td>\n      <td>0.0</td>\n      <td>4.19</td>\n      <td>55.204216</td>\n      <td>2680.1318</td>\n      <td>10.00</td>\n      <td>NaN</td>\n      <td>-6.248748</td>\n      <td>1214.509820</td>\n      <td>38.0</td>\n      <td>390757.0</td>\n      <td>-19.015438</td>\n      <td>29.154857</td>\n    </tr>\n  </tbody>\n</table>\n<p>3654 rows × 18 columns</p>\n</div>"
     },
     "execution_count": 110,
     "metadata": {},
     "output_type": "execute_result"
    }
   ],
   "source": [
    "energy_data"
   ],
   "metadata": {
    "collapsed": false,
    "ExecuteTime": {
     "end_time": "2024-01-21T14:17:40.820859600Z",
     "start_time": "2024-01-21T14:17:39.340375200Z"
    }
   }
  },
  {
   "cell_type": "code",
   "execution_count": 111,
   "outputs": [],
   "source": [
    "i=0\n",
    "j=0\n",
    "k=0\n",
    "\n",
    "x_test_country = pd.DataFrame(0, index=np.arange(880), columns=['renewable_energy(%)']) \n",
    "x_train_country = pd.DataFrame(0, index=np.arange(2816), columns=['renewable_energy(%)']) \n",
    "y_test_country = energy_data['co2_emissions']\n",
    "y_train_country = energy_data['co2_emissions']\n",
    "\n",
    "for country in energy_data['country'].unique():\n",
    "       #Train Dataset three years and skip by country, including last 3 years\n",
    "       x_train_country.iloc[i] = energy_data['renewable_energy(%)'].iloc[j]\n",
    "       x_train_country.iloc[i+1] = energy_data['renewable_energy(%)'].iloc[j+2]\n",
    "       x_train_country.iloc[i+2] = energy_data['renewable_energy(%)'].iloc[j+3]\n",
    "       x_train_country.iloc[i+3] = energy_data['renewable_energy(%)'].iloc[j+4]\n",
    "       x_train_country.iloc[i+4] = energy_data['renewable_energy(%)'].iloc[j+6]\n",
    "       x_train_country.iloc[i+5] = energy_data['renewable_energy(%)'].iloc[j+7]\n",
    "       x_train_country.iloc[i+6] = energy_data['renewable_energy(%)'].iloc[j+8]\n",
    "       x_train_country.iloc[i+7] = energy_data['renewable_energy(%)'].iloc[j+10]\n",
    "       x_train_country.iloc[i+8] = energy_data['renewable_energy(%)'].iloc[j+11]\n",
    "       x_train_country.iloc[i+9] = energy_data['renewable_energy(%)'].iloc[j+12]\n",
    "       x_train_country.iloc[i+10] = energy_data['renewable_energy(%)'].iloc[j+14]\n",
    "       x_train_country.iloc[i+11] = energy_data['renewable_energy(%)'].iloc[j+15]\n",
    "       x_train_country.iloc[i+12] = energy_data['renewable_energy(%)'].iloc[j+16]\n",
    "       x_train_country.iloc[i+13] = energy_data['renewable_energy(%)'].iloc[j+18]\n",
    "       x_train_country.iloc[i+14] = energy_data['renewable_energy(%)'].iloc[j+19]\n",
    "       x_train_country.iloc[i+15] = energy_data['renewable_energy(%)'].iloc[j+20]\n",
    "       #Test Dataset three years and skip by country, including last 3 years\n",
    "       x_test_country.iloc[k] = energy_data['renewable_energy(%)'].iloc[j+1]\n",
    "       x_test_country.iloc[k+1] = energy_data['renewable_energy(%)'].iloc[j+5]\n",
    "       x_test_country.iloc[k+2] = energy_data['renewable_energy(%)'].iloc[j+9]\n",
    "       x_test_country.iloc[k+3] = energy_data['renewable_energy(%)'].iloc[j+13]\n",
    "       x_test_country.iloc[k+4] = energy_data['renewable_energy(%)'].iloc[j+17]\n",
    "       i=i+16\n",
    "       j=j+21\n",
    "       k=k+5   "
   ],
   "metadata": {
    "collapsed": false,
    "ExecuteTime": {
     "end_time": "2024-01-21T14:17:40.867721400Z",
     "start_time": "2024-01-21T14:17:39.340889800Z"
    }
   }
  },
  {
   "cell_type": "code",
   "execution_count": 112,
   "outputs": [
    {
     "data": {
      "text/plain": "      renewable_energy(%)\n0                     0.0\n1                     0.0\n2                     0.0\n3                     0.0\n4                     0.0\n...                   ...\n2811                  0.0\n2812                  0.0\n2813                  0.0\n2814                  0.0\n2815                  0.0\n\n[2816 rows x 1 columns]",
      "text/html": "<div>\n<style scoped>\n    .dataframe tbody tr th:only-of-type {\n        vertical-align: middle;\n    }\n\n    .dataframe tbody tr th {\n        vertical-align: top;\n    }\n\n    .dataframe thead th {\n        text-align: right;\n    }\n</style>\n<table border=\"1\" class=\"dataframe\">\n  <thead>\n    <tr style=\"text-align: right;\">\n      <th></th>\n      <th>renewable_energy(%)</th>\n    </tr>\n  </thead>\n  <tbody>\n    <tr>\n      <th>0</th>\n      <td>0.0</td>\n    </tr>\n    <tr>\n      <th>1</th>\n      <td>0.0</td>\n    </tr>\n    <tr>\n      <th>2</th>\n      <td>0.0</td>\n    </tr>\n    <tr>\n      <th>3</th>\n      <td>0.0</td>\n    </tr>\n    <tr>\n      <th>4</th>\n      <td>0.0</td>\n    </tr>\n    <tr>\n      <th>...</th>\n      <td>...</td>\n    </tr>\n    <tr>\n      <th>2811</th>\n      <td>0.0</td>\n    </tr>\n    <tr>\n      <th>2812</th>\n      <td>0.0</td>\n    </tr>\n    <tr>\n      <th>2813</th>\n      <td>0.0</td>\n    </tr>\n    <tr>\n      <th>2814</th>\n      <td>0.0</td>\n    </tr>\n    <tr>\n      <th>2815</th>\n      <td>0.0</td>\n    </tr>\n  </tbody>\n</table>\n<p>2816 rows × 1 columns</p>\n</div>"
     },
     "execution_count": 112,
     "metadata": {},
     "output_type": "execute_result"
    }
   ],
   "source": [
    "x_train_country"
   ],
   "metadata": {
    "collapsed": false,
    "ExecuteTime": {
     "end_time": "2024-01-21T14:17:41.153632700Z",
     "start_time": "2024-01-21T14:17:39.612824100Z"
    }
   }
  },
  {
   "cell_type": "markdown",
   "source": [
    "## Normalization"
   ],
   "metadata": {
    "collapsed": false
   }
  },
  {
   "cell_type": "code",
   "execution_count": 113,
   "outputs": [],
   "source": [
    "scaler = StandardScaler()\n",
    "x_train_scaled = scaler.fit_transform(x_train)\n",
    "x_test_scaled = scaler.transform(x_test)"
   ],
   "metadata": {
    "collapsed": false,
    "ExecuteTime": {
     "end_time": "2024-01-21T14:17:41.153632700Z",
     "start_time": "2024-01-21T14:17:39.613329900Z"
    }
   }
  },
  {
   "cell_type": "markdown",
   "source": [
    "### Hyperparameter Optimization"
   ],
   "metadata": {
    "collapsed": false
   }
  },
  {
   "cell_type": "markdown",
   "source": [
    "#### Random Forest"
   ],
   "metadata": {
    "collapsed": false
   }
  },
  {
   "cell_type": "code",
   "execution_count": 114,
   "outputs": [],
   "source": [
    "#rf_param_grid = {'n_estimators': [100, 300, 500], 'max_depth': [None, 10, 20], 'min_samples_split': [2, 5, 10]}\n",
    "rf_param_grid = {'n_estimators': [100], 'max_depth': [None], 'min_samples_split': [2]}\n",
    "rf_model = RandomForestRegressor(random_state=2)\n",
    "rf_grid_search = GridSearchCV(estimator=rf_model, param_grid=rf_param_grid, scoring='neg_mean_squared_error', cv=5)\n",
    "rf_grid_search.fit(x_train_scaled, y_train)\n",
    "best_rf_params = rf_grid_search.best_params_"
   ],
   "metadata": {
    "collapsed": false,
    "ExecuteTime": {
     "end_time": "2024-01-21T14:17:56.750013100Z",
     "start_time": "2024-01-21T14:17:39.634438300Z"
    }
   }
  },
  {
   "cell_type": "markdown",
   "source": [
    "### Gradient Boosting\n"
   ],
   "metadata": {
    "collapsed": false
   }
  },
  {
   "cell_type": "code",
   "execution_count": 115,
   "outputs": [],
   "source": [
    "#gb_param_grid = {'n_estimators': [100, 300, 500], 'max_depth': [3, 5, 7], 'learning_rate': [0.01, 0.1, 0.2]}\n",
    "gb_param_grid = {'n_estimators': [100], 'max_depth': [3], 'learning_rate': [0.01]}\n",
    "gb_model = GradientBoostingRegressor(random_state=2)\n",
    "gb_grid_search = GridSearchCV(estimator=gb_model, param_grid=gb_param_grid, scoring='neg_mean_squared_error', cv=5)\n",
    "gb_grid_search.fit(x_train_scaled, y_train)\n",
    "best_gb_params = gb_grid_search.best_params_"
   ],
   "metadata": {
    "collapsed": false,
    "ExecuteTime": {
     "end_time": "2024-01-21T14:18:00.647689500Z",
     "start_time": "2024-01-21T14:17:56.750013100Z"
    }
   }
  },
  {
   "cell_type": "markdown",
   "source": [
    "\n",
    "### Initialization the models"
   ],
   "metadata": {
    "collapsed": false
   }
  },
  {
   "cell_type": "code",
   "execution_count": 116,
   "outputs": [],
   "source": [
    "random_forest_model = RandomForestRegressor(**best_rf_params, random_state=2)\n",
    "gradient_boosting_model = GradientBoostingRegressor(**best_gb_params, random_state=2)\n",
    "linear_regression_model = LinearRegression()"
   ],
   "metadata": {
    "collapsed": false,
    "ExecuteTime": {
     "end_time": "2024-01-21T14:18:00.655925Z",
     "start_time": "2024-01-21T14:18:00.647689500Z"
    }
   }
  },
  {
   "cell_type": "markdown",
   "source": [
    "### Training"
   ],
   "metadata": {
    "collapsed": false
   }
  },
  {
   "cell_type": "code",
   "execution_count": 117,
   "outputs": [
    {
     "data": {
      "text/plain": "LinearRegression()",
      "text/html": "<style>#sk-container-id-2 {color: black;}#sk-container-id-2 pre{padding: 0;}#sk-container-id-2 div.sk-toggleable {background-color: white;}#sk-container-id-2 label.sk-toggleable__label {cursor: pointer;display: block;width: 100%;margin-bottom: 0;padding: 0.3em;box-sizing: border-box;text-align: center;}#sk-container-id-2 label.sk-toggleable__label-arrow:before {content: \"▸\";float: left;margin-right: 0.25em;color: #696969;}#sk-container-id-2 label.sk-toggleable__label-arrow:hover:before {color: black;}#sk-container-id-2 div.sk-estimator:hover label.sk-toggleable__label-arrow:before {color: black;}#sk-container-id-2 div.sk-toggleable__content {max-height: 0;max-width: 0;overflow: hidden;text-align: left;background-color: #f0f8ff;}#sk-container-id-2 div.sk-toggleable__content pre {margin: 0.2em;color: black;border-radius: 0.25em;background-color: #f0f8ff;}#sk-container-id-2 input.sk-toggleable__control:checked~div.sk-toggleable__content {max-height: 200px;max-width: 100%;overflow: auto;}#sk-container-id-2 input.sk-toggleable__control:checked~label.sk-toggleable__label-arrow:before {content: \"▾\";}#sk-container-id-2 div.sk-estimator input.sk-toggleable__control:checked~label.sk-toggleable__label {background-color: #d4ebff;}#sk-container-id-2 div.sk-label input.sk-toggleable__control:checked~label.sk-toggleable__label {background-color: #d4ebff;}#sk-container-id-2 input.sk-hidden--visually {border: 0;clip: rect(1px 1px 1px 1px);clip: rect(1px, 1px, 1px, 1px);height: 1px;margin: -1px;overflow: hidden;padding: 0;position: absolute;width: 1px;}#sk-container-id-2 div.sk-estimator {font-family: monospace;background-color: #f0f8ff;border: 1px dotted black;border-radius: 0.25em;box-sizing: border-box;margin-bottom: 0.5em;}#sk-container-id-2 div.sk-estimator:hover {background-color: #d4ebff;}#sk-container-id-2 div.sk-parallel-item::after {content: \"\";width: 100%;border-bottom: 1px solid gray;flex-grow: 1;}#sk-container-id-2 div.sk-label:hover label.sk-toggleable__label {background-color: #d4ebff;}#sk-container-id-2 div.sk-serial::before {content: \"\";position: absolute;border-left: 1px solid gray;box-sizing: border-box;top: 0;bottom: 0;left: 50%;z-index: 0;}#sk-container-id-2 div.sk-serial {display: flex;flex-direction: column;align-items: center;background-color: white;padding-right: 0.2em;padding-left: 0.2em;position: relative;}#sk-container-id-2 div.sk-item {position: relative;z-index: 1;}#sk-container-id-2 div.sk-parallel {display: flex;align-items: stretch;justify-content: center;background-color: white;position: relative;}#sk-container-id-2 div.sk-item::before, #sk-container-id-2 div.sk-parallel-item::before {content: \"\";position: absolute;border-left: 1px solid gray;box-sizing: border-box;top: 0;bottom: 0;left: 50%;z-index: -1;}#sk-container-id-2 div.sk-parallel-item {display: flex;flex-direction: column;z-index: 1;position: relative;background-color: white;}#sk-container-id-2 div.sk-parallel-item:first-child::after {align-self: flex-end;width: 50%;}#sk-container-id-2 div.sk-parallel-item:last-child::after {align-self: flex-start;width: 50%;}#sk-container-id-2 div.sk-parallel-item:only-child::after {width: 0;}#sk-container-id-2 div.sk-dashed-wrapped {border: 1px dashed gray;margin: 0 0.4em 0.5em 0.4em;box-sizing: border-box;padding-bottom: 0.4em;background-color: white;}#sk-container-id-2 div.sk-label label {font-family: monospace;font-weight: bold;display: inline-block;line-height: 1.2em;}#sk-container-id-2 div.sk-label-container {text-align: center;}#sk-container-id-2 div.sk-container {/* jupyter's `normalize.less` sets `[hidden] { display: none; }` but bootstrap.min.css set `[hidden] { display: none !important; }` so we also need the `!important` here to be able to override the default hidden behavior on the sphinx rendered scikit-learn.org. See: https://github.com/scikit-learn/scikit-learn/issues/21755 */display: inline-block !important;position: relative;}#sk-container-id-2 div.sk-text-repr-fallback {display: none;}</style><div id=\"sk-container-id-2\" class=\"sk-top-container\"><div class=\"sk-text-repr-fallback\"><pre>LinearRegression()</pre><b>In a Jupyter environment, please rerun this cell to show the HTML representation or trust the notebook. <br />On GitHub, the HTML representation is unable to render, please try loading this page with nbviewer.org.</b></div><div class=\"sk-container\" hidden><div class=\"sk-item\"><div class=\"sk-estimator sk-toggleable\"><input class=\"sk-toggleable__control sk-hidden--visually\" id=\"sk-estimator-id-2\" type=\"checkbox\" checked><label for=\"sk-estimator-id-2\" class=\"sk-toggleable__label sk-toggleable__label-arrow\">LinearRegression</label><div class=\"sk-toggleable__content\"><pre>LinearRegression()</pre></div></div></div></div></div>"
     },
     "execution_count": 117,
     "metadata": {},
     "output_type": "execute_result"
    }
   ],
   "source": [
    "random_forest_model.fit(x_train_scaled, y_train)\n",
    "gradient_boosting_model.fit(x_train_scaled, y_train)\n",
    "linear_regression_model.fit(x_train_scaled, y_train)"
   ],
   "metadata": {
    "collapsed": false,
    "ExecuteTime": {
     "end_time": "2024-01-21T14:18:04.313196900Z",
     "start_time": "2024-01-21T14:18:00.655925Z"
    }
   }
  },
  {
   "cell_type": "markdown",
   "source": [
    "### Predictions"
   ],
   "metadata": {
    "collapsed": false
   }
  },
  {
   "cell_type": "markdown",
   "source": [],
   "metadata": {
    "collapsed": false
   }
  },
  {
   "cell_type": "code",
   "execution_count": 118,
   "outputs": [],
   "source": [
    "rforest_predictions = random_forest_model.predict(x_test_scaled)\n",
    "linreg_predictions = linear_regression_model.predict(x_test_scaled)\n",
    "gradboost_predictions = gradient_boosting_model.predict(x_test_scaled)"
   ],
   "metadata": {
    "collapsed": false,
    "ExecuteTime": {
     "end_time": "2024-01-21T14:18:04.387045Z",
     "start_time": "2024-01-21T14:18:04.313196900Z"
    }
   }
  },
  {
   "cell_type": "code",
   "execution_count": 119,
   "outputs": [
    {
     "data": {
      "text/plain": "array([16310.36472 , 47218.19973 , 64870.2578  , ..., 10891.559182,\n       11386.154988, 38078.47838 ])"
     },
     "execution_count": 119,
     "metadata": {},
     "output_type": "execute_result"
    }
   ],
   "source": [
    "rforest_predictions"
   ],
   "metadata": {
    "collapsed": false,
    "ExecuteTime": {
     "end_time": "2024-01-21T14:18:04.387045Z",
     "start_time": "2024-01-21T14:18:04.349826500Z"
    }
   }
  },
  {
   "cell_type": "code",
   "execution_count": 120,
   "outputs": [],
   "source": [
    "rf_mse = mean_squared_error(y_test, rforest_predictions)\n",
    "lr_mse = mean_squared_error(y_test, linreg_predictions)\n",
    "gb_mse = mean_squared_error(y_test, gradboost_predictions)"
   ],
   "metadata": {
    "collapsed": false,
    "ExecuteTime": {
     "end_time": "2024-01-21T14:18:04.387045Z",
     "start_time": "2024-01-21T14:18:04.356566200Z"
    }
   }
  },
  {
   "cell_type": "code",
   "execution_count": 121,
   "outputs": [],
   "source": [
    "rf_r2 = r2_score(y_test, rforest_predictions)\n",
    "lr_r2 = r2_score(y_test, linreg_predictions)\n",
    "gb_r2 = r2_score(y_test, gradboost_predictions)"
   ],
   "metadata": {
    "collapsed": false,
    "ExecuteTime": {
     "end_time": "2024-01-21T14:18:04.387045Z",
     "start_time": "2024-01-21T14:18:04.380034800Z"
    }
   }
  },
  {
   "cell_type": "code",
   "execution_count": 122,
   "outputs": [],
   "source": [
    "results = pd.DataFrame({\n",
    "    'Model': ['Random Forest', 'Linear Regression', 'Gradient Boosting'],\n",
    "    'MSE': [rf_mse, lr_mse, gb_mse],\n",
    "    'R-squared': [rf_r2, lr_r2, gb_r2]\n",
    "})"
   ],
   "metadata": {
    "collapsed": false,
    "ExecuteTime": {
     "end_time": "2024-01-21T14:18:04.511861500Z",
     "start_time": "2024-01-21T14:18:04.387045Z"
    }
   }
  },
  {
   "cell_type": "code",
   "execution_count": 123,
   "outputs": [
    {
     "data": {
      "text/plain": "               Model           MSE  R-squared\n0      Random Forest  4.829061e+07   0.956688\n1  Linear Regression  5.494747e+08   0.507170\n2  Gradient Boosting  3.676515e+08   0.670250",
      "text/html": "<div>\n<style scoped>\n    .dataframe tbody tr th:only-of-type {\n        vertical-align: middle;\n    }\n\n    .dataframe tbody tr th {\n        vertical-align: top;\n    }\n\n    .dataframe thead th {\n        text-align: right;\n    }\n</style>\n<table border=\"1\" class=\"dataframe\">\n  <thead>\n    <tr style=\"text-align: right;\">\n      <th></th>\n      <th>Model</th>\n      <th>MSE</th>\n      <th>R-squared</th>\n    </tr>\n  </thead>\n  <tbody>\n    <tr>\n      <th>0</th>\n      <td>Random Forest</td>\n      <td>4.829061e+07</td>\n      <td>0.956688</td>\n    </tr>\n    <tr>\n      <th>1</th>\n      <td>Linear Regression</td>\n      <td>5.494747e+08</td>\n      <td>0.507170</td>\n    </tr>\n    <tr>\n      <th>2</th>\n      <td>Gradient Boosting</td>\n      <td>3.676515e+08</td>\n      <td>0.670250</td>\n    </tr>\n  </tbody>\n</table>\n</div>"
     },
     "execution_count": 123,
     "metadata": {},
     "output_type": "execute_result"
    }
   ],
   "source": [
    "results"
   ],
   "metadata": {
    "collapsed": false,
    "ExecuteTime": {
     "end_time": "2024-01-21T14:18:04.511861500Z",
     "start_time": "2024-01-21T14:18:04.400412700Z"
    }
   }
  },
  {
   "cell_type": "code",
   "execution_count": 124,
   "outputs": [
    {
     "data": {
      "application/vnd.plotly.v1+json": {
       "data": [
        {
         "alignmentgroup": "True",
         "hovertemplate": "Importance=%{x}<br>Feature=%{y}<br>color=%{marker.color}<extra></extra>",
         "legendgroup": "",
         "marker": {
          "color": [
           0.5862299423918056,
           0.18647870989587623,
           0.13265068870099717,
           0.05341438205806506,
           0.02199803358516597
          ],
          "coloraxis": "coloraxis",
          "pattern": {
           "shape": ""
          }
         },
         "name": "",
         "offsetgroup": "",
         "orientation": "h",
         "showlegend": false,
         "textposition": "outside",
         "x": [
          0.5862299423918056,
          0.18647870989587623,
          0.13265068870099717,
          0.05341438205806506,
          0.02199803358516597
         ],
         "xaxis": "x",
         "y": [
          "gdp_per_capita",
          "electricity_fossil_fuels(twh)",
          "electricity_from_renewals",
          "country",
          "access_electricity(%)"
         ],
         "yaxis": "y",
         "type": "bar",
         "texttemplate": "%{text:.2f}"
        }
       ],
       "layout": {
        "template": {
         "data": {
          "histogram2dcontour": [
           {
            "type": "histogram2dcontour",
            "colorbar": {
             "outlinewidth": 0,
             "ticks": ""
            },
            "colorscale": [
             [
              0.0,
              "#0d0887"
             ],
             [
              0.1111111111111111,
              "#46039f"
             ],
             [
              0.2222222222222222,
              "#7201a8"
             ],
             [
              0.3333333333333333,
              "#9c179e"
             ],
             [
              0.4444444444444444,
              "#bd3786"
             ],
             [
              0.5555555555555556,
              "#d8576b"
             ],
             [
              0.6666666666666666,
              "#ed7953"
             ],
             [
              0.7777777777777778,
              "#fb9f3a"
             ],
             [
              0.8888888888888888,
              "#fdca26"
             ],
             [
              1.0,
              "#f0f921"
             ]
            ]
           }
          ],
          "choropleth": [
           {
            "type": "choropleth",
            "colorbar": {
             "outlinewidth": 0,
             "ticks": ""
            }
           }
          ],
          "histogram2d": [
           {
            "type": "histogram2d",
            "colorbar": {
             "outlinewidth": 0,
             "ticks": ""
            },
            "colorscale": [
             [
              0.0,
              "#0d0887"
             ],
             [
              0.1111111111111111,
              "#46039f"
             ],
             [
              0.2222222222222222,
              "#7201a8"
             ],
             [
              0.3333333333333333,
              "#9c179e"
             ],
             [
              0.4444444444444444,
              "#bd3786"
             ],
             [
              0.5555555555555556,
              "#d8576b"
             ],
             [
              0.6666666666666666,
              "#ed7953"
             ],
             [
              0.7777777777777778,
              "#fb9f3a"
             ],
             [
              0.8888888888888888,
              "#fdca26"
             ],
             [
              1.0,
              "#f0f921"
             ]
            ]
           }
          ],
          "heatmap": [
           {
            "type": "heatmap",
            "colorbar": {
             "outlinewidth": 0,
             "ticks": ""
            },
            "colorscale": [
             [
              0.0,
              "#0d0887"
             ],
             [
              0.1111111111111111,
              "#46039f"
             ],
             [
              0.2222222222222222,
              "#7201a8"
             ],
             [
              0.3333333333333333,
              "#9c179e"
             ],
             [
              0.4444444444444444,
              "#bd3786"
             ],
             [
              0.5555555555555556,
              "#d8576b"
             ],
             [
              0.6666666666666666,
              "#ed7953"
             ],
             [
              0.7777777777777778,
              "#fb9f3a"
             ],
             [
              0.8888888888888888,
              "#fdca26"
             ],
             [
              1.0,
              "#f0f921"
             ]
            ]
           }
          ],
          "heatmapgl": [
           {
            "type": "heatmapgl",
            "colorbar": {
             "outlinewidth": 0,
             "ticks": ""
            },
            "colorscale": [
             [
              0.0,
              "#0d0887"
             ],
             [
              0.1111111111111111,
              "#46039f"
             ],
             [
              0.2222222222222222,
              "#7201a8"
             ],
             [
              0.3333333333333333,
              "#9c179e"
             ],
             [
              0.4444444444444444,
              "#bd3786"
             ],
             [
              0.5555555555555556,
              "#d8576b"
             ],
             [
              0.6666666666666666,
              "#ed7953"
             ],
             [
              0.7777777777777778,
              "#fb9f3a"
             ],
             [
              0.8888888888888888,
              "#fdca26"
             ],
             [
              1.0,
              "#f0f921"
             ]
            ]
           }
          ],
          "contourcarpet": [
           {
            "type": "contourcarpet",
            "colorbar": {
             "outlinewidth": 0,
             "ticks": ""
            }
           }
          ],
          "contour": [
           {
            "type": "contour",
            "colorbar": {
             "outlinewidth": 0,
             "ticks": ""
            },
            "colorscale": [
             [
              0.0,
              "#0d0887"
             ],
             [
              0.1111111111111111,
              "#46039f"
             ],
             [
              0.2222222222222222,
              "#7201a8"
             ],
             [
              0.3333333333333333,
              "#9c179e"
             ],
             [
              0.4444444444444444,
              "#bd3786"
             ],
             [
              0.5555555555555556,
              "#d8576b"
             ],
             [
              0.6666666666666666,
              "#ed7953"
             ],
             [
              0.7777777777777778,
              "#fb9f3a"
             ],
             [
              0.8888888888888888,
              "#fdca26"
             ],
             [
              1.0,
              "#f0f921"
             ]
            ]
           }
          ],
          "surface": [
           {
            "type": "surface",
            "colorbar": {
             "outlinewidth": 0,
             "ticks": ""
            },
            "colorscale": [
             [
              0.0,
              "#0d0887"
             ],
             [
              0.1111111111111111,
              "#46039f"
             ],
             [
              0.2222222222222222,
              "#7201a8"
             ],
             [
              0.3333333333333333,
              "#9c179e"
             ],
             [
              0.4444444444444444,
              "#bd3786"
             ],
             [
              0.5555555555555556,
              "#d8576b"
             ],
             [
              0.6666666666666666,
              "#ed7953"
             ],
             [
              0.7777777777777778,
              "#fb9f3a"
             ],
             [
              0.8888888888888888,
              "#fdca26"
             ],
             [
              1.0,
              "#f0f921"
             ]
            ]
           }
          ],
          "mesh3d": [
           {
            "type": "mesh3d",
            "colorbar": {
             "outlinewidth": 0,
             "ticks": ""
            }
           }
          ],
          "scatter": [
           {
            "fillpattern": {
             "fillmode": "overlay",
             "size": 10,
             "solidity": 0.2
            },
            "type": "scatter"
           }
          ],
          "parcoords": [
           {
            "type": "parcoords",
            "line": {
             "colorbar": {
              "outlinewidth": 0,
              "ticks": ""
             }
            }
           }
          ],
          "scatterpolargl": [
           {
            "type": "scatterpolargl",
            "marker": {
             "colorbar": {
              "outlinewidth": 0,
              "ticks": ""
             }
            }
           }
          ],
          "bar": [
           {
            "error_x": {
             "color": "#2a3f5f"
            },
            "error_y": {
             "color": "#2a3f5f"
            },
            "marker": {
             "line": {
              "color": "#E5ECF6",
              "width": 0.5
             },
             "pattern": {
              "fillmode": "overlay",
              "size": 10,
              "solidity": 0.2
             }
            },
            "type": "bar"
           }
          ],
          "scattergeo": [
           {
            "type": "scattergeo",
            "marker": {
             "colorbar": {
              "outlinewidth": 0,
              "ticks": ""
             }
            }
           }
          ],
          "scatterpolar": [
           {
            "type": "scatterpolar",
            "marker": {
             "colorbar": {
              "outlinewidth": 0,
              "ticks": ""
             }
            }
           }
          ],
          "histogram": [
           {
            "marker": {
             "pattern": {
              "fillmode": "overlay",
              "size": 10,
              "solidity": 0.2
             }
            },
            "type": "histogram"
           }
          ],
          "scattergl": [
           {
            "type": "scattergl",
            "marker": {
             "colorbar": {
              "outlinewidth": 0,
              "ticks": ""
             }
            }
           }
          ],
          "scatter3d": [
           {
            "type": "scatter3d",
            "line": {
             "colorbar": {
              "outlinewidth": 0,
              "ticks": ""
             }
            },
            "marker": {
             "colorbar": {
              "outlinewidth": 0,
              "ticks": ""
             }
            }
           }
          ],
          "scattermapbox": [
           {
            "type": "scattermapbox",
            "marker": {
             "colorbar": {
              "outlinewidth": 0,
              "ticks": ""
             }
            }
           }
          ],
          "scatterternary": [
           {
            "type": "scatterternary",
            "marker": {
             "colorbar": {
              "outlinewidth": 0,
              "ticks": ""
             }
            }
           }
          ],
          "scattercarpet": [
           {
            "type": "scattercarpet",
            "marker": {
             "colorbar": {
              "outlinewidth": 0,
              "ticks": ""
             }
            }
           }
          ],
          "carpet": [
           {
            "aaxis": {
             "endlinecolor": "#2a3f5f",
             "gridcolor": "white",
             "linecolor": "white",
             "minorgridcolor": "white",
             "startlinecolor": "#2a3f5f"
            },
            "baxis": {
             "endlinecolor": "#2a3f5f",
             "gridcolor": "white",
             "linecolor": "white",
             "minorgridcolor": "white",
             "startlinecolor": "#2a3f5f"
            },
            "type": "carpet"
           }
          ],
          "table": [
           {
            "cells": {
             "fill": {
              "color": "#EBF0F8"
             },
             "line": {
              "color": "white"
             }
            },
            "header": {
             "fill": {
              "color": "#C8D4E3"
             },
             "line": {
              "color": "white"
             }
            },
            "type": "table"
           }
          ],
          "barpolar": [
           {
            "marker": {
             "line": {
              "color": "#E5ECF6",
              "width": 0.5
             },
             "pattern": {
              "fillmode": "overlay",
              "size": 10,
              "solidity": 0.2
             }
            },
            "type": "barpolar"
           }
          ],
          "pie": [
           {
            "automargin": true,
            "type": "pie"
           }
          ]
         },
         "layout": {
          "autotypenumbers": "strict",
          "colorway": [
           "#636efa",
           "#EF553B",
           "#00cc96",
           "#ab63fa",
           "#FFA15A",
           "#19d3f3",
           "#FF6692",
           "#B6E880",
           "#FF97FF",
           "#FECB52"
          ],
          "font": {
           "color": "#2a3f5f"
          },
          "hovermode": "closest",
          "hoverlabel": {
           "align": "left"
          },
          "paper_bgcolor": "white",
          "plot_bgcolor": "#E5ECF6",
          "polar": {
           "bgcolor": "#E5ECF6",
           "angularaxis": {
            "gridcolor": "white",
            "linecolor": "white",
            "ticks": ""
           },
           "radialaxis": {
            "gridcolor": "white",
            "linecolor": "white",
            "ticks": ""
           }
          },
          "ternary": {
           "bgcolor": "#E5ECF6",
           "aaxis": {
            "gridcolor": "white",
            "linecolor": "white",
            "ticks": ""
           },
           "baxis": {
            "gridcolor": "white",
            "linecolor": "white",
            "ticks": ""
           },
           "caxis": {
            "gridcolor": "white",
            "linecolor": "white",
            "ticks": ""
           }
          },
          "coloraxis": {
           "colorbar": {
            "outlinewidth": 0,
            "ticks": ""
           }
          },
          "colorscale": {
           "sequential": [
            [
             0.0,
             "#0d0887"
            ],
            [
             0.1111111111111111,
             "#46039f"
            ],
            [
             0.2222222222222222,
             "#7201a8"
            ],
            [
             0.3333333333333333,
             "#9c179e"
            ],
            [
             0.4444444444444444,
             "#bd3786"
            ],
            [
             0.5555555555555556,
             "#d8576b"
            ],
            [
             0.6666666666666666,
             "#ed7953"
            ],
            [
             0.7777777777777778,
             "#fb9f3a"
            ],
            [
             0.8888888888888888,
             "#fdca26"
            ],
            [
             1.0,
             "#f0f921"
            ]
           ],
           "sequentialminus": [
            [
             0.0,
             "#0d0887"
            ],
            [
             0.1111111111111111,
             "#46039f"
            ],
            [
             0.2222222222222222,
             "#7201a8"
            ],
            [
             0.3333333333333333,
             "#9c179e"
            ],
            [
             0.4444444444444444,
             "#bd3786"
            ],
            [
             0.5555555555555556,
             "#d8576b"
            ],
            [
             0.6666666666666666,
             "#ed7953"
            ],
            [
             0.7777777777777778,
             "#fb9f3a"
            ],
            [
             0.8888888888888888,
             "#fdca26"
            ],
            [
             1.0,
             "#f0f921"
            ]
           ],
           "diverging": [
            [
             0,
             "#8e0152"
            ],
            [
             0.1,
             "#c51b7d"
            ],
            [
             0.2,
             "#de77ae"
            ],
            [
             0.3,
             "#f1b6da"
            ],
            [
             0.4,
             "#fde0ef"
            ],
            [
             0.5,
             "#f7f7f7"
            ],
            [
             0.6,
             "#e6f5d0"
            ],
            [
             0.7,
             "#b8e186"
            ],
            [
             0.8,
             "#7fbc41"
            ],
            [
             0.9,
             "#4d9221"
            ],
            [
             1,
             "#276419"
            ]
           ]
          },
          "xaxis": {
           "gridcolor": "white",
           "linecolor": "white",
           "ticks": "",
           "title": {
            "standoff": 15
           },
           "zerolinecolor": "white",
           "automargin": true,
           "zerolinewidth": 2
          },
          "yaxis": {
           "gridcolor": "white",
           "linecolor": "white",
           "ticks": "",
           "title": {
            "standoff": 15
           },
           "zerolinecolor": "white",
           "automargin": true,
           "zerolinewidth": 2
          },
          "scene": {
           "xaxis": {
            "backgroundcolor": "#E5ECF6",
            "gridcolor": "white",
            "linecolor": "white",
            "showbackground": true,
            "ticks": "",
            "zerolinecolor": "white",
            "gridwidth": 2
           },
           "yaxis": {
            "backgroundcolor": "#E5ECF6",
            "gridcolor": "white",
            "linecolor": "white",
            "showbackground": true,
            "ticks": "",
            "zerolinecolor": "white",
            "gridwidth": 2
           },
           "zaxis": {
            "backgroundcolor": "#E5ECF6",
            "gridcolor": "white",
            "linecolor": "white",
            "showbackground": true,
            "ticks": "",
            "zerolinecolor": "white",
            "gridwidth": 2
           }
          },
          "shapedefaults": {
           "line": {
            "color": "#2a3f5f"
           }
          },
          "annotationdefaults": {
           "arrowcolor": "#2a3f5f",
           "arrowhead": 0,
           "arrowwidth": 1
          },
          "geo": {
           "bgcolor": "white",
           "landcolor": "#E5ECF6",
           "subunitcolor": "white",
           "showland": true,
           "showlakes": true,
           "lakecolor": "white"
          },
          "title": {
           "x": 0.05
          },
          "mapbox": {
           "style": "light"
          }
         }
        },
        "xaxis": {
         "anchor": "y",
         "domain": [
          0.0,
          1.0
         ],
         "title": {
          "text": "Importance"
         }
        },
        "yaxis": {
         "anchor": "x",
         "domain": [
          0.0,
          1.0
         ],
         "title": {
          "text": "Feature"
         }
        },
        "coloraxis": {
         "colorbar": {
          "title": {
           "text": "color"
          }
         },
         "colorscale": [
          [
           0.0,
           "rgb(255,245,240)"
          ],
          [
           0.125,
           "rgb(254,224,210)"
          ],
          [
           0.25,
           "rgb(252,187,161)"
          ],
          [
           0.375,
           "rgb(252,146,114)"
          ],
          [
           0.5,
           "rgb(251,106,74)"
          ],
          [
           0.625,
           "rgb(239,59,44)"
          ],
          [
           0.75,
           "rgb(203,24,29)"
          ],
          [
           0.875,
           "rgb(165,15,21)"
          ],
          [
           1.0,
           "rgb(103,0,13)"
          ]
         ]
        },
        "legend": {
         "tracegroupgap": 0
        },
        "title": {
         "text": "Top 5 Feature Importance"
        },
        "barmode": "relative"
       },
       "config": {
        "plotlyServerURL": "https://plot.ly"
       }
      },
      "text/html": "<div>                            <div id=\"7dc26342-78ed-43cf-be6a-8edf2b6828c3\" class=\"plotly-graph-div\" style=\"height:525px; width:100%;\"></div>            <script type=\"text/javascript\">                require([\"plotly\"], function(Plotly) {                    window.PLOTLYENV=window.PLOTLYENV || {};                                    if (document.getElementById(\"7dc26342-78ed-43cf-be6a-8edf2b6828c3\")) {                    Plotly.newPlot(                        \"7dc26342-78ed-43cf-be6a-8edf2b6828c3\",                        [{\"alignmentgroup\":\"True\",\"hovertemplate\":\"Importance=%{x}\\u003cbr\\u003eFeature=%{y}\\u003cbr\\u003ecolor=%{marker.color}\\u003cextra\\u003e\\u003c\\u002fextra\\u003e\",\"legendgroup\":\"\",\"marker\":{\"color\":[0.5862299423918056,0.18647870989587623,0.13265068870099717,0.05341438205806506,0.02199803358516597],\"coloraxis\":\"coloraxis\",\"pattern\":{\"shape\":\"\"}},\"name\":\"\",\"offsetgroup\":\"\",\"orientation\":\"h\",\"showlegend\":false,\"textposition\":\"outside\",\"x\":[0.5862299423918056,0.18647870989587623,0.13265068870099717,0.05341438205806506,0.02199803358516597],\"xaxis\":\"x\",\"y\":[\"gdp_per_capita\",\"electricity_fossil_fuels(twh)\",\"electricity_from_renewals\",\"country\",\"access_electricity(%)\"],\"yaxis\":\"y\",\"type\":\"bar\",\"texttemplate\":\"%{text:.2f}\"}],                        {\"template\":{\"data\":{\"histogram2dcontour\":[{\"type\":\"histogram2dcontour\",\"colorbar\":{\"outlinewidth\":0,\"ticks\":\"\"},\"colorscale\":[[0.0,\"#0d0887\"],[0.1111111111111111,\"#46039f\"],[0.2222222222222222,\"#7201a8\"],[0.3333333333333333,\"#9c179e\"],[0.4444444444444444,\"#bd3786\"],[0.5555555555555556,\"#d8576b\"],[0.6666666666666666,\"#ed7953\"],[0.7777777777777778,\"#fb9f3a\"],[0.8888888888888888,\"#fdca26\"],[1.0,\"#f0f921\"]]}],\"choropleth\":[{\"type\":\"choropleth\",\"colorbar\":{\"outlinewidth\":0,\"ticks\":\"\"}}],\"histogram2d\":[{\"type\":\"histogram2d\",\"colorbar\":{\"outlinewidth\":0,\"ticks\":\"\"},\"colorscale\":[[0.0,\"#0d0887\"],[0.1111111111111111,\"#46039f\"],[0.2222222222222222,\"#7201a8\"],[0.3333333333333333,\"#9c179e\"],[0.4444444444444444,\"#bd3786\"],[0.5555555555555556,\"#d8576b\"],[0.6666666666666666,\"#ed7953\"],[0.7777777777777778,\"#fb9f3a\"],[0.8888888888888888,\"#fdca26\"],[1.0,\"#f0f921\"]]}],\"heatmap\":[{\"type\":\"heatmap\",\"colorbar\":{\"outlinewidth\":0,\"ticks\":\"\"},\"colorscale\":[[0.0,\"#0d0887\"],[0.1111111111111111,\"#46039f\"],[0.2222222222222222,\"#7201a8\"],[0.3333333333333333,\"#9c179e\"],[0.4444444444444444,\"#bd3786\"],[0.5555555555555556,\"#d8576b\"],[0.6666666666666666,\"#ed7953\"],[0.7777777777777778,\"#fb9f3a\"],[0.8888888888888888,\"#fdca26\"],[1.0,\"#f0f921\"]]}],\"heatmapgl\":[{\"type\":\"heatmapgl\",\"colorbar\":{\"outlinewidth\":0,\"ticks\":\"\"},\"colorscale\":[[0.0,\"#0d0887\"],[0.1111111111111111,\"#46039f\"],[0.2222222222222222,\"#7201a8\"],[0.3333333333333333,\"#9c179e\"],[0.4444444444444444,\"#bd3786\"],[0.5555555555555556,\"#d8576b\"],[0.6666666666666666,\"#ed7953\"],[0.7777777777777778,\"#fb9f3a\"],[0.8888888888888888,\"#fdca26\"],[1.0,\"#f0f921\"]]}],\"contourcarpet\":[{\"type\":\"contourcarpet\",\"colorbar\":{\"outlinewidth\":0,\"ticks\":\"\"}}],\"contour\":[{\"type\":\"contour\",\"colorbar\":{\"outlinewidth\":0,\"ticks\":\"\"},\"colorscale\":[[0.0,\"#0d0887\"],[0.1111111111111111,\"#46039f\"],[0.2222222222222222,\"#7201a8\"],[0.3333333333333333,\"#9c179e\"],[0.4444444444444444,\"#bd3786\"],[0.5555555555555556,\"#d8576b\"],[0.6666666666666666,\"#ed7953\"],[0.7777777777777778,\"#fb9f3a\"],[0.8888888888888888,\"#fdca26\"],[1.0,\"#f0f921\"]]}],\"surface\":[{\"type\":\"surface\",\"colorbar\":{\"outlinewidth\":0,\"ticks\":\"\"},\"colorscale\":[[0.0,\"#0d0887\"],[0.1111111111111111,\"#46039f\"],[0.2222222222222222,\"#7201a8\"],[0.3333333333333333,\"#9c179e\"],[0.4444444444444444,\"#bd3786\"],[0.5555555555555556,\"#d8576b\"],[0.6666666666666666,\"#ed7953\"],[0.7777777777777778,\"#fb9f3a\"],[0.8888888888888888,\"#fdca26\"],[1.0,\"#f0f921\"]]}],\"mesh3d\":[{\"type\":\"mesh3d\",\"colorbar\":{\"outlinewidth\":0,\"ticks\":\"\"}}],\"scatter\":[{\"fillpattern\":{\"fillmode\":\"overlay\",\"size\":10,\"solidity\":0.2},\"type\":\"scatter\"}],\"parcoords\":[{\"type\":\"parcoords\",\"line\":{\"colorbar\":{\"outlinewidth\":0,\"ticks\":\"\"}}}],\"scatterpolargl\":[{\"type\":\"scatterpolargl\",\"marker\":{\"colorbar\":{\"outlinewidth\":0,\"ticks\":\"\"}}}],\"bar\":[{\"error_x\":{\"color\":\"#2a3f5f\"},\"error_y\":{\"color\":\"#2a3f5f\"},\"marker\":{\"line\":{\"color\":\"#E5ECF6\",\"width\":0.5},\"pattern\":{\"fillmode\":\"overlay\",\"size\":10,\"solidity\":0.2}},\"type\":\"bar\"}],\"scattergeo\":[{\"type\":\"scattergeo\",\"marker\":{\"colorbar\":{\"outlinewidth\":0,\"ticks\":\"\"}}}],\"scatterpolar\":[{\"type\":\"scatterpolar\",\"marker\":{\"colorbar\":{\"outlinewidth\":0,\"ticks\":\"\"}}}],\"histogram\":[{\"marker\":{\"pattern\":{\"fillmode\":\"overlay\",\"size\":10,\"solidity\":0.2}},\"type\":\"histogram\"}],\"scattergl\":[{\"type\":\"scattergl\",\"marker\":{\"colorbar\":{\"outlinewidth\":0,\"ticks\":\"\"}}}],\"scatter3d\":[{\"type\":\"scatter3d\",\"line\":{\"colorbar\":{\"outlinewidth\":0,\"ticks\":\"\"}},\"marker\":{\"colorbar\":{\"outlinewidth\":0,\"ticks\":\"\"}}}],\"scattermapbox\":[{\"type\":\"scattermapbox\",\"marker\":{\"colorbar\":{\"outlinewidth\":0,\"ticks\":\"\"}}}],\"scatterternary\":[{\"type\":\"scatterternary\",\"marker\":{\"colorbar\":{\"outlinewidth\":0,\"ticks\":\"\"}}}],\"scattercarpet\":[{\"type\":\"scattercarpet\",\"marker\":{\"colorbar\":{\"outlinewidth\":0,\"ticks\":\"\"}}}],\"carpet\":[{\"aaxis\":{\"endlinecolor\":\"#2a3f5f\",\"gridcolor\":\"white\",\"linecolor\":\"white\",\"minorgridcolor\":\"white\",\"startlinecolor\":\"#2a3f5f\"},\"baxis\":{\"endlinecolor\":\"#2a3f5f\",\"gridcolor\":\"white\",\"linecolor\":\"white\",\"minorgridcolor\":\"white\",\"startlinecolor\":\"#2a3f5f\"},\"type\":\"carpet\"}],\"table\":[{\"cells\":{\"fill\":{\"color\":\"#EBF0F8\"},\"line\":{\"color\":\"white\"}},\"header\":{\"fill\":{\"color\":\"#C8D4E3\"},\"line\":{\"color\":\"white\"}},\"type\":\"table\"}],\"barpolar\":[{\"marker\":{\"line\":{\"color\":\"#E5ECF6\",\"width\":0.5},\"pattern\":{\"fillmode\":\"overlay\",\"size\":10,\"solidity\":0.2}},\"type\":\"barpolar\"}],\"pie\":[{\"automargin\":true,\"type\":\"pie\"}]},\"layout\":{\"autotypenumbers\":\"strict\",\"colorway\":[\"#636efa\",\"#EF553B\",\"#00cc96\",\"#ab63fa\",\"#FFA15A\",\"#19d3f3\",\"#FF6692\",\"#B6E880\",\"#FF97FF\",\"#FECB52\"],\"font\":{\"color\":\"#2a3f5f\"},\"hovermode\":\"closest\",\"hoverlabel\":{\"align\":\"left\"},\"paper_bgcolor\":\"white\",\"plot_bgcolor\":\"#E5ECF6\",\"polar\":{\"bgcolor\":\"#E5ECF6\",\"angularaxis\":{\"gridcolor\":\"white\",\"linecolor\":\"white\",\"ticks\":\"\"},\"radialaxis\":{\"gridcolor\":\"white\",\"linecolor\":\"white\",\"ticks\":\"\"}},\"ternary\":{\"bgcolor\":\"#E5ECF6\",\"aaxis\":{\"gridcolor\":\"white\",\"linecolor\":\"white\",\"ticks\":\"\"},\"baxis\":{\"gridcolor\":\"white\",\"linecolor\":\"white\",\"ticks\":\"\"},\"caxis\":{\"gridcolor\":\"white\",\"linecolor\":\"white\",\"ticks\":\"\"}},\"coloraxis\":{\"colorbar\":{\"outlinewidth\":0,\"ticks\":\"\"}},\"colorscale\":{\"sequential\":[[0.0,\"#0d0887\"],[0.1111111111111111,\"#46039f\"],[0.2222222222222222,\"#7201a8\"],[0.3333333333333333,\"#9c179e\"],[0.4444444444444444,\"#bd3786\"],[0.5555555555555556,\"#d8576b\"],[0.6666666666666666,\"#ed7953\"],[0.7777777777777778,\"#fb9f3a\"],[0.8888888888888888,\"#fdca26\"],[1.0,\"#f0f921\"]],\"sequentialminus\":[[0.0,\"#0d0887\"],[0.1111111111111111,\"#46039f\"],[0.2222222222222222,\"#7201a8\"],[0.3333333333333333,\"#9c179e\"],[0.4444444444444444,\"#bd3786\"],[0.5555555555555556,\"#d8576b\"],[0.6666666666666666,\"#ed7953\"],[0.7777777777777778,\"#fb9f3a\"],[0.8888888888888888,\"#fdca26\"],[1.0,\"#f0f921\"]],\"diverging\":[[0,\"#8e0152\"],[0.1,\"#c51b7d\"],[0.2,\"#de77ae\"],[0.3,\"#f1b6da\"],[0.4,\"#fde0ef\"],[0.5,\"#f7f7f7\"],[0.6,\"#e6f5d0\"],[0.7,\"#b8e186\"],[0.8,\"#7fbc41\"],[0.9,\"#4d9221\"],[1,\"#276419\"]]},\"xaxis\":{\"gridcolor\":\"white\",\"linecolor\":\"white\",\"ticks\":\"\",\"title\":{\"standoff\":15},\"zerolinecolor\":\"white\",\"automargin\":true,\"zerolinewidth\":2},\"yaxis\":{\"gridcolor\":\"white\",\"linecolor\":\"white\",\"ticks\":\"\",\"title\":{\"standoff\":15},\"zerolinecolor\":\"white\",\"automargin\":true,\"zerolinewidth\":2},\"scene\":{\"xaxis\":{\"backgroundcolor\":\"#E5ECF6\",\"gridcolor\":\"white\",\"linecolor\":\"white\",\"showbackground\":true,\"ticks\":\"\",\"zerolinecolor\":\"white\",\"gridwidth\":2},\"yaxis\":{\"backgroundcolor\":\"#E5ECF6\",\"gridcolor\":\"white\",\"linecolor\":\"white\",\"showbackground\":true,\"ticks\":\"\",\"zerolinecolor\":\"white\",\"gridwidth\":2},\"zaxis\":{\"backgroundcolor\":\"#E5ECF6\",\"gridcolor\":\"white\",\"linecolor\":\"white\",\"showbackground\":true,\"ticks\":\"\",\"zerolinecolor\":\"white\",\"gridwidth\":2}},\"shapedefaults\":{\"line\":{\"color\":\"#2a3f5f\"}},\"annotationdefaults\":{\"arrowcolor\":\"#2a3f5f\",\"arrowhead\":0,\"arrowwidth\":1},\"geo\":{\"bgcolor\":\"white\",\"landcolor\":\"#E5ECF6\",\"subunitcolor\":\"white\",\"showland\":true,\"showlakes\":true,\"lakecolor\":\"white\"},\"title\":{\"x\":0.05},\"mapbox\":{\"style\":\"light\"}}},\"xaxis\":{\"anchor\":\"y\",\"domain\":[0.0,1.0],\"title\":{\"text\":\"Importance\"}},\"yaxis\":{\"anchor\":\"x\",\"domain\":[0.0,1.0],\"title\":{\"text\":\"Feature\"}},\"coloraxis\":{\"colorbar\":{\"title\":{\"text\":\"color\"}},\"colorscale\":[[0.0,\"rgb(255,245,240)\"],[0.125,\"rgb(254,224,210)\"],[0.25,\"rgb(252,187,161)\"],[0.375,\"rgb(252,146,114)\"],[0.5,\"rgb(251,106,74)\"],[0.625,\"rgb(239,59,44)\"],[0.75,\"rgb(203,24,29)\"],[0.875,\"rgb(165,15,21)\"],[1.0,\"rgb(103,0,13)\"]]},\"legend\":{\"tracegroupgap\":0},\"title\":{\"text\":\"Top 5 Feature Importance\"},\"barmode\":\"relative\"},                        {\"responsive\": true}                    ).then(function(){\n                            \nvar gd = document.getElementById('7dc26342-78ed-43cf-be6a-8edf2b6828c3');\nvar x = new MutationObserver(function (mutations, observer) {{\n        var display = window.getComputedStyle(gd).display;\n        if (!display || display === 'none') {{\n            console.log([gd, 'removed!']);\n            Plotly.purge(gd);\n            observer.disconnect();\n        }}\n}});\n\n// Listen for the removal of the full notebook cells\nvar notebookContainer = gd.closest('#notebook-container');\nif (notebookContainer) {{\n    x.observe(notebookContainer, {childList: true});\n}}\n\n// Listen for the clearing of the current output cell\nvar outputEl = gd.closest('.output');\nif (outputEl) {{\n    x.observe(outputEl, {childList: true});\n}}\n\n                        })                };                });            </script>        </div>"
     },
     "metadata": {},
     "output_type": "display_data"
    }
   ],
   "source": [
    "from sklearn.feature_selection import SelectKBest, f_regression\n",
    "importances = random_forest_model.feature_importances_\n",
    "feature_names = x_train.columns\n",
    "feature_importance_dict = dict(zip(feature_names, importances))\n",
    "sorted_feature_importance = sorted(feature_importance_dict.items(), key=lambda x: x[1], reverse=True)\n",
    "\n",
    "top_n = 5  # Set the number of top features to display\n",
    "top_feature_names, top_importances = zip(*sorted_feature_importance[:top_n])\n",
    "\n",
    "fig = px.bar(\n",
    "    x=top_importances,\n",
    "    y=top_feature_names,\n",
    "    orientation='h',\n",
    "    title='Top 5 Feature Importance',\n",
    "    labels={'x': 'Importance', 'y': 'Feature'},\n",
    "    color=top_importances,  # Color bars by importance values\n",
    "    color_continuous_scale='reds',  # Choose a color scale\n",
    ")\n",
    "\n",
    "fig.update_traces(texttemplate='%{text:.2f}', textposition='outside')\n",
    "\n",
    "fig.show()"
   ],
   "metadata": {
    "collapsed": false,
    "ExecuteTime": {
     "end_time": "2024-01-21T14:18:04.575240700Z",
     "start_time": "2024-01-21T14:18:04.425052800Z"
    }
   }
  },
  {
   "cell_type": "code",
   "execution_count": 125,
   "outputs": [
    {
     "data": {
      "text/plain": "<Figure size 1000x600 with 1 Axes>",
      "image/png": "[encoded data removed]"
     },
     "metadata": {},
     "output_type": "display_data"
    }
   ],
   "source": [
    "y_pred= random_forest_model.predict(x_test)\n",
    "\n",
    "# Residuals\n",
    "residuals = y_test - y_pred\n",
    "\n",
    "# Plot\n",
    "plt.figure(figsize=(10, 6))\n",
    "sns.scatterplot(x=y_pred, y=residuals)\n",
    "plt.axhline(y=0, color='r', linestyle='--')\n",
    "plt.xlabel('Predicted Values')\n",
    "plt.ylabel('Residuals')\n",
    "plt.title('Residual Plot')\n",
    "plt.show()"
   ],
   "metadata": {
    "collapsed": false,
    "ExecuteTime": {
     "end_time": "2024-01-21T14:18:04.861351200Z",
     "start_time": "2024-01-21T14:18:04.496236700Z"
    }
   }
  },
  {
   "cell_type": "markdown",
   "source": [
    "#Forward_selection   "
   ],
   "metadata": {
    "collapsed": false
   }
  },
  {
   "cell_type": "code",
   "execution_count": 126,
   "outputs": [],
   "source": [
    "#X = features\n",
    "#y = target\n",
    "#df= energy_data\n",
    "\n",
    "#def forward_selection(df, target, significance_level=0.05):\n",
    "#    initial_features = df.columns.tolist()\n",
    "#    best_features = []\n",
    "#    while len(initial_features) > 0:\n",
    "#        remaining_features = list(set(initial_features) - set(best_features))\n",
    "#        new_pval = pd.Series(index=remaining_features)\n",
    "#        for new_column in remaining_features:\n",
    "#            model = sm.OLS(target, sm.add_constant(df[best_features + [new_column]])).fit()\n",
    "#            new_pval[new_column] = model.pvalues[new_column]\n",
    "#        min_p_value = new_pval.min()\n",
    "#        if min_p_value < significance_level:\n",
    "#            best_features.append(new_pval.idxmin())\n",
    "##        else:\n",
    "#            break\n",
    "#    return best_features\n",
    "\n",
    "# Assuming you have already defined X and y as the features and target variable respectively\n",
    "#selected_features = forward_selection(X, y)\n",
    "#print(\"Selected features:\", selected_features)"
   ],
   "metadata": {
    "collapsed": false,
    "ExecuteTime": {
     "end_time": "2024-01-21T14:18:04.861351200Z",
     "start_time": "2024-01-21T14:18:04.792512600Z"
    }
   }
  },
  {
   "cell_type": "code",
   "execution_count": 127,
   "outputs": [
    {
     "data": {
      "text/plain": "      country  year  access_electricity(%)  access_cleaning_flues_cooking  \\\n0       104.0  2000               0.000000                            0.0   \n1       104.0  2001               0.000000                            0.0   \n2       104.0  2002               0.000000                            0.0   \n3       104.0  2003               0.000000                            0.0   \n4       104.0  2004               0.000000                            0.0   \n...       ...   ...                    ...                            ...   \n3649    173.0  2016              42.561730                           29.8   \n3650    173.0  2017              44.178635                           29.8   \n3651    173.0  2018              45.572647                           29.9   \n3652    173.0  2019              46.781475                           30.1   \n3653    173.0  2020              52.747670                           30.4   \n\n      renewable_energy(%)  electricity_fossil_fuels(twh)  electricity_nuclear  \\\n0                    0.00                           0.00                  0.0   \n1                    0.00                           0.00                  0.0   \n2                    0.00                           0.00                  0.0   \n3                    0.00                           0.00                  0.0   \n4                    0.00                           0.00                  0.0   \n...                   ...                            ...                  ...   \n3649                81.90                           3.50                  0.0   \n3650                82.46                           3.05                  0.0   \n3651                80.23                           3.73                  0.0   \n3652                81.50                           3.66                  0.0   \n3653                81.90                           3.40                  0.0   \n\n      electricity_from_renewals  electricity_low_carbon(%)  \\\n0                          0.00                   0.000000   \n1                          0.00                   0.000000   \n2                          0.00                   0.000000   \n3                          0.00                   0.000000   \n4                          0.00                   0.000000   \n...                         ...                        ...   \n3649                       3.32                  48.680350   \n3650                       4.30                  58.503407   \n3651                       5.46                  59.412407   \n3652                       4.58                  55.582527   \n3653                       4.19                  55.204216   \n\n      primary_energy_consumption(kwh/person)  primary_energy_intensity  \\\n0                                     0.0000                      0.00   \n1                                     0.0000                      0.00   \n2                                     0.0000                      0.00   \n3                                     0.0000                      0.00   \n4                                     0.0000                      0.00   \n...                                      ...                       ...   \n3649                               3227.6802                     10.00   \n3650                               3068.0115                      9.51   \n3651                               3441.9858                      9.83   \n3652                               3003.6553                     10.47   \n3653                               2680.1318                     10.00   \n\n      co2_emissions  gdp_growth  gdp_per_capita  density  land_area  \\\n0           0.00000    0.000000        0.000000      0.0        0.0   \n1           0.00000    0.000000        0.000000      0.0        0.0   \n2           0.00000    0.000000        0.000000      0.0        0.0   \n3           0.00000    0.000000        0.000000      0.0        0.0   \n4           0.00000    0.000000        0.000000      0.0        0.0   \n...             ...         ...             ...      ...        ...   \n3649    11020.00046    0.755869     1464.588957     38.0   390757.0   \n3650    10340.00015    4.709492     1235.189032     38.0   390757.0   \n3651    12380.00011    4.824211     1254.642265     38.0   390757.0   \n3652    11760.00023   -6.144236     1316.740657     38.0   390757.0   \n3653            NaN   -6.248748     1214.509820     38.0   390757.0   \n\n       latitude  longitude  \n0      0.000000   0.000000  \n1      0.000000   0.000000  \n2      0.000000   0.000000  \n3      0.000000   0.000000  \n4      0.000000   0.000000  \n...         ...        ...  \n3649 -19.015438  29.154857  \n3650 -19.015438  29.154857  \n3651 -19.015438  29.154857  \n3652 -19.015438  29.154857  \n3653 -19.015438  29.154857  \n\n[3654 rows x 18 columns]",
      "text/html": "<div>\n<style scoped>\n    .dataframe tbody tr th:only-of-type {\n        vertical-align: middle;\n    }\n\n    .dataframe tbody tr th {\n        vertical-align: top;\n    }\n\n    .dataframe thead th {\n        text-align: right;\n    }\n</style>\n<table border=\"1\" class=\"dataframe\">\n  <thead>\n    <tr style=\"text-align: right;\">\n      <th></th>\n      <th>country</th>\n      <th>year</th>\n      <th>access_electricity(%)</th>\n      <th>access_cleaning_flues_cooking</th>\n      <th>renewable_energy(%)</th>\n      <th>electricity_fossil_fuels(twh)</th>\n      <th>electricity_nuclear</th>\n      <th>electricity_from_renewals</th>\n      <th>electricity_low_carbon(%)</th>\n      <th>primary_energy_consumption(kwh/person)</th>\n      <th>primary_energy_intensity</th>\n      <th>co2_emissions</th>\n      <th>gdp_growth</th>\n      <th>gdp_per_capita</th>\n      <th>density</th>\n      <th>land_area</th>\n      <th>latitude</th>\n      <th>longitude</th>\n    </tr>\n  </thead>\n  <tbody>\n    <tr>\n      <th>0</th>\n      <td>104.0</td>\n      <td>2000</td>\n      <td>0.000000</td>\n      <td>0.0</td>\n      <td>0.00</td>\n      <td>0.00</td>\n      <td>0.0</td>\n      <td>0.00</td>\n      <td>0.000000</td>\n      <td>0.0000</td>\n      <td>0.00</td>\n      <td>0.00000</td>\n      <td>0.000000</td>\n      <td>0.000000</td>\n      <td>0.0</td>\n      <td>0.0</td>\n      <td>0.000000</td>\n      <td>0.000000</td>\n    </tr>\n    <tr>\n      <th>1</th>\n      <td>104.0</td>\n      <td>2001</td>\n      <td>0.000000</td>\n      <td>0.0</td>\n      <td>0.00</td>\n      <td>0.00</td>\n      <td>0.0</td>\n      <td>0.00</td>\n      <td>0.000000</td>\n      <td>0.0000</td>\n      <td>0.00</td>\n      <td>0.00000</td>\n      <td>0.000000</td>\n      <td>0.000000</td>\n      <td>0.0</td>\n      <td>0.0</td>\n      <td>0.000000</td>\n      <td>0.000000</td>\n    </tr>\n    <tr>\n      <th>2</th>\n      <td>104.0</td>\n      <td>2002</td>\n      <td>0.000000</td>\n      <td>0.0</td>\n      <td>0.00</td>\n      <td>0.00</td>\n      <td>0.0</td>\n      <td>0.00</td>\n      <td>0.000000</td>\n      <td>0.0000</td>\n      <td>0.00</td>\n      <td>0.00000</td>\n      <td>0.000000</td>\n      <td>0.000000</td>\n      <td>0.0</td>\n      <td>0.0</td>\n      <td>0.000000</td>\n      <td>0.000000</td>\n    </tr>\n    <tr>\n      <th>3</th>\n      <td>104.0</td>\n      <td>2003</td>\n      <td>0.000000</td>\n      <td>0.0</td>\n      <td>0.00</td>\n      <td>0.00</td>\n      <td>0.0</td>\n      <td>0.00</td>\n      <td>0.000000</td>\n      <td>0.0000</td>\n      <td>0.00</td>\n      <td>0.00000</td>\n      <td>0.000000</td>\n      <td>0.000000</td>\n      <td>0.0</td>\n      <td>0.0</td>\n      <td>0.000000</td>\n      <td>0.000000</td>\n    </tr>\n    <tr>\n      <th>4</th>\n      <td>104.0</td>\n      <td>2004</td>\n      <td>0.000000</td>\n      <td>0.0</td>\n      <td>0.00</td>\n      <td>0.00</td>\n      <td>0.0</td>\n      <td>0.00</td>\n      <td>0.000000</td>\n      <td>0.0000</td>\n      <td>0.00</td>\n      <td>0.00000</td>\n      <td>0.000000</td>\n      <td>0.000000</td>\n      <td>0.0</td>\n      <td>0.0</td>\n      <td>0.000000</td>\n      <td>0.000000</td>\n    </tr>\n    <tr>\n      <th>...</th>\n      <td>...</td>\n      <td>...</td>\n      <td>...</td>\n      <td>...</td>\n      <td>...</td>\n      <td>...</td>\n      <td>...</td>\n      <td>...</td>\n      <td>...</td>\n      <td>...</td>\n      <td>...</td>\n      <td>...</td>\n      <td>...</td>\n      <td>...</td>\n      <td>...</td>\n      <td>...</td>\n      <td>...</td>\n      <td>...</td>\n    </tr>\n    <tr>\n      <th>3649</th>\n      <td>173.0</td>\n      <td>2016</td>\n      <td>42.561730</td>\n      <td>29.8</td>\n      <td>81.90</td>\n      <td>3.50</td>\n      <td>0.0</td>\n      <td>3.32</td>\n      <td>48.680350</td>\n      <td>3227.6802</td>\n      <td>10.00</td>\n      <td>11020.00046</td>\n      <td>0.755869</td>\n      <td>1464.588957</td>\n      <td>38.0</td>\n      <td>390757.0</td>\n      <td>-19.015438</td>\n      <td>29.154857</td>\n    </tr>\n    <tr>\n      <th>3650</th>\n      <td>173.0</td>\n      <td>2017</td>\n      <td>44.178635</td>\n      <td>29.8</td>\n      <td>82.46</td>\n      <td>3.05</td>\n      <td>0.0</td>\n      <td>4.30</td>\n      <td>58.503407</td>\n      <td>3068.0115</td>\n      <td>9.51</td>\n      <td>10340.00015</td>\n      <td>4.709492</td>\n      <td>1235.189032</td>\n      <td>38.0</td>\n      <td>390757.0</td>\n      <td>-19.015438</td>\n      <td>29.154857</td>\n    </tr>\n    <tr>\n      <th>3651</th>\n      <td>173.0</td>\n      <td>2018</td>\n      <td>45.572647</td>\n      <td>29.9</td>\n      <td>80.23</td>\n      <td>3.73</td>\n      <td>0.0</td>\n      <td>5.46</td>\n      <td>59.412407</td>\n      <td>3441.9858</td>\n      <td>9.83</td>\n      <td>12380.00011</td>\n      <td>4.824211</td>\n      <td>1254.642265</td>\n      <td>38.0</td>\n      <td>390757.0</td>\n      <td>-19.015438</td>\n      <td>29.154857</td>\n    </tr>\n    <tr>\n      <th>3652</th>\n      <td>173.0</td>\n      <td>2019</td>\n      <td>46.781475</td>\n      <td>30.1</td>\n      <td>81.50</td>\n      <td>3.66</td>\n      <td>0.0</td>\n      <td>4.58</td>\n      <td>55.582527</td>\n      <td>3003.6553</td>\n      <td>10.47</td>\n      <td>11760.00023</td>\n      <td>-6.144236</td>\n      <td>1316.740657</td>\n      <td>38.0</td>\n      <td>390757.0</td>\n      <td>-19.015438</td>\n      <td>29.154857</td>\n    </tr>\n    <tr>\n      <th>3653</th>\n      <td>173.0</td>\n      <td>2020</td>\n      <td>52.747670</td>\n      <td>30.4</td>\n      <td>81.90</td>\n      <td>3.40</td>\n      <td>0.0</td>\n      <td>4.19</td>\n      <td>55.204216</td>\n      <td>2680.1318</td>\n      <td>10.00</td>\n      <td>NaN</td>\n      <td>-6.248748</td>\n      <td>1214.509820</td>\n      <td>38.0</td>\n      <td>390757.0</td>\n      <td>-19.015438</td>\n      <td>29.154857</td>\n    </tr>\n  </tbody>\n</table>\n<p>3654 rows × 18 columns</p>\n</div>"
     },
     "execution_count": 127,
     "metadata": {},
     "output_type": "execute_result"
    }
   ],
   "source": [
    "energy_data"
   ],
   "metadata": {
    "collapsed": false,
    "ExecuteTime": {
     "end_time": "2024-01-21T14:18:04.861351200Z",
     "start_time": "2024-01-21T14:18:04.792512600Z"
    }
   }
  },
  {
   "cell_type": "markdown",
   "source": [
    "### 11. Conclusion / Answer Question"
   ],
   "metadata": {
    "collapsed": false
   }
  },
  {
   "cell_type": "code",
   "execution_count": 131,
   "outputs": [
    {
     "data": {
      "text/plain": "<Figure size 1200x600 with 1 Axes>",
      "image/png": "[encoded data removed]"
     },
     "metadata": {},
     "output_type": "display_data"
    }
   ],
   "source": [
    "import matplotlib.pyplot as plt\n",
    "# Predict CO2 emission and energy consumption for the years 2021 to 2025\n",
    "x_unseen_china['year'] = pd.to_numeric(x_unseen_china['year'])\n",
    "x_unseen_china['year'] = x_unseen_china['year'][(x_unseen_china['year'] < 2021) & (x_unseen_china['year'] >=2016)]\n",
    "                             \n",
    "predicted_co2 = random_forest_model.predict(x_train_scaled_unseen)\n",
    "plt.figure(figsize=(12, 6))\n",
    "\n",
    "plt.subplot(1, 2, 1)\n",
    "plt.plot(x_unseen_china_future_years['year'], y_energy, label='Actual', marker='o')\n",
    "plt.plot(x_unseen_china_future_years['year'], predicted_co2, label='Predicted', marker='o', linestyle='--')\n",
    "plt.title('CO2 Emission Prediction for India')\n",
    "plt.xlabel('year')\n",
    "plt.ylabel('CO2 Emission')\n",
    "plt.legend()\n",
    "\n",
    "plt.tight_layout()\n",
    "plt.show()"
   ],
   "metadata": {
    "collapsed": false,
    "ExecuteTime": {
     "end_time": "2024-01-21T14:19:50.424111400Z",
     "start_time": "2024-01-21T14:19:49.890104Z"
    }
   }
  },
  {
   "cell_type": "code",
   "execution_count": null,
   "outputs": [],
   "source": [
    "predicted_co2 = random_forest_model.predict(x_train_scaled_unseen)\n",
    "predicted_co2"
   ],
   "metadata": {
    "collapsed": false,
    "ExecuteTime": {
     "start_time": "2024-01-21T14:18:04.922244300Z"
    }
   }
  },
  {
   "cell_type": "code",
   "execution_count": null,
   "outputs": [],
   "source": [
    "y_energy"
   ],
   "metadata": {
    "collapsed": false,
    "ExecuteTime": {
     "start_time": "2024-01-21T14:18:04.922244300Z"
    }
   }
  },
  {
   "cell_type": "code",
   "execution_count": null,
   "outputs": [],
   "source": [
    "x_unseen_china['year']"
   ],
   "metadata": {
    "collapsed": false,
    "ExecuteTime": {
     "start_time": "2024-01-21T14:18:04.922244300Z"
    }
   }
  },
  {
   "cell_type": "code",
   "execution_count": null,
   "outputs": [],
   "source": [
    "x_unseen_china_future_years['year']"
   ],
   "metadata": {
    "collapsed": false,
    "ExecuteTime": {
     "start_time": "2024-01-21T14:18:04.922244300Z"
    }
   }
  },
  {
   "cell_type": "code",
   "execution_count": null,
   "outputs": [],
   "source": [
    "original_df"
   ],
   "metadata": {
    "collapsed": false,
    "ExecuteTime": {
     "start_time": "2024-01-21T14:18:04.922244300Z"
    }
   }
  },
  {
   "cell_type": "code",
   "execution_count": null,
   "outputs": [],
   "source": [],
   "metadata": {
    "collapsed": false,
    "ExecuteTime": {
     "start_time": "2024-01-21T14:18:04.937873900Z"
    }
   }
  }
 ],
 "metadata": {
  "colab": {
   "include_colab_link": true,
   "provenance": []
  },
  "kernelspec": {
   "display_name": "Python 3 (ipykernel)",
   "language": "python",
   "name": "python3"
  },
  "language_info": {
   "codemirror_mode": {
    "name": "ipython",
    "version": 3
   },
   "file_extension": ".py",
   "mimetype": "text/x-python",
   "name": "python",
   "nbconvert_exporter": "python",
   "pygments_lexer": "ipython3",
   "version": "3.11.2"
  }
 },
 "nbformat": 4,
 "nbformat_minor": 4
}
